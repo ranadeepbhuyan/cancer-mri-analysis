{
  "cells": [
    {
      "cell_type": "markdown",
      "metadata": {
        "id": "view-in-github",
        "colab_type": "text"
      },
      "source": [
        "<a href=\"https://colab.research.google.com/github/ranadeepbhuyan/cancer-mri-analysis/blob/main/Volume_of_tumor.ipynb\" target=\"_parent\"><img src=\"https://colab.research.google.com/assets/colab-badge.svg\" alt=\"Open In Colab\"/></a>"
      ]
    },
    {
      "cell_type": "code",
      "execution_count": null,
      "id": "49ef9c3a",
      "metadata": {
        "id": "49ef9c3a",
        "outputId": "09336ecd-12dc-47c6-acc1-85b48e052f95",
        "colab": {
          "base_uri": "https://localhost:8080/"
        }
      },
      "outputs": [
        {
          "output_type": "stream",
          "name": "stdout",
          "text": [
            "Requirement already satisfied: opencv-python in /usr/local/lib/python3.10/dist-packages (4.8.0.76)\n",
            "Requirement already satisfied: numpy>=1.21.2 in /usr/local/lib/python3.10/dist-packages (from opencv-python) (1.23.5)\n"
          ]
        }
      ],
      "source": [
        "cha!pip install opencv-python"
      ]
    },
    {
      "cell_type": "code",
      "source": [
        "!pip install mayavi"
      ],
      "metadata": {
        "colab": {
          "base_uri": "https://localhost:8080/"
        },
        "id": "-l0yvSFsJwL8",
        "outputId": "5c726d3e-4b37-4a3f-f81c-e4e9cec2cfcb"
      },
      "id": "-l0yvSFsJwL8",
      "execution_count": null,
      "outputs": [
        {
          "output_type": "stream",
          "name": "stdout",
          "text": [
            "Collecting mayavi\n",
            "  Downloading mayavi-4.8.1.tar.gz (20.6 MB)\n",
            "\u001b[2K     \u001b[90m━━━━━━━━━━━━━━━━━━━━━━━━━━━━━━━━━━━━━━━━\u001b[0m \u001b[32m20.6/20.6 MB\u001b[0m \u001b[31m42.0 MB/s\u001b[0m eta \u001b[36m0:00:00\u001b[0m\n",
            "\u001b[?25h  Installing build dependencies ... \u001b[?25l\u001b[?25hdone\n",
            "  Getting requirements to build wheel ... \u001b[?25l\u001b[?25hdone\n",
            "  Preparing metadata (pyproject.toml) ... \u001b[?25l\u001b[?25hdone\n",
            "Collecting apptools (from mayavi)\n",
            "  Downloading apptools-5.2.1-py3-none-any.whl (229 kB)\n",
            "\u001b[2K     \u001b[90m━━━━━━━━━━━━━━━━━━━━━━━━━━━━━━━━━━━━━━\u001b[0m \u001b[32m229.3/229.3 kB\u001b[0m \u001b[31m19.8 MB/s\u001b[0m eta \u001b[36m0:00:00\u001b[0m\n",
            "\u001b[?25hCollecting envisage (from mayavi)\n",
            "  Downloading envisage-7.0.3-py3-none-any.whl (268 kB)\n",
            "\u001b[2K     \u001b[90m━━━━━━━━━━━━━━━━━━━━━━━━━━━━━━━━━━━━━━\u001b[0m \u001b[32m268.9/268.9 kB\u001b[0m \u001b[31m22.8 MB/s\u001b[0m eta \u001b[36m0:00:00\u001b[0m\n",
            "\u001b[?25hRequirement already satisfied: numpy in /usr/local/lib/python3.10/dist-packages (from mayavi) (1.23.5)\n",
            "Collecting pyface>=6.1.1 (from mayavi)\n",
            "  Downloading pyface-8.0.0-py3-none-any.whl (1.3 MB)\n",
            "\u001b[2K     \u001b[90m━━━━━━━━━━━━━━━━━━━━━━━━━━━━━━━━━━━━━━━━\u001b[0m \u001b[32m1.3/1.3 MB\u001b[0m \u001b[31m69.3 MB/s\u001b[0m eta \u001b[36m0:00:00\u001b[0m\n",
            "\u001b[?25hRequirement already satisfied: pygments in /usr/local/lib/python3.10/dist-packages (from mayavi) (2.16.1)\n",
            "Collecting traits>=6.0.0 (from mayavi)\n",
            "  Downloading traits-6.4.2-cp310-cp310-manylinux_2_5_x86_64.manylinux1_x86_64.manylinux_2_17_x86_64.manylinux2014_x86_64.whl (5.1 MB)\n",
            "\u001b[2K     \u001b[90m━━━━━━━━━━━━━━━━━━━━━━━━━━━━━━━━━━━━━━━━\u001b[0m \u001b[32m5.1/5.1 MB\u001b[0m \u001b[31m22.7 MB/s\u001b[0m eta \u001b[36m0:00:00\u001b[0m\n",
            "\u001b[?25hCollecting traitsui>=7.0.0 (from mayavi)\n",
            "  Downloading traitsui-8.0.0-py3-none-any.whl (1.5 MB)\n",
            "\u001b[2K     \u001b[90m━━━━━━━━━━━━━━━━━━━━━━━━━━━━━━━━━━━━━━━━\u001b[0m \u001b[32m1.5/1.5 MB\u001b[0m \u001b[31m71.6 MB/s\u001b[0m eta \u001b[36m0:00:00\u001b[0m\n",
            "\u001b[?25hRequirement already satisfied: packaging in /usr/local/lib/python3.10/dist-packages (from mayavi) (23.1)\n",
            "Collecting vtk (from mayavi)\n",
            "  Using cached vtk-9.2.6-cp310-cp310-manylinux_2_17_x86_64.manylinux2014_x86_64.whl (79.3 MB)\n",
            "Collecting configobj (from apptools->mayavi)\n",
            "  Downloading configobj-5.0.8-py2.py3-none-any.whl (36 kB)\n",
            "Requirement already satisfied: setuptools in /usr/local/lib/python3.10/dist-packages (from envisage->mayavi) (67.7.2)\n",
            "Requirement already satisfied: matplotlib>=2.0.0 in /usr/local/lib/python3.10/dist-packages (from vtk->mayavi) (3.7.1)\n",
            "Requirement already satisfied: contourpy>=1.0.1 in /usr/local/lib/python3.10/dist-packages (from matplotlib>=2.0.0->vtk->mayavi) (1.1.0)\n",
            "Requirement already satisfied: cycler>=0.10 in /usr/local/lib/python3.10/dist-packages (from matplotlib>=2.0.0->vtk->mayavi) (0.11.0)\n",
            "Requirement already satisfied: fonttools>=4.22.0 in /usr/local/lib/python3.10/dist-packages (from matplotlib>=2.0.0->vtk->mayavi) (4.42.1)\n",
            "Requirement already satisfied: kiwisolver>=1.0.1 in /usr/local/lib/python3.10/dist-packages (from matplotlib>=2.0.0->vtk->mayavi) (1.4.4)\n",
            "Requirement already satisfied: pillow>=6.2.0 in /usr/local/lib/python3.10/dist-packages (from matplotlib>=2.0.0->vtk->mayavi) (9.4.0)\n",
            "Requirement already satisfied: pyparsing>=2.3.1 in /usr/local/lib/python3.10/dist-packages (from matplotlib>=2.0.0->vtk->mayavi) (3.1.1)\n",
            "Requirement already satisfied: python-dateutil>=2.7 in /usr/local/lib/python3.10/dist-packages (from matplotlib>=2.0.0->vtk->mayavi) (2.8.2)\n",
            "Requirement already satisfied: six in /usr/local/lib/python3.10/dist-packages (from configobj->apptools->mayavi) (1.16.0)\n",
            "Building wheels for collected packages: mayavi\n",
            "  Building wheel for mayavi (pyproject.toml) ... \u001b[?25l\u001b[?25hdone\n",
            "  Created wheel for mayavi: filename=mayavi-4.8.1-cp310-cp310-linux_x86_64.whl size=16167223 sha256=02cd9eb30a22452ac051f1805bab4e4a7607b03836acebaf9434c26e9c4d8e38\n",
            "  Stored in directory: /root/.cache/pip/wheels/c2/6b/23/49aa8ae5063a76fbc35ce90e74f8361cddb9d3a86d5a41ec0a\n",
            "Successfully built mayavi\n",
            "Installing collected packages: traits, configobj, pyface, vtk, traitsui, apptools, envisage, mayavi\n",
            "Successfully installed apptools-5.2.1 configobj-5.0.8 envisage-7.0.3 mayavi-4.8.1 pyface-8.0.0 traits-6.4.2 traitsui-8.0.0 vtk-9.2.6\n"
          ]
        }
      ]
    },
    {
      "cell_type": "code",
      "execution_count": null,
      "id": "5bb5ca68",
      "metadata": {
        "id": "5bb5ca68",
        "outputId": "81354ea1-5003-4aa9-a434-4be7cf623e07",
        "colab": {
          "base_uri": "https://localhost:8080/"
        }
      },
      "outputs": [
        {
          "output_type": "stream",
          "name": "stdout",
          "text": [
            "Requirement already satisfied: nilearn in /usr/local/lib/python3.10/dist-packages (0.10.1)\n",
            "Requirement already satisfied: joblib>=1.0.0 in /usr/local/lib/python3.10/dist-packages (from nilearn) (1.3.2)\n",
            "Requirement already satisfied: lxml in /usr/local/lib/python3.10/dist-packages (from nilearn) (4.9.3)\n",
            "Requirement already satisfied: nibabel>=3.2.0 in /usr/local/lib/python3.10/dist-packages (from nilearn) (4.0.2)\n",
            "Requirement already satisfied: numpy>=1.19.0 in /usr/local/lib/python3.10/dist-packages (from nilearn) (1.23.5)\n",
            "Requirement already satisfied: packaging in /usr/local/lib/python3.10/dist-packages (from nilearn) (23.1)\n",
            "Requirement already satisfied: pandas>=1.1.5 in /usr/local/lib/python3.10/dist-packages (from nilearn) (1.5.3)\n",
            "Requirement already satisfied: requests>=2.25.0 in /usr/local/lib/python3.10/dist-packages (from nilearn) (2.31.0)\n",
            "Requirement already satisfied: scikit-learn>=1.0.0 in /usr/local/lib/python3.10/dist-packages (from nilearn) (1.2.2)\n",
            "Requirement already satisfied: scipy>=1.6.0 in /usr/local/lib/python3.10/dist-packages (from nilearn) (1.10.1)\n",
            "Requirement already satisfied: setuptools in /usr/local/lib/python3.10/dist-packages (from nibabel>=3.2.0->nilearn) (67.7.2)\n",
            "Requirement already satisfied: python-dateutil>=2.8.1 in /usr/local/lib/python3.10/dist-packages (from pandas>=1.1.5->nilearn) (2.8.2)\n",
            "Requirement already satisfied: pytz>=2020.1 in /usr/local/lib/python3.10/dist-packages (from pandas>=1.1.5->nilearn) (2023.3)\n",
            "Requirement already satisfied: charset-normalizer<4,>=2 in /usr/local/lib/python3.10/dist-packages (from requests>=2.25.0->nilearn) (3.2.0)\n",
            "Requirement already satisfied: idna<4,>=2.5 in /usr/local/lib/python3.10/dist-packages (from requests>=2.25.0->nilearn) (3.4)\n",
            "Requirement already satisfied: urllib3<3,>=1.21.1 in /usr/local/lib/python3.10/dist-packages (from requests>=2.25.0->nilearn) (2.0.4)\n",
            "Requirement already satisfied: certifi>=2017.4.17 in /usr/local/lib/python3.10/dist-packages (from requests>=2.25.0->nilearn) (2023.7.22)\n",
            "Requirement already satisfied: threadpoolctl>=2.0.0 in /usr/local/lib/python3.10/dist-packages (from scikit-learn>=1.0.0->nilearn) (3.2.0)\n",
            "Requirement already satisfied: six>=1.5 in /usr/local/lib/python3.10/dist-packages (from python-dateutil>=2.8.1->pandas>=1.1.5->nilearn) (1.16.0)\n"
          ]
        }
      ],
      "source": [
        "!pip install nilearn"
      ]
    },
    {
      "cell_type": "code",
      "source": [
        "from google.colab import drive\n",
        "drive.mount('/content/drive')"
      ],
      "metadata": {
        "id": "4SknzpUNi21-",
        "colab": {
          "base_uri": "https://localhost:8080/"
        },
        "outputId": "27626aa6-a28d-4e0f-ee59-949889b6d9e2"
      },
      "id": "4SknzpUNi21-",
      "execution_count": null,
      "outputs": [
        {
          "output_type": "stream",
          "name": "stdout",
          "text": [
            "Drive already mounted at /content/drive; to attempt to forcibly remount, call drive.mount(\"/content/drive\", force_remount=True).\n"
          ]
        }
      ]
    },
    {
      "cell_type": "code",
      "source": [
        "import gzip\n",
        "import os\n",
        "import shutil\n",
        "\n",
        "# set the root directory\n",
        "root_dir = \"/content/drive/MyDrive/PKG - UCSF-PDGM-v3\"\n",
        "\n",
        "# recursively traverse the directory tree\n",
        "for subdir, dirs, files in os.walk(root_dir):\n",
        "\n",
        "    # loop through each file in the directory\n",
        "    for file_name in files:\n",
        "\n",
        "        # check if the file is a gzipped file\n",
        "        if file_name.endswith(\".gz\"):\n",
        "\n",
        "            # get the full path of the file\n",
        "            file_path = os.path.join(subdir, file_name)\n",
        "\n",
        "            # set the output file name\n",
        "            output_file_name = os.path.splitext(file_path)[0]\n",
        "\n",
        "            # open the gzipped file for reading\n",
        "            with gzip.open(file_path, 'rb') as f_in:\n",
        "\n",
        "                # open the output file for writing\n",
        "                with open(output_file_name, 'wb') as f_out:\n",
        "\n",
        "                    # copy the contents of the gzipped file to the output file\n",
        "                    shutil.copyfileobj(f_in, f_out)\n",
        "\n",
        "            # delete the gzipped file after extraction (optional)\n",
        "            os.remove(file_path)\n"
      ],
      "metadata": {
        "id": "dLhEL4-wYl5s",
        "colab": {
          "base_uri": "https://localhost:8080/",
          "height": 404
        },
        "outputId": "c5327823-dda1-4b6f-b0bc-95a55f21afcd"
      },
      "id": "dLhEL4-wYl5s",
      "execution_count": null,
      "outputs": [
        {
          "output_type": "error",
          "ename": "KeyboardInterrupt",
          "evalue": "ignored",
          "traceback": [
            "\u001b[0;31m---------------------------------------------------------------------------\u001b[0m",
            "\u001b[0;31mKeyboardInterrupt\u001b[0m                         Traceback (most recent call last)",
            "\u001b[0;32m<ipython-input-4-00a8e1556ae1>\u001b[0m in \u001b[0;36m<cell line: 9>\u001b[0;34m()\u001b[0m\n\u001b[1;32m      7\u001b[0m \u001b[0;34m\u001b[0m\u001b[0m\n\u001b[1;32m      8\u001b[0m \u001b[0;31m# recursively traverse the directory tree\u001b[0m\u001b[0;34m\u001b[0m\u001b[0;34m\u001b[0m\u001b[0m\n\u001b[0;32m----> 9\u001b[0;31m \u001b[0;32mfor\u001b[0m \u001b[0msubdir\u001b[0m\u001b[0;34m,\u001b[0m \u001b[0mdirs\u001b[0m\u001b[0;34m,\u001b[0m \u001b[0mfiles\u001b[0m \u001b[0;32min\u001b[0m \u001b[0mos\u001b[0m\u001b[0;34m.\u001b[0m\u001b[0mwalk\u001b[0m\u001b[0;34m(\u001b[0m\u001b[0mroot_dir\u001b[0m\u001b[0;34m)\u001b[0m\u001b[0;34m:\u001b[0m\u001b[0;34m\u001b[0m\u001b[0;34m\u001b[0m\u001b[0m\n\u001b[0m\u001b[1;32m     10\u001b[0m \u001b[0;34m\u001b[0m\u001b[0m\n\u001b[1;32m     11\u001b[0m     \u001b[0;31m# loop through each file in the directory\u001b[0m\u001b[0;34m\u001b[0m\u001b[0;34m\u001b[0m\u001b[0m\n",
            "\u001b[0;32m/usr/lib/python3.10/os.py\u001b[0m in \u001b[0;36m_walk\u001b[0;34m(top, topdown, onerror, followlinks)\u001b[0m\n\u001b[1;32m    417\u001b[0m             \u001b[0;31m# above.\u001b[0m\u001b[0;34m\u001b[0m\u001b[0;34m\u001b[0m\u001b[0m\n\u001b[1;32m    418\u001b[0m             \u001b[0;32mif\u001b[0m \u001b[0mfollowlinks\u001b[0m \u001b[0;32mor\u001b[0m \u001b[0;32mnot\u001b[0m \u001b[0mislink\u001b[0m\u001b[0;34m(\u001b[0m\u001b[0mnew_path\u001b[0m\u001b[0;34m)\u001b[0m\u001b[0;34m:\u001b[0m\u001b[0;34m\u001b[0m\u001b[0;34m\u001b[0m\u001b[0m\n\u001b[0;32m--> 419\u001b[0;31m                 \u001b[0;32myield\u001b[0m \u001b[0;32mfrom\u001b[0m \u001b[0m_walk\u001b[0m\u001b[0;34m(\u001b[0m\u001b[0mnew_path\u001b[0m\u001b[0;34m,\u001b[0m \u001b[0mtopdown\u001b[0m\u001b[0;34m,\u001b[0m \u001b[0monerror\u001b[0m\u001b[0;34m,\u001b[0m \u001b[0mfollowlinks\u001b[0m\u001b[0;34m)\u001b[0m\u001b[0;34m\u001b[0m\u001b[0;34m\u001b[0m\u001b[0m\n\u001b[0m\u001b[1;32m    420\u001b[0m     \u001b[0;32melse\u001b[0m\u001b[0;34m:\u001b[0m\u001b[0;34m\u001b[0m\u001b[0;34m\u001b[0m\u001b[0m\n\u001b[1;32m    421\u001b[0m         \u001b[0;31m# Recurse into sub-directories\u001b[0m\u001b[0;34m\u001b[0m\u001b[0;34m\u001b[0m\u001b[0m\n",
            "\u001b[0;32m/usr/lib/python3.10/os.py\u001b[0m in \u001b[0;36m_walk\u001b[0;34m(top, topdown, onerror, followlinks)\u001b[0m\n\u001b[1;32m    356\u001b[0m         \u001b[0;31m# Note that scandir is global in this module due\u001b[0m\u001b[0;34m\u001b[0m\u001b[0;34m\u001b[0m\u001b[0m\n\u001b[1;32m    357\u001b[0m         \u001b[0;31m# to earlier import-*.\u001b[0m\u001b[0;34m\u001b[0m\u001b[0;34m\u001b[0m\u001b[0m\n\u001b[0;32m--> 358\u001b[0;31m         \u001b[0mscandir_it\u001b[0m \u001b[0;34m=\u001b[0m \u001b[0mscandir\u001b[0m\u001b[0;34m(\u001b[0m\u001b[0mtop\u001b[0m\u001b[0;34m)\u001b[0m\u001b[0;34m\u001b[0m\u001b[0;34m\u001b[0m\u001b[0m\n\u001b[0m\u001b[1;32m    359\u001b[0m     \u001b[0;32mexcept\u001b[0m \u001b[0mOSError\u001b[0m \u001b[0;32mas\u001b[0m \u001b[0merror\u001b[0m\u001b[0;34m:\u001b[0m\u001b[0;34m\u001b[0m\u001b[0;34m\u001b[0m\u001b[0m\n\u001b[1;32m    360\u001b[0m         \u001b[0;32mif\u001b[0m \u001b[0monerror\u001b[0m \u001b[0;32mis\u001b[0m \u001b[0;32mnot\u001b[0m \u001b[0;32mNone\u001b[0m\u001b[0;34m:\u001b[0m\u001b[0;34m\u001b[0m\u001b[0;34m\u001b[0m\u001b[0m\n",
            "\u001b[0;31mKeyboardInterrupt\u001b[0m: "
          ]
        }
      ]
    },
    {
      "cell_type": "code",
      "source": [
        "import gzip\n",
        "import os\n",
        "import shutil\n",
        "\n",
        "# set the root directory\n",
        "root_dir = \"/content/drive/MyDrive/PKG - UPENN-GBM NIfTI files/NIfTI-files/images_structural\"\n",
        "\n",
        "# recursively traverse the directory tree\n",
        "for subdir, dirs, files in os.walk(root_dir):\n",
        "\n",
        "    # loop through each file in the directory\n",
        "    for file_name in files:\n",
        "\n",
        "        # check if the file is a gzipped file\n",
        "        if file_name.endswith(\".gz\"):\n",
        "\n",
        "            # get the full path of the file\n",
        "            file_path = os.path.join(subdir, file_name)\n",
        "\n",
        "            # set the output file name\n",
        "            output_file_name = os.path.splitext(file_path)[0]\n",
        "\n",
        "            # open the gzipped file for reading\n",
        "            with gzip.open(file_path, 'rb') as f_in:\n",
        "\n",
        "                # open the output file for writing\n",
        "                with open(output_file_name, 'wb') as f_out:\n",
        "\n",
        "                    # copy the contents of the gzipped file to the output file\n",
        "                    shutil.copyfileobj(f_in, f_out)\n",
        "\n",
        "            # delete the gzipped file after extraction (optional)\n",
        "            os.remove(file_path)\n"
      ],
      "metadata": {
        "id": "RSbpa_BpZhja"
      },
      "id": "RSbpa_BpZhja",
      "execution_count": null,
      "outputs": []
    },
    {
      "cell_type": "code",
      "execution_count": null,
      "id": "37ceea55",
      "metadata": {
        "id": "37ceea55"
      },
      "outputs": [],
      "source": [
        "import re\n",
        "import os\n",
        "import cv2\n",
        "import glob\n",
        "import PIL\n",
        "import shutil\n",
        "import numpy as np\n",
        "import pandas as pd\n",
        "import seaborn as sns\n",
        "import matplotlib.pyplot as plt\n",
        "from skimage import data\n",
        "from skimage.util import montage\n",
        "import skimage.transform as skTrans\n",
        "from skimage.transform import rotate\n",
        "from skimage.transform import resize\n",
        "from PIL import Image, ImageOps\n",
        "\n",
        "# neural imaging\n",
        "import nilearn as nl\n",
        "import nibabel as nib\n"
      ]
    },
    {
      "cell_type": "code",
      "execution_count": null,
      "id": "714447d5",
      "metadata": {
        "id": "714447d5"
      },
      "outputs": [],
      "source": [
        "DATASET_PATH = r\"/content/drive/MyDrive/PKG - UCSF-PDGM-v3/UCSF-PDGM-v3\" +'/'\n",
        "#/content/drive/MyDrive/PKG - UCSF-PDGM-v3/UCSF-PDGM-v3/UCSF-PDGM-0004_nifti/UCSF-PDGM-0004_SWI.nii"
      ]
    },
    {
      "cell_type": "code",
      "execution_count": null,
      "id": "33791f8e",
      "metadata": {
        "id": "33791f8e"
      },
      "outputs": [],
      "source": [
        "test_image_flair=nib.load(DATASET_PATH + 'UCSF-PDGM-0004_nifti/UCSF-PDGM-0004_FLAIR.nii').get_fdata()\n",
        "test_image_t1=nib.load(DATASET_PATH + 'UCSF-PDGM-0004_nifti/UCSF-PDGM-0004_T1.nii').get_fdata()\n",
        "test_image_t1ce=nib.load(DATASET_PATH + 'UCSF-PDGM-0004_nifti/UCSF-PDGM-0004_T1c.nii').get_fdata()\n",
        "test_image_t2=nib.load(DATASET_PATH + 'UCSF-PDGM-0004_nifti/UCSF-PDGM-0004_T2.nii').get_fdata()\n",
        "test_mask=nib.load(DATASET_PATH + 'UCSF-PDGM-0004_nifti/UCSF-PDGM-0004_tumor_segmentation.nii').get_fdata()"
      ]
    },
    {
      "cell_type": "code",
      "source": [
        "import nibabel as nib\n",
        "\n",
        "# Load the NIfTI image\n",
        "nifti_file_path = DATASET_PATH + 'UCSF-PDGM-0004_nifti/UCSF-PDGM-0004_FLAIR.nii'\n",
        "nifti_image = nib.load(nifti_file_path)\n",
        "\n",
        "# Access the header from the NIfTI image object to get the voxel size\n",
        "header = nifti_image.header\n",
        "voxel_size = header.get_zooms()\n",
        "\n",
        "# The voxel_size variable now contains the voxel size in millimeters for each dimension (X, Y, and Z)\n",
        "voxel_size_x_mm, voxel_size_y_mm, voxel_size_z_mm = voxel_size\n",
        "\n",
        "print(f'Voxel size (X): {voxel_size_x_mm} mm')\n",
        "print(f'Voxel size (Y): {voxel_size_y_mm} mm')\n",
        "print(f'Voxel size (Z): {voxel_size_z_mm} mm')\n"
      ],
      "metadata": {
        "colab": {
          "base_uri": "https://localhost:8080/"
        },
        "id": "FYO18qgg9am-",
        "outputId": "81a96e24-f65c-4b31-8d31-7703451154e3"
      },
      "id": "FYO18qgg9am-",
      "execution_count": null,
      "outputs": [
        {
          "output_type": "stream",
          "name": "stdout",
          "text": [
            "Voxel size (X): 1.0 mm\n",
            "Voxel size (Y): 1.0 mm\n",
            "Voxel size (Z): 1.0 mm\n"
          ]
        }
      ]
    },
    {
      "cell_type": "code",
      "execution_count": null,
      "id": "8773b2db",
      "metadata": {
        "id": "8773b2db",
        "colab": {
          "base_uri": "https://localhost:8080/",
          "height": 174
        },
        "outputId": "79fb0087-08a4-42d2-b719-cd3dddeb7732"
      },
      "outputs": [
        {
          "output_type": "execute_result",
          "data": {
            "text/plain": [
              "Text(0.5, 1.0, 'Mask')"
            ]
          },
          "metadata": {},
          "execution_count": 57
        },
        {
          "output_type": "display_data",
          "data": {
            "text/plain": [
              "<Figure size 2000x1000 with 5 Axes>"
            ],
            "image/png": "[encoded data removed]"
          },
          "metadata": {}
        }
      ],
      "source": [
        "fig, (ax1, ax2, ax3, ax4, ax5) = plt.subplots(1,5, figsize = (20, 10))\n",
        "slice_w = 7\n",
        "ax1.imshow(noramlized_image[:,:,test_image_flair.shape[0]//2-slice_w], cmap = 'gray')\n",
        "ax1.set_title('Image flair')\n",
        "ax2.imshow(test_image_t1[:,:,test_image_t1.shape[0]//2-slice_w], cmap = 'gray')\n",
        "ax2.set_title('Image t1')\n",
        "ax3.imshow(test_image_t1ce[:,:,test_image_t1ce.shape[0]//2-slice_w], cmap = 'gray')\n",
        "ax3.set_title('Image t1ce')\n",
        "ax4.imshow(test_image_t2[:,:,test_image_t2.shape[0]//2-slice_w], cmap = 'gray')\n",
        "ax4.set_title('Image t2')\n",
        "ax5.imshow(noramlized_image1[:,:,test_mask.shape[0]//2-slice_w])\n",
        "ax5.set_title('Mask')"
      ]
    },
    {
      "cell_type": "code",
      "source": [
        "test_image_flair.shape\n"
      ],
      "metadata": {
        "colab": {
          "base_uri": "https://localhost:8080/"
        },
        "id": "56QfCrbDkgvE",
        "outputId": "f15827de-6585-4c7e-f2bb-a54a2e97edc0"
      },
      "id": "56QfCrbDkgvE",
      "execution_count": null,
      "outputs": [
        {
          "output_type": "execute_result",
          "data": {
            "text/plain": [
              "(240, 240, 155)"
            ]
          },
          "metadata": {},
          "execution_count": 9
        }
      ]
    },
    {
      "cell_type": "code",
      "execution_count": null,
      "id": "db3c4a0c",
      "metadata": {
        "id": "db3c4a0c",
        "colab": {
          "base_uri": "https://localhost:8080/",
          "height": 471
        },
        "outputId": "68cd5b59-3803-4c17-a522-38ce335635d4"
      },
      "outputs": [
        {
          "output_type": "execute_result",
          "data": {
            "text/plain": [
              "<matplotlib.image.AxesImage at 0x7ca35c30c670>"
            ]
          },
          "metadata": {},
          "execution_count": 10
        },
        {
          "output_type": "display_data",
          "data": {
            "text/plain": [
              "<Figure size 1500x1500 with 1 Axes>"
            ],
            "image/png": "[encoded data removed]"
          },
          "metadata": {}
        }
      ],
      "source": [
        "fig, ax1 = plt.subplots(1, 1, figsize = (15,15))\n",
        "ax1.imshow(rotate(montage(test_mask[50:-50,:,:]), 90, resize=True), cmap ='gray')"
      ]
    },
    {
      "cell_type": "code",
      "source": [
        "np.min(test_image_flair), np.max(test_image_flair), test_image_flair.shape, type(test_image_flair)"
      ],
      "metadata": {
        "colab": {
          "base_uri": "https://localhost:8080/"
        },
        "id": "N8WfJUD3B9j6",
        "outputId": "3afa8879-6508-476d-ddab-ada229aa55a8"
      },
      "id": "N8WfJUD3B9j6",
      "execution_count": null,
      "outputs": [
        {
          "output_type": "execute_result",
          "data": {
            "text/plain": [
              "(0.0, 3333.392006792128, (240, 240, 155), numpy.ndarray)"
            ]
          },
          "metadata": {},
          "execution_count": 11
        }
      ]
    },
    {
      "cell_type": "code",
      "source": [
        "#fatching ids form data path\n",
        "def pathListIntoIds(dirList):\n",
        "    x = []\n",
        "    for i in range(0,len(dirList)):\n",
        "        x.append(dirList[i][dirList[i].rfind('/')+1:])\n",
        "    return x\n",
        "\n",
        "train_data_ids = [f.path for f in os.scandir(DATASET_PATH)]\n"
      ],
      "metadata": {
        "id": "KYDEoSWlQbv1"
      },
      "id": "KYDEoSWlQbv1",
      "execution_count": null,
      "outputs": []
    },
    {
      "cell_type": "code",
      "source": [
        "train_data_ids[0]"
      ],
      "metadata": {
        "colab": {
          "base_uri": "https://localhost:8080/",
          "height": 36
        },
        "id": "Mw_fR80fWJR7",
        "outputId": "9418b25a-ea20-4bdf-be82-d49508fa7c19"
      },
      "id": "Mw_fR80fWJR7",
      "execution_count": null,
      "outputs": [
        {
          "output_type": "execute_result",
          "data": {
            "text/plain": [
              "'/content/drive/MyDrive/PKG - UCSF-PDGM-v3/UCSF-PDGM-v3/UCSF-PDGM-0012_nifti'"
            ],
            "application/vnd.google.colaboratory.intrinsic+json": {
              "type": "string"
            }
          },
          "metadata": {},
          "execution_count": 13
        }
      ]
    },
    {
      "cell_type": "code",
      "source": [
        "train_data_mask_ids = [f.path for f in os.scandir(MASK)]"
      ],
      "metadata": {
        "id": "ES6IhNm_Qwxp"
      },
      "id": "ES6IhNm_Qwxp",
      "execution_count": null,
      "outputs": []
    },
    {
      "cell_type": "code",
      "source": [
        "train_data_mask_ids.sort()"
      ],
      "metadata": {
        "id": "lesBD_OkRZf5"
      },
      "id": "lesBD_OkRZf5",
      "execution_count": null,
      "outputs": []
    },
    {
      "cell_type": "code",
      "source": [
        "mask_ids = []\n",
        "for i in range(len(train_data_mask_ids)):\n",
        "  test = train_data_mask_ids[i].split('_automated_approx_segm.nii')[0]\n",
        "  test1 = test.split('/automated_segm/')[1]\n",
        "  mask_ids.append(test1)\n",
        "\n"
      ],
      "metadata": {
        "id": "mL93t0UHSnmo"
      },
      "id": "mL93t0UHSnmo",
      "execution_count": null,
      "outputs": []
    },
    {
      "cell_type": "code",
      "source": [
        "train_ids = []\n",
        "for i in range(len(train_data_ids)):\n",
        "  x = train_data_ids[i].split(\"UCSF-PDGM-v3/UCSF-PDGM-v3/\")[1]\n",
        "  x = x.split('_nifti')[0]\n",
        "  train_ids.append(x)\n"
      ],
      "metadata": {
        "id": "vo_IOkzDTgLm"
      },
      "id": "vo_IOkzDTgLm",
      "execution_count": null,
      "outputs": []
    },
    {
      "cell_type": "code",
      "source": [
        "train_ids[0]"
      ],
      "metadata": {
        "colab": {
          "base_uri": "https://localhost:8080/",
          "height": 36
        },
        "id": "q4nDXaSECbZn",
        "outputId": "5d1d473e-96e4-4789-ed1f-d1f1dcdb826c"
      },
      "id": "q4nDXaSECbZn",
      "execution_count": null,
      "outputs": [
        {
          "output_type": "execute_result",
          "data": {
            "text/plain": [
              "'UCSF-PDGM-0012'"
            ],
            "application/vnd.google.colaboratory.intrinsic+json": {
              "type": "string"
            }
          },
          "metadata": {},
          "execution_count": 16
        }
      ]
    },
    {
      "cell_type": "code",
      "source": [
        "train_ids.sort()\n",
        "len(train_ids)"
      ],
      "metadata": {
        "colab": {
          "base_uri": "https://localhost:8080/"
        },
        "id": "T2R2pgwLUDsQ",
        "outputId": "b06b7152-dbae-4ce9-fe39-b6c6c39233e7"
      },
      "id": "T2R2pgwLUDsQ",
      "execution_count": null,
      "outputs": [
        {
          "output_type": "execute_result",
          "data": {
            "text/plain": [
              "501"
            ]
          },
          "metadata": {},
          "execution_count": 17
        }
      ]
    },
    {
      "cell_type": "code",
      "source": [
        "train_ids[0]"
      ],
      "metadata": {
        "colab": {
          "base_uri": "https://localhost:8080/",
          "height": 36
        },
        "id": "WtqN6x3iDSWp",
        "outputId": "603afb21-5d4f-4544-84e1-482a8b9cf3f4"
      },
      "id": "WtqN6x3iDSWp",
      "execution_count": null,
      "outputs": [
        {
          "output_type": "execute_result",
          "data": {
            "text/plain": [
              "'UCSF-PDGM-0004'"
            ],
            "application/vnd.google.colaboratory.intrinsic+json": {
              "type": "string"
            }
          },
          "metadata": {},
          "execution_count": 18
        }
      ]
    },
    {
      "cell_type": "code",
      "source": [
        "mask_ids.sort()\n",
        "len(mask_ids)"
      ],
      "metadata": {
        "colab": {
          "base_uri": "https://localhost:8080/"
        },
        "id": "JvNX0Hh-TGAN",
        "outputId": "6b1600cc-555a-439d-e0f9-e43f3214ea66"
      },
      "id": "JvNX0Hh-TGAN",
      "execution_count": null,
      "outputs": [
        {
          "output_type": "execute_result",
          "data": {
            "text/plain": [
              "611"
            ]
          },
          "metadata": {},
          "execution_count": 22
        }
      ]
    },
    {
      "cell_type": "code",
      "source": [
        "def remove_unmatch_ids(dataset1,dataset2):\n",
        "  for i in dataset1:\n",
        "    if i not in dataset2:\n",
        "      dataset1.remove(i)"
      ],
      "metadata": {
        "id": "Xe1jyIjsUOhy"
      },
      "id": "Xe1jyIjsUOhy",
      "execution_count": null,
      "outputs": []
    },
    {
      "cell_type": "code",
      "source": [
        "remove_unmatch_ids(train_ids,mask_ids)\n",
        "remove_unmatch_ids(mask_ids,train_ids)"
      ],
      "metadata": {
        "id": "mmggwW7fUblZ"
      },
      "id": "mmggwW7fUblZ",
      "execution_count": null,
      "outputs": []
    },
    {
      "cell_type": "code",
      "source": [
        "result = []\n",
        "for i in train_ids:\n",
        "    if i not in mask_ids:\n",
        "      result.append(i)"
      ],
      "metadata": {
        "id": "e2AZFoNCUm_Q"
      },
      "id": "e2AZFoNCUm_Q",
      "execution_count": null,
      "outputs": []
    },
    {
      "cell_type": "code",
      "source": [
        "result"
      ],
      "metadata": {
        "colab": {
          "base_uri": "https://localhost:8080/"
        },
        "id": "FStgH35fUtCL",
        "outputId": "b565d458-a1da-4800-9ffc-75056fb553e7"
      },
      "id": "FStgH35fUtCL",
      "execution_count": null,
      "outputs": [
        {
          "output_type": "execute_result",
          "data": {
            "text/plain": [
              "['UPENN-GBM-00613_21',\n",
              " 'UPENN-GBM-00615_21',\n",
              " 'UPENN-GBM-00617_21',\n",
              " 'UPENN-GBM-00619_21',\n",
              " 'UPENN-GBM-00621_21',\n",
              " 'UPENN-GBM-00623_21',\n",
              " 'UPENN-GBM-00625_21',\n",
              " 'UPENN-GBM-00627_21',\n",
              " 'UPENN-GBM-00629_21']"
            ]
          },
          "metadata": {},
          "execution_count": 26
        }
      ]
    },
    {
      "cell_type": "code",
      "source": [
        "for i in result:\n",
        "  train_ids.remove(i)\n",
        "\n"
      ],
      "metadata": {
        "id": "BdwIS_KkVeO4"
      },
      "id": "BdwIS_KkVeO4",
      "execution_count": null,
      "outputs": []
    },
    {
      "cell_type": "code",
      "source": [
        "len(train_ids)"
      ],
      "metadata": {
        "colab": {
          "base_uri": "https://localhost:8080/"
        },
        "id": "hyUrv_uWVvRY",
        "outputId": "4526bdd2-913b-4955-818b-d51cf32f0ab4"
      },
      "id": "hyUrv_uWVvRY",
      "execution_count": null,
      "outputs": [
        {
          "output_type": "execute_result",
          "data": {
            "text/plain": [
              "611"
            ]
          },
          "metadata": {},
          "execution_count": 28
        }
      ]
    },
    {
      "cell_type": "code",
      "source": [
        "len(mask_ids)"
      ],
      "metadata": {
        "colab": {
          "base_uri": "https://localhost:8080/"
        },
        "id": "_GBeInMSQ-v6",
        "outputId": "d03328ec-d848-48c9-f5d0-b860b52e9203"
      },
      "id": "_GBeInMSQ-v6",
      "execution_count": null,
      "outputs": [
        {
          "output_type": "execute_result",
          "data": {
            "text/plain": [
              "611"
            ]
          },
          "metadata": {},
          "execution_count": 29
        }
      ]
    },
    {
      "cell_type": "code",
      "source": [
        "train_data_ids.sort()\n",
        "train_ids.sort()"
      ],
      "metadata": {
        "id": "gR7i4_k6YGDJ"
      },
      "id": "gR7i4_k6YGDJ",
      "execution_count": null,
      "outputs": []
    },
    {
      "cell_type": "code",
      "source": [
        "volume = []\n",
        "for i in range(len(train_ids)):\n",
        "  case_path = os.path.join(DATASET_PATH, train_ids[i]+'_nifti' )\n",
        "  data_path = os.path.join(case_path, f'{train_ids[i]}_FLAIR.nii')\n",
        "  img = nib.load(data_path)\n",
        "  flair = img.get_fdata()\n",
        "  threshold_value = 0.0  # Adjust the threshold value as needed\n",
        "  thresholded_data = np.where(flair > threshold_value, 1, 0)\n",
        "# Calculate the voxel size (assuming isotropic voxel dimensions)\n",
        "  voxel_size_mm = np.prod(img.header.get_zooms())\n",
        "  voxel_size_cm = voxel_size_mm*0.1\n",
        "# Calculate the volume in cubic millimeters\n",
        "  volume_mm3 = np.sum(thresholded_data) * voxel_size_cm**3\n",
        "  volume.append(volume_mm3)\n"
      ],
      "metadata": {
        "id": "PN5HhaWmIcjP"
      },
      "id": "PN5HhaWmIcjP",
      "execution_count": null,
      "outputs": []
    },
    {
      "cell_type": "code",
      "source": [
        "volume[0]"
      ],
      "metadata": {
        "colab": {
          "base_uri": "https://localhost:8080/"
        },
        "id": "i65Iu30WTGH4",
        "outputId": "5829787f-7b9f-412e-8c9c-415180b377b6"
      },
      "id": "i65Iu30WTGH4",
      "execution_count": null,
      "outputs": [
        {
          "output_type": "execute_result",
          "data": {
            "text/plain": [
              "1432.0270000000003"
            ]
          },
          "metadata": {},
          "execution_count": 34
        }
      ]
    },
    {
      "cell_type": "code",
      "source": [
        "train_ids.remove('UCSF-PDGM-0541')"
      ],
      "metadata": {
        "id": "kXAcrlCDX2qD"
      },
      "id": "kXAcrlCDX2qD",
      "execution_count": null,
      "outputs": []
    },
    {
      "cell_type": "code",
      "source": [
        "volume_t = []\n",
        "for i in range(len(train_ids)):\n",
        "  case_path = os.path.join(DATASET_PATH, train_ids[i]+'_nifti')\n",
        "  data_path = os.path.join(case_path, f'{train_ids[i]}_tumor_segmentation.nii')\n",
        "  img = nib.load(data_path)\n",
        "  flair = img.get_fdata()\n",
        "  threshold_value = 0.0  # Adjust the threshold value as needed\n",
        "  thresholded_data = np.where(flair > threshold_value, 1, 0)\n",
        "# Calculate the voxel size (assuming isotropic voxel dimensions)\n",
        "  voxel_size_mm = np.prod(img.header.get_zooms())\n",
        "  voxel_size_cm = voxel_size_mm*0.1\n",
        "# Calculate the volume in cubic millimeters\n",
        "  volume_mm3 = np.sum(thresholded_data) * voxel_size_cm**3\n",
        "  volume_t.append(volume_mm3)\n"
      ],
      "metadata": {
        "id": "6nJL_nWSPD9T"
      },
      "id": "6nJL_nWSPD9T",
      "execution_count": null,
      "outputs": []
    },
    {
      "cell_type": "code",
      "source": [
        "volume.remove(volume[500])"
      ],
      "metadata": {
        "id": "qvCvx2CBghe0"
      },
      "id": "qvCvx2CBghe0",
      "execution_count": null,
      "outputs": []
    },
    {
      "cell_type": "code",
      "source": [
        "len(volume)"
      ],
      "metadata": {
        "colab": {
          "base_uri": "https://localhost:8080/"
        },
        "id": "isrXIYZxZScy",
        "outputId": "04d8c885-4291-4694-87c6-3128fb900e7b"
      },
      "id": "isrXIYZxZScy",
      "execution_count": null,
      "outputs": [
        {
          "output_type": "execute_result",
          "data": {
            "text/plain": [
              "500"
            ]
          },
          "metadata": {},
          "execution_count": 46
        }
      ]
    },
    {
      "cell_type": "code",
      "source": [
        "# List to store the calculated percentages\n",
        "percentages = []\n",
        "\n",
        "# Calculate percentages and append them to the 'percentages' list\n",
        "for part, whole in zip(volume_t, volume):\n",
        "    # Calculate the percentage\n",
        "    percentage = (part / whole) * 100\n",
        "    rounded_percentage = round(percentage, 2)\n",
        "    # Append the result to the 'percentages' list\n",
        "    percentages.append(rounded_percentage)\n",
        "\n",
        "# Display the list of percentages\n",
        "print(\"Percentages:\", percentages)\n",
        "\n"
      ],
      "metadata": {
        "colab": {
          "base_uri": "https://localhost:8080/"
        },
        "id": "xq9RTor7jS10",
        "outputId": "e9f57fa3-04ec-428b-c416-a99f8755e29f"
      },
      "id": "xq9RTor7jS10",
      "execution_count": null,
      "outputs": [
        {
          "output_type": "stream",
          "name": "stdout",
          "text": [
            "Percentages: [2.93, 2.18, 13.14, 12.13, 8.57, 8.17, 9.06, 16.47, 7.34, 13.69, 6.15, 7.68, 6.14, 1.24, 3.63, 5.39, 4.76, 8.97, 2.92, 4.41, 9.69, 5.29, 5.34, 4.44, 4.67, 7.63, 5.45, 9.45, 9.2, 7.98, 1.88, 4.35, 14.23, 6.11, 6.99, 14.9, 1.16, 2.06, 8.37, 6.48, 7.11, 2.71, 4.09, 7.07, 4.92, 10.84, 4.91, 1.92, 3.88, 7.62, 8.67, 16.18, 14.02, 2.62, 14.04, 0.27, 10.1, 4.46, 3.29, 9.59, 6.23, 3.78, 8.15, 5.25, 1.18, 6.18, 11.78, 3.34, 6.04, 2.68, 8.1, 1.06, 2.0, 6.31, 2.6, 5.49, 1.29, 18.19, 13.19, 0.92, 1.94, 3.79, 13.41, 2.51, 7.47, 8.56, 1.53, 6.52, 0.84, 6.86, 6.56, 4.65, 2.71, 5.73, 10.88, 1.43, 8.85, 5.76, 6.49, 8.4, 3.71, 9.04, 6.26, 9.7, 2.56, 5.42, 13.54, 0.48, 8.29, 14.15, 5.33, 2.9, 3.43, 2.09, 5.85, 10.1, 5.93, 7.2, 12.25, 6.08, 8.92, 8.93, 9.81, 9.23, 8.98, 10.43, 8.8, 7.4, 11.07, 2.55, 0.74, 5.47, 11.84, 3.87, 5.71, 1.93, 7.24, 6.84, 5.97, 12.8, 10.53, 3.47, 9.65, 7.7, 5.51, 3.54, 1.94, 6.32, 6.59, 4.89, 7.15, 5.58, 11.69, 6.83, 11.78, 3.36, 11.72, 4.8, 5.03, 5.54, 5.81, 2.86, 8.89, 10.9, 13.6, 10.73, 2.18, 4.07, 5.44, 3.55, 2.2, 6.56, 2.91, 6.01, 6.04, 3.04, 11.95, 3.98, 0.8, 1.77, 10.1, 5.55, 10.37, 9.58, 6.75, 4.37, 2.73, 11.21, 5.94, 5.37, 3.69, 11.57, 12.38, 3.34, 3.09, 3.05, 1.72, 4.01, 2.84, 2.19, 0.84, 5.52, 1.08, 0.6, 0.42, 4.06, 4.52, 2.04, 1.75, 9.93, 2.37, 0.74, 3.56, 2.73, 2.23, 3.2, 1.27, 0.96, 2.48, 0.14, 4.09, 2.48, 2.69, 4.32, 0.62, 1.35, 7.68, 3.91, 2.87, 2.64, 4.93, 3.44, 3.06, 0.47, 10.44, 2.92, 1.77, 1.1, 5.43, 10.66, 0.42, 2.08, 10.64, 3.37, 5.21, 11.36, 2.92, 14.61, 5.24, 5.1, 3.13, 7.26, 6.73, 5.29, 3.6, 10.19, 1.85, 3.29, 8.05, 14.27, 0.68, 0.69, 6.31, 0.56, 7.44, 5.35, 6.98, 8.39, 1.16, 4.33, 11.02, 4.92, 2.06, 11.48, 9.36, 0.66, 5.11, 6.96, 4.03, 7.34, 7.96, 3.02, 5.8, 7.46, 12.44, 8.97, 5.16, 2.24, 3.51, 1.31, 6.72, 7.15, 14.96, 3.14, 1.13, 0.94, 0.46, 5.13, 6.63, 0.88, 10.37, 9.45, 1.49, 1.1, 4.54, 3.93, 1.44, 1.35, 7.72, 9.16, 6.29, 1.44, 9.6, 7.18, 9.93, 1.44, 6.32, 7.85, 4.9, 2.22, 7.73, 4.55, 1.2, 7.69, 3.17, 1.83, 9.92, 7.02, 1.7, 3.69, 12.64, 15.1, 0.49, 3.95, 4.75, 3.2, 5.28, 3.53, 2.97, 3.04, 7.44, 2.01, 0.52, 5.34, 7.87, 2.26, 2.52, 3.55, 5.57, 6.05, 1.89, 6.69, 14.89, 3.31, 6.28, 8.48, 4.42, 6.12, 3.61, 5.87, 7.05, 7.53, 9.21, 5.27, 9.21, 8.82, 6.89, 13.01, 5.6, 6.36, 7.43, 0.96, 2.29, 7.8, 4.53, 1.18, 2.27, 1.8, 1.52, 5.11, 1.26, 4.18, 6.98, 8.23, 2.11, 3.12, 3.09, 1.44, 6.21, 6.02, 10.62, 1.17, 1.45, 4.64, 3.06, 2.34, 2.44, 1.22, 1.0, 16.1, 4.54, 14.09, 0.23, 10.79, 2.01, 4.67, 8.73, 1.44, 2.51, 2.66, 5.41, 11.49, 10.3, 7.74, 16.58, 1.43, 7.23, 6.93, 2.01, 6.75, 7.48, 6.12, 3.14, 2.91, 8.38, 12.34, 5.82, 4.23, 12.21, 5.75, 10.16, 5.77, 9.81, 5.32, 6.6, 0.24, 0.45, 1.51, 8.8, 12.43, 8.69, 11.65, 8.11, 2.08, 2.32, 0.78, 10.23, 8.0, 10.4, 3.03, 0.07, 16.35, 11.27, 4.72, 0.68, 6.57, 7.14, 8.32, 5.9, 0.11, 14.63, 3.9, 7.06, 4.18, 1.34, 3.07, 1.17, 7.82, 2.13, 10.39, 9.0, 10.16, 10.51, 10.28, 6.98, 2.52, 5.42, 15.17, 1.33, 8.15, 1.38, 7.84, 7.83, 3.79, 4.0, 5.47, 6.75, 4.87, 9.19, 11.32, 10.32, 1.88, 11.17, 1.72, 3.44, 3.11, 0.85, 3.21, 0.73, 1.76]\n"
          ]
        }
      ]
    },
    {
      "cell_type": "code",
      "source": [
        "df = pd.DataFrame(AREA,columns =['brain_AREAt_in_cm^3'])\n",
        "\n",
        "df"
      ],
      "metadata": {
        "colab": {
          "base_uri": "https://localhost:8080/",
          "height": 423
        },
        "id": "IgQsNJrp6nZd",
        "outputId": "2369cde1-c0ab-4dbd-da83-cc2cabfe19e1"
      },
      "id": "IgQsNJrp6nZd",
      "execution_count": null,
      "outputs": [
        {
          "output_type": "execute_result",
          "data": {
            "text/plain": [
              "     brain_volume_in_cm^3\n",
              "0                1432.027\n",
              "1                1302.093\n",
              "2                1716.062\n",
              "3                1390.174\n",
              "4                1393.310\n",
              "..                    ...\n",
              "495              1560.843\n",
              "496              1829.418\n",
              "497              1347.270\n",
              "498              1603.776\n",
              "499              1402.652\n",
              "\n",
              "[500 rows x 1 columns]"
            ],
            "text/html": [
              "\n",
              "  <div id=\"df-d9309934-bb58-4d56-8fa8-c45b4fb98edb\" class=\"colab-df-container\">\n",
              "    <div>\n",
              "<style scoped>\n",
              "    .dataframe tbody tr th:only-of-type {\n",
              "        vertical-align: middle;\n",
              "    }\n",
              "\n",
              "    .dataframe tbody tr th {\n",
              "        vertical-align: top;\n",
              "    }\n",
              "\n",
              "    .dataframe thead th {\n",
              "        text-align: right;\n",
              "    }\n",
              "</style>\n",
              "<table border=\"1\" class=\"dataframe\">\n",
              "  <thead>\n",
              "    <tr style=\"text-align: right;\">\n",
              "      <th></th>\n",
              "      <th>brain_volume_in_cm^3</th>\n",
              "    </tr>\n",
              "  </thead>\n",
              "  <tbody>\n",
              "    <tr>\n",
              "      <th>0</th>\n",
              "      <td>1432.027</td>\n",
              "    </tr>\n",
              "    <tr>\n",
              "      <th>1</th>\n",
              "      <td>1302.093</td>\n",
              "    </tr>\n",
              "    <tr>\n",
              "      <th>2</th>\n",
              "      <td>1716.062</td>\n",
              "    </tr>\n",
              "    <tr>\n",
              "      <th>3</th>\n",
              "      <td>1390.174</td>\n",
              "    </tr>\n",
              "    <tr>\n",
              "      <th>4</th>\n",
              "      <td>1393.310</td>\n",
              "    </tr>\n",
              "    <tr>\n",
              "      <th>...</th>\n",
              "      <td>...</td>\n",
              "    </tr>\n",
              "    <tr>\n",
              "      <th>495</th>\n",
              "      <td>1560.843</td>\n",
              "    </tr>\n",
              "    <tr>\n",
              "      <th>496</th>\n",
              "      <td>1829.418</td>\n",
              "    </tr>\n",
              "    <tr>\n",
              "      <th>497</th>\n",
              "      <td>1347.270</td>\n",
              "    </tr>\n",
              "    <tr>\n",
              "      <th>498</th>\n",
              "      <td>1603.776</td>\n",
              "    </tr>\n",
              "    <tr>\n",
              "      <th>499</th>\n",
              "      <td>1402.652</td>\n",
              "    </tr>\n",
              "  </tbody>\n",
              "</table>\n",
              "<p>500 rows × 1 columns</p>\n",
              "</div>\n",
              "    <div class=\"colab-df-buttons\">\n",
              "\n",
              "  <div class=\"colab-df-container\">\n",
              "    <button class=\"colab-df-convert\" onclick=\"convertToInteractive('df-d9309934-bb58-4d56-8fa8-c45b4fb98edb')\"\n",
              "            title=\"Convert this dataframe to an interactive table.\"\n",
              "            style=\"display:none;\">\n",
              "\n",
              "  <svg xmlns=\"http://www.w3.org/2000/svg\" height=\"24px\" viewBox=\"0 -960 960 960\">\n",
              "    <path d=\"M120-120v-720h720v720H120Zm60-500h600v-160H180v160Zm220 220h160v-160H400v160Zm0 220h160v-160H400v160ZM180-400h160v-160H180v160Zm440 0h160v-160H620v160ZM180-180h160v-160H180v160Zm440 0h160v-160H620v160Z\"/>\n",
              "  </svg>\n",
              "    </button>\n",
              "\n",
              "  <style>\n",
              "    .colab-df-container {\n",
              "      display:flex;\n",
              "      gap: 12px;\n",
              "    }\n",
              "\n",
              "    .colab-df-convert {\n",
              "      background-color: #E8F0FE;\n",
              "      border: none;\n",
              "      border-radius: 50%;\n",
              "      cursor: pointer;\n",
              "      display: none;\n",
              "      fill: #1967D2;\n",
              "      height: 32px;\n",
              "      padding: 0 0 0 0;\n",
              "      width: 32px;\n",
              "    }\n",
              "\n",
              "    .colab-df-convert:hover {\n",
              "      background-color: #E2EBFA;\n",
              "      box-shadow: 0px 1px 2px rgba(60, 64, 67, 0.3), 0px 1px 3px 1px rgba(60, 64, 67, 0.15);\n",
              "      fill: #174EA6;\n",
              "    }\n",
              "\n",
              "    .colab-df-buttons div {\n",
              "      margin-bottom: 4px;\n",
              "    }\n",
              "\n",
              "    [theme=dark] .colab-df-convert {\n",
              "      background-color: #3B4455;\n",
              "      fill: #D2E3FC;\n",
              "    }\n",
              "\n",
              "    [theme=dark] .colab-df-convert:hover {\n",
              "      background-color: #434B5C;\n",
              "      box-shadow: 0px 1px 3px 1px rgba(0, 0, 0, 0.15);\n",
              "      filter: drop-shadow(0px 1px 2px rgba(0, 0, 0, 0.3));\n",
              "      fill: #FFFFFF;\n",
              "    }\n",
              "  </style>\n",
              "\n",
              "    <script>\n",
              "      const buttonEl =\n",
              "        document.querySelector('#df-d9309934-bb58-4d56-8fa8-c45b4fb98edb button.colab-df-convert');\n",
              "      buttonEl.style.display =\n",
              "        google.colab.kernel.accessAllowed ? 'block' : 'none';\n",
              "\n",
              "      async function convertToInteractive(key) {\n",
              "        const element = document.querySelector('#df-d9309934-bb58-4d56-8fa8-c45b4fb98edb');\n",
              "        const dataTable =\n",
              "          await google.colab.kernel.invokeFunction('convertToInteractive',\n",
              "                                                    [key], {});\n",
              "        if (!dataTable) return;\n",
              "\n",
              "        const docLinkHtml = 'Like what you see? Visit the ' +\n",
              "          '<a target=\"_blank\" href=https://colab.research.google.com/notebooks/data_table.ipynb>data table notebook</a>'\n",
              "          + ' to learn more about interactive tables.';\n",
              "        element.innerHTML = '';\n",
              "        dataTable['output_type'] = 'display_data';\n",
              "        await google.colab.output.renderOutput(dataTable, element);\n",
              "        const docLink = document.createElement('div');\n",
              "        docLink.innerHTML = docLinkHtml;\n",
              "        element.appendChild(docLink);\n",
              "      }\n",
              "    </script>\n",
              "  </div>\n",
              "\n",
              "\n",
              "<div id=\"df-31e912bb-800e-4d2f-ac67-ed1ae65bdab9\">\n",
              "  <button class=\"colab-df-quickchart\" onclick=\"quickchart('df-31e912bb-800e-4d2f-ac67-ed1ae65bdab9')\"\n",
              "            title=\"Suggest charts.\"\n",
              "            style=\"display:none;\">\n",
              "\n",
              "<svg xmlns=\"http://www.w3.org/2000/svg\" height=\"24px\"viewBox=\"0 0 24 24\"\n",
              "     width=\"24px\">\n",
              "    <g>\n",
              "        <path d=\"M19 3H5c-1.1 0-2 .9-2 2v14c0 1.1.9 2 2 2h14c1.1 0 2-.9 2-2V5c0-1.1-.9-2-2-2zM9 17H7v-7h2v7zm4 0h-2V7h2v10zm4 0h-2v-4h2v4z\"/>\n",
              "    </g>\n",
              "</svg>\n",
              "  </button>\n",
              "\n",
              "<style>\n",
              "  .colab-df-quickchart {\n",
              "      --bg-color: #E8F0FE;\n",
              "      --fill-color: #1967D2;\n",
              "      --hover-bg-color: #E2EBFA;\n",
              "      --hover-fill-color: #174EA6;\n",
              "      --disabled-fill-color: #AAA;\n",
              "      --disabled-bg-color: #DDD;\n",
              "  }\n",
              "\n",
              "  [theme=dark] .colab-df-quickchart {\n",
              "      --bg-color: #3B4455;\n",
              "      --fill-color: #D2E3FC;\n",
              "      --hover-bg-color: #434B5C;\n",
              "      --hover-fill-color: #FFFFFF;\n",
              "      --disabled-bg-color: #3B4455;\n",
              "      --disabled-fill-color: #666;\n",
              "  }\n",
              "\n",
              "  .colab-df-quickchart {\n",
              "    background-color: var(--bg-color);\n",
              "    border: none;\n",
              "    border-radius: 50%;\n",
              "    cursor: pointer;\n",
              "    display: none;\n",
              "    fill: var(--fill-color);\n",
              "    height: 32px;\n",
              "    padding: 0;\n",
              "    width: 32px;\n",
              "  }\n",
              "\n",
              "  .colab-df-quickchart:hover {\n",
              "    background-color: var(--hover-bg-color);\n",
              "    box-shadow: 0 1px 2px rgba(60, 64, 67, 0.3), 0 1px 3px 1px rgba(60, 64, 67, 0.15);\n",
              "    fill: var(--button-hover-fill-color);\n",
              "  }\n",
              "\n",
              "  .colab-df-quickchart-complete:disabled,\n",
              "  .colab-df-quickchart-complete:disabled:hover {\n",
              "    background-color: var(--disabled-bg-color);\n",
              "    fill: var(--disabled-fill-color);\n",
              "    box-shadow: none;\n",
              "  }\n",
              "\n",
              "  .colab-df-spinner {\n",
              "    border: 2px solid var(--fill-color);\n",
              "    border-color: transparent;\n",
              "    border-bottom-color: var(--fill-color);\n",
              "    animation:\n",
              "      spin 1s steps(1) infinite;\n",
              "  }\n",
              "\n",
              "  @keyframes spin {\n",
              "    0% {\n",
              "      border-color: transparent;\n",
              "      border-bottom-color: var(--fill-color);\n",
              "      border-left-color: var(--fill-color);\n",
              "    }\n",
              "    20% {\n",
              "      border-color: transparent;\n",
              "      border-left-color: var(--fill-color);\n",
              "      border-top-color: var(--fill-color);\n",
              "    }\n",
              "    30% {\n",
              "      border-color: transparent;\n",
              "      border-left-color: var(--fill-color);\n",
              "      border-top-color: var(--fill-color);\n",
              "      border-right-color: var(--fill-color);\n",
              "    }\n",
              "    40% {\n",
              "      border-color: transparent;\n",
              "      border-right-color: var(--fill-color);\n",
              "      border-top-color: var(--fill-color);\n",
              "    }\n",
              "    60% {\n",
              "      border-color: transparent;\n",
              "      border-right-color: var(--fill-color);\n",
              "    }\n",
              "    80% {\n",
              "      border-color: transparent;\n",
              "      border-right-color: var(--fill-color);\n",
              "      border-bottom-color: var(--fill-color);\n",
              "    }\n",
              "    90% {\n",
              "      border-color: transparent;\n",
              "      border-bottom-color: var(--fill-color);\n",
              "    }\n",
              "  }\n",
              "</style>\n",
              "\n",
              "  <script>\n",
              "    async function quickchart(key) {\n",
              "      const quickchartButtonEl =\n",
              "        document.querySelector('#' + key + ' button');\n",
              "      quickchartButtonEl.disabled = true;  // To prevent multiple clicks.\n",
              "      quickchartButtonEl.classList.add('colab-df-spinner');\n",
              "      try {\n",
              "        const charts = await google.colab.kernel.invokeFunction(\n",
              "            'suggestCharts', [key], {});\n",
              "      } catch (error) {\n",
              "        console.error('Error during call to suggestCharts:', error);\n",
              "      }\n",
              "      quickchartButtonEl.classList.remove('colab-df-spinner');\n",
              "      quickchartButtonEl.classList.add('colab-df-quickchart-complete');\n",
              "    }\n",
              "    (() => {\n",
              "      let quickchartButtonEl =\n",
              "        document.querySelector('#df-31e912bb-800e-4d2f-ac67-ed1ae65bdab9 button');\n",
              "      quickchartButtonEl.style.display =\n",
              "        google.colab.kernel.accessAllowed ? 'block' : 'none';\n",
              "    })();\n",
              "  </script>\n",
              "</div>\n",
              "    </div>\n",
              "  </div>\n"
            ]
          },
          "metadata": {},
          "execution_count": 56
        }
      ]
    },
    {
      "cell_type": "code",
      "source": [
        "df['brain_tumor_volume_in_cm^3'] = volume_t\n",
        "df['brain_tumor_%'] = percentages\n",
        "\n",
        "df"
      ],
      "metadata": {
        "colab": {
          "base_uri": "https://localhost:8080/",
          "height": 423
        },
        "id": "dVIHyyVs_fwb",
        "outputId": "78c9f33e-ad3d-4bc5-cfe5-dc647aca43dd"
      },
      "id": "dVIHyyVs_fwb",
      "execution_count": null,
      "outputs": [
        {
          "output_type": "execute_result",
          "data": {
            "text/plain": [
              "     brain_volume_in_cm^3  brain_tumor_volume_in_cm^3  brain_tumor_%\n",
              "0                1432.027                      41.919           2.93\n",
              "1                1302.093                      28.419           2.18\n",
              "2                1716.062                     225.535          13.14\n",
              "3                1390.174                     168.611          12.13\n",
              "4                1393.310                     119.424           8.57\n",
              "..                    ...                         ...            ...\n",
              "495              1560.843                      48.477           3.11\n",
              "496              1829.418                      15.585           0.85\n",
              "497              1347.270                      43.251           3.21\n",
              "498              1603.776                      11.785           0.73\n",
              "499              1402.652                      24.678           1.76\n",
              "\n",
              "[500 rows x 3 columns]"
            ],
            "text/html": [
              "\n",
              "  <div id=\"df-03bf6f7b-f882-44a2-8551-8ba6f8a45ed4\" class=\"colab-df-container\">\n",
              "    <div>\n",
              "<style scoped>\n",
              "    .dataframe tbody tr th:only-of-type {\n",
              "        vertical-align: middle;\n",
              "    }\n",
              "\n",
              "    .dataframe tbody tr th {\n",
              "        vertical-align: top;\n",
              "    }\n",
              "\n",
              "    .dataframe thead th {\n",
              "        text-align: right;\n",
              "    }\n",
              "</style>\n",
              "<table border=\"1\" class=\"dataframe\">\n",
              "  <thead>\n",
              "    <tr style=\"text-align: right;\">\n",
              "      <th></th>\n",
              "      <th>brain_volume_in_cm^3</th>\n",
              "      <th>brain_tumor_volume_in_cm^3</th>\n",
              "      <th>brain_tumor_%</th>\n",
              "    </tr>\n",
              "  </thead>\n",
              "  <tbody>\n",
              "    <tr>\n",
              "      <th>0</th>\n",
              "      <td>1432.027</td>\n",
              "      <td>41.919</td>\n",
              "      <td>2.93</td>\n",
              "    </tr>\n",
              "    <tr>\n",
              "      <th>1</th>\n",
              "      <td>1302.093</td>\n",
              "      <td>28.419</td>\n",
              "      <td>2.18</td>\n",
              "    </tr>\n",
              "    <tr>\n",
              "      <th>2</th>\n",
              "      <td>1716.062</td>\n",
              "      <td>225.535</td>\n",
              "      <td>13.14</td>\n",
              "    </tr>\n",
              "    <tr>\n",
              "      <th>3</th>\n",
              "      <td>1390.174</td>\n",
              "      <td>168.611</td>\n",
              "      <td>12.13</td>\n",
              "    </tr>\n",
              "    <tr>\n",
              "      <th>4</th>\n",
              "      <td>1393.310</td>\n",
              "      <td>119.424</td>\n",
              "      <td>8.57</td>\n",
              "    </tr>\n",
              "    <tr>\n",
              "      <th>...</th>\n",
              "      <td>...</td>\n",
              "      <td>...</td>\n",
              "      <td>...</td>\n",
              "    </tr>\n",
              "    <tr>\n",
              "      <th>495</th>\n",
              "      <td>1560.843</td>\n",
              "      <td>48.477</td>\n",
              "      <td>3.11</td>\n",
              "    </tr>\n",
              "    <tr>\n",
              "      <th>496</th>\n",
              "      <td>1829.418</td>\n",
              "      <td>15.585</td>\n",
              "      <td>0.85</td>\n",
              "    </tr>\n",
              "    <tr>\n",
              "      <th>497</th>\n",
              "      <td>1347.270</td>\n",
              "      <td>43.251</td>\n",
              "      <td>3.21</td>\n",
              "    </tr>\n",
              "    <tr>\n",
              "      <th>498</th>\n",
              "      <td>1603.776</td>\n",
              "      <td>11.785</td>\n",
              "      <td>0.73</td>\n",
              "    </tr>\n",
              "    <tr>\n",
              "      <th>499</th>\n",
              "      <td>1402.652</td>\n",
              "      <td>24.678</td>\n",
              "      <td>1.76</td>\n",
              "    </tr>\n",
              "  </tbody>\n",
              "</table>\n",
              "<p>500 rows × 3 columns</p>\n",
              "</div>\n",
              "    <div class=\"colab-df-buttons\">\n",
              "\n",
              "  <div class=\"colab-df-container\">\n",
              "    <button class=\"colab-df-convert\" onclick=\"convertToInteractive('df-03bf6f7b-f882-44a2-8551-8ba6f8a45ed4')\"\n",
              "            title=\"Convert this dataframe to an interactive table.\"\n",
              "            style=\"display:none;\">\n",
              "\n",
              "  <svg xmlns=\"http://www.w3.org/2000/svg\" height=\"24px\" viewBox=\"0 -960 960 960\">\n",
              "    <path d=\"M120-120v-720h720v720H120Zm60-500h600v-160H180v160Zm220 220h160v-160H400v160Zm0 220h160v-160H400v160ZM180-400h160v-160H180v160Zm440 0h160v-160H620v160ZM180-180h160v-160H180v160Zm440 0h160v-160H620v160Z\"/>\n",
              "  </svg>\n",
              "    </button>\n",
              "\n",
              "  <style>\n",
              "    .colab-df-container {\n",
              "      display:flex;\n",
              "      gap: 12px;\n",
              "    }\n",
              "\n",
              "    .colab-df-convert {\n",
              "      background-color: #E8F0FE;\n",
              "      border: none;\n",
              "      border-radius: 50%;\n",
              "      cursor: pointer;\n",
              "      display: none;\n",
              "      fill: #1967D2;\n",
              "      height: 32px;\n",
              "      padding: 0 0 0 0;\n",
              "      width: 32px;\n",
              "    }\n",
              "\n",
              "    .colab-df-convert:hover {\n",
              "      background-color: #E2EBFA;\n",
              "      box-shadow: 0px 1px 2px rgba(60, 64, 67, 0.3), 0px 1px 3px 1px rgba(60, 64, 67, 0.15);\n",
              "      fill: #174EA6;\n",
              "    }\n",
              "\n",
              "    .colab-df-buttons div {\n",
              "      margin-bottom: 4px;\n",
              "    }\n",
              "\n",
              "    [theme=dark] .colab-df-convert {\n",
              "      background-color: #3B4455;\n",
              "      fill: #D2E3FC;\n",
              "    }\n",
              "\n",
              "    [theme=dark] .colab-df-convert:hover {\n",
              "      background-color: #434B5C;\n",
              "      box-shadow: 0px 1px 3px 1px rgba(0, 0, 0, 0.15);\n",
              "      filter: drop-shadow(0px 1px 2px rgba(0, 0, 0, 0.3));\n",
              "      fill: #FFFFFF;\n",
              "    }\n",
              "  </style>\n",
              "\n",
              "    <script>\n",
              "      const buttonEl =\n",
              "        document.querySelector('#df-03bf6f7b-f882-44a2-8551-8ba6f8a45ed4 button.colab-df-convert');\n",
              "      buttonEl.style.display =\n",
              "        google.colab.kernel.accessAllowed ? 'block' : 'none';\n",
              "\n",
              "      async function convertToInteractive(key) {\n",
              "        const element = document.querySelector('#df-03bf6f7b-f882-44a2-8551-8ba6f8a45ed4');\n",
              "        const dataTable =\n",
              "          await google.colab.kernel.invokeFunction('convertToInteractive',\n",
              "                                                    [key], {});\n",
              "        if (!dataTable) return;\n",
              "\n",
              "        const docLinkHtml = 'Like what you see? Visit the ' +\n",
              "          '<a target=\"_blank\" href=https://colab.research.google.com/notebooks/data_table.ipynb>data table notebook</a>'\n",
              "          + ' to learn more about interactive tables.';\n",
              "        element.innerHTML = '';\n",
              "        dataTable['output_type'] = 'display_data';\n",
              "        await google.colab.output.renderOutput(dataTable, element);\n",
              "        const docLink = document.createElement('div');\n",
              "        docLink.innerHTML = docLinkHtml;\n",
              "        element.appendChild(docLink);\n",
              "      }\n",
              "    </script>\n",
              "  </div>\n",
              "\n",
              "\n",
              "<div id=\"df-6a71d7b8-8d44-436b-aa7c-2f9f83d620bf\">\n",
              "  <button class=\"colab-df-quickchart\" onclick=\"quickchart('df-6a71d7b8-8d44-436b-aa7c-2f9f83d620bf')\"\n",
              "            title=\"Suggest charts.\"\n",
              "            style=\"display:none;\">\n",
              "\n",
              "<svg xmlns=\"http://www.w3.org/2000/svg\" height=\"24px\"viewBox=\"0 0 24 24\"\n",
              "     width=\"24px\">\n",
              "    <g>\n",
              "        <path d=\"M19 3H5c-1.1 0-2 .9-2 2v14c0 1.1.9 2 2 2h14c1.1 0 2-.9 2-2V5c0-1.1-.9-2-2-2zM9 17H7v-7h2v7zm4 0h-2V7h2v10zm4 0h-2v-4h2v4z\"/>\n",
              "    </g>\n",
              "</svg>\n",
              "  </button>\n",
              "\n",
              "<style>\n",
              "  .colab-df-quickchart {\n",
              "      --bg-color: #E8F0FE;\n",
              "      --fill-color: #1967D2;\n",
              "      --hover-bg-color: #E2EBFA;\n",
              "      --hover-fill-color: #174EA6;\n",
              "      --disabled-fill-color: #AAA;\n",
              "      --disabled-bg-color: #DDD;\n",
              "  }\n",
              "\n",
              "  [theme=dark] .colab-df-quickchart {\n",
              "      --bg-color: #3B4455;\n",
              "      --fill-color: #D2E3FC;\n",
              "      --hover-bg-color: #434B5C;\n",
              "      --hover-fill-color: #FFFFFF;\n",
              "      --disabled-bg-color: #3B4455;\n",
              "      --disabled-fill-color: #666;\n",
              "  }\n",
              "\n",
              "  .colab-df-quickchart {\n",
              "    background-color: var(--bg-color);\n",
              "    border: none;\n",
              "    border-radius: 50%;\n",
              "    cursor: pointer;\n",
              "    display: none;\n",
              "    fill: var(--fill-color);\n",
              "    height: 32px;\n",
              "    padding: 0;\n",
              "    width: 32px;\n",
              "  }\n",
              "\n",
              "  .colab-df-quickchart:hover {\n",
              "    background-color: var(--hover-bg-color);\n",
              "    box-shadow: 0 1px 2px rgba(60, 64, 67, 0.3), 0 1px 3px 1px rgba(60, 64, 67, 0.15);\n",
              "    fill: var(--button-hover-fill-color);\n",
              "  }\n",
              "\n",
              "  .colab-df-quickchart-complete:disabled,\n",
              "  .colab-df-quickchart-complete:disabled:hover {\n",
              "    background-color: var(--disabled-bg-color);\n",
              "    fill: var(--disabled-fill-color);\n",
              "    box-shadow: none;\n",
              "  }\n",
              "\n",
              "  .colab-df-spinner {\n",
              "    border: 2px solid var(--fill-color);\n",
              "    border-color: transparent;\n",
              "    border-bottom-color: var(--fill-color);\n",
              "    animation:\n",
              "      spin 1s steps(1) infinite;\n",
              "  }\n",
              "\n",
              "  @keyframes spin {\n",
              "    0% {\n",
              "      border-color: transparent;\n",
              "      border-bottom-color: var(--fill-color);\n",
              "      border-left-color: var(--fill-color);\n",
              "    }\n",
              "    20% {\n",
              "      border-color: transparent;\n",
              "      border-left-color: var(--fill-color);\n",
              "      border-top-color: var(--fill-color);\n",
              "    }\n",
              "    30% {\n",
              "      border-color: transparent;\n",
              "      border-left-color: var(--fill-color);\n",
              "      border-top-color: var(--fill-color);\n",
              "      border-right-color: var(--fill-color);\n",
              "    }\n",
              "    40% {\n",
              "      border-color: transparent;\n",
              "      border-right-color: var(--fill-color);\n",
              "      border-top-color: var(--fill-color);\n",
              "    }\n",
              "    60% {\n",
              "      border-color: transparent;\n",
              "      border-right-color: var(--fill-color);\n",
              "    }\n",
              "    80% {\n",
              "      border-color: transparent;\n",
              "      border-right-color: var(--fill-color);\n",
              "      border-bottom-color: var(--fill-color);\n",
              "    }\n",
              "    90% {\n",
              "      border-color: transparent;\n",
              "      border-bottom-color: var(--fill-color);\n",
              "    }\n",
              "  }\n",
              "</style>\n",
              "\n",
              "  <script>\n",
              "    async function quickchart(key) {\n",
              "      const quickchartButtonEl =\n",
              "        document.querySelector('#' + key + ' button');\n",
              "      quickchartButtonEl.disabled = true;  // To prevent multiple clicks.\n",
              "      quickchartButtonEl.classList.add('colab-df-spinner');\n",
              "      try {\n",
              "        const charts = await google.colab.kernel.invokeFunction(\n",
              "            'suggestCharts', [key], {});\n",
              "      } catch (error) {\n",
              "        console.error('Error during call to suggestCharts:', error);\n",
              "      }\n",
              "      quickchartButtonEl.classList.remove('colab-df-spinner');\n",
              "      quickchartButtonEl.classList.add('colab-df-quickchart-complete');\n",
              "    }\n",
              "    (() => {\n",
              "      let quickchartButtonEl =\n",
              "        document.querySelector('#df-6a71d7b8-8d44-436b-aa7c-2f9f83d620bf button');\n",
              "      quickchartButtonEl.style.display =\n",
              "        google.colab.kernel.accessAllowed ? 'block' : 'none';\n",
              "    })();\n",
              "  </script>\n",
              "</div>\n",
              "    </div>\n",
              "  </div>\n"
            ]
          },
          "metadata": {},
          "execution_count": 57
        }
      ]
    },
    {
      "cell_type": "code",
      "source": [
        "df.to_csv('UCSF-PDGM-v3_vol_of_brain_tumor.csv')"
      ],
      "metadata": {
        "id": "23DAkX2W_ox8"
      },
      "id": "23DAkX2W_ox8",
      "execution_count": null,
      "outputs": []
    }
  ],
  "metadata": {
    "kernelspec": {
      "display_name": "Python 3 (ipykernel)",
      "language": "python",
      "name": "python3"
    },
    "language_info": {
      "codemirror_mode": {
        "name": "ipython",
        "version": 3
      },
      "file_extension": ".py",
      "mimetype": "text/x-python",
      "name": "python",
      "nbconvert_exporter": "python",
      "pygments_lexer": "ipython3",
      "version": "3.9.13"
    },
    "colab": {
      "provenance": [],
      "machine_shape": "hm",
      "include_colab_link": true
    }
  },
  "nbformat": 4,
  "nbformat_minor": 5
}