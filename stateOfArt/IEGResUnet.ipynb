{
  "cells": [
    {
      "cell_type": "markdown",
      "metadata": {
        "id": "view-in-github",
        "colab_type": "text"
      },
      "source": [
        "<a href=\"https://colab.research.google.com/github/ranadeepbhuyan/cancer-mri-analysis/blob/main/stateOfArt/IEGResUnet.ipynb\" target=\"_parent\"><img src=\"https://colab.research.google.com/assets/colab-badge.svg\" alt=\"Open In Colab\"/></a>"
      ]
    },
    {
      "cell_type": "code",
      "execution_count": null,
      "metadata": {
        "id": "RA4gwxjLveU6"
      },
      "outputs": [],
      "source": [
        "import numpy as np\n",
        "import pandas as pd\n",
        "import matplotlib.pyplot as plt\n",
        "import cv2\n",
        "import nibabel as nib\n",
        "import os\n",
        "import nibabel as nib"
      ]
    },
    {
      "cell_type": "code",
      "execution_count": null,
      "metadata": {
        "id": "PI1vCL3yJS3H"
      },
      "outputs": [],
      "source": [
        "import keras\n",
        "import keras.backend as K\n",
        "from keras.callbacks import CSVLogger\n",
        "import tensorflow as tf\n",
        "from sklearn.model_selection import train_test_split\n",
        "from sklearn.metrics import classification_report\n",
        "from tensorflow.keras.models import *\n",
        "from tensorflow.keras.layers import *\n",
        "from tensorflow.keras.optimizers import *\n",
        "from tensorflow.keras.callbacks import ModelCheckpoint, ReduceLROnPlateau, EarlyStopping, TensorBoard\n"
      ]
    },
    {
      "cell_type": "code",
      "execution_count": null,
      "metadata": {
        "colab": {
          "base_uri": "https://localhost:8080/"
        },
        "id": "FvK0_TwpwUEY",
        "outputId": "035e4245-a226-4154-bc88-a1681855b5ad"
      },
      "outputs": [
        {
          "output_type": "stream",
          "name": "stdout",
          "text": [
            "Drive already mounted at /content/drive; to attempt to forcibly remount, call drive.mount(\"/content/drive\", force_remount=True).\n"
          ]
        }
      ],
      "source": [
        "from google.colab import drive\n",
        "drive.mount('/content/drive')"
      ]
    },
    {
      "cell_type": "code",
      "execution_count": null,
      "metadata": {
        "id": "9QwOzid0wWOQ"
      },
      "outputs": [],
      "source": [
        "Data_path = r\"/content/drive/MyDrive/PKG - UPENN-GBM NIfTI files/NIfTI-files/images_structural\" +\"/\""
      ]
    },
    {
      "cell_type": "code",
      "execution_count": null,
      "metadata": {
        "id": "yZZqgu418aol"
      },
      "outputs": [],
      "source": [
        "Mask_path = r\"/content/drive/MyDrive/PKG - UPENN-GBM NIfTI files/NIfTI-files/automated_segm\" +\"/\""
      ]
    },
    {
      "cell_type": "code",
      "execution_count": null,
      "metadata": {
        "id": "UV9IsC0G79v-"
      },
      "outputs": [],
      "source": [
        "#fatching ids form data path\n",
        "def pathListIntoIds(dirList):\n",
        "    x = []\n",
        "    for i in range(0,len(dirList)):\n",
        "        x.append(dirList[i][dirList[i].rfind('/')+1:])\n",
        "    return x\n",
        "\n",
        "\n",
        "train_data_ids = [f.path for f in os.scandir(Data_path)]\n",
        "\n",
        "training_data_ids = pathListIntoIds(train_data_ids);"
      ]
    },
    {
      "cell_type": "code",
      "execution_count": null,
      "metadata": {
        "id": "EGgZNTt48TxH"
      },
      "outputs": [],
      "source": [
        "mask_data_ids = [f.path for f in os.scandir(Mask_path)]\n",
        "\n",
        "mask_ids = pathListIntoIds(mask_data_ids);"
      ]
    },
    {
      "cell_type": "code",
      "execution_count": null,
      "metadata": {
        "id": "ml_0YMQy9iiz"
      },
      "outputs": [],
      "source": [
        "mask_ids.sort()\n",
        "training_data_ids.sort()"
      ]
    },
    {
      "cell_type": "code",
      "execution_count": null,
      "metadata": {
        "id": "KtApKnT2_C4C"
      },
      "outputs": [],
      "source": [
        "ids = []\n",
        "for i in range(len(mask_ids)):\n",
        "  test = mask_ids[i].split('_automated_approx_segm.nii')[0]\n",
        "  ids.append(test)\n"
      ]
    },
    {
      "cell_type": "code",
      "execution_count": null,
      "metadata": {
        "id": "nkL9cJxyLRFi"
      },
      "outputs": [],
      "source": [
        "data_ids = []\n",
        "for i in range(len(ids)):\n",
        "  if ids[i] in training_data_ids:\n",
        "    data_ids.append(ids[i])"
      ]
    },
    {
      "cell_type": "code",
      "execution_count": null,
      "metadata": {
        "colab": {
          "base_uri": "https://localhost:8080/"
        },
        "id": "n_c3C9mwLUTE",
        "outputId": "832b76fd-3b74-4317-d651-511a65becbe4"
      },
      "outputs": [
        {
          "output_type": "execute_result",
          "data": {
            "text/plain": [
              "611"
            ]
          },
          "metadata": {},
          "execution_count": 11
        }
      ],
      "source": [
        "len(data_ids)"
      ]
    },
    {
      "cell_type": "code",
      "execution_count": null,
      "metadata": {
        "id": "IOUUWSutSgI6"
      },
      "outputs": [],
      "source": [
        "only = []\n",
        "for i in range(0,10):\n",
        "  only.append(data_ids[i])"
      ]
    },
    {
      "cell_type": "code",
      "execution_count": null,
      "metadata": {
        "id": "XZXoEzrWYTWf"
      },
      "outputs": [],
      "source": [
        "train_test_ids, val_ids = train_test_split(only,test_size=0.2)\n",
        "train_ids, test_ids = train_test_split(train_test_ids,test_size=0.15)"
      ]
    },
    {
      "cell_type": "code",
      "execution_count": null,
      "metadata": {
        "id": "KZD_RPo1O5nw"
      },
      "outputs": [],
      "source": [
        "VOLUME_SLICES = 24\n",
        "IMG_SIZE = 128\n",
        "required_shape = (IMG_SIZE,IMG_SIZE,IMG_SIZE)"
      ]
    },
    {
      "cell_type": "code",
      "execution_count": null,
      "metadata": {
        "id": "7p8ayJ4pQ5tz"
      },
      "outputs": [],
      "source": [
        "def add_padding(img_data, required_shape):\n",
        "    # Ensure the dimensions of required_shape are (height, width, channels)\n",
        "    required_height, required_width, required_length = required_shape\n",
        "\n",
        "    # Calculate the amount of padding required on each side\n",
        "    pad_x = required_height - img_data.shape[0]\n",
        "    pad_y = required_width - img_data.shape[1]\n",
        "    pad_z = required_length - img_data.shape[2]\n",
        "    # Check if padding is needed\n",
        "    if pad_x > 0 or pad_y > 0 or pad_z>0 :\n",
        "        # Calculate the padding values for the top, bottom, left, and right sides\n",
        "        pad_top = max(pad_x // 2, 0)\n",
        "        pad_bottom = pad_x - pad_top\n",
        "        pad_left = max(pad_y // 2, 0)\n",
        "        pad_right = pad_y - pad_left\n",
        "        pad_up = max(pad_z // 2, 0)\n",
        "        pad_down = pad_z - pad_up\n",
        "\n",
        "        # Create an empty array with the required shape\n",
        "        padded_data = np.zeros((required_height, required_width, required_length), dtype=img_data.dtype)\n",
        "\n",
        "        # Copy the original image data into the center of the padded array\n",
        "        padded_data[pad_top:pad_top+img_data.shape[0], pad_left:pad_left+img_data.shape[1],pad_up:pad_up+img_data.shape[2]] = img_data\n",
        "    else:\n",
        "        # No padding needed; return the original image\n",
        "        padded_data = img_data\n",
        "\n",
        "    return padded_data\n"
      ]
    },
    {
      "cell_type": "code",
      "execution_count": null,
      "metadata": {
        "id": "0A2bwzw2IiGn"
      },
      "outputs": [],
      "source": [
        "class DataGenerator(tf.keras.utils.Sequence):\n",
        "    'Generates data for Keras'\n",
        "    def __init__(self, list_IDs, dim=(IMG_SIZE,IMG_SIZE,IMG_SIZE), batch_size = 1, n_channels = 3, shuffle=True):\n",
        "        'Initialization'\n",
        "        self.dim = dim\n",
        "        self.batch_size = batch_size\n",
        "        self.list_IDs = list_IDs\n",
        "        self.n_channels = n_channels\n",
        "        self.shuffle = shuffle\n",
        "        self.on_epoch_end()\n",
        "\n",
        "    def __len__(self):\n",
        "        'Denotes the number of batches per epoch'\n",
        "        return int(np.floor(len(self.list_IDs) / self.batch_size))\n",
        "\n",
        "    def __getitem__(self, index):\n",
        "        'Generate one batch of data'\n",
        "        # Generate indexes of the batch\n",
        "        indexes = self.indexes[index*self.batch_size:(index+1)*self.batch_size]\n",
        "        # Find list of IDs\n",
        "        Batch_ids = [self.list_IDs[k] for k in indexes]\n",
        "\n",
        "        # Generate data\n",
        "        X, y = self.__data_generation(Batch_ids)\n",
        "\n",
        "        return X, y\n",
        "\n",
        "    def on_epoch_end(self):\n",
        "        'Updates indexes after each epoch'\n",
        "        self.indexes = np.arange(len(self.list_IDs))\n",
        "        if self.shuffle == True:\n",
        "            np.random.shuffle(self.indexes)\n",
        "\n",
        "    def __data_generation(self, Batch_ids):\n",
        "        'Generates data containing batch_size samples' # X : (n_samples, *dim, n_channels)\n",
        "        # Initialization\n",
        "        X = np.zeros((self.batch_size*VOLUME_SLICES, *self.dim, self.n_channels))\n",
        "        Y = np.zeros((self.batch_size*VOLUME_SLICES, *self.dim))\n",
        "              # Generate data\n",
        "        for c, i in enumerate(Batch_ids):\n",
        "            data_path1 = os.path.join(Data_path, f'{i}/{i}_FLAIR.nii');\n",
        "            flair_data = nib.load(data_path1).get_fdata()\n",
        "            flair = add_padding(flair_data, required_shape)\n",
        "\n",
        "            data_path1 = os.path.join(Data_path, f'{i}/{i}_T1GD.nii');\n",
        "            t1gd_data = nib.load(data_path1).get_fdata()\n",
        "            t1gd = add_padding(t1gd_data, required_shape)\n",
        "\n",
        "            data_path1 =  os.path.join(Data_path, f'{i}/{i}_T2.nii');\n",
        "            t2_data = nib.load(data_path1).get_fdata()\n",
        "            t2 = add_padding(t2_data, required_shape)\n",
        "\n",
        "            data_path1 = os.path.join(Mask_path, f'{i}_automated_approx_segm.nii');\n",
        "            seg_data = nib.load(data_path1).get_fdata()\n",
        "            seg = add_padding(seg_data, required_shape)\n",
        "\n",
        "            slice_w = 25\n",
        "\n",
        "            for j in range(VOLUME_SLICES):\n",
        "                X[j +VOLUME_SLICES*c,:,:,:,0] = cv2.resize(flair[:,:,flair.shape[0]//4 +j*4], (IMG_SIZE, IMG_SIZE));\n",
        "                X[j +VOLUME_SLICES*c,:,:,:,1] = cv2.resize(t1gd[:,:,t1gd.shape[0]//4 +j*4], (IMG_SIZE, IMG_SIZE));\n",
        "                X[j +VOLUME_SLICES*c,:,:,:,2] = cv2.resize(t2[:,:,t2.shape[0]//4 +j*4], (IMG_SIZE, IMG_SIZE));\n",
        "\n",
        "                Y[j +VOLUME_SLICES*c,:,:,:] = cv2.resize(seg[:,:,seg.shape[0]//4 +j*4], (IMG_SIZE, IMG_SIZE));\n",
        "\n",
        "\n",
        "        Y[Y==4] = 3;\n",
        "        mask = tf.one_hot(Y, 4);\n",
        "\n",
        "        return X/np.max(X), mask"
      ]
    },
    {
      "cell_type": "code",
      "execution_count": null,
      "metadata": {
        "id": "oNM1m_M3Pjov"
      },
      "outputs": [],
      "source": [
        "training_generator = DataGenerator(train_ids)\n",
        "valid_generator = DataGenerator(val_ids)\n",
        "test_generator = DataGenerator(test_ids)"
      ]
    },
    {
      "cell_type": "code",
      "source": [
        "def IEG(input, nfilters):\n",
        "  conv1 = Conv3D(filters=nfilters, kernel_size=(3, 3, 3),dilation_rate=(3, 3, 3), padding='same', kernel_initializer='he_normal')(input)\n",
        "  conv1 = BatchNormalization()(conv1)\n",
        "  conv2 = Conv3D(filters=nfilters, kernel_size=(3, 3, 3),dilation_rate=(3, 3, 3), padding='same', kernel_initializer='he_normal')(conv1)\n",
        "\n",
        "  conv3 = Conv3D(filters=nfilters, kernel_size=(3, 3, 3),dilation_rate=(3, 3, 3), padding='same', kernel_initializer='he_normal')(input)\n",
        "  conv3 = BatchNormalization()(conv3)\n",
        "\n",
        "  add_conv = Add()([conv2, conv3])\n",
        "\n",
        "  return add_conv"
      ],
      "metadata": {
        "id": "UM35INk15gZV"
      },
      "execution_count": null,
      "outputs": []
    },
    {
      "cell_type": "code",
      "source": [
        "def residual_block(input, nfilters, f):\n",
        "  conv1 = Conv3D(filters=nfilters, kernel_size=(3, 3, 3),dilation_rate=(f, f, f), activation = LeakyReLU(alpha=0.01),padding='same', kernel_initializer='he_normal')(input)\n",
        "  conv1 = BatchNormalization()(conv1)\n",
        "  conv2 = Conv3D(filters=nfilters, kernel_size=(3, 3, 3),dilation_rate=(f, f, f), activation = LeakyReLU(alpha=0.01), padding='same', kernel_initializer='he_normal')(conv1)\n",
        "  conv2 = BatchNormalization()(conv2)\n",
        "\n",
        "  conv3 = Conv3D(filters=nfilters, kernel_size=(1, 1, 1),dilation_rate=(f, f, f),activation = LeakyReLU(alpha=0.01), padding='same', kernel_initializer='he_normal')(input)\n",
        "  conv3 = BatchNormalization()(conv3)\n",
        "\n",
        "  y = Add()([conv2, conv3])\n",
        "  return y"
      ],
      "metadata": {
        "id": "e3DqkFWR5msO"
      },
      "execution_count": null,
      "outputs": []
    },
    {
      "cell_type": "code",
      "source": [
        "def IEGResUnet(img_height, img_width, img_length, nclasses=None):\n",
        "\n",
        "    def encoder_block(input_tensor, nfilters, dilation_rate):\n",
        "\n",
        "      x = residual_block(input_tensor, nfilters, dilation_rate)\n",
        "      x = BatchNormalization()(x)\n",
        "      x = MaxPooling3D(pool_size=(2, 2, 2))(x)\n",
        "      return x\n",
        "\n",
        "    def decoder_block(input_tensor, nfilters):\n",
        "\n",
        "      x = Conv3DTranspose(filters=nfilters, kernel_size=(3, 3, 3), strides=(2, 2, 2), padding='same', kernel_initializer='he_normal')(input_tensor)\n",
        "      x = Activation('relu')(x)\n",
        "      return x\n",
        "\n",
        "    # f is number of filters\n",
        "    filters = 4\n",
        "    #input\n",
        "    input_layer = Input(shape=(img_height, img_width, img_length, 3))\n",
        "\n",
        "    # 1st encoder\n",
        "    encoder_1 = encoder_block(input_layer, filters, 1)\n",
        "    print(encoder_1.shape)\n",
        "    # 2nd encoder\n",
        "    encoder_2 = encoder_block(encoder_1, filters*2, 2)\n",
        "    print(encoder_2.shape)\n",
        "\n",
        "    # 3rd encoder\n",
        "    encoder_3 = encoder_block(encoder_2, filters*4, 3)\n",
        "    print(encoder_3.shape)\n",
        "\n",
        "    # 4th encoder\n",
        "    encoder_4 = encoder_block(encoder_3, filters*8, 4)\n",
        "    print(encoder_4.shape)\n",
        "\n",
        "    #bottom layer\n",
        "    bottom_layer_1 = Conv3D(filters=filters*16, kernel_size=(3, 3, 3), activation = 'relu', padding='same', kernel_initializer='he_normal')(encoder_4)\n",
        "    bottom_layer_1 = BatchNormalization()(bottom_layer_1)\n",
        "    bottom_layer_1 = MaxPooling3D(pool_size=(2, 2, 2))(bottom_layer_1)\n",
        "    bottom_layer_2 = Conv3D(filters=filters*16, kernel_size=(3, 3, 3), activation = 'relu', padding='same', kernel_initializer='he_normal')(bottom_layer_1)\n",
        "    print(bottom_layer_2.shape)\n",
        "\n",
        "    #4th decode\n",
        "    upsampling_4 = decoder_block(bottom_layer_2, filters*8)\n",
        "    decoder_add1_4 = Add()([encoder_4, upsampling_4])\n",
        "    decoder_IEG_4 = IEG(decoder_add1_4, filters*8)\n",
        "    decoder_add2_4 = Add()([upsampling_4, decoder_IEG_4])\n",
        "    decoder_4 = residual_block(decoder_add2_4, filters*8, 4)\n",
        "    print(bottom_layer_2.shape)\n",
        "\n",
        "    #3rd decode\n",
        "    upsampling_3 = decoder_block(decoder_4, filters*4)\n",
        "    upsampling_IEG_3 = decoder_block(decoder_IEG_4, filters*4)\n",
        "    decoder_add1_3 = Add()([encoder_3, upsampling_IEG_3])\n",
        "    decoder_IEG_3 = IEG(decoder_add1_3, filters*4)\n",
        "    decoder_add2_3 = Add()([upsampling_3, decoder_IEG_3])\n",
        "    decoder_3 = residual_block(decoder_add2_3, filters*4, 3)\n",
        "    print(decoder_3.shape)\n",
        "\n",
        "\n",
        "    #2nd decode\n",
        "    upsampling_2 = decoder_block(decoder_3, filters*2)\n",
        "    upsampling_IEG_2 = decoder_block(decoder_IEG_3,filters*2)\n",
        "    decoder_add1_2 = Add()([encoder_2, upsampling_IEG_2])\n",
        "    decoder_IEG_2 = IEG(decoder_add1_2, filters*2)\n",
        "    decoder_add2_2 = Add()([upsampling_2, decoder_IEG_2])\n",
        "    decoder_2 = residual_block(decoder_add2_2, filters*2, 2)\n",
        "    print(decoder_2.shape)\n",
        "\n",
        "\n",
        "    #1st decode\n",
        "    upsampling_1 = decoder_block(decoder_2,filters)\n",
        "    upsampling_IEG_1 = decoder_block(decoder_IEG_2, filters)\n",
        "    decoder_add1_1 = Add()([encoder_1, upsampling_IEG_1])\n",
        "    decoder_IEG_1 = IEG(decoder_add1_1, filters)\n",
        "    decoder_add2_1 = Add()([upsampling_1, decoder_IEG_1])\n",
        "    decoder_1 = residual_block(decoder_add2_1, filters, 1)\n",
        "    print(decoder_1.shape)\n",
        "\n",
        "\n",
        "    #final layer\n",
        "    final_upsampling = decoder_block(decoder_1,filters)\n",
        "    final_output = Conv3DTranspose(filters=nclasses, kernel_size=(1, 1, 1), padding='same', kernel_initializer='he_normal')(final_upsampling)\n",
        "    output_layer = Activation('softmax')(final_output)\n",
        "    print(output_layer.shape)\n",
        "\n",
        "    model = Model(inputs=input_layer, outputs=output_layer, name='IEGResUnet')\n",
        "    return model"
      ],
      "metadata": {
        "id": "B4Mbu8xUEr3i"
      },
      "execution_count": null,
      "outputs": []
    },
    {
      "cell_type": "code",
      "execution_count": null,
      "metadata": {
        "id": "79jIl-7FMIhZ"
      },
      "outputs": [],
      "source": [
        "# dice loss as defined above for 4 classes\n",
        "def dice_coef(y_true, y_pred, smooth=1.0):\n",
        "    class_num = 4\n",
        "    for i in range(class_num):\n",
        "        y_true_f = K.flatten(y_true[:,:,:,:,i])\n",
        "        y_pred_f = K.flatten(y_pred[:,:,:,:,i])\n",
        "        intersection = K.sum(y_true_f * y_pred_f)\n",
        "        loss = ((2. * intersection + smooth) / (K.sum(y_true_f) + K.sum(y_pred_f) + smooth))\n",
        "        if i == 0:\n",
        "            total_loss = loss\n",
        "        else:\n",
        "            total_loss = total_loss + loss\n",
        "\n",
        "    total_loss = total_loss / class_num\n",
        "    return total_loss"
      ]
    },
    {
      "cell_type": "code",
      "execution_count": null,
      "metadata": {
        "id": "FsVR6LoStnjy"
      },
      "outputs": [],
      "source": [
        "def mean_iou(y_true, y_pred, smooth=1.0):\n",
        "    class_num = 4\n",
        "    iou_total = 0\n",
        "\n",
        "    for i in range(class_num):\n",
        "        y_true_f = K.flatten(y_true[:,:,:,:,i])\n",
        "        y_pred_f = K.flatten(y_pred[:,:,:,:,i])\n",
        "\n",
        "        intersection = K.sum(K.abs(y_true_f * y_pred_f))\n",
        "        union = K.sum(y_true_f) + K.sum(y_pred_f) - intersection\n",
        "\n",
        "        iou = (intersection + smooth) / (union + smooth)\n",
        "        iou_total += iou\n",
        "\n",
        "    mean_iou = iou_total / class_num\n",
        "    return mean_iou\n"
      ]
    },
    {
      "cell_type": "code",
      "execution_count": null,
      "metadata": {
        "id": "Ctev-YopL49M",
        "colab": {
          "base_uri": "https://localhost:8080/"
        },
        "outputId": "9ba5680a-f5e6-4588-b505-b2af847d6de7"
      },
      "outputs": [
        {
          "output_type": "stream",
          "name": "stdout",
          "text": [
            "(None, 64, 64, 64, 4)\n",
            "(None, 32, 32, 32, 8)\n",
            "(None, 16, 16, 16, 16)\n",
            "(None, 8, 8, 8, 32)\n",
            "(None, 4, 4, 4, 64)\n",
            "(None, 4, 4, 4, 64)\n",
            "(None, 16, 16, 16, 16)\n",
            "(None, 32, 32, 32, 8)\n",
            "(None, 64, 64, 64, 4)\n",
            "(None, 128, 128, 128, 4)\n"
          ]
        }
      ],
      "source": [
        "model = IEGResUnet(IMG_SIZE, IMG_SIZE, IMG_SIZE, nclasses=4)\n",
        "model.compile(loss=\"categorical_crossentropy\", optimizer=tf.keras.optimizers.Adam(learning_rate=0.001), metrics = ['accuracy',mean_iou, dice_coef] )"
      ]
    },
    {
      "cell_type": "code",
      "execution_count": null,
      "metadata": {
        "id": "MokGNTSEMgvs",
        "colab": {
          "base_uri": "https://localhost:8080/"
        },
        "outputId": "da37d77b-1530-4fe6-d0b1-abfe0a098a88"
      },
      "outputs": [
        {
          "output_type": "stream",
          "name": "stdout",
          "text": [
            "Model: \"IEGResUnet\"\n",
            "__________________________________________________________________________________________________\n",
            " Layer (type)                   Output Shape         Param #     Connected to                     \n",
            "==================================================================================================\n",
            " input_3 (InputLayer)           [(None, 128, 128, 1  0           []                               \n",
            "                                28, 3)]                                                           \n",
            "                                                                                                  \n",
            " conv3d_76 (Conv3D)             (None, 128, 128, 12  328         ['input_3[0][0]']                \n",
            "                                8, 4)                                                             \n",
            "                                                                                                  \n",
            " batch_normalization_74 (BatchN  (None, 128, 128, 12  16         ['conv3d_76[0][0]']              \n",
            " ormalization)                  8, 4)                                                             \n",
            "                                                                                                  \n",
            " conv3d_77 (Conv3D)             (None, 128, 128, 12  436         ['batch_normalization_74[0][0]'] \n",
            "                                8, 4)                                                             \n",
            "                                                                                                  \n",
            " conv3d_78 (Conv3D)             (None, 128, 128, 12  16          ['input_3[0][0]']                \n",
            "                                8, 4)                                                             \n",
            "                                                                                                  \n",
            " batch_normalization_75 (BatchN  (None, 128, 128, 12  16         ['conv3d_77[0][0]']              \n",
            " ormalization)                  8, 4)                                                             \n",
            "                                                                                                  \n",
            " batch_normalization_76 (BatchN  (None, 128, 128, 12  16         ['conv3d_78[0][0]']              \n",
            " ormalization)                  8, 4)                                                             \n",
            "                                                                                                  \n",
            " add_40 (Add)                   (None, 128, 128, 12  0           ['batch_normalization_75[0][0]', \n",
            "                                8, 4)                             'batch_normalization_76[0][0]'] \n",
            "                                                                                                  \n",
            " batch_normalization_77 (BatchN  (None, 128, 128, 12  16         ['add_40[0][0]']                 \n",
            " ormalization)                  8, 4)                                                             \n",
            "                                                                                                  \n",
            " max_pooling3d_10 (MaxPooling3D  (None, 64, 64, 64,   0          ['batch_normalization_77[0][0]'] \n",
            " )                              4)                                                                \n",
            "                                                                                                  \n",
            " conv3d_79 (Conv3D)             (None, 64, 64, 64,   872         ['max_pooling3d_10[0][0]']       \n",
            "                                8)                                                                \n",
            "                                                                                                  \n",
            " batch_normalization_78 (BatchN  (None, 64, 64, 64,   32         ['conv3d_79[0][0]']              \n",
            " ormalization)                  8)                                                                \n",
            "                                                                                                  \n",
            " conv3d_80 (Conv3D)             (None, 64, 64, 64,   1736        ['batch_normalization_78[0][0]'] \n",
            "                                8)                                                                \n",
            "                                                                                                  \n",
            " conv3d_81 (Conv3D)             (None, 64, 64, 64,   40          ['max_pooling3d_10[0][0]']       \n",
            "                                8)                                                                \n",
            "                                                                                                  \n",
            " batch_normalization_79 (BatchN  (None, 64, 64, 64,   32         ['conv3d_80[0][0]']              \n",
            " ormalization)                  8)                                                                \n",
            "                                                                                                  \n",
            " batch_normalization_80 (BatchN  (None, 64, 64, 64,   32         ['conv3d_81[0][0]']              \n",
            " ormalization)                  8)                                                                \n",
            "                                                                                                  \n",
            " add_41 (Add)                   (None, 64, 64, 64,   0           ['batch_normalization_79[0][0]', \n",
            "                                8)                                'batch_normalization_80[0][0]'] \n",
            "                                                                                                  \n",
            " batch_normalization_81 (BatchN  (None, 64, 64, 64,   32         ['add_41[0][0]']                 \n",
            " ormalization)                  8)                                                                \n",
            "                                                                                                  \n",
            " max_pooling3d_11 (MaxPooling3D  (None, 32, 32, 32,   0          ['batch_normalization_81[0][0]'] \n",
            " )                              8)                                                                \n",
            "                                                                                                  \n",
            " conv3d_82 (Conv3D)             (None, 32, 32, 32,   3472        ['max_pooling3d_11[0][0]']       \n",
            "                                16)                                                               \n",
            "                                                                                                  \n",
            " batch_normalization_82 (BatchN  (None, 32, 32, 32,   64         ['conv3d_82[0][0]']              \n",
            " ormalization)                  16)                                                               \n",
            "                                                                                                  \n",
            " conv3d_83 (Conv3D)             (None, 32, 32, 32,   6928        ['batch_normalization_82[0][0]'] \n",
            "                                16)                                                               \n",
            "                                                                                                  \n",
            " conv3d_84 (Conv3D)             (None, 32, 32, 32,   144         ['max_pooling3d_11[0][0]']       \n",
            "                                16)                                                               \n",
            "                                                                                                  \n",
            " batch_normalization_83 (BatchN  (None, 32, 32, 32,   64         ['conv3d_83[0][0]']              \n",
            " ormalization)                  16)                                                               \n",
            "                                                                                                  \n",
            " batch_normalization_84 (BatchN  (None, 32, 32, 32,   64         ['conv3d_84[0][0]']              \n",
            " ormalization)                  16)                                                               \n",
            "                                                                                                  \n",
            " add_42 (Add)                   (None, 32, 32, 32,   0           ['batch_normalization_83[0][0]', \n",
            "                                16)                               'batch_normalization_84[0][0]'] \n",
            "                                                                                                  \n",
            " batch_normalization_85 (BatchN  (None, 32, 32, 32,   64         ['add_42[0][0]']                 \n",
            " ormalization)                  16)                                                               \n",
            "                                                                                                  \n",
            " max_pooling3d_12 (MaxPooling3D  (None, 16, 16, 16,   0          ['batch_normalization_85[0][0]'] \n",
            " )                              16)                                                               \n",
            "                                                                                                  \n",
            " conv3d_85 (Conv3D)             (None, 16, 16, 16,   13856       ['max_pooling3d_12[0][0]']       \n",
            "                                32)                                                               \n",
            "                                                                                                  \n",
            " batch_normalization_86 (BatchN  (None, 16, 16, 16,   128        ['conv3d_85[0][0]']              \n",
            " ormalization)                  32)                                                               \n",
            "                                                                                                  \n",
            " conv3d_86 (Conv3D)             (None, 16, 16, 16,   27680       ['batch_normalization_86[0][0]'] \n",
            "                                32)                                                               \n",
            "                                                                                                  \n",
            " conv3d_87 (Conv3D)             (None, 16, 16, 16,   544         ['max_pooling3d_12[0][0]']       \n",
            "                                32)                                                               \n",
            "                                                                                                  \n",
            " batch_normalization_87 (BatchN  (None, 16, 16, 16,   128        ['conv3d_86[0][0]']              \n",
            " ormalization)                  32)                                                               \n",
            "                                                                                                  \n",
            " batch_normalization_88 (BatchN  (None, 16, 16, 16,   128        ['conv3d_87[0][0]']              \n",
            " ormalization)                  32)                                                               \n",
            "                                                                                                  \n",
            " add_43 (Add)                   (None, 16, 16, 16,   0           ['batch_normalization_87[0][0]', \n",
            "                                32)                               'batch_normalization_88[0][0]'] \n",
            "                                                                                                  \n",
            " batch_normalization_89 (BatchN  (None, 16, 16, 16,   128        ['add_43[0][0]']                 \n",
            " ormalization)                  32)                                                               \n",
            "                                                                                                  \n",
            " max_pooling3d_13 (MaxPooling3D  (None, 8, 8, 8, 32)  0          ['batch_normalization_89[0][0]'] \n",
            " )                                                                                                \n",
            "                                                                                                  \n",
            " conv3d_88 (Conv3D)             (None, 8, 8, 8, 64)  55360       ['max_pooling3d_13[0][0]']       \n",
            "                                                                                                  \n",
            " batch_normalization_90 (BatchN  (None, 8, 8, 8, 64)  256        ['conv3d_88[0][0]']              \n",
            " ormalization)                                                                                    \n",
            "                                                                                                  \n",
            " max_pooling3d_14 (MaxPooling3D  (None, 4, 4, 4, 64)  0          ['batch_normalization_90[0][0]'] \n",
            " )                                                                                                \n",
            "                                                                                                  \n",
            " conv3d_89 (Conv3D)             (None, 4, 4, 4, 64)  110656      ['max_pooling3d_14[0][0]']       \n",
            "                                                                                                  \n",
            " conv3d_transpose_18 (Conv3DTra  (None, 8, 8, 8, 32)  55328      ['conv3d_89[0][0]']              \n",
            " nspose)                                                                                          \n",
            "                                                                                                  \n",
            " activation_18 (Activation)     (None, 8, 8, 8, 32)  0           ['conv3d_transpose_18[0][0]']    \n",
            "                                                                                                  \n",
            " add_44 (Add)                   (None, 8, 8, 8, 32)  0           ['max_pooling3d_13[0][0]',       \n",
            "                                                                  'activation_18[0][0]']          \n",
            "                                                                                                  \n",
            " conv3d_90 (Conv3D)             (None, 8, 8, 8, 32)  27680       ['add_44[0][0]']                 \n",
            "                                                                                                  \n",
            " batch_normalization_91 (BatchN  (None, 8, 8, 8, 32)  128        ['conv3d_90[0][0]']              \n",
            " ormalization)                                                                                    \n",
            "                                                                                                  \n",
            " conv3d_92 (Conv3D)             (None, 8, 8, 8, 32)  27680       ['add_44[0][0]']                 \n",
            "                                                                                                  \n",
            " conv3d_91 (Conv3D)             (None, 8, 8, 8, 32)  27680       ['batch_normalization_91[0][0]'] \n",
            "                                                                                                  \n",
            " batch_normalization_92 (BatchN  (None, 8, 8, 8, 32)  128        ['conv3d_92[0][0]']              \n",
            " ormalization)                                                                                    \n",
            "                                                                                                  \n",
            " add_45 (Add)                   (None, 8, 8, 8, 32)  0           ['conv3d_91[0][0]',              \n",
            "                                                                  'batch_normalization_92[0][0]'] \n",
            "                                                                                                  \n",
            " add_46 (Add)                   (None, 8, 8, 8, 32)  0           ['activation_18[0][0]',          \n",
            "                                                                  'add_45[0][0]']                 \n",
            "                                                                                                  \n",
            " conv3d_93 (Conv3D)             (None, 8, 8, 8, 32)  27680       ['add_46[0][0]']                 \n",
            "                                                                                                  \n",
            " conv3d_transpose_20 (Conv3DTra  (None, 16, 16, 16,   13840      ['add_45[0][0]']                 \n",
            " nspose)                        16)                                                               \n",
            "                                                                                                  \n",
            " batch_normalization_93 (BatchN  (None, 8, 8, 8, 32)  128        ['conv3d_93[0][0]']              \n",
            " ormalization)                                                                                    \n",
            "                                                                                                  \n",
            " activation_20 (Activation)     (None, 16, 16, 16,   0           ['conv3d_transpose_20[0][0]']    \n",
            "                                16)                                                               \n",
            "                                                                                                  \n",
            " conv3d_94 (Conv3D)             (None, 8, 8, 8, 32)  27680       ['batch_normalization_93[0][0]'] \n",
            "                                                                                                  \n",
            " conv3d_95 (Conv3D)             (None, 8, 8, 8, 32)  1056        ['add_46[0][0]']                 \n",
            "                                                                                                  \n",
            " add_48 (Add)                   (None, 16, 16, 16,   0           ['max_pooling3d_12[0][0]',       \n",
            "                                16)                               'activation_20[0][0]']          \n",
            "                                                                                                  \n",
            " batch_normalization_94 (BatchN  (None, 8, 8, 8, 32)  128        ['conv3d_94[0][0]']              \n",
            " ormalization)                                                                                    \n",
            "                                                                                                  \n",
            " batch_normalization_95 (BatchN  (None, 8, 8, 8, 32)  128        ['conv3d_95[0][0]']              \n",
            " ormalization)                                                                                    \n",
            "                                                                                                  \n",
            " conv3d_96 (Conv3D)             (None, 16, 16, 16,   6928        ['add_48[0][0]']                 \n",
            "                                16)                                                               \n",
            "                                                                                                  \n",
            " add_47 (Add)                   (None, 8, 8, 8, 32)  0           ['batch_normalization_94[0][0]', \n",
            "                                                                  'batch_normalization_95[0][0]'] \n",
            "                                                                                                  \n",
            " batch_normalization_96 (BatchN  (None, 16, 16, 16,   64         ['conv3d_96[0][0]']              \n",
            " ormalization)                  16)                                                               \n",
            "                                                                                                  \n",
            " conv3d_98 (Conv3D)             (None, 16, 16, 16,   6928        ['add_48[0][0]']                 \n",
            "                                16)                                                               \n",
            "                                                                                                  \n",
            " conv3d_transpose_19 (Conv3DTra  (None, 16, 16, 16,   13840      ['add_47[0][0]']                 \n",
            " nspose)                        16)                                                               \n",
            "                                                                                                  \n",
            " conv3d_97 (Conv3D)             (None, 16, 16, 16,   6928        ['batch_normalization_96[0][0]'] \n",
            "                                16)                                                               \n",
            "                                                                                                  \n",
            " batch_normalization_97 (BatchN  (None, 16, 16, 16,   64         ['conv3d_98[0][0]']              \n",
            " ormalization)                  16)                                                               \n",
            "                                                                                                  \n",
            " activation_19 (Activation)     (None, 16, 16, 16,   0           ['conv3d_transpose_19[0][0]']    \n",
            "                                16)                                                               \n",
            "                                                                                                  \n",
            " add_49 (Add)                   (None, 16, 16, 16,   0           ['conv3d_97[0][0]',              \n",
            "                                16)                               'batch_normalization_97[0][0]'] \n",
            "                                                                                                  \n",
            " add_50 (Add)                   (None, 16, 16, 16,   0           ['activation_19[0][0]',          \n",
            "                                16)                               'add_49[0][0]']                 \n",
            "                                                                                                  \n",
            " conv3d_99 (Conv3D)             (None, 16, 16, 16,   6928        ['add_50[0][0]']                 \n",
            "                                16)                                                               \n",
            "                                                                                                  \n",
            " conv3d_transpose_22 (Conv3DTra  (None, 32, 32, 32,   3464       ['add_49[0][0]']                 \n",
            " nspose)                        8)                                                                \n",
            "                                                                                                  \n",
            " batch_normalization_98 (BatchN  (None, 16, 16, 16,   64         ['conv3d_99[0][0]']              \n",
            " ormalization)                  16)                                                               \n",
            "                                                                                                  \n",
            " activation_22 (Activation)     (None, 32, 32, 32,   0           ['conv3d_transpose_22[0][0]']    \n",
            "                                8)                                                                \n",
            "                                                                                                  \n",
            " conv3d_100 (Conv3D)            (None, 16, 16, 16,   6928        ['batch_normalization_98[0][0]'] \n",
            "                                16)                                                               \n",
            "                                                                                                  \n",
            " conv3d_101 (Conv3D)            (None, 16, 16, 16,   272         ['add_50[0][0]']                 \n",
            "                                16)                                                               \n",
            "                                                                                                  \n",
            " add_52 (Add)                   (None, 32, 32, 32,   0           ['max_pooling3d_11[0][0]',       \n",
            "                                8)                                'activation_22[0][0]']          \n",
            "                                                                                                  \n",
            " batch_normalization_99 (BatchN  (None, 16, 16, 16,   64         ['conv3d_100[0][0]']             \n",
            " ormalization)                  16)                                                               \n",
            "                                                                                                  \n",
            " batch_normalization_100 (Batch  (None, 16, 16, 16,   64         ['conv3d_101[0][0]']             \n",
            " Normalization)                 16)                                                               \n",
            "                                                                                                  \n",
            " conv3d_102 (Conv3D)            (None, 32, 32, 32,   1736        ['add_52[0][0]']                 \n",
            "                                8)                                                                \n",
            "                                                                                                  \n",
            " add_51 (Add)                   (None, 16, 16, 16,   0           ['batch_normalization_99[0][0]', \n",
            "                                16)                               'batch_normalization_100[0][0]']\n",
            "                                                                                                  \n",
            " batch_normalization_101 (Batch  (None, 32, 32, 32,   32         ['conv3d_102[0][0]']             \n",
            " Normalization)                 8)                                                                \n",
            "                                                                                                  \n",
            " conv3d_104 (Conv3D)            (None, 32, 32, 32,   1736        ['add_52[0][0]']                 \n",
            "                                8)                                                                \n",
            "                                                                                                  \n",
            " conv3d_transpose_21 (Conv3DTra  (None, 32, 32, 32,   3464       ['add_51[0][0]']                 \n",
            " nspose)                        8)                                                                \n",
            "                                                                                                  \n",
            " conv3d_103 (Conv3D)            (None, 32, 32, 32,   1736        ['batch_normalization_101[0][0]']\n",
            "                                8)                                                                \n",
            "                                                                                                  \n",
            " batch_normalization_102 (Batch  (None, 32, 32, 32,   32         ['conv3d_104[0][0]']             \n",
            " Normalization)                 8)                                                                \n",
            "                                                                                                  \n",
            " activation_21 (Activation)     (None, 32, 32, 32,   0           ['conv3d_transpose_21[0][0]']    \n",
            "                                8)                                                                \n",
            "                                                                                                  \n",
            " add_53 (Add)                   (None, 32, 32, 32,   0           ['conv3d_103[0][0]',             \n",
            "                                8)                                'batch_normalization_102[0][0]']\n",
            "                                                                                                  \n",
            " add_54 (Add)                   (None, 32, 32, 32,   0           ['activation_21[0][0]',          \n",
            "                                8)                                'add_53[0][0]']                 \n",
            "                                                                                                  \n",
            " conv3d_105 (Conv3D)            (None, 32, 32, 32,   1736        ['add_54[0][0]']                 \n",
            "                                8)                                                                \n",
            "                                                                                                  \n",
            " conv3d_transpose_24 (Conv3DTra  (None, 64, 64, 64,   868        ['add_53[0][0]']                 \n",
            " nspose)                        4)                                                                \n",
            "                                                                                                  \n",
            " batch_normalization_103 (Batch  (None, 32, 32, 32,   32         ['conv3d_105[0][0]']             \n",
            " Normalization)                 8)                                                                \n",
            "                                                                                                  \n",
            " activation_24 (Activation)     (None, 64, 64, 64,   0           ['conv3d_transpose_24[0][0]']    \n",
            "                                4)                                                                \n",
            "                                                                                                  \n",
            " conv3d_106 (Conv3D)            (None, 32, 32, 32,   1736        ['batch_normalization_103[0][0]']\n",
            "                                8)                                                                \n",
            "                                                                                                  \n",
            " conv3d_107 (Conv3D)            (None, 32, 32, 32,   72          ['add_54[0][0]']                 \n",
            "                                8)                                                                \n",
            "                                                                                                  \n",
            " add_56 (Add)                   (None, 64, 64, 64,   0           ['max_pooling3d_10[0][0]',       \n",
            "                                4)                                'activation_24[0][0]']          \n",
            "                                                                                                  \n",
            " batch_normalization_104 (Batch  (None, 32, 32, 32,   32         ['conv3d_106[0][0]']             \n",
            " Normalization)                 8)                                                                \n",
            "                                                                                                  \n",
            " batch_normalization_105 (Batch  (None, 32, 32, 32,   32         ['conv3d_107[0][0]']             \n",
            " Normalization)                 8)                                                                \n",
            "                                                                                                  \n",
            " conv3d_108 (Conv3D)            (None, 64, 64, 64,   436         ['add_56[0][0]']                 \n",
            "                                4)                                                                \n",
            "                                                                                                  \n",
            " add_55 (Add)                   (None, 32, 32, 32,   0           ['batch_normalization_104[0][0]',\n",
            "                                8)                                'batch_normalization_105[0][0]']\n",
            "                                                                                                  \n",
            " batch_normalization_106 (Batch  (None, 64, 64, 64,   16         ['conv3d_108[0][0]']             \n",
            " Normalization)                 4)                                                                \n",
            "                                                                                                  \n",
            " conv3d_110 (Conv3D)            (None, 64, 64, 64,   436         ['add_56[0][0]']                 \n",
            "                                4)                                                                \n",
            "                                                                                                  \n",
            " conv3d_transpose_23 (Conv3DTra  (None, 64, 64, 64,   868        ['add_55[0][0]']                 \n",
            " nspose)                        4)                                                                \n",
            "                                                                                                  \n",
            " conv3d_109 (Conv3D)            (None, 64, 64, 64,   436         ['batch_normalization_106[0][0]']\n",
            "                                4)                                                                \n",
            "                                                                                                  \n",
            " batch_normalization_107 (Batch  (None, 64, 64, 64,   16         ['conv3d_110[0][0]']             \n",
            " Normalization)                 4)                                                                \n",
            "                                                                                                  \n",
            " activation_23 (Activation)     (None, 64, 64, 64,   0           ['conv3d_transpose_23[0][0]']    \n",
            "                                4)                                                                \n",
            "                                                                                                  \n",
            " add_57 (Add)                   (None, 64, 64, 64,   0           ['conv3d_109[0][0]',             \n",
            "                                4)                                'batch_normalization_107[0][0]']\n",
            "                                                                                                  \n",
            " add_58 (Add)                   (None, 64, 64, 64,   0           ['activation_23[0][0]',          \n",
            "                                4)                                'add_57[0][0]']                 \n",
            "                                                                                                  \n",
            " conv3d_111 (Conv3D)            (None, 64, 64, 64,   436         ['add_58[0][0]']                 \n",
            "                                4)                                                                \n",
            "                                                                                                  \n",
            " batch_normalization_108 (Batch  (None, 64, 64, 64,   16         ['conv3d_111[0][0]']             \n",
            " Normalization)                 4)                                                                \n",
            "                                                                                                  \n",
            " conv3d_112 (Conv3D)            (None, 64, 64, 64,   436         ['batch_normalization_108[0][0]']\n",
            "                                4)                                                                \n",
            "                                                                                                  \n",
            " conv3d_113 (Conv3D)            (None, 64, 64, 64,   20          ['add_58[0][0]']                 \n",
            "                                4)                                                                \n",
            "                                                                                                  \n",
            " batch_normalization_109 (Batch  (None, 64, 64, 64,   16         ['conv3d_112[0][0]']             \n",
            " Normalization)                 4)                                                                \n",
            "                                                                                                  \n",
            " batch_normalization_110 (Batch  (None, 64, 64, 64,   16         ['conv3d_113[0][0]']             \n",
            " Normalization)                 4)                                                                \n",
            "                                                                                                  \n",
            " add_59 (Add)                   (None, 64, 64, 64,   0           ['batch_normalization_109[0][0]',\n",
            "                                4)                                'batch_normalization_110[0][0]']\n",
            "                                                                                                  \n",
            " conv3d_transpose_25 (Conv3DTra  (None, 128, 128, 12  436        ['add_59[0][0]']                 \n",
            " nspose)                        8, 4)                                                             \n",
            "                                                                                                  \n",
            " activation_25 (Activation)     (None, 128, 128, 12  0           ['conv3d_transpose_25[0][0]']    \n",
            "                                8, 4)                                                             \n",
            "                                                                                                  \n",
            " conv3d_transpose_26 (Conv3DTra  (None, 128, 128, 12  20         ['activation_25[0][0]']          \n",
            " nspose)                        8, 4)                                                             \n",
            "                                                                                                  \n",
            " activation_26 (Activation)     (None, 128, 128, 12  0           ['conv3d_transpose_26[0][0]']    \n",
            "                                8, 4)                                                             \n",
            "                                                                                                  \n",
            "==================================================================================================\n",
            "Total params: 501,932\n",
            "Trainable params: 500,724\n",
            "Non-trainable params: 1,208\n",
            "__________________________________________________________________________________________________\n"
          ]
        }
      ],
      "source": [
        "model.summary()"
      ]
    },
    {
      "cell_type": "code",
      "execution_count": null,
      "metadata": {
        "id": "ZJs-2-iGM2pE"
      },
      "outputs": [],
      "source": [
        "earlystopping = EarlyStopping(monitor='val_loss',\n",
        "                              mode='min',\n",
        "                              verbose=1,\n",
        "                              patience=15\n",
        "                             )\n",
        "checkpointer = ModelCheckpoint(filepath=\"IEGResUnet.hdf5\",\n",
        "                               verbose=1,\n",
        "                               save_best_only=True\n",
        "                              )\n",
        "reduce_lr = ReduceLROnPlateau(monitor='val_loss',\n",
        "                              mode='min',\n",
        "                              verbose=1,\n",
        "                              patience=5,\n",
        "                              min_delta=0.0001,\n",
        "                              factor=0.2\n",
        "                             )"
      ]
    },
    {
      "cell_type": "code",
      "execution_count": null,
      "metadata": {
        "id": "stanLyAVNRHP",
        "colab": {
          "base_uri": "https://localhost:8080/"
        },
        "outputId": "df85c259-0db1-44d1-e403-6fd3f843ac72"
      },
      "outputs": [
        {
          "output_type": "stream",
          "name": "stdout",
          "text": [
            "Epoch 1/10\n"
          ]
        }
      ],
      "source": [
        "history =  model.fit(training_generator,\n",
        "                    epochs=10,\n",
        "                    steps_per_epoch=len(train_ids),\n",
        "                    callbacks= [checkpointer, reduce_lr, earlystopping],\n",
        "                    validation_data = valid_generator\n",
        "                    )"
      ]
    },
    {
      "cell_type": "code",
      "source": [],
      "metadata": {
        "id": "Ay_Ygo1HFcpU"
      },
      "execution_count": null,
      "outputs": []
    }
  ],
  "metadata": {
    "accelerator": "TPU",
    "colab": {
      "machine_shape": "hm",
      "provenance": [],
      "authorship_tag": "ABX9TyNmJjkKtBXKlenW9kksb7j+",
      "include_colab_link": true
    },
    "kernelspec": {
      "display_name": "Python 3",
      "name": "python3"
    },
    "language_info": {
      "name": "python"
    }
  },
  "nbformat": 4,
  "nbformat_minor": 0
}