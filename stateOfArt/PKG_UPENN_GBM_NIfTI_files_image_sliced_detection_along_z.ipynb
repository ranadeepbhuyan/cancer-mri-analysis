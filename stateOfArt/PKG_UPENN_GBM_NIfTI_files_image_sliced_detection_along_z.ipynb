{
  "nbformat": 4,
  "nbformat_minor": 0,
  "metadata": {
    "colab": {
      "provenance": [],
      "authorship_tag": "ABX9TyOJIBmFXG8xvmNAERkPUWjf",
      "include_colab_link": true
    },
    "kernelspec": {
      "name": "python3",
      "display_name": "Python 3"
    },
    "language_info": {
      "name": "python"
    },
    "accelerator": "TPU"
  },
  "cells": [
    {
      "cell_type": "markdown",
      "metadata": {
        "id": "view-in-github",
        "colab_type": "text"
      },
      "source": [
        "<a href=\"https://colab.research.google.com/github/ranadeepbhuyan/cancer-mri-analysis/blob/main/stateOfArt/PKG_UPENN_GBM_NIfTI_files_image_sliced_detection_along_z.ipynb\" target=\"_parent\"><img src=\"https://colab.research.google.com/assets/colab-badge.svg\" alt=\"Open In Colab\"/></a>"
      ]
    },
    {
      "cell_type": "code",
      "execution_count": null,
      "metadata": {
        "id": "piJu-3OFf5y9"
      },
      "outputs": [],
      "source": [
        "import numpy as np\n",
        "import pandas as pd\n",
        "import matplotlib.pyplot as plt\n",
        "import cv2\n",
        "import nibabel as nib"
      ]
    },
    {
      "cell_type": "code",
      "source": [
        "import os"
      ],
      "metadata": {
        "id": "vCCAFpl2oD9x"
      },
      "execution_count": null,
      "outputs": []
    },
    {
      "cell_type": "code",
      "source": [
        "from google.colab import drive\n",
        "drive.mount('/content/drive')"
      ],
      "metadata": {
        "id": "1dJb2OcTnJwl",
        "colab": {
          "base_uri": "https://localhost:8080/"
        },
        "outputId": "4052e88f-bcd3-4660-b853-e694035f2d7f"
      },
      "execution_count": null,
      "outputs": [
        {
          "output_type": "stream",
          "name": "stdout",
          "text": [
            "Mounted at /content/drive\n"
          ]
        }
      ]
    },
    {
      "cell_type": "code",
      "source": [
        "based_path = r'/content/drive/MyDrive/PKG - UPENN-GBM NIFTI 3d to 2d exp 2/along z/patients data into 64 parts'"
      ],
      "metadata": {
        "id": "mgzHuP3qnMwT"
      },
      "execution_count": null,
      "outputs": []
    },
    {
      "cell_type": "code",
      "source": [
        "#fatching ids form data path\n",
        "def pathListIntoIds(dirList):\n",
        "    x = []\n",
        "    for i in range(0,len(dirList)):\n",
        "        x.append(dirList[i][dirList[i].rfind('/')+1:])\n",
        "    return x\n",
        "\n",
        "\n",
        "train_data_ids = [f.path for f in os.scandir(based_path)]\n",
        "\n",
        "training_data_ids = pathListIntoIds(train_data_ids);"
      ],
      "metadata": {
        "id": "8mO1KF_XLAsP"
      },
      "execution_count": null,
      "outputs": []
    },
    {
      "cell_type": "code",
      "source": [
        "training_data_ids.sort()"
      ],
      "metadata": {
        "id": "iuR4eqkLM_kP"
      },
      "execution_count": null,
      "outputs": []
    },
    {
      "cell_type": "code",
      "source": [
        "len(training_data_ids)"
      ],
      "metadata": {
        "id": "J7TCCLclIT5W",
        "colab": {
          "base_uri": "https://localhost:8080/"
        },
        "outputId": "84e39cd2-00d8-48f1-bba8-19a7578d3578"
      },
      "execution_count": null,
      "outputs": [
        {
          "output_type": "execute_result",
          "data": {
            "text/plain": [
              "69449"
            ]
          },
          "metadata": {},
          "execution_count": 11
        }
      ]
    },
    {
      "cell_type": "code",
      "source": [
        "training_data_ids[67110]"
      ],
      "metadata": {
        "colab": {
          "base_uri": "https://localhost:8080/",
          "height": 36
        },
        "id": "eFQDibbvM1wl",
        "outputId": "fbb33308-aff1-44cd-fbf4-b75f0c1f1eed"
      },
      "execution_count": null,
      "outputs": [
        {
          "output_type": "execute_result",
          "data": {
            "text/plain": [
              "'UPENN-GBM-Patients-00049-slice051_z-4_36.png'"
            ],
            "application/vnd.google.colaboratory.intrinsic+json": {
              "type": "string"
            }
          },
          "metadata": {},
          "execution_count": 12
        }
      ]
    },
    {
      "cell_type": "code",
      "source": [
        "data_ids = []\n",
        "for i in range(len(training_data_ids)):\n",
        "  test = training_data_ids[i].split('-')[3]\n",
        "  if int(test) == 48:\n",
        "    data_ids.append(training_data_ids[i])\n"
      ],
      "metadata": {
        "id": "sJIGdF3FLoQB"
      },
      "execution_count": null,
      "outputs": []
    },
    {
      "cell_type": "code",
      "source": [
        "data_ids.sort()"
      ],
      "metadata": {
        "id": "ZbqNzNMX86Av"
      },
      "execution_count": null,
      "outputs": []
    },
    {
      "cell_type": "code",
      "source": [
        "def fetch_blocks(block_no, ids):\n",
        "  block = []\n",
        "  for i in range(len(ids)):\n",
        "    test0 = ids[i]\n",
        "    test = test0.split('-')[5]\n",
        "    test1 = test.split('_')[0]\n",
        "    if test1 == str(block_no):\n",
        "      block.append(test0)\n",
        "  return block"
      ],
      "metadata": {
        "id": "c30Oh4sfLFQx"
      },
      "execution_count": null,
      "outputs": []
    },
    {
      "cell_type": "code",
      "source": [
        "block = fetch_blocks(block_no=6, ids = data_ids)"
      ],
      "metadata": {
        "id": "G-qISVPRIHVE"
      },
      "execution_count": null,
      "outputs": []
    },
    {
      "cell_type": "code",
      "source": [
        "len(block)"
      ],
      "metadata": {
        "colab": {
          "base_uri": "https://localhost:8080/"
        },
        "id": "LIKS5XQ4ILe3",
        "outputId": "35384d25-e442-453d-e034-d3f3639c67c8"
      },
      "execution_count": null,
      "outputs": [
        {
          "output_type": "execute_result",
          "data": {
            "text/plain": [
              "456"
            ]
          },
          "metadata": {},
          "execution_count": 200
        }
      ]
    },
    {
      "cell_type": "code",
      "source": [
        "block[0]"
      ],
      "metadata": {
        "colab": {
          "base_uri": "https://localhost:8080/",
          "height": 36
        },
        "id": "1WLIORhF6bCr",
        "outputId": "67d80c52-1978-4656-f4d2-b0185c368c9b"
      },
      "execution_count": null,
      "outputs": [
        {
          "output_type": "execute_result",
          "data": {
            "text/plain": [
              "'UPENN-GBM-Patients-00049-slice070_z-6_11.png'"
            ],
            "application/vnd.google.colaboratory.intrinsic+json": {
              "type": "string"
            }
          },
          "metadata": {},
          "execution_count": 189
        }
      ]
    },
    {
      "cell_type": "code",
      "source": [
        "for i in range(len(block)):\n",
        "  test3 = block[i].split('_')[2]\n",
        "  test2 = test3.split('.')[0]\n",
        "  if test2.isdigit() == False:\n",
        "    block.remove(block[i])\n"
      ],
      "metadata": {
        "id": "USe1_qB5NIRu"
      },
      "execution_count": null,
      "outputs": []
    },
    {
      "cell_type": "code",
      "source": [
        "len(block)"
      ],
      "metadata": {
        "colab": {
          "base_uri": "https://localhost:8080/"
        },
        "id": "muUS5t5TDULf",
        "outputId": "7f4db5cb-0dce-4d41-d7f1-8a5c96b19929"
      },
      "execution_count": null,
      "outputs": [
        {
          "output_type": "execute_result",
          "data": {
            "text/plain": [
              "456"
            ]
          },
          "metadata": {},
          "execution_count": 202
        }
      ]
    },
    {
      "cell_type": "code",
      "source": [
        "def data_prepare(ids):\n",
        "  data_path = []\n",
        "  data_ids = []\n",
        "  desired_width = 30\n",
        "  desired_height = 30\n",
        "  for i in range(len(ids)):\n",
        "    #path\n",
        "    path = os.path.join(based_path, ids[i])\n",
        "    #read images using its path\n",
        "    img_data = cv2.imread(path)\n",
        "    #removing rgb channel\n",
        "    gray_image = cv2.cvtColor(img_data, cv2.COLOR_BGR2GRAY)\n",
        "    #resizing if needed\n",
        "    resized_image = cv2.resize(gray_image, (desired_width, desired_height), interpolation=cv2.INTER_LINEAR)\n",
        "    #since the image class is marked in the image ids so we are fetching the image ids\n",
        "    test1 = ids[i].split('_')[2]\n",
        "    test = test1.split('.png')[0]\n",
        "    data_path.append(resized_image)\n",
        "    data_ids.append(int(test))\n",
        "  #image data and image class are listed in a dataframe\n",
        "  data_column = {'image_data': data_path,'class': data_ids}\n",
        "  data_set = pd.DataFrame(data_column)\n",
        "  data_list = data_set['image_data'].tolist()\n",
        "  classes = data_set['class'].tolist()\n",
        "  my_array = np.array(data_list)\n",
        "  y_data = np.array(classes)\n",
        "  #reshape the array for model execution\n",
        "  x_data = np.array(my_array).reshape(-1,30,30,1)\n",
        "  return x_data, y_data"
      ],
      "metadata": {
        "id": "TdgcrvfFzXi1"
      },
      "execution_count": null,
      "outputs": []
    },
    {
      "cell_type": "code",
      "source": [
        "train, ids  = data_prepare(block)"
      ],
      "metadata": {
        "id": "nH0-V7w-9Wbz"
      },
      "execution_count": null,
      "outputs": []
    },
    {
      "cell_type": "code",
      "source": [
        "from sklearn.model_selection import train_test_split\n",
        "\n",
        "x_train, x_test, y_train, y_test = train_test_split(train,ids, test_size=0.10)"
      ],
      "metadata": {
        "id": "37j7w7mnxO4l"
      },
      "execution_count": null,
      "outputs": []
    },
    {
      "cell_type": "code",
      "source": [
        "from tensorflow.keras.utils import normalize\n",
        "\n",
        "x_train = normalize(train, axis=1)\n",
        "#x_test = normalize(x_test, axis=1)\n",
        "plt.imshow(x_train[1], cmap =plt.cm.binary)"
      ],
      "metadata": {
        "id": "oq_2T0TDxZ4G",
        "colab": {
          "base_uri": "https://localhost:8080/",
          "height": 448
        },
        "outputId": "19fdacac-6df3-48e1-8653-21db2f2a2981"
      },
      "execution_count": null,
      "outputs": [
        {
          "output_type": "execute_result",
          "data": {
            "text/plain": [
              "<matplotlib.image.AxesImage at 0x7ad9be223e20>"
            ]
          },
          "metadata": {},
          "execution_count": 204
        },
        {
          "output_type": "display_data",
          "data": {
            "text/plain": [
              "<Figure size 640x480 with 1 Axes>"
            ],
            "image/png": "[encoded data removed]"
          },
          "metadata": {}
        }
      ]
    },
    {
      "cell_type": "code",
      "source": [
        "x_train = np.array(x_train).reshape(-1,30,30,1)\n",
        "x_test = np.array(x_test).reshape(-1,30,30,1)\n",
        "print(x_train.shape,x_test.shape)"
      ],
      "metadata": {
        "id": "ky_cFe6zxluY",
        "colab": {
          "base_uri": "https://localhost:8080/"
        },
        "outputId": "5123e9f5-b6e5-432f-a159-6c6a0b7283cd"
      },
      "execution_count": null,
      "outputs": [
        {
          "output_type": "stream",
          "name": "stdout",
          "text": [
            "(9441, 30, 30, 1) (945, 30, 30, 1)\n"
          ]
        }
      ]
    },
    {
      "cell_type": "code",
      "source": [
        "from tensorflow.keras.layers import Conv2D, MaxPooling2D, Activation,Flatten, Dense, Dropout\n",
        "from tensorflow.keras.models import Sequential\n",
        "from tensorflow.keras.initializers import HeNormal"
      ],
      "metadata": {
        "id": "1XogKEcWj72q"
      },
      "execution_count": null,
      "outputs": []
    },
    {
      "cell_type": "code",
      "source": [
        "model = Sequential()\n",
        "\n",
        "model.add(Conv2D(32, (3,3), padding='same', input_shape=x_train.shape[1:]))\n",
        "model.add(Activation('relu'))\n",
        "model.add(Dropout(0.2))\n",
        "model.add(MaxPooling2D(pool_size = (2, 2)))\n",
        "\n",
        "model.add(Conv2D(64, (3,3),padding='same'))\n",
        "model.add(Activation('relu'))\n",
        "model.add(Dropout(0.2))\n",
        "model.add(MaxPooling2D(pool_size = (2, 2)))\n",
        "\n",
        "model.add(Conv2D(128, (3,3), padding='same'))\n",
        "model.add(Activation('relu'))\n",
        "model.add(Dropout(0.2))\n",
        "model.add(MaxPooling2D(pool_size = (2, 2)))\n",
        "\n",
        "\n",
        "model.add(Flatten())\n",
        "model.add(Dense(512))\n",
        "model.add(Activation('relu'))\n",
        "model.add(Dropout(0.2))\n",
        "\n",
        "model.add(Dense(256))\n",
        "model.add(Activation('relu'))\n",
        "model.add(Dropout(0.2))\n",
        "\n",
        "\n",
        "model.add(Dense(64))\n",
        "model.add(Activation('softmax'))\n"
      ],
      "metadata": {
        "id": "4-tUJxTOmvO-"
      },
      "execution_count": null,
      "outputs": []
    },
    {
      "cell_type": "code",
      "source": [
        "model.summary()"
      ],
      "metadata": {
        "id": "rkHXGNntqh7A",
        "colab": {
          "base_uri": "https://localhost:8080/"
        },
        "outputId": "1dfb6034-c752-4b2d-893c-b09a1a10dfac"
      },
      "execution_count": null,
      "outputs": [
        {
          "output_type": "stream",
          "name": "stdout",
          "text": [
            "Model: \"sequential_1\"\n",
            "_________________________________________________________________\n",
            " Layer (type)                Output Shape              Param #   \n",
            "=================================================================\n",
            " conv2d_3 (Conv2D)           (None, 30, 30, 32)        320       \n",
            "                                                                 \n",
            " activation_6 (Activation)   (None, 30, 30, 32)        0         \n",
            "                                                                 \n",
            " dropout_5 (Dropout)         (None, 30, 30, 32)        0         \n",
            "                                                                 \n",
            " max_pooling2d_3 (MaxPooling  (None, 15, 15, 32)       0         \n",
            " 2D)                                                             \n",
            "                                                                 \n",
            " conv2d_4 (Conv2D)           (None, 15, 15, 64)        18496     \n",
            "                                                                 \n",
            " activation_7 (Activation)   (None, 15, 15, 64)        0         \n",
            "                                                                 \n",
            " dropout_6 (Dropout)         (None, 15, 15, 64)        0         \n",
            "                                                                 \n",
            " max_pooling2d_4 (MaxPooling  (None, 7, 7, 64)         0         \n",
            " 2D)                                                             \n",
            "                                                                 \n",
            " conv2d_5 (Conv2D)           (None, 7, 7, 128)         73856     \n",
            "                                                                 \n",
            " activation_8 (Activation)   (None, 7, 7, 128)         0         \n",
            "                                                                 \n",
            " dropout_7 (Dropout)         (None, 7, 7, 128)         0         \n",
            "                                                                 \n",
            " max_pooling2d_5 (MaxPooling  (None, 3, 3, 128)        0         \n",
            " 2D)                                                             \n",
            "                                                                 \n",
            " flatten_1 (Flatten)         (None, 1152)              0         \n",
            "                                                                 \n",
            " dense_3 (Dense)             (None, 512)               590336    \n",
            "                                                                 \n",
            " activation_9 (Activation)   (None, 512)               0         \n",
            "                                                                 \n",
            " dropout_8 (Dropout)         (None, 512)               0         \n",
            "                                                                 \n",
            " dense_4 (Dense)             (None, 256)               131328    \n",
            "                                                                 \n",
            " activation_10 (Activation)  (None, 256)               0         \n",
            "                                                                 \n",
            " dropout_9 (Dropout)         (None, 256)               0         \n",
            "                                                                 \n",
            " dense_5 (Dense)             (None, 64)                16448     \n",
            "                                                                 \n",
            " activation_11 (Activation)  (None, 64)                0         \n",
            "                                                                 \n",
            "=================================================================\n",
            "Total params: 830,784\n",
            "Trainable params: 830,784\n",
            "Non-trainable params: 0\n",
            "_________________________________________________________________\n"
          ]
        }
      ]
    },
    {
      "cell_type": "code",
      "source": [
        "from tensorflow.keras.callbacks import EarlyStopping, ModelCheckpoint, ReduceLROnPlateau\n",
        "import tensorflow as tf\n",
        "\n",
        "learning_rate = 0.001\n",
        "\n",
        "optimizer = tf.keras.optimizers.Adam(learning_rate=learning_rate)\n",
        "\n",
        "model.compile(optimizer=optimizer, loss='sparse_categorical_crossentropy', metrics=['accuracy'])\n",
        "\n",
        "earlystopping = EarlyStopping(monitor='val_loss',\n",
        "                              mode='min',\n",
        "                              verbose=1,\n",
        "                              patience=15\n",
        "                             )\n",
        "checkpointer = ModelCheckpoint(filepath=\"clf-resnet-weights.hdf5\",\n",
        "                               verbose=1,\n",
        "                               save_best_only=True\n",
        "                              )\n",
        "reduce_lr = ReduceLROnPlateau(monitor='val_loss',\n",
        "                              mode='min',\n",
        "                              verbose=1,\n",
        "                              patience=5,\n",
        "                              min_delta=0.0001,\n",
        "                              factor=0.2\n",
        "                             )"
      ],
      "metadata": {
        "id": "DW5dkp8ttCim"
      },
      "execution_count": null,
      "outputs": []
    },
    {
      "cell_type": "code",
      "source": [
        "h = model.fit(x_train, ids, batch_size = 32, validation_split= 0.1, epochs=100, callbacks=[checkpointer, earlystopping, reduce_lr])"
      ],
      "metadata": {
        "id": "HfO6HQLsyR0o"
      },
      "execution_count": null,
      "outputs": []
    },
    {
      "cell_type": "code",
      "source": [
        "from tensorflow.keras.models import load_model\n",
        "\n",
        "path =r\"/content/drive/MyDrive/PKG - UPENN-GBM NIFTI 3d to 2d exp 2/model-along-z/model-long-z-block-6.hdf5\"\n",
        "model1 = load_model(path)\n",
        "\n",
        "from tensorflow.keras.callbacks import EarlyStopping, ModelCheckpoint, ReduceLROnPlateau\n",
        "import tensorflow as tf\n",
        "\n",
        "learning_rate = 0.001\n",
        "\n",
        "optimizer = tf.keras.optimizers.Adam(learning_rate=learning_rate)\n",
        "\n",
        "model1.compile(optimizer=optimizer, loss='sparse_categorical_crossentropy', metrics=['accuracy'])\n",
        "\n",
        "earlystopping = EarlyStopping(monitor='val_loss',\n",
        "                              mode='min',\n",
        "                              verbose=1,\n",
        "                              patience=15\n",
        "                             )\n",
        "checkpointer = ModelCheckpoint(filepath=\"clf-resnet-weights.hdf5\",\n",
        "                               verbose=1,\n",
        "                               save_best_only=True\n",
        "                              )\n",
        "reduce_lr = ReduceLROnPlateau(monitor='val_loss',\n",
        "                              mode='min',\n",
        "                              verbose=1,\n",
        "                              patience=5,\n",
        "                              min_delta=0.0001,\n",
        "                              factor=0.2\n",
        "                             )"
      ],
      "metadata": {
        "id": "oLiLRlqD7hBa"
      },
      "execution_count": null,
      "outputs": []
    },
    {
      "cell_type": "code",
      "source": [
        "test_loss, test_acc = model1.evaluate(x_train, ids)"
      ],
      "metadata": {
        "colab": {
          "base_uri": "https://localhost:8080/"
        },
        "id": "mrch7kg98VeM",
        "outputId": "a62fecb0-e70f-436e-ac4a-f13dce936733"
      },
      "execution_count": null,
      "outputs": [
        {
          "output_type": "stream",
          "name": "stdout",
          "text": [
            "15/15 [==============================] - 1s 22ms/step - loss: 1.3428 - accuracy: 0.8136\n"
          ]
        }
      ]
    },
    {
      "cell_type": "code",
      "source": [
        "Data_path1 =\n",
        "path = os.path.join(Data_path1, f'{final_ids[200]}.nii')\n",
        "img = nib.load(path)\n",
        "img_data = img.get_fdata()\n",
        "normalized_img = normalized_imgfunc(img_data)\n",
        "\n",
        "plt.figure(figsize=(12, 4))\n",
        "\n",
        "# Plot the first 2D NIfTI image\n",
        "plt.subplot(131)  # 1 row, 3 columns, subplot 1\n",
        "plt.imshow(normalized_img, cmap=\"gray\")\n",
        "plt.title(\"Image\")\n",
        "\n",
        "\n",
        "plt.tight_layout()\n",
        "plt.show()"
      ],
      "metadata": {
        "id": "xP0sth6C8qh_"
      },
      "execution_count": null,
      "outputs": []
    },
    {
      "cell_type": "code",
      "source": [
        "acc=h.history['accuracy']\n",
        "val_acc=h.history['val_accuracy']\n",
        "\n",
        "epoch=range(len(acc))\n",
        "\n",
        "loss=h.history['loss']\n",
        "val_loss=h.history['val_loss']\n",
        "\n",
        "learning_rate = h.history['lr']\n",
        "\n",
        "f,ax=plt.subplots(1,3,figsize=(14,7))\n",
        "\n",
        "ax[0].plot(epoch,acc,'b',label='Training Accuracy')\n",
        "ax[0].plot(epoch,val_acc,'r',label='Validation Accuracy')\n",
        "ax[0].legend()\n",
        "\n",
        "ax[1].plot(epoch,loss,'b',label='Training Loss')\n",
        "ax[1].plot(epoch,val_loss,'r',label='Validation Loss')\n",
        "ax[1].legend()\n",
        "\n",
        "\n",
        "ax[2].plot(epoch,learning_rate,'b',label='learning rate')\n",
        "ax[2].legend()\n",
        "\n",
        "\n",
        "\n",
        "plt.show()"
      ],
      "metadata": {
        "colab": {
          "base_uri": "https://localhost:8080/",
          "height": 603
        },
        "id": "cPJdzg3xwmzt",
        "outputId": "3cbd5dd6-b7ed-469c-9e2a-29083e5a51ad"
      },
      "execution_count": null,
      "outputs": [
        {
          "output_type": "display_data",
          "data": {
            "text/plain": [
              "<Figure size 1400x700 with 3 Axes>"
            ],
            "image/png": "[encoded data removed]"
          },
          "metadata": {}
        }
      ]
    },
    {
      "cell_type": "code",
      "source": [
        "prediction = model.predict(x_test)"
      ],
      "metadata": {
        "id": "18MeMxWdv1f_",
        "colab": {
          "base_uri": "https://localhost:8080/"
        },
        "outputId": "ede21d5c-c5e1-4400-8e93-a9a3014e310b"
      },
      "execution_count": null,
      "outputs": [
        {
          "output_type": "stream",
          "name": "stdout",
          "text": [
            "3/3 [==============================] - 0s 19ms/step\n"
          ]
        }
      ]
    },
    {
      "cell_type": "code",
      "source": [
        "len(prediction)"
      ],
      "metadata": {
        "id": "TZVJAaOjNe__",
        "colab": {
          "base_uri": "https://localhost:8080/"
        },
        "outputId": "8c6a7552-be3d-4363-a430-4345207fa5cc"
      },
      "execution_count": null,
      "outputs": [
        {
          "output_type": "execute_result",
          "data": {
            "text/plain": [
              "86"
            ]
          },
          "metadata": {},
          "execution_count": 38
        }
      ]
    },
    {
      "cell_type": "code",
      "source": [
        "not_match = []\n",
        "not_match_ids = []\n",
        "for i in range(len(prediction)):\n",
        "  x = np.argmax(prediction[i])\n",
        "  if x != y_test[i]:\n",
        "    not_match.append(prediction[i])\n",
        "    not_match_ids.append(i)"
      ],
      "metadata": {
        "id": "WrEq6krbwEGt"
      },
      "execution_count": null,
      "outputs": []
    },
    {
      "cell_type": "code",
      "source": [
        "for i in not_match_ids:\n",
        "  print(\"Ids : \",i, \"pred :\",np.argmax(prediction[i]), \"actual :\", y_test[i])"
      ],
      "metadata": {
        "colab": {
          "base_uri": "https://localhost:8080/"
        },
        "id": "cndizO-PwaEh",
        "outputId": "d5ac035c-f97d-4d89-9b69-c37a2c0dab2d"
      },
      "execution_count": null,
      "outputs": [
        {
          "output_type": "stream",
          "name": "stdout",
          "text": [
            "Ids :  2 pred : 38 actual : 44\n",
            "Ids :  4 pred : 30 actual : 21\n",
            "Ids :  10 pred : 26 actual : 33\n",
            "Ids :  12 pred : 20 actual : 21\n",
            "Ids :  13 pred : 30 actual : 21\n",
            "Ids :  14 pred : 14 actual : 23\n",
            "Ids :  15 pred : 20 actual : 27\n",
            "Ids :  45 pred : 39 actual : 31\n",
            "Ids :  61 pred : 39 actual : 31\n",
            "Ids :  85 pred : 20 actual : 44\n"
          ]
        }
      ]
    },
    {
      "cell_type": "code",
      "source": [],
      "metadata": {
        "id": "iJFX1p9uG8lz"
      },
      "execution_count": null,
      "outputs": []
    }
  ]
}