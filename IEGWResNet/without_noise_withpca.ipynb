{
  "cells": [
    {
      "cell_type": "markdown",
      "metadata": {
        "id": "view-in-github",
        "colab_type": "text"
      },
      "source": [
        "<a href=\"https://colab.research.google.com/github/ranadeepbhuyan/cancer-mri-analysis/blob/main/IEGWResNet/without_noise_withpca.ipynb\" target=\"_parent\"><img src=\"https://colab.research.google.com/assets/colab-badge.svg\" alt=\"Open In Colab\"/></a>"
      ]
    },
    {
      "cell_type": "code",
      "execution_count": null,
      "metadata": {
        "colab": {
          "base_uri": "https://localhost:8080/"
        },
        "id": "pRK3vxOwFDO-",
        "outputId": "89a2ab76-5b5a-4b02-94f1-591af8b77f53"
      },
      "outputs": [
        {
          "output_type": "stream",
          "name": "stdout",
          "text": [
            "Mounted at /content/drive\n"
          ]
        }
      ],
      "source": [
        "from google.colab import drive\n",
        "drive.mount('/content/drive')"
      ]
    },
    {
      "cell_type": "code",
      "execution_count": null,
      "metadata": {
        "id": "fnLTNgBG7VzI"
      },
      "outputs": [],
      "source": [
        "import numpy as np\n",
        "import matplotlib.pyplot as plt\n",
        "import glob\n",
        "import pickle\n",
        "import keras\n",
        "from keras.layers import Conv2D, Activation, Input, Dropout, Reshape, MaxPooling2D, UpSampling2D, Conv2DTranspose, Concatenate, multiply, Add, LeakyReLU, ReLU\n",
        "from tensorflow.keras.layers import BatchNormalization\n",
        "from tensorflow.keras.models import Model\n",
        "from keras.callbacks import ModelCheckpoint, ReduceLROnPlateau\n",
        "from keras.optimizers import Adam\n",
        "from keras.utils import *\n",
        "from keras import regularizers\n",
        "from keras import backend as K\n",
        "from keras.models import load_model\n",
        "from keras.layers import Lambda\n",
        "import nibabel as nib"
      ]
    },
    {
      "cell_type": "code",
      "execution_count": null,
      "metadata": {
        "id": "GuqmS5fWTqoN",
        "colab": {
          "base_uri": "https://localhost:8080/"
        },
        "outputId": "b40ca8db-b2b4-421d-fa4e-f81db316ab06"
      },
      "outputs": [
        {
          "output_type": "stream",
          "name": "stdout",
          "text": [
            "Collecting SimpleITK\n",
            "  Downloading SimpleITK-2.3.1-cp310-cp310-manylinux_2_17_x86_64.manylinux2014_x86_64.whl (52.7 MB)\n",
            "\u001b[2K     \u001b[90m━━━━━━━━━━━━━━━━━━━━━━━━━━━━━━━━━━━━━━━━\u001b[0m \u001b[32m52.7/52.7 MB\u001b[0m \u001b[31m28.8 MB/s\u001b[0m eta \u001b[36m0:00:00\u001b[0m\n",
            "\u001b[?25hInstalling collected packages: SimpleITK\n",
            "Successfully installed SimpleITK-2.3.1\n"
          ]
        }
      ],
      "source": [
        "!pip install SimpleITK"
      ]
    },
    {
      "cell_type": "code",
      "execution_count": null,
      "metadata": {
        "id": "OiTeWkdCTfWY"
      },
      "outputs": [],
      "source": [
        "import SimpleITK as sitk"
      ]
    },
    {
      "cell_type": "code",
      "execution_count": null,
      "metadata": {
        "id": "SNAp5aKSnnvJ"
      },
      "outputs": [],
      "source": [
        "flair_path = glob.glob('/content/drive/MyDrive/ranadeep/2019DATA/data/flair/*')\n",
        "seg_path   = glob.glob('/content/drive/MyDrive/ranadeep/2019DATA/data/Seg/*')\n",
        "t1_path    = glob.glob('/content/drive/MyDrive/ranadeep/2019DATA/data/T1/*')\n",
        "t1ce_path  = glob.glob('/content/drive/MyDrive/ranadeep/2019DATA/data/T1ce/*')\n",
        "t2_path    = glob.glob('/content/drive/MyDrive/ranadeep/2019DATA/data/T2/*')"
      ]
    },
    {
      "cell_type": "code",
      "execution_count": null,
      "metadata": {
        "colab": {
          "base_uri": "https://localhost:8080/"
        },
        "id": "5qhECSLIDrNX",
        "outputId": "66798a2b-da27-4f70-91c0-88ffd1220860"
      },
      "outputs": [
        {
          "output_type": "stream",
          "name": "stdout",
          "text": [
            "30\n"
          ]
        }
      ],
      "source": [
        "print(len(flair_path))"
      ]
    },
    {
      "cell_type": "code",
      "execution_count": null,
      "metadata": {
        "id": "_IcSLJj0Uc1-"
      },
      "outputs": [],
      "source": [
        "def pca_color_augmentation_tensor(inputs, std_deviation=0.1, scale=0.1, clipping=False):\n",
        "    ranks = inputs.ndim\n",
        "    assert ranks >= 2\n",
        "\n",
        "    chs = inputs.shape[-1]\n",
        "    if ranks <= 3:\n",
        "        x = inputs.copy()\n",
        "    elif ranks == 4:\n",
        "        dims = inputs.shape[1] * inputs.shape[2]\n",
        "        x = inputs.reshape(-1, dims, chs)\n",
        "    elif ranks == 5:\n",
        "        dims = inputs.shape[2] * inputs.shape[3]\n",
        "        depth = inputs.shape[1]\n",
        "        x = inputs.reshape(-1, depth, dims, chs)\n",
        "    calculate_axis, reduce_axis = ranks-1, ranks-2\n",
        "    if ranks == 3:\n",
        "        calculate_axis, reduce_axis = 1, 2\n",
        "    elif ranks >= 4:\n",
        "        calculate_axis, reduce_axis = ranks-3, ranks-2\n",
        "    C = 1.0\n",
        "    if ranks >= 3:\n",
        "        C = x.shape[reduce_axis]\n",
        "    var = np.var(x, axis=calculate_axis, keepdims=True)\n",
        "    scaling_factors = np.sqrt(C / np.sum(var, axis=reduce_axis, keepdims=True))\n",
        "    x = x * scaling_factors\n",
        "    # subtract mean for cov matrix\n",
        "    mean = np.mean(x, axis=calculate_axis, keepdims=True)\n",
        "    x -= mean\n",
        "    # covariance matrix\n",
        "    cov_n = max(x.shape[calculate_axis] - 1, 1)\n",
        "    # cov (since x was normalized)\n",
        "    cov = np.matmul(np.swapaxes(x, -1, -2), x) / cov_n\n",
        "    # eigen value(S), eigen vector(U)\n",
        "    U, S, V = np.linalg.svd(cov)\n",
        "    if ranks == 2:\n",
        "        rand = np.random.randn(*inputs.shape) * std_deviation\n",
        "        delta = np.matmul(rand*np.expand_dims(S, axis=0), U)\n",
        "    else:\n",
        "        rand = np.random.randn(*S.shape) * std_deviation\n",
        "        delta_original = np.squeeze(np.matmul(U, np.expand_dims(rand*S, axis=-1)), axis=-1)\n",
        "    if ranks == 3:\n",
        "        delta = np.expand_dims(delta_original, axis=ranks-2)\n",
        "    elif ranks >= 4:\n",
        "        delta = np.expand_dims(delta_original, axis=ranks-3)\n",
        "        delta = np.broadcast_to(delta, x.shape)\n",
        "        delta = delta.reshape(-1, *inputs.shape[1:])\n",
        "\n",
        "    # delta scaling\n",
        "    delta = delta * scale\n",
        "    result = inputs + delta\n",
        "    if clipping:\n",
        "        result = np.clip(result, 0.0, scale)\n",
        "\n",
        "    return result"
      ]
    },
    {
      "cell_type": "code",
      "source": [
        "import numpy as np\n",
        "def add_gaussian_noise(image, mean=0, sigma=1):\n",
        "    if len(image.shape) == 2:  # Grayscale image (2D)\n",
        "        row, col = image.shape\n",
        "        gauss = np.random.normal(mean, sigma, (row, col))\n",
        "        gauss = gauss.reshape(row, col)\n",
        "    elif len(image.shape) == 3:  # Color image (3D)\n",
        "        row, col, ch = image.shape\n",
        "        gauss = np.random.normal(mean, sigma, (row, col, ch))\n",
        "        gauss = gauss.reshape(row, col, ch)\n",
        "    else:\n",
        "        raise ValueError(\"Unexpected image shape:\", image.shape)\n",
        "\n",
        "    noisy = image + gauss\n",
        "    return np.clip(noisy, 0, 255)"
      ],
      "metadata": {
        "id": "YcvP5ZhUna1J"
      },
      "execution_count": null,
      "outputs": []
    },
    {
      "cell_type": "code",
      "source": [
        "import numpy as np\n",
        "def add_speckle_noise(image, mean=0, sigma=0.1):\n",
        "    row, col = image.shape if len(image.shape) == 2 else image.shape[:2]\n",
        "    gauss = np.random.normal(mean, sigma, (row, col))\n",
        "    gauss = gauss.reshape(row, col) if len(image.shape) == 2 else gauss.reshape(row, col, 1)\n",
        "    noisy = image + image * gauss\n",
        "    return np.clip(noisy, 0, 255)\n"
      ],
      "metadata": {
        "id": "Oefx72N-rCsg"
      },
      "execution_count": null,
      "outputs": []
    },
    {
      "cell_type": "code",
      "source": [
        "import numpy as np\n",
        "\n",
        "def add_poisson_noise(image, scale=1):\n",
        "    image = image / 255.0\n",
        "    noisy = np.random.poisson(image * scale) / scale\n",
        "    noisy = noisy * 255.0\n",
        "    return np.clip(noisy, 0, 255).astype('uint8')\n"
      ],
      "metadata": {
        "id": "Ok5npM3CrXSQ"
      },
      "execution_count": null,
      "outputs": []
    },
    {
      "cell_type": "code",
      "execution_count": null,
      "metadata": {
        "colab": {
          "base_uri": "https://localhost:8080/"
        },
        "id": "z-bdXPY2XcML",
        "outputId": "cc0d41ad-096f-46dc-f26d-bac2ff0ef0c3"
      },
      "outputs": [
        {
          "output_type": "stream",
          "name": "stdout",
          "text": [
            "(750, 240, 240)\n"
          ]
        }
      ],
      "source": [
        "X_flair=[]\n",
        "for i in range(len(flair_path)):\n",
        "    a = sitk.ReadImage(flair_path[i])\n",
        "    a = sitk.GetArrayFromImage(a)\n",
        "    for j in range(25):\n",
        "        image = a[50+2*j,:,:]\n",
        "        #noisy_image = add_gaussian_noise(image)\n",
        "        #noisy_image = add_speckle_noise(image, mean=0, sigma=0.1)\n",
        "        #noisy_image = add_poisson_noise(image, scale=100)\n",
        "        X_flair.append(image)\n",
        "print(np.shape(X_flair))"
      ]
    },
    {
      "cell_type": "code",
      "execution_count": null,
      "metadata": {
        "id": "PVvCGpG3eiWH"
      },
      "outputs": [],
      "source": [
        "X_flair = np.asarray(X_flair).astype(np.float32)\n",
        "X_flair = pca_color_augmentation_tensor(X_flair[:,:,:])"
      ]
    },
    {
      "cell_type": "code",
      "execution_count": null,
      "metadata": {
        "colab": {
          "base_uri": "https://localhost:8080/"
        },
        "id": "qV4wgbN-R5XS",
        "outputId": "6333af9c-65a0-4f3b-840c-9d7d9226d64d"
      },
      "outputs": [
        {
          "output_type": "execute_result",
          "data": {
            "text/plain": [
              "(-0.5493804850098256, 9.68043096839256)"
            ]
          },
          "metadata": {},
          "execution_count": 148
        }
      ],
      "source": [
        "mean = X_flair.mean()\n",
        "std = X_flair.std()\n",
        "X_flair = (X_flair - mean)/(std + 1e-8)\n",
        "np.min(X_flair), np.max(X_flair)"
      ]
    },
    {
      "cell_type": "code",
      "execution_count": null,
      "metadata": {
        "colab": {
          "base_uri": "https://localhost:8080/"
        },
        "id": "FUCq69-HaXIY",
        "outputId": "05671960-cba5-4f34-a256-aa3cf2b3c9a4"
      },
      "outputs": [
        {
          "output_type": "stream",
          "name": "stdout",
          "text": [
            "(750, 240, 240)\n"
          ]
        }
      ],
      "source": [
        "X_t1=[]\n",
        "for i in range(len(t1_path)):\n",
        "    a = sitk.ReadImage(t1_path[i])\n",
        "    a = sitk.GetArrayFromImage(a)\n",
        "    for j in range(25):\n",
        "        image = a[50+2*j,:,:]\n",
        "        #noisy_image = add_gaussian_noise(image)\n",
        "        #noisy_image = add_speckle_noise(image, mean=0, sigma=0.1)\n",
        "        #noisy_image = add_poisson_noise(image, scale=100)\n",
        "\n",
        "        X_t1.append(image)\n",
        "print(np.shape(X_t1))"
      ]
    },
    {
      "cell_type": "code",
      "execution_count": null,
      "metadata": {
        "id": "jTw7cJrgesV_"
      },
      "outputs": [],
      "source": [
        "X_t1 = np.asarray(X_t1).astype(np.float32)\n",
        "X_t1 = pca_color_augmentation_tensor(X_t1[:,:,:])"
      ]
    },
    {
      "cell_type": "code",
      "execution_count": null,
      "metadata": {
        "colab": {
          "base_uri": "https://localhost:8080/"
        },
        "id": "2iVC59neTrvF",
        "outputId": "1699e257-cc82-40d1-bda1-0b5c543d8032"
      },
      "outputs": [
        {
          "output_type": "execute_result",
          "data": {
            "text/plain": [
              "(-0.5807233214966078, 6.557792816943422)"
            ]
          },
          "metadata": {},
          "execution_count": 151
        }
      ],
      "source": [
        "mean = X_t1.mean()\n",
        "std = X_t1.std()\n",
        "X_t1 = (X_t1 - mean)/(std + 1e-8)\n",
        "np.min(X_t1), np.max(X_t1)"
      ]
    },
    {
      "cell_type": "code",
      "execution_count": null,
      "metadata": {
        "colab": {
          "base_uri": "https://localhost:8080/"
        },
        "id": "gyL84efyaX5J",
        "outputId": "a1b98e23-e6a5-47f9-9b4d-33a2886017b9"
      },
      "outputs": [
        {
          "output_type": "stream",
          "name": "stdout",
          "text": [
            "(750, 240, 240)\n"
          ]
        }
      ],
      "source": [
        "X_t1ce=[]\n",
        "for i in range(len(t1ce_path)):\n",
        "    a = sitk.ReadImage(t1ce_path[i])\n",
        "    a = sitk.GetArrayFromImage(a)\n",
        "    for j in range(25):\n",
        "        image = a[50+2*j,:,:]\n",
        "        #noisy_image = add_gaussian_noise(image)\n",
        "        #noisy_image = add_speckle_noise(image, mean=0, sigma=0.1)\n",
        "        #noisy_image = add_poisson_noise(image, scale=100)\n",
        "        X_t1ce.append(image)\n",
        "print(np.shape(X_t1ce))"
      ]
    },
    {
      "cell_type": "code",
      "execution_count": null,
      "metadata": {
        "id": "BLIQ7qI2fCdS"
      },
      "outputs": [],
      "source": [
        "X_t1ce = np.asarray(X_t1ce).astype(np.float32)\n",
        "X_t1ce = pca_color_augmentation_tensor(X_t1ce[:,:,:])"
      ]
    },
    {
      "cell_type": "code",
      "execution_count": null,
      "metadata": {
        "colab": {
          "base_uri": "https://localhost:8080/"
        },
        "id": "Juy5PSNFT5AK",
        "outputId": "a31bac5e-6bbd-4219-8dcb-66677d2728fd"
      },
      "outputs": [
        {
          "output_type": "execute_result",
          "data": {
            "text/plain": [
              "(-0.5300904891613751, 11.23813700457545)"
            ]
          },
          "metadata": {},
          "execution_count": 154
        }
      ],
      "source": [
        "mean = X_t1ce.mean()\n",
        "std = X_t1ce.std()\n",
        "X_t1ce = (X_t1ce - mean)/(std + 1e-8)\n",
        "np.min(X_t1ce), np.max(X_t1ce)"
      ]
    },
    {
      "cell_type": "code",
      "execution_count": null,
      "metadata": {
        "colab": {
          "base_uri": "https://localhost:8080/"
        },
        "id": "hj3lJ9Eua2vQ",
        "outputId": "0f2ecc3b-ee0d-4886-d59d-08c852d63878"
      },
      "outputs": [
        {
          "output_type": "stream",
          "name": "stdout",
          "text": [
            "(750, 240, 240)\n"
          ]
        }
      ],
      "source": [
        "X_t2=[]\n",
        "for i in range(len(t2_path)):\n",
        "    a = sitk.ReadImage(t2_path[i])\n",
        "    a = sitk.GetArrayFromImage(a)\n",
        "    for j in range(25):\n",
        "        image = a[50+2*j,:,:]\n",
        "        #noisy_image = add_gaussian_noise(image)\n",
        "        #noisy_image = add_speckle_noise(image, mean=0, sigma=0.1)\n",
        "        #noisy_image = add_poisson_noise(image, scale=100)\n",
        "        X_t2.append(image)\n",
        "print(np.shape(X_t2))"
      ]
    },
    {
      "cell_type": "code",
      "execution_count": null,
      "metadata": {
        "id": "T1rNbpX-fH7L"
      },
      "outputs": [],
      "source": [
        "X_t2 = np.asarray(X_t2).astype(np.float32)\n",
        "X_t2 = pca_color_augmentation_tensor(X_t2[:,:,:])"
      ]
    },
    {
      "cell_type": "code",
      "execution_count": null,
      "metadata": {
        "colab": {
          "base_uri": "https://localhost:8080/"
        },
        "id": "ynOIXHD0UFkV",
        "outputId": "533c4b09-8f6f-4476-b843-76a07ce2ee6b"
      },
      "outputs": [
        {
          "output_type": "execute_result",
          "data": {
            "text/plain": [
              "(-0.5119120719504342, 8.87534913984382)"
            ]
          },
          "metadata": {},
          "execution_count": 157
        }
      ],
      "source": [
        "mean = X_t2.mean()\n",
        "std = X_t2.std()\n",
        "X_t2 = (X_t2 - mean)/(std + 1e-8)\n",
        "np.min(X_t2), np.max(X_t2)"
      ]
    },
    {
      "cell_type": "code",
      "execution_count": null,
      "metadata": {
        "colab": {
          "base_uri": "https://localhost:8080/"
        },
        "id": "oXuqfN6dbLp_",
        "outputId": "2eed2f4c-00d6-4ff5-a7d0-83e3b255cffa"
      },
      "outputs": [
        {
          "output_type": "stream",
          "name": "stdout",
          "text": [
            "(750, 240, 240)\n"
          ]
        }
      ],
      "source": [
        "X_seg=[]\n",
        "for i in range(len(seg_path)):\n",
        "    a = sitk.ReadImage(seg_path[i])\n",
        "    a = sitk.GetArrayFromImage(a)\n",
        "    for j in range(25):\n",
        "        X_seg.append((a[50+2*j,:,:]))\n",
        "print(np.shape(X_seg))"
      ]
    },
    {
      "cell_type": "code",
      "execution_count": null,
      "metadata": {
        "id": "-aV-yA6gcRXu"
      },
      "outputs": [],
      "source": [
        "X_seg = np.asarray(X_seg).astype(np.float32)"
      ]
    },
    {
      "cell_type": "code",
      "execution_count": null,
      "metadata": {
        "colab": {
          "base_uri": "https://localhost:8080/"
        },
        "id": "AnBB3AB3a0LP",
        "outputId": "0e804c98-5088-4ff0-ac22-c1c8aa3ccc82"
      },
      "outputs": [
        {
          "output_type": "stream",
          "name": "stdout",
          "text": [
            "750\n"
          ]
        }
      ],
      "source": [
        "print(X_flair.shape[0])"
      ]
    },
    {
      "cell_type": "code",
      "execution_count": null,
      "metadata": {
        "id": "bBVPBlRp6tLB"
      },
      "outputs": [],
      "source": [
        "data = np.zeros((X_flair.shape[0],240,240,4))\n",
        "for i in range(data.shape[0]):\n",
        "    data[i,:,:,0] = X_flair[i,:,:]\n",
        "    data[i,:,:,1] = X_t1[i,:,:]\n",
        "    data[i,:,:,2] = X_t1ce[i,:,:]\n",
        "    data[i,:,:,3] = X_t2[i,:,:]"
      ]
    },
    {
      "cell_type": "code",
      "execution_count": null,
      "metadata": {
        "colab": {
          "base_uri": "https://localhost:8080/"
        },
        "id": "AIjHDWaV79eC",
        "outputId": "cb5ed082-c920-461b-fd8b-f13ce5305f4b"
      },
      "outputs": [
        {
          "output_type": "stream",
          "name": "stdout",
          "text": [
            "(750, 240, 240, 4)\n"
          ]
        }
      ],
      "source": [
        "print(np.shape(data))"
      ]
    },
    {
      "cell_type": "code",
      "execution_count": null,
      "metadata": {
        "id": "9Y6vymfxD_cF"
      },
      "outputs": [],
      "source": [
        "del X_flair\n",
        "del X_t1\n",
        "del X_t2\n",
        "del X_t1ce"
      ]
    },
    {
      "cell_type": "code",
      "execution_count": null,
      "metadata": {
        "colab": {
          "base_uri": "https://localhost:8080/"
        },
        "id": "GLaqcxM6cVrF",
        "outputId": "66c6d7da-db13-45af-8592-cf02c87b22dd"
      },
      "outputs": [
        {
          "output_type": "stream",
          "name": "stdout",
          "text": [
            "[0. 1. 2. 4.]\n"
          ]
        }
      ],
      "source": [
        "print(np.unique(X_seg))"
      ]
    },
    {
      "cell_type": "code",
      "execution_count": null,
      "metadata": {
        "id": "qXMxghqIBW8u"
      },
      "outputs": [],
      "source": [
        "X_seg[X_seg == 4] = 3"
      ]
    },
    {
      "cell_type": "code",
      "execution_count": null,
      "metadata": {
        "colab": {
          "base_uri": "https://localhost:8080/"
        },
        "id": "H0tI1I6G8x0z",
        "outputId": "7e74fc47-599d-4abb-a83a-f75f148f2bce"
      },
      "outputs": [
        {
          "output_type": "stream",
          "name": "stdout",
          "text": [
            "[0. 1. 2. 3.]\n"
          ]
        }
      ],
      "source": [
        "print(np.unique(X_seg))"
      ]
    },
    {
      "cell_type": "code",
      "execution_count": null,
      "metadata": {
        "colab": {
          "base_uri": "https://localhost:8080/"
        },
        "id": "gbwIiU95RlHO",
        "outputId": "273e22fe-e3c3-4b93-b02e-23a2190fc1ae"
      },
      "outputs": [
        {
          "output_type": "stream",
          "name": "stdout",
          "text": [
            "(750, 240, 240)\n"
          ]
        }
      ],
      "source": [
        "print(X_seg.shape)"
      ]
    },
    {
      "cell_type": "code",
      "execution_count": null,
      "metadata": {
        "colab": {
          "base_uri": "https://localhost:8080/"
        },
        "id": "iMmO-RWj23zP",
        "outputId": "7fc92218-63cf-4c5d-ca40-b47275cc0d32"
      },
      "outputs": [
        {
          "output_type": "stream",
          "name": "stdout",
          "text": [
            "(750, 240, 240, 4)\n"
          ]
        }
      ],
      "source": [
        "from tensorflow.keras.utils import to_categorical\n",
        "gt = to_categorical(X_seg, num_classes=None)\n",
        "print(gt.shape)"
      ]
    },
    {
      "cell_type": "code",
      "execution_count": null,
      "metadata": {
        "colab": {
          "base_uri": "https://localhost:8080/"
        },
        "id": "PqPY9vYCbkKN",
        "outputId": "a819621c-2476-4e5b-b2c6-35935ce63c97"
      },
      "outputs": [
        {
          "output_type": "stream",
          "name": "stdout",
          "text": [
            "(750, 240, 240, 4)\n",
            "(750, 240, 240, 4)\n"
          ]
        }
      ],
      "source": [
        "print(data.shape)\n",
        "print(gt.shape)"
      ]
    },
    {
      "cell_type": "code",
      "execution_count": null,
      "metadata": {
        "id": "GxQVciKQMGff"
      },
      "outputs": [],
      "source": [
        "del X_seg"
      ]
    },
    {
      "cell_type": "code",
      "execution_count": null,
      "metadata": {
        "id": "qQVOCRWnvwz4"
      },
      "outputs": [],
      "source": [
        "from sklearn.model_selection import train_test_split\n",
        "X_train , X_test, Y_train, Y_test = train_test_split(data, gt, test_size=0.30, random_state=42)\n"
      ]
    },
    {
      "cell_type": "code",
      "execution_count": null,
      "metadata": {
        "colab": {
          "base_uri": "https://localhost:8080/"
        },
        "id": "FYdaQwqNvwsh",
        "outputId": "417f61ef-51e2-4c2b-ea37-2d61c46e1620"
      },
      "outputs": [
        {
          "output_type": "stream",
          "name": "stdout",
          "text": [
            "(525, 240, 240, 4)\n",
            "(225, 240, 240, 4)\n"
          ]
        }
      ],
      "source": [
        "print(X_train.shape)\n",
        "print(X_test.shape)"
      ]
    },
    {
      "cell_type": "code",
      "execution_count": null,
      "metadata": {
        "colab": {
          "base_uri": "https://localhost:8080/"
        },
        "id": "WWz-hyqVvwj8",
        "outputId": "21255bef-3159-4328-a463-2ec6e005fb41"
      },
      "outputs": [
        {
          "output_type": "stream",
          "name": "stdout",
          "text": [
            "(525, 240, 240, 4)\n",
            "(225, 240, 240, 4)\n"
          ]
        }
      ],
      "source": [
        "print(Y_train.shape)\n",
        "print(Y_test.shape)"
      ]
    },
    {
      "cell_type": "code",
      "execution_count": null,
      "metadata": {
        "id": "4Is_BJ-95Q1-"
      },
      "outputs": [],
      "source": [
        "from keras.preprocessing.image import ImageDataGenerator"
      ]
    },
    {
      "cell_type": "code",
      "execution_count": null,
      "metadata": {
        "id": "aaqOzNkf5Qwi"
      },
      "outputs": [],
      "source": [
        "image_datagen = ImageDataGenerator(rotation_range=5,\n",
        "                                    horizontal_flip=True,\n",
        "                                    vertical_flip=True,\n",
        "                                    width_shift_range=0.1,\n",
        "                                    height_shift_range=0.1,\n",
        "                                    shear_range=0.1,\n",
        "                                    zoom_range=0.1)\n",
        "mask_datagen = ImageDataGenerator(rotation_range=5,\n",
        "                                    horizontal_flip=True,\n",
        "                                    vertical_flip=True,\n",
        "                                    width_shift_range=0.1,\n",
        "                                    height_shift_range=0.1,\n",
        "                                    shear_range=0.1,\n",
        "                                    zoom_range=0.1)"
      ]
    },
    {
      "cell_type": "code",
      "execution_count": null,
      "metadata": {
        "id": "qq3hnaN65QlT"
      },
      "outputs": [],
      "source": [
        "input_gen = image_datagen.flow(X_train, batch_size=8, seed=1)\n",
        "out_gen = mask_datagen.flow(Y_train, batch_size=8, seed=1)"
      ]
    },
    {
      "cell_type": "code",
      "execution_count": null,
      "metadata": {
        "id": "TTvnM3C-LtvA"
      },
      "outputs": [],
      "source": [
        "def train_generator(input_gen, out_gen):\n",
        "    while True:\n",
        "        image_next = input_gen.next()\n",
        "        mask_next  = out_gen.next()\n",
        "        yield image_next, [mask_next, mask_next, mask_next, mask_next]"
      ]
    },
    {
      "cell_type": "code",
      "execution_count": null,
      "metadata": {
        "id": "KrkAEt_AEWay"
      },
      "outputs": [],
      "source": [
        "from scipy.stats import pearsonr\n",
        "from tensorflow.keras.layers import Conv2D, BatchNormalization, LeakyReLU, Add, Activation, UpSampling2D, multiply\n",
        "from tensorflow.keras import regularizers\n",
        "def ieg_block2d(x, g, ch_inp, i, data_format='channels_last'):\n",
        "    reg = regularizers.l2(1e-5)\n",
        "    def conv_bn(x, filters, kernel_size, strides, dilation_rate=1):\n",
        "        x = Conv2D(filters, kernel_size, strides=strides, dilation_rate=dilation_rate,\n",
        "                   data_format=data_format, kernel_regularizer=reg)(x)\n",
        "        x = BatchNormalization()(x)\n",
        "        return x\n",
        "    x1 = conv_bn(x, ch_inp, [2, 2], strides=[2, 2])\n",
        "    x2 = conv_bn(g, ch_inp, [1, 1], strides=[1, 1], dilation_rate=i)\n",
        "    f = LeakyReLU(alpha=0.001)(Add()([x1, x2]))\n",
        "    x3 = conv_bn(f, 1, [1, 1], strides=[1, 1], dilation_rate=i)\n",
        "    x4 = Activation('sigmoid')(x3)\n",
        "    x5 = UpSampling2D(size=[2, 2])(x4)\n",
        "    att_x = multiply([x, x5])\n",
        "    return att_x"
      ]
    },
    {
      "cell_type": "code",
      "execution_count": null,
      "metadata": {
        "id": "j3a4tAdRlLWV"
      },
      "outputs": [],
      "source": [
        "from tensorflow.keras.layers import Conv2D, BatchNormalization, LeakyReLU, Add, MaxPooling2D\n",
        "from tensorflow.keras import regularizers\n",
        "\n",
        "def res_block(x, nb_filters, strides, i):\n",
        "    reg = regularizers.l2(1e-5)\n",
        "    def conv_bn_relu(x, filters, kernel_size, strides=1, dilation_rate=1, padding='same'):\n",
        "        x = Conv2D(filters=filters, kernel_size=kernel_size, strides=strides, dilation_rate=dilation_rate,\n",
        "                   padding=padding, kernel_regularizer=reg)(x)\n",
        "        x = BatchNormalization()(x)\n",
        "        x = LeakyReLU(alpha=0.001)(x)\n",
        "        return x\n",
        "    # Initial batch normalization and pooling\n",
        "    res_inp = BatchNormalization()(x)\n",
        "    res_inp = LeakyReLU(alpha=0.001)(res_inp)\n",
        "    pool = MaxPooling2D(pool_size=(2, 2))(res_inp)\n",
        "    # conv-BN-ReLU\n",
        "    res_inp = conv_bn_relu(pool, nb_filters[0], (3, 3), strides=strides[1], dilation_rate=i)\n",
        "    res_inp = conv_bn_relu(res_inp, nb_filters[1], (3, 3), strides=strides[1], dilation_rate=i)\n",
        "    shortcut = Conv2D(nb_filters[1], (1, 1), strides=strides[1], dilation_rate=i, padding='same',\n",
        "                      kernel_regularizer=reg)(pool)\n",
        "    shortcut = BatchNormalization()(shortcut)\n",
        "    res_inp = Add()([shortcut, res_inp])\n",
        "    return res_inp\n"
      ]
    },
    {
      "cell_type": "code",
      "execution_count": null,
      "metadata": {
        "id": "J7hpdbkfh0it"
      },
      "outputs": [],
      "source": [
        "def contraction(x):\n",
        "    to_expansion = []\n",
        "\n",
        "    con_inp = Conv2D(filters=64, kernel_size=(3, 3), padding='same',dilation_rate=(1,1), strides=(1, 1), kernel_regularizer=regularizers.l2(1e-5))(x)\n",
        "    con_inp = BatchNormalization()(con_inp)\n",
        "    con_inp = LeakyReLU(alpha=0.001)(con_inp)\n",
        "\n",
        "    con_inp = Conv2D(filters=64, kernel_size=(3, 3), padding='same',dilation_rate=(1,1),strides=(1, 1), kernel_regularizer=regularizers.l2(1e-5))(con_inp)\n",
        "\n",
        "    shortcut = Conv2D(filters=64, kernel_size=(1, 1), strides=(1, 1),dilation_rate=(1,1), kernel_regularizer=regularizers.l2(1e-5))(x)\n",
        "    shortcut = BatchNormalization()(shortcut)\n",
        "\n",
        "    con_inp = Add()([shortcut, con_inp])\n",
        "\n",
        "    # first branching to expansion\n",
        "    to_expansion.append(con_inp)\n",
        "\n",
        "    con_inp = res_block(con_inp, [128, 128], [(2, 2), (1, 1)],(1,1))\n",
        "    to_expansion.append(con_inp)\n",
        "\n",
        "    con_inp = res_block(con_inp, [256, 256], [(2, 2), (1, 1)],(2,2))\n",
        "    to_expansion.append(con_inp)\n",
        "\n",
        "    con_inp = res_block(con_inp, [512, 512], [(2, 2), (1, 1)],(4,4))\n",
        "    to_expansion.append(con_inp)\n",
        "\n",
        "    return to_expansion"
      ]
    },
    {
      "cell_type": "code",
      "execution_count": null,
      "metadata": {
        "id": "d21KxhILicou"
      },
      "outputs": [],
      "source": [
        "def res_block_expansion(x, nb_filters, strides,i):\n",
        "\n",
        "    res_path = BatchNormalization()(x)\n",
        "    res_path = LeakyReLU(alpha=0.001)(res_path)\n",
        "    res_path = Conv2D(filters=nb_filters[0], kernel_size=(3, 3), padding='same', dilation_rate=i, strides=strides[1], kernel_regularizer=regularizers.l2(1e-5))(res_path)\n",
        "    res_path = BatchNormalization()(res_path)\n",
        "    res_path = LeakyReLU(alpha=0.001)(res_path)\n",
        "    res_path = Conv2D(filters=nb_filters[1], kernel_size=(3, 3), padding='same', dilation_rate=i, strides=strides[1], kernel_regularizer=regularizers.l2(1e-5))(res_path)\n",
        "\n",
        "    shortcut = Conv2D(nb_filters[1], kernel_size=(1, 1), strides=strides[1], dilation_rate=i, kernel_regularizer=regularizers.l2(1e-5))(x)\n",
        "    shortcut = BatchNormalization()(shortcut)\n",
        "\n",
        "    res_path = Add()([shortcut, res_path])\n",
        "\n",
        "    return res_path\n"
      ]
    },
    {
      "cell_type": "code",
      "execution_count": null,
      "metadata": {
        "id": "c-LRm-5iElVi"
      },
      "outputs": [],
      "source": [
        "def expansion(x, from_contraction):\n",
        "\n",
        "    # Layer 4\n",
        "    ieg_path1 = ieg_block2d(from_contraction[3], x, 256, (1,1), data_format='channels_last')\n",
        "\n",
        "    exp_inp1 = Conv2DTranspose(512, (2, 2), strides=(2, 2), padding='same',dilation_rate=(1,1),kernel_regularizer=regularizers.l2(1e-5))(x)\n",
        "    exp_inp1 = Concatenate()([exp_inp1,ieg_path1])\n",
        "    exp_inp1 = res_block_expansion(exp_inp1, [512, 512], [(1, 1), (1, 1)],(4,4))\n",
        "\n",
        "    hc1 = trans_conv_operation(exp_inp1)\n",
        "    out_1 = Conv2D(filters=4, kernel_size=(1, 1), activation='softmax', name='out_1')(hc1)\n",
        "\n",
        "\n",
        "    # Layer 3\n",
        "    ieg_path2 = ieg_block2d(from_contraction[2],exp_inp1 ,128,(1,1),data_format='channels_last')\n",
        "\n",
        "    exp_inp2 = Conv2DTranspose(256, (2, 2), strides=(2, 2), dilation_rate=(1,1), padding='same', kernel_regularizer=regularizers.l2(1e-5))(exp_inp1)\n",
        "    exp_inp2 = Concatenate()([exp_inp2,ieg_path2])\n",
        "    exp_inp2 = res_block_expansion(exp_inp2, [256, 256], [(1, 1), (1, 1)],(2,2))\n",
        "\n",
        "    hc2 = trans_conv_operation_two(exp_inp2)\n",
        "    out_2 = Conv2D(filters=4, kernel_size=(1, 1), activation='softmax', name='out_2')(hc2)\n",
        "\n",
        "\n",
        "    # Layer 2\n",
        "    ieg_path3 = ieg_block2d(from_contraction[1],exp_inp2,64,(1,1),data_format='channels_last')\n",
        "\n",
        "    exp_inp3 = Conv2DTranspose(128, (2, 2), strides=(2, 2), padding='same',dilation_rate=(1,1), kernel_regularizer=regularizers.l2(1e-5)) (exp_inp2)\n",
        "    exp_inp3 = Concatenate()([exp_inp3,ieg_path3])\n",
        "    exp_inp3 = res_block_expansion(exp_inp3, [128, 128], [(1, 1), (1, 1)],(1,1))\n",
        "\n",
        "    hc3 = trans_conv_operation_one(exp_inp3)\n",
        "    out_3 = Conv2D(filters=4, kernel_size=(1, 1), activation='softmax', name='out_3')(hc3)\n",
        "\n",
        "\n",
        "    # Layer 1\n",
        "    ieg_path4 = ieg_block2d(from_contraction[0],exp_inp3,32,(1,1),data_format='channels_last')\n",
        "\n",
        "    exp_inp4 = Conv2DTranspose(64, (2, 2), strides=(2, 2), padding='same',dilation_rate=(1,1),kernel_regularizer=regularizers.l2(1e-5)) (exp_inp3)\n",
        "    exp_inp4 = Concatenate()([exp_inp4,ieg_path4])\n",
        "    exp_inp4 = res_block_expansion(exp_inp4, [64, 64], [(1, 1), (1, 1)],(1,1))\n",
        "\n",
        "    return exp_inp4, out_3, out_2, out_1"
      ]
    },
    {
      "cell_type": "code",
      "execution_count": null,
      "metadata": {
        "id": "7zW8NdlotSOe"
      },
      "outputs": [],
      "source": [
        "def trans_conv_operation(input_val):\n",
        "    tran_x1 = Conv2DTranspose(256, (2, 2), strides=(2, 2), padding='same',dilation_rate=(1,1),kernel_regularizer=regularizers.l2(1e-5)) (input_val)\n",
        "    tran_x2 = Conv2DTranspose(128, (2, 2), strides=(2, 2), padding='same',dilation_rate=(1,1), kernel_regularizer=regularizers.l2(1e-5)) (tran_x1)\n",
        "    tran_x3 = Conv2DTranspose(64, (2, 2), strides=(2, 2), padding='same',dilation_rate=(1,1), kernel_regularizer=regularizers.l2(1e-5)) (tran_x2)\n",
        "    return tran_x3\n",
        "def trans_conv_operation_two(input_val):\n",
        "    tran_x1 = Conv2DTranspose(128, (2, 2), strides=(2, 2), padding='same',dilation_rate=(1,1), kernel_regularizer=regularizers.l2(1e-5))(input_val)\n",
        "    tran_x2 = Conv2DTranspose(64, (2, 2), strides=(2, 2), padding='same',dilation_rate=(1,1) ,kernel_regularizer=regularizers.l2(1e-5))(tran_x1)\n",
        "    return tran_x2\n",
        "def trans_conv_operation_one(input_val):\n",
        "    tran_x1 = Conv2DTranspose(64, (2, 2), strides=(2, 2), padding='same',dilation_rate=(1,1), kernel_regularizer=regularizers.l2(1e-5)) (input_val)\n",
        "    return tran_x1"
      ]
    },
    {
      "cell_type": "code",
      "execution_count": null,
      "metadata": {
        "id": "sgquJ2yK7jum"
      },
      "outputs": [],
      "source": [
        "def hybrid_model(input_shape):\n",
        "    inputs = Input(shape=input_shape)\n",
        "\n",
        "    to_expansion = contraction(inputs)\n",
        "\n",
        "    path = res_block(to_expansion[3], [1024, 1024], [(2, 2), (1, 1)],(8,8))\n",
        "\n",
        "    final_out, out_3, out_2, out_1 = expansion(path, from_contraction=to_expansion)\n",
        "\n",
        "    final_out = Conv2D(filters=4, kernel_size=(1, 1), activation='sigmoid', name='final_output')(final_out)\n",
        "\n",
        "    return Model(inputs=inputs, outputs= [final_out, out_3, out_2, out_1])"
      ]
    },
    {
      "cell_type": "code",
      "execution_count": null,
      "metadata": {
        "id": "9RgxLmds6L1H"
      },
      "outputs": [],
      "source": [
        "def dice_coef_0(y_true, y_pred,smooth=0.000001):\n",
        "    y_true_f = K.flatten(y_true[:,:,:,0])\n",
        "    y_pred_f = K.flatten(y_pred[:,:,:,0])\n",
        "    intersection = K.sum(y_true_f * y_pred_f)\n",
        "    return (2. * intersection + smooth) / (K.sum(y_true_f) + K.sum(y_pred_f) + smooth)\n",
        "\n",
        "def dice_coef_1(y_true, y_pred,smooth=0.000001):\n",
        "    y_true_f = K.flatten(y_true[:,:,:,1])\n",
        "    y_pred_f = K.flatten(y_pred[:,:,:,1])\n",
        "    intersection = K.sum(y_true_f * y_pred_f)\n",
        "    return (2. * intersection + smooth) / (K.sum(y_true_f) + K.sum(y_pred_f) + smooth)\n",
        "\n",
        "def dice_coef_2(y_true, y_pred,smooth=0.000001):\n",
        "    y_true_f = K.flatten(y_true[:,:,:,2])\n",
        "    y_pred_f = K.flatten(y_pred[:,:,:,2])\n",
        "    intersection = K.sum(y_true_f * y_pred_f)\n",
        "    return (2. * intersection + smooth) / (K.sum(y_true_f) + K.sum(y_pred_f) + smooth)\n",
        "\n",
        "def dice_coef_3(y_true, y_pred,smooth=0.000001):\n",
        "    y_true_f = K.flatten(y_true[:,:,:,3])\n",
        "    y_pred_f = K.flatten(y_pred[:,:,:,3])\n",
        "    intersection = K.sum(y_true_f * y_pred_f)\n",
        "    return (2. * intersection + smooth) / (K.sum(y_true_f) + K.sum(y_pred_f) + smooth)\n",
        "\n",
        "def precision(y_true, y_pred):\n",
        "        true_positives = K.sum(K.round(K.clip(y_true * y_pred, 0, 1)))\n",
        "        predicted_positives = K.sum(K.round(K.clip(y_pred, 0, 1)))\n",
        "        precision = true_positives / (predicted_positives + K.epsilon())\n",
        "        return precision\n",
        "\n",
        "def sensitivity(y_true, y_pred):\n",
        "    true_positives = K.sum(K.round(K.clip(y_true * y_pred, 0, 1)))\n",
        "    possible_positives = K.sum(K.round(K.clip(y_true, 0, 1)))\n",
        "    return true_positives / (possible_positives + K.epsilon())\n",
        "\n",
        "def specificity(y_true, y_pred):\n",
        "    true_negatives = K.sum(K.round(K.clip((1-y_true) * (1-y_pred), 0, 1)))\n",
        "    possible_negatives = K.sum(K.round(K.clip(1-y_true, 0, 1)))\n",
        "    return true_negatives / (possible_negatives + K.epsilon())"
      ]
    },
    {
      "cell_type": "code",
      "execution_count": null,
      "metadata": {
        "id": "wG0uBNMw01l7"
      },
      "outputs": [],
      "source": [
        "def dice_score(y_true, y_pred):\n",
        "    d0 = dice_coef_0(y_true, y_pred,smooth=0.000001)\n",
        "    d1 = dice_coef_1(y_true, y_pred,smooth=0.000001)\n",
        "    d2 = dice_coef_2(y_true, y_pred,smooth=0.000001)\n",
        "    d3 = dice_coef_3(y_true, y_pred,smooth=0.000001)\n",
        "\n",
        "    dice_mean = (d0+d1+d2+d3)/4\n",
        "    return dice_mean\n",
        "\n",
        "def weighted_dice_score(y_true, y_pred):\n",
        "    ds0 = dice_coef_0(y_true, y_pred,smooth=0.000001)\n",
        "    ds1 = dice_coef_1(y_true, y_pred,smooth=0.000001)\n",
        "    ds2 = dice_coef_2(y_true, y_pred,smooth=0.000001)\n",
        "    ds3 = dice_coef_3(y_true, y_pred,smooth=0.000001)\n",
        "    weighted_dice_mean = (ds0+(5*ds1)+(2*ds2)+(4*ds3))/12\n",
        "    return weighted_dice_mean\n",
        "\n",
        "def correlation_coefficient_loss(y_true, y_pred):\n",
        "    x = y_true\n",
        "    y = y_pred\n",
        "    mx = K.mean(x)\n",
        "    my = K.mean(y)\n",
        "    xm, ym = x-mx, y-my\n",
        "    r_num = K.sum(xm * ym)\n",
        "    r_den = K.sum(K.sum(K.square(xm)) * K.sum(K.square(ym)))\n",
        "    r = r_num / r_den\n",
        "    return 1 - r**2"
      ]
    },
    {
      "cell_type": "code",
      "execution_count": null,
      "metadata": {
        "id": "rGndL1I1tWSx"
      },
      "outputs": [],
      "source": [
        "def dice_loss(y_true, y_pred):\n",
        "    return 1-dice_score(y_true, y_pred)\n",
        "def weighted_dice_loss(y_true, y_pred):\n",
        "    return 1-weighted_dice_score(y_true, y_pred)"
      ]
    },
    {
      "cell_type": "code",
      "execution_count": null,
      "metadata": {
        "id": "gZW9LvrBnDlc"
      },
      "outputs": [],
      "source": [
        "import tensorflow as tf\n",
        "def weighted_log_loss(y_true, y_pred):\n",
        "    y_pred /= tf.reduce_sum(y_pred, axis=-1, keepdims=True)\n",
        "    y_pred = tf.clip_by_value(y_pred, tf.keras.backend.epsilon(), 1 - tf.keras.backend.epsilon())\n",
        "    weights = tf.constant([1, 5, 2, 4], dtype=tf.float32)\n",
        "    loss = y_true * tf.math.log(y_pred) * weights\n",
        "    loss = tf.reduce_mean(-tf.reduce_sum(loss, -1))\n",
        "    return loss\n"
      ]
    },
    {
      "cell_type": "code",
      "execution_count": null,
      "metadata": {
        "id": "CLv-6ZVynHIa"
      },
      "outputs": [],
      "source": [
        "def corr_dice_loss(y_true, y_pred):\n",
        "    return weighted_dice_loss(y_true, y_pred)+weighted_log_loss(y_true,y_pred)+correlation_coefficient_loss(y_true,y_pred)"
      ]
    },
    {
      "cell_type": "code",
      "execution_count": null,
      "metadata": {
        "id": "9mQ6z4KW8qGx"
      },
      "outputs": [],
      "source": [
        "input_shape = (240,240,4)\n",
        "losses = {\n",
        "    'final_output':corr_dice_loss,\n",
        "    'out_3':corr_dice_loss,\n",
        "    'out_2':corr_dice_loss,\n",
        "    'out_1':corr_dice_loss,\n",
        "}\n",
        "lossWeights = {\"final_output\": 0.5, \"out_3\": 0.125, \"out_2\": 0.125, \"out_1\": 0.125}"
      ]
    },
    {
      "cell_type": "code",
      "source": [
        "batch_size = 64\n",
        "image_size = 240\n",
        "epochs = 100"
      ],
      "metadata": {
        "id": "OTyZc80oICzb"
      },
      "execution_count": null,
      "outputs": []
    },
    {
      "cell_type": "code",
      "execution_count": null,
      "metadata": {
        "id": "V5MxDnLYvuIP"
      },
      "outputs": [],
      "source": [
        "model = hybrid_model(input_shape)"
      ]
    },
    {
      "cell_type": "code",
      "execution_count": null,
      "metadata": {
        "id": "gMbA5ClzaS5b",
        "colab": {
          "base_uri": "https://localhost:8080/"
        },
        "outputId": "dc6d5cbb-6e62-4e5f-e1cd-021822b511e1"
      },
      "outputs": [
        {
          "output_type": "stream",
          "name": "stderr",
          "text": [
            "/usr/local/lib/python3.10/dist-packages/keras/src/optimizers/legacy/adam.py:118: UserWarning: The `lr` argument is deprecated, use `learning_rate` instead.\n",
            "  super().__init__(name, **kwargs)\n"
          ]
        }
      ],
      "source": [
        "model.compile(optimizer=tf.keras.optimizers.legacy.Adam(lr=0.0001), loss= losses,\n",
        "              metrics=['accuracy',dice_score,precision, sensitivity, specificity])"
      ]
    },
    {
      "cell_type": "code",
      "execution_count": null,
      "metadata": {
        "id": "x6VK7GTg9LQB",
        "colab": {
          "base_uri": "https://localhost:8080/"
        },
        "outputId": "5c84e0fc-e269-4911-c3e4-1ad733c2b9b5"
      },
      "outputs": [
        {
          "output_type": "stream",
          "name": "stdout",
          "text": [
            "Epoch 1/100\n",
            "8/8 [==============================] - 20s 1s/step - loss: 12.8179 - final_output_loss: 3.3969 - out_3_loss: 3.1177 - out_2_loss: 3.0943 - out_1_loss: 3.0919 - final_output_accuracy: 0.3211 - final_output_dice_score: 0.1917 - final_output_precision: 0.3139 - final_output_sensitivity: 0.6429 - final_output_specificity: 0.5419 - out_3_accuracy: 0.6388 - out_3_dice_score: 0.1552 - out_3_precision: 0.6695 - out_3_sensitivity: 0.2844 - out_3_specificity: 0.9738 - out_2_accuracy: 0.6582 - out_2_dice_score: 0.1500 - out_2_precision: 0.7317 - out_2_sensitivity: 0.2209 - out_2_specificity: 0.9882 - out_1_accuracy: 0.6658 - out_1_dice_score: 0.1449 - out_1_precision: 0.7344 - out_1_sensitivity: 0.1757 - out_1_specificity: 0.9949 - val_loss: 13.5533 - val_final_output_loss: 3.3444 - val_out_3_loss: 3.3604 - val_out_2_loss: 3.3647 - val_out_1_loss: 3.3668 - val_final_output_accuracy: 0.2967 - val_final_output_dice_score: 0.1918 - val_final_output_precision: 0.3451 - val_final_output_sensitivity: 0.9304 - val_final_output_specificity: 0.4115 - val_out_3_accuracy: 0.7258 - val_out_3_dice_score: 0.1214 - val_out_3_precision: 0.0933 - val_out_3_sensitivity: 3.6621e-06 - val_out_3_specificity: 1.0000 - val_out_2_accuracy: 0.9053 - val_out_2_dice_score: 0.1212 - val_out_2_precision: 0.0312 - val_out_2_sensitivity: 6.7817e-08 - val_out_2_specificity: 1.0000 - val_out_1_accuracy: 0.9392 - val_out_1_dice_score: 0.1211 - val_out_1_precision: 0.0000e+00 - val_out_1_sensitivity: 0.0000e+00 - val_out_1_specificity: 1.0000\n",
            "Epoch 2/100\n",
            "8/8 [==============================] - 3s 359ms/step - loss: 9.8209 - final_output_loss: 2.8521 - out_3_loss: 2.3107 - out_2_loss: 2.3068 - out_1_loss: 2.2340 - final_output_accuracy: 0.7772 - final_output_dice_score: 0.2484 - final_output_precision: 0.5164 - final_output_sensitivity: 0.9717 - final_output_specificity: 0.6954 - out_3_accuracy: 0.9469 - out_3_dice_score: 0.2587 - out_3_precision: 0.9787 - out_3_sensitivity: 0.9012 - out_3_specificity: 0.9932 - out_2_accuracy: 0.9628 - out_2_dice_score: 0.2557 - out_2_precision: 0.9828 - out_2_sensitivity: 0.9051 - out_2_specificity: 0.9945 - out_1_accuracy: 0.9695 - out_1_dice_score: 0.2693 - out_1_precision: 0.9800 - out_1_sensitivity: 0.9383 - out_1_specificity: 0.9935 - val_loss: 12.5123 - val_final_output_loss: 3.2379 - val_out_3_loss: 3.1754 - val_out_2_loss: 3.0425 - val_out_1_loss: 2.9394 - val_final_output_accuracy: 0.7989 - val_final_output_dice_score: 0.2053 - val_final_output_precision: 0.5543 - val_final_output_sensitivity: 0.9911 - val_final_output_specificity: 0.7342 - val_out_3_accuracy: 0.9468 - val_out_3_dice_score: 0.1388 - val_out_3_precision: 0.3962 - val_out_3_sensitivity: 3.7028e-05 - val_out_3_specificity: 1.0000 - val_out_2_accuracy: 0.9569 - val_out_2_dice_score: 0.1540 - val_out_2_precision: 1.0000 - val_out_2_sensitivity: 9.7053e-04 - val_out_2_specificity: 1.0000 - val_out_1_accuracy: 0.9636 - val_out_1_dice_score: 0.1651 - val_out_1_precision: 1.0000 - val_out_1_sensitivity: 0.0605 - val_out_1_specificity: 1.0000\n",
            "Epoch 3/100\n",
            "8/8 [==============================] - 2s 316ms/step - loss: 8.7468 - final_output_loss: 2.6244 - out_3_loss: 2.0271 - out_2_loss: 1.9948 - out_1_loss: 1.9832 - final_output_accuracy: 0.8413 - final_output_dice_score: 0.2759 - final_output_precision: 0.5953 - final_output_sensitivity: 0.9931 - final_output_specificity: 0.7744 - out_3_accuracy: 0.9702 - out_3_dice_score: 0.3553 - out_3_precision: 0.9845 - out_3_sensitivity: 0.9549 - out_3_specificity: 0.9946 - out_2_accuracy: 0.9718 - out_2_dice_score: 0.3754 - out_2_precision: 0.9846 - out_2_sensitivity: 0.9596 - out_2_specificity: 0.9946 - out_1_accuracy: 0.9688 - out_1_dice_score: 0.3891 - out_1_precision: 0.9815 - out_1_sensitivity: 0.9608 - out_1_specificity: 0.9936 - val_loss: 11.0460 - val_final_output_loss: 3.1491 - val_out_3_loss: 2.8754 - val_out_2_loss: 2.5326 - val_out_1_loss: 2.3718 - val_final_output_accuracy: 0.8311 - val_final_output_dice_score: 0.2149 - val_final_output_precision: 0.5809 - val_final_output_sensitivity: 0.9940 - val_final_output_specificity: 0.7609 - val_out_3_accuracy: 0.9516 - val_out_3_dice_score: 0.1727 - val_out_3_precision: 0.9996 - val_out_3_sensitivity: 0.0871 - val_out_3_specificity: 1.0000 - val_out_2_accuracy: 0.9660 - val_out_2_dice_score: 0.2201 - val_out_2_precision: 0.9940 - val_out_2_sensitivity: 0.8396 - val_out_2_specificity: 0.9983 - val_out_1_accuracy: 0.9688 - val_out_1_dice_score: 0.2414 - val_out_1_precision: 0.9775 - val_out_1_sensitivity: 0.9208 - val_out_1_specificity: 0.9929\n",
            "Epoch 4/100\n",
            "8/8 [==============================] - 2s 313ms/step - loss: 8.3796 - final_output_loss: 2.4380 - out_3_loss: 1.9331 - out_2_loss: 1.9336 - out_1_loss: 1.9576 - final_output_accuracy: 0.8711 - final_output_dice_score: 0.2881 - final_output_precision: 0.6437 - final_output_sensitivity: 0.9958 - final_output_specificity: 0.8160 - out_3_accuracy: 0.9729 - out_3_dice_score: 0.4017 - out_3_precision: 0.9812 - out_3_sensitivity: 0.9647 - out_3_specificity: 0.9937 - out_2_accuracy: 0.9724 - out_2_dice_score: 0.4071 - out_2_precision: 0.9832 - out_2_sensitivity: 0.9648 - out_2_specificity: 0.9943 - out_1_accuracy: 0.9717 - out_1_dice_score: 0.3962 - out_1_precision: 0.9836 - out_1_sensitivity: 0.9652 - out_1_specificity: 0.9944 - val_loss: 10.2043 - val_final_output_loss: 3.0320 - val_out_3_loss: 2.5668 - val_out_2_loss: 2.2619 - val_out_1_loss: 2.2265 - val_final_output_accuracy: 0.8678 - val_final_output_dice_score: 0.2250 - val_final_output_precision: 0.6297 - val_final_output_sensitivity: 0.9939 - val_final_output_specificity: 0.8051 - val_out_3_accuracy: 0.9667 - val_out_3_dice_score: 0.2130 - val_out_3_precision: 0.9959 - val_out_3_sensitivity: 0.8380 - val_out_3_specificity: 0.9989 - val_out_2_accuracy: 0.9673 - val_out_2_dice_score: 0.2666 - val_out_2_precision: 0.9804 - val_out_2_sensitivity: 0.9262 - val_out_2_specificity: 0.9938 - val_out_1_accuracy: 0.9675 - val_out_1_dice_score: 0.2720 - val_out_1_precision: 0.9699 - val_out_1_sensitivity: 0.9463 - val_out_1_specificity: 0.9901\n",
            "Epoch 5/100\n",
            "8/8 [==============================] - 2s 311ms/step - loss: 7.9924 - final_output_loss: 2.3145 - out_3_loss: 1.8079 - out_2_loss: 1.8549 - out_1_loss: 1.8979 - final_output_accuracy: 0.8965 - final_output_dice_score: 0.2965 - final_output_precision: 0.6980 - final_output_sensitivity: 0.9954 - final_output_specificity: 0.8563 - out_3_accuracy: 0.9788 - out_3_dice_score: 0.4779 - out_3_precision: 0.9834 - out_3_sensitivity: 0.9743 - out_3_specificity: 0.9944 - out_2_accuracy: 0.9773 - out_2_dice_score: 0.4464 - out_2_precision: 0.9857 - out_2_sensitivity: 0.9705 - out_2_specificity: 0.9951 - out_1_accuracy: 0.9730 - out_1_dice_score: 0.4192 - out_1_precision: 0.9844 - out_1_sensitivity: 0.9654 - out_1_specificity: 0.9947 - val_loss: 9.7991 - val_final_output_loss: 2.9022 - val_out_3_loss: 2.3789 - val_out_2_loss: 2.1866 - val_out_1_loss: 2.2142 - val_final_output_accuracy: 0.9102 - val_final_output_dice_score: 0.2340 - val_final_output_precision: 0.6995 - val_final_output_sensitivity: 0.9900 - val_final_output_specificity: 0.8581 - val_out_3_accuracy: 0.9696 - val_out_3_dice_score: 0.2413 - val_out_3_precision: 0.9861 - val_out_3_sensitivity: 0.9261 - val_out_3_specificity: 0.9956 - val_out_2_accuracy: 0.9707 - val_out_2_dice_score: 0.2861 - val_out_2_precision: 0.9710 - val_out_2_sensitivity: 0.9516 - val_out_2_specificity: 0.9905 - val_out_1_accuracy: 0.9709 - val_out_1_dice_score: 0.2826 - val_out_1_precision: 0.9682 - val_out_1_sensitivity: 0.9603 - val_out_1_specificity: 0.9895\n",
            "Epoch 6/100\n",
            "8/8 [==============================] - 2s 311ms/step - loss: 7.7200 - final_output_loss: 2.2197 - out_3_loss: 1.7459 - out_2_loss: 1.7883 - out_1_loss: 1.8489 - final_output_accuracy: 0.9341 - final_output_dice_score: 0.3257 - final_output_precision: 0.7541 - final_output_sensitivity: 0.9944 - final_output_specificity: 0.8917 - out_3_accuracy: 0.9783 - out_3_dice_score: 0.5376 - out_3_precision: 0.9814 - out_3_sensitivity: 0.9753 - out_3_specificity: 0.9937 - out_2_accuracy: 0.9779 - out_2_dice_score: 0.5053 - out_2_precision: 0.9838 - out_2_sensitivity: 0.9726 - out_2_specificity: 0.9945 - out_1_accuracy: 0.9748 - out_1_dice_score: 0.4738 - out_1_precision: 0.9818 - out_1_sensitivity: 0.9692 - out_1_specificity: 0.9938 - val_loss: 9.6162 - val_final_output_loss: 2.7734 - val_out_3_loss: 2.2998 - val_out_2_loss: 2.1807 - val_out_1_loss: 2.2450 - val_final_output_accuracy: 0.9409 - val_final_output_dice_score: 0.2409 - val_final_output_precision: 0.7784 - val_final_output_sensitivity: 0.9827 - val_final_output_specificity: 0.9067 - val_out_3_accuracy: 0.9722 - val_out_3_dice_score: 0.2543 - val_out_3_precision: 0.9794 - val_out_3_sensitivity: 0.9510 - val_out_3_specificity: 0.9934 - val_out_2_accuracy: 0.9720 - val_out_2_dice_score: 0.2912 - val_out_2_precision: 0.9696 - val_out_2_sensitivity: 0.9603 - val_out_2_specificity: 0.9899 - val_out_1_accuracy: 0.9706 - val_out_1_dice_score: 0.2837 - val_out_1_precision: 0.9668 - val_out_1_sensitivity: 0.9626 - val_out_1_specificity: 0.9890\n",
            "Epoch 7/100\n",
            "8/8 [==============================] - 2s 313ms/step - loss: 7.5963 - final_output_loss: 2.1319 - out_3_loss: 1.7688 - out_2_loss: 1.7714 - out_1_loss: 1.8070 - final_output_accuracy: 0.9575 - final_output_dice_score: 0.3286 - final_output_precision: 0.8041 - final_output_sensitivity: 0.9959 - final_output_specificity: 0.9191 - out_3_accuracy: 0.9813 - out_3_dice_score: 0.5128 - out_3_precision: 0.9840 - out_3_sensitivity: 0.9790 - out_3_specificity: 0.9946 - out_2_accuracy: 0.9818 - out_2_dice_score: 0.5015 - out_2_precision: 0.9863 - out_2_sensitivity: 0.9783 - out_2_specificity: 0.9954 - out_1_accuracy: 0.9796 - out_1_dice_score: 0.4750 - out_1_precision: 0.9844 - out_1_sensitivity: 0.9756 - out_1_specificity: 0.9947 - val_loss: 9.5154 - val_final_output_loss: 2.6680 - val_out_3_loss: 2.2420 - val_out_2_loss: 2.1992 - val_out_1_loss: 2.2891 - val_final_output_accuracy: 0.9635 - val_final_output_dice_score: 0.2457 - val_final_output_precision: 0.8529 - val_final_output_sensitivity: 0.9763 - val_final_output_specificity: 0.9438 - val_out_3_accuracy: 0.9713 - val_out_3_dice_score: 0.2642 - val_out_3_precision: 0.9715 - val_out_3_sensitivity: 0.9609 - val_out_3_specificity: 0.9906 - val_out_2_accuracy: 0.9712 - val_out_2_dice_score: 0.2896 - val_out_2_precision: 0.9674 - val_out_2_sensitivity: 0.9628 - val_out_2_specificity: 0.9892 - val_out_1_accuracy: 0.9698 - val_out_1_dice_score: 0.2758 - val_out_1_precision: 0.9653 - val_out_1_sensitivity: 0.9632 - val_out_1_specificity: 0.9884\n",
            "Epoch 8/100\n",
            "8/8 [==============================] - 2s 313ms/step - loss: 7.2104 - final_output_loss: 2.0310 - out_3_loss: 1.6491 - out_2_loss: 1.6731 - out_1_loss: 1.7400 - final_output_accuracy: 0.9723 - final_output_dice_score: 0.3670 - final_output_precision: 0.8737 - final_output_sensitivity: 0.9931 - final_output_specificity: 0.9519 - out_3_accuracy: 0.9841 - out_3_dice_score: 0.6018 - out_3_precision: 0.9851 - out_3_sensitivity: 0.9827 - out_3_specificity: 0.9950 - out_2_accuracy: 0.9838 - out_2_dice_score: 0.5786 - out_2_precision: 0.9852 - out_2_sensitivity: 0.9820 - out_2_specificity: 0.9950 - out_1_accuracy: 0.9818 - out_1_dice_score: 0.5281 - out_1_precision: 0.9837 - out_1_sensitivity: 0.9795 - out_1_specificity: 0.9945 - val_loss: 9.3709 - val_final_output_loss: 2.5750 - val_out_3_loss: 2.1843 - val_out_2_loss: 2.1775 - val_out_1_loss: 2.3170 - val_final_output_accuracy: 0.9697 - val_final_output_dice_score: 0.2489 - val_final_output_precision: 0.9103 - val_final_output_sensitivity: 0.9712 - val_final_output_specificity: 0.9680 - val_out_3_accuracy: 0.9727 - val_out_3_dice_score: 0.2808 - val_out_3_precision: 0.9734 - val_out_3_sensitivity: 0.9595 - val_out_3_specificity: 0.9912 - val_out_2_accuracy: 0.9718 - val_out_2_dice_score: 0.3047 - val_out_2_precision: 0.9678 - val_out_2_sensitivity: 0.9629 - val_out_2_specificity: 0.9893 - val_out_1_accuracy: 0.9698 - val_out_1_dice_score: 0.2795 - val_out_1_precision: 0.9649 - val_out_1_sensitivity: 0.9633 - val_out_1_specificity: 0.9883\n",
            "Epoch 9/100\n",
            "8/8 [==============================] - 2s 306ms/step - loss: 7.2317 - final_output_loss: 1.9416 - out_3_loss: 1.6983 - out_2_loss: 1.7157 - out_1_loss: 1.7590 - final_output_accuracy: 0.9803 - final_output_dice_score: 0.4181 - final_output_precision: 0.9145 - final_output_sensitivity: 0.9934 - final_output_specificity: 0.9690 - out_3_accuracy: 0.9817 - out_3_dice_score: 0.5639 - out_3_precision: 0.9829 - out_3_sensitivity: 0.9794 - out_3_specificity: 0.9943 - out_2_accuracy: 0.9809 - out_2_dice_score: 0.5461 - out_2_precision: 0.9832 - out_2_sensitivity: 0.9779 - out_2_specificity: 0.9944 - out_1_accuracy: 0.9794 - out_1_dice_score: 0.5172 - out_1_precision: 0.9815 - out_1_sensitivity: 0.9763 - out_1_specificity: 0.9938 - val_loss: 9.4545 - val_final_output_loss: 2.5026 - val_out_3_loss: 2.1797 - val_out_2_loss: 2.2206 - val_out_1_loss: 2.4345 - val_final_output_accuracy: 0.9697 - val_final_output_dice_score: 0.2520 - val_final_output_precision: 0.9485 - val_final_output_sensitivity: 0.9682 - val_final_output_specificity: 0.9824 - val_out_3_accuracy: 0.9720 - val_out_3_dice_score: 0.2816 - val_out_3_precision: 0.9703 - val_out_3_sensitivity: 0.9616 - val_out_3_specificity: 0.9902 - val_out_2_accuracy: 0.9706 - val_out_2_dice_score: 0.2956 - val_out_2_precision: 0.9661 - val_out_2_sensitivity: 0.9632 - val_out_2_specificity: 0.9887 - val_out_1_accuracy: 0.9696 - val_out_1_dice_score: 0.2622 - val_out_1_precision: 0.9636 - val_out_1_sensitivity: 0.9633 - val_out_1_specificity: 0.9879\n",
            "Epoch 10/100\n",
            "8/8 [==============================] - 2s 311ms/step - loss: 6.9607 - final_output_loss: 1.8311 - out_3_loss: 1.6431 - out_2_loss: 1.6586 - out_1_loss: 1.7108 - final_output_accuracy: 0.9782 - final_output_dice_score: 0.4896 - final_output_precision: 0.9339 - final_output_sensitivity: 0.9916 - final_output_specificity: 0.9766 - out_3_accuracy: 0.9818 - out_3_dice_score: 0.6220 - out_3_precision: 0.9828 - out_3_sensitivity: 0.9801 - out_3_specificity: 0.9943 - out_2_accuracy: 0.9815 - out_2_dice_score: 0.6096 - out_2_precision: 0.9827 - out_2_sensitivity: 0.9795 - out_2_specificity: 0.9942 - out_1_accuracy: 0.9795 - out_1_dice_score: 0.5811 - out_1_precision: 0.9806 - out_1_sensitivity: 0.9777 - out_1_specificity: 0.9935 - val_loss: 9.2337 - val_final_output_loss: 2.3900 - val_out_3_loss: 2.1219 - val_out_2_loss: 2.1918 - val_out_1_loss: 2.4130 - val_final_output_accuracy: 0.9705 - val_final_output_dice_score: 0.2657 - val_final_output_precision: 0.9502 - val_final_output_sensitivity: 0.9691 - val_final_output_specificity: 0.9831 - val_out_3_accuracy: 0.9734 - val_out_3_dice_score: 0.3068 - val_out_3_precision: 0.9706 - val_out_3_sensitivity: 0.9621 - val_out_3_specificity: 0.9903 - val_out_2_accuracy: 0.9722 - val_out_2_dice_score: 0.3164 - val_out_2_precision: 0.9674 - val_out_2_sensitivity: 0.9633 - val_out_2_specificity: 0.9892 - val_out_1_accuracy: 0.9700 - val_out_1_dice_score: 0.2763 - val_out_1_precision: 0.9647 - val_out_1_sensitivity: 0.9633 - val_out_1_specificity: 0.9883\n",
            "Epoch 11/100\n",
            "8/8 [==============================] - 2s 312ms/step - loss: 6.7288 - final_output_loss: 1.7467 - out_3_loss: 1.5948 - out_2_loss: 1.6086 - out_1_loss: 1.6616 - final_output_accuracy: 0.9798 - final_output_dice_score: 0.5427 - final_output_precision: 0.9447 - final_output_sensitivity: 0.9915 - final_output_specificity: 0.9807 - out_3_accuracy: 0.9834 - out_3_dice_score: 0.6426 - out_3_precision: 0.9843 - out_3_sensitivity: 0.9816 - out_3_specificity: 0.9947 - out_2_accuracy: 0.9830 - out_2_dice_score: 0.6315 - out_2_precision: 0.9841 - out_2_sensitivity: 0.9809 - out_2_specificity: 0.9947 - out_1_accuracy: 0.9804 - out_1_dice_score: 0.5979 - out_1_precision: 0.9813 - out_1_sensitivity: 0.9785 - out_1_specificity: 0.9937 - val_loss: 9.3261 - val_final_output_loss: 2.3608 - val_out_3_loss: 2.1373 - val_out_2_loss: 2.2350 - val_out_1_loss: 2.4760 - val_final_output_accuracy: 0.9700 - val_final_output_dice_score: 0.2662 - val_final_output_precision: 0.9591 - val_final_output_sensitivity: 0.9662 - val_final_output_specificity: 0.9863 - val_out_3_accuracy: 0.9723 - val_out_3_dice_score: 0.3011 - val_out_3_precision: 0.9685 - val_out_3_sensitivity: 0.9634 - val_out_3_specificity: 0.9896 - val_out_2_accuracy: 0.9711 - val_out_2_dice_score: 0.3016 - val_out_2_precision: 0.9660 - val_out_2_sensitivity: 0.9635 - val_out_2_specificity: 0.9887 - val_out_1_accuracy: 0.9696 - val_out_1_dice_score: 0.2612 - val_out_1_precision: 0.9636 - val_out_1_sensitivity: 0.9633 - val_out_1_specificity: 0.9879\n",
            "Epoch 12/100\n",
            "8/8 [==============================] - 2s 312ms/step - loss: 6.7079 - final_output_loss: 1.7021 - out_3_loss: 1.5985 - out_2_loss: 1.6126 - out_1_loss: 1.6776 - final_output_accuracy: 0.9826 - final_output_dice_score: 0.5625 - final_output_precision: 0.9571 - final_output_sensitivity: 0.9902 - final_output_specificity: 0.9852 - out_3_accuracy: 0.9840 - out_3_dice_score: 0.6398 - out_3_precision: 0.9845 - out_3_sensitivity: 0.9825 - out_3_specificity: 0.9948 - out_2_accuracy: 0.9839 - out_2_dice_score: 0.6291 - out_2_precision: 0.9847 - out_2_sensitivity: 0.9823 - out_2_specificity: 0.9949 - out_1_accuracy: 0.9818 - out_1_dice_score: 0.5910 - out_1_precision: 0.9828 - out_1_sensitivity: 0.9801 - out_1_specificity: 0.9942 - val_loss: 9.2056 - val_final_output_loss: 2.2579 - val_out_3_loss: 2.1299 - val_out_2_loss: 2.2435 - val_out_1_loss: 2.4572 - val_final_output_accuracy: 0.9702 - val_final_output_dice_score: 0.2792 - val_final_output_precision: 0.9606 - val_final_output_sensitivity: 0.9658 - val_final_output_specificity: 0.9868 - val_out_3_accuracy: 0.9715 - val_out_3_dice_score: 0.3094 - val_out_3_precision: 0.9671 - val_out_3_sensitivity: 0.9637 - val_out_3_specificity: 0.9891 - val_out_2_accuracy: 0.9708 - val_out_2_dice_score: 0.3031 - val_out_2_precision: 0.9654 - val_out_2_sensitivity: 0.9635 - val_out_2_specificity: 0.9885 - val_out_1_accuracy: 0.9696 - val_out_1_dice_score: 0.2601 - val_out_1_precision: 0.9634 - val_out_1_sensitivity: 0.9633 - val_out_1_specificity: 0.9878\n",
            "Epoch 13/100\n",
            "8/8 [==============================] - 2s 311ms/step - loss: 6.4439 - final_output_loss: 1.6390 - out_3_loss: 1.5377 - out_2_loss: 1.5455 - out_1_loss: 1.6046 - final_output_accuracy: 0.9870 - final_output_dice_score: 0.5748 - final_output_precision: 0.9713 - final_output_sensitivity: 0.9915 - final_output_specificity: 0.9902 - out_3_accuracy: 0.9893 - out_3_dice_score: 0.6523 - out_3_precision: 0.9895 - out_3_sensitivity: 0.9884 - out_3_specificity: 0.9965 - out_2_accuracy: 0.9890 - out_2_dice_score: 0.6427 - out_2_precision: 0.9895 - out_2_sensitivity: 0.9878 - out_2_specificity: 0.9965 - out_1_accuracy: 0.9874 - out_1_dice_score: 0.6068 - out_1_precision: 0.9881 - out_1_sensitivity: 0.9861 - out_1_specificity: 0.9960 - val_loss: 9.3017 - val_final_output_loss: 2.2904 - val_out_3_loss: 2.1405 - val_out_2_loss: 2.2455 - val_out_1_loss: 2.5082 - val_final_output_accuracy: 0.9712 - val_final_output_dice_score: 0.2751 - val_final_output_precision: 0.9613 - val_final_output_sensitivity: 0.9661 - val_final_output_specificity: 0.9870 - val_out_3_accuracy: 0.9716 - val_out_3_dice_score: 0.3014 - val_out_3_precision: 0.9673 - val_out_3_sensitivity: 0.9637 - val_out_3_specificity: 0.9891 - val_out_2_accuracy: 0.9708 - val_out_2_dice_score: 0.3014 - val_out_2_precision: 0.9653 - val_out_2_sensitivity: 0.9637 - val_out_2_specificity: 0.9884 - val_out_1_accuracy: 0.9696 - val_out_1_dice_score: 0.2581 - val_out_1_precision: 0.9634 - val_out_1_sensitivity: 0.9633 - val_out_1_specificity: 0.9878\n",
            "Epoch 14/100\n",
            "8/8 [==============================] - 2s 312ms/step - loss: 6.3356 - final_output_loss: 1.5898 - out_3_loss: 1.5167 - out_2_loss: 1.5295 - out_1_loss: 1.5825 - final_output_accuracy: 0.9867 - final_output_dice_score: 0.5977 - final_output_precision: 0.9728 - final_output_sensitivity: 0.9909 - final_output_specificity: 0.9908 - out_3_accuracy: 0.9881 - out_3_dice_score: 0.6452 - out_3_precision: 0.9888 - out_3_sensitivity: 0.9867 - out_3_specificity: 0.9962 - out_2_accuracy: 0.9875 - out_2_dice_score: 0.6370 - out_2_precision: 0.9887 - out_2_sensitivity: 0.9862 - out_2_specificity: 0.9962 - out_1_accuracy: 0.9865 - out_1_dice_score: 0.6096 - out_1_precision: 0.9874 - out_1_sensitivity: 0.9852 - out_1_specificity: 0.9958 - val_loss: 9.1790 - val_final_output_loss: 2.2457 - val_out_3_loss: 2.0944 - val_out_2_loss: 2.1907 - val_out_1_loss: 2.5311 - val_final_output_accuracy: 0.9727 - val_final_output_dice_score: 0.2864 - val_final_output_precision: 0.9616 - val_final_output_sensitivity: 0.9679 - val_final_output_specificity: 0.9871 - val_out_3_accuracy: 0.9735 - val_out_3_dice_score: 0.3270 - val_out_3_precision: 0.9703 - val_out_3_sensitivity: 0.9645 - val_out_3_specificity: 0.9902 - val_out_2_accuracy: 0.9720 - val_out_2_dice_score: 0.3323 - val_out_2_precision: 0.9666 - val_out_2_sensitivity: 0.9643 - val_out_2_specificity: 0.9889 - val_out_1_accuracy: 0.9700 - val_out_1_dice_score: 0.2718 - val_out_1_precision: 0.9642 - val_out_1_sensitivity: 0.9634 - val_out_1_specificity: 0.9881\n",
            "Epoch 15/100\n",
            "8/8 [==============================] - 2s 312ms/step - loss: 6.5361 - final_output_loss: 1.6294 - out_3_loss: 1.5772 - out_2_loss: 1.5786 - out_1_loss: 1.6338 - final_output_accuracy: 0.9819 - final_output_dice_score: 0.6051 - final_output_precision: 0.9722 - final_output_sensitivity: 0.9839 - final_output_specificity: 0.9906 - out_3_accuracy: 0.9836 - out_3_dice_score: 0.6466 - out_3_precision: 0.9840 - out_3_sensitivity: 0.9824 - out_3_specificity: 0.9947 - out_2_accuracy: 0.9844 - out_2_dice_score: 0.6505 - out_2_precision: 0.9849 - out_2_sensitivity: 0.9832 - out_2_specificity: 0.9949 - out_1_accuracy: 0.9818 - out_1_dice_score: 0.6135 - out_1_precision: 0.9825 - out_1_sensitivity: 0.9805 - out_1_specificity: 0.9941 - val_loss: 8.8905 - val_final_output_loss: 2.1166 - val_out_3_loss: 2.0438 - val_out_2_loss: 2.1605 - val_out_1_loss: 2.4525 - val_final_output_accuracy: 0.9755 - val_final_output_dice_score: 0.3280 - val_final_output_precision: 0.9654 - val_final_output_sensitivity: 0.9704 - val_final_output_specificity: 0.9884 - val_out_3_accuracy: 0.9746 - val_out_3_dice_score: 0.3702 - val_out_3_precision: 0.9722 - val_out_3_sensitivity: 0.9660 - val_out_3_specificity: 0.9908 - val_out_2_accuracy: 0.9722 - val_out_2_dice_score: 0.3493 - val_out_2_precision: 0.9672 - val_out_2_sensitivity: 0.9647 - val_out_2_specificity: 0.9891 - val_out_1_accuracy: 0.9701 - val_out_1_dice_score: 0.2877 - val_out_1_precision: 0.9645 - val_out_1_sensitivity: 0.9636 - val_out_1_specificity: 0.9882\n",
            "Epoch 16/100\n",
            "8/8 [==============================] - 2s 314ms/step - loss: 6.6793 - final_output_loss: 1.6400 - out_3_loss: 1.6264 - out_2_loss: 1.6348 - out_1_loss: 1.6609 - final_output_accuracy: 0.9793 - final_output_dice_score: 0.6239 - final_output_precision: 0.9729 - final_output_sensitivity: 0.9803 - final_output_specificity: 0.9909 - out_3_accuracy: 0.9809 - out_3_dice_score: 0.6453 - out_3_precision: 0.9815 - out_3_sensitivity: 0.9796 - out_3_specificity: 0.9938 - out_2_accuracy: 0.9792 - out_2_dice_score: 0.6353 - out_2_precision: 0.9800 - out_2_sensitivity: 0.9778 - out_2_specificity: 0.9933 - out_1_accuracy: 0.9796 - out_1_dice_score: 0.6188 - out_1_precision: 0.9804 - out_1_sensitivity: 0.9781 - out_1_specificity: 0.9935 - val_loss: 8.4567 - val_final_output_loss: 2.0171 - val_out_3_loss: 1.9627 - val_out_2_loss: 2.0459 - val_out_1_loss: 2.3140 - val_final_output_accuracy: 0.9756 - val_final_output_dice_score: 0.3753 - val_final_output_precision: 0.9675 - val_final_output_sensitivity: 0.9695 - val_final_output_specificity: 0.9891 - val_out_3_accuracy: 0.9760 - val_out_3_dice_score: 0.4252 - val_out_3_precision: 0.9754 - val_out_3_sensitivity: 0.9672 - val_out_3_specificity: 0.9919 - val_out_2_accuracy: 0.9740 - val_out_2_dice_score: 0.4026 - val_out_2_precision: 0.9708 - val_out_2_sensitivity: 0.9646 - val_out_2_specificity: 0.9903 - val_out_1_accuracy: 0.9714 - val_out_1_dice_score: 0.3227 - val_out_1_precision: 0.9662 - val_out_1_sensitivity: 0.9641 - val_out_1_specificity: 0.9887\n",
            "Epoch 17/100\n",
            "8/8 [==============================] - 2s 310ms/step - loss: 6.4837 - final_output_loss: 1.5911 - out_3_loss: 1.5658 - out_2_loss: 1.5865 - out_1_loss: 1.6232 - final_output_accuracy: 0.9811 - final_output_dice_score: 0.6201 - final_output_precision: 0.9716 - final_output_sensitivity: 0.9826 - final_output_specificity: 0.9904 - out_3_accuracy: 0.9830 - out_3_dice_score: 0.6382 - out_3_precision: 0.9841 - out_3_sensitivity: 0.9819 - out_3_specificity: 0.9947 - out_2_accuracy: 0.9820 - out_2_dice_score: 0.6237 - out_2_precision: 0.9834 - out_2_sensitivity: 0.9808 - out_2_specificity: 0.9944 - out_1_accuracy: 0.9820 - out_1_dice_score: 0.6013 - out_1_precision: 0.9832 - out_1_sensitivity: 0.9805 - out_1_specificity: 0.9944 - val_loss: 8.7027 - val_final_output_loss: 2.0294 - val_out_3_loss: 2.0040 - val_out_2_loss: 2.1352 - val_out_1_loss: 2.4171 - val_final_output_accuracy: 0.9748 - val_final_output_dice_score: 0.3613 - val_final_output_precision: 0.9685 - val_final_output_sensitivity: 0.9690 - val_final_output_specificity: 0.9895 - val_out_3_accuracy: 0.9748 - val_out_3_dice_score: 0.4037 - val_out_3_precision: 0.9721 - val_out_3_sensitivity: 0.9671 - val_out_3_specificity: 0.9908 - val_out_2_accuracy: 0.9727 - val_out_2_dice_score: 0.3715 - val_out_2_precision: 0.9675 - val_out_2_sensitivity: 0.9651 - val_out_2_specificity: 0.9892 - val_out_1_accuracy: 0.9708 - val_out_1_dice_score: 0.3041 - val_out_1_precision: 0.9652 - val_out_1_sensitivity: 0.9641 - val_out_1_specificity: 0.9884\n",
            "Epoch 18/100\n",
            "8/8 [==============================] - 2s 316ms/step - loss: 6.4648 - final_output_loss: 1.5761 - out_3_loss: 1.5585 - out_2_loss: 1.5850 - out_1_loss: 1.6282 - final_output_accuracy: 0.9866 - final_output_dice_score: 0.6388 - final_output_precision: 0.9779 - final_output_sensitivity: 0.9870 - final_output_specificity: 0.9926 - out_3_accuracy: 0.9871 - out_3_dice_score: 0.6586 - out_3_precision: 0.9877 - out_3_sensitivity: 0.9857 - out_3_specificity: 0.9959 - out_2_accuracy: 0.9865 - out_2_dice_score: 0.6459 - out_2_precision: 0.9874 - out_2_sensitivity: 0.9850 - out_2_specificity: 0.9958 - out_1_accuracy: 0.9851 - out_1_dice_score: 0.6170 - out_1_precision: 0.9860 - out_1_sensitivity: 0.9836 - out_1_specificity: 0.9953 - val_loss: 8.3736 - val_final_output_loss: 1.9782 - val_out_3_loss: 1.9417 - val_out_2_loss: 2.0226 - val_out_1_loss: 2.3141 - val_final_output_accuracy: 0.9739 - val_final_output_dice_score: 0.3923 - val_final_output_precision: 0.9651 - val_final_output_sensitivity: 0.9686 - val_final_output_specificity: 0.9883 - val_out_3_accuracy: 0.9751 - val_out_3_dice_score: 0.4355 - val_out_3_precision: 0.9749 - val_out_3_sensitivity: 0.9668 - val_out_3_specificity: 0.9917 - val_out_2_accuracy: 0.9736 - val_out_2_dice_score: 0.4139 - val_out_2_precision: 0.9704 - val_out_2_sensitivity: 0.9649 - val_out_2_specificity: 0.9902 - val_out_1_accuracy: 0.9719 - val_out_1_dice_score: 0.3399 - val_out_1_precision: 0.9664 - val_out_1_sensitivity: 0.9645 - val_out_1_specificity: 0.9888\n",
            "Epoch 19/100\n",
            "8/8 [==============================] - 2s 312ms/step - loss: 6.1401 - final_output_loss: 1.5080 - out_3_loss: 1.4663 - out_2_loss: 1.4985 - out_1_loss: 1.5503 - final_output_accuracy: 0.9854 - final_output_dice_score: 0.6788 - final_output_precision: 0.9796 - final_output_sensitivity: 0.9845 - final_output_specificity: 0.9932 - out_3_accuracy: 0.9866 - out_3_dice_score: 0.7162 - out_3_precision: 0.9868 - out_3_sensitivity: 0.9855 - out_3_specificity: 0.9956 - out_2_accuracy: 0.9851 - out_2_dice_score: 0.6937 - out_2_precision: 0.9855 - out_2_sensitivity: 0.9838 - out_2_specificity: 0.9952 - out_1_accuracy: 0.9845 - out_1_dice_score: 0.6690 - out_1_precision: 0.9849 - out_1_sensitivity: 0.9833 - out_1_specificity: 0.9949 - val_loss: 8.5770 - val_final_output_loss: 2.0150 - val_out_3_loss: 1.9704 - val_out_2_loss: 2.0472 - val_out_1_loss: 2.4274 - val_final_output_accuracy: 0.9765 - val_final_output_dice_score: 0.3716 - val_final_output_precision: 0.9741 - val_final_output_sensitivity: 0.9635 - val_final_output_specificity: 0.9915 - val_out_3_accuracy: 0.9763 - val_out_3_dice_score: 0.4142 - val_out_3_precision: 0.9739 - val_out_3_sensitivity: 0.9685 - val_out_3_specificity: 0.9914 - val_out_2_accuracy: 0.9741 - val_out_2_dice_score: 0.3953 - val_out_2_precision: 0.9692 - val_out_2_sensitivity: 0.9661 - val_out_2_specificity: 0.9897 - val_out_1_accuracy: 0.9705 - val_out_1_dice_score: 0.2985 - val_out_1_precision: 0.9648 - val_out_1_sensitivity: 0.9639 - val_out_1_specificity: 0.9883\n",
            "Epoch 20/100\n",
            "8/8 [==============================] - 2s 315ms/step - loss: 6.2610 - final_output_loss: 1.5254 - out_3_loss: 1.5033 - out_2_loss: 1.5240 - out_1_loss: 1.5913 - final_output_accuracy: 0.9845 - final_output_dice_score: 0.6845 - final_output_precision: 0.9832 - final_output_sensitivity: 0.9793 - final_output_specificity: 0.9944 - out_3_accuracy: 0.9859 - out_3_dice_score: 0.7034 - out_3_precision: 0.9860 - out_3_sensitivity: 0.9848 - out_3_specificity: 0.9953 - out_2_accuracy: 0.9856 - out_2_dice_score: 0.6934 - out_2_precision: 0.9858 - out_2_sensitivity: 0.9844 - out_2_specificity: 0.9953 - out_1_accuracy: 0.9832 - out_1_dice_score: 0.6505 - out_1_precision: 0.9835 - out_1_sensitivity: 0.9820 - out_1_specificity: 0.9945 - val_loss: 8.3808 - val_final_output_loss: 1.9996 - val_out_3_loss: 1.9253 - val_out_2_loss: 2.0184 - val_out_1_loss: 2.3206 - val_final_output_accuracy: 0.9737 - val_final_output_dice_score: 0.3906 - val_final_output_precision: 0.9727 - val_final_output_sensitivity: 0.9588 - val_final_output_specificity: 0.9910 - val_out_3_accuracy: 0.9750 - val_out_3_dice_score: 0.4431 - val_out_3_precision: 0.9741 - val_out_3_sensitivity: 0.9674 - val_out_3_specificity: 0.9914 - val_out_2_accuracy: 0.9736 - val_out_2_dice_score: 0.4048 - val_out_2_precision: 0.9689 - val_out_2_sensitivity: 0.9657 - val_out_2_specificity: 0.9897 - val_out_1_accuracy: 0.9713 - val_out_1_dice_score: 0.3224 - val_out_1_precision: 0.9655 - val_out_1_sensitivity: 0.9645 - val_out_1_specificity: 0.9885\n",
            "Epoch 21/100\n",
            "8/8 [==============================] - 2s 312ms/step - loss: 5.8633 - final_output_loss: 1.4409 - out_3_loss: 1.4095 - out_2_loss: 1.4232 - out_1_loss: 1.4728 - final_output_accuracy: 0.9893 - final_output_dice_score: 0.6997 - final_output_precision: 0.9861 - final_output_sensitivity: 0.9855 - final_output_specificity: 0.9953 - out_3_accuracy: 0.9905 - out_3_dice_score: 0.7281 - out_3_precision: 0.9906 - out_3_sensitivity: 0.9896 - out_3_specificity: 0.9969 - out_2_accuracy: 0.9904 - out_2_dice_score: 0.7188 - out_2_precision: 0.9905 - out_2_sensitivity: 0.9894 - out_2_specificity: 0.9968 - out_1_accuracy: 0.9889 - out_1_dice_score: 0.6860 - out_1_precision: 0.9891 - out_1_sensitivity: 0.9879 - out_1_specificity: 0.9964 - val_loss: 8.7034 - val_final_output_loss: 2.0296 - val_out_3_loss: 2.0050 - val_out_2_loss: 2.0518 - val_out_1_loss: 2.5000 - val_final_output_accuracy: 0.9780 - val_final_output_dice_score: 0.3704 - val_final_output_precision: 0.9779 - val_final_output_sensitivity: 0.9657 - val_final_output_specificity: 0.9927 - val_out_3_accuracy: 0.9758 - val_out_3_dice_score: 0.4034 - val_out_3_precision: 0.9722 - val_out_3_sensitivity: 0.9690 - val_out_3_specificity: 0.9908 - val_out_2_accuracy: 0.9737 - val_out_2_dice_score: 0.3853 - val_out_2_precision: 0.9682 - val_out_2_sensitivity: 0.9662 - val_out_2_specificity: 0.9894 - val_out_1_accuracy: 0.9700 - val_out_1_dice_score: 0.2771 - val_out_1_precision: 0.9641 - val_out_1_sensitivity: 0.9636 - val_out_1_specificity: 0.9880\n",
            "Epoch 22/100\n",
            "8/8 [==============================] - 2s 313ms/step - loss: 6.5085 - final_output_loss: 1.5784 - out_3_loss: 1.5757 - out_2_loss: 1.5912 - out_1_loss: 1.6463 - final_output_accuracy: 0.9875 - final_output_dice_score: 0.6420 - final_output_precision: 0.9831 - final_output_sensitivity: 0.9836 - final_output_specificity: 0.9943 - out_3_accuracy: 0.9871 - out_3_dice_score: 0.6519 - out_3_precision: 0.9877 - out_3_sensitivity: 0.9858 - out_3_specificity: 0.9959 - out_2_accuracy: 0.9865 - out_2_dice_score: 0.6387 - out_2_precision: 0.9874 - out_2_sensitivity: 0.9852 - out_2_specificity: 0.9957 - out_1_accuracy: 0.9853 - out_1_dice_score: 0.6043 - out_1_precision: 0.9861 - out_1_sensitivity: 0.9838 - out_1_specificity: 0.9954 - val_loss: 7.8880 - val_final_output_loss: 1.8813 - val_out_3_loss: 1.8310 - val_out_2_loss: 1.9019 - val_out_1_loss: 2.1570 - val_final_output_accuracy: 0.9781 - val_final_output_dice_score: 0.4581 - val_final_output_precision: 0.9784 - val_final_output_sensitivity: 0.9655 - val_final_output_specificity: 0.9929 - val_out_3_accuracy: 0.9792 - val_out_3_dice_score: 0.5009 - val_out_3_precision: 0.9792 - val_out_3_sensitivity: 0.9723 - val_out_3_specificity: 0.9931 - val_out_2_accuracy: 0.9772 - val_out_2_dice_score: 0.4632 - val_out_2_precision: 0.9751 - val_out_2_sensitivity: 0.9696 - val_out_2_specificity: 0.9918 - val_out_1_accuracy: 0.9720 - val_out_1_dice_score: 0.3662 - val_out_1_precision: 0.9667 - val_out_1_sensitivity: 0.9648 - val_out_1_specificity: 0.9889\n",
            "Epoch 23/100\n",
            "8/8 [==============================] - 2s 311ms/step - loss: 6.2429 - final_output_loss: 1.5163 - out_3_loss: 1.5072 - out_2_loss: 1.5312 - out_1_loss: 1.5714 - final_output_accuracy: 0.9847 - final_output_dice_score: 0.6885 - final_output_precision: 0.9823 - final_output_sensitivity: 0.9802 - final_output_specificity: 0.9941 - out_3_accuracy: 0.9853 - out_3_dice_score: 0.7012 - out_3_precision: 0.9856 - out_3_sensitivity: 0.9838 - out_3_specificity: 0.9952 - out_2_accuracy: 0.9847 - out_2_dice_score: 0.6885 - out_2_precision: 0.9852 - out_2_sensitivity: 0.9831 - out_2_specificity: 0.9950 - out_1_accuracy: 0.9833 - out_1_dice_score: 0.6659 - out_1_precision: 0.9837 - out_1_sensitivity: 0.9818 - out_1_specificity: 0.9946 - val_loss: 7.7037 - val_final_output_loss: 1.8636 - val_out_3_loss: 1.8279 - val_out_2_loss: 1.8909 - val_out_1_loss: 2.0044 - val_final_output_accuracy: 0.9703 - val_final_output_dice_score: 0.4768 - val_final_output_precision: 0.9718 - val_final_output_sensitivity: 0.9512 - val_final_output_specificity: 0.9908 - val_out_3_accuracy: 0.9735 - val_out_3_dice_score: 0.5103 - val_out_3_precision: 0.9762 - val_out_3_sensitivity: 0.9683 - val_out_3_specificity: 0.9921 - val_out_2_accuracy: 0.9737 - val_out_2_dice_score: 0.4808 - val_out_2_precision: 0.9746 - val_out_2_sensitivity: 0.9679 - val_out_2_specificity: 0.9916 - val_out_1_accuracy: 0.9744 - val_out_1_dice_score: 0.4383 - val_out_1_precision: 0.9729 - val_out_1_sensitivity: 0.9674 - val_out_1_specificity: 0.9910\n",
            "Epoch 24/100\n",
            "8/8 [==============================] - 2s 314ms/step - loss: 5.9297 - final_output_loss: 1.4349 - out_3_loss: 1.4228 - out_2_loss: 1.4405 - out_1_loss: 1.5146 - final_output_accuracy: 0.9876 - final_output_dice_score: 0.7133 - final_output_precision: 0.9858 - final_output_sensitivity: 0.9800 - final_output_specificity: 0.9953 - out_3_accuracy: 0.9883 - out_3_dice_score: 0.7294 - out_3_precision: 0.9885 - out_3_sensitivity: 0.9873 - out_3_specificity: 0.9961 - out_2_accuracy: 0.9881 - out_2_dice_score: 0.7177 - out_2_precision: 0.9884 - out_2_sensitivity: 0.9870 - out_2_specificity: 0.9961 - out_1_accuracy: 0.9859 - out_1_dice_score: 0.6742 - out_1_precision: 0.9863 - out_1_sensitivity: 0.9847 - out_1_specificity: 0.9954 - val_loss: 7.6780 - val_final_output_loss: 1.8751 - val_out_3_loss: 1.7903 - val_out_2_loss: 1.8524 - val_out_1_loss: 2.0433 - val_final_output_accuracy: 0.9770 - val_final_output_dice_score: 0.4708 - val_final_output_precision: 0.9771 - val_final_output_sensitivity: 0.9627 - val_final_output_specificity: 0.9925 - val_out_3_accuracy: 0.9797 - val_out_3_dice_score: 0.5464 - val_out_3_precision: 0.9807 - val_out_3_sensitivity: 0.9748 - val_out_3_specificity: 0.9936 - val_out_2_accuracy: 0.9780 - val_out_2_dice_score: 0.5152 - val_out_2_precision: 0.9776 - val_out_2_sensitivity: 0.9719 - val_out_2_specificity: 0.9926 - val_out_1_accuracy: 0.9740 - val_out_1_dice_score: 0.4380 - val_out_1_precision: 0.9712 - val_out_1_sensitivity: 0.9667 - val_out_1_specificity: 0.9905\n",
            "Epoch 25/100\n",
            "8/8 [==============================] - 2s 305ms/step - loss: 6.2423 - final_output_loss: 1.5055 - out_3_loss: 1.5113 - out_2_loss: 1.5267 - out_1_loss: 1.5820 - final_output_accuracy: 0.9871 - final_output_dice_score: 0.6963 - final_output_precision: 0.9862 - final_output_sensitivity: 0.9825 - final_output_specificity: 0.9954 - out_3_accuracy: 0.9870 - out_3_dice_score: 0.7077 - out_3_precision: 0.9868 - out_3_sensitivity: 0.9858 - out_3_specificity: 0.9956 - out_2_accuracy: 0.9863 - out_2_dice_score: 0.6942 - out_2_precision: 0.9862 - out_2_sensitivity: 0.9850 - out_2_specificity: 0.9954 - out_1_accuracy: 0.9850 - out_1_dice_score: 0.6603 - out_1_precision: 0.9850 - out_1_sensitivity: 0.9837 - out_1_specificity: 0.9950 - val_loss: 7.3865 - val_final_output_loss: 1.7681 - val_out_3_loss: 1.7719 - val_out_2_loss: 1.8008 - val_out_1_loss: 1.9289 - val_final_output_accuracy: 0.9766 - val_final_output_dice_score: 0.5332 - val_final_output_precision: 0.9728 - val_final_output_sensitivity: 0.9654 - val_final_output_specificity: 0.9909 - val_out_3_accuracy: 0.9794 - val_out_3_dice_score: 0.5529 - val_out_3_precision: 0.9800 - val_out_3_sensitivity: 0.9750 - val_out_3_specificity: 0.9934 - val_out_2_accuracy: 0.9793 - val_out_2_dice_score: 0.5322 - val_out_2_precision: 0.9805 - val_out_2_sensitivity: 0.9738 - val_out_2_specificity: 0.9936 - val_out_1_accuracy: 0.9762 - val_out_1_dice_score: 0.4732 - val_out_1_precision: 0.9763 - val_out_1_sensitivity: 0.9697 - val_out_1_specificity: 0.9922\n",
            "Epoch 26/100\n",
            "8/8 [==============================] - 2s 312ms/step - loss: 6.0817 - final_output_loss: 1.4708 - out_3_loss: 1.4637 - out_2_loss: 1.4894 - out_1_loss: 1.5409 - final_output_accuracy: 0.9853 - final_output_dice_score: 0.6917 - final_output_precision: 0.9818 - final_output_sensitivity: 0.9770 - final_output_specificity: 0.9939 - out_3_accuracy: 0.9860 - out_3_dice_score: 0.7040 - out_3_precision: 0.9867 - out_3_sensitivity: 0.9845 - out_3_specificity: 0.9955 - out_2_accuracy: 0.9858 - out_2_dice_score: 0.6848 - out_2_precision: 0.9869 - out_2_sensitivity: 0.9839 - out_2_specificity: 0.9956 - out_1_accuracy: 0.9849 - out_1_dice_score: 0.6534 - out_1_precision: 0.9860 - out_1_sensitivity: 0.9831 - out_1_specificity: 0.9953 - val_loss: 7.3308 - val_final_output_loss: 1.7937 - val_out_3_loss: 1.7585 - val_out_2_loss: 1.7601 - val_out_1_loss: 1.9017 - val_final_output_accuracy: 0.9796 - val_final_output_dice_score: 0.5233 - val_final_output_precision: 0.9786 - val_final_output_sensitivity: 0.9669 - val_final_output_specificity: 0.9929 - val_out_3_accuracy: 0.9808 - val_out_3_dice_score: 0.5628 - val_out_3_precision: 0.9817 - val_out_3_sensitivity: 0.9762 - val_out_3_specificity: 0.9939 - val_out_2_accuracy: 0.9811 - val_out_2_dice_score: 0.5527 - val_out_2_precision: 0.9829 - val_out_2_sensitivity: 0.9754 - val_out_2_specificity: 0.9944 - val_out_1_accuracy: 0.9774 - val_out_1_dice_score: 0.4937 - val_out_1_precision: 0.9772 - val_out_1_sensitivity: 0.9707 - val_out_1_specificity: 0.9925\n",
            "Epoch 27/100\n",
            "8/8 [==============================] - 2s 309ms/step - loss: 5.8529 - final_output_loss: 1.4103 - out_3_loss: 1.4151 - out_2_loss: 1.4269 - out_1_loss: 1.4839 - final_output_accuracy: 0.9888 - final_output_dice_score: 0.7439 - final_output_precision: 0.9886 - final_output_sensitivity: 0.9838 - final_output_specificity: 0.9962 - out_3_accuracy: 0.9887 - out_3_dice_score: 0.7484 - out_3_precision: 0.9886 - out_3_sensitivity: 0.9877 - out_3_specificity: 0.9962 - out_2_accuracy: 0.9882 - out_2_dice_score: 0.7364 - out_2_precision: 0.9884 - out_2_sensitivity: 0.9869 - out_2_specificity: 0.9961 - out_1_accuracy: 0.9864 - out_1_dice_score: 0.7012 - out_1_precision: 0.9868 - out_1_sensitivity: 0.9850 - out_1_specificity: 0.9956 - val_loss: 7.2380 - val_final_output_loss: 1.7454 - val_out_3_loss: 1.6851 - val_out_2_loss: 1.7428 - val_out_1_loss: 1.9480 - val_final_output_accuracy: 0.9813 - val_final_output_dice_score: 0.5551 - val_final_output_precision: 0.9818 - val_final_output_sensitivity: 0.9721 - val_final_output_specificity: 0.9940 - val_out_3_accuracy: 0.9819 - val_out_3_dice_score: 0.6011 - val_out_3_precision: 0.9831 - val_out_3_sensitivity: 0.9777 - val_out_3_specificity: 0.9944 - val_out_2_accuracy: 0.9808 - val_out_2_dice_score: 0.5687 - val_out_2_precision: 0.9816 - val_out_2_sensitivity: 0.9755 - val_out_2_specificity: 0.9939 - val_out_1_accuracy: 0.9761 - val_out_1_dice_score: 0.4798 - val_out_1_precision: 0.9747 - val_out_1_sensitivity: 0.9700 - val_out_1_specificity: 0.9916\n",
            "Epoch 28/100\n",
            "8/8 [==============================] - 2s 310ms/step - loss: 5.9397 - final_output_loss: 1.4457 - out_3_loss: 1.4342 - out_2_loss: 1.4514 - out_1_loss: 1.4916 - final_output_accuracy: 0.9878 - final_output_dice_score: 0.7227 - final_output_precision: 0.9888 - final_output_sensitivity: 0.9826 - final_output_specificity: 0.9963 - out_3_accuracy: 0.9882 - out_3_dice_score: 0.7339 - out_3_precision: 0.9883 - out_3_sensitivity: 0.9871 - out_3_specificity: 0.9961 - out_2_accuracy: 0.9879 - out_2_dice_score: 0.7266 - out_2_precision: 0.9882 - out_2_sensitivity: 0.9868 - out_2_specificity: 0.9960 - out_1_accuracy: 0.9867 - out_1_dice_score: 0.7021 - out_1_precision: 0.9869 - out_1_sensitivity: 0.9855 - out_1_specificity: 0.9956 - val_loss: 7.3546 - val_final_output_loss: 1.7507 - val_out_3_loss: 1.7303 - val_out_2_loss: 1.7901 - val_out_1_loss: 1.9667 - val_final_output_accuracy: 0.9826 - val_final_output_dice_score: 0.5603 - val_final_output_precision: 0.9849 - val_final_output_sensitivity: 0.9749 - val_final_output_specificity: 0.9950 - val_out_3_accuracy: 0.9824 - val_out_3_dice_score: 0.5863 - val_out_3_precision: 0.9825 - val_out_3_sensitivity: 0.9780 - val_out_3_specificity: 0.9942 - val_out_2_accuracy: 0.9806 - val_out_2_dice_score: 0.5543 - val_out_2_precision: 0.9802 - val_out_2_sensitivity: 0.9754 - val_out_2_specificity: 0.9934 - val_out_1_accuracy: 0.9758 - val_out_1_dice_score: 0.4699 - val_out_1_precision: 0.9734 - val_out_1_sensitivity: 0.9696 - val_out_1_specificity: 0.9912\n",
            "Epoch 29/100\n",
            "8/8 [==============================] - 2s 315ms/step - loss: 5.9891 - final_output_loss: 1.4413 - out_3_loss: 1.4451 - out_2_loss: 1.4680 - out_1_loss: 1.5180 - final_output_accuracy: 0.9870 - final_output_dice_score: 0.7312 - final_output_precision: 0.9866 - final_output_sensitivity: 0.9823 - final_output_specificity: 0.9955 - out_3_accuracy: 0.9876 - out_3_dice_score: 0.7375 - out_3_precision: 0.9878 - out_3_sensitivity: 0.9866 - out_3_specificity: 0.9959 - out_2_accuracy: 0.9864 - out_2_dice_score: 0.7182 - out_2_precision: 0.9868 - out_2_sensitivity: 0.9852 - out_2_specificity: 0.9956 - out_1_accuracy: 0.9849 - out_1_dice_score: 0.6853 - out_1_precision: 0.9854 - out_1_sensitivity: 0.9835 - out_1_specificity: 0.9951 - val_loss: 6.8369 - val_final_output_loss: 1.6546 - val_out_3_loss: 1.6342 - val_out_2_loss: 1.6648 - val_out_1_loss: 1.7666 - val_final_output_accuracy: 0.9809 - val_final_output_dice_score: 0.6098 - val_final_output_precision: 0.9772 - val_final_output_sensitivity: 0.9749 - val_final_output_specificity: 0.9924 - val_out_3_accuracy: 0.9829 - val_out_3_dice_score: 0.6345 - val_out_3_precision: 0.9834 - val_out_3_sensitivity: 0.9794 - val_out_3_specificity: 0.9945 - val_out_2_accuracy: 0.9821 - val_out_2_dice_score: 0.6099 - val_out_2_precision: 0.9827 - val_out_2_sensitivity: 0.9777 - val_out_2_specificity: 0.9943 - val_out_1_accuracy: 0.9799 - val_out_1_dice_score: 0.5561 - val_out_1_precision: 0.9807 - val_out_1_sensitivity: 0.9747 - val_out_1_specificity: 0.9936\n",
            "Epoch 30/100\n",
            "8/8 [==============================] - 2s 312ms/step - loss: 6.0438 - final_output_loss: 1.4564 - out_3_loss: 1.4652 - out_2_loss: 1.4791 - out_1_loss: 1.5264 - final_output_accuracy: 0.9877 - final_output_dice_score: 0.7155 - final_output_precision: 0.9867 - final_output_sensitivity: 0.9830 - final_output_specificity: 0.9956 - out_3_accuracy: 0.9883 - out_3_dice_score: 0.7165 - out_3_precision: 0.9882 - out_3_sensitivity: 0.9876 - out_3_specificity: 0.9961 - out_2_accuracy: 0.9878 - out_2_dice_score: 0.7028 - out_2_precision: 0.9880 - out_2_sensitivity: 0.9870 - out_2_specificity: 0.9960 - out_1_accuracy: 0.9875 - out_1_dice_score: 0.6775 - out_1_precision: 0.9876 - out_1_sensitivity: 0.9866 - out_1_specificity: 0.9959 - val_loss: 7.3367 - val_final_output_loss: 1.7432 - val_out_3_loss: 1.7535 - val_out_2_loss: 1.7847 - val_out_1_loss: 1.9387 - val_final_output_accuracy: 0.9824 - val_final_output_dice_score: 0.5733 - val_final_output_precision: 0.9806 - val_final_output_sensitivity: 0.9771 - val_final_output_specificity: 0.9935 - val_out_3_accuracy: 0.9821 - val_out_3_dice_score: 0.5935 - val_out_3_precision: 0.9809 - val_out_3_sensitivity: 0.9783 - val_out_3_specificity: 0.9937 - val_out_2_accuracy: 0.9801 - val_out_2_dice_score: 0.5686 - val_out_2_precision: 0.9793 - val_out_2_sensitivity: 0.9758 - val_out_2_specificity: 0.9931 - val_out_1_accuracy: 0.9750 - val_out_1_dice_score: 0.4797 - val_out_1_precision: 0.9734 - val_out_1_sensitivity: 0.9696 - val_out_1_specificity: 0.9912\n",
            "Epoch 31/100\n",
            "8/8 [==============================] - 2s 314ms/step - loss: 6.3482 - final_output_loss: 1.5329 - out_3_loss: 1.5408 - out_2_loss: 1.5628 - out_1_loss: 1.5950 - final_output_accuracy: 0.9910 - final_output_dice_score: 0.6680 - final_output_precision: 0.9908 - final_output_sensitivity: 0.9877 - final_output_specificity: 0.9969 - out_3_accuracy: 0.9908 - out_3_dice_score: 0.6763 - out_3_precision: 0.9908 - out_3_sensitivity: 0.9902 - out_3_specificity: 0.9969 - out_2_accuracy: 0.9903 - out_2_dice_score: 0.6607 - out_2_precision: 0.9904 - out_2_sensitivity: 0.9895 - out_2_specificity: 0.9968 - out_1_accuracy: 0.9890 - out_1_dice_score: 0.6378 - out_1_precision: 0.9891 - out_1_sensitivity: 0.9883 - out_1_specificity: 0.9964 - val_loss: 6.6352 - val_final_output_loss: 1.5976 - val_out_3_loss: 1.5762 - val_out_2_loss: 1.6391 - val_out_1_loss: 1.7055 - val_final_output_accuracy: 0.9842 - val_final_output_dice_score: 0.6416 - val_final_output_precision: 0.9821 - val_final_output_sensitivity: 0.9787 - val_final_output_specificity: 0.9940 - val_out_3_accuracy: 0.9851 - val_out_3_dice_score: 0.6696 - val_out_3_precision: 0.9852 - val_out_3_sensitivity: 0.9816 - val_out_3_specificity: 0.9951 - val_out_2_accuracy: 0.9832 - val_out_2_dice_score: 0.6345 - val_out_2_precision: 0.9833 - val_out_2_sensitivity: 0.9790 - val_out_2_specificity: 0.9945 - val_out_1_accuracy: 0.9810 - val_out_1_dice_score: 0.5873 - val_out_1_precision: 0.9815 - val_out_1_sensitivity: 0.9759 - val_out_1_specificity: 0.9939\n",
            "Epoch 32/100\n",
            "8/8 [==============================] - 2s 310ms/step - loss: 6.4069 - final_output_loss: 1.5346 - out_3_loss: 1.5564 - out_2_loss: 1.5739 - out_1_loss: 1.6254 - final_output_accuracy: 0.9855 - final_output_dice_score: 0.6684 - final_output_precision: 0.9840 - final_output_sensitivity: 0.9794 - final_output_specificity: 0.9946 - out_3_accuracy: 0.9850 - out_3_dice_score: 0.6575 - out_3_precision: 0.9853 - out_3_sensitivity: 0.9839 - out_3_specificity: 0.9951 - out_2_accuracy: 0.9846 - out_2_dice_score: 0.6472 - out_2_precision: 0.9852 - out_2_sensitivity: 0.9834 - out_2_specificity: 0.9950 - out_1_accuracy: 0.9837 - out_1_dice_score: 0.6152 - out_1_precision: 0.9843 - out_1_sensitivity: 0.9825 - out_1_specificity: 0.9948 - val_loss: 6.9000 - val_final_output_loss: 1.6618 - val_out_3_loss: 1.6560 - val_out_2_loss: 1.7073 - val_out_1_loss: 1.7582 - val_final_output_accuracy: 0.9797 - val_final_output_dice_score: 0.6100 - val_final_output_precision: 0.9778 - val_final_output_sensitivity: 0.9714 - val_final_output_specificity: 0.9926 - val_out_3_accuracy: 0.9819 - val_out_3_dice_score: 0.6245 - val_out_3_precision: 0.9814 - val_out_3_sensitivity: 0.9784 - val_out_3_specificity: 0.9938 - val_out_2_accuracy: 0.9803 - val_out_2_dice_score: 0.5977 - val_out_2_precision: 0.9800 - val_out_2_sensitivity: 0.9765 - val_out_2_specificity: 0.9934 - val_out_1_accuracy: 0.9806 - val_out_1_dice_score: 0.5667 - val_out_1_precision: 0.9802 - val_out_1_sensitivity: 0.9758 - val_out_1_specificity: 0.9934\n",
            "Epoch 33/100\n",
            "8/8 [==============================] - 2s 308ms/step - loss: 5.8519 - final_output_loss: 1.3949 - out_3_loss: 1.3961 - out_2_loss: 1.4364 - out_1_loss: 1.5078 - final_output_accuracy: 0.9886 - final_output_dice_score: 0.7540 - final_output_precision: 0.9869 - final_output_sensitivity: 0.9838 - final_output_specificity: 0.9957 - out_3_accuracy: 0.9889 - out_3_dice_score: 0.7611 - out_3_precision: 0.9892 - out_3_sensitivity: 0.9877 - out_3_specificity: 0.9964 - out_2_accuracy: 0.9877 - out_2_dice_score: 0.7368 - out_2_precision: 0.9882 - out_2_sensitivity: 0.9865 - out_2_specificity: 0.9960 - out_1_accuracy: 0.9863 - out_1_dice_score: 0.6967 - out_1_precision: 0.9869 - out_1_sensitivity: 0.9850 - out_1_specificity: 0.9956 - val_loss: 6.7131 - val_final_output_loss: 1.6067 - val_out_3_loss: 1.5929 - val_out_2_loss: 1.6617 - val_out_1_loss: 1.7351 - val_final_output_accuracy: 0.9862 - val_final_output_dice_score: 0.6362 - val_final_output_precision: 0.9864 - val_final_output_sensitivity: 0.9806 - val_final_output_specificity: 0.9955 - val_out_3_accuracy: 0.9854 - val_out_3_dice_score: 0.6560 - val_out_3_precision: 0.9858 - val_out_3_sensitivity: 0.9814 - val_out_3_specificity: 0.9953 - val_out_2_accuracy: 0.9826 - val_out_2_dice_score: 0.6155 - val_out_2_precision: 0.9826 - val_out_2_sensitivity: 0.9776 - val_out_2_specificity: 0.9942 - val_out_1_accuracy: 0.9792 - val_out_1_dice_score: 0.5650 - val_out_1_precision: 0.9794 - val_out_1_sensitivity: 0.9738 - val_out_1_specificity: 0.9932\n",
            "Epoch 34/100\n",
            "8/8 [==============================] - 2s 314ms/step - loss: 5.9050 - final_output_loss: 1.4160 - out_3_loss: 1.4189 - out_2_loss: 1.4462 - out_1_loss: 1.5073 - final_output_accuracy: 0.9895 - final_output_dice_score: 0.7481 - final_output_precision: 0.9903 - final_output_sensitivity: 0.9848 - final_output_specificity: 0.9968 - out_3_accuracy: 0.9897 - out_3_dice_score: 0.7494 - out_3_precision: 0.9898 - out_3_sensitivity: 0.9887 - out_3_specificity: 0.9966 - out_2_accuracy: 0.9888 - out_2_dice_score: 0.7313 - out_2_precision: 0.9891 - out_2_sensitivity: 0.9877 - out_2_specificity: 0.9963 - out_1_accuracy: 0.9872 - out_1_dice_score: 0.6892 - out_1_precision: 0.9876 - out_1_sensitivity: 0.9860 - out_1_specificity: 0.9958 - val_loss: 7.0058 - val_final_output_loss: 1.7438 - val_out_3_loss: 1.6714 - val_out_2_loss: 1.7044 - val_out_1_loss: 1.7696 - val_final_output_accuracy: 0.9815 - val_final_output_dice_score: 0.5731 - val_final_output_precision: 0.9796 - val_final_output_sensitivity: 0.9688 - val_final_output_specificity: 0.9933 - val_out_3_accuracy: 0.9845 - val_out_3_dice_score: 0.6202 - val_out_3_precision: 0.9830 - val_out_3_sensitivity: 0.9805 - val_out_3_specificity: 0.9944 - val_out_2_accuracy: 0.9840 - val_out_2_dice_score: 0.6047 - val_out_2_precision: 0.9824 - val_out_2_sensitivity: 0.9797 - val_out_2_specificity: 0.9942 - val_out_1_accuracy: 0.9813 - val_out_1_dice_score: 0.5671 - val_out_1_precision: 0.9800 - val_out_1_sensitivity: 0.9763 - val_out_1_specificity: 0.9934\n",
            "Epoch 35/100\n",
            "8/8 [==============================] - 2s 318ms/step - loss: 6.1813 - final_output_loss: 1.4981 - out_3_loss: 1.4986 - out_2_loss: 1.5122 - out_1_loss: 1.5557 - final_output_accuracy: 0.9862 - final_output_dice_score: 0.7141 - final_output_precision: 0.9861 - final_output_sensitivity: 0.9816 - final_output_specificity: 0.9954 - out_3_accuracy: 0.9869 - out_3_dice_score: 0.7187 - out_3_precision: 0.9868 - out_3_sensitivity: 0.9859 - out_3_specificity: 0.9956 - out_2_accuracy: 0.9865 - out_2_dice_score: 0.7088 - out_2_precision: 0.9865 - out_2_sensitivity: 0.9853 - out_2_specificity: 0.9955 - out_1_accuracy: 0.9851 - out_1_dice_score: 0.6811 - out_1_precision: 0.9852 - out_1_sensitivity: 0.9840 - out_1_specificity: 0.9950 - val_loss: 6.3480 - val_final_output_loss: 1.5308 - val_out_3_loss: 1.5108 - val_out_2_loss: 1.5622 - val_out_1_loss: 1.6275 - val_final_output_accuracy: 0.9859 - val_final_output_dice_score: 0.6655 - val_final_output_precision: 0.9834 - val_final_output_sensitivity: 0.9777 - val_final_output_specificity: 0.9945 - val_out_3_accuracy: 0.9873 - val_out_3_dice_score: 0.6880 - val_out_3_precision: 0.9881 - val_out_3_sensitivity: 0.9842 - val_out_3_specificity: 0.9961 - val_out_2_accuracy: 0.9863 - val_out_2_dice_score: 0.6554 - val_out_2_precision: 0.9874 - val_out_2_sensitivity: 0.9822 - val_out_2_specificity: 0.9958 - val_out_1_accuracy: 0.9835 - val_out_1_dice_score: 0.6215 - val_out_1_precision: 0.9840 - val_out_1_sensitivity: 0.9788 - val_out_1_specificity: 0.9947\n",
            "Epoch 36/100\n",
            "8/8 [==============================] - 2s 314ms/step - loss: 6.1829 - final_output_loss: 1.5067 - out_3_loss: 1.5048 - out_2_loss: 1.5087 - out_1_loss: 1.5461 - final_output_accuracy: 0.9876 - final_output_dice_score: 0.6790 - final_output_precision: 0.9858 - final_output_sensitivity: 0.9833 - final_output_specificity: 0.9952 - out_3_accuracy: 0.9888 - out_3_dice_score: 0.6864 - out_3_precision: 0.9890 - out_3_sensitivity: 0.9879 - out_3_specificity: 0.9963 - out_2_accuracy: 0.9887 - out_2_dice_score: 0.6808 - out_2_precision: 0.9891 - out_2_sensitivity: 0.9876 - out_2_specificity: 0.9963 - out_1_accuracy: 0.9879 - out_1_dice_score: 0.6583 - out_1_precision: 0.9882 - out_1_sensitivity: 0.9869 - out_1_specificity: 0.9960 - val_loss: 6.7056 - val_final_output_loss: 1.5943 - val_out_3_loss: 1.6353 - val_out_2_loss: 1.6317 - val_out_1_loss: 1.7277 - val_final_output_accuracy: 0.9861 - val_final_output_dice_score: 0.6555 - val_final_output_precision: 0.9860 - val_final_output_sensitivity: 0.9807 - val_final_output_specificity: 0.9954 - val_out_3_accuracy: 0.9854 - val_out_3_dice_score: 0.6480 - val_out_3_precision: 0.9846 - val_out_3_sensitivity: 0.9815 - val_out_3_specificity: 0.9949 - val_out_2_accuracy: 0.9845 - val_out_2_dice_score: 0.6418 - val_out_2_precision: 0.9838 - val_out_2_sensitivity: 0.9802 - val_out_2_specificity: 0.9946 - val_out_1_accuracy: 0.9810 - val_out_1_dice_score: 0.5858 - val_out_1_precision: 0.9806 - val_out_1_sensitivity: 0.9762 - val_out_1_specificity: 0.9936\n",
            "Epoch 37/100\n",
            "8/8 [==============================] - 2s 312ms/step - loss: 5.9366 - final_output_loss: 1.4202 - out_3_loss: 1.4397 - out_2_loss: 1.4557 - out_1_loss: 1.5044 - final_output_accuracy: 0.9895 - final_output_dice_score: 0.7382 - final_output_precision: 0.9888 - final_output_sensitivity: 0.9863 - final_output_specificity: 0.9963 - out_3_accuracy: 0.9894 - out_3_dice_score: 0.7352 - out_3_precision: 0.9893 - out_3_sensitivity: 0.9886 - out_3_specificity: 0.9964 - out_2_accuracy: 0.9889 - out_2_dice_score: 0.7220 - out_2_precision: 0.9889 - out_2_sensitivity: 0.9879 - out_2_specificity: 0.9963 - out_1_accuracy: 0.9872 - out_1_dice_score: 0.6881 - out_1_precision: 0.9874 - out_1_sensitivity: 0.9862 - out_1_specificity: 0.9958 - val_loss: 6.5648 - val_final_output_loss: 1.6353 - val_out_3_loss: 1.5869 - val_out_2_loss: 1.5844 - val_out_1_loss: 1.6416 - val_final_output_accuracy: 0.9841 - val_final_output_dice_score: 0.6284 - val_final_output_precision: 0.9811 - val_final_output_sensitivity: 0.9750 - val_final_output_specificity: 0.9937 - val_out_3_accuracy: 0.9857 - val_out_3_dice_score: 0.6651 - val_out_3_precision: 0.9852 - val_out_3_sensitivity: 0.9820 - val_out_3_specificity: 0.9951 - val_out_2_accuracy: 0.9849 - val_out_2_dice_score: 0.6571 - val_out_2_precision: 0.9852 - val_out_2_sensitivity: 0.9811 - val_out_2_specificity: 0.9951 - val_out_1_accuracy: 0.9836 - val_out_1_dice_score: 0.6227 - val_out_1_precision: 0.9841 - val_out_1_sensitivity: 0.9789 - val_out_1_specificity: 0.9947\n",
            "Epoch 38/100\n",
            "8/8 [==============================] - 2s 312ms/step - loss: 5.8358 - final_output_loss: 1.4023 - out_3_loss: 1.4099 - out_2_loss: 1.4248 - out_1_loss: 1.4823 - final_output_accuracy: 0.9879 - final_output_dice_score: 0.7522 - final_output_precision: 0.9876 - final_output_sensitivity: 0.9818 - final_output_specificity: 0.9959 - out_3_accuracy: 0.9883 - out_3_dice_score: 0.7548 - out_3_precision: 0.9883 - out_3_sensitivity: 0.9870 - out_3_specificity: 0.9961 - out_2_accuracy: 0.9875 - out_2_dice_score: 0.7437 - out_2_precision: 0.9877 - out_2_sensitivity: 0.9861 - out_2_specificity: 0.9959 - out_1_accuracy: 0.9857 - out_1_dice_score: 0.7101 - out_1_precision: 0.9862 - out_1_sensitivity: 0.9842 - out_1_specificity: 0.9954 - val_loss: 6.2419 - val_final_output_loss: 1.5144 - val_out_3_loss: 1.5046 - val_out_2_loss: 1.5305 - val_out_1_loss: 1.5758 - val_final_output_accuracy: 0.9854 - val_final_output_dice_score: 0.6922 - val_final_output_precision: 0.9834 - val_final_output_sensitivity: 0.9784 - val_final_output_specificity: 0.9945 - val_out_3_accuracy: 0.9869 - val_out_3_dice_score: 0.7100 - val_out_3_precision: 0.9868 - val_out_3_sensitivity: 0.9842 - val_out_3_specificity: 0.9956 - val_out_2_accuracy: 0.9864 - val_out_2_dice_score: 0.6841 - val_out_2_precision: 0.9863 - val_out_2_sensitivity: 0.9827 - val_out_2_specificity: 0.9955 - val_out_1_accuracy: 0.9851 - val_out_1_dice_score: 0.6536 - val_out_1_precision: 0.9855 - val_out_1_sensitivity: 0.9808 - val_out_1_specificity: 0.9952\n",
            "Epoch 39/100\n",
            "8/8 [==============================] - 2s 313ms/step - loss: 5.7406 - final_output_loss: 1.3832 - out_3_loss: 1.3859 - out_2_loss: 1.4018 - out_1_loss: 1.4531 - final_output_accuracy: 0.9892 - final_output_dice_score: 0.7603 - final_output_precision: 0.9889 - final_output_sensitivity: 0.9839 - final_output_specificity: 0.9963 - out_3_accuracy: 0.9895 - out_3_dice_score: 0.7645 - out_3_precision: 0.9894 - out_3_sensitivity: 0.9884 - out_3_specificity: 0.9965 - out_2_accuracy: 0.9890 - out_2_dice_score: 0.7524 - out_2_precision: 0.9891 - out_2_sensitivity: 0.9878 - out_2_specificity: 0.9963 - out_1_accuracy: 0.9876 - out_1_dice_score: 0.7201 - out_1_precision: 0.9878 - out_1_sensitivity: 0.9864 - out_1_specificity: 0.9959 - val_loss: 6.2026 - val_final_output_loss: 1.4985 - val_out_3_loss: 1.4783 - val_out_2_loss: 1.5127 - val_out_1_loss: 1.5966 - val_final_output_accuracy: 0.9866 - val_final_output_dice_score: 0.6990 - val_final_output_precision: 0.9864 - val_final_output_sensitivity: 0.9800 - val_final_output_specificity: 0.9955 - val_out_3_accuracy: 0.9877 - val_out_3_dice_score: 0.7218 - val_out_3_precision: 0.9881 - val_out_3_sensitivity: 0.9852 - val_out_3_specificity: 0.9960 - val_out_2_accuracy: 0.9867 - val_out_2_dice_score: 0.6933 - val_out_2_precision: 0.9872 - val_out_2_sensitivity: 0.9834 - val_out_2_specificity: 0.9958 - val_out_1_accuracy: 0.9840 - val_out_1_dice_score: 0.6503 - val_out_1_precision: 0.9844 - val_out_1_sensitivity: 0.9799 - val_out_1_specificity: 0.9948\n",
            "Epoch 40/100\n",
            "8/8 [==============================] - 2s 313ms/step - loss: 5.9263 - final_output_loss: 1.4277 - out_3_loss: 1.4268 - out_2_loss: 1.4435 - out_1_loss: 1.5118 - final_output_accuracy: 0.9900 - final_output_dice_score: 0.7344 - final_output_precision: 0.9912 - final_output_sensitivity: 0.9845 - final_output_specificity: 0.9971 - out_3_accuracy: 0.9904 - out_3_dice_score: 0.7388 - out_3_precision: 0.9902 - out_3_sensitivity: 0.9896 - out_3_specificity: 0.9967 - out_2_accuracy: 0.9901 - out_2_dice_score: 0.7285 - out_2_precision: 0.9900 - out_2_sensitivity: 0.9893 - out_2_specificity: 0.9967 - out_1_accuracy: 0.9890 - out_1_dice_score: 0.6881 - out_1_precision: 0.9890 - out_1_sensitivity: 0.9881 - out_1_specificity: 0.9963 - val_loss: 6.4736 - val_final_output_loss: 1.5621 - val_out_3_loss: 1.5567 - val_out_2_loss: 1.5797 - val_out_1_loss: 1.6587 - val_final_output_accuracy: 0.9856 - val_final_output_dice_score: 0.6765 - val_final_output_precision: 0.9854 - val_final_output_sensitivity: 0.9780 - val_final_output_specificity: 0.9952 - val_out_3_accuracy: 0.9866 - val_out_3_dice_score: 0.6832 - val_out_3_precision: 0.9857 - val_out_3_sensitivity: 0.9830 - val_out_3_specificity: 0.9953 - val_out_2_accuracy: 0.9862 - val_out_2_dice_score: 0.6624 - val_out_2_precision: 0.9852 - val_out_2_sensitivity: 0.9818 - val_out_2_specificity: 0.9951 - val_out_1_accuracy: 0.9843 - val_out_1_dice_score: 0.6250 - val_out_1_precision: 0.9833 - val_out_1_sensitivity: 0.9796 - val_out_1_specificity: 0.9945\n",
            "Epoch 41/100\n",
            "8/8 [==============================] - 2s 314ms/step - loss: 5.7718 - final_output_loss: 1.3868 - out_3_loss: 1.3947 - out_2_loss: 1.4103 - out_1_loss: 1.4634 - final_output_accuracy: 0.9892 - final_output_dice_score: 0.7571 - final_output_precision: 0.9890 - final_output_sensitivity: 0.9837 - final_output_specificity: 0.9963 - out_3_accuracy: 0.9898 - out_3_dice_score: 0.7542 - out_3_precision: 0.9898 - out_3_sensitivity: 0.9889 - out_3_specificity: 0.9966 - out_2_accuracy: 0.9893 - out_2_dice_score: 0.7401 - out_2_precision: 0.9893 - out_2_sensitivity: 0.9882 - out_2_specificity: 0.9964 - out_1_accuracy: 0.9880 - out_1_dice_score: 0.7086 - out_1_precision: 0.9881 - out_1_sensitivity: 0.9870 - out_1_specificity: 0.9960 - val_loss: 6.0195 - val_final_output_loss: 1.4304 - val_out_3_loss: 1.4421 - val_out_2_loss: 1.4811 - val_out_1_loss: 1.5494 - val_final_output_accuracy: 0.9885 - val_final_output_dice_score: 0.7361 - val_final_output_precision: 0.9867 - val_final_output_sensitivity: 0.9843 - val_final_output_specificity: 0.9956 - val_out_3_accuracy: 0.9881 - val_out_3_dice_score: 0.7412 - val_out_3_precision: 0.9884 - val_out_3_sensitivity: 0.9858 - val_out_3_specificity: 0.9961 - val_out_2_accuracy: 0.9870 - val_out_2_dice_score: 0.7088 - val_out_2_precision: 0.9873 - val_out_2_sensitivity: 0.9836 - val_out_2_specificity: 0.9958 - val_out_1_accuracy: 0.9843 - val_out_1_dice_score: 0.6681 - val_out_1_precision: 0.9842 - val_out_1_sensitivity: 0.9805 - val_out_1_specificity: 0.9948\n",
            "Epoch 42/100\n",
            "8/8 [==============================] - 2s 306ms/step - loss: 6.0948 - final_output_loss: 1.4611 - out_3_loss: 1.4780 - out_2_loss: 1.4978 - out_1_loss: 1.5414 - final_output_accuracy: 0.9891 - final_output_dice_score: 0.6992 - final_output_precision: 0.9893 - final_output_sensitivity: 0.9846 - final_output_specificity: 0.9964 - out_3_accuracy: 0.9893 - out_3_dice_score: 0.7032 - out_3_precision: 0.9897 - out_3_sensitivity: 0.9890 - out_3_specificity: 0.9966 - out_2_accuracy: 0.9885 - out_2_dice_score: 0.6903 - out_2_precision: 0.9891 - out_2_sensitivity: 0.9881 - out_2_specificity: 0.9963 - out_1_accuracy: 0.9874 - out_1_dice_score: 0.6472 - out_1_precision: 0.9882 - out_1_sensitivity: 0.9870 - out_1_specificity: 0.9960 - val_loss: 5.9246 - val_final_output_loss: 1.4255 - val_out_3_loss: 1.4115 - val_out_2_loss: 1.4521 - val_out_1_loss: 1.5190 - val_final_output_accuracy: 0.9881 - val_final_output_dice_score: 0.7364 - val_final_output_precision: 0.9834 - val_final_output_sensitivity: 0.9841 - val_final_output_specificity: 0.9944 - val_out_3_accuracy: 0.9890 - val_out_3_dice_score: 0.7539 - val_out_3_precision: 0.9889 - val_out_3_sensitivity: 0.9866 - val_out_3_specificity: 0.9963 - val_out_2_accuracy: 0.9877 - val_out_2_dice_score: 0.7234 - val_out_2_precision: 0.9880 - val_out_2_sensitivity: 0.9846 - val_out_2_specificity: 0.9960 - val_out_1_accuracy: 0.9862 - val_out_1_dice_score: 0.6899 - val_out_1_precision: 0.9860 - val_out_1_sensitivity: 0.9827 - val_out_1_specificity: 0.9954\n",
            "Epoch 43/100\n",
            "8/8 [==============================] - 2s 314ms/step - loss: 6.0544 - final_output_loss: 1.4695 - out_3_loss: 1.4643 - out_2_loss: 1.4808 - out_1_loss: 1.5233 - final_output_accuracy: 0.9873 - final_output_dice_score: 0.7217 - final_output_precision: 0.9876 - final_output_sensitivity: 0.9825 - final_output_specificity: 0.9959 - out_3_accuracy: 0.9875 - out_3_dice_score: 0.7283 - out_3_precision: 0.9875 - out_3_sensitivity: 0.9865 - out_3_specificity: 0.9958 - out_2_accuracy: 0.9868 - out_2_dice_score: 0.7146 - out_2_precision: 0.9869 - out_2_sensitivity: 0.9857 - out_2_specificity: 0.9956 - out_1_accuracy: 0.9859 - out_1_dice_score: 0.6876 - out_1_precision: 0.9863 - out_1_sensitivity: 0.9847 - out_1_specificity: 0.9954 - val_loss: 6.1863 - val_final_output_loss: 1.4710 - val_out_3_loss: 1.4638 - val_out_2_loss: 1.5089 - val_out_1_loss: 1.6261 - val_final_output_accuracy: 0.9880 - val_final_output_dice_score: 0.7297 - val_final_output_precision: 0.9867 - val_final_output_sensitivity: 0.9831 - val_final_output_specificity: 0.9956 - val_out_3_accuracy: 0.9882 - val_out_3_dice_score: 0.7370 - val_out_3_precision: 0.9879 - val_out_3_sensitivity: 0.9863 - val_out_3_specificity: 0.9960 - val_out_2_accuracy: 0.9872 - val_out_2_dice_score: 0.7054 - val_out_2_precision: 0.9869 - val_out_2_sensitivity: 0.9845 - val_out_2_specificity: 0.9956 - val_out_1_accuracy: 0.9845 - val_out_1_dice_score: 0.6550 - val_out_1_precision: 0.9838 - val_out_1_sensitivity: 0.9811 - val_out_1_specificity: 0.9946\n",
            "Epoch 44/100\n",
            "8/8 [==============================] - 2s 314ms/step - loss: 6.0210 - final_output_loss: 1.4526 - out_3_loss: 1.4595 - out_2_loss: 1.4786 - out_1_loss: 1.5139 - final_output_accuracy: 0.9875 - final_output_dice_score: 0.7158 - final_output_precision: 0.9885 - final_output_sensitivity: 0.9790 - final_output_specificity: 0.9961 - out_3_accuracy: 0.9875 - out_3_dice_score: 0.7102 - out_3_precision: 0.9878 - out_3_sensitivity: 0.9863 - out_3_specificity: 0.9959 - out_2_accuracy: 0.9873 - out_2_dice_score: 0.6985 - out_2_precision: 0.9876 - out_2_sensitivity: 0.9859 - out_2_specificity: 0.9958 - out_1_accuracy: 0.9869 - out_1_dice_score: 0.6816 - out_1_precision: 0.9871 - out_1_sensitivity: 0.9857 - out_1_specificity: 0.9957 - val_loss: 6.2476 - val_final_output_loss: 1.4878 - val_out_3_loss: 1.4790 - val_out_2_loss: 1.5216 - val_out_1_loss: 1.6428 - val_final_output_accuracy: 0.9883 - val_final_output_dice_score: 0.7229 - val_final_output_precision: 0.9886 - val_final_output_sensitivity: 0.9840 - val_final_output_specificity: 0.9962 - val_out_3_accuracy: 0.9882 - val_out_3_dice_score: 0.7341 - val_out_3_precision: 0.9880 - val_out_3_sensitivity: 0.9864 - val_out_3_specificity: 0.9960 - val_out_2_accuracy: 0.9871 - val_out_2_dice_score: 0.7033 - val_out_2_precision: 0.9867 - val_out_2_sensitivity: 0.9842 - val_out_2_specificity: 0.9956 - val_out_1_accuracy: 0.9839 - val_out_1_dice_score: 0.6422 - val_out_1_precision: 0.9834 - val_out_1_sensitivity: 0.9803 - val_out_1_specificity: 0.9945\n",
            "Epoch 45/100\n",
            "8/8 [==============================] - 2s 312ms/step - loss: 5.7890 - final_output_loss: 1.3913 - out_3_loss: 1.3966 - out_2_loss: 1.4188 - out_1_loss: 1.4659 - final_output_accuracy: 0.9907 - final_output_dice_score: 0.7636 - final_output_precision: 0.9914 - final_output_sensitivity: 0.9867 - final_output_specificity: 0.9971 - out_3_accuracy: 0.9910 - out_3_dice_score: 0.7658 - out_3_precision: 0.9909 - out_3_sensitivity: 0.9903 - out_3_specificity: 0.9969 - out_2_accuracy: 0.9902 - out_2_dice_score: 0.7512 - out_2_precision: 0.9902 - out_2_sensitivity: 0.9893 - out_2_specificity: 0.9967 - out_1_accuracy: 0.9887 - out_1_dice_score: 0.7198 - out_1_precision: 0.9888 - out_1_sensitivity: 0.9878 - out_1_specificity: 0.9963 - val_loss: 6.3062 - val_final_output_loss: 1.5520 - val_out_3_loss: 1.5357 - val_out_2_loss: 1.5319 - val_out_1_loss: 1.5704 - val_final_output_accuracy: 0.9859 - val_final_output_dice_score: 0.6844 - val_final_output_precision: 0.9839 - val_final_output_sensitivity: 0.9797 - val_final_output_specificity: 0.9946 - val_out_3_accuracy: 0.9871 - val_out_3_dice_score: 0.7022 - val_out_3_precision: 0.9861 - val_out_3_sensitivity: 0.9842 - val_out_3_specificity: 0.9954 - val_out_2_accuracy: 0.9866 - val_out_2_dice_score: 0.6964 - val_out_2_precision: 0.9863 - val_out_2_sensitivity: 0.9837 - val_out_2_specificity: 0.9955 - val_out_1_accuracy: 0.9853 - val_out_1_dice_score: 0.6733 - val_out_1_precision: 0.9851 - val_out_1_sensitivity: 0.9821 - val_out_1_specificity: 0.9951\n",
            "Epoch 46/100\n",
            "8/8 [==============================] - 2s 312ms/step - loss: 5.9001 - final_output_loss: 1.4168 - out_3_loss: 1.4348 - out_2_loss: 1.4416 - out_1_loss: 1.4906 - final_output_accuracy: 0.9885 - final_output_dice_score: 0.7452 - final_output_precision: 0.9888 - final_output_sensitivity: 0.9823 - final_output_specificity: 0.9963 - out_3_accuracy: 0.9889 - out_3_dice_score: 0.7444 - out_3_precision: 0.9888 - out_3_sensitivity: 0.9878 - out_3_specificity: 0.9962 - out_2_accuracy: 0.9885 - out_2_dice_score: 0.7357 - out_2_precision: 0.9885 - out_2_sensitivity: 0.9873 - out_2_specificity: 0.9961 - out_1_accuracy: 0.9868 - out_1_dice_score: 0.7047 - out_1_precision: 0.9869 - out_1_sensitivity: 0.9856 - out_1_specificity: 0.9956 - val_loss: 6.0199 - val_final_output_loss: 1.4177 - val_out_3_loss: 1.4445 - val_out_2_loss: 1.4628 - val_out_1_loss: 1.5784 - val_final_output_accuracy: 0.9888 - val_final_output_dice_score: 0.7545 - val_final_output_precision: 0.9870 - val_final_output_sensitivity: 0.9847 - val_final_output_specificity: 0.9957 - val_out_3_accuracy: 0.9883 - val_out_3_dice_score: 0.7458 - val_out_3_precision: 0.9877 - val_out_3_sensitivity: 0.9863 - val_out_3_specificity: 0.9959 - val_out_2_accuracy: 0.9880 - val_out_2_dice_score: 0.7296 - val_out_2_precision: 0.9876 - val_out_2_sensitivity: 0.9855 - val_out_2_specificity: 0.9959 - val_out_1_accuracy: 0.9843 - val_out_1_dice_score: 0.6759 - val_out_1_precision: 0.9841 - val_out_1_sensitivity: 0.9817 - val_out_1_specificity: 0.9947\n",
            "Epoch 47/100\n",
            "8/8 [==============================] - 2s 312ms/step - loss: 5.8396 - final_output_loss: 1.4066 - out_3_loss: 1.4135 - out_2_loss: 1.4303 - out_1_loss: 1.4727 - final_output_accuracy: 0.9919 - final_output_dice_score: 0.7311 - final_output_precision: 0.9927 - final_output_sensitivity: 0.9862 - final_output_specificity: 0.9976 - out_3_accuracy: 0.9922 - out_3_dice_score: 0.7369 - out_3_precision: 0.9920 - out_3_sensitivity: 0.9915 - out_3_specificity: 0.9973 - out_2_accuracy: 0.9916 - out_2_dice_score: 0.7220 - out_2_precision: 0.9915 - out_2_sensitivity: 0.9908 - out_2_specificity: 0.9971 - out_1_accuracy: 0.9904 - out_1_dice_score: 0.6980 - out_1_precision: 0.9904 - out_1_sensitivity: 0.9896 - out_1_specificity: 0.9968 - val_loss: 6.0756 - val_final_output_loss: 1.4672 - val_out_3_loss: 1.4545 - val_out_2_loss: 1.4846 - val_out_1_loss: 1.5529 - val_final_output_accuracy: 0.9868 - val_final_output_dice_score: 0.7182 - val_final_output_precision: 0.9843 - val_final_output_sensitivity: 0.9804 - val_final_output_specificity: 0.9948 - val_out_3_accuracy: 0.9883 - val_out_3_dice_score: 0.7368 - val_out_3_precision: 0.9873 - val_out_3_sensitivity: 0.9857 - val_out_3_specificity: 0.9958 - val_out_2_accuracy: 0.9876 - val_out_2_dice_score: 0.7116 - val_out_2_precision: 0.9871 - val_out_2_sensitivity: 0.9844 - val_out_2_specificity: 0.9957 - val_out_1_accuracy: 0.9856 - val_out_1_dice_score: 0.6841 - val_out_1_precision: 0.9852 - val_out_1_sensitivity: 0.9826 - val_out_1_specificity: 0.9951\n",
            "Epoch 48/100\n",
            "8/8 [==============================] - 2s 314ms/step - loss: 6.0590 - final_output_loss: 1.4520 - out_3_loss: 1.4649 - out_2_loss: 1.4809 - out_1_loss: 1.5448 - final_output_accuracy: 0.9869 - final_output_dice_score: 0.7294 - final_output_precision: 0.9879 - final_output_sensitivity: 0.9795 - final_output_specificity: 0.9960 - out_3_accuracy: 0.9875 - out_3_dice_score: 0.7293 - out_3_precision: 0.9876 - out_3_sensitivity: 0.9863 - out_3_specificity: 0.9959 - out_2_accuracy: 0.9866 - out_2_dice_score: 0.7155 - out_2_precision: 0.9869 - out_2_sensitivity: 0.9852 - out_2_specificity: 0.9956 - out_1_accuracy: 0.9845 - out_1_dice_score: 0.6764 - out_1_precision: 0.9850 - out_1_sensitivity: 0.9830 - out_1_specificity: 0.9950 - val_loss: 5.7876 - val_final_output_loss: 1.3797 - val_out_3_loss: 1.3863 - val_out_2_loss: 1.4174 - val_out_1_loss: 1.4879 - val_final_output_accuracy: 0.9890 - val_final_output_dice_score: 0.7744 - val_final_output_precision: 0.9874 - val_final_output_sensitivity: 0.9845 - val_final_output_specificity: 0.9958 - val_out_3_accuracy: 0.9893 - val_out_3_dice_score: 0.7773 - val_out_3_precision: 0.9888 - val_out_3_sensitivity: 0.9876 - val_out_3_specificity: 0.9963 - val_out_2_accuracy: 0.9884 - val_out_2_dice_score: 0.7495 - val_out_2_precision: 0.9878 - val_out_2_sensitivity: 0.9859 - val_out_2_specificity: 0.9960 - val_out_1_accuracy: 0.9868 - val_out_1_dice_score: 0.7119 - val_out_1_precision: 0.9862 - val_out_1_sensitivity: 0.9838 - val_out_1_specificity: 0.9954\n",
            "Epoch 49/100\n",
            "8/8 [==============================] - 2s 313ms/step - loss: 5.6907 - final_output_loss: 1.3566 - out_3_loss: 1.3655 - out_2_loss: 1.3939 - out_1_loss: 1.4583 - final_output_accuracy: 0.9896 - final_output_dice_score: 0.7857 - final_output_precision: 0.9907 - final_output_sensitivity: 0.9842 - final_output_specificity: 0.9969 - out_3_accuracy: 0.9900 - out_3_dice_score: 0.7850 - out_3_precision: 0.9896 - out_3_sensitivity: 0.9893 - out_3_specificity: 0.9965 - out_2_accuracy: 0.9895 - out_2_dice_score: 0.7682 - out_2_precision: 0.9892 - out_2_sensitivity: 0.9888 - out_2_specificity: 0.9964 - out_1_accuracy: 0.9884 - out_1_dice_score: 0.7305 - out_1_precision: 0.9882 - out_1_sensitivity: 0.9875 - out_1_specificity: 0.9961 - val_loss: 5.8581 - val_final_output_loss: 1.4063 - val_out_3_loss: 1.3941 - val_out_2_loss: 1.4327 - val_out_1_loss: 1.5086 - val_final_output_accuracy: 0.9878 - val_final_output_dice_score: 0.7565 - val_final_output_precision: 0.9866 - val_final_output_sensitivity: 0.9814 - val_final_output_specificity: 0.9955 - val_out_3_accuracy: 0.9890 - val_out_3_dice_score: 0.7699 - val_out_3_precision: 0.9883 - val_out_3_sensitivity: 0.9870 - val_out_3_specificity: 0.9961 - val_out_2_accuracy: 0.9875 - val_out_2_dice_score: 0.7383 - val_out_2_precision: 0.9869 - val_out_2_sensitivity: 0.9849 - val_out_2_specificity: 0.9957 - val_out_1_accuracy: 0.9871 - val_out_1_dice_score: 0.7072 - val_out_1_precision: 0.9859 - val_out_1_sensitivity: 0.9836 - val_out_1_specificity: 0.9953\n",
            "Epoch 50/100\n",
            "8/8 [==============================] - 2s 307ms/step - loss: 5.7357 - final_output_loss: 1.3784 - out_3_loss: 1.3885 - out_2_loss: 1.4086 - out_1_loss: 1.4438 - final_output_accuracy: 0.9900 - final_output_dice_score: 0.7610 - final_output_precision: 0.9918 - final_output_sensitivity: 0.9839 - final_output_specificity: 0.9972 - out_3_accuracy: 0.9904 - out_3_dice_score: 0.7594 - out_3_precision: 0.9904 - out_3_sensitivity: 0.9897 - out_3_specificity: 0.9968 - out_2_accuracy: 0.9902 - out_2_dice_score: 0.7469 - out_2_precision: 0.9903 - out_2_sensitivity: 0.9894 - out_2_specificity: 0.9967 - out_1_accuracy: 0.9893 - out_1_dice_score: 0.7241 - out_1_precision: 0.9894 - out_1_sensitivity: 0.9886 - out_1_specificity: 0.9964 - val_loss: 6.0837 - val_final_output_loss: 1.4398 - val_out_3_loss: 1.4732 - val_out_2_loss: 1.4766 - val_out_1_loss: 1.5777 - val_final_output_accuracy: 0.9878 - val_final_output_dice_score: 0.7505 - val_final_output_precision: 0.9887 - val_final_output_sensitivity: 0.9852 - val_final_output_specificity: 0.9963 - val_out_3_accuracy: 0.9866 - val_out_3_dice_score: 0.7387 - val_out_3_precision: 0.9860 - val_out_3_sensitivity: 0.9847 - val_out_3_specificity: 0.9953 - val_out_2_accuracy: 0.9868 - val_out_2_dice_score: 0.7235 - val_out_2_precision: 0.9861 - val_out_2_sensitivity: 0.9842 - val_out_2_specificity: 0.9954 - val_out_1_accuracy: 0.9840 - val_out_1_dice_score: 0.6709 - val_out_1_precision: 0.9830 - val_out_1_sensitivity: 0.9808 - val_out_1_specificity: 0.9943\n",
            "Epoch 51/100\n",
            "8/8 [==============================] - 2s 311ms/step - loss: 5.8864 - final_output_loss: 1.4110 - out_3_loss: 1.4267 - out_2_loss: 1.4453 - out_1_loss: 1.4870 - final_output_accuracy: 0.9893 - final_output_dice_score: 0.7519 - final_output_precision: 0.9898 - final_output_sensitivity: 0.9832 - final_output_specificity: 0.9966 - out_3_accuracy: 0.9895 - out_3_dice_score: 0.7482 - out_3_precision: 0.9895 - out_3_sensitivity: 0.9884 - out_3_specificity: 0.9965 - out_2_accuracy: 0.9889 - out_2_dice_score: 0.7348 - out_2_precision: 0.9890 - out_2_sensitivity: 0.9877 - out_2_specificity: 0.9963 - out_1_accuracy: 0.9876 - out_1_dice_score: 0.7058 - out_1_precision: 0.9878 - out_1_sensitivity: 0.9864 - out_1_specificity: 0.9959 - val_loss: 5.8332 - val_final_output_loss: 1.3902 - val_out_3_loss: 1.4003 - val_out_2_loss: 1.4482 - val_out_1_loss: 1.4782 - val_final_output_accuracy: 0.9870 - val_final_output_dice_score: 0.7680 - val_final_output_precision: 0.9838 - val_final_output_sensitivity: 0.9823 - val_final_output_specificity: 0.9946 - val_out_3_accuracy: 0.9878 - val_out_3_dice_score: 0.7683 - val_out_3_precision: 0.9875 - val_out_3_sensitivity: 0.9862 - val_out_3_specificity: 0.9958 - val_out_2_accuracy: 0.9865 - val_out_2_dice_score: 0.7360 - val_out_2_precision: 0.9859 - val_out_2_sensitivity: 0.9841 - val_out_2_specificity: 0.9953 - val_out_1_accuracy: 0.9859 - val_out_1_dice_score: 0.7110 - val_out_1_precision: 0.9852 - val_out_1_sensitivity: 0.9833 - val_out_1_specificity: 0.9951\n",
            "Epoch 52/100\n",
            "8/8 [==============================] - 2s 311ms/step - loss: 6.0919 - final_output_loss: 1.4564 - out_3_loss: 1.4775 - out_2_loss: 1.5000 - out_1_loss: 1.5417 - final_output_accuracy: 0.9884 - final_output_dice_score: 0.7091 - final_output_precision: 0.9896 - final_output_sensitivity: 0.9804 - final_output_specificity: 0.9965 - out_3_accuracy: 0.9891 - out_3_dice_score: 0.7036 - out_3_precision: 0.9891 - out_3_sensitivity: 0.9881 - out_3_specificity: 0.9963 - out_2_accuracy: 0.9888 - out_2_dice_score: 0.6899 - out_2_precision: 0.9889 - out_2_sensitivity: 0.9878 - out_2_specificity: 0.9963 - out_1_accuracy: 0.9882 - out_1_dice_score: 0.6701 - out_1_precision: 0.9883 - out_1_sensitivity: 0.9873 - out_1_specificity: 0.9961 - val_loss: 6.0606 - val_final_output_loss: 1.4412 - val_out_3_loss: 1.4602 - val_out_2_loss: 1.4852 - val_out_1_loss: 1.5578 - val_final_output_accuracy: 0.9891 - val_final_output_dice_score: 0.7538 - val_final_output_precision: 0.9879 - val_final_output_sensitivity: 0.9856 - val_final_output_specificity: 0.9960 - val_out_3_accuracy: 0.9886 - val_out_3_dice_score: 0.7509 - val_out_3_precision: 0.9877 - val_out_3_sensitivity: 0.9865 - val_out_3_specificity: 0.9959 - val_out_2_accuracy: 0.9880 - val_out_2_dice_score: 0.7297 - val_out_2_precision: 0.9869 - val_out_2_sensitivity: 0.9852 - val_out_2_specificity: 0.9957 - val_out_1_accuracy: 0.9857 - val_out_1_dice_score: 0.6895 - val_out_1_precision: 0.9846 - val_out_1_sensitivity: 0.9823 - val_out_1_specificity: 0.9949\n",
            "Epoch 53/100\n",
            "8/8 [==============================] - 2s 312ms/step - loss: 5.5630 - final_output_loss: 1.3319 - out_3_loss: 1.3382 - out_2_loss: 1.3634 - out_1_loss: 1.4132 - final_output_accuracy: 0.9913 - final_output_dice_score: 0.7888 - final_output_precision: 0.9916 - final_output_sensitivity: 0.9860 - final_output_specificity: 0.9972 - out_3_accuracy: 0.9915 - out_3_dice_score: 0.7909 - out_3_precision: 0.9913 - out_3_sensitivity: 0.9906 - out_3_specificity: 0.9971 - out_2_accuracy: 0.9908 - out_2_dice_score: 0.7717 - out_2_precision: 0.9907 - out_2_sensitivity: 0.9897 - out_2_specificity: 0.9969 - out_1_accuracy: 0.9893 - out_1_dice_score: 0.7414 - out_1_precision: 0.9894 - out_1_sensitivity: 0.9884 - out_1_specificity: 0.9964 - val_loss: 5.6878 - val_final_output_loss: 1.3622 - val_out_3_loss: 1.3669 - val_out_2_loss: 1.3976 - val_out_1_loss: 1.4448 - val_final_output_accuracy: 0.9898 - val_final_output_dice_score: 0.7846 - val_final_output_precision: 0.9889 - val_final_output_sensitivity: 0.9859 - val_final_output_specificity: 0.9963 - val_out_3_accuracy: 0.9900 - val_out_3_dice_score: 0.7874 - val_out_3_precision: 0.9895 - val_out_3_sensitivity: 0.9883 - val_out_3_specificity: 0.9965 - val_out_2_accuracy: 0.9891 - val_out_2_dice_score: 0.7621 - val_out_2_precision: 0.9884 - val_out_2_sensitivity: 0.9866 - val_out_2_specificity: 0.9962 - val_out_1_accuracy: 0.9872 - val_out_1_dice_score: 0.7243 - val_out_1_precision: 0.9867 - val_out_1_sensitivity: 0.9846 - val_out_1_specificity: 0.9956\n",
            "Epoch 54/100\n",
            "8/8 [==============================] - 2s 313ms/step - loss: 5.8507 - final_output_loss: 1.4005 - out_3_loss: 1.4116 - out_2_loss: 1.4369 - out_1_loss: 1.4854 - final_output_accuracy: 0.9885 - final_output_dice_score: 0.7632 - final_output_precision: 0.9890 - final_output_sensitivity: 0.9829 - final_output_specificity: 0.9963 - out_3_accuracy: 0.9887 - out_3_dice_score: 0.7599 - out_3_precision: 0.9885 - out_3_sensitivity: 0.9877 - out_3_specificity: 0.9962 - out_2_accuracy: 0.9877 - out_2_dice_score: 0.7420 - out_2_precision: 0.9876 - out_2_sensitivity: 0.9865 - out_2_specificity: 0.9958 - out_1_accuracy: 0.9856 - out_1_dice_score: 0.7100 - out_1_precision: 0.9855 - out_1_sensitivity: 0.9843 - out_1_specificity: 0.9952 - val_loss: 5.8821 - val_final_output_loss: 1.4243 - val_out_3_loss: 1.4272 - val_out_2_loss: 1.4519 - val_out_1_loss: 1.4624 - val_final_output_accuracy: 0.9877 - val_final_output_dice_score: 0.7596 - val_final_output_precision: 0.9851 - val_final_output_sensitivity: 0.9830 - val_final_output_specificity: 0.9950 - val_out_3_accuracy: 0.9887 - val_out_3_dice_score: 0.7643 - val_out_3_precision: 0.9875 - val_out_3_sensitivity: 0.9867 - val_out_3_specificity: 0.9958 - val_out_2_accuracy: 0.9879 - val_out_2_dice_score: 0.7440 - val_out_2_precision: 0.9865 - val_out_2_sensitivity: 0.9852 - val_out_2_specificity: 0.9955 - val_out_1_accuracy: 0.9873 - val_out_1_dice_score: 0.7239 - val_out_1_precision: 0.9859 - val_out_1_sensitivity: 0.9843 - val_out_1_specificity: 0.9953\n",
            "Epoch 55/100\n",
            "8/8 [==============================] - 2s 311ms/step - loss: 5.8189 - final_output_loss: 1.3984 - out_3_loss: 1.4069 - out_2_loss: 1.4243 - out_1_loss: 1.4730 - final_output_accuracy: 0.9895 - final_output_dice_score: 0.7492 - final_output_precision: 0.9896 - final_output_sensitivity: 0.9840 - final_output_specificity: 0.9965 - out_3_accuracy: 0.9904 - out_3_dice_score: 0.7490 - out_3_precision: 0.9903 - out_3_sensitivity: 0.9896 - out_3_specificity: 0.9967 - out_2_accuracy: 0.9900 - out_2_dice_score: 0.7373 - out_2_precision: 0.9900 - out_2_sensitivity: 0.9891 - out_2_specificity: 0.9966 - out_1_accuracy: 0.9889 - out_1_dice_score: 0.7099 - out_1_precision: 0.9890 - out_1_sensitivity: 0.9880 - out_1_specificity: 0.9963 - val_loss: 5.7730 - val_final_output_loss: 1.3614 - val_out_3_loss: 1.3809 - val_out_2_loss: 1.4068 - val_out_1_loss: 1.5077 - val_final_output_accuracy: 0.9904 - val_final_output_dice_score: 0.7897 - val_final_output_precision: 0.9897 - val_final_output_sensitivity: 0.9875 - val_final_output_specificity: 0.9966 - val_out_3_accuracy: 0.9898 - val_out_3_dice_score: 0.7829 - val_out_3_precision: 0.9887 - val_out_3_sensitivity: 0.9874 - val_out_3_specificity: 0.9962 - val_out_2_accuracy: 0.9892 - val_out_2_dice_score: 0.7601 - val_out_2_precision: 0.9882 - val_out_2_sensitivity: 0.9862 - val_out_2_specificity: 0.9961 - val_out_1_accuracy: 0.9864 - val_out_1_dice_score: 0.7058 - val_out_1_precision: 0.9850 - val_out_1_sensitivity: 0.9824 - val_out_1_specificity: 0.9950\n",
            "Epoch 56/100\n",
            "8/8 [==============================] - 2s 313ms/step - loss: 5.7350 - final_output_loss: 1.3658 - out_3_loss: 1.3910 - out_2_loss: 1.4100 - out_1_loss: 1.4519 - final_output_accuracy: 0.9884 - final_output_dice_score: 0.7752 - final_output_precision: 0.9888 - final_output_sensitivity: 0.9829 - final_output_specificity: 0.9963 - out_3_accuracy: 0.9883 - out_3_dice_score: 0.7651 - out_3_precision: 0.9882 - out_3_sensitivity: 0.9872 - out_3_specificity: 0.9960 - out_2_accuracy: 0.9877 - out_2_dice_score: 0.7503 - out_2_precision: 0.9877 - out_2_sensitivity: 0.9864 - out_2_specificity: 0.9959 - out_1_accuracy: 0.9860 - out_1_dice_score: 0.7254 - out_1_precision: 0.9861 - out_1_sensitivity: 0.9847 - out_1_specificity: 0.9953 - val_loss: 5.5854 - val_final_output_loss: 1.3305 - val_out_3_loss: 1.3346 - val_out_2_loss: 1.3745 - val_out_1_loss: 1.4296 - val_final_output_accuracy: 0.9900 - val_final_output_dice_score: 0.7935 - val_final_output_precision: 0.9876 - val_final_output_sensitivity: 0.9861 - val_final_output_specificity: 0.9959 - val_out_3_accuracy: 0.9903 - val_out_3_dice_score: 0.7971 - val_out_3_precision: 0.9898 - val_out_3_sensitivity: 0.9884 - val_out_3_specificity: 0.9966 - val_out_2_accuracy: 0.9890 - val_out_2_dice_score: 0.7680 - val_out_2_precision: 0.9886 - val_out_2_sensitivity: 0.9865 - val_out_2_specificity: 0.9962 - val_out_1_accuracy: 0.9873 - val_out_1_dice_score: 0.7328 - val_out_1_precision: 0.9868 - val_out_1_sensitivity: 0.9846 - val_out_1_specificity: 0.9956\n",
            "Epoch 57/100\n",
            "8/8 [==============================] - 2s 312ms/step - loss: 5.6464 - final_output_loss: 1.3542 - out_3_loss: 1.3620 - out_2_loss: 1.3794 - out_1_loss: 1.4346 - final_output_accuracy: 0.9915 - final_output_dice_score: 0.7734 - final_output_precision: 0.9920 - final_output_sensitivity: 0.9870 - final_output_specificity: 0.9973 - out_3_accuracy: 0.9918 - out_3_dice_score: 0.7731 - out_3_precision: 0.9916 - out_3_sensitivity: 0.9911 - out_3_specificity: 0.9972 - out_2_accuracy: 0.9912 - out_2_dice_score: 0.7604 - out_2_precision: 0.9910 - out_2_sensitivity: 0.9905 - out_2_specificity: 0.9970 - out_1_accuracy: 0.9892 - out_1_dice_score: 0.7252 - out_1_precision: 0.9892 - out_1_sensitivity: 0.9885 - out_1_specificity: 0.9964 - val_loss: 6.0542 - val_final_output_loss: 1.4502 - val_out_3_loss: 1.4648 - val_out_2_loss: 1.4833 - val_out_1_loss: 1.5397 - val_final_output_accuracy: 0.9892 - val_final_output_dice_score: 0.7546 - val_final_output_precision: 0.9891 - val_final_output_sensitivity: 0.9852 - val_final_output_specificity: 0.9964 - val_out_3_accuracy: 0.9888 - val_out_3_dice_score: 0.7497 - val_out_3_precision: 0.9875 - val_out_3_sensitivity: 0.9863 - val_out_3_specificity: 0.9958 - val_out_2_accuracy: 0.9884 - val_out_2_dice_score: 0.7320 - val_out_2_precision: 0.9869 - val_out_2_sensitivity: 0.9852 - val_out_2_specificity: 0.9956 - val_out_1_accuracy: 0.9863 - val_out_1_dice_score: 0.7005 - val_out_1_precision: 0.9852 - val_out_1_sensitivity: 0.9830 - val_out_1_specificity: 0.9951\n",
            "Epoch 58/100\n",
            "8/8 [==============================] - 2s 306ms/step - loss: 5.5826 - final_output_loss: 1.3376 - out_3_loss: 1.3397 - out_2_loss: 1.3668 - out_1_loss: 1.4223 - final_output_accuracy: 0.9913 - final_output_dice_score: 0.7943 - final_output_precision: 0.9924 - final_output_sensitivity: 0.9866 - final_output_specificity: 0.9974 - out_3_accuracy: 0.9917 - out_3_dice_score: 0.7958 - out_3_precision: 0.9915 - out_3_sensitivity: 0.9910 - out_3_specificity: 0.9972 - out_2_accuracy: 0.9911 - out_2_dice_score: 0.7781 - out_2_precision: 0.9911 - out_2_sensitivity: 0.9903 - out_2_specificity: 0.9970 - out_1_accuracy: 0.9898 - out_1_dice_score: 0.7431 - out_1_precision: 0.9900 - out_1_sensitivity: 0.9890 - out_1_specificity: 0.9966 - val_loss: 5.6096 - val_final_output_loss: 1.3419 - val_out_3_loss: 1.3449 - val_out_2_loss: 1.3767 - val_out_1_loss: 1.4298 - val_final_output_accuracy: 0.9899 - val_final_output_dice_score: 0.7883 - val_final_output_precision: 0.9885 - val_final_output_sensitivity: 0.9841 - val_final_output_specificity: 0.9962 - val_out_3_accuracy: 0.9904 - val_out_3_dice_score: 0.7931 - val_out_3_precision: 0.9899 - val_out_3_sensitivity: 0.9884 - val_out_3_specificity: 0.9966 - val_out_2_accuracy: 0.9897 - val_out_2_dice_score: 0.7707 - val_out_2_precision: 0.9895 - val_out_2_sensitivity: 0.9875 - val_out_2_specificity: 0.9965 - val_out_1_accuracy: 0.9878 - val_out_1_dice_score: 0.7408 - val_out_1_precision: 0.9875 - val_out_1_sensitivity: 0.9855 - val_out_1_specificity: 0.9958\n",
            "Epoch 59/100\n",
            "8/8 [==============================] - 2s 315ms/step - loss: 5.7354 - final_output_loss: 1.3740 - out_3_loss: 1.3838 - out_2_loss: 1.4084 - out_1_loss: 1.4530 - final_output_accuracy: 0.9888 - final_output_dice_score: 0.7768 - final_output_precision: 0.9891 - final_output_sensitivity: 0.9834 - final_output_specificity: 0.9963 - out_3_accuracy: 0.9892 - out_3_dice_score: 0.7748 - out_3_precision: 0.9890 - out_3_sensitivity: 0.9879 - out_3_specificity: 0.9963 - out_2_accuracy: 0.9884 - out_2_dice_score: 0.7592 - out_2_precision: 0.9884 - out_2_sensitivity: 0.9870 - out_2_specificity: 0.9961 - out_1_accuracy: 0.9866 - out_1_dice_score: 0.7328 - out_1_precision: 0.9867 - out_1_sensitivity: 0.9852 - out_1_specificity: 0.9955 - val_loss: 5.5931 - val_final_output_loss: 1.3290 - val_out_3_loss: 1.3435 - val_out_2_loss: 1.3747 - val_out_1_loss: 1.4297 - val_final_output_accuracy: 0.9904 - val_final_output_dice_score: 0.8012 - val_final_output_precision: 0.9882 - val_final_output_sensitivity: 0.9857 - val_final_output_specificity: 0.9961 - val_out_3_accuracy: 0.9907 - val_out_3_dice_score: 0.7982 - val_out_3_precision: 0.9899 - val_out_3_sensitivity: 0.9887 - val_out_3_specificity: 0.9966 - val_out_2_accuracy: 0.9898 - val_out_2_dice_score: 0.7755 - val_out_2_precision: 0.9892 - val_out_2_sensitivity: 0.9875 - val_out_2_specificity: 0.9964 - val_out_1_accuracy: 0.9880 - val_out_1_dice_score: 0.7404 - val_out_1_precision: 0.9870 - val_out_1_sensitivity: 0.9853 - val_out_1_specificity: 0.9957\n",
            "Epoch 60/100\n",
            "8/8 [==============================] - 2s 313ms/step - loss: 5.4682 - final_output_loss: 1.3073 - out_3_loss: 1.3115 - out_2_loss: 1.3404 - out_1_loss: 1.3928 - final_output_accuracy: 0.9910 - final_output_dice_score: 0.8036 - final_output_precision: 0.9911 - final_output_sensitivity: 0.9861 - final_output_specificity: 0.9970 - out_3_accuracy: 0.9920 - out_3_dice_score: 0.8066 - out_3_precision: 0.9917 - out_3_sensitivity: 0.9911 - out_3_specificity: 0.9972 - out_2_accuracy: 0.9911 - out_2_dice_score: 0.7878 - out_2_precision: 0.9909 - out_2_sensitivity: 0.9902 - out_2_specificity: 0.9970 - out_1_accuracy: 0.9895 - out_1_dice_score: 0.7551 - out_1_precision: 0.9893 - out_1_sensitivity: 0.9885 - out_1_specificity: 0.9964 - val_loss: 5.7188 - val_final_output_loss: 1.3674 - val_out_3_loss: 1.3807 - val_out_2_loss: 1.3901 - val_out_1_loss: 1.4645 - val_final_output_accuracy: 0.9906 - val_final_output_dice_score: 0.7867 - val_final_output_precision: 0.9894 - val_final_output_sensitivity: 0.9865 - val_final_output_specificity: 0.9965 - val_out_3_accuracy: 0.9902 - val_out_3_dice_score: 0.7875 - val_out_3_precision: 0.9896 - val_out_3_sensitivity: 0.9884 - val_out_3_specificity: 0.9966 - val_out_2_accuracy: 0.9898 - val_out_2_dice_score: 0.7739 - val_out_2_precision: 0.9894 - val_out_2_sensitivity: 0.9876 - val_out_2_specificity: 0.9965 - val_out_1_accuracy: 0.9877 - val_out_1_dice_score: 0.7389 - val_out_1_precision: 0.9871 - val_out_1_sensitivity: 0.9854 - val_out_1_specificity: 0.9957\n",
            "Epoch 61/100\n",
            "8/8 [==============================] - 2s 313ms/step - loss: 5.4321 - final_output_loss: 1.2916 - out_3_loss: 1.3045 - out_2_loss: 1.3297 - out_1_loss: 1.3902 - final_output_accuracy: 0.9927 - final_output_dice_score: 0.8137 - final_output_precision: 0.9931 - final_output_sensitivity: 0.9889 - final_output_specificity: 0.9977 - out_3_accuracy: 0.9927 - out_3_dice_score: 0.8109 - out_3_precision: 0.9924 - out_3_sensitivity: 0.9918 - out_3_specificity: 0.9975 - out_2_accuracy: 0.9920 - out_2_dice_score: 0.7938 - out_2_precision: 0.9917 - out_2_sensitivity: 0.9910 - out_2_specificity: 0.9972 - out_1_accuracy: 0.9903 - out_1_dice_score: 0.7581 - out_1_precision: 0.9902 - out_1_sensitivity: 0.9895 - out_1_specificity: 0.9967 - val_loss: 5.5591 - val_final_output_loss: 1.3241 - val_out_3_loss: 1.3304 - val_out_2_loss: 1.3571 - val_out_1_loss: 1.4314 - val_final_output_accuracy: 0.9910 - val_final_output_dice_score: 0.8057 - val_final_output_precision: 0.9905 - val_final_output_sensitivity: 0.9869 - val_final_output_specificity: 0.9968 - val_out_3_accuracy: 0.9907 - val_out_3_dice_score: 0.8064 - val_out_3_precision: 0.9901 - val_out_3_sensitivity: 0.9891 - val_out_3_specificity: 0.9967 - val_out_2_accuracy: 0.9901 - val_out_2_dice_score: 0.7853 - val_out_2_precision: 0.9898 - val_out_2_sensitivity: 0.9881 - val_out_2_specificity: 0.9966 - val_out_1_accuracy: 0.9880 - val_out_1_dice_score: 0.7500 - val_out_1_precision: 0.9873 - val_out_1_sensitivity: 0.9858 - val_out_1_specificity: 0.9958\n",
            "Epoch 62/100\n",
            "8/8 [==============================] - 2s 312ms/step - loss: 5.4915 - final_output_loss: 1.3170 - out_3_loss: 1.3233 - out_2_loss: 1.3431 - out_1_loss: 1.3920 - final_output_accuracy: 0.9902 - final_output_dice_score: 0.8088 - final_output_precision: 0.9912 - final_output_sensitivity: 0.9846 - final_output_specificity: 0.9971 - out_3_accuracy: 0.9902 - out_3_dice_score: 0.8049 - out_3_precision: 0.9899 - out_3_sensitivity: 0.9894 - out_3_specificity: 0.9966 - out_2_accuracy: 0.9898 - out_2_dice_score: 0.7917 - out_2_precision: 0.9895 - out_2_sensitivity: 0.9889 - out_2_specificity: 0.9965 - out_1_accuracy: 0.9887 - out_1_dice_score: 0.7647 - out_1_precision: 0.9885 - out_1_sensitivity: 0.9878 - out_1_specificity: 0.9962 - val_loss: 5.6429 - val_final_output_loss: 1.3556 - val_out_3_loss: 1.3533 - val_out_2_loss: 1.3814 - val_out_1_loss: 1.4365 - val_final_output_accuracy: 0.9881 - val_final_output_dice_score: 0.7835 - val_final_output_precision: 0.9870 - val_final_output_sensitivity: 0.9795 - val_final_output_specificity: 0.9957 - val_out_3_accuracy: 0.9894 - val_out_3_dice_score: 0.7887 - val_out_3_precision: 0.9883 - val_out_3_sensitivity: 0.9871 - val_out_3_specificity: 0.9961 - val_out_2_accuracy: 0.9889 - val_out_2_dice_score: 0.7706 - val_out_2_precision: 0.9883 - val_out_2_sensitivity: 0.9867 - val_out_2_specificity: 0.9961 - val_out_1_accuracy: 0.9881 - val_out_1_dice_score: 0.7484 - val_out_1_precision: 0.9873 - val_out_1_sensitivity: 0.9859 - val_out_1_specificity: 0.9958\n",
            "Epoch 63/100\n",
            "8/8 [==============================] - 2s 313ms/step - loss: 5.3933 - final_output_loss: 1.2899 - out_3_loss: 1.3006 - out_2_loss: 1.3197 - out_1_loss: 1.3670 - final_output_accuracy: 0.9922 - final_output_dice_score: 0.8136 - final_output_precision: 0.9932 - final_output_sensitivity: 0.9876 - final_output_specificity: 0.9977 - out_3_accuracy: 0.9924 - out_3_dice_score: 0.8129 - out_3_precision: 0.9922 - out_3_sensitivity: 0.9918 - out_3_specificity: 0.9974 - out_2_accuracy: 0.9921 - out_2_dice_score: 0.8003 - out_2_precision: 0.9919 - out_2_sensitivity: 0.9913 - out_2_specificity: 0.9973 - out_1_accuracy: 0.9909 - out_1_dice_score: 0.7711 - out_1_precision: 0.9907 - out_1_sensitivity: 0.9902 - out_1_specificity: 0.9969 - val_loss: 5.6761 - val_final_output_loss: 1.3453 - val_out_3_loss: 1.3631 - val_out_2_loss: 1.3858 - val_out_1_loss: 1.4659 - val_final_output_accuracy: 0.9903 - val_final_output_dice_score: 0.8035 - val_final_output_precision: 0.9910 - val_final_output_sensitivity: 0.9862 - val_final_output_specificity: 0.9970 - val_out_3_accuracy: 0.9896 - val_out_3_dice_score: 0.8015 - val_out_3_precision: 0.9892 - val_out_3_sensitivity: 0.9883 - val_out_3_specificity: 0.9964 - val_out_2_accuracy: 0.9890 - val_out_2_dice_score: 0.7797 - val_out_2_precision: 0.9885 - val_out_2_sensitivity: 0.9871 - val_out_2_specificity: 0.9962 - val_out_1_accuracy: 0.9867 - val_out_1_dice_score: 0.7397 - val_out_1_precision: 0.9860 - val_out_1_sensitivity: 0.9847 - val_out_1_specificity: 0.9953\n",
            "Epoch 64/100\n",
            "8/8 [==============================] - 2s 315ms/step - loss: 5.5109 - final_output_loss: 1.3190 - out_3_loss: 1.3283 - out_2_loss: 1.3519 - out_1_loss: 1.3956 - final_output_accuracy: 0.9903 - final_output_dice_score: 0.8068 - final_output_precision: 0.9911 - final_output_sensitivity: 0.9843 - final_output_specificity: 0.9970 - out_3_accuracy: 0.9907 - out_3_dice_score: 0.8075 - out_3_precision: 0.9904 - out_3_sensitivity: 0.9896 - out_3_specificity: 0.9968 - out_2_accuracy: 0.9900 - out_2_dice_score: 0.7911 - out_2_precision: 0.9899 - out_2_sensitivity: 0.9888 - out_2_specificity: 0.9966 - out_1_accuracy: 0.9889 - out_1_dice_score: 0.7677 - out_1_precision: 0.9888 - out_1_sensitivity: 0.9878 - out_1_specificity: 0.9962 - val_loss: 5.5720 - val_final_output_loss: 1.3257 - val_out_3_loss: 1.3405 - val_out_2_loss: 1.3750 - val_out_1_loss: 1.4148 - val_final_output_accuracy: 0.9899 - val_final_output_dice_score: 0.8018 - val_final_output_precision: 0.9893 - val_final_output_sensitivity: 0.9811 - val_final_output_specificity: 0.9965 - val_out_3_accuracy: 0.9903 - val_out_3_dice_score: 0.7948 - val_out_3_precision: 0.9895 - val_out_3_sensitivity: 0.9884 - val_out_3_specificity: 0.9965 - val_out_2_accuracy: 0.9889 - val_out_2_dice_score: 0.7679 - val_out_2_precision: 0.9885 - val_out_2_sensitivity: 0.9866 - val_out_2_specificity: 0.9962 - val_out_1_accuracy: 0.9882 - val_out_1_dice_score: 0.7481 - val_out_1_precision: 0.9874 - val_out_1_sensitivity: 0.9858 - val_out_1_specificity: 0.9958\n",
            "Epoch 65/100\n",
            "8/8 [==============================] - 2s 314ms/step - loss: 5.7321 - final_output_loss: 1.3782 - out_3_loss: 1.3849 - out_2_loss: 1.4043 - out_1_loss: 1.4486 - final_output_accuracy: 0.9912 - final_output_dice_score: 0.7605 - final_output_precision: 0.9921 - final_output_sensitivity: 0.9855 - final_output_specificity: 0.9973 - out_3_accuracy: 0.9917 - out_3_dice_score: 0.7590 - out_3_precision: 0.9914 - out_3_sensitivity: 0.9909 - out_3_specificity: 0.9971 - out_2_accuracy: 0.9910 - out_2_dice_score: 0.7422 - out_2_precision: 0.9909 - out_2_sensitivity: 0.9902 - out_2_specificity: 0.9970 - out_1_accuracy: 0.9900 - out_1_dice_score: 0.7151 - out_1_precision: 0.9900 - out_1_sensitivity: 0.9892 - out_1_specificity: 0.9967 - val_loss: 5.7502 - val_final_output_loss: 1.3699 - val_out_3_loss: 1.3823 - val_out_2_loss: 1.3918 - val_out_1_loss: 1.4900 - val_final_output_accuracy: 0.9907 - val_final_output_dice_score: 0.7988 - val_final_output_precision: 0.9911 - val_final_output_sensitivity: 0.9870 - val_final_output_specificity: 0.9970 - val_out_3_accuracy: 0.9904 - val_out_3_dice_score: 0.7971 - val_out_3_precision: 0.9898 - val_out_3_sensitivity: 0.9889 - val_out_3_specificity: 0.9966 - val_out_2_accuracy: 0.9900 - val_out_2_dice_score: 0.7820 - val_out_2_precision: 0.9892 - val_out_2_sensitivity: 0.9880 - val_out_2_specificity: 0.9964 - val_out_1_accuracy: 0.9875 - val_out_1_dice_score: 0.7390 - val_out_1_precision: 0.9870 - val_out_1_sensitivity: 0.9855 - val_out_1_specificity: 0.9957\n",
            "Epoch 66/100\n",
            "8/8 [==============================] - 2s 306ms/step - loss: 5.8957 - final_output_loss: 1.4173 - out_3_loss: 1.4293 - out_2_loss: 1.4434 - out_1_loss: 1.4897 - final_output_accuracy: 0.9905 - final_output_dice_score: 0.7314 - final_output_precision: 0.9911 - final_output_sensitivity: 0.9839 - final_output_specificity: 0.9970 - out_3_accuracy: 0.9907 - out_3_dice_score: 0.7276 - out_3_precision: 0.9901 - out_3_sensitivity: 0.9895 - out_3_specificity: 0.9967 - out_2_accuracy: 0.9904 - out_2_dice_score: 0.7188 - out_2_precision: 0.9900 - out_2_sensitivity: 0.9892 - out_2_specificity: 0.9966 - out_1_accuracy: 0.9895 - out_1_dice_score: 0.6937 - out_1_precision: 0.9892 - out_1_sensitivity: 0.9885 - out_1_specificity: 0.9964 - val_loss: 5.7016 - val_final_output_loss: 1.3958 - val_out_3_loss: 1.3873 - val_out_2_loss: 1.4004 - val_out_1_loss: 1.4021 - val_final_output_accuracy: 0.9846 - val_final_output_dice_score: 0.7510 - val_final_output_precision: 0.9829 - val_final_output_sensitivity: 0.9715 - val_final_output_specificity: 0.9943 - val_out_3_accuracy: 0.9874 - val_out_3_dice_score: 0.7605 - val_out_3_precision: 0.9872 - val_out_3_sensitivity: 0.9853 - val_out_3_specificity: 0.9957 - val_out_2_accuracy: 0.9879 - val_out_2_dice_score: 0.7527 - val_out_2_precision: 0.9879 - val_out_2_sensitivity: 0.9857 - val_out_2_specificity: 0.9960 - val_out_1_accuracy: 0.9885 - val_out_1_dice_score: 0.7591 - val_out_1_precision: 0.9881 - val_out_1_sensitivity: 0.9864 - val_out_1_specificity: 0.9960\n",
            "Epoch 67/100\n",
            "8/8 [==============================] - 2s 311ms/step - loss: 5.4493 - final_output_loss: 1.3092 - out_3_loss: 1.3109 - out_2_loss: 1.3320 - out_1_loss: 1.3812 - final_output_accuracy: 0.9915 - final_output_dice_score: 0.8043 - final_output_precision: 0.9914 - final_output_sensitivity: 0.9866 - final_output_specificity: 0.9971 - out_3_accuracy: 0.9918 - out_3_dice_score: 0.8089 - out_3_precision: 0.9917 - out_3_sensitivity: 0.9910 - out_3_specificity: 0.9972 - out_2_accuracy: 0.9914 - out_2_dice_score: 0.7952 - out_2_precision: 0.9912 - out_2_sensitivity: 0.9904 - out_2_specificity: 0.9971 - out_1_accuracy: 0.9900 - out_1_dice_score: 0.7638 - out_1_precision: 0.9899 - out_1_sensitivity: 0.9890 - out_1_specificity: 0.9966 - val_loss: 5.9360 - val_final_output_loss: 1.4123 - val_out_3_loss: 1.4259 - val_out_2_loss: 1.4479 - val_out_1_loss: 1.5339 - val_final_output_accuracy: 0.9895 - val_final_output_dice_score: 0.7779 - val_final_output_precision: 0.9883 - val_final_output_sensitivity: 0.9847 - val_final_output_specificity: 0.9961 - val_out_3_accuracy: 0.9897 - val_out_3_dice_score: 0.7791 - val_out_3_precision: 0.9887 - val_out_3_sensitivity: 0.9879 - val_out_3_specificity: 0.9962 - val_out_2_accuracy: 0.9888 - val_out_2_dice_score: 0.7620 - val_out_2_precision: 0.9878 - val_out_2_sensitivity: 0.9867 - val_out_2_specificity: 0.9959 - val_out_1_accuracy: 0.9867 - val_out_1_dice_score: 0.7232 - val_out_1_precision: 0.9855 - val_out_1_sensitivity: 0.9843 - val_out_1_specificity: 0.9952\n",
            "Epoch 68/100\n",
            "8/8 [==============================] - 2s 314ms/step - loss: 5.8117 - final_output_loss: 1.3936 - out_3_loss: 1.4040 - out_2_loss: 1.4266 - out_1_loss: 1.4716 - final_output_accuracy: 0.9900 - final_output_dice_score: 0.7718 - final_output_precision: 0.9908 - final_output_sensitivity: 0.9856 - final_output_specificity: 0.9969 - out_3_accuracy: 0.9903 - out_3_dice_score: 0.7701 - out_3_precision: 0.9900 - out_3_sensitivity: 0.9896 - out_3_specificity: 0.9967 - out_2_accuracy: 0.9896 - out_2_dice_score: 0.7547 - out_2_precision: 0.9894 - out_2_sensitivity: 0.9889 - out_2_specificity: 0.9965 - out_1_accuracy: 0.9888 - out_1_dice_score: 0.7275 - out_1_precision: 0.9886 - out_1_sensitivity: 0.9880 - out_1_specificity: 0.9962 - val_loss: 5.7094 - val_final_output_loss: 1.3734 - val_out_3_loss: 1.3724 - val_out_2_loss: 1.3986 - val_out_1_loss: 1.4489 - val_final_output_accuracy: 0.9884 - val_final_output_dice_score: 0.7658 - val_final_output_precision: 0.9866 - val_final_output_sensitivity: 0.9808 - val_final_output_specificity: 0.9955 - val_out_3_accuracy: 0.9892 - val_out_3_dice_score: 0.7727 - val_out_3_precision: 0.9890 - val_out_3_sensitivity: 0.9874 - val_out_3_specificity: 0.9963 - val_out_2_accuracy: 0.9886 - val_out_2_dice_score: 0.7534 - val_out_2_precision: 0.9886 - val_out_2_sensitivity: 0.9865 - val_out_2_specificity: 0.9962 - val_out_1_accuracy: 0.9872 - val_out_1_dice_score: 0.7395 - val_out_1_precision: 0.9870 - val_out_1_sensitivity: 0.9853 - val_out_1_specificity: 0.9957\n",
            "Epoch 69/100\n",
            "8/8 [==============================] - 2s 314ms/step - loss: 5.5181 - final_output_loss: 1.3155 - out_3_loss: 1.3263 - out_2_loss: 1.3551 - out_1_loss: 1.4052 - final_output_accuracy: 0.9906 - final_output_dice_score: 0.8052 - final_output_precision: 0.9922 - final_output_sensitivity: 0.9855 - final_output_specificity: 0.9974 - out_3_accuracy: 0.9904 - out_3_dice_score: 0.8019 - out_3_precision: 0.9903 - out_3_sensitivity: 0.9893 - out_3_specificity: 0.9967 - out_2_accuracy: 0.9895 - out_2_dice_score: 0.7836 - out_2_precision: 0.9894 - out_2_sensitivity: 0.9884 - out_2_specificity: 0.9965 - out_1_accuracy: 0.9881 - out_1_dice_score: 0.7533 - out_1_precision: 0.9882 - out_1_sensitivity: 0.9869 - out_1_specificity: 0.9960 - val_loss: 5.6546 - val_final_output_loss: 1.3476 - val_out_3_loss: 1.3614 - val_out_2_loss: 1.3916 - val_out_1_loss: 1.4381 - val_final_output_accuracy: 0.9907 - val_final_output_dice_score: 0.8057 - val_final_output_precision: 0.9907 - val_final_output_sensitivity: 0.9871 - val_final_output_specificity: 0.9969 - val_out_3_accuracy: 0.9905 - val_out_3_dice_score: 0.8007 - val_out_3_precision: 0.9898 - val_out_3_sensitivity: 0.9889 - val_out_3_specificity: 0.9966 - val_out_2_accuracy: 0.9896 - val_out_2_dice_score: 0.7811 - val_out_2_precision: 0.9890 - val_out_2_sensitivity: 0.9876 - val_out_2_specificity: 0.9964 - val_out_1_accuracy: 0.9882 - val_out_1_dice_score: 0.7514 - val_out_1_precision: 0.9874 - val_out_1_sensitivity: 0.9861 - val_out_1_specificity: 0.9958\n",
            "Epoch 70/100\n",
            "8/8 [==============================] - 2s 314ms/step - loss: 5.8863 - final_output_loss: 1.4233 - out_3_loss: 1.4262 - out_2_loss: 1.4363 - out_1_loss: 1.4846 - final_output_accuracy: 0.9895 - final_output_dice_score: 0.7341 - final_output_precision: 0.9907 - final_output_sensitivity: 0.9833 - final_output_specificity: 0.9969 - out_3_accuracy: 0.9903 - out_3_dice_score: 0.7373 - out_3_precision: 0.9901 - out_3_sensitivity: 0.9894 - out_3_specificity: 0.9967 - out_2_accuracy: 0.9901 - out_2_dice_score: 0.7314 - out_2_precision: 0.9899 - out_2_sensitivity: 0.9892 - out_2_specificity: 0.9966 - out_1_accuracy: 0.9881 - out_1_dice_score: 0.7006 - out_1_precision: 0.9879 - out_1_sensitivity: 0.9871 - out_1_specificity: 0.9960 - val_loss: 5.6896 - val_final_output_loss: 1.3450 - val_out_3_loss: 1.3595 - val_out_2_loss: 1.3814 - val_out_1_loss: 1.4878 - val_final_output_accuracy: 0.9905 - val_final_output_dice_score: 0.8075 - val_final_output_precision: 0.9891 - val_final_output_sensitivity: 0.9876 - val_final_output_specificity: 0.9964 - val_out_3_accuracy: 0.9905 - val_out_3_dice_score: 0.8052 - val_out_3_precision: 0.9900 - val_out_3_sensitivity: 0.9892 - val_out_3_specificity: 0.9967 - val_out_2_accuracy: 0.9898 - val_out_2_dice_score: 0.7855 - val_out_2_precision: 0.9894 - val_out_2_sensitivity: 0.9881 - val_out_2_specificity: 0.9965 - val_out_1_accuracy: 0.9871 - val_out_1_dice_score: 0.7422 - val_out_1_precision: 0.9865 - val_out_1_sensitivity: 0.9852 - val_out_1_specificity: 0.9955\n",
            "Epoch 71/100\n",
            "8/8 [==============================] - 2s 311ms/step - loss: 5.6267 - final_output_loss: 1.3514 - out_3_loss: 1.3582 - out_2_loss: 1.3772 - out_1_loss: 1.4239 - final_output_accuracy: 0.9909 - final_output_dice_score: 0.7743 - final_output_precision: 0.9915 - final_output_sensitivity: 0.9849 - final_output_specificity: 0.9971 - out_3_accuracy: 0.9918 - out_3_dice_score: 0.7730 - out_3_precision: 0.9915 - out_3_sensitivity: 0.9909 - out_3_specificity: 0.9972 - out_2_accuracy: 0.9913 - out_2_dice_score: 0.7578 - out_2_precision: 0.9911 - out_2_sensitivity: 0.9903 - out_2_specificity: 0.9970 - out_1_accuracy: 0.9903 - out_1_dice_score: 0.7316 - out_1_precision: 0.9901 - out_1_sensitivity: 0.9894 - out_1_specificity: 0.9967 - val_loss: 5.7618 - val_final_output_loss: 1.3790 - val_out_3_loss: 1.3952 - val_out_2_loss: 1.4123 - val_out_1_loss: 1.4594 - val_final_output_accuracy: 0.9890 - val_final_output_dice_score: 0.7795 - val_final_output_precision: 0.9878 - val_final_output_sensitivity: 0.9852 - val_final_output_specificity: 0.9959 - val_out_3_accuracy: 0.9889 - val_out_3_dice_score: 0.7714 - val_out_3_precision: 0.9875 - val_out_3_sensitivity: 0.9867 - val_out_3_specificity: 0.9958 - val_out_2_accuracy: 0.9883 - val_out_2_dice_score: 0.7541 - val_out_2_precision: 0.9873 - val_out_2_sensitivity: 0.9859 - val_out_2_specificity: 0.9958 - val_out_1_accuracy: 0.9870 - val_out_1_dice_score: 0.7336 - val_out_1_precision: 0.9860 - val_out_1_sensitivity: 0.9847 - val_out_1_specificity: 0.9953\n",
            "Epoch 72/100\n",
            "8/8 [==============================] - 2s 314ms/step - loss: 5.9942 - final_output_loss: 1.4416 - out_3_loss: 1.4529 - out_2_loss: 1.4695 - out_1_loss: 1.5143 - final_output_accuracy: 0.9884 - final_output_dice_score: 0.7378 - final_output_precision: 0.9897 - final_output_sensitivity: 0.9837 - final_output_specificity: 0.9966 - out_3_accuracy: 0.9888 - out_3_dice_score: 0.7378 - out_3_precision: 0.9886 - out_3_sensitivity: 0.9878 - out_3_specificity: 0.9962 - out_2_accuracy: 0.9882 - out_2_dice_score: 0.7243 - out_2_precision: 0.9882 - out_2_sensitivity: 0.9871 - out_2_specificity: 0.9960 - out_1_accuracy: 0.9868 - out_1_dice_score: 0.7003 - out_1_precision: 0.9868 - out_1_sensitivity: 0.9858 - out_1_specificity: 0.9956 - val_loss: 5.7164 - val_final_output_loss: 1.3588 - val_out_3_loss: 1.3774 - val_out_2_loss: 1.3906 - val_out_1_loss: 1.4736 - val_final_output_accuracy: 0.9907 - val_final_output_dice_score: 0.8034 - val_final_output_precision: 0.9903 - val_final_output_sensitivity: 0.9877 - val_final_output_specificity: 0.9968 - val_out_3_accuracy: 0.9906 - val_out_3_dice_score: 0.7980 - val_out_3_precision: 0.9900 - val_out_3_sensitivity: 0.9892 - val_out_3_specificity: 0.9967 - val_out_2_accuracy: 0.9900 - val_out_2_dice_score: 0.7830 - val_out_2_precision: 0.9893 - val_out_2_sensitivity: 0.9881 - val_out_2_specificity: 0.9965 - val_out_1_accuracy: 0.9879 - val_out_1_dice_score: 0.7443 - val_out_1_precision: 0.9872 - val_out_1_sensitivity: 0.9858 - val_out_1_specificity: 0.9957\n",
            "Epoch 73/100\n",
            "8/8 [==============================] - 2s 312ms/step - loss: 5.6177 - final_output_loss: 1.3371 - out_3_loss: 1.3552 - out_2_loss: 1.3816 - out_1_loss: 1.4279 - final_output_accuracy: 0.9908 - final_output_dice_score: 0.7918 - final_output_precision: 0.9911 - final_output_sensitivity: 0.9851 - final_output_specificity: 0.9970 - out_3_accuracy: 0.9914 - out_3_dice_score: 0.7880 - out_3_precision: 0.9911 - out_3_sensitivity: 0.9906 - out_3_specificity: 0.9970 - out_2_accuracy: 0.9909 - out_2_dice_score: 0.7709 - out_2_precision: 0.9907 - out_2_sensitivity: 0.9900 - out_2_specificity: 0.9969 - out_1_accuracy: 0.9894 - out_1_dice_score: 0.7438 - out_1_precision: 0.9893 - out_1_sensitivity: 0.9886 - out_1_specificity: 0.9964 - val_loss: 5.6790 - val_final_output_loss: 1.3659 - val_out_3_loss: 1.3672 - val_out_2_loss: 1.3991 - val_out_1_loss: 1.4308 - val_final_output_accuracy: 0.9852 - val_final_output_dice_score: 0.7767 - val_final_output_precision: 0.9852 - val_final_output_sensitivity: 0.9740 - val_final_output_specificity: 0.9951 - val_out_3_accuracy: 0.9881 - val_out_3_dice_score: 0.7823 - val_out_3_precision: 0.9879 - val_out_3_sensitivity: 0.9867 - val_out_3_specificity: 0.9960 - val_out_2_accuracy: 0.9875 - val_out_2_dice_score: 0.7605 - val_out_2_precision: 0.9875 - val_out_2_sensitivity: 0.9857 - val_out_2_specificity: 0.9958 - val_out_1_accuracy: 0.9876 - val_out_1_dice_score: 0.7491 - val_out_1_precision: 0.9872 - val_out_1_sensitivity: 0.9857 - val_out_1_specificity: 0.9957\n",
            "Epoch 74/100\n",
            "8/8 [==============================] - 2s 312ms/step - loss: 5.6637 - final_output_loss: 1.3599 - out_3_loss: 1.3692 - out_2_loss: 1.3901 - out_1_loss: 1.4287 - final_output_accuracy: 0.9886 - final_output_dice_score: 0.7655 - final_output_precision: 0.9893 - final_output_sensitivity: 0.9823 - final_output_specificity: 0.9964 - out_3_accuracy: 0.9894 - out_3_dice_score: 0.7665 - out_3_precision: 0.9895 - out_3_sensitivity: 0.9884 - out_3_specificity: 0.9965 - out_2_accuracy: 0.9888 - out_2_dice_score: 0.7511 - out_2_precision: 0.9890 - out_2_sensitivity: 0.9877 - out_2_specificity: 0.9963 - out_1_accuracy: 0.9880 - out_1_dice_score: 0.7289 - out_1_precision: 0.9882 - out_1_sensitivity: 0.9869 - out_1_specificity: 0.9960 - val_loss: 5.8156 - val_final_output_loss: 1.3985 - val_out_3_loss: 1.3940 - val_out_2_loss: 1.4264 - val_out_1_loss: 1.4808 - val_final_output_accuracy: 0.9876 - val_final_output_dice_score: 0.7801 - val_final_output_precision: 0.9866 - val_final_output_sensitivity: 0.9859 - val_final_output_specificity: 0.9955 - val_out_3_accuracy: 0.9877 - val_out_3_dice_score: 0.7879 - val_out_3_precision: 0.9873 - val_out_3_sensitivity: 0.9866 - val_out_3_specificity: 0.9958 - val_out_2_accuracy: 0.9869 - val_out_2_dice_score: 0.7669 - val_out_2_precision: 0.9865 - val_out_2_sensitivity: 0.9855 - val_out_2_specificity: 0.9955 - val_out_1_accuracy: 0.9857 - val_out_1_dice_score: 0.7379 - val_out_1_precision: 0.9851 - val_out_1_sensitivity: 0.9842 - val_out_1_specificity: 0.9950\n",
            "Epoch 75/100\n",
            "8/8 [==============================] - 2s 306ms/step - loss: 5.6991 - final_output_loss: 1.3624 - out_3_loss: 1.3760 - out_2_loss: 1.3996 - out_1_loss: 1.4452 - final_output_accuracy: 0.9897 - final_output_dice_score: 0.7848 - final_output_precision: 0.9899 - final_output_sensitivity: 0.9854 - final_output_specificity: 0.9966 - out_3_accuracy: 0.9898 - out_3_dice_score: 0.7805 - out_3_precision: 0.9893 - out_3_sensitivity: 0.9883 - out_3_specificity: 0.9964 - out_2_accuracy: 0.9891 - out_2_dice_score: 0.7636 - out_2_precision: 0.9885 - out_2_sensitivity: 0.9874 - out_2_specificity: 0.9962 - out_1_accuracy: 0.9872 - out_1_dice_score: 0.7351 - out_1_precision: 0.9869 - out_1_sensitivity: 0.9855 - out_1_specificity: 0.9956 - val_loss: 5.5881 - val_final_output_loss: 1.3396 - val_out_3_loss: 1.3391 - val_out_2_loss: 1.3691 - val_out_1_loss: 1.4244 - val_final_output_accuracy: 0.9907 - val_final_output_dice_score: 0.8124 - val_final_output_precision: 0.9885 - val_final_output_sensitivity: 0.9883 - val_final_output_specificity: 0.9962 - val_out_3_accuracy: 0.9907 - val_out_3_dice_score: 0.8140 - val_out_3_precision: 0.9898 - val_out_3_sensitivity: 0.9891 - val_out_3_specificity: 0.9966 - val_out_2_accuracy: 0.9899 - val_out_2_dice_score: 0.7950 - val_out_2_precision: 0.9891 - val_out_2_sensitivity: 0.9881 - val_out_2_specificity: 0.9964 - val_out_1_accuracy: 0.9883 - val_out_1_dice_score: 0.7638 - val_out_1_precision: 0.9873 - val_out_1_sensitivity: 0.9862 - val_out_1_specificity: 0.9958\n",
            "Epoch 76/100\n",
            "8/8 [==============================] - 2s 312ms/step - loss: 5.6098 - final_output_loss: 1.3536 - out_3_loss: 1.3570 - out_2_loss: 1.3688 - out_1_loss: 1.4145 - final_output_accuracy: 0.9905 - final_output_dice_score: 0.7645 - final_output_precision: 0.9905 - final_output_sensitivity: 0.9860 - final_output_specificity: 0.9968 - out_3_accuracy: 0.9915 - out_3_dice_score: 0.7668 - out_3_precision: 0.9913 - out_3_sensitivity: 0.9907 - out_3_specificity: 0.9971 - out_2_accuracy: 0.9913 - out_2_dice_score: 0.7559 - out_2_precision: 0.9912 - out_2_sensitivity: 0.9904 - out_2_specificity: 0.9970 - out_1_accuracy: 0.9899 - out_1_dice_score: 0.7278 - out_1_precision: 0.9899 - out_1_sensitivity: 0.9891 - out_1_specificity: 0.9966 - val_loss: 5.7031 - val_final_output_loss: 1.3700 - val_out_3_loss: 1.3710 - val_out_2_loss: 1.3892 - val_out_1_loss: 1.4571 - val_final_output_accuracy: 0.9893 - val_final_output_dice_score: 0.7984 - val_final_output_precision: 0.9885 - val_final_output_sensitivity: 0.9868 - val_final_output_specificity: 0.9962 - val_out_3_accuracy: 0.9893 - val_out_3_dice_score: 0.8014 - val_out_3_precision: 0.9885 - val_out_3_sensitivity: 0.9878 - val_out_3_specificity: 0.9962 - val_out_2_accuracy: 0.9889 - val_out_2_dice_score: 0.7868 - val_out_2_precision: 0.9881 - val_out_2_sensitivity: 0.9871 - val_out_2_specificity: 0.9960 - val_out_1_accuracy: 0.9872 - val_out_1_dice_score: 0.7549 - val_out_1_precision: 0.9867 - val_out_1_sensitivity: 0.9857 - val_out_1_specificity: 0.9956\n",
            "Epoch 77/100\n",
            "8/8 [==============================] - 2s 312ms/step - loss: 5.3442 - final_output_loss: 1.2766 - out_3_loss: 1.2838 - out_2_loss: 1.3078 - out_1_loss: 1.3601 - final_output_accuracy: 0.9923 - final_output_dice_score: 0.8242 - final_output_precision: 0.9926 - final_output_sensitivity: 0.9885 - final_output_specificity: 0.9975 - out_3_accuracy: 0.9923 - out_3_dice_score: 0.8223 - out_3_precision: 0.9919 - out_3_sensitivity: 0.9914 - out_3_specificity: 0.9973 - out_2_accuracy: 0.9916 - out_2_dice_score: 0.8057 - out_2_precision: 0.9913 - out_2_sensitivity: 0.9907 - out_2_specificity: 0.9971 - out_1_accuracy: 0.9900 - out_1_dice_score: 0.7735 - out_1_precision: 0.9897 - out_1_sensitivity: 0.9890 - out_1_specificity: 0.9966 - val_loss: 5.5723 - val_final_output_loss: 1.3244 - val_out_3_loss: 1.3416 - val_out_2_loss: 1.3672 - val_out_1_loss: 1.4231 - val_final_output_accuracy: 0.9907 - val_final_output_dice_score: 0.8138 - val_final_output_precision: 0.9893 - val_final_output_sensitivity: 0.9872 - val_final_output_specificity: 0.9964 - val_out_3_accuracy: 0.9904 - val_out_3_dice_score: 0.8014 - val_out_3_precision: 0.9890 - val_out_3_sensitivity: 0.9883 - val_out_3_specificity: 0.9963 - val_out_2_accuracy: 0.9898 - val_out_2_dice_score: 0.7871 - val_out_2_precision: 0.9888 - val_out_2_sensitivity: 0.9878 - val_out_2_specificity: 0.9963 - val_out_1_accuracy: 0.9882 - val_out_1_dice_score: 0.7550 - val_out_1_precision: 0.9871 - val_out_1_sensitivity: 0.9860 - val_out_1_specificity: 0.9957\n",
            "Epoch 78/100\n",
            "8/8 [==============================] - 2s 311ms/step - loss: 5.5329 - final_output_loss: 1.3231 - out_3_loss: 1.3323 - out_2_loss: 1.3551 - out_1_loss: 1.4066 - final_output_accuracy: 0.9916 - final_output_dice_score: 0.8076 - final_output_precision: 0.9921 - final_output_sensitivity: 0.9879 - final_output_specificity: 0.9974 - out_3_accuracy: 0.9915 - out_3_dice_score: 0.8050 - out_3_precision: 0.9912 - out_3_sensitivity: 0.9907 - out_3_specificity: 0.9970 - out_2_accuracy: 0.9909 - out_2_dice_score: 0.7915 - out_2_precision: 0.9905 - out_2_sensitivity: 0.9900 - out_2_specificity: 0.9968 - out_1_accuracy: 0.9896 - out_1_dice_score: 0.7609 - out_1_precision: 0.9894 - out_1_sensitivity: 0.9888 - out_1_specificity: 0.9964 - val_loss: 5.6029 - val_final_output_loss: 1.3501 - val_out_3_loss: 1.3473 - val_out_2_loss: 1.3653 - val_out_1_loss: 1.4243 - val_final_output_accuracy: 0.9906 - val_final_output_dice_score: 0.8055 - val_final_output_precision: 0.9892 - val_final_output_sensitivity: 0.9875 - val_final_output_specificity: 0.9964 - val_out_3_accuracy: 0.9908 - val_out_3_dice_score: 0.8080 - val_out_3_precision: 0.9900 - val_out_3_sensitivity: 0.9893 - val_out_3_specificity: 0.9967 - val_out_2_accuracy: 0.9901 - val_out_2_dice_score: 0.7971 - val_out_2_precision: 0.9895 - val_out_2_sensitivity: 0.9885 - val_out_2_specificity: 0.9965 - val_out_1_accuracy: 0.9887 - val_out_1_dice_score: 0.7688 - val_out_1_precision: 0.9879 - val_out_1_sensitivity: 0.9868 - val_out_1_specificity: 0.9960\n",
            "Epoch 79/100\n",
            "8/8 [==============================] - 2s 315ms/step - loss: 5.4986 - final_output_loss: 1.3225 - out_3_loss: 1.3278 - out_2_loss: 1.3432 - out_1_loss: 1.3892 - final_output_accuracy: 0.9913 - final_output_dice_score: 0.7922 - final_output_precision: 0.9917 - final_output_sensitivity: 0.9863 - final_output_specificity: 0.9972 - out_3_accuracy: 0.9923 - out_3_dice_score: 0.7930 - out_3_precision: 0.9920 - out_3_sensitivity: 0.9916 - out_3_specificity: 0.9973 - out_2_accuracy: 0.9919 - out_2_dice_score: 0.7822 - out_2_precision: 0.9916 - out_2_sensitivity: 0.9912 - out_2_specificity: 0.9972 - out_1_accuracy: 0.9909 - out_1_dice_score: 0.7544 - out_1_precision: 0.9907 - out_1_sensitivity: 0.9902 - out_1_specificity: 0.9969 - val_loss: 5.4561 - val_final_output_loss: 1.3004 - val_out_3_loss: 1.3068 - val_out_2_loss: 1.3438 - val_out_1_loss: 1.3893 - val_final_output_accuracy: 0.9910 - val_final_output_dice_score: 0.8213 - val_final_output_precision: 0.9900 - val_final_output_sensitivity: 0.9875 - val_final_output_specificity: 0.9967 - val_out_3_accuracy: 0.9911 - val_out_3_dice_score: 0.8218 - val_out_3_precision: 0.9907 - val_out_3_sensitivity: 0.9899 - val_out_3_specificity: 0.9969 - val_out_2_accuracy: 0.9901 - val_out_2_dice_score: 0.7988 - val_out_2_precision: 0.9897 - val_out_2_sensitivity: 0.9886 - val_out_2_specificity: 0.9966 - val_out_1_accuracy: 0.9887 - val_out_1_dice_score: 0.7731 - val_out_1_precision: 0.9882 - val_out_1_sensitivity: 0.9870 - val_out_1_specificity: 0.9961\n",
            "Epoch 80/100\n",
            "8/8 [==============================] - 2s 313ms/step - loss: 5.5963 - final_output_loss: 1.3420 - out_3_loss: 1.3516 - out_2_loss: 1.3720 - out_1_loss: 1.4148 - final_output_accuracy: 0.9916 - final_output_dice_score: 0.7929 - final_output_precision: 0.9920 - final_output_sensitivity: 0.9879 - final_output_specificity: 0.9973 - out_3_accuracy: 0.9918 - out_3_dice_score: 0.7930 - out_3_precision: 0.9914 - out_3_sensitivity: 0.9911 - out_3_specificity: 0.9971 - out_2_accuracy: 0.9911 - out_2_dice_score: 0.7757 - out_2_precision: 0.9908 - out_2_sensitivity: 0.9903 - out_2_specificity: 0.9969 - out_1_accuracy: 0.9900 - out_1_dice_score: 0.7514 - out_1_precision: 0.9898 - out_1_sensitivity: 0.9893 - out_1_specificity: 0.9966 - val_loss: 5.5261 - val_final_output_loss: 1.3163 - val_out_3_loss: 1.3251 - val_out_2_loss: 1.3509 - val_out_1_loss: 1.4179 - val_final_output_accuracy: 0.9913 - val_final_output_dice_score: 0.8212 - val_final_output_precision: 0.9908 - val_final_output_sensitivity: 0.9879 - val_final_output_specificity: 0.9969 - val_out_3_accuracy: 0.9914 - val_out_3_dice_score: 0.8218 - val_out_3_precision: 0.9909 - val_out_3_sensitivity: 0.9902 - val_out_3_specificity: 0.9970 - val_out_2_accuracy: 0.9906 - val_out_2_dice_score: 0.8040 - val_out_2_precision: 0.9901 - val_out_2_sensitivity: 0.9892 - val_out_2_specificity: 0.9967 - val_out_1_accuracy: 0.9889 - val_out_1_dice_score: 0.7733 - val_out_1_precision: 0.9882 - val_out_1_sensitivity: 0.9872 - val_out_1_specificity: 0.9961\n",
            "Epoch 81/100\n",
            "8/8 [==============================] - 2s 312ms/step - loss: 5.4995 - final_output_loss: 1.3146 - out_3_loss: 1.3258 - out_2_loss: 1.3465 - out_1_loss: 1.3968 - final_output_accuracy: 0.9903 - final_output_dice_score: 0.8148 - final_output_precision: 0.9909 - final_output_sensitivity: 0.9854 - final_output_specificity: 0.9970 - out_3_accuracy: 0.9904 - out_3_dice_score: 0.8115 - out_3_precision: 0.9900 - out_3_sensitivity: 0.9895 - out_3_specificity: 0.9967 - out_2_accuracy: 0.9899 - out_2_dice_score: 0.7992 - out_2_precision: 0.9896 - out_2_sensitivity: 0.9889 - out_2_specificity: 0.9965 - out_1_accuracy: 0.9886 - out_1_dice_score: 0.7744 - out_1_precision: 0.9884 - out_1_sensitivity: 0.9876 - out_1_specificity: 0.9961 - val_loss: 5.4301 - val_final_output_loss: 1.2989 - val_out_3_loss: 1.3023 - val_out_2_loss: 1.3275 - val_out_1_loss: 1.3856 - val_final_output_accuracy: 0.9907 - val_final_output_dice_score: 0.8154 - val_final_output_precision: 0.9891 - val_final_output_sensitivity: 0.9856 - val_final_output_specificity: 0.9964 - val_out_3_accuracy: 0.9910 - val_out_3_dice_score: 0.8185 - val_out_3_precision: 0.9904 - val_out_3_sensitivity: 0.9895 - val_out_3_specificity: 0.9968 - val_out_2_accuracy: 0.9905 - val_out_2_dice_score: 0.8038 - val_out_2_precision: 0.9901 - val_out_2_sensitivity: 0.9889 - val_out_2_specificity: 0.9967 - val_out_1_accuracy: 0.9889 - val_out_1_dice_score: 0.7720 - val_out_1_precision: 0.9884 - val_out_1_sensitivity: 0.9872 - val_out_1_specificity: 0.9962\n",
            "Epoch 82/100\n",
            "8/8 [==============================] - 2s 315ms/step - loss: 5.5163 - final_output_loss: 1.3179 - out_3_loss: 1.3277 - out_2_loss: 1.3517 - out_1_loss: 1.4032 - final_output_accuracy: 0.9916 - final_output_dice_score: 0.8020 - final_output_precision: 0.9916 - final_output_sensitivity: 0.9871 - final_output_specificity: 0.9972 - out_3_accuracy: 0.9918 - out_3_dice_score: 0.8023 - out_3_precision: 0.9913 - out_3_sensitivity: 0.9909 - out_3_specificity: 0.9971 - out_2_accuracy: 0.9911 - out_2_dice_score: 0.7884 - out_2_precision: 0.9908 - out_2_sensitivity: 0.9902 - out_2_specificity: 0.9969 - out_1_accuracy: 0.9895 - out_1_dice_score: 0.7565 - out_1_precision: 0.9893 - out_1_sensitivity: 0.9885 - out_1_specificity: 0.9964 - val_loss: 5.4470 - val_final_output_loss: 1.2982 - val_out_3_loss: 1.3089 - val_out_2_loss: 1.3357 - val_out_1_loss: 1.3884 - val_final_output_accuracy: 0.9918 - val_final_output_dice_score: 0.8252 - val_final_output_precision: 0.9913 - val_final_output_sensitivity: 0.9880 - val_final_output_specificity: 0.9971 - val_out_3_accuracy: 0.9915 - val_out_3_dice_score: 0.8242 - val_out_3_precision: 0.9910 - val_out_3_sensitivity: 0.9901 - val_out_3_specificity: 0.9970 - val_out_2_accuracy: 0.9908 - val_out_2_dice_score: 0.8056 - val_out_2_precision: 0.9905 - val_out_2_sensitivity: 0.9892 - val_out_2_specificity: 0.9968 - val_out_1_accuracy: 0.9893 - val_out_1_dice_score: 0.7724 - val_out_1_precision: 0.9889 - val_out_1_sensitivity: 0.9875 - val_out_1_specificity: 0.9963\n",
            "Epoch 83/100\n",
            "8/8 [==============================] - 2s 310ms/step - loss: 5.5429 - final_output_loss: 1.3241 - out_3_loss: 1.3350 - out_2_loss: 1.3556 - out_1_loss: 1.4125 - final_output_accuracy: 0.9904 - final_output_dice_score: 0.7984 - final_output_precision: 0.9912 - final_output_sensitivity: 0.9837 - final_output_specificity: 0.9970 - out_3_accuracy: 0.9908 - out_3_dice_score: 0.7969 - out_3_precision: 0.9904 - out_3_sensitivity: 0.9896 - out_3_specificity: 0.9968 - out_2_accuracy: 0.9900 - out_2_dice_score: 0.7803 - out_2_precision: 0.9896 - out_2_sensitivity: 0.9887 - out_2_specificity: 0.9965 - out_1_accuracy: 0.9884 - out_1_dice_score: 0.7438 - out_1_precision: 0.9883 - out_1_sensitivity: 0.9871 - out_1_specificity: 0.9961 - val_loss: 5.5590 - val_final_output_loss: 1.3275 - val_out_3_loss: 1.3396 - val_out_2_loss: 1.3722 - val_out_1_loss: 1.4040 - val_final_output_accuracy: 0.9899 - val_final_output_dice_score: 0.7950 - val_final_output_precision: 0.9889 - val_final_output_sensitivity: 0.9827 - val_final_output_specificity: 0.9963 - val_out_3_accuracy: 0.9903 - val_out_3_dice_score: 0.7924 - val_out_3_precision: 0.9896 - val_out_3_sensitivity: 0.9883 - val_out_3_specificity: 0.9965 - val_out_2_accuracy: 0.9890 - val_out_2_dice_score: 0.7699 - val_out_2_precision: 0.9887 - val_out_2_sensitivity: 0.9869 - val_out_2_specificity: 0.9962 - val_out_1_accuracy: 0.9884 - val_out_1_dice_score: 0.7565 - val_out_1_precision: 0.9879 - val_out_1_sensitivity: 0.9865 - val_out_1_specificity: 0.9960\n",
            "Epoch 84/100\n",
            "8/8 [==============================] - 2s 314ms/step - loss: 5.4080 - final_output_loss: 1.2851 - out_3_loss: 1.3013 - out_2_loss: 1.3319 - out_1_loss: 1.3740 - final_output_accuracy: 0.9914 - final_output_dice_score: 0.8259 - final_output_precision: 0.9926 - final_output_sensitivity: 0.9856 - final_output_specificity: 0.9975 - out_3_accuracy: 0.9917 - out_3_dice_score: 0.8185 - out_3_precision: 0.9914 - out_3_sensitivity: 0.9907 - out_3_specificity: 0.9971 - out_2_accuracy: 0.9907 - out_2_dice_score: 0.7976 - out_2_precision: 0.9905 - out_2_sensitivity: 0.9897 - out_2_specificity: 0.9968 - out_1_accuracy: 0.9895 - out_1_dice_score: 0.7738 - out_1_precision: 0.9893 - out_1_sensitivity: 0.9885 - out_1_specificity: 0.9964 - val_loss: 5.5488 - val_final_output_loss: 1.3216 - val_out_3_loss: 1.3311 - val_out_2_loss: 1.3516 - val_out_1_loss: 1.4289 - val_final_output_accuracy: 0.9913 - val_final_output_dice_score: 0.8194 - val_final_output_precision: 0.9919 - val_final_output_sensitivity: 0.9872 - val_final_output_specificity: 0.9973 - val_out_3_accuracy: 0.9911 - val_out_3_dice_score: 0.8171 - val_out_3_precision: 0.9908 - val_out_3_sensitivity: 0.9898 - val_out_3_specificity: 0.9969 - val_out_2_accuracy: 0.9904 - val_out_2_dice_score: 0.8007 - val_out_2_precision: 0.9901 - val_out_2_sensitivity: 0.9889 - val_out_2_specificity: 0.9967 - val_out_1_accuracy: 0.9885 - val_out_1_dice_score: 0.7638 - val_out_1_precision: 0.9880 - val_out_1_sensitivity: 0.9868 - val_out_1_specificity: 0.9960\n",
            "Epoch 85/100\n",
            "8/8 [==============================] - 2s 314ms/step - loss: 5.8003 - final_output_loss: 1.3996 - out_3_loss: 1.4057 - out_2_loss: 1.4168 - out_1_loss: 1.4625 - final_output_accuracy: 0.9915 - final_output_dice_score: 0.7527 - final_output_precision: 0.9927 - final_output_sensitivity: 0.9840 - final_output_specificity: 0.9976 - out_3_accuracy: 0.9921 - out_3_dice_score: 0.7493 - out_3_precision: 0.9919 - out_3_sensitivity: 0.9913 - out_3_specificity: 0.9973 - out_2_accuracy: 0.9917 - out_2_dice_score: 0.7414 - out_2_precision: 0.9915 - out_2_sensitivity: 0.9909 - out_2_specificity: 0.9972 - out_1_accuracy: 0.9903 - out_1_dice_score: 0.7125 - out_1_precision: 0.9902 - out_1_sensitivity: 0.9895 - out_1_specificity: 0.9967 - val_loss: 5.4682 - val_final_output_loss: 1.3025 - val_out_3_loss: 1.3147 - val_out_2_loss: 1.3381 - val_out_1_loss: 1.3971 - val_final_output_accuracy: 0.9910 - val_final_output_dice_score: 0.8162 - val_final_output_precision: 0.9906 - val_final_output_sensitivity: 0.9864 - val_final_output_specificity: 0.9969 - val_out_3_accuracy: 0.9911 - val_out_3_dice_score: 0.8161 - val_out_3_precision: 0.9905 - val_out_3_sensitivity: 0.9896 - val_out_3_specificity: 0.9968 - val_out_2_accuracy: 0.9903 - val_out_2_dice_score: 0.7989 - val_out_2_precision: 0.9898 - val_out_2_sensitivity: 0.9885 - val_out_2_specificity: 0.9966 - val_out_1_accuracy: 0.9888 - val_out_1_dice_score: 0.7749 - val_out_1_precision: 0.9881 - val_out_1_sensitivity: 0.9870 - val_out_1_specificity: 0.9961\n",
            "Epoch 86/100\n",
            "8/8 [==============================] - 2s 313ms/step - loss: 5.4774 - final_output_loss: 1.3047 - out_3_loss: 1.3192 - out_2_loss: 1.3467 - out_1_loss: 1.3912 - final_output_accuracy: 0.9913 - final_output_dice_score: 0.8127 - final_output_precision: 0.9925 - final_output_sensitivity: 0.9865 - final_output_specificity: 0.9975 - out_3_accuracy: 0.9916 - out_3_dice_score: 0.8112 - out_3_precision: 0.9913 - out_3_sensitivity: 0.9906 - out_3_specificity: 0.9971 - out_2_accuracy: 0.9907 - out_2_dice_score: 0.7928 - out_2_precision: 0.9905 - out_2_sensitivity: 0.9897 - out_2_specificity: 0.9968 - out_1_accuracy: 0.9892 - out_1_dice_score: 0.7660 - out_1_precision: 0.9890 - out_1_sensitivity: 0.9883 - out_1_specificity: 0.9963 - val_loss: 5.5085 - val_final_output_loss: 1.3188 - val_out_3_loss: 1.3256 - val_out_2_loss: 1.3471 - val_out_1_loss: 1.4012 - val_final_output_accuracy: 0.9907 - val_final_output_dice_score: 0.8191 - val_final_output_precision: 0.9903 - val_final_output_sensitivity: 0.9873 - val_final_output_specificity: 0.9968 - val_out_3_accuracy: 0.9906 - val_out_3_dice_score: 0.8184 - val_out_3_precision: 0.9901 - val_out_3_sensitivity: 0.9894 - val_out_3_specificity: 0.9967 - val_out_2_accuracy: 0.9899 - val_out_2_dice_score: 0.8003 - val_out_2_precision: 0.9894 - val_out_2_sensitivity: 0.9884 - val_out_2_specificity: 0.9965 - val_out_1_accuracy: 0.9885 - val_out_1_dice_score: 0.7693 - val_out_1_precision: 0.9879 - val_out_1_sensitivity: 0.9868 - val_out_1_specificity: 0.9960\n",
            "Epoch 87/100\n",
            "8/8 [==============================] - 2s 313ms/step - loss: 5.6948 - final_output_loss: 1.3658 - out_3_loss: 1.3758 - out_2_loss: 1.3940 - out_1_loss: 1.4435 - final_output_accuracy: 0.9919 - final_output_dice_score: 0.7684 - final_output_precision: 0.9931 - final_output_sensitivity: 0.9866 - final_output_specificity: 0.9977 - out_3_accuracy: 0.9923 - out_3_dice_score: 0.7627 - out_3_precision: 0.9920 - out_3_sensitivity: 0.9916 - out_3_specificity: 0.9973 - out_2_accuracy: 0.9918 - out_2_dice_score: 0.7504 - out_2_precision: 0.9916 - out_2_sensitivity: 0.9911 - out_2_specificity: 0.9972 - out_1_accuracy: 0.9905 - out_1_dice_score: 0.7188 - out_1_precision: 0.9904 - out_1_sensitivity: 0.9897 - out_1_specificity: 0.9968 - val_loss: 5.4839 - val_final_output_loss: 1.3129 - val_out_3_loss: 1.3165 - val_out_2_loss: 1.3407 - val_out_1_loss: 1.3982 - val_final_output_accuracy: 0.9914 - val_final_output_dice_score: 0.8248 - val_final_output_precision: 0.9913 - val_final_output_sensitivity: 0.9876 - val_final_output_specificity: 0.9971 - val_out_3_accuracy: 0.9913 - val_out_3_dice_score: 0.8246 - val_out_3_precision: 0.9907 - val_out_3_sensitivity: 0.9899 - val_out_3_specificity: 0.9969 - val_out_2_accuracy: 0.9906 - val_out_2_dice_score: 0.8056 - val_out_2_precision: 0.9898 - val_out_2_sensitivity: 0.9888 - val_out_2_specificity: 0.9966 - val_out_1_accuracy: 0.9892 - val_out_1_dice_score: 0.7755 - val_out_1_precision: 0.9882 - val_out_1_sensitivity: 0.9872 - val_out_1_specificity: 0.9961\n",
            "Epoch 88/100\n",
            "8/8 [==============================] - 2s 314ms/step - loss: 5.8186 - final_output_loss: 1.4015 - out_3_loss: 1.4065 - out_2_loss: 1.4275 - out_1_loss: 1.4673 - final_output_accuracy: 0.9907 - final_output_dice_score: 0.7518 - final_output_precision: 0.9918 - final_output_sensitivity: 0.9844 - final_output_specificity: 0.9973 - out_3_accuracy: 0.9909 - out_3_dice_score: 0.7529 - out_3_precision: 0.9906 - out_3_sensitivity: 0.9899 - out_3_specificity: 0.9968 - out_2_accuracy: 0.9903 - out_2_dice_score: 0.7387 - out_2_precision: 0.9901 - out_2_sensitivity: 0.9892 - out_2_specificity: 0.9967 - out_1_accuracy: 0.9889 - out_1_dice_score: 0.7151 - out_1_precision: 0.9888 - out_1_sensitivity: 0.9878 - out_1_specificity: 0.9963 - val_loss: 5.6253 - val_final_output_loss: 1.3390 - val_out_3_loss: 1.3534 - val_out_2_loss: 1.3726 - val_out_1_loss: 1.4447 - val_final_output_accuracy: 0.9898 - val_final_output_dice_score: 0.7996 - val_final_output_precision: 0.9889 - val_final_output_sensitivity: 0.9857 - val_final_output_specificity: 0.9963 - val_out_3_accuracy: 0.9899 - val_out_3_dice_score: 0.7909 - val_out_3_precision: 0.9888 - val_out_3_sensitivity: 0.9880 - val_out_3_specificity: 0.9963 - val_out_2_accuracy: 0.9889 - val_out_2_dice_score: 0.7739 - val_out_2_precision: 0.9879 - val_out_2_sensitivity: 0.9867 - val_out_2_specificity: 0.9960 - val_out_1_accuracy: 0.9870 - val_out_1_dice_score: 0.7359 - val_out_1_precision: 0.9861 - val_out_1_sensitivity: 0.9848 - val_out_1_specificity: 0.9954\n",
            "Epoch 89/100\n",
            "8/8 [==============================] - 2s 317ms/step - loss: 5.4691 - final_output_loss: 1.3097 - out_3_loss: 1.3109 - out_2_loss: 1.3364 - out_1_loss: 1.3964 - final_output_accuracy: 0.9909 - final_output_dice_score: 0.8101 - final_output_precision: 0.9911 - final_output_sensitivity: 0.9854 - final_output_specificity: 0.9970 - out_3_accuracy: 0.9914 - out_3_dice_score: 0.8143 - out_3_precision: 0.9910 - out_3_sensitivity: 0.9905 - out_3_specificity: 0.9970 - out_2_accuracy: 0.9908 - out_2_dice_score: 0.7952 - out_2_precision: 0.9905 - out_2_sensitivity: 0.9897 - out_2_specificity: 0.9968 - out_1_accuracy: 0.9889 - out_1_dice_score: 0.7576 - out_1_precision: 0.9887 - out_1_sensitivity: 0.9879 - out_1_specificity: 0.9962 - val_loss: 5.6331 - val_final_output_loss: 1.3465 - val_out_3_loss: 1.3576 - val_out_2_loss: 1.3786 - val_out_1_loss: 1.4347 - val_final_output_accuracy: 0.9887 - val_final_output_dice_score: 0.7966 - val_final_output_precision: 0.9855 - val_final_output_sensitivity: 0.9844 - val_final_output_specificity: 0.9952 - val_out_3_accuracy: 0.9894 - val_out_3_dice_score: 0.7957 - val_out_3_precision: 0.9882 - val_out_3_sensitivity: 0.9874 - val_out_3_specificity: 0.9961 - val_out_2_accuracy: 0.9882 - val_out_2_dice_score: 0.7766 - val_out_2_precision: 0.9868 - val_out_2_sensitivity: 0.9858 - val_out_2_specificity: 0.9956 - val_out_1_accuracy: 0.9878 - val_out_1_dice_score: 0.7543 - val_out_1_precision: 0.9866 - val_out_1_sensitivity: 0.9854 - val_out_1_specificity: 0.9955\n",
            "Epoch 90/100\n",
            "8/8 [==============================] - 2s 314ms/step - loss: 5.4244 - final_output_loss: 1.2938 - out_3_loss: 1.3058 - out_2_loss: 1.3274 - out_1_loss: 1.3817 - final_output_accuracy: 0.9923 - final_output_dice_score: 0.8111 - final_output_precision: 0.9928 - final_output_sensitivity: 0.9874 - final_output_specificity: 0.9976 - out_3_accuracy: 0.9926 - out_3_dice_score: 0.8083 - out_3_precision: 0.9922 - out_3_sensitivity: 0.9919 - out_3_specificity: 0.9974 - out_2_accuracy: 0.9921 - out_2_dice_score: 0.7930 - out_2_precision: 0.9918 - out_2_sensitivity: 0.9914 - out_2_specificity: 0.9973 - out_1_accuracy: 0.9909 - out_1_dice_score: 0.7603 - out_1_precision: 0.9906 - out_1_sensitivity: 0.9901 - out_1_specificity: 0.9969 - val_loss: 5.5796 - val_final_output_loss: 1.3249 - val_out_3_loss: 1.3309 - val_out_2_loss: 1.3728 - val_out_1_loss: 1.4353 - val_final_output_accuracy: 0.9904 - val_final_output_dice_score: 0.8089 - val_final_output_precision: 0.9877 - val_final_output_sensitivity: 0.9860 - val_final_output_specificity: 0.9959 - val_out_3_accuracy: 0.9907 - val_out_3_dice_score: 0.8076 - val_out_3_precision: 0.9893 - val_out_3_sensitivity: 0.9886 - val_out_3_specificity: 0.9964 - val_out_2_accuracy: 0.9892 - val_out_2_dice_score: 0.7799 - val_out_2_precision: 0.9873 - val_out_2_sensitivity: 0.9863 - val_out_2_specificity: 0.9958 - val_out_1_accuracy: 0.9880 - val_out_1_dice_score: 0.7495 - val_out_1_precision: 0.9864 - val_out_1_sensitivity: 0.9852 - val_out_1_specificity: 0.9955\n",
            "Epoch 91/100\n",
            "8/8 [==============================] - 2s 308ms/step - loss: 5.5890 - final_output_loss: 1.3345 - out_3_loss: 1.3535 - out_2_loss: 1.3699 - out_1_loss: 1.4154 - final_output_accuracy: 0.9905 - final_output_dice_score: 0.7902 - final_output_precision: 0.9915 - final_output_sensitivity: 0.9834 - final_output_specificity: 0.9972 - out_3_accuracy: 0.9909 - out_3_dice_score: 0.7807 - out_3_precision: 0.9905 - out_3_sensitivity: 0.9898 - out_3_specificity: 0.9968 - out_2_accuracy: 0.9902 - out_2_dice_score: 0.7701 - out_2_precision: 0.9898 - out_2_sensitivity: 0.9891 - out_2_specificity: 0.9966 - out_1_accuracy: 0.9893 - out_1_dice_score: 0.7449 - out_1_precision: 0.9890 - out_1_sensitivity: 0.9882 - out_1_specificity: 0.9963 - val_loss: 5.5577 - val_final_output_loss: 1.3167 - val_out_3_loss: 1.3456 - val_out_2_loss: 1.3632 - val_out_1_loss: 1.4164 - val_final_output_accuracy: 0.9901 - val_final_output_dice_score: 0.8112 - val_final_output_precision: 0.9894 - val_final_output_sensitivity: 0.9840 - val_final_output_specificity: 0.9965 - val_out_3_accuracy: 0.9901 - val_out_3_dice_score: 0.7914 - val_out_3_precision: 0.9885 - val_out_3_sensitivity: 0.9877 - val_out_3_specificity: 0.9962 - val_out_2_accuracy: 0.9894 - val_out_2_dice_score: 0.7803 - val_out_2_precision: 0.9878 - val_out_2_sensitivity: 0.9868 - val_out_2_specificity: 0.9959 - val_out_1_accuracy: 0.9884 - val_out_1_dice_score: 0.7566 - val_out_1_precision: 0.9871 - val_out_1_sensitivity: 0.9861 - val_out_1_specificity: 0.9957\n",
            "Epoch 92/100\n",
            "8/8 [==============================] - 2s 313ms/step - loss: 5.3428 - final_output_loss: 1.2718 - out_3_loss: 1.2821 - out_2_loss: 1.3081 - out_1_loss: 1.3652 - final_output_accuracy: 0.9924 - final_output_dice_score: 0.8281 - final_output_precision: 0.9938 - final_output_sensitivity: 0.9882 - final_output_specificity: 0.9979 - out_3_accuracy: 0.9927 - out_3_dice_score: 0.8260 - out_3_precision: 0.9924 - out_3_sensitivity: 0.9920 - out_3_specificity: 0.9975 - out_2_accuracy: 0.9921 - out_2_dice_score: 0.8090 - out_2_precision: 0.9918 - out_2_sensitivity: 0.9914 - out_2_specificity: 0.9973 - out_1_accuracy: 0.9907 - out_1_dice_score: 0.7769 - out_1_precision: 0.9905 - out_1_sensitivity: 0.9900 - out_1_specificity: 0.9968 - val_loss: 5.4997 - val_final_output_loss: 1.3125 - val_out_3_loss: 1.3201 - val_out_2_loss: 1.3458 - val_out_1_loss: 1.4058 - val_final_output_accuracy: 0.9899 - val_final_output_dice_score: 0.8166 - val_final_output_precision: 0.9906 - val_final_output_sensitivity: 0.9837 - val_final_output_specificity: 0.9969 - val_out_3_accuracy: 0.9905 - val_out_3_dice_score: 0.8165 - val_out_3_precision: 0.9900 - val_out_3_sensitivity: 0.9892 - val_out_3_specificity: 0.9967 - val_out_2_accuracy: 0.9897 - val_out_2_dice_score: 0.7975 - val_out_2_precision: 0.9891 - val_out_2_sensitivity: 0.9879 - val_out_2_specificity: 0.9964 - val_out_1_accuracy: 0.9883 - val_out_1_dice_score: 0.7670 - val_out_1_precision: 0.9875 - val_out_1_sensitivity: 0.9862 - val_out_1_specificity: 0.9958\n",
            "Epoch 93/100\n",
            "8/8 [==============================] - 2s 313ms/step - loss: 5.4924 - final_output_loss: 1.3128 - out_3_loss: 1.3223 - out_2_loss: 1.3448 - out_1_loss: 1.3968 - final_output_accuracy: 0.9910 - final_output_dice_score: 0.8097 - final_output_precision: 0.9920 - final_output_sensitivity: 0.9860 - final_output_specificity: 0.9973 - out_3_accuracy: 0.9913 - out_3_dice_score: 0.8095 - out_3_precision: 0.9910 - out_3_sensitivity: 0.9905 - out_3_specificity: 0.9970 - out_2_accuracy: 0.9905 - out_2_dice_score: 0.7941 - out_2_precision: 0.9903 - out_2_sensitivity: 0.9897 - out_2_specificity: 0.9968 - out_1_accuracy: 0.9889 - out_1_dice_score: 0.7647 - out_1_precision: 0.9888 - out_1_sensitivity: 0.9881 - out_1_specificity: 0.9963 - val_loss: 5.5955 - val_final_output_loss: 1.3368 - val_out_3_loss: 1.3473 - val_out_2_loss: 1.3720 - val_out_1_loss: 1.4238 - val_final_output_accuracy: 0.9894 - val_final_output_dice_score: 0.8039 - val_final_output_precision: 0.9885 - val_final_output_sensitivity: 0.9846 - val_final_output_specificity: 0.9962 - val_out_3_accuracy: 0.9899 - val_out_3_dice_score: 0.7981 - val_out_3_precision: 0.9887 - val_out_3_sensitivity: 0.9880 - val_out_3_specificity: 0.9962 - val_out_2_accuracy: 0.9891 - val_out_2_dice_score: 0.7803 - val_out_2_precision: 0.9878 - val_out_2_sensitivity: 0.9870 - val_out_2_specificity: 0.9960 - val_out_1_accuracy: 0.9881 - val_out_1_dice_score: 0.7541 - val_out_1_precision: 0.9869 - val_out_1_sensitivity: 0.9859 - val_out_1_specificity: 0.9956\n",
            "Epoch 94/100\n",
            "8/8 [==============================] - 2s 317ms/step - loss: 5.3728 - final_output_loss: 1.2853 - out_3_loss: 1.2913 - out_2_loss: 1.3123 - out_1_loss: 1.3683 - final_output_accuracy: 0.9909 - final_output_dice_score: 0.8280 - final_output_precision: 0.9913 - final_output_sensitivity: 0.9860 - final_output_specificity: 0.9971 - out_3_accuracy: 0.9913 - out_3_dice_score: 0.8284 - out_3_precision: 0.9908 - out_3_sensitivity: 0.9904 - out_3_specificity: 0.9969 - out_2_accuracy: 0.9906 - out_2_dice_score: 0.8140 - out_2_precision: 0.9902 - out_2_sensitivity: 0.9896 - out_2_specificity: 0.9967 - out_1_accuracy: 0.9892 - out_1_dice_score: 0.7824 - out_1_precision: 0.9889 - out_1_sensitivity: 0.9882 - out_1_specificity: 0.9963 - val_loss: 5.4501 - val_final_output_loss: 1.2986 - val_out_3_loss: 1.3070 - val_out_2_loss: 1.3294 - val_out_1_loss: 1.3995 - val_final_output_accuracy: 0.9913 - val_final_output_dice_score: 0.8257 - val_final_output_precision: 0.9899 - val_final_output_sensitivity: 0.9872 - val_final_output_specificity: 0.9967 - val_out_3_accuracy: 0.9917 - val_out_3_dice_score: 0.8258 - val_out_3_precision: 0.9908 - val_out_3_sensitivity: 0.9900 - val_out_3_specificity: 0.9969 - val_out_2_accuracy: 0.9907 - val_out_2_dice_score: 0.8082 - val_out_2_precision: 0.9898 - val_out_2_sensitivity: 0.9887 - val_out_2_specificity: 0.9966 - val_out_1_accuracy: 0.9891 - val_out_1_dice_score: 0.7729 - val_out_1_precision: 0.9881 - val_out_1_sensitivity: 0.9869 - val_out_1_specificity: 0.9960\n",
            "Epoch 95/100\n",
            "8/8 [==============================] - 2s 312ms/step - loss: 5.5153 - final_output_loss: 1.3188 - out_3_loss: 1.3340 - out_2_loss: 1.3510 - out_1_loss: 1.3959 - final_output_accuracy: 0.9903 - final_output_dice_score: 0.8024 - final_output_precision: 0.9910 - final_output_sensitivity: 0.9847 - final_output_specificity: 0.9970 - out_3_accuracy: 0.9908 - out_3_dice_score: 0.7981 - out_3_precision: 0.9905 - out_3_sensitivity: 0.9899 - out_3_specificity: 0.9968 - out_2_accuracy: 0.9904 - out_2_dice_score: 0.7873 - out_2_precision: 0.9901 - out_2_sensitivity: 0.9894 - out_2_specificity: 0.9967 - out_1_accuracy: 0.9890 - out_1_dice_score: 0.7588 - out_1_precision: 0.9887 - out_1_sensitivity: 0.9879 - out_1_specificity: 0.9962 - val_loss: 5.3857 - val_final_output_loss: 1.2807 - val_out_3_loss: 1.2942 - val_out_2_loss: 1.3179 - val_out_1_loss: 1.3775 - val_final_output_accuracy: 0.9915 - val_final_output_dice_score: 0.8324 - val_final_output_precision: 0.9907 - val_final_output_sensitivity: 0.9868 - val_final_output_specificity: 0.9969 - val_out_3_accuracy: 0.9915 - val_out_3_dice_score: 0.8239 - val_out_3_precision: 0.9902 - val_out_3_sensitivity: 0.9895 - val_out_3_specificity: 0.9967 - val_out_2_accuracy: 0.9906 - val_out_2_dice_score: 0.8082 - val_out_2_precision: 0.9894 - val_out_2_sensitivity: 0.9885 - val_out_2_specificity: 0.9965 - val_out_1_accuracy: 0.9892 - val_out_1_dice_score: 0.7769 - val_out_1_precision: 0.9881 - val_out_1_sensitivity: 0.9870 - val_out_1_specificity: 0.9960\n",
            "Epoch 96/100\n",
            "8/8 [==============================] - 2s 312ms/step - loss: 5.4059 - final_output_loss: 1.2867 - out_3_loss: 1.2990 - out_2_loss: 1.3251 - out_1_loss: 1.3795 - final_output_accuracy: 0.9925 - final_output_dice_score: 0.8206 - final_output_precision: 0.9933 - final_output_sensitivity: 0.9883 - final_output_specificity: 0.9977 - out_3_accuracy: 0.9927 - out_3_dice_score: 0.8167 - out_3_precision: 0.9922 - out_3_sensitivity: 0.9918 - out_3_specificity: 0.9974 - out_2_accuracy: 0.9920 - out_2_dice_score: 0.7986 - out_2_precision: 0.9916 - out_2_sensitivity: 0.9911 - out_2_specificity: 0.9972 - out_1_accuracy: 0.9906 - out_1_dice_score: 0.7647 - out_1_precision: 0.9904 - out_1_sensitivity: 0.9897 - out_1_specificity: 0.9968 - val_loss: 5.4404 - val_final_output_loss: 1.2964 - val_out_3_loss: 1.3042 - val_out_2_loss: 1.3219 - val_out_1_loss: 1.4024 - val_final_output_accuracy: 0.9919 - val_final_output_dice_score: 0.8291 - val_final_output_precision: 0.9919 - val_final_output_sensitivity: 0.9877 - val_final_output_specificity: 0.9973 - val_out_3_accuracy: 0.9918 - val_out_3_dice_score: 0.8289 - val_out_3_precision: 0.9912 - val_out_3_sensitivity: 0.9905 - val_out_3_specificity: 0.9971 - val_out_2_accuracy: 0.9911 - val_out_2_dice_score: 0.8125 - val_out_2_precision: 0.9905 - val_out_2_sensitivity: 0.9894 - val_out_2_specificity: 0.9968 - val_out_1_accuracy: 0.9892 - val_out_1_dice_score: 0.7745 - val_out_1_precision: 0.9884 - val_out_1_sensitivity: 0.9871 - val_out_1_specificity: 0.9961\n",
            "Epoch 97/100\n",
            "8/8 [==============================] - 2s 313ms/step - loss: 5.5529 - final_output_loss: 1.3348 - out_3_loss: 1.3400 - out_2_loss: 1.3576 - out_1_loss: 1.4050 - final_output_accuracy: 0.9924 - final_output_dice_score: 0.7886 - final_output_precision: 0.9932 - final_output_sensitivity: 0.9872 - final_output_specificity: 0.9977 - out_3_accuracy: 0.9927 - out_3_dice_score: 0.7881 - out_3_precision: 0.9923 - out_3_sensitivity: 0.9919 - out_3_specificity: 0.9974 - out_2_accuracy: 0.9922 - out_2_dice_score: 0.7769 - out_2_precision: 0.9918 - out_2_sensitivity: 0.9914 - out_2_specificity: 0.9973 - out_1_accuracy: 0.9909 - out_1_dice_score: 0.7487 - out_1_precision: 0.9907 - out_1_sensitivity: 0.9902 - out_1_specificity: 0.9969 - val_loss: 5.3675 - val_final_output_loss: 1.2773 - val_out_3_loss: 1.2857 - val_out_2_loss: 1.3130 - val_out_1_loss: 1.3760 - val_final_output_accuracy: 0.9919 - val_final_output_dice_score: 0.8357 - val_final_output_precision: 0.9913 - val_final_output_sensitivity: 0.9881 - val_final_output_specificity: 0.9971 - val_out_3_accuracy: 0.9919 - val_out_3_dice_score: 0.8349 - val_out_3_precision: 0.9914 - val_out_3_sensitivity: 0.9906 - val_out_3_specificity: 0.9971 - val_out_2_accuracy: 0.9910 - val_out_2_dice_score: 0.8131 - val_out_2_precision: 0.9903 - val_out_2_sensitivity: 0.9892 - val_out_2_specificity: 0.9968 - val_out_1_accuracy: 0.9893 - val_out_1_dice_score: 0.7810 - val_out_1_precision: 0.9886 - val_out_1_sensitivity: 0.9874 - val_out_1_specificity: 0.9962\n",
            "Epoch 98/100\n",
            "8/8 [==============================] - 2s 312ms/step - loss: 5.5104 - final_output_loss: 1.3226 - out_3_loss: 1.3259 - out_2_loss: 1.3466 - out_1_loss: 1.3998 - final_output_accuracy: 0.9926 - final_output_dice_score: 0.8061 - final_output_precision: 0.9933 - final_output_sensitivity: 0.9891 - final_output_specificity: 0.9977 - out_3_accuracy: 0.9926 - out_3_dice_score: 0.8081 - out_3_precision: 0.9923 - out_3_sensitivity: 0.9918 - out_3_specificity: 0.9974 - out_2_accuracy: 0.9921 - out_2_dice_score: 0.7934 - out_2_precision: 0.9918 - out_2_sensitivity: 0.9913 - out_2_specificity: 0.9972 - out_1_accuracy: 0.9907 - out_1_dice_score: 0.7604 - out_1_precision: 0.9905 - out_1_sensitivity: 0.9899 - out_1_specificity: 0.9968 - val_loss: 5.4455 - val_final_output_loss: 1.3079 - val_out_3_loss: 1.3108 - val_out_2_loss: 1.3282 - val_out_1_loss: 1.3832 - val_final_output_accuracy: 0.9916 - val_final_output_dice_score: 0.8297 - val_final_output_precision: 0.9915 - val_final_output_sensitivity: 0.9876 - val_final_output_specificity: 0.9972 - val_out_3_accuracy: 0.9915 - val_out_3_dice_score: 0.8287 - val_out_3_precision: 0.9906 - val_out_3_sensitivity: 0.9899 - val_out_3_specificity: 0.9969 - val_out_2_accuracy: 0.9908 - val_out_2_dice_score: 0.8119 - val_out_2_precision: 0.9899 - val_out_2_sensitivity: 0.9890 - val_out_2_specificity: 0.9966 - val_out_1_accuracy: 0.9893 - val_out_1_dice_score: 0.7809 - val_out_1_precision: 0.9883 - val_out_1_sensitivity: 0.9873 - val_out_1_specificity: 0.9961\n",
            "Epoch 99/100\n",
            "8/8 [==============================] - 2s 307ms/step - loss: 5.4265 - final_output_loss: 1.2984 - out_3_loss: 1.3032 - out_2_loss: 1.3268 - out_1_loss: 1.3826 - final_output_accuracy: 0.9914 - final_output_dice_score: 0.8110 - final_output_precision: 0.9926 - final_output_sensitivity: 0.9851 - final_output_specificity: 0.9975 - out_3_accuracy: 0.9919 - out_3_dice_score: 0.8085 - out_3_precision: 0.9914 - out_3_sensitivity: 0.9909 - out_3_specificity: 0.9971 - out_2_accuracy: 0.9912 - out_2_dice_score: 0.7947 - out_2_precision: 0.9908 - out_2_sensitivity: 0.9902 - out_2_specificity: 0.9969 - out_1_accuracy: 0.9899 - out_1_dice_score: 0.7617 - out_1_precision: 0.9896 - out_1_sensitivity: 0.9889 - out_1_specificity: 0.9965 - val_loss: 5.4310 - val_final_output_loss: 1.3068 - val_out_3_loss: 1.3056 - val_out_2_loss: 1.3246 - val_out_1_loss: 1.3785 - val_final_output_accuracy: 0.9914 - val_final_output_dice_score: 0.8302 - val_final_output_precision: 0.9915 - val_final_output_sensitivity: 0.9875 - val_final_output_specificity: 0.9972 - val_out_3_accuracy: 0.9913 - val_out_3_dice_score: 0.8296 - val_out_3_precision: 0.9905 - val_out_3_sensitivity: 0.9899 - val_out_3_specificity: 0.9968 - val_out_2_accuracy: 0.9908 - val_out_2_dice_score: 0.8137 - val_out_2_precision: 0.9900 - val_out_2_sensitivity: 0.9891 - val_out_2_specificity: 0.9967 - val_out_1_accuracy: 0.9894 - val_out_1_dice_score: 0.7824 - val_out_1_precision: 0.9885 - val_out_1_sensitivity: 0.9875 - val_out_1_specificity: 0.9962\n",
            "Epoch 100/100\n",
            "8/8 [==============================] - 2s 315ms/step - loss: 5.3308 - final_output_loss: 1.2726 - out_3_loss: 1.2814 - out_2_loss: 1.3066 - out_1_loss: 1.3548 - final_output_accuracy: 0.9925 - final_output_dice_score: 0.8343 - final_output_precision: 0.9936 - final_output_sensitivity: 0.9880 - final_output_specificity: 0.9978 - out_3_accuracy: 0.9928 - out_3_dice_score: 0.8316 - out_3_precision: 0.9924 - out_3_sensitivity: 0.9920 - out_3_specificity: 0.9975 - out_2_accuracy: 0.9922 - out_2_dice_score: 0.8156 - out_2_precision: 0.9919 - out_2_sensitivity: 0.9914 - out_2_specificity: 0.9973 - out_1_accuracy: 0.9908 - out_1_dice_score: 0.7841 - out_1_precision: 0.9906 - out_1_sensitivity: 0.9899 - out_1_specificity: 0.9968 - val_loss: 5.4673 - val_final_output_loss: 1.3217 - val_out_3_loss: 1.3226 - val_out_2_loss: 1.3336 - val_out_1_loss: 1.3739 - val_final_output_accuracy: 0.9913 - val_final_output_dice_score: 0.8228 - val_final_output_precision: 0.9917 - val_final_output_sensitivity: 0.9878 - val_final_output_specificity: 0.9972 - val_out_3_accuracy: 0.9910 - val_out_3_dice_score: 0.8242 - val_out_3_precision: 0.9906 - val_out_3_sensitivity: 0.9899 - val_out_3_specificity: 0.9969 - val_out_2_accuracy: 0.9908 - val_out_2_dice_score: 0.8115 - val_out_2_precision: 0.9903 - val_out_2_sensitivity: 0.9894 - val_out_2_specificity: 0.9968 - val_out_1_accuracy: 0.9896 - val_out_1_dice_score: 0.7835 - val_out_1_precision: 0.9889 - val_out_1_sensitivity: 0.9879 - val_out_1_specificity: 0.9963\n"
          ]
        }
      ],
      "source": [
        "history=model.fit(train_generator(input_gen, out_gen),\n",
        "\t                  validation_data=(X_test, [Y_test, Y_test, Y_test, Y_test]),\n",
        "\t                  steps_per_epoch=len(X_train) // 64,\n",
        "\t                  epochs=epochs, verbose=1, shuffle=True,\n",
        "                    )"
      ]
    },
    {
      "cell_type": "code",
      "execution_count": null,
      "metadata": {
        "id": "VJ8H14Y0VBSO"
      },
      "outputs": [],
      "source": [
        "#model.save('/content/drive/MyDrive/ranadeep/2019DATA/pcamodel2019.h5', include_optimizer=True)"
      ]
    },
    {
      "cell_type": "code",
      "execution_count": null,
      "metadata": {
        "id": "vidInnUiVHo_"
      },
      "outputs": [],
      "source": [
        "def Accuracy_Graph(history):\n",
        "    plt.plot(history.history['final_output_accuracy'])\n",
        "    plt.plot(history.history['val_final_output_accuracy'])\n",
        "    plt.ylabel('Accuracy')\n",
        "    plt.xlabel('Epoch')\n",
        "    plt.legend(['Train', 'Validation'], loc='lower right')\n",
        "    plt.subplots_adjust(top=1.00, bottom=0.0, left=0.0, right=0.95, hspace=0.25,\n",
        "                        wspace=0.35)\n",
        "    plt.show()\n",
        "\n",
        "\n",
        "def Dice_coefficient_Graph(history):\n",
        "\n",
        "    plt.plot(history.history['final_output_dice_score'])\n",
        "    plt.plot(history.history['val_final_output_dice_score'])\n",
        "    plt.ylabel('Dice_Coefficient')\n",
        "    plt.xlabel('Epoch')\n",
        "    plt.legend(['Train', 'Validation'], loc='upper left')\n",
        "    plt.subplots_adjust(top=1.00, bottom=0.0, left=0.0, right=0.95, hspace=0.25,\n",
        "                        wspace=0.35)\n",
        "    plt.show()\n",
        "\n",
        "def Loss_Graph(history):\n",
        "    plt.plot(history.history['final_output_loss'])\n",
        "    plt.plot(history.history['val_final_output_loss'])\n",
        "    plt.ylabel('Loss')\n",
        "    plt.xlabel('Epoch')\n",
        "    plt.legend(['Train', 'Validation'], loc='upper right')\n",
        "    plt.subplots_adjust(top=1.00, bottom=0.0, left=0.0, right=0.95, hspace=0.25,\n",
        "                        wspace=0.35)\n",
        "    plt.show()"
      ]
    },
    {
      "cell_type": "code",
      "execution_count": null,
      "metadata": {
        "colab": {
          "base_uri": "https://localhost:8080/",
          "height": 1000
        },
        "id": "jZrIneDuVJYg",
        "outputId": "d3b549e8-3cad-403a-9802-a6b2569f2b71"
      },
      "outputs": [
        {
          "output_type": "display_data",
          "data": {
            "text/plain": [
              "<Figure size 640x480 with 1 Axes>"
            ],
            "image/png": "[encoded data removed]"
          },
          "metadata": {}
        },
        {
          "output_type": "display_data",
          "data": {
            "text/plain": [
              "<Figure size 640x480 with 1 Axes>"
            ],
            "image/png": "[encoded data removed]"
          },
          "metadata": {}
        },
        {
          "output_type": "display_data",
          "data": {
            "text/plain": [
              "<Figure size 640x480 with 1 Axes>"
            ],
            "image/png": "[encoded data removed]"
          },
          "metadata": {}
        }
      ],
      "source": [
        "Accuracy_Graph(history)\n",
        "Dice_coefficient_Graph(history)\n",
        "Loss_Graph(history)"
      ]
    },
    {
      "cell_type": "code",
      "execution_count": null,
      "metadata": {
        "colab": {
          "base_uri": "https://localhost:8080/",
          "height": 121
        },
        "id": "m2QpgUm8VKsu",
        "outputId": "65a785dc-a797-4497-bcdb-5f58b6e30b9c"
      },
      "outputs": [
        {
          "output_type": "display_data",
          "data": {
            "text/plain": [
              "1.6555523931980134"
            ]
          },
          "metadata": {}
        },
        {
          "output_type": "display_data",
          "data": {
            "text/plain": [
              "0.9726385247707366"
            ]
          },
          "metadata": {}
        },
        {
          "output_type": "display_data",
          "data": {
            "text/plain": [
              "0.6467422746121884"
            ]
          },
          "metadata": {}
        },
        {
          "output_type": "display_data",
          "data": {
            "text/plain": [
              "0.9583477661013603"
            ]
          },
          "metadata": {}
        },
        {
          "output_type": "display_data",
          "data": {
            "text/plain": [
              "0.9797771412134171"
            ]
          },
          "metadata": {}
        },
        {
          "output_type": "display_data",
          "data": {
            "text/plain": [
              "0.9788289991021156"
            ]
          },
          "metadata": {}
        }
      ],
      "source": [
        "import statistics\n",
        "display(statistics.mean(history.history['val_final_output_loss']))\n",
        "display(statistics.mean(history.history['val_final_output_accuracy']))\n",
        "display(statistics.mean(history.history['val_final_output_dice_score']))\n",
        "display(statistics.mean(history.history['val_final_output_precision']))\n",
        "display(statistics.mean(history.history['val_final_output_sensitivity']))\n",
        "display(statistics.mean(history.history['val_final_output_specificity']))"
      ]
    },
    {
      "cell_type": "code",
      "execution_count": null,
      "metadata": {
        "id": "aCFp6MPMae6p",
        "colab": {
          "base_uri": "https://localhost:8080/"
        },
        "outputId": "dc6c92e7-1999-44f4-e4c8-f9f82e87c223"
      },
      "outputs": [
        {
          "output_type": "stream",
          "name": "stdout",
          "text": [
            "8/8 [==============================] - 2s 129ms/step\n"
          ]
        }
      ],
      "source": [
        "pred = model.predict(X_test)"
      ]
    },
    {
      "cell_type": "code",
      "execution_count": null,
      "metadata": {
        "colab": {
          "base_uri": "https://localhost:8080/"
        },
        "id": "yPAnboGfjWiU",
        "outputId": "697a6297-c77b-4add-f84d-91af70413822"
      },
      "outputs": [
        {
          "output_type": "stream",
          "name": "stdout",
          "text": [
            "(4, 225, 240, 240, 4)\n"
          ]
        }
      ],
      "source": [
        "print(np.shape(pred))"
      ]
    },
    {
      "cell_type": "code",
      "execution_count": null,
      "metadata": {
        "id": "Vu9kAL1JHAZI"
      },
      "outputs": [],
      "source": [
        "pred = np.argmax(pred, axis=-1)"
      ]
    },
    {
      "cell_type": "code",
      "execution_count": null,
      "metadata": {
        "id": "quj0A3aXAP3D"
      },
      "outputs": [],
      "source": [
        "#To choose the output from the final layer only, we take the slices in the 0th index.\n",
        "predicted_images = np.reshape(pred[0,:,:,:], (225,240,240))"
      ]
    },
    {
      "cell_type": "code",
      "execution_count": null,
      "metadata": {
        "colab": {
          "base_uri": "https://localhost:8080/"
        },
        "id": "IwuJ92EcIle9",
        "outputId": "48523b11-978c-4a8e-d557-03da91ee9700"
      },
      "outputs": [
        {
          "output_type": "stream",
          "name": "stdout",
          "text": [
            "(225, 240, 240)\n"
          ]
        }
      ],
      "source": [
        "GT = np.argmax(Y_test, axis=-1)\n",
        "print(GT.shape)"
      ]
    },
    {
      "cell_type": "code",
      "execution_count": null,
      "metadata": {
        "id": "Ji8xPZNN1_KW"
      },
      "outputs": [],
      "source": [
        "predicted_images[predicted_images==3] = 4\n",
        "GT[GT==3] = 4"
      ]
    },
    {
      "cell_type": "code",
      "execution_count": null,
      "metadata": {
        "id": "I3_OQcAqaUi8"
      },
      "outputs": [],
      "source": [
        "def iou_coef(s,g):\n",
        "    num = np.sum(np.multiply(s,g))\n",
        "    denom=s.sum() + g.sum() - num\n",
        "    if denom==0:\n",
        "        return 1\n",
        "    else:\n",
        "        return num/denom"
      ]
    },
    {
      "cell_type": "code",
      "execution_count": null,
      "metadata": {
        "id": "VvBQgcbsSDBQ"
      },
      "outputs": [],
      "source": [
        "def iou_whole(pred, orig_label):\n",
        "    #computes dice for the whole tumor\n",
        "    return iou_coef(pred>0,orig_label>0)\n",
        "\n",
        "\n",
        "def iou_en(pred, orig_label):\n",
        "    #computes dice for enhancing region\n",
        "    return iou_coef(pred==4,orig_label==4)\n",
        "\n",
        "\n",
        "def iou_core(pred, orig_label):\n",
        "    #computes dice for core region\n",
        "    seg_=np.copy(pred)\n",
        "    ground_=np.copy(orig_label)\n",
        "    seg_[seg_==2]=0\n",
        "    ground_[ground_==2]=0\n",
        "    return iou_coef(seg_>0,ground_>0)"
      ]
    },
    {
      "cell_type": "code",
      "execution_count": null,
      "metadata": {
        "colab": {
          "base_uri": "https://localhost:8080/"
        },
        "id": "cjAV_L2HURYQ",
        "outputId": "9e4f2b17-a239-48e8-eafe-61fa35e84824"
      },
      "outputs": [
        {
          "output_type": "stream",
          "name": "stdout",
          "text": [
            "iou complete tumor score : 0.8179\n",
            "iou core tumor score : 0.7737\n",
            "iou enhancing tumor score :0.6974 \n"
          ]
        }
      ],
      "source": [
        "predicted_images = predicted_images.astype(np.int32)\n",
        "GT = GT.astype(np.int32)\n",
        "\n",
        "iou_complete  = iou_whole(predicted_images,GT)\n",
        "iou_enhancing = iou_en(predicted_images,GT)\n",
        "iou_core      = iou_core(predicted_images,GT)\n",
        "\n",
        "print(\"iou complete tumor score : {:0.4f}\".format(iou_complete))\n",
        "print(\"iou core tumor score : {:0.4f}\".format(iou_core))\n",
        "print(\"iou enhancing tumor score :{:0.4f} \".format(iou_enhancing))"
      ]
    },
    {
      "cell_type": "code",
      "execution_count": null,
      "metadata": {
        "id": "dUxIWYsg1_G6"
      },
      "outputs": [],
      "source": [
        "def binary_dice3d(s,g):\n",
        "    #dice score of two 3D volumes\n",
        "    num=np.sum(np.multiply(s, g))\n",
        "    denom=s.sum() + g.sum()\n",
        "    if denom==0:\n",
        "        return 1\n",
        "    else:\n",
        "        return  2.0*num/denom\n",
        "\n",
        "def DSC_whole(pred, orig_label):\n",
        "    #computes dice for the whole tumor\n",
        "    return binary_dice3d(pred>0,orig_label>0)\n",
        "\n",
        "def DSC_en(pred, orig_label):\n",
        "    #computes dice for enhancing region\n",
        "    return binary_dice3d(pred==4,orig_label==4)\n",
        "\n",
        "def DSC_core(pred, orig_label):\n",
        "    #computes dice for core region\n",
        "    seg_=np.copy(pred)\n",
        "    ground_=np.copy(orig_label)\n",
        "    seg_[seg_==2]=0\n",
        "    ground_[ground_==2]=0\n",
        "    return binary_dice3d(seg_>0,ground_>0)"
      ]
    },
    {
      "cell_type": "code",
      "execution_count": null,
      "metadata": {
        "colab": {
          "base_uri": "https://localhost:8080/"
        },
        "id": "6dc3Pnyq1Nzf",
        "outputId": "e7f909af-0d3f-4340-9ea7-0eed1fa40859"
      },
      "outputs": [
        {
          "output_type": "stream",
          "name": "stdout",
          "text": [
            "Dice complete tumor score : 0.8998\n",
            "Dice core tumor score : 0.8724\n",
            "Dice enhancing tumor score :0.8217 \n"
          ]
        }
      ],
      "source": [
        "Dice_complete=DSC_whole(predicted_images,GT)\n",
        "Dice_enhancing=DSC_en(predicted_images,GT)\n",
        "Dice_core=DSC_core(predicted_images,GT)\n",
        "\n",
        "print(\"Dice complete tumor score : {:0.4f}\".format(Dice_complete))\n",
        "print(\"Dice core tumor score : {:0.4f}\".format(Dice_core))\n",
        "print(\"Dice enhancing tumor score :{:0.4f} \".format(Dice_enhancing))"
      ]
    }
  ],
  "metadata": {
    "accelerator": "GPU",
    "colab": {
      "machine_shape": "hm",
      "provenance": [],
      "gpuType": "A100",
      "include_colab_link": true
    },
    "kernelspec": {
      "display_name": "Python 3",
      "name": "python3"
    }
  },
  "nbformat": 4,
  "nbformat_minor": 0
}