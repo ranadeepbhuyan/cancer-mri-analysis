{
  "cells": [
    {
      "cell_type": "markdown",
      "metadata": {
        "id": "view-in-github",
        "colab_type": "text"
      },
      "source": [
        "<a href=\"https://colab.research.google.com/github/ranadeepbhuyan/cancer-mri-analysis/blob/main/IEGWResNet/with_noise_conditions.ipynb\" target=\"_parent\"><img src=\"https://colab.research.google.com/assets/colab-badge.svg\" alt=\"Open In Colab\"/></a>"
      ]
    },
    {
      "cell_type": "code",
      "execution_count": null,
      "metadata": {
        "colab": {
          "base_uri": "https://localhost:8080/"
        },
        "id": "pRK3vxOwFDO-",
        "outputId": "89a2ab76-5b5a-4b02-94f1-591af8b77f53"
      },
      "outputs": [
        {
          "output_type": "stream",
          "name": "stdout",
          "text": [
            "Mounted at /content/drive\n"
          ]
        }
      ],
      "source": [
        "from google.colab import drive\n",
        "drive.mount('/content/drive')"
      ]
    },
    {
      "cell_type": "code",
      "execution_count": null,
      "metadata": {
        "id": "fnLTNgBG7VzI"
      },
      "outputs": [],
      "source": [
        "import numpy as np\n",
        "import matplotlib.pyplot as plt\n",
        "import glob\n",
        "import pickle\n",
        "import keras\n",
        "from keras.layers import Conv2D, Activation, Input, Dropout, Reshape, MaxPooling2D, UpSampling2D, Conv2DTranspose, Concatenate, multiply, Add, LeakyReLU, ReLU\n",
        "from tensorflow.keras.layers import BatchNormalization\n",
        "from tensorflow.keras.models import Model\n",
        "from keras.callbacks import ModelCheckpoint, ReduceLROnPlateau\n",
        "from keras.optimizers import Adam\n",
        "from keras.utils import *\n",
        "from keras import regularizers\n",
        "from keras import backend as K\n",
        "from keras.models import load_model\n",
        "from keras.layers import Lambda\n",
        "import nibabel as nib"
      ]
    },
    {
      "cell_type": "code",
      "execution_count": null,
      "metadata": {
        "id": "GuqmS5fWTqoN",
        "colab": {
          "base_uri": "https://localhost:8080/"
        },
        "outputId": "b40ca8db-b2b4-421d-fa4e-f81db316ab06"
      },
      "outputs": [
        {
          "output_type": "stream",
          "name": "stdout",
          "text": [
            "Collecting SimpleITK\n",
            "  Downloading SimpleITK-2.3.1-cp310-cp310-manylinux_2_17_x86_64.manylinux2014_x86_64.whl (52.7 MB)\n",
            "\u001b[2K     \u001b[90m━━━━━━━━━━━━━━━━━━━━━━━━━━━━━━━━━━━━━━━━\u001b[0m \u001b[32m52.7/52.7 MB\u001b[0m \u001b[31m28.8 MB/s\u001b[0m eta \u001b[36m0:00:00\u001b[0m\n",
            "\u001b[?25hInstalling collected packages: SimpleITK\n",
            "Successfully installed SimpleITK-2.3.1\n"
          ]
        }
      ],
      "source": [
        "!pip install SimpleITK"
      ]
    },
    {
      "cell_type": "code",
      "execution_count": null,
      "metadata": {
        "id": "OiTeWkdCTfWY"
      },
      "outputs": [],
      "source": [
        "import SimpleITK as sitk"
      ]
    },
    {
      "cell_type": "code",
      "execution_count": null,
      "metadata": {
        "id": "SNAp5aKSnnvJ"
      },
      "outputs": [],
      "source": [
        "flair_path = glob.glob('/content/drive/MyDrive/ranadeep/2019DATA/data/flair/*')\n",
        "seg_path   = glob.glob('/content/drive/MyDrive/ranadeep/2019DATA/data/Seg/*')\n",
        "t1_path    = glob.glob('/content/drive/MyDrive/ranadeep/2019DATA/data/T1/*')\n",
        "t1ce_path  = glob.glob('/content/drive/MyDrive/ranadeep/2019DATA/data/T1ce/*')\n",
        "t2_path    = glob.glob('/content/drive/MyDrive/ranadeep/2019DATA/data/T2/*')"
      ]
    },
    {
      "cell_type": "code",
      "execution_count": null,
      "metadata": {
        "colab": {
          "base_uri": "https://localhost:8080/"
        },
        "id": "5qhECSLIDrNX",
        "outputId": "66798a2b-da27-4f70-91c0-88ffd1220860"
      },
      "outputs": [
        {
          "output_type": "stream",
          "name": "stdout",
          "text": [
            "30\n"
          ]
        }
      ],
      "source": [
        "print(len(flair_path))"
      ]
    },
    {
      "cell_type": "code",
      "execution_count": null,
      "metadata": {
        "id": "_IcSLJj0Uc1-"
      },
      "outputs": [],
      "source": [
        "def pca_color_augmentation_tensor(inputs, std_deviation=0.1, scale=0.1, clipping=False):\n",
        "    ranks = inputs.ndim\n",
        "    assert ranks >= 2\n",
        "\n",
        "    chs = inputs.shape[-1]\n",
        "    if ranks <= 3:\n",
        "        x = inputs.copy()\n",
        "    elif ranks == 4:\n",
        "        dims = inputs.shape[1] * inputs.shape[2]\n",
        "        x = inputs.reshape(-1, dims, chs)\n",
        "    elif ranks == 5:\n",
        "        dims = inputs.shape[2] * inputs.shape[3]\n",
        "        depth = inputs.shape[1]\n",
        "        x = inputs.reshape(-1, depth, dims, chs)\n",
        "    calculate_axis, reduce_axis = ranks-1, ranks-2\n",
        "    if ranks == 3:\n",
        "        calculate_axis, reduce_axis = 1, 2\n",
        "    elif ranks >= 4:\n",
        "        calculate_axis, reduce_axis = ranks-3, ranks-2\n",
        "    C = 1.0\n",
        "    if ranks >= 3:\n",
        "        C = x.shape[reduce_axis]\n",
        "    var = np.var(x, axis=calculate_axis, keepdims=True)\n",
        "    scaling_factors = np.sqrt(C / np.sum(var, axis=reduce_axis, keepdims=True))\n",
        "    x = x * scaling_factors\n",
        "    # subtract mean for cov matrix\n",
        "    mean = np.mean(x, axis=calculate_axis, keepdims=True)\n",
        "    x -= mean\n",
        "    # covariance matrix\n",
        "    cov_n = max(x.shape[calculate_axis] - 1, 1)\n",
        "    # cov (since x was normalized)\n",
        "    cov = np.matmul(np.swapaxes(x, -1, -2), x) / cov_n\n",
        "    # eigen value(S), eigen vector(U)\n",
        "    U, S, V = np.linalg.svd(cov)\n",
        "    if ranks == 2:\n",
        "        rand = np.random.randn(*inputs.shape) * std_deviation\n",
        "        delta = np.matmul(rand*np.expand_dims(S, axis=0), U)\n",
        "    else:\n",
        "        rand = np.random.randn(*S.shape) * std_deviation\n",
        "        delta_original = np.squeeze(np.matmul(U, np.expand_dims(rand*S, axis=-1)), axis=-1)\n",
        "    if ranks == 3:\n",
        "        delta = np.expand_dims(delta_original, axis=ranks-2)\n",
        "    elif ranks >= 4:\n",
        "        delta = np.expand_dims(delta_original, axis=ranks-3)\n",
        "        delta = np.broadcast_to(delta, x.shape)\n",
        "        delta = delta.reshape(-1, *inputs.shape[1:])\n",
        "\n",
        "    # delta scaling\n",
        "    delta = delta * scale\n",
        "    result = inputs + delta\n",
        "    if clipping:\n",
        "        result = np.clip(result, 0.0, scale)\n",
        "\n",
        "    return result"
      ]
    },
    {
      "cell_type": "code",
      "source": [
        "import numpy as np\n",
        "def add_gaussian_noise(image, mean=0, sigma=1):\n",
        "    if len(image.shape) == 2:  # Grayscale image (2D)\n",
        "        row, col = image.shape\n",
        "        gauss = np.random.normal(mean, sigma, (row, col))\n",
        "        gauss = gauss.reshape(row, col)\n",
        "    elif len(image.shape) == 3:  # Color image (3D)\n",
        "        row, col, ch = image.shape\n",
        "        gauss = np.random.normal(mean, sigma, (row, col, ch))\n",
        "        gauss = gauss.reshape(row, col, ch)\n",
        "    else:\n",
        "        raise ValueError(\"Unexpected image shape:\", image.shape)\n",
        "\n",
        "    noisy = image + gauss\n",
        "    return np.clip(noisy, 0, 255)"
      ],
      "metadata": {
        "id": "YcvP5ZhUna1J"
      },
      "execution_count": null,
      "outputs": []
    },
    {
      "cell_type": "code",
      "source": [
        "import numpy as np\n",
        "def add_speckle_noise(image, mean=0, sigma=0.1):\n",
        "    row, col = image.shape if len(image.shape) == 2 else image.shape[:2]\n",
        "    gauss = np.random.normal(mean, sigma, (row, col))\n",
        "    gauss = gauss.reshape(row, col) if len(image.shape) == 2 else gauss.reshape(row, col, 1)\n",
        "    noisy = image + image * gauss\n",
        "    return np.clip(noisy, 0, 255)\n"
      ],
      "metadata": {
        "id": "Oefx72N-rCsg"
      },
      "execution_count": null,
      "outputs": []
    },
    {
      "cell_type": "code",
      "source": [
        "import numpy as np\n",
        "\n",
        "def add_poisson_noise(image, scale=1):\n",
        "    image = image / 255.0\n",
        "    noisy = np.random.poisson(image * scale) / scale\n",
        "    noisy = noisy * 255.0\n",
        "    return np.clip(noisy, 0, 255).astype('uint8')\n"
      ],
      "metadata": {
        "id": "Ok5npM3CrXSQ"
      },
      "execution_count": null,
      "outputs": []
    },
    {
      "cell_type": "code",
      "execution_count": null,
      "metadata": {
        "colab": {
          "base_uri": "https://localhost:8080/"
        },
        "id": "z-bdXPY2XcML",
        "outputId": "97f5cbc8-9306-4e2d-c5ad-8cdac922c8f5"
      },
      "outputs": [
        {
          "output_type": "stream",
          "name": "stdout",
          "text": [
            "(750, 240, 240)\n"
          ]
        }
      ],
      "source": [
        "X_flair=[]\n",
        "for i in range(len(flair_path)):\n",
        "    a = sitk.ReadImage(flair_path[i])\n",
        "    a = sitk.GetArrayFromImage(a)\n",
        "    for j in range(25):\n",
        "        image = a[50+2*j,:,:]\n",
        "        #noisy_image = add_gaussian_noise(image)\n",
        "        noisy_image = add_speckle_noise(image, mean=0, sigma=0.1)\n",
        "        #noisy_image = add_poisson_noise(image, scale=100)\n",
        "        X_flair.append(noisy_image)\n",
        "print(np.shape(X_flair))"
      ]
    },
    {
      "cell_type": "code",
      "execution_count": null,
      "metadata": {
        "id": "PVvCGpG3eiWH"
      },
      "outputs": [],
      "source": [
        "X_flair = np.asarray(X_flair).astype(np.float32)\n",
        "X_flair = pca_color_augmentation_tensor(X_flair[:,:,:])"
      ]
    },
    {
      "cell_type": "code",
      "execution_count": null,
      "metadata": {
        "colab": {
          "base_uri": "https://localhost:8080/"
        },
        "id": "qV4wgbN-R5XS",
        "outputId": "92241aae-1efb-40a1-cef8-6e0f40c6221d"
      },
      "outputs": [
        {
          "output_type": "execute_result",
          "data": {
            "text/plain": [
              "(-0.6011733302353762, 1.926684323699067)"
            ]
          },
          "metadata": {},
          "execution_count": 13
        }
      ],
      "source": [
        "mean = X_flair.mean()\n",
        "std = X_flair.std()\n",
        "X_flair = (X_flair - mean)/(std + 1e-8)\n",
        "np.min(X_flair), np.max(X_flair)"
      ]
    },
    {
      "cell_type": "code",
      "execution_count": null,
      "metadata": {
        "colab": {
          "base_uri": "https://localhost:8080/"
        },
        "id": "FUCq69-HaXIY",
        "outputId": "3cc25aab-e851-45b0-c41b-8033330d6114"
      },
      "outputs": [
        {
          "output_type": "stream",
          "name": "stdout",
          "text": [
            "(750, 240, 240)\n"
          ]
        }
      ],
      "source": [
        "X_t1=[]\n",
        "for i in range(len(t1_path)):\n",
        "    a = sitk.ReadImage(t1_path[i])\n",
        "    a = sitk.GetArrayFromImage(a)\n",
        "    for j in range(25):\n",
        "        image = a[50+2*j,:,:]\n",
        "        #noisy_image = add_gaussian_noise(image)\n",
        "        noisy_image = add_speckle_noise(image, mean=0, sigma=0.1)\n",
        "        #noisy_image = add_poisson_noise(image, scale=100)\n",
        "\n",
        "        X_t1.append(noisy_image)\n",
        "print(np.shape(X_t1))"
      ]
    },
    {
      "cell_type": "code",
      "execution_count": null,
      "metadata": {
        "id": "jTw7cJrgesV_"
      },
      "outputs": [],
      "source": [
        "X_t1 = np.asarray(X_t1).astype(np.float32)\n",
        "X_t1 = pca_color_augmentation_tensor(X_t1[:,:,:])"
      ]
    },
    {
      "cell_type": "code",
      "execution_count": null,
      "metadata": {
        "colab": {
          "base_uri": "https://localhost:8080/"
        },
        "id": "2iVC59neTrvF",
        "outputId": "7edb5128-6ce9-40ca-e207-b41f7fd8b204"
      },
      "outputs": [
        {
          "output_type": "execute_result",
          "data": {
            "text/plain": [
              "(-0.6212657035832765, 1.6951814715752016)"
            ]
          },
          "metadata": {},
          "execution_count": 16
        }
      ],
      "source": [
        "mean = X_t1.mean()\n",
        "std = X_t1.std()\n",
        "X_t1 = (X_t1 - mean)/(std + 1e-8)\n",
        "np.min(X_t1), np.max(X_t1)"
      ]
    },
    {
      "cell_type": "code",
      "execution_count": null,
      "metadata": {
        "colab": {
          "base_uri": "https://localhost:8080/"
        },
        "id": "gyL84efyaX5J",
        "outputId": "64a1ec72-b9a6-4fd0-dd1d-1590d40b5892"
      },
      "outputs": [
        {
          "output_type": "stream",
          "name": "stdout",
          "text": [
            "(750, 240, 240)\n"
          ]
        }
      ],
      "source": [
        "X_t1ce=[]\n",
        "for i in range(len(t1ce_path)):\n",
        "    a = sitk.ReadImage(t1ce_path[i])\n",
        "    a = sitk.GetArrayFromImage(a)\n",
        "    for j in range(25):\n",
        "        image = a[50+2*j,:,:]\n",
        "        #noisy_image = add_gaussian_noise(image)\n",
        "        noisy_image = add_speckle_noise(image, mean=0, sigma=0.1)\n",
        "        #noisy_image = add_poisson_noise(image, scale=100)\n",
        "        X_t1ce.append(noisy_image)\n",
        "print(np.shape(X_t1ce))"
      ]
    },
    {
      "cell_type": "code",
      "execution_count": null,
      "metadata": {
        "id": "BLIQ7qI2fCdS"
      },
      "outputs": [],
      "source": [
        "X_t1ce = np.asarray(X_t1ce).astype(np.float32)\n",
        "X_t1ce = pca_color_augmentation_tensor(X_t1ce[:,:,:])"
      ]
    },
    {
      "cell_type": "code",
      "execution_count": null,
      "metadata": {
        "colab": {
          "base_uri": "https://localhost:8080/"
        },
        "id": "Juy5PSNFT5AK",
        "outputId": "406f0a65-fa0b-4155-8357-fcf2ef8e86f2"
      },
      "outputs": [
        {
          "output_type": "execute_result",
          "data": {
            "text/plain": [
              "(-0.587599165928716, 1.858090183022279)"
            ]
          },
          "metadata": {},
          "execution_count": 19
        }
      ],
      "source": [
        "mean = X_t1ce.mean()\n",
        "std = X_t1ce.std()\n",
        "X_t1ce = (X_t1ce - mean)/(std + 1e-8)\n",
        "np.min(X_t1ce), np.max(X_t1ce)"
      ]
    },
    {
      "cell_type": "code",
      "execution_count": null,
      "metadata": {
        "colab": {
          "base_uri": "https://localhost:8080/"
        },
        "id": "hj3lJ9Eua2vQ",
        "outputId": "e953a355-3195-4329-a4f7-7a6c8eaf544a"
      },
      "outputs": [
        {
          "output_type": "stream",
          "name": "stdout",
          "text": [
            "(750, 240, 240)\n"
          ]
        }
      ],
      "source": [
        "X_t2=[]\n",
        "for i in range(len(t2_path)):\n",
        "    a = sitk.ReadImage(t2_path[i])\n",
        "    a = sitk.GetArrayFromImage(a)\n",
        "    for j in range(25):\n",
        "        image = a[50+2*j,:,:]\n",
        "        #noisy_image = add_gaussian_noise(image)\n",
        "        noisy_image = add_speckle_noise(image, mean=0, sigma=0.1)\n",
        "        #noisy_image = add_poisson_noise(image, scale=100)\n",
        "        X_t2.append(noisy_image)\n",
        "print(np.shape(X_t2))"
      ]
    },
    {
      "cell_type": "code",
      "execution_count": null,
      "metadata": {
        "id": "T1rNbpX-fH7L"
      },
      "outputs": [],
      "source": [
        "X_t2 = np.asarray(X_t2).astype(np.float32)\n",
        "X_t2 = pca_color_augmentation_tensor(X_t2[:,:,:])"
      ]
    },
    {
      "cell_type": "code",
      "execution_count": null,
      "metadata": {
        "colab": {
          "base_uri": "https://localhost:8080/"
        },
        "id": "ynOIXHD0UFkV",
        "outputId": "144eb387-23fb-405b-aa7f-0eeeede7c5c1"
      },
      "outputs": [
        {
          "output_type": "execute_result",
          "data": {
            "text/plain": [
              "(-0.6075070528386638, 1.8872216838695908)"
            ]
          },
          "metadata": {},
          "execution_count": 22
        }
      ],
      "source": [
        "mean = X_t2.mean()\n",
        "std = X_t2.std()\n",
        "X_t2 = (X_t2 - mean)/(std + 1e-8)\n",
        "np.min(X_t2), np.max(X_t2)"
      ]
    },
    {
      "cell_type": "code",
      "execution_count": null,
      "metadata": {
        "colab": {
          "base_uri": "https://localhost:8080/"
        },
        "id": "oXuqfN6dbLp_",
        "outputId": "e15ff3e0-d0ec-415a-ac51-3e20c359ddfe"
      },
      "outputs": [
        {
          "output_type": "stream",
          "name": "stdout",
          "text": [
            "(750, 240, 240)\n"
          ]
        }
      ],
      "source": [
        "X_seg=[]\n",
        "for i in range(len(seg_path)):\n",
        "    a = sitk.ReadImage(seg_path[i])\n",
        "    a = sitk.GetArrayFromImage(a)\n",
        "    for j in range(25):\n",
        "        X_seg.append((a[50+2*j,:,:]))\n",
        "print(np.shape(X_seg))"
      ]
    },
    {
      "cell_type": "code",
      "execution_count": null,
      "metadata": {
        "id": "-aV-yA6gcRXu"
      },
      "outputs": [],
      "source": [
        "X_seg = np.asarray(X_seg).astype(np.float32)"
      ]
    },
    {
      "cell_type": "code",
      "execution_count": null,
      "metadata": {
        "colab": {
          "base_uri": "https://localhost:8080/"
        },
        "id": "AnBB3AB3a0LP",
        "outputId": "69f8eefa-8a71-4296-d223-f60d1ba70fb6"
      },
      "outputs": [
        {
          "output_type": "stream",
          "name": "stdout",
          "text": [
            "750\n"
          ]
        }
      ],
      "source": [
        "print(X_flair.shape[0])"
      ]
    },
    {
      "cell_type": "code",
      "execution_count": null,
      "metadata": {
        "id": "bBVPBlRp6tLB"
      },
      "outputs": [],
      "source": [
        "data = np.zeros((X_flair.shape[0],240,240,4))\n",
        "for i in range(data.shape[0]):\n",
        "    data[i,:,:,0] = X_flair[i,:,:]\n",
        "    data[i,:,:,1] = X_t1[i,:,:]\n",
        "    data[i,:,:,2] = X_t1ce[i,:,:]\n",
        "    data[i,:,:,3] = X_t2[i,:,:]"
      ]
    },
    {
      "cell_type": "code",
      "execution_count": null,
      "metadata": {
        "colab": {
          "base_uri": "https://localhost:8080/"
        },
        "id": "AIjHDWaV79eC",
        "outputId": "88737efa-622c-4a5b-946c-7316a642c127"
      },
      "outputs": [
        {
          "output_type": "stream",
          "name": "stdout",
          "text": [
            "(750, 240, 240, 4)\n"
          ]
        }
      ],
      "source": [
        "print(np.shape(data))"
      ]
    },
    {
      "cell_type": "code",
      "execution_count": null,
      "metadata": {
        "id": "9Y6vymfxD_cF"
      },
      "outputs": [],
      "source": [
        "del X_flair\n",
        "del X_t1\n",
        "del X_t2\n",
        "del X_t1ce"
      ]
    },
    {
      "cell_type": "code",
      "execution_count": null,
      "metadata": {
        "colab": {
          "base_uri": "https://localhost:8080/"
        },
        "id": "GLaqcxM6cVrF",
        "outputId": "3e87c798-45fa-483b-a6ad-70afccf6ec17"
      },
      "outputs": [
        {
          "output_type": "stream",
          "name": "stdout",
          "text": [
            "[0. 1. 2. 4.]\n"
          ]
        }
      ],
      "source": [
        "print(np.unique(X_seg))"
      ]
    },
    {
      "cell_type": "code",
      "execution_count": null,
      "metadata": {
        "id": "qXMxghqIBW8u"
      },
      "outputs": [],
      "source": [
        "X_seg[X_seg == 4] = 3"
      ]
    },
    {
      "cell_type": "code",
      "execution_count": null,
      "metadata": {
        "colab": {
          "base_uri": "https://localhost:8080/"
        },
        "id": "H0tI1I6G8x0z",
        "outputId": "4432ab3b-8aa8-4e41-99a9-fd0f3f05b9a4"
      },
      "outputs": [
        {
          "output_type": "stream",
          "name": "stdout",
          "text": [
            "[0. 1. 2. 3.]\n"
          ]
        }
      ],
      "source": [
        "print(np.unique(X_seg))"
      ]
    },
    {
      "cell_type": "code",
      "execution_count": null,
      "metadata": {
        "colab": {
          "base_uri": "https://localhost:8080/"
        },
        "id": "gbwIiU95RlHO",
        "outputId": "55ea45e0-f0ed-4024-e65e-5499c5077286"
      },
      "outputs": [
        {
          "output_type": "stream",
          "name": "stdout",
          "text": [
            "(750, 240, 240)\n"
          ]
        }
      ],
      "source": [
        "print(X_seg.shape)"
      ]
    },
    {
      "cell_type": "code",
      "execution_count": null,
      "metadata": {
        "colab": {
          "base_uri": "https://localhost:8080/"
        },
        "id": "iMmO-RWj23zP",
        "outputId": "1501b812-675b-4e1e-f706-f19ca8606fb8"
      },
      "outputs": [
        {
          "output_type": "stream",
          "name": "stdout",
          "text": [
            "(750, 240, 240, 4)\n"
          ]
        }
      ],
      "source": [
        "from tensorflow.keras.utils import to_categorical\n",
        "gt = to_categorical(X_seg, num_classes=None)\n",
        "print(gt.shape)"
      ]
    },
    {
      "cell_type": "code",
      "execution_count": null,
      "metadata": {
        "colab": {
          "base_uri": "https://localhost:8080/"
        },
        "id": "PqPY9vYCbkKN",
        "outputId": "6ecc7b3f-c69c-4104-d17d-7bcb03abb6e4"
      },
      "outputs": [
        {
          "output_type": "stream",
          "name": "stdout",
          "text": [
            "(750, 240, 240, 4)\n",
            "(750, 240, 240, 4)\n"
          ]
        }
      ],
      "source": [
        "print(data.shape)\n",
        "print(gt.shape)"
      ]
    },
    {
      "cell_type": "code",
      "execution_count": null,
      "metadata": {
        "id": "GxQVciKQMGff"
      },
      "outputs": [],
      "source": [
        "del X_seg"
      ]
    },
    {
      "cell_type": "code",
      "execution_count": null,
      "metadata": {
        "id": "qQVOCRWnvwz4"
      },
      "outputs": [],
      "source": [
        "from sklearn.model_selection import train_test_split\n",
        "X_train , X_test, Y_train, Y_test = train_test_split(data, gt, test_size=0.30, random_state=42)\n"
      ]
    },
    {
      "cell_type": "code",
      "execution_count": null,
      "metadata": {
        "colab": {
          "base_uri": "https://localhost:8080/"
        },
        "id": "FYdaQwqNvwsh",
        "outputId": "0a126c1e-be3e-4df3-cdda-229fa793bf52"
      },
      "outputs": [
        {
          "output_type": "stream",
          "name": "stdout",
          "text": [
            "(525, 240, 240, 4)\n",
            "(225, 240, 240, 4)\n"
          ]
        }
      ],
      "source": [
        "print(X_train.shape)\n",
        "print(X_test.shape)"
      ]
    },
    {
      "cell_type": "code",
      "execution_count": null,
      "metadata": {
        "colab": {
          "base_uri": "https://localhost:8080/"
        },
        "id": "WWz-hyqVvwj8",
        "outputId": "17dca065-00f8-46bb-a085-2da87afee12f"
      },
      "outputs": [
        {
          "output_type": "stream",
          "name": "stdout",
          "text": [
            "(525, 240, 240, 4)\n",
            "(225, 240, 240, 4)\n"
          ]
        }
      ],
      "source": [
        "print(Y_train.shape)\n",
        "print(Y_test.shape)"
      ]
    },
    {
      "cell_type": "code",
      "execution_count": null,
      "metadata": {
        "id": "4Is_BJ-95Q1-"
      },
      "outputs": [],
      "source": [
        "from keras.preprocessing.image import ImageDataGenerator"
      ]
    },
    {
      "cell_type": "code",
      "execution_count": null,
      "metadata": {
        "id": "aaqOzNkf5Qwi"
      },
      "outputs": [],
      "source": [
        "image_datagen = ImageDataGenerator(rotation_range=5,\n",
        "                                    horizontal_flip=True,\n",
        "                                    vertical_flip=True,\n",
        "                                    width_shift_range=0.1,\n",
        "                                    height_shift_range=0.1,\n",
        "                                    shear_range=0.1,\n",
        "                                    zoom_range=0.1)\n",
        "mask_datagen = ImageDataGenerator(rotation_range=5,\n",
        "                                    horizontal_flip=True,\n",
        "                                    vertical_flip=True,\n",
        "                                    width_shift_range=0.1,\n",
        "                                    height_shift_range=0.1,\n",
        "                                    shear_range=0.1,\n",
        "                                    zoom_range=0.1)"
      ]
    },
    {
      "cell_type": "code",
      "execution_count": null,
      "metadata": {
        "id": "qq3hnaN65QlT"
      },
      "outputs": [],
      "source": [
        "input_gen = image_datagen.flow(X_train, batch_size=8, seed=1)\n",
        "out_gen = mask_datagen.flow(Y_train, batch_size=8, seed=1)"
      ]
    },
    {
      "cell_type": "code",
      "execution_count": null,
      "metadata": {
        "id": "TTvnM3C-LtvA"
      },
      "outputs": [],
      "source": [
        "def train_generator(input_gen, out_gen):\n",
        "    while True:\n",
        "        image_next = input_gen.next()\n",
        "        mask_next  = out_gen.next()\n",
        "        yield image_next, [mask_next, mask_next, mask_next, mask_next]"
      ]
    },
    {
      "cell_type": "code",
      "execution_count": null,
      "metadata": {
        "id": "KrkAEt_AEWay"
      },
      "outputs": [],
      "source": [
        "from scipy.stats import pearsonr\n",
        "from tensorflow.keras.layers import Conv2D, BatchNormalization, LeakyReLU, Add, Activation, UpSampling2D, multiply\n",
        "from tensorflow.keras import regularizers\n",
        "def ieg_block2d(x, g, ch_inp, i, data_format='channels_last'):\n",
        "    reg = regularizers.l2(1e-5)\n",
        "    def conv_bn(x, filters, kernel_size, strides, dilation_rate=1):\n",
        "        x = Conv2D(filters, kernel_size, strides=strides, dilation_rate=dilation_rate,\n",
        "                   data_format=data_format, kernel_regularizer=reg)(x)\n",
        "        x = BatchNormalization()(x)\n",
        "        return x\n",
        "    x1 = conv_bn(x, ch_inp, [2, 2], strides=[2, 2])\n",
        "    x2 = conv_bn(g, ch_inp, [1, 1], strides=[1, 1], dilation_rate=i)\n",
        "    f = LeakyReLU(alpha=0.001)(Add()([x1, x2]))\n",
        "    x3 = conv_bn(f, 1, [1, 1], strides=[1, 1], dilation_rate=i)\n",
        "    x4 = Activation('sigmoid')(x3)\n",
        "    x5 = UpSampling2D(size=[2, 2])(x4)\n",
        "    att_x = multiply([x, x5])\n",
        "    return att_x"
      ]
    },
    {
      "cell_type": "code",
      "execution_count": null,
      "metadata": {
        "id": "j3a4tAdRlLWV"
      },
      "outputs": [],
      "source": [
        "from tensorflow.keras.layers import Conv2D, BatchNormalization, LeakyReLU, Add, MaxPooling2D\n",
        "from tensorflow.keras import regularizers\n",
        "\n",
        "def res_block(x, nb_filters, strides, i):\n",
        "    reg = regularizers.l2(1e-5)\n",
        "    def conv_bn_relu(x, filters, kernel_size, strides=1, dilation_rate=1, padding='same'):\n",
        "        x = Conv2D(filters=filters, kernel_size=kernel_size, strides=strides, dilation_rate=dilation_rate,\n",
        "                   padding=padding, kernel_regularizer=reg)(x)\n",
        "        x = BatchNormalization()(x)\n",
        "        x = LeakyReLU(alpha=0.001)(x)\n",
        "        return x\n",
        "    # Initial batch normalization and pooling\n",
        "    res_inp = BatchNormalization()(x)\n",
        "    res_inp = LeakyReLU(alpha=0.001)(res_inp)\n",
        "    pool = MaxPooling2D(pool_size=(2, 2))(res_inp)\n",
        "    # conv-BN-ReLU\n",
        "    res_inp = conv_bn_relu(pool, nb_filters[0], (3, 3), strides=strides[1], dilation_rate=i)\n",
        "    res_inp = conv_bn_relu(res_inp, nb_filters[1], (3, 3), strides=strides[1], dilation_rate=i)\n",
        "    shortcut = Conv2D(nb_filters[1], (1, 1), strides=strides[1], dilation_rate=i, padding='same',\n",
        "                      kernel_regularizer=reg)(pool)\n",
        "    shortcut = BatchNormalization()(shortcut)\n",
        "    res_inp = Add()([shortcut, res_inp])\n",
        "    return res_inp\n"
      ]
    },
    {
      "cell_type": "code",
      "execution_count": null,
      "metadata": {
        "id": "J7hpdbkfh0it"
      },
      "outputs": [],
      "source": [
        "def contraction(x):\n",
        "    to_expansion = []\n",
        "\n",
        "    con_inp = Conv2D(filters=64, kernel_size=(3, 3), padding='same',dilation_rate=(1,1), strides=(1, 1), kernel_regularizer=regularizers.l2(1e-5))(x)\n",
        "    con_inp = BatchNormalization()(con_inp)\n",
        "    con_inp = LeakyReLU(alpha=0.001)(con_inp)\n",
        "\n",
        "    con_inp = Conv2D(filters=64, kernel_size=(3, 3), padding='same',dilation_rate=(1,1),strides=(1, 1), kernel_regularizer=regularizers.l2(1e-5))(con_inp)\n",
        "\n",
        "    shortcut = Conv2D(filters=64, kernel_size=(1, 1), strides=(1, 1),dilation_rate=(1,1), kernel_regularizer=regularizers.l2(1e-5))(x)\n",
        "    shortcut = BatchNormalization()(shortcut)\n",
        "\n",
        "    con_inp = Add()([shortcut, con_inp])\n",
        "\n",
        "    # first branching to expansion\n",
        "    to_expansion.append(con_inp)\n",
        "\n",
        "    con_inp = res_block(con_inp, [128, 128], [(2, 2), (1, 1)],(1,1))\n",
        "    to_expansion.append(con_inp)\n",
        "\n",
        "    con_inp = res_block(con_inp, [256, 256], [(2, 2), (1, 1)],(2,2))\n",
        "    to_expansion.append(con_inp)\n",
        "\n",
        "    con_inp = res_block(con_inp, [512, 512], [(2, 2), (1, 1)],(4,4))\n",
        "    to_expansion.append(con_inp)\n",
        "\n",
        "    return to_expansion"
      ]
    },
    {
      "cell_type": "code",
      "execution_count": null,
      "metadata": {
        "id": "d21KxhILicou"
      },
      "outputs": [],
      "source": [
        "def res_block_expansion(x, nb_filters, strides,i):\n",
        "\n",
        "    res_path = BatchNormalization()(x)\n",
        "    res_path = LeakyReLU(alpha=0.001)(res_path)\n",
        "    res_path = Conv2D(filters=nb_filters[0], kernel_size=(3, 3), padding='same', dilation_rate=i, strides=strides[1], kernel_regularizer=regularizers.l2(1e-5))(res_path)\n",
        "    res_path = BatchNormalization()(res_path)\n",
        "    res_path = LeakyReLU(alpha=0.001)(res_path)\n",
        "    res_path = Conv2D(filters=nb_filters[1], kernel_size=(3, 3), padding='same', dilation_rate=i, strides=strides[1], kernel_regularizer=regularizers.l2(1e-5))(res_path)\n",
        "\n",
        "    shortcut = Conv2D(nb_filters[1], kernel_size=(1, 1), strides=strides[1], dilation_rate=i, kernel_regularizer=regularizers.l2(1e-5))(x)\n",
        "    shortcut = BatchNormalization()(shortcut)\n",
        "\n",
        "    res_path = Add()([shortcut, res_path])\n",
        "\n",
        "    return res_path\n"
      ]
    },
    {
      "cell_type": "code",
      "execution_count": null,
      "metadata": {
        "id": "c-LRm-5iElVi"
      },
      "outputs": [],
      "source": [
        "def expansion(x, from_contraction):\n",
        "\n",
        "    # Layer 4\n",
        "    ieg_path1 = ieg_block2d(from_contraction[3], x, 256, (1,1), data_format='channels_last')\n",
        "\n",
        "    exp_inp1 = Conv2DTranspose(512, (2, 2), strides=(2, 2), padding='same',dilation_rate=(1,1),kernel_regularizer=regularizers.l2(1e-5))(x)\n",
        "    exp_inp1 = Concatenate()([exp_inp1,ieg_path1])\n",
        "    exp_inp1 = res_block_expansion(exp_inp1, [512, 512], [(1, 1), (1, 1)],(4,4))\n",
        "\n",
        "    hc1 = trans_conv_operation(exp_inp1)\n",
        "    out_1 = Conv2D(filters=4, kernel_size=(1, 1), activation='softmax', name='out_1')(hc1)\n",
        "\n",
        "\n",
        "    # Layer 3\n",
        "    ieg_path2 = ieg_block2d(from_contraction[2],exp_inp1 ,128,(1,1),data_format='channels_last')\n",
        "\n",
        "    exp_inp2 = Conv2DTranspose(256, (2, 2), strides=(2, 2), dilation_rate=(1,1), padding='same', kernel_regularizer=regularizers.l2(1e-5))(exp_inp1)\n",
        "    exp_inp2 = Concatenate()([exp_inp2,ieg_path2])\n",
        "    exp_inp2 = res_block_expansion(exp_inp2, [256, 256], [(1, 1), (1, 1)],(2,2))\n",
        "\n",
        "    hc2 = trans_conv_operation_two(exp_inp2)\n",
        "    out_2 = Conv2D(filters=4, kernel_size=(1, 1), activation='softmax', name='out_2')(hc2)\n",
        "\n",
        "\n",
        "    # Layer 2\n",
        "    ieg_path3 = ieg_block2d(from_contraction[1],exp_inp2,64,(1,1),data_format='channels_last')\n",
        "\n",
        "    exp_inp3 = Conv2DTranspose(128, (2, 2), strides=(2, 2), padding='same',dilation_rate=(1,1), kernel_regularizer=regularizers.l2(1e-5)) (exp_inp2)\n",
        "    exp_inp3 = Concatenate()([exp_inp3,ieg_path3])\n",
        "    exp_inp3 = res_block_expansion(exp_inp3, [128, 128], [(1, 1), (1, 1)],(1,1))\n",
        "\n",
        "    hc3 = trans_conv_operation_one(exp_inp3)\n",
        "    out_3 = Conv2D(filters=4, kernel_size=(1, 1), activation='softmax', name='out_3')(hc3)\n",
        "\n",
        "\n",
        "    # Layer 1\n",
        "    ieg_path4 = ieg_block2d(from_contraction[0],exp_inp3,32,(1,1),data_format='channels_last')\n",
        "\n",
        "    exp_inp4 = Conv2DTranspose(64, (2, 2), strides=(2, 2), padding='same',dilation_rate=(1,1),kernel_regularizer=regularizers.l2(1e-5)) (exp_inp3)\n",
        "    exp_inp4 = Concatenate()([exp_inp4,ieg_path4])\n",
        "    exp_inp4 = res_block_expansion(exp_inp4, [64, 64], [(1, 1), (1, 1)],(1,1))\n",
        "\n",
        "    return exp_inp4, out_3, out_2, out_1"
      ]
    },
    {
      "cell_type": "code",
      "execution_count": null,
      "metadata": {
        "id": "7zW8NdlotSOe"
      },
      "outputs": [],
      "source": [
        "def trans_conv_operation(input_val):\n",
        "    tran_x1 = Conv2DTranspose(256, (2, 2), strides=(2, 2), padding='same',dilation_rate=(1,1),kernel_regularizer=regularizers.l2(1e-5)) (input_val)\n",
        "    tran_x2 = Conv2DTranspose(128, (2, 2), strides=(2, 2), padding='same',dilation_rate=(1,1), kernel_regularizer=regularizers.l2(1e-5)) (tran_x1)\n",
        "    tran_x3 = Conv2DTranspose(64, (2, 2), strides=(2, 2), padding='same',dilation_rate=(1,1), kernel_regularizer=regularizers.l2(1e-5)) (tran_x2)\n",
        "    return tran_x3\n",
        "def trans_conv_operation_two(input_val):\n",
        "    tran_x1 = Conv2DTranspose(128, (2, 2), strides=(2, 2), padding='same',dilation_rate=(1,1), kernel_regularizer=regularizers.l2(1e-5))(input_val)\n",
        "    tran_x2 = Conv2DTranspose(64, (2, 2), strides=(2, 2), padding='same',dilation_rate=(1,1) ,kernel_regularizer=regularizers.l2(1e-5))(tran_x1)\n",
        "    return tran_x2\n",
        "def trans_conv_operation_one(input_val):\n",
        "    tran_x1 = Conv2DTranspose(64, (2, 2), strides=(2, 2), padding='same',dilation_rate=(1,1), kernel_regularizer=regularizers.l2(1e-5)) (input_val)\n",
        "    return tran_x1"
      ]
    },
    {
      "cell_type": "code",
      "execution_count": null,
      "metadata": {
        "id": "sgquJ2yK7jum"
      },
      "outputs": [],
      "source": [
        "def hybrid_model(input_shape):\n",
        "    inputs = Input(shape=input_shape)\n",
        "\n",
        "    to_expansion = contraction(inputs)\n",
        "\n",
        "    path = res_block(to_expansion[3], [1024, 1024], [(2, 2), (1, 1)],(8,8))\n",
        "\n",
        "    final_out, out_3, out_2, out_1 = expansion(path, from_contraction=to_expansion)\n",
        "\n",
        "    final_out = Conv2D(filters=4, kernel_size=(1, 1), activation='sigmoid', name='final_output')(final_out)\n",
        "\n",
        "    return Model(inputs=inputs, outputs= [final_out, out_3, out_2, out_1])"
      ]
    },
    {
      "cell_type": "code",
      "execution_count": null,
      "metadata": {
        "id": "9RgxLmds6L1H"
      },
      "outputs": [],
      "source": [
        "def dice_coef_0(y_true, y_pred,smooth=0.000001):\n",
        "    y_true_f = K.flatten(y_true[:,:,:,0])\n",
        "    y_pred_f = K.flatten(y_pred[:,:,:,0])\n",
        "    intersection = K.sum(y_true_f * y_pred_f)\n",
        "    return (2. * intersection + smooth) / (K.sum(y_true_f) + K.sum(y_pred_f) + smooth)\n",
        "\n",
        "def dice_coef_1(y_true, y_pred,smooth=0.000001):\n",
        "    y_true_f = K.flatten(y_true[:,:,:,1])\n",
        "    y_pred_f = K.flatten(y_pred[:,:,:,1])\n",
        "    intersection = K.sum(y_true_f * y_pred_f)\n",
        "    return (2. * intersection + smooth) / (K.sum(y_true_f) + K.sum(y_pred_f) + smooth)\n",
        "\n",
        "def dice_coef_2(y_true, y_pred,smooth=0.000001):\n",
        "    y_true_f = K.flatten(y_true[:,:,:,2])\n",
        "    y_pred_f = K.flatten(y_pred[:,:,:,2])\n",
        "    intersection = K.sum(y_true_f * y_pred_f)\n",
        "    return (2. * intersection + smooth) / (K.sum(y_true_f) + K.sum(y_pred_f) + smooth)\n",
        "\n",
        "def dice_coef_3(y_true, y_pred,smooth=0.000001):\n",
        "    y_true_f = K.flatten(y_true[:,:,:,3])\n",
        "    y_pred_f = K.flatten(y_pred[:,:,:,3])\n",
        "    intersection = K.sum(y_true_f * y_pred_f)\n",
        "    return (2. * intersection + smooth) / (K.sum(y_true_f) + K.sum(y_pred_f) + smooth)\n",
        "\n",
        "def precision(y_true, y_pred):\n",
        "        true_positives = K.sum(K.round(K.clip(y_true * y_pred, 0, 1)))\n",
        "        predicted_positives = K.sum(K.round(K.clip(y_pred, 0, 1)))\n",
        "        precision = true_positives / (predicted_positives + K.epsilon())\n",
        "        return precision\n",
        "\n",
        "def sensitivity(y_true, y_pred):\n",
        "    true_positives = K.sum(K.round(K.clip(y_true * y_pred, 0, 1)))\n",
        "    possible_positives = K.sum(K.round(K.clip(y_true, 0, 1)))\n",
        "    return true_positives / (possible_positives + K.epsilon())\n",
        "\n",
        "def specificity(y_true, y_pred):\n",
        "    true_negatives = K.sum(K.round(K.clip((1-y_true) * (1-y_pred), 0, 1)))\n",
        "    possible_negatives = K.sum(K.round(K.clip(1-y_true, 0, 1)))\n",
        "    return true_negatives / (possible_negatives + K.epsilon())"
      ]
    },
    {
      "cell_type": "code",
      "execution_count": null,
      "metadata": {
        "id": "wG0uBNMw01l7"
      },
      "outputs": [],
      "source": [
        "def dice_score(y_true, y_pred):\n",
        "    d0 = dice_coef_0(y_true, y_pred,smooth=0.000001)\n",
        "    d1 = dice_coef_1(y_true, y_pred,smooth=0.000001)\n",
        "    d2 = dice_coef_2(y_true, y_pred,smooth=0.000001)\n",
        "    d3 = dice_coef_3(y_true, y_pred,smooth=0.000001)\n",
        "\n",
        "    dice_mean = (d0+d1+d2+d3)/4\n",
        "    return dice_mean\n",
        "\n",
        "def weighted_dice_score(y_true, y_pred):\n",
        "    ds0 = dice_coef_0(y_true, y_pred,smooth=0.000001)\n",
        "    ds1 = dice_coef_1(y_true, y_pred,smooth=0.000001)\n",
        "    ds2 = dice_coef_2(y_true, y_pred,smooth=0.000001)\n",
        "    ds3 = dice_coef_3(y_true, y_pred,smooth=0.000001)\n",
        "    weighted_dice_mean = (ds0+(5*ds1)+(2*ds2)+(4*ds3))/12\n",
        "    return weighted_dice_mean\n",
        "\n",
        "def correlation_coefficient_loss(y_true, y_pred):\n",
        "    x = y_true\n",
        "    y = y_pred\n",
        "    mx = K.mean(x)\n",
        "    my = K.mean(y)\n",
        "    xm, ym = x-mx, y-my\n",
        "    r_num = K.sum(xm * ym)\n",
        "    r_den = K.sum(K.sum(K.square(xm)) * K.sum(K.square(ym)))\n",
        "    r = r_num / r_den\n",
        "    return 1 - r**2"
      ]
    },
    {
      "cell_type": "code",
      "execution_count": null,
      "metadata": {
        "id": "rGndL1I1tWSx"
      },
      "outputs": [],
      "source": [
        "def dice_loss(y_true, y_pred):\n",
        "    return 1-dice_score(y_true, y_pred)\n",
        "def weighted_dice_loss(y_true, y_pred):\n",
        "    return 1-weighted_dice_score(y_true, y_pred)"
      ]
    },
    {
      "cell_type": "code",
      "execution_count": null,
      "metadata": {
        "id": "gZW9LvrBnDlc"
      },
      "outputs": [],
      "source": [
        "import tensorflow as tf\n",
        "def weighted_log_loss(y_true, y_pred):\n",
        "    y_pred /= tf.reduce_sum(y_pred, axis=-1, keepdims=True)\n",
        "    y_pred = tf.clip_by_value(y_pred, tf.keras.backend.epsilon(), 1 - tf.keras.backend.epsilon())\n",
        "    weights = tf.constant([1, 5, 2, 4], dtype=tf.float32)\n",
        "    loss = y_true * tf.math.log(y_pred) * weights\n",
        "    loss = tf.reduce_mean(-tf.reduce_sum(loss, -1))\n",
        "    return loss\n"
      ]
    },
    {
      "cell_type": "code",
      "execution_count": null,
      "metadata": {
        "id": "CLv-6ZVynHIa"
      },
      "outputs": [],
      "source": [
        "def corr_dice_loss(y_true, y_pred):\n",
        "    return weighted_dice_loss(y_true, y_pred)+weighted_log_loss(y_true,y_pred)+correlation_coefficient_loss(y_true,y_pred)"
      ]
    },
    {
      "cell_type": "code",
      "execution_count": null,
      "metadata": {
        "id": "9mQ6z4KW8qGx"
      },
      "outputs": [],
      "source": [
        "input_shape = (240,240,4)\n",
        "losses = {\n",
        "    'final_output':corr_dice_loss,\n",
        "    'out_3':corr_dice_loss,\n",
        "    'out_2':corr_dice_loss,\n",
        "    'out_1':corr_dice_loss,\n",
        "}\n",
        "lossWeights = {\"final_output\": 0.5, \"out_3\": 0.125, \"out_2\": 0.125, \"out_1\": 0.125}"
      ]
    },
    {
      "cell_type": "code",
      "source": [
        "batch_size = 64\n",
        "image_size = 240\n",
        "epochs = 100"
      ],
      "metadata": {
        "id": "OTyZc80oICzb"
      },
      "execution_count": null,
      "outputs": []
    },
    {
      "cell_type": "code",
      "execution_count": null,
      "metadata": {
        "id": "V5MxDnLYvuIP"
      },
      "outputs": [],
      "source": [
        "model = hybrid_model(input_shape)"
      ]
    },
    {
      "cell_type": "code",
      "execution_count": null,
      "metadata": {
        "id": "gMbA5ClzaS5b",
        "colab": {
          "base_uri": "https://localhost:8080/"
        },
        "outputId": "3123ba17-8965-4956-c15d-19437834b619"
      },
      "outputs": [
        {
          "output_type": "stream",
          "name": "stderr",
          "text": [
            "/usr/local/lib/python3.10/dist-packages/keras/src/optimizers/legacy/adam.py:118: UserWarning: The `lr` argument is deprecated, use `learning_rate` instead.\n",
            "  super().__init__(name, **kwargs)\n"
          ]
        }
      ],
      "source": [
        "model.compile(optimizer=tf.keras.optimizers.legacy.Adam(lr=0.0001), loss= losses,\n",
        "              metrics=['accuracy',dice_score,precision, sensitivity, specificity])"
      ]
    },
    {
      "cell_type": "code",
      "execution_count": null,
      "metadata": {
        "id": "x6VK7GTg9LQB",
        "colab": {
          "base_uri": "https://localhost:8080/"
        },
        "outputId": "086161c6-58a9-4faa-c1e7-fb4e0f62d54a"
      },
      "outputs": [
        {
          "output_type": "stream",
          "name": "stdout",
          "text": [
            "Epoch 1/100\n",
            "8/8 [==============================] - 20s 978ms/step - loss: 12.6870 - final_output_loss: 3.2432 - out_3_loss: 3.1903 - out_2_loss: 3.0974 - out_1_loss: 3.0390 - final_output_accuracy: 0.4380 - final_output_dice_score: 0.2006 - final_output_precision: 0.3605 - final_output_sensitivity: 0.6796 - final_output_specificity: 0.5969 - out_3_accuracy: 0.5852 - out_3_dice_score: 0.1450 - out_3_precision: 0.5822 - out_3_sensitivity: 0.2069 - out_3_specificity: 0.9637 - out_2_accuracy: 0.6333 - out_2_dice_score: 0.1455 - out_2_precision: 0.7407 - out_2_sensitivity: 0.1832 - out_2_specificity: 0.9878 - out_1_accuracy: 0.7016 - out_1_dice_score: 0.1484 - out_1_precision: 0.7984 - out_1_sensitivity: 0.2212 - out_1_specificity: 0.9957 - val_loss: 13.4980 - val_final_output_loss: 3.3148 - val_out_3_loss: 3.3427 - val_out_2_loss: 3.3617 - val_out_1_loss: 3.3617 - val_final_output_accuracy: 0.7362 - val_final_output_dice_score: 0.1956 - val_final_output_precision: 0.5344 - val_final_output_sensitivity: 0.9641 - val_final_output_specificity: 0.7200 - val_out_3_accuracy: 0.7503 - val_out_3_dice_score: 0.1236 - val_out_3_precision: 0.0000e+00 - val_out_3_sensitivity: 0.0000e+00 - val_out_3_specificity: 1.0000 - val_out_2_accuracy: 0.9315 - val_out_2_dice_score: 0.1215 - val_out_2_precision: 0.0000e+00 - val_out_2_sensitivity: 0.0000e+00 - val_out_2_specificity: 1.0000 - val_out_1_accuracy: 0.9682 - val_out_1_dice_score: 0.1215 - val_out_1_precision: 0.0000e+00 - val_out_1_sensitivity: 0.0000e+00 - val_out_1_specificity: 1.0000\n",
            "Epoch 2/100\n",
            "8/8 [==============================] - 3s 358ms/step - loss: 9.9028 - final_output_loss: 2.7001 - out_3_loss: 2.4516 - out_2_loss: 2.3659 - out_1_loss: 2.2681 - final_output_accuracy: 0.7103 - final_output_dice_score: 0.2514 - final_output_precision: 0.5203 - final_output_sensitivity: 0.9862 - final_output_specificity: 0.6965 - out_3_accuracy: 0.9411 - out_3_dice_score: 0.2238 - out_3_precision: 0.9735 - out_3_sensitivity: 0.8544 - out_3_specificity: 0.9922 - out_2_accuracy: 0.9659 - out_2_dice_score: 0.2358 - out_2_precision: 0.9772 - out_2_sensitivity: 0.8949 - out_2_specificity: 0.9929 - out_1_accuracy: 0.9724 - out_1_dice_score: 0.2534 - out_1_precision: 0.9734 - out_1_sensitivity: 0.9513 - out_1_specificity: 0.9913 - val_loss: 12.5351 - val_final_output_loss: 3.2178 - val_out_3_loss: 3.1907 - val_out_2_loss: 3.0598 - val_out_1_loss: 2.9498 - val_final_output_accuracy: 0.7350 - val_final_output_dice_score: 0.2066 - val_final_output_precision: 0.5387 - val_final_output_sensitivity: 0.9774 - val_final_output_specificity: 0.7210 - val_out_3_accuracy: 0.8671 - val_out_3_dice_score: 0.1378 - val_out_3_precision: 0.0000e+00 - val_out_3_sensitivity: 0.0000e+00 - val_out_3_specificity: 1.0000 - val_out_2_accuracy: 0.9669 - val_out_2_dice_score: 0.1514 - val_out_2_precision: 0.0000e+00 - val_out_2_sensitivity: 0.0000e+00 - val_out_2_specificity: 1.0000 - val_out_1_accuracy: 0.9690 - val_out_1_dice_score: 0.1633 - val_out_1_precision: 0.9999 - val_out_1_sensitivity: 0.0433 - val_out_1_specificity: 1.0000\n",
            "Epoch 3/100\n",
            "8/8 [==============================] - 2s 311ms/step - loss: 9.1617 - final_output_loss: 2.5182 - out_3_loss: 2.1899 - out_2_loss: 2.1539 - out_1_loss: 2.1825 - final_output_accuracy: 0.7331 - final_output_dice_score: 0.2767 - final_output_precision: 0.5303 - final_output_sensitivity: 0.9983 - final_output_specificity: 0.7050 - out_3_accuracy: 0.9647 - out_3_dice_score: 0.2813 - out_3_precision: 0.9817 - out_3_sensitivity: 0.9250 - out_3_specificity: 0.9940 - out_2_accuracy: 0.9631 - out_2_dice_score: 0.2947 - out_2_precision: 0.9791 - out_2_sensitivity: 0.9385 - out_2_specificity: 0.9931 - out_1_accuracy: 0.9526 - out_1_dice_score: 0.2979 - out_1_precision: 0.9789 - out_1_sensitivity: 0.9268 - out_1_specificity: 0.9931 - val_loss: 10.9371 - val_final_output_loss: 3.1364 - val_out_3_loss: 2.8332 - val_out_2_loss: 2.4869 - val_out_1_loss: 2.3636 - val_final_output_accuracy: 0.7395 - val_final_output_dice_score: 0.2180 - val_final_output_precision: 0.5335 - val_final_output_sensitivity: 0.9921 - val_final_output_specificity: 0.7108 - val_out_3_accuracy: 0.9579 - val_out_3_dice_score: 0.1779 - val_out_3_precision: 0.9999 - val_out_3_sensitivity: 0.3460 - val_out_3_specificity: 1.0000 - val_out_2_accuracy: 0.9696 - val_out_2_dice_score: 0.2223 - val_out_2_precision: 0.9812 - val_out_2_sensitivity: 0.8716 - val_out_2_specificity: 0.9944 - val_out_1_accuracy: 0.9696 - val_out_1_dice_score: 0.2378 - val_out_1_precision: 0.9633 - val_out_1_sensitivity: 0.9633 - val_out_1_specificity: 0.9878\n",
            "Epoch 4/100\n",
            "8/8 [==============================] - 2s 312ms/step - loss: 8.8499 - final_output_loss: 2.4208 - out_3_loss: 2.1018 - out_2_loss: 2.0862 - out_1_loss: 2.1239 - final_output_accuracy: 0.7600 - final_output_dice_score: 0.2803 - final_output_precision: 0.5507 - final_output_sensitivity: 0.9982 - final_output_specificity: 0.7280 - out_3_accuracy: 0.9701 - out_3_dice_score: 0.3025 - out_3_precision: 0.9813 - out_3_sensitivity: 0.9509 - out_3_specificity: 0.9938 - out_2_accuracy: 0.9687 - out_2_dice_score: 0.3127 - out_2_precision: 0.9809 - out_2_sensitivity: 0.9523 - out_2_specificity: 0.9937 - out_1_accuracy: 0.9652 - out_1_dice_score: 0.3084 - out_1_precision: 0.9795 - out_1_sensitivity: 0.9495 - out_1_specificity: 0.9932 - val_loss: 10.2485 - val_final_output_loss: 3.0070 - val_out_3_loss: 2.4983 - val_out_2_loss: 2.3056 - val_out_1_loss: 2.3205 - val_final_output_accuracy: 0.7514 - val_final_output_dice_score: 0.2312 - val_final_output_precision: 0.5412 - val_final_output_sensitivity: 0.9974 - val_final_output_specificity: 0.7180 - val_out_3_accuracy: 0.9696 - val_out_3_dice_score: 0.2203 - val_out_3_precision: 0.9810 - val_out_3_sensitivity: 0.8852 - val_out_3_specificity: 0.9943 - val_out_2_accuracy: 0.9696 - val_out_2_dice_score: 0.2492 - val_out_2_precision: 0.9633 - val_out_2_sensitivity: 0.9633 - val_out_2_specificity: 0.9878 - val_out_1_accuracy: 0.9696 - val_out_1_dice_score: 0.2505 - val_out_1_precision: 0.9633 - val_out_1_sensitivity: 0.9633 - val_out_1_specificity: 0.9878\n",
            "Epoch 5/100\n",
            "8/8 [==============================] - 2s 313ms/step - loss: 8.5372 - final_output_loss: 2.3557 - out_3_loss: 2.0294 - out_2_loss: 2.0215 - out_1_loss: 2.0134 - final_output_accuracy: 0.7820 - final_output_dice_score: 0.2747 - final_output_precision: 0.5744 - final_output_sensitivity: 0.9983 - final_output_specificity: 0.7533 - out_3_accuracy: 0.9704 - out_3_dice_score: 0.3141 - out_3_precision: 0.9899 - out_3_sensitivity: 0.9510 - out_3_specificity: 0.9966 - out_2_accuracy: 0.9692 - out_2_dice_score: 0.3201 - out_2_precision: 0.9888 - out_2_sensitivity: 0.9531 - out_2_specificity: 0.9962 - out_1_accuracy: 0.9689 - out_1_dice_score: 0.3262 - out_1_precision: 0.9913 - out_1_sensitivity: 0.9514 - out_1_specificity: 0.9970 - val_loss: 10.0972 - val_final_output_loss: 2.8741 - val_out_3_loss: 2.3928 - val_out_2_loss: 2.3142 - val_out_1_loss: 2.3990 - val_final_output_accuracy: 0.7674 - val_final_output_dice_score: 0.2402 - val_final_output_precision: 0.5598 - val_final_output_sensitivity: 0.9974 - val_final_output_specificity: 0.7384 - val_out_3_accuracy: 0.9696 - val_out_3_dice_score: 0.2344 - val_out_3_precision: 0.9656 - val_out_3_sensitivity: 0.9565 - val_out_3_specificity: 0.9886 - val_out_2_accuracy: 0.9696 - val_out_2_dice_score: 0.2499 - val_out_2_precision: 0.9633 - val_out_2_sensitivity: 0.9633 - val_out_2_specificity: 0.9878 - val_out_1_accuracy: 0.9696 - val_out_1_dice_score: 0.2486 - val_out_1_precision: 0.9633 - val_out_1_sensitivity: 0.9633 - val_out_1_specificity: 0.9878\n",
            "Epoch 6/100\n",
            "8/8 [==============================] - 2s 313ms/step - loss: 8.8222 - final_output_loss: 2.3433 - out_3_loss: 2.1200 - out_2_loss: 2.1379 - out_1_loss: 2.1040 - final_output_accuracy: 0.7913 - final_output_dice_score: 0.2880 - final_output_precision: 0.5839 - final_output_sensitivity: 0.9966 - final_output_specificity: 0.7631 - out_3_accuracy: 0.9598 - out_3_dice_score: 0.3195 - out_3_precision: 0.9838 - out_3_sensitivity: 0.9425 - out_3_specificity: 0.9944 - out_2_accuracy: 0.9586 - out_2_dice_score: 0.3173 - out_2_precision: 0.9812 - out_2_sensitivity: 0.9430 - out_2_specificity: 0.9936 - out_1_accuracy: 0.9687 - out_1_dice_score: 0.3295 - out_1_precision: 0.9813 - out_1_sensitivity: 0.9591 - out_1_specificity: 0.9937 - val_loss: 10.1528 - val_final_output_loss: 2.7681 - val_out_3_loss: 2.2834 - val_out_2_loss: 2.4768 - val_out_1_loss: 2.5074 - val_final_output_accuracy: 0.8099 - val_final_output_dice_score: 0.2557 - val_final_output_precision: 0.5631 - val_final_output_sensitivity: 0.9944 - val_final_output_specificity: 0.7427 - val_out_3_accuracy: 0.9696 - val_out_3_dice_score: 0.2553 - val_out_3_precision: 0.9633 - val_out_3_sensitivity: 0.9633 - val_out_3_specificity: 0.9878 - val_out_2_accuracy: 0.9696 - val_out_2_dice_score: 0.2475 - val_out_2_precision: 0.9633 - val_out_2_sensitivity: 0.9633 - val_out_2_specificity: 0.9878 - val_out_1_accuracy: 0.9696 - val_out_1_dice_score: 0.2466 - val_out_1_precision: 0.9633 - val_out_1_sensitivity: 0.9633 - val_out_1_specificity: 0.9878\n",
            "Epoch 7/100\n",
            "8/8 [==============================] - 2s 314ms/step - loss: 8.5595 - final_output_loss: 2.3274 - out_3_loss: 2.0420 - out_2_loss: 2.0403 - out_1_loss: 2.0328 - final_output_accuracy: 0.7917 - final_output_dice_score: 0.3001 - final_output_precision: 0.5949 - final_output_sensitivity: 0.9973 - final_output_specificity: 0.7735 - out_3_accuracy: 0.9615 - out_3_dice_score: 0.3515 - out_3_precision: 0.9856 - out_3_sensitivity: 0.9411 - out_3_specificity: 0.9949 - out_2_accuracy: 0.9561 - out_2_dice_score: 0.3527 - out_2_precision: 0.9878 - out_2_sensitivity: 0.9328 - out_2_specificity: 0.9956 - out_1_accuracy: 0.9593 - out_1_dice_score: 0.3543 - out_1_precision: 0.9892 - out_1_sensitivity: 0.9369 - out_1_specificity: 0.9960 - val_loss: 10.3049 - val_final_output_loss: 2.6471 - val_out_3_loss: 2.3178 - val_out_2_loss: 2.5630 - val_out_1_loss: 2.6600 - val_final_output_accuracy: 0.8463 - val_final_output_dice_score: 0.2628 - val_final_output_precision: 0.6210 - val_final_output_sensitivity: 0.9919 - val_final_output_specificity: 0.7981 - val_out_3_accuracy: 0.9696 - val_out_3_dice_score: 0.2516 - val_out_3_precision: 0.9633 - val_out_3_sensitivity: 0.9633 - val_out_3_specificity: 0.9878 - val_out_2_accuracy: 0.9696 - val_out_2_dice_score: 0.2460 - val_out_2_precision: 0.9633 - val_out_2_sensitivity: 0.9633 - val_out_2_specificity: 0.9878 - val_out_1_accuracy: 0.9696 - val_out_1_dice_score: 0.2455 - val_out_1_precision: 0.9633 - val_out_1_sensitivity: 0.9633 - val_out_1_specificity: 0.9878\n",
            "Epoch 8/100\n",
            "8/8 [==============================] - 2s 310ms/step - loss: 8.3599 - final_output_loss: 2.2920 - out_3_loss: 1.9834 - out_2_loss: 1.9938 - out_1_loss: 1.9738 - final_output_accuracy: 0.8070 - final_output_dice_score: 0.2934 - final_output_precision: 0.6105 - final_output_sensitivity: 0.9978 - final_output_specificity: 0.7874 - out_3_accuracy: 0.9671 - out_3_dice_score: 0.3580 - out_3_precision: 0.9895 - out_3_sensitivity: 0.9527 - out_3_specificity: 0.9963 - out_2_accuracy: 0.9693 - out_2_dice_score: 0.3610 - out_2_precision: 0.9878 - out_2_sensitivity: 0.9569 - out_2_specificity: 0.9958 - out_1_accuracy: 0.9717 - out_1_dice_score: 0.3693 - out_1_precision: 0.9886 - out_1_sensitivity: 0.9602 - out_1_specificity: 0.9960 - val_loss: 10.4204 - val_final_output_loss: 2.5297 - val_out_3_loss: 2.3588 - val_out_2_loss: 2.6508 - val_out_1_loss: 2.7641 - val_final_output_accuracy: 0.8983 - val_final_output_dice_score: 0.2706 - val_final_output_precision: 0.6786 - val_final_output_sensitivity: 0.9871 - val_final_output_specificity: 0.8440 - val_out_3_accuracy: 0.9696 - val_out_3_dice_score: 0.2501 - val_out_3_precision: 0.9633 - val_out_3_sensitivity: 0.9633 - val_out_3_specificity: 0.9878 - val_out_2_accuracy: 0.9696 - val_out_2_dice_score: 0.2455 - val_out_2_precision: 0.9633 - val_out_2_sensitivity: 0.9633 - val_out_2_specificity: 0.9878 - val_out_1_accuracy: 0.9696 - val_out_1_dice_score: 0.2453 - val_out_1_precision: 0.9633 - val_out_1_sensitivity: 0.9633 - val_out_1_specificity: 0.9878\n",
            "Epoch 9/100\n",
            "8/8 [==============================] - 2s 304ms/step - loss: 8.3218 - final_output_loss: 2.2670 - out_3_loss: 1.9732 - out_2_loss: 1.9723 - out_1_loss: 1.9923 - final_output_accuracy: 0.8205 - final_output_dice_score: 0.3100 - final_output_precision: 0.6324 - final_output_sensitivity: 0.9972 - final_output_specificity: 0.8063 - out_3_accuracy: 0.9705 - out_3_dice_score: 0.3824 - out_3_precision: 0.9831 - out_3_sensitivity: 0.9610 - out_3_specificity: 0.9942 - out_2_accuracy: 0.9677 - out_2_dice_score: 0.3775 - out_2_precision: 0.9839 - out_2_sensitivity: 0.9556 - out_2_specificity: 0.9944 - out_1_accuracy: 0.9683 - out_1_dice_score: 0.3745 - out_1_precision: 0.9819 - out_1_sensitivity: 0.9591 - out_1_specificity: 0.9938 - val_loss: 10.2813 - val_final_output_loss: 2.4189 - val_out_3_loss: 2.3767 - val_out_2_loss: 2.6438 - val_out_1_loss: 2.7249 - val_final_output_accuracy: 0.9267 - val_final_output_dice_score: 0.2805 - val_final_output_precision: 0.7282 - val_final_output_sensitivity: 0.9831 - val_final_output_specificity: 0.8776 - val_out_3_accuracy: 0.9696 - val_out_3_dice_score: 0.2525 - val_out_3_precision: 0.9633 - val_out_3_sensitivity: 0.9633 - val_out_3_specificity: 0.9878 - val_out_2_accuracy: 0.9696 - val_out_2_dice_score: 0.2458 - val_out_2_precision: 0.9633 - val_out_2_sensitivity: 0.9633 - val_out_2_specificity: 0.9878 - val_out_1_accuracy: 0.9696 - val_out_1_dice_score: 0.2455 - val_out_1_precision: 0.9633 - val_out_1_sensitivity: 0.9633 - val_out_1_specificity: 0.9878\n",
            "Epoch 10/100\n",
            "8/8 [==============================] - 2s 312ms/step - loss: 8.3118 - final_output_loss: 2.2221 - out_3_loss: 1.9798 - out_2_loss: 1.9940 - out_1_loss: 1.9990 - final_output_accuracy: 0.8493 - final_output_dice_score: 0.3075 - final_output_precision: 0.6711 - final_output_sensitivity: 0.9970 - final_output_specificity: 0.8369 - out_3_accuracy: 0.9577 - out_3_dice_score: 0.3722 - out_3_precision: 0.9862 - out_3_sensitivity: 0.9458 - out_3_specificity: 0.9952 - out_2_accuracy: 0.9586 - out_2_dice_score: 0.3653 - out_2_precision: 0.9863 - out_2_sensitivity: 0.9468 - out_2_specificity: 0.9953 - out_1_accuracy: 0.9624 - out_1_dice_score: 0.3619 - out_1_precision: 0.9862 - out_1_sensitivity: 0.9512 - out_1_specificity: 0.9952 - val_loss: 9.9904 - val_final_output_loss: 2.3764 - val_out_3_loss: 2.3035 - val_out_2_loss: 2.5677 - val_out_1_loss: 2.6259 - val_final_output_accuracy: 0.9235 - val_final_output_dice_score: 0.2849 - val_final_output_precision: 0.7422 - val_final_output_sensitivity: 0.9827 - val_final_output_specificity: 0.8861 - val_out_3_accuracy: 0.9696 - val_out_3_dice_score: 0.2592 - val_out_3_precision: 0.9633 - val_out_3_sensitivity: 0.9633 - val_out_3_specificity: 0.9878 - val_out_2_accuracy: 0.9696 - val_out_2_dice_score: 0.2468 - val_out_2_precision: 0.9633 - val_out_2_sensitivity: 0.9633 - val_out_2_specificity: 0.9878 - val_out_1_accuracy: 0.9696 - val_out_1_dice_score: 0.2464 - val_out_1_precision: 0.9633 - val_out_1_sensitivity: 0.9633 - val_out_1_specificity: 0.9878\n",
            "Epoch 11/100\n",
            "8/8 [==============================] - 2s 310ms/step - loss: 8.2733 - final_output_loss: 2.1884 - out_3_loss: 1.9802 - out_2_loss: 1.9881 - out_1_loss: 1.9997 - final_output_accuracy: 0.8593 - final_output_dice_score: 0.3152 - final_output_precision: 0.7041 - final_output_sensitivity: 0.9951 - final_output_specificity: 0.8606 - out_3_accuracy: 0.9699 - out_3_dice_score: 0.3762 - out_3_precision: 0.9848 - out_3_sensitivity: 0.9605 - out_3_specificity: 0.9947 - out_2_accuracy: 0.9695 - out_2_dice_score: 0.3698 - out_2_precision: 0.9854 - out_2_sensitivity: 0.9605 - out_2_specificity: 0.9949 - out_1_accuracy: 0.9687 - out_1_dice_score: 0.3617 - out_1_precision: 0.9863 - out_1_sensitivity: 0.9576 - out_1_specificity: 0.9952 - val_loss: 9.7680 - val_final_output_loss: 2.3126 - val_out_3_loss: 2.2632 - val_out_2_loss: 2.5197 - val_out_1_loss: 2.5556 - val_final_output_accuracy: 0.9240 - val_final_output_dice_score: 0.2940 - val_final_output_precision: 0.7686 - val_final_output_sensitivity: 0.9813 - val_final_output_specificity: 0.9014 - val_out_3_accuracy: 0.9696 - val_out_3_dice_score: 0.2667 - val_out_3_precision: 0.9633 - val_out_3_sensitivity: 0.9633 - val_out_3_specificity: 0.9878 - val_out_2_accuracy: 0.9696 - val_out_2_dice_score: 0.2481 - val_out_2_precision: 0.9633 - val_out_2_sensitivity: 0.9633 - val_out_2_specificity: 0.9878 - val_out_1_accuracy: 0.9696 - val_out_1_dice_score: 0.2477 - val_out_1_precision: 0.9633 - val_out_1_sensitivity: 0.9633 - val_out_1_specificity: 0.9878\n",
            "Epoch 12/100\n",
            "8/8 [==============================] - 2s 311ms/step - loss: 8.1414 - final_output_loss: 2.1586 - out_3_loss: 1.9460 - out_2_loss: 1.9529 - out_1_loss: 1.9670 - final_output_accuracy: 0.8775 - final_output_dice_score: 0.3335 - final_output_precision: 0.7414 - final_output_sensitivity: 0.9920 - final_output_specificity: 0.8844 - out_3_accuracy: 0.9697 - out_3_dice_score: 0.4006 - out_3_precision: 0.9805 - out_3_sensitivity: 0.9616 - out_3_specificity: 0.9934 - out_2_accuracy: 0.9687 - out_2_dice_score: 0.3894 - out_2_precision: 0.9820 - out_2_sensitivity: 0.9592 - out_2_specificity: 0.9938 - out_1_accuracy: 0.9678 - out_1_dice_score: 0.3862 - out_1_precision: 0.9835 - out_1_sensitivity: 0.9573 - out_1_specificity: 0.9942 - val_loss: 9.8146 - val_final_output_loss: 2.2862 - val_out_3_loss: 2.2593 - val_out_2_loss: 2.5225 - val_out_1_loss: 2.6297 - val_final_output_accuracy: 0.9446 - val_final_output_dice_score: 0.2933 - val_final_output_precision: 0.8008 - val_final_output_sensitivity: 0.9786 - val_final_output_specificity: 0.9187 - val_out_3_accuracy: 0.9696 - val_out_3_dice_score: 0.2653 - val_out_3_precision: 0.9633 - val_out_3_sensitivity: 0.9633 - val_out_3_specificity: 0.9878 - val_out_2_accuracy: 0.9696 - val_out_2_dice_score: 0.2478 - val_out_2_precision: 0.9633 - val_out_2_sensitivity: 0.9633 - val_out_2_specificity: 0.9878 - val_out_1_accuracy: 0.9696 - val_out_1_dice_score: 0.2466 - val_out_1_precision: 0.9633 - val_out_1_sensitivity: 0.9633 - val_out_1_specificity: 0.9878\n",
            "Epoch 13/100\n",
            "8/8 [==============================] - 2s 314ms/step - loss: 8.3376 - final_output_loss: 2.1324 - out_3_loss: 2.0319 - out_2_loss: 2.0153 - out_1_loss: 2.0411 - final_output_accuracy: 0.8989 - final_output_dice_score: 0.3368 - final_output_precision: 0.7598 - final_output_sensitivity: 0.9944 - final_output_specificity: 0.8948 - out_3_accuracy: 0.9551 - out_3_dice_score: 0.3678 - out_3_precision: 0.9776 - out_3_sensitivity: 0.9467 - out_3_specificity: 0.9925 - out_2_accuracy: 0.9584 - out_2_dice_score: 0.3642 - out_2_precision: 0.9843 - out_2_sensitivity: 0.9484 - out_2_specificity: 0.9946 - out_1_accuracy: 0.9602 - out_1_dice_score: 0.3611 - out_1_precision: 0.9834 - out_1_sensitivity: 0.9500 - out_1_specificity: 0.9943 - val_loss: 9.6733 - val_final_output_loss: 2.2088 - val_out_3_loss: 2.2625 - val_out_2_loss: 2.5347 - val_out_1_loss: 2.5504 - val_final_output_accuracy: 0.9608 - val_final_output_dice_score: 0.3060 - val_final_output_precision: 0.8464 - val_final_output_sensitivity: 0.9752 - val_final_output_specificity: 0.9408 - val_out_3_accuracy: 0.9696 - val_out_3_dice_score: 0.2675 - val_out_3_precision: 0.9633 - val_out_3_sensitivity: 0.9633 - val_out_3_specificity: 0.9878 - val_out_2_accuracy: 0.9696 - val_out_2_dice_score: 0.2478 - val_out_2_precision: 0.9633 - val_out_2_sensitivity: 0.9633 - val_out_2_specificity: 0.9878 - val_out_1_accuracy: 0.9696 - val_out_1_dice_score: 0.2482 - val_out_1_precision: 0.9633 - val_out_1_sensitivity: 0.9633 - val_out_1_specificity: 0.9878\n",
            "Epoch 14/100\n",
            "8/8 [==============================] - 2s 311ms/step - loss: 8.0612 - final_output_loss: 2.0760 - out_3_loss: 1.9502 - out_2_loss: 1.9518 - out_1_loss: 1.9664 - final_output_accuracy: 0.9123 - final_output_dice_score: 0.3351 - final_output_precision: 0.7816 - final_output_sensitivity: 0.9958 - final_output_specificity: 0.9069 - out_3_accuracy: 0.9731 - out_3_dice_score: 0.3573 - out_3_precision: 0.9855 - out_3_sensitivity: 0.9647 - out_3_specificity: 0.9951 - out_2_accuracy: 0.9728 - out_2_dice_score: 0.3510 - out_2_precision: 0.9892 - out_2_sensitivity: 0.9619 - out_2_specificity: 0.9962 - out_1_accuracy: 0.9736 - out_1_dice_score: 0.3445 - out_1_precision: 0.9885 - out_1_sensitivity: 0.9619 - out_1_specificity: 0.9960 - val_loss: 9.7733 - val_final_output_loss: 2.2117 - val_out_3_loss: 2.2792 - val_out_2_loss: 2.5583 - val_out_1_loss: 2.6073 - val_final_output_accuracy: 0.9691 - val_final_output_dice_score: 0.2965 - val_final_output_precision: 0.9015 - val_final_output_sensitivity: 0.9701 - val_final_output_specificity: 0.9646 - val_out_3_accuracy: 0.9696 - val_out_3_dice_score: 0.2643 - val_out_3_precision: 0.9633 - val_out_3_sensitivity: 0.9633 - val_out_3_specificity: 0.9878 - val_out_2_accuracy: 0.9696 - val_out_2_dice_score: 0.2472 - val_out_2_precision: 0.9633 - val_out_2_sensitivity: 0.9633 - val_out_2_specificity: 0.9878 - val_out_1_accuracy: 0.9696 - val_out_1_dice_score: 0.2470 - val_out_1_precision: 0.9633 - val_out_1_sensitivity: 0.9633 - val_out_1_specificity: 0.9878\n",
            "Epoch 15/100\n",
            "8/8 [==============================] - 2s 312ms/step - loss: 7.9504 - final_output_loss: 2.0372 - out_3_loss: 1.9190 - out_2_loss: 1.9310 - out_1_loss: 1.9464 - final_output_accuracy: 0.9513 - final_output_dice_score: 0.3605 - final_output_precision: 0.8288 - final_output_sensitivity: 0.9939 - final_output_specificity: 0.9315 - out_3_accuracy: 0.9754 - out_3_dice_score: 0.3917 - out_3_precision: 0.9868 - out_3_sensitivity: 0.9678 - out_3_specificity: 0.9955 - out_2_accuracy: 0.9754 - out_2_dice_score: 0.3812 - out_2_precision: 0.9875 - out_2_sensitivity: 0.9668 - out_2_specificity: 0.9957 - out_1_accuracy: 0.9765 - out_1_dice_score: 0.3746 - out_1_precision: 0.9872 - out_1_sensitivity: 0.9681 - out_1_specificity: 0.9956 - val_loss: 9.7171 - val_final_output_loss: 2.1854 - val_out_3_loss: 2.2368 - val_out_2_loss: 2.5331 - val_out_1_loss: 2.6451 - val_final_output_accuracy: 0.9686 - val_final_output_dice_score: 0.3047 - val_final_output_precision: 0.9054 - val_final_output_sensitivity: 0.9704 - val_final_output_specificity: 0.9661 - val_out_3_accuracy: 0.9696 - val_out_3_dice_score: 0.2731 - val_out_3_precision: 0.9636 - val_out_3_sensitivity: 0.9633 - val_out_3_specificity: 0.9879 - val_out_2_accuracy: 0.9696 - val_out_2_dice_score: 0.2481 - val_out_2_precision: 0.9633 - val_out_2_sensitivity: 0.9633 - val_out_2_specificity: 0.9878 - val_out_1_accuracy: 0.9696 - val_out_1_dice_score: 0.2470 - val_out_1_precision: 0.9633 - val_out_1_sensitivity: 0.9633 - val_out_1_specificity: 0.9878\n",
            "Epoch 16/100\n",
            "8/8 [==============================] - 2s 311ms/step - loss: 7.9595 - final_output_loss: 1.9999 - out_3_loss: 1.9339 - out_2_loss: 1.9451 - out_1_loss: 1.9638 - final_output_accuracy: 0.9617 - final_output_dice_score: 0.3963 - final_output_precision: 0.8486 - final_output_sensitivity: 0.9929 - final_output_specificity: 0.9401 - out_3_accuracy: 0.9674 - out_3_dice_score: 0.4073 - out_3_precision: 0.9832 - out_3_sensitivity: 0.9585 - out_3_specificity: 0.9942 - out_2_accuracy: 0.9663 - out_2_dice_score: 0.3944 - out_2_precision: 0.9847 - out_2_sensitivity: 0.9559 - out_2_specificity: 0.9946 - out_1_accuracy: 0.9673 - out_1_dice_score: 0.3855 - out_1_precision: 0.9846 - out_1_sensitivity: 0.9568 - out_1_specificity: 0.9946 - val_loss: 9.7250 - val_final_output_loss: 2.2015 - val_out_3_loss: 2.2239 - val_out_2_loss: 2.5201 - val_out_1_loss: 2.6628 - val_final_output_accuracy: 0.9696 - val_final_output_dice_score: 0.2898 - val_final_output_precision: 0.9492 - val_final_output_sensitivity: 0.9655 - val_final_output_specificity: 0.9827 - val_out_3_accuracy: 0.9696 - val_out_3_dice_score: 0.2721 - val_out_3_precision: 0.9634 - val_out_3_sensitivity: 0.9633 - val_out_3_specificity: 0.9878 - val_out_2_accuracy: 0.9696 - val_out_2_dice_score: 0.2481 - val_out_2_precision: 0.9633 - val_out_2_sensitivity: 0.9633 - val_out_2_specificity: 0.9878 - val_out_1_accuracy: 0.9696 - val_out_1_dice_score: 0.2464 - val_out_1_precision: 0.9633 - val_out_1_sensitivity: 0.9633 - val_out_1_specificity: 0.9878\n",
            "Epoch 17/100\n",
            "8/8 [==============================] - 2s 305ms/step - loss: 7.8761 - final_output_loss: 1.9581 - out_3_loss: 1.9381 - out_2_loss: 1.9386 - out_1_loss: 1.9246 - final_output_accuracy: 0.9711 - final_output_dice_score: 0.4099 - final_output_precision: 0.8925 - final_output_sensitivity: 0.9909 - final_output_specificity: 0.9600 - out_3_accuracy: 0.9666 - out_3_dice_score: 0.4065 - out_3_precision: 0.9809 - out_3_sensitivity: 0.9578 - out_3_specificity: 0.9935 - out_2_accuracy: 0.9677 - out_2_dice_score: 0.3961 - out_2_precision: 0.9842 - out_2_sensitivity: 0.9572 - out_2_specificity: 0.9945 - out_1_accuracy: 0.9698 - out_1_dice_score: 0.4011 - out_1_precision: 0.9859 - out_1_sensitivity: 0.9584 - out_1_specificity: 0.9951 - val_loss: 9.5362 - val_final_output_loss: 2.1437 - val_out_3_loss: 2.1978 - val_out_2_loss: 2.5138 - val_out_1_loss: 2.5642 - val_final_output_accuracy: 0.9697 - val_final_output_dice_score: 0.3064 - val_final_output_precision: 0.9615 - val_final_output_sensitivity: 0.9640 - val_final_output_specificity: 0.9871 - val_out_3_accuracy: 0.9696 - val_out_3_dice_score: 0.2818 - val_out_3_precision: 0.9634 - val_out_3_sensitivity: 0.9633 - val_out_3_specificity: 0.9878 - val_out_2_accuracy: 0.9696 - val_out_2_dice_score: 0.2488 - val_out_2_precision: 0.9633 - val_out_2_sensitivity: 0.9633 - val_out_2_specificity: 0.9878 - val_out_1_accuracy: 0.9696 - val_out_1_dice_score: 0.2482 - val_out_1_precision: 0.9633 - val_out_1_sensitivity: 0.9633 - val_out_1_specificity: 0.9878\n",
            "Epoch 18/100\n",
            "8/8 [==============================] - 2s 314ms/step - loss: 7.8024 - final_output_loss: 1.9260 - out_3_loss: 1.9048 - out_2_loss: 1.9171 - out_1_loss: 1.9378 - final_output_accuracy: 0.9734 - final_output_dice_score: 0.4319 - final_output_precision: 0.9249 - final_output_sensitivity: 0.9886 - final_output_specificity: 0.9732 - out_3_accuracy: 0.9724 - out_3_dice_score: 0.4135 - out_3_precision: 0.9831 - out_3_sensitivity: 0.9642 - out_3_specificity: 0.9942 - out_2_accuracy: 0.9727 - out_2_dice_score: 0.4044 - out_2_precision: 0.9848 - out_2_sensitivity: 0.9638 - out_2_specificity: 0.9947 - out_1_accuracy: 0.9724 - out_1_dice_score: 0.4021 - out_1_precision: 0.9839 - out_1_sensitivity: 0.9642 - out_1_specificity: 0.9945 - val_loss: 9.5984 - val_final_output_loss: 2.1730 - val_out_3_loss: 2.2036 - val_out_2_loss: 2.5420 - val_out_1_loss: 2.5631 - val_final_output_accuracy: 0.9697 - val_final_output_dice_score: 0.3001 - val_final_output_precision: 0.9581 - val_final_output_sensitivity: 0.9647 - val_final_output_specificity: 0.9859 - val_out_3_accuracy: 0.9696 - val_out_3_dice_score: 0.2786 - val_out_3_precision: 0.9634 - val_out_3_sensitivity: 0.9633 - val_out_3_specificity: 0.9878 - val_out_2_accuracy: 0.9696 - val_out_2_dice_score: 0.2483 - val_out_2_precision: 0.9633 - val_out_2_sensitivity: 0.9633 - val_out_2_specificity: 0.9878 - val_out_1_accuracy: 0.9696 - val_out_1_dice_score: 0.2487 - val_out_1_precision: 0.9633 - val_out_1_sensitivity: 0.9633 - val_out_1_specificity: 0.9878\n",
            "Epoch 19/100\n",
            "8/8 [==============================] - 2s 309ms/step - loss: 7.9735 - final_output_loss: 1.9424 - out_3_loss: 1.9616 - out_2_loss: 1.9674 - out_1_loss: 1.9854 - final_output_accuracy: 0.9682 - final_output_dice_score: 0.4361 - final_output_precision: 0.8930 - final_output_sensitivity: 0.9885 - final_output_specificity: 0.9602 - out_3_accuracy: 0.9639 - out_3_dice_score: 0.4135 - out_3_precision: 0.9791 - out_3_sensitivity: 0.9553 - out_3_specificity: 0.9930 - out_2_accuracy: 0.9628 - out_2_dice_score: 0.3991 - out_2_precision: 0.9810 - out_2_sensitivity: 0.9526 - out_2_specificity: 0.9935 - out_1_accuracy: 0.9618 - out_1_dice_score: 0.3911 - out_1_precision: 0.9795 - out_1_sensitivity: 0.9513 - out_1_specificity: 0.9930 - val_loss: 9.0060 - val_final_output_loss: 2.1570 - val_out_3_loss: 2.1192 - val_out_2_loss: 2.3287 - val_out_1_loss: 2.2845 - val_final_output_accuracy: 0.9478 - val_final_output_dice_score: 0.3301 - val_final_output_precision: 0.7977 - val_final_output_sensitivity: 0.9870 - val_final_output_specificity: 0.9162 - val_out_3_accuracy: 0.9690 - val_out_3_dice_score: 0.3104 - val_out_3_precision: 0.9727 - val_out_3_sensitivity: 0.9545 - val_out_3_specificity: 0.9911 - val_out_2_accuracy: 0.9696 - val_out_2_dice_score: 0.2751 - val_out_2_precision: 0.9636 - val_out_2_sensitivity: 0.9632 - val_out_2_specificity: 0.9879 - val_out_1_accuracy: 0.9696 - val_out_1_dice_score: 0.2760 - val_out_1_precision: 0.9636 - val_out_1_sensitivity: 0.9632 - val_out_1_specificity: 0.9879\n",
            "Epoch 20/100\n",
            "8/8 [==============================] - 2s 312ms/step - loss: 7.8651 - final_output_loss: 1.9111 - out_3_loss: 1.9403 - out_2_loss: 1.9330 - out_1_loss: 1.9641 - final_output_accuracy: 0.9723 - final_output_dice_score: 0.4247 - final_output_precision: 0.9142 - final_output_sensitivity: 0.9882 - final_output_specificity: 0.9691 - out_3_accuracy: 0.9711 - out_3_dice_score: 0.3911 - out_3_precision: 0.9797 - out_3_sensitivity: 0.9655 - out_3_specificity: 0.9932 - out_2_accuracy: 0.9726 - out_2_dice_score: 0.3880 - out_2_precision: 0.9831 - out_2_sensitivity: 0.9654 - out_2_specificity: 0.9942 - out_1_accuracy: 0.9714 - out_1_dice_score: 0.3770 - out_1_precision: 0.9815 - out_1_sensitivity: 0.9645 - out_1_specificity: 0.9938 - val_loss: 8.8604 - val_final_output_loss: 2.1762 - val_out_3_loss: 2.0936 - val_out_2_loss: 2.2388 - val_out_1_loss: 2.2352 - val_final_output_accuracy: 0.9386 - val_final_output_dice_score: 0.3296 - val_final_output_precision: 0.7707 - val_final_output_sensitivity: 0.9918 - val_final_output_specificity: 0.9012 - val_out_3_accuracy: 0.9698 - val_out_3_dice_score: 0.3212 - val_out_3_precision: 0.9807 - val_out_3_sensitivity: 0.9470 - val_out_3_specificity: 0.9938 - val_out_2_accuracy: 0.9696 - val_out_2_dice_score: 0.2979 - val_out_2_precision: 0.9650 - val_out_2_sensitivity: 0.9631 - val_out_2_specificity: 0.9884 - val_out_1_accuracy: 0.9696 - val_out_1_dice_score: 0.2897 - val_out_1_precision: 0.9639 - val_out_1_sensitivity: 0.9632 - val_out_1_specificity: 0.9880\n",
            "Epoch 21/100\n",
            "8/8 [==============================] - 2s 311ms/step - loss: 7.6346 - final_output_loss: 1.8499 - out_3_loss: 1.8773 - out_2_loss: 1.8868 - out_1_loss: 1.9040 - final_output_accuracy: 0.9753 - final_output_dice_score: 0.4590 - final_output_precision: 0.9277 - final_output_sensitivity: 0.9895 - final_output_specificity: 0.9743 - out_3_accuracy: 0.9726 - out_3_dice_score: 0.4244 - out_3_precision: 0.9834 - out_3_sensitivity: 0.9657 - out_3_specificity: 0.9944 - out_2_accuracy: 0.9723 - out_2_dice_score: 0.4121 - out_2_precision: 0.9840 - out_2_sensitivity: 0.9647 - out_2_specificity: 0.9945 - out_1_accuracy: 0.9718 - out_1_dice_score: 0.4056 - out_1_precision: 0.9830 - out_1_sensitivity: 0.9646 - out_1_specificity: 0.9942 - val_loss: 8.9947 - val_final_output_loss: 2.1624 - val_out_3_loss: 2.0985 - val_out_2_loss: 2.3145 - val_out_1_loss: 2.3027 - val_final_output_accuracy: 0.9566 - val_final_output_dice_score: 0.3296 - val_final_output_precision: 0.8070 - val_final_output_sensitivity: 0.9889 - val_final_output_specificity: 0.9209 - val_out_3_accuracy: 0.9703 - val_out_3_dice_score: 0.3191 - val_out_3_precision: 0.9731 - val_out_3_sensitivity: 0.9598 - val_out_3_specificity: 0.9912 - val_out_2_accuracy: 0.9697 - val_out_2_dice_score: 0.2806 - val_out_2_precision: 0.9642 - val_out_2_sensitivity: 0.9632 - val_out_2_specificity: 0.9881 - val_out_1_accuracy: 0.9697 - val_out_1_dice_score: 0.2801 - val_out_1_precision: 0.9644 - val_out_1_sensitivity: 0.9632 - val_out_1_specificity: 0.9881\n",
            "Epoch 22/100\n",
            "8/8 [==============================] - 2s 313ms/step - loss: 7.5750 - final_output_loss: 1.8517 - out_3_loss: 1.8570 - out_2_loss: 1.8700 - out_1_loss: 1.8797 - final_output_accuracy: 0.9701 - final_output_dice_score: 0.4806 - final_output_precision: 0.9158 - final_output_sensitivity: 0.9876 - final_output_specificity: 0.9697 - out_3_accuracy: 0.9676 - out_3_dice_score: 0.4536 - out_3_precision: 0.9802 - out_3_sensitivity: 0.9593 - out_3_specificity: 0.9933 - out_2_accuracy: 0.9673 - out_2_dice_score: 0.4418 - out_2_precision: 0.9819 - out_2_sensitivity: 0.9581 - out_2_specificity: 0.9938 - out_1_accuracy: 0.9674 - out_1_dice_score: 0.4369 - out_1_precision: 0.9821 - out_1_sensitivity: 0.9575 - out_1_specificity: 0.9939 - val_loss: 9.3646 - val_final_output_loss: 2.2140 - val_out_3_loss: 2.1316 - val_out_2_loss: 2.4346 - val_out_1_loss: 2.4678 - val_final_output_accuracy: 0.9517 - val_final_output_dice_score: 0.3149 - val_final_output_precision: 0.7912 - val_final_output_sensitivity: 0.9894 - val_final_output_specificity: 0.9127 - val_out_3_accuracy: 0.9686 - val_out_3_dice_score: 0.3038 - val_out_3_precision: 0.9674 - val_out_3_sensitivity: 0.9596 - val_out_3_specificity: 0.9892 - val_out_2_accuracy: 0.9696 - val_out_2_dice_score: 0.2567 - val_out_2_precision: 0.9633 - val_out_2_sensitivity: 0.9633 - val_out_2_specificity: 0.9878 - val_out_1_accuracy: 0.9696 - val_out_1_dice_score: 0.2551 - val_out_1_precision: 0.9633 - val_out_1_sensitivity: 0.9633 - val_out_1_specificity: 0.9878\n",
            "Epoch 23/100\n",
            "8/8 [==============================] - 2s 309ms/step - loss: 7.7643 - final_output_loss: 1.8988 - out_3_loss: 1.9132 - out_2_loss: 1.9212 - out_1_loss: 1.9144 - final_output_accuracy: 0.9754 - final_output_dice_score: 0.4699 - final_output_precision: 0.9397 - final_output_sensitivity: 0.9855 - final_output_specificity: 0.9789 - out_3_accuracy: 0.9748 - out_3_dice_score: 0.4419 - out_3_precision: 0.9821 - out_3_sensitivity: 0.9695 - out_3_specificity: 0.9940 - out_2_accuracy: 0.9735 - out_2_dice_score: 0.4318 - out_2_precision: 0.9822 - out_2_sensitivity: 0.9673 - out_2_specificity: 0.9940 - out_1_accuracy: 0.9739 - out_1_dice_score: 0.4362 - out_1_precision: 0.9821 - out_1_sensitivity: 0.9675 - out_1_specificity: 0.9940 - val_loss: 9.1512 - val_final_output_loss: 2.1802 - val_out_3_loss: 2.1044 - val_out_2_loss: 2.3748 - val_out_1_loss: 2.3752 - val_final_output_accuracy: 0.9425 - val_final_output_dice_score: 0.3287 - val_final_output_precision: 0.7785 - val_final_output_sensitivity: 0.9903 - val_final_output_specificity: 0.9058 - val_out_3_accuracy: 0.9688 - val_out_3_dice_score: 0.3200 - val_out_3_precision: 0.9733 - val_out_3_sensitivity: 0.9593 - val_out_3_specificity: 0.9913 - val_out_2_accuracy: 0.9696 - val_out_2_dice_score: 0.2687 - val_out_2_precision: 0.9634 - val_out_2_sensitivity: 0.9632 - val_out_2_specificity: 0.9878 - val_out_1_accuracy: 0.9696 - val_out_1_dice_score: 0.2665 - val_out_1_precision: 0.9633 - val_out_1_sensitivity: 0.9633 - val_out_1_specificity: 0.9878\n",
            "Epoch 24/100\n",
            "8/8 [==============================] - 2s 310ms/step - loss: 7.8401 - final_output_loss: 1.9041 - out_3_loss: 1.9350 - out_2_loss: 1.9315 - out_1_loss: 1.9530 - final_output_accuracy: 0.9733 - final_output_dice_score: 0.4187 - final_output_precision: 0.9263 - final_output_sensitivity: 0.9868 - final_output_specificity: 0.9738 - out_3_accuracy: 0.9718 - out_3_dice_score: 0.3892 - out_3_precision: 0.9831 - out_3_sensitivity: 0.9647 - out_3_specificity: 0.9943 - out_2_accuracy: 0.9725 - out_2_dice_score: 0.3876 - out_2_precision: 0.9840 - out_2_sensitivity: 0.9652 - out_2_specificity: 0.9946 - out_1_accuracy: 0.9736 - out_1_dice_score: 0.3886 - out_1_precision: 0.9827 - out_1_sensitivity: 0.9671 - out_1_specificity: 0.9942 - val_loss: 9.0688 - val_final_output_loss: 2.1439 - val_out_3_loss: 2.1020 - val_out_2_loss: 2.3668 - val_out_1_loss: 2.3395 - val_final_output_accuracy: 0.9562 - val_final_output_dice_score: 0.3370 - val_final_output_precision: 0.8266 - val_final_output_sensitivity: 0.9880 - val_final_output_specificity: 0.9306 - val_out_3_accuracy: 0.9682 - val_out_3_dice_score: 0.3234 - val_out_3_precision: 0.9732 - val_out_3_sensitivity: 0.9589 - val_out_3_specificity: 0.9912 - val_out_2_accuracy: 0.9696 - val_out_2_dice_score: 0.2703 - val_out_2_precision: 0.9634 - val_out_2_sensitivity: 0.9632 - val_out_2_specificity: 0.9878 - val_out_1_accuracy: 0.9696 - val_out_1_dice_score: 0.2703 - val_out_1_precision: 0.9633 - val_out_1_sensitivity: 0.9633 - val_out_1_specificity: 0.9878\n",
            "Epoch 25/100\n",
            "8/8 [==============================] - 2s 306ms/step - loss: 7.5906 - final_output_loss: 1.8479 - out_3_loss: 1.8768 - out_2_loss: 1.8706 - out_1_loss: 1.8787 - final_output_accuracy: 0.9768 - final_output_dice_score: 0.4673 - final_output_precision: 0.9468 - final_output_sensitivity: 0.9868 - final_output_specificity: 0.9815 - out_3_accuracy: 0.9759 - out_3_dice_score: 0.4332 - out_3_precision: 0.9809 - out_3_sensitivity: 0.9732 - out_3_specificity: 0.9936 - out_2_accuracy: 0.9758 - out_2_dice_score: 0.4276 - out_2_precision: 0.9827 - out_2_sensitivity: 0.9719 - out_2_specificity: 0.9942 - out_1_accuracy: 0.9750 - out_1_dice_score: 0.4228 - out_1_precision: 0.9812 - out_1_sensitivity: 0.9719 - out_1_specificity: 0.9937 - val_loss: 9.2262 - val_final_output_loss: 2.1300 - val_out_3_loss: 2.1172 - val_out_2_loss: 2.4170 - val_out_1_loss: 2.4455 - val_final_output_accuracy: 0.9670 - val_final_output_dice_score: 0.3359 - val_final_output_precision: 0.8725 - val_final_output_sensitivity: 0.9848 - val_final_output_specificity: 0.9517 - val_out_3_accuracy: 0.9690 - val_out_3_dice_score: 0.3180 - val_out_3_precision: 0.9688 - val_out_3_sensitivity: 0.9602 - val_out_3_specificity: 0.9897 - val_out_2_accuracy: 0.9697 - val_out_2_dice_score: 0.2656 - val_out_2_precision: 0.9637 - val_out_2_sensitivity: 0.9633 - val_out_2_specificity: 0.9879 - val_out_1_accuracy: 0.9696 - val_out_1_dice_score: 0.2618 - val_out_1_precision: 0.9636 - val_out_1_sensitivity: 0.9633 - val_out_1_specificity: 0.9879\n",
            "Epoch 26/100\n",
            "8/8 [==============================] - 2s 313ms/step - loss: 7.6362 - final_output_loss: 1.8393 - out_3_loss: 1.8803 - out_2_loss: 1.8987 - out_1_loss: 1.9014 - final_output_accuracy: 0.9753 - final_output_dice_score: 0.4553 - final_output_precision: 0.9299 - final_output_sensitivity: 0.9889 - final_output_specificity: 0.9751 - out_3_accuracy: 0.9707 - out_3_dice_score: 0.4247 - out_3_precision: 0.9773 - out_3_sensitivity: 0.9662 - out_3_specificity: 0.9924 - out_2_accuracy: 0.9691 - out_2_dice_score: 0.4045 - out_2_precision: 0.9815 - out_2_sensitivity: 0.9630 - out_2_specificity: 0.9938 - out_1_accuracy: 0.9725 - out_1_dice_score: 0.4095 - out_1_precision: 0.9811 - out_1_sensitivity: 0.9674 - out_1_specificity: 0.9937 - val_loss: 9.0843 - val_final_output_loss: 2.1343 - val_out_3_loss: 2.0969 - val_out_2_loss: 2.3582 - val_out_1_loss: 2.3786 - val_final_output_accuracy: 0.9535 - val_final_output_dice_score: 0.3380 - val_final_output_precision: 0.8314 - val_final_output_sensitivity: 0.9861 - val_final_output_specificity: 0.9330 - val_out_3_accuracy: 0.9695 - val_out_3_dice_score: 0.3280 - val_out_3_precision: 0.9745 - val_out_3_sensitivity: 0.9581 - val_out_3_specificity: 0.9917 - val_out_2_accuracy: 0.9696 - val_out_2_dice_score: 0.2766 - val_out_2_precision: 0.9637 - val_out_2_sensitivity: 0.9632 - val_out_2_specificity: 0.9879 - val_out_1_accuracy: 0.9697 - val_out_1_dice_score: 0.2735 - val_out_1_precision: 0.9638 - val_out_1_sensitivity: 0.9632 - val_out_1_specificity: 0.9879\n",
            "Epoch 27/100\n",
            "8/8 [==============================] - 2s 311ms/step - loss: 7.8933 - final_output_loss: 1.9109 - out_3_loss: 1.9519 - out_2_loss: 1.9494 - out_1_loss: 1.9646 - final_output_accuracy: 0.9690 - final_output_dice_score: 0.4912 - final_output_precision: 0.9365 - final_output_sensitivity: 0.9807 - final_output_specificity: 0.9778 - out_3_accuracy: 0.9699 - out_3_dice_score: 0.4517 - out_3_precision: 0.9754 - out_3_sensitivity: 0.9658 - out_3_specificity: 0.9917 - out_2_accuracy: 0.9682 - out_2_dice_score: 0.4420 - out_2_precision: 0.9780 - out_2_sensitivity: 0.9625 - out_2_specificity: 0.9925 - out_1_accuracy: 0.9665 - out_1_dice_score: 0.4298 - out_1_precision: 0.9759 - out_1_sensitivity: 0.9607 - out_1_specificity: 0.9919 - val_loss: 8.7685 - val_final_output_loss: 2.1282 - val_out_3_loss: 2.0569 - val_out_2_loss: 2.2423 - val_out_1_loss: 2.2248 - val_final_output_accuracy: 0.9495 - val_final_output_dice_score: 0.3476 - val_final_output_precision: 0.8018 - val_final_output_sensitivity: 0.9906 - val_final_output_specificity: 0.9182 - val_out_3_accuracy: 0.9662 - val_out_3_dice_score: 0.3453 - val_out_3_precision: 0.9779 - val_out_3_sensitivity: 0.9516 - val_out_3_specificity: 0.9929 - val_out_2_accuracy: 0.9700 - val_out_2_dice_score: 0.3022 - val_out_2_precision: 0.9657 - val_out_2_sensitivity: 0.9624 - val_out_2_specificity: 0.9886 - val_out_1_accuracy: 0.9701 - val_out_1_dice_score: 0.2999 - val_out_1_precision: 0.9655 - val_out_1_sensitivity: 0.9624 - val_out_1_specificity: 0.9885\n",
            "Epoch 28/100\n",
            "8/8 [==============================] - 2s 312ms/step - loss: 7.7378 - final_output_loss: 1.8830 - out_3_loss: 1.9192 - out_2_loss: 1.8975 - out_1_loss: 1.9216 - final_output_accuracy: 0.9729 - final_output_dice_score: 0.4246 - final_output_precision: 0.9207 - final_output_sensitivity: 0.9865 - final_output_specificity: 0.9717 - out_3_accuracy: 0.9641 - out_3_dice_score: 0.3849 - out_3_precision: 0.9768 - out_3_sensitivity: 0.9555 - out_3_specificity: 0.9923 - out_2_accuracy: 0.9699 - out_2_dice_score: 0.3930 - out_2_precision: 0.9836 - out_2_sensitivity: 0.9606 - out_2_specificity: 0.9944 - out_1_accuracy: 0.9704 - out_1_dice_score: 0.3829 - out_1_precision: 0.9813 - out_1_sensitivity: 0.9615 - out_1_specificity: 0.9937 - val_loss: 8.7713 - val_final_output_loss: 2.1677 - val_out_3_loss: 2.0594 - val_out_2_loss: 2.2005 - val_out_1_loss: 2.2272 - val_final_output_accuracy: 0.9371 - val_final_output_dice_score: 0.3387 - val_final_output_precision: 0.7611 - val_final_output_sensitivity: 0.9880 - val_final_output_specificity: 0.8965 - val_out_3_accuracy: 0.9648 - val_out_3_dice_score: 0.3436 - val_out_3_precision: 0.9792 - val_out_3_sensitivity: 0.9463 - val_out_3_specificity: 0.9933 - val_out_2_accuracy: 0.9713 - val_out_2_dice_score: 0.3191 - val_out_2_precision: 0.9682 - val_out_2_sensitivity: 0.9622 - val_out_2_specificity: 0.9895 - val_out_1_accuracy: 0.9710 - val_out_1_dice_score: 0.3074 - val_out_1_precision: 0.9671 - val_out_1_sensitivity: 0.9623 - val_out_1_specificity: 0.9891\n",
            "Epoch 29/100\n",
            "8/8 [==============================] - 2s 315ms/step - loss: 7.5761 - final_output_loss: 1.8540 - out_3_loss: 1.8634 - out_2_loss: 1.8640 - out_1_loss: 1.8783 - final_output_accuracy: 0.9765 - final_output_dice_score: 0.4888 - final_output_precision: 0.9527 - final_output_sensitivity: 0.9840 - final_output_specificity: 0.9837 - out_3_accuracy: 0.9793 - out_3_dice_score: 0.4731 - out_3_precision: 0.9833 - out_3_sensitivity: 0.9755 - out_3_specificity: 0.9944 - out_2_accuracy: 0.9787 - out_2_dice_score: 0.4669 - out_2_precision: 0.9836 - out_2_sensitivity: 0.9742 - out_2_specificity: 0.9944 - out_1_accuracy: 0.9776 - out_1_dice_score: 0.4606 - out_1_precision: 0.9821 - out_1_sensitivity: 0.9732 - out_1_specificity: 0.9940 - val_loss: 8.5935 - val_final_output_loss: 2.2103 - val_out_3_loss: 2.0640 - val_out_2_loss: 2.0821 - val_out_1_loss: 2.1206 - val_final_output_accuracy: 0.8969 - val_final_output_dice_score: 0.3326 - val_final_output_precision: 0.7177 - val_final_output_sensitivity: 0.9682 - val_final_output_specificity: 0.8727 - val_out_3_accuracy: 0.9484 - val_out_3_dice_score: 0.3477 - val_out_3_precision: 0.9833 - val_out_3_sensitivity: 0.9182 - val_out_3_specificity: 0.9948 - val_out_2_accuracy: 0.9710 - val_out_2_dice_score: 0.3486 - val_out_2_precision: 0.9754 - val_out_2_sensitivity: 0.9602 - val_out_2_specificity: 0.9920 - val_out_1_accuracy: 0.9706 - val_out_1_dice_score: 0.3328 - val_out_1_precision: 0.9703 - val_out_1_sensitivity: 0.9601 - val_out_1_specificity: 0.9902\n",
            "Epoch 30/100\n",
            "8/8 [==============================] - 2s 314ms/step - loss: 7.5365 - final_output_loss: 1.8464 - out_3_loss: 1.8606 - out_2_loss: 1.8531 - out_1_loss: 1.8600 - final_output_accuracy: 0.9750 - final_output_dice_score: 0.4625 - final_output_precision: 0.9297 - final_output_sensitivity: 0.9882 - final_output_specificity: 0.9750 - out_3_accuracy: 0.9716 - out_3_dice_score: 0.4360 - out_3_precision: 0.9819 - out_3_sensitivity: 0.9649 - out_3_specificity: 0.9939 - out_2_accuracy: 0.9733 - out_2_dice_score: 0.4401 - out_2_precision: 0.9834 - out_2_sensitivity: 0.9664 - out_2_specificity: 0.9944 - out_1_accuracy: 0.9732 - out_1_dice_score: 0.4412 - out_1_precision: 0.9819 - out_1_sensitivity: 0.9666 - out_1_specificity: 0.9939 - val_loss: 8.5371 - val_final_output_loss: 2.1606 - val_out_3_loss: 2.0252 - val_out_2_loss: 2.0845 - val_out_1_loss: 2.1502 - val_final_output_accuracy: 0.9223 - val_final_output_dice_score: 0.3436 - val_final_output_precision: 0.7652 - val_final_output_sensitivity: 0.9796 - val_final_output_specificity: 0.8996 - val_out_3_accuracy: 0.9652 - val_out_3_dice_score: 0.3600 - val_out_3_precision: 0.9857 - val_out_3_sensitivity: 0.9403 - val_out_3_specificity: 0.9954 - val_out_2_accuracy: 0.9720 - val_out_2_dice_score: 0.3536 - val_out_2_precision: 0.9736 - val_out_2_sensitivity: 0.9628 - val_out_2_specificity: 0.9913 - val_out_1_accuracy: 0.9715 - val_out_1_dice_score: 0.3311 - val_out_1_precision: 0.9687 - val_out_1_sensitivity: 0.9627 - val_out_1_specificity: 0.9896\n",
            "Epoch 31/100\n",
            "8/8 [==============================] - 2s 312ms/step - loss: 7.4740 - final_output_loss: 1.8369 - out_3_loss: 1.8361 - out_2_loss: 1.8337 - out_1_loss: 1.8509 - final_output_accuracy: 0.9794 - final_output_dice_score: 0.4826 - final_output_precision: 0.9604 - final_output_sensitivity: 0.9857 - final_output_specificity: 0.9864 - out_3_accuracy: 0.9809 - out_3_dice_score: 0.4698 - out_3_precision: 0.9839 - out_3_sensitivity: 0.9781 - out_3_specificity: 0.9946 - out_2_accuracy: 0.9805 - out_2_dice_score: 0.4677 - out_2_precision: 0.9841 - out_2_sensitivity: 0.9775 - out_2_specificity: 0.9946 - out_1_accuracy: 0.9794 - out_1_dice_score: 0.4593 - out_1_precision: 0.9828 - out_1_sensitivity: 0.9764 - out_1_specificity: 0.9942 - val_loss: 8.6338 - val_final_output_loss: 2.1167 - val_out_3_loss: 2.0462 - val_out_2_loss: 2.1335 - val_out_1_loss: 2.2210 - val_final_output_accuracy: 0.9562 - val_final_output_dice_score: 0.3482 - val_final_output_precision: 0.8570 - val_final_output_sensitivity: 0.9811 - val_final_output_specificity: 0.9454 - val_out_3_accuracy: 0.9680 - val_out_3_dice_score: 0.3500 - val_out_3_precision: 0.9764 - val_out_3_sensitivity: 0.9538 - val_out_3_specificity: 0.9923 - val_out_2_accuracy: 0.9712 - val_out_2_dice_score: 0.3396 - val_out_2_precision: 0.9699 - val_out_2_sensitivity: 0.9614 - val_out_2_specificity: 0.9900 - val_out_1_accuracy: 0.9709 - val_out_1_dice_score: 0.3178 - val_out_1_precision: 0.9679 - val_out_1_sensitivity: 0.9618 - val_out_1_specificity: 0.9894\n",
            "Epoch 32/100\n",
            "8/8 [==============================] - 2s 310ms/step - loss: 7.7535 - final_output_loss: 1.8866 - out_3_loss: 1.9061 - out_2_loss: 1.9165 - out_1_loss: 1.9279 - final_output_accuracy: 0.9685 - final_output_dice_score: 0.4641 - final_output_precision: 0.9228 - final_output_sensitivity: 0.9834 - final_output_specificity: 0.9726 - out_3_accuracy: 0.9625 - out_3_dice_score: 0.4406 - out_3_precision: 0.9720 - out_3_sensitivity: 0.9560 - out_3_specificity: 0.9907 - out_2_accuracy: 0.9603 - out_2_dice_score: 0.4282 - out_2_precision: 0.9716 - out_2_sensitivity: 0.9530 - out_2_specificity: 0.9906 - out_1_accuracy: 0.9614 - out_1_dice_score: 0.4259 - out_1_precision: 0.9709 - out_1_sensitivity: 0.9547 - out_1_specificity: 0.9903 - val_loss: 8.6430 - val_final_output_loss: 2.2750 - val_out_3_loss: 2.1245 - val_out_2_loss: 2.0602 - val_out_1_loss: 2.0669 - val_final_output_accuracy: 0.8596 - val_final_output_dice_score: 0.3298 - val_final_output_precision: 0.6857 - val_final_output_sensitivity: 0.9097 - val_final_output_specificity: 0.8606 - val_out_3_accuracy: 0.9025 - val_out_3_dice_score: 0.3479 - val_out_3_precision: 0.9755 - val_out_3_sensitivity: 0.8789 - val_out_3_specificity: 0.9926 - val_out_2_accuracy: 0.9529 - val_out_2_dice_score: 0.3606 - val_out_2_precision: 0.9847 - val_out_2_sensitivity: 0.9243 - val_out_2_specificity: 0.9952 - val_out_1_accuracy: 0.9700 - val_out_1_dice_score: 0.3587 - val_out_1_precision: 0.9793 - val_out_1_sensitivity: 0.9511 - val_out_1_specificity: 0.9933\n",
            "Epoch 33/100\n",
            "8/8 [==============================] - 2s 313ms/step - loss: 7.6180 - final_output_loss: 1.8629 - out_3_loss: 1.8717 - out_2_loss: 1.8751 - out_1_loss: 1.8919 - final_output_accuracy: 0.9742 - final_output_dice_score: 0.4540 - final_output_precision: 0.9375 - final_output_sensitivity: 0.9860 - final_output_specificity: 0.9780 - out_3_accuracy: 0.9725 - out_3_dice_score: 0.4420 - out_3_precision: 0.9812 - out_3_sensitivity: 0.9674 - out_3_specificity: 0.9937 - out_2_accuracy: 0.9717 - out_2_dice_score: 0.4430 - out_2_precision: 0.9810 - out_2_sensitivity: 0.9665 - out_2_specificity: 0.9936 - out_1_accuracy: 0.9722 - out_1_dice_score: 0.4379 - out_1_precision: 0.9796 - out_1_sensitivity: 0.9673 - out_1_specificity: 0.9932 - val_loss: 8.7045 - val_final_output_loss: 2.1918 - val_out_3_loss: 2.0556 - val_out_2_loss: 2.1295 - val_out_1_loss: 2.2113 - val_final_output_accuracy: 0.8923 - val_final_output_dice_score: 0.3399 - val_final_output_precision: 0.7587 - val_final_output_sensitivity: 0.9351 - val_final_output_specificity: 0.9006 - val_out_3_accuracy: 0.9547 - val_out_3_dice_score: 0.3592 - val_out_3_precision: 0.9849 - val_out_3_sensitivity: 0.9195 - val_out_3_specificity: 0.9953 - val_out_2_accuracy: 0.9716 - val_out_2_dice_score: 0.3511 - val_out_2_precision: 0.9780 - val_out_2_sensitivity: 0.9583 - val_out_2_specificity: 0.9928 - val_out_1_accuracy: 0.9700 - val_out_1_dice_score: 0.3288 - val_out_1_precision: 0.9701 - val_out_1_sensitivity: 0.9631 - val_out_1_specificity: 0.9901\n",
            "Epoch 34/100\n",
            "8/8 [==============================] - 2s 304ms/step - loss: 7.5522 - final_output_loss: 1.8258 - out_3_loss: 1.8693 - out_2_loss: 1.8772 - out_1_loss: 1.8636 - final_output_accuracy: 0.9788 - final_output_dice_score: 0.4963 - final_output_precision: 0.9623 - final_output_sensitivity: 0.9847 - final_output_specificity: 0.9871 - out_3_accuracy: 0.9796 - out_3_dice_score: 0.4685 - out_3_precision: 0.9833 - out_3_sensitivity: 0.9775 - out_3_specificity: 0.9944 - out_2_accuracy: 0.9791 - out_2_dice_score: 0.4626 - out_2_precision: 0.9830 - out_2_sensitivity: 0.9767 - out_2_specificity: 0.9943 - out_1_accuracy: 0.9790 - out_1_dice_score: 0.4641 - out_1_precision: 0.9827 - out_1_sensitivity: 0.9764 - out_1_specificity: 0.9942 - val_loss: 8.2927 - val_final_output_loss: 2.1270 - val_out_3_loss: 2.0404 - val_out_2_loss: 1.9935 - val_out_1_loss: 2.0154 - val_final_output_accuracy: 0.9105 - val_final_output_dice_score: 0.3621 - val_final_output_precision: 0.8088 - val_final_output_sensitivity: 0.9391 - val_final_output_specificity: 0.9259 - val_out_3_accuracy: 0.9291 - val_out_3_dice_score: 0.3720 - val_out_3_precision: 0.9757 - val_out_3_sensitivity: 0.9065 - val_out_3_specificity: 0.9925 - val_out_2_accuracy: 0.9677 - val_out_2_dice_score: 0.3854 - val_out_2_precision: 0.9881 - val_out_2_sensitivity: 0.9405 - val_out_2_specificity: 0.9962 - val_out_1_accuracy: 0.9732 - val_out_1_dice_score: 0.3833 - val_out_1_precision: 0.9788 - val_out_1_sensitivity: 0.9631 - val_out_1_specificity: 0.9931\n",
            "Epoch 35/100\n",
            "8/8 [==============================] - 2s 316ms/step - loss: 7.4437 - final_output_loss: 1.8172 - out_3_loss: 1.8237 - out_2_loss: 1.8380 - out_1_loss: 1.8484 - final_output_accuracy: 0.9734 - final_output_dice_score: 0.4933 - final_output_precision: 0.9467 - final_output_sensitivity: 0.9797 - final_output_specificity: 0.9816 - out_3_accuracy: 0.9685 - out_3_dice_score: 0.4726 - out_3_precision: 0.9761 - out_3_sensitivity: 0.9623 - out_3_specificity: 0.9920 - out_2_accuracy: 0.9685 - out_2_dice_score: 0.4580 - out_2_precision: 0.9788 - out_2_sensitivity: 0.9608 - out_2_specificity: 0.9929 - out_1_accuracy: 0.9697 - out_1_dice_score: 0.4560 - out_1_precision: 0.9774 - out_1_sensitivity: 0.9637 - out_1_specificity: 0.9925 - val_loss: 8.3739 - val_final_output_loss: 2.1233 - val_out_3_loss: 2.0818 - val_out_2_loss: 2.0086 - val_out_1_loss: 2.0439 - val_final_output_accuracy: 0.9020 - val_final_output_dice_score: 0.3591 - val_final_output_precision: 0.8214 - val_final_output_sensitivity: 0.9459 - val_final_output_specificity: 0.9313 - val_out_3_accuracy: 0.9107 - val_out_3_dice_score: 0.3648 - val_out_3_precision: 0.9265 - val_out_3_sensitivity: 0.9016 - val_out_3_specificity: 0.9762 - val_out_2_accuracy: 0.9618 - val_out_2_dice_score: 0.3817 - val_out_2_precision: 0.9782 - val_out_2_sensitivity: 0.9443 - val_out_2_specificity: 0.9930 - val_out_1_accuracy: 0.9717 - val_out_1_dice_score: 0.3767 - val_out_1_precision: 0.9762 - val_out_1_sensitivity: 0.9603 - val_out_1_specificity: 0.9922\n",
            "Epoch 36/100\n",
            "8/8 [==============================] - 2s 320ms/step - loss: 7.4094 - final_output_loss: 1.7940 - out_3_loss: 1.8235 - out_2_loss: 1.8332 - out_1_loss: 1.8424 - final_output_accuracy: 0.9775 - final_output_dice_score: 0.4964 - final_output_precision: 0.9554 - final_output_sensitivity: 0.9855 - final_output_specificity: 0.9847 - out_3_accuracy: 0.9771 - out_3_dice_score: 0.4699 - out_3_precision: 0.9804 - out_3_sensitivity: 0.9743 - out_3_specificity: 0.9934 - out_2_accuracy: 0.9766 - out_2_dice_score: 0.4659 - out_2_precision: 0.9807 - out_2_sensitivity: 0.9733 - out_2_specificity: 0.9935 - out_1_accuracy: 0.9765 - out_1_dice_score: 0.4624 - out_1_precision: 0.9804 - out_1_sensitivity: 0.9735 - out_1_specificity: 0.9934 - val_loss: 8.5956 - val_final_output_loss: 2.0949 - val_out_3_loss: 2.0494 - val_out_2_loss: 2.0742 - val_out_1_loss: 2.2607 - val_final_output_accuracy: 0.9334 - val_final_output_dice_score: 0.3554 - val_final_output_precision: 0.8668 - val_final_output_sensitivity: 0.9723 - val_final_output_specificity: 0.9501 - val_out_3_accuracy: 0.9497 - val_out_3_dice_score: 0.3630 - val_out_3_precision: 0.9609 - val_out_3_sensitivity: 0.9355 - val_out_3_specificity: 0.9873 - val_out_2_accuracy: 0.9733 - val_out_2_dice_score: 0.3638 - val_out_2_precision: 0.9714 - val_out_2_sensitivity: 0.9643 - val_out_2_specificity: 0.9905 - val_out_1_accuracy: 0.9715 - val_out_1_dice_score: 0.3244 - val_out_1_precision: 0.9672 - val_out_1_sensitivity: 0.9635 - val_out_1_specificity: 0.9891\n",
            "Epoch 37/100\n",
            "8/8 [==============================] - 2s 313ms/step - loss: 7.2301 - final_output_loss: 1.7475 - out_3_loss: 1.7927 - out_2_loss: 1.7862 - out_1_loss: 1.7874 - final_output_accuracy: 0.9778 - final_output_dice_score: 0.5246 - final_output_precision: 0.9583 - final_output_sensitivity: 0.9844 - final_output_specificity: 0.9857 - out_3_accuracy: 0.9780 - out_3_dice_score: 0.4945 - out_3_precision: 0.9810 - out_3_sensitivity: 0.9752 - out_3_specificity: 0.9936 - out_2_accuracy: 0.9783 - out_2_dice_score: 0.4993 - out_2_precision: 0.9812 - out_2_sensitivity: 0.9757 - out_2_specificity: 0.9937 - out_1_accuracy: 0.9778 - out_1_dice_score: 0.4952 - out_1_precision: 0.9814 - out_1_sensitivity: 0.9749 - out_1_specificity: 0.9938 - val_loss: 8.5384 - val_final_output_loss: 2.2123 - val_out_3_loss: 2.1550 - val_out_2_loss: 2.0340 - val_out_1_loss: 2.0208 - val_final_output_accuracy: 0.8748 - val_final_output_dice_score: 0.3495 - val_final_output_precision: 0.7477 - val_final_output_sensitivity: 0.9050 - val_final_output_specificity: 0.8980 - val_out_3_accuracy: 0.8872 - val_out_3_dice_score: 0.3604 - val_out_3_precision: 0.9262 - val_out_3_sensitivity: 0.8793 - val_out_3_specificity: 0.9767 - val_out_2_accuracy: 0.9333 - val_out_2_dice_score: 0.3772 - val_out_2_precision: 0.9776 - val_out_2_sensitivity: 0.9144 - val_out_2_specificity: 0.9930 - val_out_1_accuracy: 0.9601 - val_out_1_dice_score: 0.3839 - val_out_1_precision: 0.9774 - val_out_1_sensitivity: 0.9440 - val_out_1_specificity: 0.9927\n",
            "Epoch 38/100\n",
            "8/8 [==============================] - 2s 312ms/step - loss: 7.7533 - final_output_loss: 1.8850 - out_3_loss: 1.9275 - out_2_loss: 1.9153 - out_1_loss: 1.9093 - final_output_accuracy: 0.9639 - final_output_dice_score: 0.4656 - final_output_precision: 0.9246 - final_output_sensitivity: 0.9719 - final_output_specificity: 0.9736 - out_3_accuracy: 0.9578 - out_3_dice_score: 0.4403 - out_3_precision: 0.9664 - out_3_sensitivity: 0.9530 - out_3_specificity: 0.9889 - out_2_accuracy: 0.9600 - out_2_dice_score: 0.4385 - out_2_precision: 0.9715 - out_2_sensitivity: 0.9542 - out_2_specificity: 0.9905 - out_1_accuracy: 0.9637 - out_1_dice_score: 0.4418 - out_1_precision: 0.9732 - out_1_sensitivity: 0.9577 - out_1_specificity: 0.9911 - val_loss: 8.4194 - val_final_output_loss: 2.1705 - val_out_3_loss: 2.1118 - val_out_2_loss: 2.0295 - val_out_1_loss: 1.9913 - val_final_output_accuracy: 0.8843 - val_final_output_dice_score: 0.3591 - val_final_output_precision: 0.7659 - val_final_output_sensitivity: 0.9109 - val_final_output_specificity: 0.9071 - val_out_3_accuracy: 0.8943 - val_out_3_dice_score: 0.3641 - val_out_3_precision: 0.9291 - val_out_3_sensitivity: 0.8823 - val_out_3_specificity: 0.9776 - val_out_2_accuracy: 0.9344 - val_out_2_dice_score: 0.3747 - val_out_2_precision: 0.9821 - val_out_2_sensitivity: 0.9087 - val_out_2_specificity: 0.9945 - val_out_1_accuracy: 0.9696 - val_out_1_dice_score: 0.3916 - val_out_1_precision: 0.9805 - val_out_1_sensitivity: 0.9527 - val_out_1_specificity: 0.9937\n",
            "Epoch 39/100\n",
            "8/8 [==============================] - 2s 313ms/step - loss: 7.4844 - final_output_loss: 1.8374 - out_3_loss: 1.8564 - out_2_loss: 1.8331 - out_1_loss: 1.8413 - final_output_accuracy: 0.9745 - final_output_dice_score: 0.4943 - final_output_precision: 0.9529 - final_output_sensitivity: 0.9795 - final_output_specificity: 0.9839 - out_3_accuracy: 0.9722 - out_3_dice_score: 0.4675 - out_3_precision: 0.9765 - out_3_sensitivity: 0.9690 - out_3_specificity: 0.9921 - out_2_accuracy: 0.9721 - out_2_dice_score: 0.4701 - out_2_precision: 0.9787 - out_2_sensitivity: 0.9674 - out_2_specificity: 0.9929 - out_1_accuracy: 0.9743 - out_1_dice_score: 0.4723 - out_1_precision: 0.9788 - out_1_sensitivity: 0.9704 - out_1_specificity: 0.9929 - val_loss: 8.4197 - val_final_output_loss: 2.0087 - val_out_3_loss: 2.0020 - val_out_2_loss: 2.0180 - val_out_1_loss: 2.2749 - val_final_output_accuracy: 0.9666 - val_final_output_dice_score: 0.3833 - val_final_output_precision: 0.9288 - val_final_output_sensitivity: 0.9746 - val_final_output_specificity: 0.9750 - val_out_3_accuracy: 0.9718 - val_out_3_dice_score: 0.3758 - val_out_3_precision: 0.9803 - val_out_3_sensitivity: 0.9559 - val_out_3_specificity: 0.9936 - val_out_2_accuracy: 0.9737 - val_out_2_dice_score: 0.3834 - val_out_2_precision: 0.9753 - val_out_2_sensitivity: 0.9633 - val_out_2_specificity: 0.9919 - val_out_1_accuracy: 0.9708 - val_out_1_dice_score: 0.3159 - val_out_1_precision: 0.9663 - val_out_1_sensitivity: 0.9634 - val_out_1_specificity: 0.9888\n",
            "Epoch 40/100\n",
            "8/8 [==============================] - 2s 312ms/step - loss: 7.4811 - final_output_loss: 1.8238 - out_3_loss: 1.8412 - out_2_loss: 1.8289 - out_1_loss: 1.8711 - final_output_accuracy: 0.9763 - final_output_dice_score: 0.4880 - final_output_precision: 0.9500 - final_output_sensitivity: 0.9849 - final_output_specificity: 0.9827 - out_3_accuracy: 0.9749 - out_3_dice_score: 0.4743 - out_3_precision: 0.9796 - out_3_sensitivity: 0.9713 - out_3_specificity: 0.9932 - out_2_accuracy: 0.9756 - out_2_dice_score: 0.4751 - out_2_precision: 0.9812 - out_2_sensitivity: 0.9717 - out_2_specificity: 0.9937 - out_1_accuracy: 0.9722 - out_1_dice_score: 0.4542 - out_1_precision: 0.9773 - out_1_sensitivity: 0.9680 - out_1_specificity: 0.9924 - val_loss: 8.3890 - val_final_output_loss: 2.1716 - val_out_3_loss: 2.0949 - val_out_2_loss: 2.0044 - val_out_1_loss: 2.0020 - val_final_output_accuracy: 0.8804 - val_final_output_dice_score: 0.3569 - val_final_output_precision: 0.7627 - val_final_output_sensitivity: 0.9131 - val_final_output_specificity: 0.9051 - val_out_3_accuracy: 0.8987 - val_out_3_dice_score: 0.3629 - val_out_3_precision: 0.9554 - val_out_3_sensitivity: 0.8854 - val_out_3_specificity: 0.9862 - val_out_2_accuracy: 0.9498 - val_out_2_dice_score: 0.3777 - val_out_2_precision: 0.9872 - val_out_2_sensitivity: 0.9184 - val_out_2_specificity: 0.9960 - val_out_1_accuracy: 0.9596 - val_out_1_dice_score: 0.3817 - val_out_1_precision: 0.9847 - val_out_1_sensitivity: 0.9318 - val_out_1_specificity: 0.9952\n",
            "Epoch 41/100\n",
            "8/8 [==============================] - 2s 313ms/step - loss: 7.4919 - final_output_loss: 1.8200 - out_3_loss: 1.8406 - out_2_loss: 1.8487 - out_1_loss: 1.8663 - final_output_accuracy: 0.9774 - final_output_dice_score: 0.4753 - final_output_precision: 0.9528 - final_output_sensitivity: 0.9837 - final_output_specificity: 0.9837 - out_3_accuracy: 0.9742 - out_3_dice_score: 0.4529 - out_3_precision: 0.9800 - out_3_sensitivity: 0.9692 - out_3_specificity: 0.9933 - out_2_accuracy: 0.9765 - out_2_dice_score: 0.4547 - out_2_precision: 0.9813 - out_2_sensitivity: 0.9723 - out_2_specificity: 0.9937 - out_1_accuracy: 0.9738 - out_1_dice_score: 0.4407 - out_1_precision: 0.9798 - out_1_sensitivity: 0.9690 - out_1_specificity: 0.9932 - val_loss: 8.2125 - val_final_output_loss: 2.0034 - val_out_3_loss: 2.0113 - val_out_2_loss: 1.9885 - val_out_1_loss: 2.0931 - val_final_output_accuracy: 0.9605 - val_final_output_dice_score: 0.3908 - val_final_output_precision: 0.9253 - val_final_output_sensitivity: 0.9680 - val_final_output_specificity: 0.9739 - val_out_3_accuracy: 0.9448 - val_out_3_dice_score: 0.3835 - val_out_3_precision: 0.9552 - val_out_3_sensitivity: 0.9342 - val_out_3_specificity: 0.9854 - val_out_2_accuracy: 0.9746 - val_out_2_dice_score: 0.3938 - val_out_2_precision: 0.9765 - val_out_2_sensitivity: 0.9652 - val_out_2_specificity: 0.9923 - val_out_1_accuracy: 0.9721 - val_out_1_dice_score: 0.3640 - val_out_1_precision: 0.9701 - val_out_1_sensitivity: 0.9634 - val_out_1_specificity: 0.9901\n",
            "Epoch 42/100\n",
            "8/8 [==============================] - 2s 306ms/step - loss: 7.5497 - final_output_loss: 1.8083 - out_3_loss: 1.8601 - out_2_loss: 1.8679 - out_1_loss: 1.8972 - final_output_accuracy: 0.9744 - final_output_dice_score: 0.4940 - final_output_precision: 0.9539 - final_output_sensitivity: 0.9802 - final_output_specificity: 0.9842 - out_3_accuracy: 0.9757 - out_3_dice_score: 0.4591 - out_3_precision: 0.9805 - out_3_sensitivity: 0.9719 - out_3_specificity: 0.9934 - out_2_accuracy: 0.9754 - out_2_dice_score: 0.4545 - out_2_precision: 0.9813 - out_2_sensitivity: 0.9712 - out_2_specificity: 0.9937 - out_1_accuracy: 0.9751 - out_1_dice_score: 0.4481 - out_1_precision: 0.9811 - out_1_sensitivity: 0.9712 - out_1_specificity: 0.9936 - val_loss: 7.9500 - val_final_output_loss: 1.8963 - val_out_3_loss: 1.9204 - val_out_2_loss: 1.9546 - val_out_1_loss: 2.0625 - val_final_output_accuracy: 0.9746 - val_final_output_dice_score: 0.4400 - val_final_output_precision: 0.9536 - val_final_output_sensitivity: 0.9741 - val_final_output_specificity: 0.9841 - val_out_3_accuracy: 0.9757 - val_out_3_dice_score: 0.4213 - val_out_3_precision: 0.9844 - val_out_3_sensitivity: 0.9616 - val_out_3_specificity: 0.9949 - val_out_2_accuracy: 0.9744 - val_out_2_dice_score: 0.4135 - val_out_2_precision: 0.9759 - val_out_2_sensitivity: 0.9650 - val_out_2_specificity: 0.9921 - val_out_1_accuracy: 0.9718 - val_out_1_dice_score: 0.3704 - val_out_1_precision: 0.9702 - val_out_1_sensitivity: 0.9630 - val_out_1_specificity: 0.9901\n",
            "Epoch 43/100\n",
            "8/8 [==============================] - 2s 316ms/step - loss: 7.5646 - final_output_loss: 1.8344 - out_3_loss: 1.8580 - out_2_loss: 1.8660 - out_1_loss: 1.8899 - final_output_accuracy: 0.9670 - final_output_dice_score: 0.5020 - final_output_precision: 0.9328 - final_output_sensitivity: 0.9732 - final_output_specificity: 0.9766 - out_3_accuracy: 0.9670 - out_3_dice_score: 0.4803 - out_3_precision: 0.9763 - out_3_sensitivity: 0.9603 - out_3_specificity: 0.9921 - out_2_accuracy: 0.9649 - out_2_dice_score: 0.4694 - out_2_precision: 0.9765 - out_2_sensitivity: 0.9568 - out_2_specificity: 0.9921 - out_1_accuracy: 0.9634 - out_1_dice_score: 0.4590 - out_1_precision: 0.9732 - out_1_sensitivity: 0.9560 - out_1_specificity: 0.9911 - val_loss: 8.2966 - val_final_output_loss: 1.9234 - val_out_3_loss: 1.9920 - val_out_2_loss: 2.1076 - val_out_1_loss: 2.1575 - val_final_output_accuracy: 0.9745 - val_final_output_dice_score: 0.4255 - val_final_output_precision: 0.9654 - val_final_output_sensitivity: 0.9707 - val_final_output_specificity: 0.9884 - val_out_3_accuracy: 0.9750 - val_out_3_dice_score: 0.3952 - val_out_3_precision: 0.9757 - val_out_3_sensitivity: 0.9667 - val_out_3_specificity: 0.9920 - val_out_2_accuracy: 0.9719 - val_out_2_dice_score: 0.3546 - val_out_2_precision: 0.9681 - val_out_2_sensitivity: 0.9642 - val_out_2_specificity: 0.9894 - val_out_1_accuracy: 0.9708 - val_out_1_dice_score: 0.3284 - val_out_1_precision: 0.9664 - val_out_1_sensitivity: 0.9635 - val_out_1_specificity: 0.9888\n",
            "Epoch 44/100\n",
            "8/8 [==============================] - 2s 313ms/step - loss: 7.1575 - final_output_loss: 1.7516 - out_3_loss: 1.7504 - out_2_loss: 1.7537 - out_1_loss: 1.7857 - final_output_accuracy: 0.9779 - final_output_dice_score: 0.5298 - final_output_precision: 0.9600 - final_output_sensitivity: 0.9841 - final_output_specificity: 0.9864 - out_3_accuracy: 0.9781 - out_3_dice_score: 0.5194 - out_3_precision: 0.9816 - out_3_sensitivity: 0.9749 - out_3_specificity: 0.9938 - out_2_accuracy: 0.9783 - out_2_dice_score: 0.5155 - out_2_precision: 0.9829 - out_2_sensitivity: 0.9744 - out_2_specificity: 0.9943 - out_1_accuracy: 0.9773 - out_1_dice_score: 0.4954 - out_1_precision: 0.9819 - out_1_sensitivity: 0.9732 - out_1_specificity: 0.9939 - val_loss: 8.4372 - val_final_output_loss: 1.9381 - val_out_3_loss: 1.9761 - val_out_2_loss: 2.1403 - val_out_1_loss: 2.2664 - val_final_output_accuracy: 0.9743 - val_final_output_dice_score: 0.4201 - val_final_output_precision: 0.9651 - val_final_output_sensitivity: 0.9683 - val_final_output_specificity: 0.9883 - val_out_3_accuracy: 0.9735 - val_out_3_dice_score: 0.4019 - val_out_3_precision: 0.9755 - val_out_3_sensitivity: 0.9646 - val_out_3_specificity: 0.9919 - val_out_2_accuracy: 0.9707 - val_out_2_dice_score: 0.3430 - val_out_2_precision: 0.9665 - val_out_2_sensitivity: 0.9637 - val_out_2_specificity: 0.9889 - val_out_1_accuracy: 0.9700 - val_out_1_dice_score: 0.3041 - val_out_1_precision: 0.9646 - val_out_1_sensitivity: 0.9634 - val_out_1_specificity: 0.9882\n",
            "Epoch 45/100\n",
            "8/8 [==============================] - 2s 313ms/step - loss: 7.1316 - final_output_loss: 1.7437 - out_3_loss: 1.7494 - out_2_loss: 1.7471 - out_1_loss: 1.7751 - final_output_accuracy: 0.9825 - final_output_dice_score: 0.5361 - final_output_precision: 0.9658 - final_output_sensitivity: 0.9863 - final_output_specificity: 0.9884 - out_3_accuracy: 0.9807 - out_3_dice_score: 0.5270 - out_3_precision: 0.9828 - out_3_sensitivity: 0.9786 - out_3_specificity: 0.9943 - out_2_accuracy: 0.9812 - out_2_dice_score: 0.5261 - out_2_precision: 0.9836 - out_2_sensitivity: 0.9786 - out_2_specificity: 0.9945 - out_1_accuracy: 0.9801 - out_1_dice_score: 0.5092 - out_1_precision: 0.9832 - out_1_sensitivity: 0.9771 - out_1_specificity: 0.9944 - val_loss: 7.8398 - val_final_output_loss: 1.9127 - val_out_3_loss: 1.9106 - val_out_2_loss: 1.9030 - val_out_1_loss: 1.9974 - val_final_output_accuracy: 0.9558 - val_final_output_dice_score: 0.4424 - val_final_output_precision: 0.9385 - val_final_output_sensitivity: 0.9468 - val_final_output_specificity: 0.9789 - val_out_3_accuracy: 0.9701 - val_out_3_dice_score: 0.4423 - val_out_3_precision: 0.9777 - val_out_3_sensitivity: 0.9609 - val_out_3_specificity: 0.9927 - val_out_2_accuracy: 0.9764 - val_out_2_dice_score: 0.4519 - val_out_2_precision: 0.9819 - val_out_2_sensitivity: 0.9675 - val_out_2_specificity: 0.9941 - val_out_1_accuracy: 0.9745 - val_out_1_dice_score: 0.4251 - val_out_1_precision: 0.9782 - val_out_1_sensitivity: 0.9677 - val_out_1_specificity: 0.9928\n",
            "Epoch 46/100\n",
            "8/8 [==============================] - 2s 311ms/step - loss: 7.1590 - final_output_loss: 1.7314 - out_3_loss: 1.7529 - out_2_loss: 1.7654 - out_1_loss: 1.7930 - final_output_accuracy: 0.9777 - final_output_dice_score: 0.5520 - final_output_precision: 0.9656 - final_output_sensitivity: 0.9777 - final_output_specificity: 0.9884 - out_3_accuracy: 0.9783 - out_3_dice_score: 0.5393 - out_3_precision: 0.9801 - out_3_sensitivity: 0.9761 - out_3_specificity: 0.9934 - out_2_accuracy: 0.9775 - out_2_dice_score: 0.5308 - out_2_precision: 0.9796 - out_2_sensitivity: 0.9750 - out_2_specificity: 0.9932 - out_1_accuracy: 0.9751 - out_1_dice_score: 0.5080 - out_1_precision: 0.9782 - out_1_sensitivity: 0.9721 - out_1_specificity: 0.9927 - val_loss: 7.7044 - val_final_output_loss: 1.8753 - val_out_3_loss: 1.8659 - val_out_2_loss: 1.8856 - val_out_1_loss: 1.9613 - val_final_output_accuracy: 0.9731 - val_final_output_dice_score: 0.4542 - val_final_output_precision: 0.9624 - val_final_output_sensitivity: 0.9496 - val_final_output_specificity: 0.9874 - val_out_3_accuracy: 0.9765 - val_out_3_dice_score: 0.4587 - val_out_3_precision: 0.9818 - val_out_3_sensitivity: 0.9688 - val_out_3_specificity: 0.9940 - val_out_2_accuracy: 0.9758 - val_out_2_dice_score: 0.4561 - val_out_2_precision: 0.9788 - val_out_2_sensitivity: 0.9687 - val_out_2_specificity: 0.9930 - val_out_1_accuracy: 0.9744 - val_out_1_dice_score: 0.4381 - val_out_1_precision: 0.9753 - val_out_1_sensitivity: 0.9680 - val_out_1_specificity: 0.9918\n",
            "Epoch 47/100\n",
            "8/8 [==============================] - 2s 310ms/step - loss: 7.0914 - final_output_loss: 1.7288 - out_3_loss: 1.7398 - out_2_loss: 1.7514 - out_1_loss: 1.7553 - final_output_accuracy: 0.9810 - final_output_dice_score: 0.5432 - final_output_precision: 0.9726 - final_output_sensitivity: 0.9756 - final_output_specificity: 0.9908 - out_3_accuracy: 0.9810 - out_3_dice_score: 0.5356 - out_3_precision: 0.9831 - out_3_sensitivity: 0.9789 - out_3_specificity: 0.9943 - out_2_accuracy: 0.9810 - out_2_dice_score: 0.5368 - out_2_precision: 0.9828 - out_2_sensitivity: 0.9791 - out_2_specificity: 0.9942 - out_1_accuracy: 0.9805 - out_1_dice_score: 0.5294 - out_1_precision: 0.9827 - out_1_sensitivity: 0.9786 - out_1_specificity: 0.9942 - val_loss: 7.6739 - val_final_output_loss: 1.8459 - val_out_3_loss: 1.8577 - val_out_2_loss: 1.8859 - val_out_1_loss: 1.9682 - val_final_output_accuracy: 0.9728 - val_final_output_dice_score: 0.4736 - val_final_output_precision: 0.9646 - val_final_output_sensitivity: 0.9451 - val_final_output_specificity: 0.9883 - val_out_3_accuracy: 0.9763 - val_out_3_dice_score: 0.4692 - val_out_3_precision: 0.9847 - val_out_3_sensitivity: 0.9665 - val_out_3_specificity: 0.9950 - val_out_2_accuracy: 0.9760 - val_out_2_dice_score: 0.4625 - val_out_2_precision: 0.9803 - val_out_2_sensitivity: 0.9686 - val_out_2_specificity: 0.9935 - val_out_1_accuracy: 0.9737 - val_out_1_dice_score: 0.4336 - val_out_1_precision: 0.9763 - val_out_1_sensitivity: 0.9666 - val_out_1_specificity: 0.9922\n",
            "Epoch 48/100\n",
            "8/8 [==============================] - 2s 314ms/step - loss: 7.1752 - final_output_loss: 1.7462 - out_3_loss: 1.7606 - out_2_loss: 1.7660 - out_1_loss: 1.7863 - final_output_accuracy: 0.9718 - final_output_dice_score: 0.5401 - final_output_precision: 0.9588 - final_output_sensitivity: 0.9615 - final_output_specificity: 0.9862 - out_3_accuracy: 0.9729 - out_3_dice_score: 0.5279 - out_3_precision: 0.9776 - out_3_sensitivity: 0.9689 - out_3_specificity: 0.9925 - out_2_accuracy: 0.9711 - out_2_dice_score: 0.5204 - out_2_precision: 0.9770 - out_2_sensitivity: 0.9667 - out_2_specificity: 0.9923 - out_1_accuracy: 0.9717 - out_1_dice_score: 0.5142 - out_1_precision: 0.9769 - out_1_sensitivity: 0.9676 - out_1_specificity: 0.9923 - val_loss: 7.5915 - val_final_output_loss: 1.8705 - val_out_3_loss: 1.8588 - val_out_2_loss: 1.8526 - val_out_1_loss: 1.8934 - val_final_output_accuracy: 0.9620 - val_final_output_dice_score: 0.4685 - val_final_output_precision: 0.9510 - val_final_output_sensitivity: 0.9295 - val_final_output_specificity: 0.9839 - val_out_3_accuracy: 0.9712 - val_out_3_dice_score: 0.4622 - val_out_3_precision: 0.9822 - val_out_3_sensitivity: 0.9608 - val_out_3_specificity: 0.9942 - val_out_2_accuracy: 0.9741 - val_out_2_dice_score: 0.4639 - val_out_2_precision: 0.9822 - val_out_2_sensitivity: 0.9638 - val_out_2_specificity: 0.9942 - val_out_1_accuracy: 0.9735 - val_out_1_dice_score: 0.4456 - val_out_1_precision: 0.9795 - val_out_1_sensitivity: 0.9646 - val_out_1_specificity: 0.9933\n",
            "Epoch 49/100\n",
            "8/8 [==============================] - 2s 314ms/step - loss: 7.4657 - final_output_loss: 1.8160 - out_3_loss: 1.8357 - out_2_loss: 1.8439 - out_1_loss: 1.8539 - final_output_accuracy: 0.9778 - final_output_dice_score: 0.4500 - final_output_precision: 0.9737 - final_output_sensitivity: 0.9620 - final_output_specificity: 0.9913 - out_3_accuracy: 0.9784 - out_3_dice_score: 0.4342 - out_3_precision: 0.9820 - out_3_sensitivity: 0.9748 - out_3_specificity: 0.9940 - out_2_accuracy: 0.9764 - out_2_dice_score: 0.4275 - out_2_precision: 0.9814 - out_2_sensitivity: 0.9724 - out_2_specificity: 0.9938 - out_1_accuracy: 0.9771 - out_1_dice_score: 0.4234 - out_1_precision: 0.9808 - out_1_sensitivity: 0.9737 - out_1_specificity: 0.9936 - val_loss: 7.6461 - val_final_output_loss: 1.8270 - val_out_3_loss: 1.8598 - val_out_2_loss: 1.8954 - val_out_1_loss: 1.9478 - val_final_output_accuracy: 0.9738 - val_final_output_dice_score: 0.4817 - val_final_output_precision: 0.9743 - val_final_output_sensitivity: 0.9495 - val_final_output_specificity: 0.9916 - val_out_3_accuracy: 0.9770 - val_out_3_dice_score: 0.4688 - val_out_3_precision: 0.9825 - val_out_3_sensitivity: 0.9687 - val_out_3_specificity: 0.9942 - val_out_2_accuracy: 0.9759 - val_out_2_dice_score: 0.4583 - val_out_2_precision: 0.9780 - val_out_2_sensitivity: 0.9693 - val_out_2_specificity: 0.9928 - val_out_1_accuracy: 0.9747 - val_out_1_dice_score: 0.4370 - val_out_1_precision: 0.9756 - val_out_1_sensitivity: 0.9684 - val_out_1_specificity: 0.9919\n",
            "Epoch 50/100\n",
            "8/8 [==============================] - 2s 306ms/step - loss: 7.2682 - final_output_loss: 1.7604 - out_3_loss: 1.7882 - out_2_loss: 1.7913 - out_1_loss: 1.8122 - final_output_accuracy: 0.9770 - final_output_dice_score: 0.5310 - final_output_precision: 0.9710 - final_output_sensitivity: 0.9737 - final_output_specificity: 0.9903 - out_3_accuracy: 0.9781 - out_3_dice_score: 0.5149 - out_3_precision: 0.9810 - out_3_sensitivity: 0.9758 - out_3_specificity: 0.9936 - out_2_accuracy: 0.9785 - out_2_dice_score: 0.5141 - out_2_precision: 0.9814 - out_2_sensitivity: 0.9760 - out_2_specificity: 0.9937 - out_1_accuracy: 0.9770 - out_1_dice_score: 0.5004 - out_1_precision: 0.9805 - out_1_sensitivity: 0.9742 - out_1_specificity: 0.9934 - val_loss: 7.4476 - val_final_output_loss: 1.8212 - val_out_3_loss: 1.8213 - val_out_2_loss: 1.8409 - val_out_1_loss: 1.8480 - val_final_output_accuracy: 0.9632 - val_final_output_dice_score: 0.4909 - val_final_output_precision: 0.9495 - val_final_output_sensitivity: 0.9393 - val_final_output_specificity: 0.9830 - val_out_3_accuracy: 0.9739 - val_out_3_dice_score: 0.4852 - val_out_3_precision: 0.9811 - val_out_3_sensitivity: 0.9640 - val_out_3_specificity: 0.9938 - val_out_2_accuracy: 0.9778 - val_out_2_dice_score: 0.4854 - val_out_2_precision: 0.9817 - val_out_2_sensitivity: 0.9709 - val_out_2_specificity: 0.9940 - val_out_1_accuracy: 0.9771 - val_out_1_dice_score: 0.4751 - val_out_1_precision: 0.9816 - val_out_1_sensitivity: 0.9687 - val_out_1_specificity: 0.9940\n",
            "Epoch 51/100\n",
            "8/8 [==============================] - 2s 313ms/step - loss: 7.2165 - final_output_loss: 1.7540 - out_3_loss: 1.7868 - out_2_loss: 1.7740 - out_1_loss: 1.7855 - final_output_accuracy: 0.9746 - final_output_dice_score: 0.5228 - final_output_precision: 0.9652 - final_output_sensitivity: 0.9710 - final_output_specificity: 0.9883 - out_3_accuracy: 0.9757 - out_3_dice_score: 0.5029 - out_3_precision: 0.9792 - out_3_sensitivity: 0.9727 - out_3_specificity: 0.9931 - out_2_accuracy: 0.9766 - out_2_dice_score: 0.5096 - out_2_precision: 0.9805 - out_2_sensitivity: 0.9734 - out_2_specificity: 0.9935 - out_1_accuracy: 0.9757 - out_1_dice_score: 0.5015 - out_1_precision: 0.9793 - out_1_sensitivity: 0.9725 - out_1_specificity: 0.9931 - val_loss: 7.8309 - val_final_output_loss: 1.8846 - val_out_3_loss: 1.9318 - val_out_2_loss: 1.9439 - val_out_1_loss: 1.9544 - val_final_output_accuracy: 0.9764 - val_final_output_dice_score: 0.4672 - val_final_output_precision: 0.9724 - val_final_output_sensitivity: 0.9612 - val_final_output_specificity: 0.9908 - val_out_3_accuracy: 0.9765 - val_out_3_dice_score: 0.4485 - val_out_3_precision: 0.9780 - val_out_3_sensitivity: 0.9708 - val_out_3_specificity: 0.9927 - val_out_2_accuracy: 0.9767 - val_out_2_dice_score: 0.4473 - val_out_2_precision: 0.9779 - val_out_2_sensitivity: 0.9711 - val_out_2_specificity: 0.9927 - val_out_1_accuracy: 0.9751 - val_out_1_dice_score: 0.4390 - val_out_1_precision: 0.9768 - val_out_1_sensitivity: 0.9697 - val_out_1_specificity: 0.9923\n",
            "Epoch 52/100\n",
            "8/8 [==============================] - 2s 310ms/step - loss: 7.0105 - final_output_loss: 1.7102 - out_3_loss: 1.7213 - out_2_loss: 1.7202 - out_1_loss: 1.7428 - final_output_accuracy: 0.9780 - final_output_dice_score: 0.5521 - final_output_precision: 0.9702 - final_output_sensitivity: 0.9720 - final_output_specificity: 0.9900 - out_3_accuracy: 0.9780 - out_3_dice_score: 0.5441 - out_3_precision: 0.9798 - out_3_sensitivity: 0.9760 - out_3_specificity: 0.9932 - out_2_accuracy: 0.9774 - out_2_dice_score: 0.5398 - out_2_precision: 0.9795 - out_2_sensitivity: 0.9751 - out_2_specificity: 0.9931 - out_1_accuracy: 0.9767 - out_1_dice_score: 0.5283 - out_1_precision: 0.9786 - out_1_sensitivity: 0.9747 - out_1_specificity: 0.9929 - val_loss: 7.3456 - val_final_output_loss: 1.7755 - val_out_3_loss: 1.7931 - val_out_2_loss: 1.8072 - val_out_1_loss: 1.8537 - val_final_output_accuracy: 0.9761 - val_final_output_dice_score: 0.5145 - val_final_output_precision: 0.9703 - val_final_output_sensitivity: 0.9549 - val_final_output_specificity: 0.9901 - val_out_3_accuracy: 0.9771 - val_out_3_dice_score: 0.5037 - val_out_3_precision: 0.9812 - val_out_3_sensitivity: 0.9695 - val_out_3_specificity: 0.9938 - val_out_2_accuracy: 0.9768 - val_out_2_dice_score: 0.5009 - val_out_2_precision: 0.9800 - val_out_2_sensitivity: 0.9701 - val_out_2_specificity: 0.9934 - val_out_1_accuracy: 0.9751 - val_out_1_dice_score: 0.4715 - val_out_1_precision: 0.9789 - val_out_1_sensitivity: 0.9675 - val_out_1_specificity: 0.9930\n",
            "Epoch 53/100\n",
            "8/8 [==============================] - 2s 311ms/step - loss: 7.3717 - final_output_loss: 1.7875 - out_3_loss: 1.8073 - out_2_loss: 1.8142 - out_1_loss: 1.8466 - final_output_accuracy: 0.9723 - final_output_dice_score: 0.5446 - final_output_precision: 0.9712 - final_output_sensitivity: 0.9571 - final_output_specificity: 0.9905 - out_3_accuracy: 0.9722 - out_3_dice_score: 0.5289 - out_3_precision: 0.9745 - out_3_sensitivity: 0.9696 - out_3_specificity: 0.9915 - out_2_accuracy: 0.9725 - out_2_dice_score: 0.5227 - out_2_precision: 0.9752 - out_2_sensitivity: 0.9697 - out_2_specificity: 0.9917 - out_1_accuracy: 0.9716 - out_1_dice_score: 0.5058 - out_1_precision: 0.9744 - out_1_sensitivity: 0.9687 - out_1_specificity: 0.9915 - val_loss: 7.6308 - val_final_output_loss: 1.8700 - val_out_3_loss: 1.9090 - val_out_2_loss: 1.8526 - val_out_1_loss: 1.8831 - val_final_output_accuracy: 0.9432 - val_final_output_dice_score: 0.4822 - val_final_output_precision: 0.9458 - val_final_output_sensitivity: 0.9059 - val_final_output_specificity: 0.9826 - val_out_3_accuracy: 0.9522 - val_out_3_dice_score: 0.4546 - val_out_3_precision: 0.9535 - val_out_3_sensitivity: 0.9456 - val_out_3_specificity: 0.9846 - val_out_2_accuracy: 0.9702 - val_out_2_dice_score: 0.4771 - val_out_2_precision: 0.9735 - val_out_2_sensitivity: 0.9613 - val_out_2_specificity: 0.9913 - val_out_1_accuracy: 0.9685 - val_out_1_dice_score: 0.4574 - val_out_1_precision: 0.9734 - val_out_1_sensitivity: 0.9576 - val_out_1_specificity: 0.9913\n",
            "Epoch 54/100\n",
            "8/8 [==============================] - 2s 311ms/step - loss: 7.4019 - final_output_loss: 1.7912 - out_3_loss: 1.8250 - out_2_loss: 1.8277 - out_1_loss: 1.8418 - final_output_accuracy: 0.9757 - final_output_dice_score: 0.5136 - final_output_precision: 0.9728 - final_output_sensitivity: 0.9567 - final_output_specificity: 0.9911 - out_3_accuracy: 0.9781 - out_3_dice_score: 0.4942 - out_3_precision: 0.9797 - out_3_sensitivity: 0.9763 - out_3_specificity: 0.9932 - out_2_accuracy: 0.9792 - out_2_dice_score: 0.4952 - out_2_precision: 0.9809 - out_2_sensitivity: 0.9772 - out_2_specificity: 0.9936 - out_1_accuracy: 0.9786 - out_1_dice_score: 0.4839 - out_1_precision: 0.9806 - out_1_sensitivity: 0.9764 - out_1_specificity: 0.9935 - val_loss: 7.3421 - val_final_output_loss: 1.7641 - val_out_3_loss: 1.7956 - val_out_2_loss: 1.8147 - val_out_1_loss: 1.8516 - val_final_output_accuracy: 0.9762 - val_final_output_dice_score: 0.5206 - val_final_output_precision: 0.9746 - val_final_output_sensitivity: 0.9308 - val_final_output_specificity: 0.9918 - val_out_3_accuracy: 0.9771 - val_out_3_dice_score: 0.5092 - val_out_3_precision: 0.9815 - val_out_3_sensitivity: 0.9705 - val_out_3_specificity: 0.9939 - val_out_2_accuracy: 0.9765 - val_out_2_dice_score: 0.5037 - val_out_2_precision: 0.9799 - val_out_2_sensitivity: 0.9709 - val_out_2_specificity: 0.9934 - val_out_1_accuracy: 0.9760 - val_out_1_dice_score: 0.4816 - val_out_1_precision: 0.9785 - val_out_1_sensitivity: 0.9707 - val_out_1_specificity: 0.9929\n",
            "Epoch 55/100\n",
            "8/8 [==============================] - 2s 311ms/step - loss: 7.1269 - final_output_loss: 1.7286 - out_3_loss: 1.7466 - out_2_loss: 1.7547 - out_1_loss: 1.7810 - final_output_accuracy: 0.9787 - final_output_dice_score: 0.5313 - final_output_precision: 0.9773 - final_output_sensitivity: 0.9407 - final_output_specificity: 0.9926 - out_3_accuracy: 0.9813 - out_3_dice_score: 0.5199 - out_3_precision: 0.9843 - out_3_sensitivity: 0.9781 - out_3_specificity: 0.9947 - out_2_accuracy: 0.9795 - out_2_dice_score: 0.5093 - out_2_precision: 0.9834 - out_2_sensitivity: 0.9760 - out_2_specificity: 0.9944 - out_1_accuracy: 0.9799 - out_1_dice_score: 0.4968 - out_1_precision: 0.9833 - out_1_sensitivity: 0.9767 - out_1_specificity: 0.9944 - val_loss: 7.5379 - val_final_output_loss: 1.8718 - val_out_3_loss: 1.8602 - val_out_2_loss: 1.8368 - val_out_1_loss: 1.8531 - val_final_output_accuracy: 0.9527 - val_final_output_dice_score: 0.4825 - val_final_output_precision: 0.9551 - val_final_output_sensitivity: 0.8941 - val_final_output_specificity: 0.9858 - val_out_3_accuracy: 0.9692 - val_out_3_dice_score: 0.4709 - val_out_3_precision: 0.9776 - val_out_3_sensitivity: 0.9603 - val_out_3_specificity: 0.9927 - val_out_2_accuracy: 0.9747 - val_out_2_dice_score: 0.4864 - val_out_2_precision: 0.9805 - val_out_2_sensitivity: 0.9679 - val_out_2_specificity: 0.9936 - val_out_1_accuracy: 0.9755 - val_out_1_dice_score: 0.4794 - val_out_1_precision: 0.9798 - val_out_1_sensitivity: 0.9695 - val_out_1_specificity: 0.9934\n",
            "Epoch 56/100\n",
            "8/8 [==============================] - 2s 310ms/step - loss: 7.3545 - final_output_loss: 1.7914 - out_3_loss: 1.8030 - out_2_loss: 1.8110 - out_1_loss: 1.8329 - final_output_accuracy: 0.9767 - final_output_dice_score: 0.4937 - final_output_precision: 0.9847 - final_output_sensitivity: 0.9237 - final_output_specificity: 0.9951 - out_3_accuracy: 0.9797 - out_3_dice_score: 0.4889 - out_3_precision: 0.9839 - out_3_sensitivity: 0.9761 - out_3_specificity: 0.9946 - out_2_accuracy: 0.9796 - out_2_dice_score: 0.4870 - out_2_precision: 0.9838 - out_2_sensitivity: 0.9760 - out_2_specificity: 0.9945 - out_1_accuracy: 0.9792 - out_1_dice_score: 0.4724 - out_1_precision: 0.9828 - out_1_sensitivity: 0.9758 - out_1_specificity: 0.9942 - val_loss: 7.2569 - val_final_output_loss: 1.7417 - val_out_3_loss: 1.7759 - val_out_2_loss: 1.7891 - val_out_1_loss: 1.8340 - val_final_output_accuracy: 0.9764 - val_final_output_dice_score: 0.5450 - val_final_output_precision: 0.9716 - val_final_output_sensitivity: 0.9221 - val_final_output_specificity: 0.9907 - val_out_3_accuracy: 0.9798 - val_out_3_dice_score: 0.5341 - val_out_3_precision: 0.9825 - val_out_3_sensitivity: 0.9742 - val_out_3_specificity: 0.9942 - val_out_2_accuracy: 0.9795 - val_out_2_dice_score: 0.5274 - val_out_2_precision: 0.9819 - val_out_2_sensitivity: 0.9741 - val_out_2_specificity: 0.9940 - val_out_1_accuracy: 0.9777 - val_out_1_dice_score: 0.4993 - val_out_1_precision: 0.9802 - val_out_1_sensitivity: 0.9724 - val_out_1_specificity: 0.9934\n",
            "Epoch 57/100\n",
            "8/8 [==============================] - 2s 313ms/step - loss: 6.9209 - final_output_loss: 1.6709 - out_3_loss: 1.6938 - out_2_loss: 1.7039 - out_1_loss: 1.7362 - final_output_accuracy: 0.9771 - final_output_dice_score: 0.5600 - final_output_precision: 0.9742 - final_output_sensitivity: 0.9518 - final_output_specificity: 0.9915 - out_3_accuracy: 0.9808 - out_3_dice_score: 0.5537 - out_3_precision: 0.9823 - out_3_sensitivity: 0.9787 - out_3_specificity: 0.9941 - out_2_accuracy: 0.9798 - out_2_dice_score: 0.5444 - out_2_precision: 0.9820 - out_2_sensitivity: 0.9770 - out_2_specificity: 0.9940 - out_1_accuracy: 0.9781 - out_1_dice_score: 0.5247 - out_1_precision: 0.9808 - out_1_sensitivity: 0.9752 - out_1_specificity: 0.9936 - val_loss: 7.0898 - val_final_output_loss: 1.6930 - val_out_3_loss: 1.7379 - val_out_2_loss: 1.7563 - val_out_1_loss: 1.7866 - val_final_output_accuracy: 0.9772 - val_final_output_dice_score: 0.5676 - val_final_output_precision: 0.9720 - val_final_output_sensitivity: 0.9560 - val_final_output_specificity: 0.9907 - val_out_3_accuracy: 0.9776 - val_out_3_dice_score: 0.5419 - val_out_3_precision: 0.9795 - val_out_3_sensitivity: 0.9734 - val_out_3_specificity: 0.9932 - val_out_2_accuracy: 0.9771 - val_out_2_dice_score: 0.5313 - val_out_2_precision: 0.9797 - val_out_2_sensitivity: 0.9725 - val_out_2_specificity: 0.9933 - val_out_1_accuracy: 0.9767 - val_out_1_dice_score: 0.5166 - val_out_1_precision: 0.9793 - val_out_1_sensitivity: 0.9719 - val_out_1_specificity: 0.9932\n",
            "Epoch 58/100\n",
            "8/8 [==============================] - 2s 304ms/step - loss: 7.0770 - final_output_loss: 1.7178 - out_3_loss: 1.7414 - out_2_loss: 1.7368 - out_1_loss: 1.7649 - final_output_accuracy: 0.9779 - final_output_dice_score: 0.5664 - final_output_precision: 0.9724 - final_output_sensitivity: 0.9672 - final_output_specificity: 0.9908 - out_3_accuracy: 0.9786 - out_3_dice_score: 0.5522 - out_3_precision: 0.9796 - out_3_sensitivity: 0.9766 - out_3_specificity: 0.9931 - out_2_accuracy: 0.9786 - out_2_dice_score: 0.5520 - out_2_precision: 0.9800 - out_2_sensitivity: 0.9762 - out_2_specificity: 0.9933 - out_1_accuracy: 0.9778 - out_1_dice_score: 0.5320 - out_1_precision: 0.9798 - out_1_sensitivity: 0.9750 - out_1_specificity: 0.9932 - val_loss: 7.0518 - val_final_output_loss: 1.7007 - val_out_3_loss: 1.7256 - val_out_2_loss: 1.7399 - val_out_1_loss: 1.7695 - val_final_output_accuracy: 0.9724 - val_final_output_dice_score: 0.5682 - val_final_output_precision: 0.9653 - val_final_output_sensitivity: 0.9531 - val_final_output_specificity: 0.9884 - val_out_3_accuracy: 0.9740 - val_out_3_dice_score: 0.5489 - val_out_3_precision: 0.9781 - val_out_3_sensitivity: 0.9689 - val_out_3_specificity: 0.9928 - val_out_2_accuracy: 0.9773 - val_out_2_dice_score: 0.5412 - val_out_2_precision: 0.9817 - val_out_2_sensitivity: 0.9711 - val_out_2_specificity: 0.9940 - val_out_1_accuracy: 0.9769 - val_out_1_dice_score: 0.5293 - val_out_1_precision: 0.9812 - val_out_1_sensitivity: 0.9706 - val_out_1_specificity: 0.9938\n",
            "Epoch 59/100\n",
            "8/8 [==============================] - 2s 312ms/step - loss: 6.8911 - final_output_loss: 1.6673 - out_3_loss: 1.7019 - out_2_loss: 1.6953 - out_1_loss: 1.7105 - final_output_accuracy: 0.9761 - final_output_dice_score: 0.5760 - final_output_precision: 0.9736 - final_output_sensitivity: 0.9585 - final_output_specificity: 0.9913 - out_3_accuracy: 0.9749 - out_3_dice_score: 0.5523 - out_3_precision: 0.9763 - out_3_sensitivity: 0.9731 - out_3_specificity: 0.9921 - out_2_accuracy: 0.9777 - out_2_dice_score: 0.5535 - out_2_precision: 0.9800 - out_2_sensitivity: 0.9754 - out_2_specificity: 0.9933 - out_1_accuracy: 0.9782 - out_1_dice_score: 0.5470 - out_1_precision: 0.9809 - out_1_sensitivity: 0.9756 - out_1_specificity: 0.9936 - val_loss: 7.1083 - val_final_output_loss: 1.6992 - val_out_3_loss: 1.7271 - val_out_2_loss: 1.7455 - val_out_1_loss: 1.8204 - val_final_output_accuracy: 0.9801 - val_final_output_dice_score: 0.5762 - val_final_output_precision: 0.9769 - val_final_output_sensitivity: 0.9588 - val_final_output_specificity: 0.9923 - val_out_3_accuracy: 0.9801 - val_out_3_dice_score: 0.5637 - val_out_3_precision: 0.9811 - val_out_3_sensitivity: 0.9753 - val_out_3_specificity: 0.9937 - val_out_2_accuracy: 0.9800 - val_out_2_dice_score: 0.5499 - val_out_2_precision: 0.9820 - val_out_2_sensitivity: 0.9746 - val_out_2_specificity: 0.9941 - val_out_1_accuracy: 0.9783 - val_out_1_dice_score: 0.5191 - val_out_1_precision: 0.9791 - val_out_1_sensitivity: 0.9735 - val_out_1_specificity: 0.9931\n",
            "Epoch 60/100\n",
            "8/8 [==============================] - 2s 312ms/step - loss: 6.7696 - final_output_loss: 1.6373 - out_3_loss: 1.6509 - out_2_loss: 1.6621 - out_1_loss: 1.7032 - final_output_accuracy: 0.9808 - final_output_dice_score: 0.5900 - final_output_precision: 0.9831 - final_output_sensitivity: 0.9586 - final_output_specificity: 0.9945 - out_3_accuracy: 0.9812 - out_3_dice_score: 0.5889 - out_3_precision: 0.9831 - out_3_sensitivity: 0.9792 - out_3_specificity: 0.9943 - out_2_accuracy: 0.9810 - out_2_dice_score: 0.5795 - out_2_precision: 0.9833 - out_2_sensitivity: 0.9788 - out_2_specificity: 0.9944 - out_1_accuracy: 0.9807 - out_1_dice_score: 0.5623 - out_1_precision: 0.9826 - out_1_sensitivity: 0.9788 - out_1_specificity: 0.9942 - val_loss: 7.0716 - val_final_output_loss: 1.7151 - val_out_3_loss: 1.7351 - val_out_2_loss: 1.7399 - val_out_1_loss: 1.7655 - val_final_output_accuracy: 0.9773 - val_final_output_dice_score: 0.5499 - val_final_output_precision: 0.9743 - val_final_output_sensitivity: 0.9481 - val_final_output_specificity: 0.9916 - val_out_3_accuracy: 0.9785 - val_out_3_dice_score: 0.5421 - val_out_3_precision: 0.9810 - val_out_3_sensitivity: 0.9732 - val_out_3_specificity: 0.9937 - val_out_2_accuracy: 0.9783 - val_out_2_dice_score: 0.5361 - val_out_2_precision: 0.9812 - val_out_2_sensitivity: 0.9725 - val_out_2_specificity: 0.9938 - val_out_1_accuracy: 0.9782 - val_out_1_dice_score: 0.5346 - val_out_1_precision: 0.9802 - val_out_1_sensitivity: 0.9734 - val_out_1_specificity: 0.9934\n",
            "Epoch 61/100\n",
            "8/8 [==============================] - 2s 314ms/step - loss: 7.1081 - final_output_loss: 1.7282 - out_3_loss: 1.7535 - out_2_loss: 1.7489 - out_1_loss: 1.7614 - final_output_accuracy: 0.9731 - final_output_dice_score: 0.5411 - final_output_precision: 0.9758 - final_output_sensitivity: 0.9266 - final_output_specificity: 0.9923 - out_3_accuracy: 0.9762 - out_3_dice_score: 0.5316 - out_3_precision: 0.9791 - out_3_sensitivity: 0.9735 - out_3_specificity: 0.9930 - out_2_accuracy: 0.9760 - out_2_dice_score: 0.5284 - out_2_precision: 0.9796 - out_2_sensitivity: 0.9729 - out_2_specificity: 0.9932 - out_1_accuracy: 0.9763 - out_1_dice_score: 0.5220 - out_1_precision: 0.9794 - out_1_sensitivity: 0.9736 - out_1_specificity: 0.9931 - val_loss: 7.5426 - val_final_output_loss: 1.8335 - val_out_3_loss: 1.8704 - val_out_2_loss: 1.8589 - val_out_1_loss: 1.8637 - val_final_output_accuracy: 0.9578 - val_final_output_dice_score: 0.5122 - val_final_output_precision: 0.9447 - val_final_output_sensitivity: 0.9093 - val_final_output_specificity: 0.9821 - val_out_3_accuracy: 0.9647 - val_out_3_dice_score: 0.4965 - val_out_3_precision: 0.9695 - val_out_3_sensitivity: 0.9600 - val_out_3_specificity: 0.9899 - val_out_2_accuracy: 0.9676 - val_out_2_dice_score: 0.4941 - val_out_2_precision: 0.9715 - val_out_2_sensitivity: 0.9628 - val_out_2_specificity: 0.9906 - val_out_1_accuracy: 0.9709 - val_out_1_dice_score: 0.4946 - val_out_1_precision: 0.9741 - val_out_1_sensitivity: 0.9666 - val_out_1_specificity: 0.9914\n",
            "Epoch 62/100\n",
            "8/8 [==============================] - 2s 315ms/step - loss: 7.2756 - final_output_loss: 1.7639 - out_3_loss: 1.7916 - out_2_loss: 1.7913 - out_1_loss: 1.8128 - final_output_accuracy: 0.9717 - final_output_dice_score: 0.5308 - final_output_precision: 0.9767 - final_output_sensitivity: 0.9285 - final_output_specificity: 0.9925 - out_3_accuracy: 0.9762 - out_3_dice_score: 0.5158 - out_3_precision: 0.9796 - out_3_sensitivity: 0.9732 - out_3_specificity: 0.9932 - out_2_accuracy: 0.9771 - out_2_dice_score: 0.5124 - out_2_precision: 0.9814 - out_2_sensitivity: 0.9735 - out_2_specificity: 0.9938 - out_1_accuracy: 0.9765 - out_1_dice_score: 0.5029 - out_1_precision: 0.9802 - out_1_sensitivity: 0.9733 - out_1_specificity: 0.9934 - val_loss: 7.6739 - val_final_output_loss: 1.8230 - val_out_3_loss: 1.8567 - val_out_2_loss: 1.9062 - val_out_1_loss: 1.9720 - val_final_output_accuracy: 0.9776 - val_final_output_dice_score: 0.5226 - val_final_output_precision: 0.9801 - val_final_output_sensitivity: 0.9387 - val_final_output_specificity: 0.9936 - val_out_3_accuracy: 0.9769 - val_out_3_dice_score: 0.5156 - val_out_3_precision: 0.9774 - val_out_3_sensitivity: 0.9735 - val_out_3_specificity: 0.9925 - val_out_2_accuracy: 0.9759 - val_out_2_dice_score: 0.5009 - val_out_2_precision: 0.9761 - val_out_2_sensitivity: 0.9725 - val_out_2_specificity: 0.9921 - val_out_1_accuracy: 0.9751 - val_out_1_dice_score: 0.4768 - val_out_1_precision: 0.9750 - val_out_1_sensitivity: 0.9714 - val_out_1_specificity: 0.9917\n",
            "Epoch 63/100\n",
            "8/8 [==============================] - 2s 311ms/step - loss: 7.2199 - final_output_loss: 1.7525 - out_3_loss: 1.7833 - out_2_loss: 1.7738 - out_1_loss: 1.7941 - final_output_accuracy: 0.9806 - final_output_dice_score: 0.5188 - final_output_precision: 0.9805 - final_output_sensitivity: 0.9533 - final_output_specificity: 0.9936 - out_3_accuracy: 0.9815 - out_3_dice_score: 0.4960 - out_3_precision: 0.9829 - out_3_sensitivity: 0.9796 - out_3_specificity: 0.9943 - out_2_accuracy: 0.9817 - out_2_dice_score: 0.5011 - out_2_precision: 0.9833 - out_2_sensitivity: 0.9798 - out_2_specificity: 0.9944 - out_1_accuracy: 0.9806 - out_1_dice_score: 0.4846 - out_1_precision: 0.9823 - out_1_sensitivity: 0.9786 - out_1_specificity: 0.9941 - val_loss: 7.3426 - val_final_output_loss: 1.7515 - val_out_3_loss: 1.7678 - val_out_2_loss: 1.8070 - val_out_1_loss: 1.9001 - val_final_output_accuracy: 0.9794 - val_final_output_dice_score: 0.5626 - val_final_output_precision: 0.9806 - val_final_output_sensitivity: 0.9563 - val_final_output_specificity: 0.9936 - val_out_3_accuracy: 0.9794 - val_out_3_dice_score: 0.5571 - val_out_3_precision: 0.9806 - val_out_3_sensitivity: 0.9755 - val_out_3_specificity: 0.9936 - val_out_2_accuracy: 0.9783 - val_out_2_dice_score: 0.5432 - val_out_2_precision: 0.9792 - val_out_2_sensitivity: 0.9747 - val_out_2_specificity: 0.9931 - val_out_1_accuracy: 0.9766 - val_out_1_dice_score: 0.5061 - val_out_1_precision: 0.9764 - val_out_1_sensitivity: 0.9731 - val_out_1_specificity: 0.9922\n",
            "Epoch 64/100\n",
            "8/8 [==============================] - 2s 310ms/step - loss: 7.2300 - final_output_loss: 1.7438 - out_3_loss: 1.7857 - out_2_loss: 1.7822 - out_1_loss: 1.8023 - final_output_accuracy: 0.9759 - final_output_dice_score: 0.5468 - final_output_precision: 0.9749 - final_output_sensitivity: 0.9469 - final_output_specificity: 0.9918 - out_3_accuracy: 0.9760 - out_3_dice_score: 0.5290 - out_3_precision: 0.9782 - out_3_sensitivity: 0.9737 - out_3_specificity: 0.9927 - out_2_accuracy: 0.9747 - out_2_dice_score: 0.5248 - out_2_precision: 0.9771 - out_2_sensitivity: 0.9722 - out_2_specificity: 0.9924 - out_1_accuracy: 0.9751 - out_1_dice_score: 0.5170 - out_1_precision: 0.9780 - out_1_sensitivity: 0.9725 - out_1_specificity: 0.9926 - val_loss: 7.0509 - val_final_output_loss: 1.6950 - val_out_3_loss: 1.7073 - val_out_2_loss: 1.7347 - val_out_1_loss: 1.7978 - val_final_output_accuracy: 0.9798 - val_final_output_dice_score: 0.5809 - val_final_output_precision: 0.9753 - val_final_output_sensitivity: 0.9478 - val_final_output_specificity: 0.9918 - val_out_3_accuracy: 0.9802 - val_out_3_dice_score: 0.5828 - val_out_3_precision: 0.9828 - val_out_3_sensitivity: 0.9768 - val_out_3_specificity: 0.9943 - val_out_2_accuracy: 0.9799 - val_out_2_dice_score: 0.5706 - val_out_2_precision: 0.9823 - val_out_2_sensitivity: 0.9763 - val_out_2_specificity: 0.9941 - val_out_1_accuracy: 0.9786 - val_out_1_dice_score: 0.5428 - val_out_1_precision: 0.9799 - val_out_1_sensitivity: 0.9746 - val_out_1_specificity: 0.9933\n",
            "Epoch 65/100\n",
            "8/8 [==============================] - 2s 310ms/step - loss: 6.7690 - final_output_loss: 1.6549 - out_3_loss: 1.6482 - out_2_loss: 1.6595 - out_1_loss: 1.6903 - final_output_accuracy: 0.9785 - final_output_dice_score: 0.5842 - final_output_precision: 0.9744 - final_output_sensitivity: 0.9413 - final_output_specificity: 0.9916 - out_3_accuracy: 0.9801 - out_3_dice_score: 0.5864 - out_3_precision: 0.9826 - out_3_sensitivity: 0.9770 - out_3_specificity: 0.9942 - out_2_accuracy: 0.9790 - out_2_dice_score: 0.5806 - out_2_precision: 0.9818 - out_2_sensitivity: 0.9758 - out_2_specificity: 0.9939 - out_1_accuracy: 0.9786 - out_1_dice_score: 0.5664 - out_1_precision: 0.9815 - out_1_sensitivity: 0.9756 - out_1_specificity: 0.9938 - val_loss: 7.0666 - val_final_output_loss: 1.7114 - val_out_3_loss: 1.7295 - val_out_2_loss: 1.7382 - val_out_1_loss: 1.7715 - val_final_output_accuracy: 0.9785 - val_final_output_dice_score: 0.5675 - val_final_output_precision: 0.9712 - val_final_output_sensitivity: 0.9409 - val_final_output_specificity: 0.9905 - val_out_3_accuracy: 0.9784 - val_out_3_dice_score: 0.5624 - val_out_3_precision: 0.9805 - val_out_3_sensitivity: 0.9749 - val_out_3_specificity: 0.9935 - val_out_2_accuracy: 0.9783 - val_out_2_dice_score: 0.5587 - val_out_2_precision: 0.9804 - val_out_2_sensitivity: 0.9746 - val_out_2_specificity: 0.9935 - val_out_1_accuracy: 0.9776 - val_out_1_dice_score: 0.5439 - val_out_1_precision: 0.9796 - val_out_1_sensitivity: 0.9745 - val_out_1_specificity: 0.9932\n",
            "Epoch 66/100\n",
            "8/8 [==============================] - 2s 311ms/step - loss: 6.7042 - final_output_loss: 1.6206 - out_3_loss: 1.6391 - out_2_loss: 1.6491 - out_1_loss: 1.6793 - final_output_accuracy: 0.9787 - final_output_dice_score: 0.6151 - final_output_precision: 0.9779 - final_output_sensitivity: 0.9366 - final_output_specificity: 0.9929 - out_3_accuracy: 0.9800 - out_3_dice_score: 0.6042 - out_3_precision: 0.9822 - out_3_sensitivity: 0.9772 - out_3_specificity: 0.9940 - out_2_accuracy: 0.9788 - out_2_dice_score: 0.5946 - out_2_precision: 0.9815 - out_2_sensitivity: 0.9758 - out_2_specificity: 0.9938 - out_1_accuracy: 0.9771 - out_1_dice_score: 0.5776 - out_1_precision: 0.9801 - out_1_sensitivity: 0.9742 - out_1_specificity: 0.9933 - val_loss: 6.9759 - val_final_output_loss: 1.6928 - val_out_3_loss: 1.7209 - val_out_2_loss: 1.7170 - val_out_1_loss: 1.7292 - val_final_output_accuracy: 0.9701 - val_final_output_dice_score: 0.5714 - val_final_output_precision: 0.9637 - val_final_output_sensitivity: 0.9073 - val_final_output_specificity: 0.9883 - val_out_3_accuracy: 0.9736 - val_out_3_dice_score: 0.5529 - val_out_3_precision: 0.9773 - val_out_3_sensitivity: 0.9682 - val_out_3_specificity: 0.9925 - val_out_2_accuracy: 0.9768 - val_out_2_dice_score: 0.5554 - val_out_2_precision: 0.9804 - val_out_2_sensitivity: 0.9715 - val_out_2_specificity: 0.9935 - val_out_1_accuracy: 0.9780 - val_out_1_dice_score: 0.5556 - val_out_1_precision: 0.9809 - val_out_1_sensitivity: 0.9733 - val_out_1_specificity: 0.9937\n",
            "Epoch 67/100\n",
            "8/8 [==============================] - 2s 305ms/step - loss: 7.1891 - final_output_loss: 1.7577 - out_3_loss: 1.7628 - out_2_loss: 1.7658 - out_1_loss: 1.7868 - final_output_accuracy: 0.9725 - final_output_dice_score: 0.5423 - final_output_precision: 0.9772 - final_output_sensitivity: 0.9144 - final_output_specificity: 0.9928 - out_3_accuracy: 0.9764 - out_3_dice_score: 0.5406 - out_3_precision: 0.9790 - out_3_sensitivity: 0.9742 - out_3_specificity: 0.9930 - out_2_accuracy: 0.9768 - out_2_dice_score: 0.5372 - out_2_precision: 0.9794 - out_2_sensitivity: 0.9743 - out_2_specificity: 0.9931 - out_1_accuracy: 0.9768 - out_1_dice_score: 0.5277 - out_1_precision: 0.9794 - out_1_sensitivity: 0.9741 - out_1_specificity: 0.9931 - val_loss: 6.8909 - val_final_output_loss: 1.6536 - val_out_3_loss: 1.6737 - val_out_2_loss: 1.6930 - val_out_1_loss: 1.7545 - val_final_output_accuracy: 0.9772 - val_final_output_dice_score: 0.5877 - val_final_output_precision: 0.9756 - val_final_output_sensitivity: 0.8973 - val_final_output_specificity: 0.9922 - val_out_3_accuracy: 0.9806 - val_out_3_dice_score: 0.5765 - val_out_3_precision: 0.9826 - val_out_3_sensitivity: 0.9757 - val_out_3_specificity: 0.9942 - val_out_2_accuracy: 0.9801 - val_out_2_dice_score: 0.5718 - val_out_2_precision: 0.9818 - val_out_2_sensitivity: 0.9757 - val_out_2_specificity: 0.9940 - val_out_1_accuracy: 0.9786 - val_out_1_dice_score: 0.5510 - val_out_1_precision: 0.9794 - val_out_1_sensitivity: 0.9748 - val_out_1_specificity: 0.9932\n",
            "Epoch 68/100\n",
            "8/8 [==============================] - 2s 310ms/step - loss: 6.8817 - final_output_loss: 1.6527 - out_3_loss: 1.6842 - out_2_loss: 1.6935 - out_1_loss: 1.7354 - final_output_accuracy: 0.9785 - final_output_dice_score: 0.5951 - final_output_precision: 0.9829 - final_output_sensitivity: 0.9098 - final_output_specificity: 0.9946 - out_3_accuracy: 0.9822 - out_3_dice_score: 0.5900 - out_3_precision: 0.9834 - out_3_sensitivity: 0.9803 - out_3_specificity: 0.9945 - out_2_accuracy: 0.9819 - out_2_dice_score: 0.5830 - out_2_precision: 0.9833 - out_2_sensitivity: 0.9799 - out_2_specificity: 0.9944 - out_1_accuracy: 0.9804 - out_1_dice_score: 0.5551 - out_1_precision: 0.9823 - out_1_sensitivity: 0.9782 - out_1_specificity: 0.9941 - val_loss: 6.9707 - val_final_output_loss: 1.6638 - val_out_3_loss: 1.6954 - val_out_2_loss: 1.7202 - val_out_1_loss: 1.7752 - val_final_output_accuracy: 0.9812 - val_final_output_dice_score: 0.5923 - val_final_output_precision: 0.9833 - val_final_output_sensitivity: 0.9181 - val_final_output_specificity: 0.9947 - val_out_3_accuracy: 0.9806 - val_out_3_dice_score: 0.5845 - val_out_3_precision: 0.9823 - val_out_3_sensitivity: 0.9777 - val_out_3_specificity: 0.9941 - val_out_2_accuracy: 0.9794 - val_out_2_dice_score: 0.5709 - val_out_2_precision: 0.9810 - val_out_2_sensitivity: 0.9762 - val_out_2_specificity: 0.9937 - val_out_1_accuracy: 0.9779 - val_out_1_dice_score: 0.5429 - val_out_1_precision: 0.9798 - val_out_1_sensitivity: 0.9745 - val_out_1_specificity: 0.9933\n",
            "Epoch 69/100\n",
            "8/8 [==============================] - 2s 311ms/step - loss: 6.8080 - final_output_loss: 1.6471 - out_3_loss: 1.6640 - out_2_loss: 1.6704 - out_1_loss: 1.7105 - final_output_accuracy: 0.9801 - final_output_dice_score: 0.5747 - final_output_precision: 0.9841 - final_output_sensitivity: 0.8997 - final_output_specificity: 0.9951 - out_3_accuracy: 0.9821 - out_3_dice_score: 0.5639 - out_3_precision: 0.9836 - out_3_sensitivity: 0.9801 - out_3_specificity: 0.9945 - out_2_accuracy: 0.9820 - out_2_dice_score: 0.5576 - out_2_precision: 0.9835 - out_2_sensitivity: 0.9797 - out_2_specificity: 0.9945 - out_1_accuracy: 0.9804 - out_1_dice_score: 0.5340 - out_1_precision: 0.9824 - out_1_sensitivity: 0.9779 - out_1_specificity: 0.9941 - val_loss: 6.8283 - val_final_output_loss: 1.6553 - val_out_3_loss: 1.6687 - val_out_2_loss: 1.6758 - val_out_1_loss: 1.7125 - val_final_output_accuracy: 0.9801 - val_final_output_dice_score: 0.5894 - val_final_output_precision: 0.9830 - val_final_output_sensitivity: 0.9157 - val_final_output_specificity: 0.9946 - val_out_3_accuracy: 0.9807 - val_out_3_dice_score: 0.5921 - val_out_3_precision: 0.9821 - val_out_3_sensitivity: 0.9765 - val_out_3_specificity: 0.9941 - val_out_2_accuracy: 0.9802 - val_out_2_dice_score: 0.5866 - val_out_2_precision: 0.9823 - val_out_2_sensitivity: 0.9765 - val_out_2_specificity: 0.9941 - val_out_1_accuracy: 0.9795 - val_out_1_dice_score: 0.5706 - val_out_1_precision: 0.9812 - val_out_1_sensitivity: 0.9763 - val_out_1_specificity: 0.9938\n",
            "Epoch 70/100\n",
            "8/8 [==============================] - 2s 310ms/step - loss: 7.1030 - final_output_loss: 1.7081 - out_3_loss: 1.7543 - out_2_loss: 1.7537 - out_1_loss: 1.7710 - final_output_accuracy: 0.9800 - final_output_dice_score: 0.5431 - final_output_precision: 0.9863 - final_output_sensitivity: 0.9019 - final_output_specificity: 0.9957 - out_3_accuracy: 0.9814 - out_3_dice_score: 0.5227 - out_3_precision: 0.9828 - out_3_sensitivity: 0.9796 - out_3_specificity: 0.9942 - out_2_accuracy: 0.9815 - out_2_dice_score: 0.5171 - out_2_precision: 0.9834 - out_2_sensitivity: 0.9794 - out_2_specificity: 0.9944 - out_1_accuracy: 0.9810 - out_1_dice_score: 0.5036 - out_1_precision: 0.9831 - out_1_sensitivity: 0.9787 - out_1_specificity: 0.9944 - val_loss: 6.8900 - val_final_output_loss: 1.6617 - val_out_3_loss: 1.6907 - val_out_2_loss: 1.7031 - val_out_1_loss: 1.7185 - val_final_output_accuracy: 0.9760 - val_final_output_dice_score: 0.5922 - val_final_output_precision: 0.9740 - val_final_output_sensitivity: 0.9060 - val_final_output_specificity: 0.9917 - val_out_3_accuracy: 0.9777 - val_out_3_dice_score: 0.5745 - val_out_3_precision: 0.9799 - val_out_3_sensitivity: 0.9725 - val_out_3_specificity: 0.9933 - val_out_2_accuracy: 0.9775 - val_out_2_dice_score: 0.5652 - val_out_2_precision: 0.9799 - val_out_2_sensitivity: 0.9721 - val_out_2_specificity: 0.9933 - val_out_1_accuracy: 0.9774 - val_out_1_dice_score: 0.5572 - val_out_1_precision: 0.9794 - val_out_1_sensitivity: 0.9722 - val_out_1_specificity: 0.9932\n",
            "Epoch 71/100\n",
            "8/8 [==============================] - 2s 316ms/step - loss: 7.0581 - final_output_loss: 1.6875 - out_3_loss: 1.7428 - out_2_loss: 1.7457 - out_1_loss: 1.7661 - final_output_accuracy: 0.9753 - final_output_dice_score: 0.5524 - final_output_precision: 0.9778 - final_output_sensitivity: 0.8935 - final_output_specificity: 0.9932 - out_3_accuracy: 0.9778 - out_3_dice_score: 0.5230 - out_3_precision: 0.9805 - out_3_sensitivity: 0.9753 - out_3_specificity: 0.9935 - out_2_accuracy: 0.9780 - out_2_dice_score: 0.5165 - out_2_precision: 0.9819 - out_2_sensitivity: 0.9751 - out_2_specificity: 0.9939 - out_1_accuracy: 0.9779 - out_1_dice_score: 0.5059 - out_1_precision: 0.9816 - out_1_sensitivity: 0.9749 - out_1_specificity: 0.9938 - val_loss: 6.8289 - val_final_output_loss: 1.6468 - val_out_3_loss: 1.6693 - val_out_2_loss: 1.6718 - val_out_1_loss: 1.7251 - val_final_output_accuracy: 0.9813 - val_final_output_dice_score: 0.6055 - val_final_output_precision: 0.9785 - val_final_output_sensitivity: 0.9387 - val_final_output_specificity: 0.9930 - val_out_3_accuracy: 0.9812 - val_out_3_dice_score: 0.5982 - val_out_3_precision: 0.9821 - val_out_3_sensitivity: 0.9771 - val_out_3_specificity: 0.9941 - val_out_2_accuracy: 0.9810 - val_out_2_dice_score: 0.5947 - val_out_2_precision: 0.9819 - val_out_2_sensitivity: 0.9766 - val_out_2_specificity: 0.9940 - val_out_1_accuracy: 0.9799 - val_out_1_dice_score: 0.5745 - val_out_1_precision: 0.9801 - val_out_1_sensitivity: 0.9758 - val_out_1_specificity: 0.9934\n",
            "Epoch 72/100\n",
            "8/8 [==============================] - 2s 311ms/step - loss: 6.8138 - final_output_loss: 1.6374 - out_3_loss: 1.6763 - out_2_loss: 1.6773 - out_1_loss: 1.7068 - final_output_accuracy: 0.9815 - final_output_dice_score: 0.6101 - final_output_precision: 0.9834 - final_output_sensitivity: 0.9233 - final_output_specificity: 0.9947 - out_3_accuracy: 0.9823 - out_3_dice_score: 0.5955 - out_3_precision: 0.9835 - out_3_sensitivity: 0.9805 - out_3_specificity: 0.9945 - out_2_accuracy: 0.9818 - out_2_dice_score: 0.5905 - out_2_precision: 0.9830 - out_2_sensitivity: 0.9799 - out_2_specificity: 0.9943 - out_1_accuracy: 0.9808 - out_1_dice_score: 0.5719 - out_1_precision: 0.9821 - out_1_sensitivity: 0.9787 - out_1_specificity: 0.9940 - val_loss: 6.7623 - val_final_output_loss: 1.6237 - val_out_3_loss: 1.6504 - val_out_2_loss: 1.6612 - val_out_1_loss: 1.7111 - val_final_output_accuracy: 0.9804 - val_final_output_dice_score: 0.6219 - val_final_output_precision: 0.9754 - val_final_output_sensitivity: 0.9191 - val_final_output_specificity: 0.9920 - val_out_3_accuracy: 0.9821 - val_out_3_dice_score: 0.6136 - val_out_3_precision: 0.9814 - val_out_3_sensitivity: 0.9778 - val_out_3_specificity: 0.9938 - val_out_2_accuracy: 0.9814 - val_out_2_dice_score: 0.6003 - val_out_2_precision: 0.9809 - val_out_2_sensitivity: 0.9766 - val_out_2_specificity: 0.9937 - val_out_1_accuracy: 0.9803 - val_out_1_dice_score: 0.5799 - val_out_1_precision: 0.9797 - val_out_1_sensitivity: 0.9759 - val_out_1_specificity: 0.9933\n",
            "Epoch 73/100\n",
            "8/8 [==============================] - 2s 310ms/step - loss: 6.9702 - final_output_loss: 1.6768 - out_3_loss: 1.7102 - out_2_loss: 1.7203 - out_1_loss: 1.7469 - final_output_accuracy: 0.9754 - final_output_dice_score: 0.5772 - final_output_precision: 0.9776 - final_output_sensitivity: 0.8980 - final_output_specificity: 0.9931 - out_3_accuracy: 0.9786 - out_3_dice_score: 0.5623 - out_3_precision: 0.9804 - out_3_sensitivity: 0.9763 - out_3_specificity: 0.9935 - out_2_accuracy: 0.9781 - out_2_dice_score: 0.5520 - out_2_precision: 0.9804 - out_2_sensitivity: 0.9754 - out_2_specificity: 0.9934 - out_1_accuracy: 0.9766 - out_1_dice_score: 0.5391 - out_1_precision: 0.9787 - out_1_sensitivity: 0.9742 - out_1_specificity: 0.9929 - val_loss: 7.0582 - val_final_output_loss: 1.6879 - val_out_3_loss: 1.7186 - val_out_2_loss: 1.7234 - val_out_1_loss: 1.8123 - val_final_output_accuracy: 0.9784 - val_final_output_dice_score: 0.5864 - val_final_output_precision: 0.9813 - val_final_output_sensitivity: 0.9012 - val_final_output_specificity: 0.9941 - val_out_3_accuracy: 0.9804 - val_out_3_dice_score: 0.5782 - val_out_3_precision: 0.9801 - val_out_3_sensitivity: 0.9762 - val_out_3_specificity: 0.9934 - val_out_2_accuracy: 0.9800 - val_out_2_dice_score: 0.5692 - val_out_2_precision: 0.9801 - val_out_2_sensitivity: 0.9755 - val_out_2_specificity: 0.9934 - val_out_1_accuracy: 0.9778 - val_out_1_dice_score: 0.5333 - val_out_1_precision: 0.9776 - val_out_1_sensitivity: 0.9740 - val_out_1_specificity: 0.9926\n",
            "Epoch 74/100\n",
            "8/8 [==============================] - 2s 311ms/step - loss: 6.8238 - final_output_loss: 1.6392 - out_3_loss: 1.6751 - out_2_loss: 1.6792 - out_1_loss: 1.7144 - final_output_accuracy: 0.9818 - final_output_dice_score: 0.5870 - final_output_precision: 0.9847 - final_output_sensitivity: 0.9024 - final_output_specificity: 0.9952 - out_3_accuracy: 0.9838 - out_3_dice_score: 0.5728 - out_3_precision: 0.9850 - out_3_sensitivity: 0.9821 - out_3_specificity: 0.9950 - out_2_accuracy: 0.9841 - out_2_dice_score: 0.5704 - out_2_precision: 0.9855 - out_2_sensitivity: 0.9823 - out_2_specificity: 0.9951 - out_1_accuracy: 0.9834 - out_1_dice_score: 0.5468 - out_1_precision: 0.9849 - out_1_sensitivity: 0.9815 - out_1_specificity: 0.9949 - val_loss: 7.6475 - val_final_output_loss: 1.8685 - val_out_3_loss: 1.8861 - val_out_2_loss: 1.8697 - val_out_1_loss: 1.9072 - val_final_output_accuracy: 0.9790 - val_final_output_dice_score: 0.5102 - val_final_output_precision: 0.9847 - val_final_output_sensitivity: 0.9025 - val_final_output_specificity: 0.9951 - val_out_3_accuracy: 0.9782 - val_out_3_dice_score: 0.5152 - val_out_3_precision: 0.9769 - val_out_3_sensitivity: 0.9746 - val_out_3_specificity: 0.9923 - val_out_2_accuracy: 0.9781 - val_out_2_dice_score: 0.5206 - val_out_2_precision: 0.9771 - val_out_2_sensitivity: 0.9743 - val_out_2_specificity: 0.9924 - val_out_1_accuracy: 0.9768 - val_out_1_dice_score: 0.4985 - val_out_1_precision: 0.9762 - val_out_1_sensitivity: 0.9733 - val_out_1_specificity: 0.9921\n",
            "Epoch 75/100\n",
            "8/8 [==============================] - 2s 304ms/step - loss: 6.7665 - final_output_loss: 1.6282 - out_3_loss: 1.6546 - out_2_loss: 1.6627 - out_1_loss: 1.7050 - final_output_accuracy: 0.9799 - final_output_dice_score: 0.6010 - final_output_precision: 0.9849 - final_output_sensitivity: 0.8848 - final_output_specificity: 0.9954 - out_3_accuracy: 0.9816 - out_3_dice_score: 0.5916 - out_3_precision: 0.9826 - out_3_sensitivity: 0.9794 - out_3_specificity: 0.9942 - out_2_accuracy: 0.9808 - out_2_dice_score: 0.5831 - out_2_precision: 0.9822 - out_2_sensitivity: 0.9786 - out_2_specificity: 0.9941 - out_1_accuracy: 0.9792 - out_1_dice_score: 0.5563 - out_1_precision: 0.9811 - out_1_sensitivity: 0.9766 - out_1_specificity: 0.9937 - val_loss: 6.8906 - val_final_output_loss: 1.6572 - val_out_3_loss: 1.6896 - val_out_2_loss: 1.6909 - val_out_1_loss: 1.7369 - val_final_output_accuracy: 0.9774 - val_final_output_dice_score: 0.6010 - val_final_output_precision: 0.9764 - val_final_output_sensitivity: 0.8921 - val_final_output_specificity: 0.9925 - val_out_3_accuracy: 0.9799 - val_out_3_dice_score: 0.5927 - val_out_3_precision: 0.9795 - val_out_3_sensitivity: 0.9761 - val_out_3_specificity: 0.9932 - val_out_2_accuracy: 0.9788 - val_out_2_dice_score: 0.5827 - val_out_2_precision: 0.9788 - val_out_2_sensitivity: 0.9743 - val_out_2_specificity: 0.9930 - val_out_1_accuracy: 0.9787 - val_out_1_dice_score: 0.5684 - val_out_1_precision: 0.9788 - val_out_1_sensitivity: 0.9747 - val_out_1_specificity: 0.9930\n",
            "Epoch 76/100\n",
            "8/8 [==============================] - 2s 312ms/step - loss: 6.7281 - final_output_loss: 1.6116 - out_3_loss: 1.6436 - out_2_loss: 1.6586 - out_1_loss: 1.6984 - final_output_accuracy: 0.9808 - final_output_dice_score: 0.6039 - final_output_precision: 0.9842 - final_output_sensitivity: 0.8955 - final_output_specificity: 0.9951 - out_3_accuracy: 0.9819 - out_3_dice_score: 0.5905 - out_3_precision: 0.9832 - out_3_sensitivity: 0.9801 - out_3_specificity: 0.9944 - out_2_accuracy: 0.9806 - out_2_dice_score: 0.5771 - out_2_precision: 0.9822 - out_2_sensitivity: 0.9785 - out_2_specificity: 0.9940 - out_1_accuracy: 0.9804 - out_1_dice_score: 0.5572 - out_1_precision: 0.9823 - out_1_sensitivity: 0.9782 - out_1_specificity: 0.9941 - val_loss: 7.8399 - val_final_output_loss: 1.8866 - val_out_3_loss: 1.9111 - val_out_2_loss: 1.8968 - val_out_1_loss: 2.0293 - val_final_output_accuracy: 0.9782 - val_final_output_dice_score: 0.5142 - val_final_output_precision: 0.9912 - val_final_output_sensitivity: 0.9275 - val_final_output_specificity: 0.9972 - val_out_3_accuracy: 0.9772 - val_out_3_dice_score: 0.5229 - val_out_3_precision: 0.9764 - val_out_3_sensitivity: 0.9731 - val_out_3_specificity: 0.9922 - val_out_2_accuracy: 0.9770 - val_out_2_dice_score: 0.5250 - val_out_2_precision: 0.9765 - val_out_2_sensitivity: 0.9729 - val_out_2_specificity: 0.9922 - val_out_1_accuracy: 0.9752 - val_out_1_dice_score: 0.4794 - val_out_1_precision: 0.9739 - val_out_1_sensitivity: 0.9710 - val_out_1_specificity: 0.9913\n",
            "Epoch 77/100\n",
            "8/8 [==============================] - 2s 310ms/step - loss: 6.6725 - final_output_loss: 1.6019 - out_3_loss: 1.6352 - out_2_loss: 1.6469 - out_1_loss: 1.6725 - final_output_accuracy: 0.9825 - final_output_dice_score: 0.6251 - final_output_precision: 0.9862 - final_output_sensitivity: 0.8956 - final_output_specificity: 0.9958 - out_3_accuracy: 0.9845 - out_3_dice_score: 0.6155 - out_3_precision: 0.9851 - out_3_sensitivity: 0.9830 - out_3_specificity: 0.9950 - out_2_accuracy: 0.9839 - out_2_dice_score: 0.6106 - out_2_precision: 0.9847 - out_2_sensitivity: 0.9825 - out_2_specificity: 0.9949 - out_1_accuracy: 0.9829 - out_1_dice_score: 0.5880 - out_1_precision: 0.9842 - out_1_sensitivity: 0.9812 - out_1_specificity: 0.9947 - val_loss: 7.8385 - val_final_output_loss: 1.8933 - val_out_3_loss: 1.9428 - val_out_2_loss: 1.9254 - val_out_1_loss: 1.9611 - val_final_output_accuracy: 0.9788 - val_final_output_dice_score: 0.5044 - val_final_output_precision: 0.9924 - val_final_output_sensitivity: 0.9205 - val_final_output_specificity: 0.9977 - val_out_3_accuracy: 0.9772 - val_out_3_dice_score: 0.5069 - val_out_3_precision: 0.9761 - val_out_3_sensitivity: 0.9727 - val_out_3_specificity: 0.9921 - val_out_2_accuracy: 0.9772 - val_out_2_dice_score: 0.5100 - val_out_2_precision: 0.9761 - val_out_2_sensitivity: 0.9728 - val_out_2_specificity: 0.9921 - val_out_1_accuracy: 0.9768 - val_out_1_dice_score: 0.4917 - val_out_1_precision: 0.9756 - val_out_1_sensitivity: 0.9722 - val_out_1_specificity: 0.9919\n",
            "Epoch 78/100\n",
            "8/8 [==============================] - 2s 310ms/step - loss: 6.7015 - final_output_loss: 1.6075 - out_3_loss: 1.6446 - out_2_loss: 1.6475 - out_1_loss: 1.6860 - final_output_accuracy: 0.9756 - final_output_dice_score: 0.6071 - final_output_precision: 0.9815 - final_output_sensitivity: 0.8714 - final_output_specificity: 0.9945 - out_3_accuracy: 0.9792 - out_3_dice_score: 0.5990 - out_3_precision: 0.9813 - out_3_sensitivity: 0.9770 - out_3_specificity: 0.9937 - out_2_accuracy: 0.9786 - out_2_dice_score: 0.5944 - out_2_precision: 0.9807 - out_2_sensitivity: 0.9761 - out_2_specificity: 0.9935 - out_1_accuracy: 0.9777 - out_1_dice_score: 0.5740 - out_1_precision: 0.9794 - out_1_sensitivity: 0.9754 - out_1_specificity: 0.9931 - val_loss: 6.7497 - val_final_output_loss: 1.6192 - val_out_3_loss: 1.6599 - val_out_2_loss: 1.6579 - val_out_1_loss: 1.6968 - val_final_output_accuracy: 0.9820 - val_final_output_dice_score: 0.6171 - val_final_output_precision: 0.9833 - val_final_output_sensitivity: 0.9245 - val_final_output_specificity: 0.9946 - val_out_3_accuracy: 0.9815 - val_out_3_dice_score: 0.6077 - val_out_3_precision: 0.9813 - val_out_3_sensitivity: 0.9775 - val_out_3_specificity: 0.9938 - val_out_2_accuracy: 0.9812 - val_out_2_dice_score: 0.5999 - val_out_2_precision: 0.9817 - val_out_2_sensitivity: 0.9769 - val_out_2_specificity: 0.9939 - val_out_1_accuracy: 0.9801 - val_out_1_dice_score: 0.5733 - val_out_1_precision: 0.9802 - val_out_1_sensitivity: 0.9754 - val_out_1_specificity: 0.9934\n",
            "Epoch 79/100\n",
            "8/8 [==============================] - 2s 311ms/step - loss: 6.7207 - final_output_loss: 1.6124 - out_3_loss: 1.6397 - out_2_loss: 1.6558 - out_1_loss: 1.6969 - final_output_accuracy: 0.9773 - final_output_dice_score: 0.6172 - final_output_precision: 0.9821 - final_output_sensitivity: 0.9021 - final_output_specificity: 0.9944 - out_3_accuracy: 0.9793 - out_3_dice_score: 0.6056 - out_3_precision: 0.9806 - out_3_sensitivity: 0.9773 - out_3_specificity: 0.9935 - out_2_accuracy: 0.9779 - out_2_dice_score: 0.5921 - out_2_precision: 0.9796 - out_2_sensitivity: 0.9757 - out_2_specificity: 0.9932 - out_1_accuracy: 0.9774 - out_1_dice_score: 0.5658 - out_1_precision: 0.9798 - out_1_sensitivity: 0.9748 - out_1_specificity: 0.9933 - val_loss: 8.0641 - val_final_output_loss: 2.0048 - val_out_3_loss: 2.0071 - val_out_2_loss: 1.9499 - val_out_1_loss: 1.9864 - val_final_output_accuracy: 0.9770 - val_final_output_dice_score: 0.4744 - val_final_output_precision: 0.9836 - val_final_output_sensitivity: 0.9551 - val_final_output_specificity: 0.9947 - val_out_3_accuracy: 0.9767 - val_out_3_dice_score: 0.4823 - val_out_3_precision: 0.9734 - val_out_3_sensitivity: 0.9721 - val_out_3_specificity: 0.9912 - val_out_2_accuracy: 0.9770 - val_out_2_dice_score: 0.4994 - val_out_2_precision: 0.9748 - val_out_2_sensitivity: 0.9728 - val_out_2_specificity: 0.9916 - val_out_1_accuracy: 0.9761 - val_out_1_dice_score: 0.4850 - val_out_1_precision: 0.9739 - val_out_1_sensitivity: 0.9719 - val_out_1_specificity: 0.9913\n",
            "Epoch 80/100\n",
            "8/8 [==============================] - 2s 312ms/step - loss: 6.9567 - final_output_loss: 1.6896 - out_3_loss: 1.7055 - out_2_loss: 1.7138 - out_1_loss: 1.7320 - final_output_accuracy: 0.9794 - final_output_dice_score: 0.5746 - final_output_precision: 0.9837 - final_output_sensitivity: 0.9083 - final_output_specificity: 0.9949 - out_3_accuracy: 0.9806 - out_3_dice_score: 0.5666 - out_3_precision: 0.9815 - out_3_sensitivity: 0.9791 - out_3_specificity: 0.9938 - out_2_accuracy: 0.9800 - out_2_dice_score: 0.5570 - out_2_precision: 0.9814 - out_2_sensitivity: 0.9783 - out_2_specificity: 0.9938 - out_1_accuracy: 0.9806 - out_1_dice_score: 0.5479 - out_1_precision: 0.9822 - out_1_sensitivity: 0.9785 - out_1_specificity: 0.9940 - val_loss: 6.7474 - val_final_output_loss: 1.6276 - val_out_3_loss: 1.6599 - val_out_2_loss: 1.6524 - val_out_1_loss: 1.6916 - val_final_output_accuracy: 0.9802 - val_final_output_dice_score: 0.6104 - val_final_output_precision: 0.9798 - val_final_output_sensitivity: 0.9251 - val_final_output_specificity: 0.9935 - val_out_3_accuracy: 0.9806 - val_out_3_dice_score: 0.6059 - val_out_3_precision: 0.9794 - val_out_3_sensitivity: 0.9765 - val_out_3_specificity: 0.9931 - val_out_2_accuracy: 0.9808 - val_out_2_dice_score: 0.6063 - val_out_2_precision: 0.9805 - val_out_2_sensitivity: 0.9768 - val_out_2_specificity: 0.9935 - val_out_1_accuracy: 0.9803 - val_out_1_dice_score: 0.5933 - val_out_1_precision: 0.9800 - val_out_1_sensitivity: 0.9768 - val_out_1_specificity: 0.9933\n",
            "Epoch 81/100\n",
            "8/8 [==============================] - 2s 313ms/step - loss: 6.9879 - final_output_loss: 1.6903 - out_3_loss: 1.7170 - out_2_loss: 1.7248 - out_1_loss: 1.7399 - final_output_accuracy: 0.9812 - final_output_dice_score: 0.5470 - final_output_precision: 0.9850 - final_output_sensitivity: 0.8920 - final_output_specificity: 0.9954 - out_3_accuracy: 0.9832 - out_3_dice_score: 0.5413 - out_3_precision: 0.9849 - out_3_sensitivity: 0.9813 - out_3_specificity: 0.9950 - out_2_accuracy: 0.9825 - out_2_dice_score: 0.5367 - out_2_precision: 0.9846 - out_2_sensitivity: 0.9804 - out_2_specificity: 0.9948 - out_1_accuracy: 0.9822 - out_1_dice_score: 0.5256 - out_1_precision: 0.9842 - out_1_sensitivity: 0.9801 - out_1_specificity: 0.9947 - val_loss: 7.5056 - val_final_output_loss: 1.7948 - val_out_3_loss: 1.8531 - val_out_2_loss: 1.8551 - val_out_1_loss: 1.8868 - val_final_output_accuracy: 0.9805 - val_final_output_dice_score: 0.5559 - val_final_output_precision: 0.9867 - val_final_output_sensitivity: 0.9229 - val_final_output_specificity: 0.9958 - val_out_3_accuracy: 0.9782 - val_out_3_dice_score: 0.5436 - val_out_3_precision: 0.9774 - val_out_3_sensitivity: 0.9750 - val_out_3_specificity: 0.9925 - val_out_2_accuracy: 0.9776 - val_out_2_dice_score: 0.5383 - val_out_2_precision: 0.9767 - val_out_2_sensitivity: 0.9741 - val_out_2_specificity: 0.9923 - val_out_1_accuracy: 0.9771 - val_out_1_dice_score: 0.5163 - val_out_1_precision: 0.9761 - val_out_1_sensitivity: 0.9735 - val_out_1_specificity: 0.9921\n",
            "Epoch 82/100\n",
            "8/8 [==============================] - 2s 313ms/step - loss: 6.8796 - final_output_loss: 1.6655 - out_3_loss: 1.6919 - out_2_loss: 1.6911 - out_1_loss: 1.7151 - final_output_accuracy: 0.9753 - final_output_dice_score: 0.5804 - final_output_precision: 0.9788 - final_output_sensitivity: 0.9045 - final_output_specificity: 0.9934 - out_3_accuracy: 0.9789 - out_3_dice_score: 0.5701 - out_3_precision: 0.9804 - out_3_sensitivity: 0.9771 - out_3_specificity: 0.9934 - out_2_accuracy: 0.9793 - out_2_dice_score: 0.5664 - out_2_precision: 0.9809 - out_2_sensitivity: 0.9774 - out_2_specificity: 0.9936 - out_1_accuracy: 0.9789 - out_1_dice_score: 0.5496 - out_1_precision: 0.9807 - out_1_sensitivity: 0.9768 - out_1_specificity: 0.9935 - val_loss: 6.9047 - val_final_output_loss: 1.6613 - val_out_3_loss: 1.6837 - val_out_2_loss: 1.6901 - val_out_1_loss: 1.7536 - val_final_output_accuracy: 0.9737 - val_final_output_dice_score: 0.6125 - val_final_output_precision: 0.9743 - val_final_output_sensitivity: 0.9152 - val_final_output_specificity: 0.9918 - val_out_3_accuracy: 0.9763 - val_out_3_dice_score: 0.6032 - val_out_3_precision: 0.9774 - val_out_3_sensitivity: 0.9738 - val_out_3_specificity: 0.9925 - val_out_2_accuracy: 0.9769 - val_out_2_dice_score: 0.5932 - val_out_2_precision: 0.9789 - val_out_2_sensitivity: 0.9739 - val_out_2_specificity: 0.9930 - val_out_1_accuracy: 0.9772 - val_out_1_dice_score: 0.5760 - val_out_1_precision: 0.9782 - val_out_1_sensitivity: 0.9741 - val_out_1_specificity: 0.9928\n",
            "Epoch 83/100\n",
            "8/8 [==============================] - 2s 305ms/step - loss: 6.8314 - final_output_loss: 1.6443 - out_3_loss: 1.6708 - out_2_loss: 1.6807 - out_1_loss: 1.7197 - final_output_accuracy: 0.9803 - final_output_dice_score: 0.6119 - final_output_precision: 0.9838 - final_output_sensitivity: 0.9058 - final_output_specificity: 0.9949 - out_3_accuracy: 0.9797 - out_3_dice_score: 0.5958 - out_3_precision: 0.9819 - out_3_sensitivity: 0.9777 - out_3_specificity: 0.9939 - out_2_accuracy: 0.9787 - out_2_dice_score: 0.5850 - out_2_precision: 0.9814 - out_2_sensitivity: 0.9764 - out_2_specificity: 0.9938 - out_1_accuracy: 0.9792 - out_1_dice_score: 0.5737 - out_1_precision: 0.9819 - out_1_sensitivity: 0.9769 - out_1_specificity: 0.9939 - val_loss: 6.9373 - val_final_output_loss: 1.6662 - val_out_3_loss: 1.6894 - val_out_2_loss: 1.7084 - val_out_1_loss: 1.7573 - val_final_output_accuracy: 0.9755 - val_final_output_dice_score: 0.5973 - val_final_output_precision: 0.9756 - val_final_output_sensitivity: 0.8984 - val_final_output_specificity: 0.9923 - val_out_3_accuracy: 0.9766 - val_out_3_dice_score: 0.5914 - val_out_3_precision: 0.9785 - val_out_3_sensitivity: 0.9730 - val_out_3_specificity: 0.9929 - val_out_2_accuracy: 0.9762 - val_out_2_dice_score: 0.5800 - val_out_2_precision: 0.9782 - val_out_2_sensitivity: 0.9724 - val_out_2_specificity: 0.9928 - val_out_1_accuracy: 0.9764 - val_out_1_dice_score: 0.5691 - val_out_1_precision: 0.9778 - val_out_1_sensitivity: 0.9729 - val_out_1_specificity: 0.9926\n",
            "Epoch 84/100\n",
            "8/8 [==============================] - 2s 312ms/step - loss: 6.9201 - final_output_loss: 1.6767 - out_3_loss: 1.6995 - out_2_loss: 1.6945 - out_1_loss: 1.7334 - final_output_accuracy: 0.9779 - final_output_dice_score: 0.5803 - final_output_precision: 0.9847 - final_output_sensitivity: 0.8790 - final_output_specificity: 0.9953 - out_3_accuracy: 0.9792 - out_3_dice_score: 0.5723 - out_3_precision: 0.9812 - out_3_sensitivity: 0.9769 - out_3_specificity: 0.9937 - out_2_accuracy: 0.9790 - out_2_dice_score: 0.5706 - out_2_precision: 0.9815 - out_2_sensitivity: 0.9765 - out_2_specificity: 0.9938 - out_1_accuracy: 0.9780 - out_1_dice_score: 0.5482 - out_1_precision: 0.9811 - out_1_sensitivity: 0.9751 - out_1_specificity: 0.9937 - val_loss: 6.8934 - val_final_output_loss: 1.6652 - val_out_3_loss: 1.6812 - val_out_2_loss: 1.6873 - val_out_1_loss: 1.7437 - val_final_output_accuracy: 0.9725 - val_final_output_dice_score: 0.5993 - val_final_output_precision: 0.9697 - val_final_output_sensitivity: 0.8845 - val_final_output_specificity: 0.9905 - val_out_3_accuracy: 0.9773 - val_out_3_dice_score: 0.5968 - val_out_3_precision: 0.9782 - val_out_3_sensitivity: 0.9734 - val_out_3_specificity: 0.9928 - val_out_2_accuracy: 0.9784 - val_out_2_dice_score: 0.5947 - val_out_2_precision: 0.9792 - val_out_2_sensitivity: 0.9744 - val_out_2_specificity: 0.9931 - val_out_1_accuracy: 0.9771 - val_out_1_dice_score: 0.5731 - val_out_1_precision: 0.9778 - val_out_1_sensitivity: 0.9727 - val_out_1_specificity: 0.9926\n",
            "Epoch 85/100\n",
            "8/8 [==============================] - 2s 311ms/step - loss: 6.5518 - final_output_loss: 1.5735 - out_3_loss: 1.6014 - out_2_loss: 1.6108 - out_1_loss: 1.6502 - final_output_accuracy: 0.9804 - final_output_dice_score: 0.6357 - final_output_precision: 0.9850 - final_output_sensitivity: 0.8721 - final_output_specificity: 0.9955 - out_3_accuracy: 0.9829 - out_3_dice_score: 0.6362 - out_3_precision: 0.9836 - out_3_sensitivity: 0.9812 - out_3_specificity: 0.9945 - out_2_accuracy: 0.9824 - out_2_dice_score: 0.6315 - out_2_precision: 0.9833 - out_2_sensitivity: 0.9806 - out_2_specificity: 0.9944 - out_1_accuracy: 0.9810 - out_1_dice_score: 0.6058 - out_1_precision: 0.9822 - out_1_sensitivity: 0.9789 - out_1_specificity: 0.9940 - val_loss: 6.7332 - val_final_output_loss: 1.6180 - val_out_3_loss: 1.6480 - val_out_2_loss: 1.6554 - val_out_1_loss: 1.6959 - val_final_output_accuracy: 0.9749 - val_final_output_dice_score: 0.6271 - val_final_output_precision: 0.9766 - val_final_output_sensitivity: 0.8845 - val_final_output_specificity: 0.9927 - val_out_3_accuracy: 0.9804 - val_out_3_dice_score: 0.6123 - val_out_3_precision: 0.9797 - val_out_3_sensitivity: 0.9757 - val_out_3_specificity: 0.9933 - val_out_2_accuracy: 0.9805 - val_out_2_dice_score: 0.6105 - val_out_2_precision: 0.9801 - val_out_2_sensitivity: 0.9757 - val_out_2_specificity: 0.9934 - val_out_1_accuracy: 0.9808 - val_out_1_dice_score: 0.5979 - val_out_1_precision: 0.9806 - val_out_1_sensitivity: 0.9768 - val_out_1_specificity: 0.9936\n",
            "Epoch 86/100\n",
            "8/8 [==============================] - 2s 313ms/step - loss: 7.1349 - final_output_loss: 1.7173 - out_3_loss: 1.7607 - out_2_loss: 1.7735 - out_1_loss: 1.7675 - final_output_accuracy: 0.9699 - final_output_dice_score: 0.5748 - final_output_precision: 0.9795 - final_output_sensitivity: 0.8699 - final_output_specificity: 0.9939 - out_3_accuracy: 0.9732 - out_3_dice_score: 0.5545 - out_3_precision: 0.9752 - out_3_sensitivity: 0.9712 - out_3_specificity: 0.9917 - out_2_accuracy: 0.9726 - out_2_dice_score: 0.5442 - out_2_precision: 0.9751 - out_2_sensitivity: 0.9703 - out_2_specificity: 0.9917 - out_1_accuracy: 0.9743 - out_1_dice_score: 0.5403 - out_1_precision: 0.9766 - out_1_sensitivity: 0.9717 - out_1_specificity: 0.9922 - val_loss: 6.9002 - val_final_output_loss: 1.6867 - val_out_3_loss: 1.7246 - val_out_2_loss: 1.7016 - val_out_1_loss: 1.6715 - val_final_output_accuracy: 0.9569 - val_final_output_dice_score: 0.5916 - val_final_output_precision: 0.9568 - val_final_output_sensitivity: 0.8689 - val_final_output_specificity: 0.9867 - val_out_3_accuracy: 0.9640 - val_out_3_dice_score: 0.5620 - val_out_3_precision: 0.9670 - val_out_3_sensitivity: 0.9598 - val_out_3_specificity: 0.9891 - val_out_2_accuracy: 0.9684 - val_out_2_dice_score: 0.5666 - val_out_2_precision: 0.9713 - val_out_2_sensitivity: 0.9636 - val_out_2_specificity: 0.9905 - val_out_1_accuracy: 0.9759 - val_out_1_dice_score: 0.5845 - val_out_1_precision: 0.9771 - val_out_1_sensitivity: 0.9713 - val_out_1_specificity: 0.9924\n",
            "Epoch 87/100\n",
            "8/8 [==============================] - 2s 313ms/step - loss: 6.7272 - final_output_loss: 1.6107 - out_3_loss: 1.6477 - out_2_loss: 1.6565 - out_1_loss: 1.6965 - final_output_accuracy: 0.9792 - final_output_dice_score: 0.6132 - final_output_precision: 0.9869 - final_output_sensitivity: 0.8700 - final_output_specificity: 0.9961 - out_3_accuracy: 0.9792 - out_3_dice_score: 0.5990 - out_3_precision: 0.9808 - out_3_sensitivity: 0.9768 - out_3_specificity: 0.9936 - out_2_accuracy: 0.9783 - out_2_dice_score: 0.5881 - out_2_precision: 0.9804 - out_2_sensitivity: 0.9755 - out_2_specificity: 0.9934 - out_1_accuracy: 0.9793 - out_1_dice_score: 0.5751 - out_1_precision: 0.9809 - out_1_sensitivity: 0.9773 - out_1_specificity: 0.9936 - val_loss: 6.6258 - val_final_output_loss: 1.5926 - val_out_3_loss: 1.6152 - val_out_2_loss: 1.6278 - val_out_1_loss: 1.6743 - val_final_output_accuracy: 0.9811 - val_final_output_dice_score: 0.6261 - val_final_output_precision: 0.9809 - val_final_output_sensitivity: 0.8888 - val_final_output_specificity: 0.9941 - val_out_3_accuracy: 0.9817 - val_out_3_dice_score: 0.6209 - val_out_3_precision: 0.9822 - val_out_3_sensitivity: 0.9774 - val_out_3_specificity: 0.9941 - val_out_2_accuracy: 0.9816 - val_out_2_dice_score: 0.6188 - val_out_2_precision: 0.9816 - val_out_2_sensitivity: 0.9775 - val_out_2_specificity: 0.9939 - val_out_1_accuracy: 0.9805 - val_out_1_dice_score: 0.5979 - val_out_1_precision: 0.9801 - val_out_1_sensitivity: 0.9765 - val_out_1_specificity: 0.9934\n",
            "Epoch 88/100\n",
            "8/8 [==============================] - 2s 310ms/step - loss: 6.4816 - final_output_loss: 1.5680 - out_3_loss: 1.5866 - out_2_loss: 1.5885 - out_1_loss: 1.6225 - final_output_accuracy: 0.9798 - final_output_dice_score: 0.6268 - final_output_precision: 0.9849 - final_output_sensitivity: 0.8679 - final_output_specificity: 0.9955 - out_3_accuracy: 0.9830 - out_3_dice_score: 0.6300 - out_3_precision: 0.9841 - out_3_sensitivity: 0.9814 - out_3_specificity: 0.9947 - out_2_accuracy: 0.9827 - out_2_dice_score: 0.6240 - out_2_precision: 0.9845 - out_2_sensitivity: 0.9808 - out_2_specificity: 0.9948 - out_1_accuracy: 0.9812 - out_1_dice_score: 0.5997 - out_1_precision: 0.9831 - out_1_sensitivity: 0.9790 - out_1_specificity: 0.9943 - val_loss: 6.7561 - val_final_output_loss: 1.6332 - val_out_3_loss: 1.6769 - val_out_2_loss: 1.6497 - val_out_1_loss: 1.6804 - val_final_output_accuracy: 0.9738 - val_final_output_dice_score: 0.6130 - val_final_output_precision: 0.9714 - val_final_output_sensitivity: 0.8916 - val_final_output_specificity: 0.9910 - val_out_3_accuracy: 0.9779 - val_out_3_dice_score: 0.5884 - val_out_3_precision: 0.9776 - val_out_3_sensitivity: 0.9728 - val_out_3_specificity: 0.9926 - val_out_2_accuracy: 0.9802 - val_out_2_dice_score: 0.6041 - val_out_2_precision: 0.9802 - val_out_2_sensitivity: 0.9754 - val_out_2_specificity: 0.9934 - val_out_1_accuracy: 0.9790 - val_out_1_dice_score: 0.5833 - val_out_1_precision: 0.9798 - val_out_1_sensitivity: 0.9744 - val_out_1_specificity: 0.9933\n",
            "Epoch 89/100\n",
            "8/8 [==============================] - 2s 310ms/step - loss: 6.7849 - final_output_loss: 1.6334 - out_3_loss: 1.6769 - out_2_loss: 1.6661 - out_1_loss: 1.6926 - final_output_accuracy: 0.9778 - final_output_dice_score: 0.6019 - final_output_precision: 0.9827 - final_output_sensitivity: 0.8802 - final_output_specificity: 0.9947 - out_3_accuracy: 0.9804 - out_3_dice_score: 0.5840 - out_3_precision: 0.9815 - out_3_sensitivity: 0.9790 - out_3_specificity: 0.9938 - out_2_accuracy: 0.9808 - out_2_dice_score: 0.5885 - out_2_precision: 0.9820 - out_2_sensitivity: 0.9792 - out_2_specificity: 0.9940 - out_1_accuracy: 0.9798 - out_1_dice_score: 0.5722 - out_1_precision: 0.9812 - out_1_sensitivity: 0.9779 - out_1_specificity: 0.9937 - val_loss: 7.0178 - val_final_output_loss: 1.6848 - val_out_3_loss: 1.6792 - val_out_2_loss: 1.7326 - val_out_1_loss: 1.8053 - val_final_output_accuracy: 0.9810 - val_final_output_dice_score: 0.6119 - val_final_output_precision: 0.9872 - val_final_output_sensitivity: 0.9448 - val_final_output_specificity: 0.9959 - val_out_3_accuracy: 0.9813 - val_out_3_dice_score: 0.6081 - val_out_3_precision: 0.9809 - val_out_3_sensitivity: 0.9776 - val_out_3_specificity: 0.9937 - val_out_2_accuracy: 0.9802 - val_out_2_dice_score: 0.5893 - val_out_2_precision: 0.9793 - val_out_2_sensitivity: 0.9761 - val_out_2_specificity: 0.9931 - val_out_1_accuracy: 0.9787 - val_out_1_dice_score: 0.5602 - val_out_1_precision: 0.9778 - val_out_1_sensitivity: 0.9750 - val_out_1_specificity: 0.9926\n",
            "Epoch 90/100\n",
            "8/8 [==============================] - 2s 311ms/step - loss: 6.5986 - final_output_loss: 1.5811 - out_3_loss: 1.6230 - out_2_loss: 1.6209 - out_1_loss: 1.6577 - final_output_accuracy: 0.9799 - final_output_dice_score: 0.6229 - final_output_precision: 0.9836 - final_output_sensitivity: 0.9054 - final_output_specificity: 0.9949 - out_3_accuracy: 0.9835 - out_3_dice_score: 0.6048 - out_3_precision: 0.9841 - out_3_sensitivity: 0.9821 - out_3_specificity: 0.9947 - out_2_accuracy: 0.9829 - out_2_dice_score: 0.6054 - out_2_precision: 0.9834 - out_2_sensitivity: 0.9816 - out_2_specificity: 0.9945 - out_1_accuracy: 0.9828 - out_1_dice_score: 0.5868 - out_1_precision: 0.9835 - out_1_sensitivity: 0.9815 - out_1_specificity: 0.9945 - val_loss: 6.8077 - val_final_output_loss: 1.6466 - val_out_3_loss: 1.6783 - val_out_2_loss: 1.6772 - val_out_1_loss: 1.6897 - val_final_output_accuracy: 0.9795 - val_final_output_dice_score: 0.6203 - val_final_output_precision: 0.9797 - val_final_output_sensitivity: 0.9267 - val_final_output_specificity: 0.9935 - val_out_3_accuracy: 0.9799 - val_out_3_dice_score: 0.6076 - val_out_3_precision: 0.9799 - val_out_3_sensitivity: 0.9763 - val_out_3_specificity: 0.9933 - val_out_2_accuracy: 0.9798 - val_out_2_dice_score: 0.6073 - val_out_2_precision: 0.9803 - val_out_2_sensitivity: 0.9764 - val_out_2_specificity: 0.9935 - val_out_1_accuracy: 0.9795 - val_out_1_dice_score: 0.5972 - val_out_1_precision: 0.9797 - val_out_1_sensitivity: 0.9757 - val_out_1_specificity: 0.9933\n",
            "Epoch 91/100\n",
            "8/8 [==============================] - 2s 306ms/step - loss: 6.6678 - final_output_loss: 1.6020 - out_3_loss: 1.6280 - out_2_loss: 1.6385 - out_1_loss: 1.6834 - final_output_accuracy: 0.9839 - final_output_dice_score: 0.6078 - final_output_precision: 0.9896 - final_output_sensitivity: 0.8924 - final_output_specificity: 0.9968 - out_3_accuracy: 0.9845 - out_3_dice_score: 0.5972 - out_3_precision: 0.9859 - out_3_sensitivity: 0.9831 - out_3_specificity: 0.9953 - out_2_accuracy: 0.9844 - out_2_dice_score: 0.5880 - out_2_precision: 0.9858 - out_2_sensitivity: 0.9829 - out_2_specificity: 0.9952 - out_1_accuracy: 0.9840 - out_1_dice_score: 0.5612 - out_1_precision: 0.9854 - out_1_sensitivity: 0.9822 - out_1_specificity: 0.9951 - val_loss: 6.6058 - val_final_output_loss: 1.5952 - val_out_3_loss: 1.6167 - val_out_2_loss: 1.6170 - val_out_1_loss: 1.6610 - val_final_output_accuracy: 0.9818 - val_final_output_dice_score: 0.6332 - val_final_output_precision: 0.9859 - val_final_output_sensitivity: 0.9123 - val_final_output_specificity: 0.9956 - val_out_3_accuracy: 0.9815 - val_out_3_dice_score: 0.6314 - val_out_3_precision: 0.9810 - val_out_3_sensitivity: 0.9780 - val_out_3_specificity: 0.9937 - val_out_2_accuracy: 0.9812 - val_out_2_dice_score: 0.6262 - val_out_2_precision: 0.9816 - val_out_2_sensitivity: 0.9781 - val_out_2_specificity: 0.9939 - val_out_1_accuracy: 0.9802 - val_out_1_dice_score: 0.6066 - val_out_1_precision: 0.9802 - val_out_1_sensitivity: 0.9770 - val_out_1_specificity: 0.9934\n",
            "Epoch 92/100\n",
            "8/8 [==============================] - 2s 311ms/step - loss: 6.8777 - final_output_loss: 1.6693 - out_3_loss: 1.6985 - out_2_loss: 1.6878 - out_1_loss: 1.7062 - final_output_accuracy: 0.9769 - final_output_dice_score: 0.5852 - final_output_precision: 0.9848 - final_output_sensitivity: 0.8715 - final_output_specificity: 0.9954 - out_3_accuracy: 0.9796 - out_3_dice_score: 0.5848 - out_3_precision: 0.9811 - out_3_sensitivity: 0.9777 - out_3_specificity: 0.9937 - out_2_accuracy: 0.9794 - out_2_dice_score: 0.5827 - out_2_precision: 0.9810 - out_2_sensitivity: 0.9774 - out_2_specificity: 0.9936 - out_1_accuracy: 0.9784 - out_1_dice_score: 0.5698 - out_1_precision: 0.9801 - out_1_sensitivity: 0.9764 - out_1_specificity: 0.9933 - val_loss: 6.9296 - val_final_output_loss: 1.6847 - val_out_3_loss: 1.6928 - val_out_2_loss: 1.7027 - val_out_1_loss: 1.7335 - val_final_output_accuracy: 0.9611 - val_final_output_dice_score: 0.5926 - val_final_output_precision: 0.9596 - val_final_output_sensitivity: 0.8813 - val_final_output_specificity: 0.9873 - val_out_3_accuracy: 0.9728 - val_out_3_dice_score: 0.5901 - val_out_3_precision: 0.9733 - val_out_3_sensitivity: 0.9693 - val_out_3_specificity: 0.9911 - val_out_2_accuracy: 0.9723 - val_out_2_dice_score: 0.5812 - val_out_2_precision: 0.9731 - val_out_2_sensitivity: 0.9684 - val_out_2_specificity: 0.9911 - val_out_1_accuracy: 0.9708 - val_out_1_dice_score: 0.5688 - val_out_1_precision: 0.9718 - val_out_1_sensitivity: 0.9669 - val_out_1_specificity: 0.9906\n",
            "Epoch 93/100\n",
            "8/8 [==============================] - 2s 309ms/step - loss: 6.7511 - final_output_loss: 1.6211 - out_3_loss: 1.6481 - out_2_loss: 1.6572 - out_1_loss: 1.7088 - final_output_accuracy: 0.9741 - final_output_dice_score: 0.5955 - final_output_precision: 0.9786 - final_output_sensitivity: 0.8649 - final_output_specificity: 0.9936 - out_3_accuracy: 0.9799 - out_3_dice_score: 0.5907 - out_3_precision: 0.9816 - out_3_sensitivity: 0.9780 - out_3_specificity: 0.9938 - out_2_accuracy: 0.9811 - out_2_dice_score: 0.5879 - out_2_precision: 0.9826 - out_2_sensitivity: 0.9791 - out_2_specificity: 0.9942 - out_1_accuracy: 0.9803 - out_1_dice_score: 0.5646 - out_1_precision: 0.9815 - out_1_sensitivity: 0.9785 - out_1_specificity: 0.9938 - val_loss: 6.6559 - val_final_output_loss: 1.5926 - val_out_3_loss: 1.6186 - val_out_2_loss: 1.6366 - val_out_1_loss: 1.6923 - val_final_output_accuracy: 0.9804 - val_final_output_dice_score: 0.6407 - val_final_output_precision: 0.9799 - val_final_output_sensitivity: 0.9029 - val_final_output_specificity: 0.9936 - val_out_3_accuracy: 0.9814 - val_out_3_dice_score: 0.6361 - val_out_3_precision: 0.9809 - val_out_3_sensitivity: 0.9780 - val_out_3_specificity: 0.9936 - val_out_2_accuracy: 0.9811 - val_out_2_dice_score: 0.6251 - val_out_2_precision: 0.9811 - val_out_2_sensitivity: 0.9777 - val_out_2_specificity: 0.9937 - val_out_1_accuracy: 0.9804 - val_out_1_dice_score: 0.6072 - val_out_1_precision: 0.9798 - val_out_1_sensitivity: 0.9771 - val_out_1_specificity: 0.9933\n",
            "Epoch 94/100\n",
            "8/8 [==============================] - 2s 311ms/step - loss: 6.4984 - final_output_loss: 1.5575 - out_3_loss: 1.5815 - out_2_loss: 1.6017 - out_1_loss: 1.6418 - final_output_accuracy: 0.9841 - final_output_dice_score: 0.6533 - final_output_precision: 0.9870 - final_output_sensitivity: 0.8898 - final_output_specificity: 0.9960 - out_3_accuracy: 0.9849 - out_3_dice_score: 0.6479 - out_3_precision: 0.9857 - out_3_sensitivity: 0.9835 - out_3_specificity: 0.9952 - out_2_accuracy: 0.9841 - out_2_dice_score: 0.6338 - out_2_precision: 0.9851 - out_2_sensitivity: 0.9826 - out_2_specificity: 0.9950 - out_1_accuracy: 0.9829 - out_1_dice_score: 0.6062 - out_1_precision: 0.9840 - out_1_sensitivity: 0.9812 - out_1_specificity: 0.9946 - val_loss: 6.6782 - val_final_output_loss: 1.6101 - val_out_3_loss: 1.6292 - val_out_2_loss: 1.6377 - val_out_1_loss: 1.6852 - val_final_output_accuracy: 0.9807 - val_final_output_dice_score: 0.6403 - val_final_output_precision: 0.9803 - val_final_output_sensitivity: 0.9087 - val_final_output_specificity: 0.9937 - val_out_3_accuracy: 0.9812 - val_out_3_dice_score: 0.6356 - val_out_3_precision: 0.9801 - val_out_3_sensitivity: 0.9776 - val_out_3_specificity: 0.9934 - val_out_2_accuracy: 0.9805 - val_out_2_dice_score: 0.6242 - val_out_2_precision: 0.9801 - val_out_2_sensitivity: 0.9768 - val_out_2_specificity: 0.9934 - val_out_1_accuracy: 0.9786 - val_out_1_dice_score: 0.5945 - val_out_1_precision: 0.9783 - val_out_1_sensitivity: 0.9747 - val_out_1_specificity: 0.9928\n",
            "Epoch 95/100\n",
            "8/8 [==============================] - 2s 313ms/step - loss: 6.4133 - final_output_loss: 1.5474 - out_3_loss: 1.5603 - out_2_loss: 1.5718 - out_1_loss: 1.6179 - final_output_accuracy: 0.9841 - final_output_dice_score: 0.6477 - final_output_precision: 0.9888 - final_output_sensitivity: 0.8985 - final_output_specificity: 0.9965 - out_3_accuracy: 0.9849 - out_3_dice_score: 0.6476 - out_3_precision: 0.9857 - out_3_sensitivity: 0.9833 - out_3_specificity: 0.9952 - out_2_accuracy: 0.9839 - out_2_dice_score: 0.6360 - out_2_precision: 0.9849 - out_2_sensitivity: 0.9822 - out_2_specificity: 0.9950 - out_1_accuracy: 0.9823 - out_1_dice_score: 0.6077 - out_1_precision: 0.9835 - out_1_sensitivity: 0.9805 - out_1_specificity: 0.9945 - val_loss: 6.6490 - val_final_output_loss: 1.5929 - val_out_3_loss: 1.6228 - val_out_2_loss: 1.6327 - val_out_1_loss: 1.6847 - val_final_output_accuracy: 0.9803 - val_final_output_dice_score: 0.6504 - val_final_output_precision: 0.9800 - val_final_output_sensitivity: 0.9113 - val_final_output_specificity: 0.9936 - val_out_3_accuracy: 0.9817 - val_out_3_dice_score: 0.6441 - val_out_3_precision: 0.9805 - val_out_3_sensitivity: 0.9781 - val_out_3_specificity: 0.9935 - val_out_2_accuracy: 0.9810 - val_out_2_dice_score: 0.6339 - val_out_2_precision: 0.9802 - val_out_2_sensitivity: 0.9772 - val_out_2_specificity: 0.9934 - val_out_1_accuracy: 0.9800 - val_out_1_dice_score: 0.6098 - val_out_1_precision: 0.9795 - val_out_1_sensitivity: 0.9765 - val_out_1_specificity: 0.9932\n",
            "Epoch 96/100\n",
            "8/8 [==============================] - 2s 312ms/step - loss: 6.5283 - final_output_loss: 1.5679 - out_3_loss: 1.5933 - out_2_loss: 1.6034 - out_1_loss: 1.6477 - final_output_accuracy: 0.9818 - final_output_dice_score: 0.6247 - final_output_precision: 0.9867 - final_output_sensitivity: 0.8927 - final_output_specificity: 0.9959 - out_3_accuracy: 0.9845 - out_3_dice_score: 0.6190 - out_3_precision: 0.9849 - out_3_sensitivity: 0.9833 - out_3_specificity: 0.9950 - out_2_accuracy: 0.9841 - out_2_dice_score: 0.6114 - out_2_precision: 0.9847 - out_2_sensitivity: 0.9828 - out_2_specificity: 0.9949 - out_1_accuracy: 0.9838 - out_1_dice_score: 0.5877 - out_1_precision: 0.9844 - out_1_sensitivity: 0.9825 - out_1_specificity: 0.9948 - val_loss: 6.6441 - val_final_output_loss: 1.6089 - val_out_3_loss: 1.6318 - val_out_2_loss: 1.6311 - val_out_1_loss: 1.6565 - val_final_output_accuracy: 0.9674 - val_final_output_dice_score: 0.6460 - val_final_output_precision: 0.9707 - val_final_output_sensitivity: 0.8978 - val_final_output_specificity: 0.9908 - val_out_3_accuracy: 0.9750 - val_out_3_dice_score: 0.6229 - val_out_3_precision: 0.9735 - val_out_3_sensitivity: 0.9712 - val_out_3_specificity: 0.9912 - val_out_2_accuracy: 0.9747 - val_out_2_dice_score: 0.6183 - val_out_2_precision: 0.9738 - val_out_2_sensitivity: 0.9707 - val_out_2_specificity: 0.9913 - val_out_1_accuracy: 0.9779 - val_out_1_dice_score: 0.6051 - val_out_1_precision: 0.9770 - val_out_1_sensitivity: 0.9739 - val_out_1_specificity: 0.9924\n",
            "Epoch 97/100\n",
            "8/8 [==============================] - 2s 312ms/step - loss: 6.5933 - final_output_loss: 1.5812 - out_3_loss: 1.6133 - out_2_loss: 1.6187 - out_1_loss: 1.6642 - final_output_accuracy: 0.9833 - final_output_dice_score: 0.6218 - final_output_precision: 0.9882 - final_output_sensitivity: 0.8896 - final_output_specificity: 0.9964 - out_3_accuracy: 0.9861 - out_3_dice_score: 0.6107 - out_3_precision: 0.9864 - out_3_sensitivity: 0.9851 - out_3_specificity: 0.9955 - out_2_accuracy: 0.9860 - out_2_dice_score: 0.6073 - out_2_precision: 0.9862 - out_2_sensitivity: 0.9849 - out_2_specificity: 0.9954 - out_1_accuracy: 0.9852 - out_1_dice_score: 0.5801 - out_1_precision: 0.9856 - out_1_sensitivity: 0.9840 - out_1_specificity: 0.9952 - val_loss: 6.5726 - val_final_output_loss: 1.5810 - val_out_3_loss: 1.6030 - val_out_2_loss: 1.6154 - val_out_1_loss: 1.6572 - val_final_output_accuracy: 0.9833 - val_final_output_dice_score: 0.6583 - val_final_output_precision: 0.9828 - val_final_output_sensitivity: 0.9427 - val_final_output_specificity: 0.9944 - val_out_3_accuracy: 0.9832 - val_out_3_dice_score: 0.6548 - val_out_3_precision: 0.9824 - val_out_3_sensitivity: 0.9802 - val_out_3_specificity: 0.9941 - val_out_2_accuracy: 0.9827 - val_out_2_dice_score: 0.6434 - val_out_2_precision: 0.9822 - val_out_2_sensitivity: 0.9796 - val_out_2_specificity: 0.9941 - val_out_1_accuracy: 0.9814 - val_out_1_dice_score: 0.6184 - val_out_1_precision: 0.9808 - val_out_1_sensitivity: 0.9781 - val_out_1_specificity: 0.9936\n",
            "Epoch 98/100\n",
            "8/8 [==============================] - 2s 313ms/step - loss: 6.8588 - final_output_loss: 1.6592 - out_3_loss: 1.6770 - out_2_loss: 1.6844 - out_1_loss: 1.7221 - final_output_accuracy: 0.9795 - final_output_dice_score: 0.5899 - final_output_precision: 0.9834 - final_output_sensitivity: 0.9110 - final_output_specificity: 0.9948 - out_3_accuracy: 0.9818 - out_3_dice_score: 0.5934 - out_3_precision: 0.9827 - out_3_sensitivity: 0.9803 - out_3_specificity: 0.9942 - out_2_accuracy: 0.9818 - out_2_dice_score: 0.5912 - out_2_precision: 0.9828 - out_2_sensitivity: 0.9803 - out_2_specificity: 0.9942 - out_1_accuracy: 0.9799 - out_1_dice_score: 0.5630 - out_1_precision: 0.9813 - out_1_sensitivity: 0.9782 - out_1_specificity: 0.9937 - val_loss: 6.5495 - val_final_output_loss: 1.5757 - val_out_3_loss: 1.5991 - val_out_2_loss: 1.6075 - val_out_1_loss: 1.6513 - val_final_output_accuracy: 0.9797 - val_final_output_dice_score: 0.6516 - val_final_output_precision: 0.9731 - val_final_output_sensitivity: 0.9363 - val_final_output_specificity: 0.9912 - val_out_3_accuracy: 0.9801 - val_out_3_dice_score: 0.6417 - val_out_3_precision: 0.9800 - val_out_3_sensitivity: 0.9763 - val_out_3_specificity: 0.9934 - val_out_2_accuracy: 0.9802 - val_out_2_dice_score: 0.6331 - val_out_2_precision: 0.9806 - val_out_2_sensitivity: 0.9761 - val_out_2_specificity: 0.9936 - val_out_1_accuracy: 0.9773 - val_out_1_dice_score: 0.6014 - val_out_1_precision: 0.9780 - val_out_1_sensitivity: 0.9729 - val_out_1_specificity: 0.9927\n",
            "Epoch 99/100\n",
            "8/8 [==============================] - 2s 316ms/step - loss: 6.5762 - final_output_loss: 1.5787 - out_3_loss: 1.6070 - out_2_loss: 1.6205 - out_1_loss: 1.6540 - final_output_accuracy: 0.9756 - final_output_dice_score: 0.6406 - final_output_precision: 0.9792 - final_output_sensitivity: 0.8881 - final_output_specificity: 0.9936 - out_3_accuracy: 0.9772 - out_3_dice_score: 0.6289 - out_3_precision: 0.9789 - out_3_sensitivity: 0.9746 - out_3_specificity: 0.9930 - out_2_accuracy: 0.9764 - out_2_dice_score: 0.6178 - out_2_precision: 0.9786 - out_2_sensitivity: 0.9735 - out_2_specificity: 0.9928 - out_1_accuracy: 0.9762 - out_1_dice_score: 0.5986 - out_1_precision: 0.9787 - out_1_sensitivity: 0.9730 - out_1_specificity: 0.9929 - val_loss: 6.5619 - val_final_output_loss: 1.5911 - val_out_3_loss: 1.6049 - val_out_2_loss: 1.6112 - val_out_1_loss: 1.6388 - val_final_output_accuracy: 0.9818 - val_final_output_dice_score: 0.6545 - val_final_output_precision: 0.9795 - val_final_output_sensitivity: 0.9339 - val_final_output_specificity: 0.9934 - val_out_3_accuracy: 0.9824 - val_out_3_dice_score: 0.6489 - val_out_3_precision: 0.9818 - val_out_3_sensitivity: 0.9785 - val_out_3_specificity: 0.9940 - val_out_2_accuracy: 0.9823 - val_out_2_dice_score: 0.6401 - val_out_2_precision: 0.9819 - val_out_2_sensitivity: 0.9783 - val_out_2_specificity: 0.9940 - val_out_1_accuracy: 0.9815 - val_out_1_dice_score: 0.6222 - val_out_1_precision: 0.9814 - val_out_1_sensitivity: 0.9776 - val_out_1_specificity: 0.9938\n",
            "Epoch 100/100\n",
            "8/8 [==============================] - 2s 310ms/step - loss: 6.5757 - final_output_loss: 1.5808 - out_3_loss: 1.6035 - out_2_loss: 1.6194 - out_1_loss: 1.6559 - final_output_accuracy: 0.9842 - final_output_dice_score: 0.6049 - final_output_precision: 0.9892 - final_output_sensitivity: 0.9012 - final_output_specificity: 0.9966 - out_3_accuracy: 0.9857 - out_3_dice_score: 0.5970 - out_3_precision: 0.9864 - out_3_sensitivity: 0.9842 - out_3_specificity: 0.9955 - out_2_accuracy: 0.9851 - out_2_dice_score: 0.5862 - out_2_precision: 0.9860 - out_2_sensitivity: 0.9835 - out_2_specificity: 0.9953 - out_1_accuracy: 0.9848 - out_1_dice_score: 0.5672 - out_1_precision: 0.9859 - out_1_sensitivity: 0.9835 - out_1_specificity: 0.9953 - val_loss: 6.8084 - val_final_output_loss: 1.6521 - val_out_3_loss: 1.6640 - val_out_2_loss: 1.6659 - val_out_1_loss: 1.7106 - val_final_output_accuracy: 0.9830 - val_final_output_dice_score: 0.6373 - val_final_output_precision: 0.9860 - val_final_output_sensitivity: 0.9453 - val_final_output_specificity: 0.9955 - val_out_3_accuracy: 0.9826 - val_out_3_dice_score: 0.6329 - val_out_3_precision: 0.9817 - val_out_3_sensitivity: 0.9794 - val_out_3_specificity: 0.9939 - val_out_2_accuracy: 0.9822 - val_out_2_dice_score: 0.6296 - val_out_2_precision: 0.9815 - val_out_2_sensitivity: 0.9791 - val_out_2_specificity: 0.9939 - val_out_1_accuracy: 0.9810 - val_out_1_dice_score: 0.6069 - val_out_1_precision: 0.9803 - val_out_1_sensitivity: 0.9778 - val_out_1_specificity: 0.9934\n"
          ]
        }
      ],
      "source": [
        "history=model.fit(train_generator(input_gen, out_gen),\n",
        "\t                  validation_data=(X_test, [Y_test, Y_test, Y_test, Y_test]),\n",
        "\t                  steps_per_epoch=len(X_train) // 64,\n",
        "\t                  epochs=epochs, verbose=1, shuffle=True,\n",
        "                    )"
      ]
    },
    {
      "cell_type": "code",
      "execution_count": null,
      "metadata": {
        "id": "VJ8H14Y0VBSO"
      },
      "outputs": [],
      "source": [
        "#model.save('/content/drive/MyDrive/ranadeep/2019DATA/pcamodel2019.h5', include_optimizer=True)"
      ]
    },
    {
      "cell_type": "code",
      "execution_count": null,
      "metadata": {
        "id": "vidInnUiVHo_"
      },
      "outputs": [],
      "source": [
        "def Accuracy_Graph(history):\n",
        "    plt.plot(history.history['final_output_accuracy'])\n",
        "    plt.plot(history.history['val_final_output_accuracy'])\n",
        "    plt.ylabel('Accuracy')\n",
        "    plt.xlabel('Epoch')\n",
        "    plt.legend(['Train', 'Validation'], loc='lower right')\n",
        "    plt.subplots_adjust(top=1.00, bottom=0.0, left=0.0, right=0.95, hspace=0.25,\n",
        "                        wspace=0.35)\n",
        "    plt.show()\n",
        "\n",
        "\n",
        "def Dice_coefficient_Graph(history):\n",
        "\n",
        "    plt.plot(history.history['final_output_dice_score'])\n",
        "    plt.plot(history.history['val_final_output_dice_score'])\n",
        "    plt.ylabel('Dice_Coefficient')\n",
        "    plt.xlabel('Epoch')\n",
        "    plt.legend(['Train', 'Validation'], loc='upper left')\n",
        "    plt.subplots_adjust(top=1.00, bottom=0.0, left=0.0, right=0.95, hspace=0.25,\n",
        "                        wspace=0.35)\n",
        "    plt.show()\n",
        "\n",
        "def Loss_Graph(history):\n",
        "    plt.plot(history.history['final_output_loss'])\n",
        "    plt.plot(history.history['val_final_output_loss'])\n",
        "    plt.ylabel('Loss')\n",
        "    plt.xlabel('Epoch')\n",
        "    plt.legend(['Train', 'Validation'], loc='upper right')\n",
        "    plt.subplots_adjust(top=1.00, bottom=0.0, left=0.0, right=0.95, hspace=0.25,\n",
        "                        wspace=0.35)\n",
        "    plt.show()"
      ]
    },
    {
      "cell_type": "code",
      "execution_count": null,
      "metadata": {
        "colab": {
          "base_uri": "https://localhost:8080/",
          "height": 1000
        },
        "id": "jZrIneDuVJYg",
        "outputId": "c208ed9d-38ea-42cb-83d0-2380cc0917bb"
      },
      "outputs": [
        {
          "output_type": "display_data",
          "data": {
            "text/plain": [
              "<Figure size 640x480 with 1 Axes>"
            ],
            "image/png": "[encoded data removed]"
          },
          "metadata": {}
        },
        {
          "output_type": "display_data",
          "data": {
            "text/plain": [
              "<Figure size 640x480 with 1 Axes>"
            ],
            "image/png": "[encoded data removed]"
          },
          "metadata": {}
        },
        {
          "output_type": "display_data",
          "data": {
            "text/plain": [
              "<Figure size 640x480 with 1 Axes>"
            ],
            "image/png": "[encoded data removed]"
          },
          "metadata": {}
        }
      ],
      "source": [
        "Accuracy_Graph(history)\n",
        "Dice_coefficient_Graph(history)\n",
        "Loss_Graph(history)"
      ]
    },
    {
      "cell_type": "code",
      "execution_count": null,
      "metadata": {
        "colab": {
          "base_uri": "https://localhost:8080/",
          "height": 121
        },
        "id": "m2QpgUm8VKsu",
        "outputId": "1a36bf6c-f26d-411e-ce90-da20a6d94e77"
      },
      "outputs": [
        {
          "output_type": "display_data",
          "data": {
            "text/plain": [
              "1.9749003493785857"
            ]
          },
          "metadata": {}
        },
        {
          "output_type": "display_data",
          "data": {
            "text/plain": [
              "0.9466257333755493"
            ]
          },
          "metadata": {}
        },
        {
          "output_type": "display_data",
          "data": {
            "text/plain": [
              "0.4593259119987488"
            ]
          },
          "metadata": {}
        },
        {
          "output_type": "display_data",
          "data": {
            "text/plain": [
              "0.8898018759489059"
            ]
          },
          "metadata": {}
        },
        {
          "output_type": "display_data",
          "data": {
            "text/plain": [
              "0.9442546898126603"
            ]
          },
          "metadata": {}
        },
        {
          "output_type": "display_data",
          "data": {
            "text/plain": [
              "0.9501585632562637"
            ]
          },
          "metadata": {}
        }
      ],
      "source": [
        "import statistics\n",
        "display(statistics.mean(history.history['val_final_output_loss']))\n",
        "display(statistics.mean(history.history['val_final_output_accuracy']))\n",
        "display(statistics.mean(history.history['val_final_output_dice_score']))\n",
        "display(statistics.mean(history.history['val_final_output_precision']))\n",
        "display(statistics.mean(history.history['val_final_output_sensitivity']))\n",
        "display(statistics.mean(history.history['val_final_output_specificity']))"
      ]
    },
    {
      "cell_type": "code",
      "execution_count": null,
      "metadata": {
        "id": "aCFp6MPMae6p",
        "colab": {
          "base_uri": "https://localhost:8080/"
        },
        "outputId": "4602658b-52d7-495b-b2d9-424a0aad03b8"
      },
      "outputs": [
        {
          "output_type": "stream",
          "name": "stdout",
          "text": [
            "8/8 [==============================] - 2s 130ms/step\n"
          ]
        }
      ],
      "source": [
        "pred = model.predict(X_test)"
      ]
    },
    {
      "cell_type": "code",
      "execution_count": null,
      "metadata": {
        "colab": {
          "base_uri": "https://localhost:8080/"
        },
        "id": "yPAnboGfjWiU",
        "outputId": "8f1f09fc-d647-4b1d-9b7c-9a6c5e9ac67f"
      },
      "outputs": [
        {
          "output_type": "stream",
          "name": "stdout",
          "text": [
            "(4, 225, 240, 240, 4)\n"
          ]
        }
      ],
      "source": [
        "print(np.shape(pred))"
      ]
    },
    {
      "cell_type": "code",
      "execution_count": null,
      "metadata": {
        "id": "Vu9kAL1JHAZI"
      },
      "outputs": [],
      "source": [
        "pred = np.argmax(pred, axis=-1)"
      ]
    },
    {
      "cell_type": "code",
      "execution_count": null,
      "metadata": {
        "id": "quj0A3aXAP3D"
      },
      "outputs": [],
      "source": [
        "#To choose the output from the final layer only, we take the slices in the 0th index.\n",
        "predicted_images = np.reshape(pred[0,:,:,:], (225,240,240))"
      ]
    },
    {
      "cell_type": "code",
      "execution_count": null,
      "metadata": {
        "colab": {
          "base_uri": "https://localhost:8080/"
        },
        "id": "IwuJ92EcIle9",
        "outputId": "0d5b53fd-2c25-4a42-be56-7ab53f09e619"
      },
      "outputs": [
        {
          "output_type": "stream",
          "name": "stdout",
          "text": [
            "(225, 240, 240)\n"
          ]
        }
      ],
      "source": [
        "GT = np.argmax(Y_test, axis=-1)\n",
        "print(GT.shape)"
      ]
    },
    {
      "cell_type": "code",
      "execution_count": null,
      "metadata": {
        "id": "Ji8xPZNN1_KW"
      },
      "outputs": [],
      "source": [
        "predicted_images[predicted_images==3] = 4\n",
        "GT[GT==3] = 4"
      ]
    },
    {
      "cell_type": "code",
      "execution_count": null,
      "metadata": {
        "id": "I3_OQcAqaUi8"
      },
      "outputs": [],
      "source": [
        "def iou_coef(s,g):\n",
        "    num = np.sum(np.multiply(s,g))\n",
        "    denom=s.sum() + g.sum() - num\n",
        "    if denom==0:\n",
        "        return 1\n",
        "    else:\n",
        "        return num/denom"
      ]
    },
    {
      "cell_type": "code",
      "execution_count": null,
      "metadata": {
        "id": "VvBQgcbsSDBQ"
      },
      "outputs": [],
      "source": [
        "def iou_whole(pred, orig_label):\n",
        "    #computes dice for the whole tumor\n",
        "    return iou_coef(pred>0,orig_label>0)\n",
        "\n",
        "\n",
        "def iou_en(pred, orig_label):\n",
        "    #computes dice for enhancing region\n",
        "    return iou_coef(pred==4,orig_label==4)\n",
        "\n",
        "\n",
        "def iou_core(pred, orig_label):\n",
        "    #computes dice for core region\n",
        "    seg_=np.copy(pred)\n",
        "    ground_=np.copy(orig_label)\n",
        "    seg_[seg_==2]=0\n",
        "    ground_[ground_==2]=0\n",
        "    return iou_coef(seg_>0,ground_>0)"
      ]
    },
    {
      "cell_type": "code",
      "execution_count": null,
      "metadata": {
        "colab": {
          "base_uri": "https://localhost:8080/"
        },
        "id": "cjAV_L2HURYQ",
        "outputId": "d783387b-373b-4cdb-8acd-f7b8c6245226"
      },
      "outputs": [
        {
          "output_type": "stream",
          "name": "stdout",
          "text": [
            "iou complete tumor score : 0.6496\n",
            "iou core tumor score : 0.5221\n",
            "iou enhancing tumor score :0.4073 \n"
          ]
        }
      ],
      "source": [
        "predicted_images = predicted_images.astype(np.int32)\n",
        "GT = GT.astype(np.int32)\n",
        "\n",
        "iou_complete  = iou_whole(predicted_images,GT)\n",
        "iou_enhancing = iou_en(predicted_images,GT)\n",
        "iou_core      = iou_core(predicted_images,GT)\n",
        "\n",
        "print(\"iou complete tumor score : {:0.4f}\".format(iou_complete))\n",
        "print(\"iou core tumor score : {:0.4f}\".format(iou_core))\n",
        "print(\"iou enhancing tumor score :{:0.4f} \".format(iou_enhancing))"
      ]
    },
    {
      "cell_type": "code",
      "execution_count": null,
      "metadata": {
        "id": "dUxIWYsg1_G6"
      },
      "outputs": [],
      "source": [
        "def binary_dice3d(s,g):\n",
        "    #dice score of two 3D volumes\n",
        "    num=np.sum(np.multiply(s, g))\n",
        "    denom=s.sum() + g.sum()\n",
        "    if denom==0:\n",
        "        return 1\n",
        "    else:\n",
        "        return  2.0*num/denom\n",
        "\n",
        "def DSC_whole(pred, orig_label):\n",
        "    #computes dice for the whole tumor\n",
        "    return binary_dice3d(pred>0,orig_label>0)\n",
        "\n",
        "def DSC_en(pred, orig_label):\n",
        "    #computes dice for enhancing region\n",
        "    return binary_dice3d(pred==4,orig_label==4)\n",
        "\n",
        "def DSC_core(pred, orig_label):\n",
        "    #computes dice for core region\n",
        "    seg_=np.copy(pred)\n",
        "    ground_=np.copy(orig_label)\n",
        "    seg_[seg_==2]=0\n",
        "    ground_[ground_==2]=0\n",
        "    return binary_dice3d(seg_>0,ground_>0)"
      ]
    },
    {
      "cell_type": "code",
      "execution_count": null,
      "metadata": {
        "colab": {
          "base_uri": "https://localhost:8080/"
        },
        "id": "6dc3Pnyq1Nzf",
        "outputId": "ab173b69-4c78-4ea2-a86e-dc3550d9ce14"
      },
      "outputs": [
        {
          "output_type": "stream",
          "name": "stdout",
          "text": [
            "Dice complete tumor score : 0.7876\n",
            "Dice core tumor score : 0.6860\n",
            "Dice enhancing tumor score :0.5788 \n"
          ]
        }
      ],
      "source": [
        "Dice_complete=DSC_whole(predicted_images,GT)\n",
        "Dice_enhancing=DSC_en(predicted_images,GT)\n",
        "Dice_core=DSC_core(predicted_images,GT)\n",
        "\n",
        "print(\"Dice complete tumor score : {:0.4f}\".format(Dice_complete))\n",
        "print(\"Dice core tumor score : {:0.4f}\".format(Dice_core))\n",
        "print(\"Dice enhancing tumor score :{:0.4f} \".format(Dice_enhancing))"
      ]
    }
  ],
  "metadata": {
    "accelerator": "GPU",
    "colab": {
      "machine_shape": "hm",
      "provenance": [],
      "gpuType": "A100",
      "include_colab_link": true
    },
    "kernelspec": {
      "display_name": "Python 3",
      "name": "python3"
    }
  },
  "nbformat": 4,
  "nbformat_minor": 0
}