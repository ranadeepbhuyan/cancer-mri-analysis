{
  "cells": [
    {
      "cell_type": "markdown",
      "metadata": {
        "id": "view-in-github",
        "colab_type": "text"
      },
      "source": [
        "<a href=\"https://colab.research.google.com/github/ranadeepbhuyan/cancer-mri-analysis/blob/main/IEGWResNet/ONDATA2020.ipynb\" target=\"_parent\"><img src=\"https://colab.research.google.com/assets/colab-badge.svg\" alt=\"Open In Colab\"/></a>"
      ]
    },
    {
      "cell_type": "code",
      "execution_count": null,
      "metadata": {
        "id": "pRK3vxOwFDO-",
        "colab": {
          "base_uri": "https://localhost:8080/"
        },
        "outputId": "2daf68b3-d892-41bb-ed28-44988ebedb8b"
      },
      "outputs": [
        {
          "output_type": "stream",
          "name": "stdout",
          "text": [
            "Mounted at /content/drive\n"
          ]
        }
      ],
      "source": [
        "from google.colab import drive\n",
        "drive.mount('/content/drive')"
      ]
    },
    {
      "cell_type": "code",
      "execution_count": null,
      "metadata": {
        "id": "fnLTNgBG7VzI"
      },
      "outputs": [],
      "source": [
        "import numpy as np\n",
        "import matplotlib.pyplot as plt\n",
        "import glob\n",
        "import pickle\n",
        "import keras\n",
        "from keras.layers import Conv2D, Activation, Input, Dropout, Reshape, MaxPooling2D, UpSampling2D, Conv2DTranspose, Concatenate, multiply, Add, LeakyReLU, ReLU\n",
        "from tensorflow.keras.layers import BatchNormalization\n",
        "from tensorflow.keras.models import Model\n",
        "from keras.callbacks import ModelCheckpoint, ReduceLROnPlateau\n",
        "from keras.optimizers import Adam\n",
        "from keras.utils import *\n",
        "from keras import regularizers\n",
        "from keras import backend as K\n",
        "from keras.models import load_model\n",
        "from keras.layers import Lambda\n",
        "import nibabel as nib"
      ]
    },
    {
      "cell_type": "code",
      "execution_count": null,
      "metadata": {
        "id": "GuqmS5fWTqoN",
        "colab": {
          "base_uri": "https://localhost:8080/"
        },
        "outputId": "4eeeeeb5-f046-46df-ac95-2aa5149c1865"
      },
      "outputs": [
        {
          "output_type": "stream",
          "name": "stdout",
          "text": [
            "Collecting SimpleITK\n",
            "  Downloading SimpleITK-2.3.0-cp310-cp310-manylinux_2_17_x86_64.manylinux2014_x86_64.whl (52.6 MB)\n",
            "\u001b[2K     \u001b[90m━━━━━━━━━━━━━━━━━━━━━━━━━━━━━━━━━━━━━━━━\u001b[0m \u001b[32m52.6/52.6 MB\u001b[0m \u001b[31m33.9 MB/s\u001b[0m eta \u001b[36m0:00:00\u001b[0m\n",
            "\u001b[?25hInstalling collected packages: SimpleITK\n",
            "Successfully installed SimpleITK-2.3.0\n"
          ]
        }
      ],
      "source": [
        "pip install SimpleITK"
      ]
    },
    {
      "cell_type": "code",
      "execution_count": null,
      "metadata": {
        "id": "OiTeWkdCTfWY"
      },
      "outputs": [],
      "source": [
        "import SimpleITK as sitk"
      ]
    },
    {
      "cell_type": "code",
      "execution_count": null,
      "metadata": {
        "id": "SNAp5aKSnnvJ"
      },
      "outputs": [],
      "source": [
        "flair_path = glob.glob('/content/drive/MyDrive/ranadeep/2020DATA/flair/*')\n",
        "seg_path   = glob.glob('/content/drive/MyDrive/ranadeep/2020DATA/Seg/*')\n",
        "t1_path    = glob.glob('/content/drive/MyDrive/ranadeep/2020DATA/T1/*')\n",
        "t1ce_path  = glob.glob('/content/drive/MyDrive/ranadeep/2020DATA/T1ce/*')\n",
        "t2_path    = glob.glob('/content/drive/MyDrive/ranadeep/2020DATA/T2/*')"
      ]
    },
    {
      "cell_type": "code",
      "execution_count": null,
      "metadata": {
        "id": "5qhECSLIDrNX",
        "colab": {
          "base_uri": "https://localhost:8080/"
        },
        "outputId": "f03c0abf-13c8-44fd-8911-c9c8a5fafb10"
      },
      "outputs": [
        {
          "output_type": "stream",
          "name": "stdout",
          "text": [
            "25\n"
          ]
        }
      ],
      "source": [
        "print(len(flair_path))"
      ]
    },
    {
      "cell_type": "code",
      "source": [
        "def pca_color_augmentation_tensor(inputs, std_deviation=0.1, scale=0.1, clipping=False):\n",
        "    ranks = inputs.ndim\n",
        "    assert ranks >= 2\n",
        "\n",
        "    chs = inputs.shape[-1]\n",
        "    if ranks <= 3:\n",
        "        x = inputs.copy()\n",
        "    elif ranks == 4:\n",
        "        dims = inputs.shape[1] * inputs.shape[2]\n",
        "        x = inputs.reshape(-1, dims, chs)\n",
        "    elif ranks == 5:\n",
        "        dims = inputs.shape[2] * inputs.shape[3]\n",
        "        depth = inputs.shape[1]\n",
        "        x = inputs.reshape(-1, depth, dims, chs)\n",
        "    calculate_axis, reduce_axis = ranks-1, ranks-2\n",
        "    if ranks == 3:\n",
        "        calculate_axis, reduce_axis = 1, 2\n",
        "    elif ranks >= 4:\n",
        "        calculate_axis, reduce_axis = ranks-3, ranks-2\n",
        "    C = 1.0\n",
        "    if ranks >= 3:\n",
        "        C = x.shape[reduce_axis]\n",
        "    var = np.var(x, axis=calculate_axis, keepdims=True)\n",
        "    scaling_factors = np.sqrt(C / np.sum(var, axis=reduce_axis, keepdims=True))\n",
        "    x = x * scaling_factors\n",
        "    # subtract mean for cov matrix\n",
        "    mean = np.mean(x, axis=calculate_axis, keepdims=True)\n",
        "    x -= mean\n",
        "    # covariance matrix\n",
        "    cov_n = max(x.shape[calculate_axis] - 1, 1)\n",
        "    # cov (since x was normalized)\n",
        "    cov = np.matmul(np.swapaxes(x, -1, -2), x) / cov_n\n",
        "    # eigen value(S), eigen vector(U)\n",
        "    U, S, V = np.linalg.svd(cov)\n",
        "    if ranks == 2:\n",
        "        rand = np.random.randn(*inputs.shape) * std_deviation\n",
        "        delta = np.matmul(rand*np.expand_dims(S, axis=0), U)\n",
        "    else:\n",
        "        rand = np.random.randn(*S.shape) * std_deviation\n",
        "        delta_original = np.squeeze(np.matmul(U, np.expand_dims(rand*S, axis=-1)), axis=-1)\n",
        "    if ranks == 3:\n",
        "        delta = np.expand_dims(delta_original, axis=ranks-2)\n",
        "    elif ranks >= 4:\n",
        "        delta = np.expand_dims(delta_original, axis=ranks-3)\n",
        "        delta = np.broadcast_to(delta, x.shape)\n",
        "        delta = delta.reshape(-1, *inputs.shape[1:])\n",
        "\n",
        "    # delta scaling\n",
        "    delta = delta * scale\n",
        "    result = inputs + delta\n",
        "    if clipping:\n",
        "        result = np.clip(result, 0.0, scale)\n",
        "\n",
        "    return result"
      ],
      "metadata": {
        "id": "AmU7vNNQM6xf"
      },
      "execution_count": null,
      "outputs": []
    },
    {
      "cell_type": "code",
      "execution_count": null,
      "metadata": {
        "id": "z-bdXPY2XcML",
        "colab": {
          "base_uri": "https://localhost:8080/"
        },
        "outputId": "fbae17cb-15b8-4643-fa93-9d483ebe11e6"
      },
      "outputs": [
        {
          "output_type": "stream",
          "name": "stdout",
          "text": [
            "(625, 240, 240)\n"
          ]
        }
      ],
      "source": [
        "X_flair=[]\n",
        "for i in range(len(flair_path)):\n",
        "    a = sitk.ReadImage(flair_path[i])\n",
        "    a = sitk.GetArrayFromImage(a)\n",
        "    for j in range(25):\n",
        "        X_flair.append((a[50+2*j,:,:]))\n",
        "print(np.shape(X_flair))"
      ]
    },
    {
      "cell_type": "code",
      "execution_count": null,
      "metadata": {
        "id": "PVvCGpG3eiWH"
      },
      "outputs": [],
      "source": [
        "X_flair = np.asarray(X_flair).astype(np.float32)\n",
        "X_flair = pca_color_augmentation_tensor(X_flair[:,:,:])"
      ]
    },
    {
      "cell_type": "code",
      "execution_count": null,
      "metadata": {
        "id": "qV4wgbN-R5XS",
        "colab": {
          "base_uri": "https://localhost:8080/"
        },
        "outputId": "eb673642-619b-47c0-f2a7-1008f14c1100"
      },
      "outputs": [
        {
          "output_type": "execute_result",
          "data": {
            "text/plain": [
              "(-0.5484944577270288, 12.095333545462442)"
            ]
          },
          "metadata": {},
          "execution_count": 14
        }
      ],
      "source": [
        "mean = X_flair.mean()\n",
        "std = X_flair.std()\n",
        "X_flair = (X_flair - mean)/(std + 1e-8)\n",
        "np.min(X_flair), np.max(X_flair)"
      ]
    },
    {
      "cell_type": "code",
      "execution_count": null,
      "metadata": {
        "id": "FUCq69-HaXIY",
        "colab": {
          "base_uri": "https://localhost:8080/"
        },
        "outputId": "6e6132e4-94cb-45bb-d0f6-16440eece57a"
      },
      "outputs": [
        {
          "output_type": "stream",
          "name": "stdout",
          "text": [
            "(625, 240, 240)\n"
          ]
        }
      ],
      "source": [
        "X_t1=[]\n",
        "for i in range(len(t1_path)):\n",
        "    a = sitk.ReadImage(t1_path[i])\n",
        "    a = sitk.GetArrayFromImage(a)\n",
        "    for j in range(25):\n",
        "        X_t1.append((a[50+2*j,:,:]))\n",
        "print(np.shape(X_t1))"
      ]
    },
    {
      "cell_type": "code",
      "execution_count": null,
      "metadata": {
        "id": "jTw7cJrgesV_"
      },
      "outputs": [],
      "source": [
        "X_t1 = np.asarray(X_t1).astype(np.float32)\n",
        "X_t1 = pca_color_augmentation_tensor(X_t1[:,:,:])"
      ]
    },
    {
      "cell_type": "code",
      "execution_count": null,
      "metadata": {
        "id": "2iVC59neTrvF",
        "colab": {
          "base_uri": "https://localhost:8080/"
        },
        "outputId": "912ec8c4-7ee3-4bb3-9e09-b90e0dfb62b0"
      },
      "outputs": [
        {
          "output_type": "execute_result",
          "data": {
            "text/plain": [
              "(-0.604006740741359, 5.5169829934130785)"
            ]
          },
          "metadata": {},
          "execution_count": 17
        }
      ],
      "source": [
        "mean = X_t1.mean()\n",
        "std = X_t1.std()\n",
        "X_t1 = (X_t1 - mean)/(std + 1e-8)\n",
        "np.min(X_t1), np.max(X_t1)"
      ]
    },
    {
      "cell_type": "code",
      "execution_count": null,
      "metadata": {
        "id": "gyL84efyaX5J"
      },
      "outputs": [],
      "source": [
        "X_t1ce=[]\n",
        "for i in range(len(t1ce_path)):\n",
        "    a = sitk.ReadImage(t1ce_path[i])\n",
        "    a = sitk.GetArrayFromImage(a)\n",
        "    for j in range(25):\n",
        "        X_t1ce.append((a[50+2*j,:,:]))\n",
        "print(np.shape(X_t1ce))"
      ]
    },
    {
      "cell_type": "code",
      "execution_count": null,
      "metadata": {
        "id": "BLIQ7qI2fCdS"
      },
      "outputs": [],
      "source": [
        "X_t1ce = np.asarray(X_t1ce).astype(np.float32)\n",
        "X_t1ce = pca_color_augmentation_tensor(X_t1ce[:,:,:])"
      ]
    },
    {
      "cell_type": "code",
      "execution_count": null,
      "metadata": {
        "id": "Juy5PSNFT5AK"
      },
      "outputs": [],
      "source": [
        "mean = X_t1ce.mean()\n",
        "std = X_t1ce.std()\n",
        "X_t1ce = (X_t1ce - mean)/(std + 1e-8)\n",
        "np.min(X_t1ce), np.max(X_t1ce)"
      ]
    },
    {
      "cell_type": "code",
      "execution_count": null,
      "metadata": {
        "id": "hj3lJ9Eua2vQ"
      },
      "outputs": [],
      "source": [
        "X_t2=[]\n",
        "for i in range(len(t2_path)):\n",
        "    a = sitk.ReadImage(t2_path[i])\n",
        "    a = sitk.GetArrayFromImage(a)\n",
        "    for j in range(25):\n",
        "        X_t2.append((a[50+2*j,:,:]))\n",
        "print(np.shape(X_t2))"
      ]
    },
    {
      "cell_type": "code",
      "execution_count": null,
      "metadata": {
        "id": "T1rNbpX-fH7L"
      },
      "outputs": [],
      "source": [
        "X_t2 = np.asarray(X_t2).astype(np.float32)\n",
        "X_t2 = pca_color_augmentation_tensor(X_t2[:,:,:])"
      ]
    },
    {
      "cell_type": "code",
      "execution_count": null,
      "metadata": {
        "id": "ynOIXHD0UFkV"
      },
      "outputs": [],
      "source": [
        "mean = X_t2.mean()\n",
        "std = X_t2.std()\n",
        "X_t2 = (X_t2 - mean)/(std + 1e-8)\n",
        "np.min(X_t2), np.max(X_t2)"
      ]
    },
    {
      "cell_type": "code",
      "execution_count": null,
      "metadata": {
        "id": "oXuqfN6dbLp_"
      },
      "outputs": [],
      "source": [
        "X_seg=[]\n",
        "for i in range(len(seg_path)):\n",
        "    a = sitk.ReadImage(seg_path[i])\n",
        "    a = sitk.GetArrayFromImage(a)\n",
        "    for j in range(25):\n",
        "        X_seg.append((a[50+2*j,:,:]))\n",
        "print(np.shape(X_seg))"
      ]
    },
    {
      "cell_type": "code",
      "execution_count": null,
      "metadata": {
        "id": "-aV-yA6gcRXu"
      },
      "outputs": [],
      "source": [
        "X_seg = np.asarray(X_seg).astype(np.float32)"
      ]
    },
    {
      "cell_type": "code",
      "execution_count": null,
      "metadata": {
        "id": "AnBB3AB3a0LP"
      },
      "outputs": [],
      "source": [
        "print(X_flair.shape[0])"
      ]
    },
    {
      "cell_type": "code",
      "execution_count": null,
      "metadata": {
        "id": "bBVPBlRp6tLB"
      },
      "outputs": [],
      "source": [
        "data = np.zeros((X_flair.shape[0],240,240,4))\n",
        "for i in range(data.shape[0]):\n",
        "    data[i,:,:,0] = X_flair[i,:,:]\n",
        "    data[i,:,:,1] = X_t1[i,:,:]\n",
        "    data[i,:,:,2] = X_t1ce[i,:,:]\n",
        "    data[i,:,:,3] = X_t2[i,:,:]"
      ]
    },
    {
      "cell_type": "code",
      "execution_count": null,
      "metadata": {
        "id": "AIjHDWaV79eC"
      },
      "outputs": [],
      "source": [
        "print(np.shape(data))"
      ]
    },
    {
      "cell_type": "code",
      "execution_count": null,
      "metadata": {
        "id": "9Y6vymfxD_cF"
      },
      "outputs": [],
      "source": [
        "del X_flair\n",
        "del X_t1\n",
        "del X_t2\n",
        "del X_t1ce"
      ]
    },
    {
      "cell_type": "code",
      "execution_count": null,
      "metadata": {
        "id": "GLaqcxM6cVrF"
      },
      "outputs": [],
      "source": [
        "print(np.unique(X_seg))"
      ]
    },
    {
      "cell_type": "code",
      "execution_count": null,
      "metadata": {
        "id": "qXMxghqIBW8u"
      },
      "outputs": [],
      "source": [
        "X_seg[X_seg == 4] = 3"
      ]
    },
    {
      "cell_type": "code",
      "execution_count": null,
      "metadata": {
        "id": "H0tI1I6G8x0z"
      },
      "outputs": [],
      "source": [
        "print(np.unique(X_seg))"
      ]
    },
    {
      "cell_type": "code",
      "execution_count": null,
      "metadata": {
        "id": "gbwIiU95RlHO"
      },
      "outputs": [],
      "source": [
        "print(X_seg.shape)"
      ]
    },
    {
      "cell_type": "code",
      "execution_count": null,
      "metadata": {
        "id": "iMmO-RWj23zP"
      },
      "outputs": [],
      "source": [
        "from tensorflow.keras.utils import to_categorical\n",
        "gt = to_categorical(X_seg, num_classes=None)\n",
        "print(gt.shape)"
      ]
    },
    {
      "cell_type": "code",
      "execution_count": null,
      "metadata": {
        "id": "PqPY9vYCbkKN"
      },
      "outputs": [],
      "source": [
        "print(data.shape)\n",
        "print(gt.shape)"
      ]
    },
    {
      "cell_type": "code",
      "execution_count": null,
      "metadata": {
        "id": "GxQVciKQMGff"
      },
      "outputs": [],
      "source": [
        "del X_seg"
      ]
    },
    {
      "cell_type": "code",
      "execution_count": null,
      "metadata": {
        "id": "qQVOCRWnvwz4"
      },
      "outputs": [],
      "source": [
        "from sklearn.model_selection import train_test_split\n",
        "X_train , X_test, Y_train, Y_test = train_test_split(data, gt, test_size=0.30, random_state=42)\n"
      ]
    },
    {
      "cell_type": "code",
      "execution_count": null,
      "metadata": {
        "id": "FYdaQwqNvwsh"
      },
      "outputs": [],
      "source": [
        "print(X_train.shape)\n",
        "print(X_test.shape)"
      ]
    },
    {
      "cell_type": "code",
      "execution_count": null,
      "metadata": {
        "id": "WWz-hyqVvwj8"
      },
      "outputs": [],
      "source": [
        "print(Y_train.shape)\n",
        "print(Y_test.shape)"
      ]
    },
    {
      "cell_type": "code",
      "execution_count": null,
      "metadata": {
        "id": "4Is_BJ-95Q1-"
      },
      "outputs": [],
      "source": [
        "from keras.preprocessing.image import ImageDataGenerator"
      ]
    },
    {
      "cell_type": "code",
      "execution_count": null,
      "metadata": {
        "id": "aaqOzNkf5Qwi"
      },
      "outputs": [],
      "source": [
        "image_datagen = ImageDataGenerator(rotation_range=5,\n",
        "                                    horizontal_flip=True,\n",
        "                                    vertical_flip=True,\n",
        "                                    width_shift_range=0.1,\n",
        "                                    height_shift_range=0.1,\n",
        "                                    shear_range=0.1,\n",
        "                                    zoom_range=0.1)\n",
        "mask_datagen = ImageDataGenerator(rotation_range=5,\n",
        "                                    horizontal_flip=True,\n",
        "                                    vertical_flip=True,\n",
        "                                    width_shift_range=0.1,\n",
        "                                    height_shift_range=0.1,\n",
        "                                    shear_range=0.1,\n",
        "                                    zoom_range=0.1)"
      ]
    },
    {
      "cell_type": "code",
      "execution_count": null,
      "metadata": {
        "id": "Y9w5WRqw6QUV"
      },
      "outputs": [],
      "source": [
        "seed = 1"
      ]
    },
    {
      "cell_type": "code",
      "execution_count": null,
      "metadata": {
        "id": "qq3hnaN65QlT"
      },
      "outputs": [],
      "source": [
        "image_generator = image_datagen.flow(X_train, batch_size=8, seed=seed)\n",
        "\n",
        "mask_generator = mask_datagen.flow(Y_train, batch_size=8, seed=seed)"
      ]
    },
    {
      "cell_type": "code",
      "execution_count": null,
      "metadata": {
        "id": "TTvnM3C-LtvA"
      },
      "outputs": [],
      "source": [
        "def train_generator(image_generator, mask_generator):\n",
        "    while True:\n",
        "        image_next = image_generator.next()\n",
        "        mask_next  = mask_generator.next()\n",
        "        yield image_next, [mask_next, mask_next, mask_next, mask_next]"
      ]
    },
    {
      "cell_type": "code",
      "execution_count": null,
      "metadata": {
        "id": "KrkAEt_AEWay"
      },
      "outputs": [],
      "source": [
        "from scipy.stats import pearsonr\n",
        "from tensorflow.keras.layers import Conv2D, BatchNormalization, LeakyReLU, Add, Activation, UpSampling2D, multiply\n",
        "from tensorflow.keras import regularizers\n",
        "def ieg_block2d(x, g, ch_inp, i, data_format='channels_last'):\n",
        "    reg = regularizers.l2(1e-5)\n",
        "    def conv_bn(x, filters, kernel_size, strides, dilation_rate=1):\n",
        "        x = Conv2D(filters, kernel_size, strides=strides, dilation_rate=dilation_rate,\n",
        "                   data_format=data_format, kernel_regularizer=reg)(x)\n",
        "        x = BatchNormalization()(x)\n",
        "        return x\n",
        "    x1 = conv_bn(x, ch_inp, [2, 2], strides=[2, 2])\n",
        "    x2 = conv_bn(g, ch_inp, [1, 1], strides=[1, 1], dilation_rate=i)\n",
        "    f = LeakyReLU(alpha=0.001)(Add()([x1, x2]))\n",
        "    x3 = conv_bn(f, 1, [1, 1], strides=[1, 1], dilation_rate=i)\n",
        "    x4 = Activation('sigmoid')(x3)\n",
        "    x5 = UpSampling2D(size=[2, 2])(x4)\n",
        "    att_x = multiply([x, x5])\n",
        "    return att_x"
      ]
    },
    {
      "cell_type": "code",
      "execution_count": null,
      "metadata": {
        "id": "j3a4tAdRlLWV"
      },
      "outputs": [],
      "source": [
        "from tensorflow.keras.layers import Conv2D, BatchNormalization, LeakyReLU, Add, MaxPooling2D\n",
        "from tensorflow.keras import regularizers\n",
        "\n",
        "def res_block(x, nb_filters, strides, i):\n",
        "    reg = regularizers.l2(1e-5)\n",
        "    def conv_bn_relu(x, filters, kernel_size, strides=1, dilation_rate=1, padding='same'):\n",
        "        x = Conv2D(filters=filters, kernel_size=kernel_size, strides=strides, dilation_rate=dilation_rate,\n",
        "                   padding=padding, kernel_regularizer=reg)(x)\n",
        "        x = BatchNormalization()(x)\n",
        "        x = LeakyReLU(alpha=0.001)(x)\n",
        "        return x\n",
        "    # Initial batch normalization and pooling\n",
        "    res_inp = BatchNormalization()(x)\n",
        "    res_inp = LeakyReLU(alpha=0.001)(res_inp)\n",
        "    pool = MaxPooling2D(pool_size=(2, 2))(res_inp)\n",
        "    # conv-BN-ReLU\n",
        "    res_inp = conv_bn_relu(pool, nb_filters[0], (3, 3), strides=strides[1], dilation_rate=i)\n",
        "    res_inp = conv_bn_relu(res_inp, nb_filters[1], (3, 3), strides=strides[1], dilation_rate=i)\n",
        "    shortcut = Conv2D(nb_filters[1], (1, 1), strides=strides[1], dilation_rate=i, padding='same',\n",
        "                      kernel_regularizer=reg)(pool)\n",
        "    shortcut = BatchNormalization()(shortcut)\n",
        "    res_inp = Add()([shortcut, res_inp])\n",
        "    return res_inp\n"
      ]
    },
    {
      "cell_type": "code",
      "execution_count": null,
      "metadata": {
        "id": "J7hpdbkfh0it"
      },
      "outputs": [],
      "source": [
        "def contraction(x):\n",
        "    to_expansion = []\n",
        "\n",
        "    con_inp = Conv2D(filters=64, kernel_size=(3, 3), padding='same',dilation_rate=(1,1), strides=(1, 1), kernel_regularizer=regularizers.l2(1e-5))(x)\n",
        "    con_inp = BatchNormalization()(con_inp)\n",
        "    con_inp = LeakyReLU(alpha=0.001)(con_inp)\n",
        "\n",
        "    con_inp = Conv2D(filters=64, kernel_size=(3, 3), padding='same',dilation_rate=(1,1),strides=(1, 1), kernel_regularizer=regularizers.l2(1e-5))(con_inp)\n",
        "\n",
        "    shortcut = Conv2D(filters=64, kernel_size=(1, 1), strides=(1, 1),dilation_rate=(1,1), kernel_regularizer=regularizers.l2(1e-5))(x)\n",
        "    shortcut = BatchNormalization()(shortcut)\n",
        "\n",
        "    con_inp = Add()([shortcut, con_inp])\n",
        "\n",
        "    # first branching to expansion\n",
        "    to_expansion.append(con_inp)\n",
        "\n",
        "    con_inp = res_block(con_inp, [128, 128], [(2, 2), (1, 1)],(1,1))\n",
        "    to_expansion.append(con_inp)\n",
        "\n",
        "    con_inp = res_block(con_inp, [256, 256], [(2, 2), (1, 1)],(2,2))\n",
        "    to_expansion.append(con_inp)\n",
        "\n",
        "    con_inp = res_block(con_inp, [512, 512], [(2, 2), (1, 1)],(4,4))\n",
        "    to_expansion.append(con_inp)\n",
        "\n",
        "    return to_expansion"
      ]
    },
    {
      "cell_type": "code",
      "execution_count": null,
      "metadata": {
        "id": "d21KxhILicou"
      },
      "outputs": [],
      "source": [
        "def res_block_expansion(x, nb_filters, strides,i):\n",
        "\n",
        "    res_path = BatchNormalization()(x)\n",
        "    res_path = LeakyReLU(alpha=0.001)(res_path)\n",
        "    res_path = Conv2D(filters=nb_filters[0], kernel_size=(3, 3), padding='same', dilation_rate=i, strides=strides[1], kernel_regularizer=regularizers.l2(1e-5))(res_path)\n",
        "    res_path = BatchNormalization()(res_path)\n",
        "    res_path = LeakyReLU(alpha=0.001)(res_path)\n",
        "    res_path = Conv2D(filters=nb_filters[1], kernel_size=(3, 3), padding='same', dilation_rate=i, strides=strides[1], kernel_regularizer=regularizers.l2(1e-5))(res_path)\n",
        "\n",
        "    shortcut = Conv2D(nb_filters[1], kernel_size=(1, 1), strides=strides[1], dilation_rate=i, kernel_regularizer=regularizers.l2(1e-5))(x)\n",
        "    shortcut = BatchNormalization()(shortcut)\n",
        "\n",
        "    res_path = Add()([shortcut, res_path])\n",
        "\n",
        "    return res_path\n"
      ]
    },
    {
      "cell_type": "code",
      "execution_count": null,
      "metadata": {
        "id": "c-LRm-5iElVi"
      },
      "outputs": [],
      "source": [
        "def expansion(x, from_contraction):\n",
        "\n",
        "    # Layer 4\n",
        "    ieg_path1 = ieg_block2d(from_contraction[3], x, 256, (1,1), data_format='channels_last')\n",
        "\n",
        "    exp_inp1 = Conv2DTranspose(512, (2, 2), strides=(2, 2), padding='same',dilation_rate=(1,1),kernel_regularizer=regularizers.l2(1e-5))(x)\n",
        "    exp_inp1 = Concatenate()([exp_inp1,ieg_path1])\n",
        "    exp_inp1 = res_block_expansion(exp_inp1, [512, 512], [(1, 1), (1, 1)],(4,4))\n",
        "\n",
        "    hc1 = trans_conv_operation(exp_inp1)\n",
        "    out_1 = Conv2D(filters=4, kernel_size=(1, 1), activation='softmax', name='out_1')(hc1)\n",
        "\n",
        "\n",
        "    # Layer 3\n",
        "    ieg_path2 = ieg_block2d(from_contraction[2],exp_inp1 ,128,(1,1),data_format='channels_last')\n",
        "\n",
        "    exp_inp2 = Conv2DTranspose(256, (2, 2), strides=(2, 2), dilation_rate=(1,1), padding='same', kernel_regularizer=regularizers.l2(1e-5))(exp_inp1)\n",
        "    exp_inp2 = Concatenate()([exp_inp2,ieg_path2])\n",
        "    exp_inp2 = res_block_expansion(exp_inp2, [256, 256], [(1, 1), (1, 1)],(2,2))\n",
        "\n",
        "    hc2 = trans_conv_operation_two(exp_inp2)\n",
        "    out_2 = Conv2D(filters=4, kernel_size=(1, 1), activation='softmax', name='out_2')(hc2)\n",
        "\n",
        "\n",
        "    # Layer 2\n",
        "    ieg_path3 = ieg_block2d(from_contraction[1],exp_inp2,64,(1,1),data_format='channels_last')\n",
        "\n",
        "    exp_inp3 = Conv2DTranspose(128, (2, 2), strides=(2, 2), padding='same',dilation_rate=(1,1), kernel_regularizer=regularizers.l2(1e-5)) (exp_inp2)\n",
        "    exp_inp3 = Concatenate()([exp_inp3,ieg_path3])\n",
        "    exp_inp3 = res_block_expansion(exp_inp3, [128, 128], [(1, 1), (1, 1)],(1,1))\n",
        "\n",
        "    hc3 = trans_conv_operation_one(exp_inp3)\n",
        "    out_3 = Conv2D(filters=4, kernel_size=(1, 1), activation='softmax', name='out_3')(hc3)\n",
        "\n",
        "\n",
        "    # Layer 1\n",
        "    ieg_path4 = ieg_block2d(from_contraction[0],exp_inp3,32,(1,1),data_format='channels_last')\n",
        "\n",
        "    exp_inp4 = Conv2DTranspose(64, (2, 2), strides=(2, 2), padding='same',dilation_rate=(1,1),kernel_regularizer=regularizers.l2(1e-5)) (exp_inp3)\n",
        "    exp_inp4 = Concatenate()([exp_inp4,ieg_path4])\n",
        "    exp_inp4 = res_block_expansion(exp_inp4, [64, 64], [(1, 1), (1, 1)],(1,1))\n",
        "\n",
        "    return exp_inp4, out_3, out_2, out_1"
      ]
    },
    {
      "cell_type": "code",
      "execution_count": null,
      "metadata": {
        "id": "7zW8NdlotSOe"
      },
      "outputs": [],
      "source": [
        "def trans_conv_operation(input_val):\n",
        "    tran_x1 = Conv2DTranspose(256, (2, 2), strides=(2, 2), padding='same',dilation_rate=(1,1),kernel_regularizer=regularizers.l2(1e-5)) (input_val)\n",
        "    tran_x2 = Conv2DTranspose(128, (2, 2), strides=(2, 2), padding='same',dilation_rate=(1,1), kernel_regularizer=regularizers.l2(1e-5)) (tran_x1)\n",
        "    tran_x3 = Conv2DTranspose(64, (2, 2), strides=(2, 2), padding='same',dilation_rate=(1,1), kernel_regularizer=regularizers.l2(1e-5)) (tran_x2)\n",
        "    return tran_x3\n",
        "def trans_conv_operation_two(input_val):\n",
        "    tran_x1 = Conv2DTranspose(128, (2, 2), strides=(2, 2), padding='same',dilation_rate=(1,1), kernel_regularizer=regularizers.l2(1e-5))(input_val)\n",
        "    tran_x2 = Conv2DTranspose(64, (2, 2), strides=(2, 2), padding='same',dilation_rate=(1,1) ,kernel_regularizer=regularizers.l2(1e-5))(tran_x1)\n",
        "    return tran_x2\n",
        "def trans_conv_operation_one(input_val):\n",
        "    tran_x1 = Conv2DTranspose(64, (2, 2), strides=(2, 2), padding='same',dilation_rate=(1,1), kernel_regularizer=regularizers.l2(1e-5)) (input_val)\n",
        "    return tran_x1"
      ]
    },
    {
      "cell_type": "code",
      "execution_count": null,
      "metadata": {
        "id": "sgquJ2yK7jum"
      },
      "outputs": [],
      "source": [
        "def hybrid_model(input_shape):\n",
        "    inputs = Input(shape=input_shape)\n",
        "\n",
        "    to_expansion = contraction(inputs)\n",
        "\n",
        "    path = res_block(to_expansion[3], [1024, 1024], [(2, 2), (1, 1)],(8,8))\n",
        "\n",
        "    final_out, out_3, out_2, out_1 = expansion(path, from_contraction=to_expansion)\n",
        "\n",
        "    final_out = Conv2D(filters=4, kernel_size=(1, 1), activation='sigmoid', name='final_output')(final_out)\n",
        "\n",
        "    return Model(inputs=inputs, outputs= [final_out, out_3, out_2, out_1])"
      ]
    },
    {
      "cell_type": "code",
      "execution_count": null,
      "metadata": {
        "id": "9RgxLmds6L1H"
      },
      "outputs": [],
      "source": [
        "def dice_coef_0(y_true, y_pred,smooth=0.000001):\n",
        "    y_true_f = K.flatten(y_true[:,:,:,0])\n",
        "    y_pred_f = K.flatten(y_pred[:,:,:,0])\n",
        "    intersection = K.sum(y_true_f * y_pred_f)\n",
        "    return (2. * intersection + smooth) / (K.sum(y_true_f) + K.sum(y_pred_f) + smooth)\n",
        "\n",
        "def dice_coef_1(y_true, y_pred,smooth=0.000001):\n",
        "    y_true_f = K.flatten(y_true[:,:,:,1])\n",
        "    y_pred_f = K.flatten(y_pred[:,:,:,1])\n",
        "    intersection = K.sum(y_true_f * y_pred_f)\n",
        "    return (2. * intersection + smooth) / (K.sum(y_true_f) + K.sum(y_pred_f) + smooth)\n",
        "\n",
        "def dice_coef_2(y_true, y_pred,smooth=0.000001):\n",
        "    y_true_f = K.flatten(y_true[:,:,:,2])\n",
        "    y_pred_f = K.flatten(y_pred[:,:,:,2])\n",
        "    intersection = K.sum(y_true_f * y_pred_f)\n",
        "    return (2. * intersection + smooth) / (K.sum(y_true_f) + K.sum(y_pred_f) + smooth)\n",
        "\n",
        "def dice_coef_3(y_true, y_pred,smooth=0.000001):\n",
        "    y_true_f = K.flatten(y_true[:,:,:,3])\n",
        "    y_pred_f = K.flatten(y_pred[:,:,:,3])\n",
        "    intersection = K.sum(y_true_f * y_pred_f)\n",
        "    return (2. * intersection + smooth) / (K.sum(y_true_f) + K.sum(y_pred_f) + smooth)\n",
        "\n",
        "def precision(y_true, y_pred):\n",
        "        true_positives = K.sum(K.round(K.clip(y_true * y_pred, 0, 1)))\n",
        "        predicted_positives = K.sum(K.round(K.clip(y_pred, 0, 1)))\n",
        "        precision = true_positives / (predicted_positives + K.epsilon())\n",
        "        return precision\n",
        "\n",
        "\n",
        "# Computing Sensitivity\n",
        "def sensitivity(y_true, y_pred):\n",
        "    true_positives = K.sum(K.round(K.clip(y_true * y_pred, 0, 1)))\n",
        "    possible_positives = K.sum(K.round(K.clip(y_true, 0, 1)))\n",
        "    return true_positives / (possible_positives + K.epsilon())\n",
        "\n",
        "\n",
        "# Computing Specificity\n",
        "def specificity(y_true, y_pred):\n",
        "    true_negatives = K.sum(K.round(K.clip((1-y_true) * (1-y_pred), 0, 1)))\n",
        "    possible_negatives = K.sum(K.round(K.clip(1-y_true, 0, 1)))\n",
        "    return true_negatives / (possible_negatives + K.epsilon())"
      ]
    },
    {
      "cell_type": "code",
      "execution_count": null,
      "metadata": {
        "id": "wG0uBNMw01l7"
      },
      "outputs": [],
      "source": [
        "def dice_score(y_true, y_pred):\n",
        "    d0 = dice_coef_0(y_true, y_pred,smooth=0.000001)\n",
        "    d1 = dice_coef_1(y_true, y_pred,smooth=0.000001)\n",
        "    d2 = dice_coef_2(y_true, y_pred,smooth=0.000001)\n",
        "    d3 = dice_coef_3(y_true, y_pred,smooth=0.000001)\n",
        "\n",
        "    dice_mean = (d0+d1+d2+d3)/4\n",
        "    return dice_mean\n",
        "\n",
        "def weighted_dice_score(y_true, y_pred):\n",
        "    ds0 = dice_coef_0(y_true, y_pred,smooth=0.000001)\n",
        "    ds1 = dice_coef_1(y_true, y_pred,smooth=0.000001)\n",
        "    ds2 = dice_coef_2(y_true, y_pred,smooth=0.000001)\n",
        "    ds3 = dice_coef_3(y_true, y_pred,smooth=0.000001)\n",
        "    weighted_dice_mean = (ds0+(5*ds1)+(2*ds2)+(4*ds3))/12\n",
        "    return weighted_dice_mean\n",
        "\n",
        "def correlation_coefficient_loss(y_true, y_pred):\n",
        "    x = y_true\n",
        "    y = y_pred\n",
        "    mx = K.mean(x)\n",
        "    my = K.mean(y)\n",
        "    xm, ym = x-mx, y-my\n",
        "    r_num = K.sum(xm * ym)\n",
        "    r_den = K.sum(K.sum(K.square(xm)) * K.sum(K.square(ym)))\n",
        "    r = r_num / r_den\n",
        "    return 1 - r**2"
      ]
    },
    {
      "cell_type": "code",
      "execution_count": null,
      "metadata": {
        "id": "rGndL1I1tWSx"
      },
      "outputs": [],
      "source": [
        "def dice_loss(y_true, y_pred):\n",
        "    return 1-dice_score(y_true, y_pred)\n",
        "def weighted_dice_loss(y_true, y_pred):\n",
        "    return 1-weighted_dice_score(y_true, y_pred)"
      ]
    },
    {
      "cell_type": "code",
      "execution_count": null,
      "metadata": {
        "id": "gZW9LvrBnDlc"
      },
      "outputs": [],
      "source": [
        "import tensorflow as tf\n",
        "def weighted_log_loss(y_true, y_pred):\n",
        "    y_pred /= tf.reduce_sum(y_pred, axis=-1, keepdims=True)\n",
        "    y_pred = tf.clip_by_value(y_pred, tf.keras.backend.epsilon(), 1 - tf.keras.backend.epsilon())\n",
        "    weights = tf.constant([1, 5, 2, 4], dtype=tf.float32)\n",
        "    loss = y_true * tf.math.log(y_pred) * weights\n",
        "    loss = tf.reduce_mean(-tf.reduce_sum(loss, -1))\n",
        "    return loss\n"
      ]
    },
    {
      "cell_type": "code",
      "execution_count": null,
      "metadata": {
        "id": "CLv-6ZVynHIa"
      },
      "outputs": [],
      "source": [
        "def corr_dice_loss(y_true, y_pred):\n",
        "    return weighted_dice_loss(y_true, y_pred)+weighted_log_loss(y_true,y_pred)+correlation_coefficient_loss(y_true,y_pred)"
      ]
    },
    {
      "cell_type": "code",
      "execution_count": null,
      "metadata": {
        "id": "9mQ6z4KW8qGx"
      },
      "outputs": [],
      "source": [
        "input_shape = (240,240,4)\n",
        "losses = {\n",
        "    'final_output':corr_dice_loss,\n",
        "    'out_3':corr_dice_loss,\n",
        "    'out_2':corr_dice_loss,\n",
        "    'out_1':corr_dice_loss,\n",
        "}\n",
        "lossWeights = {\"final_output\": 0.5, \"out_3\": 0.125, \"out_2\": 0.125, \"out_1\": 0.125}"
      ]
    },
    {
      "cell_type": "code",
      "source": [
        "batch_size = 64\n",
        "image_size = 240\n",
        "epochs = 100"
      ],
      "metadata": {
        "id": "IsbWJrsulRwL"
      },
      "execution_count": null,
      "outputs": []
    },
    {
      "cell_type": "code",
      "execution_count": null,
      "metadata": {
        "id": "V5MxDnLYvuIP"
      },
      "outputs": [],
      "source": [
        "model = hybrid_model(input_shape)"
      ]
    },
    {
      "cell_type": "code",
      "execution_count": null,
      "metadata": {
        "id": "gMbA5ClzaS5b"
      },
      "outputs": [],
      "source": [
        "model.compile(optimizer=tf.keras.optimizers.legacy.Adam(lr=0.0001), loss= losses,\n",
        "              metrics=['accuracy',dice_score,precision, sensitivity, specificity])"
      ]
    },
    {
      "cell_type": "code",
      "execution_count": null,
      "metadata": {
        "id": "x6VK7GTg9LQB",
        "colab": {
          "base_uri": "https://localhost:8080/"
        },
        "outputId": "bc6af35f-ec9a-4eb6-c297-b4508e392163"
      },
      "outputs": [
        {
          "output_type": "stream",
          "name": "stdout",
          "text": [
            "WARNING:tensorflow:From /tensorflow-1.15.2/python3.7/tensorflow_core/python/ops/math_grad.py:1375: where (from tensorflow.python.ops.array_ops) is deprecated and will be removed in a future version.\n",
            "Instructions for updating:\n",
            "Use tf.where in 2.0, which has the same broadcast rule as np.where\n",
            "WARNING:tensorflow:From /tensorflow-1.15.2/python3.7/keras/backend/tensorflow_backend.py:422: The name tf.global_variables is deprecated. Please use tf.compat.v1.global_variables instead.\n",
            "\n",
            "Epoch 1/100\n",
            "6/6 [==============================] - 39s 7s/step - loss: 13.1143 - final_output_loss: 3.3217 - out_3_loss: 3.2415 - out_2_loss: 3.2113 - out_1_loss: 3.2226 - final_output_accuracy: 0.3868 - final_output_dice_score: 0.1811 - final_output_precision: 0.3560 - final_output_sensitivity: 0.5393 - final_output_specificity: 0.6720 - out_3_accuracy: 0.5410 - out_3_dice_score: 0.1390 - out_3_precision: 0.5277 - out_3_sensitivity: 0.1551 - out_3_specificity: 0.9637 - out_2_accuracy: 0.5385 - out_2_dice_score: 0.1339 - out_2_precision: 0.6284 - out_2_sensitivity: 0.1080 - out_2_specificity: 0.9850 - out_1_accuracy: 0.5665 - out_1_dice_score: 0.1283 - out_1_precision: 0.6875 - out_1_sensitivity: 0.0544 - out_1_specificity: 0.9954 - val_loss: 13.5168 - val_final_output_loss: 3.3100 - val_out_3_loss: 3.3702 - val_out_2_loss: 3.3635 - val_out_1_loss: 3.3560 - val_final_output_accuracy: 0.6095 - val_final_output_dice_score: 0.1865 - val_final_output_precision: 0.4370 - val_final_output_sensitivity: 0.9798 - val_final_output_specificity: 0.5792 - val_out_3_accuracy: 0.4589 - val_out_3_dice_score: 0.1122 - val_out_3_precision: 0.6421 - val_out_3_sensitivity: 1.1882e-04 - val_out_3_specificity: 1.0000 - val_out_2_accuracy: 0.7643 - val_out_2_dice_score: 0.1124 - val_out_2_precision: 0.0000e+00 - val_out_2_sensitivity: 0.0000e+00 - val_out_2_specificity: 1.0000 - val_out_1_accuracy: 0.8942 - val_out_1_dice_score: 0.1130 - val_out_1_precision: 0.0000e+00 - val_out_1_sensitivity: 0.0000e+00 - val_out_1_specificity: 1.0000\n",
            "Epoch 2/100\n",
            "6/6 [==============================] - 12s 2s/step - loss: 10.4538 - final_output_loss: 2.8493 - out_3_loss: 2.5168 - out_2_loss: 2.4831 - out_1_loss: 2.4873 - final_output_accuracy: 0.7483 - final_output_dice_score: 0.2227 - final_output_precision: 0.5622 - final_output_sensitivity: 0.9165 - final_output_specificity: 0.7631 - out_3_accuracy: 0.9077 - out_3_dice_score: 0.2099 - out_3_precision: 0.9541 - out_3_sensitivity: 0.7775 - out_3_specificity: 0.9886 - out_2_accuracy: 0.9446 - out_2_dice_score: 0.2097 - out_2_precision: 0.9820 - out_2_sensitivity: 0.7654 - out_2_specificity: 0.9956 - out_1_accuracy: 0.9663 - out_1_dice_score: 0.2069 - out_1_precision: 0.9760 - out_1_sensitivity: 0.7627 - out_1_specificity: 0.9944 - val_loss: 13.1796 - val_final_output_loss: 3.2437 - val_out_3_loss: 3.2699 - val_out_2_loss: 3.2928 - val_out_1_loss: 3.2557 - val_final_output_accuracy: 0.7931 - val_final_output_dice_score: 0.1944 - val_final_output_precision: 0.4834 - val_final_output_sensitivity: 0.9933 - val_final_output_specificity: 0.6461 - val_out_3_accuracy: 0.9334 - val_out_3_dice_score: 0.1205 - val_out_3_precision: 0.7667 - val_out_3_sensitivity: 0.0011 - val_out_3_specificity: 0.9999 - val_out_2_accuracy: 0.9731 - val_out_2_dice_score: 0.1184 - val_out_2_precision: 0.0000e+00 - val_out_2_sensitivity: 0.0000e+00 - val_out_2_specificity: 1.0000 - val_out_1_accuracy: 0.9718 - val_out_1_dice_score: 0.1217 - val_out_1_precision: 0.0000e+00 - val_out_1_sensitivity: 0.0000e+00 - val_out_1_specificity: 1.0000\n",
            "Epoch 3/100\n",
            "6/6 [==============================] - 12s 2s/step - loss: 9.1108 - final_output_loss: 2.5895 - out_3_loss: 2.1689 - out_2_loss: 2.1249 - out_1_loss: 2.1103 - final_output_accuracy: 0.8050 - final_output_dice_score: 0.2501 - final_output_precision: 0.5972 - final_output_sensitivity: 0.9890 - final_output_specificity: 0.7774 - out_3_accuracy: 0.9750 - out_3_dice_score: 0.2670 - out_3_precision: 0.9844 - out_3_sensitivity: 0.9615 - out_3_specificity: 0.9948 - out_2_accuracy: 0.9785 - out_2_dice_score: 0.2659 - out_2_precision: 0.9791 - out_2_sensitivity: 0.9755 - out_2_specificity: 0.9931 - out_1_accuracy: 0.9760 - out_1_dice_score: 0.2760 - out_1_precision: 0.9812 - out_1_sensitivity: 0.9687 - out_1_specificity: 0.9937 - val_loss: 12.2760 - val_final_output_loss: 3.1636 - val_out_3_loss: 3.1044 - val_out_2_loss: 3.0237 - val_out_1_loss: 2.8670 - val_final_output_accuracy: 0.7929 - val_final_output_dice_score: 0.2035 - val_final_output_precision: 0.5575 - val_final_output_sensitivity: 0.9975 - val_final_output_specificity: 0.7358 - val_out_3_accuracy: 0.9742 - val_out_3_dice_score: 0.1362 - val_out_3_precision: 0.8676 - val_out_3_sensitivity: 0.0022 - val_out_3_specificity: 0.9999 - val_out_2_accuracy: 0.9787 - val_out_2_dice_score: 0.1439 - val_out_2_precision: 0.0833 - val_out_2_sensitivity: 1.8084e-07 - val_out_2_specificity: 1.0000 - val_out_1_accuracy: 0.9713 - val_out_1_dice_score: 0.1611 - val_out_1_precision: 1.0000 - val_out_1_sensitivity: 0.1040 - val_out_1_specificity: 1.0000\n",
            "Epoch 4/100\n",
            "6/6 [==============================] - 12s 2s/step - loss: 8.4961 - final_output_loss: 2.4291 - out_3_loss: 2.0103 - out_2_loss: 1.9825 - out_1_loss: 1.9569 - final_output_accuracy: 0.8300 - final_output_dice_score: 0.2604 - final_output_precision: 0.6177 - final_output_sensitivity: 0.9950 - final_output_specificity: 0.7946 - out_3_accuracy: 0.9794 - out_3_dice_score: 0.3223 - out_3_precision: 0.9883 - out_3_sensitivity: 0.9698 - out_3_specificity: 0.9960 - out_2_accuracy: 0.9805 - out_2_dice_score: 0.3213 - out_2_precision: 0.9884 - out_2_sensitivity: 0.9717 - out_2_specificity: 0.9960 - out_1_accuracy: 0.9806 - out_1_dice_score: 0.3412 - out_1_precision: 0.9879 - out_1_sensitivity: 0.9748 - out_1_specificity: 0.9959 - val_loss: 10.9600 - val_final_output_loss: 3.0734 - val_out_3_loss: 2.7854 - val_out_2_loss: 2.5824 - val_out_1_loss: 2.4019 - val_final_output_accuracy: 0.7973 - val_final_output_dice_score: 0.2131 - val_final_output_precision: 0.5722 - val_final_output_sensitivity: 0.9978 - val_final_output_specificity: 0.7511 - val_out_3_accuracy: 0.9795 - val_out_3_dice_score: 0.1706 - val_out_3_precision: 0.9946 - val_out_3_sensitivity: 0.2007 - val_out_3_specificity: 0.9996 - val_out_2_accuracy: 0.9789 - val_out_2_dice_score: 0.1941 - val_out_2_precision: 0.9950 - val_out_2_sensitivity: 0.7642 - val_out_2_specificity: 0.9987 - val_out_1_accuracy: 0.9790 - val_out_1_dice_score: 0.2171 - val_out_1_precision: 0.9873 - val_out_1_sensitivity: 0.9424 - val_out_1_specificity: 0.9960\n",
            "Epoch 5/100\n",
            "6/6 [==============================] - 12s 2s/step - loss: 8.3048 - final_output_loss: 2.3485 - out_3_loss: 1.9646 - out_2_loss: 1.9347 - out_1_loss: 1.9397 - final_output_accuracy: 0.8446 - final_output_dice_score: 0.2690 - final_output_precision: 0.6371 - final_output_sensitivity: 0.9965 - final_output_specificity: 0.8104 - out_3_accuracy: 0.9806 - out_3_dice_score: 0.3610 - out_3_precision: 0.9852 - out_3_sensitivity: 0.9756 - out_3_specificity: 0.9950 - out_2_accuracy: 0.9814 - out_2_dice_score: 0.3661 - out_2_precision: 0.9897 - out_2_sensitivity: 0.9754 - out_2_specificity: 0.9964 - out_1_accuracy: 0.9811 - out_1_dice_score: 0.3741 - out_1_precision: 0.9872 - out_1_sensitivity: 0.9780 - out_1_specificity: 0.9956 - val_loss: 10.1153 - val_final_output_loss: 2.9595 - val_out_3_loss: 2.5215 - val_out_2_loss: 2.3266 - val_out_1_loss: 2.1915 - val_final_output_accuracy: 0.8078 - val_final_output_dice_score: 0.2208 - val_final_output_precision: 0.6220 - val_final_output_sensitivity: 0.9972 - val_final_output_specificity: 0.7976 - val_out_3_accuracy: 0.9815 - val_out_3_dice_score: 0.2042 - val_out_3_precision: 0.9961 - val_out_3_sensitivity: 0.8857 - val_out_3_specificity: 0.9988 - val_out_2_accuracy: 0.9789 - val_out_2_dice_score: 0.2279 - val_out_2_precision: 0.9871 - val_out_2_sensitivity: 0.9668 - val_out_2_specificity: 0.9958 - val_out_1_accuracy: 0.9789 - val_out_1_dice_score: 0.2489 - val_out_1_precision: 0.9824 - val_out_1_sensitivity: 0.9769 - val_out_1_specificity: 0.9942\n",
            "Epoch 6/100\n",
            "6/6 [==============================] - 12s 2s/step - loss: 8.0720 - final_output_loss: 2.2998 - out_3_loss: 1.8551 - out_2_loss: 1.8891 - out_1_loss: 1.9107 - final_output_accuracy: 0.8496 - final_output_dice_score: 0.2812 - final_output_precision: 0.6691 - final_output_sensitivity: 0.9953 - final_output_specificity: 0.8357 - out_3_accuracy: 0.9829 - out_3_dice_score: 0.4353 - out_3_precision: 0.9887 - out_3_sensitivity: 0.9763 - out_3_specificity: 0.9961 - out_2_accuracy: 0.9769 - out_2_dice_score: 0.4014 - out_2_precision: 0.9913 - out_2_sensitivity: 0.9668 - out_2_specificity: 0.9967 - out_1_accuracy: 0.9739 - out_1_dice_score: 0.3983 - out_1_precision: 0.9845 - out_1_sensitivity: 0.9686 - out_1_specificity: 0.9947 - val_loss: 9.5124 - val_final_output_loss: 2.8293 - val_out_3_loss: 2.2985 - val_out_2_loss: 2.1624 - val_out_1_loss: 2.1073 - val_final_output_accuracy: 0.8280 - val_final_output_dice_score: 0.2283 - val_final_output_precision: 0.6818 - val_final_output_sensitivity: 0.9969 - val_final_output_specificity: 0.8445 - val_out_3_accuracy: 0.9819 - val_out_3_dice_score: 0.2375 - val_out_3_precision: 0.9946 - val_out_3_sensitivity: 0.9398 - val_out_3_specificity: 0.9983 - val_out_2_accuracy: 0.9792 - val_out_2_dice_score: 0.2572 - val_out_2_precision: 0.9869 - val_out_2_sensitivity: 0.9704 - val_out_2_specificity: 0.9957 - val_out_1_accuracy: 0.9791 - val_out_1_dice_score: 0.2695 - val_out_1_precision: 0.9838 - val_out_1_sensitivity: 0.9752 - val_out_1_specificity: 0.9946\n",
            "Epoch 7/100\n",
            "6/6 [==============================] - 12s 2s/step - loss: 7.8701 - final_output_loss: 2.2207 - out_3_loss: 1.7742 - out_2_loss: 1.8779 - out_1_loss: 1.8799 - final_output_accuracy: 0.8648 - final_output_dice_score: 0.2770 - final_output_precision: 0.7182 - final_output_sensitivity: 0.9985 - final_output_specificity: 0.8692 - out_3_accuracy: 0.9895 - out_3_dice_score: 0.4587 - out_3_precision: 0.9924 - out_3_sensitivity: 0.9859 - out_3_specificity: 0.9974 - out_2_accuracy: 0.9848 - out_2_dice_score: 0.3823 - out_2_precision: 0.9918 - out_2_sensitivity: 0.9802 - out_2_specificity: 0.9971 - out_1_accuracy: 0.9817 - out_1_dice_score: 0.3831 - out_1_precision: 0.9906 - out_1_sensitivity: 0.9771 - out_1_specificity: 0.9967 - val_loss: 9.5280 - val_final_output_loss: 2.7488 - val_out_3_loss: 2.3470 - val_out_2_loss: 2.2142 - val_out_1_loss: 2.1032 - val_final_output_accuracy: 0.8482 - val_final_output_dice_score: 0.2308 - val_final_output_precision: 0.7305 - val_final_output_sensitivity: 0.9958 - val_final_output_specificity: 0.8773 - val_out_3_accuracy: 0.9824 - val_out_3_dice_score: 0.2298 - val_out_3_precision: 0.9947 - val_out_3_sensitivity: 0.9531 - val_out_3_specificity: 0.9983 - val_out_2_accuracy: 0.9789 - val_out_2_dice_score: 0.2453 - val_out_2_precision: 0.9841 - val_out_2_sensitivity: 0.9772 - val_out_2_specificity: 0.9947 - val_out_1_accuracy: 0.9789 - val_out_1_dice_score: 0.2706 - val_out_1_precision: 0.9804 - val_out_1_sensitivity: 0.9783 - val_out_1_specificity: 0.9935\n",
            "Epoch 8/100\n",
            "6/6 [==============================] - 12s 2s/step - loss: 7.6030 - final_output_loss: 2.1636 - out_3_loss: 1.6887 - out_2_loss: 1.8165 - out_1_loss: 1.8168 - final_output_accuracy: 0.8768 - final_output_dice_score: 0.3077 - final_output_precision: 0.7472 - final_output_sensitivity: 0.9975 - final_output_specificity: 0.8875 - out_3_accuracy: 0.9870 - out_3_dice_score: 0.5345 - out_3_precision: 0.9897 - out_3_sensitivity: 0.9841 - out_3_specificity: 0.9964 - out_2_accuracy: 0.9819 - out_2_dice_score: 0.4281 - out_2_precision: 0.9916 - out_2_sensitivity: 0.9766 - out_2_specificity: 0.9969 - out_1_accuracy: 0.9824 - out_1_dice_score: 0.4354 - out_1_precision: 0.9908 - out_1_sensitivity: 0.9774 - out_1_specificity: 0.9966 - val_loss: 9.2107 - val_final_output_loss: 2.6463 - val_out_3_loss: 2.2394 - val_out_2_loss: 2.1246 - val_out_1_loss: 2.0874 - val_final_output_accuracy: 0.8692 - val_final_output_dice_score: 0.2351 - val_final_output_precision: 0.7682 - val_final_output_sensitivity: 0.9952 - val_final_output_specificity: 0.8998 - val_out_3_accuracy: 0.9800 - val_out_3_dice_score: 0.2495 - val_out_3_precision: 0.9946 - val_out_3_sensitivity: 0.9464 - val_out_3_specificity: 0.9983 - val_out_2_accuracy: 0.9791 - val_out_2_dice_score: 0.2653 - val_out_2_precision: 0.9859 - val_out_2_sensitivity: 0.9731 - val_out_2_specificity: 0.9954 - val_out_1_accuracy: 0.9791 - val_out_1_dice_score: 0.2789 - val_out_1_precision: 0.9812 - val_out_1_sensitivity: 0.9776 - val_out_1_specificity: 0.9938\n",
            "Epoch 9/100\n",
            "6/6 [==============================] - 13s 2s/step - loss: 7.5190 - final_output_loss: 2.1104 - out_3_loss: 1.6427 - out_2_loss: 1.8310 - out_1_loss: 1.8175 - final_output_accuracy: 0.8886 - final_output_dice_score: 0.3012 - final_output_precision: 0.7806 - final_output_sensitivity: 0.9988 - final_output_specificity: 0.9064 - out_3_accuracy: 0.9897 - out_3_dice_score: 0.5557 - out_3_precision: 0.9909 - out_3_sensitivity: 0.9881 - out_3_specificity: 0.9969 - out_2_accuracy: 0.9828 - out_2_dice_score: 0.4087 - out_2_precision: 0.9917 - out_2_sensitivity: 0.9782 - out_2_specificity: 0.9971 - out_1_accuracy: 0.9845 - out_1_dice_score: 0.4266 - out_1_precision: 0.9906 - out_1_sensitivity: 0.9805 - out_1_specificity: 0.9967 - val_loss: 9.2300 - val_final_output_loss: 2.5867 - val_out_3_loss: 2.2442 - val_out_2_loss: 2.1420 - val_out_1_loss: 2.1426 - val_final_output_accuracy: 0.8876 - val_final_output_dice_score: 0.2374 - val_final_output_precision: 0.8037 - val_final_output_sensitivity: 0.9934 - val_final_output_specificity: 0.9190 - val_out_3_accuracy: 0.9813 - val_out_3_dice_score: 0.2469 - val_out_3_precision: 0.9904 - val_out_3_sensitivity: 0.9655 - val_out_3_specificity: 0.9969 - val_out_2_accuracy: 0.9790 - val_out_2_dice_score: 0.2585 - val_out_2_precision: 0.9804 - val_out_2_sensitivity: 0.9783 - val_out_2_specificity: 0.9935 - val_out_1_accuracy: 0.9788 - val_out_1_dice_score: 0.2656 - val_out_1_precision: 0.9795 - val_out_1_sensitivity: 0.9786 - val_out_1_specificity: 0.9932\n",
            "Epoch 10/100\n",
            "6/6 [==============================] - 22s 4s/step - loss: 7.4368 - final_output_loss: 2.0310 - out_3_loss: 1.6133 - out_2_loss: 1.8422 - out_1_loss: 1.8373 - final_output_accuracy: 0.8960 - final_output_dice_score: 0.3651 - final_output_precision: 0.8031 - final_output_sensitivity: 0.9974 - final_output_specificity: 0.9185 - out_3_accuracy: 0.9862 - out_3_dice_score: 0.6234 - out_3_precision: 0.9864 - out_3_sensitivity: 0.9841 - out_3_specificity: 0.9954 - out_2_accuracy: 0.9789 - out_2_dice_score: 0.4447 - out_2_precision: 0.9857 - out_2_sensitivity: 0.9716 - out_2_specificity: 0.9950 - out_1_accuracy: 0.9790 - out_1_dice_score: 0.4562 - out_1_precision: 0.9828 - out_1_sensitivity: 0.9744 - out_1_specificity: 0.9941 - val_loss: 8.8291 - val_final_output_loss: 2.4514 - val_out_3_loss: 2.0805 - val_out_2_loss: 2.0698 - val_out_1_loss: 2.1157 - val_final_output_accuracy: 0.9070 - val_final_output_dice_score: 0.2476 - val_final_output_precision: 0.8260 - val_final_output_sensitivity: 0.9930 - val_final_output_specificity: 0.9301 - val_out_3_accuracy: 0.9738 - val_out_3_dice_score: 0.2921 - val_out_3_precision: 0.9879 - val_out_3_sensitivity: 0.9537 - val_out_3_specificity: 0.9961 - val_out_2_accuracy: 0.9792 - val_out_2_dice_score: 0.2871 - val_out_2_precision: 0.9819 - val_out_2_sensitivity: 0.9775 - val_out_2_specificity: 0.9940 - val_out_1_accuracy: 0.9791 - val_out_1_dice_score: 0.2811 - val_out_1_precision: 0.9802 - val_out_1_sensitivity: 0.9782 - val_out_1_specificity: 0.9934\n",
            "Epoch 11/100\n",
            "6/6 [==============================] - 13s 2s/step - loss: 7.3086 - final_output_loss: 1.9642 - out_3_loss: 1.6225 - out_2_loss: 1.8070 - out_1_loss: 1.7975 - final_output_accuracy: 0.9052 - final_output_dice_score: 0.3828 - final_output_precision: 0.8201 - final_output_sensitivity: 0.9978 - final_output_specificity: 0.9271 - out_3_accuracy: 0.9788 - out_3_dice_score: 0.5865 - out_3_precision: 0.9801 - out_3_sensitivity: 0.9767 - out_3_specificity: 0.9933 - out_2_accuracy: 0.9793 - out_2_dice_score: 0.4397 - out_2_precision: 0.9885 - out_2_sensitivity: 0.9720 - out_2_specificity: 0.9959 - out_1_accuracy: 0.9797 - out_1_dice_score: 0.4520 - out_1_precision: 0.9848 - out_1_sensitivity: 0.9752 - out_1_specificity: 0.9948 - val_loss: 8.8714 - val_final_output_loss: 2.3965 - val_out_3_loss: 2.0709 - val_out_2_loss: 2.1073 - val_out_1_loss: 2.1828 - val_final_output_accuracy: 0.9279 - val_final_output_dice_score: 0.2489 - val_final_output_precision: 0.8469 - val_final_output_sensitivity: 0.9908 - val_final_output_specificity: 0.9401 - val_out_3_accuracy: 0.9817 - val_out_3_dice_score: 0.2881 - val_out_3_precision: 0.9848 - val_out_3_sensitivity: 0.9797 - val_out_3_specificity: 0.9950 - val_out_2_accuracy: 0.9788 - val_out_2_dice_score: 0.2750 - val_out_2_precision: 0.9794 - val_out_2_sensitivity: 0.9786 - val_out_2_specificity: 0.9931 - val_out_1_accuracy: 0.9788 - val_out_1_dice_score: 0.2661 - val_out_1_precision: 0.9789 - val_out_1_sensitivity: 0.9786 - val_out_1_specificity: 0.9930\n",
            "Epoch 12/100\n",
            "6/6 [==============================] - 13s 2s/step - loss: 7.3265 - final_output_loss: 1.9844 - out_3_loss: 1.6053 - out_2_loss: 1.8100 - out_1_loss: 1.8094 - final_output_accuracy: 0.9274 - final_output_dice_score: 0.3580 - final_output_precision: 0.8435 - final_output_sensitivity: 0.9974 - final_output_specificity: 0.9383 - out_3_accuracy: 0.9894 - out_3_dice_score: 0.6062 - out_3_precision: 0.9895 - out_3_sensitivity: 0.9888 - out_3_specificity: 0.9965 - out_2_accuracy: 0.9859 - out_2_dice_score: 0.4479 - out_2_precision: 0.9869 - out_2_sensitivity: 0.9842 - out_2_specificity: 0.9956 - out_1_accuracy: 0.9861 - out_1_dice_score: 0.4495 - out_1_precision: 0.9871 - out_1_sensitivity: 0.9846 - out_1_specificity: 0.9957 - val_loss: 8.7741 - val_final_output_loss: 2.3432 - val_out_3_loss: 2.0517 - val_out_2_loss: 2.0799 - val_out_1_loss: 2.1854 - val_final_output_accuracy: 0.9342 - val_final_output_dice_score: 0.2536 - val_final_output_precision: 0.8587 - val_final_output_sensitivity: 0.9906 - val_final_output_specificity: 0.9455 - val_out_3_accuracy: 0.9825 - val_out_3_dice_score: 0.2983 - val_out_3_precision: 0.9854 - val_out_3_sensitivity: 0.9806 - val_out_3_specificity: 0.9952 - val_out_2_accuracy: 0.9789 - val_out_2_dice_score: 0.2814 - val_out_2_precision: 0.9799 - val_out_2_sensitivity: 0.9785 - val_out_2_specificity: 0.9933 - val_out_1_accuracy: 0.9788 - val_out_1_dice_score: 0.2680 - val_out_1_precision: 0.9790 - val_out_1_sensitivity: 0.9786 - val_out_1_specificity: 0.9930\n",
            "Epoch 13/100\n",
            "6/6 [==============================] - 12s 2s/step - loss: 7.0046 - final_output_loss: 1.8461 - out_3_loss: 1.5643 - out_2_loss: 1.7427 - out_1_loss: 1.7342 - final_output_accuracy: 0.9228 - final_output_dice_score: 0.4598 - final_output_precision: 0.8396 - final_output_sensitivity: 0.9965 - final_output_specificity: 0.9366 - out_3_accuracy: 0.9856 - out_3_dice_score: 0.6524 - out_3_precision: 0.9858 - out_3_sensitivity: 0.9844 - out_3_specificity: 0.9953 - out_2_accuracy: 0.9804 - out_2_dice_score: 0.5045 - out_2_precision: 0.9828 - out_2_sensitivity: 0.9773 - out_2_specificity: 0.9942 - out_1_accuracy: 0.9806 - out_1_dice_score: 0.5203 - out_1_precision: 0.9822 - out_1_sensitivity: 0.9782 - out_1_specificity: 0.9940 - val_loss: 8.4689 - val_final_output_loss: 2.2354 - val_out_3_loss: 1.9696 - val_out_2_loss: 2.0181 - val_out_1_loss: 2.1348 - val_final_output_accuracy: 0.9399 - val_final_output_dice_score: 0.2697 - val_final_output_precision: 0.8694 - val_final_output_sensitivity: 0.9910 - val_final_output_specificity: 0.9502 - val_out_3_accuracy: 0.9834 - val_out_3_dice_score: 0.3381 - val_out_3_precision: 0.9871 - val_out_3_sensitivity: 0.9805 - val_out_3_specificity: 0.9957 - val_out_2_accuracy: 0.9796 - val_out_2_dice_score: 0.3097 - val_out_2_precision: 0.9825 - val_out_2_sensitivity: 0.9779 - val_out_2_specificity: 0.9942 - val_out_1_accuracy: 0.9790 - val_out_1_dice_score: 0.2865 - val_out_1_precision: 0.9797 - val_out_1_sensitivity: 0.9785 - val_out_1_specificity: 0.9932\n",
            "Epoch 14/100\n",
            "6/6 [==============================] - 13s 2s/step - loss: 6.8151 - final_output_loss: 1.7750 - out_3_loss: 1.4931 - out_2_loss: 1.7188 - out_1_loss: 1.7110 - final_output_accuracy: 0.9315 - final_output_dice_score: 0.4753 - final_output_precision: 0.8565 - final_output_sensitivity: 0.9981 - final_output_specificity: 0.9443 - out_3_accuracy: 0.9889 - out_3_dice_score: 0.6646 - out_3_precision: 0.9890 - out_3_sensitivity: 0.9879 - out_3_specificity: 0.9963 - out_2_accuracy: 0.9831 - out_2_dice_score: 0.4961 - out_2_precision: 0.9848 - out_2_sensitivity: 0.9810 - out_2_specificity: 0.9949 - out_1_accuracy: 0.9843 - out_1_dice_score: 0.5143 - out_1_precision: 0.9854 - out_1_sensitivity: 0.9828 - out_1_specificity: 0.9951 - val_loss: 8.7800 - val_final_output_loss: 2.2564 - val_out_3_loss: 2.0480 - val_out_2_loss: 2.1116 - val_out_1_loss: 2.2486 - val_final_output_accuracy: 0.9513 - val_final_output_dice_score: 0.2587 - val_final_output_precision: 0.8912 - val_final_output_sensitivity: 0.9879 - val_final_output_specificity: 0.9597 - val_out_3_accuracy: 0.9798 - val_out_3_dice_score: 0.2998 - val_out_3_precision: 0.9806 - val_out_3_sensitivity: 0.9793 - val_out_3_specificity: 0.9935 - val_out_2_accuracy: 0.9788 - val_out_2_dice_score: 0.2749 - val_out_2_precision: 0.9792 - val_out_2_sensitivity: 0.9786 - val_out_2_specificity: 0.9931 - val_out_1_accuracy: 0.9788 - val_out_1_dice_score: 0.2599 - val_out_1_precision: 0.9787 - val_out_1_sensitivity: 0.9786 - val_out_1_specificity: 0.9929\n",
            "Epoch 15/100\n",
            "6/6 [==============================] - 13s 2s/step - loss: 7.1305 - final_output_loss: 1.8541 - out_3_loss: 1.5759 - out_2_loss: 1.8189 - out_1_loss: 1.7642 - final_output_accuracy: 0.9400 - final_output_dice_score: 0.4755 - final_output_precision: 0.8685 - final_output_sensitivity: 0.9939 - final_output_specificity: 0.9499 - out_3_accuracy: 0.9876 - out_3_dice_score: 0.6438 - out_3_precision: 0.9876 - out_3_sensitivity: 0.9866 - out_3_specificity: 0.9959 - out_2_accuracy: 0.9823 - out_2_dice_score: 0.4805 - out_2_precision: 0.9834 - out_2_sensitivity: 0.9808 - out_2_specificity: 0.9944 - out_1_accuracy: 0.9835 - out_1_dice_score: 0.5169 - out_1_precision: 0.9844 - out_1_sensitivity: 0.9820 - out_1_specificity: 0.9947 - val_loss: 8.3726 - val_final_output_loss: 2.1519 - val_out_3_loss: 1.9449 - val_out_2_loss: 2.0183 - val_out_1_loss: 2.1484 - val_final_output_accuracy: 0.9512 - val_final_output_dice_score: 0.2829 - val_final_output_precision: 0.8911 - val_final_output_sensitivity: 0.9894 - val_final_output_specificity: 0.9596 - val_out_3_accuracy: 0.9823 - val_out_3_dice_score: 0.3533 - val_out_3_precision: 0.9849 - val_out_3_sensitivity: 0.9796 - val_out_3_specificity: 0.9950 - val_out_2_accuracy: 0.9796 - val_out_2_dice_score: 0.3207 - val_out_2_precision: 0.9819 - val_out_2_sensitivity: 0.9782 - val_out_2_specificity: 0.9940 - val_out_1_accuracy: 0.9790 - val_out_1_dice_score: 0.2937 - val_out_1_precision: 0.9796 - val_out_1_sensitivity: 0.9785 - val_out_1_specificity: 0.9932\n",
            "Epoch 16/100\n",
            "6/6 [==============================] - 13s 2s/step - loss: 7.2047 - final_output_loss: 1.8021 - out_3_loss: 1.6497 - out_2_loss: 1.8170 - out_1_loss: 1.8185 - final_output_accuracy: 0.9388 - final_output_dice_score: 0.4583 - final_output_precision: 0.8648 - final_output_sensitivity: 0.9969 - final_output_specificity: 0.9480 - out_3_accuracy: 0.9822 - out_3_dice_score: 0.5600 - out_3_precision: 0.9828 - out_3_sensitivity: 0.9809 - out_3_specificity: 0.9942 - out_2_accuracy: 0.9778 - out_2_dice_score: 0.4306 - out_2_precision: 0.9809 - out_2_sensitivity: 0.9754 - out_2_specificity: 0.9936 - out_1_accuracy: 0.9805 - out_1_dice_score: 0.4473 - out_1_precision: 0.9822 - out_1_sensitivity: 0.9787 - out_1_specificity: 0.9940 - val_loss: 8.6055 - val_final_output_loss: 2.1463 - val_out_3_loss: 1.9971 - val_out_2_loss: 2.1029 - val_out_1_loss: 2.2464 - val_final_output_accuracy: 0.9563 - val_final_output_dice_score: 0.2810 - val_final_output_precision: 0.9009 - val_final_output_sensitivity: 0.9886 - val_final_output_specificity: 0.9637 - val_out_3_accuracy: 0.9812 - val_out_3_dice_score: 0.3362 - val_out_3_precision: 0.9821 - val_out_3_sensitivity: 0.9804 - val_out_3_specificity: 0.9941 - val_out_2_accuracy: 0.9789 - val_out_2_dice_score: 0.2904 - val_out_2_precision: 0.9794 - val_out_2_sensitivity: 0.9786 - val_out_2_specificity: 0.9932 - val_out_1_accuracy: 0.9788 - val_out_1_dice_score: 0.2636 - val_out_1_precision: 0.9787 - val_out_1_sensitivity: 0.9786 - val_out_1_specificity: 0.9929\n",
            "Epoch 17/100\n",
            "6/6 [==============================] - 13s 2s/step - loss: 6.8980 - final_output_loss: 1.7389 - out_3_loss: 1.5521 - out_2_loss: 1.7551 - out_1_loss: 1.7346 - final_output_accuracy: 0.9593 - final_output_dice_score: 0.4922 - final_output_precision: 0.8931 - final_output_sensitivity: 0.9970 - final_output_specificity: 0.9602 - out_3_accuracy: 0.9933 - out_3_dice_score: 0.6429 - out_3_precision: 0.9932 - out_3_sensitivity: 0.9929 - out_3_specificity: 0.9977 - out_2_accuracy: 0.9897 - out_2_dice_score: 0.4751 - out_2_precision: 0.9904 - out_2_sensitivity: 0.9887 - out_2_specificity: 0.9968 - out_1_accuracy: 0.9900 - out_1_dice_score: 0.4933 - out_1_precision: 0.9903 - out_1_sensitivity: 0.9893 - out_1_specificity: 0.9967 - val_loss: 8.7874 - val_final_output_loss: 2.1937 - val_out_3_loss: 2.0534 - val_out_2_loss: 2.1445 - val_out_1_loss: 2.2805 - val_final_output_accuracy: 0.9619 - val_final_output_dice_score: 0.2671 - val_final_output_precision: 0.9109 - val_final_output_sensitivity: 0.9875 - val_final_output_specificity: 0.9678 - val_out_3_accuracy: 0.9806 - val_out_3_dice_score: 0.3101 - val_out_3_precision: 0.9810 - val_out_3_sensitivity: 0.9802 - val_out_3_specificity: 0.9937 - val_out_2_accuracy: 0.9788 - val_out_2_dice_score: 0.2709 - val_out_2_precision: 0.9790 - val_out_2_sensitivity: 0.9786 - val_out_2_specificity: 0.9930 - val_out_1_accuracy: 0.9788 - val_out_1_dice_score: 0.2586 - val_out_1_precision: 0.9787 - val_out_1_sensitivity: 0.9786 - val_out_1_specificity: 0.9929\n",
            "Epoch 18/100\n",
            "6/6 [==============================] - 13s 2s/step - loss: 6.7699 - final_output_loss: 1.6952 - out_3_loss: 1.5196 - out_2_loss: 1.6836 - out_1_loss: 1.7541 - final_output_accuracy: 0.9673 - final_output_dice_score: 0.5113 - final_output_precision: 0.9017 - final_output_sensitivity: 0.9959 - final_output_specificity: 0.9638 - out_3_accuracy: 0.9897 - out_3_dice_score: 0.6539 - out_3_precision: 0.9896 - out_3_sensitivity: 0.9891 - out_3_specificity: 0.9965 - out_2_accuracy: 0.9855 - out_2_dice_score: 0.5221 - out_2_precision: 0.9860 - out_2_sensitivity: 0.9844 - out_2_specificity: 0.9953 - out_1_accuracy: 0.9783 - out_1_dice_score: 0.4922 - out_1_precision: 0.9785 - out_1_sensitivity: 0.9775 - out_1_specificity: 0.9928 - val_loss: 8.4887 - val_final_output_loss: 2.1612 - val_out_3_loss: 1.9734 - val_out_2_loss: 2.0403 - val_out_1_loss: 2.2016 - val_final_output_accuracy: 0.9660 - val_final_output_dice_score: 0.2803 - val_final_output_precision: 0.9135 - val_final_output_sensitivity: 0.9896 - val_final_output_specificity: 0.9687 - val_out_3_accuracy: 0.9838 - val_out_3_dice_score: 0.3403 - val_out_3_precision: 0.9857 - val_out_3_sensitivity: 0.9822 - val_out_3_specificity: 0.9952 - val_out_2_accuracy: 0.9796 - val_out_2_dice_score: 0.3023 - val_out_2_precision: 0.9813 - val_out_2_sensitivity: 0.9786 - val_out_2_specificity: 0.9938 - val_out_1_accuracy: 0.9790 - val_out_1_dice_score: 0.2784 - val_out_1_precision: 0.9791 - val_out_1_sensitivity: 0.9787 - val_out_1_specificity: 0.9930\n",
            "Epoch 19/100\n",
            "6/6 [==============================] - 12s 2s/step - loss: 6.9925 - final_output_loss: 1.7403 - out_3_loss: 1.6074 - out_2_loss: 1.7434 - out_1_loss: 1.7908 - final_output_accuracy: 0.9728 - final_output_dice_score: 0.4786 - final_output_precision: 0.9137 - final_output_sensitivity: 0.9945 - final_output_specificity: 0.9687 - out_3_accuracy: 0.9889 - out_3_dice_score: 0.5925 - out_3_precision: 0.9891 - out_3_sensitivity: 0.9885 - out_3_specificity: 0.9963 - out_2_accuracy: 0.9848 - out_2_dice_score: 0.4885 - out_2_precision: 0.9859 - out_2_sensitivity: 0.9836 - out_2_specificity: 0.9953 - out_1_accuracy: 0.9818 - out_1_dice_score: 0.4727 - out_1_precision: 0.9825 - out_1_sensitivity: 0.9808 - out_1_specificity: 0.9942 - val_loss: 8.4592 - val_final_output_loss: 2.1444 - val_out_3_loss: 1.9551 - val_out_2_loss: 2.0224 - val_out_1_loss: 2.2253 - val_final_output_accuracy: 0.9722 - val_final_output_dice_score: 0.2848 - val_final_output_precision: 0.9200 - val_final_output_sensitivity: 0.9898 - val_final_output_specificity: 0.9713 - val_out_3_accuracy: 0.9840 - val_out_3_dice_score: 0.3463 - val_out_3_precision: 0.9863 - val_out_3_sensitivity: 0.9821 - val_out_3_specificity: 0.9955 - val_out_2_accuracy: 0.9798 - val_out_2_dice_score: 0.3080 - val_out_2_precision: 0.9819 - val_out_2_sensitivity: 0.9784 - val_out_2_specificity: 0.9940 - val_out_1_accuracy: 0.9789 - val_out_1_dice_score: 0.2742 - val_out_1_precision: 0.9791 - val_out_1_sensitivity: 0.9786 - val_out_1_specificity: 0.9930\n",
            "Epoch 20/100\n",
            "6/6 [==============================] - 13s 2s/step - loss: 6.5148 - final_output_loss: 1.6087 - out_3_loss: 1.4721 - out_2_loss: 1.6368 - out_1_loss: 1.6798 - final_output_accuracy: 0.9807 - final_output_dice_score: 0.5777 - final_output_precision: 0.9293 - final_output_sensitivity: 0.9949 - final_output_specificity: 0.9748 - out_3_accuracy: 0.9901 - out_3_dice_score: 0.7029 - out_3_precision: 0.9900 - out_3_sensitivity: 0.9893 - out_3_specificity: 0.9966 - out_2_accuracy: 0.9863 - out_2_dice_score: 0.5705 - out_2_precision: 0.9872 - out_2_sensitivity: 0.9847 - out_2_specificity: 0.9957 - out_1_accuracy: 0.9860 - out_1_dice_score: 0.5604 - out_1_precision: 0.9866 - out_1_sensitivity: 0.9849 - out_1_specificity: 0.9955 - val_loss: 8.2676 - val_final_output_loss: 2.0854 - val_out_3_loss: 1.9053 - val_out_2_loss: 1.9995 - val_out_1_loss: 2.1664 - val_final_output_accuracy: 0.9801 - val_final_output_dice_score: 0.3001 - val_final_output_precision: 0.9357 - val_final_output_sensitivity: 0.9897 - val_final_output_specificity: 0.9773 - val_out_3_accuracy: 0.9848 - val_out_3_dice_score: 0.3802 - val_out_3_precision: 0.9867 - val_out_3_sensitivity: 0.9832 - val_out_3_specificity: 0.9956 - val_out_2_accuracy: 0.9802 - val_out_2_dice_score: 0.3210 - val_out_2_precision: 0.9826 - val_out_2_sensitivity: 0.9788 - val_out_2_specificity: 0.9942 - val_out_1_accuracy: 0.9791 - val_out_1_dice_score: 0.2893 - val_out_1_precision: 0.9794 - val_out_1_sensitivity: 0.9786 - val_out_1_specificity: 0.9931\n",
            "Epoch 21/100\n",
            "6/6 [==============================] - 13s 2s/step - loss: 6.5821 - final_output_loss: 1.6084 - out_3_loss: 1.5036 - out_2_loss: 1.6687 - out_1_loss: 1.6840 - final_output_accuracy: 0.9867 - final_output_dice_score: 0.5704 - final_output_precision: 0.9476 - final_output_sensitivity: 0.9944 - final_output_specificity: 0.9817 - out_3_accuracy: 0.9912 - out_3_dice_score: 0.6809 - out_3_precision: 0.9910 - out_3_sensitivity: 0.9905 - out_3_specificity: 0.9970 - out_2_accuracy: 0.9861 - out_2_dice_score: 0.5447 - out_2_precision: 0.9866 - out_2_sensitivity: 0.9847 - out_2_specificity: 0.9955 - out_1_accuracy: 0.9861 - out_1_dice_score: 0.5411 - out_1_precision: 0.9865 - out_1_sensitivity: 0.9846 - out_1_specificity: 0.9955 - val_loss: 8.3652 - val_final_output_loss: 2.0783 - val_out_3_loss: 1.9471 - val_out_2_loss: 2.0450 - val_out_1_loss: 2.1817 - val_final_output_accuracy: 0.9832 - val_final_output_dice_score: 0.2964 - val_final_output_precision: 0.9569 - val_final_output_sensitivity: 0.9876 - val_final_output_specificity: 0.9852 - val_out_3_accuracy: 0.9830 - val_out_3_dice_score: 0.3670 - val_out_3_precision: 0.9838 - val_out_3_sensitivity: 0.9823 - val_out_3_specificity: 0.9946 - val_out_2_accuracy: 0.9795 - val_out_2_dice_score: 0.3056 - val_out_2_precision: 0.9805 - val_out_2_sensitivity: 0.9789 - val_out_2_specificity: 0.9935 - val_out_1_accuracy: 0.9790 - val_out_1_dice_score: 0.2839 - val_out_1_precision: 0.9792 - val_out_1_sensitivity: 0.9787 - val_out_1_specificity: 0.9931\n",
            "Epoch 22/100\n",
            "6/6 [==============================] - 13s 2s/step - loss: 6.2976 - final_output_loss: 1.5121 - out_3_loss: 1.4184 - out_2_loss: 1.6156 - out_1_loss: 1.6341 - final_output_accuracy: 0.9921 - final_output_dice_score: 0.6333 - final_output_precision: 0.9712 - final_output_sensitivity: 0.9954 - final_output_specificity: 0.9902 - out_3_accuracy: 0.9931 - out_3_dice_score: 0.7272 - out_3_precision: 0.9928 - out_3_sensitivity: 0.9926 - out_3_specificity: 0.9976 - out_2_accuracy: 0.9892 - out_2_dice_score: 0.5844 - out_2_precision: 0.9893 - out_2_sensitivity: 0.9883 - out_2_specificity: 0.9964 - out_1_accuracy: 0.9885 - out_1_dice_score: 0.5719 - out_1_precision: 0.9886 - out_1_sensitivity: 0.9877 - out_1_specificity: 0.9962 - val_loss: 8.4922 - val_final_output_loss: 2.0513 - val_out_3_loss: 1.9884 - val_out_2_loss: 2.0789 - val_out_1_loss: 2.2592 - val_final_output_accuracy: 0.9837 - val_final_output_dice_score: 0.3053 - val_final_output_precision: 0.9749 - val_final_output_sensitivity: 0.9864 - val_final_output_specificity: 0.9915 - val_out_3_accuracy: 0.9823 - val_out_3_dice_score: 0.3593 - val_out_3_precision: 0.9826 - val_out_3_sensitivity: 0.9818 - val_out_3_specificity: 0.9942 - val_out_2_accuracy: 0.9792 - val_out_2_dice_score: 0.3017 - val_out_2_precision: 0.9796 - val_out_2_sensitivity: 0.9789 - val_out_2_specificity: 0.9932 - val_out_1_accuracy: 0.9788 - val_out_1_dice_score: 0.2677 - val_out_1_precision: 0.9789 - val_out_1_sensitivity: 0.9787 - val_out_1_specificity: 0.9930\n",
            "Epoch 23/100\n",
            "6/6 [==============================] - 13s 2s/step - loss: 6.5072 - final_output_loss: 1.5492 - out_3_loss: 1.5070 - out_2_loss: 1.6621 - out_1_loss: 1.6715 - final_output_accuracy: 0.9888 - final_output_dice_score: 0.6268 - final_output_precision: 0.9759 - final_output_sensitivity: 0.9923 - final_output_specificity: 0.9919 - out_3_accuracy: 0.9898 - out_3_dice_score: 0.6738 - out_3_precision: 0.9896 - out_3_sensitivity: 0.9890 - out_3_specificity: 0.9965 - out_2_accuracy: 0.9862 - out_2_dice_score: 0.5562 - out_2_precision: 0.9865 - out_2_sensitivity: 0.9851 - out_2_specificity: 0.9955 - out_1_accuracy: 0.9868 - out_1_dice_score: 0.5541 - out_1_precision: 0.9869 - out_1_sensitivity: 0.9857 - out_1_specificity: 0.9956 - val_loss: 8.1476 - val_final_output_loss: 1.9543 - val_out_3_loss: 1.9040 - val_out_2_loss: 2.0077 - val_out_1_loss: 2.1706 - val_final_output_accuracy: 0.9851 - val_final_output_dice_score: 0.3499 - val_final_output_precision: 0.9817 - val_final_output_sensitivity: 0.9860 - val_final_output_specificity: 0.9939 - val_out_3_accuracy: 0.9842 - val_out_3_dice_score: 0.4107 - val_out_3_precision: 0.9846 - val_out_3_sensitivity: 0.9836 - val_out_3_specificity: 0.9949 - val_out_2_accuracy: 0.9808 - val_out_2_dice_score: 0.3395 - val_out_2_precision: 0.9816 - val_out_2_sensitivity: 0.9802 - val_out_2_specificity: 0.9939 - val_out_1_accuracy: 0.9792 - val_out_1_dice_score: 0.2965 - val_out_1_precision: 0.9794 - val_out_1_sensitivity: 0.9789 - val_out_1_specificity: 0.9931\n",
            "Epoch 24/100\n",
            "6/6 [==============================] - 13s 2s/step - loss: 6.2280 - final_output_loss: 1.4738 - out_3_loss: 1.4072 - out_2_loss: 1.6106 - out_1_loss: 1.6190 - final_output_accuracy: 0.9938 - final_output_dice_score: 0.6618 - final_output_precision: 0.9888 - final_output_sensitivity: 0.9939 - final_output_specificity: 0.9963 - out_3_accuracy: 0.9941 - out_3_dice_score: 0.7288 - out_3_precision: 0.9939 - out_3_sensitivity: 0.9937 - out_3_specificity: 0.9980 - out_2_accuracy: 0.9906 - out_2_dice_score: 0.5812 - out_2_precision: 0.9906 - out_2_sensitivity: 0.9899 - out_2_specificity: 0.9968 - out_1_accuracy: 0.9905 - out_1_dice_score: 0.5774 - out_1_precision: 0.9906 - out_1_sensitivity: 0.9899 - out_1_specificity: 0.9968 - val_loss: 8.6129 - val_final_output_loss: 2.0287 - val_out_3_loss: 2.0529 - val_out_2_loss: 2.1382 - val_out_1_loss: 2.2791 - val_final_output_accuracy: 0.9808 - val_final_output_dice_score: 0.3072 - val_final_output_precision: 0.9818 - val_final_output_sensitivity: 0.9805 - val_final_output_specificity: 0.9940 - val_out_3_accuracy: 0.9800 - val_out_3_dice_score: 0.3345 - val_out_3_precision: 0.9800 - val_out_3_sensitivity: 0.9797 - val_out_3_specificity: 0.9934 - val_out_2_accuracy: 0.9790 - val_out_2_dice_score: 0.2926 - val_out_2_precision: 0.9793 - val_out_2_sensitivity: 0.9787 - val_out_2_specificity: 0.9931 - val_out_1_accuracy: 0.9788 - val_out_1_dice_score: 0.2687 - val_out_1_precision: 0.9789 - val_out_1_sensitivity: 0.9786 - val_out_1_specificity: 0.9930\n",
            "Epoch 25/100\n",
            "6/6 [==============================] - 13s 2s/step - loss: 6.4252 - final_output_loss: 1.4934 - out_3_loss: 1.4842 - out_2_loss: 1.6607 - out_1_loss: 1.6697 - final_output_accuracy: 0.9886 - final_output_dice_score: 0.6812 - final_output_precision: 0.9823 - final_output_sensitivity: 0.9885 - final_output_specificity: 0.9941 - out_3_accuracy: 0.9887 - out_3_dice_score: 0.7073 - out_3_precision: 0.9886 - out_3_sensitivity: 0.9878 - out_3_specificity: 0.9962 - out_2_accuracy: 0.9840 - out_2_dice_score: 0.5795 - out_2_precision: 0.9844 - out_2_sensitivity: 0.9825 - out_2_specificity: 0.9948 - out_1_accuracy: 0.9844 - out_1_dice_score: 0.5806 - out_1_precision: 0.9848 - out_1_sensitivity: 0.9830 - out_1_specificity: 0.9949 - val_loss: 7.3670 - val_final_output_loss: 1.7548 - val_out_3_loss: 1.6890 - val_out_2_loss: 1.8391 - val_out_1_loss: 1.9774 - val_final_output_accuracy: 0.9869 - val_final_output_dice_score: 0.4692 - val_final_output_precision: 0.9839 - val_final_output_sensitivity: 0.9856 - val_final_output_specificity: 0.9946 - val_out_3_accuracy: 0.9855 - val_out_3_dice_score: 0.5275 - val_out_3_precision: 0.9871 - val_out_3_sensitivity: 0.9841 - val_out_3_specificity: 0.9957 - val_out_2_accuracy: 0.9819 - val_out_2_dice_score: 0.4208 - val_out_2_precision: 0.9851 - val_out_2_sensitivity: 0.9802 - val_out_2_specificity: 0.9951 - val_out_1_accuracy: 0.9800 - val_out_1_dice_score: 0.3624 - val_out_1_precision: 0.9816 - val_out_1_sensitivity: 0.9792 - val_out_1_specificity: 0.9939\n",
            "Epoch 26/100\n",
            "6/6 [==============================] - 13s 2s/step - loss: 6.3956 - final_output_loss: 1.5006 - out_3_loss: 1.5021 - out_2_loss: 1.6392 - out_1_loss: 1.6363 - final_output_accuracy: 0.9846 - final_output_dice_score: 0.6617 - final_output_precision: 0.9777 - final_output_sensitivity: 0.9817 - final_output_specificity: 0.9926 - out_3_accuracy: 0.9862 - out_3_dice_score: 0.6747 - out_3_precision: 0.9862 - out_3_sensitivity: 0.9851 - out_3_specificity: 0.9954 - out_2_accuracy: 0.9828 - out_2_dice_score: 0.5745 - out_2_precision: 0.9833 - out_2_sensitivity: 0.9813 - out_2_specificity: 0.9944 - out_1_accuracy: 0.9844 - out_1_dice_score: 0.5838 - out_1_precision: 0.9846 - out_1_sensitivity: 0.9831 - out_1_specificity: 0.9948 - val_loss: 7.9636 - val_final_output_loss: 1.8867 - val_out_3_loss: 1.8585 - val_out_2_loss: 2.0044 - val_out_1_loss: 2.1030 - val_final_output_accuracy: 0.9862 - val_final_output_dice_score: 0.3961 - val_final_output_precision: 0.9867 - val_final_output_sensitivity: 0.9853 - val_final_output_specificity: 0.9956 - val_out_3_accuracy: 0.9825 - val_out_3_dice_score: 0.4401 - val_out_3_precision: 0.9831 - val_out_3_sensitivity: 0.9819 - val_out_3_specificity: 0.9944 - val_out_2_accuracy: 0.9803 - val_out_2_dice_score: 0.3512 - val_out_2_precision: 0.9812 - val_out_2_sensitivity: 0.9797 - val_out_2_specificity: 0.9937 - val_out_1_accuracy: 0.9794 - val_out_1_dice_score: 0.3162 - val_out_1_precision: 0.9799 - val_out_1_sensitivity: 0.9789 - val_out_1_specificity: 0.9933\n",
            "Epoch 27/100\n",
            "6/6 [==============================] - 13s 2s/step - loss: 6.4487 - final_output_loss: 1.5029 - out_3_loss: 1.4934 - out_2_loss: 1.6584 - out_1_loss: 1.6767 - final_output_accuracy: 0.9916 - final_output_dice_score: 0.6612 - final_output_precision: 0.9914 - final_output_sensitivity: 0.9893 - final_output_specificity: 0.9971 - out_3_accuracy: 0.9915 - out_3_dice_score: 0.6791 - out_3_precision: 0.9914 - out_3_sensitivity: 0.9909 - out_3_specificity: 0.9971 - out_2_accuracy: 0.9879 - out_2_dice_score: 0.5609 - out_2_precision: 0.9883 - out_2_sensitivity: 0.9869 - out_2_specificity: 0.9961 - out_1_accuracy: 0.9875 - out_1_dice_score: 0.5515 - out_1_precision: 0.9879 - out_1_sensitivity: 0.9866 - out_1_specificity: 0.9959 - val_loss: 8.5386 - val_final_output_loss: 2.0067 - val_out_3_loss: 2.0542 - val_out_2_loss: 2.1368 - val_out_1_loss: 2.2228 - val_final_output_accuracy: 0.9854 - val_final_output_dice_score: 0.3418 - val_final_output_precision: 0.9861 - val_final_output_sensitivity: 0.9847 - val_final_output_specificity: 0.9954 - val_out_3_accuracy: 0.9809 - val_out_3_dice_score: 0.3467 - val_out_3_precision: 0.9809 - val_out_3_sensitivity: 0.9806 - val_out_3_specificity: 0.9936 - val_out_2_accuracy: 0.9795 - val_out_2_dice_score: 0.3020 - val_out_2_precision: 0.9796 - val_out_2_sensitivity: 0.9793 - val_out_2_specificity: 0.9932 - val_out_1_accuracy: 0.9788 - val_out_1_dice_score: 0.2763 - val_out_1_precision: 0.9788 - val_out_1_sensitivity: 0.9787 - val_out_1_specificity: 0.9929\n",
            "Epoch 28/100\n",
            "6/6 [==============================] - 12s 2s/step - loss: 6.4242 - final_output_loss: 1.5150 - out_3_loss: 1.4896 - out_2_loss: 1.6513 - out_1_loss: 1.6613 - final_output_accuracy: 0.9900 - final_output_dice_score: 0.6468 - final_output_precision: 0.9897 - final_output_sensitivity: 0.9870 - final_output_specificity: 0.9966 - out_3_accuracy: 0.9917 - out_3_dice_score: 0.6765 - out_3_precision: 0.9918 - out_3_sensitivity: 0.9915 - out_3_specificity: 0.9972 - out_2_accuracy: 0.9878 - out_2_dice_score: 0.5613 - out_2_precision: 0.9883 - out_2_sensitivity: 0.9874 - out_2_specificity: 0.9961 - out_1_accuracy: 0.9882 - out_1_dice_score: 0.5575 - out_1_precision: 0.9886 - out_1_sensitivity: 0.9880 - out_1_specificity: 0.9962 - val_loss: 8.1542 - val_final_output_loss: 1.9191 - val_out_3_loss: 1.9545 - val_out_2_loss: 2.0562 - val_out_1_loss: 2.1057 - val_final_output_accuracy: 0.9876 - val_final_output_dice_score: 0.3941 - val_final_output_precision: 0.9874 - val_final_output_sensitivity: 0.9870 - val_final_output_specificity: 0.9958 - val_out_3_accuracy: 0.9852 - val_out_3_dice_score: 0.4100 - val_out_3_precision: 0.9853 - val_out_3_sensitivity: 0.9849 - val_out_3_specificity: 0.9951 - val_out_2_accuracy: 0.9840 - val_out_2_dice_score: 0.3455 - val_out_2_precision: 0.9840 - val_out_2_sensitivity: 0.9838 - val_out_2_specificity: 0.9947 - val_out_1_accuracy: 0.9810 - val_out_1_dice_score: 0.3268 - val_out_1_precision: 0.9809 - val_out_1_sensitivity: 0.9808 - val_out_1_specificity: 0.9936\n",
            "Epoch 29/100\n",
            "6/6 [==============================] - 13s 2s/step - loss: 6.4491 - final_output_loss: 1.4772 - out_3_loss: 1.4906 - out_2_loss: 1.6732 - out_1_loss: 1.6908 - final_output_accuracy: 0.9913 - final_output_dice_score: 0.6851 - final_output_precision: 0.9895 - final_output_sensitivity: 0.9880 - final_output_specificity: 0.9965 - out_3_accuracy: 0.9916 - out_3_dice_score: 0.6944 - out_3_precision: 0.9913 - out_3_sensitivity: 0.9909 - out_3_specificity: 0.9971 - out_2_accuracy: 0.9863 - out_2_dice_score: 0.5621 - out_2_precision: 0.9864 - out_2_sensitivity: 0.9853 - out_2_specificity: 0.9955 - out_1_accuracy: 0.9863 - out_1_dice_score: 0.5546 - out_1_precision: 0.9864 - out_1_sensitivity: 0.9854 - out_1_specificity: 0.9955 - val_loss: 7.8014 - val_final_output_loss: 1.7963 - val_out_3_loss: 1.8671 - val_out_2_loss: 1.9852 - val_out_1_loss: 2.0393 - val_final_output_accuracy: 0.9876 - val_final_output_dice_score: 0.4606 - val_final_output_precision: 0.9878 - val_final_output_sensitivity: 0.9872 - val_final_output_specificity: 0.9959 - val_out_3_accuracy: 0.9853 - val_out_3_dice_score: 0.4548 - val_out_3_precision: 0.9857 - val_out_3_sensitivity: 0.9849 - val_out_3_specificity: 0.9952 - val_out_2_accuracy: 0.9831 - val_out_2_dice_score: 0.3720 - val_out_2_precision: 0.9835 - val_out_2_sensitivity: 0.9827 - val_out_2_specificity: 0.9945 - val_out_1_accuracy: 0.9806 - val_out_1_dice_score: 0.3451 - val_out_1_precision: 0.9811 - val_out_1_sensitivity: 0.9803 - val_out_1_specificity: 0.9937\n",
            "Epoch 30/100\n",
            "6/6 [==============================] - 13s 2s/step - loss: 6.1546 - final_output_loss: 1.4137 - out_3_loss: 1.4081 - out_2_loss: 1.6003 - out_1_loss: 1.6151 - final_output_accuracy: 0.9904 - final_output_dice_score: 0.7143 - final_output_precision: 0.9884 - final_output_sensitivity: 0.9876 - final_output_specificity: 0.9961 - out_3_accuracy: 0.9911 - out_3_dice_score: 0.7400 - out_3_precision: 0.9908 - out_3_sensitivity: 0.9903 - out_3_specificity: 0.9969 - out_2_accuracy: 0.9870 - out_2_dice_score: 0.6092 - out_2_precision: 0.9872 - out_2_sensitivity: 0.9860 - out_2_specificity: 0.9957 - out_1_accuracy: 0.9866 - out_1_dice_score: 0.5969 - out_1_precision: 0.9867 - out_1_sensitivity: 0.9856 - out_1_specificity: 0.9956 - val_loss: 7.2866 - val_final_output_loss: 1.7007 - val_out_3_loss: 1.6954 - val_out_2_loss: 1.8553 - val_out_1_loss: 1.9243 - val_final_output_accuracy: 0.9892 - val_final_output_dice_score: 0.5157 - val_final_output_precision: 0.9882 - val_final_output_sensitivity: 0.9889 - val_final_output_specificity: 0.9961 - val_out_3_accuracy: 0.9875 - val_out_3_dice_score: 0.5425 - val_out_3_precision: 0.9883 - val_out_3_sensitivity: 0.9869 - val_out_3_specificity: 0.9961 - val_out_2_accuracy: 0.9848 - val_out_2_dice_score: 0.4288 - val_out_2_precision: 0.9855 - val_out_2_sensitivity: 0.9843 - val_out_2_specificity: 0.9952 - val_out_1_accuracy: 0.9822 - val_out_1_dice_score: 0.3964 - val_out_1_precision: 0.9831 - val_out_1_sensitivity: 0.9818 - val_out_1_specificity: 0.9944\n",
            "Epoch 31/100\n",
            "6/6 [==============================] - 13s 2s/step - loss: 6.2705 - final_output_loss: 1.4467 - out_3_loss: 1.4487 - out_2_loss: 1.6190 - out_1_loss: 1.6387 - final_output_accuracy: 0.9907 - final_output_dice_score: 0.6994 - final_output_precision: 0.9882 - final_output_sensitivity: 0.9880 - final_output_specificity: 0.9961 - out_3_accuracy: 0.9909 - out_3_dice_score: 0.7064 - out_3_precision: 0.9907 - out_3_sensitivity: 0.9902 - out_3_specificity: 0.9969 - out_2_accuracy: 0.9858 - out_2_dice_score: 0.5815 - out_2_precision: 0.9859 - out_2_sensitivity: 0.9849 - out_2_specificity: 0.9953 - out_1_accuracy: 0.9862 - out_1_dice_score: 0.5729 - out_1_precision: 0.9863 - out_1_sensitivity: 0.9854 - out_1_specificity: 0.9954 - val_loss: 7.8626 - val_final_output_loss: 1.8688 - val_out_3_loss: 1.8432 - val_out_2_loss: 1.9928 - val_out_1_loss: 2.0455 - val_final_output_accuracy: 0.9885 - val_final_output_dice_score: 0.4303 - val_final_output_precision: 0.9887 - val_final_output_sensitivity: 0.9873 - val_final_output_specificity: 0.9962 - val_out_3_accuracy: 0.9861 - val_out_3_dice_score: 0.4653 - val_out_3_precision: 0.9865 - val_out_3_sensitivity: 0.9857 - val_out_3_specificity: 0.9955 - val_out_2_accuracy: 0.9837 - val_out_2_dice_score: 0.3665 - val_out_2_precision: 0.9840 - val_out_2_sensitivity: 0.9833 - val_out_2_specificity: 0.9947 - val_out_1_accuracy: 0.9801 - val_out_1_dice_score: 0.3405 - val_out_1_precision: 0.9806 - val_out_1_sensitivity: 0.9798 - val_out_1_specificity: 0.9935\n",
            "Epoch 32/100\n",
            "6/6 [==============================] - 13s 2s/step - loss: 6.0590 - final_output_loss: 1.4043 - out_3_loss: 1.3616 - out_2_loss: 1.5792 - out_1_loss: 1.5966 - final_output_accuracy: 0.9931 - final_output_dice_score: 0.7387 - final_output_precision: 0.9924 - final_output_sensitivity: 0.9912 - final_output_specificity: 0.9975 - out_3_accuracy: 0.9933 - out_3_dice_score: 0.7687 - out_3_precision: 0.9931 - out_3_sensitivity: 0.9928 - out_3_specificity: 0.9977 - out_2_accuracy: 0.9893 - out_2_dice_score: 0.6137 - out_2_precision: 0.9893 - out_2_sensitivity: 0.9884 - out_2_specificity: 0.9964 - out_1_accuracy: 0.9892 - out_1_dice_score: 0.6035 - out_1_precision: 0.9893 - out_1_sensitivity: 0.9884 - out_1_specificity: 0.9964 - val_loss: 8.0901 - val_final_output_loss: 1.8808 - val_out_3_loss: 1.8908 - val_out_2_loss: 2.0633 - val_out_1_loss: 2.1415 - val_final_output_accuracy: 0.9876 - val_final_output_dice_score: 0.4247 - val_final_output_precision: 0.9879 - val_final_output_sensitivity: 0.9870 - val_final_output_specificity: 0.9960 - val_out_3_accuracy: 0.9844 - val_out_3_dice_score: 0.4404 - val_out_3_precision: 0.9846 - val_out_3_sensitivity: 0.9840 - val_out_3_specificity: 0.9949 - val_out_2_accuracy: 0.9819 - val_out_2_dice_score: 0.3416 - val_out_2_precision: 0.9821 - val_out_2_sensitivity: 0.9816 - val_out_2_specificity: 0.9940 - val_out_1_accuracy: 0.9792 - val_out_1_dice_score: 0.3039 - val_out_1_precision: 0.9793 - val_out_1_sensitivity: 0.9790 - val_out_1_specificity: 0.9931\n",
            "Epoch 33/100\n",
            "6/6 [==============================] - 13s 2s/step - loss: 6.2863 - final_output_loss: 1.4471 - out_3_loss: 1.4438 - out_2_loss: 1.6366 - out_1_loss: 1.6415 - final_output_accuracy: 0.9909 - final_output_dice_score: 0.7103 - final_output_precision: 0.9898 - final_output_sensitivity: 0.9878 - final_output_specificity: 0.9966 - out_3_accuracy: 0.9913 - out_3_dice_score: 0.7177 - out_3_precision: 0.9911 - out_3_sensitivity: 0.9906 - out_3_specificity: 0.9970 - out_2_accuracy: 0.9869 - out_2_dice_score: 0.5876 - out_2_precision: 0.9869 - out_2_sensitivity: 0.9859 - out_2_specificity: 0.9956 - out_1_accuracy: 0.9874 - out_1_dice_score: 0.5854 - out_1_precision: 0.9874 - out_1_sensitivity: 0.9865 - out_1_specificity: 0.9958 - val_loss: 7.1245 - val_final_output_loss: 1.6703 - val_out_3_loss: 1.6232 - val_out_2_loss: 1.8178 - val_out_1_loss: 1.9048 - val_final_output_accuracy: 0.9903 - val_final_output_dice_score: 0.5237 - val_final_output_precision: 0.9893 - val_final_output_sensitivity: 0.9883 - val_final_output_specificity: 0.9964 - val_out_3_accuracy: 0.9890 - val_out_3_dice_score: 0.5782 - val_out_3_precision: 0.9898 - val_out_3_sensitivity: 0.9882 - val_out_3_specificity: 0.9966 - val_out_2_accuracy: 0.9854 - val_out_2_dice_score: 0.4431 - val_out_2_precision: 0.9869 - val_out_2_sensitivity: 0.9844 - val_out_2_specificity: 0.9957 - val_out_1_accuracy: 0.9820 - val_out_1_dice_score: 0.4099 - val_out_1_precision: 0.9831 - val_out_1_sensitivity: 0.9814 - val_out_1_specificity: 0.9944\n",
            "Epoch 34/100\n",
            "6/6 [==============================] - 13s 2s/step - loss: 6.2621 - final_output_loss: 1.4681 - out_3_loss: 1.4423 - out_2_loss: 1.6103 - out_1_loss: 1.6241 - final_output_accuracy: 0.9906 - final_output_dice_score: 0.6948 - final_output_precision: 0.9899 - final_output_sensitivity: 0.9876 - final_output_specificity: 0.9966 - out_3_accuracy: 0.9914 - out_3_dice_score: 0.7226 - out_3_precision: 0.9911 - out_3_sensitivity: 0.9907 - out_3_specificity: 0.9970 - out_2_accuracy: 0.9853 - out_2_dice_score: 0.6030 - out_2_precision: 0.9853 - out_2_sensitivity: 0.9844 - out_2_specificity: 0.9951 - out_1_accuracy: 0.9854 - out_1_dice_score: 0.5956 - out_1_precision: 0.9853 - out_1_sensitivity: 0.9846 - out_1_specificity: 0.9951 - val_loss: 7.6205 - val_final_output_loss: 1.7718 - val_out_3_loss: 1.7763 - val_out_2_loss: 1.9565 - val_out_1_loss: 2.0017 - val_final_output_accuracy: 0.9896 - val_final_output_dice_score: 0.4766 - val_final_output_precision: 0.9903 - val_final_output_sensitivity: 0.9878 - val_final_output_specificity: 0.9968 - val_out_3_accuracy: 0.9877 - val_out_3_dice_score: 0.5086 - val_out_3_precision: 0.9881 - val_out_3_sensitivity: 0.9873 - val_out_3_specificity: 0.9960 - val_out_2_accuracy: 0.9844 - val_out_2_dice_score: 0.3927 - val_out_2_precision: 0.9849 - val_out_2_sensitivity: 0.9840 - val_out_2_specificity: 0.9950 - val_out_1_accuracy: 0.9822 - val_out_1_dice_score: 0.3758 - val_out_1_precision: 0.9826 - val_out_1_sensitivity: 0.9818 - val_out_1_specificity: 0.9942\n",
            "Epoch 35/100\n",
            "6/6 [==============================] - 13s 2s/step - loss: 6.1844 - final_output_loss: 1.4080 - out_3_loss: 1.4310 - out_2_loss: 1.6084 - out_1_loss: 1.6197 - final_output_accuracy: 0.9917 - final_output_dice_score: 0.7398 - final_output_precision: 0.9912 - final_output_sensitivity: 0.9901 - final_output_specificity: 0.9971 - out_3_accuracy: 0.9918 - out_3_dice_score: 0.7390 - out_3_precision: 0.9915 - out_3_sensitivity: 0.9912 - out_3_specificity: 0.9971 - out_2_accuracy: 0.9878 - out_2_dice_score: 0.6099 - out_2_precision: 0.9877 - out_2_sensitivity: 0.9870 - out_2_specificity: 0.9959 - out_1_accuracy: 0.9876 - out_1_dice_score: 0.5978 - out_1_precision: 0.9875 - out_1_sensitivity: 0.9868 - out_1_specificity: 0.9958 - val_loss: 7.3432 - val_final_output_loss: 1.7295 - val_out_3_loss: 1.7155 - val_out_2_loss: 1.8539 - val_out_1_loss: 1.9296 - val_final_output_accuracy: 0.9891 - val_final_output_dice_score: 0.5034 - val_final_output_precision: 0.9888 - val_final_output_sensitivity: 0.9864 - val_final_output_specificity: 0.9963 - val_out_3_accuracy: 0.9887 - val_out_3_dice_score: 0.5444 - val_out_3_precision: 0.9891 - val_out_3_sensitivity: 0.9883 - val_out_3_specificity: 0.9964 - val_out_2_accuracy: 0.9848 - val_out_2_dice_score: 0.4368 - val_out_2_precision: 0.9859 - val_out_2_sensitivity: 0.9841 - val_out_2_specificity: 0.9953 - val_out_1_accuracy: 0.9822 - val_out_1_dice_score: 0.4061 - val_out_1_precision: 0.9830 - val_out_1_sensitivity: 0.9816 - val_out_1_specificity: 0.9943\n",
            "Epoch 36/100\n",
            "6/6 [==============================] - 13s 2s/step - loss: 6.1710 - final_output_loss: 1.4249 - out_3_loss: 1.4150 - out_2_loss: 1.5920 - out_1_loss: 1.6218 - final_output_accuracy: 0.9894 - final_output_dice_score: 0.7081 - final_output_precision: 0.9888 - final_output_sensitivity: 0.9849 - final_output_specificity: 0.9963 - out_3_accuracy: 0.9911 - out_3_dice_score: 0.7232 - out_3_precision: 0.9909 - out_3_sensitivity: 0.9904 - out_3_specificity: 0.9970 - out_2_accuracy: 0.9881 - out_2_dice_score: 0.5992 - out_2_precision: 0.9881 - out_2_sensitivity: 0.9871 - out_2_specificity: 0.9960 - out_1_accuracy: 0.9877 - out_1_dice_score: 0.5856 - out_1_precision: 0.9877 - out_1_sensitivity: 0.9869 - out_1_specificity: 0.9959 - val_loss: 7.3124 - val_final_output_loss: 1.6990 - val_out_3_loss: 1.6946 - val_out_2_loss: 1.8462 - val_out_1_loss: 1.9588 - val_final_output_accuracy: 0.9898 - val_final_output_dice_score: 0.5266 - val_final_output_precision: 0.9900 - val_final_output_sensitivity: 0.9888 - val_final_output_specificity: 0.9967 - val_out_3_accuracy: 0.9876 - val_out_3_dice_score: 0.5552 - val_out_3_precision: 0.9881 - val_out_3_sensitivity: 0.9871 - val_out_3_specificity: 0.9960 - val_out_2_accuracy: 0.9832 - val_out_2_dice_score: 0.4382 - val_out_2_precision: 0.9844 - val_out_2_sensitivity: 0.9823 - val_out_2_specificity: 0.9948 - val_out_1_accuracy: 0.9804 - val_out_1_dice_score: 0.3876 - val_out_1_precision: 0.9813 - val_out_1_sensitivity: 0.9800 - val_out_1_specificity: 0.9938\n",
            "Epoch 37/100\n",
            "6/6 [==============================] - 12s 2s/step - loss: 6.1668 - final_output_loss: 1.4229 - out_3_loss: 1.4330 - out_2_loss: 1.5863 - out_1_loss: 1.6071 - final_output_accuracy: 0.9920 - final_output_dice_score: 0.7293 - final_output_precision: 0.9918 - final_output_sensitivity: 0.9902 - final_output_specificity: 0.9973 - out_3_accuracy: 0.9921 - out_3_dice_score: 0.7290 - out_3_precision: 0.9916 - out_3_sensitivity: 0.9914 - out_3_specificity: 0.9972 - out_2_accuracy: 0.9892 - out_2_dice_score: 0.6126 - out_2_precision: 0.9888 - out_2_sensitivity: 0.9880 - out_2_specificity: 0.9963 - out_1_accuracy: 0.9890 - out_1_dice_score: 0.5991 - out_1_precision: 0.9885 - out_1_sensitivity: 0.9878 - out_1_specificity: 0.9962 - val_loss: 7.7027 - val_final_output_loss: 1.8212 - val_out_3_loss: 1.8144 - val_out_2_loss: 1.9443 - val_out_1_loss: 2.0035 - val_final_output_accuracy: 0.9890 - val_final_output_dice_score: 0.4665 - val_final_output_precision: 0.9900 - val_final_output_sensitivity: 0.9880 - val_final_output_specificity: 0.9967 - val_out_3_accuracy: 0.9873 - val_out_3_dice_score: 0.4992 - val_out_3_precision: 0.9876 - val_out_3_sensitivity: 0.9870 - val_out_3_specificity: 0.9959 - val_out_2_accuracy: 0.9850 - val_out_2_dice_score: 0.4017 - val_out_2_precision: 0.9855 - val_out_2_sensitivity: 0.9848 - val_out_2_specificity: 0.9952 - val_out_1_accuracy: 0.9826 - val_out_1_dice_score: 0.3788 - val_out_1_precision: 0.9829 - val_out_1_sensitivity: 0.9823 - val_out_1_specificity: 0.9943\n",
            "Epoch 38/100\n",
            "6/6 [==============================] - 13s 2s/step - loss: 6.1555 - final_output_loss: 1.3961 - out_3_loss: 1.3933 - out_2_loss: 1.6168 - out_1_loss: 1.6320 - final_output_accuracy: 0.9924 - final_output_dice_score: 0.7436 - final_output_precision: 0.9919 - final_output_sensitivity: 0.9900 - final_output_specificity: 0.9973 - out_3_accuracy: 0.9924 - out_3_dice_score: 0.7491 - out_3_precision: 0.9921 - out_3_sensitivity: 0.9917 - out_3_specificity: 0.9973 - out_2_accuracy: 0.9832 - out_2_dice_score: 0.5877 - out_2_precision: 0.9833 - out_2_sensitivity: 0.9824 - out_2_specificity: 0.9944 - out_1_accuracy: 0.9849 - out_1_dice_score: 0.5855 - out_1_precision: 0.9848 - out_1_sensitivity: 0.9841 - out_1_specificity: 0.9949 - val_loss: 7.1381 - val_final_output_loss: 1.6648 - val_out_3_loss: 1.6287 - val_out_2_loss: 1.8294 - val_out_1_loss: 1.8967 - val_final_output_accuracy: 0.9890 - val_final_output_dice_score: 0.5423 - val_final_output_precision: 0.9880 - val_final_output_sensitivity: 0.9857 - val_final_output_specificity: 0.9960 - val_out_3_accuracy: 0.9898 - val_out_3_dice_score: 0.5911 - val_out_3_precision: 0.9904 - val_out_3_sensitivity: 0.9895 - val_out_3_specificity: 0.9968 - val_out_2_accuracy: 0.9849 - val_out_2_dice_score: 0.4574 - val_out_2_precision: 0.9855 - val_out_2_sensitivity: 0.9846 - val_out_2_specificity: 0.9952 - val_out_1_accuracy: 0.9849 - val_out_1_dice_score: 0.4317 - val_out_1_precision: 0.9854 - val_out_1_sensitivity: 0.9846 - val_out_1_specificity: 0.9951\n",
            "Epoch 39/100\n",
            "6/6 [==============================] - 13s 2s/step - loss: 6.0505 - final_output_loss: 1.3922 - out_3_loss: 1.3964 - out_2_loss: 1.5655 - out_1_loss: 1.5790 - final_output_accuracy: 0.9906 - final_output_dice_score: 0.7396 - final_output_precision: 0.9900 - final_output_sensitivity: 0.9852 - final_output_specificity: 0.9966 - out_3_accuracy: 0.9910 - out_3_dice_score: 0.7443 - out_3_precision: 0.9906 - out_3_sensitivity: 0.9903 - out_3_specificity: 0.9969 - out_2_accuracy: 0.9871 - out_2_dice_score: 0.6316 - out_2_precision: 0.9870 - out_2_sensitivity: 0.9861 - out_2_specificity: 0.9956 - out_1_accuracy: 0.9865 - out_1_dice_score: 0.6241 - out_1_precision: 0.9864 - out_1_sensitivity: 0.9857 - out_1_specificity: 0.9954 - val_loss: 6.7032 - val_final_output_loss: 1.5861 - val_out_3_loss: 1.5126 - val_out_2_loss: 1.7081 - val_out_1_loss: 1.7842 - val_final_output_accuracy: 0.9896 - val_final_output_dice_score: 0.5800 - val_final_output_precision: 0.9882 - val_final_output_sensitivity: 0.9861 - val_final_output_specificity: 0.9961 - val_out_3_accuracy: 0.9901 - val_out_3_dice_score: 0.6472 - val_out_3_precision: 0.9907 - val_out_3_sensitivity: 0.9895 - val_out_3_specificity: 0.9969 - val_out_2_accuracy: 0.9846 - val_out_2_dice_score: 0.5171 - val_out_2_precision: 0.9861 - val_out_2_sensitivity: 0.9835 - val_out_2_specificity: 0.9954 - val_out_1_accuracy: 0.9831 - val_out_1_dice_score: 0.4765 - val_out_1_precision: 0.9845 - val_out_1_sensitivity: 0.9822 - val_out_1_specificity: 0.9949\n",
            "Epoch 40/100\n",
            "6/6 [==============================] - 13s 2s/step - loss: 5.9211 - final_output_loss: 1.3486 - out_3_loss: 1.3602 - out_2_loss: 1.5438 - out_1_loss: 1.5512 - final_output_accuracy: 0.9933 - final_output_dice_score: 0.7544 - final_output_precision: 0.9926 - final_output_sensitivity: 0.9896 - final_output_specificity: 0.9975 - out_3_accuracy: 0.9935 - out_3_dice_score: 0.7559 - out_3_precision: 0.9932 - out_3_sensitivity: 0.9929 - out_3_specificity: 0.9977 - out_2_accuracy: 0.9902 - out_2_dice_score: 0.6267 - out_2_precision: 0.9901 - out_2_sensitivity: 0.9894 - out_2_specificity: 0.9967 - out_1_accuracy: 0.9898 - out_1_dice_score: 0.6185 - out_1_precision: 0.9898 - out_1_sensitivity: 0.9890 - out_1_specificity: 0.9966 - val_loss: 6.6541 - val_final_output_loss: 1.5809 - val_out_3_loss: 1.5163 - val_out_2_loss: 1.6903 - val_out_1_loss: 1.7534 - val_final_output_accuracy: 0.9903 - val_final_output_dice_score: 0.5923 - val_final_output_precision: 0.9896 - val_final_output_sensitivity: 0.9865 - val_final_output_specificity: 0.9965 - val_out_3_accuracy: 0.9901 - val_out_3_dice_score: 0.6528 - val_out_3_precision: 0.9906 - val_out_3_sensitivity: 0.9895 - val_out_3_specificity: 0.9969 - val_out_2_accuracy: 0.9857 - val_out_2_dice_score: 0.5311 - val_out_2_precision: 0.9871 - val_out_2_sensitivity: 0.9847 - val_out_2_specificity: 0.9957 - val_out_1_accuracy: 0.9840 - val_out_1_dice_score: 0.4934 - val_out_1_precision: 0.9854 - val_out_1_sensitivity: 0.9830 - val_out_1_specificity: 0.9952\n",
            "Epoch 41/100\n",
            "6/6 [==============================] - 13s 2s/step - loss: 5.9995 - final_output_loss: 1.3756 - out_3_loss: 1.3807 - out_2_loss: 1.5518 - out_1_loss: 1.5742 - final_output_accuracy: 0.9915 - final_output_dice_score: 0.7550 - final_output_precision: 0.9912 - final_output_sensitivity: 0.9886 - final_output_specificity: 0.9970 - out_3_accuracy: 0.9918 - out_3_dice_score: 0.7566 - out_3_precision: 0.9915 - out_3_sensitivity: 0.9911 - out_3_specificity: 0.9971 - out_2_accuracy: 0.9871 - out_2_dice_score: 0.6318 - out_2_precision: 0.9871 - out_2_sensitivity: 0.9861 - out_2_specificity: 0.9957 - out_1_accuracy: 0.9873 - out_1_dice_score: 0.6183 - out_1_precision: 0.9873 - out_1_sensitivity: 0.9864 - out_1_specificity: 0.9958 - val_loss: 6.3887 - val_final_output_loss: 1.5263 - val_out_3_loss: 1.4494 - val_out_2_loss: 1.6111 - val_out_1_loss: 1.6866 - val_final_output_accuracy: 0.9893 - val_final_output_dice_score: 0.6232 - val_final_output_precision: 0.9890 - val_final_output_sensitivity: 0.9830 - val_final_output_specificity: 0.9964 - val_out_3_accuracy: 0.9915 - val_out_3_dice_score: 0.6905 - val_out_3_precision: 0.9921 - val_out_3_sensitivity: 0.9910 - val_out_3_specificity: 0.9974 - val_out_2_accuracy: 0.9873 - val_out_2_dice_score: 0.5732 - val_out_2_precision: 0.9888 - val_out_2_sensitivity: 0.9864 - val_out_2_specificity: 0.9963 - val_out_1_accuracy: 0.9860 - val_out_1_dice_score: 0.5341 - val_out_1_precision: 0.9874 - val_out_1_sensitivity: 0.9850 - val_out_1_specificity: 0.9958\n",
            "Epoch 42/100\n",
            "6/6 [==============================] - 13s 2s/step - loss: 6.2333 - final_output_loss: 1.4460 - out_3_loss: 1.4541 - out_2_loss: 1.5979 - out_1_loss: 1.6179 - final_output_accuracy: 0.9935 - final_output_dice_score: 0.6990 - final_output_precision: 0.9937 - final_output_sensitivity: 0.9906 - final_output_specificity: 0.9979 - out_3_accuracy: 0.9936 - out_3_dice_score: 0.6998 - out_3_precision: 0.9933 - out_3_sensitivity: 0.9932 - out_3_specificity: 0.9978 - out_2_accuracy: 0.9897 - out_2_dice_score: 0.5896 - out_2_precision: 0.9896 - out_2_sensitivity: 0.9890 - out_2_specificity: 0.9965 - out_1_accuracy: 0.9904 - out_1_dice_score: 0.5798 - out_1_precision: 0.9903 - out_1_sensitivity: 0.9897 - out_1_specificity: 0.9967 - val_loss: 7.1605 - val_final_output_loss: 1.6338 - val_out_3_loss: 1.6388 - val_out_2_loss: 1.7972 - val_out_1_loss: 1.9841 - val_final_output_accuracy: 0.9905 - val_final_output_dice_score: 0.5809 - val_final_output_precision: 0.9914 - val_final_output_sensitivity: 0.9882 - val_final_output_specificity: 0.9971 - val_out_3_accuracy: 0.9885 - val_out_3_dice_score: 0.6013 - val_out_3_precision: 0.9888 - val_out_3_sensitivity: 0.9881 - val_out_3_specificity: 0.9963 - val_out_2_accuracy: 0.9845 - val_out_2_dice_score: 0.4865 - val_out_2_precision: 0.9852 - val_out_2_sensitivity: 0.9839 - val_out_2_specificity: 0.9951 - val_out_1_accuracy: 0.9807 - val_out_1_dice_score: 0.3859 - val_out_1_precision: 0.9812 - val_out_1_sensitivity: 0.9804 - val_out_1_specificity: 0.9937\n",
            "Epoch 43/100\n",
            "6/6 [==============================] - 13s 2s/step - loss: 6.1235 - final_output_loss: 1.4206 - out_3_loss: 1.4340 - out_2_loss: 1.5651 - out_1_loss: 1.5865 - final_output_accuracy: 0.9908 - final_output_dice_score: 0.7314 - final_output_precision: 0.9909 - final_output_sensitivity: 0.9878 - final_output_specificity: 0.9970 - out_3_accuracy: 0.9913 - out_3_dice_score: 0.7300 - out_3_precision: 0.9911 - out_3_sensitivity: 0.9907 - out_3_specificity: 0.9970 - out_2_accuracy: 0.9871 - out_2_dice_score: 0.6268 - out_2_precision: 0.9872 - out_2_sensitivity: 0.9861 - out_2_specificity: 0.9957 - out_1_accuracy: 0.9869 - out_1_dice_score: 0.6152 - out_1_precision: 0.9870 - out_1_sensitivity: 0.9860 - out_1_specificity: 0.9956 - val_loss: 6.3664 - val_final_output_loss: 1.4641 - val_out_3_loss: 1.4399 - val_out_2_loss: 1.6465 - val_out_1_loss: 1.7019 - val_final_output_accuracy: 0.9908 - val_final_output_dice_score: 0.6753 - val_final_output_precision: 0.9895 - val_final_output_sensitivity: 0.9893 - val_final_output_specificity: 0.9965 - val_out_3_accuracy: 0.9914 - val_out_3_dice_score: 0.7064 - val_out_3_precision: 0.9919 - val_out_3_sensitivity: 0.9911 - val_out_3_specificity: 0.9973 - val_out_2_accuracy: 0.9865 - val_out_2_dice_score: 0.5595 - val_out_2_precision: 0.9873 - val_out_2_sensitivity: 0.9861 - val_out_2_specificity: 0.9958 - val_out_1_accuracy: 0.9863 - val_out_1_dice_score: 0.5292 - val_out_1_precision: 0.9871 - val_out_1_sensitivity: 0.9859 - val_out_1_specificity: 0.9957\n",
            "Epoch 44/100\n",
            "6/6 [==============================] - 13s 2s/step - loss: 5.8653 - final_output_loss: 1.3353 - out_3_loss: 1.3406 - out_2_loss: 1.5284 - out_1_loss: 1.5438 - final_output_accuracy: 0.9932 - final_output_dice_score: 0.7714 - final_output_precision: 0.9927 - final_output_sensitivity: 0.9903 - final_output_specificity: 0.9976 - out_3_accuracy: 0.9934 - out_3_dice_score: 0.7748 - out_3_precision: 0.9931 - out_3_sensitivity: 0.9928 - out_3_specificity: 0.9977 - out_2_accuracy: 0.9889 - out_2_dice_score: 0.6398 - out_2_precision: 0.9889 - out_2_sensitivity: 0.9880 - out_2_specificity: 0.9963 - out_1_accuracy: 0.9884 - out_1_dice_score: 0.6303 - out_1_precision: 0.9883 - out_1_sensitivity: 0.9875 - out_1_specificity: 0.9961 - val_loss: 7.4398 - val_final_output_loss: 1.7078 - val_out_3_loss: 1.7628 - val_out_2_loss: 1.8927 - val_out_1_loss: 1.9602 - val_final_output_accuracy: 0.9890 - val_final_output_dice_score: 0.5675 - val_final_output_precision: 0.9896 - val_final_output_sensitivity: 0.9884 - val_final_output_specificity: 0.9965 - val_out_3_accuracy: 0.9871 - val_out_3_dice_score: 0.5568 - val_out_3_precision: 0.9874 - val_out_3_sensitivity: 0.9869 - val_out_3_specificity: 0.9958 - val_out_2_accuracy: 0.9847 - val_out_2_dice_score: 0.4631 - val_out_2_precision: 0.9851 - val_out_2_sensitivity: 0.9844 - val_out_2_specificity: 0.9951 - val_out_1_accuracy: 0.9833 - val_out_1_dice_score: 0.4257 - val_out_1_precision: 0.9837 - val_out_1_sensitivity: 0.9830 - val_out_1_specificity: 0.9946\n",
            "Epoch 45/100\n",
            "6/6 [==============================] - 13s 2s/step - loss: 6.2108 - final_output_loss: 1.4065 - out_3_loss: 1.4277 - out_2_loss: 1.6206 - out_1_loss: 1.6388 - final_output_accuracy: 0.9925 - final_output_dice_score: 0.7425 - final_output_precision: 0.9925 - final_output_sensitivity: 0.9900 - final_output_specificity: 0.9975 - out_3_accuracy: 0.9924 - out_3_dice_score: 0.7369 - out_3_precision: 0.9923 - out_3_sensitivity: 0.9917 - out_3_specificity: 0.9974 - out_2_accuracy: 0.9873 - out_2_dice_score: 0.6038 - out_2_precision: 0.9875 - out_2_sensitivity: 0.9863 - out_2_specificity: 0.9958 - out_1_accuracy: 0.9875 - out_1_dice_score: 0.5957 - out_1_precision: 0.9876 - out_1_sensitivity: 0.9865 - out_1_specificity: 0.9958 - val_loss: 6.3550 - val_final_output_loss: 1.4596 - val_out_3_loss: 1.4515 - val_out_2_loss: 1.6426 - val_out_1_loss: 1.6857 - val_final_output_accuracy: 0.9905 - val_final_output_dice_score: 0.6836 - val_final_output_precision: 0.9892 - val_final_output_sensitivity: 0.9884 - val_final_output_specificity: 0.9964 - val_out_3_accuracy: 0.9915 - val_out_3_dice_score: 0.7048 - val_out_3_precision: 0.9919 - val_out_3_sensitivity: 0.9912 - val_out_3_specificity: 0.9973 - val_out_2_accuracy: 0.9847 - val_out_2_dice_score: 0.5639 - val_out_2_precision: 0.9855 - val_out_2_sensitivity: 0.9842 - val_out_2_specificity: 0.9952 - val_out_1_accuracy: 0.9867 - val_out_1_dice_score: 0.5498 - val_out_1_precision: 0.9876 - val_out_1_sensitivity: 0.9862 - val_out_1_specificity: 0.9959\n",
            "Epoch 46/100\n",
            "6/6 [==============================] - 12s 2s/step - loss: 6.0783 - final_output_loss: 1.4264 - out_3_loss: 1.4155 - out_2_loss: 1.5584 - out_1_loss: 1.5700 - final_output_accuracy: 0.9874 - final_output_dice_score: 0.7110 - final_output_precision: 0.9867 - final_output_sensitivity: 0.9814 - final_output_specificity: 0.9956 - out_3_accuracy: 0.9884 - out_3_dice_score: 0.7245 - out_3_precision: 0.9878 - out_3_sensitivity: 0.9874 - out_3_specificity: 0.9959 - out_2_accuracy: 0.9834 - out_2_dice_score: 0.6236 - out_2_precision: 0.9834 - out_2_sensitivity: 0.9824 - out_2_specificity: 0.9945 - out_1_accuracy: 0.9843 - out_1_dice_score: 0.6194 - out_1_precision: 0.9841 - out_1_sensitivity: 0.9832 - out_1_specificity: 0.9947 - val_loss: 6.3678 - val_final_output_loss: 1.4987 - val_out_3_loss: 1.4637 - val_out_2_loss: 1.6159 - val_out_1_loss: 1.6756 - val_final_output_accuracy: 0.9896 - val_final_output_dice_score: 0.6508 - val_final_output_precision: 0.9884 - val_final_output_sensitivity: 0.9872 - val_final_output_specificity: 0.9962 - val_out_3_accuracy: 0.9905 - val_out_3_dice_score: 0.6920 - val_out_3_precision: 0.9909 - val_out_3_sensitivity: 0.9901 - val_out_3_specificity: 0.9970 - val_out_2_accuracy: 0.9872 - val_out_2_dice_score: 0.5718 - val_out_2_precision: 0.9883 - val_out_2_sensitivity: 0.9865 - val_out_2_specificity: 0.9961 - val_out_1_accuracy: 0.9865 - val_out_1_dice_score: 0.5517 - val_out_1_precision: 0.9874 - val_out_1_sensitivity: 0.9859 - val_out_1_specificity: 0.9958\n",
            "Epoch 47/100\n",
            "6/6 [==============================] - 13s 2s/step - loss: 6.0900 - final_output_loss: 1.4020 - out_3_loss: 1.4066 - out_2_loss: 1.5679 - out_1_loss: 1.5961 - final_output_accuracy: 0.9908 - final_output_dice_score: 0.7542 - final_output_precision: 0.9901 - final_output_sensitivity: 0.9880 - final_output_specificity: 0.9967 - out_3_accuracy: 0.9910 - out_3_dice_score: 0.7593 - out_3_precision: 0.9907 - out_3_sensitivity: 0.9903 - out_3_specificity: 0.9969 - out_2_accuracy: 0.9866 - out_2_dice_score: 0.6461 - out_2_precision: 0.9866 - out_2_sensitivity: 0.9856 - out_2_specificity: 0.9955 - out_1_accuracy: 0.9857 - out_1_dice_score: 0.6272 - out_1_precision: 0.9857 - out_1_sensitivity: 0.9848 - out_1_specificity: 0.9952 - val_loss: 6.6306 - val_final_output_loss: 1.5131 - val_out_3_loss: 1.5044 - val_out_2_loss: 1.6821 - val_out_1_loss: 1.8229 - val_final_output_accuracy: 0.9911 - val_final_output_dice_score: 0.6449 - val_final_output_precision: 0.9900 - val_final_output_sensitivity: 0.9898 - val_final_output_specificity: 0.9967 - val_out_3_accuracy: 0.9906 - val_out_3_dice_score: 0.6760 - val_out_3_precision: 0.9909 - val_out_3_sensitivity: 0.9902 - val_out_3_specificity: 0.9970 - val_out_2_accuracy: 0.9870 - val_out_2_dice_score: 0.5427 - val_out_2_precision: 0.9880 - val_out_2_sensitivity: 0.9863 - val_out_2_specificity: 0.9960 - val_out_1_accuracy: 0.9838 - val_out_1_dice_score: 0.4796 - val_out_1_precision: 0.9844 - val_out_1_sensitivity: 0.9833 - val_out_1_specificity: 0.9948\n",
            "Epoch 48/100\n",
            "6/6 [==============================] - 13s 2s/step - loss: 5.8827 - final_output_loss: 1.3447 - out_3_loss: 1.3552 - out_2_loss: 1.5192 - out_1_loss: 1.5464 - final_output_accuracy: 0.9911 - final_output_dice_score: 0.7824 - final_output_precision: 0.9905 - final_output_sensitivity: 0.9888 - final_output_specificity: 0.9968 - out_3_accuracy: 0.9911 - out_3_dice_score: 0.7811 - out_3_precision: 0.9908 - out_3_sensitivity: 0.9903 - out_3_specificity: 0.9969 - out_2_accuracy: 0.9860 - out_2_dice_score: 0.6651 - out_2_precision: 0.9860 - out_2_sensitivity: 0.9847 - out_2_specificity: 0.9953 - out_1_accuracy: 0.9857 - out_1_dice_score: 0.6512 - out_1_precision: 0.9858 - out_1_sensitivity: 0.9846 - out_1_specificity: 0.9953 - val_loss: 6.2215 - val_final_output_loss: 1.4641 - val_out_3_loss: 1.4166 - val_out_2_loss: 1.5928 - val_out_1_loss: 1.6306 - val_final_output_accuracy: 0.9899 - val_final_output_dice_score: 0.6649 - val_final_output_precision: 0.9882 - val_final_output_sensitivity: 0.9880 - val_final_output_specificity: 0.9961 - val_out_3_accuracy: 0.9920 - val_out_3_dice_score: 0.7157 - val_out_3_precision: 0.9925 - val_out_3_sensitivity: 0.9916 - val_out_3_specificity: 0.9975 - val_out_2_accuracy: 0.9860 - val_out_2_dice_score: 0.5840 - val_out_2_precision: 0.9872 - val_out_2_sensitivity: 0.9852 - val_out_2_specificity: 0.9957 - val_out_1_accuracy: 0.9875 - val_out_1_dice_score: 0.5693 - val_out_1_precision: 0.9886 - val_out_1_sensitivity: 0.9868 - val_out_1_specificity: 0.9962\n",
            "Epoch 49/100\n",
            "6/6 [==============================] - 13s 2s/step - loss: 6.1376 - final_output_loss: 1.4405 - out_3_loss: 1.4219 - out_2_loss: 1.5681 - out_1_loss: 1.5899 - final_output_accuracy: 0.9918 - final_output_dice_score: 0.7047 - final_output_precision: 0.9918 - final_output_sensitivity: 0.9885 - final_output_specificity: 0.9973 - out_3_accuracy: 0.9927 - out_3_dice_score: 0.7220 - out_3_precision: 0.9925 - out_3_sensitivity: 0.9922 - out_3_specificity: 0.9975 - out_2_accuracy: 0.9884 - out_2_dice_score: 0.6165 - out_2_precision: 0.9883 - out_2_sensitivity: 0.9878 - out_2_specificity: 0.9961 - out_1_accuracy: 0.9891 - out_1_dice_score: 0.6031 - out_1_precision: 0.9890 - out_1_sensitivity: 0.9885 - out_1_specificity: 0.9963 - val_loss: 6.6465 - val_final_output_loss: 1.5416 - val_out_3_loss: 1.5446 - val_out_2_loss: 1.6963 - val_out_1_loss: 1.7494 - val_final_output_accuracy: 0.9913 - val_final_output_dice_score: 0.6399 - val_final_output_precision: 0.9909 - val_final_output_sensitivity: 0.9904 - val_final_output_specificity: 0.9970 - val_out_3_accuracy: 0.9911 - val_out_3_dice_score: 0.6576 - val_out_3_precision: 0.9915 - val_out_3_sensitivity: 0.9908 - val_out_3_specificity: 0.9972 - val_out_2_accuracy: 0.9871 - val_out_2_dice_score: 0.5457 - val_out_2_precision: 0.9880 - val_out_2_sensitivity: 0.9865 - val_out_2_specificity: 0.9960 - val_out_1_accuracy: 0.9860 - val_out_1_dice_score: 0.5137 - val_out_1_precision: 0.9870 - val_out_1_sensitivity: 0.9855 - val_out_1_specificity: 0.9957\n",
            "Epoch 50/100\n",
            "6/6 [==============================] - 13s 2s/step - loss: 5.8021 - final_output_loss: 1.3109 - out_3_loss: 1.3156 - out_2_loss: 1.5217 - out_1_loss: 1.5367 - final_output_accuracy: 0.9942 - final_output_dice_score: 0.7920 - final_output_precision: 0.9939 - final_output_sensitivity: 0.9923 - final_output_specificity: 0.9980 - out_3_accuracy: 0.9942 - out_3_dice_score: 0.7948 - out_3_precision: 0.9938 - out_3_sensitivity: 0.9936 - out_3_specificity: 0.9979 - out_2_accuracy: 0.9903 - out_2_dice_score: 0.6543 - out_2_precision: 0.9901 - out_2_sensitivity: 0.9895 - out_2_specificity: 0.9967 - out_1_accuracy: 0.9899 - out_1_dice_score: 0.6402 - out_1_precision: 0.9898 - out_1_sensitivity: 0.9892 - out_1_specificity: 0.9966 - val_loss: 6.3229 - val_final_output_loss: 1.4526 - val_out_3_loss: 1.4660 - val_out_2_loss: 1.6113 - val_out_1_loss: 1.6749 - val_final_output_accuracy: 0.9919 - val_final_output_dice_score: 0.6908 - val_final_output_precision: 0.9914 - val_final_output_sensitivity: 0.9909 - val_final_output_specificity: 0.9971 - val_out_3_accuracy: 0.9915 - val_out_3_dice_score: 0.6986 - val_out_3_precision: 0.9920 - val_out_3_sensitivity: 0.9912 - val_out_3_specificity: 0.9973 - val_out_2_accuracy: 0.9877 - val_out_2_dice_score: 0.5918 - val_out_2_precision: 0.9887 - val_out_2_sensitivity: 0.9870 - val_out_2_specificity: 0.9962 - val_out_1_accuracy: 0.9866 - val_out_1_dice_score: 0.5539 - val_out_1_precision: 0.9876 - val_out_1_sensitivity: 0.9859 - val_out_1_specificity: 0.9959\n",
            "Epoch 51/100\n",
            "6/6 [==============================] - 13s 2s/step - loss: 5.9597 - final_output_loss: 1.3773 - out_3_loss: 1.3722 - out_2_loss: 1.5323 - out_1_loss: 1.5606 - final_output_accuracy: 0.9932 - final_output_dice_score: 0.7458 - final_output_precision: 0.9931 - final_output_sensitivity: 0.9906 - final_output_specificity: 0.9977 - out_3_accuracy: 0.9937 - out_3_dice_score: 0.7531 - out_3_precision: 0.9934 - out_3_sensitivity: 0.9931 - out_3_specificity: 0.9978 - out_2_accuracy: 0.9890 - out_2_dice_score: 0.6393 - out_2_precision: 0.9889 - out_2_sensitivity: 0.9883 - out_2_specificity: 0.9963 - out_1_accuracy: 0.9893 - out_1_dice_score: 0.6246 - out_1_precision: 0.9892 - out_1_sensitivity: 0.9886 - out_1_specificity: 0.9964 - val_loss: 6.1459 - val_final_output_loss: 1.4017 - val_out_3_loss: 1.4107 - val_out_2_loss: 1.5660 - val_out_1_loss: 1.6485 - val_final_output_accuracy: 0.9926 - val_final_output_dice_score: 0.7226 - val_final_output_precision: 0.9923 - val_final_output_sensitivity: 0.9908 - val_final_output_specificity: 0.9975 - val_out_3_accuracy: 0.9921 - val_out_3_dice_score: 0.7317 - val_out_3_precision: 0.9925 - val_out_3_sensitivity: 0.9918 - val_out_3_specificity: 0.9975 - val_out_2_accuracy: 0.9883 - val_out_2_dice_score: 0.6250 - val_out_2_precision: 0.9892 - val_out_2_sensitivity: 0.9877 - val_out_2_specificity: 0.9964 - val_out_1_accuracy: 0.9871 - val_out_1_dice_score: 0.5780 - val_out_1_precision: 0.9880 - val_out_1_sensitivity: 0.9864 - val_out_1_specificity: 0.9960\n",
            "Epoch 52/100\n",
            "6/6 [==============================] - 13s 2s/step - loss: 5.8232 - final_output_loss: 1.3320 - out_3_loss: 1.3484 - out_2_loss: 1.5067 - out_1_loss: 1.5189 - final_output_accuracy: 0.9940 - final_output_dice_score: 0.7713 - final_output_precision: 0.9940 - final_output_sensitivity: 0.9916 - final_output_specificity: 0.9980 - out_3_accuracy: 0.9944 - out_3_dice_score: 0.7736 - out_3_precision: 0.9941 - out_3_sensitivity: 0.9939 - out_3_specificity: 0.9980 - out_2_accuracy: 0.9911 - out_2_dice_score: 0.6599 - out_2_precision: 0.9910 - out_2_sensitivity: 0.9904 - out_2_specificity: 0.9970 - out_1_accuracy: 0.9911 - out_1_dice_score: 0.6527 - out_1_precision: 0.9909 - out_1_sensitivity: 0.9905 - out_1_specificity: 0.9970 - val_loss: 6.8121 - val_final_output_loss: 1.5314 - val_out_3_loss: 1.5723 - val_out_2_loss: 1.7612 - val_out_1_loss: 1.8379 - val_final_output_accuracy: 0.9913 - val_final_output_dice_score: 0.6614 - val_final_output_precision: 0.9918 - val_final_output_sensitivity: 0.9900 - val_final_output_specificity: 0.9973 - val_out_3_accuracy: 0.9896 - val_out_3_dice_score: 0.6488 - val_out_3_precision: 0.9899 - val_out_3_sensitivity: 0.9893 - val_out_3_specificity: 0.9966 - val_out_2_accuracy: 0.9864 - val_out_2_dice_score: 0.5268 - val_out_2_precision: 0.9869 - val_out_2_sensitivity: 0.9860 - val_out_2_specificity: 0.9956 - val_out_1_accuracy: 0.9851 - val_out_1_dice_score: 0.4829 - val_out_1_precision: 0.9856 - val_out_1_sensitivity: 0.9848 - val_out_1_specificity: 0.9952\n",
            "Epoch 53/100\n",
            "6/6 [==============================] - 13s 2s/step - loss: 6.4162 - final_output_loss: 1.4963 - out_3_loss: 1.5208 - out_2_loss: 1.6430 - out_1_loss: 1.6390 - final_output_accuracy: 0.9935 - final_output_dice_score: 0.6888 - final_output_precision: 0.9936 - final_output_sensitivity: 0.9915 - final_output_specificity: 0.9979 - out_3_accuracy: 0.9935 - out_3_dice_score: 0.6781 - out_3_precision: 0.9932 - out_3_sensitivity: 0.9930 - out_3_specificity: 0.9977 - out_2_accuracy: 0.9905 - out_2_dice_score: 0.5949 - out_2_precision: 0.9903 - out_2_sensitivity: 0.9899 - out_2_specificity: 0.9968 - out_1_accuracy: 0.9902 - out_1_dice_score: 0.5919 - out_1_precision: 0.9900 - out_1_sensitivity: 0.9896 - out_1_specificity: 0.9967 - val_loss: 6.3406 - val_final_output_loss: 1.4398 - val_out_3_loss: 1.4654 - val_out_2_loss: 1.6606 - val_out_1_loss: 1.6637 - val_final_output_accuracy: 0.9919 - val_final_output_dice_score: 0.7117 - val_final_output_precision: 0.9917 - val_final_output_sensitivity: 0.9902 - val_final_output_specificity: 0.9972 - val_out_3_accuracy: 0.9915 - val_out_3_dice_score: 0.7076 - val_out_3_precision: 0.9918 - val_out_3_sensitivity: 0.9912 - val_out_3_specificity: 0.9973 - val_out_2_accuracy: 0.9878 - val_out_2_dice_score: 0.5795 - val_out_2_precision: 0.9885 - val_out_2_sensitivity: 0.9874 - val_out_2_specificity: 0.9962 - val_out_1_accuracy: 0.9874 - val_out_1_dice_score: 0.5697 - val_out_1_precision: 0.9881 - val_out_1_sensitivity: 0.9869 - val_out_1_specificity: 0.9960\n",
            "Epoch 54/100\n",
            "6/6 [==============================] - 13s 2s/step - loss: 6.0499 - final_output_loss: 1.3994 - out_3_loss: 1.4105 - out_2_loss: 1.5548 - out_1_loss: 1.5679 - final_output_accuracy: 0.9920 - final_output_dice_score: 0.7400 - final_output_precision: 0.9923 - final_output_sensitivity: 0.9879 - final_output_specificity: 0.9974 - out_3_accuracy: 0.9923 - out_3_dice_score: 0.7391 - out_3_precision: 0.9919 - out_3_sensitivity: 0.9916 - out_3_specificity: 0.9973 - out_2_accuracy: 0.9879 - out_2_dice_score: 0.6373 - out_2_precision: 0.9878 - out_2_sensitivity: 0.9870 - out_2_specificity: 0.9959 - out_1_accuracy: 0.9882 - out_1_dice_score: 0.6269 - out_1_precision: 0.9881 - out_1_sensitivity: 0.9873 - out_1_specificity: 0.9960 - val_loss: 5.9691 - val_final_output_loss: 1.3790 - val_out_3_loss: 1.3748 - val_out_2_loss: 1.5323 - val_out_1_loss: 1.5620 - val_final_output_accuracy: 0.9924 - val_final_output_dice_score: 0.7393 - val_final_output_precision: 0.9923 - val_final_output_sensitivity: 0.9903 - val_final_output_specificity: 0.9974 - val_out_3_accuracy: 0.9925 - val_out_3_dice_score: 0.7512 - val_out_3_precision: 0.9928 - val_out_3_sensitivity: 0.9922 - val_out_3_specificity: 0.9976 - val_out_2_accuracy: 0.9885 - val_out_2_dice_score: 0.6432 - val_out_2_precision: 0.9893 - val_out_2_sensitivity: 0.9880 - val_out_2_specificity: 0.9965 - val_out_1_accuracy: 0.9880 - val_out_1_dice_score: 0.6211 - val_out_1_precision: 0.9888 - val_out_1_sensitivity: 0.9874 - val_out_1_specificity: 0.9963\n",
            "Epoch 55/100\n",
            "6/6 [==============================] - 16s 3s/step - loss: 6.2405 - final_output_loss: 1.4359 - out_3_loss: 1.4531 - out_2_loss: 1.6102 - out_1_loss: 1.6213 - final_output_accuracy: 0.9919 - final_output_dice_score: 0.7150 - final_output_precision: 0.9923 - final_output_sensitivity: 0.9886 - final_output_specificity: 0.9974 - out_3_accuracy: 0.9920 - out_3_dice_score: 0.7104 - out_3_precision: 0.9917 - out_3_sensitivity: 0.9914 - out_3_specificity: 0.9972 - out_2_accuracy: 0.9871 - out_2_dice_score: 0.6025 - out_2_precision: 0.9872 - out_2_sensitivity: 0.9862 - out_2_specificity: 0.9957 - out_1_accuracy: 0.9871 - out_1_dice_score: 0.5973 - out_1_precision: 0.9872 - out_1_sensitivity: 0.9864 - out_1_specificity: 0.9957 - val_loss: 6.0011 - val_final_output_loss: 1.3879 - val_out_3_loss: 1.3919 - val_out_2_loss: 1.5446 - val_out_1_loss: 1.5669 - val_final_output_accuracy: 0.9927 - val_final_output_dice_score: 0.7340 - val_final_output_precision: 0.9927 - val_final_output_sensitivity: 0.9911 - val_final_output_specificity: 0.9976 - val_out_3_accuracy: 0.9922 - val_out_3_dice_score: 0.7390 - val_out_3_precision: 0.9926 - val_out_3_sensitivity: 0.9919 - val_out_3_specificity: 0.9975 - val_out_2_accuracy: 0.9889 - val_out_2_dice_score: 0.6314 - val_out_2_precision: 0.9896 - val_out_2_sensitivity: 0.9884 - val_out_2_specificity: 0.9966 - val_out_1_accuracy: 0.9883 - val_out_1_dice_score: 0.6110 - val_out_1_precision: 0.9891 - val_out_1_sensitivity: 0.9877 - val_out_1_specificity: 0.9964\n",
            "Epoch 56/100\n",
            "6/6 [==============================] - 13s 2s/step - loss: 5.7818 - final_output_loss: 1.3204 - out_3_loss: 1.3421 - out_2_loss: 1.4854 - out_1_loss: 1.5167 - final_output_accuracy: 0.9939 - final_output_dice_score: 0.7723 - final_output_precision: 0.9942 - final_output_sensitivity: 0.9892 - final_output_specificity: 0.9981 - out_3_accuracy: 0.9945 - out_3_dice_score: 0.7654 - out_3_precision: 0.9943 - out_3_sensitivity: 0.9941 - out_3_specificity: 0.9981 - out_2_accuracy: 0.9911 - out_2_dice_score: 0.6575 - out_2_precision: 0.9909 - out_2_sensitivity: 0.9904 - out_2_specificity: 0.9970 - out_1_accuracy: 0.9909 - out_1_dice_score: 0.6373 - out_1_precision: 0.9907 - out_1_sensitivity: 0.9903 - out_1_specificity: 0.9969 - val_loss: 5.9349 - val_final_output_loss: 1.3711 - val_out_3_loss: 1.3659 - val_out_2_loss: 1.5244 - val_out_1_loss: 1.5513 - val_final_output_accuracy: 0.9928 - val_final_output_dice_score: 0.7530 - val_final_output_precision: 0.9930 - val_final_output_sensitivity: 0.9910 - val_final_output_specificity: 0.9977 - val_out_3_accuracy: 0.9927 - val_out_3_dice_score: 0.7604 - val_out_3_precision: 0.9930 - val_out_3_sensitivity: 0.9924 - val_out_3_specificity: 0.9977 - val_out_2_accuracy: 0.9890 - val_out_2_dice_score: 0.6497 - val_out_2_precision: 0.9897 - val_out_2_sensitivity: 0.9885 - val_out_2_specificity: 0.9966 - val_out_1_accuracy: 0.9884 - val_out_1_dice_score: 0.6247 - val_out_1_precision: 0.9893 - val_out_1_sensitivity: 0.9879 - val_out_1_specificity: 0.9964\n",
            "Epoch 57/100\n",
            "6/6 [==============================] - 13s 2s/step - loss: 5.8720 - final_output_loss: 1.3659 - out_3_loss: 1.3572 - out_2_loss: 1.5046 - out_1_loss: 1.5271 - final_output_accuracy: 0.9922 - final_output_dice_score: 0.7728 - final_output_precision: 0.9927 - final_output_sensitivity: 0.9892 - final_output_specificity: 0.9976 - out_3_accuracy: 0.9923 - out_3_dice_score: 0.7745 - out_3_precision: 0.9919 - out_3_sensitivity: 0.9916 - out_3_specificity: 0.9973 - out_2_accuracy: 0.9885 - out_2_dice_score: 0.6709 - out_2_precision: 0.9884 - out_2_sensitivity: 0.9875 - out_2_specificity: 0.9961 - out_1_accuracy: 0.9883 - out_1_dice_score: 0.6601 - out_1_precision: 0.9882 - out_1_sensitivity: 0.9874 - out_1_specificity: 0.9960 - val_loss: 6.0111 - val_final_output_loss: 1.3886 - val_out_3_loss: 1.3789 - val_out_2_loss: 1.5589 - val_out_1_loss: 1.5647 - val_final_output_accuracy: 0.9924 - val_final_output_dice_score: 0.7466 - val_final_output_precision: 0.9928 - val_final_output_sensitivity: 0.9904 - val_final_output_specificity: 0.9976 - val_out_3_accuracy: 0.9929 - val_out_3_dice_score: 0.7557 - val_out_3_precision: 0.9932 - val_out_3_sensitivity: 0.9927 - val_out_3_specificity: 0.9977 - val_out_2_accuracy: 0.9886 - val_out_2_dice_score: 0.6358 - val_out_2_precision: 0.9893 - val_out_2_sensitivity: 0.9882 - val_out_2_specificity: 0.9964 - val_out_1_accuracy: 0.9883 - val_out_1_dice_score: 0.6220 - val_out_1_precision: 0.9891 - val_out_1_sensitivity: 0.9877 - val_out_1_specificity: 0.9964\n",
            "Epoch 58/100\n",
            "6/6 [==============================] - 13s 2s/step - loss: 6.2101 - final_output_loss: 1.4473 - out_3_loss: 1.4484 - out_2_loss: 1.5980 - out_1_loss: 1.5992 - final_output_accuracy: 0.9914 - final_output_dice_score: 0.7047 - final_output_precision: 0.9921 - final_output_sensitivity: 0.9870 - final_output_specificity: 0.9973 - out_3_accuracy: 0.9916 - out_3_dice_score: 0.7040 - out_3_precision: 0.9913 - out_3_sensitivity: 0.9909 - out_3_specificity: 0.9971 - out_2_accuracy: 0.9878 - out_2_dice_score: 0.5998 - out_2_precision: 0.9879 - out_2_sensitivity: 0.9869 - out_2_specificity: 0.9960 - out_1_accuracy: 0.9883 - out_1_dice_score: 0.6003 - out_1_precision: 0.9883 - out_1_sensitivity: 0.9874 - out_1_specificity: 0.9961 - val_loss: 5.8611 - val_final_output_loss: 1.3551 - val_out_3_loss: 1.3445 - val_out_2_loss: 1.5075 - val_out_1_loss: 1.5319 - val_final_output_accuracy: 0.9932 - val_final_output_dice_score: 0.7577 - val_final_output_precision: 0.9933 - val_final_output_sensitivity: 0.9913 - val_final_output_specificity: 0.9978 - val_out_3_accuracy: 0.9932 - val_out_3_dice_score: 0.7708 - val_out_3_precision: 0.9935 - val_out_3_sensitivity: 0.9929 - val_out_3_specificity: 0.9978 - val_out_2_accuracy: 0.9892 - val_out_2_dice_score: 0.6578 - val_out_2_precision: 0.9900 - val_out_2_sensitivity: 0.9887 - val_out_2_specificity: 0.9967 - val_out_1_accuracy: 0.9886 - val_out_1_dice_score: 0.6335 - val_out_1_precision: 0.9895 - val_out_1_sensitivity: 0.9881 - val_out_1_specificity: 0.9965\n",
            "Epoch 59/100\n",
            "6/6 [==============================] - 13s 2s/step - loss: 5.6836 - final_output_loss: 1.3154 - out_3_loss: 1.3144 - out_2_loss: 1.4563 - out_1_loss: 1.4802 - final_output_accuracy: 0.9944 - final_output_dice_score: 0.7937 - final_output_precision: 0.9945 - final_output_sensitivity: 0.9920 - final_output_specificity: 0.9982 - out_3_accuracy: 0.9944 - out_3_dice_score: 0.7978 - out_3_precision: 0.9941 - out_3_sensitivity: 0.9938 - out_3_specificity: 0.9980 - out_2_accuracy: 0.9911 - out_2_dice_score: 0.6991 - out_2_precision: 0.9909 - out_2_sensitivity: 0.9903 - out_2_specificity: 0.9970 - out_1_accuracy: 0.9907 - out_1_dice_score: 0.6837 - out_1_precision: 0.9905 - out_1_sensitivity: 0.9900 - out_1_specificity: 0.9968 - val_loss: 6.3534 - val_final_output_loss: 1.4254 - val_out_3_loss: 1.4486 - val_out_2_loss: 1.6650 - val_out_1_loss: 1.6941 - val_final_output_accuracy: 0.9923 - val_final_output_dice_score: 0.7233 - val_final_output_precision: 0.9936 - val_final_output_sensitivity: 0.9906 - val_final_output_specificity: 0.9979 - val_out_3_accuracy: 0.9918 - val_out_3_dice_score: 0.7201 - val_out_3_precision: 0.9921 - val_out_3_sensitivity: 0.9916 - val_out_3_specificity: 0.9974 - val_out_2_accuracy: 0.9877 - val_out_2_dice_score: 0.5852 - val_out_2_precision: 0.9883 - val_out_2_sensitivity: 0.9873 - val_out_2_specificity: 0.9961 - val_out_1_accuracy: 0.9868 - val_out_1_dice_score: 0.5605 - val_out_1_precision: 0.9875 - val_out_1_sensitivity: 0.9864 - val_out_1_specificity: 0.9958\n",
            "Epoch 60/100\n",
            "6/6 [==============================] - 13s 2s/step - loss: 5.7537 - final_output_loss: 1.3331 - out_3_loss: 1.3403 - out_2_loss: 1.4786 - out_1_loss: 1.4846 - final_output_accuracy: 0.9928 - final_output_dice_score: 0.7840 - final_output_precision: 0.9934 - final_output_sensitivity: 0.9906 - final_output_specificity: 0.9978 - out_3_accuracy: 0.9932 - out_3_dice_score: 0.7850 - out_3_precision: 0.9929 - out_3_sensitivity: 0.9927 - out_3_specificity: 0.9976 - out_2_accuracy: 0.9895 - out_2_dice_score: 0.6866 - out_2_precision: 0.9893 - out_2_sensitivity: 0.9887 - out_2_specificity: 0.9964 - out_1_accuracy: 0.9899 - out_1_dice_score: 0.6831 - out_1_precision: 0.9897 - out_1_sensitivity: 0.9892 - out_1_specificity: 0.9966 - val_loss: 5.8890 - val_final_output_loss: 1.3584 - val_out_3_loss: 1.3513 - val_out_2_loss: 1.5233 - val_out_1_loss: 1.5343 - val_final_output_accuracy: 0.9925 - val_final_output_dice_score: 0.7561 - val_final_output_precision: 0.9926 - val_final_output_sensitivity: 0.9908 - val_final_output_specificity: 0.9975 - val_out_3_accuracy: 0.9931 - val_out_3_dice_score: 0.7656 - val_out_3_precision: 0.9934 - val_out_3_sensitivity: 0.9929 - val_out_3_specificity: 0.9978 - val_out_2_accuracy: 0.9884 - val_out_2_dice_score: 0.6495 - val_out_2_precision: 0.9891 - val_out_2_sensitivity: 0.9881 - val_out_2_specificity: 0.9964 - val_out_1_accuracy: 0.9886 - val_out_1_dice_score: 0.6374 - val_out_1_precision: 0.9893 - val_out_1_sensitivity: 0.9882 - val_out_1_specificity: 0.9964\n",
            "Epoch 61/100\n",
            "6/6 [==============================] - 13s 2s/step - loss: 5.9516 - final_output_loss: 1.3729 - out_3_loss: 1.3803 - out_2_loss: 1.5357 - out_1_loss: 1.5455 - final_output_accuracy: 0.9927 - final_output_dice_score: 0.7668 - final_output_precision: 0.9925 - final_output_sensitivity: 0.9898 - final_output_specificity: 0.9975 - out_3_accuracy: 0.9929 - out_3_dice_score: 0.7632 - out_3_precision: 0.9925 - out_3_sensitivity: 0.9923 - out_3_specificity: 0.9975 - out_2_accuracy: 0.9884 - out_2_dice_score: 0.6575 - out_2_precision: 0.9881 - out_2_sensitivity: 0.9875 - out_2_specificity: 0.9960 - out_1_accuracy: 0.9881 - out_1_dice_score: 0.6477 - out_1_precision: 0.9879 - out_1_sensitivity: 0.9873 - out_1_specificity: 0.9960 - val_loss: 5.8298 - val_final_output_loss: 1.3491 - val_out_3_loss: 1.3505 - val_out_2_loss: 1.4937 - val_out_1_loss: 1.5185 - val_final_output_accuracy: 0.9925 - val_final_output_dice_score: 0.7644 - val_final_output_precision: 0.9927 - val_final_output_sensitivity: 0.9910 - val_final_output_specificity: 0.9976 - val_out_3_accuracy: 0.9925 - val_out_3_dice_score: 0.7684 - val_out_3_precision: 0.9928 - val_out_3_sensitivity: 0.9922 - val_out_3_specificity: 0.9976 - val_out_2_accuracy: 0.9891 - val_out_2_dice_score: 0.6669 - val_out_2_precision: 0.9897 - val_out_2_sensitivity: 0.9886 - val_out_2_specificity: 0.9966 - val_out_1_accuracy: 0.9884 - val_out_1_dice_score: 0.6497 - val_out_1_precision: 0.9890 - val_out_1_sensitivity: 0.9880 - val_out_1_specificity: 0.9963\n",
            "Epoch 62/100\n",
            "6/6 [==============================] - 13s 2s/step - loss: 5.7749 - final_output_loss: 1.3252 - out_3_loss: 1.3325 - out_2_loss: 1.4864 - out_1_loss: 1.5135 - final_output_accuracy: 0.9921 - final_output_dice_score: 0.7947 - final_output_precision: 0.9919 - final_output_sensitivity: 0.9898 - final_output_specificity: 0.9973 - out_3_accuracy: 0.9925 - out_3_dice_score: 0.7935 - out_3_precision: 0.9921 - out_3_sensitivity: 0.9919 - out_3_specificity: 0.9974 - out_2_accuracy: 0.9886 - out_2_dice_score: 0.6876 - out_2_precision: 0.9884 - out_2_sensitivity: 0.9877 - out_2_specificity: 0.9961 - out_1_accuracy: 0.9879 - out_1_dice_score: 0.6706 - out_1_precision: 0.9877 - out_1_sensitivity: 0.9870 - out_1_specificity: 0.9959 - val_loss: 6.0224 - val_final_output_loss: 1.3792 - val_out_3_loss: 1.3855 - val_out_2_loss: 1.5329 - val_out_1_loss: 1.6085 - val_final_output_accuracy: 0.9921 - val_final_output_dice_score: 0.7552 - val_final_output_precision: 0.9925 - val_final_output_sensitivity: 0.9910 - val_final_output_specificity: 0.9975 - val_out_3_accuracy: 0.9916 - val_out_3_dice_score: 0.7539 - val_out_3_precision: 0.9918 - val_out_3_sensitivity: 0.9913 - val_out_3_specificity: 0.9973 - val_out_2_accuracy: 0.9885 - val_out_2_dice_score: 0.6497 - val_out_2_precision: 0.9890 - val_out_2_sensitivity: 0.9881 - val_out_2_specificity: 0.9964 - val_out_1_accuracy: 0.9866 - val_out_1_dice_score: 0.6041 - val_out_1_precision: 0.9872 - val_out_1_sensitivity: 0.9862 - val_out_1_specificity: 0.9957\n",
            "Epoch 63/100\n",
            "6/6 [==============================] - 13s 2s/step - loss: 5.8389 - final_output_loss: 1.3644 - out_3_loss: 1.3587 - out_2_loss: 1.4902 - out_1_loss: 1.5084 - final_output_accuracy: 0.9917 - final_output_dice_score: 0.7641 - final_output_precision: 0.9916 - final_output_sensitivity: 0.9894 - final_output_specificity: 0.9972 - out_3_accuracy: 0.9926 - out_3_dice_score: 0.7683 - out_3_precision: 0.9923 - out_3_sensitivity: 0.9920 - out_3_specificity: 0.9974 - out_2_accuracy: 0.9885 - out_2_dice_score: 0.6668 - out_2_precision: 0.9884 - out_2_sensitivity: 0.9876 - out_2_specificity: 0.9961 - out_1_accuracy: 0.9888 - out_1_dice_score: 0.6566 - out_1_precision: 0.9886 - out_1_sensitivity: 0.9880 - out_1_specificity: 0.9962 - val_loss: 5.8383 - val_final_output_loss: 1.3421 - val_out_3_loss: 1.3488 - val_out_2_loss: 1.4972 - val_out_1_loss: 1.5300 - val_final_output_accuracy: 0.9929 - val_final_output_dice_score: 0.7699 - val_final_output_precision: 0.9931 - val_final_output_sensitivity: 0.9914 - val_final_output_specificity: 0.9977 - val_out_3_accuracy: 0.9929 - val_out_3_dice_score: 0.7706 - val_out_3_precision: 0.9932 - val_out_3_sensitivity: 0.9926 - val_out_3_specificity: 0.9977 - val_out_2_accuracy: 0.9893 - val_out_2_dice_score: 0.6630 - val_out_2_precision: 0.9900 - val_out_2_sensitivity: 0.9887 - val_out_2_specificity: 0.9967 - val_out_1_accuracy: 0.9885 - val_out_1_dice_score: 0.6410 - val_out_1_precision: 0.9892 - val_out_1_sensitivity: 0.9880 - val_out_1_specificity: 0.9964\n",
            "Epoch 64/100\n",
            "6/6 [==============================] - 13s 2s/step - loss: 5.8636 - final_output_loss: 1.3625 - out_3_loss: 1.3626 - out_2_loss: 1.5138 - out_1_loss: 1.5075 - final_output_accuracy: 0.9928 - final_output_dice_score: 0.7587 - final_output_precision: 0.9930 - final_output_sensitivity: 0.9893 - final_output_specificity: 0.9976 - out_3_accuracy: 0.9935 - out_3_dice_score: 0.7662 - out_3_precision: 0.9931 - out_3_sensitivity: 0.9929 - out_3_specificity: 0.9977 - out_2_accuracy: 0.9895 - out_2_dice_score: 0.6593 - out_2_precision: 0.9893 - out_2_sensitivity: 0.9887 - out_2_specificity: 0.9964 - out_1_accuracy: 0.9897 - out_1_dice_score: 0.6619 - out_1_precision: 0.9895 - out_1_sensitivity: 0.9889 - out_1_specificity: 0.9965 - val_loss: 6.3442 - val_final_output_loss: 1.4610 - val_out_3_loss: 1.4756 - val_out_2_loss: 1.6061 - val_out_1_loss: 1.6911 - val_final_output_accuracy: 0.9920 - val_final_output_dice_score: 0.7179 - val_final_output_precision: 0.9925 - val_final_output_sensitivity: 0.9910 - val_final_output_specificity: 0.9975 - val_out_3_accuracy: 0.9916 - val_out_3_dice_score: 0.7132 - val_out_3_precision: 0.9918 - val_out_3_sensitivity: 0.9914 - val_out_3_specificity: 0.9973 - val_out_2_accuracy: 0.9886 - val_out_2_dice_score: 0.6204 - val_out_2_precision: 0.9891 - val_out_2_sensitivity: 0.9883 - val_out_2_specificity: 0.9964 - val_out_1_accuracy: 0.9872 - val_out_1_dice_score: 0.5728 - val_out_1_precision: 0.9878 - val_out_1_sensitivity: 0.9869 - val_out_1_specificity: 0.9959\n",
            "Epoch 65/100\n",
            "6/6 [==============================] - 12s 2s/step - loss: 5.7741 - final_output_loss: 1.3250 - out_3_loss: 1.3355 - out_2_loss: 1.4907 - out_1_loss: 1.5098 - final_output_accuracy: 0.9934 - final_output_dice_score: 0.7806 - final_output_precision: 0.9934 - final_output_sensitivity: 0.9902 - final_output_specificity: 0.9978 - out_3_accuracy: 0.9938 - out_3_dice_score: 0.7827 - out_3_precision: 0.9933 - out_3_sensitivity: 0.9931 - out_3_specificity: 0.9978 - out_2_accuracy: 0.9901 - out_2_dice_score: 0.6709 - out_2_precision: 0.9896 - out_2_sensitivity: 0.9891 - out_2_specificity: 0.9965 - out_1_accuracy: 0.9894 - out_1_dice_score: 0.6577 - out_1_precision: 0.9890 - out_1_sensitivity: 0.9885 - out_1_specificity: 0.9963 - val_loss: 5.8393 - val_final_output_loss: 1.3298 - val_out_3_loss: 1.3409 - val_out_2_loss: 1.5201 - val_out_1_loss: 1.5326 - val_final_output_accuracy: 0.9932 - val_final_output_dice_score: 0.7787 - val_final_output_precision: 0.9933 - val_final_output_sensitivity: 0.9911 - val_final_output_specificity: 0.9978 - val_out_3_accuracy: 0.9933 - val_out_3_dice_score: 0.7779 - val_out_3_precision: 0.9935 - val_out_3_sensitivity: 0.9931 - val_out_3_specificity: 0.9978 - val_out_2_accuracy: 0.9884 - val_out_2_dice_score: 0.6527 - val_out_2_precision: 0.9889 - val_out_2_sensitivity: 0.9881 - val_out_2_specificity: 0.9963 - val_out_1_accuracy: 0.9888 - val_out_1_dice_score: 0.6459 - val_out_1_precision: 0.9893 - val_out_1_sensitivity: 0.9884 - val_out_1_specificity: 0.9965\n",
            "Epoch 66/100\n",
            "6/6 [==============================] - 13s 2s/step - loss: 5.7170 - final_output_loss: 1.3265 - out_3_loss: 1.3243 - out_2_loss: 1.4627 - out_1_loss: 1.4863 - final_output_accuracy: 0.9932 - final_output_dice_score: 0.7788 - final_output_precision: 0.9933 - final_output_sensitivity: 0.9900 - final_output_specificity: 0.9977 - out_3_accuracy: 0.9934 - out_3_dice_score: 0.7828 - out_3_precision: 0.9932 - out_3_sensitivity: 0.9928 - out_3_specificity: 0.9977 - out_2_accuracy: 0.9894 - out_2_dice_score: 0.6809 - out_2_precision: 0.9892 - out_2_sensitivity: 0.9886 - out_2_specificity: 0.9964 - out_1_accuracy: 0.9891 - out_1_dice_score: 0.6696 - out_1_precision: 0.9890 - out_1_sensitivity: 0.9884 - out_1_specificity: 0.9963 - val_loss: 5.9146 - val_final_output_loss: 1.3415 - val_out_3_loss: 1.3603 - val_out_2_loss: 1.5310 - val_out_1_loss: 1.5612 - val_final_output_accuracy: 0.9931 - val_final_output_dice_score: 0.7722 - val_final_output_precision: 0.9936 - val_final_output_sensitivity: 0.9911 - val_final_output_specificity: 0.9979 - val_out_3_accuracy: 0.9931 - val_out_3_dice_score: 0.7676 - val_out_3_precision: 0.9934 - val_out_3_sensitivity: 0.9929 - val_out_3_specificity: 0.9978 - val_out_2_accuracy: 0.9890 - val_out_2_dice_score: 0.6545 - val_out_2_precision: 0.9896 - val_out_2_sensitivity: 0.9887 - val_out_2_specificity: 0.9965 - val_out_1_accuracy: 0.9881 - val_out_1_dice_score: 0.6365 - val_out_1_precision: 0.9886 - val_out_1_sensitivity: 0.9878 - val_out_1_specificity: 0.9962\n",
            "Epoch 67/100\n",
            "6/6 [==============================] - 13s 2s/step - loss: 6.0666 - final_output_loss: 1.4062 - out_3_loss: 1.4118 - out_2_loss: 1.5618 - out_1_loss: 1.5697 - final_output_accuracy: 0.9930 - final_output_dice_score: 0.7184 - final_output_precision: 0.9936 - final_output_sensitivity: 0.9897 - final_output_specificity: 0.9978 - out_3_accuracy: 0.9927 - out_3_dice_score: 0.7192 - out_3_precision: 0.9922 - out_3_sensitivity: 0.9920 - out_3_specificity: 0.9974 - out_2_accuracy: 0.9888 - out_2_dice_score: 0.6202 - out_2_precision: 0.9885 - out_2_sensitivity: 0.9880 - out_2_specificity: 0.9962 - out_1_accuracy: 0.9885 - out_1_dice_score: 0.6194 - out_1_precision: 0.9883 - out_1_sensitivity: 0.9879 - out_1_specificity: 0.9961 - val_loss: 6.2245 - val_final_output_loss: 1.4167 - val_out_3_loss: 1.4558 - val_out_2_loss: 1.6161 - val_out_1_loss: 1.6166 - val_final_output_accuracy: 0.9886 - val_final_output_dice_score: 0.7238 - val_final_output_precision: 0.9894 - val_final_output_sensitivity: 0.9848 - val_final_output_specificity: 0.9965 - val_out_3_accuracy: 0.9896 - val_out_3_dice_score: 0.7109 - val_out_3_precision: 0.9897 - val_out_3_sensitivity: 0.9893 - val_out_3_specificity: 0.9966 - val_out_2_accuracy: 0.9837 - val_out_2_dice_score: 0.6064 - val_out_2_precision: 0.9841 - val_out_2_sensitivity: 0.9834 - val_out_2_specificity: 0.9947 - val_out_1_accuracy: 0.9850 - val_out_1_dice_score: 0.6072 - val_out_1_precision: 0.9854 - val_out_1_sensitivity: 0.9847 - val_out_1_specificity: 0.9951\n",
            "Epoch 68/100\n",
            "6/6 [==============================] - 13s 2s/step - loss: 5.9318 - final_output_loss: 1.3789 - out_3_loss: 1.3891 - out_2_loss: 1.5152 - out_1_loss: 1.5315 - final_output_accuracy: 0.9936 - final_output_dice_score: 0.7584 - final_output_precision: 0.9940 - final_output_sensitivity: 0.9912 - final_output_specificity: 0.9980 - out_3_accuracy: 0.9936 - out_3_dice_score: 0.7571 - out_3_precision: 0.9933 - out_3_sensitivity: 0.9930 - out_3_specificity: 0.9978 - out_2_accuracy: 0.9898 - out_2_dice_score: 0.6657 - out_2_precision: 0.9895 - out_2_sensitivity: 0.9891 - out_2_specificity: 0.9965 - out_1_accuracy: 0.9897 - out_1_dice_score: 0.6573 - out_1_precision: 0.9894 - out_1_sensitivity: 0.9890 - out_1_specificity: 0.9965 - val_loss: 6.0103 - val_final_output_loss: 1.3704 - val_out_3_loss: 1.3962 - val_out_2_loss: 1.5498 - val_out_1_loss: 1.5694 - val_final_output_accuracy: 0.9925 - val_final_output_dice_score: 0.7621 - val_final_output_precision: 0.9931 - val_final_output_sensitivity: 0.9911 - val_final_output_specificity: 0.9977 - val_out_3_accuracy: 0.9925 - val_out_3_dice_score: 0.7539 - val_out_3_precision: 0.9927 - val_out_3_sensitivity: 0.9923 - val_out_3_specificity: 0.9976 - val_out_2_accuracy: 0.9887 - val_out_2_dice_score: 0.6483 - val_out_2_precision: 0.9892 - val_out_2_sensitivity: 0.9885 - val_out_2_specificity: 0.9964 - val_out_1_accuracy: 0.9883 - val_out_1_dice_score: 0.6364 - val_out_1_precision: 0.9888 - val_out_1_sensitivity: 0.9880 - val_out_1_specificity: 0.9963\n",
            "Epoch 69/100\n",
            "6/6 [==============================] - 13s 2s/step - loss: 5.9722 - final_output_loss: 1.3743 - out_3_loss: 1.3899 - out_2_loss: 1.5386 - out_1_loss: 1.5523 - final_output_accuracy: 0.9896 - final_output_dice_score: 0.7651 - final_output_precision: 0.9898 - final_output_sensitivity: 0.9862 - final_output_specificity: 0.9966 - out_3_accuracy: 0.9901 - out_3_dice_score: 0.7656 - out_3_precision: 0.9898 - out_3_sensitivity: 0.9893 - out_3_specificity: 0.9966 - out_2_accuracy: 0.9848 - out_2_dice_score: 0.6652 - out_2_precision: 0.9847 - out_2_sensitivity: 0.9838 - out_2_specificity: 0.9949 - out_1_accuracy: 0.9853 - out_1_dice_score: 0.6631 - out_1_precision: 0.9852 - out_1_sensitivity: 0.9843 - out_1_specificity: 0.9950 - val_loss: 6.1309 - val_final_output_loss: 1.4395 - val_out_3_loss: 1.4259 - val_out_2_loss: 1.5546 - val_out_1_loss: 1.5906 - val_final_output_accuracy: 0.9882 - val_final_output_dice_score: 0.7007 - val_final_output_precision: 0.9879 - val_final_output_sensitivity: 0.9856 - val_final_output_specificity: 0.9960 - val_out_3_accuracy: 0.9902 - val_out_3_dice_score: 0.7138 - val_out_3_precision: 0.9907 - val_out_3_sensitivity: 0.9899 - val_out_3_specificity: 0.9969 - val_out_2_accuracy: 0.9851 - val_out_2_dice_score: 0.6231 - val_out_2_precision: 0.9862 - val_out_2_sensitivity: 0.9847 - val_out_2_specificity: 0.9954 - val_out_1_accuracy: 0.9833 - val_out_1_dice_score: 0.5989 - val_out_1_precision: 0.9843 - val_out_1_sensitivity: 0.9829 - val_out_1_specificity: 0.9948\n",
            "Epoch 70/100\n",
            "6/6 [==============================] - 13s 2s/step - loss: 6.1212 - final_output_loss: 1.4557 - out_3_loss: 1.4510 - out_2_loss: 1.5634 - out_1_loss: 1.5340 - final_output_accuracy: 0.9877 - final_output_dice_score: 0.7006 - final_output_precision: 0.9878 - final_output_sensitivity: 0.9817 - final_output_specificity: 0.9959 - out_3_accuracy: 0.9899 - out_3_dice_score: 0.7067 - out_3_precision: 0.9897 - out_3_sensitivity: 0.9890 - out_3_specificity: 0.9966 - out_2_accuracy: 0.9850 - out_2_dice_score: 0.6321 - out_2_precision: 0.9853 - out_2_sensitivity: 0.9840 - out_2_specificity: 0.9951 - out_1_accuracy: 0.9873 - out_1_dice_score: 0.6519 - out_1_precision: 0.9874 - out_1_sensitivity: 0.9864 - out_1_specificity: 0.9958 - val_loss: 5.8356 - val_final_output_loss: 1.3342 - val_out_3_loss: 1.3446 - val_out_2_loss: 1.5252 - val_out_1_loss: 1.5100 - val_final_output_accuracy: 0.9931 - val_final_output_dice_score: 0.7826 - val_final_output_precision: 0.9929 - val_final_output_sensitivity: 0.9923 - val_final_output_specificity: 0.9976 - val_out_3_accuracy: 0.9929 - val_out_3_dice_score: 0.7788 - val_out_3_precision: 0.9931 - val_out_3_sensitivity: 0.9927 - val_out_3_specificity: 0.9977 - val_out_2_accuracy: 0.9883 - val_out_2_dice_score: 0.6606 - val_out_2_precision: 0.9886 - val_out_2_sensitivity: 0.9879 - val_out_2_specificity: 0.9962 - val_out_1_accuracy: 0.9892 - val_out_1_dice_score: 0.6665 - val_out_1_precision: 0.9896 - val_out_1_sensitivity: 0.9888 - val_out_1_specificity: 0.9965\n",
            "Epoch 71/100\n",
            "6/6 [==============================] - 13s 2s/step - loss: 5.7494 - final_output_loss: 1.3366 - out_3_loss: 1.3370 - out_2_loss: 1.4687 - out_1_loss: 1.4901 - final_output_accuracy: 0.9941 - final_output_dice_score: 0.7841 - final_output_precision: 0.9934 - final_output_sensitivity: 0.9927 - final_output_specificity: 0.9978 - out_3_accuracy: 0.9941 - out_3_dice_score: 0.7874 - out_3_precision: 0.9938 - out_3_sensitivity: 0.9936 - out_3_specificity: 0.9979 - out_2_accuracy: 0.9911 - out_2_dice_score: 0.6953 - out_2_precision: 0.9909 - out_2_sensitivity: 0.9904 - out_2_specificity: 0.9970 - out_1_accuracy: 0.9909 - out_1_dice_score: 0.6869 - out_1_precision: 0.9907 - out_1_sensitivity: 0.9903 - out_1_specificity: 0.9969 - val_loss: 5.8348 - val_final_output_loss: 1.3395 - val_out_3_loss: 1.3483 - val_out_2_loss: 1.4915 - val_out_1_loss: 1.5349 - val_final_output_accuracy: 0.9933 - val_final_output_dice_score: 0.7818 - val_final_output_precision: 0.9930 - val_final_output_sensitivity: 0.9927 - val_final_output_specificity: 0.9977 - val_out_3_accuracy: 0.9932 - val_out_3_dice_score: 0.7822 - val_out_3_precision: 0.9934 - val_out_3_sensitivity: 0.9930 - val_out_3_specificity: 0.9978 - val_out_2_accuracy: 0.9898 - val_out_2_dice_score: 0.6857 - val_out_2_precision: 0.9902 - val_out_2_sensitivity: 0.9895 - val_out_2_specificity: 0.9967 - val_out_1_accuracy: 0.9892 - val_out_1_dice_score: 0.6569 - val_out_1_precision: 0.9896 - val_out_1_sensitivity: 0.9888 - val_out_1_specificity: 0.9965\n",
            "Epoch 72/100\n",
            "6/6 [==============================] - 13s 2s/step - loss: 5.7888 - final_output_loss: 1.3415 - out_3_loss: 1.3459 - out_2_loss: 1.4901 - out_1_loss: 1.4942 - final_output_accuracy: 0.9923 - final_output_dice_score: 0.7885 - final_output_precision: 0.9915 - final_output_sensitivity: 0.9908 - final_output_specificity: 0.9972 - out_3_accuracy: 0.9927 - out_3_dice_score: 0.7909 - out_3_precision: 0.9923 - out_3_sensitivity: 0.9921 - out_3_specificity: 0.9974 - out_2_accuracy: 0.9868 - out_2_dice_score: 0.6875 - out_2_precision: 0.9866 - out_2_sensitivity: 0.9859 - out_2_specificity: 0.9955 - out_1_accuracy: 0.9884 - out_1_dice_score: 0.6890 - out_1_precision: 0.9882 - out_1_sensitivity: 0.9877 - out_1_specificity: 0.9961 - val_loss: 5.7505 - val_final_output_loss: 1.3342 - val_out_3_loss: 1.3348 - val_out_2_loss: 1.4736 - val_out_1_loss: 1.4860 - val_final_output_accuracy: 0.9930 - val_final_output_dice_score: 0.7764 - val_final_output_precision: 0.9930 - val_final_output_sensitivity: 0.9917 - val_final_output_specificity: 0.9977 - val_out_3_accuracy: 0.9932 - val_out_3_dice_score: 0.7849 - val_out_3_precision: 0.9934 - val_out_3_sensitivity: 0.9930 - val_out_3_specificity: 0.9978 - val_out_2_accuracy: 0.9886 - val_out_2_dice_score: 0.6896 - val_out_2_precision: 0.9890 - val_out_2_sensitivity: 0.9883 - val_out_2_specificity: 0.9963 - val_out_1_accuracy: 0.9886 - val_out_1_dice_score: 0.6746 - val_out_1_precision: 0.9892 - val_out_1_sensitivity: 0.9883 - val_out_1_specificity: 0.9964\n",
            "Epoch 73/100\n",
            "6/6 [==============================] - 13s 2s/step - loss: 5.9518 - final_output_loss: 1.3974 - out_3_loss: 1.3982 - out_2_loss: 1.5165 - out_1_loss: 1.5227 - final_output_accuracy: 0.9942 - final_output_dice_score: 0.7358 - final_output_precision: 0.9938 - final_output_sensitivity: 0.9921 - final_output_specificity: 0.9979 - out_3_accuracy: 0.9945 - out_3_dice_score: 0.7406 - out_3_precision: 0.9941 - out_3_sensitivity: 0.9939 - out_3_specificity: 0.9980 - out_2_accuracy: 0.9895 - out_2_dice_score: 0.6562 - out_2_precision: 0.9893 - out_2_sensitivity: 0.9888 - out_2_specificity: 0.9964 - out_1_accuracy: 0.9898 - out_1_dice_score: 0.6495 - out_1_precision: 0.9896 - out_1_sensitivity: 0.9892 - out_1_specificity: 0.9965 - val_loss: 5.7604 - val_final_output_loss: 1.3270 - val_out_3_loss: 1.3352 - val_out_2_loss: 1.4923 - val_out_1_loss: 1.4849 - val_final_output_accuracy: 0.9932 - val_final_output_dice_score: 0.7827 - val_final_output_precision: 0.9935 - val_final_output_sensitivity: 0.9921 - val_final_output_specificity: 0.9978 - val_out_3_accuracy: 0.9929 - val_out_3_dice_score: 0.7872 - val_out_3_precision: 0.9931 - val_out_3_sensitivity: 0.9927 - val_out_3_specificity: 0.9977 - val_out_2_accuracy: 0.9895 - val_out_2_dice_score: 0.6875 - val_out_2_precision: 0.9899 - val_out_2_sensitivity: 0.9893 - val_out_2_specificity: 0.9966 - val_out_1_accuracy: 0.9896 - val_out_1_dice_score: 0.6812 - val_out_1_precision: 0.9900 - val_out_1_sensitivity: 0.9892 - val_out_1_specificity: 0.9967\n",
            "Epoch 74/100\n",
            "6/6 [==============================] - 12s 2s/step - loss: 5.9092 - final_output_loss: 1.3614 - out_3_loss: 1.3747 - out_2_loss: 1.5210 - out_1_loss: 1.5327 - final_output_accuracy: 0.9940 - final_output_dice_score: 0.7584 - final_output_precision: 0.9937 - final_output_sensitivity: 0.9925 - final_output_specificity: 0.9979 - out_3_accuracy: 0.9940 - out_3_dice_score: 0.7541 - out_3_precision: 0.9935 - out_3_sensitivity: 0.9934 - out_3_specificity: 0.9978 - out_2_accuracy: 0.9907 - out_2_dice_score: 0.6592 - out_2_precision: 0.9904 - out_2_sensitivity: 0.9901 - out_2_specificity: 0.9968 - out_1_accuracy: 0.9905 - out_1_dice_score: 0.6478 - out_1_precision: 0.9901 - out_1_sensitivity: 0.9898 - out_1_specificity: 0.9967 - val_loss: 5.8953 - val_final_output_loss: 1.3264 - val_out_3_loss: 1.3433 - val_out_2_loss: 1.5285 - val_out_1_loss: 1.5784 - val_final_output_accuracy: 0.9933 - val_final_output_dice_score: 0.7868 - val_final_output_precision: 0.9939 - val_final_output_sensitivity: 0.9920 - val_final_output_specificity: 0.9980 - val_out_3_accuracy: 0.9929 - val_out_3_dice_score: 0.7846 - val_out_3_precision: 0.9931 - val_out_3_sensitivity: 0.9927 - val_out_3_specificity: 0.9977 - val_out_2_accuracy: 0.9895 - val_out_2_dice_score: 0.6728 - val_out_2_precision: 0.9898 - val_out_2_sensitivity: 0.9893 - val_out_2_specificity: 0.9966 - val_out_1_accuracy: 0.9886 - val_out_1_dice_score: 0.6371 - val_out_1_precision: 0.9890 - val_out_1_sensitivity: 0.9883 - val_out_1_specificity: 0.9963\n",
            "Epoch 75/100\n",
            "6/6 [==============================] - 13s 2s/step - loss: 5.6284 - final_output_loss: 1.3013 - out_3_loss: 1.3188 - out_2_loss: 1.4412 - out_1_loss: 1.4501 - final_output_accuracy: 0.9936 - final_output_dice_score: 0.8079 - final_output_precision: 0.9936 - final_output_sensitivity: 0.9913 - final_output_specificity: 0.9978 - out_3_accuracy: 0.9934 - out_3_dice_score: 0.8007 - out_3_precision: 0.9930 - out_3_sensitivity: 0.9927 - out_3_specificity: 0.9977 - out_2_accuracy: 0.9900 - out_2_dice_score: 0.7175 - out_2_precision: 0.9897 - out_2_sensitivity: 0.9891 - out_2_specificity: 0.9966 - out_1_accuracy: 0.9901 - out_1_dice_score: 0.7093 - out_1_precision: 0.9897 - out_1_sensitivity: 0.9892 - out_1_specificity: 0.9966 - val_loss: 5.6940 - val_final_output_loss: 1.3097 - val_out_3_loss: 1.3145 - val_out_2_loss: 1.4689 - val_out_1_loss: 1.4790 - val_final_output_accuracy: 0.9935 - val_final_output_dice_score: 0.7933 - val_final_output_precision: 0.9943 - val_final_output_sensitivity: 0.9913 - val_final_output_specificity: 0.9981 - val_out_3_accuracy: 0.9936 - val_out_3_dice_score: 0.7979 - val_out_3_precision: 0.9938 - val_out_3_sensitivity: 0.9934 - val_out_3_specificity: 0.9979 - val_out_2_accuracy: 0.9899 - val_out_2_dice_score: 0.6993 - val_out_2_precision: 0.9902 - val_out_2_sensitivity: 0.9896 - val_out_2_specificity: 0.9967 - val_out_1_accuracy: 0.9896 - val_out_1_dice_score: 0.6861 - val_out_1_precision: 0.9901 - val_out_1_sensitivity: 0.9894 - val_out_1_specificity: 0.9967\n",
            "Epoch 76/100\n",
            "6/6 [==============================] - 13s 2s/step - loss: 5.9250 - final_output_loss: 1.3863 - out_3_loss: 1.3939 - out_2_loss: 1.5075 - out_1_loss: 1.5203 - final_output_accuracy: 0.9924 - final_output_dice_score: 0.7516 - final_output_precision: 0.9928 - final_output_sensitivity: 0.9876 - final_output_specificity: 0.9976 - out_3_accuracy: 0.9925 - out_3_dice_score: 0.7520 - out_3_precision: 0.9921 - out_3_sensitivity: 0.9918 - out_3_specificity: 0.9973 - out_2_accuracy: 0.9888 - out_2_dice_score: 0.6759 - out_2_precision: 0.9884 - out_2_sensitivity: 0.9879 - out_2_specificity: 0.9961 - out_1_accuracy: 0.9886 - out_1_dice_score: 0.6656 - out_1_precision: 0.9883 - out_1_sensitivity: 0.9878 - out_1_specificity: 0.9961 - val_loss: 5.7476 - val_final_output_loss: 1.3336 - val_out_3_loss: 1.3363 - val_out_2_loss: 1.4737 - val_out_1_loss: 1.4849 - val_final_output_accuracy: 0.9928 - val_final_output_dice_score: 0.7790 - val_final_output_precision: 0.9934 - val_final_output_sensitivity: 0.9911 - val_final_output_specificity: 0.9978 - val_out_3_accuracy: 0.9927 - val_out_3_dice_score: 0.7850 - val_out_3_precision: 0.9930 - val_out_3_sensitivity: 0.9925 - val_out_3_specificity: 0.9977 - val_out_2_accuracy: 0.9898 - val_out_2_dice_score: 0.6893 - val_out_2_precision: 0.9902 - val_out_2_sensitivity: 0.9895 - val_out_2_specificity: 0.9967 - val_out_1_accuracy: 0.9894 - val_out_1_dice_score: 0.6761 - val_out_1_precision: 0.9899 - val_out_1_sensitivity: 0.9890 - val_out_1_specificity: 0.9966\n",
            "Epoch 77/100\n",
            "6/6 [==============================] - 13s 2s/step - loss: 5.6476 - final_output_loss: 1.3166 - out_3_loss: 1.3279 - out_2_loss: 1.4337 - out_1_loss: 1.4523 - final_output_accuracy: 0.9944 - final_output_dice_score: 0.7862 - final_output_precision: 0.9946 - final_output_sensitivity: 0.9912 - final_output_specificity: 0.9982 - out_3_accuracy: 0.9947 - out_3_dice_score: 0.7838 - out_3_precision: 0.9944 - out_3_sensitivity: 0.9941 - out_3_specificity: 0.9981 - out_2_accuracy: 0.9921 - out_2_dice_score: 0.7050 - out_2_precision: 0.9919 - out_2_sensitivity: 0.9913 - out_2_specificity: 0.9973 - out_1_accuracy: 0.9918 - out_1_dice_score: 0.6947 - out_1_precision: 0.9916 - out_1_sensitivity: 0.9911 - out_1_specificity: 0.9972 - val_loss: 5.7496 - val_final_output_loss: 1.3233 - val_out_3_loss: 1.3345 - val_out_2_loss: 1.4774 - val_out_1_loss: 1.4923 - val_final_output_accuracy: 0.9929 - val_final_output_dice_score: 0.7897 - val_final_output_precision: 0.9935 - val_final_output_sensitivity: 0.9918 - val_final_output_specificity: 0.9978 - val_out_3_accuracy: 0.9924 - val_out_3_dice_score: 0.7878 - val_out_3_precision: 0.9926 - val_out_3_sensitivity: 0.9922 - val_out_3_specificity: 0.9975 - val_out_2_accuracy: 0.9900 - val_out_2_dice_score: 0.6891 - val_out_2_precision: 0.9904 - val_out_2_sensitivity: 0.9897 - val_out_2_specificity: 0.9968 - val_out_1_accuracy: 0.9895 - val_out_1_dice_score: 0.6777 - val_out_1_precision: 0.9899 - val_out_1_sensitivity: 0.9892 - val_out_1_specificity: 0.9967\n",
            "Epoch 78/100\n",
            "6/6 [==============================] - 13s 2s/step - loss: 5.6957 - final_output_loss: 1.3294 - out_3_loss: 1.3345 - out_2_loss: 1.4479 - out_1_loss: 1.4669 - final_output_accuracy: 0.9933 - final_output_dice_score: 0.7965 - final_output_precision: 0.9936 - final_output_sensitivity: 0.9906 - final_output_specificity: 0.9979 - out_3_accuracy: 0.9931 - out_3_dice_score: 0.7975 - out_3_precision: 0.9927 - out_3_sensitivity: 0.9924 - out_3_specificity: 0.9976 - out_2_accuracy: 0.9896 - out_2_dice_score: 0.7180 - out_2_precision: 0.9894 - out_2_sensitivity: 0.9887 - out_2_specificity: 0.9964 - out_1_accuracy: 0.9893 - out_1_dice_score: 0.7087 - out_1_precision: 0.9891 - out_1_sensitivity: 0.9885 - out_1_specificity: 0.9964 - val_loss: 5.8112 - val_final_output_loss: 1.3185 - val_out_3_loss: 1.3269 - val_out_2_loss: 1.5063 - val_out_1_loss: 1.5401 - val_final_output_accuracy: 0.9930 - val_final_output_dice_score: 0.7935 - val_final_output_precision: 0.9937 - val_final_output_sensitivity: 0.9909 - val_final_output_specificity: 0.9979 - val_out_3_accuracy: 0.9933 - val_out_3_dice_score: 0.7923 - val_out_3_precision: 0.9935 - val_out_3_sensitivity: 0.9932 - val_out_3_specificity: 0.9978 - val_out_2_accuracy: 0.9877 - val_out_2_dice_score: 0.6752 - val_out_2_precision: 0.9880 - val_out_2_sensitivity: 0.9875 - val_out_2_specificity: 0.9960 - val_out_1_accuracy: 0.9871 - val_out_1_dice_score: 0.6555 - val_out_1_precision: 0.9875 - val_out_1_sensitivity: 0.9870 - val_out_1_specificity: 0.9958\n",
            "Epoch 79/100\n",
            "6/6 [==============================] - 13s 2s/step - loss: 5.8542 - final_output_loss: 1.3449 - out_3_loss: 1.3641 - out_2_loss: 1.5074 - out_1_loss: 1.5209 - final_output_accuracy: 0.9925 - final_output_dice_score: 0.7584 - final_output_precision: 0.9928 - final_output_sensitivity: 0.9895 - final_output_specificity: 0.9976 - out_3_accuracy: 0.9927 - out_3_dice_score: 0.7502 - out_3_precision: 0.9923 - out_3_sensitivity: 0.9922 - out_3_specificity: 0.9974 - out_2_accuracy: 0.9904 - out_2_dice_score: 0.6548 - out_2_precision: 0.9901 - out_2_sensitivity: 0.9898 - out_2_specificity: 0.9967 - out_1_accuracy: 0.9898 - out_1_dice_score: 0.6440 - out_1_precision: 0.9895 - out_1_sensitivity: 0.9892 - out_1_specificity: 0.9965 - val_loss: 5.7124 - val_final_output_loss: 1.3037 - val_out_3_loss: 1.3220 - val_out_2_loss: 1.4781 - val_out_1_loss: 1.4885 - val_final_output_accuracy: 0.9936 - val_final_output_dice_score: 0.8064 - val_final_output_precision: 0.9939 - val_final_output_sensitivity: 0.9925 - val_final_output_specificity: 0.9980 - val_out_3_accuracy: 0.9931 - val_out_3_dice_score: 0.7989 - val_out_3_precision: 0.9932 - val_out_3_sensitivity: 0.9929 - val_out_3_specificity: 0.9977 - val_out_2_accuracy: 0.9898 - val_out_2_dice_score: 0.6915 - val_out_2_precision: 0.9901 - val_out_2_sensitivity: 0.9895 - val_out_2_specificity: 0.9967 - val_out_1_accuracy: 0.9895 - val_out_1_dice_score: 0.6832 - val_out_1_precision: 0.9898 - val_out_1_sensitivity: 0.9893 - val_out_1_specificity: 0.9966\n",
            "Epoch 80/100\n",
            "6/6 [==============================] - 13s 2s/step - loss: 5.8359 - final_output_loss: 1.3413 - out_3_loss: 1.3512 - out_2_loss: 1.4998 - out_1_loss: 1.5267 - final_output_accuracy: 0.9933 - final_output_dice_score: 0.7902 - final_output_precision: 0.9935 - final_output_sensitivity: 0.9904 - final_output_specificity: 0.9978 - out_3_accuracy: 0.9934 - out_3_dice_score: 0.7874 - out_3_precision: 0.9930 - out_3_sensitivity: 0.9928 - out_3_specificity: 0.9977 - out_2_accuracy: 0.9903 - out_2_dice_score: 0.6875 - out_2_precision: 0.9901 - out_2_sensitivity: 0.9895 - out_2_specificity: 0.9967 - out_1_accuracy: 0.9899 - out_1_dice_score: 0.6702 - out_1_precision: 0.9898 - out_1_sensitivity: 0.9892 - out_1_specificity: 0.9966 - val_loss: 5.7040 - val_final_output_loss: 1.3053 - val_out_3_loss: 1.3224 - val_out_2_loss: 1.4619 - val_out_1_loss: 1.4927 - val_final_output_accuracy: 0.9935 - val_final_output_dice_score: 0.7989 - val_final_output_precision: 0.9940 - val_final_output_sensitivity: 0.9920 - val_final_output_specificity: 0.9980 - val_out_3_accuracy: 0.9932 - val_out_3_dice_score: 0.7939 - val_out_3_precision: 0.9934 - val_out_3_sensitivity: 0.9930 - val_out_3_specificity: 0.9978 - val_out_2_accuracy: 0.9899 - val_out_2_dice_score: 0.6960 - val_out_2_precision: 0.9904 - val_out_2_sensitivity: 0.9897 - val_out_2_specificity: 0.9968 - val_out_1_accuracy: 0.9893 - val_out_1_dice_score: 0.6762 - val_out_1_precision: 0.9897 - val_out_1_sensitivity: 0.9890 - val_out_1_specificity: 0.9966\n",
            "Epoch 81/100\n",
            "6/6 [==============================] - 13s 2s/step - loss: 5.8267 - final_output_loss: 1.3381 - out_3_loss: 1.3498 - out_2_loss: 1.4996 - out_1_loss: 1.5222 - final_output_accuracy: 0.9943 - final_output_dice_score: 0.7638 - final_output_precision: 0.9944 - final_output_sensitivity: 0.9912 - final_output_specificity: 0.9981 - out_3_accuracy: 0.9948 - out_3_dice_score: 0.7589 - out_3_precision: 0.9944 - out_3_sensitivity: 0.9943 - out_3_specificity: 0.9981 - out_2_accuracy: 0.9916 - out_2_dice_score: 0.6519 - out_2_precision: 0.9914 - out_2_sensitivity: 0.9911 - out_2_specificity: 0.9971 - out_1_accuracy: 0.9915 - out_1_dice_score: 0.6376 - out_1_precision: 0.9914 - out_1_sensitivity: 0.9910 - out_1_specificity: 0.9971 - val_loss: 5.7149 - val_final_output_loss: 1.2948 - val_out_3_loss: 1.3059 - val_out_2_loss: 1.4759 - val_out_1_loss: 1.5132 - val_final_output_accuracy: 0.9940 - val_final_output_dice_score: 0.8057 - val_final_output_precision: 0.9950 - val_final_output_sensitivity: 0.9919 - val_final_output_specificity: 0.9984 - val_out_3_accuracy: 0.9939 - val_out_3_dice_score: 0.8051 - val_out_3_precision: 0.9941 - val_out_3_sensitivity: 0.9938 - val_out_3_specificity: 0.9980 - val_out_2_accuracy: 0.9899 - val_out_2_dice_score: 0.6971 - val_out_2_precision: 0.9902 - val_out_2_sensitivity: 0.9897 - val_out_2_specificity: 0.9967 - val_out_1_accuracy: 0.9894 - val_out_1_dice_score: 0.6807 - val_out_1_precision: 0.9897 - val_out_1_sensitivity: 0.9892 - val_out_1_specificity: 0.9966\n",
            "Epoch 82/100\n",
            "6/6 [==============================] - 13s 2s/step - loss: 5.7404 - final_output_loss: 1.3164 - out_3_loss: 1.3303 - out_2_loss: 1.4720 - out_1_loss: 1.5048 - final_output_accuracy: 0.9931 - final_output_dice_score: 0.8033 - final_output_precision: 0.9937 - final_output_sensitivity: 0.9902 - final_output_specificity: 0.9979 - out_3_accuracy: 0.9930 - out_3_dice_score: 0.8012 - out_3_precision: 0.9926 - out_3_sensitivity: 0.9923 - out_3_specificity: 0.9975 - out_2_accuracy: 0.9891 - out_2_dice_score: 0.7037 - out_2_precision: 0.9889 - out_2_sensitivity: 0.9881 - out_2_specificity: 0.9963 - out_1_accuracy: 0.9882 - out_1_dice_score: 0.6909 - out_1_precision: 0.9880 - out_1_sensitivity: 0.9874 - out_1_specificity: 0.9960 - val_loss: 5.6349 - val_final_output_loss: 1.3095 - val_out_3_loss: 1.3050 - val_out_2_loss: 1.4364 - val_out_1_loss: 1.4608 - val_final_output_accuracy: 0.9935 - val_final_output_dice_score: 0.7919 - val_final_output_precision: 0.9942 - val_final_output_sensitivity: 0.9910 - val_final_output_specificity: 0.9981 - val_out_3_accuracy: 0.9938 - val_out_3_dice_score: 0.7987 - val_out_3_precision: 0.9941 - val_out_3_sensitivity: 0.9936 - val_out_3_specificity: 0.9980 - val_out_2_accuracy: 0.9902 - val_out_2_dice_score: 0.7076 - val_out_2_precision: 0.9907 - val_out_2_sensitivity: 0.9899 - val_out_2_specificity: 0.9969 - val_out_1_accuracy: 0.9896 - val_out_1_dice_score: 0.6938 - val_out_1_precision: 0.9901 - val_out_1_sensitivity: 0.9893 - val_out_1_specificity: 0.9967\n",
            "Epoch 83/100\n",
            "6/6 [==============================] - 12s 2s/step - loss: 5.5310 - final_output_loss: 1.2904 - out_3_loss: 1.2927 - out_2_loss: 1.4113 - out_1_loss: 1.4188 - final_output_accuracy: 0.9937 - final_output_dice_score: 0.7983 - final_output_precision: 0.9941 - final_output_sensitivity: 0.9898 - final_output_specificity: 0.9980 - out_3_accuracy: 0.9939 - out_3_dice_score: 0.8002 - out_3_precision: 0.9937 - out_3_sensitivity: 0.9935 - out_3_specificity: 0.9979 - out_2_accuracy: 0.9917 - out_2_dice_score: 0.7171 - out_2_precision: 0.9916 - out_2_sensitivity: 0.9910 - out_2_specificity: 0.9972 - out_1_accuracy: 0.9911 - out_1_dice_score: 0.7122 - out_1_precision: 0.9910 - out_1_sensitivity: 0.9905 - out_1_specificity: 0.9970 - val_loss: 5.6741 - val_final_output_loss: 1.3035 - val_out_3_loss: 1.3092 - val_out_2_loss: 1.4563 - val_out_1_loss: 1.4868 - val_final_output_accuracy: 0.9936 - val_final_output_dice_score: 0.7987 - val_final_output_precision: 0.9943 - val_final_output_sensitivity: 0.9914 - val_final_output_specificity: 0.9981 - val_out_3_accuracy: 0.9936 - val_out_3_dice_score: 0.7984 - val_out_3_precision: 0.9938 - val_out_3_sensitivity: 0.9934 - val_out_3_specificity: 0.9979 - val_out_2_accuracy: 0.9901 - val_out_2_dice_score: 0.6960 - val_out_2_precision: 0.9906 - val_out_2_sensitivity: 0.9898 - val_out_2_specificity: 0.9969 - val_out_1_accuracy: 0.9893 - val_out_1_dice_score: 0.6795 - val_out_1_precision: 0.9897 - val_out_1_sensitivity: 0.9890 - val_out_1_specificity: 0.9966\n",
            "Epoch 84/100\n",
            "6/6 [==============================] - 13s 2s/step - loss: 5.5672 - final_output_loss: 1.2720 - out_3_loss: 1.2875 - out_2_loss: 1.4374 - out_1_loss: 1.4534 - final_output_accuracy: 0.9935 - final_output_dice_score: 0.8212 - final_output_precision: 0.9938 - final_output_sensitivity: 0.9899 - final_output_specificity: 0.9979 - out_3_accuracy: 0.9935 - out_3_dice_score: 0.8145 - out_3_precision: 0.9930 - out_3_sensitivity: 0.9926 - out_3_specificity: 0.9977 - out_2_accuracy: 0.9896 - out_2_dice_score: 0.7101 - out_2_precision: 0.9894 - out_2_sensitivity: 0.9885 - out_2_specificity: 0.9964 - out_1_accuracy: 0.9891 - out_1_dice_score: 0.7008 - out_1_precision: 0.9889 - out_1_sensitivity: 0.9882 - out_1_specificity: 0.9963 - val_loss: 5.5612 - val_final_output_loss: 1.2838 - val_out_3_loss: 1.2881 - val_out_2_loss: 1.4297 - val_out_1_loss: 1.4417 - val_final_output_accuracy: 0.9940 - val_final_output_dice_score: 0.8134 - val_final_output_precision: 0.9947 - val_final_output_sensitivity: 0.9919 - val_final_output_specificity: 0.9982 - val_out_3_accuracy: 0.9941 - val_out_3_dice_score: 0.8125 - val_out_3_precision: 0.9943 - val_out_3_sensitivity: 0.9940 - val_out_3_specificity: 0.9981 - val_out_2_accuracy: 0.9899 - val_out_2_dice_score: 0.7142 - val_out_2_precision: 0.9903 - val_out_2_sensitivity: 0.9897 - val_out_2_specificity: 0.9968 - val_out_1_accuracy: 0.9899 - val_out_1_dice_score: 0.7093 - val_out_1_precision: 0.9903 - val_out_1_sensitivity: 0.9897 - val_out_1_specificity: 0.9968\n",
            "Epoch 85/100\n",
            "6/6 [==============================] - 13s 2s/step - loss: 5.7433 - final_output_loss: 1.3132 - out_3_loss: 1.3241 - out_2_loss: 1.4864 - out_1_loss: 1.5027 - final_output_accuracy: 0.9944 - final_output_dice_score: 0.7906 - final_output_precision: 0.9947 - final_output_sensitivity: 0.9914 - final_output_specificity: 0.9982 - out_3_accuracy: 0.9948 - out_3_dice_score: 0.7839 - out_3_precision: 0.9945 - out_3_sensitivity: 0.9943 - out_3_specificity: 0.9981 - out_2_accuracy: 0.9898 - out_2_dice_score: 0.6653 - out_2_precision: 0.9895 - out_2_sensitivity: 0.9892 - out_2_specificity: 0.9965 - out_1_accuracy: 0.9899 - out_1_dice_score: 0.6569 - out_1_precision: 0.9898 - out_1_sensitivity: 0.9893 - out_1_specificity: 0.9966 - val_loss: 5.5949 - val_final_output_loss: 1.2905 - val_out_3_loss: 1.2982 - val_out_2_loss: 1.4299 - val_out_1_loss: 1.4565 - val_final_output_accuracy: 0.9939 - val_final_output_dice_score: 0.8101 - val_final_output_precision: 0.9948 - val_final_output_sensitivity: 0.9919 - val_final_output_specificity: 0.9983 - val_out_3_accuracy: 0.9938 - val_out_3_dice_score: 0.8073 - val_out_3_precision: 0.9940 - val_out_3_sensitivity: 0.9937 - val_out_3_specificity: 0.9980 - val_out_2_accuracy: 0.9906 - val_out_2_dice_score: 0.7188 - val_out_2_precision: 0.9910 - val_out_2_sensitivity: 0.9904 - val_out_2_specificity: 0.9970 - val_out_1_accuracy: 0.9901 - val_out_1_dice_score: 0.7076 - val_out_1_precision: 0.9903 - val_out_1_sensitivity: 0.9898 - val_out_1_specificity: 0.9968\n",
            "Epoch 86/100\n",
            "6/6 [==============================] - 13s 2s/step - loss: 5.6411 - final_output_loss: 1.3005 - out_3_loss: 1.3133 - out_2_loss: 1.4528 - out_1_loss: 1.4577 - final_output_accuracy: 0.9949 - final_output_dice_score: 0.8047 - final_output_precision: 0.9951 - final_output_sensitivity: 0.9924 - final_output_specificity: 0.9984 - out_3_accuracy: 0.9948 - out_3_dice_score: 0.7974 - out_3_precision: 0.9944 - out_3_sensitivity: 0.9942 - out_3_specificity: 0.9981 - out_2_accuracy: 0.9922 - out_2_dice_score: 0.7044 - out_2_precision: 0.9920 - out_2_sensitivity: 0.9915 - out_2_specificity: 0.9973 - out_1_accuracy: 0.9921 - out_1_dice_score: 0.7028 - out_1_precision: 0.9919 - out_1_sensitivity: 0.9915 - out_1_specificity: 0.9973 - val_loss: 5.7494 - val_final_output_loss: 1.2993 - val_out_3_loss: 1.3318 - val_out_2_loss: 1.4752 - val_out_1_loss: 1.5218 - val_final_output_accuracy: 0.9936 - val_final_output_dice_score: 0.8031 - val_final_output_precision: 0.9945 - val_final_output_sensitivity: 0.9916 - val_final_output_specificity: 0.9982 - val_out_3_accuracy: 0.9929 - val_out_3_dice_score: 0.7862 - val_out_3_precision: 0.9931 - val_out_3_sensitivity: 0.9927 - val_out_3_specificity: 0.9977 - val_out_2_accuracy: 0.9897 - val_out_2_dice_score: 0.6890 - val_out_2_precision: 0.9901 - val_out_2_sensitivity: 0.9894 - val_out_2_specificity: 0.9967 - val_out_1_accuracy: 0.9885 - val_out_1_dice_score: 0.6646 - val_out_1_precision: 0.9889 - val_out_1_sensitivity: 0.9883 - val_out_1_specificity: 0.9963\n",
            "Epoch 87/100\n",
            "6/6 [==============================] - 13s 2s/step - loss: 5.5856 - final_output_loss: 1.2851 - out_3_loss: 1.2976 - out_2_loss: 1.4317 - out_1_loss: 1.4543 - final_output_accuracy: 0.9938 - final_output_dice_score: 0.8190 - final_output_precision: 0.9941 - final_output_sensitivity: 0.9909 - final_output_specificity: 0.9980 - out_3_accuracy: 0.9940 - out_3_dice_score: 0.8142 - out_3_precision: 0.9935 - out_3_sensitivity: 0.9933 - out_3_specificity: 0.9978 - out_2_accuracy: 0.9908 - out_2_dice_score: 0.7217 - out_2_precision: 0.9905 - out_2_sensitivity: 0.9900 - out_2_specificity: 0.9968 - out_1_accuracy: 0.9904 - out_1_dice_score: 0.7118 - out_1_precision: 0.9902 - out_1_sensitivity: 0.9897 - out_1_specificity: 0.9967 - val_loss: 5.6116 - val_final_output_loss: 1.2905 - val_out_3_loss: 1.3068 - val_out_2_loss: 1.4345 - val_out_1_loss: 1.4562 - val_final_output_accuracy: 0.9923 - val_final_output_dice_score: 0.8041 - val_final_output_precision: 0.9932 - val_final_output_sensitivity: 0.9893 - val_final_output_specificity: 0.9978 - val_out_3_accuracy: 0.9931 - val_out_3_dice_score: 0.7977 - val_out_3_precision: 0.9934 - val_out_3_sensitivity: 0.9929 - val_out_3_specificity: 0.9978 - val_out_2_accuracy: 0.9886 - val_out_2_dice_score: 0.7101 - val_out_2_precision: 0.9891 - val_out_2_sensitivity: 0.9884 - val_out_2_specificity: 0.9964 - val_out_1_accuracy: 0.9887 - val_out_1_dice_score: 0.6986 - val_out_1_precision: 0.9891 - val_out_1_sensitivity: 0.9885 - val_out_1_specificity: 0.9964\n",
            "Epoch 88/100\n",
            "6/6 [==============================] - 13s 2s/step - loss: 5.6336 - final_output_loss: 1.3115 - out_3_loss: 1.3153 - out_2_loss: 1.4384 - out_1_loss: 1.4517 - final_output_accuracy: 0.9914 - final_output_dice_score: 0.7931 - final_output_precision: 0.9915 - final_output_sensitivity: 0.9883 - final_output_specificity: 0.9971 - out_3_accuracy: 0.9921 - out_3_dice_score: 0.7932 - out_3_precision: 0.9917 - out_3_sensitivity: 0.9915 - out_3_specificity: 0.9972 - out_2_accuracy: 0.9886 - out_2_dice_score: 0.7085 - out_2_precision: 0.9884 - out_2_sensitivity: 0.9878 - out_2_specificity: 0.9961 - out_1_accuracy: 0.9885 - out_1_dice_score: 0.7032 - out_1_precision: 0.9882 - out_1_sensitivity: 0.9878 - out_1_specificity: 0.9961 - val_loss: 5.5622 - val_final_output_loss: 1.2799 - val_out_3_loss: 1.2882 - val_out_2_loss: 1.4238 - val_out_1_loss: 1.4491 - val_final_output_accuracy: 0.9939 - val_final_output_dice_score: 0.8172 - val_final_output_precision: 0.9947 - val_final_output_sensitivity: 0.9922 - val_final_output_specificity: 0.9982 - val_out_3_accuracy: 0.9941 - val_out_3_dice_score: 0.8144 - val_out_3_precision: 0.9943 - val_out_3_sensitivity: 0.9940 - val_out_3_specificity: 0.9981 - val_out_2_accuracy: 0.9902 - val_out_2_dice_score: 0.7224 - val_out_2_precision: 0.9906 - val_out_2_sensitivity: 0.9900 - val_out_2_specificity: 0.9969 - val_out_1_accuracy: 0.9897 - val_out_1_dice_score: 0.7089 - val_out_1_precision: 0.9900 - val_out_1_sensitivity: 0.9895 - val_out_1_specificity: 0.9967\n",
            "Epoch 89/100\n",
            "6/6 [==============================] - 13s 2s/step - loss: 5.5091 - final_output_loss: 1.2782 - out_3_loss: 1.2820 - out_2_loss: 1.4029 - out_1_loss: 1.4292 - final_output_accuracy: 0.9948 - final_output_dice_score: 0.8194 - final_output_precision: 0.9950 - final_output_sensitivity: 0.9925 - final_output_specificity: 0.9983 - out_3_accuracy: 0.9950 - out_3_dice_score: 0.8182 - out_3_precision: 0.9946 - out_3_sensitivity: 0.9945 - out_3_specificity: 0.9982 - out_2_accuracy: 0.9924 - out_2_dice_score: 0.7328 - out_2_precision: 0.9921 - out_2_sensitivity: 0.9917 - out_2_specificity: 0.9974 - out_1_accuracy: 0.9918 - out_1_dice_score: 0.7195 - out_1_precision: 0.9915 - out_1_sensitivity: 0.9912 - out_1_specificity: 0.9972 - val_loss: 5.7130 - val_final_output_loss: 1.3087 - val_out_3_loss: 1.3185 - val_out_2_loss: 1.4636 - val_out_1_loss: 1.5034 - val_final_output_accuracy: 0.9934 - val_final_output_dice_score: 0.8050 - val_final_output_precision: 0.9942 - val_final_output_sensitivity: 0.9921 - val_final_output_specificity: 0.9981 - val_out_3_accuracy: 0.9932 - val_out_3_dice_score: 0.8001 - val_out_3_precision: 0.9933 - val_out_3_sensitivity: 0.9930 - val_out_3_specificity: 0.9978 - val_out_2_accuracy: 0.9903 - val_out_2_dice_score: 0.7041 - val_out_2_precision: 0.9907 - val_out_2_sensitivity: 0.9901 - val_out_2_specificity: 0.9969 - val_out_1_accuracy: 0.9896 - val_out_1_dice_score: 0.6841 - val_out_1_precision: 0.9900 - val_out_1_sensitivity: 0.9894 - val_out_1_specificity: 0.9967\n",
            "Epoch 90/100\n",
            "6/6 [==============================] - 13s 2s/step - loss: 5.4862 - final_output_loss: 1.2712 - out_3_loss: 1.2791 - out_2_loss: 1.4021 - out_1_loss: 1.4170 - final_output_accuracy: 0.9949 - final_output_dice_score: 0.8205 - final_output_precision: 0.9952 - final_output_sensitivity: 0.9922 - final_output_specificity: 0.9984 - out_3_accuracy: 0.9949 - out_3_dice_score: 0.8173 - out_3_precision: 0.9945 - out_3_sensitivity: 0.9943 - out_3_specificity: 0.9982 - out_2_accuracy: 0.9920 - out_2_dice_score: 0.7305 - out_2_precision: 0.9917 - out_2_sensitivity: 0.9913 - out_2_specificity: 0.9972 - out_1_accuracy: 0.9917 - out_1_dice_score: 0.7223 - out_1_precision: 0.9915 - out_1_sensitivity: 0.9911 - out_1_specificity: 0.9972 - val_loss: 5.6795 - val_final_output_loss: 1.3217 - val_out_3_loss: 1.3195 - val_out_2_loss: 1.4502 - val_out_1_loss: 1.4660 - val_final_output_accuracy: 0.9926 - val_final_output_dice_score: 0.7837 - val_final_output_precision: 0.9940 - val_final_output_sensitivity: 0.9886 - val_final_output_specificity: 0.9980 - val_out_3_accuracy: 0.9931 - val_out_3_dice_score: 0.7885 - val_out_3_precision: 0.9934 - val_out_3_sensitivity: 0.9929 - val_out_3_specificity: 0.9978 - val_out_2_accuracy: 0.9892 - val_out_2_dice_score: 0.7009 - val_out_2_precision: 0.9897 - val_out_2_sensitivity: 0.9889 - val_out_2_specificity: 0.9966 - val_out_1_accuracy: 0.9890 - val_out_1_dice_score: 0.6921 - val_out_1_precision: 0.9893 - val_out_1_sensitivity: 0.9887 - val_out_1_specificity: 0.9964\n",
            "Epoch 91/100\n",
            "6/6 [==============================] - 13s 2s/step - loss: 5.6051 - final_output_loss: 1.2983 - out_3_loss: 1.3047 - out_2_loss: 1.4316 - out_1_loss: 1.4537 - final_output_accuracy: 0.9925 - final_output_dice_score: 0.8025 - final_output_precision: 0.9935 - final_output_sensitivity: 0.9883 - final_output_specificity: 0.9978 - out_3_accuracy: 0.9929 - out_3_dice_score: 0.8010 - out_3_precision: 0.9925 - out_3_sensitivity: 0.9923 - out_3_specificity: 0.9975 - out_2_accuracy: 0.9898 - out_2_dice_score: 0.7122 - out_2_precision: 0.9895 - out_2_sensitivity: 0.9890 - out_2_specificity: 0.9965 - out_1_accuracy: 0.9894 - out_1_dice_score: 0.6991 - out_1_precision: 0.9892 - out_1_sensitivity: 0.9886 - out_1_specificity: 0.9964 - val_loss: 5.5674 - val_final_output_loss: 1.2906 - val_out_3_loss: 1.2893 - val_out_2_loss: 1.4225 - val_out_1_loss: 1.4426 - val_final_output_accuracy: 0.9934 - val_final_output_dice_score: 0.8070 - val_final_output_precision: 0.9944 - val_final_output_sensitivity: 0.9908 - val_final_output_specificity: 0.9981 - val_out_3_accuracy: 0.9940 - val_out_3_dice_score: 0.8124 - val_out_3_precision: 0.9942 - val_out_3_sensitivity: 0.9938 - val_out_3_specificity: 0.9981 - val_out_2_accuracy: 0.9902 - val_out_2_dice_score: 0.7195 - val_out_2_precision: 0.9905 - val_out_2_sensitivity: 0.9899 - val_out_2_specificity: 0.9969 - val_out_1_accuracy: 0.9898 - val_out_1_dice_score: 0.7098 - val_out_1_precision: 0.9902 - val_out_1_sensitivity: 0.9896 - val_out_1_specificity: 0.9967\n",
            "Epoch 92/100\n",
            "6/6 [==============================] - 12s 2s/step - loss: 5.5518 - final_output_loss: 1.2798 - out_3_loss: 1.2911 - out_2_loss: 1.4275 - out_1_loss: 1.4407 - final_output_accuracy: 0.9932 - final_output_dice_score: 0.8220 - final_output_precision: 0.9934 - final_output_sensitivity: 0.9899 - final_output_specificity: 0.9978 - out_3_accuracy: 0.9935 - out_3_dice_score: 0.8208 - out_3_precision: 0.9929 - out_3_sensitivity: 0.9927 - out_3_specificity: 0.9976 - out_2_accuracy: 0.9897 - out_2_dice_score: 0.7268 - out_2_precision: 0.9894 - out_2_sensitivity: 0.9887 - out_2_specificity: 0.9964 - out_1_accuracy: 0.9895 - out_1_dice_score: 0.7202 - out_1_precision: 0.9891 - out_1_sensitivity: 0.9886 - out_1_specificity: 0.9964 - val_loss: 5.6224 - val_final_output_loss: 1.2907 - val_out_3_loss: 1.2972 - val_out_2_loss: 1.4453 - val_out_1_loss: 1.4664 - val_final_output_accuracy: 0.9938 - val_final_output_dice_score: 0.8116 - val_final_output_precision: 0.9942 - val_final_output_sensitivity: 0.9926 - val_final_output_specificity: 0.9981 - val_out_3_accuracy: 0.9939 - val_out_3_dice_score: 0.8107 - val_out_3_precision: 0.9940 - val_out_3_sensitivity: 0.9937 - val_out_3_specificity: 0.9980 - val_out_2_accuracy: 0.9900 - val_out_2_dice_score: 0.7070 - val_out_2_precision: 0.9904 - val_out_2_sensitivity: 0.9898 - val_out_2_specificity: 0.9968 - val_out_1_accuracy: 0.9899 - val_out_1_dice_score: 0.6976 - val_out_1_precision: 0.9902 - val_out_1_sensitivity: 0.9897 - val_out_1_specificity: 0.9968\n",
            "Epoch 93/100\n",
            "6/6 [==============================] - 13s 2s/step - loss: 5.6710 - final_output_loss: 1.3155 - out_3_loss: 1.3234 - out_2_loss: 1.4476 - out_1_loss: 1.4677 - final_output_accuracy: 0.9929 - final_output_dice_score: 0.7874 - final_output_precision: 0.9933 - final_output_sensitivity: 0.9902 - final_output_specificity: 0.9977 - out_3_accuracy: 0.9932 - out_3_dice_score: 0.7875 - out_3_precision: 0.9928 - out_3_sensitivity: 0.9927 - out_3_specificity: 0.9976 - out_2_accuracy: 0.9892 - out_2_dice_score: 0.7004 - out_2_precision: 0.9887 - out_2_sensitivity: 0.9885 - out_2_specificity: 0.9962 - out_1_accuracy: 0.9886 - out_1_dice_score: 0.6898 - out_1_precision: 0.9882 - out_1_sensitivity: 0.9880 - out_1_specificity: 0.9961 - val_loss: 5.5779 - val_final_output_loss: 1.2880 - val_out_3_loss: 1.2911 - val_out_2_loss: 1.4293 - val_out_1_loss: 1.4476 - val_final_output_accuracy: 0.9934 - val_final_output_dice_score: 0.8088 - val_final_output_precision: 0.9941 - val_final_output_sensitivity: 0.9915 - val_final_output_specificity: 0.9980 - val_out_3_accuracy: 0.9939 - val_out_3_dice_score: 0.8105 - val_out_3_precision: 0.9941 - val_out_3_sensitivity: 0.9937 - val_out_3_specificity: 0.9980 - val_out_2_accuracy: 0.9896 - val_out_2_dice_score: 0.7143 - val_out_2_precision: 0.9900 - val_out_2_sensitivity: 0.9894 - val_out_2_specificity: 0.9967 - val_out_1_accuracy: 0.9894 - val_out_1_dice_score: 0.7049 - val_out_1_precision: 0.9897 - val_out_1_sensitivity: 0.9892 - val_out_1_specificity: 0.9966\n",
            "Epoch 94/100\n",
            "6/6 [==============================] - 13s 2s/step - loss: 5.5901 - final_output_loss: 1.2860 - out_3_loss: 1.2975 - out_2_loss: 1.4380 - out_1_loss: 1.4519 - final_output_accuracy: 0.9945 - final_output_dice_score: 0.8179 - final_output_precision: 0.9946 - final_output_sensitivity: 0.9923 - final_output_specificity: 0.9982 - out_3_accuracy: 0.9947 - out_3_dice_score: 0.8147 - out_3_precision: 0.9943 - out_3_sensitivity: 0.9942 - out_3_specificity: 0.9981 - out_2_accuracy: 0.9913 - out_2_dice_score: 0.7181 - out_2_precision: 0.9910 - out_2_sensitivity: 0.9906 - out_2_specificity: 0.9970 - out_1_accuracy: 0.9908 - out_1_dice_score: 0.7087 - out_1_precision: 0.9905 - out_1_sensitivity: 0.9901 - out_1_specificity: 0.9968 - val_loss: 5.5991 - val_final_output_loss: 1.2867 - val_out_3_loss: 1.2976 - val_out_2_loss: 1.4378 - val_out_1_loss: 1.4570 - val_final_output_accuracy: 0.9936 - val_final_output_dice_score: 0.8128 - val_final_output_precision: 0.9941 - val_final_output_sensitivity: 0.9917 - val_final_output_specificity: 0.9980 - val_out_3_accuracy: 0.9936 - val_out_3_dice_score: 0.8085 - val_out_3_precision: 0.9937 - val_out_3_sensitivity: 0.9934 - val_out_3_specificity: 0.9979 - val_out_2_accuracy: 0.9902 - val_out_2_dice_score: 0.7137 - val_out_2_precision: 0.9905 - val_out_2_sensitivity: 0.9899 - val_out_2_specificity: 0.9968 - val_out_1_accuracy: 0.9898 - val_out_1_dice_score: 0.7037 - val_out_1_precision: 0.9901 - val_out_1_sensitivity: 0.9896 - val_out_1_specificity: 0.9967\n",
            "Epoch 95/100\n",
            "6/6 [==============================] - 13s 2s/step - loss: 5.5255 - final_output_loss: 1.2840 - out_3_loss: 1.2906 - out_2_loss: 1.4058 - out_1_loss: 1.4284 - final_output_accuracy: 0.9938 - final_output_dice_score: 0.8194 - final_output_precision: 0.9939 - final_output_sensitivity: 0.9915 - final_output_specificity: 0.9979 - out_3_accuracy: 0.9937 - out_3_dice_score: 0.8148 - out_3_precision: 0.9933 - out_3_sensitivity: 0.9931 - out_3_specificity: 0.9978 - out_2_accuracy: 0.9910 - out_2_dice_score: 0.7330 - out_2_precision: 0.9906 - out_2_sensitivity: 0.9902 - out_2_specificity: 0.9969 - out_1_accuracy: 0.9908 - out_1_dice_score: 0.7218 - out_1_precision: 0.9904 - out_1_sensitivity: 0.9900 - out_1_specificity: 0.9968 - val_loss: 5.5609 - val_final_output_loss: 1.2785 - val_out_3_loss: 1.2878 - val_out_2_loss: 1.4271 - val_out_1_loss: 1.4455 - val_final_output_accuracy: 0.9933 - val_final_output_dice_score: 0.8161 - val_final_output_precision: 0.9939 - val_final_output_sensitivity: 0.9911 - val_final_output_specificity: 0.9980 - val_out_3_accuracy: 0.9936 - val_out_3_dice_score: 0.8118 - val_out_3_precision: 0.9937 - val_out_3_sensitivity: 0.9935 - val_out_3_specificity: 0.9979 - val_out_2_accuracy: 0.9899 - val_out_2_dice_score: 0.7204 - val_out_2_precision: 0.9902 - val_out_2_sensitivity: 0.9897 - val_out_2_specificity: 0.9967 - val_out_1_accuracy: 0.9900 - val_out_1_dice_score: 0.7127 - val_out_1_precision: 0.9903 - val_out_1_sensitivity: 0.9898 - val_out_1_specificity: 0.9968\n",
            "Epoch 96/100\n",
            "6/6 [==============================] - 13s 2s/step - loss: 5.6311 - final_output_loss: 1.3029 - out_3_loss: 1.3093 - out_2_loss: 1.4504 - out_1_loss: 1.4518 - final_output_accuracy: 0.9943 - final_output_dice_score: 0.8051 - final_output_precision: 0.9944 - final_output_sensitivity: 0.9920 - final_output_specificity: 0.9981 - out_3_accuracy: 0.9945 - out_3_dice_score: 0.8027 - out_3_precision: 0.9940 - out_3_sensitivity: 0.9938 - out_3_specificity: 0.9980 - out_2_accuracy: 0.9911 - out_2_dice_score: 0.7089 - out_2_precision: 0.9907 - out_2_sensitivity: 0.9904 - out_2_specificity: 0.9969 - out_1_accuracy: 0.9913 - out_1_dice_score: 0.7106 - out_1_precision: 0.9909 - out_1_sensitivity: 0.9906 - out_1_specificity: 0.9970 - val_loss: 5.5541 - val_final_output_loss: 1.2855 - val_out_3_loss: 1.2954 - val_out_2_loss: 1.4151 - val_out_1_loss: 1.4365 - val_final_output_accuracy: 0.9939 - val_final_output_dice_score: 0.8138 - val_final_output_precision: 0.9943 - val_final_output_sensitivity: 0.9922 - val_final_output_specificity: 0.9981 - val_out_3_accuracy: 0.9939 - val_out_3_dice_score: 0.8093 - val_out_3_precision: 0.9941 - val_out_3_sensitivity: 0.9937 - val_out_3_specificity: 0.9980 - val_out_2_accuracy: 0.9903 - val_out_2_dice_score: 0.7237 - val_out_2_precision: 0.9907 - val_out_2_sensitivity: 0.9901 - val_out_2_specificity: 0.9969 - val_out_1_accuracy: 0.9899 - val_out_1_dice_score: 0.7089 - val_out_1_precision: 0.9903 - val_out_1_sensitivity: 0.9897 - val_out_1_specificity: 0.9968\n",
            "Epoch 97/100\n",
            "6/6 [==============================] - 13s 2s/step - loss: 5.6222 - final_output_loss: 1.3097 - out_3_loss: 1.3167 - out_2_loss: 1.4318 - out_1_loss: 1.4473 - final_output_accuracy: 0.9935 - final_output_dice_score: 0.8012 - final_output_precision: 0.9934 - final_output_sensitivity: 0.9905 - final_output_specificity: 0.9978 - out_3_accuracy: 0.9937 - out_3_dice_score: 0.7980 - out_3_precision: 0.9932 - out_3_sensitivity: 0.9929 - out_3_specificity: 0.9977 - out_2_accuracy: 0.9896 - out_2_dice_score: 0.7158 - out_2_precision: 0.9892 - out_2_sensitivity: 0.9886 - out_2_specificity: 0.9964 - out_1_accuracy: 0.9894 - out_1_dice_score: 0.7073 - out_1_precision: 0.9891 - out_1_sensitivity: 0.9885 - out_1_specificity: 0.9963 - val_loss: 5.5208 - val_final_output_loss: 1.2737 - val_out_3_loss: 1.2834 - val_out_2_loss: 1.4178 - val_out_1_loss: 1.4245 - val_final_output_accuracy: 0.9943 - val_final_output_dice_score: 0.8230 - val_final_output_precision: 0.9947 - val_final_output_sensitivity: 0.9928 - val_final_output_specificity: 0.9982 - val_out_3_accuracy: 0.9943 - val_out_3_dice_score: 0.8197 - val_out_3_precision: 0.9945 - val_out_3_sensitivity: 0.9942 - val_out_3_specificity: 0.9982 - val_out_2_accuracy: 0.9910 - val_out_2_dice_score: 0.7270 - val_out_2_precision: 0.9913 - val_out_2_sensitivity: 0.9908 - val_out_2_specificity: 0.9971 - val_out_1_accuracy: 0.9908 - val_out_1_dice_score: 0.7221 - val_out_1_precision: 0.9911 - val_out_1_sensitivity: 0.9905 - val_out_1_specificity: 0.9970\n",
            "Epoch 98/100\n",
            "6/6 [==============================] - 13s 2s/step - loss: 5.8628 - final_output_loss: 1.3783 - out_3_loss: 1.3853 - out_2_loss: 1.4861 - out_1_loss: 1.4965 - final_output_accuracy: 0.9946 - final_output_dice_score: 0.7568 - final_output_precision: 0.9951 - final_output_sensitivity: 0.9914 - final_output_specificity: 0.9983 - out_3_accuracy: 0.9949 - out_3_dice_score: 0.7583 - out_3_precision: 0.9946 - out_3_sensitivity: 0.9944 - out_3_specificity: 0.9982 - out_2_accuracy: 0.9926 - out_2_dice_score: 0.6882 - out_2_precision: 0.9923 - out_2_sensitivity: 0.9919 - out_2_specificity: 0.9974 - out_1_accuracy: 0.9924 - out_1_dice_score: 0.6827 - out_1_precision: 0.9921 - out_1_sensitivity: 0.9918 - out_1_specificity: 0.9974 - val_loss: 5.5599 - val_final_output_loss: 1.2789 - val_out_3_loss: 1.2961 - val_out_2_loss: 1.4259 - val_out_1_loss: 1.4394 - val_final_output_accuracy: 0.9943 - val_final_output_dice_score: 0.8223 - val_final_output_precision: 0.9947 - val_final_output_sensitivity: 0.9931 - val_final_output_specificity: 0.9982 - val_out_3_accuracy: 0.9943 - val_out_3_dice_score: 0.8158 - val_out_3_precision: 0.9945 - val_out_3_sensitivity: 0.9942 - val_out_3_specificity: 0.9982 - val_out_2_accuracy: 0.9910 - val_out_2_dice_score: 0.7255 - val_out_2_precision: 0.9913 - val_out_2_sensitivity: 0.9908 - val_out_2_specificity: 0.9971 - val_out_1_accuracy: 0.9909 - val_out_1_dice_score: 0.7191 - val_out_1_precision: 0.9912 - val_out_1_sensitivity: 0.9907 - val_out_1_specificity: 0.9971\n",
            "Epoch 99/100\n",
            "6/6 [==============================] - 13s 2s/step - loss: 5.4604 - final_output_loss: 1.2438 - out_3_loss: 1.2613 - out_2_loss: 1.4146 - out_1_loss: 1.4241 - final_output_accuracy: 0.9952 - final_output_dice_score: 0.8398 - final_output_precision: 0.9952 - final_output_sensitivity: 0.9925 - final_output_specificity: 0.9984 - out_3_accuracy: 0.9956 - out_3_dice_score: 0.8341 - out_3_precision: 0.9953 - out_3_sensitivity: 0.9951 - out_3_specificity: 0.9984 - out_2_accuracy: 0.9920 - out_2_dice_score: 0.7247 - out_2_precision: 0.9918 - out_2_sensitivity: 0.9914 - out_2_specificity: 0.9973 - out_1_accuracy: 0.9921 - out_1_dice_score: 0.7206 - out_1_precision: 0.9918 - out_1_sensitivity: 0.9915 - out_1_specificity: 0.9973 - val_loss: 5.6654 - val_final_output_loss: 1.3060 - val_out_3_loss: 1.3213 - val_out_2_loss: 1.4420 - val_out_1_loss: 1.4743 - val_final_output_accuracy: 0.9936 - val_final_output_dice_score: 0.8012 - val_final_output_precision: 0.9942 - val_final_output_sensitivity: 0.9918 - val_final_output_specificity: 0.9981 - val_out_3_accuracy: 0.9934 - val_out_3_dice_score: 0.7944 - val_out_3_precision: 0.9936 - val_out_3_sensitivity: 0.9932 - val_out_3_specificity: 0.9979 - val_out_2_accuracy: 0.9904 - val_out_2_dice_score: 0.7055 - val_out_2_precision: 0.9909 - val_out_2_sensitivity: 0.9902 - val_out_2_specificity: 0.9970 - val_out_1_accuracy: 0.9900 - val_out_1_dice_score: 0.6875 - val_out_1_precision: 0.9904 - val_out_1_sensitivity: 0.9896 - val_out_1_specificity: 0.9968\n",
            "Epoch 100/100\n",
            "6/6 [==============================] - 13s 2s/step - loss: 5.6288 - final_output_loss: 1.3168 - out_3_loss: 1.3204 - out_2_loss: 1.4307 - out_1_loss: 1.4443 - final_output_accuracy: 0.9948 - final_output_dice_score: 0.7877 - final_output_precision: 0.9954 - final_output_sensitivity: 0.9918 - final_output_specificity: 0.9985 - out_3_accuracy: 0.9949 - out_3_dice_score: 0.7877 - out_3_precision: 0.9946 - out_3_sensitivity: 0.9944 - out_3_specificity: 0.9982 - out_2_accuracy: 0.9927 - out_2_dice_score: 0.7064 - out_2_precision: 0.9924 - out_2_sensitivity: 0.9921 - out_2_specificity: 0.9975 - out_1_accuracy: 0.9925 - out_1_dice_score: 0.6998 - out_1_precision: 0.9923 - out_1_sensitivity: 0.9920 - out_1_specificity: 0.9974 - val_loss: 5.7027 - val_final_output_loss: 1.3104 - val_out_3_loss: 1.3170 - val_out_2_loss: 1.4575 - val_out_1_loss: 1.4993 - val_final_output_accuracy: 0.9935 - val_final_output_dice_score: 0.8050 - val_final_output_precision: 0.9946 - val_final_output_sensitivity: 0.9919 - val_final_output_specificity: 0.9982 - val_out_3_accuracy: 0.9932 - val_out_3_dice_score: 0.8025 - val_out_3_precision: 0.9933 - val_out_3_sensitivity: 0.9930 - val_out_3_specificity: 0.9978 - val_out_2_accuracy: 0.9902 - val_out_2_dice_score: 0.7075 - val_out_2_precision: 0.9905 - val_out_2_sensitivity: 0.9900 - val_out_2_specificity: 0.9968 - val_out_1_accuracy: 0.9892 - val_out_1_dice_score: 0.6863 - val_out_1_precision: 0.9894 - val_out_1_sensitivity: 0.9890 - val_out_1_specificity: 0.9965\n"
          ]
        }
      ],
      "source": [
        "history=model.fit(train_generator(input_gen, out_gen),\n",
        "\t                  validation_data=(X_test, [Y_test, Y_test, Y_test, Y_test]),\n",
        "\t                  steps_per_epoch=len(X_train) // 64,\n",
        "\t                  epochs=epochs, verbose=1, shuffle=True,\n",
        "                    )"
      ]
    },
    {
      "cell_type": "code",
      "source": [
        "#model.save('/content/drive/MyDrive/ranadeep/2020DATA/pcamodel2019.h5', include_optimizer=True)"
      ],
      "metadata": {
        "id": "VJ8H14Y0VBSO"
      },
      "execution_count": null,
      "outputs": []
    },
    {
      "cell_type": "code",
      "source": [
        "def Accuracy_Graph(history):\n",
        "    plt.plot(history.history['final_output_accuracy'])\n",
        "    plt.plot(history.history['val_final_output_accuracy'])\n",
        "    #plt.title('Model accuracy')\n",
        "    plt.ylabel('Accuracy')\n",
        "    plt.xlabel('Epoch')\n",
        "    plt.legend(['Train', 'Validation'], loc='lower right')\n",
        "    plt.subplots_adjust(top=1.00, bottom=0.0, left=0.0, right=0.95, hspace=0.25,\n",
        "                        wspace=0.35)\n",
        "    plt.show()\n",
        "\n",
        "\n",
        "# Dice Similarity Coefficient vs Epoch\n",
        "def Dice_coefficient_Graph(history):\n",
        "\n",
        "    plt.plot(history.history['final_output_dice_score'])\n",
        "    plt.plot(history.history['val_final_output_dice_score'])\n",
        "    #plt.title('Dice_Coefficient')\n",
        "    plt.ylabel('Dice_Coefficient')\n",
        "    plt.xlabel('Epoch')\n",
        "    plt.legend(['Train', 'Validation'], loc='upper left')\n",
        "    plt.subplots_adjust(top=1.00, bottom=0.0, left=0.0, right=0.95, hspace=0.25,\n",
        "                        wspace=0.35)\n",
        "    plt.show()\n",
        "\n",
        "def Loss_Graph(history):\n",
        "    plt.plot(history.history['final_output_loss'])\n",
        "    plt.plot(history.history['val_final_output_loss'])\n",
        "    #plt.title('Model accuracy')\n",
        "    plt.ylabel('Loss')\n",
        "    plt.xlabel('Epoch')\n",
        "    plt.legend(['Train', 'Validation'], loc='upper right')\n",
        "    plt.subplots_adjust(top=1.00, bottom=0.0, left=0.0, right=0.95, hspace=0.25,\n",
        "                        wspace=0.35)\n",
        "    plt.show()\n",
        "\n"
      ],
      "metadata": {
        "id": "vidInnUiVHo_"
      },
      "execution_count": null,
      "outputs": []
    },
    {
      "cell_type": "code",
      "source": [
        "Accuracy_Graph(history)\n",
        "Dice_coefficient_Graph(history)\n",
        "Loss_Graph(history)"
      ],
      "metadata": {
        "id": "jZrIneDuVJYg",
        "colab": {
          "base_uri": "https://localhost:8080/",
          "height": 1000
        },
        "outputId": "2fc7538c-3f97-4e86-c5b5-32bb11ba658c"
      },
      "execution_count": null,
      "outputs": [
        {
          "output_type": "display_data",
          "data": {
            "text/plain": [
              "<Figure size 432x288 with 1 Axes>"
            ],
            "image/png": "[encoded data removed]"
          },
          "metadata": {
            "needs_background": "light"
          }
        },
        {
          "output_type": "display_data",
          "data": {
            "text/plain": [
              "<Figure size 432x288 with 1 Axes>"
            ],
            "image/png": "[encoded data removed]"
          },
          "metadata": {
            "needs_background": "light"
          }
        },
        {
          "output_type": "display_data",
          "data": {
            "text/plain": [
              "<Figure size 432x288 with 1 Axes>"
            ],
            "image/png": "[encoded data removed]"
          },
          "metadata": {
            "needs_background": "light"
          }
        }
      ]
    },
    {
      "cell_type": "code",
      "source": [
        "import statistics\n",
        "display(statistics.mean(history.history['val_final_output_accuracy']))\n",
        "display(statistics.mean(history.history['val_final_output_dice_score']))\n",
        "display(statistics.mean(history.history['val_final_output_precision']))\n",
        "display(statistics.mean(history.history['val_final_output_sensitivity']))\n",
        "display(statistics.mean(history.history['val_final_output_specificity']))"
      ],
      "metadata": {
        "id": "m2QpgUm8VKsu",
        "colab": {
          "base_uri": "https://localhost:8080/",
          "height": 104
        },
        "outputId": "521d8430-c9d7-4b80-957c-61aca0cbfd61"
      },
      "execution_count": null,
      "outputs": [
        {
          "output_type": "display_data",
          "data": {
            "text/plain": [
              "0.9698084050416946"
            ]
          },
          "metadata": {}
        },
        {
          "output_type": "display_data",
          "data": {
            "text/plain": [
              "0.5912556923925877"
            ]
          },
          "metadata": {}
        },
        {
          "output_type": "display_data",
          "data": {
            "text/plain": [
              "0.9469487622380257"
            ]
          },
          "metadata": {}
        },
        {
          "output_type": "display_data",
          "data": {
            "text/plain": [
              "0.9900571310520172"
            ]
          },
          "metadata": {}
        },
        {
          "output_type": "display_data",
          "data": {
            "text/plain": [
              "0.9734232944250106"
            ]
          },
          "metadata": {}
        }
      ]
    },
    {
      "cell_type": "code",
      "execution_count": null,
      "metadata": {
        "id": "aCFp6MPMae6p"
      },
      "outputs": [],
      "source": [
        "pred = model.predict(X_test)"
      ]
    },
    {
      "cell_type": "code",
      "execution_count": null,
      "metadata": {
        "id": "yPAnboGfjWiU",
        "colab": {
          "base_uri": "https://localhost:8080/"
        },
        "outputId": "b5dcaf68-ccc7-4463-d50b-e041b2437132"
      },
      "outputs": [
        {
          "output_type": "stream",
          "name": "stdout",
          "text": [
            "(4, 188, 240, 240, 4)\n"
          ]
        }
      ],
      "source": [
        "print(np.shape(pred))"
      ]
    },
    {
      "cell_type": "code",
      "execution_count": null,
      "metadata": {
        "id": "Vu9kAL1JHAZI"
      },
      "outputs": [],
      "source": [
        "pred = np.argmax(pred, axis=-1)"
      ]
    },
    {
      "cell_type": "code",
      "execution_count": null,
      "metadata": {
        "id": "quj0A3aXAP3D"
      },
      "outputs": [],
      "source": [
        "\n",
        "predicted_images = np.reshape(pred[0,:,:,:], (188,240,240))"
      ]
    },
    {
      "cell_type": "code",
      "execution_count": null,
      "metadata": {
        "id": "IwuJ92EcIle9",
        "colab": {
          "base_uri": "https://localhost:8080/"
        },
        "outputId": "dd03e10a-d710-4903-9711-306fd0b68547"
      },
      "outputs": [
        {
          "output_type": "stream",
          "name": "stdout",
          "text": [
            "(188, 240, 240)\n"
          ]
        }
      ],
      "source": [
        "GT = np.argmax(Y_test, axis=-1)\n",
        "print(GT.shape)"
      ]
    },
    {
      "cell_type": "code",
      "execution_count": null,
      "metadata": {
        "id": "Ji8xPZNN1_KW"
      },
      "outputs": [],
      "source": [
        "predicted_images[predicted_images==3] = 4\n",
        "GT[GT==3] = 4"
      ]
    },
    {
      "cell_type": "code",
      "execution_count": null,
      "metadata": {
        "id": "I3_OQcAqaUi8"
      },
      "outputs": [],
      "source": [
        "def iou_coef(s,g):\n",
        "    num = np.sum(np.multiply(s,g))\n",
        "    denom=s.sum() + g.sum() - num\n",
        "    if denom==0:\n",
        "        return 1\n",
        "    else:\n",
        "        return num/denom"
      ]
    },
    {
      "cell_type": "code",
      "execution_count": null,
      "metadata": {
        "id": "VvBQgcbsSDBQ"
      },
      "outputs": [],
      "source": [
        "def iou_whole(pred, orig_label):\n",
        "    #computes dice for the whole tumor\n",
        "    return iou_coef(pred>0,orig_label>0)\n",
        "\n",
        "\n",
        "def iou_en(pred, orig_label):\n",
        "    #computes dice for enhancing region\n",
        "    return iou_coef(pred==4,orig_label==4)\n",
        "\n",
        "\n",
        "def iou_core(pred, orig_label):\n",
        "    #computes dice for core region\n",
        "    seg_=np.copy(pred)\n",
        "    ground_=np.copy(orig_label)\n",
        "    seg_[seg_==2]=0\n",
        "    ground_[ground_==2]=0\n",
        "    return iou_coef(seg_>0,ground_>0)"
      ]
    },
    {
      "cell_type": "code",
      "execution_count": null,
      "metadata": {
        "id": "cjAV_L2HURYQ",
        "colab": {
          "base_uri": "https://localhost:8080/"
        },
        "outputId": "d762ddaf-691b-421f-ef00-e12818043e18"
      },
      "outputs": [
        {
          "output_type": "stream",
          "name": "stdout",
          "text": [
            "iou complete tumor score : 0.7757\n",
            "iou core tumor score : 0.7963\n",
            "iou enhancing tumor score :0.6615 \n"
          ]
        }
      ],
      "source": [
        "predicted_images = predicted_images.astype(np.int32)\n",
        "GT = GT.astype(np.int32)\n",
        "\n",
        "iou_complete  = iou_whole(predicted_images,GT)\n",
        "iou_enhancing = iou_en(predicted_images,GT)\n",
        "iou_core      = iou_core(predicted_images,GT)\n",
        "\n",
        "print(\"iou complete tumor score : {:0.4f}\".format(iou_complete))\n",
        "print(\"iou core tumor score : {:0.4f}\".format(iou_core))\n",
        "print(\"iou enhancing tumor score :{:0.4f} \".format(iou_enhancing))"
      ]
    },
    {
      "cell_type": "code",
      "execution_count": null,
      "metadata": {
        "id": "dUxIWYsg1_G6"
      },
      "outputs": [],
      "source": [
        "\n",
        "\n",
        "def binary_dice3d(s,g):\n",
        "\n",
        "    num=np.sum(np.multiply(s, g))\n",
        "    denom=s.sum() + g.sum()\n",
        "    if denom==0:\n",
        "        return 1\n",
        "    else:\n",
        "        return  2.0*num/denom\n",
        "\n",
        "\n",
        "\n",
        "def DSC_whole(pred, orig_label):\n",
        "    #computes dice for the whole tumor\n",
        "    return binary_dice3d(pred>0,orig_label>0)\n",
        "\n",
        "\n",
        "def DSC_en(pred, orig_label):\n",
        "    #computes dice for enhancing region\n",
        "    return binary_dice3d(pred==4,orig_label==4)\n",
        "\n",
        "\n",
        "def DSC_core(pred, orig_label):\n",
        "    #computes dice for core region\n",
        "    seg_=np.copy(pred)\n",
        "    ground_=np.copy(orig_label)\n",
        "    seg_[seg_==2]=0\n",
        "    ground_[ground_==2]=0\n",
        "    return binary_dice3d(seg_>0,ground_>0)"
      ]
    },
    {
      "cell_type": "code",
      "execution_count": null,
      "metadata": {
        "id": "6dc3Pnyq1Nzf",
        "colab": {
          "base_uri": "https://localhost:8080/"
        },
        "outputId": "36baf514-2b89-4afd-fc48-7f6d7053a789"
      },
      "outputs": [
        {
          "output_type": "stream",
          "name": "stdout",
          "text": [
            "Dice complete tumor score : 0.8737\n",
            "Dice core tumor score : 0.8866\n",
            "Dice enhancing tumor score :0.7963 \n"
          ]
        }
      ],
      "source": [
        "Dice_complete=DSC_whole(predicted_images,GT)\n",
        "Dice_enhancing=DSC_en(predicted_images,GT)\n",
        "Dice_core=DSC_core(predicted_images,GT)\n",
        "\n",
        "print(\"Dice complete tumor score : {:0.4f}\".format(Dice_complete))\n",
        "print(\"Dice core tumor score : {:0.4f}\".format(Dice_core))\n",
        "print(\"Dice enhancing tumor score :{:0.4f} \".format(Dice_enhancing))"
      ]
    }
  ],
  "metadata": {
    "accelerator": "GPU",
    "colab": {
      "machine_shape": "hm",
      "provenance": [],
      "include_colab_link": true
    },
    "kernelspec": {
      "display_name": "Python 3",
      "name": "python3"
    }
  },
  "nbformat": 4,
  "nbformat_minor": 0
}