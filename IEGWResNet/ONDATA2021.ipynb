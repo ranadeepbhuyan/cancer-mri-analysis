{
  "cells": [
    {
      "cell_type": "markdown",
      "metadata": {
        "id": "view-in-github",
        "colab_type": "text"
      },
      "source": [
        "<a href=\"https://colab.research.google.com/github/ranadeepbhuyan/cancer-mri-analysis/blob/main/IEGWResNet/ONDATA2021.ipynb\" target=\"_parent\"><img src=\"https://colab.research.google.com/assets/colab-badge.svg\" alt=\"Open In Colab\"/></a>"
      ]
    },
    {
      "cell_type": "code",
      "execution_count": null,
      "metadata": {
        "id": "pRK3vxOwFDO-",
        "colab": {
          "base_uri": "https://localhost:8080/"
        },
        "outputId": "2644f996-64dd-4563-8260-03fbedce7436"
      },
      "outputs": [
        {
          "output_type": "stream",
          "name": "stdout",
          "text": [
            "Mounted at /content/drive\n"
          ]
        }
      ],
      "source": [
        "from google.colab import drive\n",
        "drive.mount('/content/drive')"
      ]
    },
    {
      "cell_type": "code",
      "execution_count": null,
      "metadata": {
        "id": "fnLTNgBG7VzI",
        "colab": {
          "base_uri": "https://localhost:8080/"
        },
        "outputId": "5098d32d-0769-43d6-fc66-a0a4ed2ad883"
      },
      "outputs": [
        {
          "output_type": "stream",
          "name": "stderr",
          "text": [
            "Using TensorFlow backend.\n"
          ]
        }
      ],
      "source": [
        "import numpy as np\n",
        "import matplotlib.pyplot as plt\n",
        "import glob\n",
        "import pickle\n",
        "import keras\n",
        "from keras.layers import Conv2D, Activation, Input, Dropout, Reshape, MaxPooling2D, UpSampling2D, Conv2DTranspose, Concatenate, multiply, Add, LeakyReLU, ReLU\n",
        "from tensorflow.keras.layers import BatchNormalization\n",
        "from tensorflow.keras.models import Model\n",
        "from keras.callbacks import ModelCheckpoint, ReduceLROnPlateau\n",
        "from keras.optimizers import Adam\n",
        "from keras.utils import *\n",
        "from keras import regularizers\n",
        "from keras import backend as K\n",
        "from keras.models import load_model\n",
        "from keras.layers import Lambda\n",
        "import nibabel as nib"
      ]
    },
    {
      "cell_type": "code",
      "execution_count": null,
      "metadata": {
        "id": "GuqmS5fWTqoN",
        "colab": {
          "base_uri": "https://localhost:8080/"
        },
        "outputId": "4a086113-ac6f-47b8-aa6a-da2039518b62"
      },
      "outputs": [
        {
          "output_type": "stream",
          "name": "stdout",
          "text": [
            "Looking in indexes: https://pypi.org/simple, https://us-python.pkg.dev/colab-wheels/public/simple/\n",
            "Collecting SimpleITK\n",
            "  Downloading SimpleITK-2.1.1.2-cp37-cp37m-manylinux_2_12_x86_64.manylinux2010_x86_64.whl (48.4 MB)\n",
            "\u001b[K     |████████████████████████████████| 48.4 MB 51 kB/s \n",
            "\u001b[?25hInstalling collected packages: SimpleITK\n",
            "Successfully installed SimpleITK-2.1.1.2\n"
          ]
        }
      ],
      "source": [
        "!pip install SimpleITK"
      ]
    },
    {
      "cell_type": "code",
      "execution_count": null,
      "metadata": {
        "id": "OiTeWkdCTfWY"
      },
      "outputs": [],
      "source": [
        "import SimpleITK as sitk"
      ]
    },
    {
      "cell_type": "code",
      "execution_count": null,
      "metadata": {
        "id": "SNAp5aKSnnvJ"
      },
      "outputs": [],
      "source": [
        "flair_path = glob.glob('/content/drive/MyDrive/ranadeep/2021DATA/data/'+'*/*_flair*', recursive=True)\n",
        "seg_path = glob.glob('/content/drive/MyDrive/ranadeep/2021DATA/data/'+'*/*_seg*', recursive=True)\n",
        "t1_path = glob.glob('/content/drive/MyDrive/ranadeep/2021DATA/data/'+'*/*_t1*', recursive=True)\n",
        "t1ce_path = glob.glob('/content/drive/MyDrive/ranadeep/2021DATA/data/'+'*/*_t1ce*', recursive=True)\n",
        "t2_path = glob.glob('/content/drive/MyDrive/ranadeep/2021DATA/data/'+'*/*_t2*', recursive=True)"
      ]
    },
    {
      "cell_type": "code",
      "execution_count": null,
      "metadata": {
        "id": "5qhECSLIDrNX",
        "colab": {
          "base_uri": "https://localhost:8080/"
        },
        "outputId": "9d6b5a72-24ca-41f1-c8bb-b683004bb99d"
      },
      "outputs": [
        {
          "output_type": "stream",
          "name": "stdout",
          "text": [
            "1251\n"
          ]
        }
      ],
      "source": [
        "print(len(flair_path))"
      ]
    },
    {
      "cell_type": "code",
      "source": [
        "def pca_color_augmentation_tensor(inputs, std_deviation=0.1, scale=0.1, clipping=False):\n",
        "    ranks = inputs.ndim\n",
        "    assert ranks >= 2\n",
        "\n",
        "    chs = inputs.shape[-1]\n",
        "    if ranks <= 3:\n",
        "        x = inputs.copy()\n",
        "    elif ranks == 4:\n",
        "        dims = inputs.shape[1] * inputs.shape[2]\n",
        "        x = inputs.reshape(-1, dims, chs)\n",
        "    elif ranks == 5:\n",
        "        dims = inputs.shape[2] * inputs.shape[3]\n",
        "        depth = inputs.shape[1]\n",
        "        x = inputs.reshape(-1, depth, dims, chs)\n",
        "    calculate_axis, reduce_axis = ranks-1, ranks-2\n",
        "    if ranks == 3:\n",
        "        calculate_axis, reduce_axis = 1, 2\n",
        "    elif ranks >= 4:\n",
        "        calculate_axis, reduce_axis = ranks-3, ranks-2\n",
        "    C = 1.0\n",
        "    if ranks >= 3:\n",
        "        C = x.shape[reduce_axis]\n",
        "    var = np.var(x, axis=calculate_axis, keepdims=True)\n",
        "    scaling_factors = np.sqrt(C / np.sum(var, axis=reduce_axis, keepdims=True))\n",
        "    x = x * scaling_factors\n",
        "    # subtract mean for cov matrix\n",
        "    mean = np.mean(x, axis=calculate_axis, keepdims=True)\n",
        "    x -= mean\n",
        "    # covariance matrix\n",
        "    cov_n = max(x.shape[calculate_axis] - 1, 1)\n",
        "    # cov (since x was normalized)\n",
        "    cov = np.matmul(np.swapaxes(x, -1, -2), x) / cov_n\n",
        "    # eigen value(S), eigen vector(U)\n",
        "    U, S, V = np.linalg.svd(cov)\n",
        "    if ranks == 2:\n",
        "        rand = np.random.randn(*inputs.shape) * std_deviation\n",
        "        delta = np.matmul(rand*np.expand_dims(S, axis=0), U)\n",
        "    else:\n",
        "        rand = np.random.randn(*S.shape) * std_deviation\n",
        "        delta_original = np.squeeze(np.matmul(U, np.expand_dims(rand*S, axis=-1)), axis=-1)\n",
        "    if ranks == 3:\n",
        "        delta = np.expand_dims(delta_original, axis=ranks-2)\n",
        "    elif ranks >= 4:\n",
        "        delta = np.expand_dims(delta_original, axis=ranks-3)\n",
        "        delta = np.broadcast_to(delta, x.shape)\n",
        "        delta = delta.reshape(-1, *inputs.shape[1:])\n",
        "\n",
        "    # delta scaling\n",
        "    delta = delta * scale\n",
        "    result = inputs + delta\n",
        "    if clipping:\n",
        "        result = np.clip(result, 0.0, scale)\n",
        "\n",
        "    return result"
      ],
      "metadata": {
        "id": "6xiMWCk0I1fn"
      },
      "execution_count": null,
      "outputs": []
    },
    {
      "cell_type": "code",
      "execution_count": null,
      "metadata": {
        "id": "z-bdXPY2XcML",
        "colab": {
          "base_uri": "https://localhost:8080/"
        },
        "outputId": "31b155b7-299d-4a05-bca2-10ccd43e059c"
      },
      "outputs": [
        {
          "output_type": "stream",
          "name": "stdout",
          "text": [
            "(1250, 240, 240)\n"
          ]
        }
      ],
      "source": [
        "X_flair=[]\n",
        "for i in range(50):\n",
        "    a = sitk.ReadImage(flair_path[i])\n",
        "    a = sitk.GetArrayFromImage(a)\n",
        "    for j in range(25):\n",
        "        X_flair.append((a[50+2*j,:,:]))\n",
        "print(np.shape(X_flair))"
      ]
    },
    {
      "cell_type": "code",
      "execution_count": null,
      "metadata": {
        "id": "PVvCGpG3eiWH"
      },
      "outputs": [],
      "source": [
        "X_flair = np.asarray(X_flair).astype(np.float32)"
      ]
    },
    {
      "cell_type": "code",
      "source": [
        "X_flair = pca_color_augmentation_tensor(X_flair[:,:,:])"
      ],
      "metadata": {
        "id": "jPClkC08N00Y"
      },
      "execution_count": null,
      "outputs": []
    },
    {
      "cell_type": "code",
      "execution_count": null,
      "metadata": {
        "id": "qV4wgbN-R5XS",
        "colab": {
          "base_uri": "https://localhost:8080/"
        },
        "outputId": "d6970dea-ac75-45c1-b994-563ba8f62d55"
      },
      "outputs": [
        {
          "output_type": "execute_result",
          "data": {
            "text/plain": [
              "(-0.5488258567292074, 14.116275750258662)"
            ]
          },
          "metadata": {},
          "execution_count": 12
        }
      ],
      "source": [
        "mean = X_flair.mean()\n",
        "std = X_flair.std()\n",
        "X_flair = (X_flair - mean)/(std + 1e-8)\n",
        "np.min(X_flair), np.max(X_flair)"
      ]
    },
    {
      "cell_type": "code",
      "execution_count": null,
      "metadata": {
        "id": "FUCq69-HaXIY",
        "colab": {
          "base_uri": "https://localhost:8080/"
        },
        "outputId": "452e21b7-212f-40a2-ba84-ceab7aa4655c"
      },
      "outputs": [
        {
          "output_type": "stream",
          "name": "stdout",
          "text": [
            "(1250, 240, 240)\n"
          ]
        }
      ],
      "source": [
        "X_t1=[]\n",
        "for i in range(50):\n",
        "    a = sitk.ReadImage(t1_path[i])\n",
        "    a = sitk.GetArrayFromImage(a)\n",
        "    for j in range(25):\n",
        "        X_t1.append((a[50+2*j,:,:]))\n",
        "print(np.shape(X_t1))"
      ]
    },
    {
      "cell_type": "code",
      "execution_count": null,
      "metadata": {
        "id": "jTw7cJrgesV_"
      },
      "outputs": [],
      "source": [
        "X_t1 = np.asarray(X_t1).astype(np.float32)\n",
        "X_t1 = pca_color_augmentation_tensor(X_t1[:,:,:])"
      ]
    },
    {
      "cell_type": "code",
      "execution_count": null,
      "metadata": {
        "id": "2iVC59neTrvF",
        "colab": {
          "base_uri": "https://localhost:8080/"
        },
        "outputId": "75605828-3a25-43f9-af00-177f7e28078e"
      },
      "outputs": [
        {
          "output_type": "execute_result",
          "data": {
            "text/plain": [
              "(-0.5911301173754586, 13.280509606200344)"
            ]
          },
          "metadata": {},
          "execution_count": 15
        }
      ],
      "source": [
        "mean = X_t1.mean()\n",
        "std = X_t1.std()\n",
        "X_t1 = (X_t1 - mean)/(std + 1e-8)\n",
        "np.min(X_t1), np.max(X_t1)"
      ]
    },
    {
      "cell_type": "code",
      "execution_count": null,
      "metadata": {
        "id": "gyL84efyaX5J",
        "colab": {
          "base_uri": "https://localhost:8080/"
        },
        "outputId": "7a260978-78c5-41b4-ab76-398dc32bfb05"
      },
      "outputs": [
        {
          "output_type": "stream",
          "name": "stdout",
          "text": [
            "(1250, 240, 240)\n"
          ]
        }
      ],
      "source": [
        "X_t1ce=[]\n",
        "for i in range(50):\n",
        "    a = sitk.ReadImage(t1ce_path[i])\n",
        "    a = sitk.GetArrayFromImage(a)\n",
        "    for j in range(25):\n",
        "        X_t1ce.append((a[50+2*j,:,:]))\n",
        "print(np.shape(X_t1ce))"
      ]
    },
    {
      "cell_type": "code",
      "execution_count": null,
      "metadata": {
        "id": "BLIQ7qI2fCdS"
      },
      "outputs": [],
      "source": [
        "X_t1ce = np.asarray(X_t1ce).astype(np.float32)\n",
        "X_t1ce = pca_color_augmentation_tensor(X_t1ce[:,:,:])"
      ]
    },
    {
      "cell_type": "code",
      "execution_count": null,
      "metadata": {
        "id": "Juy5PSNFT5AK",
        "colab": {
          "base_uri": "https://localhost:8080/"
        },
        "outputId": "cfeaea66-ee14-44b6-ccc2-5683d498c0ef"
      },
      "outputs": [
        {
          "output_type": "execute_result",
          "data": {
            "text/plain": [
              "(-0.5856471384379387, 12.348360302074795)"
            ]
          },
          "metadata": {},
          "execution_count": 18
        }
      ],
      "source": [
        "mean = X_t1ce.mean()\n",
        "std = X_t1ce.std()\n",
        "X_t1ce = (X_t1ce - mean)/(std + 1e-8)\n",
        "np.min(X_t1ce), np.max(X_t1ce)"
      ]
    },
    {
      "cell_type": "code",
      "execution_count": null,
      "metadata": {
        "id": "hj3lJ9Eua2vQ",
        "colab": {
          "base_uri": "https://localhost:8080/"
        },
        "outputId": "a71ff299-d4d1-43fa-855c-b5b3665e5e00"
      },
      "outputs": [
        {
          "output_type": "stream",
          "name": "stdout",
          "text": [
            "(1250, 240, 240)\n"
          ]
        }
      ],
      "source": [
        "X_t2=[]\n",
        "for i in range(50):\n",
        "    a = sitk.ReadImage(t2_path[i])\n",
        "    a = sitk.GetArrayFromImage(a)\n",
        "    for j in range(25):\n",
        "        X_t2.append((a[50+2*j,:,:]))\n",
        "print(np.shape(X_t2))"
      ]
    },
    {
      "cell_type": "code",
      "execution_count": null,
      "metadata": {
        "id": "T1rNbpX-fH7L"
      },
      "outputs": [],
      "source": [
        "X_t2 = np.asarray(X_t2).astype(np.float32)\n",
        "X_t2 = pca_color_augmentation_tensor(X_t2[:,:,:])"
      ]
    },
    {
      "cell_type": "code",
      "execution_count": null,
      "metadata": {
        "id": "ynOIXHD0UFkV",
        "colab": {
          "base_uri": "https://localhost:8080/"
        },
        "outputId": "7c584799-a705-4722-dcee-db1d1d91b2e5"
      },
      "outputs": [
        {
          "output_type": "execute_result",
          "data": {
            "text/plain": [
              "(-0.5292939487317605, 10.762808438391946)"
            ]
          },
          "metadata": {},
          "execution_count": 21
        }
      ],
      "source": [
        "mean = X_t2.mean()\n",
        "std = X_t2.std()\n",
        "X_t2 = (X_t2 - mean)/(std + 1e-8)\n",
        "np.min(X_t2), np.max(X_t2)"
      ]
    },
    {
      "cell_type": "code",
      "execution_count": null,
      "metadata": {
        "id": "oXuqfN6dbLp_",
        "colab": {
          "base_uri": "https://localhost:8080/"
        },
        "outputId": "c1826cfa-6d05-4d2f-cab2-8a7d1dfa1636"
      },
      "outputs": [
        {
          "output_type": "stream",
          "name": "stdout",
          "text": [
            "(1250, 240, 240)\n"
          ]
        }
      ],
      "source": [
        "X_seg=[]\n",
        "for i in range(50):\n",
        "    a = sitk.ReadImage(seg_path[i])\n",
        "    a = sitk.GetArrayFromImage(a)\n",
        "    for j in range(25):\n",
        "        X_seg.append((a[50+2*j,:,:]))\n",
        "print(np.shape(X_seg))"
      ]
    },
    {
      "cell_type": "code",
      "execution_count": null,
      "metadata": {
        "id": "-aV-yA6gcRXu"
      },
      "outputs": [],
      "source": [
        "X_seg = np.asarray(X_seg).astype(np.float32)\n"
      ]
    },
    {
      "cell_type": "code",
      "execution_count": null,
      "metadata": {
        "colab": {
          "base_uri": "https://localhost:8080/"
        },
        "id": "AnBB3AB3a0LP",
        "outputId": "bbf09076-ef0e-42da-8234-f7c45f8c42cf"
      },
      "outputs": [
        {
          "output_type": "stream",
          "name": "stdout",
          "text": [
            "1250\n"
          ]
        }
      ],
      "source": [
        "print(X_flair.shape[0])"
      ]
    },
    {
      "cell_type": "code",
      "execution_count": null,
      "metadata": {
        "id": "bBVPBlRp6tLB"
      },
      "outputs": [],
      "source": [
        "data = np.zeros((X_flair.shape[0],240,240,4))\n",
        "for i in range(data.shape[0]):\n",
        "    data[i,:,:,0] = X_flair[i,:,:]\n",
        "    data[i,:,:,1] = X_t1[i,:,:]\n",
        "    data[i,:,:,2] = X_t1ce[i,:,:]\n",
        "    data[i,:,:,3] = X_t2[i,:,:]"
      ]
    },
    {
      "cell_type": "code",
      "execution_count": null,
      "metadata": {
        "colab": {
          "base_uri": "https://localhost:8080/"
        },
        "id": "AIjHDWaV79eC",
        "outputId": "41816a20-8e16-42df-d0d7-97d3a831e4cf"
      },
      "outputs": [
        {
          "output_type": "stream",
          "name": "stdout",
          "text": [
            "(1250, 240, 240, 4)\n"
          ]
        }
      ],
      "source": [
        "print(np.shape(data))"
      ]
    },
    {
      "cell_type": "code",
      "execution_count": null,
      "metadata": {
        "id": "9Y6vymfxD_cF"
      },
      "outputs": [],
      "source": [
        "del X_flair\n",
        "del X_t1\n",
        "del X_t2\n",
        "del X_t1ce"
      ]
    },
    {
      "cell_type": "code",
      "execution_count": null,
      "metadata": {
        "colab": {
          "base_uri": "https://localhost:8080/"
        },
        "id": "GLaqcxM6cVrF",
        "outputId": "132f7562-0e71-4fb9-b618-b0a55c9fc6b1"
      },
      "outputs": [
        {
          "output_type": "stream",
          "name": "stdout",
          "text": [
            "[0. 1. 2. 4.]\n"
          ]
        }
      ],
      "source": [
        "print(np.unique(X_seg))"
      ]
    },
    {
      "cell_type": "code",
      "execution_count": null,
      "metadata": {
        "id": "qXMxghqIBW8u"
      },
      "outputs": [],
      "source": [
        "X_seg[X_seg == 4] = 3"
      ]
    },
    {
      "cell_type": "code",
      "execution_count": null,
      "metadata": {
        "colab": {
          "base_uri": "https://localhost:8080/"
        },
        "id": "H0tI1I6G8x0z",
        "outputId": "9a3b006b-c63d-40ce-d486-c7adc07fe3cd"
      },
      "outputs": [
        {
          "output_type": "stream",
          "name": "stdout",
          "text": [
            "[0. 1. 2. 3.]\n"
          ]
        }
      ],
      "source": [
        "print(np.unique(X_seg))"
      ]
    },
    {
      "cell_type": "code",
      "execution_count": null,
      "metadata": {
        "colab": {
          "base_uri": "https://localhost:8080/"
        },
        "id": "gbwIiU95RlHO",
        "outputId": "649a4f42-d8e6-4ce1-feb7-c2bde3120836"
      },
      "outputs": [
        {
          "output_type": "stream",
          "name": "stdout",
          "text": [
            "(1250, 240, 240)\n"
          ]
        }
      ],
      "source": [
        "print(X_seg.shape)"
      ]
    },
    {
      "cell_type": "code",
      "execution_count": null,
      "metadata": {
        "colab": {
          "base_uri": "https://localhost:8080/"
        },
        "id": "iMmO-RWj23zP",
        "outputId": "02e8e69b-3ae4-46a2-ec02-ea8fb38829e9"
      },
      "outputs": [
        {
          "output_type": "stream",
          "name": "stdout",
          "text": [
            "(1250, 240, 240, 4)\n"
          ]
        }
      ],
      "source": [
        "from tensorflow.keras.utils import to_categorical\n",
        "gt = to_categorical(X_seg, num_classes=None)\n",
        "print(gt.shape)"
      ]
    },
    {
      "cell_type": "code",
      "execution_count": null,
      "metadata": {
        "colab": {
          "base_uri": "https://localhost:8080/"
        },
        "id": "PqPY9vYCbkKN",
        "outputId": "517ac576-d248-4342-b320-81fcef5832dc"
      },
      "outputs": [
        {
          "output_type": "stream",
          "name": "stdout",
          "text": [
            "(1250, 240, 240, 4)\n",
            "(1250, 240, 240, 4)\n"
          ]
        }
      ],
      "source": [
        "print(data.shape)\n",
        "print(gt.shape)"
      ]
    },
    {
      "cell_type": "code",
      "execution_count": null,
      "metadata": {
        "id": "GxQVciKQMGff"
      },
      "outputs": [],
      "source": [
        "del X_seg"
      ]
    },
    {
      "cell_type": "code",
      "execution_count": null,
      "metadata": {
        "id": "qQVOCRWnvwz4"
      },
      "outputs": [],
      "source": [
        "from sklearn.model_selection import train_test_split\n",
        "X_train , X_test, Y_train, Y_test = train_test_split(data, gt, test_size=0.30, random_state=42)\n"
      ]
    },
    {
      "cell_type": "code",
      "execution_count": null,
      "metadata": {
        "id": "FYdaQwqNvwsh",
        "colab": {
          "base_uri": "https://localhost:8080/"
        },
        "outputId": "b2179810-924b-4940-bed9-bb9d22839c89"
      },
      "outputs": [
        {
          "output_type": "stream",
          "name": "stdout",
          "text": [
            "(875, 240, 240, 4)\n",
            "(375, 240, 240, 4)\n"
          ]
        }
      ],
      "source": [
        "print(X_train.shape)\n",
        "print(X_test.shape)"
      ]
    },
    {
      "cell_type": "code",
      "execution_count": null,
      "metadata": {
        "id": "WWz-hyqVvwj8",
        "colab": {
          "base_uri": "https://localhost:8080/"
        },
        "outputId": "292786b8-e5c3-448d-e3df-cb86ce5b8f6a"
      },
      "outputs": [
        {
          "output_type": "stream",
          "name": "stdout",
          "text": [
            "(875, 240, 240, 4)\n",
            "(375, 240, 240, 4)\n"
          ]
        }
      ],
      "source": [
        "print(Y_train.shape)\n",
        "print(Y_test.shape)"
      ]
    },
    {
      "cell_type": "markdown",
      "metadata": {
        "id": "XSe7Q9oUeQrg"
      },
      "source": [
        "# Data Augmentation"
      ]
    },
    {
      "cell_type": "code",
      "execution_count": null,
      "metadata": {
        "id": "4Is_BJ-95Q1-"
      },
      "outputs": [],
      "source": [
        "from keras.preprocessing.image import ImageDataGenerator"
      ]
    },
    {
      "cell_type": "code",
      "execution_count": null,
      "metadata": {
        "id": "aaqOzNkf5Qwi"
      },
      "outputs": [],
      "source": [
        "image_datagen = ImageDataGenerator(rotation_range=5,\n",
        "                                    horizontal_flip=True,\n",
        "                                    vertical_flip=True,\n",
        "                                    width_shift_range=0.1,\n",
        "                                    height_shift_range=0.1,\n",
        "                                    shear_range=0.1,\n",
        "                                    zoom_range=0.1)\n",
        "mask_datagen = ImageDataGenerator(rotation_range=5,\n",
        "                                    horizontal_flip=True,\n",
        "                                    vertical_flip=True,\n",
        "                                    width_shift_range=0.1,\n",
        "                                    height_shift_range=0.1,\n",
        "                                    shear_range=0.1,\n",
        "                                    zoom_range=0.1)"
      ]
    },
    {
      "cell_type": "code",
      "execution_count": null,
      "metadata": {
        "id": "qq3hnaN65QlT"
      },
      "outputs": [],
      "source": [
        "image_generator = image_datagen.flow(X_train, batch_size=8, seed=1)\n",
        "\n",
        "mask_generator = mask_datagen.flow(Y_train, batch_size=8, seed=1)"
      ]
    },
    {
      "cell_type": "code",
      "execution_count": null,
      "metadata": {
        "id": "TTvnM3C-LtvA"
      },
      "outputs": [],
      "source": [
        "def train_generator(image_generator, mask_generator):\n",
        "    while True:\n",
        "        image_next = image_generator.next()\n",
        "        mask_next  = mask_generator.next()\n",
        "        yield image_next, [mask_next, mask_next, mask_next, mask_next]"
      ]
    },
    {
      "cell_type": "code",
      "execution_count": null,
      "metadata": {
        "id": "KrkAEt_AEWay"
      },
      "outputs": [],
      "source": [
        "from scipy.stats import pearsonr\n",
        "from tensorflow.keras.layers import Conv2D, BatchNormalization, LeakyReLU, Add, Activation, UpSampling2D, multiply\n",
        "from tensorflow.keras import regularizers\n",
        "def ieg_block2d(x, g, ch_inp, i, data_format='channels_last'):\n",
        "    reg = regularizers.l2(1e-5)\n",
        "    def conv_bn(x, filters, kernel_size, strides, dilation_rate=1):\n",
        "        x = Conv2D(filters, kernel_size, strides=strides, dilation_rate=dilation_rate,\n",
        "                   data_format=data_format, kernel_regularizer=reg)(x)\n",
        "        x = BatchNormalization()(x)\n",
        "        return x\n",
        "    x1 = conv_bn(x, ch_inp, [2, 2], strides=[2, 2])\n",
        "    x2 = conv_bn(g, ch_inp, [1, 1], strides=[1, 1], dilation_rate=i)\n",
        "    f = LeakyReLU(alpha=0.001)(Add()([x1, x2]))\n",
        "    x3 = conv_bn(f, 1, [1, 1], strides=[1, 1], dilation_rate=i)\n",
        "    x4 = Activation('sigmoid')(x3)\n",
        "    x5 = UpSampling2D(size=[2, 2])(x4)\n",
        "    att_x = multiply([x, x5])\n",
        "    return att_x"
      ]
    },
    {
      "cell_type": "code",
      "execution_count": null,
      "metadata": {
        "id": "j3a4tAdRlLWV"
      },
      "outputs": [],
      "source": [
        "from tensorflow.keras.layers import Conv2D, BatchNormalization, LeakyReLU, Add, MaxPooling2D\n",
        "from tensorflow.keras import regularizers\n",
        "\n",
        "def res_block(x, nb_filters, strides, i):\n",
        "    reg = regularizers.l2(1e-5)\n",
        "    def conv_bn_relu(x, filters, kernel_size, strides=1, dilation_rate=1, padding='same'):\n",
        "        x = Conv2D(filters=filters, kernel_size=kernel_size, strides=strides, dilation_rate=dilation_rate,\n",
        "                   padding=padding, kernel_regularizer=reg)(x)\n",
        "        x = BatchNormalization()(x)\n",
        "        x = LeakyReLU(alpha=0.001)(x)\n",
        "        return x\n",
        "    # Initial batch normalization and pooling\n",
        "    res_inp = BatchNormalization()(x)\n",
        "    res_inp = LeakyReLU(alpha=0.001)(res_inp)\n",
        "    pool = MaxPooling2D(pool_size=(2, 2))(res_inp)\n",
        "    # conv-BN-ReLU\n",
        "    res_inp = conv_bn_relu(pool, nb_filters[0], (3, 3), strides=strides[1], dilation_rate=i)\n",
        "    res_inp = conv_bn_relu(res_inp, nb_filters[1], (3, 3), strides=strides[1], dilation_rate=i)\n",
        "    shortcut = Conv2D(nb_filters[1], (1, 1), strides=strides[1], dilation_rate=i, padding='same',\n",
        "                      kernel_regularizer=reg)(pool)\n",
        "    shortcut = BatchNormalization()(shortcut)\n",
        "    res_inp = Add()([shortcut, res_inp])\n",
        "    return res_inp\n"
      ]
    },
    {
      "cell_type": "code",
      "execution_count": null,
      "metadata": {
        "id": "J7hpdbkfh0it"
      },
      "outputs": [],
      "source": [
        "def contraction(x):\n",
        "    to_expansion = []\n",
        "\n",
        "    con_inp = Conv2D(filters=64, kernel_size=(3, 3), padding='same',dilation_rate=(1,1), strides=(1, 1), kernel_regularizer=regularizers.l2(1e-5))(x)\n",
        "    con_inp = BatchNormalization()(con_inp)\n",
        "    con_inp = LeakyReLU(alpha=0.001)(con_inp)\n",
        "\n",
        "    con_inp = Conv2D(filters=64, kernel_size=(3, 3), padding='same',dilation_rate=(1,1),strides=(1, 1), kernel_regularizer=regularizers.l2(1e-5))(con_inp)\n",
        "\n",
        "    shortcut = Conv2D(filters=64, kernel_size=(1, 1), strides=(1, 1),dilation_rate=(1,1), kernel_regularizer=regularizers.l2(1e-5))(x)\n",
        "    shortcut = BatchNormalization()(shortcut)\n",
        "\n",
        "    con_inp = Add()([shortcut, con_inp])\n",
        "\n",
        "    # first branching to expansion\n",
        "    to_expansion.append(con_inp)\n",
        "\n",
        "    con_inp = res_block(con_inp, [128, 128], [(2, 2), (1, 1)],(1,1))\n",
        "    to_expansion.append(con_inp)\n",
        "\n",
        "    con_inp = res_block(con_inp, [256, 256], [(2, 2), (1, 1)],(2,2))\n",
        "    to_expansion.append(con_inp)\n",
        "\n",
        "    con_inp = res_block(con_inp, [512, 512], [(2, 2), (1, 1)],(4,4))\n",
        "    to_expansion.append(con_inp)\n",
        "\n",
        "    return to_expansion"
      ]
    },
    {
      "cell_type": "code",
      "execution_count": null,
      "metadata": {
        "id": "d21KxhILicou"
      },
      "outputs": [],
      "source": [
        "def res_block_expansion(x, nb_filters, strides,i):\n",
        "\n",
        "    res_path = BatchNormalization()(x)\n",
        "    res_path = LeakyReLU(alpha=0.001)(res_path)\n",
        "    res_path = Conv2D(filters=nb_filters[0], kernel_size=(3, 3), padding='same', dilation_rate=i, strides=strides[1], kernel_regularizer=regularizers.l2(1e-5))(res_path)\n",
        "    res_path = BatchNormalization()(res_path)\n",
        "    res_path = LeakyReLU(alpha=0.001)(res_path)\n",
        "    res_path = Conv2D(filters=nb_filters[1], kernel_size=(3, 3), padding='same', dilation_rate=i, strides=strides[1], kernel_regularizer=regularizers.l2(1e-5))(res_path)\n",
        "\n",
        "    shortcut = Conv2D(nb_filters[1], kernel_size=(1, 1), strides=strides[1], dilation_rate=i, kernel_regularizer=regularizers.l2(1e-5))(x)\n",
        "    shortcut = BatchNormalization()(shortcut)\n",
        "\n",
        "    res_path = Add()([shortcut, res_path])\n",
        "\n",
        "    return res_path\n"
      ]
    },
    {
      "cell_type": "code",
      "execution_count": null,
      "metadata": {
        "id": "c-LRm-5iElVi"
      },
      "outputs": [],
      "source": [
        "def expansion(x, from_contraction):\n",
        "\n",
        "    # Layer 4\n",
        "    ieg_path1 = ieg_block2d(from_contraction[3], x, 256, (1,1), data_format='channels_last')\n",
        "\n",
        "    exp_inp1 = Conv2DTranspose(512, (2, 2), strides=(2, 2), padding='same',dilation_rate=(1,1),kernel_regularizer=regularizers.l2(1e-5))(x)\n",
        "    exp_inp1 = Concatenate()([exp_inp1,ieg_path1])\n",
        "    exp_inp1 = res_block_expansion(exp_inp1, [512, 512], [(1, 1), (1, 1)],(4,4))\n",
        "\n",
        "    hc1 = trans_conv_operation(exp_inp1)\n",
        "    out_1 = Conv2D(filters=4, kernel_size=(1, 1), activation='softmax', name='out_1')(hc1)\n",
        "\n",
        "\n",
        "    # Layer 3\n",
        "    ieg_path2 = ieg_block2d(from_contraction[2],exp_inp1 ,128,(1,1),data_format='channels_last')\n",
        "\n",
        "    exp_inp2 = Conv2DTranspose(256, (2, 2), strides=(2, 2), dilation_rate=(1,1), padding='same', kernel_regularizer=regularizers.l2(1e-5))(exp_inp1)\n",
        "    exp_inp2 = Concatenate()([exp_inp2,ieg_path2])\n",
        "    exp_inp2 = res_block_expansion(exp_inp2, [256, 256], [(1, 1), (1, 1)],(2,2))\n",
        "\n",
        "    hc2 = trans_conv_operation_two(exp_inp2)\n",
        "    out_2 = Conv2D(filters=4, kernel_size=(1, 1), activation='softmax', name='out_2')(hc2)\n",
        "\n",
        "\n",
        "    # Layer 2\n",
        "    ieg_path3 = ieg_block2d(from_contraction[1],exp_inp2,64,(1,1),data_format='channels_last')\n",
        "\n",
        "    exp_inp3 = Conv2DTranspose(128, (2, 2), strides=(2, 2), padding='same',dilation_rate=(1,1), kernel_regularizer=regularizers.l2(1e-5)) (exp_inp2)\n",
        "    exp_inp3 = Concatenate()([exp_inp3,ieg_path3])\n",
        "    exp_inp3 = res_block_expansion(exp_inp3, [128, 128], [(1, 1), (1, 1)],(1,1))\n",
        "\n",
        "    hc3 = trans_conv_operation_one(exp_inp3)\n",
        "    out_3 = Conv2D(filters=4, kernel_size=(1, 1), activation='softmax', name='out_3')(hc3)\n",
        "\n",
        "\n",
        "    # Layer 1\n",
        "    ieg_path4 = ieg_block2d(from_contraction[0],exp_inp3,32,(1,1),data_format='channels_last')\n",
        "\n",
        "    exp_inp4 = Conv2DTranspose(64, (2, 2), strides=(2, 2), padding='same',dilation_rate=(1,1),kernel_regularizer=regularizers.l2(1e-5)) (exp_inp3)\n",
        "    exp_inp4 = Concatenate()([exp_inp4,ieg_path4])\n",
        "    exp_inp4 = res_block_expansion(exp_inp4, [64, 64], [(1, 1), (1, 1)],(1,1))\n",
        "\n",
        "    return exp_inp4, out_3, out_2, out_1"
      ]
    },
    {
      "cell_type": "code",
      "execution_count": null,
      "metadata": {
        "id": "7zW8NdlotSOe"
      },
      "outputs": [],
      "source": [
        "def trans_conv_operation(input_val):\n",
        "    tran_x1 = Conv2DTranspose(256, (2, 2), strides=(2, 2), padding='same',dilation_rate=(1,1),kernel_regularizer=regularizers.l2(1e-5)) (input_val)\n",
        "    tran_x2 = Conv2DTranspose(128, (2, 2), strides=(2, 2), padding='same',dilation_rate=(1,1), kernel_regularizer=regularizers.l2(1e-5)) (tran_x1)\n",
        "    tran_x3 = Conv2DTranspose(64, (2, 2), strides=(2, 2), padding='same',dilation_rate=(1,1), kernel_regularizer=regularizers.l2(1e-5)) (tran_x2)\n",
        "    return tran_x3\n",
        "def trans_conv_operation_two(input_val):\n",
        "    tran_x1 = Conv2DTranspose(128, (2, 2), strides=(2, 2), padding='same',dilation_rate=(1,1), kernel_regularizer=regularizers.l2(1e-5))(input_val)\n",
        "    tran_x2 = Conv2DTranspose(64, (2, 2), strides=(2, 2), padding='same',dilation_rate=(1,1) ,kernel_regularizer=regularizers.l2(1e-5))(tran_x1)\n",
        "    return tran_x2\n",
        "def trans_conv_operation_one(input_val):\n",
        "    tran_x1 = Conv2DTranspose(64, (2, 2), strides=(2, 2), padding='same',dilation_rate=(1,1), kernel_regularizer=regularizers.l2(1e-5)) (input_val)\n",
        "    return tran_x1"
      ]
    },
    {
      "cell_type": "code",
      "execution_count": null,
      "metadata": {
        "id": "sgquJ2yK7jum"
      },
      "outputs": [],
      "source": [
        "def hybrid_model(input_shape):\n",
        "    inputs = Input(shape=input_shape)\n",
        "\n",
        "    to_expansion = contraction(inputs)\n",
        "\n",
        "    path = res_block(to_expansion[3], [1024, 1024], [(2, 2), (1, 1)],(8,8))\n",
        "\n",
        "    final_out, out_3, out_2, out_1 = expansion(path, from_contraction=to_expansion)\n",
        "\n",
        "    final_out = Conv2D(filters=4, kernel_size=(1, 1), activation='sigmoid', name='final_output')(final_out)\n",
        "\n",
        "    return Model(inputs=inputs, outputs= [final_out, out_3, out_2, out_1])"
      ]
    },
    {
      "cell_type": "code",
      "execution_count": null,
      "metadata": {
        "id": "9RgxLmds6L1H"
      },
      "outputs": [],
      "source": [
        "def dice_coef_0(y_true, y_pred,smooth=0.000001):\n",
        "    y_true_f = K.flatten(y_true[:,:,:,0])\n",
        "    y_pred_f = K.flatten(y_pred[:,:,:,0])\n",
        "    intersection = K.sum(y_true_f * y_pred_f)\n",
        "    return (2. * intersection + smooth) / (K.sum(y_true_f) + K.sum(y_pred_f) + smooth)\n",
        "\n",
        "def dice_coef_1(y_true, y_pred,smooth=0.000001):\n",
        "    y_true_f = K.flatten(y_true[:,:,:,1])\n",
        "    y_pred_f = K.flatten(y_pred[:,:,:,1])\n",
        "    intersection = K.sum(y_true_f * y_pred_f)\n",
        "    return (2. * intersection + smooth) / (K.sum(y_true_f) + K.sum(y_pred_f) + smooth)\n",
        "\n",
        "def dice_coef_2(y_true, y_pred,smooth=0.000001):\n",
        "    y_true_f = K.flatten(y_true[:,:,:,2])\n",
        "    y_pred_f = K.flatten(y_pred[:,:,:,2])\n",
        "    intersection = K.sum(y_true_f * y_pred_f)\n",
        "    return (2. * intersection + smooth) / (K.sum(y_true_f) + K.sum(y_pred_f) + smooth)\n",
        "\n",
        "def dice_coef_3(y_true, y_pred,smooth=0.000001):\n",
        "    y_true_f = K.flatten(y_true[:,:,:,3])\n",
        "    y_pred_f = K.flatten(y_pred[:,:,:,3])\n",
        "    intersection = K.sum(y_true_f * y_pred_f)\n",
        "    return (2. * intersection + smooth) / (K.sum(y_true_f) + K.sum(y_pred_f) + smooth)\n",
        "\n",
        "def precision(y_true, y_pred):\n",
        "        true_positives = K.sum(K.round(K.clip(y_true * y_pred, 0, 1)))\n",
        "        predicted_positives = K.sum(K.round(K.clip(y_pred, 0, 1)))\n",
        "        precision = true_positives / (predicted_positives + K.epsilon())\n",
        "        return precision\n",
        "\n",
        "def sensitivity(y_true, y_pred):\n",
        "    true_positives = K.sum(K.round(K.clip(y_true * y_pred, 0, 1)))\n",
        "    possible_positives = K.sum(K.round(K.clip(y_true, 0, 1)))\n",
        "    return true_positives / (possible_positives + K.epsilon())\n",
        "\n",
        "def specificity(y_true, y_pred):\n",
        "    true_negatives = K.sum(K.round(K.clip((1-y_true) * (1-y_pred), 0, 1)))\n",
        "    possible_negatives = K.sum(K.round(K.clip(1-y_true, 0, 1)))\n",
        "    return true_negatives / (possible_negatives + K.epsilon())"
      ]
    },
    {
      "cell_type": "code",
      "execution_count": null,
      "metadata": {
        "id": "wG0uBNMw01l7"
      },
      "outputs": [],
      "source": [
        "def dice_score(y_true, y_pred):\n",
        "    d0 = dice_coef_0(y_true, y_pred,smooth=0.000001)\n",
        "    d1 = dice_coef_1(y_true, y_pred,smooth=0.000001)\n",
        "    d2 = dice_coef_2(y_true, y_pred,smooth=0.000001)\n",
        "    d3 = dice_coef_3(y_true, y_pred,smooth=0.000001)\n",
        "\n",
        "    dice_mean = (d0+d1+d2+d3)/4\n",
        "    return dice_mean\n",
        "\n",
        "def weighted_dice_score(y_true, y_pred):\n",
        "    ds0 = dice_coef_0(y_true, y_pred,smooth=0.000001)\n",
        "    ds1 = dice_coef_1(y_true, y_pred,smooth=0.000001)\n",
        "    ds2 = dice_coef_2(y_true, y_pred,smooth=0.000001)\n",
        "    ds3 = dice_coef_3(y_true, y_pred,smooth=0.000001)\n",
        "    weighted_dice_mean = (ds0+(5*ds1)+(2*ds2)+(4*ds3))/12\n",
        "    return weighted_dice_mean\n",
        "\n",
        "def correlation_coefficient_loss(y_true, y_pred):\n",
        "    x = y_true\n",
        "    y = y_pred\n",
        "    mx = K.mean(x)\n",
        "    my = K.mean(y)\n",
        "    xm, ym = x-mx, y-my\n",
        "    r_num = K.sum(xm * ym)\n",
        "    r_den = K.sum(K.sum(K.square(xm)) * K.sum(K.square(ym)))\n",
        "    r = r_num / r_den\n",
        "    return 1 - r**2"
      ]
    },
    {
      "cell_type": "code",
      "execution_count": null,
      "metadata": {
        "id": "rGndL1I1tWSx"
      },
      "outputs": [],
      "source": [
        "def dice_loss(y_true, y_pred):\n",
        "    return 1-dice_score(y_true, y_pred)\n",
        "def weighted_dice_loss(y_true, y_pred):\n",
        "    return 1-weighted_dice_score(y_true, y_pred)"
      ]
    },
    {
      "cell_type": "code",
      "execution_count": null,
      "metadata": {
        "id": "gZW9LvrBnDlc"
      },
      "outputs": [],
      "source": [
        "import tensorflow as tf\n",
        "def weighted_log_loss(y_true, y_pred):\n",
        "    y_pred /= tf.reduce_sum(y_pred, axis=-1, keepdims=True)\n",
        "    y_pred = tf.clip_by_value(y_pred, tf.keras.backend.epsilon(), 1 - tf.keras.backend.epsilon())\n",
        "    weights = tf.constant([1, 5, 2, 4], dtype=tf.float32)\n",
        "    loss = y_true * tf.math.log(y_pred) * weights\n",
        "    loss = tf.reduce_mean(-tf.reduce_sum(loss, -1))\n",
        "    return loss\n"
      ]
    },
    {
      "cell_type": "code",
      "execution_count": null,
      "metadata": {
        "id": "CLv-6ZVynHIa"
      },
      "outputs": [],
      "source": [
        "def corr_dice_loss(y_true, y_pred):\n",
        "    return weighted_dice_loss(y_true, y_pred)+weighted_log_loss(y_true,y_pred)+correlation_coefficient_loss(y_true,y_pred)"
      ]
    },
    {
      "cell_type": "code",
      "execution_count": null,
      "metadata": {
        "id": "9mQ6z4KW8qGx"
      },
      "outputs": [],
      "source": [
        "input_shape = (240,240,4)\n",
        "losses = {\n",
        "    'final_output':corr_dice_loss,\n",
        "    'out_3':corr_dice_loss,\n",
        "    'out_2':corr_dice_loss,\n",
        "    'out_1':corr_dice_loss,\n",
        "}\n",
        "lossWeights = {\"final_output\": 0.5, \"out_3\": 0.125, \"out_2\": 0.125, \"out_1\": 0.125}"
      ]
    },
    {
      "cell_type": "code",
      "source": [
        "batch_size = 64\n",
        "image_size = 240\n",
        "epochs = 100"
      ],
      "metadata": {
        "id": "f7AtUCrcndfz"
      },
      "execution_count": null,
      "outputs": []
    },
    {
      "cell_type": "code",
      "execution_count": null,
      "metadata": {
        "id": "V5MxDnLYvuIP",
        "colab": {
          "base_uri": "https://localhost:8080/"
        },
        "outputId": "fd1975b0-2a46-4569-e380-75dd4aafa94c"
      },
      "outputs": [
        {
          "output_type": "stream",
          "name": "stdout",
          "text": [
            "WARNING:tensorflow:From /tensorflow-1.15.2/python3.7/tensorflow_core/python/ops/resource_variable_ops.py:1630: calling BaseResourceVariable.__init__ (from tensorflow.python.ops.resource_variable_ops) with constraint is deprecated and will be removed in a future version.\n",
            "Instructions for updating:\n",
            "If using Keras pass *_constraint arguments to layers.\n",
            "WARNING:tensorflow:From /tensorflow-1.15.2/python3.7/keras/backend/tensorflow_backend.py:4070: The name tf.nn.max_pool is deprecated. Please use tf.nn.max_pool2d instead.\n",
            "\n"
          ]
        }
      ],
      "source": [
        "model = hybrid_at_onet(input_shape)"
      ]
    },
    {
      "cell_type": "code",
      "execution_count": null,
      "metadata": {
        "id": "gMbA5ClzaS5b"
      },
      "outputs": [],
      "source": [
        "model.compile(optimizer=tf.keras.optimizers.legacy.Adam(lr=0.0001), loss= losses,\n",
        "              metrics=['accuracy',dice_score,precision, sensitivity, specificity])"
      ]
    },
    {
      "cell_type": "code",
      "execution_count": null,
      "metadata": {
        "id": "x6VK7GTg9LQB",
        "colab": {
          "base_uri": "https://localhost:8080/"
        },
        "outputId": "bfb68f3f-77ba-48e0-dc02-c4d1ad2bbc7d"
      },
      "outputs": [
        {
          "output_type": "stream",
          "name": "stdout",
          "text": [
            "WARNING:tensorflow:From /tensorflow-1.15.2/python3.7/tensorflow_core/python/ops/math_grad.py:1375: where (from tensorflow.python.ops.array_ops) is deprecated and will be removed in a future version.\n",
            "Instructions for updating:\n",
            "Use tf.where in 2.0, which has the same broadcast rule as np.where\n",
            "WARNING:tensorflow:From /tensorflow-1.15.2/python3.7/keras/backend/tensorflow_backend.py:422: The name tf.global_variables is deprecated. Please use tf.compat.v1.global_variables instead.\n",
            "\n",
            "Epoch 1/100\n",
            "13/13 [==============================] - 53s 4s/step - loss: 11.1914 - final_output_loss: 2.8498 - out_3_loss: 2.7307 - out_2_loss: 2.7204 - out_1_loss: 2.7735 - final_output_accuracy: 0.6706 - final_output_dice_score: 0.2201 - final_output_precision: 0.4718 - final_output_sensitivity: 0.7789 - final_output_specificity: 0.7227 - out_3_accuracy: 0.8069 - out_3_dice_score: 0.1977 - out_3_precision: 0.8077 - out_3_sensitivity: 0.5866 - out_3_specificity: 0.9793 - out_2_accuracy: 0.7805 - out_2_dice_score: 0.1885 - out_2_precision: 0.8481 - out_2_sensitivity: 0.5454 - out_2_specificity: 0.9902 - out_1_accuracy: 0.7931 - out_1_dice_score: 0.1777 - out_1_precision: 0.8310 - out_1_sensitivity: 0.4610 - out_1_specificity: 0.9959 - val_loss: 12.8851 - val_final_output_loss: 3.2509 - val_out_3_loss: 3.1632 - val_out_2_loss: 3.1800 - val_out_1_loss: 3.1736 - val_final_output_accuracy: 0.7189 - val_final_output_dice_score: 0.1995 - val_final_output_precision: 0.4899 - val_final_output_sensitivity: 0.8445 - val_final_output_specificity: 0.7068 - val_out_3_accuracy: 0.9555 - val_out_3_dice_score: 0.1299 - val_out_3_precision: 0.9042 - val_out_3_sensitivity: 0.0050 - val_out_3_specificity: 0.9998 - val_out_2_accuracy: 0.9767 - val_out_2_dice_score: 0.1281 - val_out_2_precision: 0.0000e+00 - val_out_2_sensitivity: 0.0000e+00 - val_out_2_specificity: 1.0000 - val_out_1_accuracy: 0.9199 - val_out_1_dice_score: 0.1294 - val_out_1_precision: 0.0000e+00 - val_out_1_sensitivity: 0.0000e+00 - val_out_1_specificity: 1.0000\n",
            "Epoch 2/100\n",
            "13/13 [==============================] - 24s 2s/step - loss: 8.3067 - final_output_loss: 2.4011 - out_3_loss: 1.9294 - out_2_loss: 1.9319 - out_1_loss: 1.9272 - final_output_accuracy: 0.7569 - final_output_dice_score: 0.2649 - final_output_precision: 0.5465 - final_output_sensitivity: 0.9975 - final_output_specificity: 0.7240 - out_3_accuracy: 0.9835 - out_3_dice_score: 0.3780 - out_3_precision: 0.9898 - out_3_sensitivity: 0.9768 - out_3_specificity: 0.9965 - out_2_accuracy: 0.9816 - out_2_dice_score: 0.3642 - out_2_precision: 0.9902 - out_2_sensitivity: 0.9757 - out_2_specificity: 0.9966 - out_1_accuracy: 0.9812 - out_1_dice_score: 0.3772 - out_1_precision: 0.9880 - out_1_sensitivity: 0.9765 - out_1_specificity: 0.9959 - val_loss: 10.6451 - val_final_output_loss: 2.9935 - val_out_3_loss: 2.6556 - val_out_2_loss: 2.4350 - val_out_1_loss: 2.4436 - val_final_output_accuracy: 0.7336 - val_final_output_dice_score: 0.2171 - val_final_output_precision: 0.5386 - val_final_output_sensitivity: 0.9983 - val_final_output_specificity: 0.7149 - val_out_3_accuracy: 0.9490 - val_out_3_dice_score: 0.1886 - val_out_3_precision: 0.9998 - val_out_3_sensitivity: 0.7040 - val_out_3_specificity: 1.0000 - val_out_2_accuracy: 0.9340 - val_out_2_dice_score: 0.2225 - val_out_2_precision: 0.9999 - val_out_2_sensitivity: 0.7746 - val_out_2_specificity: 1.0000 - val_out_1_accuracy: 0.9242 - val_out_1_dice_score: 0.2238 - val_out_1_precision: 0.9996 - val_out_1_sensitivity: 0.7864 - val_out_1_specificity: 0.9999\n",
            "Epoch 3/100\n",
            "13/13 [==============================] - 25s 2s/step - loss: 7.7826 - final_output_loss: 2.3319 - out_3_loss: 1.6943 - out_2_loss: 1.8178 - out_1_loss: 1.8215 - final_output_accuracy: 0.7701 - final_output_dice_score: 0.2712 - final_output_precision: 0.5584 - final_output_sensitivity: 0.9989 - final_output_specificity: 0.7364 - out_3_accuracy: 0.9885 - out_3_dice_score: 0.5213 - out_3_precision: 0.9910 - out_3_sensitivity: 0.9860 - out_3_specificity: 0.9970 - out_2_accuracy: 0.9830 - out_2_dice_score: 0.4218 - out_2_precision: 0.9909 - out_2_sensitivity: 0.9783 - out_2_specificity: 0.9968 - out_1_accuracy: 0.9832 - out_1_dice_score: 0.4297 - out_1_precision: 0.9898 - out_1_sensitivity: 0.9794 - out_1_specificity: 0.9965 - val_loss: 9.5691 - val_final_output_loss: 2.7877 - val_out_3_loss: 2.3580 - val_out_2_loss: 2.2337 - val_out_1_loss: 2.0723 - val_final_output_accuracy: 0.7415 - val_final_output_dice_score: 0.2293 - val_final_output_precision: 0.5506 - val_final_output_sensitivity: 0.9989 - val_final_output_specificity: 0.7281 - val_out_3_accuracy: 0.9723 - val_out_3_dice_score: 0.2330 - val_out_3_precision: 0.9992 - val_out_3_sensitivity: 0.8743 - val_out_3_specificity: 0.9998 - val_out_2_accuracy: 0.9499 - val_out_2_dice_score: 0.2557 - val_out_2_precision: 0.9997 - val_out_2_sensitivity: 0.8647 - val_out_2_specificity: 0.9999 - val_out_1_accuracy: 0.9773 - val_out_1_dice_score: 0.2883 - val_out_1_precision: 0.9971 - val_out_1_sensitivity: 0.9393 - val_out_1_specificity: 0.9991\n",
            "Epoch 4/100\n",
            "13/13 [==============================] - 25s 2s/step - loss: 7.4632 - final_output_loss: 2.3060 - out_3_loss: 1.5710 - out_2_loss: 1.7322 - out_1_loss: 1.7369 - final_output_accuracy: 0.7857 - final_output_dice_score: 0.2740 - final_output_precision: 0.5748 - final_output_sensitivity: 0.9990 - final_output_specificity: 0.7532 - out_3_accuracy: 0.9894 - out_3_dice_score: 0.6061 - out_3_precision: 0.9901 - out_3_sensitivity: 0.9884 - out_3_specificity: 0.9967 - out_2_accuracy: 0.9860 - out_2_dice_score: 0.4820 - out_2_precision: 0.9906 - out_2_sensitivity: 0.9822 - out_2_specificity: 0.9967 - out_1_accuracy: 0.9860 - out_1_dice_score: 0.4892 - out_1_precision: 0.9891 - out_1_sensitivity: 0.9834 - out_1_specificity: 0.9963 - val_loss: 8.8390 - val_final_output_loss: 2.6415 - val_out_3_loss: 2.1226 - val_out_2_loss: 2.0134 - val_out_1_loss: 1.9447 - val_final_output_accuracy: 0.7587 - val_final_output_dice_score: 0.2386 - val_final_output_precision: 0.5850 - val_final_output_sensitivity: 0.9989 - val_final_output_specificity: 0.7637 - val_out_3_accuracy: 0.9883 - val_out_3_dice_score: 0.2753 - val_out_3_precision: 0.9959 - val_out_3_sensitivity: 0.9774 - val_out_3_specificity: 0.9987 - val_out_2_accuracy: 0.9855 - val_out_2_dice_score: 0.3074 - val_out_2_precision: 0.9959 - val_out_2_sensitivity: 0.9727 - val_out_2_specificity: 0.9987 - val_out_1_accuracy: 0.9826 - val_out_1_dice_score: 0.3393 - val_out_1_precision: 0.9891 - val_out_1_sensitivity: 0.9780 - val_out_1_specificity: 0.9964\n",
            "Epoch 5/100\n",
            "13/13 [==============================] - 25s 2s/step - loss: 7.2599 - final_output_loss: 2.2444 - out_3_loss: 1.5523 - out_2_loss: 1.6567 - out_1_loss: 1.6895 - final_output_accuracy: 0.8509 - final_output_dice_score: 0.2893 - final_output_precision: 0.6409 - final_output_sensitivity: 0.9985 - final_output_specificity: 0.8123 - out_3_accuracy: 0.9882 - out_3_dice_score: 0.6299 - out_3_precision: 0.9888 - out_3_sensitivity: 0.9871 - out_3_specificity: 0.9962 - out_2_accuracy: 0.9847 - out_2_dice_score: 0.5495 - out_2_precision: 0.9866 - out_2_sensitivity: 0.9825 - out_2_specificity: 0.9955 - out_1_accuracy: 0.9838 - out_1_dice_score: 0.5310 - out_1_precision: 0.9855 - out_1_sensitivity: 0.9820 - out_1_specificity: 0.9951 - val_loss: 8.6539 - val_final_output_loss: 2.5274 - val_out_3_loss: 2.0384 - val_out_2_loss: 1.9911 - val_out_1_loss: 1.9801 - val_final_output_accuracy: 0.8443 - val_final_output_dice_score: 0.2441 - val_final_output_precision: 0.7130 - val_final_output_sensitivity: 0.9958 - val_final_output_specificity: 0.8660 - val_out_3_accuracy: 0.9877 - val_out_3_dice_score: 0.3048 - val_out_3_precision: 0.9928 - val_out_3_sensitivity: 0.9825 - val_out_3_specificity: 0.9976 - val_out_2_accuracy: 0.9848 - val_out_2_dice_score: 0.3225 - val_out_2_precision: 0.9903 - val_out_2_sensitivity: 0.9810 - val_out_2_specificity: 0.9968 - val_out_1_accuracy: 0.9814 - val_out_1_dice_score: 0.3395 - val_out_1_precision: 0.9841 - val_out_1_sensitivity: 0.9805 - val_out_1_specificity: 0.9947\n",
            "Epoch 6/100\n",
            "13/13 [==============================] - 25s 2s/step - loss: 6.7139 - final_output_loss: 2.0627 - out_3_loss: 1.4320 - out_2_loss: 1.5326 - out_1_loss: 1.5695 - final_output_accuracy: 0.9456 - final_output_dice_score: 0.3813 - final_output_precision: 0.7723 - final_output_sensitivity: 0.9948 - final_output_specificity: 0.9005 - out_3_accuracy: 0.9898 - out_3_dice_score: 0.7244 - out_3_precision: 0.9902 - out_3_sensitivity: 0.9889 - out_3_specificity: 0.9967 - out_2_accuracy: 0.9872 - out_2_dice_score: 0.6539 - out_2_precision: 0.9878 - out_2_sensitivity: 0.9859 - out_2_specificity: 0.9959 - out_1_accuracy: 0.9860 - out_1_dice_score: 0.6296 - out_1_precision: 0.9865 - out_1_sensitivity: 0.9848 - out_1_specificity: 0.9955 - val_loss: 8.3329 - val_final_output_loss: 2.3428 - val_out_3_loss: 1.9706 - val_out_2_loss: 1.9584 - val_out_1_loss: 1.9446 - val_final_output_accuracy: 0.9587 - val_final_output_dice_score: 0.2551 - val_final_output_precision: 0.8255 - val_final_output_sensitivity: 0.9866 - val_final_output_specificity: 0.9304 - val_out_3_accuracy: 0.9861 - val_out_3_dice_score: 0.3368 - val_out_3_precision: 0.9939 - val_out_3_sensitivity: 0.9751 - val_out_3_specificity: 0.9980 - val_out_2_accuracy: 0.9837 - val_out_2_dice_score: 0.3399 - val_out_2_precision: 0.9926 - val_out_2_sensitivity: 0.9744 - val_out_2_specificity: 0.9976 - val_out_1_accuracy: 0.9820 - val_out_1_dice_score: 0.3594 - val_out_1_precision: 0.9860 - val_out_1_sensitivity: 0.9804 - val_out_1_specificity: 0.9954\n",
            "Epoch 7/100\n",
            "13/13 [==============================] - 25s 2s/step - loss: 6.5098 - final_output_loss: 1.7914 - out_3_loss: 1.4651 - out_2_loss: 1.5548 - out_1_loss: 1.5817 - final_output_accuracy: 0.9814 - final_output_dice_score: 0.4791 - final_output_precision: 0.9441 - final_output_sensitivity: 0.9889 - final_output_specificity: 0.9800 - out_3_accuracy: 0.9905 - out_3_dice_score: 0.6952 - out_3_precision: 0.9905 - out_3_sensitivity: 0.9897 - out_3_specificity: 0.9968 - out_2_accuracy: 0.9883 - out_2_dice_score: 0.6306 - out_2_precision: 0.9886 - out_2_sensitivity: 0.9874 - out_2_specificity: 0.9962 - out_1_accuracy: 0.9877 - out_1_dice_score: 0.6085 - out_1_precision: 0.9880 - out_1_sensitivity: 0.9867 - out_1_specificity: 0.9960 - val_loss: 8.1754 - val_final_output_loss: 2.1451 - val_out_3_loss: 1.9525 - val_out_2_loss: 1.9674 - val_out_1_loss: 1.9936 - val_final_output_accuracy: 0.9853 - val_final_output_dice_score: 0.2673 - val_final_output_precision: 0.9895 - val_final_output_sensitivity: 0.9773 - val_final_output_specificity: 0.9965 - val_out_3_accuracy: 0.9882 - val_out_3_dice_score: 0.3503 - val_out_3_precision: 0.9918 - val_out_3_sensitivity: 0.9842 - val_out_3_specificity: 0.9973 - val_out_2_accuracy: 0.9871 - val_out_2_dice_score: 0.3366 - val_out_2_precision: 0.9913 - val_out_2_sensitivity: 0.9833 - val_out_2_specificity: 0.9971 - val_out_1_accuracy: 0.9814 - val_out_1_dice_score: 0.3512 - val_out_1_precision: 0.9840 - val_out_1_sensitivity: 0.9806 - val_out_1_specificity: 0.9947\n",
            "Epoch 8/100\n",
            "13/13 [==============================] - 25s 2s/step - loss: 6.0442 - final_output_loss: 1.5245 - out_3_loss: 1.3907 - out_2_loss: 1.4797 - out_1_loss: 1.5325 - final_output_accuracy: 0.9865 - final_output_dice_score: 0.6444 - final_output_precision: 0.9785 - final_output_sensitivity: 0.9847 - final_output_specificity: 0.9928 - out_3_accuracy: 0.9910 - out_3_dice_score: 0.7565 - out_3_precision: 0.9910 - out_3_sensitivity: 0.9901 - out_3_specificity: 0.9970 - out_2_accuracy: 0.9884 - out_2_dice_score: 0.7052 - out_2_precision: 0.9885 - out_2_sensitivity: 0.9873 - out_2_specificity: 0.9962 - out_1_accuracy: 0.9869 - out_1_dice_score: 0.6750 - out_1_precision: 0.9869 - out_1_sensitivity: 0.9860 - out_1_specificity: 0.9956 - val_loss: 7.7622 - val_final_output_loss: 2.0241 - val_out_3_loss: 1.8877 - val_out_2_loss: 1.8393 - val_out_1_loss: 1.8952 - val_final_output_accuracy: 0.9778 - val_final_output_dice_score: 0.3138 - val_final_output_precision: 0.9833 - val_final_output_sensitivity: 0.9580 - val_final_output_specificity: 0.9946 - val_out_3_accuracy: 0.9847 - val_out_3_dice_score: 0.3886 - val_out_3_precision: 0.9890 - val_out_3_sensitivity: 0.9802 - val_out_3_specificity: 0.9964 - val_out_2_accuracy: 0.9869 - val_out_2_dice_score: 0.4144 - val_out_2_precision: 0.9910 - val_out_2_sensitivity: 0.9833 - val_out_2_specificity: 0.9970 - val_out_1_accuracy: 0.9837 - val_out_1_dice_score: 0.4024 - val_out_1_precision: 0.9865 - val_out_1_sensitivity: 0.9823 - val_out_1_specificity: 0.9955\n",
            "Epoch 9/100\n",
            "13/13 [==============================] - 32s 2s/step - loss: 5.9825 - final_output_loss: 1.4842 - out_3_loss: 1.3972 - out_2_loss: 1.4826 - out_1_loss: 1.5030 - final_output_accuracy: 0.9888 - final_output_dice_score: 0.6634 - final_output_precision: 0.9852 - final_output_sensitivity: 0.9791 - final_output_specificity: 0.9951 - out_3_accuracy: 0.9911 - out_3_dice_score: 0.7366 - out_3_precision: 0.9912 - out_3_sensitivity: 0.9905 - out_3_specificity: 0.9971 - out_2_accuracy: 0.9891 - out_2_dice_score: 0.6798 - out_2_precision: 0.9895 - out_2_sensitivity: 0.9884 - out_2_specificity: 0.9965 - out_1_accuracy: 0.9882 - out_1_dice_score: 0.6679 - out_1_precision: 0.9884 - out_1_sensitivity: 0.9876 - out_1_specificity: 0.9961 - val_loss: 7.6097 - val_final_output_loss: 1.9404 - val_out_3_loss: 1.8013 - val_out_2_loss: 1.7679 - val_out_1_loss: 1.9843 - val_final_output_accuracy: 0.9865 - val_final_output_dice_score: 0.3545 - val_final_output_precision: 0.9919 - val_final_output_sensitivity: 0.9658 - val_final_output_specificity: 0.9974 - val_out_3_accuracy: 0.9883 - val_out_3_dice_score: 0.4454 - val_out_3_precision: 0.9903 - val_out_3_sensitivity: 0.9866 - val_out_3_specificity: 0.9968 - val_out_2_accuracy: 0.9877 - val_out_2_dice_score: 0.4685 - val_out_2_precision: 0.9909 - val_out_2_sensitivity: 0.9854 - val_out_2_specificity: 0.9970 - val_out_1_accuracy: 0.9820 - val_out_1_dice_score: 0.3700 - val_out_1_precision: 0.9840 - val_out_1_sensitivity: 0.9812 - val_out_1_specificity: 0.9947\n",
            "Epoch 10/100\n",
            "13/13 [==============================] - 25s 2s/step - loss: 6.1390 - final_output_loss: 1.5066 - out_3_loss: 1.4405 - out_2_loss: 1.5143 - out_1_loss: 1.5608 - final_output_accuracy: 0.9888 - final_output_dice_score: 0.6537 - final_output_precision: 0.9862 - final_output_sensitivity: 0.9792 - final_output_specificity: 0.9954 - out_3_accuracy: 0.9909 - out_3_dice_score: 0.7107 - out_3_precision: 0.9909 - out_3_sensitivity: 0.9902 - out_3_specificity: 0.9970 - out_2_accuracy: 0.9881 - out_2_dice_score: 0.6526 - out_2_precision: 0.9885 - out_2_sensitivity: 0.9872 - out_2_specificity: 0.9962 - out_1_accuracy: 0.9880 - out_1_dice_score: 0.6368 - out_1_precision: 0.9881 - out_1_sensitivity: 0.9873 - out_1_specificity: 0.9960 - val_loss: 7.0329 - val_final_output_loss: 1.7445 - val_out_3_loss: 1.6439 - val_out_2_loss: 1.7256 - val_out_1_loss: 1.8041 - val_final_output_accuracy: 0.9875 - val_final_output_dice_score: 0.4665 - val_final_output_precision: 0.9880 - val_final_output_sensitivity: 0.9743 - val_final_output_specificity: 0.9961 - val_out_3_accuracy: 0.9914 - val_out_3_dice_score: 0.5522 - val_out_3_precision: 0.9930 - val_out_3_sensitivity: 0.9902 - val_out_3_specificity: 0.9977 - val_out_2_accuracy: 0.9890 - val_out_2_dice_score: 0.4896 - val_out_2_precision: 0.9919 - val_out_2_sensitivity: 0.9868 - val_out_2_specificity: 0.9973 - val_out_1_accuracy: 0.9858 - val_out_1_dice_score: 0.4571 - val_out_1_precision: 0.9883 - val_out_1_sensitivity: 0.9841 - val_out_1_specificity: 0.9961\n",
            "Epoch 11/100\n",
            "13/13 [==============================] - 25s 2s/step - loss: 5.8543 - final_output_loss: 1.4149 - out_3_loss: 1.3646 - out_2_loss: 1.4557 - out_1_loss: 1.5024 - final_output_accuracy: 0.9919 - final_output_dice_score: 0.7094 - final_output_precision: 0.9874 - final_output_sensitivity: 0.9877 - final_output_specificity: 0.9958 - out_3_accuracy: 0.9927 - out_3_dice_score: 0.7630 - out_3_precision: 0.9926 - out_3_sensitivity: 0.9922 - out_3_specificity: 0.9975 - out_2_accuracy: 0.9906 - out_2_dice_score: 0.7011 - out_2_precision: 0.9907 - out_2_sensitivity: 0.9898 - out_2_specificity: 0.9969 - out_1_accuracy: 0.9894 - out_1_dice_score: 0.6753 - out_1_precision: 0.9895 - out_1_sensitivity: 0.9887 - out_1_specificity: 0.9965 - val_loss: 7.1817 - val_final_output_loss: 1.8052 - val_out_3_loss: 1.7045 - val_out_2_loss: 1.7306 - val_out_1_loss: 1.8263 - val_final_output_accuracy: 0.9860 - val_final_output_dice_score: 0.4345 - val_final_output_precision: 0.9924 - val_final_output_sensitivity: 0.9598 - val_final_output_specificity: 0.9976 - val_out_3_accuracy: 0.9842 - val_out_3_dice_score: 0.5077 - val_out_3_precision: 0.9863 - val_out_3_sensitivity: 0.9822 - val_out_3_specificity: 0.9955 - val_out_2_accuracy: 0.9875 - val_out_2_dice_score: 0.4929 - val_out_2_precision: 0.9900 - val_out_2_sensitivity: 0.9855 - val_out_2_specificity: 0.9967 - val_out_1_accuracy: 0.9851 - val_out_1_dice_score: 0.4600 - val_out_1_precision: 0.9868 - val_out_1_sensitivity: 0.9842 - val_out_1_specificity: 0.9956\n",
            "Epoch 12/100\n",
            "13/13 [==============================] - 25s 2s/step - loss: 6.1452 - final_output_loss: 1.4615 - out_3_loss: 1.4589 - out_2_loss: 1.5488 - out_1_loss: 1.5594 - final_output_accuracy: 0.9911 - final_output_dice_score: 0.6744 - final_output_precision: 0.9900 - final_output_sensitivity: 0.9791 - final_output_specificity: 0.9967 - out_3_accuracy: 0.9907 - out_3_dice_score: 0.6783 - out_3_precision: 0.9908 - out_3_sensitivity: 0.9901 - out_3_specificity: 0.9969 - out_2_accuracy: 0.9881 - out_2_dice_score: 0.6228 - out_2_precision: 0.9884 - out_2_sensitivity: 0.9873 - out_2_specificity: 0.9961 - out_1_accuracy: 0.9885 - out_1_dice_score: 0.6164 - out_1_precision: 0.9887 - out_1_sensitivity: 0.9879 - out_1_specificity: 0.9962 - val_loss: 7.8340 - val_final_output_loss: 1.9457 - val_out_3_loss: 1.8271 - val_out_2_loss: 1.8827 - val_out_1_loss: 2.0624 - val_final_output_accuracy: 0.9884 - val_final_output_dice_score: 0.3688 - val_final_output_precision: 0.9958 - val_final_output_sensitivity: 0.9700 - val_final_output_specificity: 0.9986 - val_out_3_accuracy: 0.9891 - val_out_3_dice_score: 0.4746 - val_out_3_precision: 0.9897 - val_out_3_sensitivity: 0.9888 - val_out_3_specificity: 0.9966 - val_out_2_accuracy: 0.9855 - val_out_2_dice_score: 0.4404 - val_out_2_precision: 0.9866 - val_out_2_sensitivity: 0.9849 - val_out_2_specificity: 0.9955 - val_out_1_accuracy: 0.9817 - val_out_1_dice_score: 0.3552 - val_out_1_precision: 0.9826 - val_out_1_sensitivity: 0.9815 - val_out_1_specificity: 0.9942\n",
            "Epoch 13/100\n",
            "13/13 [==============================] - 25s 2s/step - loss: 5.8390 - final_output_loss: 1.3907 - out_3_loss: 1.3744 - out_2_loss: 1.4698 - out_1_loss: 1.4875 - final_output_accuracy: 0.9909 - final_output_dice_score: 0.7249 - final_output_precision: 0.9915 - final_output_sensitivity: 0.9805 - final_output_specificity: 0.9972 - out_3_accuracy: 0.9917 - out_3_dice_score: 0.7517 - out_3_precision: 0.9916 - out_3_sensitivity: 0.9912 - out_3_specificity: 0.9972 - out_2_accuracy: 0.9893 - out_2_dice_score: 0.6882 - out_2_precision: 0.9895 - out_2_sensitivity: 0.9886 - out_2_specificity: 0.9965 - out_1_accuracy: 0.9891 - out_1_dice_score: 0.6810 - out_1_precision: 0.9892 - out_1_sensitivity: 0.9885 - out_1_specificity: 0.9964 - val_loss: 7.1560 - val_final_output_loss: 1.7509 - val_out_3_loss: 1.7223 - val_out_2_loss: 1.7518 - val_out_1_loss: 1.8163 - val_final_output_accuracy: 0.9806 - val_final_output_dice_score: 0.4790 - val_final_output_precision: 0.9886 - val_final_output_sensitivity: 0.9478 - val_final_output_specificity: 0.9964 - val_out_3_accuracy: 0.9831 - val_out_3_dice_score: 0.5178 - val_out_3_precision: 0.9837 - val_out_3_sensitivity: 0.9827 - val_out_3_specificity: 0.9946 - val_out_2_accuracy: 0.9835 - val_out_2_dice_score: 0.4926 - val_out_2_precision: 0.9848 - val_out_2_sensitivity: 0.9826 - val_out_2_specificity: 0.9949 - val_out_1_accuracy: 0.9861 - val_out_1_dice_score: 0.4780 - val_out_1_precision: 0.9866 - val_out_1_sensitivity: 0.9859 - val_out_1_specificity: 0.9955\n",
            "Epoch 14/100\n",
            "13/13 [==============================] - 25s 2s/step - loss: 5.7947 - final_output_loss: 1.3804 - out_3_loss: 1.3590 - out_2_loss: 1.4509 - out_1_loss: 1.4880 - final_output_accuracy: 0.9907 - final_output_dice_score: 0.7562 - final_output_precision: 0.9885 - final_output_sensitivity: 0.9859 - final_output_specificity: 0.9961 - out_3_accuracy: 0.9915 - out_3_dice_score: 0.7840 - out_3_precision: 0.9912 - out_3_sensitivity: 0.9907 - out_3_specificity: 0.9971 - out_2_accuracy: 0.9888 - out_2_dice_score: 0.7255 - out_2_precision: 0.9889 - out_2_sensitivity: 0.9879 - out_2_specificity: 0.9963 - out_1_accuracy: 0.9874 - out_1_dice_score: 0.7026 - out_1_precision: 0.9874 - out_1_sensitivity: 0.9866 - out_1_specificity: 0.9958 - val_loss: 6.9856 - val_final_output_loss: 1.7009 - val_out_3_loss: 1.6564 - val_out_2_loss: 1.7446 - val_out_1_loss: 1.7694 - val_final_output_accuracy: 0.9844 - val_final_output_dice_score: 0.5205 - val_final_output_precision: 0.9901 - val_final_output_sensitivity: 0.9565 - val_final_output_specificity: 0.9968 - val_out_3_accuracy: 0.9858 - val_out_3_dice_score: 0.5623 - val_out_3_precision: 0.9863 - val_out_3_sensitivity: 0.9855 - val_out_3_specificity: 0.9954 - val_out_2_accuracy: 0.9851 - val_out_2_dice_score: 0.5007 - val_out_2_precision: 0.9862 - val_out_2_sensitivity: 0.9843 - val_out_2_specificity: 0.9954 - val_out_1_accuracy: 0.9870 - val_out_1_dice_score: 0.4995 - val_out_1_precision: 0.9877 - val_out_1_sensitivity: 0.9866 - val_out_1_specificity: 0.9959\n",
            "Epoch 15/100\n",
            "13/13 [==============================] - 25s 2s/step - loss: 5.5891 - final_output_loss: 1.3346 - out_3_loss: 1.3050 - out_2_loss: 1.4001 - out_1_loss: 1.4331 - final_output_accuracy: 0.9934 - final_output_dice_score: 0.7702 - final_output_precision: 0.9934 - final_output_sensitivity: 0.9862 - final_output_specificity: 0.9978 - out_3_accuracy: 0.9939 - out_3_dice_score: 0.8025 - out_3_precision: 0.9936 - out_3_sensitivity: 0.9933 - out_3_specificity: 0.9979 - out_2_accuracy: 0.9920 - out_2_dice_score: 0.7409 - out_2_precision: 0.9920 - out_2_sensitivity: 0.9914 - out_2_specificity: 0.9973 - out_1_accuracy: 0.9909 - out_1_dice_score: 0.7177 - out_1_precision: 0.9908 - out_1_sensitivity: 0.9902 - out_1_specificity: 0.9969 - val_loss: 7.1370 - val_final_output_loss: 1.7634 - val_out_3_loss: 1.7111 - val_out_2_loss: 1.7336 - val_out_1_loss: 1.8142 - val_final_output_accuracy: 0.9872 - val_final_output_dice_score: 0.4971 - val_final_output_precision: 0.9948 - val_final_output_sensitivity: 0.9484 - val_final_output_specificity: 0.9984 - val_out_3_accuracy: 0.9859 - val_out_3_dice_score: 0.5397 - val_out_3_precision: 0.9863 - val_out_3_sensitivity: 0.9857 - val_out_3_specificity: 0.9954 - val_out_2_accuracy: 0.9857 - val_out_2_dice_score: 0.5171 - val_out_2_precision: 0.9864 - val_out_2_sensitivity: 0.9852 - val_out_2_specificity: 0.9955 - val_out_1_accuracy: 0.9867 - val_out_1_dice_score: 0.4894 - val_out_1_precision: 0.9874 - val_out_1_sensitivity: 0.9864 - val_out_1_specificity: 0.9958\n",
            "Epoch 16/100\n",
            "13/13 [==============================] - 25s 2s/step - loss: 5.8592 - final_output_loss: 1.3938 - out_3_loss: 1.3790 - out_2_loss: 1.4667 - out_1_loss: 1.5035 - final_output_accuracy: 0.9911 - final_output_dice_score: 0.7281 - final_output_precision: 0.9919 - final_output_sensitivity: 0.9789 - final_output_specificity: 0.9973 - out_3_accuracy: 0.9918 - out_3_dice_score: 0.7461 - out_3_precision: 0.9917 - out_3_sensitivity: 0.9912 - out_3_specificity: 0.9972 - out_2_accuracy: 0.9894 - out_2_dice_score: 0.6858 - out_2_precision: 0.9896 - out_2_sensitivity: 0.9885 - out_2_specificity: 0.9965 - out_1_accuracy: 0.9890 - out_1_dice_score: 0.6631 - out_1_precision: 0.9892 - out_1_sensitivity: 0.9882 - out_1_specificity: 0.9964 - val_loss: 7.7676 - val_final_output_loss: 1.8824 - val_out_3_loss: 1.8849 - val_out_2_loss: 1.9290 - val_out_1_loss: 1.9551 - val_final_output_accuracy: 0.9894 - val_final_output_dice_score: 0.4613 - val_final_output_precision: 0.9948 - val_final_output_sensitivity: 0.9713 - val_final_output_specificity: 0.9983 - val_out_3_accuracy: 0.9884 - val_out_3_dice_score: 0.4812 - val_out_3_precision: 0.9885 - val_out_3_sensitivity: 0.9883 - val_out_3_specificity: 0.9962 - val_out_2_accuracy: 0.9879 - val_out_2_dice_score: 0.4615 - val_out_2_precision: 0.9881 - val_out_2_sensitivity: 0.9878 - val_out_2_specificity: 0.9960 - val_out_1_accuracy: 0.9852 - val_out_1_dice_score: 0.4244 - val_out_1_precision: 0.9855 - val_out_1_sensitivity: 0.9851 - val_out_1_specificity: 0.9952\n",
            "Epoch 17/100\n",
            "13/13 [==============================] - 25s 2s/step - loss: 5.7432 - final_output_loss: 1.3422 - out_3_loss: 1.3443 - out_2_loss: 1.4514 - out_1_loss: 1.4936 - final_output_accuracy: 0.9927 - final_output_dice_score: 0.7682 - final_output_precision: 0.9933 - final_output_sensitivity: 0.9862 - final_output_specificity: 0.9977 - out_3_accuracy: 0.9926 - out_3_dice_score: 0.7811 - out_3_precision: 0.9922 - out_3_sensitivity: 0.9918 - out_3_specificity: 0.9974 - out_2_accuracy: 0.9901 - out_2_dice_score: 0.7123 - out_2_precision: 0.9901 - out_2_sensitivity: 0.9892 - out_2_specificity: 0.9967 - out_1_accuracy: 0.9887 - out_1_dice_score: 0.6845 - out_1_precision: 0.9886 - out_1_sensitivity: 0.9879 - out_1_specificity: 0.9962 - val_loss: 6.5850 - val_final_output_loss: 1.6211 - val_out_3_loss: 1.6058 - val_out_2_loss: 1.6184 - val_out_1_loss: 1.6265 - val_final_output_accuracy: 0.9789 - val_final_output_dice_score: 0.5755 - val_final_output_precision: 0.9856 - val_final_output_sensitivity: 0.9518 - val_final_output_specificity: 0.9954 - val_out_3_accuracy: 0.9811 - val_out_3_dice_score: 0.5953 - val_out_3_precision: 0.9816 - val_out_3_sensitivity: 0.9807 - val_out_3_specificity: 0.9939 - val_out_2_accuracy: 0.9844 - val_out_2_dice_score: 0.5787 - val_out_2_precision: 0.9854 - val_out_2_sensitivity: 0.9838 - val_out_2_specificity: 0.9952 - val_out_1_accuracy: 0.9885 - val_out_1_dice_score: 0.5836 - val_out_1_precision: 0.9894 - val_out_1_sensitivity: 0.9879 - val_out_1_specificity: 0.9965\n",
            "Epoch 18/100\n",
            "13/13 [==============================] - 25s 2s/step - loss: 5.5665 - final_output_loss: 1.3054 - out_3_loss: 1.3046 - out_2_loss: 1.3988 - out_1_loss: 1.4417 - final_output_accuracy: 0.9937 - final_output_dice_score: 0.7953 - final_output_precision: 0.9944 - final_output_sensitivity: 0.9880 - final_output_specificity: 0.9981 - out_3_accuracy: 0.9937 - out_3_dice_score: 0.8068 - out_3_precision: 0.9935 - out_3_sensitivity: 0.9931 - out_3_specificity: 0.9978 - out_2_accuracy: 0.9917 - out_2_dice_score: 0.7421 - out_2_precision: 0.9916 - out_2_sensitivity: 0.9910 - out_2_specificity: 0.9972 - out_1_accuracy: 0.9906 - out_1_dice_score: 0.7167 - out_1_precision: 0.9906 - out_1_sensitivity: 0.9900 - out_1_specificity: 0.9969 - val_loss: 6.8187 - val_final_output_loss: 1.6378 - val_out_3_loss: 1.6461 - val_out_2_loss: 1.6773 - val_out_1_loss: 1.7437 - val_final_output_accuracy: 0.9775 - val_final_output_dice_score: 0.5718 - val_final_output_precision: 0.9853 - val_final_output_sensitivity: 0.9469 - val_final_output_specificity: 0.9953 - val_out_3_accuracy: 0.9797 - val_out_3_dice_score: 0.5758 - val_out_3_precision: 0.9800 - val_out_3_sensitivity: 0.9794 - val_out_3_specificity: 0.9934 - val_out_2_accuracy: 0.9857 - val_out_2_dice_score: 0.5619 - val_out_2_precision: 0.9862 - val_out_2_sensitivity: 0.9854 - val_out_2_specificity: 0.9954 - val_out_1_accuracy: 0.9854 - val_out_1_dice_score: 0.5191 - val_out_1_precision: 0.9859 - val_out_1_sensitivity: 0.9851 - val_out_1_specificity: 0.9953\n",
            "Epoch 19/100\n",
            "13/13 [==============================] - 25s 2s/step - loss: 5.3945 - final_output_loss: 1.2713 - out_3_loss: 1.2592 - out_2_loss: 1.3529 - out_1_loss: 1.3952 - final_output_accuracy: 0.9938 - final_output_dice_score: 0.8132 - final_output_precision: 0.9948 - final_output_sensitivity: 0.9859 - final_output_specificity: 0.9983 - out_3_accuracy: 0.9940 - out_3_dice_score: 0.8281 - out_3_precision: 0.9938 - out_3_sensitivity: 0.9934 - out_3_specificity: 0.9979 - out_2_accuracy: 0.9920 - out_2_dice_score: 0.7677 - out_2_precision: 0.9919 - out_2_sensitivity: 0.9912 - out_2_specificity: 0.9973 - out_1_accuracy: 0.9908 - out_1_dice_score: 0.7413 - out_1_precision: 0.9907 - out_1_sensitivity: 0.9901 - out_1_specificity: 0.9969 - val_loss: 7.2889 - val_final_output_loss: 1.7700 - val_out_3_loss: 1.7464 - val_out_2_loss: 1.8246 - val_out_1_loss: 1.8326 - val_final_output_accuracy: 0.9900 - val_final_output_dice_score: 0.5370 - val_final_output_precision: 0.9947 - val_final_output_sensitivity: 0.9775 - val_final_output_specificity: 0.9983 - val_out_3_accuracy: 0.9901 - val_out_3_dice_score: 0.5668 - val_out_3_precision: 0.9904 - val_out_3_sensitivity: 0.9900 - val_out_3_specificity: 0.9968 - val_out_2_accuracy: 0.9887 - val_out_2_dice_score: 0.5248 - val_out_2_precision: 0.9891 - val_out_2_sensitivity: 0.9885 - val_out_2_specificity: 0.9964 - val_out_1_accuracy: 0.9877 - val_out_1_dice_score: 0.4942 - val_out_1_precision: 0.9882 - val_out_1_sensitivity: 0.9875 - val_out_1_specificity: 0.9961\n",
            "Epoch 20/100\n",
            "13/13 [==============================] - 25s 2s/step - loss: 5.4507 - final_output_loss: 1.2661 - out_3_loss: 1.2667 - out_2_loss: 1.3823 - out_1_loss: 1.4197 - final_output_accuracy: 0.9930 - final_output_dice_score: 0.8179 - final_output_precision: 0.9941 - final_output_sensitivity: 0.9857 - final_output_specificity: 0.9980 - out_3_accuracy: 0.9932 - out_3_dice_score: 0.8266 - out_3_precision: 0.9929 - out_3_sensitivity: 0.9925 - out_3_specificity: 0.9976 - out_2_accuracy: 0.9905 - out_2_dice_score: 0.7542 - out_2_precision: 0.9904 - out_2_sensitivity: 0.9898 - out_2_specificity: 0.9968 - out_1_accuracy: 0.9891 - out_1_dice_score: 0.7299 - out_1_precision: 0.9891 - out_1_sensitivity: 0.9884 - out_1_specificity: 0.9963 - val_loss: 6.9268 - val_final_output_loss: 1.6926 - val_out_3_loss: 1.6969 - val_out_2_loss: 1.6971 - val_out_1_loss: 1.7263 - val_final_output_accuracy: 0.9724 - val_final_output_dice_score: 0.5538 - val_final_output_precision: 0.9808 - val_final_output_sensitivity: 0.9401 - val_final_output_specificity: 0.9939 - val_out_3_accuracy: 0.9739 - val_out_3_dice_score: 0.5585 - val_out_3_precision: 0.9742 - val_out_3_sensitivity: 0.9737 - val_out_3_specificity: 0.9914 - val_out_2_accuracy: 0.9830 - val_out_2_dice_score: 0.5536 - val_out_2_precision: 0.9835 - val_out_2_sensitivity: 0.9828 - val_out_2_specificity: 0.9945 - val_out_1_accuracy: 0.9837 - val_out_1_dice_score: 0.5302 - val_out_1_precision: 0.9843 - val_out_1_sensitivity: 0.9833 - val_out_1_specificity: 0.9948\n",
            "Epoch 21/100\n",
            "13/13 [==============================] - 25s 2s/step - loss: 5.4008 - final_output_loss: 1.2595 - out_3_loss: 1.2568 - out_2_loss: 1.3599 - out_1_loss: 1.4089 - final_output_accuracy: 0.9944 - final_output_dice_score: 0.8207 - final_output_precision: 0.9954 - final_output_sensitivity: 0.9878 - final_output_specificity: 0.9984 - out_3_accuracy: 0.9944 - out_3_dice_score: 0.8318 - out_3_precision: 0.9941 - out_3_sensitivity: 0.9938 - out_3_specificity: 0.9980 - out_2_accuracy: 0.9922 - out_2_dice_score: 0.7626 - out_2_precision: 0.9922 - out_2_sensitivity: 0.9915 - out_2_specificity: 0.9974 - out_1_accuracy: 0.9908 - out_1_dice_score: 0.7307 - out_1_precision: 0.9908 - out_1_sensitivity: 0.9901 - out_1_specificity: 0.9969 - val_loss: 6.5787 - val_final_output_loss: 1.5875 - val_out_3_loss: 1.5968 - val_out_2_loss: 1.5944 - val_out_1_loss: 1.6869 - val_final_output_accuracy: 0.9766 - val_final_output_dice_score: 0.6148 - val_final_output_precision: 0.9814 - val_final_output_sensitivity: 0.9581 - val_final_output_specificity: 0.9940 - val_out_3_accuracy: 0.9793 - val_out_3_dice_score: 0.6203 - val_out_3_precision: 0.9795 - val_out_3_sensitivity: 0.9791 - val_out_3_specificity: 0.9932 - val_out_2_accuracy: 0.9852 - val_out_2_dice_score: 0.6147 - val_out_2_precision: 0.9856 - val_out_2_sensitivity: 0.9849 - val_out_2_specificity: 0.9952 - val_out_1_accuracy: 0.9885 - val_out_1_dice_score: 0.5702 - val_out_1_precision: 0.9888 - val_out_1_sensitivity: 0.9883 - val_out_1_specificity: 0.9963\n",
            "Epoch 22/100\n",
            "13/13 [==============================] - 25s 2s/step - loss: 5.4076 - final_output_loss: 1.2696 - out_3_loss: 1.2669 - out_2_loss: 1.3678 - out_1_loss: 1.3877 - final_output_accuracy: 0.9939 - final_output_dice_score: 0.8086 - final_output_precision: 0.9950 - final_output_sensitivity: 0.9864 - final_output_specificity: 0.9983 - out_3_accuracy: 0.9943 - out_3_dice_score: 0.8180 - out_3_precision: 0.9940 - out_3_sensitivity: 0.9939 - out_3_specificity: 0.9980 - out_2_accuracy: 0.9928 - out_2_dice_score: 0.7540 - out_2_precision: 0.9927 - out_2_sensitivity: 0.9923 - out_2_specificity: 0.9976 - out_1_accuracy: 0.9919 - out_1_dice_score: 0.7368 - out_1_precision: 0.9917 - out_1_sensitivity: 0.9913 - out_1_specificity: 0.9972 - val_loss: 6.1817 - val_final_output_loss: 1.4807 - val_out_3_loss: 1.4601 - val_out_2_loss: 1.5185 - val_out_1_loss: 1.6103 - val_final_output_accuracy: 0.9932 - val_final_output_dice_score: 0.6923 - val_final_output_precision: 0.9956 - val_final_output_sensitivity: 0.9865 - val_final_output_specificity: 0.9986 - val_out_3_accuracy: 0.9928 - val_out_3_dice_score: 0.7142 - val_out_3_precision: 0.9931 - val_out_3_sensitivity: 0.9927 - val_out_3_specificity: 0.9977 - val_out_2_accuracy: 0.9914 - val_out_2_dice_score: 0.6709 - val_out_2_precision: 0.9919 - val_out_2_sensitivity: 0.9911 - val_out_2_specificity: 0.9973 - val_out_1_accuracy: 0.9886 - val_out_1_dice_score: 0.6064 - val_out_1_precision: 0.9893 - val_out_1_sensitivity: 0.9883 - val_out_1_specificity: 0.9964\n",
            "Epoch 23/100\n",
            "13/13 [==============================] - 25s 2s/step - loss: 5.6402 - final_output_loss: 1.3259 - out_3_loss: 1.3227 - out_2_loss: 1.4184 - out_1_loss: 1.4578 - final_output_accuracy: 0.9945 - final_output_dice_score: 0.7738 - final_output_precision: 0.9955 - final_output_sensitivity: 0.9882 - final_output_specificity: 0.9985 - out_3_accuracy: 0.9946 - out_3_dice_score: 0.7821 - out_3_precision: 0.9943 - out_3_sensitivity: 0.9941 - out_3_specificity: 0.9981 - out_2_accuracy: 0.9929 - out_2_dice_score: 0.7177 - out_2_precision: 0.9928 - out_2_sensitivity: 0.9924 - out_2_specificity: 0.9976 - out_1_accuracy: 0.9922 - out_1_dice_score: 0.6917 - out_1_precision: 0.9920 - out_1_sensitivity: 0.9917 - out_1_specificity: 0.9973 - val_loss: 5.8983 - val_final_output_loss: 1.4042 - val_out_3_loss: 1.3988 - val_out_2_loss: 1.4694 - val_out_1_loss: 1.5137 - val_final_output_accuracy: 0.9905 - val_final_output_dice_score: 0.7216 - val_final_output_precision: 0.9920 - val_final_output_sensitivity: 0.9823 - val_final_output_specificity: 0.9973 - val_out_3_accuracy: 0.9926 - val_out_3_dice_score: 0.7419 - val_out_3_precision: 0.9928 - val_out_3_sensitivity: 0.9925 - val_out_3_specificity: 0.9976 - val_out_2_accuracy: 0.9918 - val_out_2_dice_score: 0.7069 - val_out_2_precision: 0.9922 - val_out_2_sensitivity: 0.9916 - val_out_2_specificity: 0.9974 - val_out_1_accuracy: 0.9907 - val_out_1_dice_score: 0.6681 - val_out_1_precision: 0.9912 - val_out_1_sensitivity: 0.9904 - val_out_1_specificity: 0.9971\n",
            "Epoch 24/100\n",
            "13/13 [==============================] - 25s 2s/step - loss: 5.5272 - final_output_loss: 1.3038 - out_3_loss: 1.3004 - out_2_loss: 1.3903 - out_1_loss: 1.4173 - final_output_accuracy: 0.9932 - final_output_dice_score: 0.7942 - final_output_precision: 0.9937 - final_output_sensitivity: 0.9881 - final_output_specificity: 0.9979 - out_3_accuracy: 0.9934 - out_3_dice_score: 0.8047 - out_3_precision: 0.9930 - out_3_sensitivity: 0.9927 - out_3_specificity: 0.9977 - out_2_accuracy: 0.9911 - out_2_dice_score: 0.7485 - out_2_precision: 0.9910 - out_2_sensitivity: 0.9905 - out_2_specificity: 0.9970 - out_1_accuracy: 0.9902 - out_1_dice_score: 0.7261 - out_1_precision: 0.9901 - out_1_sensitivity: 0.9895 - out_1_specificity: 0.9967 - val_loss: 5.7207 - val_final_output_loss: 1.3713 - val_out_3_loss: 1.3723 - val_out_2_loss: 1.4139 - val_out_1_loss: 1.4515 - val_final_output_accuracy: 0.9834 - val_final_output_dice_score: 0.7280 - val_final_output_precision: 0.9856 - val_final_output_sensitivity: 0.9716 - val_final_output_specificity: 0.9953 - val_out_3_accuracy: 0.9863 - val_out_3_dice_score: 0.7361 - val_out_3_precision: 0.9865 - val_out_3_sensitivity: 0.9861 - val_out_3_specificity: 0.9955 - val_out_2_accuracy: 0.9889 - val_out_2_dice_score: 0.7133 - val_out_2_precision: 0.9893 - val_out_2_sensitivity: 0.9887 - val_out_2_specificity: 0.9964 - val_out_1_accuracy: 0.9898 - val_out_1_dice_score: 0.6912 - val_out_1_precision: 0.9903 - val_out_1_sensitivity: 0.9895 - val_out_1_specificity: 0.9968\n",
            "Epoch 25/100\n",
            "13/13 [==============================] - 25s 2s/step - loss: 5.2840 - final_output_loss: 1.2322 - out_3_loss: 1.2328 - out_2_loss: 1.3302 - out_1_loss: 1.3734 - final_output_accuracy: 0.9940 - final_output_dice_score: 0.8438 - final_output_precision: 0.9951 - final_output_sensitivity: 0.9884 - final_output_specificity: 0.9984 - out_3_accuracy: 0.9939 - out_3_dice_score: 0.8482 - out_3_precision: 0.9935 - out_3_sensitivity: 0.9933 - out_3_specificity: 0.9978 - out_2_accuracy: 0.9916 - out_2_dice_score: 0.7854 - out_2_precision: 0.9915 - out_2_sensitivity: 0.9909 - out_2_specificity: 0.9972 - out_1_accuracy: 0.9902 - out_1_dice_score: 0.7592 - out_1_precision: 0.9900 - out_1_sensitivity: 0.9896 - out_1_specificity: 0.9967 - val_loss: 5.8817 - val_final_output_loss: 1.3808 - val_out_3_loss: 1.3791 - val_out_2_loss: 1.4481 - val_out_1_loss: 1.5615 - val_final_output_accuracy: 0.9915 - val_final_output_dice_score: 0.7443 - val_final_output_precision: 0.9928 - val_final_output_sensitivity: 0.9835 - val_final_output_specificity: 0.9976 - val_out_3_accuracy: 0.9925 - val_out_3_dice_score: 0.7542 - val_out_3_precision: 0.9927 - val_out_3_sensitivity: 0.9924 - val_out_3_specificity: 0.9976 - val_out_2_accuracy: 0.9918 - val_out_2_dice_score: 0.7094 - val_out_2_precision: 0.9923 - val_out_2_sensitivity: 0.9916 - val_out_2_specificity: 0.9974 - val_out_1_accuracy: 0.9905 - val_out_1_dice_score: 0.6485 - val_out_1_precision: 0.9910 - val_out_1_sensitivity: 0.9903 - val_out_1_specificity: 0.9970\n",
            "Epoch 26/100\n",
            "13/13 [==============================] - 25s 2s/step - loss: 5.2923 - final_output_loss: 1.2359 - out_3_loss: 1.2386 - out_2_loss: 1.3274 - out_1_loss: 1.3746 - final_output_accuracy: 0.9934 - final_output_dice_score: 0.8379 - final_output_precision: 0.9939 - final_output_sensitivity: 0.9880 - final_output_specificity: 0.9979 - out_3_accuracy: 0.9938 - out_3_dice_score: 0.8424 - out_3_precision: 0.9934 - out_3_sensitivity: 0.9931 - out_3_specificity: 0.9978 - out_2_accuracy: 0.9916 - out_2_dice_score: 0.7855 - out_2_precision: 0.9913 - out_2_sensitivity: 0.9908 - out_2_specificity: 0.9971 - out_1_accuracy: 0.9901 - out_1_dice_score: 0.7553 - out_1_precision: 0.9898 - out_1_sensitivity: 0.9892 - out_1_specificity: 0.9966 - val_loss: 5.6164 - val_final_output_loss: 1.3289 - val_out_3_loss: 1.3199 - val_out_2_loss: 1.4074 - val_out_1_loss: 1.4483 - val_final_output_accuracy: 0.9938 - val_final_output_dice_score: 0.7810 - val_final_output_precision: 0.9955 - val_final_output_sensitivity: 0.9891 - val_final_output_specificity: 0.9985 - val_out_3_accuracy: 0.9941 - val_out_3_dice_score: 0.7950 - val_out_3_precision: 0.9944 - val_out_3_sensitivity: 0.9940 - val_out_3_specificity: 0.9981 - val_out_2_accuracy: 0.9927 - val_out_2_dice_score: 0.7358 - val_out_2_precision: 0.9932 - val_out_2_sensitivity: 0.9924 - val_out_2_specificity: 0.9977 - val_out_1_accuracy: 0.9913 - val_out_1_dice_score: 0.7039 - val_out_1_precision: 0.9918 - val_out_1_sensitivity: 0.9910 - val_out_1_specificity: 0.9973\n",
            "Epoch 27/100\n",
            "13/13 [==============================] - 25s 2s/step - loss: 5.2473 - final_output_loss: 1.2332 - out_3_loss: 1.2380 - out_2_loss: 1.3089 - out_1_loss: 1.3521 - final_output_accuracy: 0.9942 - final_output_dice_score: 0.8392 - final_output_precision: 0.9950 - final_output_sensitivity: 0.9895 - final_output_specificity: 0.9983 - out_3_accuracy: 0.9943 - out_3_dice_score: 0.8435 - out_3_precision: 0.9940 - out_3_sensitivity: 0.9937 - out_3_specificity: 0.9980 - out_2_accuracy: 0.9925 - out_2_dice_score: 0.7957 - out_2_precision: 0.9924 - out_2_sensitivity: 0.9918 - out_2_specificity: 0.9975 - out_1_accuracy: 0.9913 - out_1_dice_score: 0.7682 - out_1_precision: 0.9912 - out_1_sensitivity: 0.9906 - out_1_specificity: 0.9971 - val_loss: 5.3488 - val_final_output_loss: 1.2519 - val_out_3_loss: 1.2481 - val_out_2_loss: 1.3461 - val_out_1_loss: 1.3915 - val_final_output_accuracy: 0.9937 - val_final_output_dice_score: 0.8177 - val_final_output_precision: 0.9940 - val_final_output_sensitivity: 0.9896 - val_final_output_specificity: 0.9980 - val_out_3_accuracy: 0.9947 - val_out_3_dice_score: 0.8294 - val_out_3_precision: 0.9948 - val_out_3_sensitivity: 0.9946 - val_out_3_specificity: 0.9983 - val_out_2_accuracy: 0.9934 - val_out_2_dice_score: 0.7666 - val_out_2_precision: 0.9937 - val_out_2_sensitivity: 0.9932 - val_out_2_specificity: 0.9979 - val_out_1_accuracy: 0.9922 - val_out_1_dice_score: 0.7328 - val_out_1_precision: 0.9926 - val_out_1_sensitivity: 0.9920 - val_out_1_specificity: 0.9975\n",
            "Epoch 28/100\n",
            "13/13 [==============================] - 25s 2s/step - loss: 5.0925 - final_output_loss: 1.1983 - out_3_loss: 1.1970 - out_2_loss: 1.2791 - out_1_loss: 1.3031 - final_output_accuracy: 0.9949 - final_output_dice_score: 0.8588 - final_output_precision: 0.9954 - final_output_sensitivity: 0.9897 - final_output_specificity: 0.9984 - out_3_accuracy: 0.9951 - out_3_dice_score: 0.8660 - out_3_precision: 0.9947 - out_3_sensitivity: 0.9946 - out_3_specificity: 0.9982 - out_2_accuracy: 0.9933 - out_2_dice_score: 0.8103 - out_2_precision: 0.9931 - out_2_sensitivity: 0.9927 - out_2_specificity: 0.9977 - out_1_accuracy: 0.9922 - out_1_dice_score: 0.7943 - out_1_precision: 0.9920 - out_1_sensitivity: 0.9916 - out_1_specificity: 0.9973 - val_loss: 5.7317 - val_final_output_loss: 1.3571 - val_out_3_loss: 1.3519 - val_out_2_loss: 1.4339 - val_out_1_loss: 1.4775 - val_final_output_accuracy: 0.9930 - val_final_output_dice_score: 0.7697 - val_final_output_precision: 0.9942 - val_final_output_sensitivity: 0.9876 - val_final_output_specificity: 0.9981 - val_out_3_accuracy: 0.9933 - val_out_3_dice_score: 0.7763 - val_out_3_precision: 0.9934 - val_out_3_sensitivity: 0.9932 - val_out_3_specificity: 0.9978 - val_out_2_accuracy: 0.9924 - val_out_2_dice_score: 0.7259 - val_out_2_precision: 0.9927 - val_out_2_sensitivity: 0.9922 - val_out_2_specificity: 0.9976 - val_out_1_accuracy: 0.9913 - val_out_1_dice_score: 0.6953 - val_out_1_precision: 0.9916 - val_out_1_sensitivity: 0.9911 - val_out_1_specificity: 0.9972\n",
            "Epoch 29/100\n",
            "13/13 [==============================] - 25s 2s/step - loss: 5.4676 - final_output_loss: 1.2903 - out_3_loss: 1.2930 - out_2_loss: 1.3750 - out_1_loss: 1.3944 - final_output_accuracy: 0.9945 - final_output_dice_score: 0.8126 - final_output_precision: 0.9955 - final_output_sensitivity: 0.9895 - final_output_specificity: 0.9985 - out_3_accuracy: 0.9945 - out_3_dice_score: 0.8151 - out_3_precision: 0.9942 - out_3_sensitivity: 0.9939 - out_3_specificity: 0.9981 - out_2_accuracy: 0.9928 - out_2_dice_score: 0.7605 - out_2_precision: 0.9927 - out_2_sensitivity: 0.9922 - out_2_specificity: 0.9976 - out_1_accuracy: 0.9917 - out_1_dice_score: 0.7474 - out_1_precision: 0.9916 - out_1_sensitivity: 0.9911 - out_1_specificity: 0.9972 - val_loss: 5.3910 - val_final_output_loss: 1.2461 - val_out_3_loss: 1.2477 - val_out_2_loss: 1.3560 - val_out_1_loss: 1.4301 - val_final_output_accuracy: 0.9936 - val_final_output_dice_score: 0.8218 - val_final_output_precision: 0.9944 - val_final_output_sensitivity: 0.9893 - val_final_output_specificity: 0.9981 - val_out_3_accuracy: 0.9944 - val_out_3_dice_score: 0.8269 - val_out_3_precision: 0.9946 - val_out_3_sensitivity: 0.9943 - val_out_3_specificity: 0.9982 - val_out_2_accuracy: 0.9930 - val_out_2_dice_score: 0.7598 - val_out_2_precision: 0.9933 - val_out_2_sensitivity: 0.9928 - val_out_2_specificity: 0.9978 - val_out_1_accuracy: 0.9916 - val_out_1_dice_score: 0.7142 - val_out_1_precision: 0.9920 - val_out_1_sensitivity: 0.9914 - val_out_1_specificity: 0.9973\n",
            "Epoch 30/100\n",
            "13/13 [==============================] - 25s 2s/step - loss: 5.2272 - final_output_loss: 1.2239 - out_3_loss: 1.2328 - out_2_loss: 1.3175 - out_1_loss: 1.3382 - final_output_accuracy: 0.9941 - final_output_dice_score: 0.8469 - final_output_precision: 0.9946 - final_output_sensitivity: 0.9901 - final_output_specificity: 0.9982 - out_3_accuracy: 0.9942 - out_3_dice_score: 0.8469 - out_3_precision: 0.9938 - out_3_sensitivity: 0.9936 - out_3_specificity: 0.9979 - out_2_accuracy: 0.9922 - out_2_dice_score: 0.7912 - out_2_precision: 0.9920 - out_2_sensitivity: 0.9915 - out_2_specificity: 0.9973 - out_1_accuracy: 0.9908 - out_1_dice_score: 0.7742 - out_1_precision: 0.9907 - out_1_sensitivity: 0.9901 - out_1_specificity: 0.9969 - val_loss: 5.2439 - val_final_output_loss: 1.2080 - val_out_3_loss: 1.2097 - val_out_2_loss: 1.3201 - val_out_1_loss: 1.3953 - val_final_output_accuracy: 0.9954 - val_final_output_dice_score: 0.8484 - val_final_output_precision: 0.9958 - val_final_output_sensitivity: 0.9927 - val_final_output_specificity: 0.9986 - val_out_3_accuracy: 0.9954 - val_out_3_dice_score: 0.8521 - val_out_3_precision: 0.9956 - val_out_3_sensitivity: 0.9953 - val_out_3_specificity: 0.9985 - val_out_2_accuracy: 0.9939 - val_out_2_dice_score: 0.7830 - val_out_2_precision: 0.9942 - val_out_2_sensitivity: 0.9937 - val_out_2_specificity: 0.9981 - val_out_1_accuracy: 0.9918 - val_out_1_dice_score: 0.7370 - val_out_1_precision: 0.9921 - val_out_1_sensitivity: 0.9916 - val_out_1_specificity: 0.9974\n",
            "Epoch 31/100\n",
            "13/13 [==============================] - 25s 2s/step - loss: 5.3262 - final_output_loss: 1.2476 - out_3_loss: 1.2536 - out_2_loss: 1.3364 - out_1_loss: 1.3739 - final_output_accuracy: 0.9943 - final_output_dice_score: 0.8294 - final_output_precision: 0.9944 - final_output_sensitivity: 0.9903 - final_output_specificity: 0.9981 - out_3_accuracy: 0.9944 - out_3_dice_score: 0.8302 - out_3_precision: 0.9940 - out_3_sensitivity: 0.9937 - out_3_specificity: 0.9980 - out_2_accuracy: 0.9925 - out_2_dice_score: 0.7770 - out_2_precision: 0.9924 - out_2_sensitivity: 0.9919 - out_2_specificity: 0.9974 - out_1_accuracy: 0.9908 - out_1_dice_score: 0.7533 - out_1_precision: 0.9907 - out_1_sensitivity: 0.9902 - out_1_specificity: 0.9969 - val_loss: 5.2624 - val_final_output_loss: 1.2204 - val_out_3_loss: 1.2192 - val_out_2_loss: 1.3351 - val_out_1_loss: 1.3770 - val_final_output_accuracy: 0.9945 - val_final_output_dice_score: 0.8377 - val_final_output_precision: 0.9945 - val_final_output_sensitivity: 0.9915 - val_final_output_specificity: 0.9982 - val_out_3_accuracy: 0.9947 - val_out_3_dice_score: 0.8425 - val_out_3_precision: 0.9948 - val_out_3_sensitivity: 0.9946 - val_out_3_specificity: 0.9983 - val_out_2_accuracy: 0.9925 - val_out_2_dice_score: 0.7677 - val_out_2_precision: 0.9928 - val_out_2_sensitivity: 0.9923 - val_out_2_specificity: 0.9976 - val_out_1_accuracy: 0.9894 - val_out_1_dice_score: 0.7312 - val_out_1_precision: 0.9898 - val_out_1_sensitivity: 0.9892 - val_out_1_specificity: 0.9966\n",
            "Epoch 32/100\n",
            "13/13 [==============================] - 25s 2s/step - loss: 5.2164 - final_output_loss: 1.2221 - out_3_loss: 1.2247 - out_2_loss: 1.3120 - out_1_loss: 1.3430 - final_output_accuracy: 0.9951 - final_output_dice_score: 0.8422 - final_output_precision: 0.9955 - final_output_sensitivity: 0.9915 - final_output_specificity: 0.9985 - out_3_accuracy: 0.9951 - out_3_dice_score: 0.8463 - out_3_precision: 0.9947 - out_3_sensitivity: 0.9946 - out_3_specificity: 0.9982 - out_2_accuracy: 0.9934 - out_2_dice_score: 0.7879 - out_2_precision: 0.9932 - out_2_sensitivity: 0.9928 - out_2_specificity: 0.9977 - out_1_accuracy: 0.9924 - out_1_dice_score: 0.7683 - out_1_precision: 0.9922 - out_1_sensitivity: 0.9919 - out_1_specificity: 0.9974 - val_loss: 5.2465 - val_final_output_loss: 1.2139 - val_out_3_loss: 1.2190 - val_out_2_loss: 1.3200 - val_out_1_loss: 1.3831 - val_final_output_accuracy: 0.9954 - val_final_output_dice_score: 0.8517 - val_final_output_precision: 0.9963 - val_final_output_sensitivity: 0.9932 - val_final_output_specificity: 0.9988 - val_out_3_accuracy: 0.9952 - val_out_3_dice_score: 0.8517 - val_out_3_precision: 0.9953 - val_out_3_sensitivity: 0.9951 - val_out_3_specificity: 0.9984 - val_out_2_accuracy: 0.9935 - val_out_2_dice_score: 0.7851 - val_out_2_precision: 0.9937 - val_out_2_sensitivity: 0.9933 - val_out_2_specificity: 0.9979 - val_out_1_accuracy: 0.9923 - val_out_1_dice_score: 0.7518 - val_out_1_precision: 0.9926 - val_out_1_sensitivity: 0.9922 - val_out_1_specificity: 0.9975\n",
            "Epoch 33/100\n",
            "13/13 [==============================] - 25s 2s/step - loss: 5.1878 - final_output_loss: 1.2142 - out_3_loss: 1.2171 - out_2_loss: 1.3057 - out_1_loss: 1.3364 - final_output_accuracy: 0.9950 - final_output_dice_score: 0.8594 - final_output_precision: 0.9957 - final_output_sensitivity: 0.9911 - final_output_specificity: 0.9986 - out_3_accuracy: 0.9950 - out_3_dice_score: 0.8614 - out_3_precision: 0.9946 - out_3_sensitivity: 0.9944 - out_3_specificity: 0.9982 - out_2_accuracy: 0.9933 - out_2_dice_score: 0.8047 - out_2_precision: 0.9931 - out_2_sensitivity: 0.9927 - out_2_specificity: 0.9977 - out_1_accuracy: 0.9923 - out_1_dice_score: 0.7855 - out_1_precision: 0.9921 - out_1_sensitivity: 0.9918 - out_1_specificity: 0.9974 - val_loss: 5.7674 - val_final_output_loss: 1.3426 - val_out_3_loss: 1.3588 - val_out_2_loss: 1.4717 - val_out_1_loss: 1.4824 - val_final_output_accuracy: 0.9941 - val_final_output_dice_score: 0.7878 - val_final_output_precision: 0.9949 - val_final_output_sensitivity: 0.9917 - val_final_output_specificity: 0.9983 - val_out_3_accuracy: 0.9940 - val_out_3_dice_score: 0.7853 - val_out_3_precision: 0.9941 - val_out_3_sensitivity: 0.9939 - val_out_3_specificity: 0.9980 - val_out_2_accuracy: 0.9921 - val_out_2_dice_score: 0.7161 - val_out_2_precision: 0.9923 - val_out_2_sensitivity: 0.9920 - val_out_2_specificity: 0.9974 - val_out_1_accuracy: 0.9912 - val_out_1_dice_score: 0.7024 - val_out_1_precision: 0.9914 - val_out_1_sensitivity: 0.9911 - val_out_1_specificity: 0.9971\n",
            "Epoch 34/100\n",
            "13/13 [==============================] - 25s 2s/step - loss: 5.1667 - final_output_loss: 1.2050 - out_3_loss: 1.2129 - out_2_loss: 1.2994 - out_1_loss: 1.3339 - final_output_accuracy: 0.9947 - final_output_dice_score: 0.8545 - final_output_precision: 0.9954 - final_output_sensitivity: 0.9896 - final_output_specificity: 0.9984 - out_3_accuracy: 0.9949 - out_3_dice_score: 0.8535 - out_3_precision: 0.9947 - out_3_sensitivity: 0.9946 - out_3_specificity: 0.9982 - out_2_accuracy: 0.9933 - out_2_dice_score: 0.7978 - out_2_precision: 0.9933 - out_2_sensitivity: 0.9930 - out_2_specificity: 0.9978 - out_1_accuracy: 0.9926 - out_1_dice_score: 0.7788 - out_1_precision: 0.9926 - out_1_sensitivity: 0.9923 - out_1_specificity: 0.9975 - val_loss: 5.8889 - val_final_output_loss: 1.3636 - val_out_3_loss: 1.3915 - val_out_2_loss: 1.4866 - val_out_1_loss: 1.5360 - val_final_output_accuracy: 0.9936 - val_final_output_dice_score: 0.7915 - val_final_output_precision: 0.9951 - val_final_output_sensitivity: 0.9923 - val_final_output_specificity: 0.9984 - val_out_3_accuracy: 0.9928 - val_out_3_dice_score: 0.7881 - val_out_3_precision: 0.9929 - val_out_3_sensitivity: 0.9928 - val_out_3_specificity: 0.9977 - val_out_2_accuracy: 0.9912 - val_out_2_dice_score: 0.7266 - val_out_2_precision: 0.9914 - val_out_2_sensitivity: 0.9911 - val_out_2_specificity: 0.9971 - val_out_1_accuracy: 0.9897 - val_out_1_dice_score: 0.6929 - val_out_1_precision: 0.9900 - val_out_1_sensitivity: 0.9896 - val_out_1_specificity: 0.9967\n",
            "Epoch 35/100\n",
            "13/13 [==============================] - 25s 2s/step - loss: 5.6520 - final_output_loss: 1.3327 - out_3_loss: 1.3400 - out_2_loss: 1.4119 - out_1_loss: 1.4532 - final_output_accuracy: 0.9933 - final_output_dice_score: 0.8013 - final_output_precision: 0.9942 - final_output_sensitivity: 0.9876 - final_output_specificity: 0.9981 - out_3_accuracy: 0.9936 - out_3_dice_score: 0.8050 - out_3_precision: 0.9933 - out_3_sensitivity: 0.9931 - out_3_specificity: 0.9978 - out_2_accuracy: 0.9920 - out_2_dice_score: 0.7552 - out_2_precision: 0.9919 - out_2_sensitivity: 0.9914 - out_2_specificity: 0.9973 - out_1_accuracy: 0.9899 - out_1_dice_score: 0.7137 - out_1_precision: 0.9899 - out_1_sensitivity: 0.9893 - out_1_specificity: 0.9966 - val_loss: 5.4619 - val_final_output_loss: 1.2209 - val_out_3_loss: 1.2461 - val_out_2_loss: 1.3667 - val_out_1_loss: 1.5187 - val_final_output_accuracy: 0.9953 - val_final_output_dice_score: 0.8477 - val_final_output_precision: 0.9956 - val_final_output_sensitivity: 0.9934 - val_final_output_specificity: 0.9985 - val_out_3_accuracy: 0.9948 - val_out_3_dice_score: 0.8423 - val_out_3_precision: 0.9950 - val_out_3_sensitivity: 0.9948 - val_out_3_specificity: 0.9983 - val_out_2_accuracy: 0.9928 - val_out_2_dice_score: 0.7688 - val_out_2_precision: 0.9931 - val_out_2_sensitivity: 0.9927 - val_out_2_specificity: 0.9977 - val_out_1_accuracy: 0.9894 - val_out_1_dice_score: 0.6910 - val_out_1_precision: 0.9896 - val_out_1_sensitivity: 0.9893 - val_out_1_specificity: 0.9965\n",
            "Epoch 36/100\n",
            "13/13 [==============================] - 25s 2s/step - loss: 5.2388 - final_output_loss: 1.2229 - out_3_loss: 1.2276 - out_2_loss: 1.3247 - out_1_loss: 1.3494 - final_output_accuracy: 0.9949 - final_output_dice_score: 0.8469 - final_output_precision: 0.9952 - final_output_sensitivity: 0.9906 - final_output_specificity: 0.9984 - out_3_accuracy: 0.9950 - out_3_dice_score: 0.8494 - out_3_precision: 0.9947 - out_3_sensitivity: 0.9945 - out_3_specificity: 0.9982 - out_2_accuracy: 0.9931 - out_2_dice_score: 0.7880 - out_2_precision: 0.9929 - out_2_sensitivity: 0.9925 - out_2_specificity: 0.9976 - out_1_accuracy: 0.9919 - out_1_dice_score: 0.7750 - out_1_precision: 0.9917 - out_1_sensitivity: 0.9915 - out_1_specificity: 0.9972 - val_loss: 5.5024 - val_final_output_loss: 1.2472 - val_out_3_loss: 1.2634 - val_out_2_loss: 1.3557 - val_out_1_loss: 1.5266 - val_final_output_accuracy: 0.9952 - val_final_output_dice_score: 0.8341 - val_final_output_precision: 0.9960 - val_final_output_sensitivity: 0.9924 - val_final_output_specificity: 0.9987 - val_out_3_accuracy: 0.9948 - val_out_3_dice_score: 0.8332 - val_out_3_precision: 0.9949 - val_out_3_sensitivity: 0.9947 - val_out_3_specificity: 0.9983 - val_out_2_accuracy: 0.9930 - val_out_2_dice_score: 0.7700 - val_out_2_precision: 0.9933 - val_out_2_sensitivity: 0.9929 - val_out_2_specificity: 0.9978 - val_out_1_accuracy: 0.9903 - val_out_1_dice_score: 0.6924 - val_out_1_precision: 0.9905 - val_out_1_sensitivity: 0.9902 - val_out_1_specificity: 0.9968\n",
            "Epoch 37/100\n",
            "13/13 [==============================] - 25s 2s/step - loss: 5.3290 - final_output_loss: 1.2468 - out_3_loss: 1.2541 - out_2_loss: 1.3326 - out_1_loss: 1.3813 - final_output_accuracy: 0.9952 - final_output_dice_score: 0.8341 - final_output_precision: 0.9963 - final_output_sensitivity: 0.9909 - final_output_specificity: 0.9988 - out_3_accuracy: 0.9952 - out_3_dice_score: 0.8349 - out_3_precision: 0.9949 - out_3_sensitivity: 0.9947 - out_3_specificity: 0.9983 - out_2_accuracy: 0.9938 - out_2_dice_score: 0.7813 - out_2_precision: 0.9937 - out_2_sensitivity: 0.9933 - out_2_specificity: 0.9979 - out_1_accuracy: 0.9924 - out_1_dice_score: 0.7503 - out_1_precision: 0.9923 - out_1_sensitivity: 0.9920 - out_1_specificity: 0.9974 - val_loss: 5.4213 - val_final_output_loss: 1.2456 - val_out_3_loss: 1.2575 - val_out_2_loss: 1.3605 - val_out_1_loss: 1.4489 - val_final_output_accuracy: 0.9953 - val_final_output_dice_score: 0.8356 - val_final_output_precision: 0.9963 - val_final_output_sensitivity: 0.9929 - val_final_output_specificity: 0.9988 - val_out_3_accuracy: 0.9947 - val_out_3_dice_score: 0.8361 - val_out_3_precision: 0.9948 - val_out_3_sensitivity: 0.9947 - val_out_3_specificity: 0.9983 - val_out_2_accuracy: 0.9931 - val_out_2_dice_score: 0.7696 - val_out_2_precision: 0.9933 - val_out_2_sensitivity: 0.9929 - val_out_2_specificity: 0.9978 - val_out_1_accuracy: 0.9907 - val_out_1_dice_score: 0.7210 - val_out_1_precision: 0.9910 - val_out_1_sensitivity: 0.9906 - val_out_1_specificity: 0.9970\n",
            "Epoch 38/100\n",
            "13/13 [==============================] - 25s 2s/step - loss: 5.1655 - final_output_loss: 1.2133 - out_3_loss: 1.2198 - out_2_loss: 1.2883 - out_1_loss: 1.3301 - final_output_accuracy: 0.9936 - final_output_dice_score: 0.8482 - final_output_precision: 0.9939 - final_output_sensitivity: 0.9877 - final_output_specificity: 0.9979 - out_3_accuracy: 0.9939 - out_3_dice_score: 0.8480 - out_3_precision: 0.9934 - out_3_sensitivity: 0.9932 - out_3_specificity: 0.9978 - out_2_accuracy: 0.9921 - out_2_dice_score: 0.8052 - out_2_precision: 0.9919 - out_2_sensitivity: 0.9914 - out_2_specificity: 0.9973 - out_1_accuracy: 0.9908 - out_1_dice_score: 0.7792 - out_1_precision: 0.9906 - out_1_sensitivity: 0.9901 - out_1_specificity: 0.9969 - val_loss: 5.2378 - val_final_output_loss: 1.2078 - val_out_3_loss: 1.2164 - val_out_2_loss: 1.3315 - val_out_1_loss: 1.3724 - val_final_output_accuracy: 0.9957 - val_final_output_dice_score: 0.8554 - val_final_output_precision: 0.9966 - val_final_output_sensitivity: 0.9922 - val_final_output_specificity: 0.9989 - val_out_3_accuracy: 0.9954 - val_out_3_dice_score: 0.8556 - val_out_3_precision: 0.9955 - val_out_3_sensitivity: 0.9953 - val_out_3_specificity: 0.9985 - val_out_2_accuracy: 0.9938 - val_out_2_dice_score: 0.7868 - val_out_2_precision: 0.9940 - val_out_2_sensitivity: 0.9937 - val_out_2_specificity: 0.9980 - val_out_1_accuracy: 0.9927 - val_out_1_dice_score: 0.7608 - val_out_1_precision: 0.9929 - val_out_1_sensitivity: 0.9925 - val_out_1_specificity: 0.9976\n",
            "Epoch 39/100\n",
            "13/13 [==============================] - 25s 2s/step - loss: 5.1146 - final_output_loss: 1.2067 - out_3_loss: 1.2083 - out_2_loss: 1.2793 - out_1_loss: 1.3064 - final_output_accuracy: 0.9946 - final_output_dice_score: 0.8617 - final_output_precision: 0.9955 - final_output_sensitivity: 0.9901 - final_output_specificity: 0.9985 - out_3_accuracy: 0.9947 - out_3_dice_score: 0.8634 - out_3_precision: 0.9943 - out_3_sensitivity: 0.9942 - out_3_specificity: 0.9981 - out_2_accuracy: 0.9931 - out_2_dice_score: 0.8166 - out_2_precision: 0.9929 - out_2_sensitivity: 0.9925 - out_2_specificity: 0.9976 - out_1_accuracy: 0.9921 - out_1_dice_score: 0.7996 - out_1_precision: 0.9919 - out_1_sensitivity: 0.9915 - out_1_specificity: 0.9973 - val_loss: 5.0997 - val_final_output_loss: 1.1880 - val_out_3_loss: 1.1913 - val_out_2_loss: 1.2895 - val_out_1_loss: 1.3208 - val_final_output_accuracy: 0.9947 - val_final_output_dice_score: 0.8621 - val_final_output_precision: 0.9957 - val_final_output_sensitivity: 0.9892 - val_final_output_specificity: 0.9986 - val_out_3_accuracy: 0.9954 - val_out_3_dice_score: 0.8655 - val_out_3_precision: 0.9956 - val_out_3_sensitivity: 0.9954 - val_out_3_specificity: 0.9985 - val_out_2_accuracy: 0.9936 - val_out_2_dice_score: 0.8026 - val_out_2_precision: 0.9939 - val_out_2_sensitivity: 0.9935 - val_out_2_specificity: 0.9980 - val_out_1_accuracy: 0.9929 - val_out_1_dice_score: 0.7840 - val_out_1_precision: 0.9931 - val_out_1_sensitivity: 0.9928 - val_out_1_specificity: 0.9977\n",
            "Epoch 40/100\n",
            "13/13 [==============================] - 25s 2s/step - loss: 5.3498 - final_output_loss: 1.2559 - out_3_loss: 1.2713 - out_2_loss: 1.3398 - out_1_loss: 1.3690 - final_output_accuracy: 0.9942 - final_output_dice_score: 0.8299 - final_output_precision: 0.9948 - final_output_sensitivity: 0.9891 - final_output_specificity: 0.9983 - out_3_accuracy: 0.9942 - out_3_dice_score: 0.8268 - out_3_precision: 0.9938 - out_3_sensitivity: 0.9936 - out_3_specificity: 0.9979 - out_2_accuracy: 0.9925 - out_2_dice_score: 0.7803 - out_2_precision: 0.9923 - out_2_sensitivity: 0.9918 - out_2_specificity: 0.9974 - out_1_accuracy: 0.9913 - out_1_dice_score: 0.7619 - out_1_precision: 0.9911 - out_1_sensitivity: 0.9906 - out_1_specificity: 0.9970 - val_loss: 5.2709 - val_final_output_loss: 1.2221 - val_out_3_loss: 1.2208 - val_out_2_loss: 1.3239 - val_out_1_loss: 1.3937 - val_final_output_accuracy: 0.9955 - val_final_output_dice_score: 0.8436 - val_final_output_precision: 0.9964 - val_final_output_sensitivity: 0.9925 - val_final_output_specificity: 0.9988 - val_out_3_accuracy: 0.9954 - val_out_3_dice_score: 0.8492 - val_out_3_precision: 0.9956 - val_out_3_sensitivity: 0.9954 - val_out_3_specificity: 0.9985 - val_out_2_accuracy: 0.9933 - val_out_2_dice_score: 0.7801 - val_out_2_precision: 0.9937 - val_out_2_sensitivity: 0.9932 - val_out_2_specificity: 0.9979 - val_out_1_accuracy: 0.9917 - val_out_1_dice_score: 0.7322 - val_out_1_precision: 0.9920 - val_out_1_sensitivity: 0.9915 - val_out_1_specificity: 0.9973\n",
            "Epoch 41/100\n",
            "13/13 [==============================] - 25s 2s/step - loss: 5.2201 - final_output_loss: 1.2271 - out_3_loss: 1.2302 - out_2_loss: 1.3062 - out_1_loss: 1.3429 - final_output_accuracy: 0.9948 - final_output_dice_score: 0.8416 - final_output_precision: 0.9954 - final_output_sensitivity: 0.9894 - final_output_specificity: 0.9984 - out_3_accuracy: 0.9950 - out_3_dice_score: 0.8432 - out_3_precision: 0.9946 - out_3_sensitivity: 0.9943 - out_3_specificity: 0.9982 - out_2_accuracy: 0.9929 - out_2_dice_score: 0.7908 - out_2_precision: 0.9927 - out_2_sensitivity: 0.9922 - out_2_specificity: 0.9976 - out_1_accuracy: 0.9917 - out_1_dice_score: 0.7668 - out_1_precision: 0.9915 - out_1_sensitivity: 0.9910 - out_1_specificity: 0.9972 - val_loss: 5.5317 - val_final_output_loss: 1.2645 - val_out_3_loss: 1.2703 - val_out_2_loss: 1.3748 - val_out_1_loss: 1.5128 - val_final_output_accuracy: 0.9951 - val_final_output_dice_score: 0.8307 - val_final_output_precision: 0.9962 - val_final_output_sensitivity: 0.9933 - val_final_output_specificity: 0.9987 - val_out_3_accuracy: 0.9946 - val_out_3_dice_score: 0.8308 - val_out_3_precision: 0.9947 - val_out_3_sensitivity: 0.9946 - val_out_3_specificity: 0.9982 - val_out_2_accuracy: 0.9925 - val_out_2_dice_score: 0.7649 - val_out_2_precision: 0.9928 - val_out_2_sensitivity: 0.9924 - val_out_2_specificity: 0.9976 - val_out_1_accuracy: 0.9902 - val_out_1_dice_score: 0.6943 - val_out_1_precision: 0.9905 - val_out_1_sensitivity: 0.9901 - val_out_1_specificity: 0.9968\n",
            "Epoch 42/100\n",
            "13/13 [==============================] - 25s 2s/step - loss: 5.1597 - final_output_loss: 1.2054 - out_3_loss: 1.2136 - out_2_loss: 1.2944 - out_1_loss: 1.3327 - final_output_accuracy: 0.9954 - final_output_dice_score: 0.8593 - final_output_precision: 0.9957 - final_output_sensitivity: 0.9913 - final_output_specificity: 0.9986 - out_3_accuracy: 0.9952 - out_3_dice_score: 0.8580 - out_3_precision: 0.9949 - out_3_sensitivity: 0.9947 - out_3_specificity: 0.9983 - out_2_accuracy: 0.9934 - out_2_dice_score: 0.8039 - out_2_precision: 0.9932 - out_2_sensitivity: 0.9929 - out_2_specificity: 0.9977 - out_1_accuracy: 0.9921 - out_1_dice_score: 0.7805 - out_1_precision: 0.9918 - out_1_sensitivity: 0.9916 - out_1_specificity: 0.9973 - val_loss: 5.1521 - val_final_output_loss: 1.1999 - val_out_3_loss: 1.2066 - val_out_2_loss: 1.3047 - val_out_1_loss: 1.3307 - val_final_output_accuracy: 0.9953 - val_final_output_dice_score: 0.8613 - val_final_output_precision: 0.9957 - val_final_output_sensitivity: 0.9930 - val_final_output_specificity: 0.9986 - val_out_3_accuracy: 0.9953 - val_out_3_dice_score: 0.8605 - val_out_3_precision: 0.9954 - val_out_3_sensitivity: 0.9952 - val_out_3_specificity: 0.9985 - val_out_2_accuracy: 0.9937 - val_out_2_dice_score: 0.8005 - val_out_2_precision: 0.9938 - val_out_2_sensitivity: 0.9936 - val_out_2_specificity: 0.9979 - val_out_1_accuracy: 0.9924 - val_out_1_dice_score: 0.7789 - val_out_1_precision: 0.9926 - val_out_1_sensitivity: 0.9923 - val_out_1_specificity: 0.9975\n",
            "Epoch 43/100\n",
            "13/13 [==============================] - 25s 2s/step - loss: 5.2487 - final_output_loss: 1.2318 - out_3_loss: 1.2408 - out_2_loss: 1.3153 - out_1_loss: 1.3520 - final_output_accuracy: 0.9947 - final_output_dice_score: 0.8381 - final_output_precision: 0.9953 - final_output_sensitivity: 0.9907 - final_output_specificity: 0.9984 - out_3_accuracy: 0.9947 - out_3_dice_score: 0.8353 - out_3_precision: 0.9943 - out_3_sensitivity: 0.9941 - out_3_specificity: 0.9981 - out_2_accuracy: 0.9930 - out_2_dice_score: 0.7879 - out_2_precision: 0.9928 - out_2_sensitivity: 0.9925 - out_2_specificity: 0.9976 - out_1_accuracy: 0.9918 - out_1_dice_score: 0.7641 - out_1_precision: 0.9916 - out_1_sensitivity: 0.9913 - out_1_specificity: 0.9972 - val_loss: 5.1057 - val_final_output_loss: 1.1911 - val_out_3_loss: 1.2001 - val_out_2_loss: 1.2890 - val_out_1_loss: 1.3154 - val_final_output_accuracy: 0.9960 - val_final_output_dice_score: 0.8704 - val_final_output_precision: 0.9968 - val_final_output_sensitivity: 0.9941 - val_final_output_specificity: 0.9989 - val_out_3_accuracy: 0.9958 - val_out_3_dice_score: 0.8678 - val_out_3_precision: 0.9958 - val_out_3_sensitivity: 0.9957 - val_out_3_specificity: 0.9986 - val_out_2_accuracy: 0.9942 - val_out_2_dice_score: 0.8117 - val_out_2_precision: 0.9944 - val_out_2_sensitivity: 0.9941 - val_out_2_specificity: 0.9981 - val_out_1_accuracy: 0.9932 - val_out_1_dice_score: 0.7910 - val_out_1_precision: 0.9934 - val_out_1_sensitivity: 0.9931 - val_out_1_specificity: 0.9978\n",
            "Epoch 44/100\n",
            "13/13 [==============================] - 25s 2s/step - loss: 5.2186 - final_output_loss: 1.2301 - out_3_loss: 1.2354 - out_2_loss: 1.3053 - out_1_loss: 1.3343 - final_output_accuracy: 0.9952 - final_output_dice_score: 0.8433 - final_output_precision: 0.9961 - final_output_sensitivity: 0.9910 - final_output_specificity: 0.9987 - out_3_accuracy: 0.9953 - out_3_dice_score: 0.8420 - out_3_precision: 0.9950 - out_3_sensitivity: 0.9949 - out_3_specificity: 0.9983 - out_2_accuracy: 0.9939 - out_2_dice_score: 0.7957 - out_2_precision: 0.9937 - out_2_sensitivity: 0.9934 - out_2_specificity: 0.9979 - out_1_accuracy: 0.9929 - out_1_dice_score: 0.7726 - out_1_precision: 0.9927 - out_1_sensitivity: 0.9924 - out_1_specificity: 0.9976 - val_loss: 5.1122 - val_final_output_loss: 1.1982 - val_out_3_loss: 1.2057 - val_out_2_loss: 1.2846 - val_out_1_loss: 1.3136 - val_final_output_accuracy: 0.9931 - val_final_output_dice_score: 0.8542 - val_final_output_precision: 0.9946 - val_final_output_sensitivity: 0.9848 - val_final_output_specificity: 0.9982 - val_out_3_accuracy: 0.9940 - val_out_3_dice_score: 0.8515 - val_out_3_precision: 0.9941 - val_out_3_sensitivity: 0.9939 - val_out_3_specificity: 0.9980 - val_out_2_accuracy: 0.9934 - val_out_2_dice_score: 0.8055 - val_out_2_precision: 0.9937 - val_out_2_sensitivity: 0.9933 - val_out_2_specificity: 0.9979 - val_out_1_accuracy: 0.9930 - val_out_1_dice_score: 0.7883 - val_out_1_precision: 0.9933 - val_out_1_sensitivity: 0.9929 - val_out_1_specificity: 0.9978\n",
            "Epoch 45/100\n",
            "13/13 [==============================] - 25s 2s/step - loss: 5.3023 - final_output_loss: 1.2626 - out_3_loss: 1.2650 - out_2_loss: 1.3186 - out_1_loss: 1.3428 - final_output_accuracy: 0.9946 - final_output_dice_score: 0.8255 - final_output_precision: 0.9948 - final_output_sensitivity: 0.9908 - final_output_specificity: 0.9983 - out_3_accuracy: 0.9947 - out_3_dice_score: 0.8289 - out_3_precision: 0.9943 - out_3_sensitivity: 0.9942 - out_3_specificity: 0.9981 - out_2_accuracy: 0.9935 - out_2_dice_score: 0.7935 - out_2_precision: 0.9932 - out_2_sensitivity: 0.9929 - out_2_specificity: 0.9977 - out_1_accuracy: 0.9925 - out_1_dice_score: 0.7789 - out_1_precision: 0.9923 - out_1_sensitivity: 0.9920 - out_1_specificity: 0.9974 - val_loss: 5.0990 - val_final_output_loss: 1.1988 - val_out_3_loss: 1.1990 - val_out_2_loss: 1.2810 - val_out_1_loss: 1.3107 - val_final_output_accuracy: 0.9944 - val_final_output_dice_score: 0.8527 - val_final_output_precision: 0.9953 - val_final_output_sensitivity: 0.9876 - val_final_output_specificity: 0.9984 - val_out_3_accuracy: 0.9949 - val_out_3_dice_score: 0.8550 - val_out_3_precision: 0.9950 - val_out_3_sensitivity: 0.9948 - val_out_3_specificity: 0.9983 - val_out_2_accuracy: 0.9939 - val_out_2_dice_score: 0.8068 - val_out_2_precision: 0.9941 - val_out_2_sensitivity: 0.9938 - val_out_2_specificity: 0.9980 - val_out_1_accuracy: 0.9930 - val_out_1_dice_score: 0.7897 - val_out_1_precision: 0.9932 - val_out_1_sensitivity: 0.9929 - val_out_1_specificity: 0.9977\n",
            "Epoch 46/100\n",
            "13/13 [==============================] - 25s 2s/step - loss: 5.1260 - final_output_loss: 1.2022 - out_3_loss: 1.2104 - out_2_loss: 1.2806 - out_1_loss: 1.3196 - final_output_accuracy: 0.9941 - final_output_dice_score: 0.8581 - final_output_precision: 0.9947 - final_output_sensitivity: 0.9899 - final_output_specificity: 0.9982 - out_3_accuracy: 0.9942 - out_3_dice_score: 0.8558 - out_3_precision: 0.9938 - out_3_sensitivity: 0.9936 - out_3_specificity: 0.9979 - out_2_accuracy: 0.9928 - out_2_dice_score: 0.8109 - out_2_precision: 0.9925 - out_2_sensitivity: 0.9922 - out_2_specificity: 0.9975 - out_1_accuracy: 0.9916 - out_1_dice_score: 0.7860 - out_1_precision: 0.9914 - out_1_sensitivity: 0.9910 - out_1_specificity: 0.9971 - val_loss: 5.0788 - val_final_output_loss: 1.1835 - val_out_3_loss: 1.1936 - val_out_2_loss: 1.2802 - val_out_1_loss: 1.3119 - val_final_output_accuracy: 0.9952 - val_final_output_dice_score: 0.8664 - val_final_output_precision: 0.9968 - val_final_output_sensitivity: 0.9887 - val_final_output_specificity: 0.9989 - val_out_3_accuracy: 0.9953 - val_out_3_dice_score: 0.8613 - val_out_3_precision: 0.9954 - val_out_3_sensitivity: 0.9952 - val_out_3_specificity: 0.9985 - val_out_2_accuracy: 0.9943 - val_out_2_dice_score: 0.8109 - val_out_2_precision: 0.9945 - val_out_2_sensitivity: 0.9941 - val_out_2_specificity: 0.9982 - val_out_1_accuracy: 0.9933 - val_out_1_dice_score: 0.7886 - val_out_1_precision: 0.9936 - val_out_1_sensitivity: 0.9932 - val_out_1_specificity: 0.9979\n",
            "Epoch 47/100\n",
            "13/13 [==============================] - 25s 2s/step - loss: 5.0912 - final_output_loss: 1.2010 - out_3_loss: 1.2041 - out_2_loss: 1.2726 - out_1_loss: 1.3003 - final_output_accuracy: 0.9947 - final_output_dice_score: 0.8645 - final_output_precision: 0.9953 - final_output_sensitivity: 0.9908 - final_output_specificity: 0.9984 - out_3_accuracy: 0.9948 - out_3_dice_score: 0.8644 - out_3_precision: 0.9943 - out_3_sensitivity: 0.9942 - out_3_specificity: 0.9981 - out_2_accuracy: 0.9932 - out_2_dice_score: 0.8194 - out_2_precision: 0.9930 - out_2_sensitivity: 0.9927 - out_2_specificity: 0.9977 - out_1_accuracy: 0.9921 - out_1_dice_score: 0.8018 - out_1_precision: 0.9919 - out_1_sensitivity: 0.9916 - out_1_specificity: 0.9973 - val_loss: 5.3222 - val_final_output_loss: 1.2628 - val_out_3_loss: 1.2768 - val_out_2_loss: 1.3326 - val_out_1_loss: 1.3408 - val_final_output_accuracy: 0.9927 - val_final_output_dice_score: 0.8092 - val_final_output_precision: 0.9940 - val_final_output_sensitivity: 0.9831 - val_final_output_specificity: 0.9980 - val_out_3_accuracy: 0.9938 - val_out_3_dice_score: 0.8011 - val_out_3_precision: 0.9941 - val_out_3_sensitivity: 0.9936 - val_out_3_specificity: 0.9980 - val_out_2_accuracy: 0.9933 - val_out_2_dice_score: 0.7718 - val_out_2_precision: 0.9937 - val_out_2_sensitivity: 0.9931 - val_out_2_specificity: 0.9979 - val_out_1_accuracy: 0.9928 - val_out_1_dice_score: 0.7661 - val_out_1_precision: 0.9930 - val_out_1_sensitivity: 0.9926 - val_out_1_specificity: 0.9977\n",
            "Epoch 48/100\n",
            "13/13 [==============================] - 25s 2s/step - loss: 5.0267 - final_output_loss: 1.1797 - out_3_loss: 1.1858 - out_2_loss: 1.2601 - out_1_loss: 1.2881 - final_output_accuracy: 0.9951 - final_output_dice_score: 0.8753 - final_output_precision: 0.9952 - final_output_sensitivity: 0.9921 - final_output_specificity: 0.9984 - out_3_accuracy: 0.9953 - out_3_dice_score: 0.8760 - out_3_precision: 0.9949 - out_3_sensitivity: 0.9947 - out_3_specificity: 0.9983 - out_2_accuracy: 0.9937 - out_2_dice_score: 0.8260 - out_2_precision: 0.9934 - out_2_sensitivity: 0.9930 - out_2_specificity: 0.9978 - out_1_accuracy: 0.9926 - out_1_dice_score: 0.8084 - out_1_precision: 0.9924 - out_1_sensitivity: 0.9920 - out_1_specificity: 0.9975 - val_loss: 5.0903 - val_final_output_loss: 1.1884 - val_out_3_loss: 1.1907 - val_out_2_loss: 1.2869 - val_out_1_loss: 1.3158 - val_final_output_accuracy: 0.9959 - val_final_output_dice_score: 0.8694 - val_final_output_precision: 0.9969 - val_final_output_sensitivity: 0.9939 - val_final_output_specificity: 0.9990 - val_out_3_accuracy: 0.9957 - val_out_3_dice_score: 0.8715 - val_out_3_precision: 0.9958 - val_out_3_sensitivity: 0.9957 - val_out_3_specificity: 0.9986 - val_out_2_accuracy: 0.9942 - val_out_2_dice_score: 0.8104 - val_out_2_precision: 0.9944 - val_out_2_sensitivity: 0.9940 - val_out_2_specificity: 0.9981 - val_out_1_accuracy: 0.9932 - val_out_1_dice_score: 0.7906 - val_out_1_precision: 0.9934 - val_out_1_sensitivity: 0.9931 - val_out_1_specificity: 0.9978\n",
            "Epoch 49/100\n",
            "13/13 [==============================] - 25s 2s/step - loss: 5.1197 - final_output_loss: 1.2060 - out_3_loss: 1.2106 - out_2_loss: 1.2823 - out_1_loss: 1.3078 - final_output_accuracy: 0.9957 - final_output_dice_score: 0.8594 - final_output_precision: 0.9957 - final_output_sensitivity: 0.9926 - final_output_specificity: 0.9985 - out_3_accuracy: 0.9957 - out_3_dice_score: 0.8588 - out_3_precision: 0.9953 - out_3_sensitivity: 0.9952 - out_3_specificity: 0.9984 - out_2_accuracy: 0.9942 - out_2_dice_score: 0.8133 - out_2_precision: 0.9940 - out_2_sensitivity: 0.9937 - out_2_specificity: 0.9980 - out_1_accuracy: 0.9933 - out_1_dice_score: 0.7965 - out_1_precision: 0.9931 - out_1_sensitivity: 0.9928 - out_1_specificity: 0.9977 - val_loss: 5.0730 - val_final_output_loss: 1.1837 - val_out_3_loss: 1.1889 - val_out_2_loss: 1.2838 - val_out_1_loss: 1.3077 - val_final_output_accuracy: 0.9961 - val_final_output_dice_score: 0.8711 - val_final_output_precision: 0.9970 - val_final_output_sensitivity: 0.9942 - val_final_output_specificity: 0.9990 - val_out_3_accuracy: 0.9957 - val_out_3_dice_score: 0.8717 - val_out_3_precision: 0.9959 - val_out_3_sensitivity: 0.9957 - val_out_3_specificity: 0.9986 - val_out_2_accuracy: 0.9943 - val_out_2_dice_score: 0.8113 - val_out_2_precision: 0.9945 - val_out_2_sensitivity: 0.9941 - val_out_2_specificity: 0.9982 - val_out_1_accuracy: 0.9936 - val_out_1_dice_score: 0.7911 - val_out_1_precision: 0.9939 - val_out_1_sensitivity: 0.9935 - val_out_1_specificity: 0.9980\n",
            "Epoch 50/100\n",
            "13/13 [==============================] - 25s 2s/step - loss: 4.9906 - final_output_loss: 1.1758 - out_3_loss: 1.1803 - out_2_loss: 1.2463 - out_1_loss: 1.2754 - final_output_accuracy: 0.9956 - final_output_dice_score: 0.8840 - final_output_precision: 0.9960 - final_output_sensitivity: 0.9922 - final_output_specificity: 0.9986 - out_3_accuracy: 0.9955 - out_3_dice_score: 0.8833 - out_3_precision: 0.9951 - out_3_sensitivity: 0.9949 - out_3_specificity: 0.9984 - out_2_accuracy: 0.9939 - out_2_dice_score: 0.8400 - out_2_precision: 0.9936 - out_2_sensitivity: 0.9933 - out_2_specificity: 0.9979 - out_1_accuracy: 0.9928 - out_1_dice_score: 0.8218 - out_1_precision: 0.9925 - out_1_sensitivity: 0.9922 - out_1_specificity: 0.9975 - val_loss: 5.0851 - val_final_output_loss: 1.1866 - val_out_3_loss: 1.1957 - val_out_2_loss: 1.2810 - val_out_1_loss: 1.3127 - val_final_output_accuracy: 0.9947 - val_final_output_dice_score: 0.8643 - val_final_output_precision: 0.9958 - val_final_output_sensitivity: 0.9892 - val_final_output_specificity: 0.9986 - val_out_3_accuracy: 0.9950 - val_out_3_dice_score: 0.8586 - val_out_3_precision: 0.9952 - val_out_3_sensitivity: 0.9949 - val_out_3_specificity: 0.9984 - val_out_2_accuracy: 0.9934 - val_out_2_dice_score: 0.8047 - val_out_2_precision: 0.9937 - val_out_2_sensitivity: 0.9933 - val_out_2_specificity: 0.9979 - val_out_1_accuracy: 0.9923 - val_out_1_dice_score: 0.7812 - val_out_1_precision: 0.9926 - val_out_1_sensitivity: 0.9922 - val_out_1_specificity: 0.9975\n",
            "Epoch 51/100\n",
            "13/13 [==============================] - 25s 2s/step - loss: 5.0356 - final_output_loss: 1.1862 - out_3_loss: 1.1921 - out_2_loss: 1.2617 - out_1_loss: 1.2846 - final_output_accuracy: 0.9950 - final_output_dice_score: 0.8691 - final_output_precision: 0.9956 - final_output_sensitivity: 0.9908 - final_output_specificity: 0.9985 - out_3_accuracy: 0.9952 - out_3_dice_score: 0.8683 - out_3_precision: 0.9947 - out_3_sensitivity: 0.9945 - out_3_specificity: 0.9982 - out_2_accuracy: 0.9935 - out_2_dice_score: 0.8222 - out_2_precision: 0.9932 - out_2_sensitivity: 0.9928 - out_2_specificity: 0.9977 - out_1_accuracy: 0.9928 - out_1_dice_score: 0.8075 - out_1_precision: 0.9924 - out_1_sensitivity: 0.9920 - out_1_specificity: 0.9975 - val_loss: 5.1058 - val_final_output_loss: 1.1940 - val_out_3_loss: 1.2037 - val_out_2_loss: 1.2941 - val_out_1_loss: 1.3053 - val_final_output_accuracy: 0.9958 - val_final_output_dice_score: 0.8662 - val_final_output_precision: 0.9972 - val_final_output_sensitivity: 0.9940 - val_final_output_specificity: 0.9991 - val_out_3_accuracy: 0.9952 - val_out_3_dice_score: 0.8652 - val_out_3_precision: 0.9953 - val_out_3_sensitivity: 0.9951 - val_out_3_specificity: 0.9984 - val_out_2_accuracy: 0.9938 - val_out_2_dice_score: 0.8071 - val_out_2_precision: 0.9940 - val_out_2_sensitivity: 0.9936 - val_out_2_specificity: 0.9980 - val_out_1_accuracy: 0.9935 - val_out_1_dice_score: 0.7969 - val_out_1_precision: 0.9937 - val_out_1_sensitivity: 0.9934 - val_out_1_specificity: 0.9979\n",
            "Epoch 52/100\n",
            "13/13 [==============================] - 25s 2s/step - loss: 5.0491 - final_output_loss: 1.1873 - out_3_loss: 1.1914 - out_2_loss: 1.2662 - out_1_loss: 1.2916 - final_output_accuracy: 0.9953 - final_output_dice_score: 0.8717 - final_output_precision: 0.9957 - final_output_sensitivity: 0.9915 - final_output_specificity: 0.9985 - out_3_accuracy: 0.9953 - out_3_dice_score: 0.8723 - out_3_precision: 0.9949 - out_3_sensitivity: 0.9948 - out_3_specificity: 0.9983 - out_2_accuracy: 0.9940 - out_2_dice_score: 0.8237 - out_2_precision: 0.9937 - out_2_sensitivity: 0.9934 - out_2_specificity: 0.9979 - out_1_accuracy: 0.9930 - out_1_dice_score: 0.8066 - out_1_precision: 0.9927 - out_1_sensitivity: 0.9924 - out_1_specificity: 0.9976 - val_loss: 5.0207 - val_final_output_loss: 1.1717 - val_out_3_loss: 1.1786 - val_out_2_loss: 1.2640 - val_out_1_loss: 1.2976 - val_final_output_accuracy: 0.9962 - val_final_output_dice_score: 0.8804 - val_final_output_precision: 0.9968 - val_final_output_sensitivity: 0.9941 - val_final_output_specificity: 0.9989 - val_out_3_accuracy: 0.9961 - val_out_3_dice_score: 0.8778 - val_out_3_precision: 0.9962 - val_out_3_sensitivity: 0.9960 - val_out_3_specificity: 0.9987 - val_out_2_accuracy: 0.9942 - val_out_2_dice_score: 0.8213 - val_out_2_precision: 0.9944 - val_out_2_sensitivity: 0.9941 - val_out_2_specificity: 0.9981 - val_out_1_accuracy: 0.9925 - val_out_1_dice_score: 0.7946 - val_out_1_precision: 0.9927 - val_out_1_sensitivity: 0.9924 - val_out_1_specificity: 0.9976\n",
            "Epoch 53/100\n",
            "13/13 [==============================] - 25s 2s/step - loss: 5.1092 - final_output_loss: 1.2043 - out_3_loss: 1.2068 - out_2_loss: 1.2762 - out_1_loss: 1.3094 - final_output_accuracy: 0.9954 - final_output_dice_score: 0.8622 - final_output_precision: 0.9960 - final_output_sensitivity: 0.9921 - final_output_specificity: 0.9987 - out_3_accuracy: 0.9952 - out_3_dice_score: 0.8624 - out_3_precision: 0.9948 - out_3_sensitivity: 0.9947 - out_3_specificity: 0.9983 - out_2_accuracy: 0.9940 - out_2_dice_score: 0.8173 - out_2_precision: 0.9937 - out_2_sensitivity: 0.9934 - out_2_specificity: 0.9979 - out_1_accuracy: 0.9927 - out_1_dice_score: 0.7956 - out_1_precision: 0.9925 - out_1_sensitivity: 0.9922 - out_1_specificity: 0.9975 - val_loss: 5.0151 - val_final_output_loss: 1.1722 - val_out_3_loss: 1.1784 - val_out_2_loss: 1.2599 - val_out_1_loss: 1.2960 - val_final_output_accuracy: 0.9963 - val_final_output_dice_score: 0.8809 - val_final_output_precision: 0.9973 - val_final_output_sensitivity: 0.9938 - val_final_output_specificity: 0.9991 - val_out_3_accuracy: 0.9962 - val_out_3_dice_score: 0.8793 - val_out_3_precision: 0.9963 - val_out_3_sensitivity: 0.9961 - val_out_3_specificity: 0.9988 - val_out_2_accuracy: 0.9947 - val_out_2_dice_score: 0.8257 - val_out_2_precision: 0.9949 - val_out_2_sensitivity: 0.9946 - val_out_2_specificity: 0.9983 - val_out_1_accuracy: 0.9937 - val_out_1_dice_score: 0.8033 - val_out_1_precision: 0.9939 - val_out_1_sensitivity: 0.9936 - val_out_1_specificity: 0.9980\n",
            "Epoch 54/100\n",
            "13/13 [==============================] - 25s 2s/step - loss: 5.1647 - final_output_loss: 1.2242 - out_3_loss: 1.2246 - out_2_loss: 1.2881 - out_1_loss: 1.3154 - final_output_accuracy: 0.9941 - final_output_dice_score: 0.8473 - final_output_precision: 0.9942 - final_output_sensitivity: 0.9908 - final_output_specificity: 0.9980 - out_3_accuracy: 0.9948 - out_3_dice_score: 0.8517 - out_3_precision: 0.9944 - out_3_sensitivity: 0.9943 - out_3_specificity: 0.9981 - out_2_accuracy: 0.9932 - out_2_dice_score: 0.8099 - out_2_precision: 0.9928 - out_2_sensitivity: 0.9926 - out_2_specificity: 0.9976 - out_1_accuracy: 0.9919 - out_1_dice_score: 0.7915 - out_1_precision: 0.9916 - out_1_sensitivity: 0.9914 - out_1_specificity: 0.9972 - val_loss: 5.1199 - val_final_output_loss: 1.1853 - val_out_3_loss: 1.1996 - val_out_2_loss: 1.2810 - val_out_1_loss: 1.3457 - val_final_output_accuracy: 0.9959 - val_final_output_dice_score: 0.8750 - val_final_output_precision: 0.9964 - val_final_output_sensitivity: 0.9949 - val_final_output_specificity: 0.9988 - val_out_3_accuracy: 0.9953 - val_out_3_dice_score: 0.8689 - val_out_3_precision: 0.9954 - val_out_3_sensitivity: 0.9953 - val_out_3_specificity: 0.9985 - val_out_2_accuracy: 0.9943 - val_out_2_dice_score: 0.8183 - val_out_2_precision: 0.9945 - val_out_2_sensitivity: 0.9942 - val_out_2_specificity: 0.9982 - val_out_1_accuracy: 0.9925 - val_out_1_dice_score: 0.7779 - val_out_1_precision: 0.9927 - val_out_1_sensitivity: 0.9924 - val_out_1_specificity: 0.9976\n",
            "Epoch 55/100\n",
            "13/13 [==============================] - 25s 2s/step - loss: 4.9602 - final_output_loss: 1.1699 - out_3_loss: 1.1744 - out_2_loss: 1.2337 - out_1_loss: 1.2699 - final_output_accuracy: 0.9960 - final_output_dice_score: 0.8836 - final_output_precision: 0.9959 - final_output_sensitivity: 0.9937 - final_output_specificity: 0.9986 - out_3_accuracy: 0.9959 - out_3_dice_score: 0.8819 - out_3_precision: 0.9955 - out_3_sensitivity: 0.9954 - out_3_specificity: 0.9985 - out_2_accuracy: 0.9948 - out_2_dice_score: 0.8435 - out_2_precision: 0.9944 - out_2_sensitivity: 0.9942 - out_2_specificity: 0.9981 - out_1_accuracy: 0.9933 - out_1_dice_score: 0.8183 - out_1_precision: 0.9930 - out_1_sensitivity: 0.9928 - out_1_specificity: 0.9977 - val_loss: 4.9869 - val_final_output_loss: 1.1664 - val_out_3_loss: 1.1683 - val_out_2_loss: 1.2552 - val_out_1_loss: 1.2884 - val_final_output_accuracy: 0.9964 - val_final_output_dice_score: 0.8852 - val_final_output_precision: 0.9970 - val_final_output_sensitivity: 0.9948 - val_final_output_specificity: 0.9990 - val_out_3_accuracy: 0.9963 - val_out_3_dice_score: 0.8847 - val_out_3_precision: 0.9964 - val_out_3_sensitivity: 0.9962 - val_out_3_specificity: 0.9988 - val_out_2_accuracy: 0.9949 - val_out_2_dice_score: 0.8306 - val_out_2_precision: 0.9951 - val_out_2_sensitivity: 0.9948 - val_out_2_specificity: 0.9984 - val_out_1_accuracy: 0.9937 - val_out_1_dice_score: 0.8064 - val_out_1_precision: 0.9939 - val_out_1_sensitivity: 0.9936 - val_out_1_specificity: 0.9980\n",
            "Epoch 56/100\n",
            "13/13 [==============================] - 25s 2s/step - loss: 4.9608 - final_output_loss: 1.1680 - out_3_loss: 1.1748 - out_2_loss: 1.2387 - out_1_loss: 1.2672 - final_output_accuracy: 0.9953 - final_output_dice_score: 0.8865 - final_output_precision: 0.9953 - final_output_sensitivity: 0.9928 - final_output_specificity: 0.9984 - out_3_accuracy: 0.9952 - out_3_dice_score: 0.8842 - out_3_precision: 0.9947 - out_3_sensitivity: 0.9946 - out_3_specificity: 0.9982 - out_2_accuracy: 0.9937 - out_2_dice_score: 0.8439 - out_2_precision: 0.9934 - out_2_sensitivity: 0.9931 - out_2_specificity: 0.9978 - out_1_accuracy: 0.9926 - out_1_dice_score: 0.8264 - out_1_precision: 0.9923 - out_1_sensitivity: 0.9921 - out_1_specificity: 0.9974 - val_loss: 5.1220 - val_final_output_loss: 1.1910 - val_out_3_loss: 1.1997 - val_out_2_loss: 1.2897 - val_out_1_loss: 1.3331 - val_final_output_accuracy: 0.9951 - val_final_output_dice_score: 0.8661 - val_final_output_precision: 0.9954 - val_final_output_sensitivity: 0.9922 - val_final_output_specificity: 0.9985 - val_out_3_accuracy: 0.9953 - val_out_3_dice_score: 0.8629 - val_out_3_precision: 0.9954 - val_out_3_sensitivity: 0.9952 - val_out_3_specificity: 0.9985 - val_out_2_accuracy: 0.9936 - val_out_2_dice_score: 0.8067 - val_out_2_precision: 0.9937 - val_out_2_sensitivity: 0.9935 - val_out_2_specificity: 0.9979 - val_out_1_accuracy: 0.9930 - val_out_1_dice_score: 0.7863 - val_out_1_precision: 0.9931 - val_out_1_sensitivity: 0.9929 - val_out_1_specificity: 0.9977\n",
            "Epoch 57/100\n",
            "13/13 [==============================] - 25s 2s/step - loss: 5.1234 - final_output_loss: 1.2026 - out_3_loss: 1.2146 - out_2_loss: 1.2818 - out_1_loss: 1.3124 - final_output_accuracy: 0.9954 - final_output_dice_score: 0.8608 - final_output_precision: 0.9956 - final_output_sensitivity: 0.9920 - final_output_specificity: 0.9985 - out_3_accuracy: 0.9955 - out_3_dice_score: 0.8560 - out_3_precision: 0.9951 - out_3_sensitivity: 0.9950 - out_3_specificity: 0.9984 - out_2_accuracy: 0.9941 - out_2_dice_score: 0.8134 - out_2_precision: 0.9939 - out_2_sensitivity: 0.9936 - out_2_specificity: 0.9980 - out_1_accuracy: 0.9930 - out_1_dice_score: 0.7923 - out_1_precision: 0.9927 - out_1_sensitivity: 0.9925 - out_1_specificity: 0.9976 - val_loss: 5.0554 - val_final_output_loss: 1.1813 - val_out_3_loss: 1.1947 - val_out_2_loss: 1.2723 - val_out_1_loss: 1.2988 - val_final_output_accuracy: 0.9961 - val_final_output_dice_score: 0.8765 - val_final_output_precision: 0.9971 - val_final_output_sensitivity: 0.9946 - val_final_output_specificity: 0.9990 - val_out_3_accuracy: 0.9956 - val_out_3_dice_score: 0.8722 - val_out_3_precision: 0.9957 - val_out_3_sensitivity: 0.9955 - val_out_3_specificity: 0.9986 - val_out_2_accuracy: 0.9946 - val_out_2_dice_score: 0.8221 - val_out_2_precision: 0.9948 - val_out_2_sensitivity: 0.9945 - val_out_2_specificity: 0.9983 - val_out_1_accuracy: 0.9938 - val_out_1_dice_score: 0.8017 - val_out_1_precision: 0.9940 - val_out_1_sensitivity: 0.9937 - val_out_1_specificity: 0.9980\n",
            "Epoch 58/100\n",
            "13/13 [==============================] - 25s 2s/step - loss: 5.0846 - final_output_loss: 1.1936 - out_3_loss: 1.2015 - out_2_loss: 1.2719 - out_1_loss: 1.3057 - final_output_accuracy: 0.9954 - final_output_dice_score: 0.8631 - final_output_precision: 0.9958 - final_output_sensitivity: 0.9914 - final_output_specificity: 0.9986 - out_3_accuracy: 0.9954 - out_3_dice_score: 0.8598 - out_3_precision: 0.9950 - out_3_sensitivity: 0.9949 - out_3_specificity: 0.9983 - out_2_accuracy: 0.9943 - out_2_dice_score: 0.8133 - out_2_precision: 0.9940 - out_2_sensitivity: 0.9937 - out_2_specificity: 0.9980 - out_1_accuracy: 0.9934 - out_1_dice_score: 0.7915 - out_1_precision: 0.9932 - out_1_sensitivity: 0.9929 - out_1_specificity: 0.9977 - val_loss: 5.1379 - val_final_output_loss: 1.1916 - val_out_3_loss: 1.1921 - val_out_2_loss: 1.2925 - val_out_1_loss: 1.3532 - val_final_output_accuracy: 0.9962 - val_final_output_dice_score: 0.8720 - val_final_output_precision: 0.9973 - val_final_output_sensitivity: 0.9933 - val_final_output_specificity: 0.9991 - val_out_3_accuracy: 0.9960 - val_out_3_dice_score: 0.8739 - val_out_3_precision: 0.9961 - val_out_3_sensitivity: 0.9960 - val_out_3_specificity: 0.9987 - val_out_2_accuracy: 0.9946 - val_out_2_dice_score: 0.8168 - val_out_2_precision: 0.9947 - val_out_2_sensitivity: 0.9945 - val_out_2_specificity: 0.9982 - val_out_1_accuracy: 0.9932 - val_out_1_dice_score: 0.7822 - val_out_1_precision: 0.9934 - val_out_1_sensitivity: 0.9932 - val_out_1_specificity: 0.9978\n",
            "Epoch 59/100\n",
            "13/13 [==============================] - 25s 2s/step - loss: 5.0624 - final_output_loss: 1.1946 - out_3_loss: 1.1960 - out_2_loss: 1.2629 - out_1_loss: 1.2971 - final_output_accuracy: 0.9955 - final_output_dice_score: 0.8724 - final_output_precision: 0.9961 - final_output_sensitivity: 0.9921 - final_output_specificity: 0.9987 - out_3_accuracy: 0.9955 - out_3_dice_score: 0.8734 - out_3_precision: 0.9951 - out_3_sensitivity: 0.9949 - out_3_specificity: 0.9984 - out_2_accuracy: 0.9940 - out_2_dice_score: 0.8316 - out_2_precision: 0.9937 - out_2_sensitivity: 0.9934 - out_2_specificity: 0.9979 - out_1_accuracy: 0.9926 - out_1_dice_score: 0.8095 - out_1_precision: 0.9923 - out_1_sensitivity: 0.9920 - out_1_specificity: 0.9974 - val_loss: 5.0170 - val_final_output_loss: 1.1672 - val_out_3_loss: 1.1756 - val_out_2_loss: 1.2666 - val_out_1_loss: 1.2996 - val_final_output_accuracy: 0.9958 - val_final_output_dice_score: 0.8813 - val_final_output_precision: 0.9967 - val_final_output_sensitivity: 0.9923 - val_final_output_specificity: 0.9989 - val_out_3_accuracy: 0.9959 - val_out_3_dice_score: 0.8774 - val_out_3_precision: 0.9960 - val_out_3_sensitivity: 0.9958 - val_out_3_specificity: 0.9987 - val_out_2_accuracy: 0.9943 - val_out_2_dice_score: 0.8222 - val_out_2_precision: 0.9945 - val_out_2_sensitivity: 0.9943 - val_out_2_specificity: 0.9982 - val_out_1_accuracy: 0.9934 - val_out_1_dice_score: 0.8011 - val_out_1_precision: 0.9936 - val_out_1_sensitivity: 0.9933 - val_out_1_specificity: 0.9979\n",
            "Epoch 60/100\n",
            "13/13 [==============================] - 25s 2s/step - loss: 5.2068 - final_output_loss: 1.2366 - out_3_loss: 1.2404 - out_2_loss: 1.2961 - out_1_loss: 1.3251 - final_output_accuracy: 0.9956 - final_output_dice_score: 0.8423 - final_output_precision: 0.9961 - final_output_sensitivity: 0.9920 - final_output_specificity: 0.9987 - out_3_accuracy: 0.9957 - out_3_dice_score: 0.8422 - out_3_precision: 0.9951 - out_3_sensitivity: 0.9950 - out_3_specificity: 0.9984 - out_2_accuracy: 0.9945 - out_2_dice_score: 0.8053 - out_2_precision: 0.9940 - out_2_sensitivity: 0.9937 - out_2_specificity: 0.9980 - out_1_accuracy: 0.9932 - out_1_dice_score: 0.7860 - out_1_precision: 0.9929 - out_1_sensitivity: 0.9925 - out_1_specificity: 0.9976 - val_loss: 5.0286 - val_final_output_loss: 1.1748 - val_out_3_loss: 1.1830 - val_out_2_loss: 1.2602 - val_out_1_loss: 1.3026 - val_final_output_accuracy: 0.9957 - val_final_output_dice_score: 0.8754 - val_final_output_precision: 0.9968 - val_final_output_sensitivity: 0.9920 - val_final_output_specificity: 0.9989 - val_out_3_accuracy: 0.9959 - val_out_3_dice_score: 0.8719 - val_out_3_precision: 0.9960 - val_out_3_sensitivity: 0.9958 - val_out_3_specificity: 0.9987 - val_out_2_accuracy: 0.9948 - val_out_2_dice_score: 0.8260 - val_out_2_precision: 0.9949 - val_out_2_sensitivity: 0.9947 - val_out_2_specificity: 0.9983 - val_out_1_accuracy: 0.9935 - val_out_1_dice_score: 0.7991 - val_out_1_precision: 0.9936 - val_out_1_sensitivity: 0.9934 - val_out_1_specificity: 0.9979\n",
            "Epoch 61/100\n",
            "13/13 [==============================] - 25s 2s/step - loss: 4.9766 - final_output_loss: 1.1758 - out_3_loss: 1.1808 - out_2_loss: 1.2361 - out_1_loss: 1.2723 - final_output_accuracy: 0.9955 - final_output_dice_score: 0.8790 - final_output_precision: 0.9959 - final_output_sensitivity: 0.9922 - final_output_specificity: 0.9986 - out_3_accuracy: 0.9957 - out_3_dice_score: 0.8786 - out_3_precision: 0.9952 - out_3_sensitivity: 0.9951 - out_3_specificity: 0.9984 - out_2_accuracy: 0.9944 - out_2_dice_score: 0.8433 - out_2_precision: 0.9941 - out_2_sensitivity: 0.9938 - out_2_specificity: 0.9980 - out_1_accuracy: 0.9931 - out_1_dice_score: 0.8199 - out_1_precision: 0.9928 - out_1_sensitivity: 0.9925 - out_1_specificity: 0.9976 - val_loss: 5.0157 - val_final_output_loss: 1.1654 - val_out_3_loss: 1.1700 - val_out_2_loss: 1.2587 - val_out_1_loss: 1.3138 - val_final_output_accuracy: 0.9963 - val_final_output_dice_score: 0.8854 - val_final_output_precision: 0.9972 - val_final_output_sensitivity: 0.9942 - val_final_output_specificity: 0.9991 - val_out_3_accuracy: 0.9962 - val_out_3_dice_score: 0.8847 - val_out_3_precision: 0.9963 - val_out_3_sensitivity: 0.9962 - val_out_3_specificity: 0.9988 - val_out_2_accuracy: 0.9947 - val_out_2_dice_score: 0.8293 - val_out_2_precision: 0.9949 - val_out_2_sensitivity: 0.9947 - val_out_2_specificity: 0.9983 - val_out_1_accuracy: 0.9936 - val_out_1_dice_score: 0.8000 - val_out_1_precision: 0.9937 - val_out_1_sensitivity: 0.9935 - val_out_1_specificity: 0.9979\n",
            "Epoch 62/100\n",
            "13/13 [==============================] - 25s 2s/step - loss: 5.1024 - final_output_loss: 1.2095 - out_3_loss: 1.2136 - out_2_loss: 1.2733 - out_1_loss: 1.2944 - final_output_accuracy: 0.9958 - final_output_dice_score: 0.8619 - final_output_precision: 0.9961 - final_output_sensitivity: 0.9921 - final_output_specificity: 0.9987 - out_3_accuracy: 0.9959 - out_3_dice_score: 0.8597 - out_3_precision: 0.9954 - out_3_sensitivity: 0.9953 - out_3_specificity: 0.9985 - out_2_accuracy: 0.9946 - out_2_dice_score: 0.8210 - out_2_precision: 0.9942 - out_2_sensitivity: 0.9940 - out_2_specificity: 0.9981 - out_1_accuracy: 0.9937 - out_1_dice_score: 0.8079 - out_1_precision: 0.9934 - out_1_sensitivity: 0.9931 - out_1_specificity: 0.9978 - val_loss: 5.0304 - val_final_output_loss: 1.1741 - val_out_3_loss: 1.1730 - val_out_2_loss: 1.2656 - val_out_1_loss: 1.3099 - val_final_output_accuracy: 0.9962 - val_final_output_dice_score: 0.8812 - val_final_output_precision: 0.9974 - val_final_output_sensitivity: 0.9941 - val_final_output_specificity: 0.9992 - val_out_3_accuracy: 0.9962 - val_out_3_dice_score: 0.8842 - val_out_3_precision: 0.9962 - val_out_3_sensitivity: 0.9961 - val_out_3_specificity: 0.9987 - val_out_2_accuracy: 0.9948 - val_out_2_dice_score: 0.8279 - val_out_2_precision: 0.9949 - val_out_2_sensitivity: 0.9947 - val_out_2_specificity: 0.9983 - val_out_1_accuracy: 0.9935 - val_out_1_dice_score: 0.8011 - val_out_1_precision: 0.9937 - val_out_1_sensitivity: 0.9934 - val_out_1_specificity: 0.9979\n",
            "Epoch 63/100\n",
            "13/13 [==============================] - 25s 2s/step - loss: 4.9980 - final_output_loss: 1.1764 - out_3_loss: 1.1832 - out_2_loss: 1.2500 - out_1_loss: 1.2769 - final_output_accuracy: 0.9954 - final_output_dice_score: 0.8784 - final_output_precision: 0.9959 - final_output_sensitivity: 0.9913 - final_output_specificity: 0.9986 - out_3_accuracy: 0.9956 - out_3_dice_score: 0.8762 - out_3_precision: 0.9951 - out_3_sensitivity: 0.9949 - out_3_specificity: 0.9984 - out_2_accuracy: 0.9940 - out_2_dice_score: 0.8341 - out_2_precision: 0.9937 - out_2_sensitivity: 0.9934 - out_2_specificity: 0.9979 - out_1_accuracy: 0.9928 - out_1_dice_score: 0.8166 - out_1_precision: 0.9925 - out_1_sensitivity: 0.9923 - out_1_specificity: 0.9975 - val_loss: 5.0616 - val_final_output_loss: 1.1757 - val_out_3_loss: 1.1878 - val_out_2_loss: 1.2712 - val_out_1_loss: 1.3195 - val_final_output_accuracy: 0.9961 - val_final_output_dice_score: 0.8785 - val_final_output_precision: 0.9971 - val_final_output_sensitivity: 0.9945 - val_final_output_specificity: 0.9990 - val_out_3_accuracy: 0.9955 - val_out_3_dice_score: 0.8742 - val_out_3_precision: 0.9956 - val_out_3_sensitivity: 0.9955 - val_out_3_specificity: 0.9985 - val_out_2_accuracy: 0.9944 - val_out_2_dice_score: 0.8225 - val_out_2_precision: 0.9946 - val_out_2_sensitivity: 0.9943 - val_out_2_specificity: 0.9982 - val_out_1_accuracy: 0.9930 - val_out_1_dice_score: 0.7945 - val_out_1_precision: 0.9932 - val_out_1_sensitivity: 0.9930 - val_out_1_specificity: 0.9977\n",
            "Epoch 64/100\n",
            "13/13 [==============================] - 25s 2s/step - loss: 5.0737 - final_output_loss: 1.1997 - out_3_loss: 1.2072 - out_2_loss: 1.2638 - out_1_loss: 1.2917 - final_output_accuracy: 0.9951 - final_output_dice_score: 0.8676 - final_output_precision: 0.9952 - final_output_sensitivity: 0.9916 - final_output_specificity: 0.9984 - out_3_accuracy: 0.9952 - out_3_dice_score: 0.8651 - out_3_precision: 0.9947 - out_3_sensitivity: 0.9946 - out_3_specificity: 0.9982 - out_2_accuracy: 0.9939 - out_2_dice_score: 0.8263 - out_2_precision: 0.9936 - out_2_sensitivity: 0.9933 - out_2_specificity: 0.9978 - out_1_accuracy: 0.9929 - out_1_dice_score: 0.8080 - out_1_precision: 0.9926 - out_1_sensitivity: 0.9923 - out_1_specificity: 0.9975 - val_loss: 5.0487 - val_final_output_loss: 1.1688 - val_out_3_loss: 1.1826 - val_out_2_loss: 1.2736 - val_out_1_loss: 1.3160 - val_final_output_accuracy: 0.9960 - val_final_output_dice_score: 0.8789 - val_final_output_precision: 0.9965 - val_final_output_sensitivity: 0.9937 - val_final_output_specificity: 0.9988 - val_out_3_accuracy: 0.9959 - val_out_3_dice_score: 0.8730 - val_out_3_precision: 0.9960 - val_out_3_sensitivity: 0.9959 - val_out_3_specificity: 0.9987 - val_out_2_accuracy: 0.9946 - val_out_2_dice_score: 0.8187 - val_out_2_precision: 0.9948 - val_out_2_sensitivity: 0.9945 - val_out_2_specificity: 0.9983 - val_out_1_accuracy: 0.9934 - val_out_1_dice_score: 0.7942 - val_out_1_precision: 0.9935 - val_out_1_sensitivity: 0.9933 - val_out_1_specificity: 0.9978\n",
            "Epoch 65/100\n",
            "13/13 [==============================] - 25s 2s/step - loss: 5.1821 - final_output_loss: 1.2195 - out_3_loss: 1.2325 - out_2_loss: 1.2969 - out_1_loss: 1.3219 - final_output_accuracy: 0.9953 - final_output_dice_score: 0.8506 - final_output_precision: 0.9955 - final_output_sensitivity: 0.9923 - final_output_specificity: 0.9985 - out_3_accuracy: 0.9953 - out_3_dice_score: 0.8462 - out_3_precision: 0.9949 - out_3_sensitivity: 0.9948 - out_3_specificity: 0.9983 - out_2_accuracy: 0.9942 - out_2_dice_score: 0.8050 - out_2_precision: 0.9939 - out_2_sensitivity: 0.9936 - out_2_specificity: 0.9979 - out_1_accuracy: 0.9930 - out_1_dice_score: 0.7870 - out_1_precision: 0.9928 - out_1_sensitivity: 0.9925 - out_1_specificity: 0.9976 - val_loss: 5.1965 - val_final_output_loss: 1.2040 - val_out_3_loss: 1.2123 - val_out_2_loss: 1.3141 - val_out_1_loss: 1.3588 - val_final_output_accuracy: 0.9955 - val_final_output_dice_score: 0.8530 - val_final_output_precision: 0.9963 - val_final_output_sensitivity: 0.9923 - val_final_output_specificity: 0.9988 - val_out_3_accuracy: 0.9954 - val_out_3_dice_score: 0.8491 - val_out_3_precision: 0.9956 - val_out_3_sensitivity: 0.9953 - val_out_3_specificity: 0.9985 - val_out_2_accuracy: 0.9935 - val_out_2_dice_score: 0.7852 - val_out_2_precision: 0.9938 - val_out_2_sensitivity: 0.9934 - val_out_2_specificity: 0.9979 - val_out_1_accuracy: 0.9924 - val_out_1_dice_score: 0.7543 - val_out_1_precision: 0.9926 - val_out_1_sensitivity: 0.9922 - val_out_1_specificity: 0.9975\n",
            "Epoch 66/100\n",
            "13/13 [==============================] - 25s 2s/step - loss: 5.1210 - final_output_loss: 1.2044 - out_3_loss: 1.2109 - out_2_loss: 1.2788 - out_1_loss: 1.3158 - final_output_accuracy: 0.9950 - final_output_dice_score: 0.8624 - final_output_precision: 0.9950 - final_output_sensitivity: 0.9923 - final_output_specificity: 0.9983 - out_3_accuracy: 0.9951 - out_3_dice_score: 0.8610 - out_3_precision: 0.9947 - out_3_sensitivity: 0.9945 - out_3_specificity: 0.9982 - out_2_accuracy: 0.9937 - out_2_dice_score: 0.8176 - out_2_precision: 0.9934 - out_2_sensitivity: 0.9931 - out_2_specificity: 0.9978 - out_1_accuracy: 0.9925 - out_1_dice_score: 0.7933 - out_1_precision: 0.9923 - out_1_sensitivity: 0.9920 - out_1_specificity: 0.9974 - val_loss: 5.0186 - val_final_output_loss: 1.1740 - val_out_3_loss: 1.1823 - val_out_2_loss: 1.2648 - val_out_1_loss: 1.2901 - val_final_output_accuracy: 0.9949 - val_final_output_dice_score: 0.8706 - val_final_output_precision: 0.9955 - val_final_output_sensitivity: 0.9914 - val_final_output_specificity: 0.9985 - val_out_3_accuracy: 0.9953 - val_out_3_dice_score: 0.8674 - val_out_3_precision: 0.9954 - val_out_3_sensitivity: 0.9953 - val_out_3_specificity: 0.9985 - val_out_2_accuracy: 0.9945 - val_out_2_dice_score: 0.8199 - val_out_2_precision: 0.9947 - val_out_2_sensitivity: 0.9944 - val_out_2_specificity: 0.9982 - val_out_1_accuracy: 0.9936 - val_out_1_dice_score: 0.8033 - val_out_1_precision: 0.9938 - val_out_1_sensitivity: 0.9935 - val_out_1_specificity: 0.9979\n",
            "Epoch 67/100\n",
            "13/13 [==============================] - 25s 2s/step - loss: 5.1631 - final_output_loss: 1.2128 - out_3_loss: 1.2170 - out_2_loss: 1.2948 - out_1_loss: 1.3273 - final_output_accuracy: 0.9963 - final_output_dice_score: 0.8546 - final_output_precision: 0.9966 - final_output_sensitivity: 0.9936 - final_output_specificity: 0.9989 - out_3_accuracy: 0.9963 - out_3_dice_score: 0.8539 - out_3_precision: 0.9959 - out_3_sensitivity: 0.9958 - out_3_specificity: 0.9986 - out_2_accuracy: 0.9951 - out_2_dice_score: 0.8038 - out_2_precision: 0.9948 - out_2_sensitivity: 0.9946 - out_2_specificity: 0.9983 - out_1_accuracy: 0.9940 - out_1_dice_score: 0.7835 - out_1_precision: 0.9937 - out_1_sensitivity: 0.9935 - out_1_specificity: 0.9979 - val_loss: 5.0043 - val_final_output_loss: 1.1577 - val_out_3_loss: 1.1656 - val_out_2_loss: 1.2637 - val_out_1_loss: 1.3097 - val_final_output_accuracy: 0.9963 - val_final_output_dice_score: 0.8898 - val_final_output_precision: 0.9969 - val_final_output_sensitivity: 0.9939 - val_final_output_specificity: 0.9990 - val_out_3_accuracy: 0.9963 - val_out_3_dice_score: 0.8866 - val_out_3_precision: 0.9963 - val_out_3_sensitivity: 0.9962 - val_out_3_specificity: 0.9988 - val_out_2_accuracy: 0.9945 - val_out_2_dice_score: 0.8256 - val_out_2_precision: 0.9947 - val_out_2_sensitivity: 0.9944 - val_out_2_specificity: 0.9982 - val_out_1_accuracy: 0.9935 - val_out_1_dice_score: 0.7986 - val_out_1_precision: 0.9937 - val_out_1_sensitivity: 0.9934 - val_out_1_specificity: 0.9979\n",
            "Epoch 68/100\n",
            "13/13 [==============================] - 25s 2s/step - loss: 4.9694 - final_output_loss: 1.1693 - out_3_loss: 1.1733 - out_2_loss: 1.2424 - out_1_loss: 1.2738 - final_output_accuracy: 0.9955 - final_output_dice_score: 0.8852 - final_output_precision: 0.9954 - final_output_sensitivity: 0.9920 - final_output_specificity: 0.9984 - out_3_accuracy: 0.9957 - out_3_dice_score: 0.8856 - out_3_precision: 0.9951 - out_3_sensitivity: 0.9950 - out_3_specificity: 0.9983 - out_2_accuracy: 0.9943 - out_2_dice_score: 0.8425 - out_2_precision: 0.9937 - out_2_sensitivity: 0.9935 - out_2_specificity: 0.9979 - out_1_accuracy: 0.9934 - out_1_dice_score: 0.8214 - out_1_precision: 0.9927 - out_1_sensitivity: 0.9925 - out_1_specificity: 0.9976 - val_loss: 4.9793 - val_final_output_loss: 1.1635 - val_out_3_loss: 1.1706 - val_out_2_loss: 1.2557 - val_out_1_loss: 1.2825 - val_final_output_accuracy: 0.9964 - val_final_output_dice_score: 0.8851 - val_final_output_precision: 0.9974 - val_final_output_sensitivity: 0.9942 - val_final_output_specificity: 0.9991 - val_out_3_accuracy: 0.9962 - val_out_3_dice_score: 0.8829 - val_out_3_precision: 0.9963 - val_out_3_sensitivity: 0.9961 - val_out_3_specificity: 0.9988 - val_out_2_accuracy: 0.9948 - val_out_2_dice_score: 0.8312 - val_out_2_precision: 0.9950 - val_out_2_sensitivity: 0.9947 - val_out_2_specificity: 0.9983 - val_out_1_accuracy: 0.9939 - val_out_1_dice_score: 0.8122 - val_out_1_precision: 0.9940 - val_out_1_sensitivity: 0.9938 - val_out_1_specificity: 0.9980\n",
            "Epoch 69/100\n",
            "13/13 [==============================] - 25s 2s/step - loss: 5.0295 - final_output_loss: 1.1856 - out_3_loss: 1.1912 - out_2_loss: 1.2562 - out_1_loss: 1.2856 - final_output_accuracy: 0.9960 - final_output_dice_score: 0.8760 - final_output_precision: 0.9964 - final_output_sensitivity: 0.9930 - final_output_specificity: 0.9988 - out_3_accuracy: 0.9959 - out_3_dice_score: 0.8750 - out_3_precision: 0.9954 - out_3_sensitivity: 0.9953 - out_3_specificity: 0.9985 - out_2_accuracy: 0.9946 - out_2_dice_score: 0.8332 - out_2_precision: 0.9943 - out_2_sensitivity: 0.9940 - out_2_specificity: 0.9981 - out_1_accuracy: 0.9934 - out_1_dice_score: 0.8150 - out_1_precision: 0.9931 - out_1_sensitivity: 0.9929 - out_1_specificity: 0.9977 - val_loss: 4.9453 - val_final_output_loss: 1.1532 - val_out_3_loss: 1.1611 - val_out_2_loss: 1.2475 - val_out_1_loss: 1.2765 - val_final_output_accuracy: 0.9966 - val_final_output_dice_score: 0.8938 - val_final_output_precision: 0.9972 - val_final_output_sensitivity: 0.9949 - val_final_output_specificity: 0.9991 - val_out_3_accuracy: 0.9965 - val_out_3_dice_score: 0.8910 - val_out_3_precision: 0.9965 - val_out_3_sensitivity: 0.9964 - val_out_3_specificity: 0.9988 - val_out_2_accuracy: 0.9951 - val_out_2_dice_score: 0.8375 - val_out_2_precision: 0.9952 - val_out_2_sensitivity: 0.9950 - val_out_2_specificity: 0.9984 - val_out_1_accuracy: 0.9940 - val_out_1_dice_score: 0.8183 - val_out_1_precision: 0.9941 - val_out_1_sensitivity: 0.9939 - val_out_1_specificity: 0.9980\n",
            "Epoch 70/100\n",
            "13/13 [==============================] - 25s 2s/step - loss: 4.9110 - final_output_loss: 1.1594 - out_3_loss: 1.1648 - out_2_loss: 1.2266 - out_1_loss: 1.2494 - final_output_accuracy: 0.9954 - final_output_dice_score: 0.8899 - final_output_precision: 0.9956 - final_output_sensitivity: 0.9921 - final_output_specificity: 0.9985 - out_3_accuracy: 0.9956 - out_3_dice_score: 0.8882 - out_3_precision: 0.9951 - out_3_sensitivity: 0.9949 - out_3_specificity: 0.9984 - out_2_accuracy: 0.9943 - out_2_dice_score: 0.8500 - out_2_precision: 0.9939 - out_2_sensitivity: 0.9936 - out_2_specificity: 0.9980 - out_1_accuracy: 0.9932 - out_1_dice_score: 0.8353 - out_1_precision: 0.9929 - out_1_sensitivity: 0.9926 - out_1_specificity: 0.9976 - val_loss: 4.9418 - val_final_output_loss: 1.1553 - val_out_3_loss: 1.1619 - val_out_2_loss: 1.2434 - val_out_1_loss: 1.2742 - val_final_output_accuracy: 0.9966 - val_final_output_dice_score: 0.8935 - val_final_output_precision: 0.9971 - val_final_output_sensitivity: 0.9951 - val_final_output_specificity: 0.9990 - val_out_3_accuracy: 0.9964 - val_out_3_dice_score: 0.8901 - val_out_3_precision: 0.9965 - val_out_3_sensitivity: 0.9964 - val_out_3_specificity: 0.9988 - val_out_2_accuracy: 0.9949 - val_out_2_dice_score: 0.8374 - val_out_2_precision: 0.9951 - val_out_2_sensitivity: 0.9948 - val_out_2_specificity: 0.9984 - val_out_1_accuracy: 0.9936 - val_out_1_dice_score: 0.8127 - val_out_1_precision: 0.9937 - val_out_1_sensitivity: 0.9935 - val_out_1_specificity: 0.9979\n",
            "Epoch 71/100\n",
            "13/13 [==============================] - 25s 2s/step - loss: 4.9728 - final_output_loss: 1.1759 - out_3_loss: 1.1821 - out_2_loss: 1.2386 - out_1_loss: 1.2655 - final_output_accuracy: 0.9952 - final_output_dice_score: 0.8825 - final_output_precision: 0.9956 - final_output_sensitivity: 0.9918 - final_output_specificity: 0.9985 - out_3_accuracy: 0.9954 - out_3_dice_score: 0.8798 - out_3_precision: 0.9949 - out_3_sensitivity: 0.9948 - out_3_specificity: 0.9983 - out_2_accuracy: 0.9940 - out_2_dice_score: 0.8437 - out_2_precision: 0.9937 - out_2_sensitivity: 0.9934 - out_2_specificity: 0.9979 - out_1_accuracy: 0.9932 - out_1_dice_score: 0.8251 - out_1_precision: 0.9929 - out_1_sensitivity: 0.9926 - out_1_specificity: 0.9976 - val_loss: 4.9830 - val_final_output_loss: 1.1687 - val_out_3_loss: 1.1739 - val_out_2_loss: 1.2555 - val_out_1_loss: 1.2783 - val_final_output_accuracy: 0.9966 - val_final_output_dice_score: 0.8860 - val_final_output_precision: 0.9973 - val_final_output_sensitivity: 0.9950 - val_final_output_specificity: 0.9991 - val_out_3_accuracy: 0.9964 - val_out_3_dice_score: 0.8843 - val_out_3_precision: 0.9964 - val_out_3_sensitivity: 0.9963 - val_out_3_specificity: 0.9988 - val_out_2_accuracy: 0.9951 - val_out_2_dice_score: 0.8325 - val_out_2_precision: 0.9953 - val_out_2_sensitivity: 0.9950 - val_out_2_specificity: 0.9984 - val_out_1_accuracy: 0.9942 - val_out_1_dice_score: 0.8153 - val_out_1_precision: 0.9943 - val_out_1_sensitivity: 0.9941 - val_out_1_specificity: 0.9981\n",
            "Epoch 72/100\n",
            "13/13 [==============================] - 25s 2s/step - loss: 4.8698 - final_output_loss: 1.1463 - out_3_loss: 1.1519 - out_2_loss: 1.2155 - out_1_loss: 1.2455 - final_output_accuracy: 0.9961 - final_output_dice_score: 0.8930 - final_output_precision: 0.9965 - final_output_sensitivity: 0.9931 - final_output_specificity: 0.9988 - out_3_accuracy: 0.9962 - out_3_dice_score: 0.8916 - out_3_precision: 0.9957 - out_3_sensitivity: 0.9956 - out_3_specificity: 0.9986 - out_2_accuracy: 0.9948 - out_2_dice_score: 0.8497 - out_2_precision: 0.9945 - out_2_sensitivity: 0.9942 - out_2_specificity: 0.9982 - out_1_accuracy: 0.9936 - out_1_dice_score: 0.8298 - out_1_precision: 0.9933 - out_1_sensitivity: 0.9931 - out_1_specificity: 0.9978 - val_loss: 4.9225 - val_final_output_loss: 1.1502 - val_out_3_loss: 1.1588 - val_out_2_loss: 1.2422 - val_out_1_loss: 1.2651 - val_final_output_accuracy: 0.9965 - val_final_output_dice_score: 0.8941 - val_final_output_precision: 0.9969 - val_final_output_sensitivity: 0.9946 - val_final_output_specificity: 0.9990 - val_out_3_accuracy: 0.9964 - val_out_3_dice_score: 0.8900 - val_out_3_precision: 0.9965 - val_out_3_sensitivity: 0.9964 - val_out_3_specificity: 0.9988 - val_out_2_accuracy: 0.9949 - val_out_2_dice_score: 0.8372 - val_out_2_precision: 0.9951 - val_out_2_sensitivity: 0.9948 - val_out_2_specificity: 0.9984 - val_out_1_accuracy: 0.9940 - val_out_1_dice_score: 0.8209 - val_out_1_precision: 0.9942 - val_out_1_sensitivity: 0.9939 - val_out_1_specificity: 0.9981\n",
            "Epoch 73/100\n",
            "13/13 [==============================] - 25s 2s/step - loss: 5.2397 - final_output_loss: 1.2432 - out_3_loss: 1.2544 - out_2_loss: 1.3000 - out_1_loss: 1.3316 - final_output_accuracy: 0.9958 - final_output_dice_score: 0.8360 - final_output_precision: 0.9958 - final_output_sensitivity: 0.9931 - final_output_specificity: 0.9986 - out_3_accuracy: 0.9959 - out_3_dice_score: 0.8315 - out_3_precision: 0.9955 - out_3_sensitivity: 0.9954 - out_3_specificity: 0.9985 - out_2_accuracy: 0.9948 - out_2_dice_score: 0.8029 - out_2_precision: 0.9945 - out_2_sensitivity: 0.9943 - out_2_specificity: 0.9982 - out_1_accuracy: 0.9938 - out_1_dice_score: 0.7820 - out_1_precision: 0.9935 - out_1_sensitivity: 0.9934 - out_1_specificity: 0.9978 - val_loss: 5.0211 - val_final_output_loss: 1.1698 - val_out_3_loss: 1.1766 - val_out_2_loss: 1.2667 - val_out_1_loss: 1.3013 - val_final_output_accuracy: 0.9963 - val_final_output_dice_score: 0.8837 - val_final_output_precision: 0.9971 - val_final_output_sensitivity: 0.9949 - val_final_output_specificity: 0.9990 - val_out_3_accuracy: 0.9959 - val_out_3_dice_score: 0.8827 - val_out_3_precision: 0.9960 - val_out_3_sensitivity: 0.9959 - val_out_3_specificity: 0.9987 - val_out_2_accuracy: 0.9947 - val_out_2_dice_score: 0.8275 - val_out_2_precision: 0.9949 - val_out_2_sensitivity: 0.9946 - val_out_2_specificity: 0.9983 - val_out_1_accuracy: 0.9938 - val_out_1_dice_score: 0.8060 - val_out_1_precision: 0.9940 - val_out_1_sensitivity: 0.9937 - val_out_1_specificity: 0.9980\n",
            "Epoch 74/100\n",
            "13/13 [==============================] - 25s 2s/step - loss: 5.0692 - final_output_loss: 1.1980 - out_3_loss: 1.2039 - out_2_loss: 1.2635 - out_1_loss: 1.2935 - final_output_accuracy: 0.9960 - final_output_dice_score: 0.8675 - final_output_precision: 0.9962 - final_output_sensitivity: 0.9923 - final_output_specificity: 0.9987 - out_3_accuracy: 0.9960 - out_3_dice_score: 0.8665 - out_3_precision: 0.9956 - out_3_sensitivity: 0.9955 - out_3_specificity: 0.9985 - out_2_accuracy: 0.9947 - out_2_dice_score: 0.8272 - out_2_precision: 0.9944 - out_2_sensitivity: 0.9941 - out_2_specificity: 0.9981 - out_1_accuracy: 0.9937 - out_1_dice_score: 0.8077 - out_1_precision: 0.9934 - out_1_sensitivity: 0.9932 - out_1_specificity: 0.9978 - val_loss: 5.1437 - val_final_output_loss: 1.2070 - val_out_3_loss: 1.2222 - val_out_2_loss: 1.2989 - val_out_1_loss: 1.3097 - val_final_output_accuracy: 0.9959 - val_final_output_dice_score: 0.8660 - val_final_output_precision: 0.9965 - val_final_output_sensitivity: 0.9950 - val_final_output_specificity: 0.9988 - val_out_3_accuracy: 0.9954 - val_out_3_dice_score: 0.8611 - val_out_3_precision: 0.9955 - val_out_3_sensitivity: 0.9954 - val_out_3_specificity: 0.9985 - val_out_2_accuracy: 0.9943 - val_out_2_dice_score: 0.8121 - val_out_2_precision: 0.9945 - val_out_2_sensitivity: 0.9942 - val_out_2_specificity: 0.9982 - val_out_1_accuracy: 0.9938 - val_out_1_dice_score: 0.7989 - val_out_1_precision: 0.9940 - val_out_1_sensitivity: 0.9937 - val_out_1_specificity: 0.9980\n",
            "Epoch 75/100\n",
            "13/13 [==============================] - 25s 2s/step - loss: 5.0427 - final_output_loss: 1.1947 - out_3_loss: 1.2021 - out_2_loss: 1.2575 - out_1_loss: 1.2781 - final_output_accuracy: 0.9955 - final_output_dice_score: 0.8716 - final_output_precision: 0.9958 - final_output_sensitivity: 0.9922 - final_output_specificity: 0.9986 - out_3_accuracy: 0.9956 - out_3_dice_score: 0.8693 - out_3_precision: 0.9952 - out_3_sensitivity: 0.9950 - out_3_specificity: 0.9984 - out_2_accuracy: 0.9945 - out_2_dice_score: 0.8343 - out_2_precision: 0.9942 - out_2_sensitivity: 0.9940 - out_2_specificity: 0.9981 - out_1_accuracy: 0.9937 - out_1_dice_score: 0.8201 - out_1_precision: 0.9934 - out_1_sensitivity: 0.9931 - out_1_specificity: 0.9978 - val_loss: 5.0453 - val_final_output_loss: 1.1705 - val_out_3_loss: 1.1839 - val_out_2_loss: 1.2836 - val_out_1_loss: 1.3007 - val_final_output_accuracy: 0.9958 - val_final_output_dice_score: 0.8819 - val_final_output_precision: 0.9966 - val_final_output_sensitivity: 0.9922 - val_final_output_specificity: 0.9989 - val_out_3_accuracy: 0.9958 - val_out_3_dice_score: 0.8747 - val_out_3_precision: 0.9959 - val_out_3_sensitivity: 0.9958 - val_out_3_specificity: 0.9986 - val_out_2_accuracy: 0.9945 - val_out_2_dice_score: 0.8166 - val_out_2_precision: 0.9946 - val_out_2_sensitivity: 0.9944 - val_out_2_specificity: 0.9982 - val_out_1_accuracy: 0.9937 - val_out_1_dice_score: 0.8033 - val_out_1_precision: 0.9939 - val_out_1_sensitivity: 0.9936 - val_out_1_specificity: 0.9980\n",
            "Epoch 76/100\n",
            "13/13 [==============================] - 25s 2s/step - loss: 5.0308 - final_output_loss: 1.1832 - out_3_loss: 1.1941 - out_2_loss: 1.2592 - out_1_loss: 1.2841 - final_output_accuracy: 0.9956 - final_output_dice_score: 0.8792 - final_output_precision: 0.9958 - final_output_sensitivity: 0.9925 - final_output_specificity: 0.9986 - out_3_accuracy: 0.9955 - out_3_dice_score: 0.8749 - out_3_precision: 0.9951 - out_3_sensitivity: 0.9950 - out_3_specificity: 0.9984 - out_2_accuracy: 0.9941 - out_2_dice_score: 0.8333 - out_2_precision: 0.9937 - out_2_sensitivity: 0.9935 - out_2_specificity: 0.9979 - out_1_accuracy: 0.9931 - out_1_dice_score: 0.8151 - out_1_precision: 0.9927 - out_1_sensitivity: 0.9925 - out_1_specificity: 0.9976 - val_loss: 5.2481 - val_final_output_loss: 1.2194 - val_out_3_loss: 1.2422 - val_out_2_loss: 1.3288 - val_out_1_loss: 1.3518 - val_final_output_accuracy: 0.9954 - val_final_output_dice_score: 0.8616 - val_final_output_precision: 0.9961 - val_final_output_sensitivity: 0.9946 - val_final_output_specificity: 0.9987 - val_out_3_accuracy: 0.9946 - val_out_3_dice_score: 0.8518 - val_out_3_precision: 0.9946 - val_out_3_sensitivity: 0.9945 - val_out_3_specificity: 0.9982 - val_out_2_accuracy: 0.9936 - val_out_2_dice_score: 0.7984 - val_out_2_precision: 0.9938 - val_out_2_sensitivity: 0.9935 - val_out_2_specificity: 0.9979 - val_out_1_accuracy: 0.9928 - val_out_1_dice_score: 0.7793 - val_out_1_precision: 0.9930 - val_out_1_sensitivity: 0.9927 - val_out_1_specificity: 0.9977\n",
            "Epoch 77/100\n",
            "13/13 [==============================] - 25s 2s/step - loss: 5.0512 - final_output_loss: 1.1874 - out_3_loss: 1.1942 - out_2_loss: 1.2586 - out_1_loss: 1.2997 - final_output_accuracy: 0.9958 - final_output_dice_score: 0.8764 - final_output_precision: 0.9958 - final_output_sensitivity: 0.9938 - final_output_specificity: 0.9986 - out_3_accuracy: 0.9958 - out_3_dice_score: 0.8749 - out_3_precision: 0.9955 - out_3_sensitivity: 0.9954 - out_3_specificity: 0.9985 - out_2_accuracy: 0.9946 - out_2_dice_score: 0.8322 - out_2_precision: 0.9944 - out_2_sensitivity: 0.9941 - out_2_specificity: 0.9981 - out_1_accuracy: 0.9933 - out_1_dice_score: 0.8058 - out_1_precision: 0.9931 - out_1_sensitivity: 0.9929 - out_1_specificity: 0.9977 - val_loss: 5.0050 - val_final_output_loss: 1.1631 - val_out_3_loss: 1.1721 - val_out_2_loss: 1.2560 - val_out_1_loss: 1.3074 - val_final_output_accuracy: 0.9960 - val_final_output_dice_score: 0.8860 - val_final_output_precision: 0.9963 - val_final_output_sensitivity: 0.9940 - val_final_output_specificity: 0.9988 - val_out_3_accuracy: 0.9961 - val_out_3_dice_score: 0.8828 - val_out_3_precision: 0.9962 - val_out_3_sensitivity: 0.9961 - val_out_3_specificity: 0.9987 - val_out_2_accuracy: 0.9950 - val_out_2_dice_score: 0.8328 - val_out_2_precision: 0.9951 - val_out_2_sensitivity: 0.9949 - val_out_2_specificity: 0.9984 - val_out_1_accuracy: 0.9936 - val_out_1_dice_score: 0.8014 - val_out_1_precision: 0.9937 - val_out_1_sensitivity: 0.9935 - val_out_1_specificity: 0.9979\n",
            "Epoch 78/100\n",
            "13/13 [==============================] - 25s 2s/step - loss: 4.9779 - final_output_loss: 1.1717 - out_3_loss: 1.1796 - out_2_loss: 1.2378 - out_1_loss: 1.2788 - final_output_accuracy: 0.9959 - final_output_dice_score: 0.8837 - final_output_precision: 0.9962 - final_output_sensitivity: 0.9931 - final_output_specificity: 0.9987 - out_3_accuracy: 0.9959 - out_3_dice_score: 0.8798 - out_3_precision: 0.9955 - out_3_sensitivity: 0.9954 - out_3_specificity: 0.9985 - out_2_accuracy: 0.9947 - out_2_dice_score: 0.8427 - out_2_precision: 0.9944 - out_2_sensitivity: 0.9942 - out_2_specificity: 0.9981 - out_1_accuracy: 0.9933 - out_1_dice_score: 0.8142 - out_1_precision: 0.9930 - out_1_sensitivity: 0.9928 - out_1_specificity: 0.9977 - val_loss: 5.1003 - val_final_output_loss: 1.1858 - val_out_3_loss: 1.1944 - val_out_2_loss: 1.2752 - val_out_1_loss: 1.3386 - val_final_output_accuracy: 0.9962 - val_final_output_dice_score: 0.8782 - val_final_output_precision: 0.9972 - val_final_output_sensitivity: 0.9947 - val_final_output_specificity: 0.9991 - val_out_3_accuracy: 0.9958 - val_out_3_dice_score: 0.8760 - val_out_3_precision: 0.9958 - val_out_3_sensitivity: 0.9957 - val_out_3_specificity: 0.9986 - val_out_2_accuracy: 0.9946 - val_out_2_dice_score: 0.8275 - val_out_2_precision: 0.9948 - val_out_2_sensitivity: 0.9945 - val_out_2_specificity: 0.9983 - val_out_1_accuracy: 0.9930 - val_out_1_dice_score: 0.7894 - val_out_1_precision: 0.9932 - val_out_1_sensitivity: 0.9929 - val_out_1_specificity: 0.9977\n",
            "Epoch 79/100\n",
            "13/13 [==============================] - 25s 2s/step - loss: 5.0392 - final_output_loss: 1.1883 - out_3_loss: 1.1904 - out_2_loss: 1.2551 - out_1_loss: 1.2955 - final_output_accuracy: 0.9960 - final_output_dice_score: 0.8724 - final_output_precision: 0.9962 - final_output_sensitivity: 0.9932 - final_output_specificity: 0.9987 - out_3_accuracy: 0.9962 - out_3_dice_score: 0.8733 - out_3_precision: 0.9958 - out_3_sensitivity: 0.9957 - out_3_specificity: 0.9986 - out_2_accuracy: 0.9949 - out_2_dice_score: 0.8321 - out_2_precision: 0.9946 - out_2_sensitivity: 0.9944 - out_2_specificity: 0.9982 - out_1_accuracy: 0.9937 - out_1_dice_score: 0.8063 - out_1_precision: 0.9934 - out_1_sensitivity: 0.9932 - out_1_specificity: 0.9978 - val_loss: 5.0083 - val_final_output_loss: 1.1616 - val_out_3_loss: 1.1742 - val_out_2_loss: 1.2574 - val_out_1_loss: 1.3093 - val_final_output_accuracy: 0.9966 - val_final_output_dice_score: 0.8900 - val_final_output_precision: 0.9971 - val_final_output_sensitivity: 0.9948 - val_final_output_specificity: 0.9990 - val_out_3_accuracy: 0.9964 - val_out_3_dice_score: 0.8845 - val_out_3_precision: 0.9965 - val_out_3_sensitivity: 0.9964 - val_out_3_specificity: 0.9988 - val_out_2_accuracy: 0.9951 - val_out_2_dice_score: 0.8332 - val_out_2_precision: 0.9953 - val_out_2_sensitivity: 0.9950 - val_out_2_specificity: 0.9984 - val_out_1_accuracy: 0.9936 - val_out_1_dice_score: 0.8016 - val_out_1_precision: 0.9938 - val_out_1_sensitivity: 0.9936 - val_out_1_specificity: 0.9979\n",
            "Epoch 80/100\n",
            "13/13 [==============================] - 25s 2s/step - loss: 5.1245 - final_output_loss: 1.2021 - out_3_loss: 1.2132 - out_2_loss: 1.2829 - out_1_loss: 1.3163 - final_output_accuracy: 0.9960 - final_output_dice_score: 0.8678 - final_output_precision: 0.9961 - final_output_sensitivity: 0.9932 - final_output_specificity: 0.9987 - out_3_accuracy: 0.9959 - out_3_dice_score: 0.8625 - out_3_precision: 0.9955 - out_3_sensitivity: 0.9954 - out_3_specificity: 0.9985 - out_2_accuracy: 0.9949 - out_2_dice_score: 0.8179 - out_2_precision: 0.9946 - out_2_sensitivity: 0.9943 - out_2_specificity: 0.9982 - out_1_accuracy: 0.9937 - out_1_dice_score: 0.7945 - out_1_precision: 0.9935 - out_1_sensitivity: 0.9932 - out_1_specificity: 0.9978 - val_loss: 4.9842 - val_final_output_loss: 1.1534 - val_out_3_loss: 1.1616 - val_out_2_loss: 1.2570 - val_out_1_loss: 1.3067 - val_final_output_accuracy: 0.9966 - val_final_output_dice_score: 0.8922 - val_final_output_precision: 0.9974 - val_final_output_sensitivity: 0.9932 - val_final_output_specificity: 0.9991 - val_out_3_accuracy: 0.9965 - val_out_3_dice_score: 0.8891 - val_out_3_precision: 0.9966 - val_out_3_sensitivity: 0.9965 - val_out_3_specificity: 0.9989 - val_out_2_accuracy: 0.9952 - val_out_2_dice_score: 0.8323 - val_out_2_precision: 0.9953 - val_out_2_sensitivity: 0.9951 - val_out_2_specificity: 0.9984 - val_out_1_accuracy: 0.9939 - val_out_1_dice_score: 0.8041 - val_out_1_precision: 0.9941 - val_out_1_sensitivity: 0.9939 - val_out_1_specificity: 0.9980\n",
            "Epoch 81/100\n",
            "13/13 [==============================] - 25s 2s/step - loss: 4.9367 - final_output_loss: 1.1584 - out_3_loss: 1.1673 - out_2_loss: 1.2337 - out_1_loss: 1.2675 - final_output_accuracy: 0.9956 - final_output_dice_score: 0.8945 - final_output_precision: 0.9960 - final_output_sensitivity: 0.9920 - final_output_specificity: 0.9986 - out_3_accuracy: 0.9956 - out_3_dice_score: 0.8914 - out_3_precision: 0.9950 - out_3_sensitivity: 0.9949 - out_3_specificity: 0.9983 - out_2_accuracy: 0.9940 - out_2_dice_score: 0.8491 - out_2_precision: 0.9936 - out_2_sensitivity: 0.9934 - out_2_specificity: 0.9979 - out_1_accuracy: 0.9927 - out_1_dice_score: 0.8273 - out_1_precision: 0.9924 - out_1_sensitivity: 0.9921 - out_1_specificity: 0.9974 - val_loss: 4.9345 - val_final_output_loss: 1.1519 - val_out_3_loss: 1.1625 - val_out_2_loss: 1.2421 - val_out_1_loss: 1.2720 - val_final_output_accuracy: 0.9959 - val_final_output_dice_score: 0.8918 - val_final_output_precision: 0.9971 - val_final_output_sensitivity: 0.9918 - val_final_output_specificity: 0.9990 - val_out_3_accuracy: 0.9963 - val_out_3_dice_score: 0.8866 - val_out_3_precision: 0.9964 - val_out_3_sensitivity: 0.9962 - val_out_3_specificity: 0.9988 - val_out_2_accuracy: 0.9950 - val_out_2_dice_score: 0.8379 - val_out_2_precision: 0.9952 - val_out_2_sensitivity: 0.9949 - val_out_2_specificity: 0.9984 - val_out_1_accuracy: 0.9942 - val_out_1_dice_score: 0.8203 - val_out_1_precision: 0.9944 - val_out_1_sensitivity: 0.9941 - val_out_1_specificity: 0.9981\n",
            "Epoch 82/100\n",
            "13/13 [==============================] - 25s 2s/step - loss: 5.1452 - final_output_loss: 1.2157 - out_3_loss: 1.2205 - out_2_loss: 1.2844 - out_1_loss: 1.3148 - final_output_accuracy: 0.9961 - final_output_dice_score: 0.8506 - final_output_precision: 0.9966 - final_output_sensitivity: 0.9928 - final_output_specificity: 0.9989 - out_3_accuracy: 0.9962 - out_3_dice_score: 0.8488 - out_3_precision: 0.9958 - out_3_sensitivity: 0.9957 - out_3_specificity: 0.9986 - out_2_accuracy: 0.9951 - out_2_dice_score: 0.8074 - out_2_precision: 0.9948 - out_2_sensitivity: 0.9946 - out_2_specificity: 0.9983 - out_1_accuracy: 0.9940 - out_1_dice_score: 0.7862 - out_1_precision: 0.9937 - out_1_sensitivity: 0.9935 - out_1_specificity: 0.9979 - val_loss: 4.9620 - val_final_output_loss: 1.1543 - val_out_3_loss: 1.1611 - val_out_2_loss: 1.2510 - val_out_1_loss: 1.2897 - val_final_output_accuracy: 0.9965 - val_final_output_dice_score: 0.8932 - val_final_output_precision: 0.9971 - val_final_output_sensitivity: 0.9947 - val_final_output_specificity: 0.9990 - val_out_3_accuracy: 0.9965 - val_out_3_dice_score: 0.8909 - val_out_3_precision: 0.9966 - val_out_3_sensitivity: 0.9965 - val_out_3_specificity: 0.9989 - val_out_2_accuracy: 0.9950 - val_out_2_dice_score: 0.8351 - val_out_2_precision: 0.9951 - val_out_2_sensitivity: 0.9949 - val_out_2_specificity: 0.9984 - val_out_1_accuracy: 0.9935 - val_out_1_dice_score: 0.8085 - val_out_1_precision: 0.9936 - val_out_1_sensitivity: 0.9934 - val_out_1_specificity: 0.9979\n",
            "Epoch 83/100\n",
            "13/13 [==============================] - 25s 2s/step - loss: 4.9613 - final_output_loss: 1.1746 - out_3_loss: 1.1823 - out_2_loss: 1.2342 - out_1_loss: 1.2605 - final_output_accuracy: 0.9955 - final_output_dice_score: 0.8824 - final_output_precision: 0.9957 - final_output_sensitivity: 0.9928 - final_output_specificity: 0.9985 - out_3_accuracy: 0.9955 - out_3_dice_score: 0.8787 - out_3_precision: 0.9950 - out_3_sensitivity: 0.9949 - out_3_specificity: 0.9983 - out_2_accuracy: 0.9944 - out_2_dice_score: 0.8457 - out_2_precision: 0.9940 - out_2_sensitivity: 0.9938 - out_2_specificity: 0.9980 - out_1_accuracy: 0.9934 - out_1_dice_score: 0.8293 - out_1_precision: 0.9931 - out_1_sensitivity: 0.9929 - out_1_specificity: 0.9977 - val_loss: 5.0532 - val_final_output_loss: 1.1782 - val_out_3_loss: 1.1813 - val_out_2_loss: 1.2726 - val_out_1_loss: 1.3164 - val_final_output_accuracy: 0.9963 - val_final_output_dice_score: 0.8803 - val_final_output_precision: 0.9975 - val_final_output_sensitivity: 0.9947 - val_final_output_specificity: 0.9992 - val_out_3_accuracy: 0.9960 - val_out_3_dice_score: 0.8818 - val_out_3_precision: 0.9961 - val_out_3_sensitivity: 0.9959 - val_out_3_specificity: 0.9987 - val_out_2_accuracy: 0.9947 - val_out_2_dice_score: 0.8274 - val_out_2_precision: 0.9949 - val_out_2_sensitivity: 0.9946 - val_out_2_specificity: 0.9983 - val_out_1_accuracy: 0.9935 - val_out_1_dice_score: 0.8019 - val_out_1_precision: 0.9936 - val_out_1_sensitivity: 0.9934 - val_out_1_specificity: 0.9979\n",
            "Epoch 84/100\n",
            "13/13 [==============================] - 25s 2s/step - loss: 4.9703 - final_output_loss: 1.1733 - out_3_loss: 1.1786 - out_2_loss: 1.2365 - out_1_loss: 1.2724 - final_output_accuracy: 0.9956 - final_output_dice_score: 0.8847 - final_output_precision: 0.9960 - final_output_sensitivity: 0.9924 - final_output_specificity: 0.9986 - out_3_accuracy: 0.9958 - out_3_dice_score: 0.8829 - out_3_precision: 0.9953 - out_3_sensitivity: 0.9951 - out_3_specificity: 0.9984 - out_2_accuracy: 0.9944 - out_2_dice_score: 0.8460 - out_2_precision: 0.9940 - out_2_sensitivity: 0.9938 - out_2_specificity: 0.9980 - out_1_accuracy: 0.9930 - out_1_dice_score: 0.8216 - out_1_precision: 0.9927 - out_1_sensitivity: 0.9924 - out_1_specificity: 0.9976 - val_loss: 4.9166 - val_final_output_loss: 1.1521 - val_out_3_loss: 1.1591 - val_out_2_loss: 1.2351 - val_out_1_loss: 1.2648 - val_final_output_accuracy: 0.9967 - val_final_output_dice_score: 0.8942 - val_final_output_precision: 0.9973 - val_final_output_sensitivity: 0.9948 - val_final_output_specificity: 0.9991 - val_out_3_accuracy: 0.9966 - val_out_3_dice_score: 0.8918 - val_out_3_precision: 0.9967 - val_out_3_sensitivity: 0.9965 - val_out_3_specificity: 0.9989 - val_out_2_accuracy: 0.9954 - val_out_2_dice_score: 0.8440 - val_out_2_precision: 0.9956 - val_out_2_sensitivity: 0.9953 - val_out_2_specificity: 0.9985 - val_out_1_accuracy: 0.9942 - val_out_1_dice_score: 0.8204 - val_out_1_precision: 0.9943 - val_out_1_sensitivity: 0.9941 - val_out_1_specificity: 0.9981\n",
            "Epoch 85/100\n",
            "13/13 [==============================] - 25s 2s/step - loss: 4.8491 - final_output_loss: 1.1412 - out_3_loss: 1.1483 - out_2_loss: 1.2089 - out_1_loss: 1.2411 - final_output_accuracy: 0.9966 - final_output_dice_score: 0.9009 - final_output_precision: 0.9966 - final_output_sensitivity: 0.9944 - final_output_specificity: 0.9989 - out_3_accuracy: 0.9967 - out_3_dice_score: 0.8987 - out_3_precision: 0.9962 - out_3_sensitivity: 0.9962 - out_3_specificity: 0.9987 - out_2_accuracy: 0.9955 - out_2_dice_score: 0.8592 - out_2_precision: 0.9952 - out_2_sensitivity: 0.9950 - out_2_specificity: 0.9984 - out_1_accuracy: 0.9944 - out_1_dice_score: 0.8379 - out_1_precision: 0.9942 - out_1_sensitivity: 0.9940 - out_1_specificity: 0.9981 - val_loss: 4.9327 - val_final_output_loss: 1.1534 - val_out_3_loss: 1.1611 - val_out_2_loss: 1.2407 - val_out_1_loss: 1.2721 - val_final_output_accuracy: 0.9968 - val_final_output_dice_score: 0.8950 - val_final_output_precision: 0.9973 - val_final_output_sensitivity: 0.9950 - val_final_output_specificity: 0.9991 - val_out_3_accuracy: 0.9966 - val_out_3_dice_score: 0.8919 - val_out_3_precision: 0.9967 - val_out_3_sensitivity: 0.9966 - val_out_3_specificity: 0.9989 - val_out_2_accuracy: 0.9954 - val_out_2_dice_score: 0.8435 - val_out_2_precision: 0.9955 - val_out_2_sensitivity: 0.9953 - val_out_2_specificity: 0.9985 - val_out_1_accuracy: 0.9943 - val_out_1_dice_score: 0.8223 - val_out_1_precision: 0.9944 - val_out_1_sensitivity: 0.9942 - val_out_1_specificity: 0.9981\n",
            "Epoch 86/100\n",
            "13/13 [==============================] - 25s 2s/step - loss: 5.0215 - final_output_loss: 1.1919 - out_3_loss: 1.1951 - out_2_loss: 1.2505 - out_1_loss: 1.2746 - final_output_accuracy: 0.9963 - final_output_dice_score: 0.8681 - final_output_precision: 0.9967 - final_output_sensitivity: 0.9931 - final_output_specificity: 0.9989 - out_3_accuracy: 0.9963 - out_3_dice_score: 0.8661 - out_3_precision: 0.9959 - out_3_sensitivity: 0.9958 - out_3_specificity: 0.9986 - out_2_accuracy: 0.9954 - out_2_dice_score: 0.8304 - out_2_precision: 0.9950 - out_2_sensitivity: 0.9949 - out_2_specificity: 0.9983 - out_1_accuracy: 0.9944 - out_1_dice_score: 0.8121 - out_1_precision: 0.9941 - out_1_sensitivity: 0.9939 - out_1_specificity: 0.9980 - val_loss: 4.9320 - val_final_output_loss: 1.1483 - val_out_3_loss: 1.1563 - val_out_2_loss: 1.2452 - val_out_1_loss: 1.2768 - val_final_output_accuracy: 0.9967 - val_final_output_dice_score: 0.8965 - val_final_output_precision: 0.9974 - val_final_output_sensitivity: 0.9945 - val_final_output_specificity: 0.9991 - val_out_3_accuracy: 0.9966 - val_out_3_dice_score: 0.8935 - val_out_3_precision: 0.9967 - val_out_3_sensitivity: 0.9966 - val_out_3_specificity: 0.9989 - val_out_2_accuracy: 0.9954 - val_out_2_dice_score: 0.8404 - val_out_2_precision: 0.9955 - val_out_2_sensitivity: 0.9953 - val_out_2_specificity: 0.9985 - val_out_1_accuracy: 0.9943 - val_out_1_dice_score: 0.8188 - val_out_1_precision: 0.9944 - val_out_1_sensitivity: 0.9942 - val_out_1_specificity: 0.9981\n",
            "Epoch 87/100\n",
            "13/13 [==============================] - 25s 2s/step - loss: 5.1313 - final_output_loss: 1.2178 - out_3_loss: 1.2247 - out_2_loss: 1.2768 - out_1_loss: 1.3027 - final_output_accuracy: 0.9952 - final_output_dice_score: 0.8587 - final_output_precision: 0.9958 - final_output_sensitivity: 0.9921 - final_output_specificity: 0.9986 - out_3_accuracy: 0.9953 - out_3_dice_score: 0.8565 - out_3_precision: 0.9949 - out_3_sensitivity: 0.9948 - out_3_specificity: 0.9983 - out_2_accuracy: 0.9943 - out_2_dice_score: 0.8223 - out_2_precision: 0.9939 - out_2_sensitivity: 0.9937 - out_2_specificity: 0.9980 - out_1_accuracy: 0.9934 - out_1_dice_score: 0.8029 - out_1_precision: 0.9931 - out_1_sensitivity: 0.9928 - out_1_specificity: 0.9977 - val_loss: 4.9703 - val_final_output_loss: 1.1619 - val_out_3_loss: 1.1687 - val_out_2_loss: 1.2494 - val_out_1_loss: 1.2846 - val_final_output_accuracy: 0.9960 - val_final_output_dice_score: 0.8858 - val_final_output_precision: 0.9971 - val_final_output_sensitivity: 0.9922 - val_final_output_specificity: 0.9990 - val_out_3_accuracy: 0.9961 - val_out_3_dice_score: 0.8815 - val_out_3_precision: 0.9962 - val_out_3_sensitivity: 0.9960 - val_out_3_specificity: 0.9987 - val_out_2_accuracy: 0.9951 - val_out_2_dice_score: 0.8341 - val_out_2_precision: 0.9952 - val_out_2_sensitivity: 0.9950 - val_out_2_specificity: 0.9984 - val_out_1_accuracy: 0.9942 - val_out_1_dice_score: 0.8135 - val_out_1_precision: 0.9943 - val_out_1_sensitivity: 0.9941 - val_out_1_specificity: 0.9981\n",
            "Epoch 88/100\n",
            "13/13 [==============================] - 25s 2s/step - loss: 5.0804 - final_output_loss: 1.2020 - out_3_loss: 1.2074 - out_2_loss: 1.2659 - out_1_loss: 1.2959 - final_output_accuracy: 0.9960 - final_output_dice_score: 0.8688 - final_output_precision: 0.9964 - final_output_sensitivity: 0.9925 - final_output_specificity: 0.9988 - out_3_accuracy: 0.9960 - out_3_dice_score: 0.8668 - out_3_precision: 0.9955 - out_3_sensitivity: 0.9954 - out_3_specificity: 0.9985 - out_2_accuracy: 0.9948 - out_2_dice_score: 0.8317 - out_2_precision: 0.9944 - out_2_sensitivity: 0.9942 - out_2_specificity: 0.9981 - out_1_accuracy: 0.9936 - out_1_dice_score: 0.8126 - out_1_precision: 0.9933 - out_1_sensitivity: 0.9930 - out_1_specificity: 0.9977 - val_loss: 4.9228 - val_final_output_loss: 1.1461 - val_out_3_loss: 1.1545 - val_out_2_loss: 1.2421 - val_out_1_loss: 1.2748 - val_final_output_accuracy: 0.9968 - val_final_output_dice_score: 0.8989 - val_final_output_precision: 0.9975 - val_final_output_sensitivity: 0.9946 - val_final_output_specificity: 0.9992 - val_out_3_accuracy: 0.9966 - val_out_3_dice_score: 0.8956 - val_out_3_precision: 0.9967 - val_out_3_sensitivity: 0.9966 - val_out_3_specificity: 0.9989 - val_out_2_accuracy: 0.9952 - val_out_2_dice_score: 0.8418 - val_out_2_precision: 0.9954 - val_out_2_sensitivity: 0.9952 - val_out_2_specificity: 0.9985 - val_out_1_accuracy: 0.9942 - val_out_1_dice_score: 0.8209 - val_out_1_precision: 0.9943 - val_out_1_sensitivity: 0.9941 - val_out_1_specificity: 0.9981\n",
            "Epoch 89/100\n",
            "13/13 [==============================] - 25s 2s/step - loss: 4.8331 - final_output_loss: 1.1418 - out_3_loss: 1.1472 - out_2_loss: 1.2016 - out_1_loss: 1.2334 - final_output_accuracy: 0.9962 - final_output_dice_score: 0.9003 - final_output_precision: 0.9965 - final_output_sensitivity: 0.9931 - final_output_specificity: 0.9988 - out_3_accuracy: 0.9963 - out_3_dice_score: 0.8989 - out_3_precision: 0.9959 - out_3_sensitivity: 0.9958 - out_3_specificity: 0.9986 - out_2_accuracy: 0.9951 - out_2_dice_score: 0.8627 - out_2_precision: 0.9948 - out_2_sensitivity: 0.9946 - out_2_specificity: 0.9983 - out_1_accuracy: 0.9941 - out_1_dice_score: 0.8398 - out_1_precision: 0.9938 - out_1_sensitivity: 0.9936 - out_1_specificity: 0.9979 - val_loss: 4.9689 - val_final_output_loss: 1.1621 - val_out_3_loss: 1.1659 - val_out_2_loss: 1.2521 - val_out_1_loss: 1.2834 - val_final_output_accuracy: 0.9967 - val_final_output_dice_score: 0.8864 - val_final_output_precision: 0.9977 - val_final_output_sensitivity: 0.9946 - val_final_output_specificity: 0.9992 - val_out_3_accuracy: 0.9964 - val_out_3_dice_score: 0.8876 - val_out_3_precision: 0.9965 - val_out_3_sensitivity: 0.9963 - val_out_3_specificity: 0.9988 - val_out_2_accuracy: 0.9949 - val_out_2_dice_score: 0.8338 - val_out_2_precision: 0.9951 - val_out_2_sensitivity: 0.9948 - val_out_2_specificity: 0.9984 - val_out_1_accuracy: 0.9939 - val_out_1_dice_score: 0.8128 - val_out_1_precision: 0.9940 - val_out_1_sensitivity: 0.9938 - val_out_1_specificity: 0.9980\n",
            "Epoch 90/100\n",
            "13/13 [==============================] - 25s 2s/step - loss: 4.9553 - final_output_loss: 1.1645 - out_3_loss: 1.1733 - out_2_loss: 1.2388 - out_1_loss: 1.2697 - final_output_accuracy: 0.9965 - final_output_dice_score: 0.8895 - final_output_precision: 0.9968 - final_output_sensitivity: 0.9931 - final_output_specificity: 0.9989 - out_3_accuracy: 0.9965 - out_3_dice_score: 0.8863 - out_3_precision: 0.9959 - out_3_sensitivity: 0.9958 - out_3_specificity: 0.9986 - out_2_accuracy: 0.9951 - out_2_dice_score: 0.8451 - out_2_precision: 0.9947 - out_2_sensitivity: 0.9945 - out_2_specificity: 0.9982 - out_1_accuracy: 0.9940 - out_1_dice_score: 0.8256 - out_1_precision: 0.9936 - out_1_sensitivity: 0.9934 - out_1_specificity: 0.9979 - val_loss: 4.9077 - val_final_output_loss: 1.1466 - val_out_3_loss: 1.1514 - val_out_2_loss: 1.2358 - val_out_1_loss: 1.2685 - val_final_output_accuracy: 0.9962 - val_final_output_dice_score: 0.8956 - val_final_output_precision: 0.9971 - val_final_output_sensitivity: 0.9925 - val_final_output_specificity: 0.9990 - val_out_3_accuracy: 0.9965 - val_out_3_dice_score: 0.8946 - val_out_3_precision: 0.9966 - val_out_3_sensitivity: 0.9965 - val_out_3_specificity: 0.9989 - val_out_2_accuracy: 0.9953 - val_out_2_dice_score: 0.8431 - val_out_2_precision: 0.9955 - val_out_2_sensitivity: 0.9952 - val_out_2_specificity: 0.9985 - val_out_1_accuracy: 0.9942 - val_out_1_dice_score: 0.8224 - val_out_1_precision: 0.9944 - val_out_1_sensitivity: 0.9941 - val_out_1_specificity: 0.9981\n",
            "Epoch 91/100\n",
            "13/13 [==============================] - 25s 2s/step - loss: 4.8926 - final_output_loss: 1.1539 - out_3_loss: 1.1591 - out_2_loss: 1.2201 - out_1_loss: 1.2505 - final_output_accuracy: 0.9961 - final_output_dice_score: 0.8944 - final_output_precision: 0.9965 - final_output_sensitivity: 0.9929 - final_output_specificity: 0.9988 - out_3_accuracy: 0.9964 - out_3_dice_score: 0.8922 - out_3_precision: 0.9959 - out_3_sensitivity: 0.9958 - out_3_specificity: 0.9986 - out_2_accuracy: 0.9953 - out_2_dice_score: 0.8534 - out_2_precision: 0.9949 - out_2_sensitivity: 0.9947 - out_2_specificity: 0.9983 - out_1_accuracy: 0.9942 - out_1_dice_score: 0.8327 - out_1_precision: 0.9939 - out_1_sensitivity: 0.9937 - out_1_specificity: 0.9980 - val_loss: 4.9798 - val_final_output_loss: 1.1518 - val_out_3_loss: 1.1594 - val_out_2_loss: 1.2549 - val_out_1_loss: 1.3088 - val_final_output_accuracy: 0.9968 - val_final_output_dice_score: 0.8939 - val_final_output_precision: 0.9978 - val_final_output_sensitivity: 0.9942 - val_final_output_specificity: 0.9993 - val_out_3_accuracy: 0.9966 - val_out_3_dice_score: 0.8917 - val_out_3_precision: 0.9967 - val_out_3_sensitivity: 0.9966 - val_out_3_specificity: 0.9989 - val_out_2_accuracy: 0.9952 - val_out_2_dice_score: 0.8357 - val_out_2_precision: 0.9954 - val_out_2_sensitivity: 0.9952 - val_out_2_specificity: 0.9985 - val_out_1_accuracy: 0.9939 - val_out_1_dice_score: 0.8056 - val_out_1_precision: 0.9940 - val_out_1_sensitivity: 0.9938 - val_out_1_specificity: 0.9980\n",
            "Epoch 92/100\n",
            "13/13 [==============================] - 25s 2s/step - loss: 5.0568 - final_output_loss: 1.1768 - out_3_loss: 1.1860 - out_2_loss: 1.2606 - out_1_loss: 1.3247 - final_output_accuracy: 0.9959 - final_output_dice_score: 0.8844 - final_output_precision: 0.9963 - final_output_sensitivity: 0.9927 - final_output_specificity: 0.9988 - out_3_accuracy: 0.9959 - out_3_dice_score: 0.8798 - out_3_precision: 0.9955 - out_3_sensitivity: 0.9953 - out_3_specificity: 0.9985 - out_2_accuracy: 0.9944 - out_2_dice_score: 0.8345 - out_2_precision: 0.9941 - out_2_sensitivity: 0.9938 - out_2_specificity: 0.9980 - out_1_accuracy: 0.9926 - out_1_dice_score: 0.7919 - out_1_precision: 0.9924 - out_1_sensitivity: 0.9920 - out_1_specificity: 0.9975 - val_loss: 5.3224 - val_final_output_loss: 1.2177 - val_out_3_loss: 1.2279 - val_out_2_loss: 1.3263 - val_out_1_loss: 1.4451 - val_final_output_accuracy: 0.9957 - val_final_output_dice_score: 0.8520 - val_final_output_precision: 0.9965 - val_final_output_sensitivity: 0.9938 - val_final_output_specificity: 0.9988 - val_out_3_accuracy: 0.9955 - val_out_3_dice_score: 0.8458 - val_out_3_precision: 0.9956 - val_out_3_sensitivity: 0.9954 - val_out_3_specificity: 0.9985 - val_out_2_accuracy: 0.9937 - val_out_2_dice_score: 0.7826 - val_out_2_precision: 0.9940 - val_out_2_sensitivity: 0.9936 - val_out_2_specificity: 0.9980 - val_out_1_accuracy: 0.9913 - val_out_1_dice_score: 0.7063 - val_out_1_precision: 0.9917 - val_out_1_sensitivity: 0.9911 - val_out_1_specificity: 0.9972\n",
            "Epoch 93/100\n",
            "13/13 [==============================] - 25s 2s/step - loss: 5.2208 - final_output_loss: 1.2267 - out_3_loss: 1.2358 - out_2_loss: 1.2958 - out_1_loss: 1.3536 - final_output_accuracy: 0.9949 - final_output_dice_score: 0.8568 - final_output_precision: 0.9951 - final_output_sensitivity: 0.9924 - final_output_specificity: 0.9983 - out_3_accuracy: 0.9950 - out_3_dice_score: 0.8532 - out_3_precision: 0.9945 - out_3_sensitivity: 0.9944 - out_3_specificity: 0.9982 - out_2_accuracy: 0.9934 - out_2_dice_score: 0.8132 - out_2_precision: 0.9931 - out_2_sensitivity: 0.9928 - out_2_specificity: 0.9977 - out_1_accuracy: 0.9915 - out_1_dice_score: 0.7760 - out_1_precision: 0.9913 - out_1_sensitivity: 0.9909 - out_1_specificity: 0.9971 - val_loss: 4.9501 - val_final_output_loss: 1.1570 - val_out_3_loss: 1.1616 - val_out_2_loss: 1.2423 - val_out_1_loss: 1.2850 - val_final_output_accuracy: 0.9954 - val_final_output_dice_score: 0.8840 - val_final_output_precision: 0.9956 - val_final_output_sensitivity: 0.9929 - val_final_output_specificity: 0.9985 - val_out_3_accuracy: 0.9959 - val_out_3_dice_score: 0.8837 - val_out_3_precision: 0.9960 - val_out_3_sensitivity: 0.9958 - val_out_3_specificity: 0.9987 - val_out_2_accuracy: 0.9946 - val_out_2_dice_score: 0.8333 - val_out_2_precision: 0.9947 - val_out_2_sensitivity: 0.9946 - val_out_2_specificity: 0.9982 - val_out_1_accuracy: 0.9935 - val_out_1_dice_score: 0.8069 - val_out_1_precision: 0.9937 - val_out_1_sensitivity: 0.9935 - val_out_1_specificity: 0.9979\n",
            "Epoch 94/100\n",
            "13/13 [==============================] - 25s 2s/step - loss: 4.9080 - final_output_loss: 1.1628 - out_3_loss: 1.1694 - out_2_loss: 1.2177 - out_1_loss: 1.2497 - final_output_accuracy: 0.9955 - final_output_dice_score: 0.8876 - final_output_precision: 0.9953 - final_output_sensitivity: 0.9929 - final_output_specificity: 0.9984 - out_3_accuracy: 0.9956 - out_3_dice_score: 0.8847 - out_3_precision: 0.9950 - out_3_sensitivity: 0.9949 - out_3_specificity: 0.9983 - out_2_accuracy: 0.9947 - out_2_dice_score: 0.8543 - out_2_precision: 0.9941 - out_2_sensitivity: 0.9940 - out_2_specificity: 0.9980 - out_1_accuracy: 0.9935 - out_1_dice_score: 0.8339 - out_1_precision: 0.9929 - out_1_sensitivity: 0.9927 - out_1_specificity: 0.9976 - val_loss: 5.0339 - val_final_output_loss: 1.1862 - val_out_3_loss: 1.1947 - val_out_2_loss: 1.2637 - val_out_1_loss: 1.2853 - val_final_output_accuracy: 0.9954 - val_final_output_dice_score: 0.8758 - val_final_output_precision: 0.9962 - val_final_output_sensitivity: 0.9946 - val_final_output_specificity: 0.9987 - val_out_3_accuracy: 0.9951 - val_out_3_dice_score: 0.8727 - val_out_3_precision: 0.9951 - val_out_3_sensitivity: 0.9950 - val_out_3_specificity: 0.9984 - val_out_2_accuracy: 0.9945 - val_out_2_dice_score: 0.8306 - val_out_2_precision: 0.9946 - val_out_2_sensitivity: 0.9944 - val_out_2_specificity: 0.9982 - val_out_1_accuracy: 0.9939 - val_out_1_dice_score: 0.8148 - val_out_1_precision: 0.9940 - val_out_1_sensitivity: 0.9938 - val_out_1_specificity: 0.9980\n",
            "Epoch 95/100\n",
            "13/13 [==============================] - 25s 2s/step - loss: 5.0030 - final_output_loss: 1.1841 - out_3_loss: 1.1861 - out_2_loss: 1.2469 - out_1_loss: 1.2772 - final_output_accuracy: 0.9953 - final_output_dice_score: 0.8801 - final_output_precision: 0.9953 - final_output_sensitivity: 0.9932 - final_output_specificity: 0.9984 - out_3_accuracy: 0.9953 - out_3_dice_score: 0.8788 - out_3_precision: 0.9949 - out_3_sensitivity: 0.9948 - out_3_specificity: 0.9983 - out_2_accuracy: 0.9936 - out_2_dice_score: 0.8405 - out_2_precision: 0.9932 - out_2_sensitivity: 0.9930 - out_2_specificity: 0.9977 - out_1_accuracy: 0.9926 - out_1_dice_score: 0.8180 - out_1_precision: 0.9923 - out_1_sensitivity: 0.9921 - out_1_specificity: 0.9974 - val_loss: 4.9368 - val_final_output_loss: 1.1515 - val_out_3_loss: 1.1589 - val_out_2_loss: 1.2442 - val_out_1_loss: 1.2780 - val_final_output_accuracy: 0.9962 - val_final_output_dice_score: 0.8925 - val_final_output_precision: 0.9967 - val_final_output_sensitivity: 0.9942 - val_final_output_specificity: 0.9989 - val_out_3_accuracy: 0.9964 - val_out_3_dice_score: 0.8912 - val_out_3_precision: 0.9964 - val_out_3_sensitivity: 0.9963 - val_out_3_specificity: 0.9988 - val_out_2_accuracy: 0.9951 - val_out_2_dice_score: 0.8401 - val_out_2_precision: 0.9953 - val_out_2_sensitivity: 0.9950 - val_out_2_specificity: 0.9984 - val_out_1_accuracy: 0.9941 - val_out_1_dice_score: 0.8182 - val_out_1_precision: 0.9942 - val_out_1_sensitivity: 0.9940 - val_out_1_specificity: 0.9981\n",
            "Epoch 96/100\n",
            "13/13 [==============================] - 25s 2s/step - loss: 4.9921 - final_output_loss: 1.1710 - out_3_loss: 1.1804 - out_2_loss: 1.2481 - out_1_loss: 1.2840 - final_output_accuracy: 0.9962 - final_output_dice_score: 0.8831 - final_output_precision: 0.9964 - final_output_sensitivity: 0.9936 - final_output_specificity: 0.9988 - out_3_accuracy: 0.9962 - out_3_dice_score: 0.8809 - out_3_precision: 0.9958 - out_3_sensitivity: 0.9957 - out_3_specificity: 0.9986 - out_2_accuracy: 0.9950 - out_2_dice_score: 0.8355 - out_2_precision: 0.9947 - out_2_sensitivity: 0.9945 - out_2_specificity: 0.9982 - out_1_accuracy: 0.9941 - out_1_dice_score: 0.8125 - out_1_precision: 0.9938 - out_1_sensitivity: 0.9937 - out_1_specificity: 0.9979 - val_loss: 4.9219 - val_final_output_loss: 1.1515 - val_out_3_loss: 1.1618 - val_out_2_loss: 1.2341 - val_out_1_loss: 1.2700 - val_final_output_accuracy: 0.9968 - val_final_output_dice_score: 0.8959 - val_final_output_precision: 0.9972 - val_final_output_sensitivity: 0.9956 - val_final_output_specificity: 0.9991 - val_out_3_accuracy: 0.9965 - val_out_3_dice_score: 0.8918 - val_out_3_precision: 0.9965 - val_out_3_sensitivity: 0.9964 - val_out_3_specificity: 0.9988 - val_out_2_accuracy: 0.9953 - val_out_2_dice_score: 0.8441 - val_out_2_precision: 0.9954 - val_out_2_sensitivity: 0.9952 - val_out_2_specificity: 0.9985 - val_out_1_accuracy: 0.9940 - val_out_1_dice_score: 0.8170 - val_out_1_precision: 0.9942 - val_out_1_sensitivity: 0.9940 - val_out_1_specificity: 0.9981\n",
            "Epoch 97/100\n",
            "13/13 [==============================] - 25s 2s/step - loss: 4.9976 - final_output_loss: 1.1810 - out_3_loss: 1.1865 - out_2_loss: 1.2448 - out_1_loss: 1.2768 - final_output_accuracy: 0.9955 - final_output_dice_score: 0.8813 - final_output_precision: 0.9958 - final_output_sensitivity: 0.9925 - final_output_specificity: 0.9986 - out_3_accuracy: 0.9957 - out_3_dice_score: 0.8785 - out_3_precision: 0.9952 - out_3_sensitivity: 0.9951 - out_3_specificity: 0.9984 - out_2_accuracy: 0.9944 - out_2_dice_score: 0.8426 - out_2_precision: 0.9941 - out_2_sensitivity: 0.9938 - out_2_specificity: 0.9980 - out_1_accuracy: 0.9930 - out_1_dice_score: 0.8217 - out_1_precision: 0.9927 - out_1_sensitivity: 0.9925 - out_1_specificity: 0.9976 - val_loss: 4.9768 - val_final_output_loss: 1.1639 - val_out_3_loss: 1.1732 - val_out_2_loss: 1.2488 - val_out_1_loss: 1.2871 - val_final_output_accuracy: 0.9963 - val_final_output_dice_score: 0.8872 - val_final_output_precision: 0.9969 - val_final_output_sensitivity: 0.9945 - val_final_output_specificity: 0.9990 - val_out_3_accuracy: 0.9963 - val_out_3_dice_score: 0.8837 - val_out_3_precision: 0.9964 - val_out_3_sensitivity: 0.9962 - val_out_3_specificity: 0.9988 - val_out_2_accuracy: 0.9951 - val_out_2_dice_score: 0.8367 - val_out_2_precision: 0.9952 - val_out_2_sensitivity: 0.9950 - val_out_2_specificity: 0.9984 - val_out_1_accuracy: 0.9939 - val_out_1_dice_score: 0.8134 - val_out_1_precision: 0.9940 - val_out_1_sensitivity: 0.9938 - val_out_1_specificity: 0.9980\n",
            "Epoch 98/100\n",
            "13/13 [==============================] - 25s 2s/step - loss: 5.1891 - final_output_loss: 1.2241 - out_3_loss: 1.2331 - out_2_loss: 1.2929 - out_1_loss: 1.3305 - final_output_accuracy: 0.9953 - final_output_dice_score: 0.8548 - final_output_precision: 0.9955 - final_output_sensitivity: 0.9924 - final_output_specificity: 0.9985 - out_3_accuracy: 0.9954 - out_3_dice_score: 0.8511 - out_3_precision: 0.9950 - out_3_sensitivity: 0.9948 - out_3_specificity: 0.9983 - out_2_accuracy: 0.9941 - out_2_dice_score: 0.8138 - out_2_precision: 0.9938 - out_2_sensitivity: 0.9935 - out_2_specificity: 0.9979 - out_1_accuracy: 0.9928 - out_1_dice_score: 0.7893 - out_1_precision: 0.9925 - out_1_sensitivity: 0.9922 - out_1_specificity: 0.9975 - val_loss: 4.9923 - val_final_output_loss: 1.1613 - val_out_3_loss: 1.1688 - val_out_2_loss: 1.2512 - val_out_1_loss: 1.3067 - val_final_output_accuracy: 0.9967 - val_final_output_dice_score: 0.8895 - val_final_output_precision: 0.9972 - val_final_output_sensitivity: 0.9954 - val_final_output_specificity: 0.9991 - val_out_3_accuracy: 0.9965 - val_out_3_dice_score: 0.8871 - val_out_3_precision: 0.9966 - val_out_3_sensitivity: 0.9964 - val_out_3_specificity: 0.9989 - val_out_2_accuracy: 0.9952 - val_out_2_dice_score: 0.8367 - val_out_2_precision: 0.9954 - val_out_2_sensitivity: 0.9951 - val_out_2_specificity: 0.9985 - val_out_1_accuracy: 0.9938 - val_out_1_dice_score: 0.8059 - val_out_1_precision: 0.9939 - val_out_1_sensitivity: 0.9937 - val_out_1_specificity: 0.9980\n",
            "Epoch 99/100\n",
            "13/13 [==============================] - 25s 2s/step - loss: 5.0009 - final_output_loss: 1.1784 - out_3_loss: 1.1857 - out_2_loss: 1.2455 - out_1_loss: 1.2829 - final_output_accuracy: 0.9956 - final_output_dice_score: 0.8813 - final_output_precision: 0.9953 - final_output_sensitivity: 0.9935 - final_output_specificity: 0.9984 - out_3_accuracy: 0.9956 - out_3_dice_score: 0.8787 - out_3_precision: 0.9951 - out_3_sensitivity: 0.9950 - out_3_specificity: 0.9984 - out_2_accuracy: 0.9943 - out_2_dice_score: 0.8420 - out_2_precision: 0.9940 - out_2_sensitivity: 0.9936 - out_2_specificity: 0.9980 - out_1_accuracy: 0.9931 - out_1_dice_score: 0.8188 - out_1_precision: 0.9928 - out_1_sensitivity: 0.9925 - out_1_specificity: 0.9976 - val_loss: 4.9488 - val_final_output_loss: 1.1549 - val_out_3_loss: 1.1604 - val_out_2_loss: 1.2425 - val_out_1_loss: 1.2869 - val_final_output_accuracy: 0.9965 - val_final_output_dice_score: 0.8917 - val_final_output_precision: 0.9971 - val_final_output_sensitivity: 0.9952 - val_final_output_specificity: 0.9990 - val_out_3_accuracy: 0.9963 - val_out_3_dice_score: 0.8890 - val_out_3_precision: 0.9963 - val_out_3_sensitivity: 0.9962 - val_out_3_specificity: 0.9988 - val_out_2_accuracy: 0.9951 - val_out_2_dice_score: 0.8399 - val_out_2_precision: 0.9953 - val_out_2_sensitivity: 0.9950 - val_out_2_specificity: 0.9984 - val_out_1_accuracy: 0.9940 - val_out_1_dice_score: 0.8136 - val_out_1_precision: 0.9941 - val_out_1_sensitivity: 0.9939 - val_out_1_specificity: 0.9980\n",
            "Epoch 100/100\n",
            "13/13 [==============================] - 25s 2s/step - loss: 4.9254 - final_output_loss: 1.1518 - out_3_loss: 1.1606 - out_2_loss: 1.2318 - out_1_loss: 1.2729 - final_output_accuracy: 0.9969 - final_output_dice_score: 0.8930 - final_output_precision: 0.9970 - final_output_sensitivity: 0.9948 - final_output_specificity: 0.9990 - out_3_accuracy: 0.9968 - out_3_dice_score: 0.8886 - out_3_precision: 0.9965 - out_3_sensitivity: 0.9964 - out_3_specificity: 0.9988 - out_2_accuracy: 0.9959 - out_2_dice_score: 0.8433 - out_2_precision: 0.9956 - out_2_sensitivity: 0.9954 - out_2_specificity: 0.9985 - out_1_accuracy: 0.9951 - out_1_dice_score: 0.8166 - out_1_precision: 0.9948 - out_1_sensitivity: 0.9946 - out_1_specificity: 0.9983 - val_loss: 4.9533 - val_final_output_loss: 1.1527 - val_out_3_loss: 1.1650 - val_out_2_loss: 1.2459 - val_out_1_loss: 1.2856 - val_final_output_accuracy: 0.9968 - val_final_output_dice_score: 0.8959 - val_final_output_precision: 0.9972 - val_final_output_sensitivity: 0.9956 - val_final_output_specificity: 0.9991 - val_out_3_accuracy: 0.9965 - val_out_3_dice_score: 0.8891 - val_out_3_precision: 0.9966 - val_out_3_sensitivity: 0.9965 - val_out_3_specificity: 0.9989 - val_out_2_accuracy: 0.9954 - val_out_2_dice_score: 0.8394 - val_out_2_precision: 0.9955 - val_out_2_sensitivity: 0.9953 - val_out_2_specificity: 0.9985 - val_out_1_accuracy: 0.9942 - val_out_1_dice_score: 0.8153 - val_out_1_precision: 0.9943 - val_out_1_sensitivity: 0.9941 - val_out_1_specificity: 0.9981\n"
          ]
        }
      ],
      "source": [
        "history=model.fit(train_generator(input_gen, out_gen),\n",
        "\t                  validation_data=(X_test, [Y_test, Y_test, Y_test, Y_test]),\n",
        "\t                  steps_per_epoch=len(X_train) // 64,\n",
        "\t                  epochs=epochs, verbose=1, shuffle=True,\n",
        "                    )"
      ]
    },
    {
      "cell_type": "code",
      "source": [
        "#model.save('/content/drive/MyDrive/ranadeep/2021DATA/model.h5', include_optimizer=True)"
      ],
      "metadata": {
        "id": "VJ8H14Y0VBSO"
      },
      "execution_count": null,
      "outputs": []
    },
    {
      "cell_type": "code",
      "source": [
        "def Accuracy_Graph(history):\n",
        "    plt.plot(history.history['final_output_accuracy'])\n",
        "    plt.plot(history.history['val_final_output_accuracy'])\n",
        "    #plt.title('Model accuracy')\n",
        "    plt.ylabel('Accuracy')\n",
        "    plt.xlabel('Epoch')\n",
        "    plt.legend(['Train', 'Validation'], loc='lower right')\n",
        "    plt.subplots_adjust(top=1.00, bottom=0.0, left=0.0, right=0.95, hspace=0.25,\n",
        "                        wspace=0.35)\n",
        "    plt.show()\n",
        "\n",
        "\n",
        "# Dice Similarity Coefficient vs Epoch\n",
        "def Dice_coefficient_Graph(history):\n",
        "\n",
        "    plt.plot(history.history['final_output_dice_score'])\n",
        "    plt.plot(history.history['val_final_output_dice_score'])\n",
        "    #plt.title('Dice_Coefficient')\n",
        "    plt.ylabel('Dice_Coefficient')\n",
        "    plt.xlabel('Epoch')\n",
        "    plt.legend(['Train', 'Validation'], loc='upper left')\n",
        "    plt.subplots_adjust(top=1.00, bottom=0.0, left=0.0, right=0.95, hspace=0.25,\n",
        "                        wspace=0.35)\n",
        "    plt.show()\n",
        "\n",
        "def Loss_Graph(history):\n",
        "    plt.plot(history.history['final_output_loss'])\n",
        "    plt.plot(history.history['val_final_output_loss'])\n",
        "    #plt.title('Model accuracy')\n",
        "    plt.ylabel('Loss')\n",
        "    plt.xlabel('Epoch')\n",
        "    plt.legend(['Train', 'Validation'], loc='upper right')\n",
        "    plt.subplots_adjust(top=1.00, bottom=0.0, left=0.0, right=0.95, hspace=0.25,\n",
        "                        wspace=0.35)\n",
        "    plt.show()\n",
        "\n"
      ],
      "metadata": {
        "id": "vidInnUiVHo_"
      },
      "execution_count": null,
      "outputs": []
    },
    {
      "cell_type": "code",
      "source": [
        "Accuracy_Graph(history)\n",
        "Dice_coefficient_Graph(history)\n",
        "Loss_Graph(history)"
      ],
      "metadata": {
        "id": "jZrIneDuVJYg",
        "colab": {
          "base_uri": "https://localhost:8080/",
          "height": 1000
        },
        "outputId": "91aa6721-0a7a-44d6-d0d9-a354ef2ef279"
      },
      "execution_count": null,
      "outputs": [
        {
          "output_type": "display_data",
          "data": {
            "text/plain": [
              "<Figure size 432x288 with 1 Axes>"
            ],
            "image/png": "[encoded data removed]"
          },
          "metadata": {
            "needs_background": "light"
          }
        },
        {
          "output_type": "display_data",
          "data": {
            "text/plain": [
              "<Figure size 432x288 with 1 Axes>"
            ],
            "image/png": "[encoded data removed]"
          },
          "metadata": {
            "needs_background": "light"
          }
        },
        {
          "output_type": "display_data",
          "data": {
            "text/plain": [
              "<Figure size 432x288 with 1 Axes>"
            ],
            "image/png": "[encoded data removed]"
          },
          "metadata": {
            "needs_background": "light"
          }
        }
      ]
    },
    {
      "cell_type": "code",
      "source": [
        "import statistics\n",
        "display(statistics.mean(history.history['val_final_output_accuracy']))\n",
        "display(statistics.mean(history.history['val_final_output_dice_score']))\n",
        "display(statistics.mean(history.history['val_final_output_precision']))\n",
        "display(statistics.mean(history.history['val_final_output_sensitivity']))\n",
        "display(statistics.mean(history.history['val_final_output_specificity']))"
      ],
      "metadata": {
        "id": "m2QpgUm8VKsu",
        "colab": {
          "base_uri": "https://localhost:8080/",
          "height": 104
        },
        "outputId": "0fa9666a-0096-4c93-ee79-eed974a58859"
      },
      "execution_count": null,
      "outputs": [
        {
          "output_type": "display_data",
          "data": {
            "text/plain": [
              "0.9813938331604004"
            ]
          },
          "metadata": {}
        },
        {
          "output_type": "display_data",
          "data": {
            "text/plain": [
              "0.7638620775938034"
            ]
          },
          "metadata": {}
        },
        {
          "output_type": "display_data",
          "data": {
            "text/plain": [
              "0.9724263319373131"
            ]
          },
          "metadata": {}
        },
        {
          "output_type": "display_data",
          "data": {
            "text/plain": [
              "0.9862463754415512"
            ]
          },
          "metadata": {}
        },
        {
          "output_type": "display_data",
          "data": {
            "text/plain": [
              "0.9855877012014389"
            ]
          },
          "metadata": {}
        }
      ]
    },
    {
      "cell_type": "code",
      "execution_count": null,
      "metadata": {
        "id": "aCFp6MPMae6p"
      },
      "outputs": [],
      "source": [
        "pred = model.predict(X_test)"
      ]
    },
    {
      "cell_type": "code",
      "execution_count": null,
      "metadata": {
        "id": "yPAnboGfjWiU",
        "colab": {
          "base_uri": "https://localhost:8080/"
        },
        "outputId": "695fd101-7f40-4063-f2a0-3c028f03773e"
      },
      "outputs": [
        {
          "output_type": "stream",
          "name": "stdout",
          "text": [
            "(4, 375, 240, 240, 4)\n"
          ]
        }
      ],
      "source": [
        "print(np.shape(pred))"
      ]
    },
    {
      "cell_type": "code",
      "execution_count": null,
      "metadata": {
        "id": "Vu9kAL1JHAZI"
      },
      "outputs": [],
      "source": [
        "pred = np.argmax(pred, axis=-1)"
      ]
    },
    {
      "cell_type": "code",
      "execution_count": null,
      "metadata": {
        "id": "quj0A3aXAP3D"
      },
      "outputs": [],
      "source": [
        "\n",
        "predicted_images = np.reshape(pred[0,:,:,:], (375,240,240))"
      ]
    },
    {
      "cell_type": "code",
      "execution_count": null,
      "metadata": {
        "id": "IwuJ92EcIle9",
        "colab": {
          "base_uri": "https://localhost:8080/"
        },
        "outputId": "05a4bdb2-5c5e-4cb1-8906-a71c25fcb264"
      },
      "outputs": [
        {
          "output_type": "stream",
          "name": "stdout",
          "text": [
            "(375, 240, 240)\n"
          ]
        }
      ],
      "source": [
        "GT = np.argmax(Y_test, axis=-1)\n",
        "print(GT.shape)"
      ]
    },
    {
      "cell_type": "code",
      "execution_count": null,
      "metadata": {
        "id": "Ji8xPZNN1_KW"
      },
      "outputs": [],
      "source": [
        "predicted_images[predicted_images==3] = 4\n",
        "GT[GT==3] = 4"
      ]
    },
    {
      "cell_type": "code",
      "execution_count": null,
      "metadata": {
        "id": "I3_OQcAqaUi8"
      },
      "outputs": [],
      "source": [
        "def iou_coef(s,g):\n",
        "    num = np.sum(np.multiply(s,g))\n",
        "    denom=s.sum() + g.sum() - num\n",
        "    if denom==0:\n",
        "        return 1\n",
        "    else:\n",
        "        return num/denom"
      ]
    },
    {
      "cell_type": "code",
      "execution_count": null,
      "metadata": {
        "id": "VvBQgcbsSDBQ"
      },
      "outputs": [],
      "source": [
        "def iou_whole(pred, orig_label):\n",
        "    #computes dice for the whole tumor\n",
        "    return iou_coef(pred>0,orig_label>0)\n",
        "\n",
        "\n",
        "def iou_en(pred, orig_label):\n",
        "    #computes dice for enhancing region\n",
        "    return iou_coef(pred==4,orig_label==4)\n",
        "\n",
        "\n",
        "def iou_core(pred, orig_label):\n",
        "    #computes dice for core region\n",
        "    seg_=np.copy(pred)\n",
        "    ground_=np.copy(orig_label)\n",
        "    seg_[seg_==2]=0\n",
        "    ground_[ground_==2]=0\n",
        "    return iou_coef(seg_>0,ground_>0)"
      ]
    },
    {
      "cell_type": "code",
      "execution_count": null,
      "metadata": {
        "id": "cjAV_L2HURYQ",
        "colab": {
          "base_uri": "https://localhost:8080/"
        },
        "outputId": "ef2b48ec-ad41-4c3d-a0b2-47c08204f6db"
      },
      "outputs": [
        {
          "output_type": "stream",
          "name": "stdout",
          "text": [
            "iou complete tumor score : 0.8883\n",
            "iou core tumor score : 0.9045\n",
            "iou enhancing tumor score :0.8188 \n"
          ]
        }
      ],
      "source": [
        "predicted_images = predicted_images.astype(np.int32)\n",
        "GT = GT.astype(np.int32)\n",
        "\n",
        "iou_complete  = iou_whole(predicted_images,GT)\n",
        "iou_enhancing = iou_en(predicted_images,GT)\n",
        "iou_core      = iou_core(predicted_images,GT)\n",
        "\n",
        "print(\"iou complete tumor score : {:0.4f}\".format(iou_complete))\n",
        "print(\"iou core tumor score : {:0.4f}\".format(iou_core))\n",
        "print(\"iou enhancing tumor score :{:0.4f} \".format(iou_enhancing))"
      ]
    },
    {
      "cell_type": "code",
      "execution_count": null,
      "metadata": {
        "id": "dUxIWYsg1_G6"
      },
      "outputs": [],
      "source": [
        "\n",
        "\n",
        "def binary_dice3d(s,g):\n",
        "    #dice score of two 3D volumes\n",
        "    num=np.sum(np.multiply(s, g))\n",
        "    denom=s.sum() + g.sum()\n",
        "    if denom==0:\n",
        "        return 1\n",
        "    else:\n",
        "        return  2.0*num/denom\n",
        "\n",
        "\n",
        "\n",
        "def DSC_whole(pred, orig_label):\n",
        "    #computes dice for the whole tumor\n",
        "    return binary_dice3d(pred>0,orig_label>0)\n",
        "\n",
        "\n",
        "def DSC_en(pred, orig_label):\n",
        "    #computes dice for enhancing region\n",
        "    return binary_dice3d(pred==4,orig_label==4)\n",
        "\n",
        "\n",
        "def DSC_core(pred, orig_label):\n",
        "    #computes dice for core region\n",
        "    seg_=np.copy(pred)\n",
        "    ground_=np.copy(orig_label)\n",
        "    seg_[seg_==2]=0\n",
        "    ground_[ground_==2]=0\n",
        "    return binary_dice3d(seg_>0,ground_>0)"
      ]
    },
    {
      "cell_type": "code",
      "execution_count": null,
      "metadata": {
        "id": "6dc3Pnyq1Nzf",
        "colab": {
          "base_uri": "https://localhost:8080/"
        },
        "outputId": "761a49a5-a8e2-465a-c4c2-a33addffef50"
      },
      "outputs": [
        {
          "output_type": "stream",
          "name": "stdout",
          "text": [
            "Dice complete tumor score : 0.9408\n",
            "Dice core tumor score : 0.9499\n",
            "Dice enhancing tumor score :0.9004 \n"
          ]
        }
      ],
      "source": [
        "Dice_complete=DSC_whole(predicted_images,GT)\n",
        "Dice_enhancing=DSC_en(predicted_images,GT)\n",
        "Dice_core=DSC_core(predicted_images,GT)\n",
        "\n",
        "print(\"Dice complete tumor score : {:0.4f}\".format(Dice_complete))\n",
        "print(\"Dice core tumor score : {:0.4f}\".format(Dice_core))\n",
        "print(\"Dice enhancing tumor score :{:0.4f} \".format(Dice_enhancing))"
      ]
    }
  ],
  "metadata": {
    "accelerator": "GPU",
    "colab": {
      "machine_shape": "hm",
      "provenance": [],
      "include_colab_link": true
    },
    "kernelspec": {
      "display_name": "Python 3",
      "name": "python3"
    }
  },
  "nbformat": 4,
  "nbformat_minor": 0
}