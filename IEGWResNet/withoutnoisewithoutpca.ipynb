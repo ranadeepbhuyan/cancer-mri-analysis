{
  "cells": [
    {
      "cell_type": "markdown",
      "metadata": {
        "id": "view-in-github",
        "colab_type": "text"
      },
      "source": [
        "<a href=\"https://colab.research.google.com/github/ranadeepbhuyan/cancer-mri-analysis/blob/main/IEGWResNet/withoutnoisewithoutpca.ipynb\" target=\"_parent\"><img src=\"https://colab.research.google.com/assets/colab-badge.svg\" alt=\"Open In Colab\"/></a>"
      ]
    },
    {
      "cell_type": "code",
      "execution_count": null,
      "metadata": {
        "colab": {
          "base_uri": "https://localhost:8080/"
        },
        "id": "pRK3vxOwFDO-",
        "outputId": "897f9dbe-87cb-46c5-cef7-428797ba6646"
      },
      "outputs": [
        {
          "output_type": "stream",
          "name": "stdout",
          "text": [
            "Drive already mounted at /content/drive; to attempt to forcibly remount, call drive.mount(\"/content/drive\", force_remount=True).\n"
          ]
        }
      ],
      "source": [
        "from google.colab import drive\n",
        "drive.mount('/content/drive')"
      ]
    },
    {
      "cell_type": "code",
      "execution_count": null,
      "metadata": {
        "id": "fnLTNgBG7VzI"
      },
      "outputs": [],
      "source": [
        "import numpy as np\n",
        "import matplotlib.pyplot as plt\n",
        "import glob\n",
        "import pickle\n",
        "import keras\n",
        "from keras.layers import Conv2D, Activation, Input, Dropout, Reshape, MaxPooling2D, UpSampling2D, Conv2DTranspose, Concatenate, multiply, Add, LeakyReLU, ReLU\n",
        "from tensorflow.keras.layers import BatchNormalization\n",
        "from tensorflow.keras.models import Model\n",
        "from keras.callbacks import ModelCheckpoint, ReduceLROnPlateau\n",
        "from keras.optimizers import Adam\n",
        "from keras.utils import *\n",
        "from keras import regularizers\n",
        "from keras import backend as K\n",
        "from keras.models import load_model\n",
        "from keras.layers import Lambda\n",
        "import nibabel as nib"
      ]
    },
    {
      "cell_type": "code",
      "execution_count": null,
      "metadata": {
        "id": "GuqmS5fWTqoN",
        "colab": {
          "base_uri": "https://localhost:8080/"
        },
        "outputId": "2b3c684c-b3db-4fa2-f1f6-6937cadd8674"
      },
      "outputs": [
        {
          "output_type": "stream",
          "name": "stdout",
          "text": [
            "Requirement already satisfied: SimpleITK in /usr/local/lib/python3.10/dist-packages (2.3.1)\n"
          ]
        }
      ],
      "source": [
        "!pip install SimpleITK"
      ]
    },
    {
      "cell_type": "code",
      "execution_count": null,
      "metadata": {
        "id": "OiTeWkdCTfWY"
      },
      "outputs": [],
      "source": [
        "import SimpleITK as sitk"
      ]
    },
    {
      "cell_type": "code",
      "execution_count": null,
      "metadata": {
        "id": "SNAp5aKSnnvJ"
      },
      "outputs": [],
      "source": [
        "flair_path = glob.glob('/content/drive/MyDrive/ranadeep/2019DATA/data/flair/*')\n",
        "seg_path   = glob.glob('/content/drive/MyDrive/ranadeep/2019DATA/data/Seg/*')\n",
        "t1_path    = glob.glob('/content/drive/MyDrive/ranadeep/2019DATA/data/T1/*')\n",
        "t1ce_path  = glob.glob('/content/drive/MyDrive/ranadeep/2019DATA/data/T1ce/*')\n",
        "t2_path    = glob.glob('/content/drive/MyDrive/ranadeep/2019DATA/data/T2/*')"
      ]
    },
    {
      "cell_type": "code",
      "execution_count": null,
      "metadata": {
        "colab": {
          "base_uri": "https://localhost:8080/"
        },
        "id": "5qhECSLIDrNX",
        "outputId": "cb3cb141-cf66-48c0-8e7a-0c1289daae06"
      },
      "outputs": [
        {
          "output_type": "stream",
          "name": "stdout",
          "text": [
            "30\n"
          ]
        }
      ],
      "source": [
        "print(len(flair_path))"
      ]
    },
    {
      "cell_type": "code",
      "execution_count": null,
      "metadata": {
        "id": "_IcSLJj0Uc1-"
      },
      "outputs": [],
      "source": [
        "def pca_color_augmentation_tensor(inputs, std_deviation=0.1, scale=0.1, clipping=False):\n",
        "    ranks = inputs.ndim\n",
        "    assert ranks >= 2\n",
        "\n",
        "    chs = inputs.shape[-1]\n",
        "    if ranks <= 3:\n",
        "        x = inputs.copy()\n",
        "    elif ranks == 4:\n",
        "        dims = inputs.shape[1] * inputs.shape[2]\n",
        "        x = inputs.reshape(-1, dims, chs)\n",
        "    elif ranks == 5:\n",
        "        dims = inputs.shape[2] * inputs.shape[3]\n",
        "        depth = inputs.shape[1]\n",
        "        x = inputs.reshape(-1, depth, dims, chs)\n",
        "    calculate_axis, reduce_axis = ranks-1, ranks-2\n",
        "    if ranks == 3:\n",
        "        calculate_axis, reduce_axis = 1, 2\n",
        "    elif ranks >= 4:\n",
        "        calculate_axis, reduce_axis = ranks-3, ranks-2\n",
        "    C = 1.0\n",
        "    if ranks >= 3:\n",
        "        C = x.shape[reduce_axis]\n",
        "    var = np.var(x, axis=calculate_axis, keepdims=True)\n",
        "    scaling_factors = np.sqrt(C / np.sum(var, axis=reduce_axis, keepdims=True))\n",
        "    x = x * scaling_factors\n",
        "    # subtract mean for cov matrix\n",
        "    mean = np.mean(x, axis=calculate_axis, keepdims=True)\n",
        "    x -= mean\n",
        "    # covariance matrix\n",
        "    cov_n = max(x.shape[calculate_axis] - 1, 1)\n",
        "    # cov (since x was normalized)\n",
        "    cov = np.matmul(np.swapaxes(x, -1, -2), x) / cov_n\n",
        "    # eigen value(S), eigen vector(U)\n",
        "    U, S, V = np.linalg.svd(cov)\n",
        "    if ranks == 2:\n",
        "        rand = np.random.randn(*inputs.shape) * std_deviation\n",
        "        delta = np.matmul(rand*np.expand_dims(S, axis=0), U)\n",
        "    else:\n",
        "        rand = np.random.randn(*S.shape) * std_deviation\n",
        "        delta_original = np.squeeze(np.matmul(U, np.expand_dims(rand*S, axis=-1)), axis=-1)\n",
        "    if ranks == 3:\n",
        "        delta = np.expand_dims(delta_original, axis=ranks-2)\n",
        "    elif ranks >= 4:\n",
        "        delta = np.expand_dims(delta_original, axis=ranks-3)\n",
        "        delta = np.broadcast_to(delta, x.shape)\n",
        "        delta = delta.reshape(-1, *inputs.shape[1:])\n",
        "\n",
        "    # delta scaling\n",
        "    delta = delta * scale\n",
        "    result = inputs + delta\n",
        "    if clipping:\n",
        "        result = np.clip(result, 0.0, scale)\n",
        "\n",
        "    return result"
      ]
    },
    {
      "cell_type": "code",
      "source": [
        "import numpy as np\n",
        "def add_gaussian_noise(image, mean=0, sigma=1):\n",
        "    if len(image.shape) == 2:  # Grayscale image (2D)\n",
        "        row, col = image.shape\n",
        "        gauss = np.random.normal(mean, sigma, (row, col))\n",
        "        gauss = gauss.reshape(row, col)\n",
        "    elif len(image.shape) == 3:  # Color image (3D)\n",
        "        row, col, ch = image.shape\n",
        "        gauss = np.random.normal(mean, sigma, (row, col, ch))\n",
        "        gauss = gauss.reshape(row, col, ch)\n",
        "    else:\n",
        "        raise ValueError(\"Unexpected image shape:\", image.shape)\n",
        "\n",
        "    noisy = image + gauss\n",
        "    return np.clip(noisy, 0, 255)"
      ],
      "metadata": {
        "id": "YcvP5ZhUna1J"
      },
      "execution_count": null,
      "outputs": []
    },
    {
      "cell_type": "code",
      "source": [
        "import numpy as np\n",
        "def add_speckle_noise(image, mean=0, sigma=0.1):\n",
        "    row, col = image.shape if len(image.shape) == 2 else image.shape[:2]\n",
        "    gauss = np.random.normal(mean, sigma, (row, col))\n",
        "    gauss = gauss.reshape(row, col) if len(image.shape) == 2 else gauss.reshape(row, col, 1)\n",
        "    noisy = image + image * gauss\n",
        "    return np.clip(noisy, 0, 255)\n"
      ],
      "metadata": {
        "id": "Oefx72N-rCsg"
      },
      "execution_count": null,
      "outputs": []
    },
    {
      "cell_type": "code",
      "source": [
        "import numpy as np\n",
        "\n",
        "def add_poisson_noise(image, scale=1):\n",
        "    image = image / 255.0\n",
        "    noisy = np.random.poisson(image * scale) / scale\n",
        "    noisy = noisy * 255.0\n",
        "    return np.clip(noisy, 0, 255).astype('uint8')\n"
      ],
      "metadata": {
        "id": "Ok5npM3CrXSQ"
      },
      "execution_count": null,
      "outputs": []
    },
    {
      "cell_type": "code",
      "execution_count": null,
      "metadata": {
        "colab": {
          "base_uri": "https://localhost:8080/"
        },
        "id": "z-bdXPY2XcML",
        "outputId": "7a3d3036-9685-48c8-d727-b6d84878a97c"
      },
      "outputs": [
        {
          "output_type": "stream",
          "name": "stdout",
          "text": [
            "(750, 240, 240)\n"
          ]
        }
      ],
      "source": [
        "X_flair=[]\n",
        "for i in range(len(flair_path)):\n",
        "    a = sitk.ReadImage(flair_path[i])\n",
        "    a = sitk.GetArrayFromImage(a)\n",
        "    for j in range(25):\n",
        "        image = a[50+2*j,:,:]\n",
        "        #noisy_image = add_gaussian_noise(image)\n",
        "        #noisy_image = add_speckle_noise(image, mean=0, sigma=0.1)\n",
        "        #noisy_image = add_poisson_noise(image, scale=100)\n",
        "        X_flair.append(image)\n",
        "print(np.shape(X_flair))"
      ]
    },
    {
      "cell_type": "code",
      "execution_count": null,
      "metadata": {
        "id": "PVvCGpG3eiWH"
      },
      "outputs": [],
      "source": [
        "X_flair = np.asarray(X_flair).astype(np.float32)\n",
        "#X_flair = pca_color_augmentation_tensor(X_flair[:,:,:])"
      ]
    },
    {
      "cell_type": "code",
      "execution_count": null,
      "metadata": {
        "colab": {
          "base_uri": "https://localhost:8080/"
        },
        "id": "qV4wgbN-R5XS",
        "outputId": "379f57b8-7fc8-4a01-9d0f-f3757f4c7e23"
      },
      "outputs": [
        {
          "output_type": "execute_result",
          "data": {
            "text/plain": [
              "(-0.54348165, 9.680877)"
            ]
          },
          "metadata": {},
          "execution_count": 221
        }
      ],
      "source": [
        "mean = X_flair.mean()\n",
        "std = X_flair.std()\n",
        "X_flair = (X_flair - mean)/(std + 1e-8)\n",
        "np.min(X_flair), np.max(X_flair)"
      ]
    },
    {
      "cell_type": "code",
      "execution_count": null,
      "metadata": {
        "colab": {
          "base_uri": "https://localhost:8080/"
        },
        "id": "FUCq69-HaXIY",
        "outputId": "60df21ce-ef9b-4c95-cd73-0ec71ebbaefa"
      },
      "outputs": [
        {
          "output_type": "stream",
          "name": "stdout",
          "text": [
            "(750, 240, 240)\n"
          ]
        }
      ],
      "source": [
        "X_t1=[]\n",
        "for i in range(len(t1_path)):\n",
        "    a = sitk.ReadImage(t1_path[i])\n",
        "    a = sitk.GetArrayFromImage(a)\n",
        "    for j in range(25):\n",
        "        image = a[50+2*j,:,:]\n",
        "        #noisy_image = add_gaussian_noise(image)\n",
        "        #noisy_image = add_speckle_noise(image, mean=0, sigma=0.1)\n",
        "        #noisy_image = add_poisson_noise(image, scale=100)\n",
        "\n",
        "        X_t1.append(image)\n",
        "print(np.shape(X_t1))"
      ]
    },
    {
      "cell_type": "code",
      "execution_count": null,
      "metadata": {
        "id": "jTw7cJrgesV_"
      },
      "outputs": [],
      "source": [
        "X_t1 = np.asarray(X_t1).astype(np.float32)\n",
        "#X_t1 = pca_color_augmentation_tensor(X_t1[:,:,:])"
      ]
    },
    {
      "cell_type": "code",
      "execution_count": null,
      "metadata": {
        "colab": {
          "base_uri": "https://localhost:8080/"
        },
        "id": "2iVC59neTrvF",
        "outputId": "08a58e98-a758-473b-9e44-ccca26738b71"
      },
      "outputs": [
        {
          "output_type": "execute_result",
          "data": {
            "text/plain": [
              "(-0.5773242, 6.559638)"
            ]
          },
          "metadata": {},
          "execution_count": 224
        }
      ],
      "source": [
        "mean = X_t1.mean()\n",
        "std = X_t1.std()\n",
        "X_t1 = (X_t1 - mean)/(std + 1e-8)\n",
        "np.min(X_t1), np.max(X_t1)"
      ]
    },
    {
      "cell_type": "code",
      "execution_count": null,
      "metadata": {
        "colab": {
          "base_uri": "https://localhost:8080/"
        },
        "id": "gyL84efyaX5J",
        "outputId": "9f0d169d-0ce1-4018-a997-c8f95cd4d912"
      },
      "outputs": [
        {
          "output_type": "stream",
          "name": "stdout",
          "text": [
            "(750, 240, 240)\n"
          ]
        }
      ],
      "source": [
        "X_t1ce=[]\n",
        "for i in range(len(t1ce_path)):\n",
        "    a = sitk.ReadImage(t1ce_path[i])\n",
        "    a = sitk.GetArrayFromImage(a)\n",
        "    for j in range(25):\n",
        "        image = a[50+2*j,:,:]\n",
        "        #noisy_image = add_gaussian_noise(image)\n",
        "        #noisy_image = add_speckle_noise(image, mean=0, sigma=0.1)\n",
        "        #noisy_image = add_poisson_noise(image, scale=100)\n",
        "        X_t1ce.append(image)\n",
        "print(np.shape(X_t1ce))"
      ]
    },
    {
      "cell_type": "code",
      "execution_count": null,
      "metadata": {
        "id": "BLIQ7qI2fCdS"
      },
      "outputs": [],
      "source": [
        "X_t1ce = np.asarray(X_t1ce).astype(np.float32)\n",
        "#X_t1ce = pca_color_augmentation_tensor(X_t1ce[:,:,:])"
      ]
    },
    {
      "cell_type": "code",
      "execution_count": null,
      "metadata": {
        "colab": {
          "base_uri": "https://localhost:8080/"
        },
        "id": "Juy5PSNFT5AK",
        "outputId": "e91fea8e-8a8f-4e30-9464-a8f56d60c6cf"
      },
      "outputs": [
        {
          "output_type": "execute_result",
          "data": {
            "text/plain": [
              "(-0.52676636, 11.238466)"
            ]
          },
          "metadata": {},
          "execution_count": 227
        }
      ],
      "source": [
        "mean = X_t1ce.mean()\n",
        "std = X_t1ce.std()\n",
        "X_t1ce = (X_t1ce - mean)/(std + 1e-8)\n",
        "np.min(X_t1ce), np.max(X_t1ce)"
      ]
    },
    {
      "cell_type": "code",
      "execution_count": null,
      "metadata": {
        "colab": {
          "base_uri": "https://localhost:8080/"
        },
        "id": "hj3lJ9Eua2vQ",
        "outputId": "5fce6b3c-7ee8-4d26-f678-b98bd0d3162d"
      },
      "outputs": [
        {
          "output_type": "stream",
          "name": "stdout",
          "text": [
            "(750, 240, 240)\n"
          ]
        }
      ],
      "source": [
        "X_t2=[]\n",
        "for i in range(len(t2_path)):\n",
        "    a = sitk.ReadImage(t2_path[i])\n",
        "    a = sitk.GetArrayFromImage(a)\n",
        "    for j in range(25):\n",
        "        image = a[50+2*j,:,:]\n",
        "        #noisy_image = add_gaussian_noise(image)\n",
        "        #noisy_image = add_speckle_noise(image, mean=0, sigma=0.1)\n",
        "        #noisy_image = add_poisson_noise(image, scale=100)\n",
        "        X_t2.append(image)\n",
        "print(np.shape(X_t2))"
      ]
    },
    {
      "cell_type": "code",
      "execution_count": null,
      "metadata": {
        "id": "T1rNbpX-fH7L"
      },
      "outputs": [],
      "source": [
        "X_t2 = np.asarray(X_t2).astype(np.float32)\n",
        "#X_t2 = pca_color_augmentation_tensor(X_t2[:,:,:])"
      ]
    },
    {
      "cell_type": "code",
      "execution_count": null,
      "metadata": {
        "colab": {
          "base_uri": "https://localhost:8080/"
        },
        "id": "ynOIXHD0UFkV",
        "outputId": "857b7511-f2ac-47ab-871b-1e7e27484076"
      },
      "outputs": [
        {
          "output_type": "execute_result",
          "data": {
            "text/plain": [
              "(-0.50864583, 8.876191)"
            ]
          },
          "metadata": {},
          "execution_count": 230
        }
      ],
      "source": [
        "mean = X_t2.mean()\n",
        "std = X_t2.std()\n",
        "X_t2 = (X_t2 - mean)/(std + 1e-8)\n",
        "np.min(X_t2), np.max(X_t2)"
      ]
    },
    {
      "cell_type": "code",
      "execution_count": null,
      "metadata": {
        "colab": {
          "base_uri": "https://localhost:8080/"
        },
        "id": "oXuqfN6dbLp_",
        "outputId": "b960a148-7a55-4fa1-8283-c7e3192a8ceb"
      },
      "outputs": [
        {
          "output_type": "stream",
          "name": "stdout",
          "text": [
            "(750, 240, 240)\n"
          ]
        }
      ],
      "source": [
        "X_seg=[]\n",
        "for i in range(len(seg_path)):\n",
        "    a = sitk.ReadImage(seg_path[i])\n",
        "    a = sitk.GetArrayFromImage(a)\n",
        "    for j in range(25):\n",
        "        X_seg.append((a[50+2*j,:,:]))\n",
        "print(np.shape(X_seg))"
      ]
    },
    {
      "cell_type": "code",
      "execution_count": null,
      "metadata": {
        "id": "-aV-yA6gcRXu"
      },
      "outputs": [],
      "source": [
        "X_seg = np.asarray(X_seg).astype(np.float32)"
      ]
    },
    {
      "cell_type": "code",
      "execution_count": null,
      "metadata": {
        "colab": {
          "base_uri": "https://localhost:8080/"
        },
        "id": "AnBB3AB3a0LP",
        "outputId": "9f7b58cf-07d5-4e4b-8be4-60bf21353b9e"
      },
      "outputs": [
        {
          "output_type": "stream",
          "name": "stdout",
          "text": [
            "750\n"
          ]
        }
      ],
      "source": [
        "print(X_flair.shape[0])"
      ]
    },
    {
      "cell_type": "code",
      "execution_count": null,
      "metadata": {
        "id": "bBVPBlRp6tLB"
      },
      "outputs": [],
      "source": [
        "data = np.zeros((X_flair.shape[0],240,240,4))\n",
        "for i in range(data.shape[0]):\n",
        "    data[i,:,:,0] = X_flair[i,:,:]\n",
        "    data[i,:,:,1] = X_t1[i,:,:]\n",
        "    data[i,:,:,2] = X_t1ce[i,:,:]\n",
        "    data[i,:,:,3] = X_t2[i,:,:]"
      ]
    },
    {
      "cell_type": "code",
      "execution_count": null,
      "metadata": {
        "colab": {
          "base_uri": "https://localhost:8080/"
        },
        "id": "AIjHDWaV79eC",
        "outputId": "cf9bce11-6fec-45fc-d533-44105da2df38"
      },
      "outputs": [
        {
          "output_type": "stream",
          "name": "stdout",
          "text": [
            "(750, 240, 240, 4)\n"
          ]
        }
      ],
      "source": [
        "print(np.shape(data))"
      ]
    },
    {
      "cell_type": "code",
      "execution_count": null,
      "metadata": {
        "id": "9Y6vymfxD_cF"
      },
      "outputs": [],
      "source": [
        "del X_flair\n",
        "del X_t1\n",
        "del X_t2\n",
        "del X_t1ce"
      ]
    },
    {
      "cell_type": "code",
      "execution_count": null,
      "metadata": {
        "colab": {
          "base_uri": "https://localhost:8080/"
        },
        "id": "GLaqcxM6cVrF",
        "outputId": "2f07ca37-9502-4776-e4d1-01ca7f237323"
      },
      "outputs": [
        {
          "output_type": "stream",
          "name": "stdout",
          "text": [
            "[0. 1. 2. 4.]\n"
          ]
        }
      ],
      "source": [
        "print(np.unique(X_seg))"
      ]
    },
    {
      "cell_type": "code",
      "execution_count": null,
      "metadata": {
        "id": "qXMxghqIBW8u"
      },
      "outputs": [],
      "source": [
        "X_seg[X_seg == 4] = 3"
      ]
    },
    {
      "cell_type": "code",
      "execution_count": null,
      "metadata": {
        "colab": {
          "base_uri": "https://localhost:8080/"
        },
        "id": "H0tI1I6G8x0z",
        "outputId": "381162e7-42d3-4742-edd8-18b7e926d1d3"
      },
      "outputs": [
        {
          "output_type": "stream",
          "name": "stdout",
          "text": [
            "[0. 1. 2. 3.]\n"
          ]
        }
      ],
      "source": [
        "print(np.unique(X_seg))"
      ]
    },
    {
      "cell_type": "code",
      "execution_count": null,
      "metadata": {
        "colab": {
          "base_uri": "https://localhost:8080/"
        },
        "id": "gbwIiU95RlHO",
        "outputId": "bf60f148-9c0b-4ea7-89b8-01d8d52d0813"
      },
      "outputs": [
        {
          "output_type": "stream",
          "name": "stdout",
          "text": [
            "(750, 240, 240)\n"
          ]
        }
      ],
      "source": [
        "print(X_seg.shape)"
      ]
    },
    {
      "cell_type": "code",
      "execution_count": null,
      "metadata": {
        "colab": {
          "base_uri": "https://localhost:8080/"
        },
        "id": "iMmO-RWj23zP",
        "outputId": "c91dbcf4-fb68-45aa-e04c-66f18d4d9076"
      },
      "outputs": [
        {
          "output_type": "stream",
          "name": "stdout",
          "text": [
            "(750, 240, 240, 4)\n"
          ]
        }
      ],
      "source": [
        "from tensorflow.keras.utils import to_categorical\n",
        "gt = to_categorical(X_seg, num_classes=None)\n",
        "print(gt.shape)"
      ]
    },
    {
      "cell_type": "code",
      "execution_count": null,
      "metadata": {
        "colab": {
          "base_uri": "https://localhost:8080/"
        },
        "id": "PqPY9vYCbkKN",
        "outputId": "29e0543f-ee1b-4bf1-80d8-38b709614538"
      },
      "outputs": [
        {
          "output_type": "stream",
          "name": "stdout",
          "text": [
            "(750, 240, 240, 4)\n",
            "(750, 240, 240, 4)\n"
          ]
        }
      ],
      "source": [
        "print(data.shape)\n",
        "print(gt.shape)"
      ]
    },
    {
      "cell_type": "code",
      "execution_count": null,
      "metadata": {
        "id": "GxQVciKQMGff"
      },
      "outputs": [],
      "source": [
        "del X_seg"
      ]
    },
    {
      "cell_type": "code",
      "execution_count": null,
      "metadata": {
        "id": "qQVOCRWnvwz4"
      },
      "outputs": [],
      "source": [
        "from sklearn.model_selection import train_test_split\n",
        "X_train , X_test, Y_train, Y_test = train_test_split(data, gt, test_size=0.30, random_state=42)\n"
      ]
    },
    {
      "cell_type": "code",
      "execution_count": null,
      "metadata": {
        "colab": {
          "base_uri": "https://localhost:8080/"
        },
        "id": "FYdaQwqNvwsh",
        "outputId": "b350cd5f-18d9-4655-dbef-d8bec7a01029"
      },
      "outputs": [
        {
          "output_type": "stream",
          "name": "stdout",
          "text": [
            "(525, 240, 240, 4)\n",
            "(225, 240, 240, 4)\n"
          ]
        }
      ],
      "source": [
        "print(X_train.shape)\n",
        "print(X_test.shape)"
      ]
    },
    {
      "cell_type": "code",
      "execution_count": null,
      "metadata": {
        "colab": {
          "base_uri": "https://localhost:8080/"
        },
        "id": "WWz-hyqVvwj8",
        "outputId": "e4212dab-7753-4b07-b24d-a3a56bd93cf7"
      },
      "outputs": [
        {
          "output_type": "stream",
          "name": "stdout",
          "text": [
            "(525, 240, 240, 4)\n",
            "(225, 240, 240, 4)\n"
          ]
        }
      ],
      "source": [
        "print(Y_train.shape)\n",
        "print(Y_test.shape)"
      ]
    },
    {
      "cell_type": "code",
      "execution_count": null,
      "metadata": {
        "id": "4Is_BJ-95Q1-"
      },
      "outputs": [],
      "source": [
        "from keras.preprocessing.image import ImageDataGenerator"
      ]
    },
    {
      "cell_type": "code",
      "execution_count": null,
      "metadata": {
        "id": "aaqOzNkf5Qwi"
      },
      "outputs": [],
      "source": [
        "image_datagen = ImageDataGenerator(rotation_range=5,\n",
        "                                    horizontal_flip=True,\n",
        "                                    vertical_flip=True,\n",
        "                                    width_shift_range=0.1,\n",
        "                                    height_shift_range=0.1,\n",
        "                                    shear_range=0.1,\n",
        "                                    zoom_range=0.1)\n",
        "mask_datagen = ImageDataGenerator(rotation_range=5,\n",
        "                                    horizontal_flip=True,\n",
        "                                    vertical_flip=True,\n",
        "                                    width_shift_range=0.1,\n",
        "                                    height_shift_range=0.1,\n",
        "                                    shear_range=0.1,\n",
        "                                    zoom_range=0.1)"
      ]
    },
    {
      "cell_type": "code",
      "execution_count": null,
      "metadata": {
        "id": "qq3hnaN65QlT"
      },
      "outputs": [],
      "source": [
        "input_gen = image_datagen.flow(X_train, batch_size=8, seed=1)\n",
        "out_gen = mask_datagen.flow(Y_train, batch_size=8, seed=1)"
      ]
    },
    {
      "cell_type": "code",
      "execution_count": null,
      "metadata": {
        "id": "TTvnM3C-LtvA"
      },
      "outputs": [],
      "source": [
        "def train_generator(input_gen, out_gen):\n",
        "    while True:\n",
        "        image_next = input_gen.next()\n",
        "        mask_next  = out_gen.next()\n",
        "        yield image_next, [mask_next, mask_next, mask_next, mask_next]"
      ]
    },
    {
      "cell_type": "code",
      "execution_count": null,
      "metadata": {
        "id": "KrkAEt_AEWay"
      },
      "outputs": [],
      "source": [
        "from scipy.stats import pearsonr\n",
        "from tensorflow.keras.layers import Conv2D, BatchNormalization, LeakyReLU, Add, Activation, UpSampling2D, multiply\n",
        "from tensorflow.keras import regularizers\n",
        "def ieg_block2d(x, g, ch_inp, i, data_format='channels_last'):\n",
        "    reg = regularizers.l2(1e-5)\n",
        "    def conv_bn(x, filters, kernel_size, strides, dilation_rate=1):\n",
        "        x = Conv2D(filters, kernel_size, strides=strides, dilation_rate=dilation_rate,\n",
        "                   data_format=data_format, kernel_regularizer=reg)(x)\n",
        "        x = BatchNormalization()(x)\n",
        "        return x\n",
        "    x1 = conv_bn(x, ch_inp, [2, 2], strides=[2, 2])\n",
        "    x2 = conv_bn(g, ch_inp, [1, 1], strides=[1, 1], dilation_rate=i)\n",
        "    f = LeakyReLU(alpha=0.001)(Add()([x1, x2]))\n",
        "    x3 = conv_bn(f, 1, [1, 1], strides=[1, 1], dilation_rate=i)\n",
        "    x4 = Activation('sigmoid')(x3)\n",
        "    x5 = UpSampling2D(size=[2, 2])(x4)\n",
        "    att_x = multiply([x, x5])\n",
        "    return att_x"
      ]
    },
    {
      "cell_type": "code",
      "execution_count": null,
      "metadata": {
        "id": "j3a4tAdRlLWV"
      },
      "outputs": [],
      "source": [
        "from tensorflow.keras.layers import Conv2D, BatchNormalization, LeakyReLU, Add, MaxPooling2D\n",
        "from tensorflow.keras import regularizers\n",
        "\n",
        "def res_block(x, nb_filters, strides, i):\n",
        "    reg = regularizers.l2(1e-5)\n",
        "    def conv_bn_relu(x, filters, kernel_size, strides=1, dilation_rate=1, padding='same'):\n",
        "        x = Conv2D(filters=filters, kernel_size=kernel_size, strides=strides, dilation_rate=dilation_rate,\n",
        "                   padding=padding, kernel_regularizer=reg)(x)\n",
        "        x = BatchNormalization()(x)\n",
        "        x = LeakyReLU(alpha=0.001)(x)\n",
        "        return x\n",
        "    # Initial batch normalization and pooling\n",
        "    res_inp = BatchNormalization()(x)\n",
        "    res_inp = LeakyReLU(alpha=0.001)(res_inp)\n",
        "    pool = MaxPooling2D(pool_size=(2, 2))(res_inp)\n",
        "    # conv-BN-ReLU\n",
        "    res_inp = conv_bn_relu(pool, nb_filters[0], (3, 3), strides=strides[1], dilation_rate=i)\n",
        "    res_inp = conv_bn_relu(res_inp, nb_filters[1], (3, 3), strides=strides[1], dilation_rate=i)\n",
        "    shortcut = Conv2D(nb_filters[1], (1, 1), strides=strides[1], dilation_rate=i, padding='same',\n",
        "                      kernel_regularizer=reg)(pool)\n",
        "    shortcut = BatchNormalization()(shortcut)\n",
        "    res_inp = Add()([shortcut, res_inp])\n",
        "    return res_inp\n"
      ]
    },
    {
      "cell_type": "code",
      "execution_count": null,
      "metadata": {
        "id": "J7hpdbkfh0it"
      },
      "outputs": [],
      "source": [
        "def contraction(x):\n",
        "    to_expansion = []\n",
        "\n",
        "    con_inp = Conv2D(filters=64, kernel_size=(3, 3), padding='same',dilation_rate=(1,1), strides=(1, 1), kernel_regularizer=regularizers.l2(1e-5))(x)\n",
        "    con_inp = BatchNormalization()(con_inp)\n",
        "    con_inp = LeakyReLU(alpha=0.001)(con_inp)\n",
        "\n",
        "    con_inp = Conv2D(filters=64, kernel_size=(3, 3), padding='same',dilation_rate=(1,1),strides=(1, 1), kernel_regularizer=regularizers.l2(1e-5))(con_inp)\n",
        "\n",
        "    shortcut = Conv2D(filters=64, kernel_size=(1, 1), strides=(1, 1),dilation_rate=(1,1), kernel_regularizer=regularizers.l2(1e-5))(x)\n",
        "    shortcut = BatchNormalization()(shortcut)\n",
        "\n",
        "    con_inp = Add()([shortcut, con_inp])\n",
        "\n",
        "    # first branching to expansion\n",
        "    to_expansion.append(con_inp)\n",
        "\n",
        "    con_inp = res_block(con_inp, [128, 128], [(2, 2), (1, 1)],(1,1))\n",
        "    to_expansion.append(con_inp)\n",
        "\n",
        "    con_inp = res_block(con_inp, [256, 256], [(2, 2), (1, 1)],(2,2))\n",
        "    to_expansion.append(con_inp)\n",
        "\n",
        "    con_inp = res_block(con_inp, [512, 512], [(2, 2), (1, 1)],(4,4))\n",
        "    to_expansion.append(con_inp)\n",
        "\n",
        "    return to_expansion"
      ]
    },
    {
      "cell_type": "code",
      "execution_count": null,
      "metadata": {
        "id": "d21KxhILicou"
      },
      "outputs": [],
      "source": [
        "def res_block_expansion(x, nb_filters, strides,i):\n",
        "\n",
        "    res_path = BatchNormalization()(x)\n",
        "    res_path = LeakyReLU(alpha=0.001)(res_path)\n",
        "    res_path = Conv2D(filters=nb_filters[0], kernel_size=(3, 3), padding='same', dilation_rate=i, strides=strides[1], kernel_regularizer=regularizers.l2(1e-5))(res_path)\n",
        "    res_path = BatchNormalization()(res_path)\n",
        "    res_path = LeakyReLU(alpha=0.001)(res_path)\n",
        "    res_path = Conv2D(filters=nb_filters[1], kernel_size=(3, 3), padding='same', dilation_rate=i, strides=strides[1], kernel_regularizer=regularizers.l2(1e-5))(res_path)\n",
        "\n",
        "    shortcut = Conv2D(nb_filters[1], kernel_size=(1, 1), strides=strides[1], dilation_rate=i, kernel_regularizer=regularizers.l2(1e-5))(x)\n",
        "    shortcut = BatchNormalization()(shortcut)\n",
        "\n",
        "    res_path = Add()([shortcut, res_path])\n",
        "\n",
        "    return res_path\n"
      ]
    },
    {
      "cell_type": "code",
      "execution_count": null,
      "metadata": {
        "id": "c-LRm-5iElVi"
      },
      "outputs": [],
      "source": [
        "def expansion(x, from_contraction):\n",
        "\n",
        "    # Layer 4\n",
        "    ieg_path1 = ieg_block2d(from_contraction[3], x, 256, (1,1), data_format='channels_last')\n",
        "\n",
        "    exp_inp1 = Conv2DTranspose(512, (2, 2), strides=(2, 2), padding='same',dilation_rate=(1,1),kernel_regularizer=regularizers.l2(1e-5))(x)\n",
        "    exp_inp1 = Concatenate()([exp_inp1,ieg_path1])\n",
        "    exp_inp1 = res_block_expansion(exp_inp1, [512, 512], [(1, 1), (1, 1)],(4,4))\n",
        "\n",
        "    hc1 = trans_conv_operation(exp_inp1)\n",
        "    out_1 = Conv2D(filters=4, kernel_size=(1, 1), activation='softmax', name='out_1')(hc1)\n",
        "\n",
        "\n",
        "    # Layer 3\n",
        "    ieg_path2 = ieg_block2d(from_contraction[2],exp_inp1 ,128,(1,1),data_format='channels_last')\n",
        "\n",
        "    exp_inp2 = Conv2DTranspose(256, (2, 2), strides=(2, 2), dilation_rate=(1,1), padding='same', kernel_regularizer=regularizers.l2(1e-5))(exp_inp1)\n",
        "    exp_inp2 = Concatenate()([exp_inp2,ieg_path2])\n",
        "    exp_inp2 = res_block_expansion(exp_inp2, [256, 256], [(1, 1), (1, 1)],(2,2))\n",
        "\n",
        "    hc2 = trans_conv_operation_two(exp_inp2)\n",
        "    out_2 = Conv2D(filters=4, kernel_size=(1, 1), activation='softmax', name='out_2')(hc2)\n",
        "\n",
        "\n",
        "    # Layer 2\n",
        "    ieg_path3 = ieg_block2d(from_contraction[1],exp_inp2,64,(1,1),data_format='channels_last')\n",
        "\n",
        "    exp_inp3 = Conv2DTranspose(128, (2, 2), strides=(2, 2), padding='same',dilation_rate=(1,1), kernel_regularizer=regularizers.l2(1e-5)) (exp_inp2)\n",
        "    exp_inp3 = Concatenate()([exp_inp3,ieg_path3])\n",
        "    exp_inp3 = res_block_expansion(exp_inp3, [128, 128], [(1, 1), (1, 1)],(1,1))\n",
        "\n",
        "    hc3 = trans_conv_operation_one(exp_inp3)\n",
        "    out_3 = Conv2D(filters=4, kernel_size=(1, 1), activation='softmax', name='out_3')(hc3)\n",
        "\n",
        "\n",
        "    # Layer 1\n",
        "    ieg_path4 = ieg_block2d(from_contraction[0],exp_inp3,32,(1,1),data_format='channels_last')\n",
        "\n",
        "    exp_inp4 = Conv2DTranspose(64, (2, 2), strides=(2, 2), padding='same',dilation_rate=(1,1),kernel_regularizer=regularizers.l2(1e-5)) (exp_inp3)\n",
        "    exp_inp4 = Concatenate()([exp_inp4,ieg_path4])\n",
        "    exp_inp4 = res_block_expansion(exp_inp4, [64, 64], [(1, 1), (1, 1)],(1,1))\n",
        "\n",
        "    return exp_inp4, out_3, out_2, out_1"
      ]
    },
    {
      "cell_type": "code",
      "execution_count": null,
      "metadata": {
        "id": "7zW8NdlotSOe"
      },
      "outputs": [],
      "source": [
        "def trans_conv_operation(input_val):\n",
        "    tran_x1 = Conv2DTranspose(256, (2, 2), strides=(2, 2), padding='same',dilation_rate=(1,1),kernel_regularizer=regularizers.l2(1e-5)) (input_val)\n",
        "    tran_x2 = Conv2DTranspose(128, (2, 2), strides=(2, 2), padding='same',dilation_rate=(1,1), kernel_regularizer=regularizers.l2(1e-5)) (tran_x1)\n",
        "    tran_x3 = Conv2DTranspose(64, (2, 2), strides=(2, 2), padding='same',dilation_rate=(1,1), kernel_regularizer=regularizers.l2(1e-5)) (tran_x2)\n",
        "    return tran_x3\n",
        "def trans_conv_operation_two(input_val):\n",
        "    tran_x1 = Conv2DTranspose(128, (2, 2), strides=(2, 2), padding='same',dilation_rate=(1,1), kernel_regularizer=regularizers.l2(1e-5))(input_val)\n",
        "    tran_x2 = Conv2DTranspose(64, (2, 2), strides=(2, 2), padding='same',dilation_rate=(1,1) ,kernel_regularizer=regularizers.l2(1e-5))(tran_x1)\n",
        "    return tran_x2\n",
        "def trans_conv_operation_one(input_val):\n",
        "    tran_x1 = Conv2DTranspose(64, (2, 2), strides=(2, 2), padding='same',dilation_rate=(1,1), kernel_regularizer=regularizers.l2(1e-5)) (input_val)\n",
        "    return tran_x1"
      ]
    },
    {
      "cell_type": "code",
      "execution_count": null,
      "metadata": {
        "id": "sgquJ2yK7jum"
      },
      "outputs": [],
      "source": [
        "def hybrid_model(input_shape):\n",
        "    inputs = Input(shape=input_shape)\n",
        "\n",
        "    to_expansion = contraction(inputs)\n",
        "\n",
        "    path = res_block(to_expansion[3], [1024, 1024], [(2, 2), (1, 1)],(8,8))\n",
        "\n",
        "    final_out, out_3, out_2, out_1 = expansion(path, from_contraction=to_expansion)\n",
        "\n",
        "    final_out = Conv2D(filters=4, kernel_size=(1, 1), activation='sigmoid', name='final_output')(final_out)\n",
        "\n",
        "    return Model(inputs=inputs, outputs= [final_out, out_3, out_2, out_1])"
      ]
    },
    {
      "cell_type": "code",
      "execution_count": null,
      "metadata": {
        "id": "9RgxLmds6L1H"
      },
      "outputs": [],
      "source": [
        "def dice_coef_0(y_true, y_pred,smooth=0.000001):\n",
        "    y_true_f = K.flatten(y_true[:,:,:,0])\n",
        "    y_pred_f = K.flatten(y_pred[:,:,:,0])\n",
        "    intersection = K.sum(y_true_f * y_pred_f)\n",
        "    return (2. * intersection + smooth) / (K.sum(y_true_f) + K.sum(y_pred_f) + smooth)\n",
        "\n",
        "def dice_coef_1(y_true, y_pred,smooth=0.000001):\n",
        "    y_true_f = K.flatten(y_true[:,:,:,1])\n",
        "    y_pred_f = K.flatten(y_pred[:,:,:,1])\n",
        "    intersection = K.sum(y_true_f * y_pred_f)\n",
        "    return (2. * intersection + smooth) / (K.sum(y_true_f) + K.sum(y_pred_f) + smooth)\n",
        "\n",
        "def dice_coef_2(y_true, y_pred,smooth=0.000001):\n",
        "    y_true_f = K.flatten(y_true[:,:,:,2])\n",
        "    y_pred_f = K.flatten(y_pred[:,:,:,2])\n",
        "    intersection = K.sum(y_true_f * y_pred_f)\n",
        "    return (2. * intersection + smooth) / (K.sum(y_true_f) + K.sum(y_pred_f) + smooth)\n",
        "\n",
        "def dice_coef_3(y_true, y_pred,smooth=0.000001):\n",
        "    y_true_f = K.flatten(y_true[:,:,:,3])\n",
        "    y_pred_f = K.flatten(y_pred[:,:,:,3])\n",
        "    intersection = K.sum(y_true_f * y_pred_f)\n",
        "    return (2. * intersection + smooth) / (K.sum(y_true_f) + K.sum(y_pred_f) + smooth)\n",
        "\n",
        "def precision(y_true, y_pred):\n",
        "        true_positives = K.sum(K.round(K.clip(y_true * y_pred, 0, 1)))\n",
        "        predicted_positives = K.sum(K.round(K.clip(y_pred, 0, 1)))\n",
        "        precision = true_positives / (predicted_positives + K.epsilon())\n",
        "        return precision\n",
        "\n",
        "def sensitivity(y_true, y_pred):\n",
        "    true_positives = K.sum(K.round(K.clip(y_true * y_pred, 0, 1)))\n",
        "    possible_positives = K.sum(K.round(K.clip(y_true, 0, 1)))\n",
        "    return true_positives / (possible_positives + K.epsilon())\n",
        "\n",
        "def specificity(y_true, y_pred):\n",
        "    true_negatives = K.sum(K.round(K.clip((1-y_true) * (1-y_pred), 0, 1)))\n",
        "    possible_negatives = K.sum(K.round(K.clip(1-y_true, 0, 1)))\n",
        "    return true_negatives / (possible_negatives + K.epsilon())"
      ]
    },
    {
      "cell_type": "code",
      "execution_count": null,
      "metadata": {
        "id": "wG0uBNMw01l7"
      },
      "outputs": [],
      "source": [
        "def dice_score(y_true, y_pred):\n",
        "    d0 = dice_coef_0(y_true, y_pred,smooth=0.000001)\n",
        "    d1 = dice_coef_1(y_true, y_pred,smooth=0.000001)\n",
        "    d2 = dice_coef_2(y_true, y_pred,smooth=0.000001)\n",
        "    d3 = dice_coef_3(y_true, y_pred,smooth=0.000001)\n",
        "\n",
        "    dice_mean = (d0+d1+d2+d3)/4\n",
        "    return dice_mean\n",
        "\n",
        "def weighted_dice_score(y_true, y_pred):\n",
        "    ds0 = dice_coef_0(y_true, y_pred,smooth=0.000001)\n",
        "    ds1 = dice_coef_1(y_true, y_pred,smooth=0.000001)\n",
        "    ds2 = dice_coef_2(y_true, y_pred,smooth=0.000001)\n",
        "    ds3 = dice_coef_3(y_true, y_pred,smooth=0.000001)\n",
        "    weighted_dice_mean = (ds0+(5*ds1)+(2*ds2)+(4*ds3))/12\n",
        "    return weighted_dice_mean\n",
        "\n",
        "def correlation_coefficient_loss(y_true, y_pred):\n",
        "    x = y_true\n",
        "    y = y_pred\n",
        "    mx = K.mean(x)\n",
        "    my = K.mean(y)\n",
        "    xm, ym = x-mx, y-my\n",
        "    r_num = K.sum(xm * ym)\n",
        "    r_den = K.sum(K.sum(K.square(xm)) * K.sum(K.square(ym)))\n",
        "    r = r_num / r_den\n",
        "    return 1 - r**2"
      ]
    },
    {
      "cell_type": "code",
      "execution_count": null,
      "metadata": {
        "id": "rGndL1I1tWSx"
      },
      "outputs": [],
      "source": [
        "def dice_loss(y_true, y_pred):\n",
        "    return 1-dice_score(y_true, y_pred)\n",
        "def weighted_dice_loss(y_true, y_pred):\n",
        "    return 1-weighted_dice_score(y_true, y_pred)"
      ]
    },
    {
      "cell_type": "code",
      "execution_count": null,
      "metadata": {
        "id": "gZW9LvrBnDlc"
      },
      "outputs": [],
      "source": [
        "import tensorflow as tf\n",
        "def weighted_log_loss(y_true, y_pred):\n",
        "    y_pred /= tf.reduce_sum(y_pred, axis=-1, keepdims=True)\n",
        "    y_pred = tf.clip_by_value(y_pred, tf.keras.backend.epsilon(), 1 - tf.keras.backend.epsilon())\n",
        "    weights = tf.constant([1, 5, 2, 4], dtype=tf.float32)\n",
        "    loss = y_true * tf.math.log(y_pred) * weights\n",
        "    loss = tf.reduce_mean(-tf.reduce_sum(loss, -1))\n",
        "    return loss\n"
      ]
    },
    {
      "cell_type": "code",
      "execution_count": null,
      "metadata": {
        "id": "CLv-6ZVynHIa"
      },
      "outputs": [],
      "source": [
        "def corr_dice_loss(y_true, y_pred):\n",
        "    return weighted_dice_loss(y_true, y_pred)+weighted_log_loss(y_true,y_pred)+correlation_coefficient_loss(y_true,y_pred)"
      ]
    },
    {
      "cell_type": "code",
      "execution_count": null,
      "metadata": {
        "id": "9mQ6z4KW8qGx"
      },
      "outputs": [],
      "source": [
        "input_shape = (240,240,4)\n",
        "losses = {\n",
        "    'final_output':corr_dice_loss,\n",
        "    'out_3':corr_dice_loss,\n",
        "    'out_2':corr_dice_loss,\n",
        "    'out_1':corr_dice_loss,\n",
        "}\n",
        "lossWeights = {\"final_output\": 0.5, \"out_3\": 0.125, \"out_2\": 0.125, \"out_1\": 0.125}"
      ]
    },
    {
      "cell_type": "code",
      "source": [
        "batch_size = 64\n",
        "image_size = 240\n",
        "epochs = 100"
      ],
      "metadata": {
        "id": "OTyZc80oICzb"
      },
      "execution_count": null,
      "outputs": []
    },
    {
      "cell_type": "code",
      "execution_count": null,
      "metadata": {
        "id": "V5MxDnLYvuIP"
      },
      "outputs": [],
      "source": [
        "model = hybrid_model(input_shape)"
      ]
    },
    {
      "cell_type": "code",
      "execution_count": null,
      "metadata": {
        "id": "gMbA5ClzaS5b"
      },
      "outputs": [],
      "source": [
        "model.compile(optimizer=tf.keras.optimizers.legacy.Adam(lr=0.0001), loss= losses,\n",
        "              metrics=['accuracy',dice_score,precision, sensitivity, specificity])"
      ]
    },
    {
      "cell_type": "code",
      "execution_count": null,
      "metadata": {
        "id": "x6VK7GTg9LQB",
        "colab": {
          "base_uri": "https://localhost:8080/"
        },
        "outputId": "5f9646f0-bccb-43da-c52b-b0928a8f096e"
      },
      "outputs": [
        {
          "output_type": "stream",
          "name": "stdout",
          "text": [
            "Epoch 1/100\n",
            "8/8 [==============================] - 20s 969ms/step - loss: 12.8299 - final_output_loss: 3.2184 - out_3_loss: 3.2265 - out_2_loss: 3.1691 - out_1_loss: 3.0989 - final_output_accuracy: 0.4086 - final_output_dice_score: 0.2163 - final_output_precision: 0.3764 - final_output_sensitivity: 0.8510 - final_output_specificity: 0.5234 - out_3_accuracy: 0.5767 - out_3_dice_score: 0.1464 - out_3_precision: 0.6521 - out_3_sensitivity: 0.2335 - out_3_specificity: 0.9707 - out_2_accuracy: 0.5722 - out_2_dice_score: 0.1392 - out_2_precision: 0.6489 - out_2_sensitivity: 0.1112 - out_2_specificity: 0.9883 - out_1_accuracy: 0.6788 - out_1_dice_score: 0.1444 - out_1_precision: 0.7469 - out_1_sensitivity: 0.1733 - out_1_specificity: 0.9954 - val_loss: 13.4599 - val_final_output_loss: 3.3051 - val_out_3_loss: 3.3305 - val_out_2_loss: 3.3686 - val_out_1_loss: 3.3386 - val_final_output_accuracy: 0.7595 - val_final_output_dice_score: 0.2001 - val_final_output_precision: 0.4308 - val_final_output_sensitivity: 0.9856 - val_final_output_specificity: 0.5659 - val_out_3_accuracy: 0.7837 - val_out_3_dice_score: 0.1243 - val_out_3_precision: 0.8302 - val_out_3_sensitivity: 5.8322e-05 - val_out_3_specificity: 1.0000 - val_out_2_accuracy: 0.8624 - val_out_2_dice_score: 0.1209 - val_out_2_precision: 0.0875 - val_out_2_sensitivity: 2.0345e-07 - val_out_2_specificity: 1.0000 - val_out_1_accuracy: 0.9561 - val_out_1_dice_score: 0.1234 - val_out_1_precision: 0.2321 - val_out_1_sensitivity: 6.1035e-07 - val_out_1_specificity: 1.0000\n",
            "Epoch 2/100\n",
            "8/8 [==============================] - 3s 363ms/step - loss: 9.9544 - final_output_loss: 2.8176 - out_3_loss: 2.3769 - out_2_loss: 2.3974 - out_1_loss: 2.2453 - final_output_accuracy: 0.7161 - final_output_dice_score: 0.2547 - final_output_precision: 0.4879 - final_output_sensitivity: 0.9846 - final_output_specificity: 0.6549 - out_3_accuracy: 0.9426 - out_3_dice_score: 0.2425 - out_3_precision: 0.9790 - out_3_sensitivity: 0.8632 - out_3_specificity: 0.9936 - out_2_accuracy: 0.9622 - out_2_dice_score: 0.2346 - out_2_precision: 0.9832 - out_2_sensitivity: 0.8598 - out_2_specificity: 0.9949 - out_1_accuracy: 0.9690 - out_1_dice_score: 0.2661 - out_1_precision: 0.9771 - out_1_sensitivity: 0.9404 - out_1_specificity: 0.9926 - val_loss: 12.6097 - val_final_output_loss: 3.2111 - val_out_3_loss: 3.1548 - val_out_2_loss: 3.1092 - val_out_1_loss: 3.0174 - val_final_output_accuracy: 0.7700 - val_final_output_dice_score: 0.2088 - val_final_output_precision: 0.5701 - val_final_output_sensitivity: 0.9938 - val_final_output_specificity: 0.7502 - val_out_3_accuracy: 0.9588 - val_out_3_dice_score: 0.1408 - val_out_3_precision: 0.8296 - val_out_3_sensitivity: 0.0019 - val_out_3_specificity: 1.0000 - val_out_2_accuracy: 0.9690 - val_out_2_dice_score: 0.1459 - val_out_2_precision: 0.1250 - val_out_2_sensitivity: 6.7817e-08 - val_out_2_specificity: 1.0000 - val_out_1_accuracy: 0.9064 - val_out_1_dice_score: 0.1585 - val_out_1_precision: 1.0000 - val_out_1_sensitivity: 0.0196 - val_out_1_specificity: 1.0000\n",
            "Epoch 3/100\n",
            "8/8 [==============================] - 2s 312ms/step - loss: 8.8390 - final_output_loss: 2.6120 - out_3_loss: 2.0849 - out_2_loss: 2.0408 - out_1_loss: 1.9841 - final_output_accuracy: 0.7691 - final_output_dice_score: 0.2730 - final_output_precision: 0.5487 - final_output_sensitivity: 0.9912 - final_output_specificity: 0.7280 - out_3_accuracy: 0.9685 - out_3_dice_score: 0.3304 - out_3_precision: 0.9862 - out_3_sensitivity: 0.9513 - out_3_specificity: 0.9951 - out_2_accuracy: 0.9698 - out_2_dice_score: 0.3504 - out_2_precision: 0.9837 - out_2_sensitivity: 0.9611 - out_2_specificity: 0.9943 - out_1_accuracy: 0.9692 - out_1_dice_score: 0.3856 - out_1_precision: 0.9815 - out_1_sensitivity: 0.9626 - out_1_specificity: 0.9936 - val_loss: 10.5576 - val_final_output_loss: 3.1029 - val_out_3_loss: 2.5844 - val_out_2_loss: 2.4174 - val_out_1_loss: 2.3357 - val_final_output_accuracy: 0.7522 - val_final_output_dice_score: 0.2209 - val_final_output_precision: 0.5571 - val_final_output_sensitivity: 0.9961 - val_final_output_specificity: 0.7360 - val_out_3_accuracy: 0.9704 - val_out_3_dice_score: 0.2104 - val_out_3_precision: 0.9959 - val_out_3_sensitivity: 0.7886 - val_out_3_specificity: 0.9989 - val_out_2_accuracy: 0.9699 - val_out_2_dice_score: 0.2359 - val_out_2_precision: 0.9914 - val_out_2_sensitivity: 0.8891 - val_out_2_specificity: 0.9974 - val_out_1_accuracy: 0.9689 - val_out_1_dice_score: 0.2511 - val_out_1_precision: 0.9865 - val_out_1_sensitivity: 0.9119 - val_out_1_specificity: 0.9958\n",
            "Epoch 4/100\n",
            "8/8 [==============================] - 2s 313ms/step - loss: 8.4883 - final_output_loss: 2.4454 - out_3_loss: 1.9716 - out_2_loss: 1.9736 - out_1_loss: 1.9805 - final_output_accuracy: 0.7842 - final_output_dice_score: 0.2854 - final_output_precision: 0.5717 - final_output_sensitivity: 0.9959 - final_output_specificity: 0.7513 - out_3_accuracy: 0.9683 - out_3_dice_score: 0.3783 - out_3_precision: 0.9878 - out_3_sensitivity: 0.9533 - out_3_specificity: 0.9957 - out_2_accuracy: 0.9705 - out_2_dice_score: 0.3833 - out_2_precision: 0.9854 - out_2_sensitivity: 0.9615 - out_2_specificity: 0.9949 - out_1_accuracy: 0.9694 - out_1_dice_score: 0.3879 - out_1_precision: 0.9831 - out_1_sensitivity: 0.9620 - out_1_specificity: 0.9942 - val_loss: 9.8769 - val_final_output_loss: 2.9701 - val_out_3_loss: 2.3578 - val_out_2_loss: 2.2375 - val_out_1_loss: 2.1942 - val_final_output_accuracy: 0.7644 - val_final_output_dice_score: 0.2314 - val_final_output_precision: 0.5870 - val_final_output_sensitivity: 0.9960 - val_final_output_specificity: 0.7663 - val_out_3_accuracy: 0.9703 - val_out_3_dice_score: 0.2482 - val_out_3_precision: 0.9914 - val_out_3_sensitivity: 0.8942 - val_out_3_specificity: 0.9974 - val_out_2_accuracy: 0.9714 - val_out_2_dice_score: 0.2743 - val_out_2_precision: 0.9837 - val_out_2_sensitivity: 0.9249 - val_out_2_specificity: 0.9949 - val_out_1_accuracy: 0.9667 - val_out_1_dice_score: 0.2892 - val_out_1_precision: 0.9760 - val_out_1_sensitivity: 0.9419 - val_out_1_specificity: 0.9923\n",
            "Epoch 5/100\n",
            "8/8 [==============================] - 2s 310ms/step - loss: 8.1856 - final_output_loss: 2.3614 - out_3_loss: 1.8800 - out_2_loss: 1.9070 - out_1_loss: 1.9199 - final_output_accuracy: 0.7840 - final_output_dice_score: 0.2923 - final_output_precision: 0.5937 - final_output_sensitivity: 0.9965 - final_output_specificity: 0.7726 - out_3_accuracy: 0.9774 - out_3_dice_score: 0.4314 - out_3_precision: 0.9858 - out_3_sensitivity: 0.9695 - out_3_specificity: 0.9951 - out_2_accuracy: 0.9741 - out_2_dice_score: 0.4047 - out_2_precision: 0.9864 - out_2_sensitivity: 0.9655 - out_2_specificity: 0.9952 - out_1_accuracy: 0.9714 - out_1_dice_score: 0.3989 - out_1_precision: 0.9863 - out_1_sensitivity: 0.9619 - out_1_specificity: 0.9952 - val_loss: 9.6063 - val_final_output_loss: 2.8603 - val_out_3_loss: 2.2410 - val_out_2_loss: 2.1848 - val_out_1_loss: 2.2031 - val_final_output_accuracy: 0.7965 - val_final_output_dice_score: 0.2392 - val_final_output_precision: 0.6242 - val_final_output_sensitivity: 0.9935 - val_final_output_specificity: 0.8005 - val_out_3_accuracy: 0.9706 - val_out_3_dice_score: 0.2723 - val_out_3_precision: 0.9842 - val_out_3_sensitivity: 0.9386 - val_out_3_specificity: 0.9950 - val_out_2_accuracy: 0.9711 - val_out_2_dice_score: 0.2933 - val_out_2_precision: 0.9746 - val_out_2_sensitivity: 0.9519 - val_out_2_specificity: 0.9917 - val_out_1_accuracy: 0.9711 - val_out_1_dice_score: 0.2977 - val_out_1_precision: 0.9690 - val_out_1_sensitivity: 0.9588 - val_out_1_specificity: 0.9898\n",
            "Epoch 6/100\n",
            "8/8 [==============================] - 2s 313ms/step - loss: 7.9604 - final_output_loss: 2.3233 - out_3_loss: 1.8049 - out_2_loss: 1.8539 - out_1_loss: 1.8610 - final_output_accuracy: 0.7754 - final_output_dice_score: 0.3088 - final_output_precision: 0.6189 - final_output_sensitivity: 0.9940 - final_output_specificity: 0.7953 - out_3_accuracy: 0.9764 - out_3_dice_score: 0.4880 - out_3_precision: 0.9829 - out_3_sensitivity: 0.9704 - out_3_specificity: 0.9942 - out_2_accuracy: 0.9741 - out_2_dice_score: 0.4506 - out_2_precision: 0.9859 - out_2_sensitivity: 0.9648 - out_2_specificity: 0.9950 - out_1_accuracy: 0.9745 - out_1_dice_score: 0.4559 - out_1_precision: 0.9846 - out_1_sensitivity: 0.9669 - out_1_specificity: 0.9947 - val_loss: 9.5584 - val_final_output_loss: 2.7590 - val_out_3_loss: 2.2243 - val_out_2_loss: 2.2018 - val_out_1_loss: 2.2560 - val_final_output_accuracy: 0.8403 - val_final_output_dice_score: 0.2419 - val_final_output_precision: 0.6909 - val_final_output_sensitivity: 0.9856 - val_final_output_specificity: 0.8529 - val_out_3_accuracy: 0.9717 - val_out_3_dice_score: 0.2741 - val_out_3_precision: 0.9789 - val_out_3_sensitivity: 0.9536 - val_out_3_specificity: 0.9932 - val_out_2_accuracy: 0.9713 - val_out_2_dice_score: 0.2907 - val_out_2_precision: 0.9691 - val_out_2_sensitivity: 0.9606 - val_out_2_specificity: 0.9898 - val_out_1_accuracy: 0.9709 - val_out_1_dice_score: 0.2949 - val_out_1_precision: 0.9673 - val_out_1_sensitivity: 0.9620 - val_out_1_specificity: 0.9891\n",
            "Epoch 7/100\n",
            "8/8 [==============================] - 2s 316ms/step - loss: 7.7550 - final_output_loss: 2.2466 - out_3_loss: 1.7860 - out_2_loss: 1.7943 - out_1_loss: 1.8108 - final_output_accuracy: 0.8091 - final_output_dice_score: 0.3145 - final_output_precision: 0.6683 - final_output_sensitivity: 0.9954 - final_output_specificity: 0.8350 - out_3_accuracy: 0.9821 - out_3_dice_score: 0.4940 - out_3_precision: 0.9864 - out_3_sensitivity: 0.9788 - out_3_specificity: 0.9954 - out_2_accuracy: 0.9809 - out_2_dice_score: 0.4653 - out_2_precision: 0.9888 - out_2_sensitivity: 0.9747 - out_2_specificity: 0.9961 - out_1_accuracy: 0.9805 - out_1_dice_score: 0.4637 - out_1_precision: 0.9866 - out_1_sensitivity: 0.9754 - out_1_specificity: 0.9954 - val_loss: 9.6260 - val_final_output_loss: 2.6687 - val_out_3_loss: 2.2287 - val_out_2_loss: 2.2606 - val_out_1_loss: 2.3508 - val_final_output_accuracy: 0.8792 - val_final_output_dice_score: 0.2443 - val_final_output_precision: 0.7417 - val_final_output_sensitivity: 0.9758 - val_final_output_specificity: 0.8866 - val_out_3_accuracy: 0.9702 - val_out_3_dice_score: 0.2706 - val_out_3_precision: 0.9690 - val_out_3_sensitivity: 0.9615 - val_out_3_specificity: 0.9897 - val_out_2_accuracy: 0.9701 - val_out_2_dice_score: 0.2775 - val_out_2_precision: 0.9660 - val_out_2_sensitivity: 0.9630 - val_out_2_specificity: 0.9887 - val_out_1_accuracy: 0.9698 - val_out_1_dice_score: 0.2765 - val_out_1_precision: 0.9653 - val_out_1_sensitivity: 0.9632 - val_out_1_specificity: 0.9884\n",
            "Epoch 8/100\n",
            "8/8 [==============================] - 2s 313ms/step - loss: 7.4768 - final_output_loss: 2.1997 - out_3_loss: 1.6753 - out_2_loss: 1.7504 - out_1_loss: 1.7341 - final_output_accuracy: 0.8331 - final_output_dice_score: 0.3430 - final_output_precision: 0.7065 - final_output_sensitivity: 0.9938 - final_output_specificity: 0.8619 - out_3_accuracy: 0.9838 - out_3_dice_score: 0.5798 - out_3_precision: 0.9851 - out_3_sensitivity: 0.9821 - out_3_specificity: 0.9950 - out_2_accuracy: 0.9823 - out_2_dice_score: 0.5139 - out_2_precision: 0.9854 - out_2_sensitivity: 0.9787 - out_2_specificity: 0.9951 - out_1_accuracy: 0.9828 - out_1_dice_score: 0.5263 - out_1_precision: 0.9849 - out_1_sensitivity: 0.9801 - out_1_specificity: 0.9949 - val_loss: 9.4140 - val_final_output_loss: 2.5673 - val_out_3_loss: 2.1709 - val_out_2_loss: 2.2297 - val_out_1_loss: 2.3288 - val_final_output_accuracy: 0.9128 - val_final_output_dice_score: 0.2499 - val_final_output_precision: 0.7823 - val_final_output_sensitivity: 0.9712 - val_final_output_specificity: 0.9098 - val_out_3_accuracy: 0.9719 - val_out_3_dice_score: 0.2896 - val_out_3_precision: 0.9729 - val_out_3_sensitivity: 0.9600 - val_out_3_specificity: 0.9911 - val_out_2_accuracy: 0.9708 - val_out_2_dice_score: 0.2905 - val_out_2_precision: 0.9669 - val_out_2_sensitivity: 0.9629 - val_out_2_specificity: 0.9890 - val_out_1_accuracy: 0.9701 - val_out_1_dice_score: 0.2854 - val_out_1_precision: 0.9655 - val_out_1_sensitivity: 0.9632 - val_out_1_specificity: 0.9885\n",
            "Epoch 9/100\n",
            "8/8 [==============================] - 2s 303ms/step - loss: 7.4939 - final_output_loss: 2.1400 - out_3_loss: 1.7279 - out_2_loss: 1.7454 - out_1_loss: 1.7634 - final_output_accuracy: 0.8611 - final_output_dice_score: 0.3726 - final_output_precision: 0.7484 - final_output_sensitivity: 0.9934 - final_output_specificity: 0.8885 - out_3_accuracy: 0.9800 - out_3_dice_score: 0.5401 - out_3_precision: 0.9821 - out_3_sensitivity: 0.9776 - out_3_specificity: 0.9940 - out_2_accuracy: 0.9798 - out_2_dice_score: 0.5129 - out_2_precision: 0.9828 - out_2_sensitivity: 0.9759 - out_2_specificity: 0.9942 - out_1_accuracy: 0.9789 - out_1_dice_score: 0.5124 - out_1_precision: 0.9806 - out_1_sensitivity: 0.9761 - out_1_specificity: 0.9935 - val_loss: 9.5383 - val_final_output_loss: 2.5213 - val_out_3_loss: 2.1839 - val_out_2_loss: 2.2643 - val_out_1_loss: 2.4516 - val_final_output_accuracy: 0.9440 - val_final_output_dice_score: 0.2478 - val_final_output_precision: 0.8261 - val_final_output_sensitivity: 0.9672 - val_final_output_specificity: 0.9321 - val_out_3_accuracy: 0.9713 - val_out_3_dice_score: 0.2836 - val_out_3_precision: 0.9699 - val_out_3_sensitivity: 0.9614 - val_out_3_specificity: 0.9900 - val_out_2_accuracy: 0.9699 - val_out_2_dice_score: 0.2778 - val_out_2_precision: 0.9650 - val_out_2_sensitivity: 0.9633 - val_out_2_specificity: 0.9883 - val_out_1_accuracy: 0.9696 - val_out_1_dice_score: 0.2638 - val_out_1_precision: 0.9637 - val_out_1_sensitivity: 0.9633 - val_out_1_specificity: 0.9879\n",
            "Epoch 10/100\n",
            "8/8 [==============================] - 2s 308ms/step - loss: 7.3369 - final_output_loss: 2.0694 - out_3_loss: 1.6922 - out_2_loss: 1.7343 - out_1_loss: 1.7238 - final_output_accuracy: 0.9062 - final_output_dice_score: 0.4139 - final_output_precision: 0.7892 - final_output_sensitivity: 0.9921 - final_output_specificity: 0.9116 - out_3_accuracy: 0.9797 - out_3_dice_score: 0.5943 - out_3_precision: 0.9813 - out_3_sensitivity: 0.9778 - out_3_specificity: 0.9937 - out_2_accuracy: 0.9784 - out_2_dice_score: 0.5578 - out_2_precision: 0.9804 - out_2_sensitivity: 0.9759 - out_2_specificity: 0.9934 - out_1_accuracy: 0.9794 - out_1_dice_score: 0.5691 - out_1_precision: 0.9804 - out_1_sensitivity: 0.9776 - out_1_specificity: 0.9934 - val_loss: 9.3218 - val_final_output_loss: 2.4073 - val_out_3_loss: 2.1346 - val_out_2_loss: 2.2415 - val_out_1_loss: 2.4212 - val_final_output_accuracy: 0.9677 - val_final_output_dice_score: 0.2583 - val_final_output_precision: 0.8920 - val_final_output_sensitivity: 0.9682 - val_final_output_specificity: 0.9609 - val_out_3_accuracy: 0.9726 - val_out_3_dice_score: 0.3055 - val_out_3_precision: 0.9714 - val_out_3_sensitivity: 0.9610 - val_out_3_specificity: 0.9906 - val_out_2_accuracy: 0.9714 - val_out_2_dice_score: 0.3006 - val_out_2_precision: 0.9665 - val_out_2_sensitivity: 0.9631 - val_out_2_specificity: 0.9889 - val_out_1_accuracy: 0.9703 - val_out_1_dice_score: 0.2871 - val_out_1_precision: 0.9652 - val_out_1_sensitivity: 0.9633 - val_out_1_specificity: 0.9884\n",
            "Epoch 11/100\n",
            "8/8 [==============================] - 2s 310ms/step - loss: 7.0032 - final_output_loss: 1.9486 - out_3_loss: 1.6017 - out_2_loss: 1.6586 - out_1_loss: 1.6772 - final_output_accuracy: 0.9518 - final_output_dice_score: 0.4610 - final_output_precision: 0.8428 - final_output_sensitivity: 0.9937 - final_output_specificity: 0.9380 - out_3_accuracy: 0.9837 - out_3_dice_score: 0.6398 - out_3_precision: 0.9846 - out_3_sensitivity: 0.9818 - out_3_specificity: 0.9948 - out_2_accuracy: 0.9812 - out_2_dice_score: 0.5950 - out_2_precision: 0.9825 - out_2_sensitivity: 0.9788 - out_2_specificity: 0.9941 - out_1_accuracy: 0.9801 - out_1_dice_score: 0.5926 - out_1_precision: 0.9808 - out_1_sensitivity: 0.9782 - out_1_specificity: 0.9936 - val_loss: 9.4176 - val_final_output_loss: 2.3610 - val_out_3_loss: 2.1437 - val_out_2_loss: 2.2850 - val_out_1_loss: 2.5107 - val_final_output_accuracy: 0.9702 - val_final_output_dice_score: 0.2567 - val_final_output_precision: 0.9490 - val_final_output_sensitivity: 0.9664 - val_final_output_specificity: 0.9827 - val_out_3_accuracy: 0.9719 - val_out_3_dice_score: 0.3022 - val_out_3_precision: 0.9695 - val_out_3_sensitivity: 0.9625 - val_out_3_specificity: 0.9899 - val_out_2_accuracy: 0.9709 - val_out_2_dice_score: 0.2911 - val_out_2_precision: 0.9658 - val_out_2_sensitivity: 0.9632 - val_out_2_specificity: 0.9886 - val_out_1_accuracy: 0.9699 - val_out_1_dice_score: 0.2720 - val_out_1_precision: 0.9643 - val_out_1_sensitivity: 0.9633 - val_out_1_specificity: 0.9881\n",
            "Epoch 12/100\n",
            "8/8 [==============================] - 2s 312ms/step - loss: 6.9035 - final_output_loss: 1.8368 - out_3_loss: 1.6116 - out_2_loss: 1.6565 - out_1_loss: 1.6815 - final_output_accuracy: 0.9789 - final_output_dice_score: 0.4900 - final_output_precision: 0.9198 - final_output_sensitivity: 0.9915 - final_output_specificity: 0.9709 - out_3_accuracy: 0.9829 - out_3_dice_score: 0.6286 - out_3_precision: 0.9838 - out_3_sensitivity: 0.9813 - out_3_specificity: 0.9946 - out_2_accuracy: 0.9818 - out_2_dice_score: 0.5931 - out_2_precision: 0.9832 - out_2_sensitivity: 0.9799 - out_2_specificity: 0.9944 - out_1_accuracy: 0.9813 - out_1_dice_score: 0.5852 - out_1_precision: 0.9828 - out_1_sensitivity: 0.9796 - out_1_specificity: 0.9942 - val_loss: 9.3988 - val_final_output_loss: 2.2947 - val_out_3_loss: 2.1347 - val_out_2_loss: 2.3287 - val_out_1_loss: 2.5236 - val_final_output_accuracy: 0.9699 - val_final_output_dice_score: 0.2596 - val_final_output_precision: 0.9619 - val_final_output_sensitivity: 0.9649 - val_final_output_specificity: 0.9873 - val_out_3_accuracy: 0.9713 - val_out_3_dice_score: 0.3096 - val_out_3_precision: 0.9673 - val_out_3_sensitivity: 0.9635 - val_out_3_specificity: 0.9891 - val_out_2_accuracy: 0.9701 - val_out_2_dice_score: 0.2812 - val_out_2_precision: 0.9646 - val_out_2_sensitivity: 0.9633 - val_out_2_specificity: 0.9882 - val_out_1_accuracy: 0.9697 - val_out_1_dice_score: 0.2650 - val_out_1_precision: 0.9637 - val_out_1_sensitivity: 0.9633 - val_out_1_specificity: 0.9879\n",
            "Epoch 13/100\n",
            "8/8 [==============================] - 2s 309ms/step - loss: 6.7320 - final_output_loss: 1.7140 - out_3_loss: 1.6032 - out_2_loss: 1.6342 - out_1_loss: 1.6634 - final_output_accuracy: 0.9850 - final_output_dice_score: 0.5273 - final_output_precision: 0.9682 - final_output_sensitivity: 0.9911 - final_output_specificity: 0.9891 - out_3_accuracy: 0.9880 - out_3_dice_score: 0.6158 - out_3_precision: 0.9886 - out_3_sensitivity: 0.9869 - out_3_specificity: 0.9962 - out_2_accuracy: 0.9878 - out_2_dice_score: 0.5893 - out_2_precision: 0.9887 - out_2_sensitivity: 0.9864 - out_2_specificity: 0.9962 - out_1_accuracy: 0.9868 - out_1_dice_score: 0.5741 - out_1_precision: 0.9877 - out_1_sensitivity: 0.9854 - out_1_specificity: 0.9959 - val_loss: 9.3976 - val_final_output_loss: 2.2730 - val_out_3_loss: 2.1317 - val_out_2_loss: 2.3313 - val_out_1_loss: 2.5445 - val_final_output_accuracy: 0.9709 - val_final_output_dice_score: 0.2658 - val_final_output_precision: 0.9620 - val_final_output_sensitivity: 0.9669 - val_final_output_specificity: 0.9873 - val_out_3_accuracy: 0.9716 - val_out_3_dice_score: 0.3076 - val_out_3_precision: 0.9693 - val_out_3_sensitivity: 0.9628 - val_out_3_specificity: 0.9898 - val_out_2_accuracy: 0.9701 - val_out_2_dice_score: 0.2789 - val_out_2_precision: 0.9645 - val_out_2_sensitivity: 0.9633 - val_out_2_specificity: 0.9882 - val_out_1_accuracy: 0.9697 - val_out_1_dice_score: 0.2639 - val_out_1_precision: 0.9637 - val_out_1_sensitivity: 0.9633 - val_out_1_specificity: 0.9879\n",
            "Epoch 14/100\n",
            "8/8 [==============================] - 2s 309ms/step - loss: 6.4715 - final_output_loss: 1.6360 - out_3_loss: 1.5454 - out_2_loss: 1.5839 - out_1_loss: 1.5890 - final_output_accuracy: 0.9854 - final_output_dice_score: 0.5643 - final_output_precision: 0.9701 - final_output_sensitivity: 0.9898 - final_output_specificity: 0.9898 - out_3_accuracy: 0.9876 - out_3_dice_score: 0.6322 - out_3_precision: 0.9882 - out_3_sensitivity: 0.9865 - out_3_specificity: 0.9960 - out_2_accuracy: 0.9864 - out_2_dice_score: 0.5994 - out_2_precision: 0.9878 - out_2_sensitivity: 0.9849 - out_2_specificity: 0.9959 - out_1_accuracy: 0.9865 - out_1_dice_score: 0.6015 - out_1_precision: 0.9874 - out_1_sensitivity: 0.9852 - out_1_specificity: 0.9958 - val_loss: 9.1805 - val_final_output_loss: 2.2089 - val_out_3_loss: 2.1014 - val_out_2_loss: 2.2859 - val_out_1_loss: 2.4672 - val_final_output_accuracy: 0.9729 - val_final_output_dice_score: 0.2849 - val_final_output_precision: 0.9627 - val_final_output_sensitivity: 0.9698 - val_final_output_specificity: 0.9875 - val_out_3_accuracy: 0.9735 - val_out_3_dice_score: 0.3261 - val_out_3_precision: 0.9749 - val_out_3_sensitivity: 0.9633 - val_out_3_specificity: 0.9918 - val_out_2_accuracy: 0.9709 - val_out_2_dice_score: 0.3010 - val_out_2_precision: 0.9654 - val_out_2_sensitivity: 0.9638 - val_out_2_specificity: 0.9885 - val_out_1_accuracy: 0.9706 - val_out_1_dice_score: 0.2927 - val_out_1_precision: 0.9652 - val_out_1_sensitivity: 0.9636 - val_out_1_specificity: 0.9884\n",
            "Epoch 15/100\n",
            "8/8 [==============================] - 2s 310ms/step - loss: 6.7096 - final_output_loss: 1.6729 - out_3_loss: 1.6202 - out_2_loss: 1.6343 - out_1_loss: 1.6651 - final_output_accuracy: 0.9807 - final_output_dice_score: 0.5768 - final_output_precision: 0.9668 - final_output_sensitivity: 0.9845 - final_output_specificity: 0.9887 - out_3_accuracy: 0.9817 - out_3_dice_score: 0.6224 - out_3_precision: 0.9823 - out_3_sensitivity: 0.9805 - out_3_specificity: 0.9941 - out_2_accuracy: 0.9822 - out_2_dice_score: 0.6107 - out_2_precision: 0.9831 - out_2_sensitivity: 0.9805 - out_2_specificity: 0.9943 - out_1_accuracy: 0.9810 - out_1_dice_score: 0.5954 - out_1_precision: 0.9821 - out_1_sensitivity: 0.9795 - out_1_specificity: 0.9940 - val_loss: 8.8358 - val_final_output_loss: 2.0837 - val_out_3_loss: 2.0276 - val_out_2_loss: 2.2263 - val_out_1_loss: 2.3812 - val_final_output_accuracy: 0.9746 - val_final_output_dice_score: 0.3394 - val_final_output_precision: 0.9637 - val_final_output_sensitivity: 0.9714 - val_final_output_specificity: 0.9878 - val_out_3_accuracy: 0.9750 - val_out_3_dice_score: 0.3791 - val_out_3_precision: 0.9768 - val_out_3_sensitivity: 0.9647 - val_out_3_specificity: 0.9924 - val_out_2_accuracy: 0.9718 - val_out_2_dice_score: 0.3331 - val_out_2_precision: 0.9669 - val_out_2_sensitivity: 0.9640 - val_out_2_specificity: 0.9890 - val_out_1_accuracy: 0.9708 - val_out_1_dice_score: 0.3116 - val_out_1_precision: 0.9654 - val_out_1_sensitivity: 0.9637 - val_out_1_specificity: 0.9885\n",
            "Epoch 16/100\n",
            "8/8 [==============================] - 2s 311ms/step - loss: 6.8500 - final_output_loss: 1.6927 - out_3_loss: 1.6693 - out_2_loss: 1.6796 - out_1_loss: 1.6915 - final_output_accuracy: 0.9774 - final_output_dice_score: 0.5905 - final_output_precision: 0.9678 - final_output_sensitivity: 0.9775 - final_output_specificity: 0.9892 - out_3_accuracy: 0.9795 - out_3_dice_score: 0.6262 - out_3_precision: 0.9800 - out_3_sensitivity: 0.9784 - out_3_specificity: 0.9933 - out_2_accuracy: 0.9796 - out_2_dice_score: 0.6131 - out_2_precision: 0.9803 - out_2_sensitivity: 0.9782 - out_2_specificity: 0.9934 - out_1_accuracy: 0.9789 - out_1_dice_score: 0.6045 - out_1_precision: 0.9799 - out_1_sensitivity: 0.9777 - out_1_specificity: 0.9933 - val_loss: 8.5752 - val_final_output_loss: 2.0086 - val_out_3_loss: 1.9847 - val_out_2_loss: 2.1863 - val_out_1_loss: 2.2785 - val_final_output_accuracy: 0.9751 - val_final_output_dice_score: 0.3826 - val_final_output_precision: 0.9646 - val_final_output_sensitivity: 0.9724 - val_final_output_specificity: 0.9881 - val_out_3_accuracy: 0.9753 - val_out_3_dice_score: 0.4145 - val_out_3_precision: 0.9774 - val_out_3_sensitivity: 0.9664 - val_out_3_specificity: 0.9926 - val_out_2_accuracy: 0.9723 - val_out_2_dice_score: 0.3562 - val_out_2_precision: 0.9680 - val_out_2_sensitivity: 0.9642 - val_out_2_specificity: 0.9894 - val_out_1_accuracy: 0.9712 - val_out_1_dice_score: 0.3294 - val_out_1_precision: 0.9659 - val_out_1_sensitivity: 0.9638 - val_out_1_specificity: 0.9887\n",
            "Epoch 17/100\n",
            "8/8 [==============================] - 2s 305ms/step - loss: 6.6778 - final_output_loss: 1.6429 - out_3_loss: 1.6084 - out_2_loss: 1.6464 - out_1_loss: 1.6630 - final_output_accuracy: 0.9794 - final_output_dice_score: 0.5813 - final_output_precision: 0.9691 - final_output_sensitivity: 0.9800 - final_output_specificity: 0.9896 - out_3_accuracy: 0.9821 - out_3_dice_score: 0.6112 - out_3_precision: 0.9837 - out_3_sensitivity: 0.9806 - out_3_specificity: 0.9945 - out_2_accuracy: 0.9801 - out_2_dice_score: 0.5820 - out_2_precision: 0.9821 - out_2_sensitivity: 0.9781 - out_2_specificity: 0.9940 - out_1_accuracy: 0.9802 - out_1_dice_score: 0.5755 - out_1_precision: 0.9819 - out_1_sensitivity: 0.9785 - out_1_specificity: 0.9939 - val_loss: 8.6614 - val_final_output_loss: 2.0268 - val_out_3_loss: 1.9860 - val_out_2_loss: 2.1972 - val_out_1_loss: 2.3343 - val_final_output_accuracy: 0.9754 - val_final_output_dice_score: 0.3652 - val_final_output_precision: 0.9676 - val_final_output_sensitivity: 0.9721 - val_final_output_specificity: 0.9892 - val_out_3_accuracy: 0.9750 - val_out_3_dice_score: 0.3990 - val_out_3_precision: 0.9769 - val_out_3_sensitivity: 0.9651 - val_out_3_specificity: 0.9924 - val_out_2_accuracy: 0.9719 - val_out_2_dice_score: 0.3500 - val_out_2_precision: 0.9673 - val_out_2_sensitivity: 0.9640 - val_out_2_specificity: 0.9892 - val_out_1_accuracy: 0.9713 - val_out_1_dice_score: 0.3248 - val_out_1_precision: 0.9656 - val_out_1_sensitivity: 0.9638 - val_out_1_specificity: 0.9886\n",
            "Epoch 18/100\n",
            "8/8 [==============================] - 2s 308ms/step - loss: 6.6090 - final_output_loss: 1.6280 - out_3_loss: 1.6091 - out_2_loss: 1.6185 - out_1_loss: 1.6363 - final_output_accuracy: 0.9830 - final_output_dice_score: 0.6017 - final_output_precision: 0.9743 - final_output_sensitivity: 0.9854 - final_output_specificity: 0.9913 - out_3_accuracy: 0.9857 - out_3_dice_score: 0.6212 - out_3_precision: 0.9867 - out_3_sensitivity: 0.9842 - out_3_specificity: 0.9955 - out_2_accuracy: 0.9854 - out_2_dice_score: 0.6068 - out_2_precision: 0.9868 - out_2_sensitivity: 0.9832 - out_2_specificity: 0.9955 - out_1_accuracy: 0.9851 - out_1_dice_score: 0.6036 - out_1_precision: 0.9864 - out_1_sensitivity: 0.9834 - out_1_specificity: 0.9954 - val_loss: 8.5602 - val_final_output_loss: 1.9750 - val_out_3_loss: 1.9526 - val_out_2_loss: 2.1536 - val_out_1_loss: 2.3621 - val_final_output_accuracy: 0.9773 - val_final_output_dice_score: 0.3946 - val_final_output_precision: 0.9665 - val_final_output_sensitivity: 0.9745 - val_final_output_specificity: 0.9887 - val_out_3_accuracy: 0.9759 - val_out_3_dice_score: 0.4195 - val_out_3_precision: 0.9786 - val_out_3_sensitivity: 0.9658 - val_out_3_specificity: 0.9930 - val_out_2_accuracy: 0.9723 - val_out_2_dice_score: 0.3645 - val_out_2_precision: 0.9676 - val_out_2_sensitivity: 0.9645 - val_out_2_specificity: 0.9892 - val_out_1_accuracy: 0.9710 - val_out_1_dice_score: 0.3232 - val_out_1_precision: 0.9654 - val_out_1_sensitivity: 0.9641 - val_out_1_specificity: 0.9885\n",
            "Epoch 19/100\n",
            "8/8 [==============================] - 2s 311ms/step - loss: 6.2653 - final_output_loss: 1.5673 - out_3_loss: 1.4918 - out_2_loss: 1.5315 - out_1_loss: 1.5576 - final_output_accuracy: 0.9845 - final_output_dice_score: 0.6390 - final_output_precision: 0.9721 - final_output_sensitivity: 0.9838 - final_output_specificity: 0.9906 - out_3_accuracy: 0.9861 - out_3_dice_score: 0.6949 - out_3_precision: 0.9866 - out_3_sensitivity: 0.9847 - out_3_specificity: 0.9955 - out_2_accuracy: 0.9852 - out_2_dice_score: 0.6770 - out_2_precision: 0.9856 - out_2_sensitivity: 0.9839 - out_2_specificity: 0.9952 - out_1_accuracy: 0.9847 - out_1_dice_score: 0.6661 - out_1_precision: 0.9851 - out_1_sensitivity: 0.9835 - out_1_specificity: 0.9950 - val_loss: 8.5459 - val_final_output_loss: 1.9954 - val_out_3_loss: 1.9473 - val_out_2_loss: 2.1413 - val_out_1_loss: 2.3449 - val_final_output_accuracy: 0.9767 - val_final_output_dice_score: 0.3793 - val_final_output_precision: 0.9703 - val_final_output_sensitivity: 0.9719 - val_final_output_specificity: 0.9901 - val_out_3_accuracy: 0.9765 - val_out_3_dice_score: 0.4175 - val_out_3_precision: 0.9780 - val_out_3_sensitivity: 0.9663 - val_out_3_specificity: 0.9928 - val_out_2_accuracy: 0.9723 - val_out_2_dice_score: 0.3558 - val_out_2_precision: 0.9674 - val_out_2_sensitivity: 0.9646 - val_out_2_specificity: 0.9891 - val_out_1_accuracy: 0.9713 - val_out_1_dice_score: 0.3233 - val_out_1_precision: 0.9658 - val_out_1_sensitivity: 0.9640 - val_out_1_specificity: 0.9886\n",
            "Epoch 20/100\n",
            "8/8 [==============================] - 2s 310ms/step - loss: 6.4001 - final_output_loss: 1.5759 - out_3_loss: 1.5306 - out_2_loss: 1.5812 - out_1_loss: 1.5954 - final_output_accuracy: 0.9857 - final_output_dice_score: 0.6539 - final_output_precision: 0.9805 - final_output_sensitivity: 0.9846 - final_output_specificity: 0.9935 - out_3_accuracy: 0.9860 - out_3_dice_score: 0.6844 - out_3_precision: 0.9862 - out_3_sensitivity: 0.9848 - out_3_specificity: 0.9954 - out_2_accuracy: 0.9849 - out_2_dice_score: 0.6561 - out_2_precision: 0.9853 - out_2_sensitivity: 0.9836 - out_2_specificity: 0.9951 - out_1_accuracy: 0.9838 - out_1_dice_score: 0.6469 - out_1_precision: 0.9842 - out_1_sensitivity: 0.9827 - out_1_specificity: 0.9947 - val_loss: 8.5644 - val_final_output_loss: 1.9988 - val_out_3_loss: 1.9577 - val_out_2_loss: 2.1246 - val_out_1_loss: 2.3664 - val_final_output_accuracy: 0.9768 - val_final_output_dice_score: 0.3825 - val_final_output_precision: 0.9739 - val_final_output_sensitivity: 0.9705 - val_final_output_specificity: 0.9913 - val_out_3_accuracy: 0.9764 - val_out_3_dice_score: 0.4208 - val_out_3_precision: 0.9768 - val_out_3_sensitivity: 0.9682 - val_out_3_specificity: 0.9924 - val_out_2_accuracy: 0.9722 - val_out_2_dice_score: 0.3607 - val_out_2_precision: 0.9670 - val_out_2_sensitivity: 0.9647 - val_out_2_specificity: 0.9890 - val_out_1_accuracy: 0.9703 - val_out_1_dice_score: 0.3034 - val_out_1_precision: 0.9647 - val_out_1_sensitivity: 0.9636 - val_out_1_specificity: 0.9882\n",
            "Epoch 21/100\n",
            "8/8 [==============================] - 2s 313ms/step - loss: 5.9376 - final_output_loss: 1.4647 - out_3_loss: 1.4183 - out_2_loss: 1.4612 - out_1_loss: 1.4764 - final_output_accuracy: 0.9899 - final_output_dice_score: 0.6860 - final_output_precision: 0.9874 - final_output_sensitivity: 0.9857 - final_output_specificity: 0.9958 - out_3_accuracy: 0.9906 - out_3_dice_score: 0.7222 - out_3_precision: 0.9907 - out_3_sensitivity: 0.9898 - out_3_specificity: 0.9969 - out_2_accuracy: 0.9893 - out_2_dice_score: 0.6925 - out_2_precision: 0.9895 - out_2_sensitivity: 0.9883 - out_2_specificity: 0.9965 - out_1_accuracy: 0.9892 - out_1_dice_score: 0.6881 - out_1_precision: 0.9893 - out_1_sensitivity: 0.9883 - out_1_specificity: 0.9964 - val_loss: 8.9144 - val_final_output_loss: 2.0147 - val_out_3_loss: 2.0155 - val_out_2_loss: 2.2326 - val_out_1_loss: 2.5346 - val_final_output_accuracy: 0.9750 - val_final_output_dice_score: 0.3720 - val_final_output_precision: 0.9746 - val_final_output_sensitivity: 0.9677 - val_final_output_specificity: 0.9916 - val_out_3_accuracy: 0.9738 - val_out_3_dice_score: 0.3960 - val_out_3_precision: 0.9719 - val_out_3_sensitivity: 0.9664 - val_out_3_specificity: 0.9907 - val_out_2_accuracy: 0.9709 - val_out_2_dice_score: 0.3222 - val_out_2_precision: 0.9653 - val_out_2_sensitivity: 0.9640 - val_out_2_specificity: 0.9884 - val_out_1_accuracy: 0.9699 - val_out_1_dice_score: 0.2740 - val_out_1_precision: 0.9640 - val_out_1_sensitivity: 0.9634 - val_out_1_specificity: 0.9880\n",
            "Epoch 22/100\n",
            "8/8 [==============================] - 2s 316ms/step - loss: 6.6472 - final_output_loss: 1.6049 - out_3_loss: 1.6027 - out_2_loss: 1.6512 - out_1_loss: 1.6713 - final_output_accuracy: 0.9850 - final_output_dice_score: 0.6191 - final_output_precision: 0.9845 - final_output_sensitivity: 0.9799 - final_output_specificity: 0.9948 - out_3_accuracy: 0.9861 - out_3_dice_score: 0.6352 - out_3_precision: 0.9869 - out_3_sensitivity: 0.9849 - out_3_specificity: 0.9956 - out_2_accuracy: 0.9848 - out_2_dice_score: 0.6008 - out_2_precision: 0.9859 - out_2_sensitivity: 0.9833 - out_2_specificity: 0.9953 - out_1_accuracy: 0.9842 - out_1_dice_score: 0.5868 - out_1_precision: 0.9854 - out_1_sensitivity: 0.9827 - out_1_specificity: 0.9951 - val_loss: 8.7158 - val_final_output_loss: 1.9871 - val_out_3_loss: 2.0057 - val_out_2_loss: 2.2341 - val_out_1_loss: 2.3719 - val_final_output_accuracy: 0.9765 - val_final_output_dice_score: 0.4007 - val_final_output_precision: 0.9770 - val_final_output_sensitivity: 0.9686 - val_final_output_specificity: 0.9924 - val_out_3_accuracy: 0.9759 - val_out_3_dice_score: 0.4167 - val_out_3_precision: 0.9750 - val_out_3_sensitivity: 0.9693 - val_out_3_specificity: 0.9917 - val_out_2_accuracy: 0.9715 - val_out_2_dice_score: 0.3364 - val_out_2_precision: 0.9660 - val_out_2_sensitivity: 0.9646 - val_out_2_specificity: 0.9887 - val_out_1_accuracy: 0.9706 - val_out_1_dice_score: 0.3091 - val_out_1_precision: 0.9649 - val_out_1_sensitivity: 0.9638 - val_out_1_specificity: 0.9883\n",
            "Epoch 23/100\n",
            "8/8 [==============================] - 2s 311ms/step - loss: 6.3822 - final_output_loss: 1.5410 - out_3_loss: 1.5360 - out_2_loss: 1.5839 - out_1_loss: 1.6044 - final_output_accuracy: 0.9840 - final_output_dice_score: 0.6701 - final_output_precision: 0.9813 - final_output_sensitivity: 0.9761 - final_output_specificity: 0.9937 - out_3_accuracy: 0.9853 - out_3_dice_score: 0.6880 - out_3_precision: 0.9859 - out_3_sensitivity: 0.9838 - out_3_specificity: 0.9953 - out_2_accuracy: 0.9839 - out_2_dice_score: 0.6610 - out_2_precision: 0.9847 - out_2_sensitivity: 0.9822 - out_2_specificity: 0.9949 - out_1_accuracy: 0.9821 - out_1_dice_score: 0.6427 - out_1_precision: 0.9830 - out_1_sensitivity: 0.9804 - out_1_specificity: 0.9943 - val_loss: 8.4317 - val_final_output_loss: 1.9276 - val_out_3_loss: 1.9511 - val_out_2_loss: 2.1296 - val_out_1_loss: 2.3064 - val_final_output_accuracy: 0.9755 - val_final_output_dice_score: 0.4451 - val_final_output_precision: 0.9765 - val_final_output_sensitivity: 0.9682 - val_final_output_specificity: 0.9922 - val_out_3_accuracy: 0.9750 - val_out_3_dice_score: 0.4535 - val_out_3_precision: 0.9759 - val_out_3_sensitivity: 0.9695 - val_out_3_specificity: 0.9920 - val_out_2_accuracy: 0.9740 - val_out_2_dice_score: 0.3953 - val_out_2_precision: 0.9709 - val_out_2_sensitivity: 0.9675 - val_out_2_specificity: 0.9903 - val_out_1_accuracy: 0.9711 - val_out_1_dice_score: 0.3314 - val_out_1_precision: 0.9657 - val_out_1_sensitivity: 0.9642 - val_out_1_specificity: 0.9886\n",
            "Epoch 24/100\n",
            "8/8 [==============================] - 2s 311ms/step - loss: 5.9718 - final_output_loss: 1.4465 - out_3_loss: 1.4244 - out_2_loss: 1.4799 - out_1_loss: 1.5041 - final_output_accuracy: 0.9875 - final_output_dice_score: 0.7048 - final_output_precision: 0.9854 - final_output_sensitivity: 0.9811 - final_output_specificity: 0.9951 - out_3_accuracy: 0.9885 - out_3_dice_score: 0.7277 - out_3_precision: 0.9889 - out_3_sensitivity: 0.9874 - out_3_specificity: 0.9963 - out_2_accuracy: 0.9870 - out_2_dice_score: 0.6913 - out_2_precision: 0.9875 - out_2_sensitivity: 0.9857 - out_2_specificity: 0.9958 - out_1_accuracy: 0.9869 - out_1_dice_score: 0.6820 - out_1_precision: 0.9873 - out_1_sensitivity: 0.9857 - out_1_specificity: 0.9958 - val_loss: 8.5369 - val_final_output_loss: 1.9485 - val_out_3_loss: 1.9604 - val_out_2_loss: 2.1605 - val_out_1_loss: 2.3506 - val_final_output_accuracy: 0.9770 - val_final_output_dice_score: 0.4263 - val_final_output_precision: 0.9776 - val_final_output_sensitivity: 0.9699 - val_final_output_specificity: 0.9926 - val_out_3_accuracy: 0.9761 - val_out_3_dice_score: 0.4478 - val_out_3_precision: 0.9753 - val_out_3_sensitivity: 0.9696 - val_out_3_specificity: 0.9918 - val_out_2_accuracy: 0.9728 - val_out_2_dice_score: 0.3814 - val_out_2_precision: 0.9683 - val_out_2_sensitivity: 0.9654 - val_out_2_specificity: 0.9895 - val_out_1_accuracy: 0.9716 - val_out_1_dice_score: 0.3392 - val_out_1_precision: 0.9657 - val_out_1_sensitivity: 0.9645 - val_out_1_specificity: 0.9886\n",
            "Epoch 25/100\n",
            "8/8 [==============================] - 2s 306ms/step - loss: 6.2336 - final_output_loss: 1.5069 - out_3_loss: 1.5008 - out_2_loss: 1.5418 - out_1_loss: 1.5672 - final_output_accuracy: 0.9869 - final_output_dice_score: 0.6911 - final_output_precision: 0.9870 - final_output_sensitivity: 0.9821 - final_output_specificity: 0.9957 - out_3_accuracy: 0.9868 - out_3_dice_score: 0.7015 - out_3_precision: 0.9869 - out_3_sensitivity: 0.9853 - out_3_specificity: 0.9956 - out_2_accuracy: 0.9860 - out_2_dice_score: 0.6762 - out_2_precision: 0.9863 - out_2_sensitivity: 0.9843 - out_2_specificity: 0.9954 - out_1_accuracy: 0.9849 - out_1_dice_score: 0.6600 - out_1_precision: 0.9851 - out_1_sensitivity: 0.9832 - out_1_specificity: 0.9950 - val_loss: 8.0017 - val_final_output_loss: 1.8239 - val_out_3_loss: 1.8509 - val_out_2_loss: 2.0408 - val_out_1_loss: 2.1692 - val_final_output_accuracy: 0.9792 - val_final_output_dice_score: 0.4954 - val_final_output_precision: 0.9799 - val_final_output_sensitivity: 0.9727 - val_final_output_specificity: 0.9934 - val_out_3_accuracy: 0.9786 - val_out_3_dice_score: 0.4998 - val_out_3_precision: 0.9803 - val_out_3_sensitivity: 0.9723 - val_out_3_specificity: 0.9935 - val_out_2_accuracy: 0.9748 - val_out_2_dice_score: 0.4256 - val_out_2_precision: 0.9730 - val_out_2_sensitivity: 0.9679 - val_out_2_specificity: 0.9911 - val_out_1_accuracy: 0.9718 - val_out_1_dice_score: 0.3673 - val_out_1_precision: 0.9668 - val_out_1_sensitivity: 0.9647 - val_out_1_specificity: 0.9890\n",
            "Epoch 26/100\n",
            "8/8 [==============================] - 2s 311ms/step - loss: 6.1032 - final_output_loss: 1.4791 - out_3_loss: 1.4746 - out_2_loss: 1.5047 - out_1_loss: 1.5279 - final_output_accuracy: 0.9842 - final_output_dice_score: 0.6837 - final_output_precision: 0.9830 - final_output_sensitivity: 0.9768 - final_output_specificity: 0.9943 - out_3_accuracy: 0.9858 - out_3_dice_score: 0.6909 - out_3_precision: 0.9866 - out_3_sensitivity: 0.9841 - out_3_specificity: 0.9955 - out_2_accuracy: 0.9863 - out_2_dice_score: 0.6764 - out_2_precision: 0.9871 - out_2_sensitivity: 0.9845 - out_2_specificity: 0.9957 - out_1_accuracy: 0.9854 - out_1_dice_score: 0.6617 - out_1_precision: 0.9862 - out_1_sensitivity: 0.9836 - out_1_specificity: 0.9954 - val_loss: 7.9961 - val_final_output_loss: 1.8425 - val_out_3_loss: 1.8706 - val_out_2_loss: 2.0249 - val_out_1_loss: 2.1413 - val_final_output_accuracy: 0.9795 - val_final_output_dice_score: 0.4787 - val_final_output_precision: 0.9836 - val_final_output_sensitivity: 0.9695 - val_final_output_specificity: 0.9946 - val_out_3_accuracy: 0.9786 - val_out_3_dice_score: 0.4898 - val_out_3_precision: 0.9795 - val_out_3_sensitivity: 0.9725 - val_out_3_specificity: 0.9932 - val_out_2_accuracy: 0.9749 - val_out_2_dice_score: 0.4316 - val_out_2_precision: 0.9727 - val_out_2_sensitivity: 0.9682 - val_out_2_specificity: 0.9910 - val_out_1_accuracy: 0.9723 - val_out_1_dice_score: 0.3823 - val_out_1_precision: 0.9673 - val_out_1_sensitivity: 0.9652 - val_out_1_specificity: 0.9891\n",
            "Epoch 27/100\n",
            "8/8 [==============================] - 2s 312ms/step - loss: 5.9791 - final_output_loss: 1.4371 - out_3_loss: 1.4328 - out_2_loss: 1.4910 - out_1_loss: 1.5013 - final_output_accuracy: 0.9877 - final_output_dice_score: 0.7296 - final_output_precision: 0.9880 - final_output_sensitivity: 0.9833 - final_output_specificity: 0.9960 - out_3_accuracy: 0.9882 - out_3_dice_score: 0.7403 - out_3_precision: 0.9882 - out_3_sensitivity: 0.9871 - out_3_specificity: 0.9960 - out_2_accuracy: 0.9860 - out_2_dice_score: 0.6995 - out_2_precision: 0.9864 - out_2_sensitivity: 0.9847 - out_2_specificity: 0.9955 - out_1_accuracy: 0.9856 - out_1_dice_score: 0.6899 - out_1_precision: 0.9859 - out_1_sensitivity: 0.9843 - out_1_specificity: 0.9953 - val_loss: 7.7381 - val_final_output_loss: 1.7806 - val_out_3_loss: 1.8125 - val_out_2_loss: 1.9470 - val_out_1_loss: 2.0811 - val_final_output_accuracy: 0.9817 - val_final_output_dice_score: 0.5290 - val_final_output_precision: 0.9837 - val_final_output_sensitivity: 0.9752 - val_final_output_specificity: 0.9946 - val_out_3_accuracy: 0.9803 - val_out_3_dice_score: 0.5306 - val_out_3_precision: 0.9817 - val_out_3_sensitivity: 0.9752 - val_out_3_specificity: 0.9939 - val_out_2_accuracy: 0.9773 - val_out_2_dice_score: 0.4841 - val_out_2_precision: 0.9767 - val_out_2_sensitivity: 0.9712 - val_out_2_specificity: 0.9923 - val_out_1_accuracy: 0.9737 - val_out_1_dice_score: 0.4293 - val_out_1_precision: 0.9713 - val_out_1_sensitivity: 0.9672 - val_out_1_specificity: 0.9905\n",
            "Epoch 28/100\n",
            "8/8 [==============================] - 2s 310ms/step - loss: 6.0510 - final_output_loss: 1.4649 - out_3_loss: 1.4502 - out_2_loss: 1.4951 - out_1_loss: 1.5239 - final_output_accuracy: 0.9877 - final_output_dice_score: 0.7158 - final_output_precision: 0.9888 - final_output_sensitivity: 0.9821 - final_output_specificity: 0.9963 - out_3_accuracy: 0.9880 - out_3_dice_score: 0.7302 - out_3_precision: 0.9881 - out_3_sensitivity: 0.9870 - out_3_specificity: 0.9960 - out_2_accuracy: 0.9866 - out_2_dice_score: 0.7001 - out_2_precision: 0.9869 - out_2_sensitivity: 0.9856 - out_2_specificity: 0.9956 - out_1_accuracy: 0.9861 - out_1_dice_score: 0.6889 - out_1_precision: 0.9862 - out_1_sensitivity: 0.9851 - out_1_specificity: 0.9954 - val_loss: 8.0194 - val_final_output_loss: 1.8189 - val_out_3_loss: 1.8326 - val_out_2_loss: 2.0557 - val_out_1_loss: 2.1954 - val_final_output_accuracy: 0.9810 - val_final_output_dice_score: 0.5110 - val_final_output_precision: 0.9854 - val_final_output_sensitivity: 0.9745 - val_final_output_specificity: 0.9952 - val_out_3_accuracy: 0.9794 - val_out_3_dice_score: 0.5239 - val_out_3_precision: 0.9802 - val_out_3_sensitivity: 0.9746 - val_out_3_specificity: 0.9934 - val_out_2_accuracy: 0.9747 - val_out_2_dice_score: 0.4427 - val_out_2_precision: 0.9726 - val_out_2_sensitivity: 0.9686 - val_out_2_specificity: 0.9909 - val_out_1_accuracy: 0.9721 - val_out_1_dice_score: 0.3868 - val_out_1_precision: 0.9675 - val_out_1_sensitivity: 0.9653 - val_out_1_specificity: 0.9892\n",
            "Epoch 29/100\n",
            "8/8 [==============================] - 2s 311ms/step - loss: 6.0584 - final_output_loss: 1.4500 - out_3_loss: 1.4514 - out_2_loss: 1.5091 - out_1_loss: 1.5310 - final_output_accuracy: 0.9872 - final_output_dice_score: 0.7228 - final_output_precision: 0.9874 - final_output_sensitivity: 0.9811 - final_output_specificity: 0.9958 - out_3_accuracy: 0.9873 - out_3_dice_score: 0.7279 - out_3_precision: 0.9876 - out_3_sensitivity: 0.9862 - out_3_specificity: 0.9959 - out_2_accuracy: 0.9866 - out_2_dice_score: 0.6989 - out_2_precision: 0.9870 - out_2_sensitivity: 0.9853 - out_2_specificity: 0.9956 - out_1_accuracy: 0.9850 - out_1_dice_score: 0.6798 - out_1_precision: 0.9854 - out_1_sensitivity: 0.9837 - out_1_specificity: 0.9951 - val_loss: 7.2210 - val_final_output_loss: 1.6751 - val_out_3_loss: 1.7033 - val_out_2_loss: 1.8223 - val_out_1_loss: 1.9035 - val_final_output_accuracy: 0.9825 - val_final_output_dice_score: 0.5884 - val_final_output_precision: 0.9818 - val_final_output_sensitivity: 0.9763 - val_final_output_specificity: 0.9940 - val_out_3_accuracy: 0.9818 - val_out_3_dice_score: 0.5888 - val_out_3_precision: 0.9834 - val_out_3_sensitivity: 0.9772 - val_out_3_specificity: 0.9945 - val_out_2_accuracy: 0.9795 - val_out_2_dice_score: 0.5455 - val_out_2_precision: 0.9800 - val_out_2_sensitivity: 0.9746 - val_out_2_specificity: 0.9934 - val_out_1_accuracy: 0.9770 - val_out_1_dice_score: 0.5053 - val_out_1_precision: 0.9766 - val_out_1_sensitivity: 0.9717 - val_out_1_specificity: 0.9922\n",
            "Epoch 30/100\n",
            "8/8 [==============================] - 2s 310ms/step - loss: 6.0780 - final_output_loss: 1.4536 - out_3_loss: 1.4653 - out_2_loss: 1.5080 - out_1_loss: 1.5344 - final_output_accuracy: 0.9885 - final_output_dice_score: 0.7114 - final_output_precision: 0.9888 - final_output_sensitivity: 0.9817 - final_output_specificity: 0.9963 - out_3_accuracy: 0.9892 - out_3_dice_score: 0.7114 - out_3_precision: 0.9893 - out_3_sensitivity: 0.9883 - out_3_specificity: 0.9964 - out_2_accuracy: 0.9886 - out_2_dice_score: 0.6871 - out_2_precision: 0.9889 - out_2_sensitivity: 0.9876 - out_2_specificity: 0.9963 - out_1_accuracy: 0.9875 - out_1_dice_score: 0.6709 - out_1_precision: 0.9877 - out_1_sensitivity: 0.9866 - out_1_specificity: 0.9959 - val_loss: 7.8505 - val_final_output_loss: 1.7730 - val_out_3_loss: 1.8138 - val_out_2_loss: 1.9439 - val_out_1_loss: 2.2029 - val_final_output_accuracy: 0.9808 - val_final_output_dice_score: 0.5453 - val_final_output_precision: 0.9837 - val_final_output_sensitivity: 0.9746 - val_final_output_specificity: 0.9946 - val_out_3_accuracy: 0.9796 - val_out_3_dice_score: 0.5511 - val_out_3_precision: 0.9796 - val_out_3_sensitivity: 0.9749 - val_out_3_specificity: 0.9932 - val_out_2_accuracy: 0.9763 - val_out_2_dice_score: 0.4934 - val_out_2_precision: 0.9750 - val_out_2_sensitivity: 0.9710 - val_out_2_specificity: 0.9917 - val_out_1_accuracy: 0.9719 - val_out_1_dice_score: 0.3913 - val_out_1_precision: 0.9672 - val_out_1_sensitivity: 0.9656 - val_out_1_specificity: 0.9891\n",
            "Epoch 31/100\n",
            "8/8 [==============================] - 2s 311ms/step - loss: 6.2853 - final_output_loss: 1.5159 - out_3_loss: 1.5136 - out_2_loss: 1.5595 - out_1_loss: 1.5795 - final_output_accuracy: 0.9912 - final_output_dice_score: 0.6812 - final_output_precision: 0.9916 - final_output_sensitivity: 0.9873 - final_output_specificity: 0.9972 - out_3_accuracy: 0.9912 - out_3_dice_score: 0.6925 - out_3_precision: 0.9911 - out_3_sensitivity: 0.9906 - out_3_specificity: 0.9970 - out_2_accuracy: 0.9902 - out_2_dice_score: 0.6567 - out_2_precision: 0.9903 - out_2_sensitivity: 0.9894 - out_2_specificity: 0.9967 - out_1_accuracy: 0.9894 - out_1_dice_score: 0.6494 - out_1_precision: 0.9894 - out_1_sensitivity: 0.9887 - out_1_specificity: 0.9965 - val_loss: 7.4091 - val_final_output_loss: 1.6954 - val_out_3_loss: 1.7455 - val_out_2_loss: 1.8331 - val_out_1_loss: 2.0182 - val_final_output_accuracy: 0.9826 - val_final_output_dice_score: 0.5833 - val_final_output_precision: 0.9841 - val_final_output_sensitivity: 0.9757 - val_final_output_specificity: 0.9947 - val_out_3_accuracy: 0.9815 - val_out_3_dice_score: 0.5787 - val_out_3_precision: 0.9822 - val_out_3_sensitivity: 0.9769 - val_out_3_specificity: 0.9941 - val_out_2_accuracy: 0.9791 - val_out_2_dice_score: 0.5364 - val_out_2_precision: 0.9791 - val_out_2_sensitivity: 0.9737 - val_out_2_specificity: 0.9931 - val_out_1_accuracy: 0.9748 - val_out_1_dice_score: 0.4638 - val_out_1_precision: 0.9726 - val_out_1_sensitivity: 0.9690 - val_out_1_specificity: 0.9909\n",
            "Epoch 32/100\n",
            "8/8 [==============================] - 2s 311ms/step - loss: 6.3849 - final_output_loss: 1.5281 - out_3_loss: 1.5454 - out_2_loss: 1.5928 - out_1_loss: 1.6018 - final_output_accuracy: 0.9860 - final_output_dice_score: 0.6707 - final_output_precision: 0.9858 - final_output_sensitivity: 0.9789 - final_output_specificity: 0.9952 - out_3_accuracy: 0.9866 - out_3_dice_score: 0.6655 - out_3_precision: 0.9870 - out_3_sensitivity: 0.9855 - out_3_specificity: 0.9956 - out_2_accuracy: 0.9851 - out_2_dice_score: 0.6335 - out_2_precision: 0.9856 - out_2_sensitivity: 0.9837 - out_2_specificity: 0.9952 - out_1_accuracy: 0.9846 - out_1_dice_score: 0.6307 - out_1_precision: 0.9851 - out_1_sensitivity: 0.9834 - out_1_specificity: 0.9950 - val_loss: 7.4858 - val_final_output_loss: 1.7256 - val_out_3_loss: 1.7931 - val_out_2_loss: 1.8806 - val_out_1_loss: 1.9697 - val_final_output_accuracy: 0.9804 - val_final_output_dice_score: 0.5686 - val_final_output_precision: 0.9827 - val_final_output_sensitivity: 0.9737 - val_final_output_specificity: 0.9943 - val_out_3_accuracy: 0.9806 - val_out_3_dice_score: 0.5565 - val_out_3_precision: 0.9807 - val_out_3_sensitivity: 0.9768 - val_out_3_specificity: 0.9936 - val_out_2_accuracy: 0.9793 - val_out_2_dice_score: 0.5163 - val_out_2_precision: 0.9785 - val_out_2_sensitivity: 0.9743 - val_out_2_specificity: 0.9929 - val_out_1_accuracy: 0.9769 - val_out_1_dice_score: 0.4771 - val_out_1_precision: 0.9752 - val_out_1_sensitivity: 0.9715 - val_out_1_specificity: 0.9918\n",
            "Epoch 33/100\n",
            "8/8 [==============================] - 2s 306ms/step - loss: 5.9930 - final_output_loss: 1.4228 - out_3_loss: 1.4474 - out_2_loss: 1.4878 - out_1_loss: 1.5181 - final_output_accuracy: 0.9880 - final_output_dice_score: 0.7403 - final_output_precision: 0.9867 - final_output_sensitivity: 0.9829 - final_output_specificity: 0.9956 - out_3_accuracy: 0.9880 - out_3_dice_score: 0.7323 - out_3_precision: 0.9885 - out_3_sensitivity: 0.9867 - out_3_specificity: 0.9961 - out_2_accuracy: 0.9871 - out_2_dice_score: 0.7064 - out_2_precision: 0.9878 - out_2_sensitivity: 0.9856 - out_2_specificity: 0.9959 - out_1_accuracy: 0.9857 - out_1_dice_score: 0.6881 - out_1_precision: 0.9865 - out_1_sensitivity: 0.9843 - out_1_specificity: 0.9955 - val_loss: 6.9625 - val_final_output_loss: 1.6297 - val_out_3_loss: 1.6323 - val_out_2_loss: 1.7334 - val_out_1_loss: 1.8504 - val_final_output_accuracy: 0.9855 - val_final_output_dice_score: 0.6115 - val_final_output_precision: 0.9868 - val_final_output_sensitivity: 0.9760 - val_final_output_specificity: 0.9956 - val_out_3_accuracy: 0.9849 - val_out_3_dice_score: 0.6238 - val_out_3_precision: 0.9859 - val_out_3_sensitivity: 0.9803 - val_out_3_specificity: 0.9953 - val_out_2_accuracy: 0.9821 - val_out_2_dice_score: 0.5708 - val_out_2_precision: 0.9825 - val_out_2_sensitivity: 0.9764 - val_out_2_specificity: 0.9942 - val_out_1_accuracy: 0.9776 - val_out_1_dice_score: 0.5171 - val_out_1_precision: 0.9770 - val_out_1_sensitivity: 0.9720 - val_out_1_specificity: 0.9924\n",
            "Epoch 34/100\n",
            "8/8 [==============================] - 2s 310ms/step - loss: 5.9062 - final_output_loss: 1.4093 - out_3_loss: 1.4075 - out_2_loss: 1.4661 - out_1_loss: 1.5065 - final_output_accuracy: 0.9894 - final_output_dice_score: 0.7514 - final_output_precision: 0.9908 - final_output_sensitivity: 0.9826 - final_output_specificity: 0.9969 - out_3_accuracy: 0.9895 - out_3_dice_score: 0.7544 - out_3_precision: 0.9897 - out_3_sensitivity: 0.9885 - out_3_specificity: 0.9965 - out_2_accuracy: 0.9882 - out_2_dice_score: 0.7153 - out_2_precision: 0.9884 - out_2_sensitivity: 0.9871 - out_2_specificity: 0.9961 - out_1_accuracy: 0.9868 - out_1_dice_score: 0.6910 - out_1_precision: 0.9873 - out_1_sensitivity: 0.9857 - out_1_specificity: 0.9957 - val_loss: 7.0281 - val_final_output_loss: 1.6814 - val_out_3_loss: 1.6821 - val_out_2_loss: 1.7009 - val_out_1_loss: 1.8470 - val_final_output_accuracy: 0.9799 - val_final_output_dice_score: 0.5831 - val_final_output_precision: 0.9841 - val_final_output_sensitivity: 0.9569 - val_final_output_specificity: 0.9948 - val_out_3_accuracy: 0.9822 - val_out_3_dice_score: 0.5942 - val_out_3_precision: 0.9825 - val_out_3_sensitivity: 0.9782 - val_out_3_specificity: 0.9942 - val_out_2_accuracy: 0.9823 - val_out_2_dice_score: 0.5841 - val_out_2_precision: 0.9827 - val_out_2_sensitivity: 0.9779 - val_out_2_specificity: 0.9943 - val_out_1_accuracy: 0.9795 - val_out_1_dice_score: 0.5339 - val_out_1_precision: 0.9787 - val_out_1_sensitivity: 0.9750 - val_out_1_specificity: 0.9929\n",
            "Epoch 35/100\n",
            "8/8 [==============================] - 2s 312ms/step - loss: 6.2472 - final_output_loss: 1.5091 - out_3_loss: 1.5084 - out_2_loss: 1.5498 - out_1_loss: 1.5632 - final_output_accuracy: 0.9853 - final_output_dice_score: 0.7044 - final_output_precision: 0.9864 - final_output_sensitivity: 0.9783 - final_output_specificity: 0.9954 - out_3_accuracy: 0.9863 - out_3_dice_score: 0.7108 - out_3_precision: 0.9863 - out_3_sensitivity: 0.9853 - out_3_specificity: 0.9954 - out_2_accuracy: 0.9852 - out_2_dice_score: 0.6808 - out_2_precision: 0.9854 - out_2_sensitivity: 0.9839 - out_2_specificity: 0.9951 - out_1_accuracy: 0.9845 - out_1_dice_score: 0.6737 - out_1_precision: 0.9847 - out_1_sensitivity: 0.9833 - out_1_specificity: 0.9949 - val_loss: 6.5265 - val_final_output_loss: 1.5589 - val_out_3_loss: 1.5591 - val_out_2_loss: 1.6083 - val_out_1_loss: 1.6836 - val_final_output_accuracy: 0.9834 - val_final_output_dice_score: 0.6388 - val_final_output_precision: 0.9804 - val_final_output_sensitivity: 0.9625 - val_final_output_specificity: 0.9935 - val_out_3_accuracy: 0.9858 - val_out_3_dice_score: 0.6472 - val_out_3_precision: 0.9869 - val_out_3_sensitivity: 0.9812 - val_out_3_specificity: 0.9957 - val_out_2_accuracy: 0.9854 - val_out_2_dice_score: 0.6175 - val_out_2_precision: 0.9870 - val_out_2_sensitivity: 0.9801 - val_out_2_specificity: 0.9957 - val_out_1_accuracy: 0.9828 - val_out_1_dice_score: 0.5889 - val_out_1_precision: 0.9844 - val_out_1_sensitivity: 0.9780 - val_out_1_specificity: 0.9948\n",
            "Epoch 36/100\n",
            "8/8 [==============================] - 2s 310ms/step - loss: 6.1710 - final_output_loss: 1.5012 - out_3_loss: 1.4849 - out_2_loss: 1.5250 - out_1_loss: 1.5431 - final_output_accuracy: 0.9885 - final_output_dice_score: 0.6817 - final_output_precision: 0.9863 - final_output_sensitivity: 0.9812 - final_output_specificity: 0.9954 - out_3_accuracy: 0.9903 - out_3_dice_score: 0.7035 - out_3_precision: 0.9904 - out_3_sensitivity: 0.9893 - out_3_specificity: 0.9968 - out_2_accuracy: 0.9893 - out_2_dice_score: 0.6732 - out_2_precision: 0.9897 - out_2_sensitivity: 0.9882 - out_2_specificity: 0.9965 - out_1_accuracy: 0.9885 - out_1_dice_score: 0.6612 - out_1_precision: 0.9888 - out_1_sensitivity: 0.9875 - out_1_specificity: 0.9962 - val_loss: 6.8653 - val_final_output_loss: 1.6016 - val_out_3_loss: 1.6529 - val_out_2_loss: 1.7095 - val_out_1_loss: 1.7846 - val_final_output_accuracy: 0.9864 - val_final_output_dice_score: 0.6402 - val_final_output_precision: 0.9867 - val_final_output_sensitivity: 0.9799 - val_final_output_specificity: 0.9956 - val_out_3_accuracy: 0.9852 - val_out_3_dice_score: 0.6270 - val_out_3_precision: 0.9849 - val_out_3_sensitivity: 0.9812 - val_out_3_specificity: 0.9950 - val_out_2_accuracy: 0.9831 - val_out_2_dice_score: 0.5940 - val_out_2_precision: 0.9831 - val_out_2_sensitivity: 0.9784 - val_out_2_specificity: 0.9944 - val_out_1_accuracy: 0.9799 - val_out_1_dice_score: 0.5578 - val_out_1_precision: 0.9803 - val_out_1_sensitivity: 0.9755 - val_out_1_specificity: 0.9935\n",
            "Epoch 37/100\n",
            "8/8 [==============================] - 2s 310ms/step - loss: 5.8768 - final_output_loss: 1.4080 - out_3_loss: 1.4018 - out_2_loss: 1.4605 - out_1_loss: 1.4899 - final_output_accuracy: 0.9903 - final_output_dice_score: 0.7489 - final_output_precision: 0.9900 - final_output_sensitivity: 0.9861 - final_output_specificity: 0.9966 - out_3_accuracy: 0.9904 - out_3_dice_score: 0.7565 - out_3_precision: 0.9904 - out_3_sensitivity: 0.9894 - out_3_specificity: 0.9968 - out_2_accuracy: 0.9892 - out_2_dice_score: 0.7201 - out_2_precision: 0.9894 - out_2_sensitivity: 0.9882 - out_2_specificity: 0.9964 - out_1_accuracy: 0.9878 - out_1_dice_score: 0.6999 - out_1_precision: 0.9881 - out_1_sensitivity: 0.9868 - out_1_specificity: 0.9960 - val_loss: 6.6001 - val_final_output_loss: 1.5718 - val_out_3_loss: 1.5839 - val_out_2_loss: 1.6346 - val_out_1_loss: 1.6932 - val_final_output_accuracy: 0.9865 - val_final_output_dice_score: 0.6506 - val_final_output_precision: 0.9883 - val_final_output_sensitivity: 0.9763 - val_final_output_specificity: 0.9961 - val_out_3_accuracy: 0.9862 - val_out_3_dice_score: 0.6460 - val_out_3_precision: 0.9861 - val_out_3_sensitivity: 0.9817 - val_out_3_specificity: 0.9954 - val_out_2_accuracy: 0.9853 - val_out_2_dice_score: 0.6234 - val_out_2_precision: 0.9856 - val_out_2_sensitivity: 0.9808 - val_out_2_specificity: 0.9952 - val_out_1_accuracy: 0.9828 - val_out_1_dice_score: 0.5947 - val_out_1_precision: 0.9838 - val_out_1_sensitivity: 0.9785 - val_out_1_specificity: 0.9946\n",
            "Epoch 38/100\n",
            "8/8 [==============================] - 2s 310ms/step - loss: 5.8299 - final_output_loss: 1.3900 - out_3_loss: 1.4029 - out_2_loss: 1.4464 - out_1_loss: 1.4741 - final_output_accuracy: 0.9882 - final_output_dice_score: 0.7617 - final_output_precision: 0.9899 - final_output_sensitivity: 0.9790 - final_output_specificity: 0.9966 - out_3_accuracy: 0.9883 - out_3_dice_score: 0.7552 - out_3_precision: 0.9885 - out_3_sensitivity: 0.9868 - out_3_specificity: 0.9961 - out_2_accuracy: 0.9873 - out_2_dice_score: 0.7308 - out_2_precision: 0.9876 - out_2_sensitivity: 0.9857 - out_2_specificity: 0.9958 - out_1_accuracy: 0.9858 - out_1_dice_score: 0.7149 - out_1_precision: 0.9862 - out_1_sensitivity: 0.9844 - out_1_specificity: 0.9954 - val_loss: 6.3333 - val_final_output_loss: 1.4966 - val_out_3_loss: 1.5048 - val_out_2_loss: 1.5791 - val_out_1_loss: 1.6361 - val_final_output_accuracy: 0.9868 - val_final_output_dice_score: 0.6857 - val_final_output_precision: 0.9880 - val_final_output_sensitivity: 0.9763 - val_final_output_specificity: 0.9960 - val_out_3_accuracy: 0.9868 - val_out_3_dice_score: 0.6856 - val_out_3_precision: 0.9878 - val_out_3_sensitivity: 0.9831 - val_out_3_specificity: 0.9959 - val_out_2_accuracy: 0.9859 - val_out_2_dice_score: 0.6483 - val_out_2_precision: 0.9862 - val_out_2_sensitivity: 0.9811 - val_out_2_specificity: 0.9954 - val_out_1_accuracy: 0.9836 - val_out_1_dice_score: 0.6248 - val_out_1_precision: 0.9847 - val_out_1_sensitivity: 0.9792 - val_out_1_specificity: 0.9949\n",
            "Epoch 39/100\n",
            "8/8 [==============================] - 2s 312ms/step - loss: 5.8420 - final_output_loss: 1.4011 - out_3_loss: 1.4065 - out_2_loss: 1.4501 - out_1_loss: 1.4676 - final_output_accuracy: 0.9885 - final_output_dice_score: 0.7521 - final_output_precision: 0.9892 - final_output_sensitivity: 0.9820 - final_output_specificity: 0.9964 - out_3_accuracy: 0.9893 - out_3_dice_score: 0.7565 - out_3_precision: 0.9893 - out_3_sensitivity: 0.9882 - out_3_specificity: 0.9964 - out_2_accuracy: 0.9883 - out_2_dice_score: 0.7288 - out_2_precision: 0.9885 - out_2_sensitivity: 0.9871 - out_2_specificity: 0.9961 - out_1_accuracy: 0.9873 - out_1_dice_score: 0.7155 - out_1_precision: 0.9875 - out_1_sensitivity: 0.9861 - out_1_specificity: 0.9958 - val_loss: 6.4323 - val_final_output_loss: 1.5014 - val_out_3_loss: 1.5362 - val_out_2_loss: 1.5919 - val_out_1_loss: 1.6862 - val_final_output_accuracy: 0.9871 - val_final_output_dice_score: 0.6802 - val_final_output_precision: 0.9867 - val_final_output_sensitivity: 0.9764 - val_final_output_specificity: 0.9956 - val_out_3_accuracy: 0.9866 - val_out_3_dice_score: 0.6680 - val_out_3_precision: 0.9872 - val_out_3_sensitivity: 0.9825 - val_out_3_specificity: 0.9958 - val_out_2_accuracy: 0.9857 - val_out_2_dice_score: 0.6399 - val_out_2_precision: 0.9867 - val_out_2_sensitivity: 0.9813 - val_out_2_specificity: 0.9956 - val_out_1_accuracy: 0.9825 - val_out_1_dice_score: 0.6095 - val_out_1_precision: 0.9834 - val_out_1_sensitivity: 0.9787 - val_out_1_specificity: 0.9945\n",
            "Epoch 40/100\n",
            "8/8 [==============================] - 2s 311ms/step - loss: 6.1333 - final_output_loss: 1.4713 - out_3_loss: 1.4745 - out_2_loss: 1.5262 - out_1_loss: 1.5445 - final_output_accuracy: 0.9892 - final_output_dice_score: 0.7120 - final_output_precision: 0.9915 - final_output_sensitivity: 0.9811 - final_output_specificity: 0.9972 - out_3_accuracy: 0.9895 - out_3_dice_score: 0.7191 - out_3_precision: 0.9895 - out_3_sensitivity: 0.9888 - out_3_specificity: 0.9965 - out_2_accuracy: 0.9886 - out_2_dice_score: 0.6831 - out_2_precision: 0.9887 - out_2_sensitivity: 0.9877 - out_2_specificity: 0.9962 - out_1_accuracy: 0.9878 - out_1_dice_score: 0.6716 - out_1_precision: 0.9879 - out_1_sensitivity: 0.9870 - out_1_specificity: 0.9960 - val_loss: 6.7844 - val_final_output_loss: 1.6257 - val_out_3_loss: 1.6235 - val_out_2_loss: 1.6519 - val_out_1_loss: 1.7667 - val_final_output_accuracy: 0.9845 - val_final_output_dice_score: 0.6351 - val_final_output_precision: 0.9873 - val_final_output_sensitivity: 0.9685 - val_final_output_specificity: 0.9958 - val_out_3_accuracy: 0.9853 - val_out_3_dice_score: 0.6417 - val_out_3_precision: 0.9843 - val_out_3_sensitivity: 0.9813 - val_out_3_specificity: 0.9948 - val_out_2_accuracy: 0.9853 - val_out_2_dice_score: 0.6236 - val_out_2_precision: 0.9843 - val_out_2_sensitivity: 0.9807 - val_out_2_specificity: 0.9948 - val_out_1_accuracy: 0.9824 - val_out_1_dice_score: 0.5783 - val_out_1_precision: 0.9815 - val_out_1_sensitivity: 0.9779 - val_out_1_specificity: 0.9939\n",
            "Epoch 41/100\n",
            "8/8 [==============================] - 2s 310ms/step - loss: 5.8138 - final_output_loss: 1.3974 - out_3_loss: 1.3994 - out_2_loss: 1.4412 - out_1_loss: 1.4592 - final_output_accuracy: 0.9887 - final_output_dice_score: 0.7490 - final_output_precision: 0.9898 - final_output_sensitivity: 0.9770 - final_output_specificity: 0.9966 - out_3_accuracy: 0.9896 - out_3_dice_score: 0.7528 - out_3_precision: 0.9896 - out_3_sensitivity: 0.9887 - out_3_specificity: 0.9965 - out_2_accuracy: 0.9890 - out_2_dice_score: 0.7286 - out_2_precision: 0.9891 - out_2_sensitivity: 0.9879 - out_2_specificity: 0.9964 - out_1_accuracy: 0.9884 - out_1_dice_score: 0.7171 - out_1_precision: 0.9885 - out_1_sensitivity: 0.9873 - out_1_specificity: 0.9961 - val_loss: 6.1994 - val_final_output_loss: 1.4809 - val_out_3_loss: 1.4923 - val_out_2_loss: 1.5323 - val_out_1_loss: 1.5773 - val_final_output_accuracy: 0.9871 - val_final_output_dice_score: 0.6920 - val_final_output_precision: 0.9849 - val_final_output_sensitivity: 0.9762 - val_final_output_specificity: 0.9950 - val_out_3_accuracy: 0.9868 - val_out_3_dice_score: 0.6877 - val_out_3_precision: 0.9876 - val_out_3_sensitivity: 0.9829 - val_out_3_specificity: 0.9959 - val_out_2_accuracy: 0.9868 - val_out_2_dice_score: 0.6660 - val_out_2_precision: 0.9873 - val_out_2_sensitivity: 0.9821 - val_out_2_specificity: 0.9958 - val_out_1_accuracy: 0.9847 - val_out_1_dice_score: 0.6443 - val_out_1_precision: 0.9851 - val_out_1_sensitivity: 0.9800 - val_out_1_specificity: 0.9951\n",
            "Epoch 42/100\n",
            "8/8 [==============================] - 2s 306ms/step - loss: 6.1318 - final_output_loss: 1.4699 - out_3_loss: 1.4777 - out_2_loss: 1.5233 - out_1_loss: 1.5443 - final_output_accuracy: 0.9890 - final_output_dice_score: 0.6941 - final_output_precision: 0.9899 - final_output_sensitivity: 0.9834 - final_output_specificity: 0.9966 - out_3_accuracy: 0.9895 - out_3_dice_score: 0.6993 - out_3_precision: 0.9898 - out_3_sensitivity: 0.9890 - out_3_specificity: 0.9966 - out_2_accuracy: 0.9884 - out_2_dice_score: 0.6688 - out_2_precision: 0.9891 - out_2_sensitivity: 0.9878 - out_2_specificity: 0.9963 - out_1_accuracy: 0.9876 - out_1_dice_score: 0.6480 - out_1_precision: 0.9883 - out_1_sensitivity: 0.9871 - out_1_specificity: 0.9961 - val_loss: 6.1548 - val_final_output_loss: 1.4634 - val_out_3_loss: 1.4813 - val_out_2_loss: 1.5340 - val_out_1_loss: 1.5594 - val_final_output_accuracy: 0.9867 - val_final_output_dice_score: 0.7155 - val_final_output_precision: 0.9854 - val_final_output_sensitivity: 0.9803 - val_final_output_specificity: 0.9952 - val_out_3_accuracy: 0.9861 - val_out_3_dice_score: 0.7100 - val_out_3_precision: 0.9857 - val_out_3_sensitivity: 0.9829 - val_out_3_specificity: 0.9952 - val_out_2_accuracy: 0.9854 - val_out_2_dice_score: 0.6737 - val_out_2_precision: 0.9849 - val_out_2_sensitivity: 0.9814 - val_out_2_specificity: 0.9950 - val_out_1_accuracy: 0.9857 - val_out_1_dice_score: 0.6583 - val_out_1_precision: 0.9857 - val_out_1_sensitivity: 0.9815 - val_out_1_specificity: 0.9953\n",
            "Epoch 43/100\n",
            "8/8 [==============================] - 2s 312ms/step - loss: 6.1754 - final_output_loss: 1.5039 - out_3_loss: 1.5049 - out_2_loss: 1.5146 - out_1_loss: 1.5353 - final_output_accuracy: 0.9873 - final_output_dice_score: 0.7096 - final_output_precision: 0.9888 - final_output_sensitivity: 0.9819 - final_output_specificity: 0.9963 - out_3_accuracy: 0.9875 - out_3_dice_score: 0.7183 - out_3_precision: 0.9875 - out_3_sensitivity: 0.9866 - out_3_specificity: 0.9958 - out_2_accuracy: 0.9868 - out_2_dice_score: 0.6948 - out_2_precision: 0.9870 - out_2_sensitivity: 0.9857 - out_2_specificity: 0.9957 - out_1_accuracy: 0.9860 - out_1_dice_score: 0.6810 - out_1_precision: 0.9864 - out_1_sensitivity: 0.9849 - out_1_specificity: 0.9954 - val_loss: 6.0257 - val_final_output_loss: 1.4363 - val_out_3_loss: 1.4378 - val_out_2_loss: 1.4988 - val_out_1_loss: 1.5363 - val_final_output_accuracy: 0.9880 - val_final_output_dice_score: 0.7356 - val_final_output_precision: 0.9864 - val_final_output_sensitivity: 0.9824 - val_final_output_specificity: 0.9955 - val_out_3_accuracy: 0.9884 - val_out_3_dice_score: 0.7373 - val_out_3_precision: 0.9882 - val_out_3_sensitivity: 0.9861 - val_out_3_specificity: 0.9961 - val_out_2_accuracy: 0.9875 - val_out_2_dice_score: 0.6968 - val_out_2_precision: 0.9871 - val_out_2_sensitivity: 0.9842 - val_out_2_specificity: 0.9957 - val_out_1_accuracy: 0.9862 - val_out_1_dice_score: 0.6803 - val_out_1_precision: 0.9858 - val_out_1_sensitivity: 0.9830 - val_out_1_specificity: 0.9953\n",
            "Epoch 44/100\n",
            "8/8 [==============================] - 2s 310ms/step - loss: 6.3371 - final_output_loss: 1.5423 - out_3_loss: 1.5401 - out_2_loss: 1.5670 - out_1_loss: 1.5711 - final_output_accuracy: 0.9833 - final_output_dice_score: 0.6540 - final_output_precision: 0.9824 - final_output_sensitivity: 0.9744 - final_output_specificity: 0.9941 - out_3_accuracy: 0.9850 - out_3_dice_score: 0.6559 - out_3_precision: 0.9858 - out_3_sensitivity: 0.9835 - out_3_specificity: 0.9952 - out_2_accuracy: 0.9851 - out_2_dice_score: 0.6378 - out_2_precision: 0.9862 - out_2_sensitivity: 0.9835 - out_2_specificity: 0.9954 - out_1_accuracy: 0.9851 - out_1_dice_score: 0.6419 - out_1_precision: 0.9859 - out_1_sensitivity: 0.9837 - out_1_specificity: 0.9953 - val_loss: 6.0403 - val_final_output_loss: 1.4257 - val_out_3_loss: 1.4259 - val_out_2_loss: 1.5060 - val_out_1_loss: 1.5662 - val_final_output_accuracy: 0.9882 - val_final_output_dice_score: 0.7373 - val_final_output_precision: 0.9859 - val_final_output_sensitivity: 0.9831 - val_final_output_specificity: 0.9953 - val_out_3_accuracy: 0.9887 - val_out_3_dice_score: 0.7394 - val_out_3_precision: 0.9888 - val_out_3_sensitivity: 0.9864 - val_out_3_specificity: 0.9963 - val_out_2_accuracy: 0.9870 - val_out_2_dice_score: 0.6939 - val_out_2_precision: 0.9868 - val_out_2_sensitivity: 0.9836 - val_out_2_specificity: 0.9956 - val_out_1_accuracy: 0.9848 - val_out_1_dice_score: 0.6724 - val_out_1_precision: 0.9846 - val_out_1_sensitivity: 0.9816 - val_out_1_specificity: 0.9949\n",
            "Epoch 45/100\n",
            "8/8 [==============================] - 2s 311ms/step - loss: 6.0951 - final_output_loss: 1.4648 - out_3_loss: 1.4689 - out_2_loss: 1.5093 - out_1_loss: 1.5356 - final_output_accuracy: 0.9892 - final_output_dice_score: 0.7199 - final_output_precision: 0.9882 - final_output_sensitivity: 0.9865 - final_output_specificity: 0.9960 - out_3_accuracy: 0.9898 - out_3_dice_score: 0.7240 - out_3_precision: 0.9898 - out_3_sensitivity: 0.9889 - out_3_specificity: 0.9966 - out_2_accuracy: 0.9886 - out_2_dice_score: 0.6984 - out_2_precision: 0.9889 - out_2_sensitivity: 0.9876 - out_2_specificity: 0.9963 - out_1_accuracy: 0.9877 - out_1_dice_score: 0.6854 - out_1_precision: 0.9878 - out_1_sensitivity: 0.9868 - out_1_specificity: 0.9959 - val_loss: 6.2660 - val_final_output_loss: 1.4885 - val_out_3_loss: 1.5336 - val_out_2_loss: 1.5511 - val_out_1_loss: 1.5762 - val_final_output_accuracy: 0.9862 - val_final_output_dice_score: 0.7100 - val_final_output_precision: 0.9822 - val_final_output_sensitivity: 0.9812 - val_final_output_specificity: 0.9941 - val_out_3_accuracy: 0.9857 - val_out_3_dice_score: 0.6929 - val_out_3_precision: 0.9850 - val_out_3_sensitivity: 0.9830 - val_out_3_specificity: 0.9950 - val_out_2_accuracy: 0.9855 - val_out_2_dice_score: 0.6747 - val_out_2_precision: 0.9856 - val_out_2_sensitivity: 0.9826 - val_out_2_specificity: 0.9952 - val_out_1_accuracy: 0.9848 - val_out_1_dice_score: 0.6652 - val_out_1_precision: 0.9845 - val_out_1_sensitivity: 0.9817 - val_out_1_specificity: 0.9948\n",
            "Epoch 46/100\n",
            "8/8 [==============================] - 2s 310ms/step - loss: 6.0042 - final_output_loss: 1.4286 - out_3_loss: 1.4354 - out_2_loss: 1.4954 - out_1_loss: 1.5282 - final_output_accuracy: 0.9878 - final_output_dice_score: 0.7358 - final_output_precision: 0.9866 - final_output_sensitivity: 0.9823 - final_output_specificity: 0.9955 - out_3_accuracy: 0.9882 - out_3_dice_score: 0.7395 - out_3_precision: 0.9881 - out_3_sensitivity: 0.9871 - out_3_specificity: 0.9960 - out_2_accuracy: 0.9860 - out_2_dice_score: 0.6964 - out_2_precision: 0.9862 - out_2_sensitivity: 0.9845 - out_2_specificity: 0.9954 - out_1_accuracy: 0.9846 - out_1_dice_score: 0.6777 - out_1_precision: 0.9849 - out_1_sensitivity: 0.9832 - out_1_specificity: 0.9949 - val_loss: 6.0964 - val_final_output_loss: 1.4305 - val_out_3_loss: 1.4388 - val_out_2_loss: 1.5197 - val_out_1_loss: 1.5907 - val_final_output_accuracy: 0.9892 - val_final_output_dice_score: 0.7382 - val_final_output_precision: 0.9883 - val_final_output_sensitivity: 0.9840 - val_final_output_specificity: 0.9961 - val_out_3_accuracy: 0.9887 - val_out_3_dice_score: 0.7391 - val_out_3_precision: 0.9889 - val_out_3_sensitivity: 0.9862 - val_out_3_specificity: 0.9963 - val_out_2_accuracy: 0.9866 - val_out_2_dice_score: 0.6875 - val_out_2_precision: 0.9866 - val_out_2_sensitivity: 0.9832 - val_out_2_specificity: 0.9955 - val_out_1_accuracy: 0.9837 - val_out_1_dice_score: 0.6591 - val_out_1_precision: 0.9839 - val_out_1_sensitivity: 0.9806 - val_out_1_specificity: 0.9946\n",
            "Epoch 47/100\n",
            "8/8 [==============================] - 2s 312ms/step - loss: 5.8862 - final_output_loss: 1.3986 - out_3_loss: 1.4096 - out_2_loss: 1.4686 - out_1_loss: 1.4928 - final_output_accuracy: 0.9918 - final_output_dice_score: 0.7325 - final_output_precision: 0.9929 - final_output_sensitivity: 0.9852 - final_output_specificity: 0.9976 - out_3_accuracy: 0.9919 - out_3_dice_score: 0.7315 - out_3_precision: 0.9918 - out_3_sensitivity: 0.9911 - out_3_specificity: 0.9972 - out_2_accuracy: 0.9906 - out_2_dice_score: 0.6964 - out_2_precision: 0.9906 - out_2_sensitivity: 0.9897 - out_2_specificity: 0.9969 - out_1_accuracy: 0.9898 - out_1_dice_score: 0.6858 - out_1_precision: 0.9899 - out_1_sensitivity: 0.9890 - out_1_specificity: 0.9966 - val_loss: 6.0830 - val_final_output_loss: 1.4412 - val_out_3_loss: 1.4483 - val_out_2_loss: 1.5187 - val_out_1_loss: 1.5583 - val_final_output_accuracy: 0.9888 - val_final_output_dice_score: 0.7311 - val_final_output_precision: 0.9889 - val_final_output_sensitivity: 0.9787 - val_final_output_specificity: 0.9963 - val_out_3_accuracy: 0.9888 - val_out_3_dice_score: 0.7317 - val_out_3_precision: 0.9880 - val_out_3_sensitivity: 0.9856 - val_out_3_specificity: 0.9960 - val_out_2_accuracy: 0.9876 - val_out_2_dice_score: 0.6948 - val_out_2_precision: 0.9872 - val_out_2_sensitivity: 0.9841 - val_out_2_specificity: 0.9958 - val_out_1_accuracy: 0.9861 - val_out_1_dice_score: 0.6742 - val_out_1_precision: 0.9858 - val_out_1_sensitivity: 0.9825 - val_out_1_specificity: 0.9953\n",
            "Epoch 48/100\n",
            "8/8 [==============================] - 2s 313ms/step - loss: 6.0447 - final_output_loss: 1.4567 - out_3_loss: 1.4537 - out_2_loss: 1.4947 - out_1_loss: 1.5230 - final_output_accuracy: 0.9869 - final_output_dice_score: 0.7244 - final_output_precision: 0.9879 - final_output_sensitivity: 0.9782 - final_output_specificity: 0.9959 - out_3_accuracy: 0.9874 - out_3_dice_score: 0.7291 - out_3_precision: 0.9877 - out_3_sensitivity: 0.9860 - out_3_specificity: 0.9959 - out_2_accuracy: 0.9865 - out_2_dice_score: 0.7040 - out_2_precision: 0.9871 - out_2_sensitivity: 0.9848 - out_2_specificity: 0.9956 - out_1_accuracy: 0.9851 - out_1_dice_score: 0.6850 - out_1_precision: 0.9856 - out_1_sensitivity: 0.9835 - out_1_specificity: 0.9952 - val_loss: 5.8651 - val_final_output_loss: 1.3915 - val_out_3_loss: 1.3971 - val_out_2_loss: 1.4708 - val_out_1_loss: 1.4890 - val_final_output_accuracy: 0.9884 - val_final_output_dice_score: 0.7599 - val_final_output_precision: 0.9865 - val_final_output_sensitivity: 0.9819 - val_final_output_specificity: 0.9955 - val_out_3_accuracy: 0.9889 - val_out_3_dice_score: 0.7593 - val_out_3_precision: 0.9885 - val_out_3_sensitivity: 0.9865 - val_out_3_specificity: 0.9962 - val_out_2_accuracy: 0.9876 - val_out_2_dice_score: 0.7111 - val_out_2_precision: 0.9870 - val_out_2_sensitivity: 0.9842 - val_out_2_specificity: 0.9957 - val_out_1_accuracy: 0.9872 - val_out_1_dice_score: 0.7009 - val_out_1_precision: 0.9867 - val_out_1_sensitivity: 0.9838 - val_out_1_specificity: 0.9956\n",
            "Epoch 49/100\n",
            "8/8 [==============================] - 2s 310ms/step - loss: 5.7023 - final_output_loss: 1.3552 - out_3_loss: 1.3569 - out_2_loss: 1.4226 - out_1_loss: 1.4510 - final_output_accuracy: 0.9897 - final_output_dice_score: 0.7833 - final_output_precision: 0.9912 - final_output_sensitivity: 0.9824 - final_output_specificity: 0.9971 - out_3_accuracy: 0.9904 - out_3_dice_score: 0.7896 - out_3_precision: 0.9901 - out_3_sensitivity: 0.9897 - out_3_specificity: 0.9967 - out_2_accuracy: 0.9895 - out_2_dice_score: 0.7472 - out_2_precision: 0.9893 - out_2_sensitivity: 0.9886 - out_2_specificity: 0.9964 - out_1_accuracy: 0.9888 - out_1_dice_score: 0.7328 - out_1_precision: 0.9886 - out_1_sensitivity: 0.9880 - out_1_specificity: 0.9962 - val_loss: 5.9882 - val_final_output_loss: 1.4185 - val_out_3_loss: 1.4426 - val_out_2_loss: 1.4771 - val_out_1_loss: 1.5335 - val_final_output_accuracy: 0.9891 - val_final_output_dice_score: 0.7513 - val_final_output_precision: 0.9887 - val_final_output_sensitivity: 0.9826 - val_final_output_specificity: 0.9963 - val_out_3_accuracy: 0.9892 - val_out_3_dice_score: 0.7423 - val_out_3_precision: 0.9880 - val_out_3_sensitivity: 0.9861 - val_out_3_specificity: 0.9960 - val_out_2_accuracy: 0.9883 - val_out_2_dice_score: 0.7158 - val_out_2_precision: 0.9877 - val_out_2_sensitivity: 0.9848 - val_out_2_specificity: 0.9959 - val_out_1_accuracy: 0.9868 - val_out_1_dice_score: 0.6945 - val_out_1_precision: 0.9862 - val_out_1_sensitivity: 0.9833 - val_out_1_specificity: 0.9954\n",
            "Epoch 50/100\n",
            "8/8 [==============================] - 2s 306ms/step - loss: 5.7050 - final_output_loss: 1.3683 - out_3_loss: 1.3701 - out_2_loss: 1.4136 - out_1_loss: 1.4365 - final_output_accuracy: 0.9910 - final_output_dice_score: 0.7653 - final_output_precision: 0.9921 - final_output_sensitivity: 0.9858 - final_output_specificity: 0.9974 - out_3_accuracy: 0.9915 - out_3_dice_score: 0.7710 - out_3_precision: 0.9915 - out_3_sensitivity: 0.9908 - out_3_specificity: 0.9971 - out_2_accuracy: 0.9907 - out_2_dice_score: 0.7377 - out_2_precision: 0.9909 - out_2_sensitivity: 0.9898 - out_2_specificity: 0.9969 - out_1_accuracy: 0.9898 - out_1_dice_score: 0.7250 - out_1_precision: 0.9900 - out_1_sensitivity: 0.9889 - out_1_specificity: 0.9966 - val_loss: 5.9018 - val_final_output_loss: 1.3919 - val_out_3_loss: 1.4016 - val_out_2_loss: 1.4641 - val_out_1_loss: 1.5277 - val_final_output_accuracy: 0.9897 - val_final_output_dice_score: 0.7642 - val_final_output_precision: 0.9905 - val_final_output_sensitivity: 0.9847 - val_final_output_specificity: 0.9969 - val_out_3_accuracy: 0.9890 - val_out_3_dice_score: 0.7655 - val_out_3_precision: 0.9889 - val_out_3_sensitivity: 0.9868 - val_out_3_specificity: 0.9963 - val_out_2_accuracy: 0.9876 - val_out_2_dice_score: 0.7222 - val_out_2_precision: 0.9873 - val_out_2_sensitivity: 0.9845 - val_out_2_specificity: 0.9958 - val_out_1_accuracy: 0.9854 - val_out_1_dice_score: 0.6990 - val_out_1_precision: 0.9850 - val_out_1_sensitivity: 0.9825 - val_out_1_specificity: 0.9950\n",
            "Epoch 51/100\n",
            "8/8 [==============================] - 2s 309ms/step - loss: 5.8399 - final_output_loss: 1.3958 - out_3_loss: 1.4054 - out_2_loss: 1.4478 - out_1_loss: 1.4744 - final_output_accuracy: 0.9896 - final_output_dice_score: 0.7597 - final_output_precision: 0.9906 - final_output_sensitivity: 0.9836 - final_output_specificity: 0.9968 - out_3_accuracy: 0.9899 - out_3_dice_score: 0.7569 - out_3_precision: 0.9898 - out_3_sensitivity: 0.9889 - out_3_specificity: 0.9966 - out_2_accuracy: 0.9892 - out_2_dice_score: 0.7318 - out_2_precision: 0.9893 - out_2_sensitivity: 0.9880 - out_2_specificity: 0.9964 - out_1_accuracy: 0.9879 - out_1_dice_score: 0.7158 - out_1_precision: 0.9880 - out_1_sensitivity: 0.9868 - out_1_specificity: 0.9960 - val_loss: 5.7799 - val_final_output_loss: 1.3738 - val_out_3_loss: 1.3831 - val_out_2_loss: 1.4391 - val_out_1_loss: 1.4674 - val_final_output_accuracy: 0.9893 - val_final_output_dice_score: 0.7764 - val_final_output_precision: 0.9889 - val_final_output_sensitivity: 0.9811 - val_final_output_specificity: 0.9963 - val_out_3_accuracy: 0.9894 - val_out_3_dice_score: 0.7710 - val_out_3_precision: 0.9888 - val_out_3_sensitivity: 0.9871 - val_out_3_specificity: 0.9963 - val_out_2_accuracy: 0.9887 - val_out_2_dice_score: 0.7398 - val_out_2_precision: 0.9882 - val_out_2_sensitivity: 0.9860 - val_out_2_specificity: 0.9961 - val_out_1_accuracy: 0.9875 - val_out_1_dice_score: 0.7258 - val_out_1_precision: 0.9868 - val_out_1_sensitivity: 0.9847 - val_out_1_specificity: 0.9956\n",
            "Epoch 52/100\n",
            "8/8 [==============================] - 2s 311ms/step - loss: 6.0491 - final_output_loss: 1.4500 - out_3_loss: 1.4529 - out_2_loss: 1.5028 - out_1_loss: 1.5269 - final_output_accuracy: 0.9905 - final_output_dice_score: 0.7209 - final_output_precision: 0.9924 - final_output_sensitivity: 0.9829 - final_output_specificity: 0.9975 - out_3_accuracy: 0.9908 - out_3_dice_score: 0.7224 - out_3_precision: 0.9906 - out_3_sensitivity: 0.9899 - out_3_specificity: 0.9969 - out_2_accuracy: 0.9901 - out_2_dice_score: 0.6938 - out_2_precision: 0.9900 - out_2_sensitivity: 0.9892 - out_2_specificity: 0.9966 - out_1_accuracy: 0.9890 - out_1_dice_score: 0.6845 - out_1_precision: 0.9890 - out_1_sensitivity: 0.9882 - out_1_specificity: 0.9963 - val_loss: 6.0486 - val_final_output_loss: 1.4330 - val_out_3_loss: 1.4448 - val_out_2_loss: 1.5015 - val_out_1_loss: 1.5528 - val_final_output_accuracy: 0.9893 - val_final_output_dice_score: 0.7541 - val_final_output_precision: 0.9895 - val_final_output_sensitivity: 0.9847 - val_final_output_specificity: 0.9965 - val_out_3_accuracy: 0.9890 - val_out_3_dice_score: 0.7496 - val_out_3_precision: 0.9881 - val_out_3_sensitivity: 0.9865 - val_out_3_specificity: 0.9960 - val_out_2_accuracy: 0.9881 - val_out_2_dice_score: 0.7172 - val_out_2_precision: 0.9872 - val_out_2_sensitivity: 0.9853 - val_out_2_specificity: 0.9958 - val_out_1_accuracy: 0.9863 - val_out_1_dice_score: 0.6931 - val_out_1_precision: 0.9855 - val_out_1_sensitivity: 0.9833 - val_out_1_specificity: 0.9952\n",
            "Epoch 53/100\n",
            "8/8 [==============================] - 2s 314ms/step - loss: 5.6301 - final_output_loss: 1.3404 - out_3_loss: 1.3522 - out_2_loss: 1.3962 - out_1_loss: 1.4247 - final_output_accuracy: 0.9903 - final_output_dice_score: 0.7799 - final_output_precision: 0.9904 - final_output_sensitivity: 0.9822 - final_output_specificity: 0.9968 - out_3_accuracy: 0.9910 - out_3_dice_score: 0.7783 - out_3_precision: 0.9909 - out_3_sensitivity: 0.9899 - out_3_specificity: 0.9970 - out_2_accuracy: 0.9900 - out_2_dice_score: 0.7498 - out_2_precision: 0.9901 - out_2_sensitivity: 0.9889 - out_2_specificity: 0.9967 - out_1_accuracy: 0.9887 - out_1_dice_score: 0.7319 - out_1_precision: 0.9888 - out_1_sensitivity: 0.9876 - out_1_specificity: 0.9962 - val_loss: 5.8561 - val_final_output_loss: 1.4008 - val_out_3_loss: 1.4121 - val_out_2_loss: 1.4616 - val_out_1_loss: 1.4652 - val_final_output_accuracy: 0.9892 - val_final_output_dice_score: 0.7701 - val_final_output_precision: 0.9886 - val_final_output_sensitivity: 0.9843 - val_final_output_specificity: 0.9962 - val_out_3_accuracy: 0.9894 - val_out_3_dice_score: 0.7661 - val_out_3_precision: 0.9888 - val_out_3_sensitivity: 0.9873 - val_out_3_specificity: 0.9963 - val_out_2_accuracy: 0.9883 - val_out_2_dice_score: 0.7343 - val_out_2_precision: 0.9876 - val_out_2_sensitivity: 0.9859 - val_out_2_specificity: 0.9959 - val_out_1_accuracy: 0.9872 - val_out_1_dice_score: 0.7264 - val_out_1_precision: 0.9866 - val_out_1_sensitivity: 0.9845 - val_out_1_specificity: 0.9956\n",
            "Epoch 54/100\n",
            "8/8 [==============================] - 2s 310ms/step - loss: 5.8679 - final_output_loss: 1.3996 - out_3_loss: 1.4129 - out_2_loss: 1.4566 - out_1_loss: 1.4822 - final_output_accuracy: 0.9883 - final_output_dice_score: 0.7621 - final_output_precision: 0.9901 - final_output_sensitivity: 0.9812 - final_output_specificity: 0.9967 - out_3_accuracy: 0.9887 - out_3_dice_score: 0.7589 - out_3_precision: 0.9886 - out_3_sensitivity: 0.9877 - out_3_specificity: 0.9962 - out_2_accuracy: 0.9876 - out_2_dice_score: 0.7296 - out_2_precision: 0.9876 - out_2_sensitivity: 0.9864 - out_2_specificity: 0.9958 - out_1_accuracy: 0.9861 - out_1_dice_score: 0.7162 - out_1_precision: 0.9862 - out_1_sensitivity: 0.9850 - out_1_specificity: 0.9954 - val_loss: 5.7091 - val_final_output_loss: 1.3558 - val_out_3_loss: 1.3660 - val_out_2_loss: 1.4209 - val_out_1_loss: 1.4500 - val_final_output_accuracy: 0.9894 - val_final_output_dice_score: 0.7847 - val_final_output_precision: 0.9877 - val_final_output_sensitivity: 0.9851 - val_final_output_specificity: 0.9959 - val_out_3_accuracy: 0.9895 - val_out_3_dice_score: 0.7826 - val_out_3_precision: 0.9890 - val_out_3_sensitivity: 0.9875 - val_out_3_specificity: 0.9963 - val_out_2_accuracy: 0.9888 - val_out_2_dice_score: 0.7486 - val_out_2_precision: 0.9880 - val_out_2_sensitivity: 0.9861 - val_out_2_specificity: 0.9960 - val_out_1_accuracy: 0.9876 - val_out_1_dice_score: 0.7327 - val_out_1_precision: 0.9868 - val_out_1_sensitivity: 0.9850 - val_out_1_specificity: 0.9956\n",
            "Epoch 55/100\n",
            "8/8 [==============================] - 2s 311ms/step - loss: 5.9226 - final_output_loss: 1.4299 - out_3_loss: 1.4317 - out_2_loss: 1.4590 - out_1_loss: 1.4855 - final_output_accuracy: 0.9893 - final_output_dice_score: 0.7293 - final_output_precision: 0.9898 - final_output_sensitivity: 0.9822 - final_output_specificity: 0.9966 - out_3_accuracy: 0.9900 - out_3_dice_score: 0.7318 - out_3_precision: 0.9901 - out_3_sensitivity: 0.9891 - out_3_specificity: 0.9967 - out_2_accuracy: 0.9897 - out_2_dice_score: 0.7128 - out_2_precision: 0.9899 - out_2_sensitivity: 0.9887 - out_2_specificity: 0.9966 - out_1_accuracy: 0.9890 - out_1_dice_score: 0.6997 - out_1_precision: 0.9891 - out_1_sensitivity: 0.9880 - out_1_specificity: 0.9964 - val_loss: 6.2022 - val_final_output_loss: 1.4680 - val_out_3_loss: 1.4851 - val_out_2_loss: 1.5664 - val_out_1_loss: 1.5663 - val_final_output_accuracy: 0.9881 - val_final_output_dice_score: 0.7425 - val_final_output_precision: 0.9883 - val_final_output_sensitivity: 0.9843 - val_final_output_specificity: 0.9961 - val_out_3_accuracy: 0.9876 - val_out_3_dice_score: 0.7374 - val_out_3_precision: 0.9865 - val_out_3_sensitivity: 0.9849 - val_out_3_specificity: 0.9955 - val_out_2_accuracy: 0.9859 - val_out_2_dice_score: 0.6900 - val_out_2_precision: 0.9846 - val_out_2_sensitivity: 0.9825 - val_out_2_specificity: 0.9949 - val_out_1_accuracy: 0.9852 - val_out_1_dice_score: 0.6855 - val_out_1_precision: 0.9840 - val_out_1_sensitivity: 0.9819 - val_out_1_specificity: 0.9947\n",
            "Epoch 56/100\n",
            "8/8 [==============================] - 2s 309ms/step - loss: 5.8872 - final_output_loss: 1.4057 - out_3_loss: 1.4255 - out_2_loss: 1.4621 - out_1_loss: 1.4774 - final_output_accuracy: 0.9870 - final_output_dice_score: 0.7571 - final_output_precision: 0.9878 - final_output_sensitivity: 0.9804 - final_output_specificity: 0.9959 - out_3_accuracy: 0.9875 - out_3_dice_score: 0.7495 - out_3_precision: 0.9874 - out_3_sensitivity: 0.9862 - out_3_specificity: 0.9958 - out_2_accuracy: 0.9863 - out_2_dice_score: 0.7233 - out_2_precision: 0.9864 - out_2_sensitivity: 0.9850 - out_2_specificity: 0.9954 - out_1_accuracy: 0.9855 - out_1_dice_score: 0.7149 - out_1_precision: 0.9855 - out_1_sensitivity: 0.9842 - out_1_specificity: 0.9952 - val_loss: 5.7414 - val_final_output_loss: 1.3704 - val_out_3_loss: 1.3788 - val_out_2_loss: 1.4304 - val_out_1_loss: 1.4454 - val_final_output_accuracy: 0.9869 - val_final_output_dice_score: 0.7652 - val_final_output_precision: 0.9841 - val_final_output_sensitivity: 0.9797 - val_final_output_specificity: 0.9947 - val_out_3_accuracy: 0.9878 - val_out_3_dice_score: 0.7641 - val_out_3_precision: 0.9864 - val_out_3_sensitivity: 0.9849 - val_out_3_specificity: 0.9955 - val_out_2_accuracy: 0.9869 - val_out_2_dice_score: 0.7328 - val_out_2_precision: 0.9856 - val_out_2_sensitivity: 0.9839 - val_out_2_specificity: 0.9952 - val_out_1_accuracy: 0.9870 - val_out_1_dice_score: 0.7259 - val_out_1_precision: 0.9855 - val_out_1_sensitivity: 0.9838 - val_out_1_specificity: 0.9952\n",
            "Epoch 57/100\n",
            "8/8 [==============================] - 2s 310ms/step - loss: 5.7324 - final_output_loss: 1.3711 - out_3_loss: 1.3771 - out_2_loss: 1.4212 - out_1_loss: 1.4466 - final_output_accuracy: 0.9910 - final_output_dice_score: 0.7594 - final_output_precision: 0.9917 - final_output_sensitivity: 0.9860 - final_output_specificity: 0.9972 - out_3_accuracy: 0.9912 - out_3_dice_score: 0.7609 - out_3_precision: 0.9911 - out_3_sensitivity: 0.9905 - out_3_specificity: 0.9970 - out_2_accuracy: 0.9902 - out_2_dice_score: 0.7318 - out_2_precision: 0.9902 - out_2_sensitivity: 0.9894 - out_2_specificity: 0.9967 - out_1_accuracy: 0.9894 - out_1_dice_score: 0.7194 - out_1_precision: 0.9894 - out_1_sensitivity: 0.9887 - out_1_specificity: 0.9965 - val_loss: 6.2386 - val_final_output_loss: 1.4732 - val_out_3_loss: 1.4934 - val_out_2_loss: 1.5579 - val_out_1_loss: 1.5978 - val_final_output_accuracy: 0.9889 - val_final_output_dice_score: 0.7427 - val_final_output_precision: 0.9880 - val_final_output_sensitivity: 0.9841 - val_final_output_specificity: 0.9960 - val_out_3_accuracy: 0.9888 - val_out_3_dice_score: 0.7354 - val_out_3_precision: 0.9869 - val_out_3_sensitivity: 0.9856 - val_out_3_specificity: 0.9957 - val_out_2_accuracy: 0.9875 - val_out_2_dice_score: 0.6947 - val_out_2_precision: 0.9856 - val_out_2_sensitivity: 0.9837 - val_out_2_specificity: 0.9952 - val_out_1_accuracy: 0.9857 - val_out_1_dice_score: 0.6792 - val_out_1_precision: 0.9842 - val_out_1_sensitivity: 0.9821 - val_out_1_specificity: 0.9948\n",
            "Epoch 58/100\n",
            "8/8 [==============================] - 2s 306ms/step - loss: 5.6992 - final_output_loss: 1.3578 - out_3_loss: 1.3607 - out_2_loss: 1.4135 - out_1_loss: 1.4508 - final_output_accuracy: 0.9904 - final_output_dice_score: 0.7761 - final_output_precision: 0.9913 - final_output_sensitivity: 0.9853 - final_output_specificity: 0.9971 - out_3_accuracy: 0.9912 - out_3_dice_score: 0.7792 - out_3_precision: 0.9912 - out_3_sensitivity: 0.9904 - out_3_specificity: 0.9971 - out_2_accuracy: 0.9903 - out_2_dice_score: 0.7457 - out_2_precision: 0.9904 - out_2_sensitivity: 0.9894 - out_2_specificity: 0.9968 - out_1_accuracy: 0.9893 - out_1_dice_score: 0.7230 - out_1_precision: 0.9895 - out_1_sensitivity: 0.9884 - out_1_specificity: 0.9965 - val_loss: 5.9848 - val_final_output_loss: 1.4113 - val_out_3_loss: 1.4176 - val_out_2_loss: 1.5029 - val_out_1_loss: 1.5366 - val_final_output_accuracy: 0.9879 - val_final_output_dice_score: 0.7472 - val_final_output_precision: 0.9862 - val_final_output_sensitivity: 0.9814 - val_final_output_specificity: 0.9954 - val_out_3_accuracy: 0.9883 - val_out_3_dice_score: 0.7463 - val_out_3_precision: 0.9873 - val_out_3_sensitivity: 0.9856 - val_out_3_specificity: 0.9958 - val_out_2_accuracy: 0.9863 - val_out_2_dice_score: 0.7025 - val_out_2_precision: 0.9862 - val_out_2_sensitivity: 0.9838 - val_out_2_specificity: 0.9954 - val_out_1_accuracy: 0.9850 - val_out_1_dice_score: 0.6851 - val_out_1_precision: 0.9850 - val_out_1_sensitivity: 0.9828 - val_out_1_specificity: 0.9950\n",
            "Epoch 59/100\n",
            "8/8 [==============================] - 2s 310ms/step - loss: 5.9358 - final_output_loss: 1.4156 - out_3_loss: 1.4298 - out_2_loss: 1.4763 - out_1_loss: 1.4977 - final_output_accuracy: 0.9876 - final_output_dice_score: 0.7495 - final_output_precision: 0.9877 - final_output_sensitivity: 0.9818 - final_output_specificity: 0.9959 - out_3_accuracy: 0.9878 - out_3_dice_score: 0.7479 - out_3_precision: 0.9879 - out_3_sensitivity: 0.9864 - out_3_specificity: 0.9959 - out_2_accuracy: 0.9864 - out_2_dice_score: 0.7179 - out_2_precision: 0.9867 - out_2_sensitivity: 0.9849 - out_2_specificity: 0.9955 - out_1_accuracy: 0.9853 - out_1_dice_score: 0.7067 - out_1_precision: 0.9855 - out_1_sensitivity: 0.9838 - out_1_specificity: 0.9952 - val_loss: 5.7176 - val_final_output_loss: 1.3537 - val_out_3_loss: 1.3600 - val_out_2_loss: 1.4242 - val_out_1_loss: 1.4633 - val_final_output_accuracy: 0.9894 - val_final_output_dice_score: 0.7863 - val_final_output_precision: 0.9862 - val_final_output_sensitivity: 0.9852 - val_final_output_specificity: 0.9954 - val_out_3_accuracy: 0.9897 - val_out_3_dice_score: 0.7865 - val_out_3_precision: 0.9888 - val_out_3_sensitivity: 0.9876 - val_out_3_specificity: 0.9963 - val_out_2_accuracy: 0.9885 - val_out_2_dice_score: 0.7423 - val_out_2_precision: 0.9873 - val_out_2_sensitivity: 0.9856 - val_out_2_specificity: 0.9958 - val_out_1_accuracy: 0.9872 - val_out_1_dice_score: 0.7291 - val_out_1_precision: 0.9858 - val_out_1_sensitivity: 0.9844 - val_out_1_specificity: 0.9953\n",
            "Epoch 60/100\n",
            "8/8 [==============================] - 2s 312ms/step - loss: 5.5776 - final_output_loss: 1.3275 - out_3_loss: 1.3343 - out_2_loss: 1.3860 - out_1_loss: 1.4133 - final_output_accuracy: 0.9896 - final_output_dice_score: 0.7890 - final_output_precision: 0.9889 - final_output_sensitivity: 0.9853 - final_output_specificity: 0.9963 - out_3_accuracy: 0.9907 - out_3_dice_score: 0.7898 - out_3_precision: 0.9905 - out_3_sensitivity: 0.9898 - out_3_specificity: 0.9968 - out_2_accuracy: 0.9896 - out_2_dice_score: 0.7564 - out_2_precision: 0.9896 - out_2_sensitivity: 0.9886 - out_2_specificity: 0.9965 - out_1_accuracy: 0.9884 - out_1_dice_score: 0.7432 - out_1_precision: 0.9884 - out_1_sensitivity: 0.9875 - out_1_specificity: 0.9961 - val_loss: 5.8594 - val_final_output_loss: 1.3772 - val_out_3_loss: 1.3860 - val_out_2_loss: 1.4444 - val_out_1_loss: 1.5354 - val_final_output_accuracy: 0.9900 - val_final_output_dice_score: 0.7826 - val_final_output_precision: 0.9877 - val_final_output_sensitivity: 0.9868 - val_final_output_specificity: 0.9959 - val_out_3_accuracy: 0.9899 - val_out_3_dice_score: 0.7809 - val_out_3_precision: 0.9889 - val_out_3_sensitivity: 0.9876 - val_out_3_specificity: 0.9963 - val_out_2_accuracy: 0.9885 - val_out_2_dice_score: 0.7466 - val_out_2_precision: 0.9876 - val_out_2_sensitivity: 0.9858 - val_out_2_specificity: 0.9959 - val_out_1_accuracy: 0.9862 - val_out_1_dice_score: 0.7126 - val_out_1_precision: 0.9851 - val_out_1_sensitivity: 0.9836 - val_out_1_specificity: 0.9951\n",
            "Epoch 61/100\n",
            "8/8 [==============================] - 2s 313ms/step - loss: 5.5141 - final_output_loss: 1.3065 - out_3_loss: 1.3156 - out_2_loss: 1.3739 - out_1_loss: 1.4016 - final_output_accuracy: 0.9922 - final_output_dice_score: 0.8053 - final_output_precision: 0.9924 - final_output_sensitivity: 0.9885 - final_output_specificity: 0.9974 - out_3_accuracy: 0.9921 - out_3_dice_score: 0.8051 - out_3_precision: 0.9919 - out_3_sensitivity: 0.9912 - out_3_specificity: 0.9973 - out_2_accuracy: 0.9909 - out_2_dice_score: 0.7693 - out_2_precision: 0.9909 - out_2_sensitivity: 0.9900 - out_2_specificity: 0.9969 - out_1_accuracy: 0.9900 - out_1_dice_score: 0.7536 - out_1_precision: 0.9899 - out_1_sensitivity: 0.9890 - out_1_specificity: 0.9966 - val_loss: 5.6174 - val_final_output_loss: 1.3395 - val_out_3_loss: 1.3404 - val_out_2_loss: 1.3964 - val_out_1_loss: 1.4248 - val_final_output_accuracy: 0.9908 - val_final_output_dice_score: 0.7965 - val_final_output_precision: 0.9897 - val_final_output_sensitivity: 0.9857 - val_final_output_specificity: 0.9966 - val_out_3_accuracy: 0.9908 - val_out_3_dice_score: 0.7983 - val_out_3_precision: 0.9898 - val_out_3_sensitivity: 0.9886 - val_out_3_specificity: 0.9966 - val_out_2_accuracy: 0.9895 - val_out_2_dice_score: 0.7665 - val_out_2_precision: 0.9888 - val_out_2_sensitivity: 0.9871 - val_out_2_specificity: 0.9963 - val_out_1_accuracy: 0.9882 - val_out_1_dice_score: 0.7503 - val_out_1_precision: 0.9874 - val_out_1_sensitivity: 0.9858 - val_out_1_specificity: 0.9958\n",
            "Epoch 62/100\n",
            "8/8 [==============================] - 2s 311ms/step - loss: 5.5871 - final_output_loss: 1.3344 - out_3_loss: 1.3353 - out_2_loss: 1.3852 - out_1_loss: 1.4159 - final_output_accuracy: 0.9889 - final_output_dice_score: 0.7985 - final_output_precision: 0.9906 - final_output_sensitivity: 0.9817 - final_output_specificity: 0.9969 - out_3_accuracy: 0.9891 - out_3_dice_score: 0.7970 - out_3_precision: 0.9889 - out_3_sensitivity: 0.9882 - out_3_specificity: 0.9963 - out_2_accuracy: 0.9879 - out_2_dice_score: 0.7647 - out_2_precision: 0.9876 - out_2_sensitivity: 0.9869 - out_2_specificity: 0.9959 - out_1_accuracy: 0.9875 - out_1_dice_score: 0.7481 - out_1_precision: 0.9874 - out_1_sensitivity: 0.9865 - out_1_specificity: 0.9958 - val_loss: 5.7756 - val_final_output_loss: 1.3816 - val_out_3_loss: 1.3925 - val_out_2_loss: 1.4279 - val_out_1_loss: 1.4572 - val_final_output_accuracy: 0.9854 - val_final_output_dice_score: 0.7676 - val_final_output_precision: 0.9851 - val_final_output_sensitivity: 0.9735 - val_final_output_specificity: 0.9951 - val_out_3_accuracy: 0.9870 - val_out_3_dice_score: 0.7631 - val_out_3_precision: 0.9860 - val_out_3_sensitivity: 0.9847 - val_out_3_specificity: 0.9953 - val_out_2_accuracy: 0.9875 - val_out_2_dice_score: 0.7452 - val_out_2_precision: 0.9866 - val_out_2_sensitivity: 0.9850 - val_out_2_specificity: 0.9955 - val_out_1_accuracy: 0.9875 - val_out_1_dice_score: 0.7353 - val_out_1_precision: 0.9863 - val_out_1_sensitivity: 0.9847 - val_out_1_specificity: 0.9954\n",
            "Epoch 63/100\n",
            "8/8 [==============================] - 2s 313ms/step - loss: 5.4161 - final_output_loss: 1.2890 - out_3_loss: 1.2922 - out_2_loss: 1.3437 - out_1_loss: 1.3748 - final_output_accuracy: 0.9917 - final_output_dice_score: 0.8126 - final_output_precision: 0.9928 - final_output_sensitivity: 0.9863 - final_output_specificity: 0.9976 - out_3_accuracy: 0.9920 - out_3_dice_score: 0.8157 - out_3_precision: 0.9918 - out_3_sensitivity: 0.9914 - out_3_specificity: 0.9973 - out_2_accuracy: 0.9911 - out_2_dice_score: 0.7842 - out_2_precision: 0.9910 - out_2_sensitivity: 0.9904 - out_2_specificity: 0.9970 - out_1_accuracy: 0.9904 - out_1_dice_score: 0.7685 - out_1_precision: 0.9903 - out_1_sensitivity: 0.9898 - out_1_specificity: 0.9968 - val_loss: 5.7484 - val_final_output_loss: 1.3482 - val_out_3_loss: 1.3667 - val_out_2_loss: 1.4326 - val_out_1_loss: 1.4845 - val_final_output_accuracy: 0.9902 - val_final_output_dice_score: 0.7886 - val_final_output_precision: 0.9910 - val_final_output_sensitivity: 0.9844 - val_final_output_specificity: 0.9970 - val_out_3_accuracy: 0.9897 - val_out_3_dice_score: 0.7862 - val_out_3_precision: 0.9892 - val_out_3_sensitivity: 0.9877 - val_out_3_specificity: 0.9964 - val_out_2_accuracy: 0.9880 - val_out_2_dice_score: 0.7504 - val_out_2_precision: 0.9876 - val_out_2_sensitivity: 0.9856 - val_out_2_specificity: 0.9959 - val_out_1_accuracy: 0.9864 - val_out_1_dice_score: 0.7306 - val_out_1_precision: 0.9858 - val_out_1_sensitivity: 0.9840 - val_out_1_specificity: 0.9953\n",
            "Epoch 64/100\n",
            "8/8 [==============================] - 2s 311ms/step - loss: 5.5709 - final_output_loss: 1.3235 - out_3_loss: 1.3355 - out_2_loss: 1.3849 - out_1_loss: 1.4107 - final_output_accuracy: 0.9904 - final_output_dice_score: 0.8032 - final_output_precision: 0.9914 - final_output_sensitivity: 0.9852 - final_output_specificity: 0.9971 - out_3_accuracy: 0.9906 - out_3_dice_score: 0.8032 - out_3_precision: 0.9904 - out_3_sensitivity: 0.9895 - out_3_specificity: 0.9968 - out_2_accuracy: 0.9893 - out_2_dice_score: 0.7719 - out_2_precision: 0.9892 - out_2_sensitivity: 0.9881 - out_2_specificity: 0.9964 - out_1_accuracy: 0.9879 - out_1_dice_score: 0.7556 - out_1_precision: 0.9879 - out_1_sensitivity: 0.9867 - out_1_specificity: 0.9959 - val_loss: 5.6651 - val_final_output_loss: 1.3502 - val_out_3_loss: 1.3598 - val_out_2_loss: 1.4004 - val_out_1_loss: 1.4383 - val_final_output_accuracy: 0.9881 - val_final_output_dice_score: 0.7878 - val_final_output_precision: 0.9882 - val_final_output_sensitivity: 0.9790 - val_final_output_specificity: 0.9961 - val_out_3_accuracy: 0.9888 - val_out_3_dice_score: 0.7827 - val_out_3_precision: 0.9882 - val_out_3_sensitivity: 0.9868 - val_out_3_specificity: 0.9961 - val_out_2_accuracy: 0.9889 - val_out_2_dice_score: 0.7587 - val_out_2_precision: 0.9883 - val_out_2_sensitivity: 0.9863 - val_out_2_specificity: 0.9961 - val_out_1_accuracy: 0.9868 - val_out_1_dice_score: 0.7316 - val_out_1_precision: 0.9860 - val_out_1_sensitivity: 0.9841 - val_out_1_specificity: 0.9953\n",
            "Epoch 65/100\n",
            "8/8 [==============================] - 2s 310ms/step - loss: 5.8466 - final_output_loss: 1.4048 - out_3_loss: 1.4048 - out_2_loss: 1.4424 - out_1_loss: 1.4784 - final_output_accuracy: 0.9903 - final_output_dice_score: 0.7428 - final_output_precision: 0.9916 - final_output_sensitivity: 0.9833 - final_output_specificity: 0.9972 - out_3_accuracy: 0.9910 - out_3_dice_score: 0.7453 - out_3_precision: 0.9908 - out_3_sensitivity: 0.9902 - out_3_specificity: 0.9969 - out_2_accuracy: 0.9904 - out_2_dice_score: 0.7203 - out_2_precision: 0.9903 - out_2_sensitivity: 0.9895 - out_2_specificity: 0.9968 - out_1_accuracy: 0.9889 - out_1_dice_score: 0.6974 - out_1_precision: 0.9889 - out_1_sensitivity: 0.9880 - out_1_specificity: 0.9963 - val_loss: 5.9598 - val_final_output_loss: 1.3962 - val_out_3_loss: 1.4052 - val_out_2_loss: 1.4682 - val_out_1_loss: 1.5739 - val_final_output_accuracy: 0.9903 - val_final_output_dice_score: 0.7860 - val_final_output_precision: 0.9914 - val_final_output_sensitivity: 0.9860 - val_final_output_specificity: 0.9972 - val_out_3_accuracy: 0.9899 - val_out_3_dice_score: 0.7845 - val_out_3_precision: 0.9892 - val_out_3_sensitivity: 0.9879 - val_out_3_specificity: 0.9964 - val_out_2_accuracy: 0.9884 - val_out_2_dice_score: 0.7513 - val_out_2_precision: 0.9880 - val_out_2_sensitivity: 0.9862 - val_out_2_specificity: 0.9960 - val_out_1_accuracy: 0.9854 - val_out_1_dice_score: 0.7103 - val_out_1_precision: 0.9850 - val_out_1_sensitivity: 0.9831 - val_out_1_specificity: 0.9950\n",
            "Epoch 66/100\n",
            "8/8 [==============================] - 2s 304ms/step - loss: 5.9307 - final_output_loss: 1.4154 - out_3_loss: 1.4256 - out_2_loss: 1.4668 - out_1_loss: 1.5066 - final_output_accuracy: 0.9906 - final_output_dice_score: 0.7328 - final_output_precision: 0.9914 - final_output_sensitivity: 0.9842 - final_output_specificity: 0.9971 - out_3_accuracy: 0.9909 - out_3_dice_score: 0.7295 - out_3_precision: 0.9906 - out_3_sensitivity: 0.9897 - out_3_specificity: 0.9968 - out_2_accuracy: 0.9900 - out_2_dice_score: 0.7031 - out_2_precision: 0.9898 - out_2_sensitivity: 0.9887 - out_2_specificity: 0.9966 - out_1_accuracy: 0.9892 - out_1_dice_score: 0.6839 - out_1_precision: 0.9892 - out_1_sensitivity: 0.9881 - out_1_specificity: 0.9964 - val_loss: 5.7149 - val_final_output_loss: 1.3524 - val_out_3_loss: 1.3710 - val_out_2_loss: 1.4192 - val_out_1_loss: 1.4561 - val_final_output_accuracy: 0.9889 - val_final_output_dice_score: 0.7846 - val_final_output_precision: 0.9876 - val_final_output_sensitivity: 0.9809 - val_final_output_specificity: 0.9959 - val_out_3_accuracy: 0.9892 - val_out_3_dice_score: 0.7766 - val_out_3_precision: 0.9882 - val_out_3_sensitivity: 0.9866 - val_out_3_specificity: 0.9961 - val_out_2_accuracy: 0.9888 - val_out_2_dice_score: 0.7529 - val_out_2_precision: 0.9879 - val_out_2_sensitivity: 0.9860 - val_out_2_specificity: 0.9960 - val_out_1_accuracy: 0.9875 - val_out_1_dice_score: 0.7345 - val_out_1_precision: 0.9866 - val_out_1_sensitivity: 0.9847 - val_out_1_specificity: 0.9955\n",
            "Epoch 67/100\n",
            "8/8 [==============================] - 2s 312ms/step - loss: 5.5199 - final_output_loss: 1.3134 - out_3_loss: 1.3193 - out_2_loss: 1.3727 - out_1_loss: 1.3984 - final_output_accuracy: 0.9915 - final_output_dice_score: 0.8034 - final_output_precision: 0.9915 - final_output_sensitivity: 0.9868 - final_output_specificity: 0.9971 - out_3_accuracy: 0.9918 - out_3_dice_score: 0.8043 - out_3_precision: 0.9916 - out_3_sensitivity: 0.9909 - out_3_specificity: 0.9972 - out_2_accuracy: 0.9909 - out_2_dice_score: 0.7704 - out_2_precision: 0.9908 - out_2_sensitivity: 0.9899 - out_2_specificity: 0.9969 - out_1_accuracy: 0.9896 - out_1_dice_score: 0.7541 - out_1_precision: 0.9896 - out_1_sensitivity: 0.9886 - out_1_specificity: 0.9965 - val_loss: 5.7604 - val_final_output_loss: 1.3716 - val_out_3_loss: 1.3760 - val_out_2_loss: 1.4239 - val_out_1_loss: 1.4727 - val_final_output_accuracy: 0.9900 - val_final_output_dice_score: 0.7947 - val_final_output_precision: 0.9896 - val_final_output_sensitivity: 0.9855 - val_final_output_specificity: 0.9965 - val_out_3_accuracy: 0.9900 - val_out_3_dice_score: 0.7948 - val_out_3_precision: 0.9895 - val_out_3_sensitivity: 0.9885 - val_out_3_specificity: 0.9965 - val_out_2_accuracy: 0.9891 - val_out_2_dice_score: 0.7651 - val_out_2_precision: 0.9886 - val_out_2_sensitivity: 0.9873 - val_out_2_specificity: 0.9962 - val_out_1_accuracy: 0.9875 - val_out_1_dice_score: 0.7439 - val_out_1_precision: 0.9869 - val_out_1_sensitivity: 0.9856 - val_out_1_specificity: 0.9957\n",
            "Epoch 68/100\n",
            "8/8 [==============================] - 2s 312ms/step - loss: 5.7930 - final_output_loss: 1.3860 - out_3_loss: 1.3908 - out_2_loss: 1.4399 - out_1_loss: 1.4601 - final_output_accuracy: 0.9898 - final_output_dice_score: 0.7715 - final_output_precision: 0.9905 - final_output_sensitivity: 0.9845 - final_output_specificity: 0.9968 - out_3_accuracy: 0.9905 - out_3_dice_score: 0.7738 - out_3_precision: 0.9903 - out_3_sensitivity: 0.9898 - out_3_specificity: 0.9968 - out_2_accuracy: 0.9894 - out_2_dice_score: 0.7397 - out_2_precision: 0.9893 - out_2_sensitivity: 0.9886 - out_2_specificity: 0.9964 - out_1_accuracy: 0.9886 - out_1_dice_score: 0.7280 - out_1_precision: 0.9885 - out_1_sensitivity: 0.9878 - out_1_specificity: 0.9962 - val_loss: 5.7317 - val_final_output_loss: 1.3661 - val_out_3_loss: 1.3693 - val_out_2_loss: 1.4284 - val_out_1_loss: 1.4517 - val_final_output_accuracy: 0.9890 - val_final_output_dice_score: 0.7741 - val_final_output_precision: 0.9868 - val_final_output_sensitivity: 0.9824 - val_final_output_specificity: 0.9956 - val_out_3_accuracy: 0.9895 - val_out_3_dice_score: 0.7765 - val_out_3_precision: 0.9888 - val_out_3_sensitivity: 0.9873 - val_out_3_specificity: 0.9963 - val_out_2_accuracy: 0.9882 - val_out_2_dice_score: 0.7451 - val_out_2_precision: 0.9876 - val_out_2_sensitivity: 0.9859 - val_out_2_specificity: 0.9959 - val_out_1_accuracy: 0.9873 - val_out_1_dice_score: 0.7380 - val_out_1_precision: 0.9868 - val_out_1_sensitivity: 0.9850 - val_out_1_specificity: 0.9956\n",
            "Epoch 69/100\n",
            "8/8 [==============================] - 2s 310ms/step - loss: 5.5155 - final_output_loss: 1.3132 - out_3_loss: 1.3194 - out_2_loss: 1.3698 - out_1_loss: 1.3968 - final_output_accuracy: 0.9909 - final_output_dice_score: 0.8087 - final_output_precision: 0.9919 - final_output_sensitivity: 0.9850 - final_output_specificity: 0.9973 - out_3_accuracy: 0.9910 - out_3_dice_score: 0.8115 - out_3_precision: 0.9906 - out_3_sensitivity: 0.9899 - out_3_specificity: 0.9968 - out_2_accuracy: 0.9898 - out_2_dice_score: 0.7792 - out_2_precision: 0.9895 - out_2_sensitivity: 0.9887 - out_2_specificity: 0.9965 - out_1_accuracy: 0.9886 - out_1_dice_score: 0.7630 - out_1_precision: 0.9884 - out_1_sensitivity: 0.9875 - out_1_specificity: 0.9961 - val_loss: 5.8267 - val_final_output_loss: 1.3826 - val_out_3_loss: 1.3901 - val_out_2_loss: 1.4396 - val_out_1_loss: 1.4981 - val_final_output_accuracy: 0.9899 - val_final_output_dice_score: 0.7854 - val_final_output_precision: 0.9889 - val_final_output_sensitivity: 0.9851 - val_final_output_specificity: 0.9963 - val_out_3_accuracy: 0.9900 - val_out_3_dice_score: 0.7834 - val_out_3_precision: 0.9888 - val_out_3_sensitivity: 0.9878 - val_out_3_specificity: 0.9963 - val_out_2_accuracy: 0.9891 - val_out_2_dice_score: 0.7546 - val_out_2_precision: 0.9878 - val_out_2_sensitivity: 0.9864 - val_out_2_specificity: 0.9959 - val_out_1_accuracy: 0.9873 - val_out_1_dice_score: 0.7319 - val_out_1_precision: 0.9859 - val_out_1_sensitivity: 0.9845 - val_out_1_specificity: 0.9953\n",
            "Epoch 70/100\n",
            "8/8 [==============================] - 2s 310ms/step - loss: 5.9248 - final_output_loss: 1.4304 - out_3_loss: 1.4363 - out_2_loss: 1.4594 - out_1_loss: 1.4826 - final_output_accuracy: 0.9899 - final_output_dice_score: 0.7311 - final_output_precision: 0.9913 - final_output_sensitivity: 0.9828 - final_output_specificity: 0.9971 - out_3_accuracy: 0.9902 - out_3_dice_score: 0.7298 - out_3_precision: 0.9900 - out_3_sensitivity: 0.9893 - out_3_specificity: 0.9967 - out_2_accuracy: 0.9898 - out_2_dice_score: 0.7182 - out_2_precision: 0.9897 - out_2_sensitivity: 0.9888 - out_2_specificity: 0.9965 - out_1_accuracy: 0.9887 - out_1_dice_score: 0.7038 - out_1_precision: 0.9886 - out_1_sensitivity: 0.9878 - out_1_specificity: 0.9962 - val_loss: 5.6891 - val_final_output_loss: 1.3471 - val_out_3_loss: 1.3537 - val_out_2_loss: 1.4093 - val_out_1_loss: 1.4628 - val_final_output_accuracy: 0.9906 - val_final_output_dice_score: 0.8048 - val_final_output_precision: 0.9896 - val_final_output_sensitivity: 0.9869 - val_final_output_specificity: 0.9966 - val_out_3_accuracy: 0.9906 - val_out_3_dice_score: 0.8029 - val_out_3_precision: 0.9896 - val_out_3_sensitivity: 0.9888 - val_out_3_specificity: 0.9966 - val_out_2_accuracy: 0.9895 - val_out_2_dice_score: 0.7705 - val_out_2_precision: 0.9884 - val_out_2_sensitivity: 0.9871 - val_out_2_specificity: 0.9962 - val_out_1_accuracy: 0.9879 - val_out_1_dice_score: 0.7505 - val_out_1_precision: 0.9866 - val_out_1_sensitivity: 0.9853 - val_out_1_specificity: 0.9955\n",
            "Epoch 71/100\n",
            "8/8 [==============================] - 2s 311ms/step - loss: 5.6436 - final_output_loss: 1.3556 - out_3_loss: 1.3565 - out_2_loss: 1.3923 - out_1_loss: 1.4230 - final_output_accuracy: 0.9915 - final_output_dice_score: 0.7705 - final_output_precision: 0.9921 - final_output_sensitivity: 0.9852 - final_output_specificity: 0.9973 - out_3_accuracy: 0.9921 - out_3_dice_score: 0.7737 - out_3_precision: 0.9920 - out_3_sensitivity: 0.9913 - out_3_specificity: 0.9973 - out_2_accuracy: 0.9914 - out_2_dice_score: 0.7491 - out_2_precision: 0.9913 - out_2_sensitivity: 0.9905 - out_2_specificity: 0.9971 - out_1_accuracy: 0.9904 - out_1_dice_score: 0.7320 - out_1_precision: 0.9903 - out_1_sensitivity: 0.9896 - out_1_specificity: 0.9968 - val_loss: 5.7529 - val_final_output_loss: 1.3649 - val_out_3_loss: 1.3779 - val_out_2_loss: 1.4335 - val_out_1_loss: 1.4604 - val_final_output_accuracy: 0.9900 - val_final_output_dice_score: 0.7825 - val_final_output_precision: 0.9895 - val_final_output_sensitivity: 0.9852 - val_final_output_specificity: 0.9965 - val_out_3_accuracy: 0.9897 - val_out_3_dice_score: 0.7808 - val_out_3_precision: 0.9888 - val_out_3_sensitivity: 0.9875 - val_out_3_specificity: 0.9963 - val_out_2_accuracy: 0.9884 - val_out_2_dice_score: 0.7503 - val_out_2_precision: 0.9879 - val_out_2_sensitivity: 0.9860 - val_out_2_specificity: 0.9960 - val_out_1_accuracy: 0.9876 - val_out_1_dice_score: 0.7420 - val_out_1_precision: 0.9869 - val_out_1_sensitivity: 0.9854 - val_out_1_specificity: 0.9957\n",
            "Epoch 72/100\n",
            "8/8 [==============================] - 2s 311ms/step - loss: 5.9958 - final_output_loss: 1.4417 - out_3_loss: 1.4473 - out_2_loss: 1.4784 - out_1_loss: 1.5123 - final_output_accuracy: 0.9890 - final_output_dice_score: 0.7378 - final_output_precision: 0.9898 - final_output_sensitivity: 0.9834 - final_output_specificity: 0.9966 - out_3_accuracy: 0.9894 - out_3_dice_score: 0.7393 - out_3_precision: 0.9894 - out_3_sensitivity: 0.9884 - out_3_specificity: 0.9964 - out_2_accuracy: 0.9885 - out_2_dice_score: 0.7182 - out_2_precision: 0.9886 - out_2_sensitivity: 0.9874 - out_2_specificity: 0.9962 - out_1_accuracy: 0.9872 - out_1_dice_score: 0.7015 - out_1_precision: 0.9873 - out_1_sensitivity: 0.9862 - out_1_specificity: 0.9958 - val_loss: 5.8275 - val_final_output_loss: 1.3796 - val_out_3_loss: 1.4010 - val_out_2_loss: 1.4415 - val_out_1_loss: 1.4892 - val_final_output_accuracy: 0.9904 - val_final_output_dice_score: 0.7871 - val_final_output_precision: 0.9898 - val_final_output_sensitivity: 0.9862 - val_final_output_specificity: 0.9966 - val_out_3_accuracy: 0.9902 - val_out_3_dice_score: 0.7799 - val_out_3_precision: 0.9889 - val_out_3_sensitivity: 0.9877 - val_out_3_specificity: 0.9963 - val_out_2_accuracy: 0.9891 - val_out_2_dice_score: 0.7541 - val_out_2_precision: 0.9881 - val_out_2_sensitivity: 0.9865 - val_out_2_specificity: 0.9960 - val_out_1_accuracy: 0.9878 - val_out_1_dice_score: 0.7365 - val_out_1_precision: 0.9864 - val_out_1_sensitivity: 0.9852 - val_out_1_specificity: 0.9955\n",
            "Epoch 73/100\n",
            "8/8 [==============================] - 2s 311ms/step - loss: 5.6121 - final_output_loss: 1.3338 - out_3_loss: 1.3510 - out_2_loss: 1.3900 - out_1_loss: 1.4211 - final_output_accuracy: 0.9907 - final_output_dice_score: 0.7900 - final_output_precision: 0.9908 - final_output_sensitivity: 0.9858 - final_output_specificity: 0.9969 - out_3_accuracy: 0.9912 - out_3_dice_score: 0.7862 - out_3_precision: 0.9909 - out_3_sensitivity: 0.9904 - out_3_specificity: 0.9970 - out_2_accuracy: 0.9904 - out_2_dice_score: 0.7608 - out_2_precision: 0.9902 - out_2_sensitivity: 0.9895 - out_2_specificity: 0.9967 - out_1_accuracy: 0.9896 - out_1_dice_score: 0.7422 - out_1_precision: 0.9895 - out_1_sensitivity: 0.9888 - out_1_specificity: 0.9965 - val_loss: 5.6169 - val_final_output_loss: 1.3359 - val_out_3_loss: 1.3468 - val_out_2_loss: 1.3945 - val_out_1_loss: 1.4235 - val_final_output_accuracy: 0.9898 - val_final_output_dice_score: 0.7945 - val_final_output_precision: 0.9877 - val_final_output_sensitivity: 0.9835 - val_final_output_specificity: 0.9959 - val_out_3_accuracy: 0.9903 - val_out_3_dice_score: 0.7940 - val_out_3_precision: 0.9896 - val_out_3_sensitivity: 0.9883 - val_out_3_specificity: 0.9965 - val_out_2_accuracy: 0.9892 - val_out_2_dice_score: 0.7657 - val_out_2_precision: 0.9888 - val_out_2_sensitivity: 0.9872 - val_out_2_specificity: 0.9963 - val_out_1_accuracy: 0.9882 - val_out_1_dice_score: 0.7527 - val_out_1_precision: 0.9875 - val_out_1_sensitivity: 0.9860 - val_out_1_specificity: 0.9959\n",
            "Epoch 74/100\n",
            "8/8 [==============================] - 2s 309ms/step - loss: 5.6551 - final_output_loss: 1.3567 - out_3_loss: 1.3636 - out_2_loss: 1.3970 - out_1_loss: 1.4217 - final_output_accuracy: 0.9897 - final_output_dice_score: 0.7702 - final_output_precision: 0.9898 - final_output_sensitivity: 0.9843 - final_output_specificity: 0.9966 - out_3_accuracy: 0.9902 - out_3_dice_score: 0.7704 - out_3_precision: 0.9902 - out_3_sensitivity: 0.9892 - out_3_specificity: 0.9967 - out_2_accuracy: 0.9894 - out_2_dice_score: 0.7494 - out_2_precision: 0.9894 - out_2_sensitivity: 0.9883 - out_2_specificity: 0.9965 - out_1_accuracy: 0.9885 - out_1_dice_score: 0.7357 - out_1_precision: 0.9886 - out_1_sensitivity: 0.9876 - out_1_specificity: 0.9962 - val_loss: 5.6898 - val_final_output_loss: 1.3540 - val_out_3_loss: 1.3578 - val_out_2_loss: 1.4120 - val_out_1_loss: 1.4499 - val_final_output_accuracy: 0.9898 - val_final_output_dice_score: 0.8023 - val_final_output_precision: 0.9903 - val_final_output_sensitivity: 0.9869 - val_final_output_specificity: 0.9968 - val_out_3_accuracy: 0.9896 - val_out_3_dice_score: 0.8028 - val_out_3_precision: 0.9894 - val_out_3_sensitivity: 0.9883 - val_out_3_specificity: 0.9965 - val_out_2_accuracy: 0.9882 - val_out_2_dice_score: 0.7698 - val_out_2_precision: 0.9881 - val_out_2_sensitivity: 0.9868 - val_out_2_specificity: 0.9960 - val_out_1_accuracy: 0.9869 - val_out_1_dice_score: 0.7540 - val_out_1_precision: 0.9864 - val_out_1_sensitivity: 0.9853 - val_out_1_specificity: 0.9955\n",
            "Epoch 75/100\n",
            "8/8 [==============================] - 2s 306ms/step - loss: 5.7372 - final_output_loss: 1.3781 - out_3_loss: 1.3806 - out_2_loss: 1.4171 - out_1_loss: 1.4452 - final_output_accuracy: 0.9892 - final_output_dice_score: 0.7731 - final_output_precision: 0.9897 - final_output_sensitivity: 0.9828 - final_output_specificity: 0.9965 - out_3_accuracy: 0.9900 - out_3_dice_score: 0.7743 - out_3_precision: 0.9895 - out_3_sensitivity: 0.9885 - out_3_specificity: 0.9965 - out_2_accuracy: 0.9890 - out_2_dice_score: 0.7504 - out_2_precision: 0.9886 - out_2_sensitivity: 0.9872 - out_2_specificity: 0.9962 - out_1_accuracy: 0.9875 - out_1_dice_score: 0.7350 - out_1_precision: 0.9872 - out_1_sensitivity: 0.9859 - out_1_specificity: 0.9957 - val_loss: 5.5499 - val_final_output_loss: 1.3160 - val_out_3_loss: 1.3338 - val_out_2_loss: 1.3782 - val_out_1_loss: 1.4059 - val_final_output_accuracy: 0.9904 - val_final_output_dice_score: 0.8121 - val_final_output_precision: 0.9888 - val_final_output_sensitivity: 0.9855 - val_final_output_specificity: 0.9963 - val_out_3_accuracy: 0.9908 - val_out_3_dice_score: 0.8062 - val_out_3_precision: 0.9894 - val_out_3_sensitivity: 0.9885 - val_out_3_specificity: 0.9965 - val_out_2_accuracy: 0.9896 - val_out_2_dice_score: 0.7792 - val_out_2_precision: 0.9887 - val_out_2_sensitivity: 0.9874 - val_out_2_specificity: 0.9962 - val_out_1_accuracy: 0.9884 - val_out_1_dice_score: 0.7654 - val_out_1_precision: 0.9874 - val_out_1_sensitivity: 0.9862 - val_out_1_specificity: 0.9958\n",
            "Epoch 76/100\n",
            "8/8 [==============================] - 2s 310ms/step - loss: 5.6846 - final_output_loss: 1.3614 - out_3_loss: 1.3742 - out_2_loss: 1.4018 - out_1_loss: 1.4311 - final_output_accuracy: 0.9907 - final_output_dice_score: 0.7571 - final_output_precision: 0.9907 - final_output_sensitivity: 0.9840 - final_output_specificity: 0.9969 - out_3_accuracy: 0.9920 - out_3_dice_score: 0.7548 - out_3_precision: 0.9918 - out_3_sensitivity: 0.9910 - out_3_specificity: 0.9972 - out_2_accuracy: 0.9911 - out_2_dice_score: 0.7354 - out_2_precision: 0.9911 - out_2_sensitivity: 0.9901 - out_2_specificity: 0.9970 - out_1_accuracy: 0.9904 - out_1_dice_score: 0.7184 - out_1_precision: 0.9904 - out_1_sensitivity: 0.9895 - out_1_specificity: 0.9968 - val_loss: 5.6055 - val_final_output_loss: 1.3337 - val_out_3_loss: 1.3413 - val_out_2_loss: 1.3873 - val_out_1_loss: 1.4272 - val_final_output_accuracy: 0.9906 - val_final_output_dice_score: 0.8110 - val_final_output_precision: 0.9900 - val_final_output_sensitivity: 0.9872 - val_final_output_specificity: 0.9967 - val_out_3_accuracy: 0.9903 - val_out_3_dice_score: 0.8100 - val_out_3_precision: 0.9896 - val_out_3_sensitivity: 0.9887 - val_out_3_specificity: 0.9965 - val_out_2_accuracy: 0.9895 - val_out_2_dice_score: 0.7815 - val_out_2_precision: 0.9889 - val_out_2_sensitivity: 0.9877 - val_out_2_specificity: 0.9963 - val_out_1_accuracy: 0.9880 - val_out_1_dice_score: 0.7642 - val_out_1_precision: 0.9874 - val_out_1_sensitivity: 0.9863 - val_out_1_specificity: 0.9958\n",
            "Epoch 77/100\n",
            "8/8 [==============================] - 2s 313ms/step - loss: 5.4205 - final_output_loss: 1.2877 - out_3_loss: 1.2951 - out_2_loss: 1.3431 - out_1_loss: 1.3786 - final_output_accuracy: 0.9920 - final_output_dice_score: 0.8170 - final_output_precision: 0.9928 - final_output_sensitivity: 0.9877 - final_output_specificity: 0.9976 - out_3_accuracy: 0.9919 - out_3_dice_score: 0.8164 - out_3_precision: 0.9916 - out_3_sensitivity: 0.9910 - out_3_specificity: 0.9972 - out_2_accuracy: 0.9909 - out_2_dice_score: 0.7855 - out_2_precision: 0.9908 - out_2_sensitivity: 0.9899 - out_2_specificity: 0.9969 - out_1_accuracy: 0.9897 - out_1_dice_score: 0.7660 - out_1_precision: 0.9896 - out_1_sensitivity: 0.9888 - out_1_specificity: 0.9965 - val_loss: 5.5298 - val_final_output_loss: 1.3180 - val_out_3_loss: 1.3251 - val_out_2_loss: 1.3681 - val_out_1_loss: 1.4024 - val_final_output_accuracy: 0.9908 - val_final_output_dice_score: 0.8149 - val_final_output_precision: 0.9902 - val_final_output_sensitivity: 0.9867 - val_final_output_specificity: 0.9967 - val_out_3_accuracy: 0.9907 - val_out_3_dice_score: 0.8122 - val_out_3_precision: 0.9899 - val_out_3_sensitivity: 0.9890 - val_out_3_specificity: 0.9966 - val_out_2_accuracy: 0.9899 - val_out_2_dice_score: 0.7859 - val_out_2_precision: 0.9892 - val_out_2_sensitivity: 0.9880 - val_out_2_specificity: 0.9964 - val_out_1_accuracy: 0.9887 - val_out_1_dice_score: 0.7685 - val_out_1_precision: 0.9878 - val_out_1_sensitivity: 0.9867 - val_out_1_specificity: 0.9959\n",
            "Epoch 78/100\n",
            "8/8 [==============================] - 2s 316ms/step - loss: 5.5962 - final_output_loss: 1.3354 - out_3_loss: 1.3437 - out_2_loss: 1.3907 - out_1_loss: 1.4103 - final_output_accuracy: 0.9913 - final_output_dice_score: 0.8031 - final_output_precision: 0.9921 - final_output_sensitivity: 0.9872 - final_output_specificity: 0.9973 - out_3_accuracy: 0.9914 - out_3_dice_score: 0.8003 - out_3_precision: 0.9911 - out_3_sensitivity: 0.9907 - out_3_specificity: 0.9970 - out_2_accuracy: 0.9906 - out_2_dice_score: 0.7713 - out_2_precision: 0.9903 - out_2_sensitivity: 0.9897 - out_2_specificity: 0.9968 - out_1_accuracy: 0.9893 - out_1_dice_score: 0.7571 - out_1_precision: 0.9890 - out_1_sensitivity: 0.9885 - out_1_specificity: 0.9963 - val_loss: 5.7560 - val_final_output_loss: 1.3720 - val_out_3_loss: 1.3814 - val_out_2_loss: 1.4255 - val_out_1_loss: 1.4610 - val_final_output_accuracy: 0.9899 - val_final_output_dice_score: 0.7957 - val_final_output_precision: 0.9882 - val_final_output_sensitivity: 0.9859 - val_final_output_specificity: 0.9961 - val_out_3_accuracy: 0.9902 - val_out_3_dice_score: 0.7930 - val_out_3_precision: 0.9891 - val_out_3_sensitivity: 0.9883 - val_out_3_specificity: 0.9964 - val_out_2_accuracy: 0.9894 - val_out_2_dice_score: 0.7653 - val_out_2_precision: 0.9881 - val_out_2_sensitivity: 0.9871 - val_out_2_specificity: 0.9960 - val_out_1_accuracy: 0.9879 - val_out_1_dice_score: 0.7481 - val_out_1_precision: 0.9864 - val_out_1_sensitivity: 0.9854 - val_out_1_specificity: 0.9955\n",
            "Epoch 79/100\n",
            "8/8 [==============================] - 2s 309ms/step - loss: 5.5405 - final_output_loss: 1.3236 - out_3_loss: 1.3341 - out_2_loss: 1.3689 - out_1_loss: 1.3979 - final_output_accuracy: 0.9912 - final_output_dice_score: 0.7898 - final_output_precision: 0.9916 - final_output_sensitivity: 0.9848 - final_output_specificity: 0.9972 - out_3_accuracy: 0.9921 - out_3_dice_score: 0.7880 - out_3_precision: 0.9919 - out_3_sensitivity: 0.9914 - out_3_specificity: 0.9973 - out_2_accuracy: 0.9916 - out_2_dice_score: 0.7651 - out_2_precision: 0.9914 - out_2_sensitivity: 0.9908 - out_2_specificity: 0.9971 - out_1_accuracy: 0.9906 - out_1_dice_score: 0.7474 - out_1_precision: 0.9904 - out_1_sensitivity: 0.9898 - out_1_specificity: 0.9968 - val_loss: 5.5909 - val_final_output_loss: 1.3238 - val_out_3_loss: 1.3396 - val_out_2_loss: 1.3918 - val_out_1_loss: 1.4196 - val_final_output_accuracy: 0.9907 - val_final_output_dice_score: 0.8069 - val_final_output_precision: 0.9904 - val_final_output_sensitivity: 0.9861 - val_final_output_specificity: 0.9968 - val_out_3_accuracy: 0.9906 - val_out_3_dice_score: 0.8037 - val_out_3_precision: 0.9904 - val_out_3_sensitivity: 0.9893 - val_out_3_specificity: 0.9968 - val_out_2_accuracy: 0.9894 - val_out_2_dice_score: 0.7731 - val_out_2_precision: 0.9891 - val_out_2_sensitivity: 0.9878 - val_out_2_specificity: 0.9964 - val_out_1_accuracy: 0.9882 - val_out_1_dice_score: 0.7595 - val_out_1_precision: 0.9879 - val_out_1_sensitivity: 0.9866 - val_out_1_specificity: 0.9960\n",
            "Epoch 80/100\n",
            "8/8 [==============================] - 2s 313ms/step - loss: 5.6371 - final_output_loss: 1.3506 - out_3_loss: 1.3530 - out_2_loss: 1.3914 - out_1_loss: 1.4261 - final_output_accuracy: 0.9918 - final_output_dice_score: 0.7875 - final_output_precision: 0.9927 - final_output_sensitivity: 0.9876 - final_output_specificity: 0.9975 - out_3_accuracy: 0.9918 - out_3_dice_score: 0.7911 - out_3_precision: 0.9915 - out_3_sensitivity: 0.9911 - out_3_specificity: 0.9972 - out_2_accuracy: 0.9910 - out_2_dice_score: 0.7634 - out_2_precision: 0.9908 - out_2_sensitivity: 0.9901 - out_2_specificity: 0.9969 - out_1_accuracy: 0.9898 - out_1_dice_score: 0.7439 - out_1_precision: 0.9897 - out_1_sensitivity: 0.9890 - out_1_specificity: 0.9965 - val_loss: 5.5527 - val_final_output_loss: 1.3196 - val_out_3_loss: 1.3292 - val_out_2_loss: 1.3797 - val_out_1_loss: 1.4083 - val_final_output_accuracy: 0.9904 - val_final_output_dice_score: 0.8168 - val_final_output_precision: 0.9909 - val_final_output_sensitivity: 0.9846 - val_final_output_specificity: 0.9970 - val_out_3_accuracy: 0.9908 - val_out_3_dice_score: 0.8133 - val_out_3_precision: 0.9904 - val_out_3_sensitivity: 0.9895 - val_out_3_specificity: 0.9968 - val_out_2_accuracy: 0.9898 - val_out_2_dice_score: 0.7812 - val_out_2_precision: 0.9892 - val_out_2_sensitivity: 0.9881 - val_out_2_specificity: 0.9964 - val_out_1_accuracy: 0.9887 - val_out_1_dice_score: 0.7674 - val_out_1_precision: 0.9880 - val_out_1_sensitivity: 0.9869 - val_out_1_specificity: 0.9960\n",
            "Epoch 81/100\n",
            "8/8 [==============================] - 2s 311ms/step - loss: 5.5121 - final_output_loss: 1.3112 - out_3_loss: 1.3195 - out_2_loss: 1.3678 - out_1_loss: 1.3975 - final_output_accuracy: 0.9892 - final_output_dice_score: 0.8138 - final_output_precision: 0.9907 - final_output_sensitivity: 0.9822 - final_output_specificity: 0.9969 - out_3_accuracy: 0.9899 - out_3_dice_score: 0.8114 - out_3_precision: 0.9896 - out_3_sensitivity: 0.9889 - out_3_specificity: 0.9965 - out_2_accuracy: 0.9888 - out_2_dice_score: 0.7828 - out_2_precision: 0.9885 - out_2_sensitivity: 0.9876 - out_2_specificity: 0.9962 - out_1_accuracy: 0.9880 - out_1_dice_score: 0.7690 - out_1_precision: 0.9878 - out_1_sensitivity: 0.9870 - out_1_specificity: 0.9959 - val_loss: 5.5375 - val_final_output_loss: 1.3074 - val_out_3_loss: 1.3207 - val_out_2_loss: 1.3828 - val_out_1_loss: 1.4106 - val_final_output_accuracy: 0.9906 - val_final_output_dice_score: 0.8130 - val_final_output_precision: 0.9900 - val_final_output_sensitivity: 0.9846 - val_final_output_specificity: 0.9967 - val_out_3_accuracy: 0.9910 - val_out_3_dice_score: 0.8089 - val_out_3_precision: 0.9904 - val_out_3_sensitivity: 0.9893 - val_out_3_specificity: 0.9968 - val_out_2_accuracy: 0.9899 - val_out_2_dice_score: 0.7769 - val_out_2_precision: 0.9893 - val_out_2_sensitivity: 0.9879 - val_out_2_specificity: 0.9965 - val_out_1_accuracy: 0.9886 - val_out_1_dice_score: 0.7619 - val_out_1_precision: 0.9881 - val_out_1_sensitivity: 0.9867 - val_out_1_specificity: 0.9960\n",
            "Epoch 82/100\n",
            "8/8 [==============================] - 2s 310ms/step - loss: 5.5656 - final_output_loss: 1.3208 - out_3_loss: 1.3298 - out_2_loss: 1.3815 - out_1_loss: 1.4175 - final_output_accuracy: 0.9918 - final_output_dice_score: 0.8008 - final_output_precision: 0.9921 - final_output_sensitivity: 0.9865 - final_output_specificity: 0.9973 - out_3_accuracy: 0.9920 - out_3_dice_score: 0.8021 - out_3_precision: 0.9916 - out_3_sensitivity: 0.9911 - out_3_specificity: 0.9972 - out_2_accuracy: 0.9909 - out_2_dice_score: 0.7727 - out_2_precision: 0.9905 - out_2_sensitivity: 0.9898 - out_2_specificity: 0.9968 - out_1_accuracy: 0.9893 - out_1_dice_score: 0.7524 - out_1_precision: 0.9891 - out_1_sensitivity: 0.9883 - out_1_specificity: 0.9964 - val_loss: 5.4772 - val_final_output_loss: 1.3028 - val_out_3_loss: 1.3085 - val_out_2_loss: 1.3624 - val_out_1_loss: 1.3876 - val_final_output_accuracy: 0.9908 - val_final_output_dice_score: 0.8194 - val_final_output_precision: 0.9888 - val_final_output_sensitivity: 0.9870 - val_final_output_specificity: 0.9963 - val_out_3_accuracy: 0.9912 - val_out_3_dice_score: 0.8184 - val_out_3_precision: 0.9906 - val_out_3_sensitivity: 0.9896 - val_out_3_specificity: 0.9969 - val_out_2_accuracy: 0.9902 - val_out_2_dice_score: 0.7875 - val_out_2_precision: 0.9898 - val_out_2_sensitivity: 0.9884 - val_out_2_specificity: 0.9966 - val_out_1_accuracy: 0.9886 - val_out_1_dice_score: 0.7686 - val_out_1_precision: 0.9882 - val_out_1_sensitivity: 0.9867 - val_out_1_specificity: 0.9961\n",
            "Epoch 83/100\n",
            "8/8 [==============================] - 2s 307ms/step - loss: 5.7397 - final_output_loss: 1.3821 - out_3_loss: 1.3921 - out_2_loss: 1.4096 - out_1_loss: 1.4399 - final_output_accuracy: 0.9889 - final_output_dice_score: 0.7581 - final_output_precision: 0.9891 - final_output_sensitivity: 0.9813 - final_output_specificity: 0.9963 - out_3_accuracy: 0.9896 - out_3_dice_score: 0.7555 - out_3_precision: 0.9895 - out_3_sensitivity: 0.9883 - out_3_specificity: 0.9965 - out_2_accuracy: 0.9887 - out_2_dice_score: 0.7413 - out_2_precision: 0.9887 - out_2_sensitivity: 0.9873 - out_2_specificity: 0.9962 - out_1_accuracy: 0.9877 - out_1_dice_score: 0.7221 - out_1_precision: 0.9876 - out_1_sensitivity: 0.9863 - out_1_specificity: 0.9959 - val_loss: 5.5923 - val_final_output_loss: 1.3287 - val_out_3_loss: 1.3358 - val_out_2_loss: 1.3873 - val_out_1_loss: 1.4244 - val_final_output_accuracy: 0.9900 - val_final_output_dice_score: 0.7954 - val_final_output_precision: 0.9891 - val_final_output_sensitivity: 0.9842 - val_final_output_specificity: 0.9964 - val_out_3_accuracy: 0.9902 - val_out_3_dice_score: 0.7946 - val_out_3_precision: 0.9893 - val_out_3_sensitivity: 0.9881 - val_out_3_specificity: 0.9964 - val_out_2_accuracy: 0.9892 - val_out_2_dice_score: 0.7659 - val_out_2_precision: 0.9887 - val_out_2_sensitivity: 0.9870 - val_out_2_specificity: 0.9962 - val_out_1_accuracy: 0.9879 - val_out_1_dice_score: 0.7525 - val_out_1_precision: 0.9873 - val_out_1_sensitivity: 0.9858 - val_out_1_specificity: 0.9958\n",
            "Epoch 84/100\n",
            "8/8 [==============================] - 2s 315ms/step - loss: 5.5197 - final_output_loss: 1.3101 - out_3_loss: 1.3210 - out_2_loss: 1.3737 - out_1_loss: 1.3989 - final_output_accuracy: 0.9915 - final_output_dice_score: 0.8145 - final_output_precision: 0.9929 - final_output_sensitivity: 0.9873 - final_output_specificity: 0.9976 - out_3_accuracy: 0.9914 - out_3_dice_score: 0.8118 - out_3_precision: 0.9912 - out_3_sensitivity: 0.9905 - out_3_specificity: 0.9971 - out_2_accuracy: 0.9900 - out_2_dice_score: 0.7759 - out_2_precision: 0.9900 - out_2_sensitivity: 0.9890 - out_2_specificity: 0.9966 - out_1_accuracy: 0.9891 - out_1_dice_score: 0.7633 - out_1_precision: 0.9890 - out_1_sensitivity: 0.9881 - out_1_specificity: 0.9963 - val_loss: 5.7004 - val_final_output_loss: 1.3550 - val_out_3_loss: 1.3656 - val_out_2_loss: 1.4098 - val_out_1_loss: 1.4540 - val_final_output_accuracy: 0.9906 - val_final_output_dice_score: 0.8028 - val_final_output_precision: 0.9893 - val_final_output_sensitivity: 0.9870 - val_final_output_specificity: 0.9964 - val_out_3_accuracy: 0.9907 - val_out_3_dice_score: 0.7997 - val_out_3_precision: 0.9897 - val_out_3_sensitivity: 0.9890 - val_out_3_specificity: 0.9966 - val_out_2_accuracy: 0.9897 - val_out_2_dice_score: 0.7730 - val_out_2_precision: 0.9889 - val_out_2_sensitivity: 0.9878 - val_out_2_specificity: 0.9963 - val_out_1_accuracy: 0.9881 - val_out_1_dice_score: 0.7520 - val_out_1_precision: 0.9868 - val_out_1_sensitivity: 0.9857 - val_out_1_specificity: 0.9956\n",
            "Epoch 85/100\n",
            "8/8 [==============================] - 2s 311ms/step - loss: 5.9549 - final_output_loss: 1.4373 - out_3_loss: 1.4458 - out_2_loss: 1.4650 - out_1_loss: 1.4909 - final_output_accuracy: 0.9900 - final_output_dice_score: 0.7248 - final_output_precision: 0.9903 - final_output_sensitivity: 0.9839 - final_output_specificity: 0.9968 - out_3_accuracy: 0.9913 - out_3_dice_score: 0.7222 - out_3_precision: 0.9911 - out_3_sensitivity: 0.9904 - out_3_specificity: 0.9970 - out_2_accuracy: 0.9911 - out_2_dice_score: 0.7046 - out_2_precision: 0.9910 - out_2_sensitivity: 0.9901 - out_2_specificity: 0.9970 - out_1_accuracy: 0.9893 - out_1_dice_score: 0.6828 - out_1_precision: 0.9892 - out_1_sensitivity: 0.9883 - out_1_specificity: 0.9964 - val_loss: 5.5683 - val_final_output_loss: 1.3181 - val_out_3_loss: 1.3307 - val_out_2_loss: 1.3835 - val_out_1_loss: 1.4199 - val_final_output_accuracy: 0.9902 - val_final_output_dice_score: 0.8041 - val_final_output_precision: 0.9884 - val_final_output_sensitivity: 0.9841 - val_final_output_specificity: 0.9961 - val_out_3_accuracy: 0.9904 - val_out_3_dice_score: 0.8014 - val_out_3_precision: 0.9895 - val_out_3_sensitivity: 0.9884 - val_out_3_specificity: 0.9965 - val_out_2_accuracy: 0.9894 - val_out_2_dice_score: 0.7721 - val_out_2_precision: 0.9886 - val_out_2_sensitivity: 0.9872 - val_out_2_specificity: 0.9962 - val_out_1_accuracy: 0.9883 - val_out_1_dice_score: 0.7573 - val_out_1_precision: 0.9875 - val_out_1_sensitivity: 0.9862 - val_out_1_specificity: 0.9958\n",
            "Epoch 86/100\n",
            "8/8 [==============================] - 2s 312ms/step - loss: 5.6117 - final_output_loss: 1.3363 - out_3_loss: 1.3406 - out_2_loss: 1.3904 - out_1_loss: 1.4283 - final_output_accuracy: 0.9909 - final_output_dice_score: 0.7936 - final_output_precision: 0.9914 - final_output_sensitivity: 0.9858 - final_output_specificity: 0.9971 - out_3_accuracy: 0.9910 - out_3_dice_score: 0.7953 - out_3_precision: 0.9908 - out_3_sensitivity: 0.9901 - out_3_specificity: 0.9969 - out_2_accuracy: 0.9899 - out_2_dice_score: 0.7618 - out_2_precision: 0.9897 - out_2_sensitivity: 0.9887 - out_2_specificity: 0.9966 - out_1_accuracy: 0.9883 - out_1_dice_score: 0.7403 - out_1_precision: 0.9883 - out_1_sensitivity: 0.9873 - out_1_specificity: 0.9961 - val_loss: 5.5811 - val_final_output_loss: 1.3275 - val_out_3_loss: 1.3387 - val_out_2_loss: 1.3839 - val_out_1_loss: 1.4151 - val_final_output_accuracy: 0.9899 - val_final_output_dice_score: 0.8105 - val_final_output_precision: 0.9903 - val_final_output_sensitivity: 0.9821 - val_final_output_specificity: 0.9968 - val_out_3_accuracy: 0.9900 - val_out_3_dice_score: 0.8074 - val_out_3_precision: 0.9894 - val_out_3_sensitivity: 0.9883 - val_out_3_specificity: 0.9965 - val_out_2_accuracy: 0.9892 - val_out_2_dice_score: 0.7799 - val_out_2_precision: 0.9887 - val_out_2_sensitivity: 0.9873 - val_out_2_specificity: 0.9962 - val_out_1_accuracy: 0.9881 - val_out_1_dice_score: 0.7659 - val_out_1_precision: 0.9874 - val_out_1_sensitivity: 0.9862 - val_out_1_specificity: 0.9958\n",
            "Epoch 87/100\n",
            "8/8 [==============================] - 2s 311ms/step - loss: 5.7119 - final_output_loss: 1.3654 - out_3_loss: 1.3725 - out_2_loss: 1.4159 - out_1_loss: 1.4422 - final_output_accuracy: 0.9924 - final_output_dice_score: 0.7766 - final_output_precision: 0.9938 - final_output_sensitivity: 0.9863 - final_output_specificity: 0.9979 - out_3_accuracy: 0.9927 - out_3_dice_score: 0.7710 - out_3_precision: 0.9924 - out_3_sensitivity: 0.9920 - out_3_specificity: 0.9975 - out_2_accuracy: 0.9916 - out_2_dice_score: 0.7382 - out_2_precision: 0.9914 - out_2_sensitivity: 0.9908 - out_2_specificity: 0.9971 - out_1_accuracy: 0.9903 - out_1_dice_score: 0.7210 - out_1_precision: 0.9902 - out_1_sensitivity: 0.9896 - out_1_specificity: 0.9967 - val_loss: 5.6424 - val_final_output_loss: 1.3425 - val_out_3_loss: 1.3546 - val_out_2_loss: 1.3961 - val_out_1_loss: 1.4333 - val_final_output_accuracy: 0.9889 - val_final_output_dice_score: 0.8009 - val_final_output_precision: 0.9895 - val_final_output_sensitivity: 0.9746 - val_final_output_specificity: 0.9965 - val_out_3_accuracy: 0.9899 - val_out_3_dice_score: 0.7975 - val_out_3_precision: 0.9892 - val_out_3_sensitivity: 0.9882 - val_out_3_specificity: 0.9964 - val_out_2_accuracy: 0.9893 - val_out_2_dice_score: 0.7754 - val_out_2_precision: 0.9886 - val_out_2_sensitivity: 0.9875 - val_out_2_specificity: 0.9962 - val_out_1_accuracy: 0.9879 - val_out_1_dice_score: 0.7622 - val_out_1_precision: 0.9870 - val_out_1_sensitivity: 0.9860 - val_out_1_specificity: 0.9957\n",
            "Epoch 88/100\n",
            "8/8 [==============================] - 2s 312ms/step - loss: 5.9768 - final_output_loss: 1.4412 - out_3_loss: 1.4428 - out_2_loss: 1.4766 - out_1_loss: 1.5002 - final_output_accuracy: 0.9884 - final_output_dice_score: 0.7300 - final_output_precision: 0.9899 - final_output_sensitivity: 0.9795 - final_output_specificity: 0.9966 - out_3_accuracy: 0.9891 - out_3_dice_score: 0.7304 - out_3_precision: 0.9888 - out_3_sensitivity: 0.9881 - out_3_specificity: 0.9962 - out_2_accuracy: 0.9885 - out_2_dice_score: 0.7090 - out_2_precision: 0.9883 - out_2_sensitivity: 0.9875 - out_2_specificity: 0.9961 - out_1_accuracy: 0.9875 - out_1_dice_score: 0.6984 - out_1_precision: 0.9873 - out_1_sensitivity: 0.9865 - out_1_specificity: 0.9958 - val_loss: 5.6445 - val_final_output_loss: 1.3420 - val_out_3_loss: 1.3494 - val_out_2_loss: 1.3990 - val_out_1_loss: 1.4381 - val_final_output_accuracy: 0.9882 - val_final_output_dice_score: 0.7934 - val_final_output_precision: 0.9861 - val_final_output_sensitivity: 0.9807 - val_final_output_specificity: 0.9954 - val_out_3_accuracy: 0.9894 - val_out_3_dice_score: 0.7920 - val_out_3_precision: 0.9883 - val_out_3_sensitivity: 0.9875 - val_out_3_specificity: 0.9961 - val_out_2_accuracy: 0.9886 - val_out_2_dice_score: 0.7653 - val_out_2_precision: 0.9878 - val_out_2_sensitivity: 0.9866 - val_out_2_specificity: 0.9959 - val_out_1_accuracy: 0.9871 - val_out_1_dice_score: 0.7428 - val_out_1_precision: 0.9863 - val_out_1_sensitivity: 0.9851 - val_out_1_specificity: 0.9954\n",
            "Epoch 89/100\n",
            "8/8 [==============================] - 2s 313ms/step - loss: 5.5839 - final_output_loss: 1.3260 - out_3_loss: 1.3312 - out_2_loss: 1.3856 - out_1_loss: 1.4252 - final_output_accuracy: 0.9899 - final_output_dice_score: 0.7988 - final_output_precision: 0.9902 - final_output_sensitivity: 0.9849 - final_output_specificity: 0.9967 - out_3_accuracy: 0.9906 - out_3_dice_score: 0.8018 - out_3_precision: 0.9904 - out_3_sensitivity: 0.9896 - out_3_specificity: 0.9968 - out_2_accuracy: 0.9893 - out_2_dice_score: 0.7686 - out_2_precision: 0.9891 - out_2_sensitivity: 0.9882 - out_2_specificity: 0.9964 - out_1_accuracy: 0.9875 - out_1_dice_score: 0.7421 - out_1_precision: 0.9875 - out_1_sensitivity: 0.9865 - out_1_specificity: 0.9958 - val_loss: 5.5718 - val_final_output_loss: 1.3231 - val_out_3_loss: 1.3274 - val_out_2_loss: 1.3757 - val_out_1_loss: 1.4296 - val_final_output_accuracy: 0.9879 - val_final_output_dice_score: 0.8008 - val_final_output_precision: 0.9847 - val_final_output_sensitivity: 0.9820 - val_final_output_specificity: 0.9949 - val_out_3_accuracy: 0.9899 - val_out_3_dice_score: 0.8091 - val_out_3_precision: 0.9892 - val_out_3_sensitivity: 0.9884 - val_out_3_specificity: 0.9964 - val_out_2_accuracy: 0.9895 - val_out_2_dice_score: 0.7832 - val_out_2_precision: 0.9888 - val_out_2_sensitivity: 0.9878 - val_out_2_specificity: 0.9963 - val_out_1_accuracy: 0.9880 - val_out_1_dice_score: 0.7589 - val_out_1_precision: 0.9870 - val_out_1_sensitivity: 0.9859 - val_out_1_specificity: 0.9957\n",
            "Epoch 90/100\n",
            "8/8 [==============================] - 2s 310ms/step - loss: 5.4755 - final_output_loss: 1.3016 - out_3_loss: 1.3088 - out_2_loss: 1.3565 - out_1_loss: 1.3928 - final_output_accuracy: 0.9921 - final_output_dice_score: 0.8063 - final_output_precision: 0.9926 - final_output_sensitivity: 0.9872 - final_output_specificity: 0.9975 - out_3_accuracy: 0.9926 - out_3_dice_score: 0.8063 - out_3_precision: 0.9922 - out_3_sensitivity: 0.9918 - out_3_specificity: 0.9974 - out_2_accuracy: 0.9918 - out_2_dice_score: 0.7774 - out_2_precision: 0.9915 - out_2_sensitivity: 0.9911 - out_2_specificity: 0.9972 - out_1_accuracy: 0.9909 - out_1_dice_score: 0.7560 - out_1_precision: 0.9906 - out_1_sensitivity: 0.9902 - out_1_specificity: 0.9969 - val_loss: 5.6398 - val_final_output_loss: 1.3301 - val_out_3_loss: 1.3398 - val_out_2_loss: 1.3858 - val_out_1_loss: 1.4682 - val_final_output_accuracy: 0.9903 - val_final_output_dice_score: 0.8047 - val_final_output_precision: 0.9875 - val_final_output_sensitivity: 0.9851 - val_final_output_specificity: 0.9958 - val_out_3_accuracy: 0.9906 - val_out_3_dice_score: 0.8048 - val_out_3_precision: 0.9897 - val_out_3_sensitivity: 0.9888 - val_out_3_specificity: 0.9966 - val_out_2_accuracy: 0.9898 - val_out_2_dice_score: 0.7783 - val_out_2_precision: 0.9889 - val_out_2_sensitivity: 0.9878 - val_out_2_specificity: 0.9963 - val_out_1_accuracy: 0.9875 - val_out_1_dice_score: 0.7434 - val_out_1_precision: 0.9864 - val_out_1_sensitivity: 0.9854 - val_out_1_specificity: 0.9955\n",
            "Epoch 91/100\n",
            "8/8 [==============================] - 2s 308ms/step - loss: 5.6500 - final_output_loss: 1.3515 - out_3_loss: 1.3609 - out_2_loss: 1.3984 - out_1_loss: 1.4233 - final_output_accuracy: 0.9912 - final_output_dice_score: 0.7869 - final_output_precision: 0.9917 - final_output_sensitivity: 0.9856 - final_output_specificity: 0.9972 - out_3_accuracy: 0.9915 - out_3_dice_score: 0.7847 - out_3_precision: 0.9912 - out_3_sensitivity: 0.9905 - out_3_specificity: 0.9970 - out_2_accuracy: 0.9906 - out_2_dice_score: 0.7597 - out_2_precision: 0.9903 - out_2_sensitivity: 0.9895 - out_2_specificity: 0.9968 - out_1_accuracy: 0.9894 - out_1_dice_score: 0.7436 - out_1_precision: 0.9892 - out_1_sensitivity: 0.9884 - out_1_specificity: 0.9964 - val_loss: 5.4840 - val_final_output_loss: 1.2931 - val_out_3_loss: 1.3049 - val_out_2_loss: 1.3596 - val_out_1_loss: 1.4105 - val_final_output_accuracy: 0.9912 - val_final_output_dice_score: 0.8265 - val_final_output_precision: 0.9906 - val_final_output_sensitivity: 0.9862 - val_final_output_specificity: 0.9969 - val_out_3_accuracy: 0.9913 - val_out_3_dice_score: 0.8226 - val_out_3_precision: 0.9907 - val_out_3_sensitivity: 0.9897 - val_out_3_specificity: 0.9969 - val_out_2_accuracy: 0.9902 - val_out_2_dice_score: 0.7920 - val_out_2_precision: 0.9897 - val_out_2_sensitivity: 0.9885 - val_out_2_specificity: 0.9966 - val_out_1_accuracy: 0.9885 - val_out_1_dice_score: 0.7666 - val_out_1_precision: 0.9878 - val_out_1_sensitivity: 0.9867 - val_out_1_specificity: 0.9959\n",
            "Epoch 92/100\n",
            "8/8 [==============================] - 2s 310ms/step - loss: 5.2965 - final_output_loss: 1.2594 - out_3_loss: 1.2671 - out_2_loss: 1.3110 - out_1_loss: 1.3431 - final_output_accuracy: 0.9926 - final_output_dice_score: 0.8322 - final_output_precision: 0.9938 - final_output_sensitivity: 0.9876 - final_output_specificity: 0.9979 - out_3_accuracy: 0.9929 - out_3_dice_score: 0.8308 - out_3_precision: 0.9926 - out_3_sensitivity: 0.9922 - out_3_specificity: 0.9975 - out_2_accuracy: 0.9920 - out_2_dice_score: 0.8033 - out_2_precision: 0.9918 - out_2_sensitivity: 0.9912 - out_2_specificity: 0.9972 - out_1_accuracy: 0.9909 - out_1_dice_score: 0.7822 - out_1_precision: 0.9906 - out_1_sensitivity: 0.9901 - out_1_specificity: 0.9969 - val_loss: 5.4901 - val_final_output_loss: 1.3007 - val_out_3_loss: 1.3095 - val_out_2_loss: 1.3606 - val_out_1_loss: 1.4033 - val_final_output_accuracy: 0.9905 - val_final_output_dice_score: 0.8200 - val_final_output_precision: 0.9912 - val_final_output_sensitivity: 0.9838 - val_final_output_specificity: 0.9971 - val_out_3_accuracy: 0.9911 - val_out_3_dice_score: 0.8199 - val_out_3_precision: 0.9906 - val_out_3_sensitivity: 0.9897 - val_out_3_specificity: 0.9969 - val_out_2_accuracy: 0.9903 - val_out_2_dice_score: 0.7911 - val_out_2_precision: 0.9898 - val_out_2_sensitivity: 0.9884 - val_out_2_specificity: 0.9966 - val_out_1_accuracy: 0.9889 - val_out_1_dice_score: 0.7682 - val_out_1_precision: 0.9883 - val_out_1_sensitivity: 0.9870 - val_out_1_specificity: 0.9961\n",
            "Epoch 93/100\n",
            "8/8 [==============================] - 2s 313ms/step - loss: 5.4916 - final_output_loss: 1.3089 - out_3_loss: 1.3173 - out_2_loss: 1.3602 - out_1_loss: 1.3893 - final_output_accuracy: 0.9913 - final_output_dice_score: 0.8136 - final_output_precision: 0.9930 - final_output_sensitivity: 0.9850 - final_output_specificity: 0.9976 - out_3_accuracy: 0.9916 - out_3_dice_score: 0.8120 - out_3_precision: 0.9913 - out_3_sensitivity: 0.9907 - out_3_specificity: 0.9971 - out_2_accuracy: 0.9904 - out_2_dice_score: 0.7857 - out_2_precision: 0.9902 - out_2_sensitivity: 0.9895 - out_2_specificity: 0.9967 - out_1_accuracy: 0.9893 - out_1_dice_score: 0.7685 - out_1_precision: 0.9892 - out_1_sensitivity: 0.9885 - out_1_specificity: 0.9964 - val_loss: 5.5025 - val_final_output_loss: 1.3039 - val_out_3_loss: 1.3123 - val_out_2_loss: 1.3711 - val_out_1_loss: 1.3993 - val_final_output_accuracy: 0.9904 - val_final_output_dice_score: 0.8201 - val_final_output_precision: 0.9902 - val_final_output_sensitivity: 0.9847 - val_final_output_specificity: 0.9968 - val_out_3_accuracy: 0.9908 - val_out_3_dice_score: 0.8164 - val_out_3_precision: 0.9901 - val_out_3_sensitivity: 0.9893 - val_out_3_specificity: 0.9967 - val_out_2_accuracy: 0.9899 - val_out_2_dice_score: 0.7834 - val_out_2_precision: 0.9890 - val_out_2_sensitivity: 0.9879 - val_out_2_specificity: 0.9963 - val_out_1_accuracy: 0.9889 - val_out_1_dice_score: 0.7676 - val_out_1_precision: 0.9879 - val_out_1_sensitivity: 0.9868 - val_out_1_specificity: 0.9960\n",
            "Epoch 94/100\n",
            "8/8 [==============================] - 2s 314ms/step - loss: 5.4281 - final_output_loss: 1.2911 - out_3_loss: 1.3011 - out_2_loss: 1.3419 - out_1_loss: 1.3781 - final_output_accuracy: 0.9909 - final_output_dice_score: 0.8219 - final_output_precision: 0.9919 - final_output_sensitivity: 0.9847 - final_output_specificity: 0.9973 - out_3_accuracy: 0.9910 - out_3_dice_score: 0.8207 - out_3_precision: 0.9906 - out_3_sensitivity: 0.9901 - out_3_specificity: 0.9969 - out_2_accuracy: 0.9901 - out_2_dice_score: 0.7962 - out_2_precision: 0.9898 - out_2_sensitivity: 0.9891 - out_2_specificity: 0.9966 - out_1_accuracy: 0.9889 - out_1_dice_score: 0.7754 - out_1_precision: 0.9887 - out_1_sensitivity: 0.9879 - out_1_specificity: 0.9962 - val_loss: 5.4220 - val_final_output_loss: 1.2821 - val_out_3_loss: 1.2915 - val_out_2_loss: 1.3481 - val_out_1_loss: 1.3845 - val_final_output_accuracy: 0.9914 - val_final_output_dice_score: 0.8298 - val_final_output_precision: 0.9909 - val_final_output_sensitivity: 0.9863 - val_final_output_specificity: 0.9970 - val_out_3_accuracy: 0.9916 - val_out_3_dice_score: 0.8280 - val_out_3_precision: 0.9910 - val_out_3_sensitivity: 0.9901 - val_out_3_specificity: 0.9970 - val_out_2_accuracy: 0.9907 - val_out_2_dice_score: 0.7986 - val_out_2_precision: 0.9901 - val_out_2_sensitivity: 0.9889 - val_out_2_specificity: 0.9967 - val_out_1_accuracy: 0.9895 - val_out_1_dice_score: 0.7772 - val_out_1_precision: 0.9888 - val_out_1_sensitivity: 0.9875 - val_out_1_specificity: 0.9963\n",
            "Epoch 95/100\n",
            "8/8 [==============================] - 2s 315ms/step - loss: 5.5074 - final_output_loss: 1.3105 - out_3_loss: 1.3197 - out_2_loss: 1.3644 - out_1_loss: 1.3969 - final_output_accuracy: 0.9906 - final_output_dice_score: 0.8058 - final_output_precision: 0.9908 - final_output_sensitivity: 0.9846 - final_output_specificity: 0.9969 - out_3_accuracy: 0.9914 - out_3_dice_score: 0.8043 - out_3_precision: 0.9910 - out_3_sensitivity: 0.9903 - out_3_specificity: 0.9970 - out_2_accuracy: 0.9904 - out_2_dice_score: 0.7797 - out_2_precision: 0.9901 - out_2_sensitivity: 0.9894 - out_2_specificity: 0.9967 - out_1_accuracy: 0.9889 - out_1_dice_score: 0.7587 - out_1_precision: 0.9886 - out_1_sensitivity: 0.9879 - out_1_specificity: 0.9962 - val_loss: 5.4096 - val_final_output_loss: 1.2816 - val_out_3_loss: 1.2901 - val_out_2_loss: 1.3446 - val_out_1_loss: 1.3774 - val_final_output_accuracy: 0.9916 - val_final_output_dice_score: 0.8320 - val_final_output_precision: 0.9909 - val_final_output_sensitivity: 0.9874 - val_final_output_specificity: 0.9970 - val_out_3_accuracy: 0.9917 - val_out_3_dice_score: 0.8270 - val_out_3_precision: 0.9908 - val_out_3_sensitivity: 0.9900 - val_out_3_specificity: 0.9970 - val_out_2_accuracy: 0.9905 - val_out_2_dice_score: 0.7968 - val_out_2_precision: 0.9897 - val_out_2_sensitivity: 0.9886 - val_out_2_specificity: 0.9966 - val_out_1_accuracy: 0.9892 - val_out_1_dice_score: 0.7748 - val_out_1_precision: 0.9883 - val_out_1_sensitivity: 0.9872 - val_out_1_specificity: 0.9961\n",
            "Epoch 96/100\n",
            "8/8 [==============================] - 2s 316ms/step - loss: 5.4430 - final_output_loss: 1.2940 - out_3_loss: 1.3010 - out_2_loss: 1.3469 - out_1_loss: 1.3852 - final_output_accuracy: 0.9922 - final_output_dice_score: 0.8155 - final_output_precision: 0.9932 - final_output_sensitivity: 0.9870 - final_output_specificity: 0.9977 - out_3_accuracy: 0.9925 - out_3_dice_score: 0.8134 - out_3_precision: 0.9921 - out_3_sensitivity: 0.9915 - out_3_specificity: 0.9973 - out_2_accuracy: 0.9916 - out_2_dice_score: 0.7837 - out_2_precision: 0.9913 - out_2_sensitivity: 0.9906 - out_2_specificity: 0.9971 - out_1_accuracy: 0.9905 - out_1_dice_score: 0.7602 - out_1_precision: 0.9903 - out_1_sensitivity: 0.9895 - out_1_specificity: 0.9968 - val_loss: 5.4844 - val_final_output_loss: 1.3044 - val_out_3_loss: 1.3108 - val_out_2_loss: 1.3553 - val_out_1_loss: 1.3981 - val_final_output_accuracy: 0.9917 - val_final_output_dice_score: 0.8249 - val_final_output_precision: 0.9920 - val_final_output_sensitivity: 0.9872 - val_final_output_specificity: 0.9973 - val_out_3_accuracy: 0.9916 - val_out_3_dice_score: 0.8237 - val_out_3_precision: 0.9908 - val_out_3_sensitivity: 0.9899 - val_out_3_specificity: 0.9969 - val_out_2_accuracy: 0.9906 - val_out_2_dice_score: 0.7984 - val_out_2_precision: 0.9900 - val_out_2_sensitivity: 0.9888 - val_out_2_specificity: 0.9967 - val_out_1_accuracy: 0.9892 - val_out_1_dice_score: 0.7768 - val_out_1_precision: 0.9885 - val_out_1_sensitivity: 0.9873 - val_out_1_specificity: 0.9962\n",
            "Epoch 97/100\n",
            "8/8 [==============================] - 2s 313ms/step - loss: 5.6391 - final_output_loss: 1.3520 - out_3_loss: 1.3601 - out_2_loss: 1.3906 - out_1_loss: 1.4206 - final_output_accuracy: 0.9919 - final_output_dice_score: 0.7789 - final_output_precision: 0.9932 - final_output_sensitivity: 0.9862 - final_output_specificity: 0.9977 - out_3_accuracy: 0.9923 - out_3_dice_score: 0.7752 - out_3_precision: 0.9920 - out_3_sensitivity: 0.9914 - out_3_specificity: 0.9973 - out_2_accuracy: 0.9916 - out_2_dice_score: 0.7544 - out_2_precision: 0.9913 - out_2_sensitivity: 0.9907 - out_2_specificity: 0.9971 - out_1_accuracy: 0.9906 - out_1_dice_score: 0.7373 - out_1_precision: 0.9904 - out_1_sensitivity: 0.9898 - out_1_specificity: 0.9968 - val_loss: 5.4501 - val_final_output_loss: 1.2856 - val_out_3_loss: 1.2944 - val_out_2_loss: 1.3507 - val_out_1_loss: 1.4035 - val_final_output_accuracy: 0.9919 - val_final_output_dice_score: 0.8312 - val_final_output_precision: 0.9916 - val_final_output_sensitivity: 0.9878 - val_final_output_specificity: 0.9972 - val_out_3_accuracy: 0.9918 - val_out_3_dice_score: 0.8279 - val_out_3_precision: 0.9910 - val_out_3_sensitivity: 0.9902 - val_out_3_specificity: 0.9970 - val_out_2_accuracy: 0.9906 - val_out_2_dice_score: 0.7967 - val_out_2_precision: 0.9899 - val_out_2_sensitivity: 0.9887 - val_out_2_specificity: 0.9966 - val_out_1_accuracy: 0.9891 - val_out_1_dice_score: 0.7703 - val_out_1_precision: 0.9882 - val_out_1_sensitivity: 0.9869 - val_out_1_specificity: 0.9961\n",
            "Epoch 98/100\n",
            "8/8 [==============================] - 2s 313ms/step - loss: 5.5705 - final_output_loss: 1.3312 - out_3_loss: 1.3346 - out_2_loss: 1.3786 - out_1_loss: 1.4103 - final_output_accuracy: 0.9927 - final_output_dice_score: 0.8039 - final_output_precision: 0.9935 - final_output_sensitivity: 0.9891 - final_output_specificity: 0.9978 - out_3_accuracy: 0.9927 - out_3_dice_score: 0.8039 - out_3_precision: 0.9924 - out_3_sensitivity: 0.9919 - out_3_specificity: 0.9975 - out_2_accuracy: 0.9920 - out_2_dice_score: 0.7780 - out_2_precision: 0.9917 - out_2_sensitivity: 0.9912 - out_2_specificity: 0.9972 - out_1_accuracy: 0.9906 - out_1_dice_score: 0.7574 - out_1_precision: 0.9903 - out_1_sensitivity: 0.9898 - out_1_specificity: 0.9968 - val_loss: 5.4628 - val_final_output_loss: 1.2985 - val_out_3_loss: 1.3063 - val_out_2_loss: 1.3539 - val_out_1_loss: 1.3884 - val_final_output_accuracy: 0.9901 - val_final_output_dice_score: 0.8202 - val_final_output_precision: 0.9887 - val_final_output_sensitivity: 0.9826 - val_final_output_specificity: 0.9963 - val_out_3_accuracy: 0.9904 - val_out_3_dice_score: 0.8159 - val_out_3_precision: 0.9887 - val_out_3_sensitivity: 0.9877 - val_out_3_specificity: 0.9962 - val_out_2_accuracy: 0.9894 - val_out_2_dice_score: 0.7903 - val_out_2_precision: 0.9879 - val_out_2_sensitivity: 0.9868 - val_out_2_specificity: 0.9960 - val_out_1_accuracy: 0.9884 - val_out_1_dice_score: 0.7721 - val_out_1_precision: 0.9868 - val_out_1_sensitivity: 0.9858 - val_out_1_specificity: 0.9956\n",
            "Epoch 99/100\n",
            "8/8 [==============================] - 2s 304ms/step - loss: 5.6852 - final_output_loss: 1.3508 - out_3_loss: 1.3648 - out_2_loss: 1.4107 - out_1_loss: 1.4431 - final_output_accuracy: 0.9901 - final_output_dice_score: 0.7822 - final_output_precision: 0.9917 - final_output_sensitivity: 0.9835 - final_output_specificity: 0.9972 - out_3_accuracy: 0.9904 - out_3_dice_score: 0.7741 - out_3_precision: 0.9903 - out_3_sensitivity: 0.9895 - out_3_specificity: 0.9968 - out_2_accuracy: 0.9894 - out_2_dice_score: 0.7486 - out_2_precision: 0.9894 - out_2_sensitivity: 0.9885 - out_2_specificity: 0.9964 - out_1_accuracy: 0.9883 - out_1_dice_score: 0.7320 - out_1_precision: 0.9883 - out_1_sensitivity: 0.9874 - out_1_specificity: 0.9961 - val_loss: 5.6049 - val_final_output_loss: 1.3391 - val_out_3_loss: 1.3439 - val_out_2_loss: 1.3902 - val_out_1_loss: 1.4158 - val_final_output_accuracy: 0.9906 - val_final_output_dice_score: 0.8099 - val_final_output_precision: 0.9901 - val_final_output_sensitivity: 0.9852 - val_final_output_specificity: 0.9967 - val_out_3_accuracy: 0.9906 - val_out_3_dice_score: 0.8095 - val_out_3_precision: 0.9894 - val_out_3_sensitivity: 0.9885 - val_out_3_specificity: 0.9965 - val_out_2_accuracy: 0.9896 - val_out_2_dice_score: 0.7835 - val_out_2_precision: 0.9887 - val_out_2_sensitivity: 0.9875 - val_out_2_specificity: 0.9962 - val_out_1_accuracy: 0.9886 - val_out_1_dice_score: 0.7675 - val_out_1_precision: 0.9877 - val_out_1_sensitivity: 0.9865 - val_out_1_specificity: 0.9959\n",
            "Epoch 100/100\n",
            "8/8 [==============================] - 2s 313ms/step - loss: 5.4328 - final_output_loss: 1.2900 - out_3_loss: 1.2958 - out_2_loss: 1.3473 - out_1_loss: 1.3839 - final_output_accuracy: 0.9920 - final_output_dice_score: 0.8238 - final_output_precision: 0.9931 - final_output_sensitivity: 0.9862 - final_output_specificity: 0.9977 - out_3_accuracy: 0.9923 - out_3_dice_score: 0.8217 - out_3_precision: 0.9920 - out_3_sensitivity: 0.9915 - out_3_specificity: 0.9973 - out_2_accuracy: 0.9910 - out_2_dice_score: 0.7892 - out_2_precision: 0.9908 - out_2_sensitivity: 0.9902 - out_2_specificity: 0.9969 - out_1_accuracy: 0.9896 - out_1_dice_score: 0.7635 - out_1_precision: 0.9895 - out_1_sensitivity: 0.9887 - out_1_specificity: 0.9965 - val_loss: 5.5503 - val_final_output_loss: 1.3135 - val_out_3_loss: 1.3248 - val_out_2_loss: 1.3732 - val_out_1_loss: 1.4229 - val_final_output_accuracy: 0.9898 - val_final_output_dice_score: 0.8118 - val_final_output_precision: 0.9892 - val_final_output_sensitivity: 0.9791 - val_final_output_specificity: 0.9964 - val_out_3_accuracy: 0.9906 - val_out_3_dice_score: 0.8085 - val_out_3_precision: 0.9894 - val_out_3_sensitivity: 0.9883 - val_out_3_specificity: 0.9965 - val_out_2_accuracy: 0.9892 - val_out_2_dice_score: 0.7766 - val_out_2_precision: 0.9879 - val_out_2_sensitivity: 0.9867 - val_out_2_specificity: 0.9960 - val_out_1_accuracy: 0.9876 - val_out_1_dice_score: 0.7516 - val_out_1_precision: 0.9865 - val_out_1_sensitivity: 0.9850 - val_out_1_specificity: 0.9955\n"
          ]
        }
      ],
      "source": [
        "history=model.fit(train_generator(input_gen, out_gen),\n",
        "\t                  validation_data=(X_test, [Y_test, Y_test, Y_test, Y_test]),\n",
        "\t                  steps_per_epoch=len(X_train) // 64,\n",
        "\t                  epochs=epochs, verbose=1, shuffle=True,\n",
        "                    )"
      ]
    },
    {
      "cell_type": "code",
      "execution_count": null,
      "metadata": {
        "id": "VJ8H14Y0VBSO"
      },
      "outputs": [],
      "source": [
        "#model.save('/content/drive/MyDrive/ranadeep/2019DATA/pcamodel2019.h5', include_optimizer=True)"
      ]
    },
    {
      "cell_type": "code",
      "execution_count": null,
      "metadata": {
        "id": "vidInnUiVHo_"
      },
      "outputs": [],
      "source": [
        "def Accuracy_Graph(history):\n",
        "    plt.plot(history.history['final_output_accuracy'])\n",
        "    plt.plot(history.history['val_final_output_accuracy'])\n",
        "    plt.ylabel('Accuracy')\n",
        "    plt.xlabel('Epoch')\n",
        "    plt.legend(['Train', 'Validation'], loc='lower right')\n",
        "    plt.subplots_adjust(top=1.00, bottom=0.0, left=0.0, right=0.95, hspace=0.25,\n",
        "                        wspace=0.35)\n",
        "    plt.show()\n",
        "\n",
        "\n",
        "def Dice_coefficient_Graph(history):\n",
        "\n",
        "    plt.plot(history.history['final_output_dice_score'])\n",
        "    plt.plot(history.history['val_final_output_dice_score'])\n",
        "    plt.ylabel('Dice_Coefficient')\n",
        "    plt.xlabel('Epoch')\n",
        "    plt.legend(['Train', 'Validation'], loc='upper left')\n",
        "    plt.subplots_adjust(top=1.00, bottom=0.0, left=0.0, right=0.95, hspace=0.25,\n",
        "                        wspace=0.35)\n",
        "    plt.show()\n",
        "\n",
        "def Loss_Graph(history):\n",
        "    plt.plot(history.history['final_output_loss'])\n",
        "    plt.plot(history.history['val_final_output_loss'])\n",
        "    plt.ylabel('Loss')\n",
        "    plt.xlabel('Epoch')\n",
        "    plt.legend(['Train', 'Validation'], loc='upper right')\n",
        "    plt.subplots_adjust(top=1.00, bottom=0.0, left=0.0, right=0.95, hspace=0.25,\n",
        "                        wspace=0.35)\n",
        "    plt.show()"
      ]
    },
    {
      "cell_type": "code",
      "execution_count": null,
      "metadata": {
        "colab": {
          "base_uri": "https://localhost:8080/",
          "height": 1000
        },
        "id": "jZrIneDuVJYg",
        "outputId": "8d0da1b3-4728-4c12-81f0-9294fb12d40c"
      },
      "outputs": [
        {
          "output_type": "display_data",
          "data": {
            "text/plain": [
              "<Figure size 640x480 with 1 Axes>"
            ],
            "image/png": "[encoded data removed]"
          },
          "metadata": {}
        },
        {
          "output_type": "display_data",
          "data": {
            "text/plain": [
              "<Figure size 640x480 with 1 Axes>"
            ],
            "image/png": "[encoded data removed]"
          },
          "metadata": {}
        },
        {
          "output_type": "display_data",
          "data": {
            "text/plain": [
              "<Figure size 640x480 with 1 Axes>"
            ],
            "image/png": "[encoded data removed]"
          },
          "metadata": {}
        }
      ],
      "source": [
        "Accuracy_Graph(history)\n",
        "Dice_coefficient_Graph(history)\n",
        "Loss_Graph(history)"
      ]
    },
    {
      "cell_type": "code",
      "execution_count": null,
      "metadata": {
        "colab": {
          "base_uri": "https://localhost:8080/",
          "height": 121
        },
        "id": "m2QpgUm8VKsu",
        "outputId": "2c3e27e2-d323-4a0c-cda7-558d20d94276"
      },
      "outputs": [
        {
          "output_type": "display_data",
          "data": {
            "text/plain": [
              "1.6599676871299744"
            ]
          },
          "metadata": {}
        },
        {
          "output_type": "display_data",
          "data": {
            "text/plain": [
              "0.971304869055748"
            ]
          },
          "metadata": {}
        },
        {
          "output_type": "display_data",
          "data": {
            "text/plain": [
              "0.6387404039502144"
            ]
          },
          "metadata": {}
        },
        {
          "output_type": "display_data",
          "data": {
            "text/plain": [
              "0.9531919226050377"
            ]
          },
          "metadata": {}
        },
        {
          "output_type": "display_data",
          "data": {
            "text/plain": [
              "0.9799372172355652"
            ]
          },
          "metadata": {}
        },
        {
          "output_type": "display_data",
          "data": {
            "text/plain": [
              "0.9770138412714005"
            ]
          },
          "metadata": {}
        }
      ],
      "source": [
        "import statistics\n",
        "display(statistics.mean(history.history['val_final_output_loss']))\n",
        "display(statistics.mean(history.history['val_final_output_accuracy']))\n",
        "display(statistics.mean(history.history['val_final_output_dice_score']))\n",
        "display(statistics.mean(history.history['val_final_output_precision']))\n",
        "display(statistics.mean(history.history['val_final_output_sensitivity']))\n",
        "display(statistics.mean(history.history['val_final_output_specificity']))"
      ]
    },
    {
      "cell_type": "code",
      "execution_count": null,
      "metadata": {
        "id": "aCFp6MPMae6p",
        "colab": {
          "base_uri": "https://localhost:8080/"
        },
        "outputId": "452c0a2c-0cff-4048-eeab-3a6a4d732251"
      },
      "outputs": [
        {
          "output_type": "stream",
          "name": "stdout",
          "text": [
            "8/8 [==============================] - 2s 130ms/step\n"
          ]
        }
      ],
      "source": [
        "pred = model.predict(X_test)"
      ]
    },
    {
      "cell_type": "code",
      "execution_count": null,
      "metadata": {
        "colab": {
          "base_uri": "https://localhost:8080/"
        },
        "id": "yPAnboGfjWiU",
        "outputId": "45aa412c-381a-4b21-bd71-87ec9bfd0c47"
      },
      "outputs": [
        {
          "output_type": "stream",
          "name": "stdout",
          "text": [
            "(4, 225, 240, 240, 4)\n"
          ]
        }
      ],
      "source": [
        "print(np.shape(pred))"
      ]
    },
    {
      "cell_type": "code",
      "execution_count": null,
      "metadata": {
        "id": "Vu9kAL1JHAZI"
      },
      "outputs": [],
      "source": [
        "pred = np.argmax(pred, axis=-1)"
      ]
    },
    {
      "cell_type": "code",
      "execution_count": null,
      "metadata": {
        "id": "quj0A3aXAP3D"
      },
      "outputs": [],
      "source": [
        "#To choose the output from the final layer only, we take the slices in the 0th index.\n",
        "predicted_images = np.reshape(pred[0,:,:,:], (225,240,240))"
      ]
    },
    {
      "cell_type": "code",
      "execution_count": null,
      "metadata": {
        "colab": {
          "base_uri": "https://localhost:8080/"
        },
        "id": "IwuJ92EcIle9",
        "outputId": "842ed091-02ec-44b0-cf4e-6aba1df1314d"
      },
      "outputs": [
        {
          "output_type": "stream",
          "name": "stdout",
          "text": [
            "(225, 240, 240)\n"
          ]
        }
      ],
      "source": [
        "GT = np.argmax(Y_test, axis=-1)\n",
        "print(GT.shape)"
      ]
    },
    {
      "cell_type": "code",
      "execution_count": null,
      "metadata": {
        "id": "Ji8xPZNN1_KW"
      },
      "outputs": [],
      "source": [
        "predicted_images[predicted_images==3] = 4\n",
        "GT[GT==3] = 4"
      ]
    },
    {
      "cell_type": "code",
      "execution_count": null,
      "metadata": {
        "id": "I3_OQcAqaUi8"
      },
      "outputs": [],
      "source": [
        "def iou_coef(s,g):\n",
        "    num = np.sum(np.multiply(s,g))\n",
        "    denom=s.sum() + g.sum() - num\n",
        "    if denom==0:\n",
        "        return 1\n",
        "    else:\n",
        "        return num/denom"
      ]
    },
    {
      "cell_type": "code",
      "execution_count": null,
      "metadata": {
        "id": "VvBQgcbsSDBQ"
      },
      "outputs": [],
      "source": [
        "def iou_whole(pred, orig_label):\n",
        "    #computes dice for the whole tumor\n",
        "    return iou_coef(pred>0,orig_label>0)\n",
        "\n",
        "\n",
        "def iou_en(pred, orig_label):\n",
        "    #computes dice for enhancing region\n",
        "    return iou_coef(pred==4,orig_label==4)\n",
        "\n",
        "\n",
        "def iou_core(pred, orig_label):\n",
        "    #computes dice for core region\n",
        "    seg_=np.copy(pred)\n",
        "    ground_=np.copy(orig_label)\n",
        "    seg_[seg_==2]=0\n",
        "    ground_[ground_==2]=0\n",
        "    return iou_coef(seg_>0,ground_>0)"
      ]
    },
    {
      "cell_type": "code",
      "execution_count": null,
      "metadata": {
        "colab": {
          "base_uri": "https://localhost:8080/"
        },
        "id": "cjAV_L2HURYQ",
        "outputId": "648745d6-0cb3-46b1-e910-e50ec0b278b8"
      },
      "outputs": [
        {
          "output_type": "stream",
          "name": "stdout",
          "text": [
            "iou complete tumor score : 0.8159\n",
            "iou core tumor score : 0.7432\n",
            "iou enhancing tumor score :0.6423 \n"
          ]
        }
      ],
      "source": [
        "predicted_images = predicted_images.astype(np.int32)\n",
        "GT = GT.astype(np.int32)\n",
        "\n",
        "iou_complete  = iou_whole(predicted_images,GT)\n",
        "iou_enhancing = iou_en(predicted_images,GT)\n",
        "iou_core      = iou_core(predicted_images,GT)\n",
        "\n",
        "print(\"iou complete tumor score : {:0.4f}\".format(iou_complete))\n",
        "print(\"iou core tumor score : {:0.4f}\".format(iou_core))\n",
        "print(\"iou enhancing tumor score :{:0.4f} \".format(iou_enhancing))"
      ]
    },
    {
      "cell_type": "code",
      "execution_count": null,
      "metadata": {
        "id": "dUxIWYsg1_G6"
      },
      "outputs": [],
      "source": [
        "def binary_dice3d(s,g):\n",
        "    #dice score of two 3D volumes\n",
        "    num=np.sum(np.multiply(s, g))\n",
        "    denom=s.sum() + g.sum()\n",
        "    if denom==0:\n",
        "        return 1\n",
        "    else:\n",
        "        return  2.0*num/denom\n",
        "\n",
        "def DSC_whole(pred, orig_label):\n",
        "    #computes dice for the whole tumor\n",
        "    return binary_dice3d(pred>0,orig_label>0)\n",
        "\n",
        "def DSC_en(pred, orig_label):\n",
        "    #computes dice for enhancing region\n",
        "    return binary_dice3d(pred==4,orig_label==4)\n",
        "\n",
        "def DSC_core(pred, orig_label):\n",
        "    #computes dice for core region\n",
        "    seg_=np.copy(pred)\n",
        "    ground_=np.copy(orig_label)\n",
        "    seg_[seg_==2]=0\n",
        "    ground_[ground_==2]=0\n",
        "    return binary_dice3d(seg_>0,ground_>0)"
      ]
    },
    {
      "cell_type": "code",
      "execution_count": null,
      "metadata": {
        "colab": {
          "base_uri": "https://localhost:8080/"
        },
        "id": "6dc3Pnyq1Nzf",
        "outputId": "626b4cb3-fc60-428e-9613-7f7441f54a65"
      },
      "outputs": [
        {
          "output_type": "stream",
          "name": "stdout",
          "text": [
            "Dice complete tumor score : 0.8986\n",
            "Dice core tumor score : 0.8527\n",
            "Dice enhancing tumor score :0.7822 \n"
          ]
        }
      ],
      "source": [
        "Dice_complete=DSC_whole(predicted_images,GT)\n",
        "Dice_enhancing=DSC_en(predicted_images,GT)\n",
        "Dice_core=DSC_core(predicted_images,GT)\n",
        "\n",
        "print(\"Dice complete tumor score : {:0.4f}\".format(Dice_complete))\n",
        "print(\"Dice core tumor score : {:0.4f}\".format(Dice_core))\n",
        "print(\"Dice enhancing tumor score :{:0.4f} \".format(Dice_enhancing))"
      ]
    }
  ],
  "metadata": {
    "accelerator": "GPU",
    "colab": {
      "machine_shape": "hm",
      "provenance": [],
      "gpuType": "A100",
      "include_colab_link": true
    },
    "kernelspec": {
      "display_name": "Python 3",
      "name": "python3"
    }
  },
  "nbformat": 4,
  "nbformat_minor": 0
}