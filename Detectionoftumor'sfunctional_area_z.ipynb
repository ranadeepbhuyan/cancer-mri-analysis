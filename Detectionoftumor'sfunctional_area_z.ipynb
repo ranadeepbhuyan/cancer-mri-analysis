{
  "nbformat": 4,
  "nbformat_minor": 0,
  "metadata": {
    "colab": {
      "provenance": [],
      "machine_shape": "hm",
      "authorship_tag": "ABX9TyNmWOzR7kCgJkNhVp+at9nF",
      "include_colab_link": true
    },
    "kernelspec": {
      "name": "python3",
      "display_name": "Python 3"
    },
    "language_info": {
      "name": "python"
    },
    "accelerator": "TPU"
  },
  "cells": [
    {
      "cell_type": "markdown",
      "metadata": {
        "id": "view-in-github",
        "colab_type": "text"
      },
      "source": [
        "<a href=\"https://colab.research.google.com/github/ranadeepbhuyan/cancer-mri-analysis/blob/main/Detectionoftumor'sfunctional_area_z.ipynb\" target=\"_parent\"><img src=\"https://colab.research.google.com/assets/colab-badge.svg\" alt=\"Open In Colab\"/></a>"
      ]
    },
    {
      "cell_type": "code",
      "execution_count": null,
      "metadata": {
        "id": "4CQh_H0brOTg"
      },
      "outputs": [],
      "source": [
        "import numpy as np\n",
        "import pandas as pd\n",
        "import matplotlib.pyplot as plt\n",
        "import cv2\n",
        "import nibabel as nib\n",
        "import os\n",
        "from matplotlib.gridspec import GridSpec\n",
        "from PIL import Image"
      ]
    },
    {
      "cell_type": "code",
      "source": [
        "from google.colab import drive\n",
        "drive.mount('/content/drive')"
      ],
      "metadata": {
        "colab": {
          "base_uri": "https://localhost:8080/"
        },
        "id": "HSt3X9-KrTdT",
        "outputId": "9a772e59-0cb3-49bc-9f4b-86d365243154"
      },
      "execution_count": null,
      "outputs": [
        {
          "output_type": "stream",
          "name": "stdout",
          "text": [
            "Mounted at /content/drive\n"
          ]
        }
      ]
    },
    {
      "cell_type": "code",
      "source": [
        "based_path_tumor = r\"/content/drive/MyDrive/PKG - UPENN-GBM 3d to 2d /along z/tumor_image_64_part\"\n",
        "based_path_brain_with_tumor = r\"/content/drive/MyDrive/PKG - UPENN-GBM 3d to 2d /along z/dataset_64part_each_2dimg\""
      ],
      "metadata": {
        "id": "rY9H_yJurUFi"
      },
      "execution_count": null,
      "outputs": []
    },
    {
      "cell_type": "code",
      "source": [
        "#fatching ids form data path\n",
        "def pathListIntoIds(dirList):\n",
        "    x = []\n",
        "    for i in range(0,len(dirList)):\n",
        "        x.append(dirList[i][dirList[i].rfind('/')+1:])\n",
        "    return x\n",
        "\n",
        "\n",
        "train_data_ids_tumor = [f.path for f in os.scandir(based_path_tumor)]\n",
        "train_data_ids_brain = [f.path for f in os.scandir(based_path_brain_with_tumor)]"
      ],
      "metadata": {
        "id": "XaNzDLgFsq36"
      },
      "execution_count": null,
      "outputs": []
    },
    {
      "cell_type": "code",
      "source": [
        "train_ids_tumor=[]\n",
        "for i in train_data_ids_tumor:\n",
        "  test = i.split(based_path_tumor + '/')[1]\n",
        "  train_ids_tumor.append(test)"
      ],
      "metadata": {
        "id": "i83EgDF6s4zQ"
      },
      "execution_count": null,
      "outputs": []
    },
    {
      "cell_type": "code",
      "source": [
        "train_ids_tumor[0]"
      ],
      "metadata": {
        "colab": {
          "base_uri": "https://localhost:8080/",
          "height": 36
        },
        "id": "kICxKvCutPs7",
        "outputId": "deb679a5-c2e4-426a-b2cb-1ab1e8473446"
      },
      "execution_count": null,
      "outputs": [
        {
          "output_type": "execute_result",
          "data": {
            "text/plain": [
              "'095_z_25.png'"
            ],
            "application/vnd.google.colaboratory.intrinsic+json": {
              "type": "string"
            }
          },
          "metadata": {},
          "execution_count": 6
        }
      ]
    },
    {
      "cell_type": "code",
      "source": [
        "train_ids_brain=[]\n",
        "for i in train_data_ids_brain:\n",
        "  test = i.split(based_path_brain_with_tumor + '/')[1]\n",
        "  train_ids_brain.append(test)"
      ],
      "metadata": {
        "id": "AVD7PU64t8sP"
      },
      "execution_count": null,
      "outputs": []
    },
    {
      "cell_type": "code",
      "source": [
        "train_ids_brain[0]"
      ],
      "metadata": {
        "colab": {
          "base_uri": "https://localhost:8080/",
          "height": 36
        },
        "id": "ynu_sG2WuW0B",
        "outputId": "dc6c378d-0a4a-4816-8cef-426519cf5a0a"
      },
      "execution_count": null,
      "outputs": [
        {
          "output_type": "execute_result",
          "data": {
            "text/plain": [
              "'124_z_25.png'"
            ],
            "application/vnd.google.colaboratory.intrinsic+json": {
              "type": "string"
            }
          },
          "metadata": {},
          "execution_count": 8
        }
      ]
    },
    {
      "cell_type": "code",
      "source": [
        "len(train_ids_tumor)"
      ],
      "metadata": {
        "colab": {
          "base_uri": "https://localhost:8080/"
        },
        "id": "usWdhadvuaCl",
        "outputId": "f9de32c0-ef2b-4314-f23a-54b29c4374b6"
      },
      "execution_count": null,
      "outputs": [
        {
          "output_type": "execute_result",
          "data": {
            "text/plain": [
              "5184"
            ]
          },
          "metadata": {},
          "execution_count": 9
        }
      ]
    },
    {
      "cell_type": "code",
      "source": [
        "len(train_ids_brain)"
      ],
      "metadata": {
        "colab": {
          "base_uri": "https://localhost:8080/"
        },
        "id": "46MHpTVrujIT",
        "outputId": "a204dce8-ddef-40ea-b283-f1603de467e8"
      },
      "execution_count": null,
      "outputs": [
        {
          "output_type": "execute_result",
          "data": {
            "text/plain": [
              "8960"
            ]
          },
          "metadata": {},
          "execution_count": 10
        }
      ]
    },
    {
      "cell_type": "code",
      "source": [
        "train_ids= []\n",
        "for i in train_ids_brain:\n",
        "  if i in train_ids_tumor:\n",
        "    train_ids.append(i)"
      ],
      "metadata": {
        "id": "Mokx-n1wulWz"
      },
      "execution_count": null,
      "outputs": []
    },
    {
      "cell_type": "code",
      "source": [
        "len(train_ids)"
      ],
      "metadata": {
        "colab": {
          "base_uri": "https://localhost:8080/"
        },
        "id": "H9f_Skf-vY36",
        "outputId": "b5ad24c8-b67d-4205-8e09-5b93d4ed2c16"
      },
      "execution_count": null,
      "outputs": [
        {
          "output_type": "execute_result",
          "data": {
            "text/plain": [
              "5184"
            ]
          },
          "metadata": {},
          "execution_count": 12
        }
      ]
    },
    {
      "cell_type": "code",
      "source": [
        "test_ids_060 = []\n",
        "for i in train_ids_brain:\n",
        "  test = i.split('_')[0]\n",
        "  if test == '060':\n",
        "    test_ids_060.append(i)"
      ],
      "metadata": {
        "id": "Gsgr2J9Bvbrl"
      },
      "execution_count": null,
      "outputs": []
    },
    {
      "cell_type": "code",
      "source": [
        "final_ids =[]\n",
        "for i in range(len(train_ids)):\n",
        "  path = os.path.join(based_path_tumor,train_ids[i])\n",
        "  image = cv2.imread(path)\n",
        "  if image.max() != image.min():\n",
        "    final_ids.append(train_ids[i])\n"
      ],
      "metadata": {
        "id": "3vBpzwbty-o8"
      },
      "execution_count": null,
      "outputs": []
    },
    {
      "cell_type": "code",
      "source": [
        "len(final_ids)"
      ],
      "metadata": {
        "colab": {
          "base_uri": "https://localhost:8080/"
        },
        "id": "doLrAMQKlt3t",
        "outputId": "813d376c-8687-473a-b00e-876749f12f64"
      },
      "execution_count": null,
      "outputs": [
        {
          "output_type": "execute_result",
          "data": {
            "text/plain": [
              "679"
            ]
          },
          "metadata": {},
          "execution_count": 88
        }
      ]
    },
    {
      "cell_type": "code",
      "source": [
        "# Create a figure and a grid of subplots (8x8)\n",
        "fig = plt.figure(figsize=(8, 8))\n",
        "gs = GridSpec(8,8, figure=fig)\n",
        "\n",
        "# Loop through and display each image\n",
        "for i in range(len(final_ids)):\n",
        "    path = os.path.join(based_path_tumor, final_ids[i])\n",
        "    image = cv2.imread(path)\n",
        "    ax = fig.add_subplot(gs[i])\n",
        "    ax.imshow(image,cmap=\"gray\")\n",
        "    ax.set_title(final_ids[i], fontsize=6)\n",
        "    ax.axis(\"off\")\n",
        "\n",
        "plt.tight_layout()\n",
        "plt.show()\n"
      ],
      "metadata": {
        "colab": {
          "base_uri": "https://localhost:8080/",
          "height": 218
        },
        "id": "UhzKjNQNwN-D",
        "outputId": "04d18f12-c753-4f3c-adbd-3224d287afea"
      },
      "execution_count": null,
      "outputs": [
        {
          "output_type": "display_data",
          "data": {
            "text/plain": [
              "<Figure size 800x800 with 11 Axes>"
            ],
            "image/png": "[encoded data removed]"
          },
          "metadata": {}
        }
      ]
    },
    {
      "cell_type": "code",
      "source": [
        "# Create a figure and a grid of subplots (8x8)\n",
        "fig = plt.figure(figsize=(8, 8))\n",
        "gs = GridSpec(8, 8, figure=fig)\n",
        "\n",
        "# Loop through and display each image\n",
        "for i in range(len(final_ids)):\n",
        "    path = os.path.join(based_path_brain_with_tumor, final_ids[i])\n",
        "    image = cv2.imread(path)\n",
        "    ax = fig.add_subplot(gs[i])\n",
        "    ax.imshow(image,cmap=\"gray\")\n",
        "    ax.set_title(final_ids[i], fontsize=6)\n",
        "    ax.axis(\"off\")\n",
        "\n",
        "plt.tight_layout()  # Ensure proper layout\n",
        "plt.show()  # Display the grid of images\n"
      ],
      "metadata": {
        "colab": {
          "base_uri": "https://localhost:8080/",
          "height": 218
        },
        "id": "YZmkGMRiwPlh",
        "outputId": "6dabdf7d-7776-422a-f380-e71327a52b27"
      },
      "execution_count": null,
      "outputs": [
        {
          "output_type": "display_data",
          "data": {
            "text/plain": [
              "<Figure size 800x800 with 11 Axes>"
            ],
            "image/png": "[encoded data removed]"
          },
          "metadata": {}
        }
      ]
    },
    {
      "cell_type": "code",
      "source": [
        "data_path = []\n",
        "data_ids = []\n",
        "#desired_width = 30\n",
        "#desired_height = 30\n",
        "for i in range(len(final_ids)):\n",
        "    filename = final_ids[i]\n",
        "    path = os.path.join(based_path_brain_with_tumor,final_ids[i])\n",
        "    img_data = cv2.imread(path)\n",
        "    gray_image = cv2.cvtColor(img_data, cv2.COLOR_BGR2GRAY)\n",
        "    #resized_image = cv2.resize(gray_image, (desired_width, desired_height), interpolation=cv2.INTER_LINEAR)\n",
        "    if 'z_' in filename and '.png' in filename:\n",
        "        test1 = filename.split('z_')[1]\n",
        "        test = test1.split('.png')[0]\n",
        "        data_path.append(gray_image)\n",
        "        data_ids.append(int(test))\n",
        "\n",
        "data_column = {'image_data': data_path,\n",
        "        'class': data_ids}\n",
        "data_set = pd.DataFrame(data_column)"
      ],
      "metadata": {
        "id": "E70m6brjzvRj"
      },
      "execution_count": null,
      "outputs": []
    },
    {
      "cell_type": "code",
      "source": [
        "data_list = data_set['image_data'].tolist()\n",
        "classes = data_set['class'].tolist()"
      ],
      "metadata": {
        "id": "LB9uU-4Rz-IK"
      },
      "execution_count": null,
      "outputs": []
    },
    {
      "cell_type": "code",
      "source": [
        "my_array = np.array(data_list)\n",
        "y_data = np.array(classes)"
      ],
      "metadata": {
        "id": "iYz4ObDF0Cih"
      },
      "execution_count": null,
      "outputs": []
    },
    {
      "cell_type": "code",
      "source": [
        "my_array.shape"
      ],
      "metadata": {
        "colab": {
          "base_uri": "https://localhost:8080/"
        },
        "id": "wFKZE34u0FAm",
        "outputId": "3de7cdc0-172d-42a9-84e6-dd0a20a3c934"
      },
      "execution_count": null,
      "outputs": [
        {
          "output_type": "execute_result",
          "data": {
            "text/plain": [
              "(679, 30, 30)"
            ]
          },
          "metadata": {},
          "execution_count": 86
        }
      ]
    },
    {
      "cell_type": "code",
      "source": [
        "from tensorflow.keras.utils import normalize\n",
        "\n",
        "x_train = normalize(my_array, axis=1)\n",
        "plt.imshow(x_train[1], cmap =plt.cm.binary)"
      ],
      "metadata": {
        "colab": {
          "base_uri": "https://localhost:8080/",
          "height": 448
        },
        "id": "W5wPIxHs0Hfl",
        "outputId": "cde1d9c3-af76-4fe6-9bf8-c402578f80be"
      },
      "execution_count": null,
      "outputs": [
        {
          "output_type": "execute_result",
          "data": {
            "text/plain": [
              "<matplotlib.image.AxesImage at 0x7c41f4a77be0>"
            ]
          },
          "metadata": {},
          "execution_count": 75
        },
        {
          "output_type": "display_data",
          "data": {
            "text/plain": [
              "<Figure size 640x480 with 1 Axes>"
            ],
            "image/png": "[encoded data removed]"
          },
          "metadata": {}
        }
      ]
    },
    {
      "cell_type": "code",
      "source": [
        "x_train = np.array(x_train).reshape(-1,30,30,1)\n",
        "print(x_train.shape)"
      ],
      "metadata": {
        "colab": {
          "base_uri": "https://localhost:8080/"
        },
        "id": "GWOYhMXa0UWF",
        "outputId": "d810b212-678f-4a13-99bc-58a1f3ed165e"
      },
      "execution_count": null,
      "outputs": [
        {
          "output_type": "stream",
          "name": "stdout",
          "text": [
            "(679, 30, 30, 1)\n"
          ]
        }
      ]
    },
    {
      "cell_type": "code",
      "source": [
        "from tensorflow.keras.models import load_model\n",
        "\n",
        "model = load_model('/content/drive/MyDrive/Detection models /along z/Detectionmodel1.hdf5')"
      ],
      "metadata": {
        "id": "EXf5CyuY0bXy"
      },
      "execution_count": null,
      "outputs": []
    },
    {
      "cell_type": "code",
      "source": [
        "from tensorflow.keras.callbacks import EarlyStopping, ModelCheckpoint, ReduceLROnPlateau\n",
        "import tensorflow as tf\n",
        "\n",
        "learning_rate = 0.001\n",
        "\n",
        "optimizer = tf.keras.optimizers.Adam(learning_rate=learning_rate)\n",
        "\n",
        "model.compile(optimizer=optimizer, loss='sparse_categorical_crossentropy', metrics=['accuracy'])\n",
        "\n",
        "earlystopping = EarlyStopping(monitor='val_loss',\n",
        "                              mode='min',\n",
        "                              verbose=1,\n",
        "                              patience=15\n",
        "                             )\n",
        "checkpointer = ModelCheckpoint(filepath=\"clf-resnet-weights.hdf5\",\n",
        "                               verbose=1,\n",
        "                               save_best_only=True\n",
        "                              )\n",
        "reduce_lr = ReduceLROnPlateau(monitor='val_loss',\n",
        "                              mode='min',\n",
        "                              verbose=1,\n",
        "                              patience=5,\n",
        "                              min_delta=0.0001,\n",
        "                              factor=0.2\n",
        "                             )"
      ],
      "metadata": {
        "id": "w8aGboT81BwI"
      },
      "execution_count": null,
      "outputs": []
    },
    {
      "cell_type": "code",
      "source": [
        "prediction = model.predict(x_train)"
      ],
      "metadata": {
        "colab": {
          "base_uri": "https://localhost:8080/"
        },
        "id": "lqGAj5vp1FNe",
        "outputId": "0c44ef50-5048-46ae-b2b4-7fa58dc2e036"
      },
      "execution_count": null,
      "outputs": [
        {
          "output_type": "stream",
          "name": "stdout",
          "text": [
            "22/22 [==============================] - 0s 4ms/step\n"
          ]
        }
      ]
    },
    {
      "cell_type": "code",
      "source": [
        "test = final_ids[0].split('_')[2].split('.png')[0]\n",
        "test"
      ],
      "metadata": {
        "colab": {
          "base_uri": "https://localhost:8080/",
          "height": 36
        },
        "id": "fMJjlT1E13U3",
        "outputId": "dde43850-235e-4d1b-b741-77811b8e39d1"
      },
      "execution_count": null,
      "outputs": [
        {
          "output_type": "execute_result",
          "data": {
            "text/plain": [
              "'21'"
            ],
            "application/vnd.google.colaboratory.intrinsic+json": {
              "type": "string"
            }
          },
          "metadata": {},
          "execution_count": 91
        }
      ]
    },
    {
      "cell_type": "code",
      "source": [
        "count = 0\n",
        "correct_ids = []\n",
        "\n",
        "for i in range(len(final_ids)):\n",
        "    prediction_index = np.argmax(prediction[i])\n",
        "    true_label = int(final_ids[i].split('_')[2].split('.png')[0])\n",
        "\n",
        "    if prediction_index == true_label:\n",
        "        count += 1\n",
        "        correct_ids.append(final_ids[i])\n",
        "\n",
        "print(f\"percentage of correct predictions: {(count/len(final_ids))*100}\")\n",
        "print(\"List of correct indices:\", correct_ids)\n",
        "\n"
      ],
      "metadata": {
        "colab": {
          "base_uri": "https://localhost:8080/"
        },
        "id": "87fKY0nc1OLl",
        "outputId": "36838c49-2595-4df2-a6a8-558f49a8e07d"
      },
      "execution_count": null,
      "outputs": [
        {
          "output_type": "stream",
          "name": "stdout",
          "text": [
            "percentage of correct predictions: 58.32106038291606\n",
            "List of correct indices: ['109_z_29.png', '110_z_29.png', '093_z_20.png', '093_z_21.png', '093_z_22.png', '093_z_27.png', '093_z_29.png', '094_z_20.png', '094_z_21.png', '094_z_22.png', '094_z_27.png', '094_z_28.png', '094_z_29.png', '094_z_37.png', '095_z_20.png', '095_z_21.png', '095_z_22.png', '095_z_27.png', '095_z_28.png', '095_z_29.png', '095_z_36.png', '095_z_37.png', '096_z_20.png', '096_z_21.png', '096_z_22.png', '096_z_27.png', '096_z_28.png', '096_z_37.png', '097_z_20.png', '097_z_21.png', '097_z_22.png', '097_z_28.png', '097_z_29.png', '097_z_37.png', '098_z_20.png', '098_z_21.png', '098_z_22.png', '098_z_28.png', '098_z_29.png', '099_z_20.png', '099_z_21.png', '099_z_22.png', '099_z_28.png', '099_z_29.png', '099_z_30.png', '100_z_20.png', '100_z_21.png', '100_z_22.png', '100_z_28.png', '100_z_30.png', '101_z_20.png', '101_z_22.png', '101_z_28.png', '101_z_30.png', '102_z_20.png', '102_z_22.png', '102_z_28.png', '102_z_30.png', '103_z_20.png', '103_z_22.png', '103_z_30.png', '104_z_20.png', '104_z_22.png', '104_z_28.png', '104_z_30.png', '105_z_20.png', '105_z_21.png', '105_z_28.png', '105_z_30.png', '106_z_20.png', '106_z_21.png', '106_z_28.png', '106_z_30.png', '107_z_20.png', '108_z_20.png', '077_z_36.png', '077_z_37.png', '078_z_13.png', '078_z_21.png', '078_z_22.png', '078_z_29.png', '078_z_31.png', '078_z_36.png', '078_z_37.png', '079_z_13.png', '079_z_21.png', '079_z_27.png', '079_z_28.png', '079_z_36.png', '079_z_37.png', '080_z_13.png', '080_z_21.png', '080_z_22.png', '080_z_27.png', '080_z_28.png', '080_z_29.png', '080_z_36.png', '080_z_37.png', '081_z_13.png', '081_z_21.png', '081_z_22.png', '081_z_27.png', '081_z_28.png', '081_z_36.png', '081_z_37.png', '082_z_13.png', '082_z_21.png', '082_z_22.png', '082_z_27.png', '082_z_28.png', '082_z_36.png', '082_z_37.png', '083_z_13.png', '083_z_21.png', '083_z_22.png', '083_z_28.png', '083_z_36.png', '083_z_37.png', '084_z_13.png', '084_z_21.png', '084_z_22.png', '084_z_27.png', '084_z_28.png', '084_z_37.png', '085_z_13.png', '085_z_21.png', '085_z_22.png', '085_z_27.png', '085_z_28.png', '086_z_13.png', '086_z_21.png', '086_z_22.png', '086_z_27.png', '086_z_28.png', '087_z_13.png', '087_z_21.png', '087_z_22.png', '088_z_21.png', '088_z_22.png', '089_z_20.png', '089_z_21.png', '089_z_22.png', '089_z_27.png', '090_z_20.png', '090_z_21.png', '090_z_22.png', '091_z_20.png', '091_z_21.png', '091_z_22.png', '091_z_29.png', '091_z_36.png', '092_z_20.png', '092_z_21.png', '092_z_22.png', '092_z_27.png', '092_z_29.png', '092_z_36.png', '062_z_20.png', '062_z_21.png', '062_z_22.png', '062_z_27.png', '062_z_28.png', '062_z_29.png', '062_z_30.png', '063_z_20.png', '063_z_21.png', '063_z_27.png', '063_z_28.png', '063_z_29.png', '063_z_30.png', '064_z_20.png', '064_z_21.png', '064_z_27.png', '064_z_28.png', '064_z_30.png', '064_z_36.png', '065_z_19.png', '065_z_20.png', '065_z_21.png', '065_z_22.png', '065_z_28.png', '065_z_36.png', '066_z_19.png', '066_z_20.png', '066_z_21.png', '066_z_22.png', '066_z_28.png', '066_z_36.png', '067_z_19.png', '067_z_20.png', '067_z_21.png', '067_z_22.png', '067_z_28.png', '067_z_36.png', '067_z_37.png', '068_z_20.png', '068_z_21.png', '068_z_22.png', '068_z_28.png', '068_z_36.png', '068_z_37.png', '069_z_19.png', '069_z_20.png', '069_z_21.png', '069_z_22.png', '069_z_27.png', '069_z_28.png', '069_z_36.png', '069_z_37.png', '070_z_13.png', '070_z_19.png', '070_z_20.png', '070_z_21.png', '070_z_22.png', '070_z_27.png', '070_z_28.png', '070_z_31.png', '070_z_37.png', '071_z_13.png', '071_z_19.png', '071_z_20.png', '071_z_21.png', '071_z_22.png', '071_z_28.png', '071_z_36.png', '071_z_37.png', '072_z_13.png', '072_z_19.png', '072_z_20.png', '072_z_21.png', '072_z_22.png', '072_z_28.png', '072_z_36.png', '072_z_37.png', '073_z_13.png', '073_z_19.png', '073_z_20.png', '073_z_21.png', '073_z_22.png', '073_z_27.png', '073_z_28.png', '073_z_36.png', '073_z_37.png', '074_z_13.png', '074_z_20.png', '074_z_21.png', '074_z_22.png', '074_z_27.png', '074_z_36.png', '075_z_13.png', '075_z_21.png', '075_z_22.png', '075_z_27.png', '075_z_36.png', '075_z_37.png', '076_z_13.png', '076_z_21.png', '076_z_22.png', '076_z_27.png', '076_z_29.png', '076_z_31.png', '076_z_36.png', '076_z_37.png', '077_z_13.png', '077_z_21.png', '077_z_22.png', '077_z_29.png', '077_z_31.png', '046_z_19.png', '046_z_20.png', '046_z_21.png', '046_z_27.png', '046_z_29.png', '047_z_19.png', '047_z_20.png', '047_z_21.png', '047_z_22.png', '047_z_29.png', '048_z_13.png', '048_z_19.png', '048_z_20.png', '048_z_21.png', '048_z_22.png', '048_z_27.png', '049_z_13.png', '049_z_19.png', '049_z_20.png', '049_z_21.png', '049_z_22.png', '049_z_29.png', '050_z_13.png', '050_z_19.png', '050_z_20.png', '050_z_21.png', '050_z_22.png', '050_z_29.png', '051_z_13.png', '051_z_19.png', '051_z_20.png', '051_z_21.png', '051_z_22.png', '052_z_13.png', '052_z_19.png', '052_z_20.png', '052_z_21.png', '052_z_22.png', '052_z_29.png', '053_z_13.png', '053_z_20.png', '053_z_21.png', '053_z_22.png', '053_z_29.png', '053_z_30.png', '054_z_13.png', '054_z_19.png', '054_z_20.png', '054_z_21.png', '054_z_29.png', '054_z_30.png', '055_z_13.png', '055_z_19.png', '055_z_20.png', '055_z_21.png', '055_z_29.png', '055_z_30.png', '056_z_20.png', '056_z_21.png', '056_z_29.png', '056_z_30.png', '057_z_20.png', '057_z_21.png', '057_z_30.png', '058_z_20.png', '058_z_21.png', '058_z_22.png', '058_z_28.png', '058_z_29.png', '058_z_30.png', '059_z_20.png', '059_z_21.png', '059_z_22.png', '059_z_28.png', '059_z_29.png', '059_z_30.png', '060_z_20.png', '060_z_21.png', '060_z_22.png', '060_z_28.png', '060_z_29.png', '060_z_30.png', '061_z_20.png', '061_z_21.png', '061_z_22.png', '061_z_28.png', '061_z_29.png', '061_z_30.png', '061_z_36.png', '032_z_28.png', '033_z_28.png', '034_z_28.png', '035_z_20.png', '035_z_21.png', '035_z_28.png', '036_z_20.png', '036_z_21.png', '036_z_28.png', '037_z_20.png', '037_z_21.png', '037_z_28.png', '038_z_20.png', '038_z_21.png', '038_z_28.png', '039_z_19.png', '039_z_20.png', '039_z_21.png', '039_z_28.png', '040_z_19.png', '040_z_20.png', '040_z_21.png', '040_z_28.png', '041_z_19.png', '041_z_20.png', '041_z_28.png', '042_z_19.png', '042_z_20.png', '042_z_28.png', '043_z_19.png', '043_z_20.png', '043_z_28.png', '044_z_19.png', '044_z_20.png', '044_z_29.png', '045_z_19.png', '045_z_20.png', '045_z_21.png', '045_z_29.png']\n"
          ]
        }
      ]
    },
    {
      "cell_type": "code",
      "source": [],
      "metadata": {
        "id": "77RmvNPBky1Q"
      },
      "execution_count": null,
      "outputs": []
    }
  ]
}