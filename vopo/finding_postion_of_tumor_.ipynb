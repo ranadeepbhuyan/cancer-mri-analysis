{
  "cells": [
    {
      "cell_type": "markdown",
      "metadata": {
        "id": "view-in-github",
        "colab_type": "text"
      },
      "source": [
        "<a href=\"https://colab.research.google.com/github/ranadeepbhuyan/cancer-mri-analysis/blob/main/vopo/finding_postion_of_tumor_.ipynb\" target=\"_parent\"><img src=\"https://colab.research.google.com/assets/colab-badge.svg\" alt=\"Open In Colab\"/></a>"
      ]
    },
    {
      "cell_type": "code",
      "execution_count": null,
      "id": "49ef9c3a",
      "metadata": {
        "id": "49ef9c3a",
        "outputId": "46a58301-d268-45da-86d4-0d8733d81dfa",
        "colab": {
          "base_uri": "https://localhost:8080/"
        }
      },
      "outputs": [
        {
          "output_type": "stream",
          "name": "stdout",
          "text": [
            "Requirement already satisfied: opencv-python in /usr/local/lib/python3.10/dist-packages (4.8.0.76)\n",
            "Requirement already satisfied: numpy>=1.21.2 in /usr/local/lib/python3.10/dist-packages (from opencv-python) (1.23.5)\n"
          ]
        }
      ],
      "source": [
        "!pip install opencv-python"
      ]
    },
    {
      "cell_type": "code",
      "execution_count": null,
      "id": "5bb5ca68",
      "metadata": {
        "id": "5bb5ca68",
        "outputId": "7a746812-f80d-4217-e0c9-c592466f1dc4",
        "colab": {
          "base_uri": "https://localhost:8080/"
        }
      },
      "outputs": [
        {
          "output_type": "stream",
          "name": "stdout",
          "text": [
            "Collecting nilearn\n",
            "  Downloading nilearn-0.10.1-py3-none-any.whl (10.3 MB)\n",
            "\u001b[2K     \u001b[90m━━━━━━━━━━━━━━━━━━━━━━━━━━━━━━━━━━━━━━━━\u001b[0m \u001b[32m10.3/10.3 MB\u001b[0m \u001b[31m36.8 MB/s\u001b[0m eta \u001b[36m0:00:00\u001b[0m\n",
            "\u001b[?25hRequirement already satisfied: joblib>=1.0.0 in /usr/local/lib/python3.10/dist-packages (from nilearn) (1.3.2)\n",
            "Requirement already satisfied: lxml in /usr/local/lib/python3.10/dist-packages (from nilearn) (4.9.3)\n",
            "Requirement already satisfied: nibabel>=3.2.0 in /usr/local/lib/python3.10/dist-packages (from nilearn) (4.0.2)\n",
            "Requirement already satisfied: numpy>=1.19.0 in /usr/local/lib/python3.10/dist-packages (from nilearn) (1.23.5)\n",
            "Requirement already satisfied: packaging in /usr/local/lib/python3.10/dist-packages (from nilearn) (23.1)\n",
            "Requirement already satisfied: pandas>=1.1.5 in /usr/local/lib/python3.10/dist-packages (from nilearn) (1.5.3)\n",
            "Requirement already satisfied: requests>=2.25.0 in /usr/local/lib/python3.10/dist-packages (from nilearn) (2.31.0)\n",
            "Requirement already satisfied: scikit-learn>=1.0.0 in /usr/local/lib/python3.10/dist-packages (from nilearn) (1.2.2)\n",
            "Requirement already satisfied: scipy>=1.6.0 in /usr/local/lib/python3.10/dist-packages (from nilearn) (1.10.1)\n",
            "Requirement already satisfied: setuptools in /usr/local/lib/python3.10/dist-packages (from nibabel>=3.2.0->nilearn) (67.7.2)\n",
            "Requirement already satisfied: python-dateutil>=2.8.1 in /usr/local/lib/python3.10/dist-packages (from pandas>=1.1.5->nilearn) (2.8.2)\n",
            "Requirement already satisfied: pytz>=2020.1 in /usr/local/lib/python3.10/dist-packages (from pandas>=1.1.5->nilearn) (2023.3)\n",
            "Requirement already satisfied: charset-normalizer<4,>=2 in /usr/local/lib/python3.10/dist-packages (from requests>=2.25.0->nilearn) (3.2.0)\n",
            "Requirement already satisfied: idna<4,>=2.5 in /usr/local/lib/python3.10/dist-packages (from requests>=2.25.0->nilearn) (3.4)\n",
            "Requirement already satisfied: urllib3<3,>=1.21.1 in /usr/local/lib/python3.10/dist-packages (from requests>=2.25.0->nilearn) (2.0.4)\n",
            "Requirement already satisfied: certifi>=2017.4.17 in /usr/local/lib/python3.10/dist-packages (from requests>=2.25.0->nilearn) (2023.7.22)\n",
            "Requirement already satisfied: threadpoolctl>=2.0.0 in /usr/local/lib/python3.10/dist-packages (from scikit-learn>=1.0.0->nilearn) (3.2.0)\n",
            "Requirement already satisfied: six>=1.5 in /usr/local/lib/python3.10/dist-packages (from python-dateutil>=2.8.1->pandas>=1.1.5->nilearn) (1.16.0)\n",
            "Installing collected packages: nilearn\n",
            "Successfully installed nilearn-0.10.1\n"
          ]
        }
      ],
      "source": [
        "!pip install nilearn"
      ]
    },
    {
      "cell_type": "code",
      "source": [
        "from google.colab import drive\n",
        "drive.mount('/content/drive')"
      ],
      "metadata": {
        "id": "4SknzpUNi21-",
        "colab": {
          "base_uri": "https://localhost:8080/"
        },
        "outputId": "679243e2-a0d1-4ec0-8060-0e2df2eb76a8"
      },
      "id": "4SknzpUNi21-",
      "execution_count": null,
      "outputs": [
        {
          "output_type": "stream",
          "name": "stdout",
          "text": [
            "Mounted at /content/drive\n"
          ]
        }
      ]
    },
    {
      "cell_type": "markdown",
      "source": [
        "Import necessary libraries"
      ],
      "metadata": {
        "id": "PztpgID7smf6"
      },
      "id": "PztpgID7smf6"
    },
    {
      "cell_type": "code",
      "execution_count": null,
      "id": "37ceea55",
      "metadata": {
        "id": "37ceea55"
      },
      "outputs": [],
      "source": [
        "import re\n",
        "import os\n",
        "import cv2\n",
        "import glob\n",
        "import PIL\n",
        "import shutil\n",
        "import numpy as np\n",
        "import pandas as pd\n",
        "import seaborn as sns\n",
        "import matplotlib.pyplot as plt\n",
        "from skimage import data\n",
        "from skimage.util import montage\n",
        "import skimage.transform as skTrans\n",
        "from skimage.transform import rotate\n",
        "from skimage.transform import resize\n",
        "from PIL import Image, ImageOps\n",
        "\n",
        "# neural imaging\n",
        "import nilearn as nl\n",
        "import nibabel as nib\n"
      ]
    },
    {
      "cell_type": "markdown",
      "source": [
        "Data path of the images"
      ],
      "metadata": {
        "id": "Wt9UJ7lKmAfs"
      },
      "id": "Wt9UJ7lKmAfs"
    },
    {
      "cell_type": "code",
      "execution_count": null,
      "id": "714447d5",
      "metadata": {
        "id": "714447d5"
      },
      "outputs": [],
      "source": [
        "TRAIN_DATASET_PATH = r\"/content/drive/MyDrive/PKG - UPENN-GBM NIfTI files/NIfTI-files/images_structural\" +'/'\n",
        "MASK = r\"/content/drive/MyDrive/PKG - UPENN-GBM NIfTI files/NIfTI-files/automated_segm\"+'/'\n"
      ]
    },
    {
      "cell_type": "markdown",
      "source": [
        "loading the images"
      ],
      "metadata": {
        "id": "Lh8hHBKImEnL"
      },
      "id": "Lh8hHBKImEnL"
    },
    {
      "cell_type": "code",
      "execution_count": null,
      "id": "33791f8e",
      "metadata": {
        "id": "33791f8e"
      },
      "outputs": [],
      "source": [
        "test_image_flair=nib.load(TRAIN_DATASET_PATH + 'UPENN-GBM-00019_11/UPENN-GBM-00019_11_FLAIR.nii').get_fdata()\n",
        "#test_mask=nib.load(MASK + 'UPENN-GBM-00019_11_automated_approx_segm.nii').get_fdata()"
      ]
    },
    {
      "cell_type": "markdown",
      "source": [
        "The below function is to calculate the centroid with the intensity of different voxel"
      ],
      "metadata": {
        "id": "Pw_hvguymdGI"
      },
      "id": "Pw_hvguymdGI"
    },
    {
      "cell_type": "code",
      "source": [
        "def calculate_centroid(volume_data):\n",
        "\n",
        "    # Initialize variables for centroid coordinates\n",
        "    x_centroid = 0\n",
        "    y_centroid = 0\n",
        "    z_centroid = 0\n",
        "\n",
        "    # Calculate the centroid coordinates\n",
        "    for x in range(volume_data.shape[0]):\n",
        "        for y in range(volume_data.shape[1]):\n",
        "            for z in range(volume_data.shape[2]):\n",
        "                voxel_value = volume_data[x, y, z]\n",
        "                x_centroid += x * voxel_value\n",
        "                y_centroid += y * voxel_value\n",
        "                z_centroid += z * voxel_value\n",
        "\n",
        "    # Divide by the total volume to get the centroid coordinates\n",
        "    x_centroid /= np.sum(volume_data)\n",
        "    y_centroid /= np.sum(volume_data)\n",
        "    z_centroid /= np.sum(volume_data)\n",
        "\n",
        "    centroid = (x_centroid, y_centroid, z_centroid)\n",
        "    return centroid\n"
      ],
      "metadata": {
        "id": "Z9-Go-F8QgwO"
      },
      "id": "Z9-Go-F8QgwO",
      "execution_count": null,
      "outputs": []
    },
    {
      "cell_type": "markdown",
      "source": [
        "Calculating the centroid the brian and coordinate of tumor voxels"
      ],
      "metadata": {
        "id": "zFSWIKGenYfP"
      },
      "id": "zFSWIKGenYfP"
    },
    {
      "cell_type": "code",
      "source": [
        "def centroid_and_coordinates(image_data):\n",
        "  x = calculate_centroid(image_data)\n",
        "  y = np.argwhere(image_data)\n",
        "  return x,y\n"
      ],
      "metadata": {
        "id": "nc88w2TMQFmK"
      },
      "id": "nc88w2TMQFmK",
      "execution_count": null,
      "outputs": []
    },
    {
      "cell_type": "markdown",
      "source": [
        "below funciton use to calculation the min coordinates and max coordinates of each axis  "
      ],
      "metadata": {
        "id": "D7TlxGSGs38b"
      },
      "id": "D7TlxGSGs38b"
    },
    {
      "cell_type": "code",
      "source": [
        "def compute_min_max(array2,a):\n",
        "  x=[]\n",
        "  for i in range(0,array2.shape[0]-1):\n",
        "    x.append(array2[i][a])\n",
        "  min_data = np.min(x)\n",
        "  max_data = np.max(x)\n",
        "  return min_data,max_data\n",
        "\n",
        "def range_of_xyz(array):\n",
        "  min_x, max_x = compute_min_max(array,0)\n",
        "  size_x = max_x-min_x\n",
        "  min_y, max_y = compute_min_max(array,1)\n",
        "  size_y = max_y-min_y\n",
        "  min_z, max_z = compute_min_max(array,2)\n",
        "  size_z = max_z-min_z\n",
        "  return [min_x,max_x], [min_y,max_y], [min_z,max_z]\n"
      ],
      "metadata": {
        "id": "ku2vtVmLOLnB"
      },
      "id": "ku2vtVmLOLnB",
      "execution_count": null,
      "outputs": []
    },
    {
      "cell_type": "markdown",
      "source": [
        "According to the min max coordinates of each axis we scaled the brain anatomiacal regions"
      ],
      "metadata": {
        "id": "9YQyNT3TtMPQ"
      },
      "id": "9YQyNT3TtMPQ"
    },
    {
      "cell_type": "code",
      "source": [
        "def normalize_anatomical_regions(anatomical_regions, initial_size_brain, range_x, range_y, range_z):\n",
        "    x_coords = []\n",
        "    y_coords = []\n",
        "    z_coords = []\n",
        "\n",
        "    for region, centroid_coords in anatomical_regions.items():\n",
        "        x_coords.append(centroid_coords[0])\n",
        "        y_coords.append(centroid_coords[1])\n",
        "        z_coords.append(centroid_coords[2])\n",
        "\n",
        "    for i in range(len(z_coords)):\n",
        "        x_coords[i] = x_coords[i] - 0 * (range_x[0] - range_x[1]) / (initial_size_brain[0] - 0) + range_x[0]\n",
        "        y_coords[i] = y_coords[i] - 0 * (range_y[0] - range_y[1]) / (initial_size_brain[1] - 0) + range_y[0]\n",
        "        z_coords[i] = z_coords[i] - 0 * (range_z[0] - range_z[1]) / (initial_size_brain[2] - 0) + range_z[0]\n",
        "\n",
        "    # Update the centroid coordinates in the anatomical_regions dictionary\n",
        "    normalized_regions = {}\n",
        "    for i, (region, _) in enumerate(anatomical_regions.items()):\n",
        "        normalized_regions[region] = (x_coords[i], y_coords[i], z_coords[i])\n",
        "\n",
        "    return normalized_regions\n",
        "\n"
      ],
      "metadata": {
        "id": "ps_Rp4FygnRf"
      },
      "id": "ps_Rp4FygnRf",
      "execution_count": null,
      "outputs": []
    },
    {
      "cell_type": "markdown",
      "source": [
        "Finding The tumor loaction using the tumor coordinates and the the normalized regions measuring the distance between the region of brain with each coordinates of the tumor and choosing the loaction with the minimum distance"
      ],
      "metadata": {
        "id": "vgXI07K6ta7-"
      },
      "id": "vgXI07K6ta7-"
    },
    {
      "cell_type": "code",
      "source": [
        "# Compare tumor centroid with anatomical regions\n",
        "def tumor_location(regions,tumor_coords):\n",
        "  closest_region = None\n",
        "  min_distance = float('inf')\n",
        "  for region, centroid_coords in regions.items():\n",
        "    distance = np.linalg.norm(np.array(centroid_coords) - tumor_coords)\n",
        "    if distance < min_distance:\n",
        "        min_distance = distance\n",
        "        closest_region = region\n",
        "  return closest_region\n",
        "\n"
      ],
      "metadata": {
        "id": "XHDl72zIvyZF"
      },
      "id": "XHDl72zIvyZF",
      "execution_count": null,
      "outputs": []
    },
    {
      "cell_type": "markdown",
      "source": [
        "Fetching out the IDS"
      ],
      "metadata": {
        "id": "vIriVpyuu1a2"
      },
      "id": "vIriVpyuu1a2"
    },
    {
      "cell_type": "code",
      "source": [
        "def pathListIntoIds(dirList):\n",
        "    x = []\n",
        "    for i in range(0,len(dirList)):\n",
        "        x.append(dirList[i][dirList[i].rfind('/')+1:])\n",
        "    return x\n",
        "\n",
        "train_data_ids = [f.path for f in os.scandir(TRAIN_DATASET_PATH)]\n",
        "\n",
        "train_data_mask_ids = [f.path for f in os.scandir(MASK)]\n",
        "\n",
        "train_data_mask_ids.sort()\n",
        "train_data_ids.sort()\n",
        "\n",
        "mask_ids = []\n",
        "for i in range(len(train_data_mask_ids)):\n",
        "  test = train_data_mask_ids[i].split('_automated_approx_segm.nii')[0]\n",
        "  test1 = test.split('/automated_segm/')[1]\n",
        "  mask_ids.append(test1)\n",
        "\n",
        "train_ids = []\n",
        "for i in range(len(train_data_ids)):\n",
        "  x = train_data_ids[i].split(\"/images_structural/\")[1]\n",
        "  train_ids.append(x)\n",
        "\n",
        "result = []\n",
        "for i in train_ids:\n",
        "    if i not in mask_ids:\n",
        "      result.append(i)\n",
        "\n",
        "for i in result:\n",
        "  train_ids.remove(i)"
      ],
      "metadata": {
        "id": "lesBD_OkRZf5"
      },
      "id": "lesBD_OkRZf5",
      "execution_count": null,
      "outputs": []
    },
    {
      "cell_type": "code",
      "source": [
        "train_ids.sort()\n",
        "print(len(train_ids))\n"
      ],
      "metadata": {
        "colab": {
          "base_uri": "https://localhost:8080/"
        },
        "id": "pTIfN4fMqJjO",
        "outputId": "2694213f-4ff4-41b5-ae97-9053e39a1034"
      },
      "id": "pTIfN4fMqJjO",
      "execution_count": null,
      "outputs": [
        {
          "output_type": "stream",
          "name": "stdout",
          "text": [
            "611\n"
          ]
        }
      ]
    },
    {
      "cell_type": "code",
      "source": [
        "initial_size_brain = [148, 172, 141]\n",
        "\n",
        "anatomical_regions = {\n",
        "    \"Initiating and Controlling Movement Area\": (20, 108, 90),\n",
        "    \"Tactile Sensation Processing Area\": (46, 16, 60),\n",
        "    \"Visual Information Processing Center\": (129, 98, 4),\n",
        "    \"Auditory Perception Center\": (4, 99, 69),\n",
        "    \"Speech Production Center\": (18, 126, 102),\n",
        "    \"Language Comprehension Center\": (40, 126, 102),\n",
        "    \"Executive Function and Decision-Making Area\": (22, 154, 82),\n",
        "    \"Memory Formation Center\": (109, 60, 68),\n",
        "    \"Motor Control and Habit Formation Area\": (98, 65, 65),\n",
        "    \"Balance and Coordination Center\": (119, 25, 20),\n",
        "    \"Sensory and Motor Signal Relay Center\": (73, 76, 70),\n",
        "    \"Emotion Processing Center\": (47, 64, 70)\n",
        "}\n",
        "brain_centroid, brain_coordinates = centroid_and_coordinates(test_image_flair)\n",
        "range_x,range_y,range_z = range_of_xyz(brain_coordinates)\n",
        "normalized_regions = normalize_anatomical_regions(anatomical_regions, initial_size_brain, range_x, range_y, range_z)"
      ],
      "metadata": {
        "id": "UMOwR7tP2eTj"
      },
      "id": "UMOwR7tP2eTj",
      "execution_count": null,
      "outputs": []
    },
    {
      "cell_type": "code",
      "source": [
        "print(range_x,range_y,range_z)"
      ],
      "metadata": {
        "id": "W9dBcHIcBG-r",
        "outputId": "111b23a5-c5e6-46b0-c839-5d0a0da40111",
        "colab": {
          "base_uri": "https://localhost:8080/"
        }
      },
      "id": "W9dBcHIcBG-r",
      "execution_count": null,
      "outputs": [
        {
          "output_type": "stream",
          "name": "stdout",
          "text": [
            "[54, 183] [45, 214] [6, 143]\n"
          ]
        }
      ]
    },
    {
      "cell_type": "code",
      "source": [
        "normalized_regions"
      ],
      "metadata": {
        "colab": {
          "base_uri": "https://localhost:8080/"
        },
        "id": "7_gcQdVl3Tzm",
        "outputId": "0faa77cd-9277-4228-b321-555b07d4224c"
      },
      "id": "7_gcQdVl3Tzm",
      "execution_count": null,
      "outputs": [
        {
          "output_type": "execute_result",
          "data": {
            "text/plain": [
              "{'Initiating and Controlling Movement Area': (74.0, 153.0, 96.0),\n",
              " 'Tactile Sensation Processing Area': (100.0, 61.0, 66.0),\n",
              " 'Visual Information Processing Center': (183.0, 143.0, 10.0),\n",
              " 'Auditory Perception Center': (58.0, 144.0, 75.0),\n",
              " 'Speech Production Center': (72.0, 171.0, 108.0),\n",
              " 'Language Comprehension Center': (94.0, 171.0, 108.0),\n",
              " 'Executive Function and Decision-Making Area': (76.0, 199.0, 88.0),\n",
              " 'Memory Formation Center': (163.0, 105.0, 74.0),\n",
              " 'Motor Control and Habit Formation Area': (152.0, 110.0, 71.0),\n",
              " 'Balance and Coordination Center': (173.0, 70.0, 26.0),\n",
              " 'Sensory and Motor Signal Relay Center': (127.0, 121.0, 76.0),\n",
              " 'Emotion Processing Center': (101.0, 109.0, 76.0)}"
            ]
          },
          "metadata": {},
          "execution_count": 12
        }
      ]
    },
    {
      "cell_type": "code",
      "source": [
        "# Display a slice of the image (e.g., the middle slice)\n",
        "slice_index = 76  # Assuming you want to display the middle slice\n",
        "plt.imshow(test_image_flair[:, :, slice_index], cmap='gray')\n",
        "\n",
        "for name, (x, y, z) in normalized_regions.items():\n",
        "  if z == slice_index:\n",
        "    plt.scatter(x, y, color='red', marker='o', label=name)\n",
        "\n",
        "plt.title('NIfTI Brain Image with Markers')\n",
        "plt.colorbar()\n",
        "plt.legend()\n",
        "plt.show()\n"
      ],
      "metadata": {
        "colab": {
          "base_uri": "https://localhost:8080/",
          "height": 452
        },
        "id": "dQrBgHHW21sV",
        "outputId": "db46a21d-b625-4c40-df7f-ea4cb11be0c1"
      },
      "id": "dQrBgHHW21sV",
      "execution_count": null,
      "outputs": [
        {
          "output_type": "display_data",
          "data": {
            "text/plain": [
              "<Figure size 640x480 with 2 Axes>"
            ],
            "image/png": "[encoded data removed]"
          },
          "metadata": {}
        }
      ]
    },
    {
      "cell_type": "code",
      "source": [
        "# Mark the specified coordinates with names\n"
      ],
      "metadata": {
        "colab": {
          "base_uri": "https://localhost:8080/",
          "height": 430
        },
        "id": "LhrD6_YG5c50",
        "outputId": "aa2ab626-071a-429f-fd82-a281528ac7d0"
      },
      "id": "LhrD6_YG5c50",
      "execution_count": null,
      "outputs": [
        {
          "output_type": "display_data",
          "data": {
            "text/plain": [
              "<Figure size 640x480 with 1 Axes>"
            ],
            "image/png": "[encoded data removed]"
          },
          "metadata": {}
        }
      ]
    },
    {
      "cell_type": "markdown",
      "source": [
        "Complete the process for 611 images to measure the tumor location"
      ],
      "metadata": {
        "id": "p38xbZrou5EZ"
      },
      "id": "p38xbZrou5EZ"
    },
    {
      "cell_type": "code",
      "source": [
        "# Example usage\n",
        "initial_size_brain = [148, 172, 141]\n",
        "\n",
        "anatomical_regions = {\n",
        "    \"Initiating and Controlling Movement Area\": (20, 108, 90),\n",
        "    \"Tactile Sensation Processing Area\": (46, 16, 60),\n",
        "    \"Visual Information Processing Center\": (129, 98, 4),\n",
        "    \"Auditory Perception Center\": (4, 99, 69),\n",
        "    \"Speech Production Center\": (18, 126, 102),\n",
        "    \"Language Comprehension Center\": (40, 126, 102),\n",
        "    \"Executive Function and Decision-Making Area\": (22, 154, 82),\n",
        "    \"Memory Formation Center\": (109, 60, 68),\n",
        "    \"Motor Control and Habit Formation Area\": (98, 65, 65),\n",
        "    \"Balance and Coordination Center\": (119, 25, 20),\n",
        "    \"Sensory and Motor Signal Relay Center\": (73, 76, 70),\n",
        "    \"Emotion Processing Center\": (47, 64, 70)\n",
        "}\n",
        "\n",
        "\n",
        "list_regions = []\n",
        "for i in range(len(train_ids)):\n",
        "  case_path0 = os.path.join(TRAIN_DATASET_PATH, train_ids[i] )\n",
        "  data_path0 = os.path.join(case_path0, f'{train_ids[i]}_FLAIR.nii')\n",
        "  case_path1 = os.path.join(MASK)\n",
        "  data_path1 = os.path.join(case_path1, f'{train_ids[i]}_automated_approx_segm.nii')\n",
        "  mask = nib.load(data_path1).get_fdata()\n",
        "  image = nib.load(data_path0).get_fdata()\n",
        "  tumor_centroid, tumor_coordinates = centroid_and_coordinates(mask)\n",
        "  brain_centroid, brain_coordinates = centroid_and_coordinates(image)\n",
        "  range_x,range_y,range_z = range_of_xyz(brain_coordinates)\n",
        "  normalized_regions = normalize_anatomical_regions(anatomical_regions, initial_size_brain, range_x, range_y, range_z)\n",
        "  #closest_region = tumor_location(normalized_regions,tumor_coordinates)\n",
        "  #list_regions.append(closest_region)\n"
      ],
      "metadata": {
        "id": "6M1FZCpqpm7-"
      },
      "id": "6M1FZCpqpm7-",
      "execution_count": null,
      "outputs": []
    },
    {
      "cell_type": "code",
      "source": [
        "list_regions"
      ],
      "metadata": {
        "colab": {
          "base_uri": "https://localhost:8080/"
        },
        "id": "6quw5iRfc9Uv",
        "outputId": "c4b40d56-5234-4510-fcdf-695d0228008e"
      },
      "id": "6quw5iRfc9Uv",
      "execution_count": null,
      "outputs": [
        {
          "output_type": "execute_result",
          "data": {
            "text/plain": [
              "['Emotion Processing Center',\n",
              " 'Emotion Processing Center',\n",
              " 'Language Comprehension Center',\n",
              " 'Sensory and Motor Signal Relay Center',\n",
              " 'Language Comprehension Center',\n",
              " 'Emotion Processing Center',\n",
              " 'Language Comprehension Center',\n",
              " 'Sensory and Motor Signal Relay Center',\n",
              " 'Language Comprehension Center',\n",
              " 'Emotion Processing Center',\n",
              " 'Sensory and Motor Signal Relay Center',\n",
              " 'Auditory Perception Center',\n",
              " 'Language Comprehension Center',\n",
              " 'Motor Control and Habit Formation Area',\n",
              " 'Motor Control and Habit Formation Area',\n",
              " 'Motor Control and Habit Formation Area',\n",
              " 'Emotion Processing Center',\n",
              " 'Initiating and Controlling Movement Area',\n",
              " 'Motor Control and Habit Formation Area',\n",
              " 'Emotion Processing Center',\n",
              " 'Initiating and Controlling Movement Area',\n",
              " 'Motor Control and Habit Formation Area',\n",
              " 'Language Comprehension Center',\n",
              " 'Motor Control and Habit Formation Area',\n",
              " 'Sensory and Motor Signal Relay Center',\n",
              " 'Sensory and Motor Signal Relay Center',\n",
              " 'Sensory and Motor Signal Relay Center',\n",
              " 'Motor Control and Habit Formation Area',\n",
              " 'Emotion Processing Center',\n",
              " 'Memory Formation Center',\n",
              " 'Emotion Processing Center',\n",
              " 'Emotion Processing Center',\n",
              " 'Sensory and Motor Signal Relay Center',\n",
              " 'Emotion Processing Center',\n",
              " 'Memory Formation Center',\n",
              " 'Sensory and Motor Signal Relay Center',\n",
              " 'Language Comprehension Center',\n",
              " 'Emotion Processing Center',\n",
              " 'Motor Control and Habit Formation Area',\n",
              " 'Auditory Perception Center',\n",
              " 'Initiating and Controlling Movement Area',\n",
              " 'Sensory and Motor Signal Relay Center',\n",
              " 'Motor Control and Habit Formation Area',\n",
              " 'Emotion Processing Center',\n",
              " 'Sensory and Motor Signal Relay Center',\n",
              " 'Auditory Perception Center',\n",
              " 'Emotion Processing Center',\n",
              " 'Language Comprehension Center',\n",
              " 'Language Comprehension Center',\n",
              " 'Memory Formation Center',\n",
              " 'Initiating and Controlling Movement Area',\n",
              " 'Motor Control and Habit Formation Area',\n",
              " 'Emotion Processing Center',\n",
              " 'Emotion Processing Center']"
            ]
          },
          "metadata": {},
          "execution_count": 206
        }
      ]
    },
    {
      "cell_type": "markdown",
      "source": [
        "The data is then transfered into a csv file"
      ],
      "metadata": {
        "id": "eWnB6rigvhky"
      },
      "id": "eWnB6rigvhky"
    },
    {
      "cell_type": "code",
      "source": [
        "df = pd.DataFrame(list_regions,columns =['position'])"
      ],
      "metadata": {
        "id": "nBuxX_VUU_rm"
      },
      "id": "nBuxX_VUU_rm",
      "execution_count": null,
      "outputs": []
    },
    {
      "cell_type": "code",
      "source": [
        "df['position'].value_counts()\n"
      ],
      "metadata": {
        "colab": {
          "base_uri": "https://localhost:8080/"
        },
        "id": "Np-ooCP0VOLp",
        "outputId": "240f5dc7-5c37-4fa0-bb9f-be1c2c41ff07"
      },
      "id": "Np-ooCP0VOLp",
      "execution_count": null,
      "outputs": [
        {
          "output_type": "execute_result",
          "data": {
            "text/plain": [
              "Motor Control and Habit Formation Area         138\n",
              "Sensory and Motor Signal Relay Center          135\n",
              "Emotion Processing Center                      130\n",
              "Language Comprehension Center                   74\n",
              "Initiating and Controlling Movement Area        65\n",
              "Memory Formation Center                         36\n",
              "Auditory Perception Center                      19\n",
              "Visual Information Processing Center             6\n",
              "Executive Function and Decision-Making Area      4\n",
              "Tactile Sensation Processing Area                3\n",
              "Speech Production Center                         1\n",
              "Name: position, dtype: int64"
            ]
          },
          "metadata": {},
          "execution_count": 216
        }
      ]
    },
    {
      "cell_type": "code",
      "source": [
        "df.to_csv('position_0f_tumor.csv')"
      ],
      "metadata": {
        "id": "c-Sc4oYZRfWx"
      },
      "id": "c-Sc4oYZRfWx",
      "execution_count": null,
      "outputs": []
    },
    {
      "cell_type": "code",
      "source": [
        "import pandas as pd\n",
        "import numpy as np\n",
        "\n",
        "data = pd.read_csv('/content/position_0f_tumor.csv')\n",
        "dataf = pd.DataFrame(data)\n",
        "dataf.head()"
      ],
      "metadata": {
        "id": "TaQDZvEDJsGq",
        "colab": {
          "base_uri": "https://localhost:8080/",
          "height": 206
        },
        "outputId": "878633fb-a349-41ca-ff63-4b684262f332"
      },
      "id": "TaQDZvEDJsGq",
      "execution_count": null,
      "outputs": [
        {
          "output_type": "execute_result",
          "data": {
            "text/plain": [
              "   Unnamed: 0                               position\n",
              "0           0              Emotion Processing Center\n",
              "1           1              Emotion Processing Center\n",
              "2           2          Language Comprehension Center\n",
              "3           3  Sensory and Motor Signal Relay Center\n",
              "4           4          Language Comprehension Center"
            ],
            "text/html": [
              "\n",
              "  <div id=\"df-f1118b37-c8e6-473b-b94b-a3dae4c1dd4f\" class=\"colab-df-container\">\n",
              "    <div>\n",
              "<style scoped>\n",
              "    .dataframe tbody tr th:only-of-type {\n",
              "        vertical-align: middle;\n",
              "    }\n",
              "\n",
              "    .dataframe tbody tr th {\n",
              "        vertical-align: top;\n",
              "    }\n",
              "\n",
              "    .dataframe thead th {\n",
              "        text-align: right;\n",
              "    }\n",
              "</style>\n",
              "<table border=\"1\" class=\"dataframe\">\n",
              "  <thead>\n",
              "    <tr style=\"text-align: right;\">\n",
              "      <th></th>\n",
              "      <th>Unnamed: 0</th>\n",
              "      <th>position</th>\n",
              "    </tr>\n",
              "  </thead>\n",
              "  <tbody>\n",
              "    <tr>\n",
              "      <th>0</th>\n",
              "      <td>0</td>\n",
              "      <td>Emotion Processing Center</td>\n",
              "    </tr>\n",
              "    <tr>\n",
              "      <th>1</th>\n",
              "      <td>1</td>\n",
              "      <td>Emotion Processing Center</td>\n",
              "    </tr>\n",
              "    <tr>\n",
              "      <th>2</th>\n",
              "      <td>2</td>\n",
              "      <td>Language Comprehension Center</td>\n",
              "    </tr>\n",
              "    <tr>\n",
              "      <th>3</th>\n",
              "      <td>3</td>\n",
              "      <td>Sensory and Motor Signal Relay Center</td>\n",
              "    </tr>\n",
              "    <tr>\n",
              "      <th>4</th>\n",
              "      <td>4</td>\n",
              "      <td>Language Comprehension Center</td>\n",
              "    </tr>\n",
              "  </tbody>\n",
              "</table>\n",
              "</div>\n",
              "    <div class=\"colab-df-buttons\">\n",
              "\n",
              "  <div class=\"colab-df-container\">\n",
              "    <button class=\"colab-df-convert\" onclick=\"convertToInteractive('df-f1118b37-c8e6-473b-b94b-a3dae4c1dd4f')\"\n",
              "            title=\"Convert this dataframe to an interactive table.\"\n",
              "            style=\"display:none;\">\n",
              "\n",
              "  <svg xmlns=\"http://www.w3.org/2000/svg\" height=\"24px\" viewBox=\"0 -960 960 960\">\n",
              "    <path d=\"M120-120v-720h720v720H120Zm60-500h600v-160H180v160Zm220 220h160v-160H400v160Zm0 220h160v-160H400v160ZM180-400h160v-160H180v160Zm440 0h160v-160H620v160ZM180-180h160v-160H180v160Zm440 0h160v-160H620v160Z\"/>\n",
              "  </svg>\n",
              "    </button>\n",
              "\n",
              "  <style>\n",
              "    .colab-df-container {\n",
              "      display:flex;\n",
              "      gap: 12px;\n",
              "    }\n",
              "\n",
              "    .colab-df-convert {\n",
              "      background-color: #E8F0FE;\n",
              "      border: none;\n",
              "      border-radius: 50%;\n",
              "      cursor: pointer;\n",
              "      display: none;\n",
              "      fill: #1967D2;\n",
              "      height: 32px;\n",
              "      padding: 0 0 0 0;\n",
              "      width: 32px;\n",
              "    }\n",
              "\n",
              "    .colab-df-convert:hover {\n",
              "      background-color: #E2EBFA;\n",
              "      box-shadow: 0px 1px 2px rgba(60, 64, 67, 0.3), 0px 1px 3px 1px rgba(60, 64, 67, 0.15);\n",
              "      fill: #174EA6;\n",
              "    }\n",
              "\n",
              "    .colab-df-buttons div {\n",
              "      margin-bottom: 4px;\n",
              "    }\n",
              "\n",
              "    [theme=dark] .colab-df-convert {\n",
              "      background-color: #3B4455;\n",
              "      fill: #D2E3FC;\n",
              "    }\n",
              "\n",
              "    [theme=dark] .colab-df-convert:hover {\n",
              "      background-color: #434B5C;\n",
              "      box-shadow: 0px 1px 3px 1px rgba(0, 0, 0, 0.15);\n",
              "      filter: drop-shadow(0px 1px 2px rgba(0, 0, 0, 0.3));\n",
              "      fill: #FFFFFF;\n",
              "    }\n",
              "  </style>\n",
              "\n",
              "    <script>\n",
              "      const buttonEl =\n",
              "        document.querySelector('#df-f1118b37-c8e6-473b-b94b-a3dae4c1dd4f button.colab-df-convert');\n",
              "      buttonEl.style.display =\n",
              "        google.colab.kernel.accessAllowed ? 'block' : 'none';\n",
              "\n",
              "      async function convertToInteractive(key) {\n",
              "        const element = document.querySelector('#df-f1118b37-c8e6-473b-b94b-a3dae4c1dd4f');\n",
              "        const dataTable =\n",
              "          await google.colab.kernel.invokeFunction('convertToInteractive',\n",
              "                                                    [key], {});\n",
              "        if (!dataTable) return;\n",
              "\n",
              "        const docLinkHtml = 'Like what you see? Visit the ' +\n",
              "          '<a target=\"_blank\" href=https://colab.research.google.com/notebooks/data_table.ipynb>data table notebook</a>'\n",
              "          + ' to learn more about interactive tables.';\n",
              "        element.innerHTML = '';\n",
              "        dataTable['output_type'] = 'display_data';\n",
              "        await google.colab.output.renderOutput(dataTable, element);\n",
              "        const docLink = document.createElement('div');\n",
              "        docLink.innerHTML = docLinkHtml;\n",
              "        element.appendChild(docLink);\n",
              "      }\n",
              "    </script>\n",
              "  </div>\n",
              "\n",
              "\n",
              "<div id=\"df-cae73a65-dd92-4b1e-a96d-791203b41680\">\n",
              "  <button class=\"colab-df-quickchart\" onclick=\"quickchart('df-cae73a65-dd92-4b1e-a96d-791203b41680')\"\n",
              "            title=\"Suggest charts.\"\n",
              "            style=\"display:none;\">\n",
              "\n",
              "<svg xmlns=\"http://www.w3.org/2000/svg\" height=\"24px\"viewBox=\"0 0 24 24\"\n",
              "     width=\"24px\">\n",
              "    <g>\n",
              "        <path d=\"M19 3H5c-1.1 0-2 .9-2 2v14c0 1.1.9 2 2 2h14c1.1 0 2-.9 2-2V5c0-1.1-.9-2-2-2zM9 17H7v-7h2v7zm4 0h-2V7h2v10zm4 0h-2v-4h2v4z\"/>\n",
              "    </g>\n",
              "</svg>\n",
              "  </button>\n",
              "\n",
              "<style>\n",
              "  .colab-df-quickchart {\n",
              "    background-color: #E8F0FE;\n",
              "    border: none;\n",
              "    border-radius: 50%;\n",
              "    cursor: pointer;\n",
              "    display: none;\n",
              "    fill: #1967D2;\n",
              "    height: 32px;\n",
              "    padding: 0 0 0 0;\n",
              "    width: 32px;\n",
              "  }\n",
              "\n",
              "  .colab-df-quickchart:hover {\n",
              "    background-color: #E2EBFA;\n",
              "    box-shadow: 0px 1px 2px rgba(60, 64, 67, 0.3), 0px 1px 3px 1px rgba(60, 64, 67, 0.15);\n",
              "    fill: #174EA6;\n",
              "  }\n",
              "\n",
              "  [theme=dark] .colab-df-quickchart {\n",
              "    background-color: #3B4455;\n",
              "    fill: #D2E3FC;\n",
              "  }\n",
              "\n",
              "  [theme=dark] .colab-df-quickchart:hover {\n",
              "    background-color: #434B5C;\n",
              "    box-shadow: 0px 1px 3px 1px rgba(0, 0, 0, 0.15);\n",
              "    filter: drop-shadow(0px 1px 2px rgba(0, 0, 0, 0.3));\n",
              "    fill: #FFFFFF;\n",
              "  }\n",
              "</style>\n",
              "\n",
              "  <script>\n",
              "    async function quickchart(key) {\n",
              "      const charts = await google.colab.kernel.invokeFunction(\n",
              "          'suggestCharts', [key], {});\n",
              "    }\n",
              "    (() => {\n",
              "      let quickchartButtonEl =\n",
              "        document.querySelector('#df-cae73a65-dd92-4b1e-a96d-791203b41680 button');\n",
              "      quickchartButtonEl.style.display =\n",
              "        google.colab.kernel.accessAllowed ? 'block' : 'none';\n",
              "    })();\n",
              "  </script>\n",
              "</div>\n",
              "    </div>\n",
              "  </div>\n"
            ]
          },
          "metadata": {},
          "execution_count": 2
        }
      ]
    },
    {
      "cell_type": "code",
      "source": [
        "dataf.drop(['Unnamed: 0'], axis=1)"
      ],
      "metadata": {
        "colab": {
          "base_uri": "https://localhost:8080/",
          "height": 423
        },
        "id": "bUP-pjYzqCX-",
        "outputId": "99612034-125c-4e36-d6b2-c45c8e59ec13"
      },
      "id": "bUP-pjYzqCX-",
      "execution_count": null,
      "outputs": [
        {
          "output_type": "execute_result",
          "data": {
            "text/plain": [
              "                                   position\n",
              "0                 Emotion Processing Center\n",
              "1                 Emotion Processing Center\n",
              "2             Language Comprehension Center\n",
              "3     Sensory and Motor Signal Relay Center\n",
              "4             Language Comprehension Center\n",
              "..                                      ...\n",
              "606  Motor Control and Habit Formation Area\n",
              "607  Motor Control and Habit Formation Area\n",
              "608   Sensory and Motor Signal Relay Center\n",
              "609   Sensory and Motor Signal Relay Center\n",
              "610  Motor Control and Habit Formation Area\n",
              "\n",
              "[611 rows x 1 columns]"
            ],
            "text/html": [
              "\n",
              "  <div id=\"df-33fbcd59-86d1-4485-ba52-f894aee3d3f2\" class=\"colab-df-container\">\n",
              "    <div>\n",
              "<style scoped>\n",
              "    .dataframe tbody tr th:only-of-type {\n",
              "        vertical-align: middle;\n",
              "    }\n",
              "\n",
              "    .dataframe tbody tr th {\n",
              "        vertical-align: top;\n",
              "    }\n",
              "\n",
              "    .dataframe thead th {\n",
              "        text-align: right;\n",
              "    }\n",
              "</style>\n",
              "<table border=\"1\" class=\"dataframe\">\n",
              "  <thead>\n",
              "    <tr style=\"text-align: right;\">\n",
              "      <th></th>\n",
              "      <th>position</th>\n",
              "    </tr>\n",
              "  </thead>\n",
              "  <tbody>\n",
              "    <tr>\n",
              "      <th>0</th>\n",
              "      <td>Emotion Processing Center</td>\n",
              "    </tr>\n",
              "    <tr>\n",
              "      <th>1</th>\n",
              "      <td>Emotion Processing Center</td>\n",
              "    </tr>\n",
              "    <tr>\n",
              "      <th>2</th>\n",
              "      <td>Language Comprehension Center</td>\n",
              "    </tr>\n",
              "    <tr>\n",
              "      <th>3</th>\n",
              "      <td>Sensory and Motor Signal Relay Center</td>\n",
              "    </tr>\n",
              "    <tr>\n",
              "      <th>4</th>\n",
              "      <td>Language Comprehension Center</td>\n",
              "    </tr>\n",
              "    <tr>\n",
              "      <th>...</th>\n",
              "      <td>...</td>\n",
              "    </tr>\n",
              "    <tr>\n",
              "      <th>606</th>\n",
              "      <td>Motor Control and Habit Formation Area</td>\n",
              "    </tr>\n",
              "    <tr>\n",
              "      <th>607</th>\n",
              "      <td>Motor Control and Habit Formation Area</td>\n",
              "    </tr>\n",
              "    <tr>\n",
              "      <th>608</th>\n",
              "      <td>Sensory and Motor Signal Relay Center</td>\n",
              "    </tr>\n",
              "    <tr>\n",
              "      <th>609</th>\n",
              "      <td>Sensory and Motor Signal Relay Center</td>\n",
              "    </tr>\n",
              "    <tr>\n",
              "      <th>610</th>\n",
              "      <td>Motor Control and Habit Formation Area</td>\n",
              "    </tr>\n",
              "  </tbody>\n",
              "</table>\n",
              "<p>611 rows × 1 columns</p>\n",
              "</div>\n",
              "    <div class=\"colab-df-buttons\">\n",
              "\n",
              "  <div class=\"colab-df-container\">\n",
              "    <button class=\"colab-df-convert\" onclick=\"convertToInteractive('df-33fbcd59-86d1-4485-ba52-f894aee3d3f2')\"\n",
              "            title=\"Convert this dataframe to an interactive table.\"\n",
              "            style=\"display:none;\">\n",
              "\n",
              "  <svg xmlns=\"http://www.w3.org/2000/svg\" height=\"24px\" viewBox=\"0 -960 960 960\">\n",
              "    <path d=\"M120-120v-720h720v720H120Zm60-500h600v-160H180v160Zm220 220h160v-160H400v160Zm0 220h160v-160H400v160ZM180-400h160v-160H180v160Zm440 0h160v-160H620v160ZM180-180h160v-160H180v160Zm440 0h160v-160H620v160Z\"/>\n",
              "  </svg>\n",
              "    </button>\n",
              "\n",
              "  <style>\n",
              "    .colab-df-container {\n",
              "      display:flex;\n",
              "      gap: 12px;\n",
              "    }\n",
              "\n",
              "    .colab-df-convert {\n",
              "      background-color: #E8F0FE;\n",
              "      border: none;\n",
              "      border-radius: 50%;\n",
              "      cursor: pointer;\n",
              "      display: none;\n",
              "      fill: #1967D2;\n",
              "      height: 32px;\n",
              "      padding: 0 0 0 0;\n",
              "      width: 32px;\n",
              "    }\n",
              "\n",
              "    .colab-df-convert:hover {\n",
              "      background-color: #E2EBFA;\n",
              "      box-shadow: 0px 1px 2px rgba(60, 64, 67, 0.3), 0px 1px 3px 1px rgba(60, 64, 67, 0.15);\n",
              "      fill: #174EA6;\n",
              "    }\n",
              "\n",
              "    .colab-df-buttons div {\n",
              "      margin-bottom: 4px;\n",
              "    }\n",
              "\n",
              "    [theme=dark] .colab-df-convert {\n",
              "      background-color: #3B4455;\n",
              "      fill: #D2E3FC;\n",
              "    }\n",
              "\n",
              "    [theme=dark] .colab-df-convert:hover {\n",
              "      background-color: #434B5C;\n",
              "      box-shadow: 0px 1px 3px 1px rgba(0, 0, 0, 0.15);\n",
              "      filter: drop-shadow(0px 1px 2px rgba(0, 0, 0, 0.3));\n",
              "      fill: #FFFFFF;\n",
              "    }\n",
              "  </style>\n",
              "\n",
              "    <script>\n",
              "      const buttonEl =\n",
              "        document.querySelector('#df-33fbcd59-86d1-4485-ba52-f894aee3d3f2 button.colab-df-convert');\n",
              "      buttonEl.style.display =\n",
              "        google.colab.kernel.accessAllowed ? 'block' : 'none';\n",
              "\n",
              "      async function convertToInteractive(key) {\n",
              "        const element = document.querySelector('#df-33fbcd59-86d1-4485-ba52-f894aee3d3f2');\n",
              "        const dataTable =\n",
              "          await google.colab.kernel.invokeFunction('convertToInteractive',\n",
              "                                                    [key], {});\n",
              "        if (!dataTable) return;\n",
              "\n",
              "        const docLinkHtml = 'Like what you see? Visit the ' +\n",
              "          '<a target=\"_blank\" href=https://colab.research.google.com/notebooks/data_table.ipynb>data table notebook</a>'\n",
              "          + ' to learn more about interactive tables.';\n",
              "        element.innerHTML = '';\n",
              "        dataTable['output_type'] = 'display_data';\n",
              "        await google.colab.output.renderOutput(dataTable, element);\n",
              "        const docLink = document.createElement('div');\n",
              "        docLink.innerHTML = docLinkHtml;\n",
              "        element.appendChild(docLink);\n",
              "      }\n",
              "    </script>\n",
              "  </div>\n",
              "\n",
              "\n",
              "<div id=\"df-186d2ce6-773b-42fb-8728-6855e6341cec\">\n",
              "  <button class=\"colab-df-quickchart\" onclick=\"quickchart('df-186d2ce6-773b-42fb-8728-6855e6341cec')\"\n",
              "            title=\"Suggest charts.\"\n",
              "            style=\"display:none;\">\n",
              "\n",
              "<svg xmlns=\"http://www.w3.org/2000/svg\" height=\"24px\"viewBox=\"0 0 24 24\"\n",
              "     width=\"24px\">\n",
              "    <g>\n",
              "        <path d=\"M19 3H5c-1.1 0-2 .9-2 2v14c0 1.1.9 2 2 2h14c1.1 0 2-.9 2-2V5c0-1.1-.9-2-2-2zM9 17H7v-7h2v7zm4 0h-2V7h2v10zm4 0h-2v-4h2v4z\"/>\n",
              "    </g>\n",
              "</svg>\n",
              "  </button>\n",
              "\n",
              "<style>\n",
              "  .colab-df-quickchart {\n",
              "    background-color: #E8F0FE;\n",
              "    border: none;\n",
              "    border-radius: 50%;\n",
              "    cursor: pointer;\n",
              "    display: none;\n",
              "    fill: #1967D2;\n",
              "    height: 32px;\n",
              "    padding: 0 0 0 0;\n",
              "    width: 32px;\n",
              "  }\n",
              "\n",
              "  .colab-df-quickchart:hover {\n",
              "    background-color: #E2EBFA;\n",
              "    box-shadow: 0px 1px 2px rgba(60, 64, 67, 0.3), 0px 1px 3px 1px rgba(60, 64, 67, 0.15);\n",
              "    fill: #174EA6;\n",
              "  }\n",
              "\n",
              "  [theme=dark] .colab-df-quickchart {\n",
              "    background-color: #3B4455;\n",
              "    fill: #D2E3FC;\n",
              "  }\n",
              "\n",
              "  [theme=dark] .colab-df-quickchart:hover {\n",
              "    background-color: #434B5C;\n",
              "    box-shadow: 0px 1px 3px 1px rgba(0, 0, 0, 0.15);\n",
              "    filter: drop-shadow(0px 1px 2px rgba(0, 0, 0, 0.3));\n",
              "    fill: #FFFFFF;\n",
              "  }\n",
              "</style>\n",
              "\n",
              "  <script>\n",
              "    async function quickchart(key) {\n",
              "      const charts = await google.colab.kernel.invokeFunction(\n",
              "          'suggestCharts', [key], {});\n",
              "    }\n",
              "    (() => {\n",
              "      let quickchartButtonEl =\n",
              "        document.querySelector('#df-186d2ce6-773b-42fb-8728-6855e6341cec button');\n",
              "      quickchartButtonEl.style.display =\n",
              "        google.colab.kernel.accessAllowed ? 'block' : 'none';\n",
              "    })();\n",
              "  </script>\n",
              "</div>\n",
              "    </div>\n",
              "  </div>\n"
            ]
          },
          "metadata": {},
          "execution_count": 9
        }
      ]
    },
    {
      "cell_type": "code",
      "source": [
        "s = dataf['position'][610].replace(' Center', '').replace(' Area', '')\n",
        "\n",
        "s"
      ],
      "metadata": {
        "colab": {
          "base_uri": "https://localhost:8080/",
          "height": 36
        },
        "id": "QUrX4O6ZrNHS",
        "outputId": "7b7e9550-ffeb-4542-ffd7-af61064eb273"
      },
      "id": "QUrX4O6ZrNHS",
      "execution_count": null,
      "outputs": [
        {
          "output_type": "execute_result",
          "data": {
            "text/plain": [
              "'Motor Control and Habit Formation'"
            ],
            "application/vnd.google.colaboratory.intrinsic+json": {
              "type": "string"
            }
          },
          "metadata": {},
          "execution_count": 18
        }
      ]
    },
    {
      "cell_type": "code",
      "source": [
        "for i in range(len(dataf['position'])):\n",
        "  dataf['position'][i] = dataf['position'][i].replace(' Center', '').replace(' Area', '')"
      ],
      "metadata": {
        "colab": {
          "base_uri": "https://localhost:8080/"
        },
        "id": "Aq2L8aJfqP3n",
        "outputId": "242544be-90de-4e9e-998c-dbb21fad41fc"
      },
      "id": "Aq2L8aJfqP3n",
      "execution_count": null,
      "outputs": [
        {
          "output_type": "stream",
          "name": "stderr",
          "text": [
            "<ipython-input-19-424c13a6c3b9>:2: SettingWithCopyWarning: \n",
            "A value is trying to be set on a copy of a slice from a DataFrame\n",
            "\n",
            "See the caveats in the documentation: https://pandas.pydata.org/pandas-docs/stable/user_guide/indexing.html#returning-a-view-versus-a-copy\n",
            "  dataf['position'][i] = dataf['position'][i].replace(' Center', '').replace(' Area', '')\n"
          ]
        }
      ]
    },
    {
      "cell_type": "code",
      "source": [
        "dataf"
      ],
      "metadata": {
        "colab": {
          "base_uri": "https://localhost:8080/",
          "height": 423
        },
        "id": "y06IK89usK8y",
        "outputId": "13c4154c-16b3-497e-c978-1b678e03096b"
      },
      "id": "y06IK89usK8y",
      "execution_count": null,
      "outputs": [
        {
          "output_type": "execute_result",
          "data": {
            "text/plain": [
              "     Unnamed: 0                           position\n",
              "0             0                 Emotion Processing\n",
              "1             1                 Emotion Processing\n",
              "2             2             Language Comprehension\n",
              "3             3     Sensory and Motor Signal Relay\n",
              "4             4             Language Comprehension\n",
              "..          ...                                ...\n",
              "606         606  Motor Control and Habit Formation\n",
              "607         607  Motor Control and Habit Formation\n",
              "608         608     Sensory and Motor Signal Relay\n",
              "609         609     Sensory and Motor Signal Relay\n",
              "610         610  Motor Control and Habit Formation\n",
              "\n",
              "[611 rows x 2 columns]"
            ],
            "text/html": [
              "\n",
              "  <div id=\"df-973eaf51-aa68-4de3-ba7e-ddd58da2727a\" class=\"colab-df-container\">\n",
              "    <div>\n",
              "<style scoped>\n",
              "    .dataframe tbody tr th:only-of-type {\n",
              "        vertical-align: middle;\n",
              "    }\n",
              "\n",
              "    .dataframe tbody tr th {\n",
              "        vertical-align: top;\n",
              "    }\n",
              "\n",
              "    .dataframe thead th {\n",
              "        text-align: right;\n",
              "    }\n",
              "</style>\n",
              "<table border=\"1\" class=\"dataframe\">\n",
              "  <thead>\n",
              "    <tr style=\"text-align: right;\">\n",
              "      <th></th>\n",
              "      <th>Unnamed: 0</th>\n",
              "      <th>position</th>\n",
              "    </tr>\n",
              "  </thead>\n",
              "  <tbody>\n",
              "    <tr>\n",
              "      <th>0</th>\n",
              "      <td>0</td>\n",
              "      <td>Emotion Processing</td>\n",
              "    </tr>\n",
              "    <tr>\n",
              "      <th>1</th>\n",
              "      <td>1</td>\n",
              "      <td>Emotion Processing</td>\n",
              "    </tr>\n",
              "    <tr>\n",
              "      <th>2</th>\n",
              "      <td>2</td>\n",
              "      <td>Language Comprehension</td>\n",
              "    </tr>\n",
              "    <tr>\n",
              "      <th>3</th>\n",
              "      <td>3</td>\n",
              "      <td>Sensory and Motor Signal Relay</td>\n",
              "    </tr>\n",
              "    <tr>\n",
              "      <th>4</th>\n",
              "      <td>4</td>\n",
              "      <td>Language Comprehension</td>\n",
              "    </tr>\n",
              "    <tr>\n",
              "      <th>...</th>\n",
              "      <td>...</td>\n",
              "      <td>...</td>\n",
              "    </tr>\n",
              "    <tr>\n",
              "      <th>606</th>\n",
              "      <td>606</td>\n",
              "      <td>Motor Control and Habit Formation</td>\n",
              "    </tr>\n",
              "    <tr>\n",
              "      <th>607</th>\n",
              "      <td>607</td>\n",
              "      <td>Motor Control and Habit Formation</td>\n",
              "    </tr>\n",
              "    <tr>\n",
              "      <th>608</th>\n",
              "      <td>608</td>\n",
              "      <td>Sensory and Motor Signal Relay</td>\n",
              "    </tr>\n",
              "    <tr>\n",
              "      <th>609</th>\n",
              "      <td>609</td>\n",
              "      <td>Sensory and Motor Signal Relay</td>\n",
              "    </tr>\n",
              "    <tr>\n",
              "      <th>610</th>\n",
              "      <td>610</td>\n",
              "      <td>Motor Control and Habit Formation</td>\n",
              "    </tr>\n",
              "  </tbody>\n",
              "</table>\n",
              "<p>611 rows × 2 columns</p>\n",
              "</div>\n",
              "    <div class=\"colab-df-buttons\">\n",
              "\n",
              "  <div class=\"colab-df-container\">\n",
              "    <button class=\"colab-df-convert\" onclick=\"convertToInteractive('df-973eaf51-aa68-4de3-ba7e-ddd58da2727a')\"\n",
              "            title=\"Convert this dataframe to an interactive table.\"\n",
              "            style=\"display:none;\">\n",
              "\n",
              "  <svg xmlns=\"http://www.w3.org/2000/svg\" height=\"24px\" viewBox=\"0 -960 960 960\">\n",
              "    <path d=\"M120-120v-720h720v720H120Zm60-500h600v-160H180v160Zm220 220h160v-160H400v160Zm0 220h160v-160H400v160ZM180-400h160v-160H180v160Zm440 0h160v-160H620v160ZM180-180h160v-160H180v160Zm440 0h160v-160H620v160Z\"/>\n",
              "  </svg>\n",
              "    </button>\n",
              "\n",
              "  <style>\n",
              "    .colab-df-container {\n",
              "      display:flex;\n",
              "      gap: 12px;\n",
              "    }\n",
              "\n",
              "    .colab-df-convert {\n",
              "      background-color: #E8F0FE;\n",
              "      border: none;\n",
              "      border-radius: 50%;\n",
              "      cursor: pointer;\n",
              "      display: none;\n",
              "      fill: #1967D2;\n",
              "      height: 32px;\n",
              "      padding: 0 0 0 0;\n",
              "      width: 32px;\n",
              "    }\n",
              "\n",
              "    .colab-df-convert:hover {\n",
              "      background-color: #E2EBFA;\n",
              "      box-shadow: 0px 1px 2px rgba(60, 64, 67, 0.3), 0px 1px 3px 1px rgba(60, 64, 67, 0.15);\n",
              "      fill: #174EA6;\n",
              "    }\n",
              "\n",
              "    .colab-df-buttons div {\n",
              "      margin-bottom: 4px;\n",
              "    }\n",
              "\n",
              "    [theme=dark] .colab-df-convert {\n",
              "      background-color: #3B4455;\n",
              "      fill: #D2E3FC;\n",
              "    }\n",
              "\n",
              "    [theme=dark] .colab-df-convert:hover {\n",
              "      background-color: #434B5C;\n",
              "      box-shadow: 0px 1px 3px 1px rgba(0, 0, 0, 0.15);\n",
              "      filter: drop-shadow(0px 1px 2px rgba(0, 0, 0, 0.3));\n",
              "      fill: #FFFFFF;\n",
              "    }\n",
              "  </style>\n",
              "\n",
              "    <script>\n",
              "      const buttonEl =\n",
              "        document.querySelector('#df-973eaf51-aa68-4de3-ba7e-ddd58da2727a button.colab-df-convert');\n",
              "      buttonEl.style.display =\n",
              "        google.colab.kernel.accessAllowed ? 'block' : 'none';\n",
              "\n",
              "      async function convertToInteractive(key) {\n",
              "        const element = document.querySelector('#df-973eaf51-aa68-4de3-ba7e-ddd58da2727a');\n",
              "        const dataTable =\n",
              "          await google.colab.kernel.invokeFunction('convertToInteractive',\n",
              "                                                    [key], {});\n",
              "        if (!dataTable) return;\n",
              "\n",
              "        const docLinkHtml = 'Like what you see? Visit the ' +\n",
              "          '<a target=\"_blank\" href=https://colab.research.google.com/notebooks/data_table.ipynb>data table notebook</a>'\n",
              "          + ' to learn more about interactive tables.';\n",
              "        element.innerHTML = '';\n",
              "        dataTable['output_type'] = 'display_data';\n",
              "        await google.colab.output.renderOutput(dataTable, element);\n",
              "        const docLink = document.createElement('div');\n",
              "        docLink.innerHTML = docLinkHtml;\n",
              "        element.appendChild(docLink);\n",
              "      }\n",
              "    </script>\n",
              "  </div>\n",
              "\n",
              "\n",
              "<div id=\"df-433db39c-7e01-4d63-90f1-df1bb28d8c11\">\n",
              "  <button class=\"colab-df-quickchart\" onclick=\"quickchart('df-433db39c-7e01-4d63-90f1-df1bb28d8c11')\"\n",
              "            title=\"Suggest charts.\"\n",
              "            style=\"display:none;\">\n",
              "\n",
              "<svg xmlns=\"http://www.w3.org/2000/svg\" height=\"24px\"viewBox=\"0 0 24 24\"\n",
              "     width=\"24px\">\n",
              "    <g>\n",
              "        <path d=\"M19 3H5c-1.1 0-2 .9-2 2v14c0 1.1.9 2 2 2h14c1.1 0 2-.9 2-2V5c0-1.1-.9-2-2-2zM9 17H7v-7h2v7zm4 0h-2V7h2v10zm4 0h-2v-4h2v4z\"/>\n",
              "    </g>\n",
              "</svg>\n",
              "  </button>\n",
              "\n",
              "<style>\n",
              "  .colab-df-quickchart {\n",
              "    background-color: #E8F0FE;\n",
              "    border: none;\n",
              "    border-radius: 50%;\n",
              "    cursor: pointer;\n",
              "    display: none;\n",
              "    fill: #1967D2;\n",
              "    height: 32px;\n",
              "    padding: 0 0 0 0;\n",
              "    width: 32px;\n",
              "  }\n",
              "\n",
              "  .colab-df-quickchart:hover {\n",
              "    background-color: #E2EBFA;\n",
              "    box-shadow: 0px 1px 2px rgba(60, 64, 67, 0.3), 0px 1px 3px 1px rgba(60, 64, 67, 0.15);\n",
              "    fill: #174EA6;\n",
              "  }\n",
              "\n",
              "  [theme=dark] .colab-df-quickchart {\n",
              "    background-color: #3B4455;\n",
              "    fill: #D2E3FC;\n",
              "  }\n",
              "\n",
              "  [theme=dark] .colab-df-quickchart:hover {\n",
              "    background-color: #434B5C;\n",
              "    box-shadow: 0px 1px 3px 1px rgba(0, 0, 0, 0.15);\n",
              "    filter: drop-shadow(0px 1px 2px rgba(0, 0, 0, 0.3));\n",
              "    fill: #FFFFFF;\n",
              "  }\n",
              "</style>\n",
              "\n",
              "  <script>\n",
              "    async function quickchart(key) {\n",
              "      const charts = await google.colab.kernel.invokeFunction(\n",
              "          'suggestCharts', [key], {});\n",
              "    }\n",
              "    (() => {\n",
              "      let quickchartButtonEl =\n",
              "        document.querySelector('#df-433db39c-7e01-4d63-90f1-df1bb28d8c11 button');\n",
              "      quickchartButtonEl.style.display =\n",
              "        google.colab.kernel.accessAllowed ? 'block' : 'none';\n",
              "    })();\n",
              "  </script>\n",
              "</div>\n",
              "    </div>\n",
              "  </div>\n"
            ]
          },
          "metadata": {},
          "execution_count": 20
        }
      ]
    },
    {
      "cell_type": "code",
      "source": [
        "dataf.to_csv('Positions.csv')"
      ],
      "metadata": {
        "id": "C9oQGmR0sNfa"
      },
      "id": "C9oQGmR0sNfa",
      "execution_count": null,
      "outputs": []
    },
    {
      "cell_type": "code",
      "source": [],
      "metadata": {
        "id": "cBoCIet1sgxM"
      },
      "id": "cBoCIet1sgxM",
      "execution_count": null,
      "outputs": []
    }
  ],
  "metadata": {
    "kernelspec": {
      "display_name": "Python 3 (ipykernel)",
      "language": "python",
      "name": "python3"
    },
    "language_info": {
      "codemirror_mode": {
        "name": "ipython",
        "version": 3
      },
      "file_extension": ".py",
      "mimetype": "text/x-python",
      "name": "python",
      "nbconvert_exporter": "python",
      "pygments_lexer": "ipython3",
      "version": "3.9.13"
    },
    "colab": {
      "provenance": [],
      "machine_shape": "hm",
      "include_colab_link": true
    }
  },
  "nbformat": 4,
  "nbformat_minor": 5
}