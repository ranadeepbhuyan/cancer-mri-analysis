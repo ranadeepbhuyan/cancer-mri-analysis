{
  "cells": [
    {
      "cell_type": "markdown",
      "metadata": {
        "id": "view-in-github",
        "colab_type": "text"
      },
      "source": [
        "<a href=\"https://colab.research.google.com/github/ranadeepbhuyan/cancer-mri-analysis/blob/main/vopo/PKG_UPENN_GBM_NIfTI_files_image_sliced_detection_along_x.ipynb\" target=\"_parent\"><img src=\"https://colab.research.google.com/assets/colab-badge.svg\" alt=\"Open In Colab\"/></a>"
      ]
    },
    {
      "cell_type": "code",
      "execution_count": null,
      "metadata": {
        "id": "piJu-3OFf5y9"
      },
      "outputs": [],
      "source": [
        "import numpy as np\n",
        "import pandas as pd\n",
        "import matplotlib.pyplot as plt\n",
        "import cv2\n",
        "import nibabel as nib\n",
        "import os"
      ]
    },
    {
      "cell_type": "markdown",
      "metadata": {
        "id": "wBGmVPUzdS2-"
      },
      "source": []
    },
    {
      "cell_type": "code",
      "execution_count": null,
      "metadata": {
        "colab": {
          "base_uri": "https://localhost:8080/"
        },
        "id": "1dJb2OcTnJwl",
        "outputId": "1f8299a2-55b0-46e4-b794-6fd32fe39409"
      },
      "outputs": [
        {
          "name": "stdout",
          "output_type": "stream",
          "text": [
            "Mounted at /content/drive\n"
          ]
        }
      ],
      "source": [
        "from google.colab import drive\n",
        "drive.mount('/content/drive')"
      ]
    },
    {
      "cell_type": "code",
      "execution_count": null,
      "metadata": {
        "id": "mgzHuP3qnMwT"
      },
      "outputs": [],
      "source": [
        "based_path = r\"/content/drive/MyDrive/PKG - UPENN-GBM NIFTI 3d to 2d exp 2/along x/patients data into 64 parts\""
      ]
    },
    {
      "cell_type": "code",
      "execution_count": null,
      "metadata": {
        "id": "cQPvtztfnzYM"
      },
      "outputs": [],
      "source": [
        "#fatching ids form data path\n",
        "def pathListIntoIds(dirList):\n",
        "    x = []\n",
        "    for i in range(0,len(dirList)):\n",
        "        x.append(dirList[i][dirList[i].rfind('/')+1:])\n",
        "    return x\n",
        "\n",
        "\n",
        "train_data_ids = [f.path for f in os.scandir(based_path)]\n",
        "\n",
        "training_data_ids = pathListIntoIds(train_data_ids);"
      ]
    },
    {
      "cell_type": "code",
      "execution_count": null,
      "metadata": {
        "colab": {
          "base_uri": "https://localhost:8080/"
        },
        "id": "gSW1IcnmoF08",
        "outputId": "be946186-8458-481e-d420-635cc15524e2"
      },
      "outputs": [
        {
          "data": {
            "text/plain": [
              "63453"
            ]
          },
          "execution_count": 9,
          "metadata": {},
          "output_type": "execute_result"
        }
      ],
      "source": [
        "len(training_data_ids)"
      ]
    },
    {
      "cell_type": "code",
      "execution_count": null,
      "metadata": {
        "id": "EdNgNre9fyP2"
      },
      "outputs": [],
      "source": [
        "def fetch_blocks(block_no, ids):\n",
        "  block = []\n",
        "  for i in range(len(ids)):\n",
        "    test0 = ids[i]\n",
        "    test = test0.split('-')[5]\n",
        "    test1 = test.split('_')[0]\n",
        "    if test1 == str(block_no):\n",
        "      block.append(test0)\n",
        "  return block"
      ]
    },
    {
      "cell_type": "code",
      "execution_count": null,
      "metadata": {
        "id": "m3TpefjthTH-"
      },
      "outputs": [],
      "source": [
        "block = fetch_blocks(block_no=10, ids = training_data_ids)"
      ]
    },
    {
      "cell_type": "code",
      "execution_count": null,
      "metadata": {
        "colab": {
          "base_uri": "https://localhost:8080/"
        },
        "id": "oduo7mNGhV04",
        "outputId": "f1de90a3-f961-4294-d3aa-db2eb5512a13"
      },
      "outputs": [
        {
          "output_type": "execute_result",
          "data": {
            "text/plain": [
              "0"
            ]
          },
          "metadata": {},
          "execution_count": 99
        }
      ],
      "source": [
        "len(block)"
      ]
    },
    {
      "cell_type": "code",
      "execution_count": null,
      "metadata": {
        "id": "o8AQ1A7JhYqU"
      },
      "outputs": [],
      "source": [
        "for i in range(len(block)):\n",
        "  test3 = block[i].split('_')[2]\n",
        "  test2 = test3.split('.')[0]\n",
        "  if test2.isdigit() == False:\n",
        "    block.remove(block[i])\n"
      ]
    },
    {
      "cell_type": "code",
      "execution_count": null,
      "metadata": {
        "colab": {
          "base_uri": "https://localhost:8080/"
        },
        "id": "W6nzC7RIhbqF",
        "outputId": "23998da8-a88a-4d7d-9e11-c67ccdf1a5ec"
      },
      "outputs": [
        {
          "output_type": "execute_result",
          "data": {
            "text/plain": [
              "0"
            ]
          },
          "metadata": {},
          "execution_count": 101
        }
      ],
      "source": [
        "len(block)"
      ]
    },
    {
      "cell_type": "code",
      "execution_count": null,
      "metadata": {
        "id": "DPCrmlpToH7-"
      },
      "outputs": [],
      "source": [
        "listno = []\n",
        "for i in range(0,20):\n",
        "  listno.append(f'{i}')"
      ]
    },
    {
      "cell_type": "code",
      "execution_count": null,
      "metadata": {
        "id": "pLnN6j5qQwQL"
      },
      "outputs": [],
      "source": [
        "patients_data = []\n",
        "for i in range(len(training_data_ids)):\n",
        "  test = training_data_ids[i].split('-')[3]\n",
        "  for F in range(0,20):\n",
        "    if test == listno[F]:\n",
        "      patients_data.append(training_data_ids[i])\n"
      ]
    },
    {
      "cell_type": "code",
      "execution_count": null,
      "metadata": {
        "colab": {
          "base_uri": "https://localhost:8080/"
        },
        "id": "Iq9KNH78Nudk",
        "outputId": "6b78d2d0-ef5b-46fd-cb18-332dedaa7e0d"
      },
      "outputs": [
        {
          "data": {
            "text/plain": [
              "13799"
            ]
          },
          "execution_count": 150,
          "metadata": {},
          "output_type": "execute_result"
        }
      ],
      "source": [
        "len(patients_data)"
      ]
    },
    {
      "cell_type": "code",
      "execution_count": null,
      "metadata": {
        "id": "TdgcrvfFzXi1"
      },
      "outputs": [],
      "source": [
        "def data_prepare(ids):\n",
        "  data_path = []\n",
        "  data_ids = []\n",
        "  desired_width = 30\n",
        "  desired_height = 30\n",
        "  for i in range(len(ids)):\n",
        "    path = os.path.join(based_path, ids[i])\n",
        "    img_data = cv2.imread(path)\n",
        "    gray_image = cv2.cvtColor(img_data, cv2.COLOR_BGR2GRAY)\n",
        "    resized_image = cv2.resize(gray_image, (desired_width, desired_height), interpolation=cv2.INTER_LINEAR)\n",
        "    test1 = ids[i].split('_')[2]\n",
        "    test = test1.split('.png')[0]\n",
        "    data_path.append(resized_image)\n",
        "    data_ids.append(int(test))\n",
        "  return data_path, data_ids\n",
        "\n",
        "\n",
        "data_path, data_ids = data_prepare(block)\n",
        "\n",
        "data_column = {'image_data': data_path,\n",
        "        'class': data_ids}\n",
        "data_set = pd.DataFrame(data_column)"
      ]
    },
    {
      "cell_type": "code",
      "execution_count": null,
      "metadata": {
        "id": "KSwD-0mw08Xr"
      },
      "outputs": [],
      "source": [
        "data_list = data_set['image_data'].tolist()\n",
        "classes = data_set['class'].tolist()"
      ]
    },
    {
      "cell_type": "code",
      "execution_count": null,
      "metadata": {
        "id": "xW2h_tZRxFpR"
      },
      "outputs": [],
      "source": [
        "my_array = np.array(data_list)\n",
        "y_data = np.array(classes)"
      ]
    },
    {
      "cell_type": "code",
      "execution_count": null,
      "metadata": {
        "colab": {
          "base_uri": "https://localhost:8080/"
        },
        "id": "9UCj9nWOxKhv",
        "outputId": "e83adf6c-278f-4883-83e5-d2fe0b9bbfe3"
      },
      "outputs": [
        {
          "output_type": "execute_result",
          "data": {
            "text/plain": [
              "(4239, 30, 30)"
            ]
          },
          "metadata": {},
          "execution_count": 84
        }
      ],
      "source": [
        "my_array.shape"
      ]
    },
    {
      "cell_type": "code",
      "execution_count": null,
      "metadata": {
        "id": "37j7w7mnxO4l"
      },
      "outputs": [],
      "source": [
        "from sklearn.model_selection import train_test_split\n",
        "\n",
        "x_train, x_test, y_train, y_test = train_test_split(my_array,y_data, test_size=0.10)"
      ]
    },
    {
      "cell_type": "code",
      "execution_count": null,
      "metadata": {
        "colab": {
          "base_uri": "https://localhost:8080/",
          "height": 448
        },
        "id": "oq_2T0TDxZ4G",
        "outputId": "c2d6b303-f650-43b1-a040-383559f4c65f"
      },
      "outputs": [
        {
          "output_type": "execute_result",
          "data": {
            "text/plain": [
              "<matplotlib.image.AxesImage at 0x7fbe82d65840>"
            ]
          },
          "metadata": {},
          "execution_count": 86
        },
        {
          "output_type": "display_data",
          "data": {
            "text/plain": [
              "<Figure size 640x480 with 1 Axes>"
            ],
            "image/png": "[encoded data removed]"
          },
          "metadata": {}
        }
      ],
      "source": [
        "from tensorflow.keras.utils import normalize\n",
        "\n",
        "x_train = normalize(x_train, axis=1)\n",
        "x_test = normalize(x_test, axis=1)\n",
        "plt.imshow(x_train[1], cmap =plt.cm.binary)"
      ]
    },
    {
      "cell_type": "code",
      "execution_count": null,
      "metadata": {
        "colab": {
          "base_uri": "https://localhost:8080/"
        },
        "id": "ky_cFe6zxluY",
        "outputId": "b3f62ca9-cadd-49cf-8c1b-7099dc0b635e"
      },
      "outputs": [
        {
          "output_type": "stream",
          "name": "stdout",
          "text": [
            "(3815, 30, 30, 1) (424, 30, 30, 1)\n"
          ]
        }
      ],
      "source": [
        "x_train = np.array(x_train).reshape(-1,30,30,1)\n",
        "x_test = np.array(x_test).reshape(-1,30,30,1)\n",
        "print(x_train.shape,x_test.shape)"
      ]
    },
    {
      "cell_type": "code",
      "execution_count": null,
      "metadata": {
        "id": "1XogKEcWj72q"
      },
      "outputs": [],
      "source": [
        "from tensorflow.keras.layers import Conv2D, MaxPooling2D, Activation,Flatten, Dense, Dropout\n",
        "from tensorflow.keras.models import Sequential\n",
        "from tensorflow.keras.initializers import HeNormal"
      ]
    },
    {
      "cell_type": "code",
      "execution_count": null,
      "metadata": {
        "id": "4-tUJxTOmvO-"
      },
      "outputs": [],
      "source": [
        "model = Sequential()\n",
        "\n",
        "model.add(Conv2D(32, (3,3), padding='same', input_shape=x_train.shape[1:]))\n",
        "model.add(Activation('relu'))\n",
        "model.add(Dropout(0.2))\n",
        "model.add(MaxPooling2D(pool_size = (2, 2)))\n",
        "\n",
        "model.add(Conv2D(64, (3,3), padding='same'))\n",
        "model.add(Activation('relu'))\n",
        "model.add(Dropout(0.2))\n",
        "model.add(MaxPooling2D(pool_size = (2, 2)))\n",
        "\n",
        "model.add(Conv2D(128, (3,3), padding='same'))\n",
        "model.add(Activation('relu'))\n",
        "model.add(Dropout(0.2))\n",
        "model.add(MaxPooling2D(pool_size = (2, 2)))\n",
        "\n",
        "model.add(Flatten())\n",
        "model.add(Dense(1024))\n",
        "model.add(Activation('relu'))\n",
        "model.add(Dropout(0.2))\n",
        "\n",
        "model.add(Dense(64))\n",
        "model.add(Activation('softmax'))\n"
      ]
    },
    {
      "cell_type": "code",
      "execution_count": null,
      "metadata": {
        "colab": {
          "base_uri": "https://localhost:8080/"
        },
        "id": "rkHXGNntqh7A",
        "outputId": "641e4d30-744c-4cdf-cdaa-7e0f8802025e"
      },
      "outputs": [
        {
          "output_type": "stream",
          "name": "stdout",
          "text": [
            "Model: \"sequential_4\"\n",
            "_________________________________________________________________\n",
            " Layer (type)                Output Shape              Param #   \n",
            "=================================================================\n",
            " conv2d_12 (Conv2D)          (None, 30, 30, 32)        320       \n",
            "                                                                 \n",
            " activation_20 (Activation)  (None, 30, 30, 32)        0         \n",
            "                                                                 \n",
            " dropout_16 (Dropout)        (None, 30, 30, 32)        0         \n",
            "                                                                 \n",
            " max_pooling2d_12 (MaxPoolin  (None, 15, 15, 32)       0         \n",
            " g2D)                                                            \n",
            "                                                                 \n",
            " conv2d_13 (Conv2D)          (None, 15, 15, 64)        18496     \n",
            "                                                                 \n",
            " activation_21 (Activation)  (None, 15, 15, 64)        0         \n",
            "                                                                 \n",
            " dropout_17 (Dropout)        (None, 15, 15, 64)        0         \n",
            "                                                                 \n",
            " max_pooling2d_13 (MaxPoolin  (None, 7, 7, 64)         0         \n",
            " g2D)                                                            \n",
            "                                                                 \n",
            " conv2d_14 (Conv2D)          (None, 7, 7, 128)         73856     \n",
            "                                                                 \n",
            " activation_22 (Activation)  (None, 7, 7, 128)         0         \n",
            "                                                                 \n",
            " dropout_18 (Dropout)        (None, 7, 7, 128)         0         \n",
            "                                                                 \n",
            " max_pooling2d_14 (MaxPoolin  (None, 3, 3, 128)        0         \n",
            " g2D)                                                            \n",
            "                                                                 \n",
            " flatten_4 (Flatten)         (None, 1152)              0         \n",
            "                                                                 \n",
            " dense_8 (Dense)             (None, 1024)              1180672   \n",
            "                                                                 \n",
            " activation_23 (Activation)  (None, 1024)              0         \n",
            "                                                                 \n",
            " dropout_19 (Dropout)        (None, 1024)              0         \n",
            "                                                                 \n",
            " dense_9 (Dense)             (None, 64)                65600     \n",
            "                                                                 \n",
            " activation_24 (Activation)  (None, 64)                0         \n",
            "                                                                 \n",
            "=================================================================\n",
            "Total params: 1,338,944\n",
            "Trainable params: 1,338,944\n",
            "Non-trainable params: 0\n",
            "_________________________________________________________________\n"
          ]
        }
      ],
      "source": [
        "model.summary()"
      ]
    },
    {
      "cell_type": "code",
      "execution_count": null,
      "metadata": {
        "id": "DW5dkp8ttCim"
      },
      "outputs": [],
      "source": [
        "from tensorflow.keras.callbacks import EarlyStopping, ModelCheckpoint, ReduceLROnPlateau\n",
        "import tensorflow as tf\n",
        "\n",
        "learning_rate = 0.001\n",
        "\n",
        "optimizer = tf.keras.optimizers.Adam(learning_rate=learning_rate)\n",
        "\n",
        "model.compile(optimizer=optimizer, loss='sparse_categorical_crossentropy', metrics=['accuracy'])\n",
        "\n",
        "earlystopping = EarlyStopping(monitor='val_loss',\n",
        "                              mode='min',\n",
        "                              verbose=1,\n",
        "                              patience=15\n",
        "                             )\n",
        "checkpointer = ModelCheckpoint(filepath=\"clf-resnet-weights.hdf5\",\n",
        "                               verbose=1,\n",
        "                               save_best_only=True\n",
        "                              )\n",
        "reduce_lr = ReduceLROnPlateau(monitor='val_loss',\n",
        "                              mode='min',\n",
        "                              verbose=1,\n",
        "                              patience=5,\n",
        "                              min_delta=0.0001,\n",
        "                              factor=0.2\n",
        "                             )"
      ]
    },
    {
      "cell_type": "code",
      "execution_count": null,
      "metadata": {
        "colab": {
          "base_uri": "https://localhost:8080/"
        },
        "id": "HfO6HQLsyR0o",
        "outputId": "3fc4ec17-e9e5-4385-ccc5-22378a50fbd2"
      },
      "outputs": [
        {
          "output_type": "stream",
          "name": "stdout",
          "text": [
            "Epoch 1/200\n",
            "106/108 [============================>.] - ETA: 0s - loss: 2.3004 - accuracy: 0.2671\n",
            "Epoch 1: val_loss improved from inf to 1.90305, saving model to clf-resnet-weights.hdf5\n",
            "108/108 [==============================] - 4s 21ms/step - loss: 2.2929 - accuracy: 0.2697 - val_loss: 1.9030 - val_accuracy: 0.3743 - lr: 0.0010\n",
            "Epoch 2/200\n",
            "107/108 [============================>.] - ETA: 0s - loss: 1.5286 - accuracy: 0.4492\n",
            "Epoch 2: val_loss improved from 1.90305 to 1.59754, saving model to clf-resnet-weights.hdf5\n",
            "108/108 [==============================] - 2s 19ms/step - loss: 1.5274 - accuracy: 0.4498 - val_loss: 1.5975 - val_accuracy: 0.4948 - lr: 0.0010\n",
            "Epoch 3/200\n",
            "107/108 [============================>.] - ETA: 0s - loss: 1.3375 - accuracy: 0.5210\n",
            "Epoch 3: val_loss improved from 1.59754 to 1.47632, saving model to clf-resnet-weights.hdf5\n",
            "108/108 [==============================] - 2s 18ms/step - loss: 1.3366 - accuracy: 0.5217 - val_loss: 1.4763 - val_accuracy: 0.5681 - lr: 0.0010\n",
            "Epoch 4/200\n",
            "105/108 [============================>.] - ETA: 0s - loss: 1.2101 - accuracy: 0.5702\n",
            "Epoch 4: val_loss improved from 1.47632 to 1.30677, saving model to clf-resnet-weights.hdf5\n",
            "108/108 [==============================] - 2s 18ms/step - loss: 1.2065 - accuracy: 0.5709 - val_loss: 1.3068 - val_accuracy: 0.5419 - lr: 0.0010\n",
            "Epoch 5/200\n",
            "108/108 [==============================] - ETA: 0s - loss: 1.0750 - accuracy: 0.6245\n",
            "Epoch 5: val_loss improved from 1.30677 to 1.28030, saving model to clf-resnet-weights.hdf5\n",
            "108/108 [==============================] - 2s 18ms/step - loss: 1.0750 - accuracy: 0.6245 - val_loss: 1.2803 - val_accuracy: 0.6073 - lr: 0.0010\n",
            "Epoch 6/200\n",
            "107/108 [============================>.] - ETA: 0s - loss: 1.0132 - accuracy: 0.6454\n",
            "Epoch 6: val_loss improved from 1.28030 to 1.14216, saving model to clf-resnet-weights.hdf5\n",
            "108/108 [==============================] - 2s 19ms/step - loss: 1.0119 - accuracy: 0.6458 - val_loss: 1.1422 - val_accuracy: 0.6309 - lr: 0.0010\n",
            "Epoch 7/200\n",
            "105/108 [============================>.] - ETA: 0s - loss: 0.9010 - accuracy: 0.6884\n",
            "Epoch 7: val_loss improved from 1.14216 to 1.11588, saving model to clf-resnet-weights.hdf5\n",
            "108/108 [==============================] - 2s 18ms/step - loss: 0.9031 - accuracy: 0.6889 - val_loss: 1.1159 - val_accuracy: 0.6571 - lr: 0.0010\n",
            "Epoch 8/200\n",
            "107/108 [============================>.] - ETA: 0s - loss: 0.7945 - accuracy: 0.7112\n",
            "Epoch 8: val_loss improved from 1.11588 to 1.01380, saving model to clf-resnet-weights.hdf5\n",
            "108/108 [==============================] - 2s 18ms/step - loss: 0.7941 - accuracy: 0.7113 - val_loss: 1.0138 - val_accuracy: 0.6675 - lr: 0.0010\n",
            "Epoch 9/200\n",
            "106/108 [============================>.] - ETA: 0s - loss: 0.7416 - accuracy: 0.7300\n",
            "Epoch 9: val_loss improved from 1.01380 to 0.96454, saving model to clf-resnet-weights.hdf5\n",
            "108/108 [==============================] - 2s 18ms/step - loss: 0.7421 - accuracy: 0.7303 - val_loss: 0.9645 - val_accuracy: 0.6702 - lr: 0.0010\n",
            "Epoch 10/200\n",
            "106/108 [============================>.] - ETA: 0s - loss: 0.6848 - accuracy: 0.7476\n",
            "Epoch 10: val_loss did not improve from 0.96454\n",
            "108/108 [==============================] - 2s 18ms/step - loss: 0.6845 - accuracy: 0.7477 - val_loss: 0.9692 - val_accuracy: 0.6990 - lr: 0.0010\n",
            "Epoch 11/200\n",
            "105/108 [============================>.] - ETA: 0s - loss: 0.5797 - accuracy: 0.7943\n",
            "Epoch 11: val_loss improved from 0.96454 to 0.85563, saving model to clf-resnet-weights.hdf5\n",
            "108/108 [==============================] - 2s 18ms/step - loss: 0.5791 - accuracy: 0.7943 - val_loss: 0.8556 - val_accuracy: 0.7330 - lr: 0.0010\n",
            "Epoch 12/200\n",
            "105/108 [============================>.] - ETA: 0s - loss: 0.5425 - accuracy: 0.8086\n",
            "Epoch 12: val_loss improved from 0.85563 to 0.76454, saving model to clf-resnet-weights.hdf5\n",
            "108/108 [==============================] - 2s 18ms/step - loss: 0.5442 - accuracy: 0.8089 - val_loss: 0.7645 - val_accuracy: 0.7749 - lr: 0.0010\n",
            "Epoch 13/200\n",
            "107/108 [============================>.] - ETA: 0s - loss: 0.4732 - accuracy: 0.8327\n",
            "Epoch 13: val_loss did not improve from 0.76454\n",
            "108/108 [==============================] - 2s 18ms/step - loss: 0.4739 - accuracy: 0.8325 - val_loss: 0.7927 - val_accuracy: 0.7565 - lr: 0.0010\n",
            "Epoch 14/200\n",
            "106/108 [============================>.] - ETA: 0s - loss: 0.4090 - accuracy: 0.8526\n",
            "Epoch 14: val_loss improved from 0.76454 to 0.72281, saving model to clf-resnet-weights.hdf5\n",
            "108/108 [==============================] - 2s 18ms/step - loss: 0.4111 - accuracy: 0.8506 - val_loss: 0.7228 - val_accuracy: 0.7513 - lr: 0.0010\n",
            "Epoch 15/200\n",
            "106/108 [============================>.] - ETA: 0s - loss: 0.4031 - accuracy: 0.8603\n",
            "Epoch 15: val_loss improved from 0.72281 to 0.70603, saving model to clf-resnet-weights.hdf5\n",
            "108/108 [==============================] - 2s 18ms/step - loss: 0.4016 - accuracy: 0.8605 - val_loss: 0.7060 - val_accuracy: 0.7670 - lr: 0.0010\n",
            "Epoch 16/200\n",
            "106/108 [============================>.] - ETA: 0s - loss: 0.3640 - accuracy: 0.8679\n",
            "Epoch 16: val_loss improved from 0.70603 to 0.69390, saving model to clf-resnet-weights.hdf5\n",
            "108/108 [==============================] - 2s 18ms/step - loss: 0.3638 - accuracy: 0.8675 - val_loss: 0.6939 - val_accuracy: 0.7775 - lr: 0.0010\n",
            "Epoch 17/200\n",
            "106/108 [============================>.] - ETA: 0s - loss: 0.3169 - accuracy: 0.8850\n",
            "Epoch 17: val_loss improved from 0.69390 to 0.69111, saving model to clf-resnet-weights.hdf5\n",
            "108/108 [==============================] - 2s 18ms/step - loss: 0.3179 - accuracy: 0.8844 - val_loss: 0.6911 - val_accuracy: 0.7696 - lr: 0.0010\n",
            "Epoch 18/200\n",
            "105/108 [============================>.] - ETA: 0s - loss: 0.3206 - accuracy: 0.8878\n",
            "Epoch 18: val_loss did not improve from 0.69111\n",
            "108/108 [==============================] - 2s 18ms/step - loss: 0.3199 - accuracy: 0.8881 - val_loss: 0.6963 - val_accuracy: 0.7775 - lr: 0.0010\n",
            "Epoch 19/200\n",
            "105/108 [============================>.] - ETA: 0s - loss: 0.2709 - accuracy: 0.8991\n",
            "Epoch 19: val_loss improved from 0.69111 to 0.64235, saving model to clf-resnet-weights.hdf5\n",
            "108/108 [==============================] - 2s 18ms/step - loss: 0.2729 - accuracy: 0.8975 - val_loss: 0.6424 - val_accuracy: 0.7853 - lr: 0.0010\n",
            "Epoch 20/200\n",
            "107/108 [============================>.] - ETA: 0s - loss: 0.2653 - accuracy: 0.9013\n",
            "Epoch 20: val_loss did not improve from 0.64235\n",
            "108/108 [==============================] - 2s 17ms/step - loss: 0.2660 - accuracy: 0.9010 - val_loss: 0.6589 - val_accuracy: 0.7984 - lr: 0.0010\n",
            "Epoch 21/200\n",
            "106/108 [============================>.] - ETA: 0s - loss: 0.2513 - accuracy: 0.9065\n",
            "Epoch 21: val_loss improved from 0.64235 to 0.63918, saving model to clf-resnet-weights.hdf5\n",
            "108/108 [==============================] - 2s 18ms/step - loss: 0.2512 - accuracy: 0.9065 - val_loss: 0.6392 - val_accuracy: 0.7958 - lr: 0.0010\n",
            "Epoch 22/200\n",
            "106/108 [============================>.] - ETA: 0s - loss: 0.2424 - accuracy: 0.9068\n",
            "Epoch 22: val_loss did not improve from 0.63918\n",
            "108/108 [==============================] - 2s 18ms/step - loss: 0.2427 - accuracy: 0.9065 - val_loss: 0.6808 - val_accuracy: 0.7565 - lr: 0.0010\n",
            "Epoch 23/200\n",
            "106/108 [============================>.] - ETA: 0s - loss: 0.2244 - accuracy: 0.9195\n",
            "Epoch 23: val_loss did not improve from 0.63918\n",
            "108/108 [==============================] - 2s 18ms/step - loss: 0.2256 - accuracy: 0.9187 - val_loss: 0.7761 - val_accuracy: 0.7513 - lr: 0.0010\n",
            "Epoch 24/200\n",
            "107/108 [============================>.] - ETA: 0s - loss: 0.2501 - accuracy: 0.9071\n",
            "Epoch 24: val_loss improved from 0.63918 to 0.61762, saving model to clf-resnet-weights.hdf5\n",
            "108/108 [==============================] - 2s 18ms/step - loss: 0.2504 - accuracy: 0.9071 - val_loss: 0.6176 - val_accuracy: 0.8037 - lr: 0.0010\n",
            "Epoch 25/200\n",
            "108/108 [==============================] - ETA: 0s - loss: 0.2170 - accuracy: 0.9196\n",
            "Epoch 25: val_loss did not improve from 0.61762\n",
            "108/108 [==============================] - 2s 18ms/step - loss: 0.2170 - accuracy: 0.9196 - val_loss: 0.6738 - val_accuracy: 0.7958 - lr: 0.0010\n",
            "Epoch 26/200\n",
            "105/108 [============================>.] - ETA: 0s - loss: 0.1954 - accuracy: 0.9274\n",
            "Epoch 26: val_loss did not improve from 0.61762\n",
            "108/108 [==============================] - 2s 18ms/step - loss: 0.1942 - accuracy: 0.9278 - val_loss: 0.6864 - val_accuracy: 0.7932 - lr: 0.0010\n",
            "Epoch 27/200\n",
            "107/108 [============================>.] - ETA: 0s - loss: 0.1820 - accuracy: 0.9322\n",
            "Epoch 27: val_loss did not improve from 0.61762\n",
            "108/108 [==============================] - 2s 18ms/step - loss: 0.1841 - accuracy: 0.9318 - val_loss: 0.6780 - val_accuracy: 0.7827 - lr: 0.0010\n",
            "Epoch 28/200\n",
            "106/108 [============================>.] - ETA: 0s - loss: 0.1982 - accuracy: 0.9242\n",
            "Epoch 28: val_loss did not improve from 0.61762\n",
            "108/108 [==============================] - 2s 18ms/step - loss: 0.1974 - accuracy: 0.9243 - val_loss: 0.6474 - val_accuracy: 0.8089 - lr: 0.0010\n",
            "Epoch 29/200\n",
            "107/108 [============================>.] - ETA: 0s - loss: 0.1867 - accuracy: 0.9270\n",
            "Epoch 29: val_loss did not improve from 0.61762\n",
            "\n",
            "Epoch 29: ReduceLROnPlateau reducing learning rate to 0.00020000000949949026.\n",
            "108/108 [==============================] - 2s 17ms/step - loss: 0.1873 - accuracy: 0.9269 - val_loss: 0.6349 - val_accuracy: 0.7906 - lr: 0.0010\n",
            "Epoch 30/200\n",
            "106/108 [============================>.] - ETA: 0s - loss: 0.1353 - accuracy: 0.9484\n",
            "Epoch 30: val_loss improved from 0.61762 to 0.60626, saving model to clf-resnet-weights.hdf5\n",
            "108/108 [==============================] - 2s 18ms/step - loss: 0.1351 - accuracy: 0.9487 - val_loss: 0.6063 - val_accuracy: 0.8063 - lr: 2.0000e-04\n",
            "Epoch 31/200\n",
            "105/108 [============================>.] - ETA: 0s - loss: 0.1117 - accuracy: 0.9589\n",
            "Epoch 31: val_loss improved from 0.60626 to 0.60289, saving model to clf-resnet-weights.hdf5\n",
            "108/108 [==============================] - 2s 18ms/step - loss: 0.1119 - accuracy: 0.9586 - val_loss: 0.6029 - val_accuracy: 0.8194 - lr: 2.0000e-04\n",
            "Epoch 32/200\n",
            "105/108 [============================>.] - ETA: 0s - loss: 0.1059 - accuracy: 0.9568\n",
            "Epoch 32: val_loss improved from 0.60289 to 0.59970, saving model to clf-resnet-weights.hdf5\n",
            "108/108 [==============================] - 2s 18ms/step - loss: 0.1063 - accuracy: 0.9566 - val_loss: 0.5997 - val_accuracy: 0.8141 - lr: 2.0000e-04\n",
            "Epoch 33/200\n",
            "106/108 [============================>.] - ETA: 0s - loss: 0.1069 - accuracy: 0.9581\n",
            "Epoch 33: val_loss did not improve from 0.59970\n",
            "108/108 [==============================] - 2s 18ms/step - loss: 0.1058 - accuracy: 0.9586 - val_loss: 0.6128 - val_accuracy: 0.8089 - lr: 2.0000e-04\n",
            "Epoch 34/200\n",
            "105/108 [============================>.] - ETA: 0s - loss: 0.1003 - accuracy: 0.9628\n",
            "Epoch 34: val_loss did not improve from 0.59970\n",
            "108/108 [==============================] - 2s 18ms/step - loss: 0.1010 - accuracy: 0.9621 - val_loss: 0.6080 - val_accuracy: 0.8141 - lr: 2.0000e-04\n",
            "Epoch 35/200\n",
            "106/108 [============================>.] - ETA: 0s - loss: 0.0967 - accuracy: 0.9614\n",
            "Epoch 35: val_loss did not improve from 0.59970\n",
            "108/108 [==============================] - 2s 18ms/step - loss: 0.0968 - accuracy: 0.9610 - val_loss: 0.6297 - val_accuracy: 0.8325 - lr: 2.0000e-04\n",
            "Epoch 36/200\n",
            "107/108 [============================>.] - ETA: 0s - loss: 0.0967 - accuracy: 0.9652\n",
            "Epoch 36: val_loss did not improve from 0.59970\n",
            "108/108 [==============================] - 2s 18ms/step - loss: 0.0964 - accuracy: 0.9653 - val_loss: 0.6107 - val_accuracy: 0.8194 - lr: 2.0000e-04\n",
            "Epoch 37/200\n",
            "106/108 [============================>.] - ETA: 0s - loss: 0.0967 - accuracy: 0.9614\n",
            "Epoch 37: val_loss did not improve from 0.59970\n",
            "\n",
            "Epoch 37: ReduceLROnPlateau reducing learning rate to 4.0000001899898055e-05.\n",
            "108/108 [==============================] - 2s 18ms/step - loss: 0.0967 - accuracy: 0.9613 - val_loss: 0.6029 - val_accuracy: 0.8272 - lr: 2.0000e-04\n",
            "Epoch 38/200\n",
            "106/108 [============================>.] - ETA: 0s - loss: 0.0855 - accuracy: 0.9685\n",
            "Epoch 38: val_loss did not improve from 0.59970\n",
            "108/108 [==============================] - 2s 18ms/step - loss: 0.0845 - accuracy: 0.9688 - val_loss: 0.6113 - val_accuracy: 0.8272 - lr: 4.0000e-05\n",
            "Epoch 39/200\n",
            "107/108 [============================>.] - ETA: 0s - loss: 0.0862 - accuracy: 0.9673\n",
            "Epoch 39: val_loss did not improve from 0.59970\n",
            "108/108 [==============================] - 2s 18ms/step - loss: 0.0867 - accuracy: 0.9671 - val_loss: 0.6167 - val_accuracy: 0.8246 - lr: 4.0000e-05\n",
            "Epoch 40/200\n",
            "105/108 [============================>.] - ETA: 0s - loss: 0.0923 - accuracy: 0.9640\n",
            "Epoch 40: val_loss did not improve from 0.59970\n",
            "108/108 [==============================] - 2s 18ms/step - loss: 0.0923 - accuracy: 0.9642 - val_loss: 0.6132 - val_accuracy: 0.8220 - lr: 4.0000e-05\n",
            "Epoch 41/200\n",
            "107/108 [============================>.] - ETA: 0s - loss: 0.0861 - accuracy: 0.9658\n",
            "Epoch 41: val_loss did not improve from 0.59970\n",
            "108/108 [==============================] - 2s 18ms/step - loss: 0.0871 - accuracy: 0.9656 - val_loss: 0.6170 - val_accuracy: 0.8168 - lr: 4.0000e-05\n",
            "Epoch 42/200\n",
            "106/108 [============================>.] - ETA: 0s - loss: 0.0842 - accuracy: 0.9661\n",
            "Epoch 42: val_loss did not improve from 0.59970\n",
            "\n",
            "Epoch 42: ReduceLROnPlateau reducing learning rate to 8.000000525498762e-06.\n",
            "108/108 [==============================] - 2s 18ms/step - loss: 0.0848 - accuracy: 0.9659 - val_loss: 0.6211 - val_accuracy: 0.8220 - lr: 4.0000e-05\n",
            "Epoch 43/200\n",
            "105/108 [============================>.] - ETA: 0s - loss: 0.0830 - accuracy: 0.9676\n",
            "Epoch 43: val_loss did not improve from 0.59970\n",
            "108/108 [==============================] - 2s 17ms/step - loss: 0.0841 - accuracy: 0.9671 - val_loss: 0.6203 - val_accuracy: 0.8194 - lr: 8.0000e-06\n",
            "Epoch 44/200\n",
            "106/108 [============================>.] - ETA: 0s - loss: 0.0806 - accuracy: 0.9711\n",
            "Epoch 44: val_loss did not improve from 0.59970\n",
            "108/108 [==============================] - 2s 17ms/step - loss: 0.0812 - accuracy: 0.9709 - val_loss: 0.6218 - val_accuracy: 0.8168 - lr: 8.0000e-06\n",
            "Epoch 45/200\n",
            "106/108 [============================>.] - ETA: 0s - loss: 0.0787 - accuracy: 0.9696\n",
            "Epoch 45: val_loss did not improve from 0.59970\n",
            "108/108 [==============================] - 2s 18ms/step - loss: 0.0795 - accuracy: 0.9691 - val_loss: 0.6216 - val_accuracy: 0.8168 - lr: 8.0000e-06\n",
            "Epoch 46/200\n",
            "106/108 [============================>.] - ETA: 0s - loss: 0.0830 - accuracy: 0.9673\n",
            "Epoch 46: val_loss did not improve from 0.59970\n",
            "108/108 [==============================] - 2s 18ms/step - loss: 0.0828 - accuracy: 0.9677 - val_loss: 0.6212 - val_accuracy: 0.8168 - lr: 8.0000e-06\n",
            "Epoch 47/200\n",
            "105/108 [============================>.] - ETA: 0s - loss: 0.0837 - accuracy: 0.9708\n",
            "Epoch 47: val_loss did not improve from 0.59970\n",
            "\n",
            "Epoch 47: ReduceLROnPlateau reducing learning rate to 1.6000001778593287e-06.\n",
            "108/108 [==============================] - 2s 17ms/step - loss: 0.0828 - accuracy: 0.9709 - val_loss: 0.6197 - val_accuracy: 0.8168 - lr: 8.0000e-06\n",
            "Epoch 47: early stopping\n"
          ]
        }
      ],
      "source": [
        "h = model.fit(x_train, y_train, batch_size = 32, validation_split= 0.1, epochs=200, callbacks=[checkpointer, earlystopping, reduce_lr])"
      ]
    },
    {
      "cell_type": "code",
      "execution_count": null,
      "metadata": {
        "colab": {
          "base_uri": "https://localhost:8080/"
        },
        "id": "HKEKoZqWt-vA",
        "outputId": "5f2357ec-acf0-4f31-c789-bd1a234ca056"
      },
      "outputs": [
        {
          "output_type": "stream",
          "name": "stdout",
          "text": [
            "14/14 [==============================] - 0s 4ms/step - loss: 0.6625 - accuracy: 0.8113\n"
          ]
        }
      ],
      "source": [
        "test_loss, test_acc = model.evaluate(x_test,y_test)"
      ]
    },
    {
      "cell_type": "code",
      "execution_count": null,
      "metadata": {
        "colab": {
          "base_uri": "https://localhost:8080/",
          "height": 587
        },
        "id": "ZQSsnhwgkC_a",
        "outputId": "49eaf8e3-9f5c-4b2d-d556-44447dc38418"
      },
      "outputs": [
        {
          "output_type": "display_data",
          "data": {
            "text/plain": [
              "<Figure size 1400x700 with 3 Axes>"
            ],
            "image/png": "[encoded data removed]"
          },
          "metadata": {}
        }
      ],
      "source": [
        "acc=h.history['accuracy']\n",
        "val_acc=h.history['val_accuracy']\n",
        "\n",
        "epoch=range(len(acc)-13)\n",
        "\n",
        "loss=h.history['loss']\n",
        "val_loss=h.history['val_loss']\n",
        "\n",
        "learning_rate = h.history['lr']\n",
        "\n",
        "acc_till_val_loss_improve = []\n",
        "val_acc_till_val_loss_improve = []\n",
        "val_loss_till_val_loss_improve = []\n",
        "loss_till_val_loss_improve = []\n",
        "learning_rate_till_val_loss_improve = []\n",
        "\n",
        "for i in range(len(acc)-13):\n",
        "  acc_till_val_loss_improve.append(acc[i])\n",
        "  val_acc_till_val_loss_improve.append(val_acc[i])\n",
        "  val_loss_till_val_loss_improve.append(val_loss[i])\n",
        "  loss_till_val_loss_improve.append(loss[i])\n",
        "  learning_rate_till_val_loss_improve.append(learning_rate[i])\n",
        "\n",
        "f,ax=plt.subplots(1,3,figsize=(14,7))\n",
        "\n",
        "ax[0].plot(epoch,acc_till_val_loss_improve,'b',label='Training Accuracy')\n",
        "ax[0].plot(epoch,val_acc_till_val_loss_improve,'r',label='Validation Accuracy')\n",
        "ax[0].legend()\n",
        "\n",
        "ax[1].plot(epoch,loss_till_val_loss_improve,'b',label='Training Loss')\n",
        "ax[1].plot(epoch,val_loss_till_val_loss_improve,'r',label='Validation Loss')\n",
        "ax[1].legend()\n",
        "\n",
        "\n",
        "ax[2].plot(epoch,learning_rate_till_val_loss_improve,'b',label='learning rate')\n",
        "ax[2].legend()\n",
        "\n",
        "\n",
        "\n",
        "plt.show()"
      ]
    },
    {
      "cell_type": "code",
      "execution_count": null,
      "metadata": {
        "id": "18MeMxWdv1f_"
      },
      "outputs": [],
      "source": [
        "prediction = model.predict(x_test)"
      ]
    },
    {
      "cell_type": "code",
      "execution_count": null,
      "metadata": {
        "id": "TZVJAaOjNe__"
      },
      "outputs": [],
      "source": [
        "len(prediction)"
      ]
    },
    {
      "cell_type": "code",
      "execution_count": null,
      "metadata": {
        "id": "WrEq6krbwEGt"
      },
      "outputs": [],
      "source": [
        "not_match = []\n",
        "not_match_ids = []\n",
        "for i in range(len(prediction)):\n",
        "  x = np.argmax(prediction[i])\n",
        "  if x != y_test[i]:\n",
        "    not_match.append(prediction[i])\n",
        "    not_match_ids.append(i)"
      ]
    },
    {
      "cell_type": "code",
      "execution_count": null,
      "metadata": {
        "id": "cndizO-PwaEh"
      },
      "outputs": [],
      "source": [
        "for i in not_match_ids:\n",
        "  print(\"Ids : \",i, \"pred :\",np.argmax(prediction[i]), \"actual :\", y_test[i])"
      ]
    },
    {
      "cell_type": "code",
      "execution_count": null,
      "metadata": {
        "id": "iJFX1p9uG8lz"
      },
      "outputs": [],
      "source": [
        "len(not_match)"
      ]
    },
    {
      "cell_type": "code",
      "execution_count": null,
      "metadata": {
        "id": "TCXsAAVLUw9x"
      },
      "outputs": [],
      "source": []
    }
  ],
  "metadata": {
    "accelerator": "TPU",
    "colab": {
      "machine_shape": "hm",
      "provenance": [],
      "authorship_tag": "ABX9TyPZQ2rEgxwmzw1rGrY9TTEt",
      "include_colab_link": true
    },
    "kernelspec": {
      "display_name": "Python 3",
      "name": "python3"
    },
    "language_info": {
      "name": "python"
    }
  },
  "nbformat": 4,
  "nbformat_minor": 0
}