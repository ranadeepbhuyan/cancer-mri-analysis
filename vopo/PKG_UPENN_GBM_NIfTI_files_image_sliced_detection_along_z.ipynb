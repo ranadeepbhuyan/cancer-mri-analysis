{
  "nbformat": 4,
  "nbformat_minor": 0,
  "metadata": {
    "colab": {
      "provenance": [],
      "machine_shape": "hm",
      "authorship_tag": "ABX9TyPSk8Py2kRMEQfXu4CBehKe",
      "include_colab_link": true
    },
    "kernelspec": {
      "name": "python3",
      "display_name": "Python 3"
    },
    "language_info": {
      "name": "python"
    },
    "accelerator": "TPU"
  },
  "cells": [
    {
      "cell_type": "markdown",
      "metadata": {
        "id": "view-in-github",
        "colab_type": "text"
      },
      "source": [
        "<a href=\"https://colab.research.google.com/github/ranadeepbhuyan/cancer-mri-analysis/blob/main/vopo/PKG_UPENN_GBM_NIfTI_files_image_sliced_detection_along_z.ipynb\" target=\"_parent\"><img src=\"https://colab.research.google.com/assets/colab-badge.svg\" alt=\"Open In Colab\"/></a>"
      ]
    },
    {
      "cell_type": "code",
      "execution_count": null,
      "metadata": {
        "id": "piJu-3OFf5y9"
      },
      "outputs": [],
      "source": [
        "import numpy as np\n",
        "import pandas as pd\n",
        "import matplotlib.pyplot as plt\n",
        "import cv2\n",
        "import nibabel as nib"
      ]
    },
    {
      "cell_type": "code",
      "source": [
        "import os"
      ],
      "metadata": {
        "id": "vCCAFpl2oD9x"
      },
      "execution_count": null,
      "outputs": []
    },
    {
      "cell_type": "code",
      "source": [
        "from google.colab import drive\n",
        "drive.mount('/content/drive')"
      ],
      "metadata": {
        "id": "1dJb2OcTnJwl",
        "colab": {
          "base_uri": "https://localhost:8080/"
        },
        "outputId": "4ae866c3-361e-4023-d8cb-8f20ec1851fb"
      },
      "execution_count": null,
      "outputs": [
        {
          "output_type": "stream",
          "name": "stdout",
          "text": [
            "Mounted at /content/drive\n"
          ]
        }
      ]
    },
    {
      "cell_type": "code",
      "source": [
        "based_path = r'/content/drive/MyDrive/PKG - UPENN-GBM NIFTI 3d to 2d exp 2/along z/patients data into 64 parts'"
      ],
      "metadata": {
        "id": "mgzHuP3qnMwT"
      },
      "execution_count": null,
      "outputs": []
    },
    {
      "cell_type": "code",
      "source": [
        "#fatching ids form data path\n",
        "def pathListIntoIds(dirList):\n",
        "    x = []\n",
        "    for i in range(0,len(dirList)):\n",
        "        x.append(dirList[i][dirList[i].rfind('/')+1:])\n",
        "    return x\n",
        "\n",
        "\n",
        "train_data_ids = [f.path for f in os.scandir(based_path)]\n",
        "\n",
        "training_data_ids = pathListIntoIds(train_data_ids);"
      ],
      "metadata": {
        "id": "8mO1KF_XLAsP"
      },
      "execution_count": null,
      "outputs": []
    },
    {
      "cell_type": "code",
      "source": [
        "\n",
        "training_data_ids.sort()"
      ],
      "metadata": {
        "id": "iuR4eqkLM_kP"
      },
      "execution_count": null,
      "outputs": []
    },
    {
      "cell_type": "code",
      "source": [
        "test = training_data_ids[0].split('-')[5]\n",
        "test.split('_')[0]"
      ],
      "metadata": {
        "colab": {
          "base_uri": "https://localhost:8080/",
          "height": 36
        },
        "id": "c30Oh4sfLFQx",
        "outputId": "27b57633-3bae-470b-e549-d5aaa46f594a"
      },
      "execution_count": null,
      "outputs": [
        {
          "output_type": "execute_result",
          "data": {
            "text/plain": [
              "'1'"
            ],
            "application/vnd.google.colaboratory.intrinsic+json": {
              "type": "string"
            }
          },
          "metadata": {},
          "execution_count": 9
        }
      ]
    },
    {
      "cell_type": "code",
      "source": [
        "block_11 = []\n",
        "for i in range(len(training_data_ids)):\n",
        "  test0 = training_data_ids[i]\n",
        "  test = test0.split('-')[5]\n",
        "  test1 = test.split('_')[0]\n",
        "  if test1 == '11':\n",
        "    block_11.append(test0)\n"
      ],
      "metadata": {
        "id": "USe1_qB5NIRu"
      },
      "execution_count": null,
      "outputs": []
    },
    {
      "cell_type": "code",
      "source": [
        "len(block_11)"
      ],
      "metadata": {
        "colab": {
          "base_uri": "https://localhost:8080/"
        },
        "id": "muUS5t5TDULf",
        "outputId": "8e866269-4443-4fec-d105-d743fb17cc18"
      },
      "execution_count": null,
      "outputs": [
        {
          "output_type": "execute_result",
          "data": {
            "text/plain": [
              "50"
            ]
          },
          "metadata": {},
          "execution_count": 120
        }
      ]
    },
    {
      "cell_type": "code",
      "source": [
        "for i in range(len(block_11)):\n",
        "  test3 = block_11[i].split('_')[2]\n",
        "  test2 = test3.split('.')[0]\n",
        "  if test2.isdigit() == False:\n",
        "    block_11.remove(block_11[i])\n"
      ],
      "metadata": {
        "id": "LCzeCmJgWeRQ"
      },
      "execution_count": null,
      "outputs": []
    },
    {
      "cell_type": "code",
      "source": [
        "len(block_11)"
      ],
      "metadata": {
        "colab": {
          "base_uri": "https://localhost:8080/"
        },
        "id": "fDRmBcAEY8mX",
        "outputId": "7cb1ab97-6234-4dd1-c4aa-e7293be76d55"
      },
      "execution_count": null,
      "outputs": [
        {
          "output_type": "execute_result",
          "data": {
            "text/plain": [
              "50"
            ]
          },
          "metadata": {},
          "execution_count": 122
        }
      ]
    },
    {
      "cell_type": "code",
      "source": [
        "list2 = []\n",
        "path_of_paitents_data = [f.path for f in os.scandir(based_path)]\n",
        "for i in range(len(path_of_paitents_data)):\n",
        "  test = path_of_paitents_data[i]\n",
        "  list1 = [f.path for f in os.scandir(test)]\n",
        "  for i in list1:\n",
        "    list2.append(i)"
      ],
      "metadata": {
        "id": "91ThTdseD98N"
      },
      "execution_count": null,
      "outputs": []
    },
    {
      "cell_type": "code",
      "source": [
        "list2[0]"
      ],
      "metadata": {
        "colab": {
          "base_uri": "https://localhost:8080/",
          "height": 36
        },
        "id": "hZ22BP-Egz1W",
        "outputId": "6524f2f9-a253-4c6e-ab4a-86713eb404ed"
      },
      "execution_count": null,
      "outputs": [
        {
          "output_type": "execute_result",
          "data": {
            "text/plain": [
              "'/content/drive/MyDrive/PKG - UPENN-GBM 3d to 2d /along z/Patients data into 64 parts/Patient no 2/UPENN-GBM-Patients-1-slice035_z_24.png'"
            ],
            "application/vnd.google.colaboratory.intrinsic+json": {
              "type": "string"
            }
          },
          "metadata": {},
          "execution_count": 7
        }
      ]
    },
    {
      "cell_type": "code",
      "source": [
        "\n",
        "listno = []\n",
        "for i in range(1,21):\n",
        "  listno.append(f'{i}')"
      ],
      "metadata": {
        "id": "dwjMUebI1Sfe"
      },
      "execution_count": null,
      "outputs": []
    },
    {
      "cell_type": "code",
      "source": [
        "listno[0]"
      ],
      "metadata": {
        "colab": {
          "base_uri": "https://localhost:8080/",
          "height": 36
        },
        "id": "9Erlusyd1oKO",
        "outputId": "9dde55b7-e178-491f-88cd-67df5c53b38d"
      },
      "execution_count": null,
      "outputs": [
        {
          "output_type": "execute_result",
          "data": {
            "text/plain": [
              "'1'"
            ],
            "application/vnd.google.colaboratory.intrinsic+json": {
              "type": "string"
            }
          },
          "metadata": {},
          "execution_count": 9
        }
      ]
    },
    {
      "cell_type": "code",
      "source": [
        "patients_data = []\n",
        "for i in range(len(list2)):\n",
        "  test = list2[i].split('/')[7]\n",
        "  test1 = test.split(' ')[2]\n",
        "  for F in range(0,20):\n",
        "    if test1 == listno[F]:\n",
        "      patients_data.append(list2[i])"
      ],
      "metadata": {
        "id": "zfhrpr0egX02"
      },
      "execution_count": null,
      "outputs": []
    },
    {
      "cell_type": "code",
      "source": [
        "len(patients_data)"
      ],
      "metadata": {
        "colab": {
          "base_uri": "https://localhost:8080/"
        },
        "id": "IybCWJm3k-ut",
        "outputId": "0ea1ce36-a3e7-403b-e89d-bc62050199da"
      },
      "execution_count": null,
      "outputs": [
        {
          "output_type": "execute_result",
          "data": {
            "text/plain": [
              "64960"
            ]
          },
          "metadata": {},
          "execution_count": 38
        }
      ]
    },
    {
      "cell_type": "code",
      "source": [
        "patients_data.sort()"
      ],
      "metadata": {
        "id": "H_dzF5Xg4OWG"
      },
      "execution_count": null,
      "outputs": []
    },
    {
      "cell_type": "code",
      "source": [
        "def remove_blank_imgs(path):\n",
        "  final_path =[]\n",
        "  for i in range(len(path)):\n",
        "    image = cv2.imread(path[i])\n",
        "    if image.max() != image.min():\n",
        "      final_path.append(path[i])\n",
        "  return final_path\n"
      ],
      "metadata": {
        "id": "nqs0Udrco2Ud"
      },
      "execution_count": null,
      "outputs": []
    },
    {
      "cell_type": "code",
      "source": [
        "final_ids1 = remove_blank_imgs(patients_data)"
      ],
      "metadata": {
        "id": "os1l4RHdgrZG"
      },
      "execution_count": null,
      "outputs": []
    },
    {
      "cell_type": "code",
      "source": [
        "len(final_ids1)"
      ],
      "metadata": {
        "id": "vv3g5oiJup_S",
        "colab": {
          "base_uri": "https://localhost:8080/"
        },
        "outputId": "4c4dacc6-9dfb-41d7-a1b6-6639e1f17768"
      },
      "execution_count": null,
      "outputs": [
        {
          "output_type": "execute_result",
          "data": {
            "text/plain": [
              "17628"
            ]
          },
          "metadata": {},
          "execution_count": 42
        }
      ]
    },
    {
      "cell_type": "code",
      "source": [
        "block_5[0]\n"
      ],
      "metadata": {
        "colab": {
          "base_uri": "https://localhost:8080/",
          "height": 36
        },
        "id": "tFQ5QgkzAAlm",
        "outputId": "a706004d-2f62-4bf7-8838-9a171d4f5f1a"
      },
      "execution_count": null,
      "outputs": [
        {
          "output_type": "execute_result",
          "data": {
            "text/plain": [
              "'UPENN-GBM-Patients-00001-slice060_z-5_12.png'"
            ],
            "application/vnd.google.colaboratory.intrinsic+json": {
              "type": "string"
            }
          },
          "metadata": {},
          "execution_count": 41
        }
      ]
    },
    {
      "cell_type": "code",
      "source": [
        "def data_prepare(ids):\n",
        "  data_path = []\n",
        "  data_ids = []\n",
        "  desired_width = 30\n",
        "  desired_height = 30\n",
        "  for i in range(len(ids)):\n",
        "    path = os.path.join(based_path, ids[i])\n",
        "    img_data = cv2.imread(path)\n",
        "    gray_image = cv2.cvtColor(img_data, cv2.COLOR_BGR2GRAY)\n",
        "    #resized_image = cv2.resize(gray_image, (desired_width, desired_height), interpolation=cv2.INTER_LINEAR)\n",
        "    test1 = ids[i].split('_')[2]\n",
        "    test = test1.split('.png')[0]\n",
        "    data_path.append(gray_image)\n",
        "    data_ids.append(int(test))\n",
        "  return data_path, data_ids\n",
        "\n",
        "\n",
        "data_path, data_ids = data_prepare(block_11)\n",
        "\n",
        "data_column = {'image_data': data_path,\n",
        "        'class': data_ids}\n",
        "data_set = pd.DataFrame(data_column)"
      ],
      "metadata": {
        "id": "TdgcrvfFzXi1"
      },
      "execution_count": null,
      "outputs": []
    },
    {
      "cell_type": "code",
      "source": [
        "data_list = data_set['image_data'].tolist()\n",
        "classes = data_set['class'].tolist()"
      ],
      "metadata": {
        "id": "KSwD-0mw08Xr"
      },
      "execution_count": null,
      "outputs": []
    },
    {
      "cell_type": "code",
      "source": [
        "my_array = np.array(data_list)\n",
        "y_data = np.array(classes)"
      ],
      "metadata": {
        "id": "xW2h_tZRxFpR"
      },
      "execution_count": null,
      "outputs": []
    },
    {
      "cell_type": "code",
      "source": [
        "my_array.shape"
      ],
      "metadata": {
        "colab": {
          "base_uri": "https://localhost:8080/"
        },
        "id": "9UCj9nWOxKhv",
        "outputId": "ac2dcd68-fd03-4282-d14d-eeb00f4f2552"
      },
      "execution_count": null,
      "outputs": [
        {
          "output_type": "execute_result",
          "data": {
            "text/plain": [
              "(50, 30, 30)"
            ]
          },
          "metadata": {},
          "execution_count": 126
        }
      ]
    },
    {
      "cell_type": "code",
      "source": [
        "from sklearn.model_selection import train_test_split\n",
        "\n",
        "x_train, x_test, y_train, y_test = train_test_split(my_array,y_data, test_size=0.10)"
      ],
      "metadata": {
        "id": "37j7w7mnxO4l"
      },
      "execution_count": null,
      "outputs": []
    },
    {
      "cell_type": "code",
      "source": [
        "from tensorflow.keras.utils import normalize\n",
        "\n",
        "x_train = normalize(x_train, axis=1)\n",
        "x_test = normalize(x_test, axis=1)\n",
        "plt.imshow(x_train[1], cmap =plt.cm.binary)"
      ],
      "metadata": {
        "colab": {
          "base_uri": "https://localhost:8080/",
          "height": 448
        },
        "id": "oq_2T0TDxZ4G",
        "outputId": "d4247e0e-d7da-4104-93e2-6ff058ccf65f"
      },
      "execution_count": null,
      "outputs": [
        {
          "output_type": "execute_result",
          "data": {
            "text/plain": [
              "<matplotlib.image.AxesImage at 0x7a86a90dd360>"
            ]
          },
          "metadata": {},
          "execution_count": 128
        },
        {
          "output_type": "display_data",
          "data": {
            "text/plain": [
              "<Figure size 640x480 with 1 Axes>"
            ],
            "image/png": "[encoded data removed]"
          },
          "metadata": {}
        }
      ]
    },
    {
      "cell_type": "code",
      "source": [
        "x_train = np.array(x_train).reshape(-1,30,30,1)\n",
        "x_test = np.array(x_test).reshape(-1,30,30,1)\n",
        "print(x_train.shape,x_test.shape)"
      ],
      "metadata": {
        "colab": {
          "base_uri": "https://localhost:8080/"
        },
        "id": "ky_cFe6zxluY",
        "outputId": "624e71a5-0a83-466d-df9d-4c9b51cb4462"
      },
      "execution_count": null,
      "outputs": [
        {
          "output_type": "stream",
          "name": "stdout",
          "text": [
            "(45, 30, 30, 1) (5, 30, 30, 1)\n"
          ]
        }
      ]
    },
    {
      "cell_type": "code",
      "source": [
        "from tensorflow.keras.layers import Conv2D, MaxPooling2D, Activation,Flatten, Dense, Dropout\n",
        "from tensorflow.keras.models import Sequential\n",
        "from tensorflow.keras.initializers import HeNormal"
      ],
      "metadata": {
        "id": "1XogKEcWj72q"
      },
      "execution_count": null,
      "outputs": []
    },
    {
      "cell_type": "code",
      "source": [
        "model = Sequential()\n",
        "\n",
        "model.add(Conv2D(32, (3,3), padding='same', input_shape=x_train.shape[1:]))\n",
        "model.add(Activation('relu'))\n",
        "model.add(Dropout(0.2))\n",
        "model.add(MaxPooling2D(pool_size = (2, 2)))\n",
        "\n",
        "model.add(Conv2D(64, (3,3),padding='same'))\n",
        "model.add(Activation('relu'))\n",
        "model.add(Dropout(0.2))\n",
        "model.add(MaxPooling2D(pool_size = (2, 2)))\n",
        "\n",
        "model.add(Conv2D(128, (3,3), padding='same'))\n",
        "model.add(Activation('relu'))\n",
        "model.add(Dropout(0.2))\n",
        "model.add(MaxPooling2D(pool_size = (2, 2)))\n",
        "\n",
        "\n",
        "model.add(Flatten())\n",
        "model.add(Dense(512))\n",
        "model.add(Activation('relu'))\n",
        "model.add(Dropout(0.2))\n",
        "\n",
        "model.add(Dense(256))\n",
        "model.add(Activation('relu'))\n",
        "model.add(Dropout(0.2))\n",
        "\n",
        "\n",
        "model.add(Dense(64))\n",
        "model.add(Activation('softmax'))\n"
      ],
      "metadata": {
        "id": "4-tUJxTOmvO-"
      },
      "execution_count": null,
      "outputs": []
    },
    {
      "cell_type": "code",
      "source": [
        "model.summary()"
      ],
      "metadata": {
        "colab": {
          "base_uri": "https://localhost:8080/"
        },
        "id": "rkHXGNntqh7A",
        "outputId": "0817a937-709f-48c6-a3a7-a2869a5b48aa"
      },
      "execution_count": null,
      "outputs": [
        {
          "output_type": "stream",
          "name": "stdout",
          "text": [
            "Model: \"sequential_6\"\n",
            "_________________________________________________________________\n",
            " Layer (type)                Output Shape              Param #   \n",
            "=================================================================\n",
            " conv2d_18 (Conv2D)          (None, 30, 30, 32)        320       \n",
            "                                                                 \n",
            " activation_36 (Activation)  (None, 30, 30, 32)        0         \n",
            "                                                                 \n",
            " dropout_30 (Dropout)        (None, 30, 30, 32)        0         \n",
            "                                                                 \n",
            " max_pooling2d_18 (MaxPoolin  (None, 15, 15, 32)       0         \n",
            " g2D)                                                            \n",
            "                                                                 \n",
            " conv2d_19 (Conv2D)          (None, 15, 15, 64)        18496     \n",
            "                                                                 \n",
            " activation_37 (Activation)  (None, 15, 15, 64)        0         \n",
            "                                                                 \n",
            " dropout_31 (Dropout)        (None, 15, 15, 64)        0         \n",
            "                                                                 \n",
            " max_pooling2d_19 (MaxPoolin  (None, 7, 7, 64)         0         \n",
            " g2D)                                                            \n",
            "                                                                 \n",
            " conv2d_20 (Conv2D)          (None, 7, 7, 128)         73856     \n",
            "                                                                 \n",
            " activation_38 (Activation)  (None, 7, 7, 128)         0         \n",
            "                                                                 \n",
            " dropout_32 (Dropout)        (None, 7, 7, 128)         0         \n",
            "                                                                 \n",
            " max_pooling2d_20 (MaxPoolin  (None, 3, 3, 128)        0         \n",
            " g2D)                                                            \n",
            "                                                                 \n",
            " flatten_6 (Flatten)         (None, 1152)              0         \n",
            "                                                                 \n",
            " dense_18 (Dense)            (None, 512)               590336    \n",
            "                                                                 \n",
            " activation_39 (Activation)  (None, 512)               0         \n",
            "                                                                 \n",
            " dropout_33 (Dropout)        (None, 512)               0         \n",
            "                                                                 \n",
            " dense_19 (Dense)            (None, 256)               131328    \n",
            "                                                                 \n",
            " activation_40 (Activation)  (None, 256)               0         \n",
            "                                                                 \n",
            " dropout_34 (Dropout)        (None, 256)               0         \n",
            "                                                                 \n",
            " dense_20 (Dense)            (None, 64)                16448     \n",
            "                                                                 \n",
            " activation_41 (Activation)  (None, 64)                0         \n",
            "                                                                 \n",
            "=================================================================\n",
            "Total params: 830,784\n",
            "Trainable params: 830,784\n",
            "Non-trainable params: 0\n",
            "_________________________________________________________________\n"
          ]
        }
      ]
    },
    {
      "cell_type": "code",
      "source": [
        "from tensorflow.keras.callbacks import EarlyStopping, ModelCheckpoint, ReduceLROnPlateau\n",
        "import tensorflow as tf\n",
        "\n",
        "learning_rate = 0.001\n",
        "\n",
        "optimizer = tf.keras.optimizers.Adam(learning_rate=learning_rate)\n",
        "\n",
        "model.compile(optimizer=optimizer, loss='sparse_categorical_crossentropy', metrics=['accuracy'])\n",
        "\n",
        "earlystopping = EarlyStopping(monitor='val_loss',\n",
        "                              mode='min',\n",
        "                              verbose=1,\n",
        "                              patience=15\n",
        "                             )\n",
        "checkpointer = ModelCheckpoint(filepath=\"clf-resnet-weights.hdf5\",\n",
        "                               verbose=1,\n",
        "                               save_best_only=True\n",
        "                              )\n",
        "reduce_lr = ReduceLROnPlateau(monitor='val_loss',\n",
        "                              mode='min',\n",
        "                              verbose=1,\n",
        "                              patience=5,\n",
        "                              min_delta=0.0001,\n",
        "                              factor=0.2\n",
        "                             )"
      ],
      "metadata": {
        "id": "DW5dkp8ttCim"
      },
      "execution_count": null,
      "outputs": []
    },
    {
      "cell_type": "code",
      "source": [
        "h = model.fit(x_train, y_train, batch_size = 32, validation_split= 0.1, epochs=100, callbacks=[checkpointer, earlystopping, reduce_lr])"
      ],
      "metadata": {
        "colab": {
          "base_uri": "https://localhost:8080/"
        },
        "id": "HfO6HQLsyR0o",
        "outputId": "8ae14908-57fc-49cc-da51-9fa4b9893121"
      },
      "execution_count": null,
      "outputs": [
        {
          "output_type": "stream",
          "name": "stdout",
          "text": [
            "Epoch 1/100\n",
            "1/2 [==============>...............] - ETA: 1s - loss: 4.1815 - accuracy: 0.0000e+00\n",
            "Epoch 1: val_loss improved from inf to 4.04905, saving model to clf-resnet-weights.hdf5\n",
            "2/2 [==============================] - 2s 290ms/step - loss: 4.1664 - accuracy: 0.0500 - val_loss: 4.0490 - val_accuracy: 0.4000 - lr: 0.0010\n",
            "Epoch 2/100\n",
            "1/2 [==============>...............] - ETA: 0s - loss: 4.0038 - accuracy: 0.5625\n",
            "Epoch 2: val_loss improved from 4.04905 to 3.69599, saving model to clf-resnet-weights.hdf5\n",
            "2/2 [==============================] - 0s 100ms/step - loss: 3.9754 - accuracy: 0.5250 - val_loss: 3.6960 - val_accuracy: 0.4000 - lr: 0.0010\n",
            "Epoch 3/100\n",
            "1/2 [==============>...............] - ETA: 0s - loss: 3.4826 - accuracy: 0.4375\n",
            "Epoch 3: val_loss improved from 3.69599 to 2.69469, saving model to clf-resnet-weights.hdf5\n",
            "2/2 [==============================] - 0s 95ms/step - loss: 3.3664 - accuracy: 0.4250 - val_loss: 2.6947 - val_accuracy: 0.4000 - lr: 0.0010\n",
            "Epoch 4/100\n",
            "1/2 [==============>...............] - ETA: 0s - loss: 2.1504 - accuracy: 0.3438\n",
            "Epoch 4: val_loss improved from 2.69469 to 1.62833, saving model to clf-resnet-weights.hdf5\n",
            "2/2 [==============================] - 0s 94ms/step - loss: 2.0767 - accuracy: 0.3500 - val_loss: 1.6283 - val_accuracy: 0.4000 - lr: 0.0010\n",
            "Epoch 5/100\n",
            "1/2 [==============>...............] - ETA: 0s - loss: 1.6519 - accuracy: 0.4375\n",
            "Epoch 5: val_loss improved from 1.62833 to 1.27809, saving model to clf-resnet-weights.hdf5\n",
            "2/2 [==============================] - 0s 95ms/step - loss: 1.4910 - accuracy: 0.4750 - val_loss: 1.2781 - val_accuracy: 0.4000 - lr: 0.0010\n",
            "Epoch 6/100\n",
            "1/2 [==============>...............] - ETA: 0s - loss: 1.0565 - accuracy: 0.5312\n",
            "Epoch 6: val_loss improved from 1.27809 to 0.87660, saving model to clf-resnet-weights.hdf5\n",
            "2/2 [==============================] - 0s 95ms/step - loss: 0.9938 - accuracy: 0.5500 - val_loss: 0.8766 - val_accuracy: 1.0000 - lr: 0.0010\n",
            "Epoch 7/100\n",
            "1/2 [==============>...............] - ETA: 0s - loss: 0.9998 - accuracy: 0.5625\n",
            "Epoch 7: val_loss improved from 0.87660 to 0.44156, saving model to clf-resnet-weights.hdf5\n",
            "2/2 [==============================] - 0s 93ms/step - loss: 0.9777 - accuracy: 0.6000 - val_loss: 0.4416 - val_accuracy: 1.0000 - lr: 0.0010\n",
            "Epoch 8/100\n",
            "1/2 [==============>...............] - ETA: 0s - loss: 0.7156 - accuracy: 0.7812\n",
            "Epoch 8: val_loss improved from 0.44156 to 0.34846, saving model to clf-resnet-weights.hdf5\n",
            "2/2 [==============================] - 0s 93ms/step - loss: 0.9399 - accuracy: 0.7500 - val_loss: 0.3485 - val_accuracy: 1.0000 - lr: 0.0010\n",
            "Epoch 9/100\n",
            "1/2 [==============>...............] - ETA: 0s - loss: 0.4659 - accuracy: 0.8438\n",
            "Epoch 9: val_loss did not improve from 0.34846\n",
            "2/2 [==============================] - 0s 47ms/step - loss: 0.4348 - accuracy: 0.8500 - val_loss: 0.4236 - val_accuracy: 1.0000 - lr: 0.0010\n",
            "Epoch 10/100\n",
            "1/2 [==============>...............] - ETA: 0s - loss: 0.5311 - accuracy: 0.8125\n",
            "Epoch 10: val_loss did not improve from 0.34846\n",
            "2/2 [==============================] - 0s 47ms/step - loss: 0.5721 - accuracy: 0.8250 - val_loss: 0.4299 - val_accuracy: 1.0000 - lr: 0.0010\n",
            "Epoch 11/100\n",
            "1/2 [==============>...............] - ETA: 0s - loss: 0.4738 - accuracy: 0.8438\n",
            "Epoch 11: val_loss improved from 0.34846 to 0.30477, saving model to clf-resnet-weights.hdf5\n",
            "2/2 [==============================] - 0s 94ms/step - loss: 0.4662 - accuracy: 0.8250 - val_loss: 0.3048 - val_accuracy: 1.0000 - lr: 0.0010\n",
            "Epoch 12/100\n",
            "1/2 [==============>...............] - ETA: 0s - loss: 0.3281 - accuracy: 0.9062\n",
            "Epoch 12: val_loss improved from 0.30477 to 0.20511, saving model to clf-resnet-weights.hdf5\n",
            "2/2 [==============================] - 0s 94ms/step - loss: 0.3351 - accuracy: 0.9000 - val_loss: 0.2051 - val_accuracy: 1.0000 - lr: 0.0010\n",
            "Epoch 13/100\n",
            "1/2 [==============>...............] - ETA: 0s - loss: 0.1457 - accuracy: 0.9688\n",
            "Epoch 13: val_loss improved from 0.20511 to 0.16541, saving model to clf-resnet-weights.hdf5\n",
            "2/2 [==============================] - 0s 94ms/step - loss: 0.2416 - accuracy: 0.9500 - val_loss: 0.1654 - val_accuracy: 1.0000 - lr: 0.0010\n",
            "Epoch 14/100\n",
            "1/2 [==============>...............] - ETA: 0s - loss: 0.2819 - accuracy: 0.9062\n",
            "Epoch 14: val_loss improved from 0.16541 to 0.14188, saving model to clf-resnet-weights.hdf5\n",
            "2/2 [==============================] - 0s 98ms/step - loss: 0.2720 - accuracy: 0.9000 - val_loss: 0.1419 - val_accuracy: 1.0000 - lr: 0.0010\n",
            "Epoch 15/100\n",
            "1/2 [==============>...............] - ETA: 0s - loss: 0.4077 - accuracy: 0.9062\n",
            "Epoch 15: val_loss improved from 0.14188 to 0.13660, saving model to clf-resnet-weights.hdf5\n",
            "2/2 [==============================] - 0s 93ms/step - loss: 0.3700 - accuracy: 0.9000 - val_loss: 0.1366 - val_accuracy: 1.0000 - lr: 0.0010\n",
            "Epoch 16/100\n",
            "1/2 [==============>...............] - ETA: 0s - loss: 0.2266 - accuracy: 0.9375\n",
            "Epoch 16: val_loss did not improve from 0.13660\n",
            "2/2 [==============================] - 0s 46ms/step - loss: 0.2063 - accuracy: 0.9500 - val_loss: 0.1384 - val_accuracy: 1.0000 - lr: 0.0010\n",
            "Epoch 17/100\n",
            "1/2 [==============>...............] - ETA: 0s - loss: 0.0987 - accuracy: 1.0000\n",
            "Epoch 17: val_loss did not improve from 0.13660\n",
            "2/2 [==============================] - 0s 47ms/step - loss: 0.1036 - accuracy: 0.9750 - val_loss: 0.1516 - val_accuracy: 1.0000 - lr: 0.0010\n",
            "Epoch 18/100\n",
            "1/2 [==============>...............] - ETA: 0s - loss: 0.1144 - accuracy: 0.9375\n",
            "Epoch 18: val_loss did not improve from 0.13660\n",
            "2/2 [==============================] - 0s 46ms/step - loss: 0.0966 - accuracy: 0.9500 - val_loss: 0.1761 - val_accuracy: 1.0000 - lr: 0.0010\n",
            "Epoch 19/100\n",
            "1/2 [==============>...............] - ETA: 0s - loss: 0.1201 - accuracy: 0.9688\n",
            "Epoch 19: val_loss did not improve from 0.13660\n",
            "2/2 [==============================] - 0s 47ms/step - loss: 0.1312 - accuracy: 0.9500 - val_loss: 0.1600 - val_accuracy: 1.0000 - lr: 0.0010\n",
            "Epoch 20/100\n",
            "1/2 [==============>...............] - ETA: 0s - loss: 0.1271 - accuracy: 0.9688\n",
            "Epoch 20: val_loss did not improve from 0.13660\n",
            "\n",
            "Epoch 20: ReduceLROnPlateau reducing learning rate to 0.00020000000949949026.\n",
            "2/2 [==============================] - 0s 49ms/step - loss: 0.1069 - accuracy: 0.9750 - val_loss: 0.1410 - val_accuracy: 1.0000 - lr: 0.0010\n",
            "Epoch 21/100\n",
            "1/2 [==============>...............] - ETA: 0s - loss: 0.0714 - accuracy: 0.9688\n",
            "Epoch 21: val_loss did not improve from 0.13660\n",
            "2/2 [==============================] - 0s 47ms/step - loss: 0.0693 - accuracy: 0.9750 - val_loss: 0.1375 - val_accuracy: 1.0000 - lr: 2.0000e-04\n",
            "Epoch 22/100\n",
            "1/2 [==============>...............] - ETA: 0s - loss: 0.0972 - accuracy: 0.9688\n",
            "Epoch 22: val_loss improved from 0.13660 to 0.13167, saving model to clf-resnet-weights.hdf5\n",
            "2/2 [==============================] - 0s 96ms/step - loss: 0.0853 - accuracy: 0.9750 - val_loss: 0.1317 - val_accuracy: 1.0000 - lr: 2.0000e-04\n",
            "Epoch 23/100\n",
            "1/2 [==============>...............] - ETA: 0s - loss: 0.0211 - accuracy: 1.0000\n",
            "Epoch 23: val_loss improved from 0.13167 to 0.12430, saving model to clf-resnet-weights.hdf5\n",
            "2/2 [==============================] - 0s 94ms/step - loss: 0.0480 - accuracy: 0.9750 - val_loss: 0.1243 - val_accuracy: 1.0000 - lr: 2.0000e-04\n",
            "Epoch 24/100\n",
            "1/2 [==============>...............] - ETA: 0s - loss: 0.0677 - accuracy: 0.9688\n",
            "Epoch 24: val_loss improved from 0.12430 to 0.11601, saving model to clf-resnet-weights.hdf5\n",
            "2/2 [==============================] - 0s 94ms/step - loss: 0.0618 - accuracy: 0.9750 - val_loss: 0.1160 - val_accuracy: 1.0000 - lr: 2.0000e-04\n",
            "Epoch 25/100\n",
            "1/2 [==============>...............] - ETA: 0s - loss: 0.0581 - accuracy: 0.9688\n",
            "Epoch 25: val_loss improved from 0.11601 to 0.10934, saving model to clf-resnet-weights.hdf5\n",
            "2/2 [==============================] - 0s 98ms/step - loss: 0.0544 - accuracy: 0.9750 - val_loss: 0.1093 - val_accuracy: 1.0000 - lr: 2.0000e-04\n",
            "Epoch 26/100\n",
            "1/2 [==============>...............] - ETA: 0s - loss: 0.0216 - accuracy: 1.0000\n",
            "Epoch 26: val_loss improved from 0.10934 to 0.10432, saving model to clf-resnet-weights.hdf5\n",
            "2/2 [==============================] - 0s 98ms/step - loss: 0.0387 - accuracy: 1.0000 - val_loss: 0.1043 - val_accuracy: 1.0000 - lr: 2.0000e-04\n",
            "Epoch 27/100\n",
            "1/2 [==============>...............] - ETA: 0s - loss: 0.0457 - accuracy: 0.9688\n",
            "Epoch 27: val_loss improved from 0.10432 to 0.09851, saving model to clf-resnet-weights.hdf5\n",
            "2/2 [==============================] - 0s 99ms/step - loss: 0.0382 - accuracy: 0.9750 - val_loss: 0.0985 - val_accuracy: 1.0000 - lr: 2.0000e-04\n",
            "Epoch 28/100\n",
            "1/2 [==============>...............] - ETA: 0s - loss: 0.0261 - accuracy: 1.0000\n",
            "Epoch 28: val_loss improved from 0.09851 to 0.09443, saving model to clf-resnet-weights.hdf5\n",
            "2/2 [==============================] - 0s 97ms/step - loss: 0.0358 - accuracy: 1.0000 - val_loss: 0.0944 - val_accuracy: 1.0000 - lr: 2.0000e-04\n",
            "Epoch 29/100\n",
            "1/2 [==============>...............] - ETA: 0s - loss: 0.0161 - accuracy: 1.0000\n",
            "Epoch 29: val_loss improved from 0.09443 to 0.09088, saving model to clf-resnet-weights.hdf5\n",
            "2/2 [==============================] - 0s 96ms/step - loss: 0.0174 - accuracy: 1.0000 - val_loss: 0.0909 - val_accuracy: 1.0000 - lr: 2.0000e-04\n",
            "Epoch 30/100\n",
            "1/2 [==============>...............] - ETA: 0s - loss: 0.0320 - accuracy: 1.0000\n",
            "Epoch 30: val_loss improved from 0.09088 to 0.08752, saving model to clf-resnet-weights.hdf5\n",
            "2/2 [==============================] - 0s 108ms/step - loss: 0.0306 - accuracy: 1.0000 - val_loss: 0.0875 - val_accuracy: 1.0000 - lr: 2.0000e-04\n",
            "Epoch 31/100\n",
            "1/2 [==============>...............] - ETA: 0s - loss: 0.0300 - accuracy: 1.0000\n",
            "Epoch 31: val_loss improved from 0.08752 to 0.08454, saving model to clf-resnet-weights.hdf5\n",
            "2/2 [==============================] - 0s 95ms/step - loss: 0.0253 - accuracy: 1.0000 - val_loss: 0.0845 - val_accuracy: 1.0000 - lr: 2.0000e-04\n",
            "Epoch 32/100\n",
            "1/2 [==============>...............] - ETA: 0s - loss: 0.0869 - accuracy: 0.9688\n",
            "Epoch 32: val_loss improved from 0.08454 to 0.08140, saving model to clf-resnet-weights.hdf5\n",
            "2/2 [==============================] - 0s 97ms/step - loss: 0.0715 - accuracy: 0.9750 - val_loss: 0.0814 - val_accuracy: 1.0000 - lr: 2.0000e-04\n",
            "Epoch 33/100\n",
            "1/2 [==============>...............] - ETA: 0s - loss: 0.0151 - accuracy: 1.0000\n",
            "Epoch 33: val_loss improved from 0.08140 to 0.07818, saving model to clf-resnet-weights.hdf5\n",
            "2/2 [==============================] - 0s 94ms/step - loss: 0.0326 - accuracy: 0.9750 - val_loss: 0.0782 - val_accuracy: 1.0000 - lr: 2.0000e-04\n",
            "Epoch 34/100\n",
            "1/2 [==============>...............] - ETA: 0s - loss: 0.0159 - accuracy: 1.0000\n",
            "Epoch 34: val_loss improved from 0.07818 to 0.07507, saving model to clf-resnet-weights.hdf5\n",
            "2/2 [==============================] - 0s 94ms/step - loss: 0.0135 - accuracy: 1.0000 - val_loss: 0.0751 - val_accuracy: 1.0000 - lr: 2.0000e-04\n",
            "Epoch 35/100\n",
            "1/2 [==============>...............] - ETA: 0s - loss: 0.0241 - accuracy: 1.0000\n",
            "Epoch 35: val_loss improved from 0.07507 to 0.07170, saving model to clf-resnet-weights.hdf5\n",
            "2/2 [==============================] - 0s 94ms/step - loss: 0.0232 - accuracy: 1.0000 - val_loss: 0.0717 - val_accuracy: 1.0000 - lr: 2.0000e-04\n",
            "Epoch 36/100\n",
            "1/2 [==============>...............] - ETA: 0s - loss: 0.0107 - accuracy: 1.0000\n",
            "Epoch 36: val_loss improved from 0.07170 to 0.06885, saving model to clf-resnet-weights.hdf5\n",
            "2/2 [==============================] - 0s 94ms/step - loss: 0.0115 - accuracy: 1.0000 - val_loss: 0.0689 - val_accuracy: 1.0000 - lr: 2.0000e-04\n",
            "Epoch 37/100\n",
            "1/2 [==============>...............] - ETA: 0s - loss: 0.0205 - accuracy: 1.0000\n",
            "Epoch 37: val_loss improved from 0.06885 to 0.06616, saving model to clf-resnet-weights.hdf5\n",
            "2/2 [==============================] - 0s 96ms/step - loss: 0.0168 - accuracy: 1.0000 - val_loss: 0.0662 - val_accuracy: 1.0000 - lr: 2.0000e-04\n",
            "Epoch 38/100\n",
            "1/2 [==============>...............] - ETA: 0s - loss: 0.0041 - accuracy: 1.0000\n",
            "Epoch 38: val_loss improved from 0.06616 to 0.06482, saving model to clf-resnet-weights.hdf5\n",
            "2/2 [==============================] - 0s 93ms/step - loss: 0.0191 - accuracy: 1.0000 - val_loss: 0.0648 - val_accuracy: 1.0000 - lr: 2.0000e-04\n",
            "Epoch 39/100\n",
            "1/2 [==============>...............] - ETA: 0s - loss: 0.0062 - accuracy: 1.0000\n",
            "Epoch 39: val_loss improved from 0.06482 to 0.06201, saving model to clf-resnet-weights.hdf5\n",
            "2/2 [==============================] - 0s 94ms/step - loss: 0.0366 - accuracy: 0.9750 - val_loss: 0.0620 - val_accuracy: 1.0000 - lr: 2.0000e-04\n",
            "Epoch 40/100\n",
            "1/2 [==============>...............] - ETA: 0s - loss: 0.0082 - accuracy: 1.0000\n",
            "Epoch 40: val_loss improved from 0.06201 to 0.05658, saving model to clf-resnet-weights.hdf5\n",
            "2/2 [==============================] - 0s 94ms/step - loss: 0.0176 - accuracy: 1.0000 - val_loss: 0.0566 - val_accuracy: 1.0000 - lr: 2.0000e-04\n",
            "Epoch 41/100\n",
            "1/2 [==============>...............] - ETA: 0s - loss: 0.0239 - accuracy: 1.0000\n",
            "Epoch 41: val_loss improved from 0.05658 to 0.05096, saving model to clf-resnet-weights.hdf5\n",
            "2/2 [==============================] - 0s 96ms/step - loss: 0.0219 - accuracy: 1.0000 - val_loss: 0.0510 - val_accuracy: 1.0000 - lr: 2.0000e-04\n",
            "Epoch 42/100\n",
            "1/2 [==============>...............] - ETA: 0s - loss: 0.0100 - accuracy: 1.0000\n",
            "Epoch 42: val_loss improved from 0.05096 to 0.04647, saving model to clf-resnet-weights.hdf5\n",
            "2/2 [==============================] - 0s 92ms/step - loss: 0.0119 - accuracy: 1.0000 - val_loss: 0.0465 - val_accuracy: 1.0000 - lr: 2.0000e-04\n",
            "Epoch 43/100\n",
            "1/2 [==============>...............] - ETA: 0s - loss: 0.0170 - accuracy: 1.0000\n",
            "Epoch 43: val_loss improved from 0.04647 to 0.04402, saving model to clf-resnet-weights.hdf5\n",
            "2/2 [==============================] - 0s 96ms/step - loss: 0.0344 - accuracy: 0.9750 - val_loss: 0.0440 - val_accuracy: 1.0000 - lr: 2.0000e-04\n",
            "Epoch 44/100\n",
            "1/2 [==============>...............] - ETA: 0s - loss: 0.0129 - accuracy: 1.0000\n",
            "Epoch 44: val_loss improved from 0.04402 to 0.04273, saving model to clf-resnet-weights.hdf5\n",
            "2/2 [==============================] - 0s 93ms/step - loss: 0.0110 - accuracy: 1.0000 - val_loss: 0.0427 - val_accuracy: 1.0000 - lr: 2.0000e-04\n",
            "Epoch 45/100\n",
            "1/2 [==============>...............] - ETA: 0s - loss: 0.0279 - accuracy: 1.0000\n",
            "Epoch 45: val_loss improved from 0.04273 to 0.04135, saving model to clf-resnet-weights.hdf5\n",
            "2/2 [==============================] - 0s 96ms/step - loss: 0.0234 - accuracy: 1.0000 - val_loss: 0.0413 - val_accuracy: 1.0000 - lr: 2.0000e-04\n",
            "Epoch 46/100\n",
            "1/2 [==============>...............] - ETA: 0s - loss: 0.0207 - accuracy: 1.0000\n",
            "Epoch 46: val_loss improved from 0.04135 to 0.04046, saving model to clf-resnet-weights.hdf5\n",
            "2/2 [==============================] - 0s 95ms/step - loss: 0.0183 - accuracy: 1.0000 - val_loss: 0.0405 - val_accuracy: 1.0000 - lr: 2.0000e-04\n",
            "Epoch 47/100\n",
            "1/2 [==============>...............] - ETA: 0s - loss: 0.0288 - accuracy: 0.9688\n",
            "Epoch 47: val_loss improved from 0.04046 to 0.04013, saving model to clf-resnet-weights.hdf5\n",
            "2/2 [==============================] - 0s 94ms/step - loss: 0.0235 - accuracy: 0.9750 - val_loss: 0.0401 - val_accuracy: 1.0000 - lr: 2.0000e-04\n",
            "Epoch 48/100\n",
            "1/2 [==============>...............] - ETA: 0s - loss: 0.0208 - accuracy: 1.0000\n",
            "Epoch 48: val_loss improved from 0.04013 to 0.03993, saving model to clf-resnet-weights.hdf5\n",
            "2/2 [==============================] - 0s 93ms/step - loss: 0.0167 - accuracy: 1.0000 - val_loss: 0.0399 - val_accuracy: 1.0000 - lr: 2.0000e-04\n",
            "Epoch 49/100\n",
            "1/2 [==============>...............] - ETA: 0s - loss: 0.0064 - accuracy: 1.0000\n",
            "Epoch 49: val_loss improved from 0.03993 to 0.03974, saving model to clf-resnet-weights.hdf5\n",
            "2/2 [==============================] - 0s 92ms/step - loss: 0.0066 - accuracy: 1.0000 - val_loss: 0.0397 - val_accuracy: 1.0000 - lr: 2.0000e-04\n",
            "Epoch 50/100\n",
            "1/2 [==============>...............] - ETA: 0s - loss: 0.0065 - accuracy: 1.0000\n",
            "Epoch 50: val_loss improved from 0.03974 to 0.03962, saving model to clf-resnet-weights.hdf5\n",
            "2/2 [==============================] - 0s 93ms/step - loss: 0.0060 - accuracy: 1.0000 - val_loss: 0.0396 - val_accuracy: 1.0000 - lr: 2.0000e-04\n",
            "Epoch 51/100\n",
            "1/2 [==============>...............] - ETA: 0s - loss: 0.0110 - accuracy: 1.0000\n",
            "Epoch 51: val_loss improved from 0.03962 to 0.03946, saving model to clf-resnet-weights.hdf5\n",
            "2/2 [==============================] - 0s 94ms/step - loss: 0.0094 - accuracy: 1.0000 - val_loss: 0.0395 - val_accuracy: 1.0000 - lr: 2.0000e-04\n",
            "Epoch 52/100\n",
            "1/2 [==============>...............] - ETA: 0s - loss: 0.0101 - accuracy: 1.0000\n",
            "Epoch 52: val_loss improved from 0.03946 to 0.03927, saving model to clf-resnet-weights.hdf5\n",
            "2/2 [==============================] - 0s 93ms/step - loss: 0.0081 - accuracy: 1.0000 - val_loss: 0.0393 - val_accuracy: 1.0000 - lr: 2.0000e-04\n",
            "Epoch 53/100\n",
            "1/2 [==============>...............] - ETA: 0s - loss: 0.0080 - accuracy: 1.0000\n",
            "Epoch 53: val_loss improved from 0.03927 to 0.03905, saving model to clf-resnet-weights.hdf5\n",
            "2/2 [==============================] - 0s 96ms/step - loss: 0.0065 - accuracy: 1.0000 - val_loss: 0.0391 - val_accuracy: 1.0000 - lr: 2.0000e-04\n",
            "Epoch 54/100\n",
            "1/2 [==============>...............] - ETA: 0s - loss: 0.0077 - accuracy: 1.0000\n",
            "Epoch 54: val_loss improved from 0.03905 to 0.03894, saving model to clf-resnet-weights.hdf5\n",
            "2/2 [==============================] - 0s 94ms/step - loss: 0.0062 - accuracy: 1.0000 - val_loss: 0.0389 - val_accuracy: 1.0000 - lr: 2.0000e-04\n",
            "Epoch 55/100\n",
            "1/2 [==============>...............] - ETA: 0s - loss: 0.0122 - accuracy: 1.0000\n",
            "Epoch 55: val_loss did not improve from 0.03894\n",
            "2/2 [==============================] - 0s 47ms/step - loss: 0.0106 - accuracy: 1.0000 - val_loss: 0.0390 - val_accuracy: 1.0000 - lr: 2.0000e-04\n",
            "Epoch 56/100\n",
            "1/2 [==============>...............] - ETA: 0s - loss: 0.0035 - accuracy: 1.0000\n",
            "Epoch 56: val_loss did not improve from 0.03894\n",
            "2/2 [==============================] - 0s 46ms/step - loss: 0.0034 - accuracy: 1.0000 - val_loss: 0.0391 - val_accuracy: 1.0000 - lr: 2.0000e-04\n",
            "Epoch 57/100\n",
            "1/2 [==============>...............] - ETA: 0s - loss: 0.0066 - accuracy: 1.0000\n",
            "Epoch 57: val_loss did not improve from 0.03894\n",
            "2/2 [==============================] - 0s 48ms/step - loss: 0.0072 - accuracy: 1.0000 - val_loss: 0.0392 - val_accuracy: 1.0000 - lr: 2.0000e-04\n",
            "Epoch 58/100\n",
            "1/2 [==============>...............] - ETA: 0s - loss: 0.0102 - accuracy: 1.0000\n",
            "Epoch 58: val_loss did not improve from 0.03894\n",
            "2/2 [==============================] - 0s 47ms/step - loss: 0.0096 - accuracy: 1.0000 - val_loss: 0.0391 - val_accuracy: 1.0000 - lr: 2.0000e-04\n",
            "Epoch 59/100\n",
            "1/2 [==============>...............] - ETA: 0s - loss: 0.0082 - accuracy: 1.0000\n",
            "Epoch 59: val_loss did not improve from 0.03894\n",
            "\n",
            "Epoch 59: ReduceLROnPlateau reducing learning rate to 4.0000001899898055e-05.\n",
            "2/2 [==============================] - 0s 48ms/step - loss: 0.0067 - accuracy: 1.0000 - val_loss: 0.0390 - val_accuracy: 1.0000 - lr: 2.0000e-04\n",
            "Epoch 60/100\n",
            "1/2 [==============>...............] - ETA: 0s - loss: 0.0023 - accuracy: 1.0000\n",
            "Epoch 60: val_loss did not improve from 0.03894\n",
            "2/2 [==============================] - 0s 46ms/step - loss: 0.0034 - accuracy: 1.0000 - val_loss: 0.0390 - val_accuracy: 1.0000 - lr: 4.0000e-05\n",
            "Epoch 61/100\n",
            "1/2 [==============>...............] - ETA: 0s - loss: 0.0025 - accuracy: 1.0000\n",
            "Epoch 61: val_loss did not improve from 0.03894\n",
            "2/2 [==============================] - 0s 46ms/step - loss: 0.0047 - accuracy: 1.0000 - val_loss: 0.0390 - val_accuracy: 1.0000 - lr: 4.0000e-05\n",
            "Epoch 62/100\n",
            "1/2 [==============>...............] - ETA: 0s - loss: 0.0116 - accuracy: 1.0000\n",
            "Epoch 62: val_loss did not improve from 0.03894\n",
            "2/2 [==============================] - 0s 47ms/step - loss: 0.0104 - accuracy: 1.0000 - val_loss: 0.0390 - val_accuracy: 1.0000 - lr: 4.0000e-05\n",
            "Epoch 63/100\n",
            "1/2 [==============>...............] - ETA: 0s - loss: 0.0049 - accuracy: 1.0000\n",
            "Epoch 63: val_loss improved from 0.03894 to 0.03894, saving model to clf-resnet-weights.hdf5\n",
            "2/2 [==============================] - 0s 94ms/step - loss: 0.0041 - accuracy: 1.0000 - val_loss: 0.0389 - val_accuracy: 1.0000 - lr: 4.0000e-05\n",
            "Epoch 64/100\n",
            "1/2 [==============>...............] - ETA: 0s - loss: 0.0021 - accuracy: 1.0000\n",
            "Epoch 64: val_loss improved from 0.03894 to 0.03891, saving model to clf-resnet-weights.hdf5\n",
            "\n",
            "Epoch 64: ReduceLROnPlateau reducing learning rate to 8.000000525498762e-06.\n",
            "2/2 [==============================] - 0s 97ms/step - loss: 0.0033 - accuracy: 1.0000 - val_loss: 0.0389 - val_accuracy: 1.0000 - lr: 4.0000e-05\n",
            "Epoch 65/100\n",
            "1/2 [==============>...............] - ETA: 0s - loss: 0.0029 - accuracy: 1.0000\n",
            "Epoch 65: val_loss improved from 0.03891 to 0.03890, saving model to clf-resnet-weights.hdf5\n",
            "2/2 [==============================] - 0s 94ms/step - loss: 0.0036 - accuracy: 1.0000 - val_loss: 0.0389 - val_accuracy: 1.0000 - lr: 8.0000e-06\n",
            "Epoch 66/100\n",
            "1/2 [==============>...............] - ETA: 0s - loss: 0.0057 - accuracy: 1.0000\n",
            "Epoch 66: val_loss improved from 0.03890 to 0.03890, saving model to clf-resnet-weights.hdf5\n",
            "2/2 [==============================] - 0s 93ms/step - loss: 0.0046 - accuracy: 1.0000 - val_loss: 0.0389 - val_accuracy: 1.0000 - lr: 8.0000e-06\n",
            "Epoch 67/100\n",
            "1/2 [==============>...............] - ETA: 0s - loss: 0.0041 - accuracy: 1.0000\n",
            "Epoch 67: val_loss improved from 0.03890 to 0.03889, saving model to clf-resnet-weights.hdf5\n",
            "2/2 [==============================] - 0s 95ms/step - loss: 0.0034 - accuracy: 1.0000 - val_loss: 0.0389 - val_accuracy: 1.0000 - lr: 8.0000e-06\n",
            "Epoch 68/100\n",
            "1/2 [==============>...............] - ETA: 0s - loss: 0.0361 - accuracy: 0.9688\n",
            "Epoch 68: val_loss improved from 0.03889 to 0.03888, saving model to clf-resnet-weights.hdf5\n",
            "2/2 [==============================] - 0s 94ms/step - loss: 0.0452 - accuracy: 0.9750 - val_loss: 0.0389 - val_accuracy: 1.0000 - lr: 8.0000e-06\n",
            "Epoch 69/100\n",
            "1/2 [==============>...............] - ETA: 0s - loss: 0.0122 - accuracy: 1.0000\n",
            "Epoch 69: val_loss improved from 0.03888 to 0.03887, saving model to clf-resnet-weights.hdf5\n",
            "\n",
            "Epoch 69: ReduceLROnPlateau reducing learning rate to 1.6000001778593287e-06.\n",
            "2/2 [==============================] - 0s 96ms/step - loss: 0.0103 - accuracy: 1.0000 - val_loss: 0.0389 - val_accuracy: 1.0000 - lr: 8.0000e-06\n",
            "Epoch 70/100\n",
            "1/2 [==============>...............] - ETA: 0s - loss: 0.0021 - accuracy: 1.0000\n",
            "Epoch 70: val_loss improved from 0.03887 to 0.03886, saving model to clf-resnet-weights.hdf5\n",
            "2/2 [==============================] - 0s 94ms/step - loss: 0.0029 - accuracy: 1.0000 - val_loss: 0.0389 - val_accuracy: 1.0000 - lr: 1.6000e-06\n",
            "Epoch 71/100\n",
            "1/2 [==============>...............] - ETA: 0s - loss: 0.0028 - accuracy: 1.0000\n",
            "Epoch 71: val_loss improved from 0.03886 to 0.03886, saving model to clf-resnet-weights.hdf5\n",
            "2/2 [==============================] - 0s 94ms/step - loss: 0.0038 - accuracy: 1.0000 - val_loss: 0.0389 - val_accuracy: 1.0000 - lr: 1.6000e-06\n",
            "Epoch 72/100\n",
            "1/2 [==============>...............] - ETA: 0s - loss: 0.0067 - accuracy: 1.0000\n",
            "Epoch 72: val_loss improved from 0.03886 to 0.03886, saving model to clf-resnet-weights.hdf5\n",
            "2/2 [==============================] - 0s 97ms/step - loss: 0.0059 - accuracy: 1.0000 - val_loss: 0.0389 - val_accuracy: 1.0000 - lr: 1.6000e-06\n",
            "Epoch 73/100\n",
            "1/2 [==============>...............] - ETA: 0s - loss: 0.0062 - accuracy: 1.0000\n",
            "Epoch 73: val_loss improved from 0.03886 to 0.03885, saving model to clf-resnet-weights.hdf5\n",
            "2/2 [==============================] - 0s 94ms/step - loss: 0.0096 - accuracy: 1.0000 - val_loss: 0.0389 - val_accuracy: 1.0000 - lr: 1.6000e-06\n",
            "Epoch 74/100\n",
            "1/2 [==============>...............] - ETA: 0s - loss: 0.0052 - accuracy: 1.0000\n",
            "Epoch 74: val_loss improved from 0.03885 to 0.03885, saving model to clf-resnet-weights.hdf5\n",
            "\n",
            "Epoch 74: ReduceLROnPlateau reducing learning rate to 3.200000264769187e-07.\n",
            "2/2 [==============================] - 0s 95ms/step - loss: 0.0043 - accuracy: 1.0000 - val_loss: 0.0388 - val_accuracy: 1.0000 - lr: 1.6000e-06\n",
            "Epoch 75/100\n",
            "1/2 [==============>...............] - ETA: 0s - loss: 0.0041 - accuracy: 1.0000\n",
            "Epoch 75: val_loss improved from 0.03885 to 0.03884, saving model to clf-resnet-weights.hdf5\n",
            "2/2 [==============================] - 0s 95ms/step - loss: 0.0038 - accuracy: 1.0000 - val_loss: 0.0388 - val_accuracy: 1.0000 - lr: 3.2000e-07\n",
            "Epoch 76/100\n",
            "1/2 [==============>...............] - ETA: 0s - loss: 0.0027 - accuracy: 1.0000\n",
            "Epoch 76: val_loss improved from 0.03884 to 0.03884, saving model to clf-resnet-weights.hdf5\n",
            "2/2 [==============================] - 0s 93ms/step - loss: 0.0030 - accuracy: 1.0000 - val_loss: 0.0388 - val_accuracy: 1.0000 - lr: 3.2000e-07\n",
            "Epoch 77/100\n",
            "1/2 [==============>...............] - ETA: 0s - loss: 0.0077 - accuracy: 1.0000\n",
            "Epoch 77: val_loss improved from 0.03884 to 0.03884, saving model to clf-resnet-weights.hdf5\n",
            "2/2 [==============================] - 0s 94ms/step - loss: 0.0125 - accuracy: 1.0000 - val_loss: 0.0388 - val_accuracy: 1.0000 - lr: 3.2000e-07\n",
            "Epoch 78/100\n",
            "1/2 [==============>...............] - ETA: 0s - loss: 0.0036 - accuracy: 1.0000\n",
            "Epoch 78: val_loss improved from 0.03884 to 0.03884, saving model to clf-resnet-weights.hdf5\n",
            "2/2 [==============================] - 0s 94ms/step - loss: 0.0064 - accuracy: 1.0000 - val_loss: 0.0388 - val_accuracy: 1.0000 - lr: 3.2000e-07\n",
            "Epoch 79/100\n",
            "1/2 [==============>...............] - ETA: 0s - loss: 0.0047 - accuracy: 1.0000\n",
            "Epoch 79: val_loss improved from 0.03884 to 0.03884, saving model to clf-resnet-weights.hdf5\n",
            "2/2 [==============================] - 0s 96ms/step - loss: 0.0040 - accuracy: 1.0000 - val_loss: 0.0388 - val_accuracy: 1.0000 - lr: 3.2000e-07\n",
            "Epoch 80/100\n",
            "1/2 [==============>...............] - ETA: 0s - loss: 0.0137 - accuracy: 1.0000\n",
            "Epoch 80: val_loss did not improve from 0.03884\n",
            "2/2 [==============================] - 0s 46ms/step - loss: 0.0124 - accuracy: 1.0000 - val_loss: 0.0388 - val_accuracy: 1.0000 - lr: 3.2000e-07\n",
            "Epoch 81/100\n",
            "1/2 [==============>...............] - ETA: 0s - loss: 0.0049 - accuracy: 1.0000\n",
            "Epoch 81: val_loss did not improve from 0.03884\n",
            "2/2 [==============================] - 0s 47ms/step - loss: 0.0047 - accuracy: 1.0000 - val_loss: 0.0388 - val_accuracy: 1.0000 - lr: 3.2000e-07\n",
            "Epoch 82/100\n",
            "1/2 [==============>...............] - ETA: 0s - loss: 0.0074 - accuracy: 1.0000\n",
            "Epoch 82: val_loss did not improve from 0.03884\n",
            "\n",
            "Epoch 82: ReduceLROnPlateau reducing learning rate to 6.400000529538374e-08.\n",
            "2/2 [==============================] - 0s 49ms/step - loss: 0.0097 - accuracy: 1.0000 - val_loss: 0.0388 - val_accuracy: 1.0000 - lr: 3.2000e-07\n",
            "Epoch 83/100\n",
            "1/2 [==============>...............] - ETA: 0s - loss: 0.0087 - accuracy: 1.0000\n",
            "Epoch 83: val_loss did not improve from 0.03884\n",
            "2/2 [==============================] - 0s 47ms/step - loss: 0.0118 - accuracy: 1.0000 - val_loss: 0.0388 - val_accuracy: 1.0000 - lr: 6.4000e-08\n",
            "Epoch 84/100\n",
            "1/2 [==============>...............] - ETA: 0s - loss: 0.0049 - accuracy: 1.0000\n",
            "Epoch 84: val_loss did not improve from 0.03884\n",
            "2/2 [==============================] - 0s 47ms/step - loss: 0.0043 - accuracy: 1.0000 - val_loss: 0.0388 - val_accuracy: 1.0000 - lr: 6.4000e-08\n",
            "Epoch 85/100\n",
            "1/2 [==============>...............] - ETA: 0s - loss: 0.0045 - accuracy: 1.0000\n",
            "Epoch 85: val_loss did not improve from 0.03884\n",
            "2/2 [==============================] - 0s 48ms/step - loss: 0.0037 - accuracy: 1.0000 - val_loss: 0.0388 - val_accuracy: 1.0000 - lr: 6.4000e-08\n",
            "Epoch 86/100\n",
            "1/2 [==============>...............] - ETA: 0s - loss: 0.0065 - accuracy: 1.0000\n",
            "Epoch 86: val_loss did not improve from 0.03884\n",
            "2/2 [==============================] - 0s 48ms/step - loss: 0.0053 - accuracy: 1.0000 - val_loss: 0.0388 - val_accuracy: 1.0000 - lr: 6.4000e-08\n",
            "Epoch 87/100\n",
            "1/2 [==============>...............] - ETA: 0s - loss: 0.0041 - accuracy: 1.0000\n",
            "Epoch 87: val_loss did not improve from 0.03884\n",
            "\n",
            "Epoch 87: ReduceLROnPlateau reducing learning rate to 1.2800001059076749e-08.\n",
            "2/2 [==============================] - 0s 50ms/step - loss: 0.0041 - accuracy: 1.0000 - val_loss: 0.0388 - val_accuracy: 1.0000 - lr: 6.4000e-08\n",
            "Epoch 88/100\n",
            "1/2 [==============>...............] - ETA: 0s - loss: 0.0084 - accuracy: 1.0000\n",
            "Epoch 88: val_loss did not improve from 0.03884\n",
            "2/2 [==============================] - 0s 48ms/step - loss: 0.0071 - accuracy: 1.0000 - val_loss: 0.0388 - val_accuracy: 1.0000 - lr: 1.2800e-08\n",
            "Epoch 89/100\n",
            "1/2 [==============>...............] - ETA: 0s - loss: 0.0163 - accuracy: 1.0000\n",
            "Epoch 89: val_loss did not improve from 0.03884\n",
            "2/2 [==============================] - 0s 47ms/step - loss: 0.0133 - accuracy: 1.0000 - val_loss: 0.0388 - val_accuracy: 1.0000 - lr: 1.2800e-08\n",
            "Epoch 90/100\n",
            "1/2 [==============>...............] - ETA: 0s - loss: 0.0028 - accuracy: 1.0000\n",
            "Epoch 90: val_loss did not improve from 0.03884\n",
            "2/2 [==============================] - 0s 47ms/step - loss: 0.0023 - accuracy: 1.0000 - val_loss: 0.0388 - val_accuracy: 1.0000 - lr: 1.2800e-08\n",
            "Epoch 91/100\n",
            "1/2 [==============>...............] - ETA: 0s - loss: 0.0046 - accuracy: 1.0000\n",
            "Epoch 91: val_loss did not improve from 0.03884\n",
            "2/2 [==============================] - 0s 48ms/step - loss: 0.0042 - accuracy: 1.0000 - val_loss: 0.0388 - val_accuracy: 1.0000 - lr: 1.2800e-08\n",
            "Epoch 92/100\n",
            "1/2 [==============>...............] - ETA: 0s - loss: 0.0015 - accuracy: 1.0000\n",
            "Epoch 92: val_loss did not improve from 0.03884\n",
            "\n",
            "Epoch 92: ReduceLROnPlateau reducing learning rate to 2.5600002118153498e-09.\n",
            "2/2 [==============================] - 0s 47ms/step - loss: 0.0063 - accuracy: 1.0000 - val_loss: 0.0388 - val_accuracy: 1.0000 - lr: 1.2800e-08\n",
            "Epoch 93/100\n",
            "1/2 [==============>...............] - ETA: 0s - loss: 0.0049 - accuracy: 1.0000\n",
            "Epoch 93: val_loss did not improve from 0.03884\n",
            "2/2 [==============================] - 0s 47ms/step - loss: 0.0044 - accuracy: 1.0000 - val_loss: 0.0388 - val_accuracy: 1.0000 - lr: 2.5600e-09\n",
            "Epoch 94/100\n",
            "1/2 [==============>...............] - ETA: 0s - loss: 0.0162 - accuracy: 1.0000\n",
            "Epoch 94: val_loss did not improve from 0.03884\n",
            "2/2 [==============================] - 0s 48ms/step - loss: 0.0135 - accuracy: 1.0000 - val_loss: 0.0388 - val_accuracy: 1.0000 - lr: 2.5600e-09\n",
            "Epoch 94: early stopping\n"
          ]
        }
      ]
    },
    {
      "cell_type": "code",
      "source": [
        "test_loss, test_acc = model.evaluate(x_test,y_test)"
      ],
      "metadata": {
        "colab": {
          "base_uri": "https://localhost:8080/"
        },
        "id": "HKEKoZqWt-vA",
        "outputId": "b8e45a56-5597-41e3-da07-3683159799e6"
      },
      "execution_count": null,
      "outputs": [
        {
          "output_type": "stream",
          "name": "stdout",
          "text": [
            "1/1 [==============================] - 0s 28ms/step - loss: 0.0128 - accuracy: 1.0000\n"
          ]
        }
      ]
    },
    {
      "cell_type": "code",
      "source": [
        "acc=h.history['accuracy']\n",
        "val_acc=h.history['val_accuracy']\n",
        "\n",
        "epoch=range(len(acc))\n",
        "\n",
        "loss=h.history['loss']\n",
        "val_loss=h.history['val_loss']\n",
        "\n",
        "learning_rate = h.history['lr']\n",
        "\n",
        "f,ax=plt.subplots(1,3,figsize=(14,7))\n",
        "\n",
        "ax[0].plot(epoch,acc,'b',label='Training Accuracy')\n",
        "ax[0].plot(epoch,val_acc,'r',label='Validation Accuracy')\n",
        "ax[0].legend()\n",
        "\n",
        "ax[1].plot(epoch,loss,'b',label='Training Loss')\n",
        "ax[1].plot(epoch,val_loss,'r',label='Validation Loss')\n",
        "ax[1].legend()\n",
        "\n",
        "\n",
        "ax[2].plot(epoch,learning_rate,'b',label='learning rate')\n",
        "ax[2].legend()\n",
        "\n",
        "\n",
        "\n",
        "plt.show()"
      ],
      "metadata": {
        "colab": {
          "base_uri": "https://localhost:8080/",
          "height": 587
        },
        "id": "cPJdzg3xwmzt",
        "outputId": "cbc81220-bade-451c-ae7f-67717c554d9f"
      },
      "execution_count": null,
      "outputs": [
        {
          "output_type": "display_data",
          "data": {
            "text/plain": [
              "<Figure size 1400x700 with 3 Axes>"
            ],
            "image/png": "[encoded data removed]"
          },
          "metadata": {}
        }
      ]
    },
    {
      "cell_type": "code",
      "source": [
        "prediction = model.predict(x_test)"
      ],
      "metadata": {
        "colab": {
          "base_uri": "https://localhost:8080/"
        },
        "id": "18MeMxWdv1f_",
        "outputId": "e1a394b6-3c0c-4a52-d1b5-e186dacc11ba"
      },
      "execution_count": null,
      "outputs": [
        {
          "output_type": "stream",
          "name": "stdout",
          "text": [
            "53/53 [==============================] - 0s 7ms/step\n"
          ]
        }
      ]
    },
    {
      "cell_type": "code",
      "source": [
        "len(prediction)"
      ],
      "metadata": {
        "colab": {
          "base_uri": "https://localhost:8080/"
        },
        "id": "TZVJAaOjNe__",
        "outputId": "2066b218-f209-4a8d-9798-9ccc8f75b4ad"
      },
      "execution_count": null,
      "outputs": [
        {
          "output_type": "execute_result",
          "data": {
            "text/plain": [
              "1694"
            ]
          },
          "metadata": {},
          "execution_count": 56
        }
      ]
    },
    {
      "cell_type": "code",
      "source": [
        "not_match = []\n",
        "not_match_ids = []\n",
        "for i in range(len(prediction)):\n",
        "  x = np.argmax(prediction[i])\n",
        "  if x != y_test[i]:\n",
        "    not_match.append(prediction[i])\n",
        "    not_match_ids.append(i)"
      ],
      "metadata": {
        "id": "WrEq6krbwEGt"
      },
      "execution_count": null,
      "outputs": []
    },
    {
      "cell_type": "code",
      "source": [
        "for i in not_match_ids:\n",
        "  print(\"Ids : \",i, \"pred :\",np.argmax(prediction[i]), \"actual :\", y_test[i])"
      ],
      "metadata": {
        "colab": {
          "base_uri": "https://localhost:8080/"
        },
        "id": "cndizO-PwaEh",
        "outputId": "e8806b35-6538-4143-e79f-3029d7b93154"
      },
      "execution_count": null,
      "outputs": [
        {
          "output_type": "stream",
          "name": "stdout",
          "text": [
            "Ids :  4 pred : 28 actual : 27\n",
            "Ids :  5 pred : 17 actual : 25\n",
            "Ids :  6 pred : 27 actual : 28\n",
            "Ids :  15 pred : 52 actual : 53\n",
            "Ids :  22 pred : 13 actual : 21\n",
            "Ids :  31 pred : 44 actual : 27\n",
            "Ids :  35 pred : 13 actual : 21\n",
            "Ids :  64 pred : 35 actual : 34\n",
            "Ids :  72 pred : 12 actual : 11\n",
            "Ids :  73 pred : 40 actual : 39\n",
            "Ids :  92 pred : 18 actual : 11\n",
            "Ids :  94 pred : 39 actual : 30\n",
            "Ids :  98 pred : 42 actual : 41\n",
            "Ids :  102 pred : 23 actual : 22\n",
            "Ids :  146 pred : 25 actual : 17\n",
            "Ids :  149 pred : 41 actual : 33\n",
            "Ids :  162 pred : 32 actual : 30\n",
            "Ids :  190 pred : 13 actual : 12\n",
            "Ids :  193 pred : 19 actual : 35\n",
            "Ids :  205 pred : 42 actual : 45\n",
            "Ids :  207 pred : 14 actual : 13\n",
            "Ids :  214 pred : 34 actual : 35\n",
            "Ids :  217 pred : 52 actual : 53\n",
            "Ids :  220 pred : 33 actual : 35\n",
            "Ids :  224 pred : 51 actual : 43\n",
            "Ids :  228 pred : 53 actual : 52\n",
            "Ids :  268 pred : 42 actual : 27\n",
            "Ids :  278 pred : 40 actual : 39\n",
            "Ids :  282 pred : 10 actual : 17\n",
            "Ids :  286 pred : 22 actual : 19\n",
            "Ids :  293 pred : 13 actual : 20\n",
            "Ids :  294 pred : 14 actual : 12\n",
            "Ids :  299 pred : 12 actual : 11\n",
            "Ids :  305 pred : 44 actual : 28\n",
            "Ids :  321 pred : 31 actual : 30\n",
            "Ids :  326 pred : 38 actual : 31\n",
            "Ids :  330 pred : 33 actual : 41\n",
            "Ids :  342 pred : 25 actual : 17\n",
            "Ids :  348 pred : 47 actual : 46\n",
            "Ids :  369 pred : 44 actual : 28\n",
            "Ids :  380 pred : 53 actual : 54\n",
            "Ids :  391 pred : 29 actual : 28\n",
            "Ids :  393 pred : 13 actual : 14\n",
            "Ids :  406 pred : 25 actual : 27\n",
            "Ids :  419 pred : 44 actual : 43\n",
            "Ids :  420 pred : 51 actual : 52\n",
            "Ids :  426 pred : 25 actual : 34\n",
            "Ids :  438 pred : 41 actual : 33\n",
            "Ids :  459 pred : 45 actual : 27\n",
            "Ids :  490 pred : 33 actual : 26\n",
            "Ids :  494 pred : 20 actual : 34\n",
            "Ids :  495 pred : 52 actual : 44\n",
            "Ids :  499 pred : 40 actual : 39\n",
            "Ids :  506 pred : 25 actual : 27\n",
            "Ids :  517 pred : 23 actual : 22\n",
            "Ids :  543 pred : 41 actual : 51\n",
            "Ids :  553 pred : 52 actual : 51\n",
            "Ids :  557 pred : 18 actual : 17\n",
            "Ids :  593 pred : 17 actual : 18\n",
            "Ids :  616 pred : 38 actual : 30\n",
            "Ids :  618 pred : 18 actual : 19\n",
            "Ids :  645 pred : 22 actual : 19\n",
            "Ids :  676 pred : 39 actual : 31\n",
            "Ids :  682 pred : 31 actual : 30\n",
            "Ids :  702 pred : 42 actual : 41\n",
            "Ids :  727 pred : 22 actual : 19\n",
            "Ids :  738 pred : 23 actual : 22\n",
            "Ids :  743 pred : 47 actual : 46\n",
            "Ids :  745 pred : 13 actual : 20\n",
            "Ids :  749 pred : 40 actual : 30\n",
            "Ids :  760 pred : 21 actual : 22\n",
            "Ids :  763 pred : 17 actual : 18\n",
            "Ids :  778 pred : 35 actual : 34\n",
            "Ids :  805 pred : 38 actual : 30\n",
            "Ids :  832 pred : 34 actual : 27\n",
            "Ids :  838 pred : 17 actual : 18\n",
            "Ids :  847 pred : 45 actual : 46\n",
            "Ids :  851 pred : 31 actual : 30\n",
            "Ids :  858 pred : 21 actual : 19\n",
            "Ids :  876 pred : 12 actual : 19\n",
            "Ids :  886 pred : 23 actual : 22\n",
            "Ids :  893 pred : 44 actual : 43\n",
            "Ids :  904 pred : 42 actual : 41\n"
          ]
        }
      ]
    },
    {
      "cell_type": "code",
      "source": [],
      "metadata": {
        "id": "iJFX1p9uG8lz"
      },
      "execution_count": null,
      "outputs": []
    }
  ]
}