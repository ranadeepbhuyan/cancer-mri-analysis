{
  "nbformat": 4,
  "nbformat_minor": 0,
  "metadata": {
    "colab": {
      "provenance": [],
      "include_colab_link": true
    },
    "kernelspec": {
      "name": "python3",
      "display_name": "Python 3"
    },
    "language_info": {
      "name": "python"
    },
    "accelerator": "TPU"
  },
  "cells": [
    {
      "cell_type": "markdown",
      "metadata": {
        "id": "view-in-github",
        "colab_type": "text"
      },
      "source": [
        "<a href=\"https://colab.research.google.com/github/ranadeepbhuyan/cancer-mri-analysis/blob/main/slicing/PKG_UPENN_GBM_NIfTI_files_image_sliced_detection_along_z.ipynb\" target=\"_parent\"><img src=\"https://colab.research.google.com/assets/colab-badge.svg\" alt=\"Open In Colab\"/></a>"
      ]
    },
    {
      "cell_type": "code",
      "execution_count": null,
      "metadata": {
        "id": "piJu-3OFf5y9"
      },
      "outputs": [],
      "source": [
        "import numpy as np\n",
        "import pandas as pd\n",
        "import matplotlib.pyplot as plt\n",
        "import cv2\n",
        "import nibabel as nib"
      ]
    },
    {
      "cell_type": "code",
      "source": [
        "import os"
      ],
      "metadata": {
        "id": "vCCAFpl2oD9x"
      },
      "execution_count": null,
      "outputs": []
    },
    {
      "cell_type": "code",
      "source": [
        "from google.colab import drive\n",
        "drive.mount('/content/drive')"
      ],
      "metadata": {
        "id": "1dJb2OcTnJwl",
        "colab": {
          "base_uri": "https://localhost:8080/"
        },
        "outputId": "0e127bbf-ef2f-4b9e-ae06-4e87b14c55ad"
      },
      "execution_count": null,
      "outputs": [
        {
          "output_type": "stream",
          "name": "stdout",
          "text": [
            "Mounted at /content/drive\n"
          ]
        }
      ]
    },
    {
      "cell_type": "code",
      "source": [
        "based_path = r\"/content/drive/MyDrive/PKG - UPENN-GBM 3d to 2d /along z/Patients data into 64 parts\""
      ],
      "metadata": {
        "id": "mgzHuP3qnMwT"
      },
      "execution_count": null,
      "outputs": []
    },
    {
      "cell_type": "code",
      "source": [
        "#fatching ids form data path\n",
        "def pathListIntoIds(dirList):\n",
        "    x = []\n",
        "    for i in range(0,len(dirList)):\n",
        "        x.append(dirList[i][dirList[i].rfind('/')+1:])\n",
        "    return x\n"
      ],
      "metadata": {
        "id": "cQPvtztfnzYM"
      },
      "execution_count": null,
      "outputs": []
    },
    {
      "cell_type": "code",
      "source": [
        "list2 = []\n",
        "path_of_paitents_data = [f.path for f in os.scandir(based_path)]\n",
        "for i in range(len(path_of_paitents_data)):\n",
        "  test = path_of_paitents_data[i]\n",
        "  list1 = [f.path for f in os.scandir(test)]\n",
        "  for i in list1:\n",
        "    list2.append(i)"
      ],
      "metadata": {
        "id": "91ThTdseD98N"
      },
      "execution_count": null,
      "outputs": []
    },
    {
      "cell_type": "code",
      "source": [
        "list2[0]"
      ],
      "metadata": {
        "colab": {
          "base_uri": "https://localhost:8080/",
          "height": 36
        },
        "id": "hZ22BP-Egz1W",
        "outputId": "828b8de7-59ca-4607-c265-e874de93d7bc"
      },
      "execution_count": null,
      "outputs": [
        {
          "output_type": "execute_result",
          "data": {
            "text/plain": [
              "'/content/drive/MyDrive/PKG - UPENN-GBM 3d to 2d /along z/Patients data into 64 parts/Patient no 2/UPENN-GBM-Patients-1-slice035_z_24.png'"
            ],
            "application/vnd.google.colaboratory.intrinsic+json": {
              "type": "string"
            }
          },
          "metadata": {},
          "execution_count": 7
        }
      ]
    },
    {
      "cell_type": "code",
      "source": [
        "listno = []\n",
        "for i in range(1,21):\n",
        "  listno.append(f'{i}')"
      ],
      "metadata": {
        "id": "dwjMUebI1Sfe"
      },
      "execution_count": null,
      "outputs": []
    },
    {
      "cell_type": "code",
      "source": [
        "listno[0]"
      ],
      "metadata": {
        "colab": {
          "base_uri": "https://localhost:8080/",
          "height": 36
        },
        "id": "9Erlusyd1oKO",
        "outputId": "7c4445cb-3d07-4d91-f028-e0eacef6be36"
      },
      "execution_count": null,
      "outputs": [
        {
          "output_type": "execute_result",
          "data": {
            "text/plain": [
              "'1'"
            ],
            "application/vnd.google.colaboratory.intrinsic+json": {
              "type": "string"
            }
          },
          "metadata": {},
          "execution_count": 9
        }
      ]
    },
    {
      "cell_type": "code",
      "source": [
        "patients_data = []\n",
        "for i in range(len(list2)):\n",
        "  test = list2[i].split('/')[7]\n",
        "  test1 = test.split(' ')[2]\n",
        "  for F in range(0,12):\n",
        "    if test1 == listno[F]:\n",
        "      patients_data.append(list2[i])"
      ],
      "metadata": {
        "id": "zfhrpr0egX02"
      },
      "execution_count": null,
      "outputs": []
    },
    {
      "cell_type": "code",
      "source": [
        "len(patients_data)"
      ],
      "metadata": {
        "colab": {
          "base_uri": "https://localhost:8080/"
        },
        "id": "IybCWJm3k-ut",
        "outputId": "91d985a2-18d8-4952-fc3c-6a928044380e"
      },
      "execution_count": null,
      "outputs": [
        {
          "output_type": "execute_result",
          "data": {
            "text/plain": [
              "39040"
            ]
          },
          "metadata": {},
          "execution_count": 11
        }
      ]
    },
    {
      "cell_type": "code",
      "source": [
        "patients_data.sort()"
      ],
      "metadata": {
        "id": "H_dzF5Xg4OWG"
      },
      "execution_count": null,
      "outputs": []
    },
    {
      "cell_type": "code",
      "source": [
        "def remove_blank_imgs(path):\n",
        "  final_path =[]\n",
        "  for i in range(len(path)):\n",
        "    image = cv2.imread(path[i])\n",
        "    if image.max() != image.min():\n",
        "      final_path.append(path[i])\n",
        "  return final_path\n"
      ],
      "metadata": {
        "id": "nqs0Udrco2Ud"
      },
      "execution_count": null,
      "outputs": []
    },
    {
      "cell_type": "code",
      "source": [
        "final_ids1 = remove_blank_imgs(patients_data)"
      ],
      "metadata": {
        "id": "os1l4RHdgrZG"
      },
      "execution_count": null,
      "outputs": []
    },
    {
      "cell_type": "code",
      "source": [
        "len(final_ids1)"
      ],
      "metadata": {
        "id": "vv3g5oiJup_S"
      },
      "execution_count": null,
      "outputs": []
    },
    {
      "cell_type": "code",
      "source": [
        "def data_prepare(path):\n",
        "  data_path = []\n",
        "  data_ids = []\n",
        "  #desired_width = 128\n",
        "  #desired_height = 128\n",
        "  for i in range(len(path)):\n",
        "    img_data = cv2.imread(path[i])\n",
        "    gray_image = cv2.cvtColor(img_data, cv2.COLOR_BGR2GRAY)\n",
        "    #resized_image = cv2.resize(gray_image, (desired_width, desired_height), interpolation=cv2.INTER_LINEAR)\n",
        "    test1 = path[i].split('z_')[1]\n",
        "    test = test1.split('.png')[0]\n",
        "    data_path.append(gray_image)\n",
        "    data_ids.append(int(test))\n",
        "  return data_path, data_ids\n",
        "\n",
        "\n",
        "data_path, data_ids = data_prepare(final_ids1)\n",
        "\n",
        "data_column = {'image_data': data_path,\n",
        "        'class': data_ids}\n",
        "data_set = pd.DataFrame(data_column)"
      ],
      "metadata": {
        "id": "TdgcrvfFzXi1"
      },
      "execution_count": null,
      "outputs": []
    },
    {
      "cell_type": "code",
      "source": [
        "data_list = data_set['image_data'].tolist()\n",
        "classes = data_set['class'].tolist()"
      ],
      "metadata": {
        "id": "KSwD-0mw08Xr"
      },
      "execution_count": null,
      "outputs": []
    },
    {
      "cell_type": "code",
      "source": [
        "my_array = np.array(data_list)\n",
        "y_data = np.array(classes)"
      ],
      "metadata": {
        "id": "xW2h_tZRxFpR"
      },
      "execution_count": null,
      "outputs": []
    },
    {
      "cell_type": "code",
      "source": [
        "my_array.shape"
      ],
      "metadata": {
        "colab": {
          "base_uri": "https://localhost:8080/"
        },
        "id": "9UCj9nWOxKhv",
        "outputId": "ec40f4c6-b590-4d5c-cffe-2e5c39d4a1f5"
      },
      "execution_count": null,
      "outputs": [
        {
          "output_type": "execute_result",
          "data": {
            "text/plain": [
              "(9743, 30, 30)"
            ]
          },
          "metadata": {},
          "execution_count": 145
        }
      ]
    },
    {
      "cell_type": "code",
      "source": [
        "from sklearn.model_selection import train_test_split\n",
        "\n",
        "x_train, x_test, y_train, y_test = train_test_split(my_array,y_data, test_size=0.10)"
      ],
      "metadata": {
        "id": "37j7w7mnxO4l"
      },
      "execution_count": null,
      "outputs": []
    },
    {
      "cell_type": "code",
      "source": [
        "from tensorflow.keras.utils import normalize\n",
        "\n",
        "x_train = normalize(x_train, axis=1)\n",
        "x_test = normalize(x_test, axis=1)\n",
        "plt.imshow(x_train[1], cmap =plt.cm.binary)"
      ],
      "metadata": {
        "colab": {
          "base_uri": "https://localhost:8080/",
          "height": 448
        },
        "id": "oq_2T0TDxZ4G",
        "outputId": "b2416af1-3cb3-43f2-8f3d-f83f542e1985"
      },
      "execution_count": null,
      "outputs": [
        {
          "output_type": "execute_result",
          "data": {
            "text/plain": [
              "<matplotlib.image.AxesImage at 0x79822354f880>"
            ]
          },
          "metadata": {},
          "execution_count": 147
        },
        {
          "output_type": "display_data",
          "data": {
            "text/plain": [
              "<Figure size 640x480 with 1 Axes>"
            ],
            "image/png": "[encoded data removed]"
          },
          "metadata": {}
        }
      ]
    },
    {
      "cell_type": "code",
      "source": [
        "x_train = np.array(x_train).reshape(-1,30,30,1)\n",
        "x_test = np.array(x_test).reshape(-1,30,30,1)\n",
        "print(x_train.shape,x_test.shape)"
      ],
      "metadata": {
        "colab": {
          "base_uri": "https://localhost:8080/"
        },
        "id": "ky_cFe6zxluY",
        "outputId": "9126b075-0abf-4d6a-f927-09486fc6cf1a"
      },
      "execution_count": null,
      "outputs": [
        {
          "output_type": "stream",
          "name": "stdout",
          "text": [
            "(8768, 30, 30, 1) (975, 30, 30, 1)\n"
          ]
        }
      ]
    },
    {
      "cell_type": "code",
      "source": [
        "from tensorflow.keras.layers import Conv2D, MaxPooling2D, Activation,Flatten, Dense, Dropout\n",
        "from tensorflow.keras.models import Sequential\n",
        "from tensorflow.keras.initializers import HeNormal"
      ],
      "metadata": {
        "id": "1XogKEcWj72q"
      },
      "execution_count": null,
      "outputs": []
    },
    {
      "cell_type": "code",
      "source": [
        "model = Sequential()\n",
        "\n",
        "model.add(Conv2D(32, (3,3), padding='same', input_shape=x_train.shape[1:]))\n",
        "model.add(Activation('relu'))\n",
        "model.add(Dropout(0.2))\n",
        "model.add(MaxPooling2D(pool_size = (2, 2)))\n",
        "\n",
        "model.add(Conv2D(64, (3,3),padding='same'))\n",
        "model.add(Activation('relu'))\n",
        "model.add(Dropout(0.2))\n",
        "model.add(MaxPooling2D(pool_size = (2, 2)))\n",
        "\n",
        "model.add(Conv2D(128, (3,3), padding='same'))\n",
        "model.add(Activation('relu'))\n",
        "model.add(Dropout(0.2))\n",
        "model.add(MaxPooling2D(pool_size = (2, 2)))\n",
        "\n",
        "\n",
        "model.add(Flatten())\n",
        "model.add(Dense(512))\n",
        "model.add(Activation('relu'))\n",
        "model.add(Dropout(0.2))\n",
        "\n",
        "model.add(Dense(256))\n",
        "model.add(Activation('relu'))\n",
        "model.add(Dropout(0.2))\n",
        "\n",
        "\n",
        "model.add(Dense(64))\n",
        "model.add(Activation('softmax'))\n"
      ],
      "metadata": {
        "id": "4-tUJxTOmvO-"
      },
      "execution_count": null,
      "outputs": []
    },
    {
      "cell_type": "code",
      "source": [
        "model.summary()"
      ],
      "metadata": {
        "colab": {
          "base_uri": "https://localhost:8080/"
        },
        "id": "rkHXGNntqh7A",
        "outputId": "a2121d5e-3f87-4046-cd7f-98bea2ce7798"
      },
      "execution_count": null,
      "outputs": [
        {
          "output_type": "stream",
          "name": "stdout",
          "text": [
            "Model: \"sequential_5\"\n",
            "_________________________________________________________________\n",
            " Layer (type)                Output Shape              Param #   \n",
            "=================================================================\n",
            " conv2d_15 (Conv2D)          (None, 30, 30, 32)        320       \n",
            "                                                                 \n",
            " activation_30 (Activation)  (None, 30, 30, 32)        0         \n",
            "                                                                 \n",
            " dropout_25 (Dropout)        (None, 30, 30, 32)        0         \n",
            "                                                                 \n",
            " max_pooling2d_15 (MaxPooli  (None, 15, 15, 32)        0         \n",
            " ng2D)                                                           \n",
            "                                                                 \n",
            " conv2d_16 (Conv2D)          (None, 15, 15, 64)        18496     \n",
            "                                                                 \n",
            " activation_31 (Activation)  (None, 15, 15, 64)        0         \n",
            "                                                                 \n",
            " dropout_26 (Dropout)        (None, 15, 15, 64)        0         \n",
            "                                                                 \n",
            " max_pooling2d_16 (MaxPooli  (None, 7, 7, 64)          0         \n",
            " ng2D)                                                           \n",
            "                                                                 \n",
            " conv2d_17 (Conv2D)          (None, 7, 7, 128)         73856     \n",
            "                                                                 \n",
            " activation_32 (Activation)  (None, 7, 7, 128)         0         \n",
            "                                                                 \n",
            " dropout_27 (Dropout)        (None, 7, 7, 128)         0         \n",
            "                                                                 \n",
            " max_pooling2d_17 (MaxPooli  (None, 3, 3, 128)         0         \n",
            " ng2D)                                                           \n",
            "                                                                 \n",
            " flatten_5 (Flatten)         (None, 1152)              0         \n",
            "                                                                 \n",
            " dense_15 (Dense)            (None, 512)               590336    \n",
            "                                                                 \n",
            " activation_33 (Activation)  (None, 512)               0         \n",
            "                                                                 \n",
            " dropout_28 (Dropout)        (None, 512)               0         \n",
            "                                                                 \n",
            " dense_16 (Dense)            (None, 256)               131328    \n",
            "                                                                 \n",
            " activation_34 (Activation)  (None, 256)               0         \n",
            "                                                                 \n",
            " dropout_29 (Dropout)        (None, 256)               0         \n",
            "                                                                 \n",
            " dense_17 (Dense)            (None, 64)                16448     \n",
            "                                                                 \n",
            " activation_35 (Activation)  (None, 64)                0         \n",
            "                                                                 \n",
            "=================================================================\n",
            "Total params: 830784 (3.17 MB)\n",
            "Trainable params: 830784 (3.17 MB)\n",
            "Non-trainable params: 0 (0.00 Byte)\n",
            "_________________________________________________________________\n"
          ]
        }
      ]
    },
    {
      "cell_type": "code",
      "source": [
        "from tensorflow.keras.callbacks import EarlyStopping, ModelCheckpoint, ReduceLROnPlateau\n",
        "import tensorflow as tf\n",
        "\n",
        "learning_rate = 0.001\n",
        "\n",
        "optimizer = tf.keras.optimizers.Adam(learning_rate=learning_rate)\n",
        "\n",
        "model.compile(optimizer=optimizer, loss='sparse_categorical_crossentropy', metrics=['accuracy'])\n",
        "\n",
        "earlystopping = EarlyStopping(monitor='val_loss',\n",
        "                              mode='min',\n",
        "                              verbose=1,\n",
        "                              patience=15\n",
        "                             )\n",
        "checkpointer = ModelCheckpoint(filepath=\"clf-resnet-weights.hdf5\",\n",
        "                               verbose=1,\n",
        "                               save_best_only=True\n",
        "                              )\n",
        "reduce_lr = ReduceLROnPlateau(monitor='val_loss',\n",
        "                              mode='min',\n",
        "                              verbose=1,\n",
        "                              patience=5,\n",
        "                              min_delta=0.0001,\n",
        "                              factor=0.2\n",
        "                             )"
      ],
      "metadata": {
        "id": "DW5dkp8ttCim"
      },
      "execution_count": null,
      "outputs": []
    },
    {
      "cell_type": "code",
      "source": [
        "h = model.fit(x_train, y_train, batch_size = 32, validation_split= 0.1, epochs=100, callbacks=[checkpointer, earlystopping, reduce_lr])"
      ],
      "metadata": {
        "colab": {
          "base_uri": "https://localhost:8080/"
        },
        "id": "HfO6HQLsyR0o",
        "outputId": "7920ad62-71d9-4cb1-ad3f-7982e730fdf2"
      },
      "execution_count": null,
      "outputs": [
        {
          "output_type": "stream",
          "name": "stdout",
          "text": [
            "Epoch 1/100\n",
            "247/247 [==============================] - ETA: 0s - loss: 1.7410 - accuracy: 0.4652\n",
            "Epoch 1: val_loss improved from inf to 1.19774, saving model to clf-resnet-weights.hdf5\n",
            "247/247 [==============================] - 3s 6ms/step - loss: 1.7410 - accuracy: 0.4652 - val_loss: 1.1977 - val_accuracy: 0.6454 - lr: 0.0010\n",
            "Epoch 2/100\n",
            " 23/247 [=>............................] - ETA: 1s - loss: 1.0231 - accuracy: 0.6617"
          ]
        },
        {
          "output_type": "stream",
          "name": "stderr",
          "text": [
            "/usr/local/lib/python3.10/dist-packages/keras/src/engine/training.py:3079: UserWarning: You are saving your model as an HDF5 file via `model.save()`. This file format is considered legacy. We recommend using instead the native Keras format, e.g. `model.save('my_model.keras')`.\n",
            "  saving_api.save_model(\n"
          ]
        },
        {
          "output_type": "stream",
          "name": "stdout",
          "text": [
            "239/247 [============================>.] - ETA: 0s - loss: 0.8974 - accuracy: 0.6985\n",
            "Epoch 2: val_loss improved from 1.19774 to 0.84326, saving model to clf-resnet-weights.hdf5\n",
            "247/247 [==============================] - 1s 5ms/step - loss: 0.8945 - accuracy: 0.6995 - val_loss: 0.8433 - val_accuracy: 0.7662 - lr: 0.0010\n",
            "Epoch 3/100\n",
            "241/247 [============================>.] - ETA: 0s - loss: 0.6857 - accuracy: 0.7621\n",
            "Epoch 3: val_loss improved from 0.84326 to 0.72265, saving model to clf-resnet-weights.hdf5\n",
            "247/247 [==============================] - 1s 5ms/step - loss: 0.6858 - accuracy: 0.7625 - val_loss: 0.7227 - val_accuracy: 0.7970 - lr: 0.0010\n",
            "Epoch 4/100\n",
            "241/247 [============================>.] - ETA: 0s - loss: 0.5580 - accuracy: 0.8056\n",
            "Epoch 4: val_loss improved from 0.72265 to 0.55838, saving model to clf-resnet-weights.hdf5\n",
            "247/247 [==============================] - 1s 5ms/step - loss: 0.5573 - accuracy: 0.8051 - val_loss: 0.5584 - val_accuracy: 0.8221 - lr: 0.0010\n",
            "Epoch 5/100\n",
            "245/247 [============================>.] - ETA: 0s - loss: 0.4662 - accuracy: 0.8320\n",
            "Epoch 5: val_loss improved from 0.55838 to 0.47811, saving model to clf-resnet-weights.hdf5\n",
            "247/247 [==============================] - 1s 5ms/step - loss: 0.4669 - accuracy: 0.8317 - val_loss: 0.4781 - val_accuracy: 0.8586 - lr: 0.0010\n",
            "Epoch 6/100\n",
            "239/247 [============================>.] - ETA: 0s - loss: 0.4117 - accuracy: 0.8508\n",
            "Epoch 6: val_loss improved from 0.47811 to 0.43319, saving model to clf-resnet-weights.hdf5\n",
            "247/247 [==============================] - 1s 5ms/step - loss: 0.4098 - accuracy: 0.8516 - val_loss: 0.4332 - val_accuracy: 0.8677 - lr: 0.0010\n",
            "Epoch 7/100\n",
            "241/247 [============================>.] - ETA: 0s - loss: 0.3576 - accuracy: 0.8694\n",
            "Epoch 7: val_loss improved from 0.43319 to 0.40718, saving model to clf-resnet-weights.hdf5\n",
            "247/247 [==============================] - 1s 5ms/step - loss: 0.3595 - accuracy: 0.8683 - val_loss: 0.4072 - val_accuracy: 0.8563 - lr: 0.0010\n",
            "Epoch 8/100\n",
            "238/247 [===========================>..] - ETA: 0s - loss: 0.3350 - accuracy: 0.8775\n",
            "Epoch 8: val_loss improved from 0.40718 to 0.36269, saving model to clf-resnet-weights.hdf5\n",
            "247/247 [==============================] - 1s 5ms/step - loss: 0.3364 - accuracy: 0.8764 - val_loss: 0.3627 - val_accuracy: 0.8985 - lr: 0.0010\n",
            "Epoch 9/100\n",
            "243/247 [============================>.] - ETA: 0s - loss: 0.2925 - accuracy: 0.8944\n",
            "Epoch 9: val_loss improved from 0.36269 to 0.35162, saving model to clf-resnet-weights.hdf5\n",
            "247/247 [==============================] - 1s 5ms/step - loss: 0.2920 - accuracy: 0.8941 - val_loss: 0.3516 - val_accuracy: 0.8962 - lr: 0.0010\n",
            "Epoch 10/100\n",
            "245/247 [============================>.] - ETA: 0s - loss: 0.2911 - accuracy: 0.8954\n",
            "Epoch 10: val_loss improved from 0.35162 to 0.33306, saving model to clf-resnet-weights.hdf5\n",
            "247/247 [==============================] - 1s 5ms/step - loss: 0.2903 - accuracy: 0.8957 - val_loss: 0.3331 - val_accuracy: 0.8905 - lr: 0.0010\n",
            "Epoch 11/100\n",
            "247/247 [==============================] - ETA: 0s - loss: 0.2643 - accuracy: 0.9014\n",
            "Epoch 11: val_loss improved from 0.33306 to 0.30408, saving model to clf-resnet-weights.hdf5\n",
            "247/247 [==============================] - 1s 5ms/step - loss: 0.2643 - accuracy: 0.9014 - val_loss: 0.3041 - val_accuracy: 0.8894 - lr: 0.0010\n",
            "Epoch 12/100\n",
            "237/247 [===========================>..] - ETA: 0s - loss: 0.2448 - accuracy: 0.9123\n",
            "Epoch 12: val_loss did not improve from 0.30408\n",
            "247/247 [==============================] - 1s 5ms/step - loss: 0.2440 - accuracy: 0.9131 - val_loss: 0.3472 - val_accuracy: 0.8837 - lr: 0.0010\n",
            "Epoch 13/100\n",
            "242/247 [============================>.] - ETA: 0s - loss: 0.2351 - accuracy: 0.9118\n",
            "Epoch 13: val_loss improved from 0.30408 to 0.29629, saving model to clf-resnet-weights.hdf5\n",
            "247/247 [==============================] - 1s 5ms/step - loss: 0.2335 - accuracy: 0.9126 - val_loss: 0.2963 - val_accuracy: 0.9042 - lr: 0.0010\n",
            "Epoch 14/100\n",
            "238/247 [===========================>..] - ETA: 0s - loss: 0.2170 - accuracy: 0.9195\n",
            "Epoch 14: val_loss improved from 0.29629 to 0.26788, saving model to clf-resnet-weights.hdf5\n",
            "247/247 [==============================] - 1s 5ms/step - loss: 0.2165 - accuracy: 0.9202 - val_loss: 0.2679 - val_accuracy: 0.9111 - lr: 0.0010\n",
            "Epoch 15/100\n",
            "243/247 [============================>.] - ETA: 0s - loss: 0.2193 - accuracy: 0.9176\n",
            "Epoch 15: val_loss did not improve from 0.26788\n",
            "247/247 [==============================] - 1s 5ms/step - loss: 0.2193 - accuracy: 0.9175 - val_loss: 0.3393 - val_accuracy: 0.8860 - lr: 0.0010\n",
            "Epoch 16/100\n",
            "240/247 [============================>.] - ETA: 0s - loss: 0.2027 - accuracy: 0.9266\n",
            "Epoch 16: val_loss did not improve from 0.26788\n",
            "247/247 [==============================] - 1s 5ms/step - loss: 0.2050 - accuracy: 0.9259 - val_loss: 0.2728 - val_accuracy: 0.9054 - lr: 0.0010\n",
            "Epoch 17/100\n",
            "239/247 [============================>.] - ETA: 0s - loss: 0.1974 - accuracy: 0.9280\n",
            "Epoch 17: val_loss improved from 0.26788 to 0.26686, saving model to clf-resnet-weights.hdf5\n",
            "247/247 [==============================] - 1s 5ms/step - loss: 0.1977 - accuracy: 0.9274 - val_loss: 0.2669 - val_accuracy: 0.9054 - lr: 0.0010\n",
            "Epoch 18/100\n",
            "240/247 [============================>.] - ETA: 0s - loss: 0.1871 - accuracy: 0.9293\n",
            "Epoch 18: val_loss improved from 0.26686 to 0.24001, saving model to clf-resnet-weights.hdf5\n",
            "247/247 [==============================] - 1s 5ms/step - loss: 0.1862 - accuracy: 0.9292 - val_loss: 0.2400 - val_accuracy: 0.9213 - lr: 0.0010\n",
            "Epoch 19/100\n",
            "241/247 [============================>.] - ETA: 0s - loss: 0.1760 - accuracy: 0.9359\n",
            "Epoch 19: val_loss did not improve from 0.24001\n",
            "247/247 [==============================] - 1s 5ms/step - loss: 0.1758 - accuracy: 0.9360 - val_loss: 0.2568 - val_accuracy: 0.9099 - lr: 0.0010\n",
            "Epoch 20/100\n",
            "241/247 [============================>.] - ETA: 0s - loss: 0.1833 - accuracy: 0.9301\n",
            "Epoch 20: val_loss did not improve from 0.24001\n",
            "247/247 [==============================] - 1s 5ms/step - loss: 0.1838 - accuracy: 0.9298 - val_loss: 0.2897 - val_accuracy: 0.9054 - lr: 0.0010\n",
            "Epoch 21/100\n",
            "247/247 [==============================] - ETA: 0s - loss: 0.1737 - accuracy: 0.9369\n",
            "Epoch 21: val_loss did not improve from 0.24001\n",
            "247/247 [==============================] - 1s 5ms/step - loss: 0.1737 - accuracy: 0.9369 - val_loss: 0.2741 - val_accuracy: 0.8997 - lr: 0.0010\n",
            "Epoch 22/100\n",
            "243/247 [============================>.] - ETA: 0s - loss: 0.1825 - accuracy: 0.9295\n",
            "Epoch 22: val_loss did not improve from 0.24001\n",
            "247/247 [==============================] - 1s 5ms/step - loss: 0.1821 - accuracy: 0.9298 - val_loss: 0.2566 - val_accuracy: 0.9133 - lr: 0.0010\n",
            "Epoch 23/100\n",
            "243/247 [============================>.] - ETA: 0s - loss: 0.1627 - accuracy: 0.9376\n",
            "Epoch 23: val_loss did not improve from 0.24001\n",
            "\n",
            "Epoch 23: ReduceLROnPlateau reducing learning rate to 0.00020000000949949026.\n",
            "247/247 [==============================] - 1s 5ms/step - loss: 0.1623 - accuracy: 0.9379 - val_loss: 0.2454 - val_accuracy: 0.9202 - lr: 0.0010\n",
            "Epoch 24/100\n",
            "239/247 [============================>.] - ETA: 0s - loss: 0.1171 - accuracy: 0.9531\n",
            "Epoch 24: val_loss improved from 0.24001 to 0.20999, saving model to clf-resnet-weights.hdf5\n",
            "247/247 [==============================] - 1s 5ms/step - loss: 0.1161 - accuracy: 0.9537 - val_loss: 0.2100 - val_accuracy: 0.9304 - lr: 2.0000e-04\n",
            "Epoch 25/100\n",
            "237/247 [===========================>..] - ETA: 0s - loss: 0.1123 - accuracy: 0.9560\n",
            "Epoch 25: val_loss improved from 0.20999 to 0.20244, saving model to clf-resnet-weights.hdf5\n",
            "247/247 [==============================] - 1s 5ms/step - loss: 0.1124 - accuracy: 0.9564 - val_loss: 0.2024 - val_accuracy: 0.9339 - lr: 2.0000e-04\n",
            "Epoch 26/100\n",
            "240/247 [============================>.] - ETA: 0s - loss: 0.1058 - accuracy: 0.9573\n",
            "Epoch 26: val_loss did not improve from 0.20244\n",
            "247/247 [==============================] - 1s 5ms/step - loss: 0.1061 - accuracy: 0.9573 - val_loss: 0.2027 - val_accuracy: 0.9316 - lr: 2.0000e-04\n",
            "Epoch 27/100\n",
            "242/247 [============================>.] - ETA: 0s - loss: 0.1027 - accuracy: 0.9591\n",
            "Epoch 27: val_loss did not improve from 0.20244\n",
            "247/247 [==============================] - 1s 5ms/step - loss: 0.1029 - accuracy: 0.9588 - val_loss: 0.2043 - val_accuracy: 0.9304 - lr: 2.0000e-04\n",
            "Epoch 28/100\n",
            "247/247 [==============================] - ETA: 0s - loss: 0.0998 - accuracy: 0.9587\n",
            "Epoch 28: val_loss improved from 0.20244 to 0.19924, saving model to clf-resnet-weights.hdf5\n",
            "247/247 [==============================] - 1s 5ms/step - loss: 0.0998 - accuracy: 0.9587 - val_loss: 0.1992 - val_accuracy: 0.9396 - lr: 2.0000e-04\n",
            "Epoch 29/100\n",
            "242/247 [============================>.] - ETA: 0s - loss: 0.0961 - accuracy: 0.9615\n",
            "Epoch 29: val_loss did not improve from 0.19924\n",
            "247/247 [==============================] - 1s 5ms/step - loss: 0.0965 - accuracy: 0.9615 - val_loss: 0.2092 - val_accuracy: 0.9316 - lr: 2.0000e-04\n",
            "Epoch 30/100\n",
            "245/247 [============================>.] - ETA: 0s - loss: 0.0991 - accuracy: 0.9608\n",
            "Epoch 30: val_loss did not improve from 0.19924\n",
            "247/247 [==============================] - 1s 5ms/step - loss: 0.0989 - accuracy: 0.9610 - val_loss: 0.2091 - val_accuracy: 0.9293 - lr: 2.0000e-04\n",
            "Epoch 31/100\n",
            "246/247 [============================>.] - ETA: 0s - loss: 0.0957 - accuracy: 0.9605\n",
            "Epoch 31: val_loss improved from 0.19924 to 0.19909, saving model to clf-resnet-weights.hdf5\n",
            "247/247 [==============================] - 1s 5ms/step - loss: 0.0956 - accuracy: 0.9606 - val_loss: 0.1991 - val_accuracy: 0.9327 - lr: 2.0000e-04\n",
            "Epoch 32/100\n",
            "246/247 [============================>.] - ETA: 0s - loss: 0.0959 - accuracy: 0.9605\n",
            "Epoch 32: val_loss did not improve from 0.19909\n",
            "247/247 [==============================] - 1s 5ms/step - loss: 0.0957 - accuracy: 0.9606 - val_loss: 0.2122 - val_accuracy: 0.9327 - lr: 2.0000e-04\n",
            "Epoch 33/100\n",
            "245/247 [============================>.] - ETA: 0s - loss: 0.0899 - accuracy: 0.9629\n",
            "Epoch 33: val_loss improved from 0.19909 to 0.19452, saving model to clf-resnet-weights.hdf5\n",
            "247/247 [==============================] - 1s 5ms/step - loss: 0.0899 - accuracy: 0.9630 - val_loss: 0.1945 - val_accuracy: 0.9316 - lr: 2.0000e-04\n",
            "Epoch 34/100\n",
            "245/247 [============================>.] - ETA: 0s - loss: 0.0922 - accuracy: 0.9607\n",
            "Epoch 34: val_loss did not improve from 0.19452\n",
            "247/247 [==============================] - 1s 5ms/step - loss: 0.0917 - accuracy: 0.9610 - val_loss: 0.2114 - val_accuracy: 0.9270 - lr: 2.0000e-04\n",
            "Epoch 35/100\n",
            "237/247 [===========================>..] - ETA: 0s - loss: 0.0949 - accuracy: 0.9604\n",
            "Epoch 35: val_loss improved from 0.19452 to 0.18731, saving model to clf-resnet-weights.hdf5\n",
            "247/247 [==============================] - 1s 5ms/step - loss: 0.0956 - accuracy: 0.9600 - val_loss: 0.1873 - val_accuracy: 0.9373 - lr: 2.0000e-04\n",
            "Epoch 36/100\n",
            "245/247 [============================>.] - ETA: 0s - loss: 0.0925 - accuracy: 0.9616\n",
            "Epoch 36: val_loss did not improve from 0.18731\n",
            "247/247 [==============================] - 1s 5ms/step - loss: 0.0926 - accuracy: 0.9616 - val_loss: 0.1979 - val_accuracy: 0.9316 - lr: 2.0000e-04\n",
            "Epoch 37/100\n",
            "239/247 [============================>.] - ETA: 0s - loss: 0.0863 - accuracy: 0.9663\n",
            "Epoch 37: val_loss did not improve from 0.18731\n",
            "247/247 [==============================] - 1s 5ms/step - loss: 0.0859 - accuracy: 0.9663 - val_loss: 0.1941 - val_accuracy: 0.9396 - lr: 2.0000e-04\n",
            "Epoch 38/100\n",
            "240/247 [============================>.] - ETA: 0s - loss: 0.0821 - accuracy: 0.9678\n",
            "Epoch 38: val_loss did not improve from 0.18731\n",
            "247/247 [==============================] - 1s 5ms/step - loss: 0.0828 - accuracy: 0.9672 - val_loss: 0.1908 - val_accuracy: 0.9350 - lr: 2.0000e-04\n",
            "Epoch 39/100\n",
            "238/247 [===========================>..] - ETA: 0s - loss: 0.0833 - accuracy: 0.9651\n",
            "Epoch 39: val_loss did not improve from 0.18731\n",
            "247/247 [==============================] - 1s 5ms/step - loss: 0.0845 - accuracy: 0.9643 - val_loss: 0.1957 - val_accuracy: 0.9373 - lr: 2.0000e-04\n",
            "Epoch 40/100\n",
            "240/247 [============================>.] - ETA: 0s - loss: 0.0843 - accuracy: 0.9659\n",
            "Epoch 40: val_loss did not improve from 0.18731\n",
            "\n",
            "Epoch 40: ReduceLROnPlateau reducing learning rate to 4.0000001899898055e-05.\n",
            "247/247 [==============================] - 1s 5ms/step - loss: 0.0829 - accuracy: 0.9664 - val_loss: 0.1908 - val_accuracy: 0.9350 - lr: 2.0000e-04\n",
            "Epoch 41/100\n",
            "240/247 [============================>.] - ETA: 0s - loss: 0.0769 - accuracy: 0.9689\n",
            "Epoch 41: val_loss did not improve from 0.18731\n",
            "247/247 [==============================] - 1s 5ms/step - loss: 0.0775 - accuracy: 0.9687 - val_loss: 0.1951 - val_accuracy: 0.9396 - lr: 4.0000e-05\n",
            "Epoch 42/100\n",
            "240/247 [============================>.] - ETA: 0s - loss: 0.0752 - accuracy: 0.9685\n",
            "Epoch 42: val_loss did not improve from 0.18731\n",
            "247/247 [==============================] - 1s 5ms/step - loss: 0.0760 - accuracy: 0.9684 - val_loss: 0.1990 - val_accuracy: 0.9361 - lr: 4.0000e-05\n",
            "Epoch 43/100\n",
            "241/247 [============================>.] - ETA: 0s - loss: 0.0782 - accuracy: 0.9675\n",
            "Epoch 43: val_loss did not improve from 0.18731\n",
            "247/247 [==============================] - 1s 5ms/step - loss: 0.0779 - accuracy: 0.9676 - val_loss: 0.1898 - val_accuracy: 0.9396 - lr: 4.0000e-05\n",
            "Epoch 44/100\n",
            "246/247 [============================>.] - ETA: 0s - loss: 0.0770 - accuracy: 0.9684\n",
            "Epoch 44: val_loss did not improve from 0.18731\n",
            "247/247 [==============================] - 1s 5ms/step - loss: 0.0774 - accuracy: 0.9683 - val_loss: 0.1949 - val_accuracy: 0.9407 - lr: 4.0000e-05\n",
            "Epoch 45/100\n",
            "246/247 [============================>.] - ETA: 0s - loss: 0.0773 - accuracy: 0.9674\n",
            "Epoch 45: val_loss did not improve from 0.18731\n",
            "\n",
            "Epoch 45: ReduceLROnPlateau reducing learning rate to 8.000000525498762e-06.\n",
            "247/247 [==============================] - 1s 5ms/step - loss: 0.0772 - accuracy: 0.9674 - val_loss: 0.1886 - val_accuracy: 0.9407 - lr: 4.0000e-05\n",
            "Epoch 46/100\n",
            "237/247 [===========================>..] - ETA: 0s - loss: 0.0717 - accuracy: 0.9719\n",
            "Epoch 46: val_loss did not improve from 0.18731\n",
            "247/247 [==============================] - 1s 5ms/step - loss: 0.0720 - accuracy: 0.9715 - val_loss: 0.1888 - val_accuracy: 0.9407 - lr: 8.0000e-06\n",
            "Epoch 47/100\n",
            "240/247 [============================>.] - ETA: 0s - loss: 0.0745 - accuracy: 0.9706\n",
            "Epoch 47: val_loss did not improve from 0.18731\n",
            "247/247 [==============================] - 1s 5ms/step - loss: 0.0748 - accuracy: 0.9706 - val_loss: 0.1896 - val_accuracy: 0.9384 - lr: 8.0000e-06\n",
            "Epoch 48/100\n",
            "247/247 [==============================] - ETA: 0s - loss: 0.0766 - accuracy: 0.9682\n",
            "Epoch 48: val_loss did not improve from 0.18731\n",
            "247/247 [==============================] - 1s 5ms/step - loss: 0.0766 - accuracy: 0.9682 - val_loss: 0.1898 - val_accuracy: 0.9373 - lr: 8.0000e-06\n",
            "Epoch 49/100\n",
            "241/247 [============================>.] - ETA: 0s - loss: 0.0724 - accuracy: 0.9700\n",
            "Epoch 49: val_loss did not improve from 0.18731\n",
            "247/247 [==============================] - 1s 5ms/step - loss: 0.0716 - accuracy: 0.9706 - val_loss: 0.1913 - val_accuracy: 0.9396 - lr: 8.0000e-06\n",
            "Epoch 50/100\n",
            "236/247 [===========================>..] - ETA: 0s - loss: 0.0764 - accuracy: 0.9676\n",
            "Epoch 50: val_loss did not improve from 0.18731\n",
            "\n",
            "Epoch 50: ReduceLROnPlateau reducing learning rate to 1.6000001778593287e-06.\n",
            "247/247 [==============================] - 1s 5ms/step - loss: 0.0767 - accuracy: 0.9672 - val_loss: 0.1909 - val_accuracy: 0.9407 - lr: 8.0000e-06\n",
            "Epoch 50: early stopping\n"
          ]
        }
      ]
    },
    {
      "cell_type": "code",
      "source": [
        "acc=h.history['accuracy']\n",
        "val_acc=h.history['val_accuracy']\n",
        "\n",
        "epoch=range(len(acc))\n",
        "\n",
        "loss=h.history['loss']\n",
        "val_loss=h.history['val_loss']\n",
        "\n",
        "learning_rate = h.history['lr']\n",
        "\n",
        "f,ax=plt.subplots(1,3,figsize=(14,7))\n",
        "\n",
        "ax[0].plot(epoch,acc,'b',label='Training Accuracy')\n",
        "ax[0].plot(epoch,val_acc,'r',label='Validation Accuracy')\n",
        "ax[0].legend()\n",
        "\n",
        "ax[1].plot(epoch,loss,'b',label='Training Loss')\n",
        "ax[1].plot(epoch,val_loss,'r',label='Validation Loss')\n",
        "ax[1].legend()\n",
        "\n",
        "\n",
        "ax[2].plot(epoch,learning_rate,'b',label='learning rate')\n",
        "ax[2].legend()\n",
        "\n",
        "\n",
        "\n",
        "plt.show()"
      ],
      "metadata": {
        "colab": {
          "base_uri": "https://localhost:8080/",
          "height": 599
        },
        "id": "cPJdzg3xwmzt",
        "outputId": "c1be8608-d015-4e33-e6eb-56cf0621beac"
      },
      "execution_count": null,
      "outputs": [
        {
          "output_type": "display_data",
          "data": {
            "text/plain": [
              "<Figure size 1400x700 with 3 Axes>"
            ],
            "image/png": "[encoded data removed]"
          },
          "metadata": {}
        }
      ]
    },
    {
      "cell_type": "code",
      "source": [
        "test_loss, test_acc = model.evaluate(x_test,y_test)"
      ],
      "metadata": {
        "colab": {
          "base_uri": "https://localhost:8080/"
        },
        "id": "HKEKoZqWt-vA",
        "outputId": "f65a6320-1d89-44b7-9f89-476ee288e82f"
      },
      "execution_count": null,
      "outputs": [
        {
          "output_type": "stream",
          "name": "stdout",
          "text": [
            "31/31 [==============================] - 0s 3ms/step - loss: 0.2171 - accuracy: 0.9262\n"
          ]
        }
      ]
    },
    {
      "cell_type": "code",
      "source": [
        "prediction = model.predict(x_test)"
      ],
      "metadata": {
        "colab": {
          "base_uri": "https://localhost:8080/"
        },
        "id": "18MeMxWdv1f_",
        "outputId": "8084971f-4169-499f-b7c1-859c5b2442da"
      },
      "execution_count": null,
      "outputs": [
        {
          "output_type": "stream",
          "name": "stdout",
          "text": [
            "29/29 [==============================] - 0s 5ms/step\n"
          ]
        }
      ]
    },
    {
      "cell_type": "code",
      "source": [
        "len(prediction)"
      ],
      "metadata": {
        "colab": {
          "base_uri": "https://localhost:8080/"
        },
        "id": "TZVJAaOjNe__",
        "outputId": "995b1583-dbc7-4907-9b0c-d82cb604b01c"
      },
      "execution_count": null,
      "outputs": [
        {
          "output_type": "execute_result",
          "data": {
            "text/plain": [
              "924"
            ]
          },
          "metadata": {},
          "execution_count": 55
        }
      ]
    },
    {
      "cell_type": "code",
      "source": [
        "not_match = []\n",
        "not_match_ids = []\n",
        "for i in range(len(prediction)):\n",
        "  x = np.argmax(prediction[i])\n",
        "  if x != y_test[i]:\n",
        "    not_match.append(prediction[i])\n",
        "    not_match_ids.append(i)"
      ],
      "metadata": {
        "id": "WrEq6krbwEGt"
      },
      "execution_count": null,
      "outputs": []
    },
    {
      "cell_type": "code",
      "source": [
        "for i in not_match_ids:\n",
        "  print(\"Ids : \",i, \"pred :\",np.argmax(prediction[i]), \"actual :\", y_test[i])"
      ],
      "metadata": {
        "colab": {
          "base_uri": "https://localhost:8080/"
        },
        "id": "cndizO-PwaEh",
        "outputId": "e8806b35-6538-4143-e79f-3029d7b93154"
      },
      "execution_count": null,
      "outputs": [
        {
          "output_type": "stream",
          "name": "stdout",
          "text": [
            "Ids :  4 pred : 28 actual : 27\n",
            "Ids :  5 pred : 17 actual : 25\n",
            "Ids :  6 pred : 27 actual : 28\n",
            "Ids :  15 pred : 52 actual : 53\n",
            "Ids :  22 pred : 13 actual : 21\n",
            "Ids :  31 pred : 44 actual : 27\n",
            "Ids :  35 pred : 13 actual : 21\n",
            "Ids :  64 pred : 35 actual : 34\n",
            "Ids :  72 pred : 12 actual : 11\n",
            "Ids :  73 pred : 40 actual : 39\n",
            "Ids :  92 pred : 18 actual : 11\n",
            "Ids :  94 pred : 39 actual : 30\n",
            "Ids :  98 pred : 42 actual : 41\n",
            "Ids :  102 pred : 23 actual : 22\n",
            "Ids :  146 pred : 25 actual : 17\n",
            "Ids :  149 pred : 41 actual : 33\n",
            "Ids :  162 pred : 32 actual : 30\n",
            "Ids :  190 pred : 13 actual : 12\n",
            "Ids :  193 pred : 19 actual : 35\n",
            "Ids :  205 pred : 42 actual : 45\n",
            "Ids :  207 pred : 14 actual : 13\n",
            "Ids :  214 pred : 34 actual : 35\n",
            "Ids :  217 pred : 52 actual : 53\n",
            "Ids :  220 pred : 33 actual : 35\n",
            "Ids :  224 pred : 51 actual : 43\n",
            "Ids :  228 pred : 53 actual : 52\n",
            "Ids :  268 pred : 42 actual : 27\n",
            "Ids :  278 pred : 40 actual : 39\n",
            "Ids :  282 pred : 10 actual : 17\n",
            "Ids :  286 pred : 22 actual : 19\n",
            "Ids :  293 pred : 13 actual : 20\n",
            "Ids :  294 pred : 14 actual : 12\n",
            "Ids :  299 pred : 12 actual : 11\n",
            "Ids :  305 pred : 44 actual : 28\n",
            "Ids :  321 pred : 31 actual : 30\n",
            "Ids :  326 pred : 38 actual : 31\n",
            "Ids :  330 pred : 33 actual : 41\n",
            "Ids :  342 pred : 25 actual : 17\n",
            "Ids :  348 pred : 47 actual : 46\n",
            "Ids :  369 pred : 44 actual : 28\n",
            "Ids :  380 pred : 53 actual : 54\n",
            "Ids :  391 pred : 29 actual : 28\n",
            "Ids :  393 pred : 13 actual : 14\n",
            "Ids :  406 pred : 25 actual : 27\n",
            "Ids :  419 pred : 44 actual : 43\n",
            "Ids :  420 pred : 51 actual : 52\n",
            "Ids :  426 pred : 25 actual : 34\n",
            "Ids :  438 pred : 41 actual : 33\n",
            "Ids :  459 pred : 45 actual : 27\n",
            "Ids :  490 pred : 33 actual : 26\n",
            "Ids :  494 pred : 20 actual : 34\n",
            "Ids :  495 pred : 52 actual : 44\n",
            "Ids :  499 pred : 40 actual : 39\n",
            "Ids :  506 pred : 25 actual : 27\n",
            "Ids :  517 pred : 23 actual : 22\n",
            "Ids :  543 pred : 41 actual : 51\n",
            "Ids :  553 pred : 52 actual : 51\n",
            "Ids :  557 pred : 18 actual : 17\n",
            "Ids :  593 pred : 17 actual : 18\n",
            "Ids :  616 pred : 38 actual : 30\n",
            "Ids :  618 pred : 18 actual : 19\n",
            "Ids :  645 pred : 22 actual : 19\n",
            "Ids :  676 pred : 39 actual : 31\n",
            "Ids :  682 pred : 31 actual : 30\n",
            "Ids :  702 pred : 42 actual : 41\n",
            "Ids :  727 pred : 22 actual : 19\n",
            "Ids :  738 pred : 23 actual : 22\n",
            "Ids :  743 pred : 47 actual : 46\n",
            "Ids :  745 pred : 13 actual : 20\n",
            "Ids :  749 pred : 40 actual : 30\n",
            "Ids :  760 pred : 21 actual : 22\n",
            "Ids :  763 pred : 17 actual : 18\n",
            "Ids :  778 pred : 35 actual : 34\n",
            "Ids :  805 pred : 38 actual : 30\n",
            "Ids :  832 pred : 34 actual : 27\n",
            "Ids :  838 pred : 17 actual : 18\n",
            "Ids :  847 pred : 45 actual : 46\n",
            "Ids :  851 pred : 31 actual : 30\n",
            "Ids :  858 pred : 21 actual : 19\n",
            "Ids :  876 pred : 12 actual : 19\n",
            "Ids :  886 pred : 23 actual : 22\n",
            "Ids :  893 pred : 44 actual : 43\n",
            "Ids :  904 pred : 42 actual : 41\n"
          ]
        }
      ]
    },
    {
      "cell_type": "code",
      "source": [],
      "metadata": {
        "id": "iJFX1p9uG8lz"
      },
      "execution_count": null,
      "outputs": []
    }
  ]
}