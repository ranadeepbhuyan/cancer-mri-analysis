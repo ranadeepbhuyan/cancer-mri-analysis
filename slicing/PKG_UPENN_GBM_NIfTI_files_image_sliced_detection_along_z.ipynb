{
  "nbformat": 4,
  "nbformat_minor": 0,
  "metadata": {
    "colab": {
      "provenance": [],
      "machine_shape": "hm",
      "gpuType": "V100",
      "authorship_tag": "ABX9TyM8c/eBLJiLnBqhH2/A4zre",
      "include_colab_link": true
    },
    "kernelspec": {
      "name": "python3",
      "display_name": "Python 3"
    },
    "language_info": {
      "name": "python"
    },
    "accelerator": "GPU"
  },
  "cells": [
    {
      "cell_type": "markdown",
      "metadata": {
        "id": "view-in-github",
        "colab_type": "text"
      },
      "source": [
        "<a href=\"https://colab.research.google.com/github/ranadeepbhuyan/cancer-mri-analysis/blob/main/slicing/PKG_UPENN_GBM_NIfTI_files_image_sliced_detection_along_z.ipynb\" target=\"_parent\"><img src=\"https://colab.research.google.com/assets/colab-badge.svg\" alt=\"Open In Colab\"/></a>"
      ]
    },
    {
      "cell_type": "code",
      "execution_count": null,
      "metadata": {
        "id": "piJu-3OFf5y9"
      },
      "outputs": [],
      "source": [
        "import numpy as np\n",
        "import pandas as pd\n",
        "import matplotlib.pyplot as plt\n",
        "import cv2\n",
        "import nibabel as nib"
      ]
    },
    {
      "cell_type": "code",
      "source": [
        "import os"
      ],
      "metadata": {
        "id": "vCCAFpl2oD9x"
      },
      "execution_count": null,
      "outputs": []
    },
    {
      "cell_type": "code",
      "source": [
        "from google.colab import drive\n",
        "drive.mount('/content/drive')"
      ],
      "metadata": {
        "id": "1dJb2OcTnJwl",
        "colab": {
          "base_uri": "https://localhost:8080/"
        },
        "outputId": "5a6f9e1a-90eb-47d3-ff39-42f47a204047"
      },
      "execution_count": null,
      "outputs": [
        {
          "output_type": "stream",
          "name": "stdout",
          "text": [
            "Mounted at /content/drive\n"
          ]
        }
      ]
    },
    {
      "cell_type": "code",
      "source": [
        "based_path1 = r\"/content/drive/MyDrive/PKG - UPENN-GBM 3d to 2d /along z/data64all\"\n",
        "based_path2 = r\"/content/drive/MyDrive/PKG - UPENN-GBM 3d to 2d /along z/imge3\"\n",
        "based_path3 = r\"/content/drive/MyDrive/PKG - UPENN-GBM 3d to 2d /along z/img4\""
      ],
      "metadata": {
        "id": "mgzHuP3qnMwT"
      },
      "execution_count": null,
      "outputs": []
    },
    {
      "cell_type": "code",
      "source": [
        "#fatching ids form data path\n",
        "def pathListIntoIds(dirList):\n",
        "    x = []\n",
        "    for i in range(0,len(dirList)):\n",
        "        x.append(dirList[i][dirList[i].rfind('/')+1:])\n",
        "    return x\n"
      ],
      "metadata": {
        "id": "cQPvtztfnzYM"
      },
      "execution_count": null,
      "outputs": []
    },
    {
      "cell_type": "code",
      "source": [
        "path_img_3 = [f.path for f in os.scandir(based_path2)]\n",
        "\n",
        "ids_img_3 = pathListIntoIds(path_img_3);"
      ],
      "metadata": {
        "id": "91ThTdseD98N"
      },
      "execution_count": null,
      "outputs": []
    },
    {
      "cell_type": "code",
      "source": [
        "path_img_4 = [f.path for f in os.scandir(based_path3)]\n",
        "\n",
        "ids_img_4 = pathListIntoIds(path_img_4);"
      ],
      "metadata": {
        "id": "xKIIpKS1pNuJ"
      },
      "execution_count": null,
      "outputs": []
    },
    {
      "cell_type": "code",
      "source": [
        "path_img_12 = [f.path for f in os.scandir(based_path1)]\n",
        "\n",
        "ids_img_12 = pathListIntoIds(path_img_12);"
      ],
      "metadata": {
        "id": "K5wDPLxopFy9"
      },
      "execution_count": null,
      "outputs": []
    },
    {
      "cell_type": "code",
      "source": [
        "print(len(ids_img_3), len(ids_img_4), len(ids_img_12))"
      ],
      "metadata": {
        "colab": {
          "base_uri": "https://localhost:8080/"
        },
        "id": "NdCWwzkvDLOi",
        "outputId": "f6c62a38-70dc-4645-f314-d72d1ef8b14f"
      },
      "execution_count": null,
      "outputs": [
        {
          "output_type": "stream",
          "name": "stdout",
          "text": [
            "8960 8832 20475\n"
          ]
        }
      ]
    },
    {
      "cell_type": "code",
      "source": [
        "ids_img_2 = []\n",
        "ids_img_1 = []\n",
        "for i in ids_img_12:\n",
        "  test = i.split('-')[2]\n",
        "  if test == '2':\n",
        "    ids_img_2.append(i)\n",
        "  if test == '1':\n",
        "    ids_img_1.append(i)\n",
        "\n"
      ],
      "metadata": {
        "id": "-heJe7mQmNxD"
      },
      "execution_count": null,
      "outputs": []
    },
    {
      "cell_type": "code",
      "source": [
        "print(len(ids_img_1), len(ids_img_2), len(ids_img_3), len(ids_img_4))"
      ],
      "metadata": {
        "colab": {
          "base_uri": "https://localhost:8080/"
        },
        "id": "7WcCzpkMmuQI",
        "outputId": "b2add899-3222-49df-deff-ac980de7d542"
      },
      "execution_count": null,
      "outputs": [
        {
          "output_type": "stream",
          "name": "stdout",
          "text": [
            "9088 9088 8960 8832\n"
          ]
        }
      ]
    },
    {
      "cell_type": "code",
      "source": [
        "def remove_blank_imgs(path1, ids):\n",
        "  final_ids =[]\n",
        "  for i in range(len(ids)):\n",
        "    path = os.path.join(path1,ids[i])\n",
        "    image = cv2.imread(path)\n",
        "    if image.max() != image.min():\n",
        "      final_ids.append(ids[i])\n",
        "  return final_ids\n"
      ],
      "metadata": {
        "id": "nqs0Udrco2Ud"
      },
      "execution_count": null,
      "outputs": []
    },
    {
      "cell_type": "code",
      "source": [
        "final_ids1 = remove_blank_imgs(based_path1, ids_img_1)\n",
        "final_ids2 = remove_blank_imgs(based_path1, ids_img_2)\n",
        "final_ids3 = remove_blank_imgs(based_path2, ids_img_3)\n",
        "final_ids4 = remove_blank_imgs(based_path3, ids_img_4)"
      ],
      "metadata": {
        "id": "os1l4RHdgrZG"
      },
      "execution_count": null,
      "outputs": []
    },
    {
      "cell_type": "code",
      "source": [
        "print(len(final_ids1), len(final_ids2), len(final_ids3), len(final_ids4))"
      ],
      "metadata": {
        "id": "2Znc1is9rlPo",
        "colab": {
          "base_uri": "https://localhost:8080/"
        },
        "outputId": "906a206f-9e97-4d4d-dc7c-b99fb25b23f9"
      },
      "execution_count": null,
      "outputs": [
        {
          "output_type": "stream",
          "name": "stdout",
          "text": [
            "3120 3120 3291 3150\n"
          ]
        }
      ]
    },
    {
      "cell_type": "code",
      "source": [
        "def data_prepare(path1, ids):\n",
        "  data_path = []\n",
        "  data_ids = []\n",
        "  #desired_width = 128\n",
        "  #desired_height = 128\n",
        "  for i in range(len(ids)):\n",
        "    filename = ids[i]\n",
        "    path = os.path.join(path1, ids[i])\n",
        "    img_data = cv2.imread(path)\n",
        "    gray_image = cv2.cvtColor(img_data, cv2.COLOR_BGR2GRAY)\n",
        "    #resized_image = cv2.resize(gray_image, (desired_width, desired_height), interpolation=cv2.INTER_LINEAR)\n",
        "    if 'z_' in filename and '.png' in filename:\n",
        "        test1 = filename.split('z_')[1]\n",
        "        test = test1.split('.png')[0]\n",
        "        data_path.append(gray_image)\n",
        "        data_ids.append(int(test))\n",
        "  return data_path, data_ids\n",
        "\n",
        "\n",
        "data_path1, data_ids1 = data_prepare(based_path1, final_ids1)\n",
        "data_path2, data_ids2 = data_prepare(based_path1, final_ids2)\n",
        "data_path3, data_ids3 = data_prepare(based_path2, final_ids3)\n",
        "data_path4, data_ids4 = data_prepare(based_path3, final_ids4)\n",
        "\n",
        "data_path = data_path1 + data_path2 + data_path3 + data_path4\n",
        "data_ids = data_ids1 + data_ids2 + data_ids3 + data_ids4\n",
        "data_column = {'image_data': data_path,\n",
        "        'class': data_ids}\n",
        "data_set = pd.DataFrame(data_column)"
      ],
      "metadata": {
        "id": "TdgcrvfFzXi1"
      },
      "execution_count": null,
      "outputs": []
    },
    {
      "cell_type": "code",
      "source": [
        "data_list = data_set['image_data'].tolist()\n",
        "classes = data_set['class'].tolist()"
      ],
      "metadata": {
        "id": "KSwD-0mw08Xr"
      },
      "execution_count": null,
      "outputs": []
    },
    {
      "cell_type": "code",
      "source": [
        "my_array = np.array(data_list)\n",
        "y_data = np.array(classes)"
      ],
      "metadata": {
        "id": "xW2h_tZRxFpR"
      },
      "execution_count": null,
      "outputs": []
    },
    {
      "cell_type": "code",
      "source": [
        "my_array.shape"
      ],
      "metadata": {
        "colab": {
          "base_uri": "https://localhost:8080/"
        },
        "id": "9UCj9nWOxKhv",
        "outputId": "7c010c37-8ab2-4140-ed6c-d10f8d171118"
      },
      "execution_count": null,
      "outputs": [
        {
          "output_type": "execute_result",
          "data": {
            "text/plain": [
              "(12681, 30, 30)"
            ]
          },
          "metadata": {},
          "execution_count": 20
        }
      ]
    },
    {
      "cell_type": "code",
      "source": [
        "from sklearn.model_selection import train_test_split\n",
        "\n",
        "x_train, x_test, y_train, y_test = train_test_split(my_array,y_data, test_size=0.10)"
      ],
      "metadata": {
        "id": "37j7w7mnxO4l"
      },
      "execution_count": null,
      "outputs": []
    },
    {
      "cell_type": "code",
      "source": [
        "from tensorflow.keras.utils import normalize\n",
        "\n",
        "x_train = normalize(x_train, axis=1)\n",
        "x_test = normalize(x_test, axis=1)\n",
        "plt.imshow(x_train[1], cmap =plt.cm.binary)"
      ],
      "metadata": {
        "colab": {
          "base_uri": "https://localhost:8080/",
          "height": 448
        },
        "id": "oq_2T0TDxZ4G",
        "outputId": "aee40586-25a1-4f68-87cd-3281251d559d"
      },
      "execution_count": null,
      "outputs": [
        {
          "output_type": "execute_result",
          "data": {
            "text/plain": [
              "<matplotlib.image.AxesImage at 0x78239720a1d0>"
            ]
          },
          "metadata": {},
          "execution_count": 22
        },
        {
          "output_type": "display_data",
          "data": {
            "text/plain": [
              "<Figure size 640x480 with 1 Axes>"
            ],
            "image/png": "[encoded data removed]"
          },
          "metadata": {}
        }
      ]
    },
    {
      "cell_type": "code",
      "source": [
        "x_train = np.array(x_train).reshape(-1,30,30,1)\n",
        "x_test = np.array(x_test).reshape(-1,30,30,1)\n",
        "print(x_train.shape,x_test.shape)"
      ],
      "metadata": {
        "colab": {
          "base_uri": "https://localhost:8080/"
        },
        "id": "ky_cFe6zxluY",
        "outputId": "7889a54f-3698-459b-abdd-f125695d4d04"
      },
      "execution_count": null,
      "outputs": [
        {
          "output_type": "stream",
          "name": "stdout",
          "text": [
            "(11412, 30, 30, 1) (1269, 30, 30, 1)\n"
          ]
        }
      ]
    },
    {
      "cell_type": "code",
      "source": [
        "from tensorflow.keras.layers import Conv2D, MaxPooling2D, Activation,Flatten, Dense, Dropout\n",
        "from tensorflow.keras.models import Sequential\n",
        "from tensorflow.keras.initializers import HeNormal"
      ],
      "metadata": {
        "id": "1XogKEcWj72q"
      },
      "execution_count": null,
      "outputs": []
    },
    {
      "cell_type": "code",
      "source": [
        "model = Sequential()\n",
        "\n",
        "model.add(Conv2D(32, (3,3), padding='same', input_shape=x_train.shape[1:]))\n",
        "model.add(Activation('relu'))\n",
        "model.add(Dropout(0.2))\n",
        "model.add(MaxPooling2D(pool_size = (2, 2)))\n",
        "\n",
        "model.add(Conv2D(64, (3,3),padding='same'))\n",
        "model.add(Activation('relu'))\n",
        "model.add(Dropout(0.2))\n",
        "model.add(MaxPooling2D(pool_size = (2, 2)))\n",
        "\n",
        "model.add(Conv2D(128, (3,3), padding='same'))\n",
        "model.add(Activation('relu'))\n",
        "model.add(Dropout(0.2))\n",
        "model.add(MaxPooling2D(pool_size = (2, 2)))\n",
        "\n",
        "\n",
        "model.add(Flatten())\n",
        "model.add(Dense(512))\n",
        "model.add(Activation('relu'))\n",
        "model.add(Dropout(0.2))\n",
        "\n",
        "model.add(Dense(256))\n",
        "model.add(Activation('relu'))\n",
        "model.add(Dropout(0.2))\n",
        "\n",
        "\n",
        "model.add(Dense(64))\n",
        "model.add(Activation('softmax'))\n"
      ],
      "metadata": {
        "id": "4-tUJxTOmvO-"
      },
      "execution_count": null,
      "outputs": []
    },
    {
      "cell_type": "code",
      "source": [
        "model.summary()"
      ],
      "metadata": {
        "colab": {
          "base_uri": "https://localhost:8080/"
        },
        "id": "rkHXGNntqh7A",
        "outputId": "263f2e18-2608-4525-93df-f425f3565c12"
      },
      "execution_count": null,
      "outputs": [
        {
          "output_type": "stream",
          "name": "stdout",
          "text": [
            "Model: \"sequential\"\n",
            "_________________________________________________________________\n",
            " Layer (type)                Output Shape              Param #   \n",
            "=================================================================\n",
            " conv2d (Conv2D)             (None, 30, 30, 32)        320       \n",
            "                                                                 \n",
            " activation (Activation)     (None, 30, 30, 32)        0         \n",
            "                                                                 \n",
            " dropout (Dropout)           (None, 30, 30, 32)        0         \n",
            "                                                                 \n",
            " max_pooling2d (MaxPooling2  (None, 15, 15, 32)        0         \n",
            " D)                                                              \n",
            "                                                                 \n",
            " conv2d_1 (Conv2D)           (None, 15, 15, 64)        18496     \n",
            "                                                                 \n",
            " activation_1 (Activation)   (None, 15, 15, 64)        0         \n",
            "                                                                 \n",
            " dropout_1 (Dropout)         (None, 15, 15, 64)        0         \n",
            "                                                                 \n",
            " max_pooling2d_1 (MaxPoolin  (None, 7, 7, 64)          0         \n",
            " g2D)                                                            \n",
            "                                                                 \n",
            " conv2d_2 (Conv2D)           (None, 7, 7, 128)         73856     \n",
            "                                                                 \n",
            " activation_2 (Activation)   (None, 7, 7, 128)         0         \n",
            "                                                                 \n",
            " dropout_2 (Dropout)         (None, 7, 7, 128)         0         \n",
            "                                                                 \n",
            " max_pooling2d_2 (MaxPoolin  (None, 3, 3, 128)         0         \n",
            " g2D)                                                            \n",
            "                                                                 \n",
            " flatten (Flatten)           (None, 1152)              0         \n",
            "                                                                 \n",
            " dense (Dense)               (None, 512)               590336    \n",
            "                                                                 \n",
            " activation_3 (Activation)   (None, 512)               0         \n",
            "                                                                 \n",
            " dropout_3 (Dropout)         (None, 512)               0         \n",
            "                                                                 \n",
            " dense_1 (Dense)             (None, 256)               131328    \n",
            "                                                                 \n",
            " activation_4 (Activation)   (None, 256)               0         \n",
            "                                                                 \n",
            " dropout_4 (Dropout)         (None, 256)               0         \n",
            "                                                                 \n",
            " dense_2 (Dense)             (None, 64)                16448     \n",
            "                                                                 \n",
            " activation_5 (Activation)   (None, 64)                0         \n",
            "                                                                 \n",
            "=================================================================\n",
            "Total params: 830784 (3.17 MB)\n",
            "Trainable params: 830784 (3.17 MB)\n",
            "Non-trainable params: 0 (0.00 Byte)\n",
            "_________________________________________________________________\n"
          ]
        }
      ]
    },
    {
      "cell_type": "code",
      "source": [
        "from tensorflow.keras.callbacks import EarlyStopping, ModelCheckpoint, ReduceLROnPlateau\n",
        "import tensorflow as tf\n",
        "\n",
        "learning_rate = 0.001\n",
        "\n",
        "optimizer = tf.keras.optimizers.Adam(learning_rate=learning_rate)\n",
        "\n",
        "model.compile(optimizer=optimizer, loss='sparse_categorical_crossentropy', metrics=['accuracy'])\n",
        "\n",
        "earlystopping = EarlyStopping(monitor='val_loss',\n",
        "                              mode='min',\n",
        "                              verbose=1,\n",
        "                              patience=15\n",
        "                             )\n",
        "checkpointer = ModelCheckpoint(filepath=\"clf-resnet-weights.hdf5\",\n",
        "                               verbose=1,\n",
        "                               save_best_only=True\n",
        "                              )\n",
        "reduce_lr = ReduceLROnPlateau(monitor='val_loss',\n",
        "                              mode='min',\n",
        "                              verbose=1,\n",
        "                              patience=5,\n",
        "                              min_delta=0.0001,\n",
        "                              factor=0.2\n",
        "                             )"
      ],
      "metadata": {
        "id": "DW5dkp8ttCim"
      },
      "execution_count": null,
      "outputs": []
    },
    {
      "cell_type": "code",
      "source": [
        "h = model.fit(x_train, y_train, batch_size = 32, validation_split= 0.1, epochs=100, callbacks=[checkpointer, earlystopping, reduce_lr])"
      ],
      "metadata": {
        "colab": {
          "base_uri": "https://localhost:8080/"
        },
        "id": "HfO6HQLsyR0o",
        "outputId": "a7a0e3eb-f678-4b9a-c3a4-c60964b4bef9"
      },
      "execution_count": null,
      "outputs": [
        {
          "output_type": "stream",
          "name": "stdout",
          "text": [
            "Epoch 1/100\n",
            "321/321 [==============================] - ETA: 0s - loss: 2.1689 - accuracy: 0.3321\n",
            "Epoch 1: val_loss improved from inf to 1.56073, saving model to clf-resnet-weights.hdf5\n",
            "321/321 [==============================] - 13s 5ms/step - loss: 2.1689 - accuracy: 0.3321 - val_loss: 1.5607 - val_accuracy: 0.5184 - lr: 0.0010\n",
            "Epoch 2/100\n",
            " 25/321 [=>............................] - ETA: 1s - loss: 1.4848 - accuracy: 0.5138"
          ]
        },
        {
          "output_type": "stream",
          "name": "stderr",
          "text": [
            "/usr/local/lib/python3.10/dist-packages/keras/src/engine/training.py:3000: UserWarning: You are saving your model as an HDF5 file via `model.save()`. This file format is considered legacy. We recommend using instead the native Keras format, e.g. `model.save('my_model.keras')`.\n",
            "  saving_api.save_model(\n"
          ]
        },
        {
          "output_type": "stream",
          "name": "stdout",
          "text": [
            "319/321 [============================>.] - ETA: 0s - loss: 1.3198 - accuracy: 0.5500\n",
            "Epoch 2: val_loss improved from 1.56073 to 1.13804, saving model to clf-resnet-weights.hdf5\n",
            "321/321 [==============================] - 2s 5ms/step - loss: 1.3193 - accuracy: 0.5499 - val_loss: 1.1380 - val_accuracy: 0.6515 - lr: 0.0010\n",
            "Epoch 3/100\n",
            "316/321 [============================>.] - ETA: 0s - loss: 1.0271 - accuracy: 0.6400\n",
            "Epoch 3: val_loss improved from 1.13804 to 0.88309, saving model to clf-resnet-weights.hdf5\n",
            "321/321 [==============================] - 1s 5ms/step - loss: 1.0266 - accuracy: 0.6403 - val_loss: 0.8831 - val_accuracy: 0.7312 - lr: 0.0010\n",
            "Epoch 4/100\n",
            "321/321 [==============================] - ETA: 0s - loss: 0.8119 - accuracy: 0.7146\n",
            "Epoch 4: val_loss improved from 0.88309 to 0.77031, saving model to clf-resnet-weights.hdf5\n",
            "321/321 [==============================] - 1s 4ms/step - loss: 0.8119 - accuracy: 0.7146 - val_loss: 0.7703 - val_accuracy: 0.7811 - lr: 0.0010\n",
            "Epoch 5/100\n",
            "313/321 [============================>.] - ETA: 0s - loss: 0.6651 - accuracy: 0.7685\n",
            "Epoch 5: val_loss improved from 0.77031 to 0.60749, saving model to clf-resnet-weights.hdf5\n",
            "321/321 [==============================] - 1s 4ms/step - loss: 0.6633 - accuracy: 0.7683 - val_loss: 0.6075 - val_accuracy: 0.8257 - lr: 0.0010\n",
            "Epoch 6/100\n",
            "319/321 [============================>.] - ETA: 0s - loss: 0.5441 - accuracy: 0.8108\n",
            "Epoch 6: val_loss improved from 0.60749 to 0.50402, saving model to clf-resnet-weights.hdf5\n",
            "321/321 [==============================] - 1s 4ms/step - loss: 0.5436 - accuracy: 0.8112 - val_loss: 0.5040 - val_accuracy: 0.8678 - lr: 0.0010\n",
            "Epoch 7/100\n",
            "321/321 [==============================] - ETA: 0s - loss: 0.4544 - accuracy: 0.8446\n",
            "Epoch 7: val_loss improved from 0.50402 to 0.42668, saving model to clf-resnet-weights.hdf5\n",
            "321/321 [==============================] - 1s 4ms/step - loss: 0.4544 - accuracy: 0.8446 - val_loss: 0.4267 - val_accuracy: 0.8879 - lr: 0.0010\n",
            "Epoch 8/100\n",
            "320/321 [============================>.] - ETA: 0s - loss: 0.3981 - accuracy: 0.8577\n",
            "Epoch 8: val_loss improved from 0.42668 to 0.34523, saving model to clf-resnet-weights.hdf5\n",
            "321/321 [==============================] - 1s 4ms/step - loss: 0.3975 - accuracy: 0.8579 - val_loss: 0.3452 - val_accuracy: 0.8984 - lr: 0.0010\n",
            "Epoch 9/100\n",
            "318/321 [============================>.] - ETA: 0s - loss: 0.3395 - accuracy: 0.8802\n",
            "Epoch 9: val_loss improved from 0.34523 to 0.33331, saving model to clf-resnet-weights.hdf5\n",
            "321/321 [==============================] - 1s 4ms/step - loss: 0.3392 - accuracy: 0.8805 - val_loss: 0.3333 - val_accuracy: 0.9028 - lr: 0.0010\n",
            "Epoch 10/100\n",
            "319/321 [============================>.] - ETA: 0s - loss: 0.2839 - accuracy: 0.9004\n",
            "Epoch 10: val_loss improved from 0.33331 to 0.30882, saving model to clf-resnet-weights.hdf5\n",
            "321/321 [==============================] - 1s 5ms/step - loss: 0.2839 - accuracy: 0.9004 - val_loss: 0.3088 - val_accuracy: 0.9011 - lr: 0.0010\n",
            "Epoch 11/100\n",
            "319/321 [============================>.] - ETA: 0s - loss: 0.2629 - accuracy: 0.9075\n",
            "Epoch 11: val_loss improved from 0.30882 to 0.29018, saving model to clf-resnet-weights.hdf5\n",
            "321/321 [==============================] - 1s 5ms/step - loss: 0.2629 - accuracy: 0.9075 - val_loss: 0.2902 - val_accuracy: 0.9046 - lr: 0.0010\n",
            "Epoch 12/100\n",
            "308/321 [===========================>..] - ETA: 0s - loss: 0.2421 - accuracy: 0.9138\n",
            "Epoch 12: val_loss improved from 0.29018 to 0.28419, saving model to clf-resnet-weights.hdf5\n",
            "321/321 [==============================] - 1s 4ms/step - loss: 0.2444 - accuracy: 0.9122 - val_loss: 0.2842 - val_accuracy: 0.9142 - lr: 0.0010\n",
            "Epoch 13/100\n",
            "313/321 [============================>.] - ETA: 0s - loss: 0.2223 - accuracy: 0.9206\n",
            "Epoch 13: val_loss improved from 0.28419 to 0.22804, saving model to clf-resnet-weights.hdf5\n",
            "321/321 [==============================] - 1s 4ms/step - loss: 0.2219 - accuracy: 0.9208 - val_loss: 0.2280 - val_accuracy: 0.9291 - lr: 0.0010\n",
            "Epoch 14/100\n",
            "317/321 [============================>.] - ETA: 0s - loss: 0.2075 - accuracy: 0.9280\n",
            "Epoch 14: val_loss did not improve from 0.22804\n",
            "321/321 [==============================] - 1s 4ms/step - loss: 0.2080 - accuracy: 0.9278 - val_loss: 0.2483 - val_accuracy: 0.9282 - lr: 0.0010\n",
            "Epoch 15/100\n",
            "316/321 [============================>.] - ETA: 0s - loss: 0.2005 - accuracy: 0.9279\n",
            "Epoch 15: val_loss did not improve from 0.22804\n",
            "321/321 [==============================] - 1s 4ms/step - loss: 0.1990 - accuracy: 0.9284 - val_loss: 0.2310 - val_accuracy: 0.9256 - lr: 0.0010\n",
            "Epoch 16/100\n",
            "318/321 [============================>.] - ETA: 0s - loss: 0.1911 - accuracy: 0.9294\n",
            "Epoch 16: val_loss improved from 0.22804 to 0.19965, saving model to clf-resnet-weights.hdf5\n",
            "321/321 [==============================] - 1s 4ms/step - loss: 0.1913 - accuracy: 0.9293 - val_loss: 0.1996 - val_accuracy: 0.9361 - lr: 0.0010\n",
            "Epoch 17/100\n",
            "316/321 [============================>.] - ETA: 0s - loss: 0.1882 - accuracy: 0.9348\n",
            "Epoch 17: val_loss did not improve from 0.19965\n",
            "321/321 [==============================] - 1s 4ms/step - loss: 0.1875 - accuracy: 0.9348 - val_loss: 0.2231 - val_accuracy: 0.9352 - lr: 0.0010\n",
            "Epoch 18/100\n",
            "318/321 [============================>.] - ETA: 0s - loss: 0.1775 - accuracy: 0.9367\n",
            "Epoch 18: val_loss improved from 0.19965 to 0.18887, saving model to clf-resnet-weights.hdf5\n",
            "321/321 [==============================] - 1s 4ms/step - loss: 0.1779 - accuracy: 0.9364 - val_loss: 0.1889 - val_accuracy: 0.9448 - lr: 0.0010\n",
            "Epoch 19/100\n",
            "319/321 [============================>.] - ETA: 0s - loss: 0.1757 - accuracy: 0.9362\n",
            "Epoch 19: val_loss did not improve from 0.18887\n",
            "321/321 [==============================] - 1s 4ms/step - loss: 0.1755 - accuracy: 0.9363 - val_loss: 0.2021 - val_accuracy: 0.9431 - lr: 0.0010\n",
            "Epoch 20/100\n",
            "312/321 [============================>.] - ETA: 0s - loss: 0.1692 - accuracy: 0.9389\n",
            "Epoch 20: val_loss did not improve from 0.18887\n",
            "321/321 [==============================] - 1s 4ms/step - loss: 0.1698 - accuracy: 0.9386 - val_loss: 0.1958 - val_accuracy: 0.9422 - lr: 0.0010\n",
            "Epoch 21/100\n",
            "318/321 [============================>.] - ETA: 0s - loss: 0.1501 - accuracy: 0.9453\n",
            "Epoch 21: val_loss improved from 0.18887 to 0.18821, saving model to clf-resnet-weights.hdf5\n",
            "321/321 [==============================] - 1s 4ms/step - loss: 0.1497 - accuracy: 0.9453 - val_loss: 0.1882 - val_accuracy: 0.9448 - lr: 0.0010\n",
            "Epoch 22/100\n",
            "312/321 [============================>.] - ETA: 0s - loss: 0.1502 - accuracy: 0.9444\n",
            "Epoch 22: val_loss improved from 0.18821 to 0.16826, saving model to clf-resnet-weights.hdf5\n",
            "321/321 [==============================] - 1s 4ms/step - loss: 0.1502 - accuracy: 0.9445 - val_loss: 0.1683 - val_accuracy: 0.9431 - lr: 0.0010\n",
            "Epoch 23/100\n",
            "309/321 [===========================>..] - ETA: 0s - loss: 0.1577 - accuracy: 0.9436\n",
            "Epoch 23: val_loss improved from 0.16826 to 0.16370, saving model to clf-resnet-weights.hdf5\n",
            "321/321 [==============================] - 1s 4ms/step - loss: 0.1568 - accuracy: 0.9433 - val_loss: 0.1637 - val_accuracy: 0.9457 - lr: 0.0010\n",
            "Epoch 24/100\n",
            "315/321 [============================>.] - ETA: 0s - loss: 0.1320 - accuracy: 0.9531\n",
            "Epoch 24: val_loss did not improve from 0.16370\n",
            "321/321 [==============================] - 1s 4ms/step - loss: 0.1332 - accuracy: 0.9532 - val_loss: 0.1664 - val_accuracy: 0.9405 - lr: 0.0010\n",
            "Epoch 25/100\n",
            "318/321 [============================>.] - ETA: 0s - loss: 0.1525 - accuracy: 0.9454\n",
            "Epoch 25: val_loss did not improve from 0.16370\n",
            "321/321 [==============================] - 1s 4ms/step - loss: 0.1537 - accuracy: 0.9449 - val_loss: 0.1803 - val_accuracy: 0.9405 - lr: 0.0010\n",
            "Epoch 26/100\n",
            "321/321 [==============================] - ETA: 0s - loss: 0.1387 - accuracy: 0.9500\n",
            "Epoch 26: val_loss did not improve from 0.16370\n",
            "321/321 [==============================] - 1s 5ms/step - loss: 0.1387 - accuracy: 0.9500 - val_loss: 0.1978 - val_accuracy: 0.9387 - lr: 0.0010\n",
            "Epoch 27/100\n",
            "309/321 [===========================>..] - ETA: 0s - loss: 0.1347 - accuracy: 0.9503\n",
            "Epoch 27: val_loss improved from 0.16370 to 0.15491, saving model to clf-resnet-weights.hdf5\n",
            "321/321 [==============================] - 2s 6ms/step - loss: 0.1332 - accuracy: 0.9509 - val_loss: 0.1549 - val_accuracy: 0.9475 - lr: 0.0010\n",
            "Epoch 28/100\n",
            "319/321 [============================>.] - ETA: 0s - loss: 0.1364 - accuracy: 0.9509\n",
            "Epoch 28: val_loss did not improve from 0.15491\n",
            "321/321 [==============================] - 1s 5ms/step - loss: 0.1373 - accuracy: 0.9505 - val_loss: 0.1686 - val_accuracy: 0.9475 - lr: 0.0010\n",
            "Epoch 29/100\n",
            "312/321 [============================>.] - ETA: 0s - loss: 0.1274 - accuracy: 0.9546\n",
            "Epoch 29: val_loss did not improve from 0.15491\n",
            "321/321 [==============================] - 1s 5ms/step - loss: 0.1294 - accuracy: 0.9538 - val_loss: 0.1911 - val_accuracy: 0.9448 - lr: 0.0010\n",
            "Epoch 30/100\n",
            "318/321 [============================>.] - ETA: 0s - loss: 0.1300 - accuracy: 0.9546\n",
            "Epoch 30: val_loss did not improve from 0.15491\n",
            "321/321 [==============================] - 1s 4ms/step - loss: 0.1300 - accuracy: 0.9545 - val_loss: 0.1558 - val_accuracy: 0.9527 - lr: 0.0010\n",
            "Epoch 31/100\n",
            "311/321 [============================>.] - ETA: 0s - loss: 0.1155 - accuracy: 0.9571\n",
            "Epoch 31: val_loss did not improve from 0.15491\n",
            "321/321 [==============================] - 1s 4ms/step - loss: 0.1156 - accuracy: 0.9566 - val_loss: 0.1617 - val_accuracy: 0.9440 - lr: 0.0010\n",
            "Epoch 32/100\n",
            "311/321 [============================>.] - ETA: 0s - loss: 0.1220 - accuracy: 0.9560\n",
            "Epoch 32: val_loss did not improve from 0.15491\n",
            "\n",
            "Epoch 32: ReduceLROnPlateau reducing learning rate to 0.00020000000949949026.\n",
            "321/321 [==============================] - 1s 4ms/step - loss: 0.1226 - accuracy: 0.9555 - val_loss: 0.1728 - val_accuracy: 0.9431 - lr: 0.0010\n",
            "Epoch 33/100\n",
            "315/321 [============================>.] - ETA: 0s - loss: 0.0864 - accuracy: 0.9673\n",
            "Epoch 33: val_loss improved from 0.15491 to 0.13472, saving model to clf-resnet-weights.hdf5\n",
            "321/321 [==============================] - 1s 4ms/step - loss: 0.0863 - accuracy: 0.9674 - val_loss: 0.1347 - val_accuracy: 0.9510 - lr: 2.0000e-04\n",
            "Epoch 34/100\n",
            "315/321 [============================>.] - ETA: 0s - loss: 0.0751 - accuracy: 0.9706\n",
            "Epoch 34: val_loss improved from 0.13472 to 0.13051, saving model to clf-resnet-weights.hdf5\n",
            "321/321 [==============================] - 1s 4ms/step - loss: 0.0748 - accuracy: 0.9707 - val_loss: 0.1305 - val_accuracy: 0.9527 - lr: 2.0000e-04\n",
            "Epoch 35/100\n",
            "321/321 [==============================] - ETA: 0s - loss: 0.0633 - accuracy: 0.9749\n",
            "Epoch 35: val_loss did not improve from 0.13051\n",
            "321/321 [==============================] - 1s 4ms/step - loss: 0.0633 - accuracy: 0.9749 - val_loss: 0.1319 - val_accuracy: 0.9553 - lr: 2.0000e-04\n",
            "Epoch 36/100\n",
            "317/321 [============================>.] - ETA: 0s - loss: 0.0638 - accuracy: 0.9767\n",
            "Epoch 36: val_loss improved from 0.13051 to 0.12998, saving model to clf-resnet-weights.hdf5\n",
            "321/321 [==============================] - 1s 4ms/step - loss: 0.0635 - accuracy: 0.9769 - val_loss: 0.1300 - val_accuracy: 0.9606 - lr: 2.0000e-04\n",
            "Epoch 37/100\n",
            "318/321 [============================>.] - ETA: 0s - loss: 0.0598 - accuracy: 0.9770\n",
            "Epoch 37: val_loss did not improve from 0.12998\n",
            "321/321 [==============================] - 1s 4ms/step - loss: 0.0596 - accuracy: 0.9771 - val_loss: 0.1394 - val_accuracy: 0.9545 - lr: 2.0000e-04\n",
            "Epoch 38/100\n",
            "310/321 [===========================>..] - ETA: 0s - loss: 0.0581 - accuracy: 0.9765\n",
            "Epoch 38: val_loss did not improve from 0.12998\n",
            "321/321 [==============================] - 1s 4ms/step - loss: 0.0582 - accuracy: 0.9766 - val_loss: 0.1388 - val_accuracy: 0.9545 - lr: 2.0000e-04\n",
            "Epoch 39/100\n",
            "314/321 [============================>.] - ETA: 0s - loss: 0.0601 - accuracy: 0.9765\n",
            "Epoch 39: val_loss did not improve from 0.12998\n",
            "321/321 [==============================] - 1s 4ms/step - loss: 0.0598 - accuracy: 0.9766 - val_loss: 0.1350 - val_accuracy: 0.9580 - lr: 2.0000e-04\n",
            "Epoch 40/100\n",
            "315/321 [============================>.] - ETA: 0s - loss: 0.0613 - accuracy: 0.9754\n",
            "Epoch 40: val_loss improved from 0.12998 to 0.12609, saving model to clf-resnet-weights.hdf5\n",
            "321/321 [==============================] - 1s 4ms/step - loss: 0.0612 - accuracy: 0.9755 - val_loss: 0.1261 - val_accuracy: 0.9562 - lr: 2.0000e-04\n",
            "Epoch 41/100\n",
            "318/321 [============================>.] - ETA: 0s - loss: 0.0595 - accuracy: 0.9771\n",
            "Epoch 41: val_loss did not improve from 0.12609\n",
            "321/321 [==============================] - 1s 4ms/step - loss: 0.0591 - accuracy: 0.9772 - val_loss: 0.1349 - val_accuracy: 0.9562 - lr: 2.0000e-04\n",
            "Epoch 42/100\n",
            "311/321 [============================>.] - ETA: 0s - loss: 0.0570 - accuracy: 0.9773\n",
            "Epoch 42: val_loss did not improve from 0.12609\n",
            "321/321 [==============================] - 1s 4ms/step - loss: 0.0568 - accuracy: 0.9773 - val_loss: 0.1332 - val_accuracy: 0.9518 - lr: 2.0000e-04\n",
            "Epoch 43/100\n",
            "316/321 [============================>.] - ETA: 0s - loss: 0.0541 - accuracy: 0.9777\n",
            "Epoch 43: val_loss did not improve from 0.12609\n",
            "321/321 [==============================] - 1s 4ms/step - loss: 0.0541 - accuracy: 0.9777 - val_loss: 0.1388 - val_accuracy: 0.9536 - lr: 2.0000e-04\n",
            "Epoch 44/100\n",
            "313/321 [============================>.] - ETA: 0s - loss: 0.0543 - accuracy: 0.9790\n",
            "Epoch 44: val_loss did not improve from 0.12609\n",
            "321/321 [==============================] - 1s 4ms/step - loss: 0.0548 - accuracy: 0.9787 - val_loss: 0.1331 - val_accuracy: 0.9571 - lr: 2.0000e-04\n",
            "Epoch 45/100\n",
            "316/321 [============================>.] - ETA: 0s - loss: 0.0543 - accuracy: 0.9788\n",
            "Epoch 45: val_loss did not improve from 0.12609\n",
            "\n",
            "Epoch 45: ReduceLROnPlateau reducing learning rate to 4.0000001899898055e-05.\n",
            "321/321 [==============================] - 1s 4ms/step - loss: 0.0542 - accuracy: 0.9789 - val_loss: 0.1363 - val_accuracy: 0.9580 - lr: 2.0000e-04\n",
            "Epoch 46/100\n",
            "316/321 [============================>.] - ETA: 0s - loss: 0.0532 - accuracy: 0.9793\n",
            "Epoch 46: val_loss did not improve from 0.12609\n",
            "321/321 [==============================] - 1s 4ms/step - loss: 0.0529 - accuracy: 0.9794 - val_loss: 0.1292 - val_accuracy: 0.9606 - lr: 4.0000e-05\n",
            "Epoch 47/100\n",
            "318/321 [============================>.] - ETA: 0s - loss: 0.0467 - accuracy: 0.9817\n",
            "Epoch 47: val_loss did not improve from 0.12609\n",
            "321/321 [==============================] - 1s 5ms/step - loss: 0.0464 - accuracy: 0.9819 - val_loss: 0.1309 - val_accuracy: 0.9597 - lr: 4.0000e-05\n",
            "Epoch 48/100\n",
            "319/321 [============================>.] - ETA: 0s - loss: 0.0447 - accuracy: 0.9815\n",
            "Epoch 48: val_loss did not improve from 0.12609\n",
            "321/321 [==============================] - 1s 4ms/step - loss: 0.0446 - accuracy: 0.9815 - val_loss: 0.1295 - val_accuracy: 0.9615 - lr: 4.0000e-05\n",
            "Epoch 49/100\n",
            "309/321 [===========================>..] - ETA: 0s - loss: 0.0481 - accuracy: 0.9811\n",
            "Epoch 49: val_loss improved from 0.12609 to 0.12589, saving model to clf-resnet-weights.hdf5\n",
            "321/321 [==============================] - 1s 4ms/step - loss: 0.0485 - accuracy: 0.9811 - val_loss: 0.1259 - val_accuracy: 0.9615 - lr: 4.0000e-05\n",
            "Epoch 50/100\n",
            "320/321 [============================>.] - ETA: 0s - loss: 0.0447 - accuracy: 0.9825\n",
            "Epoch 50: val_loss did not improve from 0.12589\n",
            "321/321 [==============================] - 1s 4ms/step - loss: 0.0447 - accuracy: 0.9826 - val_loss: 0.1286 - val_accuracy: 0.9606 - lr: 4.0000e-05\n",
            "Epoch 51/100\n",
            "315/321 [============================>.] - ETA: 0s - loss: 0.0462 - accuracy: 0.9817\n",
            "Epoch 51: val_loss did not improve from 0.12589\n",
            "321/321 [==============================] - 1s 4ms/step - loss: 0.0456 - accuracy: 0.9819 - val_loss: 0.1290 - val_accuracy: 0.9606 - lr: 4.0000e-05\n",
            "Epoch 52/100\n",
            "310/321 [===========================>..] - ETA: 0s - loss: 0.0430 - accuracy: 0.9832\n",
            "Epoch 52: val_loss did not improve from 0.12589\n",
            "321/321 [==============================] - 1s 4ms/step - loss: 0.0437 - accuracy: 0.9828 - val_loss: 0.1308 - val_accuracy: 0.9606 - lr: 4.0000e-05\n",
            "Epoch 53/100\n",
            "317/321 [============================>.] - ETA: 0s - loss: 0.0440 - accuracy: 0.9826\n",
            "Epoch 53: val_loss did not improve from 0.12589\n",
            "321/321 [==============================] - 1s 4ms/step - loss: 0.0438 - accuracy: 0.9826 - val_loss: 0.1306 - val_accuracy: 0.9615 - lr: 4.0000e-05\n",
            "Epoch 54/100\n",
            "315/321 [============================>.] - ETA: 0s - loss: 0.0448 - accuracy: 0.9820\n",
            "Epoch 54: val_loss did not improve from 0.12589\n",
            "\n",
            "Epoch 54: ReduceLROnPlateau reducing learning rate to 8.000000525498762e-06.\n",
            "321/321 [==============================] - 1s 4ms/step - loss: 0.0448 - accuracy: 0.9821 - val_loss: 0.1309 - val_accuracy: 0.9597 - lr: 4.0000e-05\n",
            "Epoch 55/100\n",
            "310/321 [===========================>..] - ETA: 0s - loss: 0.0446 - accuracy: 0.9825\n",
            "Epoch 55: val_loss did not improve from 0.12589\n",
            "321/321 [==============================] - 1s 4ms/step - loss: 0.0450 - accuracy: 0.9823 - val_loss: 0.1306 - val_accuracy: 0.9606 - lr: 8.0000e-06\n",
            "Epoch 56/100\n",
            "316/321 [============================>.] - ETA: 0s - loss: 0.0463 - accuracy: 0.9820\n",
            "Epoch 56: val_loss did not improve from 0.12589\n",
            "321/321 [==============================] - 1s 4ms/step - loss: 0.0460 - accuracy: 0.9822 - val_loss: 0.1317 - val_accuracy: 0.9606 - lr: 8.0000e-06\n",
            "Epoch 57/100\n",
            "310/321 [===========================>..] - ETA: 0s - loss: 0.0430 - accuracy: 0.9827\n",
            "Epoch 57: val_loss did not improve from 0.12589\n",
            "321/321 [==============================] - 1s 4ms/step - loss: 0.0426 - accuracy: 0.9829 - val_loss: 0.1314 - val_accuracy: 0.9606 - lr: 8.0000e-06\n",
            "Epoch 58/100\n",
            "310/321 [===========================>..] - ETA: 0s - loss: 0.0463 - accuracy: 0.9810\n",
            "Epoch 58: val_loss did not improve from 0.12589\n",
            "321/321 [==============================] - 1s 4ms/step - loss: 0.0464 - accuracy: 0.9809 - val_loss: 0.1314 - val_accuracy: 0.9615 - lr: 8.0000e-06\n",
            "Epoch 59/100\n",
            "316/321 [============================>.] - ETA: 0s - loss: 0.0431 - accuracy: 0.9825\n",
            "Epoch 59: val_loss did not improve from 0.12589\n",
            "\n",
            "Epoch 59: ReduceLROnPlateau reducing learning rate to 1.6000001778593287e-06.\n",
            "321/321 [==============================] - 1s 4ms/step - loss: 0.0434 - accuracy: 0.9825 - val_loss: 0.1312 - val_accuracy: 0.9615 - lr: 8.0000e-06\n",
            "Epoch 60/100\n",
            "316/321 [============================>.] - ETA: 0s - loss: 0.0460 - accuracy: 0.9818\n",
            "Epoch 60: val_loss did not improve from 0.12589\n",
            "321/321 [==============================] - 1s 4ms/step - loss: 0.0460 - accuracy: 0.9818 - val_loss: 0.1313 - val_accuracy: 0.9615 - lr: 1.6000e-06\n",
            "Epoch 61/100\n",
            "320/321 [============================>.] - ETA: 0s - loss: 0.0440 - accuracy: 0.9823\n",
            "Epoch 61: val_loss did not improve from 0.12589\n",
            "321/321 [==============================] - 1s 4ms/step - loss: 0.0439 - accuracy: 0.9824 - val_loss: 0.1312 - val_accuracy: 0.9615 - lr: 1.6000e-06\n",
            "Epoch 62/100\n",
            "317/321 [============================>.] - ETA: 0s - loss: 0.0444 - accuracy: 0.9816\n",
            "Epoch 62: val_loss did not improve from 0.12589\n",
            "321/321 [==============================] - 1s 4ms/step - loss: 0.0445 - accuracy: 0.9814 - val_loss: 0.1313 - val_accuracy: 0.9615 - lr: 1.6000e-06\n",
            "Epoch 63/100\n",
            "315/321 [============================>.] - ETA: 0s - loss: 0.0424 - accuracy: 0.9827\n",
            "Epoch 63: val_loss did not improve from 0.12589\n",
            "321/321 [==============================] - 1s 4ms/step - loss: 0.0422 - accuracy: 0.9829 - val_loss: 0.1312 - val_accuracy: 0.9606 - lr: 1.6000e-06\n",
            "Epoch 64/100\n",
            "313/321 [============================>.] - ETA: 0s - loss: 0.0443 - accuracy: 0.9824\n",
            "Epoch 64: val_loss did not improve from 0.12589\n",
            "\n",
            "Epoch 64: ReduceLROnPlateau reducing learning rate to 3.200000264769187e-07.\n",
            "321/321 [==============================] - 1s 4ms/step - loss: 0.0442 - accuracy: 0.9824 - val_loss: 0.1314 - val_accuracy: 0.9615 - lr: 1.6000e-06\n",
            "Epoch 64: early stopping\n"
          ]
        }
      ]
    },
    {
      "cell_type": "code",
      "source": [
        "acc=h.history['accuracy']\n",
        "val_acc=h.history['val_accuracy']\n",
        "\n",
        "epoch=range(len(acc))\n",
        "\n",
        "loss=h.history['loss']\n",
        "val_loss=h.history['val_loss']\n",
        "\n",
        "learning_rate = h.history['lr']\n",
        "\n",
        "f,ax=plt.subplots(1,3,figsize=(14,7))\n",
        "\n",
        "ax[0].plot(epoch,acc,'b',label='Training Accuracy')\n",
        "ax[0].plot(epoch,val_acc,'r',label='Validation Accuracy')\n",
        "ax[0].legend()\n",
        "\n",
        "ax[1].plot(epoch,loss,'b',label='Training Loss')\n",
        "ax[1].plot(epoch,val_loss,'r',label='Validation Loss')\n",
        "ax[1].legend()\n",
        "\n",
        "\n",
        "ax[2].plot(epoch,learning_rate,'b',label='learning rate')\n",
        "ax[2].legend()\n",
        "\n",
        "\n",
        "\n",
        "plt.show()"
      ],
      "metadata": {
        "colab": {
          "base_uri": "https://localhost:8080/",
          "height": 581
        },
        "id": "cPJdzg3xwmzt",
        "outputId": "087861bf-1c86-46cc-88b5-6751d523a7f7"
      },
      "execution_count": null,
      "outputs": [
        {
          "output_type": "display_data",
          "data": {
            "text/plain": [
              "<Figure size 1400x700 with 3 Axes>"
            ],
            "image/png": "[encoded data removed]"
          },
          "metadata": {}
        }
      ]
    },
    {
      "cell_type": "code",
      "source": [
        "test_loss, test_acc = model.evaluate(x_test,y_test)"
      ],
      "metadata": {
        "colab": {
          "base_uri": "https://localhost:8080/"
        },
        "id": "HKEKoZqWt-vA",
        "outputId": "a18eeaf1-4be9-470f-e59d-3990ee3db643"
      },
      "execution_count": null,
      "outputs": [
        {
          "output_type": "stream",
          "name": "stdout",
          "text": [
            "40/40 [==============================] - 0s 3ms/step - loss: 0.1155 - accuracy: 0.9630\n"
          ]
        }
      ]
    },
    {
      "cell_type": "code",
      "source": [
        "prediction = model.predict(x_test)"
      ],
      "metadata": {
        "colab": {
          "base_uri": "https://localhost:8080/"
        },
        "id": "18MeMxWdv1f_",
        "outputId": "8084971f-4169-499f-b7c1-859c5b2442da"
      },
      "execution_count": null,
      "outputs": [
        {
          "output_type": "stream",
          "name": "stdout",
          "text": [
            "29/29 [==============================] - 0s 5ms/step\n"
          ]
        }
      ]
    },
    {
      "cell_type": "code",
      "source": [
        "len(prediction)"
      ],
      "metadata": {
        "colab": {
          "base_uri": "https://localhost:8080/"
        },
        "id": "TZVJAaOjNe__",
        "outputId": "995b1583-dbc7-4907-9b0c-d82cb604b01c"
      },
      "execution_count": null,
      "outputs": [
        {
          "output_type": "execute_result",
          "data": {
            "text/plain": [
              "924"
            ]
          },
          "metadata": {},
          "execution_count": 55
        }
      ]
    },
    {
      "cell_type": "code",
      "source": [
        "not_match = []\n",
        "not_match_ids = []\n",
        "for i in range(len(prediction)):\n",
        "  x = np.argmax(prediction[i])\n",
        "  if x != y_test[i]:\n",
        "    not_match.append(prediction[i])\n",
        "    not_match_ids.append(i)"
      ],
      "metadata": {
        "id": "WrEq6krbwEGt"
      },
      "execution_count": null,
      "outputs": []
    },
    {
      "cell_type": "code",
      "source": [
        "for i in not_match_ids:\n",
        "  print(\"Ids : \",i, \"pred :\",np.argmax(prediction[i]), \"actual :\", y_test[i])"
      ],
      "metadata": {
        "colab": {
          "base_uri": "https://localhost:8080/"
        },
        "id": "cndizO-PwaEh",
        "outputId": "e8806b35-6538-4143-e79f-3029d7b93154"
      },
      "execution_count": null,
      "outputs": [
        {
          "output_type": "stream",
          "name": "stdout",
          "text": [
            "Ids :  4 pred : 28 actual : 27\n",
            "Ids :  5 pred : 17 actual : 25\n",
            "Ids :  6 pred : 27 actual : 28\n",
            "Ids :  15 pred : 52 actual : 53\n",
            "Ids :  22 pred : 13 actual : 21\n",
            "Ids :  31 pred : 44 actual : 27\n",
            "Ids :  35 pred : 13 actual : 21\n",
            "Ids :  64 pred : 35 actual : 34\n",
            "Ids :  72 pred : 12 actual : 11\n",
            "Ids :  73 pred : 40 actual : 39\n",
            "Ids :  92 pred : 18 actual : 11\n",
            "Ids :  94 pred : 39 actual : 30\n",
            "Ids :  98 pred : 42 actual : 41\n",
            "Ids :  102 pred : 23 actual : 22\n",
            "Ids :  146 pred : 25 actual : 17\n",
            "Ids :  149 pred : 41 actual : 33\n",
            "Ids :  162 pred : 32 actual : 30\n",
            "Ids :  190 pred : 13 actual : 12\n",
            "Ids :  193 pred : 19 actual : 35\n",
            "Ids :  205 pred : 42 actual : 45\n",
            "Ids :  207 pred : 14 actual : 13\n",
            "Ids :  214 pred : 34 actual : 35\n",
            "Ids :  217 pred : 52 actual : 53\n",
            "Ids :  220 pred : 33 actual : 35\n",
            "Ids :  224 pred : 51 actual : 43\n",
            "Ids :  228 pred : 53 actual : 52\n",
            "Ids :  268 pred : 42 actual : 27\n",
            "Ids :  278 pred : 40 actual : 39\n",
            "Ids :  282 pred : 10 actual : 17\n",
            "Ids :  286 pred : 22 actual : 19\n",
            "Ids :  293 pred : 13 actual : 20\n",
            "Ids :  294 pred : 14 actual : 12\n",
            "Ids :  299 pred : 12 actual : 11\n",
            "Ids :  305 pred : 44 actual : 28\n",
            "Ids :  321 pred : 31 actual : 30\n",
            "Ids :  326 pred : 38 actual : 31\n",
            "Ids :  330 pred : 33 actual : 41\n",
            "Ids :  342 pred : 25 actual : 17\n",
            "Ids :  348 pred : 47 actual : 46\n",
            "Ids :  369 pred : 44 actual : 28\n",
            "Ids :  380 pred : 53 actual : 54\n",
            "Ids :  391 pred : 29 actual : 28\n",
            "Ids :  393 pred : 13 actual : 14\n",
            "Ids :  406 pred : 25 actual : 27\n",
            "Ids :  419 pred : 44 actual : 43\n",
            "Ids :  420 pred : 51 actual : 52\n",
            "Ids :  426 pred : 25 actual : 34\n",
            "Ids :  438 pred : 41 actual : 33\n",
            "Ids :  459 pred : 45 actual : 27\n",
            "Ids :  490 pred : 33 actual : 26\n",
            "Ids :  494 pred : 20 actual : 34\n",
            "Ids :  495 pred : 52 actual : 44\n",
            "Ids :  499 pred : 40 actual : 39\n",
            "Ids :  506 pred : 25 actual : 27\n",
            "Ids :  517 pred : 23 actual : 22\n",
            "Ids :  543 pred : 41 actual : 51\n",
            "Ids :  553 pred : 52 actual : 51\n",
            "Ids :  557 pred : 18 actual : 17\n",
            "Ids :  593 pred : 17 actual : 18\n",
            "Ids :  616 pred : 38 actual : 30\n",
            "Ids :  618 pred : 18 actual : 19\n",
            "Ids :  645 pred : 22 actual : 19\n",
            "Ids :  676 pred : 39 actual : 31\n",
            "Ids :  682 pred : 31 actual : 30\n",
            "Ids :  702 pred : 42 actual : 41\n",
            "Ids :  727 pred : 22 actual : 19\n",
            "Ids :  738 pred : 23 actual : 22\n",
            "Ids :  743 pred : 47 actual : 46\n",
            "Ids :  745 pred : 13 actual : 20\n",
            "Ids :  749 pred : 40 actual : 30\n",
            "Ids :  760 pred : 21 actual : 22\n",
            "Ids :  763 pred : 17 actual : 18\n",
            "Ids :  778 pred : 35 actual : 34\n",
            "Ids :  805 pred : 38 actual : 30\n",
            "Ids :  832 pred : 34 actual : 27\n",
            "Ids :  838 pred : 17 actual : 18\n",
            "Ids :  847 pred : 45 actual : 46\n",
            "Ids :  851 pred : 31 actual : 30\n",
            "Ids :  858 pred : 21 actual : 19\n",
            "Ids :  876 pred : 12 actual : 19\n",
            "Ids :  886 pred : 23 actual : 22\n",
            "Ids :  893 pred : 44 actual : 43\n",
            "Ids :  904 pred : 42 actual : 41\n"
          ]
        }
      ]
    },
    {
      "cell_type": "code",
      "source": [],
      "metadata": {
        "id": "iJFX1p9uG8lz"
      },
      "execution_count": null,
      "outputs": []
    }
  ]
}