{
  "cells": [
    {
      "cell_type": "markdown",
      "metadata": {
        "id": "view-in-github",
        "colab_type": "text"
      },
      "source": [
        "<a href=\"https://colab.research.google.com/github/ranadeepbhuyan/cancer-mri-analysis/blob/main/slicing/experment_perpose_UPENN_GBM_NIfTI_files_image_sliced_detection.ipynb\" target=\"_parent\"><img src=\"https://colab.research.google.com/assets/colab-badge.svg\" alt=\"Open In Colab\"/></a>"
      ]
    },
    {
      "cell_type": "code",
      "execution_count": null,
      "metadata": {
        "id": "piJu-3OFf5y9"
      },
      "outputs": [],
      "source": [
        "import numpy as np\n",
        "import pandas as pd\n",
        "import matplotlib.pyplot as plt\n",
        "import cv2\n",
        "import nibabel as nib"
      ]
    },
    {
      "cell_type": "code",
      "execution_count": null,
      "metadata": {
        "id": "vCCAFpl2oD9x"
      },
      "outputs": [],
      "source": [
        "import os"
      ]
    },
    {
      "cell_type": "code",
      "execution_count": null,
      "metadata": {
        "colab": {
          "base_uri": "https://localhost:8080/"
        },
        "id": "1dJb2OcTnJwl",
        "outputId": "83aef3ce-522d-47d3-bc14-f718852aba03"
      },
      "outputs": [
        {
          "output_type": "stream",
          "name": "stdout",
          "text": [
            "Mounted at /content/drive\n"
          ]
        }
      ],
      "source": [
        "from google.colab import drive\n",
        "drive.mount('/content/drive')"
      ]
    },
    {
      "cell_type": "code",
      "execution_count": null,
      "metadata": {
        "id": "mgzHuP3qnMwT"
      },
      "outputs": [],
      "source": [
        "based_path = r\"/content/drive/MyDrive/PKG - UPENN-GBM 3d to 2d /along z/dataset_64part_each_2dimg\""
      ]
    },
    {
      "cell_type": "code",
      "execution_count": null,
      "metadata": {
        "id": "cQPvtztfnzYM"
      },
      "outputs": [],
      "source": [
        "#fatching ids form data path\n",
        "def pathListIntoIds(dirList):\n",
        "    x = []\n",
        "    for i in range(0,len(dirList)):\n",
        "        x.append(dirList[i][dirList[i].rfind('/')+1:])\n",
        "    return x\n",
        "\n",
        "\n",
        "train_data_ids = [f.path for f in os.scandir(based_path)]"
      ]
    },
    {
      "cell_type": "code",
      "execution_count": null,
      "metadata": {
        "colab": {
          "base_uri": "https://localhost:8080/"
        },
        "id": "gSW1IcnmoF08",
        "outputId": "aa40c9fb-b41f-48be-d7a8-fedc97b01022"
      },
      "outputs": [
        {
          "output_type": "execute_result",
          "data": {
            "text/plain": [
              "8960"
            ]
          },
          "metadata": {},
          "execution_count": 6
        }
      ],
      "source": [
        "len(train_data_ids)"
      ]
    },
    {
      "cell_type": "code",
      "execution_count": null,
      "metadata": {
        "id": "DPCrmlpToH7-"
      },
      "outputs": [],
      "source": [
        "train_ids=[]\n",
        "for i in train_data_ids:\n",
        "  test = i.split('dataset_64part_each_2dimg/')[1]\n",
        "  train_ids.append(test)"
      ]
    },
    {
      "cell_type": "code",
      "execution_count": null,
      "metadata": {
        "colab": {
          "base_uri": "https://localhost:8080/",
          "height": 36
        },
        "id": "4cD0vQlDAxNI",
        "outputId": "0d9840c1-d80e-4454-d939-18880ec2c5ed"
      },
      "outputs": [
        {
          "output_type": "execute_result",
          "data": {
            "text/plain": [
              "'124_z_25.png'"
            ],
            "application/vnd.google.colaboratory.intrinsic+json": {
              "type": "string"
            }
          },
          "metadata": {},
          "execution_count": 8
        }
      ],
      "source": [
        "train_ids[0]"
      ]
    },
    {
      "cell_type": "code",
      "execution_count": null,
      "metadata": {
        "id": "nqs0Udrco2Ud"
      },
      "outputs": [],
      "source": [
        "final_ids =[]\n",
        "for i in range(len(train_ids)):\n",
        "  path = os.path.join(based_path,train_ids[i])\n",
        "  image = cv2.imread(path)\n",
        "  if image.max() != image.min():\n",
        "    final_ids.append(train_ids[i])\n"
      ]
    },
    {
      "cell_type": "code",
      "execution_count": null,
      "metadata": {
        "colab": {
          "base_uri": "https://localhost:8080/"
        },
        "id": "2Znc1is9rlPo",
        "outputId": "02fdef3c-6f25-483f-c5de-30c38b61eeb5"
      },
      "outputs": [
        {
          "output_type": "execute_result",
          "data": {
            "text/plain": [
              "2820"
            ]
          },
          "metadata": {},
          "execution_count": 10
        }
      ],
      "source": [
        "len(final_ids)"
      ]
    },
    {
      "cell_type": "code",
      "execution_count": null,
      "metadata": {
        "id": "cn6c_HNbsnkH"
      },
      "outputs": [],
      "source": [
        "final_ids.sort()"
      ]
    },
    {
      "cell_type": "code",
      "execution_count": null,
      "metadata": {
        "colab": {
          "base_uri": "https://localhost:8080/",
          "height": 36
        },
        "id": "K3mWFyenv9O9",
        "outputId": "e0a3715b-0bdc-44d0-a168-2870458f36a8"
      },
      "outputs": [
        {
          "output_type": "execute_result",
          "data": {
            "text/plain": [
              "'000_z_29.png'"
            ],
            "application/vnd.google.colaboratory.intrinsic+json": {
              "type": "string"
            }
          },
          "metadata": {},
          "execution_count": 12
        }
      ],
      "source": [
        "final_ids[0]"
      ]
    },
    {
      "cell_type": "code",
      "execution_count": null,
      "metadata": {
        "colab": {
          "base_uri": "https://localhost:8080/",
          "height": 406
        },
        "id": "xw_-bvz-ssIA",
        "outputId": "a28337f9-3b91-4e0e-eaa1-ab5bac46cfcc"
      },
      "outputs": [
        {
          "output_type": "display_data",
          "data": {
            "text/plain": [
              "<Figure size 640x480 with 1 Axes>"
            ],
            "image/png": "[encoded data removed]"
          },
          "metadata": {}
        }
      ],
      "source": [
        "# Load an image from file\n",
        "path = os.path.join(based_path,final_ids[0])\n",
        "image = cv2.imread(path)\n",
        "\n",
        "\n",
        "plt.imshow(image)\n",
        "plt.axis('off')  # Turn off axis labels and ticks\n",
        "plt.show()\n"
      ]
    },
    {
      "cell_type": "code",
      "execution_count": null,
      "metadata": {
        "colab": {
          "base_uri": "https://localhost:8080/"
        },
        "id": "5xqIbTDJzM4p",
        "outputId": "f3f94587-5955-4da3-da19-aa8fc778e15a"
      },
      "outputs": [
        {
          "output_type": "execute_result",
          "data": {
            "text/plain": [
              "(30, 30, 3)"
            ]
          },
          "metadata": {},
          "execution_count": 14
        }
      ],
      "source": [
        "image.shape"
      ]
    },
    {
      "cell_type": "code",
      "execution_count": null,
      "metadata": {
        "colab": {
          "base_uri": "https://localhost:8080/"
        },
        "id": "FaZtTl3-ut2J",
        "outputId": "656b3fac-1690-4ad4-cf3c-e063726c2579"
      },
      "outputs": [
        {
          "output_type": "execute_result",
          "data": {
            "text/plain": [
              "29"
            ]
          },
          "metadata": {},
          "execution_count": 15
        }
      ],
      "source": [
        "final_ids.sort()\n",
        "path = final_ids[0]\n",
        "test = path.split('z_')[1]\n",
        "test = test.split('.png')[0]\n",
        "int(test)"
      ]
    },
    {
      "cell_type": "code",
      "execution_count": null,
      "metadata": {
        "id": "TdgcrvfFzXi1"
      },
      "outputs": [],
      "source": [
        "data_path = []\n",
        "data_ids = []\n",
        "desired_width = 128\n",
        "desired_height = 128\n",
        "for i in range(len(final_ids)):\n",
        "    filename = final_ids[i]\n",
        "    path = os.path.join(based_path,final_ids[i])\n",
        "    img_data = cv2.imread(path)\n",
        "    gray_image = cv2.cvtColor(img_data, cv2.COLOR_BGR2GRAY)\n",
        "    #resized_image = cv2.resize(gray_image, (desired_width, desired_height), interpolation=cv2.INTER_LINEAR)\n",
        "    if 'z_' in filename and '.png' in filename:\n",
        "        test1 = filename.split('z_')[1]\n",
        "        test = test1.split('.png')[0]\n",
        "        data_path.append(gray_image)\n",
        "        data_ids.append(int(test))\n",
        "\n",
        "data_column = {'image_data': data_path,\n",
        "        'class': data_ids}\n",
        "data_set = pd.DataFrame(data_column)"
      ]
    },
    {
      "cell_type": "code",
      "execution_count": null,
      "metadata": {
        "id": "KSwD-0mw08Xr"
      },
      "outputs": [],
      "source": [
        "data_list = data_set['image_data'].tolist()\n",
        "classes = data_set['class'].tolist()"
      ]
    },
    {
      "cell_type": "code",
      "execution_count": null,
      "metadata": {
        "id": "xW2h_tZRxFpR"
      },
      "outputs": [],
      "source": [
        "my_array = np.array(data_list)\n",
        "y_data = np.array(classes)"
      ]
    },
    {
      "cell_type": "code",
      "execution_count": null,
      "metadata": {
        "colab": {
          "base_uri": "https://localhost:8080/"
        },
        "id": "9UCj9nWOxKhv",
        "outputId": "e96a7f44-eb3e-413a-9019-0e226db5d066"
      },
      "outputs": [
        {
          "output_type": "execute_result",
          "data": {
            "text/plain": [
              "(2820, 30, 30)"
            ]
          },
          "metadata": {},
          "execution_count": 19
        }
      ],
      "source": [
        "my_array.shape"
      ]
    },
    {
      "cell_type": "code",
      "execution_count": null,
      "metadata": {
        "id": "37j7w7mnxO4l"
      },
      "outputs": [],
      "source": [
        "from sklearn.model_selection import train_test_split\n",
        "\n",
        "x_train, x_test, y_train, y_test = train_test_split(my_array,y_data, test_size=0.10)"
      ]
    },
    {
      "cell_type": "code",
      "execution_count": null,
      "metadata": {
        "colab": {
          "base_uri": "https://localhost:8080/",
          "height": 448
        },
        "id": "oq_2T0TDxZ4G",
        "outputId": "4eab85d7-416e-4306-eddc-aef0290cf41e"
      },
      "outputs": [
        {
          "output_type": "execute_result",
          "data": {
            "text/plain": [
              "<matplotlib.image.AxesImage at 0x78cf9e122380>"
            ]
          },
          "metadata": {},
          "execution_count": 21
        },
        {
          "output_type": "display_data",
          "data": {
            "text/plain": [
              "<Figure size 640x480 with 1 Axes>"
            ],
            "image/png": "[encoded data removed]"
          },
          "metadata": {}
        }
      ],
      "source": [
        "from tensorflow.keras.utils import normalize\n",
        "\n",
        "x_train = normalize(x_train, axis=1)\n",
        "x_test = normalize(x_test, axis=1)\n",
        "plt.imshow(x_train[1], cmap =plt.cm.binary)"
      ]
    },
    {
      "cell_type": "code",
      "execution_count": null,
      "metadata": {
        "colab": {
          "base_uri": "https://localhost:8080/"
        },
        "id": "ky_cFe6zxluY",
        "outputId": "255a0c4b-198f-4346-e16f-805a36543a82"
      },
      "outputs": [
        {
          "output_type": "stream",
          "name": "stdout",
          "text": [
            "(2538, 30, 30, 1) (282, 30, 30, 1)\n"
          ]
        }
      ],
      "source": [
        "x_train = np.array(x_train).reshape(-1,30,30,1)\n",
        "x_test = np.array(x_test).reshape(-1,30,30,1)\n",
        "print(x_train.shape,x_test.shape)"
      ]
    },
    {
      "cell_type": "code",
      "execution_count": null,
      "metadata": {
        "id": "1XogKEcWj72q"
      },
      "outputs": [],
      "source": [
        "from tensorflow.keras.layers import Conv2D, MaxPooling2D, Activation,Flatten, Dense, Dropout\n",
        "from tensorflow.keras.models import Sequential\n",
        "from tensorflow.keras.initializers import HeNormal"
      ]
    },
    {
      "cell_type": "code",
      "execution_count": null,
      "metadata": {
        "id": "4-tUJxTOmvO-"
      },
      "outputs": [],
      "source": [
        "model = Sequential()\n",
        "\n",
        "model.add(Conv2D(32, (3,3), padding='same', input_shape=x_train.shape[1:]))\n",
        "model.add(Activation('relu'))\n",
        "model.add(Dropout(0.2))\n",
        "model.add(MaxPooling2D(pool_size = (2, 2)))\n",
        "\n",
        "model.add(Conv2D(64, (3,3),padding='same'))\n",
        "model.add(Activation('relu'))\n",
        "model.add(Dropout(0.2))\n",
        "model.add(MaxPooling2D(pool_size = (2, 2)))\n",
        "\n",
        "model.add(Conv2D(128, (3,3), padding='same'))\n",
        "model.add(Activation('relu'))\n",
        "model.add(Dropout(0.2))\n",
        "model.add(MaxPooling2D(pool_size = (2, 2)))\n",
        "\n",
        "model.add(Conv2D(256, (3,3), padding='same'))\n",
        "model.add(Activation('relu'))\n",
        "model.add(Dropout(0.2))\n",
        "model.add(MaxPooling2D(pool_size = (2, 2)))\n",
        "\n",
        "model.add(Conv2D(512, (3,3), padding='same'))\n",
        "model.add(Activation('relu'))\n",
        "model.add(Dropout(0.2))\n",
        "\n",
        "model.add(Conv2D(1024, (3,3), padding='same'))\n",
        "model.add(Activation('relu'))\n",
        "model.add(Dropout(0.2))\n",
        "\n",
        "model.add(Conv2D(2048, (3,3), padding='same'))\n",
        "model.add(Activation('relu'))\n",
        "model.add(Dropout(0.2))\n",
        "\n",
        "model.add(Flatten())\n",
        "\n",
        "model.add(Dense(32))\n",
        "model.add(Activation('relu'))\n",
        "model.add(Dropout(0.2))\n",
        "\n",
        "model.add(Dense(32))\n",
        "model.add(Activation('relu'))\n",
        "model.add(Dropout(0.2))\n",
        "\n",
        "model.add(Dense(64))\n",
        "model.add(Activation('softmax'))\n"
      ]
    },
    {
      "cell_type": "code",
      "execution_count": null,
      "metadata": {
        "colab": {
          "base_uri": "https://localhost:8080/"
        },
        "id": "rkHXGNntqh7A",
        "outputId": "ad2a5fab-3d09-400f-9923-b78ab77fb11d"
      },
      "outputs": [
        {
          "output_type": "stream",
          "name": "stdout",
          "text": [
            "Model: \"sequential\"\n",
            "_________________________________________________________________\n",
            " Layer (type)                Output Shape              Param #   \n",
            "=================================================================\n",
            " conv2d (Conv2D)             (None, 30, 30, 32)        320       \n",
            "                                                                 \n",
            " activation (Activation)     (None, 30, 30, 32)        0         \n",
            "                                                                 \n",
            " dropout (Dropout)           (None, 30, 30, 32)        0         \n",
            "                                                                 \n",
            " max_pooling2d (MaxPooling2D  (None, 15, 15, 32)       0         \n",
            " )                                                               \n",
            "                                                                 \n",
            " conv2d_1 (Conv2D)           (None, 15, 15, 64)        18496     \n",
            "                                                                 \n",
            " activation_1 (Activation)   (None, 15, 15, 64)        0         \n",
            "                                                                 \n",
            " dropout_1 (Dropout)         (None, 15, 15, 64)        0         \n",
            "                                                                 \n",
            " max_pooling2d_1 (MaxPooling  (None, 7, 7, 64)         0         \n",
            " 2D)                                                             \n",
            "                                                                 \n",
            " conv2d_2 (Conv2D)           (None, 7, 7, 128)         73856     \n",
            "                                                                 \n",
            " activation_2 (Activation)   (None, 7, 7, 128)         0         \n",
            "                                                                 \n",
            " dropout_2 (Dropout)         (None, 7, 7, 128)         0         \n",
            "                                                                 \n",
            " max_pooling2d_2 (MaxPooling  (None, 3, 3, 128)        0         \n",
            " 2D)                                                             \n",
            "                                                                 \n",
            " conv2d_3 (Conv2D)           (None, 3, 3, 256)         295168    \n",
            "                                                                 \n",
            " activation_3 (Activation)   (None, 3, 3, 256)         0         \n",
            "                                                                 \n",
            " dropout_3 (Dropout)         (None, 3, 3, 256)         0         \n",
            "                                                                 \n",
            " max_pooling2d_3 (MaxPooling  (None, 1, 1, 256)        0         \n",
            " 2D)                                                             \n",
            "                                                                 \n",
            " conv2d_4 (Conv2D)           (None, 1, 1, 512)         1180160   \n",
            "                                                                 \n",
            " activation_4 (Activation)   (None, 1, 1, 512)         0         \n",
            "                                                                 \n",
            " dropout_4 (Dropout)         (None, 1, 1, 512)         0         \n",
            "                                                                 \n",
            " conv2d_5 (Conv2D)           (None, 1, 1, 1024)        4719616   \n",
            "                                                                 \n",
            " activation_5 (Activation)   (None, 1, 1, 1024)        0         \n",
            "                                                                 \n",
            " dropout_5 (Dropout)         (None, 1, 1, 1024)        0         \n",
            "                                                                 \n",
            " conv2d_6 (Conv2D)           (None, 1, 1, 2048)        18876416  \n",
            "                                                                 \n",
            " activation_6 (Activation)   (None, 1, 1, 2048)        0         \n",
            "                                                                 \n",
            " dropout_6 (Dropout)         (None, 1, 1, 2048)        0         \n",
            "                                                                 \n",
            " flatten (Flatten)           (None, 2048)              0         \n",
            "                                                                 \n",
            " dense (Dense)               (None, 32)                65568     \n",
            "                                                                 \n",
            " activation_7 (Activation)   (None, 32)                0         \n",
            "                                                                 \n",
            " dropout_7 (Dropout)         (None, 32)                0         \n",
            "                                                                 \n",
            " dense_1 (Dense)             (None, 32)                1056      \n",
            "                                                                 \n",
            " activation_8 (Activation)   (None, 32)                0         \n",
            "                                                                 \n",
            " dropout_8 (Dropout)         (None, 32)                0         \n",
            "                                                                 \n",
            " dense_2 (Dense)             (None, 64)                2112      \n",
            "                                                                 \n",
            " activation_9 (Activation)   (None, 64)                0         \n",
            "                                                                 \n",
            "=================================================================\n",
            "Total params: 25,232,768\n",
            "Trainable params: 25,232,768\n",
            "Non-trainable params: 0\n",
            "_________________________________________________________________\n"
          ]
        }
      ],
      "source": [
        "model.summary()"
      ]
    },
    {
      "cell_type": "code",
      "execution_count": null,
      "metadata": {
        "id": "DW5dkp8ttCim"
      },
      "outputs": [],
      "source": [
        "from tensorflow.keras.callbacks import EarlyStopping, ModelCheckpoint, ReduceLROnPlateau\n",
        "import tensorflow as tf\n",
        "\n",
        "learning_rate = 0.001\n",
        "\n",
        "optimizer = tf.keras.optimizers.Adam(learning_rate=learning_rate)\n",
        "\n",
        "model.compile(optimizer=optimizer, loss='sparse_categorical_crossentropy', metrics=['accuracy'])\n",
        "\n",
        "earlystopping = EarlyStopping(monitor='val_loss',\n",
        "                              mode='min',\n",
        "                              verbose=1,\n",
        "                              patience=15\n",
        "                             )\n",
        "checkpointer = ModelCheckpoint(filepath=\"clf-resnet-weights.hdf5\",\n",
        "                               verbose=1,\n",
        "                               save_best_only=True\n",
        "                              )\n",
        "reduce_lr = ReduceLROnPlateau(monitor='val_loss',\n",
        "                              mode='min',\n",
        "                              verbose=1,\n",
        "                              patience=5,\n",
        "                              min_delta=0.0001,\n",
        "                              factor=0.2\n",
        "                             )"
      ]
    },
    {
      "cell_type": "code",
      "execution_count": null,
      "metadata": {
        "colab": {
          "base_uri": "https://localhost:8080/"
        },
        "id": "HfO6HQLsyR0o",
        "outputId": "775519bf-9e7f-4d83-c5ef-314c3a5d4136"
      },
      "outputs": [
        {
          "output_type": "stream",
          "name": "stdout",
          "text": [
            "Epoch 1/100\n",
            "72/72 [==============================] - ETA: 0s - loss: 3.8843 - accuracy: 0.0381\n",
            "Epoch 1: val_loss improved from inf to 3.60727, saving model to clf-resnet-weights.hdf5\n",
            "72/72 [==============================] - 159s 2s/step - loss: 3.8843 - accuracy: 0.0381 - val_loss: 3.6073 - val_accuracy: 0.0354 - lr: 0.0010\n",
            "Epoch 2/100\n",
            "72/72 [==============================] - ETA: 0s - loss: 3.4547 - accuracy: 0.0547\n",
            "Epoch 2: val_loss improved from 3.60727 to 3.27100, saving model to clf-resnet-weights.hdf5\n",
            "72/72 [==============================] - 155s 2s/step - loss: 3.4547 - accuracy: 0.0547 - val_loss: 3.2710 - val_accuracy: 0.0866 - lr: 0.0010\n",
            "Epoch 3/100\n",
            "72/72 [==============================] - ETA: 0s - loss: 3.2286 - accuracy: 0.0740\n",
            "Epoch 3: val_loss improved from 3.27100 to 3.08248, saving model to clf-resnet-weights.hdf5\n",
            "72/72 [==============================] - 159s 2s/step - loss: 3.2286 - accuracy: 0.0740 - val_loss: 3.0825 - val_accuracy: 0.1299 - lr: 0.0010\n",
            "Epoch 4/100\n",
            "72/72 [==============================] - ETA: 0s - loss: 2.9978 - accuracy: 0.1042\n",
            "Epoch 4: val_loss improved from 3.08248 to 2.84951, saving model to clf-resnet-weights.hdf5\n",
            "72/72 [==============================] - 162s 2s/step - loss: 2.9978 - accuracy: 0.1042 - val_loss: 2.8495 - val_accuracy: 0.1732 - lr: 0.0010\n",
            "Epoch 5/100\n",
            "72/72 [==============================] - ETA: 0s - loss: 2.8533 - accuracy: 0.1296\n",
            "Epoch 5: val_loss improved from 2.84951 to 2.69826, saving model to clf-resnet-weights.hdf5\n",
            "72/72 [==============================] - 159s 2s/step - loss: 2.8533 - accuracy: 0.1296 - val_loss: 2.6983 - val_accuracy: 0.2008 - lr: 0.0010\n",
            "Epoch 6/100\n",
            "72/72 [==============================] - ETA: 0s - loss: 2.6604 - accuracy: 0.1760\n",
            "Epoch 6: val_loss improved from 2.69826 to 2.42106, saving model to clf-resnet-weights.hdf5\n",
            "72/72 [==============================] - 164s 2s/step - loss: 2.6604 - accuracy: 0.1760 - val_loss: 2.4211 - val_accuracy: 0.2559 - lr: 0.0010\n",
            "Epoch 7/100\n",
            "72/72 [==============================] - ETA: 0s - loss: 2.5137 - accuracy: 0.2005\n",
            "Epoch 7: val_loss improved from 2.42106 to 2.29806, saving model to clf-resnet-weights.hdf5\n",
            "72/72 [==============================] - 158s 2s/step - loss: 2.5137 - accuracy: 0.2005 - val_loss: 2.2981 - val_accuracy: 0.2480 - lr: 0.0010\n",
            "Epoch 8/100\n",
            "72/72 [==============================] - ETA: 0s - loss: 2.3287 - accuracy: 0.2364\n",
            "Epoch 8: val_loss improved from 2.29806 to 2.20348, saving model to clf-resnet-weights.hdf5\n",
            "72/72 [==============================] - 156s 2s/step - loss: 2.3287 - accuracy: 0.2364 - val_loss: 2.2035 - val_accuracy: 0.3504 - lr: 0.0010\n",
            "Epoch 9/100\n",
            "72/72 [==============================] - ETA: 0s - loss: 2.2379 - accuracy: 0.2754\n",
            "Epoch 9: val_loss improved from 2.20348 to 2.18948, saving model to clf-resnet-weights.hdf5\n",
            "72/72 [==============================] - 160s 2s/step - loss: 2.2379 - accuracy: 0.2754 - val_loss: 2.1895 - val_accuracy: 0.3307 - lr: 0.0010\n",
            "Epoch 10/100\n",
            "72/72 [==============================] - ETA: 0s - loss: 2.1924 - accuracy: 0.2732\n",
            "Epoch 10: val_loss improved from 2.18948 to 1.88917, saving model to clf-resnet-weights.hdf5\n",
            "72/72 [==============================] - 159s 2s/step - loss: 2.1924 - accuracy: 0.2732 - val_loss: 1.8892 - val_accuracy: 0.3661 - lr: 0.0010\n",
            "Epoch 11/100\n",
            "72/72 [==============================] - ETA: 0s - loss: 2.0691 - accuracy: 0.3078\n",
            "Epoch 11: val_loss did not improve from 1.88917\n",
            "72/72 [==============================] - 157s 2s/step - loss: 2.0691 - accuracy: 0.3078 - val_loss: 1.8907 - val_accuracy: 0.3661 - lr: 0.0010\n",
            "Epoch 12/100\n",
            "72/72 [==============================] - ETA: 0s - loss: 1.9885 - accuracy: 0.3240\n",
            "Epoch 12: val_loss improved from 1.88917 to 1.80808, saving model to clf-resnet-weights.hdf5\n",
            "72/72 [==============================] - 160s 2s/step - loss: 1.9885 - accuracy: 0.3240 - val_loss: 1.8081 - val_accuracy: 0.3701 - lr: 0.0010\n",
            "Epoch 13/100\n",
            "72/72 [==============================] - ETA: 0s - loss: 1.8964 - accuracy: 0.3511\n",
            "Epoch 13: val_loss improved from 1.80808 to 1.79767, saving model to clf-resnet-weights.hdf5\n",
            "72/72 [==============================] - 161s 2s/step - loss: 1.8964 - accuracy: 0.3511 - val_loss: 1.7977 - val_accuracy: 0.4134 - lr: 0.0010\n",
            "Epoch 14/100\n",
            "72/72 [==============================] - ETA: 0s - loss: 1.8162 - accuracy: 0.3765\n",
            "Epoch 14: val_loss improved from 1.79767 to 1.63371, saving model to clf-resnet-weights.hdf5\n",
            "72/72 [==============================] - 155s 2s/step - loss: 1.8162 - accuracy: 0.3765 - val_loss: 1.6337 - val_accuracy: 0.3976 - lr: 0.0010\n",
            "Epoch 15/100\n",
            "72/72 [==============================] - ETA: 0s - loss: 1.8095 - accuracy: 0.3796\n",
            "Epoch 15: val_loss improved from 1.63371 to 1.63299, saving model to clf-resnet-weights.hdf5\n",
            "72/72 [==============================] - 160s 2s/step - loss: 1.8095 - accuracy: 0.3796 - val_loss: 1.6330 - val_accuracy: 0.4646 - lr: 0.0010\n",
            "Epoch 16/100\n",
            "72/72 [==============================] - ETA: 0s - loss: 1.7443 - accuracy: 0.3875\n",
            "Epoch 16: val_loss did not improve from 1.63299\n",
            "72/72 [==============================] - 155s 2s/step - loss: 1.7443 - accuracy: 0.3875 - val_loss: 1.6615 - val_accuracy: 0.4528 - lr: 0.0010\n",
            "Epoch 17/100\n",
            "72/72 [==============================] - ETA: 0s - loss: 1.7156 - accuracy: 0.3971\n",
            "Epoch 17: val_loss improved from 1.63299 to 1.62358, saving model to clf-resnet-weights.hdf5\n",
            "72/72 [==============================] - 157s 2s/step - loss: 1.7156 - accuracy: 0.3971 - val_loss: 1.6236 - val_accuracy: 0.4528 - lr: 0.0010\n",
            "Epoch 18/100\n",
            "72/72 [==============================] - ETA: 0s - loss: 1.6310 - accuracy: 0.4107\n",
            "Epoch 18: val_loss improved from 1.62358 to 1.48210, saving model to clf-resnet-weights.hdf5\n",
            "72/72 [==============================] - 159s 2s/step - loss: 1.6310 - accuracy: 0.4107 - val_loss: 1.4821 - val_accuracy: 0.5394 - lr: 0.0010\n",
            "Epoch 19/100\n",
            "72/72 [==============================] - ETA: 0s - loss: 1.5793 - accuracy: 0.4409\n",
            "Epoch 19: val_loss improved from 1.48210 to 1.44309, saving model to clf-resnet-weights.hdf5\n",
            "72/72 [==============================] - 159s 2s/step - loss: 1.5793 - accuracy: 0.4409 - val_loss: 1.4431 - val_accuracy: 0.5079 - lr: 0.0010\n",
            "Epoch 20/100\n",
            "72/72 [==============================] - ETA: 0s - loss: 1.5701 - accuracy: 0.4299\n",
            "Epoch 20: val_loss improved from 1.44309 to 1.40327, saving model to clf-resnet-weights.hdf5\n",
            "72/72 [==============================] - 161s 2s/step - loss: 1.5701 - accuracy: 0.4299 - val_loss: 1.4033 - val_accuracy: 0.5394 - lr: 0.0010\n",
            "Epoch 21/100\n",
            "72/72 [==============================] - ETA: 0s - loss: 1.4809 - accuracy: 0.4615\n",
            "Epoch 21: val_loss did not improve from 1.40327\n",
            "72/72 [==============================] - 158s 2s/step - loss: 1.4809 - accuracy: 0.4615 - val_loss: 1.4296 - val_accuracy: 0.5000 - lr: 0.0010\n",
            "Epoch 22/100\n",
            "72/72 [==============================] - ETA: 0s - loss: 1.4348 - accuracy: 0.4689\n",
            "Epoch 22: val_loss did not improve from 1.40327\n",
            "72/72 [==============================] - 152s 2s/step - loss: 1.4348 - accuracy: 0.4689 - val_loss: 1.4542 - val_accuracy: 0.4764 - lr: 0.0010\n",
            "Epoch 23/100\n",
            "72/72 [==============================] - ETA: 0s - loss: 1.4138 - accuracy: 0.4991\n",
            "Epoch 23: val_loss improved from 1.40327 to 1.21605, saving model to clf-resnet-weights.hdf5\n",
            "72/72 [==============================] - 152s 2s/step - loss: 1.4138 - accuracy: 0.4991 - val_loss: 1.2161 - val_accuracy: 0.5669 - lr: 0.0010\n",
            "Epoch 24/100\n",
            "72/72 [==============================] - ETA: 0s - loss: 1.3364 - accuracy: 0.5105\n",
            "Epoch 24: val_loss did not improve from 1.21605\n",
            "72/72 [==============================] - 151s 2s/step - loss: 1.3364 - accuracy: 0.5105 - val_loss: 1.2887 - val_accuracy: 0.5669 - lr: 0.0010\n",
            "Epoch 25/100\n",
            "72/72 [==============================] - ETA: 0s - loss: 1.3279 - accuracy: 0.5070\n",
            "Epoch 25: val_loss did not improve from 1.21605\n",
            "72/72 [==============================] - 158s 2s/step - loss: 1.3279 - accuracy: 0.5070 - val_loss: 1.2727 - val_accuracy: 0.5787 - lr: 0.0010\n",
            "Epoch 26/100\n",
            "72/72 [==============================] - ETA: 0s - loss: 1.2925 - accuracy: 0.5184\n",
            "Epoch 26: val_loss improved from 1.21605 to 1.15776, saving model to clf-resnet-weights.hdf5\n",
            "72/72 [==============================] - 165s 2s/step - loss: 1.2925 - accuracy: 0.5184 - val_loss: 1.1578 - val_accuracy: 0.5906 - lr: 0.0010\n",
            "Epoch 27/100\n",
            "72/72 [==============================] - ETA: 0s - loss: 1.2858 - accuracy: 0.5293\n",
            "Epoch 27: val_loss improved from 1.15776 to 1.10528, saving model to clf-resnet-weights.hdf5\n",
            "72/72 [==============================] - 160s 2s/step - loss: 1.2858 - accuracy: 0.5293 - val_loss: 1.1053 - val_accuracy: 0.5669 - lr: 0.0010\n",
            "Epoch 28/100\n",
            "72/72 [==============================] - ETA: 0s - loss: 1.2112 - accuracy: 0.5604\n",
            "Epoch 28: val_loss did not improve from 1.10528\n",
            "72/72 [==============================] - 157s 2s/step - loss: 1.2112 - accuracy: 0.5604 - val_loss: 1.1823 - val_accuracy: 0.6260 - lr: 0.0010\n",
            "Epoch 29/100\n",
            "72/72 [==============================] - ETA: 0s - loss: 1.1400 - accuracy: 0.5937\n",
            "Epoch 29: val_loss did not improve from 1.10528\n",
            "72/72 [==============================] - 167s 2s/step - loss: 1.1400 - accuracy: 0.5937 - val_loss: 1.1562 - val_accuracy: 0.5866 - lr: 0.0010\n",
            "Epoch 30/100\n",
            "72/72 [==============================] - ETA: 0s - loss: 1.1283 - accuracy: 0.5849\n",
            "Epoch 30: val_loss improved from 1.10528 to 1.01446, saving model to clf-resnet-weights.hdf5\n",
            "72/72 [==============================] - 167s 2s/step - loss: 1.1283 - accuracy: 0.5849 - val_loss: 1.0145 - val_accuracy: 0.6299 - lr: 0.0010\n",
            "Epoch 31/100\n",
            "72/72 [==============================] - ETA: 0s - loss: 1.1285 - accuracy: 0.5911\n",
            "Epoch 31: val_loss improved from 1.01446 to 0.97545, saving model to clf-resnet-weights.hdf5\n",
            "72/72 [==============================] - 167s 2s/step - loss: 1.1285 - accuracy: 0.5911 - val_loss: 0.9755 - val_accuracy: 0.6260 - lr: 0.0010\n",
            "Epoch 32/100\n",
            "72/72 [==============================] - ETA: 0s - loss: 1.0325 - accuracy: 0.6296\n",
            "Epoch 32: val_loss improved from 0.97545 to 0.95932, saving model to clf-resnet-weights.hdf5\n",
            "72/72 [==============================] - 168s 2s/step - loss: 1.0325 - accuracy: 0.6296 - val_loss: 0.9593 - val_accuracy: 0.6929 - lr: 0.0010\n",
            "Epoch 33/100\n",
            "72/72 [==============================] - ETA: 0s - loss: 1.0078 - accuracy: 0.6287\n",
            "Epoch 33: val_loss did not improve from 0.95932\n",
            "72/72 [==============================] - 166s 2s/step - loss: 1.0078 - accuracy: 0.6287 - val_loss: 0.9921 - val_accuracy: 0.6614 - lr: 0.0010\n",
            "Epoch 34/100\n",
            "72/72 [==============================] - ETA: 0s - loss: 0.9785 - accuracy: 0.6528\n",
            "Epoch 34: val_loss improved from 0.95932 to 0.87257, saving model to clf-resnet-weights.hdf5\n",
            "72/72 [==============================] - 157s 2s/step - loss: 0.9785 - accuracy: 0.6528 - val_loss: 0.8726 - val_accuracy: 0.6929 - lr: 0.0010\n",
            "Epoch 35/100\n",
            "72/72 [==============================] - ETA: 0s - loss: 0.9933 - accuracy: 0.6384\n",
            "Epoch 35: val_loss did not improve from 0.87257\n",
            "72/72 [==============================] - 157s 2s/step - loss: 0.9933 - accuracy: 0.6384 - val_loss: 0.9700 - val_accuracy: 0.6929 - lr: 0.0010\n",
            "Epoch 36/100\n",
            "72/72 [==============================] - ETA: 0s - loss: 0.9784 - accuracy: 0.6637\n",
            "Epoch 36: val_loss did not improve from 0.87257\n",
            "72/72 [==============================] - 153s 2s/step - loss: 0.9784 - accuracy: 0.6637 - val_loss: 0.9459 - val_accuracy: 0.6732 - lr: 0.0010\n",
            "Epoch 37/100\n",
            "72/72 [==============================] - ETA: 0s - loss: 0.9524 - accuracy: 0.6607\n",
            "Epoch 37: val_loss improved from 0.87257 to 0.82293, saving model to clf-resnet-weights.hdf5\n",
            "72/72 [==============================] - 153s 2s/step - loss: 0.9524 - accuracy: 0.6607 - val_loss: 0.8229 - val_accuracy: 0.7795 - lr: 0.0010\n",
            "Epoch 38/100\n",
            "72/72 [==============================] - ETA: 0s - loss: 0.8577 - accuracy: 0.7023\n",
            "Epoch 38: val_loss improved from 0.82293 to 0.80793, saving model to clf-resnet-weights.hdf5\n",
            "72/72 [==============================] - 153s 2s/step - loss: 0.8577 - accuracy: 0.7023 - val_loss: 0.8079 - val_accuracy: 0.7008 - lr: 0.0010\n",
            "Epoch 39/100\n",
            "72/72 [==============================] - ETA: 0s - loss: 0.8659 - accuracy: 0.6856\n",
            "Epoch 39: val_loss did not improve from 0.80793\n",
            "72/72 [==============================] - 157s 2s/step - loss: 0.8659 - accuracy: 0.6856 - val_loss: 0.8291 - val_accuracy: 0.7205 - lr: 0.0010\n",
            "Epoch 40/100\n",
            "72/72 [==============================] - ETA: 0s - loss: 0.8647 - accuracy: 0.6953\n",
            "Epoch 40: val_loss improved from 0.80793 to 0.77767, saving model to clf-resnet-weights.hdf5\n",
            "72/72 [==============================] - 153s 2s/step - loss: 0.8647 - accuracy: 0.6953 - val_loss: 0.7777 - val_accuracy: 0.7165 - lr: 0.0010\n",
            "Epoch 41/100\n",
            "72/72 [==============================] - ETA: 0s - loss: 0.8245 - accuracy: 0.7207\n",
            "Epoch 41: val_loss improved from 0.77767 to 0.72842, saving model to clf-resnet-weights.hdf5\n",
            "72/72 [==============================] - 159s 2s/step - loss: 0.8245 - accuracy: 0.7207 - val_loss: 0.7284 - val_accuracy: 0.7362 - lr: 0.0010\n",
            "Epoch 42/100\n",
            "72/72 [==============================] - ETA: 0s - loss: 0.7821 - accuracy: 0.7215\n",
            "Epoch 42: val_loss did not improve from 0.72842\n",
            "72/72 [==============================] - 156s 2s/step - loss: 0.7821 - accuracy: 0.7215 - val_loss: 0.7509 - val_accuracy: 0.7520 - lr: 0.0010\n",
            "Epoch 43/100\n",
            "72/72 [==============================] - ETA: 0s - loss: 0.7899 - accuracy: 0.7303\n",
            "Epoch 43: val_loss improved from 0.72842 to 0.68220, saving model to clf-resnet-weights.hdf5\n",
            "72/72 [==============================] - 164s 2s/step - loss: 0.7899 - accuracy: 0.7303 - val_loss: 0.6822 - val_accuracy: 0.7087 - lr: 0.0010\n",
            "Epoch 44/100\n",
            "72/72 [==============================] - ETA: 0s - loss: 0.7832 - accuracy: 0.7272\n",
            "Epoch 44: val_loss did not improve from 0.68220\n",
            "72/72 [==============================] - 157s 2s/step - loss: 0.7832 - accuracy: 0.7272 - val_loss: 0.7743 - val_accuracy: 0.7402 - lr: 0.0010\n",
            "Epoch 45/100\n",
            "72/72 [==============================] - ETA: 0s - loss: 0.7024 - accuracy: 0.7491\n",
            "Epoch 45: val_loss did not improve from 0.68220\n",
            "72/72 [==============================] - 162s 2s/step - loss: 0.7024 - accuracy: 0.7491 - val_loss: 0.6941 - val_accuracy: 0.8110 - lr: 0.0010\n",
            "Epoch 46/100\n",
            "72/72 [==============================] - ETA: 0s - loss: 0.7134 - accuracy: 0.7557\n",
            "Epoch 46: val_loss improved from 0.68220 to 0.60103, saving model to clf-resnet-weights.hdf5\n",
            "72/72 [==============================] - 165s 2s/step - loss: 0.7134 - accuracy: 0.7557 - val_loss: 0.6010 - val_accuracy: 0.8268 - lr: 0.0010\n",
            "Epoch 47/100\n",
            "72/72 [==============================] - ETA: 0s - loss: 0.6816 - accuracy: 0.7644\n",
            "Epoch 47: val_loss did not improve from 0.60103\n",
            "72/72 [==============================] - 160s 2s/step - loss: 0.6816 - accuracy: 0.7644 - val_loss: 0.6791 - val_accuracy: 0.7638 - lr: 0.0010\n",
            "Epoch 48/100\n",
            "72/72 [==============================] - ETA: 0s - loss: 0.6446 - accuracy: 0.7758\n",
            "Epoch 48: val_loss did not improve from 0.60103\n",
            "72/72 [==============================] - 165s 2s/step - loss: 0.6446 - accuracy: 0.7758 - val_loss: 0.6809 - val_accuracy: 0.7795 - lr: 0.0010\n",
            "Epoch 49/100\n",
            "72/72 [==============================] - ETA: 0s - loss: 0.6764 - accuracy: 0.7723\n",
            "Epoch 49: val_loss did not improve from 0.60103\n",
            "72/72 [==============================] - 170s 2s/step - loss: 0.6764 - accuracy: 0.7723 - val_loss: 0.6525 - val_accuracy: 0.7992 - lr: 0.0010\n",
            "Epoch 50/100\n",
            "72/72 [==============================] - ETA: 0s - loss: 0.6370 - accuracy: 0.7767\n",
            "Epoch 50: val_loss did not improve from 0.60103\n",
            "72/72 [==============================] - 171s 2s/step - loss: 0.6370 - accuracy: 0.7767 - val_loss: 0.6034 - val_accuracy: 0.8228 - lr: 0.0010\n",
            "Epoch 51/100\n",
            "72/72 [==============================] - ETA: 0s - loss: 0.6561 - accuracy: 0.7982\n",
            "Epoch 51: val_loss did not improve from 0.60103\n",
            "\n",
            "Epoch 51: ReduceLROnPlateau reducing learning rate to 0.00020000000949949026.\n",
            "72/72 [==============================] - 170s 2s/step - loss: 0.6561 - accuracy: 0.7982 - val_loss: 0.6481 - val_accuracy: 0.8031 - lr: 0.0010\n",
            "Epoch 52/100\n",
            "72/72 [==============================] - ETA: 0s - loss: 0.5470 - accuracy: 0.8091\n",
            "Epoch 52: val_loss improved from 0.60103 to 0.56409, saving model to clf-resnet-weights.hdf5\n",
            "72/72 [==============================] - 170s 2s/step - loss: 0.5470 - accuracy: 0.8091 - val_loss: 0.5641 - val_accuracy: 0.8268 - lr: 2.0000e-04\n",
            "Epoch 53/100\n",
            "72/72 [==============================] - ETA: 0s - loss: 0.4706 - accuracy: 0.8288\n",
            "Epoch 53: val_loss did not improve from 0.56409\n",
            "72/72 [==============================] - 169s 2s/step - loss: 0.4706 - accuracy: 0.8288 - val_loss: 0.5860 - val_accuracy: 0.8110 - lr: 2.0000e-04\n",
            "Epoch 54/100\n",
            "72/72 [==============================] - ETA: 0s - loss: 0.4837 - accuracy: 0.8363\n",
            "Epoch 54: val_loss improved from 0.56409 to 0.52219, saving model to clf-resnet-weights.hdf5\n",
            "72/72 [==============================] - 170s 2s/step - loss: 0.4837 - accuracy: 0.8363 - val_loss: 0.5222 - val_accuracy: 0.8386 - lr: 2.0000e-04\n",
            "Epoch 55/100\n",
            "72/72 [==============================] - ETA: 0s - loss: 0.4744 - accuracy: 0.8389\n",
            "Epoch 55: val_loss did not improve from 0.52219\n",
            "72/72 [==============================] - 170s 2s/step - loss: 0.4744 - accuracy: 0.8389 - val_loss: 0.5680 - val_accuracy: 0.8268 - lr: 2.0000e-04\n",
            "Epoch 56/100\n",
            "72/72 [==============================] - ETA: 0s - loss: 0.4393 - accuracy: 0.8411\n",
            "Epoch 56: val_loss improved from 0.52219 to 0.51612, saving model to clf-resnet-weights.hdf5\n",
            "72/72 [==============================] - 171s 2s/step - loss: 0.4393 - accuracy: 0.8411 - val_loss: 0.5161 - val_accuracy: 0.8386 - lr: 2.0000e-04\n",
            "Epoch 57/100\n",
            "72/72 [==============================] - ETA: 0s - loss: 0.4703 - accuracy: 0.8327\n",
            "Epoch 57: val_loss did not improve from 0.51612\n",
            "72/72 [==============================] - 171s 2s/step - loss: 0.4703 - accuracy: 0.8327 - val_loss: 0.5297 - val_accuracy: 0.8543 - lr: 2.0000e-04\n",
            "Epoch 58/100\n",
            "72/72 [==============================] - ETA: 0s - loss: 0.4680 - accuracy: 0.8433\n",
            "Epoch 58: val_loss did not improve from 0.51612\n",
            "72/72 [==============================] - 167s 2s/step - loss: 0.4680 - accuracy: 0.8433 - val_loss: 0.5533 - val_accuracy: 0.8346 - lr: 2.0000e-04\n",
            "Epoch 59/100\n",
            "72/72 [==============================] - ETA: 0s - loss: 0.4751 - accuracy: 0.8341\n",
            "Epoch 59: val_loss improved from 0.51612 to 0.47245, saving model to clf-resnet-weights.hdf5\n",
            "72/72 [==============================] - 168s 2s/step - loss: 0.4751 - accuracy: 0.8341 - val_loss: 0.4724 - val_accuracy: 0.8583 - lr: 2.0000e-04\n",
            "Epoch 60/100\n",
            "72/72 [==============================] - ETA: 0s - loss: 0.4276 - accuracy: 0.8459\n",
            "Epoch 60: val_loss did not improve from 0.47245\n",
            "72/72 [==============================] - 167s 2s/step - loss: 0.4276 - accuracy: 0.8459 - val_loss: 0.5122 - val_accuracy: 0.8425 - lr: 2.0000e-04\n",
            "Epoch 61/100\n",
            "72/72 [==============================] - ETA: 0s - loss: 0.4582 - accuracy: 0.8507\n",
            "Epoch 61: val_loss did not improve from 0.47245\n",
            "72/72 [==============================] - 169s 2s/step - loss: 0.4582 - accuracy: 0.8507 - val_loss: 0.5030 - val_accuracy: 0.8425 - lr: 2.0000e-04\n",
            "Epoch 62/100\n",
            "72/72 [==============================] - ETA: 0s - loss: 0.4592 - accuracy: 0.8498\n",
            "Epoch 62: val_loss did not improve from 0.47245\n",
            "72/72 [==============================] - 170s 2s/step - loss: 0.4592 - accuracy: 0.8498 - val_loss: 0.4813 - val_accuracy: 0.8622 - lr: 2.0000e-04\n",
            "Epoch 63/100\n",
            "72/72 [==============================] - ETA: 0s - loss: 0.4276 - accuracy: 0.8568\n",
            "Epoch 63: val_loss did not improve from 0.47245\n",
            "72/72 [==============================] - 168s 2s/step - loss: 0.4276 - accuracy: 0.8568 - val_loss: 0.4927 - val_accuracy: 0.8504 - lr: 2.0000e-04\n",
            "Epoch 64/100\n",
            "72/72 [==============================] - ETA: 0s - loss: 0.4238 - accuracy: 0.8489\n",
            "Epoch 64: val_loss improved from 0.47245 to 0.43653, saving model to clf-resnet-weights.hdf5\n",
            "72/72 [==============================] - 168s 2s/step - loss: 0.4238 - accuracy: 0.8489 - val_loss: 0.4365 - val_accuracy: 0.8622 - lr: 2.0000e-04\n",
            "Epoch 65/100\n",
            "72/72 [==============================] - ETA: 0s - loss: 0.4584 - accuracy: 0.8433\n",
            "Epoch 65: val_loss did not improve from 0.43653\n",
            "72/72 [==============================] - 167s 2s/step - loss: 0.4584 - accuracy: 0.8433 - val_loss: 0.4891 - val_accuracy: 0.8504 - lr: 2.0000e-04\n",
            "Epoch 66/100\n",
            "72/72 [==============================] - ETA: 0s - loss: 0.4244 - accuracy: 0.8525\n",
            "Epoch 66: val_loss did not improve from 0.43653\n",
            "72/72 [==============================] - 167s 2s/step - loss: 0.4244 - accuracy: 0.8525 - val_loss: 0.4872 - val_accuracy: 0.8543 - lr: 2.0000e-04\n",
            "Epoch 67/100\n",
            "72/72 [==============================] - ETA: 0s - loss: 0.4210 - accuracy: 0.8599\n",
            "Epoch 67: val_loss did not improve from 0.43653\n",
            "72/72 [==============================] - 168s 2s/step - loss: 0.4210 - accuracy: 0.8599 - val_loss: 0.5036 - val_accuracy: 0.8307 - lr: 2.0000e-04\n",
            "Epoch 68/100\n",
            "72/72 [==============================] - ETA: 0s - loss: 0.4405 - accuracy: 0.8555\n",
            "Epoch 68: val_loss did not improve from 0.43653\n",
            "72/72 [==============================] - 168s 2s/step - loss: 0.4405 - accuracy: 0.8555 - val_loss: 0.4942 - val_accuracy: 0.8465 - lr: 2.0000e-04\n",
            "Epoch 69/100\n",
            "72/72 [==============================] - ETA: 0s - loss: 0.4061 - accuracy: 0.8516\n",
            "Epoch 69: val_loss did not improve from 0.43653\n",
            "\n",
            "Epoch 69: ReduceLROnPlateau reducing learning rate to 4.0000001899898055e-05.\n",
            "72/72 [==============================] - 169s 2s/step - loss: 0.4061 - accuracy: 0.8516 - val_loss: 0.4913 - val_accuracy: 0.8465 - lr: 2.0000e-04\n",
            "Epoch 70/100\n",
            "72/72 [==============================] - ETA: 0s - loss: 0.3996 - accuracy: 0.8695\n",
            "Epoch 70: val_loss did not improve from 0.43653\n",
            "72/72 [==============================] - 171s 2s/step - loss: 0.3996 - accuracy: 0.8695 - val_loss: 0.4822 - val_accuracy: 0.8425 - lr: 4.0000e-05\n",
            "Epoch 71/100\n",
            "72/72 [==============================] - ETA: 0s - loss: 0.4311 - accuracy: 0.8468\n",
            "Epoch 71: val_loss did not improve from 0.43653\n",
            "72/72 [==============================] - 168s 2s/step - loss: 0.4311 - accuracy: 0.8468 - val_loss: 0.4614 - val_accuracy: 0.8543 - lr: 4.0000e-05\n",
            "Epoch 72/100\n",
            "72/72 [==============================] - ETA: 0s - loss: 0.3800 - accuracy: 0.8656\n",
            "Epoch 72: val_loss did not improve from 0.43653\n",
            "72/72 [==============================] - 168s 2s/step - loss: 0.3800 - accuracy: 0.8656 - val_loss: 0.4550 - val_accuracy: 0.8504 - lr: 4.0000e-05\n",
            "Epoch 73/100\n",
            "72/72 [==============================] - ETA: 0s - loss: 0.3707 - accuracy: 0.8651\n",
            "Epoch 73: val_loss did not improve from 0.43653\n",
            "72/72 [==============================] - 158s 2s/step - loss: 0.3707 - accuracy: 0.8651 - val_loss: 0.4759 - val_accuracy: 0.8425 - lr: 4.0000e-05\n",
            "Epoch 74/100\n",
            "72/72 [==============================] - ETA: 0s - loss: 0.3874 - accuracy: 0.8700\n",
            "Epoch 74: val_loss did not improve from 0.43653\n",
            "\n",
            "Epoch 74: ReduceLROnPlateau reducing learning rate to 8.000000525498762e-06.\n",
            "72/72 [==============================] - 152s 2s/step - loss: 0.3874 - accuracy: 0.8700 - val_loss: 0.4555 - val_accuracy: 0.8465 - lr: 4.0000e-05\n",
            "Epoch 75/100\n",
            "72/72 [==============================] - ETA: 0s - loss: 0.3861 - accuracy: 0.8752\n",
            "Epoch 75: val_loss did not improve from 0.43653\n",
            "72/72 [==============================] - 157s 2s/step - loss: 0.3861 - accuracy: 0.8752 - val_loss: 0.4557 - val_accuracy: 0.8465 - lr: 8.0000e-06\n",
            "Epoch 76/100\n",
            "72/72 [==============================] - ETA: 0s - loss: 0.3975 - accuracy: 0.8682\n",
            "Epoch 76: val_loss did not improve from 0.43653\n",
            "72/72 [==============================] - 152s 2s/step - loss: 0.3975 - accuracy: 0.8682 - val_loss: 0.4563 - val_accuracy: 0.8465 - lr: 8.0000e-06\n",
            "Epoch 77/100\n",
            "72/72 [==============================] - ETA: 0s - loss: 0.4143 - accuracy: 0.8564\n",
            "Epoch 77: val_loss did not improve from 0.43653\n",
            "72/72 [==============================] - 150s 2s/step - loss: 0.4143 - accuracy: 0.8564 - val_loss: 0.4581 - val_accuracy: 0.8465 - lr: 8.0000e-06\n",
            "Epoch 78/100\n",
            "72/72 [==============================] - ETA: 0s - loss: 0.3848 - accuracy: 0.8630\n",
            "Epoch 78: val_loss did not improve from 0.43653\n",
            "72/72 [==============================] - 157s 2s/step - loss: 0.3848 - accuracy: 0.8630 - val_loss: 0.4553 - val_accuracy: 0.8504 - lr: 8.0000e-06\n",
            "Epoch 79/100\n",
            "72/72 [==============================] - ETA: 0s - loss: 0.3921 - accuracy: 0.8599\n",
            "Epoch 79: val_loss did not improve from 0.43653\n",
            "\n",
            "Epoch 79: ReduceLROnPlateau reducing learning rate to 1.6000001778593287e-06.\n",
            "72/72 [==============================] - 160s 2s/step - loss: 0.3921 - accuracy: 0.8599 - val_loss: 0.4563 - val_accuracy: 0.8543 - lr: 8.0000e-06\n",
            "Epoch 79: early stopping\n"
          ]
        }
      ],
      "source": [
        "h = model.fit(x_train, y_train, batch_size = 32, validation_split= 0.1, epochs=100, callbacks=[checkpointer, earlystopping, reduce_lr])"
      ]
    },
    {
      "cell_type": "code",
      "execution_count": null,
      "metadata": {
        "colab": {
          "base_uri": "https://localhost:8080/",
          "height": 586
        },
        "id": "cPJdzg3xwmzt",
        "outputId": "ec0f6e03-785b-4e25-fbee-dbf69aa3e909"
      },
      "outputs": [
        {
          "output_type": "display_data",
          "data": {
            "text/plain": [
              "<Figure size 1400x700 with 3 Axes>"
            ],
            "image/png": "[encoded data removed]"
          },
          "metadata": {}
        }
      ],
      "source": [
        "\n",
        "acc=h.history['accuracy']\n",
        "val_acc=h.history['val_accuracy']\n",
        "\n",
        "epoch=range(len(acc))\n",
        "\n",
        "loss=h.history['loss']\n",
        "val_loss=h.history['val_loss']\n",
        "\n",
        "learning_rate = h.history['lr']\n",
        "\n",
        "f,ax=plt.subplots(1,3,figsize=(14,7))\n",
        "\n",
        "ax[0].plot(epoch,acc,'b',label='Training Accuracy')\n",
        "ax[0].plot(epoch,val_acc,'r',label='Validation Accuracy')\n",
        "ax[0].legend()\n",
        "\n",
        "ax[1].plot(epoch,loss,'b',label='Training Loss')\n",
        "ax[1].plot(epoch,val_loss,'r',label='Validation Loss')\n",
        "ax[1].legend()\n",
        "\n",
        "\n",
        "ax[2].plot(epoch,learning_rate,'b',label='learning rate')\n",
        "ax[2].legend()\n",
        "\n",
        "\n",
        "\n",
        "plt.show()"
      ]
    },
    {
      "cell_type": "code",
      "execution_count": null,
      "metadata": {
        "colab": {
          "base_uri": "https://localhost:8080/"
        },
        "id": "HKEKoZqWt-vA",
        "outputId": "6011e121-0a7a-4c44-82f6-95888783db75"
      },
      "outputs": [
        {
          "output_type": "stream",
          "name": "stdout",
          "text": [
            "9/9 [==============================] - 0s 9ms/step - loss: 0.5550 - accuracy: 0.8475\n"
          ]
        }
      ],
      "source": [
        "test_loss, test_acc = model.evaluate(x_test,y_test)"
      ]
    },
    {
      "cell_type": "code",
      "execution_count": null,
      "metadata": {
        "colab": {
          "base_uri": "https://localhost:8080/"
        },
        "id": "18MeMxWdv1f_",
        "outputId": "b1b527df-16ee-41c5-c52b-71dfd283ba51"
      },
      "outputs": [
        {
          "name": "stdout",
          "output_type": "stream",
          "text": [
            "9/9 [==============================] - 0s 4ms/step\n"
          ]
        }
      ],
      "source": [
        "prediction = model.predict(x_test)"
      ]
    },
    {
      "cell_type": "code",
      "execution_count": null,
      "metadata": {
        "colab": {
          "base_uri": "https://localhost:8080/"
        },
        "id": "TZVJAaOjNe__",
        "outputId": "0b009b5f-0d5c-43c6-c84b-f712ebb73361"
      },
      "outputs": [
        {
          "data": {
            "text/plain": [
              "282"
            ]
          },
          "execution_count": 30,
          "metadata": {},
          "output_type": "execute_result"
        }
      ],
      "source": [
        "len(prediction)"
      ]
    },
    {
      "cell_type": "code",
      "execution_count": null,
      "metadata": {
        "id": "WrEq6krbwEGt"
      },
      "outputs": [],
      "source": [
        "not_match = []\n",
        "not_match_ids = []\n",
        "for i in range(len(prediction)):\n",
        "  x = np.argmax(prediction[i])\n",
        "  if x != y_test[i]:\n",
        "    not_match.append(prediction[i])\n",
        "    not_match_ids.append(i)"
      ]
    },
    {
      "cell_type": "code",
      "execution_count": null,
      "metadata": {
        "colab": {
          "base_uri": "https://localhost:8080/"
        },
        "id": "cndizO-PwaEh",
        "outputId": "04321012-d6dd-475e-cb11-c344f175f83d"
      },
      "outputs": [
        {
          "name": "stdout",
          "output_type": "stream",
          "text": [
            "Ids :  41 pred : 19 actual : 26\n",
            "Ids :  48 pred : 43 actual : 42\n",
            "Ids :  64 pred : 44 actual : 28\n",
            "Ids :  81 pred : 18 actual : 19\n",
            "Ids :  82 pred : 31 actual : 39\n",
            "Ids :  87 pred : 29 actual : 35\n",
            "Ids :  101 pred : 52 actual : 44\n",
            "Ids :  122 pred : 40 actual : 39\n",
            "Ids :  136 pred : 31 actual : 39\n",
            "Ids :  137 pred : 13 actual : 21\n",
            "Ids :  193 pred : 30 actual : 23\n",
            "Ids :  201 pred : 29 actual : 35\n",
            "Ids :  242 pred : 38 actual : 47\n",
            "Ids :  243 pred : 34 actual : 36\n",
            "Ids :  258 pred : 46 actual : 54\n",
            "Ids :  268 pred : 36 actual : 22\n",
            "Ids :  279 pred : 31 actual : 38\n"
          ]
        }
      ],
      "source": [
        "for i in not_match_ids:\n",
        "  print(\"Ids : \",i, \"pred :\",np.argmax(prediction[i]), \"actual :\", y_test[i])"
      ]
    },
    {
      "cell_type": "code",
      "execution_count": null,
      "metadata": {
        "id": "iJFX1p9uG8lz"
      },
      "outputs": [],
      "source": [
        "import pandas as pd\n",
        "\n",
        "data = pd.read_excel('table4.xlsx')\n",
        "df = pd.DataFrame(data)\n"
      ]
    },
    {
      "cell_type": "code",
      "source": [
        "df"
      ],
      "metadata": {
        "colab": {
          "base_uri": "https://localhost:8080/",
          "height": 363
        },
        "id": "UlWt6jeDC8f5",
        "outputId": "119348bd-2ede-4728-aa80-fe06f54f6f5c"
      },
      "execution_count": null,
      "outputs": [
        {
          "output_type": "execute_result",
          "data": {
            "text/plain": [
              "   No. Conv layer  Training Accuracy  Validation Accuracy  Test Accuracy  \\\n",
              "0               1             0.9591               0.8933         0.8666   \n",
              "1               2             0.9468               0.9100         0.9025   \n",
              "2               3             0.9513               0.9317         0.9055   \n",
              "3               4             0.9498               0.9567         0.9130   \n",
              "4               5             0.9633               0.9167         0.9235   \n",
              "5               6             0.9685               0.9217         0.9250   \n",
              "6               7             0.9279               0.8683         0.8771   \n",
              "7               8             0.4182               0.4167         0.4228   \n",
              "8               9             0.4200               0.4167         0.4228   \n",
              "9              10             0.4223               0.4178         0.4228   \n",
              "\n",
              "   Training Loss  Validation Loss  Test Loss  \n",
              "0         0.1139           0.3551     0.4967  \n",
              "1         0.1355           0.2915     0.3440  \n",
              "2         0.1288           0.1969     0.2515  \n",
              "3         0.1263           0.1219     0.2651  \n",
              "4         0.0865           0.3149     0.2721  \n",
              "5         0.0712           0.2348     0.2346  \n",
              "6         0.1911           0.3487     0.3566  \n",
              "7         1.0171           0.9885     1.0150  \n",
              "8         1.0179           0.9888     1.0150  \n",
              "9         1.0186           0.9890     1.0180  "
            ],
            "text/html": [
              "\n",
              "  <div id=\"df-698af4e5-d7cc-44d0-96af-eaccbad8e606\" class=\"colab-df-container\">\n",
              "    <div>\n",
              "<style scoped>\n",
              "    .dataframe tbody tr th:only-of-type {\n",
              "        vertical-align: middle;\n",
              "    }\n",
              "\n",
              "    .dataframe tbody tr th {\n",
              "        vertical-align: top;\n",
              "    }\n",
              "\n",
              "    .dataframe thead th {\n",
              "        text-align: right;\n",
              "    }\n",
              "</style>\n",
              "<table border=\"1\" class=\"dataframe\">\n",
              "  <thead>\n",
              "    <tr style=\"text-align: right;\">\n",
              "      <th></th>\n",
              "      <th>No. Conv layer</th>\n",
              "      <th>Training Accuracy</th>\n",
              "      <th>Validation Accuracy</th>\n",
              "      <th>Test Accuracy</th>\n",
              "      <th>Training Loss</th>\n",
              "      <th>Validation Loss</th>\n",
              "      <th>Test Loss</th>\n",
              "    </tr>\n",
              "  </thead>\n",
              "  <tbody>\n",
              "    <tr>\n",
              "      <th>0</th>\n",
              "      <td>1</td>\n",
              "      <td>0.9591</td>\n",
              "      <td>0.8933</td>\n",
              "      <td>0.8666</td>\n",
              "      <td>0.1139</td>\n",
              "      <td>0.3551</td>\n",
              "      <td>0.4967</td>\n",
              "    </tr>\n",
              "    <tr>\n",
              "      <th>1</th>\n",
              "      <td>2</td>\n",
              "      <td>0.9468</td>\n",
              "      <td>0.9100</td>\n",
              "      <td>0.9025</td>\n",
              "      <td>0.1355</td>\n",
              "      <td>0.2915</td>\n",
              "      <td>0.3440</td>\n",
              "    </tr>\n",
              "    <tr>\n",
              "      <th>2</th>\n",
              "      <td>3</td>\n",
              "      <td>0.9513</td>\n",
              "      <td>0.9317</td>\n",
              "      <td>0.9055</td>\n",
              "      <td>0.1288</td>\n",
              "      <td>0.1969</td>\n",
              "      <td>0.2515</td>\n",
              "    </tr>\n",
              "    <tr>\n",
              "      <th>3</th>\n",
              "      <td>4</td>\n",
              "      <td>0.9498</td>\n",
              "      <td>0.9567</td>\n",
              "      <td>0.9130</td>\n",
              "      <td>0.1263</td>\n",
              "      <td>0.1219</td>\n",
              "      <td>0.2651</td>\n",
              "    </tr>\n",
              "    <tr>\n",
              "      <th>4</th>\n",
              "      <td>5</td>\n",
              "      <td>0.9633</td>\n",
              "      <td>0.9167</td>\n",
              "      <td>0.9235</td>\n",
              "      <td>0.0865</td>\n",
              "      <td>0.3149</td>\n",
              "      <td>0.2721</td>\n",
              "    </tr>\n",
              "    <tr>\n",
              "      <th>5</th>\n",
              "      <td>6</td>\n",
              "      <td>0.9685</td>\n",
              "      <td>0.9217</td>\n",
              "      <td>0.9250</td>\n",
              "      <td>0.0712</td>\n",
              "      <td>0.2348</td>\n",
              "      <td>0.2346</td>\n",
              "    </tr>\n",
              "    <tr>\n",
              "      <th>6</th>\n",
              "      <td>7</td>\n",
              "      <td>0.9279</td>\n",
              "      <td>0.8683</td>\n",
              "      <td>0.8771</td>\n",
              "      <td>0.1911</td>\n",
              "      <td>0.3487</td>\n",
              "      <td>0.3566</td>\n",
              "    </tr>\n",
              "    <tr>\n",
              "      <th>7</th>\n",
              "      <td>8</td>\n",
              "      <td>0.4182</td>\n",
              "      <td>0.4167</td>\n",
              "      <td>0.4228</td>\n",
              "      <td>1.0171</td>\n",
              "      <td>0.9885</td>\n",
              "      <td>1.0150</td>\n",
              "    </tr>\n",
              "    <tr>\n",
              "      <th>8</th>\n",
              "      <td>9</td>\n",
              "      <td>0.4200</td>\n",
              "      <td>0.4167</td>\n",
              "      <td>0.4228</td>\n",
              "      <td>1.0179</td>\n",
              "      <td>0.9888</td>\n",
              "      <td>1.0150</td>\n",
              "    </tr>\n",
              "    <tr>\n",
              "      <th>9</th>\n",
              "      <td>10</td>\n",
              "      <td>0.4223</td>\n",
              "      <td>0.4178</td>\n",
              "      <td>0.4228</td>\n",
              "      <td>1.0186</td>\n",
              "      <td>0.9890</td>\n",
              "      <td>1.0180</td>\n",
              "    </tr>\n",
              "  </tbody>\n",
              "</table>\n",
              "</div>\n",
              "    <div class=\"colab-df-buttons\">\n",
              "\n",
              "  <div class=\"colab-df-container\">\n",
              "    <button class=\"colab-df-convert\" onclick=\"convertToInteractive('df-698af4e5-d7cc-44d0-96af-eaccbad8e606')\"\n",
              "            title=\"Convert this dataframe to an interactive table.\"\n",
              "            style=\"display:none;\">\n",
              "\n",
              "  <svg xmlns=\"http://www.w3.org/2000/svg\" height=\"24px\" viewBox=\"0 -960 960 960\">\n",
              "    <path d=\"M120-120v-720h720v720H120Zm60-500h600v-160H180v160Zm220 220h160v-160H400v160Zm0 220h160v-160H400v160ZM180-400h160v-160H180v160Zm440 0h160v-160H620v160ZM180-180h160v-160H180v160Zm440 0h160v-160H620v160Z\"/>\n",
              "  </svg>\n",
              "    </button>\n",
              "\n",
              "  <style>\n",
              "    .colab-df-container {\n",
              "      display:flex;\n",
              "      gap: 12px;\n",
              "    }\n",
              "\n",
              "    .colab-df-convert {\n",
              "      background-color: #E8F0FE;\n",
              "      border: none;\n",
              "      border-radius: 50%;\n",
              "      cursor: pointer;\n",
              "      display: none;\n",
              "      fill: #1967D2;\n",
              "      height: 32px;\n",
              "      padding: 0 0 0 0;\n",
              "      width: 32px;\n",
              "    }\n",
              "\n",
              "    .colab-df-convert:hover {\n",
              "      background-color: #E2EBFA;\n",
              "      box-shadow: 0px 1px 2px rgba(60, 64, 67, 0.3), 0px 1px 3px 1px rgba(60, 64, 67, 0.15);\n",
              "      fill: #174EA6;\n",
              "    }\n",
              "\n",
              "    .colab-df-buttons div {\n",
              "      margin-bottom: 4px;\n",
              "    }\n",
              "\n",
              "    [theme=dark] .colab-df-convert {\n",
              "      background-color: #3B4455;\n",
              "      fill: #D2E3FC;\n",
              "    }\n",
              "\n",
              "    [theme=dark] .colab-df-convert:hover {\n",
              "      background-color: #434B5C;\n",
              "      box-shadow: 0px 1px 3px 1px rgba(0, 0, 0, 0.15);\n",
              "      filter: drop-shadow(0px 1px 2px rgba(0, 0, 0, 0.3));\n",
              "      fill: #FFFFFF;\n",
              "    }\n",
              "  </style>\n",
              "\n",
              "    <script>\n",
              "      const buttonEl =\n",
              "        document.querySelector('#df-698af4e5-d7cc-44d0-96af-eaccbad8e606 button.colab-df-convert');\n",
              "      buttonEl.style.display =\n",
              "        google.colab.kernel.accessAllowed ? 'block' : 'none';\n",
              "\n",
              "      async function convertToInteractive(key) {\n",
              "        const element = document.querySelector('#df-698af4e5-d7cc-44d0-96af-eaccbad8e606');\n",
              "        const dataTable =\n",
              "          await google.colab.kernel.invokeFunction('convertToInteractive',\n",
              "                                                    [key], {});\n",
              "        if (!dataTable) return;\n",
              "\n",
              "        const docLinkHtml = 'Like what you see? Visit the ' +\n",
              "          '<a target=\"_blank\" href=https://colab.research.google.com/notebooks/data_table.ipynb>data table notebook</a>'\n",
              "          + ' to learn more about interactive tables.';\n",
              "        element.innerHTML = '';\n",
              "        dataTable['output_type'] = 'display_data';\n",
              "        await google.colab.output.renderOutput(dataTable, element);\n",
              "        const docLink = document.createElement('div');\n",
              "        docLink.innerHTML = docLinkHtml;\n",
              "        element.appendChild(docLink);\n",
              "      }\n",
              "    </script>\n",
              "  </div>\n",
              "\n",
              "\n",
              "<div id=\"df-2be2259e-909a-446d-b680-ff1dfeca193d\">\n",
              "  <button class=\"colab-df-quickchart\" onclick=\"quickchart('df-2be2259e-909a-446d-b680-ff1dfeca193d')\"\n",
              "            title=\"Suggest charts.\"\n",
              "            style=\"display:none;\">\n",
              "\n",
              "<svg xmlns=\"http://www.w3.org/2000/svg\" height=\"24px\"viewBox=\"0 0 24 24\"\n",
              "     width=\"24px\">\n",
              "    <g>\n",
              "        <path d=\"M19 3H5c-1.1 0-2 .9-2 2v14c0 1.1.9 2 2 2h14c1.1 0 2-.9 2-2V5c0-1.1-.9-2-2-2zM9 17H7v-7h2v7zm4 0h-2V7h2v10zm4 0h-2v-4h2v4z\"/>\n",
              "    </g>\n",
              "</svg>\n",
              "  </button>\n",
              "\n",
              "<style>\n",
              "  .colab-df-quickchart {\n",
              "      --bg-color: #E8F0FE;\n",
              "      --fill-color: #1967D2;\n",
              "      --hover-bg-color: #E2EBFA;\n",
              "      --hover-fill-color: #174EA6;\n",
              "      --disabled-fill-color: #AAA;\n",
              "      --disabled-bg-color: #DDD;\n",
              "  }\n",
              "\n",
              "  [theme=dark] .colab-df-quickchart {\n",
              "      --bg-color: #3B4455;\n",
              "      --fill-color: #D2E3FC;\n",
              "      --hover-bg-color: #434B5C;\n",
              "      --hover-fill-color: #FFFFFF;\n",
              "      --disabled-bg-color: #3B4455;\n",
              "      --disabled-fill-color: #666;\n",
              "  }\n",
              "\n",
              "  .colab-df-quickchart {\n",
              "    background-color: var(--bg-color);\n",
              "    border: none;\n",
              "    border-radius: 50%;\n",
              "    cursor: pointer;\n",
              "    display: none;\n",
              "    fill: var(--fill-color);\n",
              "    height: 32px;\n",
              "    padding: 0;\n",
              "    width: 32px;\n",
              "  }\n",
              "\n",
              "  .colab-df-quickchart:hover {\n",
              "    background-color: var(--hover-bg-color);\n",
              "    box-shadow: 0 1px 2px rgba(60, 64, 67, 0.3), 0 1px 3px 1px rgba(60, 64, 67, 0.15);\n",
              "    fill: var(--button-hover-fill-color);\n",
              "  }\n",
              "\n",
              "  .colab-df-quickchart-complete:disabled,\n",
              "  .colab-df-quickchart-complete:disabled:hover {\n",
              "    background-color: var(--disabled-bg-color);\n",
              "    fill: var(--disabled-fill-color);\n",
              "    box-shadow: none;\n",
              "  }\n",
              "\n",
              "  .colab-df-spinner {\n",
              "    border: 2px solid var(--fill-color);\n",
              "    border-color: transparent;\n",
              "    border-bottom-color: var(--fill-color);\n",
              "    animation:\n",
              "      spin 1s steps(1) infinite;\n",
              "  }\n",
              "\n",
              "  @keyframes spin {\n",
              "    0% {\n",
              "      border-color: transparent;\n",
              "      border-bottom-color: var(--fill-color);\n",
              "      border-left-color: var(--fill-color);\n",
              "    }\n",
              "    20% {\n",
              "      border-color: transparent;\n",
              "      border-left-color: var(--fill-color);\n",
              "      border-top-color: var(--fill-color);\n",
              "    }\n",
              "    30% {\n",
              "      border-color: transparent;\n",
              "      border-left-color: var(--fill-color);\n",
              "      border-top-color: var(--fill-color);\n",
              "      border-right-color: var(--fill-color);\n",
              "    }\n",
              "    40% {\n",
              "      border-color: transparent;\n",
              "      border-right-color: var(--fill-color);\n",
              "      border-top-color: var(--fill-color);\n",
              "    }\n",
              "    60% {\n",
              "      border-color: transparent;\n",
              "      border-right-color: var(--fill-color);\n",
              "    }\n",
              "    80% {\n",
              "      border-color: transparent;\n",
              "      border-right-color: var(--fill-color);\n",
              "      border-bottom-color: var(--fill-color);\n",
              "    }\n",
              "    90% {\n",
              "      border-color: transparent;\n",
              "      border-bottom-color: var(--fill-color);\n",
              "    }\n",
              "  }\n",
              "</style>\n",
              "\n",
              "  <script>\n",
              "    async function quickchart(key) {\n",
              "      const quickchartButtonEl =\n",
              "        document.querySelector('#' + key + ' button');\n",
              "      quickchartButtonEl.disabled = true;  // To prevent multiple clicks.\n",
              "      quickchartButtonEl.classList.add('colab-df-spinner');\n",
              "      try {\n",
              "        const charts = await google.colab.kernel.invokeFunction(\n",
              "            'suggestCharts', [key], {});\n",
              "      } catch (error) {\n",
              "        console.error('Error during call to suggestCharts:', error);\n",
              "      }\n",
              "      quickchartButtonEl.classList.remove('colab-df-spinner');\n",
              "      quickchartButtonEl.classList.add('colab-df-quickchart-complete');\n",
              "    }\n",
              "    (() => {\n",
              "      let quickchartButtonEl =\n",
              "        document.querySelector('#df-2be2259e-909a-446d-b680-ff1dfeca193d button');\n",
              "      quickchartButtonEl.style.display =\n",
              "        google.colab.kernel.accessAllowed ? 'block' : 'none';\n",
              "    })();\n",
              "  </script>\n",
              "</div>\n",
              "\n",
              "  <div id=\"id_70b2199d-2965-4e86-a6a0-95886a1b7068\">\n",
              "    <style>\n",
              "      .colab-df-generate {\n",
              "        background-color: #E8F0FE;\n",
              "        border: none;\n",
              "        border-radius: 50%;\n",
              "        cursor: pointer;\n",
              "        display: none;\n",
              "        fill: #1967D2;\n",
              "        height: 32px;\n",
              "        padding: 0 0 0 0;\n",
              "        width: 32px;\n",
              "      }\n",
              "\n",
              "      .colab-df-generate:hover {\n",
              "        background-color: #E2EBFA;\n",
              "        box-shadow: 0px 1px 2px rgba(60, 64, 67, 0.3), 0px 1px 3px 1px rgba(60, 64, 67, 0.15);\n",
              "        fill: #174EA6;\n",
              "      }\n",
              "\n",
              "      [theme=dark] .colab-df-generate {\n",
              "        background-color: #3B4455;\n",
              "        fill: #D2E3FC;\n",
              "      }\n",
              "\n",
              "      [theme=dark] .colab-df-generate:hover {\n",
              "        background-color: #434B5C;\n",
              "        box-shadow: 0px 1px 3px 1px rgba(0, 0, 0, 0.15);\n",
              "        filter: drop-shadow(0px 1px 2px rgba(0, 0, 0, 0.3));\n",
              "        fill: #FFFFFF;\n",
              "      }\n",
              "    </style>\n",
              "    <button class=\"colab-df-generate\" onclick=\"generateWithVariable('df')\"\n",
              "            title=\"Generate code using this dataframe.\"\n",
              "            style=\"display:none;\">\n",
              "\n",
              "  <svg xmlns=\"http://www.w3.org/2000/svg\" height=\"24px\"viewBox=\"0 0 24 24\"\n",
              "       width=\"24px\">\n",
              "    <path d=\"M7,19H8.4L18.45,9,17,7.55,7,17.6ZM5,21V16.75L18.45,3.32a2,2,0,0,1,2.83,0l1.4,1.43a1.91,1.91,0,0,1,.58,1.4,1.91,1.91,0,0,1-.58,1.4L9.25,21ZM18.45,9,17,7.55Zm-12,3A5.31,5.31,0,0,0,4.9,8.1,5.31,5.31,0,0,0,1,6.5,5.31,5.31,0,0,0,4.9,4.9,5.31,5.31,0,0,0,6.5,1,5.31,5.31,0,0,0,8.1,4.9,5.31,5.31,0,0,0,12,6.5,5.46,5.46,0,0,0,6.5,12Z\"/>\n",
              "  </svg>\n",
              "    </button>\n",
              "    <script>\n",
              "      (() => {\n",
              "      const buttonEl =\n",
              "        document.querySelector('#id_70b2199d-2965-4e86-a6a0-95886a1b7068 button.colab-df-generate');\n",
              "      buttonEl.style.display =\n",
              "        google.colab.kernel.accessAllowed ? 'block' : 'none';\n",
              "\n",
              "      buttonEl.onclick = () => {\n",
              "        google.colab.notebook.generateWithVariable('df');\n",
              "      }\n",
              "      })();\n",
              "    </script>\n",
              "  </div>\n",
              "\n",
              "    </div>\n",
              "  </div>\n"
            ]
          },
          "metadata": {},
          "execution_count": 7
        }
      ]
    },
    {
      "cell_type": "code",
      "source": [
        "acc= df['Training Accuracy']\n",
        "val_acc=df['Validation Accuracy']\n",
        "test_acc = df['Test Accuracy']\n",
        "\n",
        "Noconvlayer=range(1,len(df['No. Conv layer'])+1)\n",
        "\n",
        "loss= df['Training Loss']\n",
        "val_loss=df['Validation Loss']\n",
        "test_loss = df['Test Loss']\n",
        "\n",
        "f, ax = plt.subplots(1, 2, figsize=(14, 7))\n",
        "\n",
        "# First subplot for accuracy\n",
        "ax[0].plot(Noconvlayer, acc, 'b', label='Training Accuracy')\n",
        "ax[0].plot(Noconvlayer, val_acc, 'r', label='Validation Accuracy')\n",
        "ax[0].plot(Noconvlayer, test_acc, 'g', label='Test Accuracy')\n",
        "ax[0].set_title('Accuracy')\n",
        "ax[0].legend()\n",
        "\n",
        "# Second subplot for loss\n",
        "ax[1].plot(Noconvlayer, loss, 'b', label='Training Loss')\n",
        "ax[1].plot(Noconvlayer, val_loss, 'r', label='Validation Loss')\n",
        "ax[1].plot(Noconvlayer, test_loss, 'g', label='Test Loss')\n",
        "ax[1].set_title('Loss')\n",
        "ax[1].legend()\n",
        "\n",
        "plt.show()"
      ],
      "metadata": {
        "colab": {
          "base_uri": "https://localhost:8080/",
          "height": 610
        },
        "id": "crSgWW2z_iju",
        "outputId": "fe9ca5e9-b5cf-445d-ae2e-3beec78ed6ec"
      },
      "execution_count": null,
      "outputs": [
        {
          "output_type": "display_data",
          "data": {
            "text/plain": [
              "<Figure size 1400x700 with 2 Axes>"
            ],
            "image/png": "[encoded data removed]"
          },
          "metadata": {}
        }
      ]
    },
    {
      "cell_type": "code",
      "source": [],
      "metadata": {
        "id": "NFK5CZ0YBl8y"
      },
      "execution_count": null,
      "outputs": []
    }
  ],
  "metadata": {
    "accelerator": "GPU",
    "colab": {
      "provenance": [],
      "gpuType": "T4",
      "authorship_tag": "ABX9TyMGej1/ofLLQJ9f8EZUQnMg",
      "include_colab_link": true
    },
    "kernelspec": {
      "display_name": "Python 3",
      "name": "python3"
    },
    "language_info": {
      "name": "python"
    }
  },
  "nbformat": 4,
  "nbformat_minor": 0
}